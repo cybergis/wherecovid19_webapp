{
 "cells": [
  {
   "cell_type": "code",
   "execution_count": 1,
   "metadata": {
    "pycharm": {
     "is_executing": false,
     "name": "#%%\n"
    }
   },
   "outputs": [],
   "source": [
    "import pandas as pd\n",
    "import numpy as np\n",
    "from datetime import datetime\n",
    "import geopandas as gpd\n",
    "import mapclassify as mc"
   ]
  },
  {
   "cell_type": "markdown",
   "metadata": {
    "pycharm": {
     "name": "#%% md\n"
    }
   },
   "source": [
    "Step0:  \n",
    "Read Data and get basic county groups"
   ]
  },
  {
   "cell_type": "markdown",
   "source": [
    "0.0 Report Data"
   ],
   "metadata": {
    "collapsed": false,
    "pycharm": {
     "name": "#%% md\n"
    }
   }
  },
  {
   "cell_type": "code",
   "execution_count": 2,
   "metadata": {
    "pycharm": {
     "is_executing": false,
     "name": "#%%\n"
    }
   },
   "outputs": [
    {
     "data": {
      "text/plain": "             date       county           state   fips  cases  deaths\n67270  2020-04-17      Unknown        Virginia  00000      0      94\n74526  2020-04-20      Unknown        Nebraska  00000     10       0\n47825  2020-04-10      Unknown     Puerto Rico  00000    725      39\n6322   2020-03-21      Unknown            Guam  00000     15       0\n47830  2020-04-10      Unknown    Rhode Island  00000    712      29\n74440  2020-04-20      Unknown        Missouri  00000      1       0\n6319   2020-03-21      Unknown         Georgia  00000     27       0\n74394  2020-04-20  Kansas City        Missouri  00000    420      13\n47994  2020-04-10      Unknown       Tennessee  00000     22       0\n74260  2020-04-20      Unknown       Minnesota  00000      4       0\n74186  2020-04-20      Unknown        Michigan  00000    644      23\n48198  2020-04-10      Unknown            Utah  00000      0       7\n48214  2020-04-10      Unknown         Vermont  00000     26       1\n74109  2020-04-20      Unknown   Massachusetts  00000    855       9\n48218  2020-04-10      Unknown  Virgin Islands  00000     46       1\n74540  2020-04-20      Unknown          Nevada  00000     34       4\n74092  2020-04-20      Unknown        Maryland  00000      0      77\n74045  2020-04-20      Unknown       Louisiana  00000     59       1\n48332  2020-04-10      Unknown        Virginia  00000      0      52\n73982  2020-04-20      Unknown        Kentucky  00000     35       0\n48376  2020-04-10      Unknown      Washington  00000    627       0\n92947  2020-04-27      Unknown         Florida  00000      1       0\n6142   2020-03-21      Unknown        Arkansas  00000     21       0\n88242  2020-04-25      Unknown       Minnesota  00000      5       0\n48597  2020-04-11      Unknown         Arizona  00000      0       5\n5986   2020-03-20      Unknown  Virgin Islands  00000      6       0\n48665  2020-04-11      Unknown        Arkansas  00000     19       0\n88377  2020-04-25  Kansas City        Missouri  00000    486      15\n5927   2020-03-20      Unknown       Tennessee  00000      2       0\n88424  2020-04-25      Unknown        Missouri  00000      2       0\n...           ...          ...             ...    ...    ...     ...\n67453  2020-04-17     Washakie         Wyoming  56043      4       0\n81339  2020-04-22     Washakie         Wyoming  56043      4       0\n64703  2020-04-16     Washakie         Wyoming  56043      4       0\n72985  2020-04-19     Washakie         Wyoming  56043      4       0\n84142  2020-04-23     Washakie         Wyoming  56043      4       0\n61968  2020-04-15     Washakie         Wyoming  56043      4       0\n86951  2020-04-24     Washakie         Wyoming  56043      4       0\n70215  2020-04-18     Washakie         Wyoming  56043      4       0\n17730  2020-03-28     Washakie         Wyoming  56043      1       0\n53845  2020-04-12     Washakie         Wyoming  56043      4       0\n56538  2020-04-13     Washakie         Wyoming  56043      4       0\n19713  2020-03-29     Washakie         Wyoming  56043      1       0\n21798  2020-03-30     Washakie         Wyoming  56043      1       0\n23965  2020-03-31     Washakie         Wyoming  56043      1       0\n26196  2020-04-01     Washakie         Wyoming  56043      1       0\n28486  2020-04-02     Washakie         Wyoming  56043      2       0\n30842  2020-04-03     Washakie         Wyoming  56043      2       0\n33247  2020-04-04     Washakie         Wyoming  56043      2       0\n35690  2020-04-05     Washakie         Wyoming  56043      4       0\n38179  2020-04-06     Washakie         Wyoming  56043      4       0\n40718  2020-04-07     Washakie         Wyoming  56043      4       0\n43284  2020-04-08     Washakie         Wyoming  56043      4       0\n45878  2020-04-09     Washakie         Wyoming  56043      4       0\n89770  2020-04-25     Washakie         Wyoming  56043      4       0\n48506  2020-04-10     Washakie         Wyoming  56043      4       0\n51166  2020-04-11     Washakie         Wyoming  56043      4       0\n15835  2020-03-27     Washakie         Wyoming  56043      1       0\n92589  2020-04-26     Washakie         Wyoming  56043      4       0\n59246  2020-04-14     Washakie         Wyoming  56043      4       0\n95419  2020-04-27     Washakie         Wyoming  56043      4       0\n\n[95420 rows x 6 columns]",
      "text/html": "<div>\n<style scoped>\n    .dataframe tbody tr th:only-of-type {\n        vertical-align: middle;\n    }\n\n    .dataframe tbody tr th {\n        vertical-align: top;\n    }\n\n    .dataframe thead th {\n        text-align: right;\n    }\n</style>\n<table border=\"1\" class=\"dataframe\">\n  <thead>\n    <tr style=\"text-align: right;\">\n      <th></th>\n      <th>date</th>\n      <th>county</th>\n      <th>state</th>\n      <th>fips</th>\n      <th>cases</th>\n      <th>deaths</th>\n    </tr>\n  </thead>\n  <tbody>\n    <tr>\n      <th>67270</th>\n      <td>2020-04-17</td>\n      <td>Unknown</td>\n      <td>Virginia</td>\n      <td>00000</td>\n      <td>0</td>\n      <td>94</td>\n    </tr>\n    <tr>\n      <th>74526</th>\n      <td>2020-04-20</td>\n      <td>Unknown</td>\n      <td>Nebraska</td>\n      <td>00000</td>\n      <td>10</td>\n      <td>0</td>\n    </tr>\n    <tr>\n      <th>47825</th>\n      <td>2020-04-10</td>\n      <td>Unknown</td>\n      <td>Puerto Rico</td>\n      <td>00000</td>\n      <td>725</td>\n      <td>39</td>\n    </tr>\n    <tr>\n      <th>6322</th>\n      <td>2020-03-21</td>\n      <td>Unknown</td>\n      <td>Guam</td>\n      <td>00000</td>\n      <td>15</td>\n      <td>0</td>\n    </tr>\n    <tr>\n      <th>47830</th>\n      <td>2020-04-10</td>\n      <td>Unknown</td>\n      <td>Rhode Island</td>\n      <td>00000</td>\n      <td>712</td>\n      <td>29</td>\n    </tr>\n    <tr>\n      <th>74440</th>\n      <td>2020-04-20</td>\n      <td>Unknown</td>\n      <td>Missouri</td>\n      <td>00000</td>\n      <td>1</td>\n      <td>0</td>\n    </tr>\n    <tr>\n      <th>6319</th>\n      <td>2020-03-21</td>\n      <td>Unknown</td>\n      <td>Georgia</td>\n      <td>00000</td>\n      <td>27</td>\n      <td>0</td>\n    </tr>\n    <tr>\n      <th>74394</th>\n      <td>2020-04-20</td>\n      <td>Kansas City</td>\n      <td>Missouri</td>\n      <td>00000</td>\n      <td>420</td>\n      <td>13</td>\n    </tr>\n    <tr>\n      <th>47994</th>\n      <td>2020-04-10</td>\n      <td>Unknown</td>\n      <td>Tennessee</td>\n      <td>00000</td>\n      <td>22</td>\n      <td>0</td>\n    </tr>\n    <tr>\n      <th>74260</th>\n      <td>2020-04-20</td>\n      <td>Unknown</td>\n      <td>Minnesota</td>\n      <td>00000</td>\n      <td>4</td>\n      <td>0</td>\n    </tr>\n    <tr>\n      <th>74186</th>\n      <td>2020-04-20</td>\n      <td>Unknown</td>\n      <td>Michigan</td>\n      <td>00000</td>\n      <td>644</td>\n      <td>23</td>\n    </tr>\n    <tr>\n      <th>48198</th>\n      <td>2020-04-10</td>\n      <td>Unknown</td>\n      <td>Utah</td>\n      <td>00000</td>\n      <td>0</td>\n      <td>7</td>\n    </tr>\n    <tr>\n      <th>48214</th>\n      <td>2020-04-10</td>\n      <td>Unknown</td>\n      <td>Vermont</td>\n      <td>00000</td>\n      <td>26</td>\n      <td>1</td>\n    </tr>\n    <tr>\n      <th>74109</th>\n      <td>2020-04-20</td>\n      <td>Unknown</td>\n      <td>Massachusetts</td>\n      <td>00000</td>\n      <td>855</td>\n      <td>9</td>\n    </tr>\n    <tr>\n      <th>48218</th>\n      <td>2020-04-10</td>\n      <td>Unknown</td>\n      <td>Virgin Islands</td>\n      <td>00000</td>\n      <td>46</td>\n      <td>1</td>\n    </tr>\n    <tr>\n      <th>74540</th>\n      <td>2020-04-20</td>\n      <td>Unknown</td>\n      <td>Nevada</td>\n      <td>00000</td>\n      <td>34</td>\n      <td>4</td>\n    </tr>\n    <tr>\n      <th>74092</th>\n      <td>2020-04-20</td>\n      <td>Unknown</td>\n      <td>Maryland</td>\n      <td>00000</td>\n      <td>0</td>\n      <td>77</td>\n    </tr>\n    <tr>\n      <th>74045</th>\n      <td>2020-04-20</td>\n      <td>Unknown</td>\n      <td>Louisiana</td>\n      <td>00000</td>\n      <td>59</td>\n      <td>1</td>\n    </tr>\n    <tr>\n      <th>48332</th>\n      <td>2020-04-10</td>\n      <td>Unknown</td>\n      <td>Virginia</td>\n      <td>00000</td>\n      <td>0</td>\n      <td>52</td>\n    </tr>\n    <tr>\n      <th>73982</th>\n      <td>2020-04-20</td>\n      <td>Unknown</td>\n      <td>Kentucky</td>\n      <td>00000</td>\n      <td>35</td>\n      <td>0</td>\n    </tr>\n    <tr>\n      <th>48376</th>\n      <td>2020-04-10</td>\n      <td>Unknown</td>\n      <td>Washington</td>\n      <td>00000</td>\n      <td>627</td>\n      <td>0</td>\n    </tr>\n    <tr>\n      <th>92947</th>\n      <td>2020-04-27</td>\n      <td>Unknown</td>\n      <td>Florida</td>\n      <td>00000</td>\n      <td>1</td>\n      <td>0</td>\n    </tr>\n    <tr>\n      <th>6142</th>\n      <td>2020-03-21</td>\n      <td>Unknown</td>\n      <td>Arkansas</td>\n      <td>00000</td>\n      <td>21</td>\n      <td>0</td>\n    </tr>\n    <tr>\n      <th>88242</th>\n      <td>2020-04-25</td>\n      <td>Unknown</td>\n      <td>Minnesota</td>\n      <td>00000</td>\n      <td>5</td>\n      <td>0</td>\n    </tr>\n    <tr>\n      <th>48597</th>\n      <td>2020-04-11</td>\n      <td>Unknown</td>\n      <td>Arizona</td>\n      <td>00000</td>\n      <td>0</td>\n      <td>5</td>\n    </tr>\n    <tr>\n      <th>5986</th>\n      <td>2020-03-20</td>\n      <td>Unknown</td>\n      <td>Virgin Islands</td>\n      <td>00000</td>\n      <td>6</td>\n      <td>0</td>\n    </tr>\n    <tr>\n      <th>48665</th>\n      <td>2020-04-11</td>\n      <td>Unknown</td>\n      <td>Arkansas</td>\n      <td>00000</td>\n      <td>19</td>\n      <td>0</td>\n    </tr>\n    <tr>\n      <th>88377</th>\n      <td>2020-04-25</td>\n      <td>Kansas City</td>\n      <td>Missouri</td>\n      <td>00000</td>\n      <td>486</td>\n      <td>15</td>\n    </tr>\n    <tr>\n      <th>5927</th>\n      <td>2020-03-20</td>\n      <td>Unknown</td>\n      <td>Tennessee</td>\n      <td>00000</td>\n      <td>2</td>\n      <td>0</td>\n    </tr>\n    <tr>\n      <th>88424</th>\n      <td>2020-04-25</td>\n      <td>Unknown</td>\n      <td>Missouri</td>\n      <td>00000</td>\n      <td>2</td>\n      <td>0</td>\n    </tr>\n    <tr>\n      <th>...</th>\n      <td>...</td>\n      <td>...</td>\n      <td>...</td>\n      <td>...</td>\n      <td>...</td>\n      <td>...</td>\n    </tr>\n    <tr>\n      <th>67453</th>\n      <td>2020-04-17</td>\n      <td>Washakie</td>\n      <td>Wyoming</td>\n      <td>56043</td>\n      <td>4</td>\n      <td>0</td>\n    </tr>\n    <tr>\n      <th>81339</th>\n      <td>2020-04-22</td>\n      <td>Washakie</td>\n      <td>Wyoming</td>\n      <td>56043</td>\n      <td>4</td>\n      <td>0</td>\n    </tr>\n    <tr>\n      <th>64703</th>\n      <td>2020-04-16</td>\n      <td>Washakie</td>\n      <td>Wyoming</td>\n      <td>56043</td>\n      <td>4</td>\n      <td>0</td>\n    </tr>\n    <tr>\n      <th>72985</th>\n      <td>2020-04-19</td>\n      <td>Washakie</td>\n      <td>Wyoming</td>\n      <td>56043</td>\n      <td>4</td>\n      <td>0</td>\n    </tr>\n    <tr>\n      <th>84142</th>\n      <td>2020-04-23</td>\n      <td>Washakie</td>\n      <td>Wyoming</td>\n      <td>56043</td>\n      <td>4</td>\n      <td>0</td>\n    </tr>\n    <tr>\n      <th>61968</th>\n      <td>2020-04-15</td>\n      <td>Washakie</td>\n      <td>Wyoming</td>\n      <td>56043</td>\n      <td>4</td>\n      <td>0</td>\n    </tr>\n    <tr>\n      <th>86951</th>\n      <td>2020-04-24</td>\n      <td>Washakie</td>\n      <td>Wyoming</td>\n      <td>56043</td>\n      <td>4</td>\n      <td>0</td>\n    </tr>\n    <tr>\n      <th>70215</th>\n      <td>2020-04-18</td>\n      <td>Washakie</td>\n      <td>Wyoming</td>\n      <td>56043</td>\n      <td>4</td>\n      <td>0</td>\n    </tr>\n    <tr>\n      <th>17730</th>\n      <td>2020-03-28</td>\n      <td>Washakie</td>\n      <td>Wyoming</td>\n      <td>56043</td>\n      <td>1</td>\n      <td>0</td>\n    </tr>\n    <tr>\n      <th>53845</th>\n      <td>2020-04-12</td>\n      <td>Washakie</td>\n      <td>Wyoming</td>\n      <td>56043</td>\n      <td>4</td>\n      <td>0</td>\n    </tr>\n    <tr>\n      <th>56538</th>\n      <td>2020-04-13</td>\n      <td>Washakie</td>\n      <td>Wyoming</td>\n      <td>56043</td>\n      <td>4</td>\n      <td>0</td>\n    </tr>\n    <tr>\n      <th>19713</th>\n      <td>2020-03-29</td>\n      <td>Washakie</td>\n      <td>Wyoming</td>\n      <td>56043</td>\n      <td>1</td>\n      <td>0</td>\n    </tr>\n    <tr>\n      <th>21798</th>\n      <td>2020-03-30</td>\n      <td>Washakie</td>\n      <td>Wyoming</td>\n      <td>56043</td>\n      <td>1</td>\n      <td>0</td>\n    </tr>\n    <tr>\n      <th>23965</th>\n      <td>2020-03-31</td>\n      <td>Washakie</td>\n      <td>Wyoming</td>\n      <td>56043</td>\n      <td>1</td>\n      <td>0</td>\n    </tr>\n    <tr>\n      <th>26196</th>\n      <td>2020-04-01</td>\n      <td>Washakie</td>\n      <td>Wyoming</td>\n      <td>56043</td>\n      <td>1</td>\n      <td>0</td>\n    </tr>\n    <tr>\n      <th>28486</th>\n      <td>2020-04-02</td>\n      <td>Washakie</td>\n      <td>Wyoming</td>\n      <td>56043</td>\n      <td>2</td>\n      <td>0</td>\n    </tr>\n    <tr>\n      <th>30842</th>\n      <td>2020-04-03</td>\n      <td>Washakie</td>\n      <td>Wyoming</td>\n      <td>56043</td>\n      <td>2</td>\n      <td>0</td>\n    </tr>\n    <tr>\n      <th>33247</th>\n      <td>2020-04-04</td>\n      <td>Washakie</td>\n      <td>Wyoming</td>\n      <td>56043</td>\n      <td>2</td>\n      <td>0</td>\n    </tr>\n    <tr>\n      <th>35690</th>\n      <td>2020-04-05</td>\n      <td>Washakie</td>\n      <td>Wyoming</td>\n      <td>56043</td>\n      <td>4</td>\n      <td>0</td>\n    </tr>\n    <tr>\n      <th>38179</th>\n      <td>2020-04-06</td>\n      <td>Washakie</td>\n      <td>Wyoming</td>\n      <td>56043</td>\n      <td>4</td>\n      <td>0</td>\n    </tr>\n    <tr>\n      <th>40718</th>\n      <td>2020-04-07</td>\n      <td>Washakie</td>\n      <td>Wyoming</td>\n      <td>56043</td>\n      <td>4</td>\n      <td>0</td>\n    </tr>\n    <tr>\n      <th>43284</th>\n      <td>2020-04-08</td>\n      <td>Washakie</td>\n      <td>Wyoming</td>\n      <td>56043</td>\n      <td>4</td>\n      <td>0</td>\n    </tr>\n    <tr>\n      <th>45878</th>\n      <td>2020-04-09</td>\n      <td>Washakie</td>\n      <td>Wyoming</td>\n      <td>56043</td>\n      <td>4</td>\n      <td>0</td>\n    </tr>\n    <tr>\n      <th>89770</th>\n      <td>2020-04-25</td>\n      <td>Washakie</td>\n      <td>Wyoming</td>\n      <td>56043</td>\n      <td>4</td>\n      <td>0</td>\n    </tr>\n    <tr>\n      <th>48506</th>\n      <td>2020-04-10</td>\n      <td>Washakie</td>\n      <td>Wyoming</td>\n      <td>56043</td>\n      <td>4</td>\n      <td>0</td>\n    </tr>\n    <tr>\n      <th>51166</th>\n      <td>2020-04-11</td>\n      <td>Washakie</td>\n      <td>Wyoming</td>\n      <td>56043</td>\n      <td>4</td>\n      <td>0</td>\n    </tr>\n    <tr>\n      <th>15835</th>\n      <td>2020-03-27</td>\n      <td>Washakie</td>\n      <td>Wyoming</td>\n      <td>56043</td>\n      <td>1</td>\n      <td>0</td>\n    </tr>\n    <tr>\n      <th>92589</th>\n      <td>2020-04-26</td>\n      <td>Washakie</td>\n      <td>Wyoming</td>\n      <td>56043</td>\n      <td>4</td>\n      <td>0</td>\n    </tr>\n    <tr>\n      <th>59246</th>\n      <td>2020-04-14</td>\n      <td>Washakie</td>\n      <td>Wyoming</td>\n      <td>56043</td>\n      <td>4</td>\n      <td>0</td>\n    </tr>\n    <tr>\n      <th>95419</th>\n      <td>2020-04-27</td>\n      <td>Washakie</td>\n      <td>Wyoming</td>\n      <td>56043</td>\n      <td>4</td>\n      <td>0</td>\n    </tr>\n  </tbody>\n</table>\n<p>95420 rows × 6 columns</p>\n</div>"
     },
     "metadata": {},
     "output_type": "execute_result",
     "execution_count": 2
    }
   ],
   "source": [
    "df_counties_original = pd.read_csv(\"./us-counties.csv\", dtype={\"date\": np.string_, \n",
    "                                                             \"county\": np.string_,\n",
    "                                                             \"state\": np.string_,\n",
    "                                                             \"fips\": np.string_,\n",
    "                                                            \"cases\": np.int32,\n",
    "                                                            \"deaths\": np.int32})\n",
    "#Tansform Unknown fips to '00000' \n",
    "df_counties_original['fips'] = df_counties_original['fips'].replace({np.nan: '00000'})\n",
    "df_counties_original.sort_values(\"fips\", ascending=True)"
   ]
  },
  {
   "cell_type": "markdown",
   "source": [
    "0.1 GeoJSON Data"
   ],
   "metadata": {
    "collapsed": false,
    "pycharm": {
     "name": "#%% md\n"
    }
   }
  },
  {
   "cell_type": "code",
   "execution_count": 3,
   "outputs": [
    {
     "data": {
      "text/plain": "       NAME      state_name  GEOID  population  \\\n0    Bladen  North Carolina  37017       33778   \n1    Stanly  North Carolina  37167       61114   \n2    Summit            Ohio  39153      541810   \n3  Sullivan    Pennsylvania  42113        6177   \n4    Upshur           Texas  48459       40769   \n\n                                            geometry  \n0  MULTIPOLYGON (((-78.90200 34.83527, -78.79960 ...  \n1  MULTIPOLYGON (((-80.49738 35.20210, -80.29542 ...  \n2  MULTIPOLYGON (((-81.68699 41.13596, -81.68495 ...  \n3  MULTIPOLYGON (((-76.81373 41.59003, -76.22014 ...  \n4  MULTIPOLYGON (((-95.15274 32.66095, -95.15211 ...  ",
      "text/html": "<div>\n<style scoped>\n    .dataframe tbody tr th:only-of-type {\n        vertical-align: middle;\n    }\n\n    .dataframe tbody tr th {\n        vertical-align: top;\n    }\n\n    .dataframe thead th {\n        text-align: right;\n    }\n</style>\n<table border=\"1\" class=\"dataframe\">\n  <thead>\n    <tr style=\"text-align: right;\">\n      <th></th>\n      <th>NAME</th>\n      <th>state_name</th>\n      <th>GEOID</th>\n      <th>population</th>\n      <th>geometry</th>\n    </tr>\n  </thead>\n  <tbody>\n    <tr>\n      <th>0</th>\n      <td>Bladen</td>\n      <td>North Carolina</td>\n      <td>37017</td>\n      <td>33778</td>\n      <td>MULTIPOLYGON (((-78.90200 34.83527, -78.79960 ...</td>\n    </tr>\n    <tr>\n      <th>1</th>\n      <td>Stanly</td>\n      <td>North Carolina</td>\n      <td>37167</td>\n      <td>61114</td>\n      <td>MULTIPOLYGON (((-80.49738 35.20210, -80.29542 ...</td>\n    </tr>\n    <tr>\n      <th>2</th>\n      <td>Summit</td>\n      <td>Ohio</td>\n      <td>39153</td>\n      <td>541810</td>\n      <td>MULTIPOLYGON (((-81.68699 41.13596, -81.68495 ...</td>\n    </tr>\n    <tr>\n      <th>3</th>\n      <td>Sullivan</td>\n      <td>Pennsylvania</td>\n      <td>42113</td>\n      <td>6177</td>\n      <td>MULTIPOLYGON (((-76.81373 41.59003, -76.22014 ...</td>\n    </tr>\n    <tr>\n      <th>4</th>\n      <td>Upshur</td>\n      <td>Texas</td>\n      <td>48459</td>\n      <td>40769</td>\n      <td>MULTIPOLYGON (((-95.15274 32.66095, -95.15211 ...</td>\n    </tr>\n  </tbody>\n</table>\n</div>"
     },
     "metadata": {},
     "output_type": "execute_result",
     "execution_count": 3
    }
   ],
   "source": [
    "old_counties_geojson_df = gpd.read_file(r\"./counties_update_new.geojson\")\n",
    "old_counties_geojson_df.head(5)"
   ],
   "metadata": {
    "collapsed": false,
    "pycharm": {
     "name": "#%%\n",
     "is_executing": false
    }
   }
  },
  {
   "cell_type": "markdown",
   "metadata": {
    "pycharm": {
     "name": "#%% md\n"
    }
   },
   "source": [
    "Group Data to Counties"
   ]
  },
  {
   "cell_type": "code",
   "execution_count": 4,
   "metadata": {
    "pycharm": {
     "is_executing": false,
     "name": "#%%\n"
    }
   },
   "outputs": [
    {
     "data": {
      "text/plain": "                                 cases                                   \\\ndate                        2020-01-21 2020-01-22 2020-01-23 2020-01-24   \nstate     county      fips                                                \nAlabama   Autauga     01001        0.0        0.0        0.0        0.0   \n          Baldwin     01003        0.0        0.0        0.0        0.0   \n          Barbour     01005        0.0        0.0        0.0        0.0   \n          Bibb        01007        0.0        0.0        0.0        0.0   \n          Blount      01009        0.0        0.0        0.0        0.0   \n          Bullock     01011        0.0        0.0        0.0        0.0   \n          Butler      01013        0.0        0.0        0.0        0.0   \n          Calhoun     01015        0.0        0.0        0.0        0.0   \n          Chambers    01017        0.0        0.0        0.0        0.0   \n          Cherokee    01019        0.0        0.0        0.0        0.0   \n          Chilton     01021        0.0        0.0        0.0        0.0   \n          Choctaw     01023        0.0        0.0        0.0        0.0   \n          Clarke      01025        0.0        0.0        0.0        0.0   \n          Clay        01027        0.0        0.0        0.0        0.0   \n          Cleburne    01029        0.0        0.0        0.0        0.0   \n          Coffee      01031        0.0        0.0        0.0        0.0   \n          Colbert     01033        0.0        0.0        0.0        0.0   \n          Conecuh     01035        0.0        0.0        0.0        0.0   \n          Coosa       01037        0.0        0.0        0.0        0.0   \n          Covington   01039        0.0        0.0        0.0        0.0   \n          Crenshaw    01041        0.0        0.0        0.0        0.0   \n          Cullman     01043        0.0        0.0        0.0        0.0   \n          Dale        01045        0.0        0.0        0.0        0.0   \n          Dallas      01047        0.0        0.0        0.0        0.0   \n          DeKalb      01049        0.0        0.0        0.0        0.0   \n          Elmore      01051        0.0        0.0        0.0        0.0   \n          Escambia    01053        0.0        0.0        0.0        0.0   \n          Etowah      01055        0.0        0.0        0.0        0.0   \n          Fayette     01057        0.0        0.0        0.0        0.0   \n          Franklin    01059        0.0        0.0        0.0        0.0   \n...                                ...        ...        ...        ...   \nWisconsin Vilas       55125        0.0        0.0        0.0        0.0   \n          Walworth    55127        0.0        0.0        0.0        0.0   \n          Washburn    55129        0.0        0.0        0.0        0.0   \n          Washington  55131        0.0        0.0        0.0        0.0   \n          Waukesha    55133        0.0        0.0        0.0        0.0   \n          Waupaca     55135        0.0        0.0        0.0        0.0   \n          Waushara    55137        0.0        0.0        0.0        0.0   \n          Winnebago   55139        0.0        0.0        0.0        0.0   \n          Wood        55141        0.0        0.0        0.0        0.0   \nWyoming   Albany      56001        0.0        0.0        0.0        0.0   \n          Big Horn    56003        0.0        0.0        0.0        0.0   \n          Campbell    56005        0.0        0.0        0.0        0.0   \n          Carbon      56007        0.0        0.0        0.0        0.0   \n          Converse    56009        0.0        0.0        0.0        0.0   \n          Crook       56011        0.0        0.0        0.0        0.0   \n          Fremont     56013        0.0        0.0        0.0        0.0   \n          Goshen      56015        0.0        0.0        0.0        0.0   \n          Hot Springs 56017        0.0        0.0        0.0        0.0   \n          Johnson     56019        0.0        0.0        0.0        0.0   \n          Laramie     56021        0.0        0.0        0.0        0.0   \n          Lincoln     56023        0.0        0.0        0.0        0.0   \n          Natrona     56025        0.0        0.0        0.0        0.0   \n          Niobrara    56027        0.0        0.0        0.0        0.0   \n          Park        56029        0.0        0.0        0.0        0.0   \n          Sheridan    56033        0.0        0.0        0.0        0.0   \n          Sublette    56035        0.0        0.0        0.0        0.0   \n          Sweetwater  56037        0.0        0.0        0.0        0.0   \n          Teton       56039        0.0        0.0        0.0        0.0   \n          Uinta       56041        0.0        0.0        0.0        0.0   \n          Washakie    56043        0.0        0.0        0.0        0.0   \n\n                                                                         \\\ndate                        2020-01-25 2020-01-26 2020-01-27 2020-01-28   \nstate     county      fips                                                \nAlabama   Autauga     01001        0.0        0.0        0.0        0.0   \n          Baldwin     01003        0.0        0.0        0.0        0.0   \n          Barbour     01005        0.0        0.0        0.0        0.0   \n          Bibb        01007        0.0        0.0        0.0        0.0   \n          Blount      01009        0.0        0.0        0.0        0.0   \n          Bullock     01011        0.0        0.0        0.0        0.0   \n          Butler      01013        0.0        0.0        0.0        0.0   \n          Calhoun     01015        0.0        0.0        0.0        0.0   \n          Chambers    01017        0.0        0.0        0.0        0.0   \n          Cherokee    01019        0.0        0.0        0.0        0.0   \n          Chilton     01021        0.0        0.0        0.0        0.0   \n          Choctaw     01023        0.0        0.0        0.0        0.0   \n          Clarke      01025        0.0        0.0        0.0        0.0   \n          Clay        01027        0.0        0.0        0.0        0.0   \n          Cleburne    01029        0.0        0.0        0.0        0.0   \n          Coffee      01031        0.0        0.0        0.0        0.0   \n          Colbert     01033        0.0        0.0        0.0        0.0   \n          Conecuh     01035        0.0        0.0        0.0        0.0   \n          Coosa       01037        0.0        0.0        0.0        0.0   \n          Covington   01039        0.0        0.0        0.0        0.0   \n          Crenshaw    01041        0.0        0.0        0.0        0.0   \n          Cullman     01043        0.0        0.0        0.0        0.0   \n          Dale        01045        0.0        0.0        0.0        0.0   \n          Dallas      01047        0.0        0.0        0.0        0.0   \n          DeKalb      01049        0.0        0.0        0.0        0.0   \n          Elmore      01051        0.0        0.0        0.0        0.0   \n          Escambia    01053        0.0        0.0        0.0        0.0   \n          Etowah      01055        0.0        0.0        0.0        0.0   \n          Fayette     01057        0.0        0.0        0.0        0.0   \n          Franklin    01059        0.0        0.0        0.0        0.0   \n...                                ...        ...        ...        ...   \nWisconsin Vilas       55125        0.0        0.0        0.0        0.0   \n          Walworth    55127        0.0        0.0        0.0        0.0   \n          Washburn    55129        0.0        0.0        0.0        0.0   \n          Washington  55131        0.0        0.0        0.0        0.0   \n          Waukesha    55133        0.0        0.0        0.0        0.0   \n          Waupaca     55135        0.0        0.0        0.0        0.0   \n          Waushara    55137        0.0        0.0        0.0        0.0   \n          Winnebago   55139        0.0        0.0        0.0        0.0   \n          Wood        55141        0.0        0.0        0.0        0.0   \nWyoming   Albany      56001        0.0        0.0        0.0        0.0   \n          Big Horn    56003        0.0        0.0        0.0        0.0   \n          Campbell    56005        0.0        0.0        0.0        0.0   \n          Carbon      56007        0.0        0.0        0.0        0.0   \n          Converse    56009        0.0        0.0        0.0        0.0   \n          Crook       56011        0.0        0.0        0.0        0.0   \n          Fremont     56013        0.0        0.0        0.0        0.0   \n          Goshen      56015        0.0        0.0        0.0        0.0   \n          Hot Springs 56017        0.0        0.0        0.0        0.0   \n          Johnson     56019        0.0        0.0        0.0        0.0   \n          Laramie     56021        0.0        0.0        0.0        0.0   \n          Lincoln     56023        0.0        0.0        0.0        0.0   \n          Natrona     56025        0.0        0.0        0.0        0.0   \n          Niobrara    56027        0.0        0.0        0.0        0.0   \n          Park        56029        0.0        0.0        0.0        0.0   \n          Sheridan    56033        0.0        0.0        0.0        0.0   \n          Sublette    56035        0.0        0.0        0.0        0.0   \n          Sweetwater  56037        0.0        0.0        0.0        0.0   \n          Teton       56039        0.0        0.0        0.0        0.0   \n          Uinta       56041        0.0        0.0        0.0        0.0   \n          Washakie    56043        0.0        0.0        0.0        0.0   \n\n                                                   ...     deaths             \\\ndate                        2020-01-29 2020-01-30  ... 2020-04-18 2020-04-19   \nstate     county      fips                         ...                         \nAlabama   Autauga     01001        0.0        0.0  ...        2.0        2.0   \n          Baldwin     01003        0.0        0.0  ...        2.0        3.0   \n          Barbour     01005        0.0        0.0  ...        0.0        0.0   \n          Bibb        01007        0.0        0.0  ...        0.0        0.0   \n          Blount      01009        0.0        0.0  ...        0.0        0.0   \n          Bullock     01011        0.0        0.0  ...        0.0        0.0   \n          Butler      01013        0.0        0.0  ...        0.0        0.0   \n          Calhoun     01015        0.0        0.0  ...        2.0        2.0   \n          Chambers    01017        0.0        0.0  ...       11.0       14.0   \n          Cherokee    01019        0.0        0.0  ...        0.0        0.0   \n          Chilton     01021        0.0        0.0  ...        0.0        0.0   \n          Choctaw     01023        0.0        0.0  ...        0.0        0.0   \n          Clarke      01025        0.0        0.0  ...        0.0        0.0   \n          Clay        01027        0.0        0.0  ...        0.0        0.0   \n          Cleburne    01029        0.0        0.0  ...        0.0        1.0   \n          Coffee      01031        0.0        0.0  ...        0.0        0.0   \n          Colbert     01033        0.0        0.0  ...        1.0        1.0   \n          Conecuh     01035        0.0        0.0  ...        0.0        0.0   \n          Coosa       01037        0.0        0.0  ...        1.0        1.0   \n          Covington   01039        0.0        0.0  ...        1.0        1.0   \n          Crenshaw    01041        0.0        0.0  ...        0.0        0.0   \n          Cullman     01043        0.0        0.0  ...        0.0        0.0   \n          Dale        01045        0.0        0.0  ...        0.0        0.0   \n          Dallas      01047        0.0        0.0  ...        2.0        2.0   \n          DeKalb      01049        0.0        0.0  ...        2.0        2.0   \n          Elmore      01051        0.0        0.0  ...        1.0        1.0   \n          Escambia    01053        0.0        0.0  ...        0.0        0.0   \n          Etowah      01055        0.0        0.0  ...        7.0        7.0   \n          Fayette     01057        0.0        0.0  ...        0.0        0.0   \n          Franklin    01059        0.0        0.0  ...        0.0        0.0   \n...                                ...        ...  ...        ...        ...   \nWisconsin Vilas       55125        0.0        0.0  ...        0.0        0.0   \n          Walworth    55127        0.0        0.0  ...        4.0        6.0   \n          Washburn    55129        0.0        0.0  ...        0.0        0.0   \n          Washington  55131        0.0        0.0  ...        3.0        3.0   \n          Waukesha    55133        0.0        0.0  ...       11.0       11.0   \n          Waupaca     55135        0.0        0.0  ...        1.0        1.0   \n          Waushara    55137        0.0        0.0  ...        0.0        0.0   \n          Winnebago   55139        0.0        0.0  ...        1.0        1.0   \n          Wood        55141        0.0        0.0  ...        0.0        0.0   \nWyoming   Albany      56001        0.0        0.0  ...        0.0        0.0   \n          Big Horn    56003        0.0        0.0  ...        0.0        0.0   \n          Campbell    56005        0.0        0.0  ...        0.0        0.0   \n          Carbon      56007        0.0        0.0  ...        0.0        0.0   \n          Converse    56009        0.0        0.0  ...        0.0        0.0   \n          Crook       56011        0.0        0.0  ...        0.0        0.0   \n          Fremont     56013        0.0        0.0  ...        0.0        0.0   \n          Goshen      56015        0.0        0.0  ...        0.0        0.0   \n          Hot Springs 56017        0.0        0.0  ...        0.0        0.0   \n          Johnson     56019        0.0        0.0  ...        1.0        1.0   \n          Laramie     56021        0.0        0.0  ...        1.0        1.0   \n          Lincoln     56023        0.0        0.0  ...        0.0        0.0   \n          Natrona     56025        0.0        0.0  ...        0.0        0.0   \n          Niobrara    56027        0.0        0.0  ...        0.0        0.0   \n          Park        56029        0.0        0.0  ...        0.0        0.0   \n          Sheridan    56033        0.0        0.0  ...        0.0        0.0   \n          Sublette    56035        0.0        0.0  ...        0.0        0.0   \n          Sweetwater  56037        0.0        0.0  ...        0.0        0.0   \n          Teton       56039        0.0        0.0  ...        0.0        0.0   \n          Uinta       56041        0.0        0.0  ...        0.0        0.0   \n          Washakie    56043        0.0        0.0  ...        0.0        0.0   \n\n                                                                         \\\ndate                        2020-04-20 2020-04-21 2020-04-22 2020-04-23   \nstate     county      fips                                                \nAlabama   Autauga     01001        1.0        1.0        2.0        2.0   \n          Baldwin     01003        3.0        3.0        3.0        3.0   \n          Barbour     01005        0.0        0.0        0.0        0.0   \n          Bibb        01007        0.0        0.0        0.0        0.0   \n          Blount      01009        0.0        0.0        0.0        0.0   \n          Bullock     01011        0.0        0.0        0.0        0.0   \n          Butler      01013        0.0        0.0        0.0        0.0   \n          Calhoun     01015        3.0        3.0        3.0        3.0   \n          Chambers    01017       13.0       16.0       16.0       16.0   \n          Cherokee    01019        0.0        0.0        0.0        0.0   \n          Chilton     01021        0.0        0.0        1.0        1.0   \n          Choctaw     01023        0.0        0.0        0.0        0.0   \n          Clarke      01025        1.0        1.0        1.0        1.0   \n          Clay        01027        0.0        0.0        0.0        1.0   \n          Cleburne    01029        1.0        1.0        1.0        1.0   \n          Coffee      01031        0.0        1.0        1.0        1.0   \n          Colbert     01033        1.0        1.0        1.0        1.0   \n          Conecuh     01035        0.0        0.0        0.0        0.0   \n          Coosa       01037        1.0        1.0        1.0        1.0   \n          Covington   01039        0.0        0.0        0.0        0.0   \n          Crenshaw    01041        0.0        0.0        0.0        0.0   \n          Cullman     01043        0.0        0.0        0.0        0.0   \n          Dale        01045        0.0        0.0        0.0        0.0   \n          Dallas      01047        2.0        2.0        2.0        2.0   \n          DeKalb      01049        2.0        2.0        2.0        2.0   \n          Elmore      01051        1.0        1.0        1.0        1.0   \n          Escambia    01053        0.0        1.0        1.0        1.0   \n          Etowah      01055        7.0        8.0        8.0        8.0   \n          Fayette     01057        0.0        0.0        0.0        0.0   \n          Franklin    01059        0.0        0.0        0.0        0.0   \n...                                ...        ...        ...        ...   \nWisconsin Vilas       55125        0.0        0.0        0.0        0.0   \n          Walworth    55127        6.0        7.0        7.0        7.0   \n          Washburn    55129        0.0        0.0        0.0        0.0   \n          Washington  55131        3.0        3.0        4.0        4.0   \n          Waukesha    55133       11.0       13.0       13.0       14.0   \n          Waupaca     55135        1.0        1.0        1.0        1.0   \n          Waushara    55137        0.0        0.0        0.0        0.0   \n          Winnebago   55139        1.0        1.0        1.0        1.0   \n          Wood        55141        0.0        0.0        0.0        0.0   \nWyoming   Albany      56001        0.0        0.0        0.0        0.0   \n          Big Horn    56003        0.0        0.0        0.0        0.0   \n          Campbell    56005        0.0        0.0        0.0        0.0   \n          Carbon      56007        0.0        0.0        0.0        0.0   \n          Converse    56009        0.0        0.0        0.0        0.0   \n          Crook       56011        0.0        0.0        0.0        0.0   \n          Fremont     56013        0.0        4.0        4.0        4.0   \n          Goshen      56015        0.0        0.0        0.0        0.0   \n          Hot Springs 56017        0.0        0.0        0.0        0.0   \n          Johnson     56019        1.0        1.0        1.0        1.0   \n          Laramie     56021        1.0        1.0        1.0        1.0   \n          Lincoln     56023        0.0        0.0        0.0        0.0   \n          Natrona     56025        0.0        0.0        0.0        0.0   \n          Niobrara    56027        0.0        0.0        0.0        0.0   \n          Park        56029        0.0        0.0        0.0        0.0   \n          Sheridan    56033        0.0        0.0        0.0        0.0   \n          Sublette    56035        0.0        0.0        0.0        0.0   \n          Sweetwater  56037        0.0        0.0        0.0        0.0   \n          Teton       56039        0.0        0.0        0.0        1.0   \n          Uinta       56041        0.0        0.0        0.0        0.0   \n          Washakie    56043        0.0        0.0        0.0        0.0   \n\n                                                                         \ndate                        2020-04-24 2020-04-25 2020-04-26 2020-04-27  \nstate     county      fips                                               \nAlabama   Autauga     01001        2.0        2.0        2.0        3.0  \n          Baldwin     01003        3.0        3.0        3.0        3.0  \n          Barbour     01005        0.0        0.0        0.0        0.0  \n          Bibb        01007        0.0        0.0        0.0        0.0  \n          Blount      01009        0.0        0.0        0.0        0.0  \n          Bullock     01011        0.0        0.0        0.0        0.0  \n          Butler      01013        0.0        0.0        1.0        1.0  \n          Calhoun     01015        3.0        3.0        3.0        3.0  \n          Chambers    01017       17.0       18.0       18.0       18.0  \n          Cherokee    01019        0.0        0.0        0.0        0.0  \n          Chilton     01021        1.0        1.0        1.0        1.0  \n          Choctaw     01023        0.0        0.0        0.0        0.0  \n          Clarke      01025        1.0        1.0        1.0        1.0  \n          Clay        01027        1.0        1.0        1.0        1.0  \n          Cleburne    01029        1.0        1.0        1.0        1.0  \n          Coffee      01031        0.0        0.0        0.0        0.0  \n          Colbert     01033        2.0        2.0        2.0        2.0  \n          Conecuh     01035        0.0        0.0        0.0        0.0  \n          Coosa       01037        1.0        1.0        1.0        1.0  \n          Covington   01039        0.0        0.0        1.0        1.0  \n          Crenshaw    01041        0.0        0.0        0.0        0.0  \n          Cullman     01043        0.0        0.0        0.0        0.0  \n          Dale        01045        0.0        0.0        0.0        0.0  \n          Dallas      01047        2.0        2.0        2.0        3.0  \n          DeKalb      01049        2.0        2.0        2.0        2.0  \n          Elmore      01051        1.0        1.0        1.0        1.0  \n          Escambia    01053        1.0        1.0        1.0        1.0  \n          Etowah      01055        8.0        8.0        8.0        8.0  \n          Fayette     01057        0.0        0.0        0.0        0.0  \n          Franklin    01059        0.0        0.0        0.0        0.0  \n...                                ...        ...        ...        ...  \nWisconsin Vilas       55125        0.0        0.0        0.0        0.0  \n          Walworth    55127        7.0        8.0        8.0        8.0  \n          Washburn    55129        0.0        0.0        0.0        0.0  \n          Washington  55131        4.0        4.0        4.0        4.0  \n          Waukesha    55133       14.0       14.0       14.0       15.0  \n          Waupaca     55135        1.0        1.0        1.0        1.0  \n          Waushara    55137        0.0        0.0        0.0        0.0  \n          Winnebago   55139        1.0        1.0        1.0        1.0  \n          Wood        55141        0.0        0.0        0.0        0.0  \nWyoming   Albany      56001        0.0        0.0        0.0        0.0  \n          Big Horn    56003        0.0        0.0        0.0        0.0  \n          Campbell    56005        0.0        0.0        0.0        0.0  \n          Carbon      56007        0.0        0.0        0.0        0.0  \n          Converse    56009        0.0        0.0        0.0        0.0  \n          Crook       56011        0.0        0.0        0.0        0.0  \n          Fremont     56013        4.0        4.0        4.0        4.0  \n          Goshen      56015        0.0        0.0        0.0        0.0  \n          Hot Springs 56017        0.0        0.0        0.0        0.0  \n          Johnson     56019        1.0        1.0        1.0        1.0  \n          Laramie     56021        1.0        1.0        1.0        1.0  \n          Lincoln     56023        0.0        0.0        0.0        0.0  \n          Natrona     56025        0.0        0.0        0.0        0.0  \n          Niobrara    56027        0.0        0.0        0.0        0.0  \n          Park        56029        0.0        0.0        0.0        0.0  \n          Sheridan    56033        0.0        0.0        0.0        0.0  \n          Sublette    56035        0.0        0.0        0.0        0.0  \n          Sweetwater  56037        0.0        0.0        0.0        0.0  \n          Teton       56039        1.0        1.0        1.0        1.0  \n          Uinta       56041        0.0        0.0        0.0        0.0  \n          Washakie    56043        0.0        0.0        0.0        0.0  \n\n[2865 rows x 196 columns]",
      "text/html": "<div>\n<style scoped>\n    .dataframe tbody tr th:only-of-type {\n        vertical-align: middle;\n    }\n\n    .dataframe tbody tr th {\n        vertical-align: top;\n    }\n\n    .dataframe thead tr th {\n        text-align: left;\n    }\n\n    .dataframe thead tr:last-of-type th {\n        text-align: right;\n    }\n</style>\n<table border=\"1\" class=\"dataframe\">\n  <thead>\n    <tr>\n      <th></th>\n      <th></th>\n      <th></th>\n      <th colspan=\"10\" halign=\"left\">cases</th>\n      <th>...</th>\n      <th colspan=\"10\" halign=\"left\">deaths</th>\n    </tr>\n    <tr>\n      <th></th>\n      <th></th>\n      <th>date</th>\n      <th>2020-01-21</th>\n      <th>2020-01-22</th>\n      <th>2020-01-23</th>\n      <th>2020-01-24</th>\n      <th>2020-01-25</th>\n      <th>2020-01-26</th>\n      <th>2020-01-27</th>\n      <th>2020-01-28</th>\n      <th>2020-01-29</th>\n      <th>2020-01-30</th>\n      <th>...</th>\n      <th>2020-04-18</th>\n      <th>2020-04-19</th>\n      <th>2020-04-20</th>\n      <th>2020-04-21</th>\n      <th>2020-04-22</th>\n      <th>2020-04-23</th>\n      <th>2020-04-24</th>\n      <th>2020-04-25</th>\n      <th>2020-04-26</th>\n      <th>2020-04-27</th>\n    </tr>\n    <tr>\n      <th>state</th>\n      <th>county</th>\n      <th>fips</th>\n      <th></th>\n      <th></th>\n      <th></th>\n      <th></th>\n      <th></th>\n      <th></th>\n      <th></th>\n      <th></th>\n      <th></th>\n      <th></th>\n      <th></th>\n      <th></th>\n      <th></th>\n      <th></th>\n      <th></th>\n      <th></th>\n      <th></th>\n      <th></th>\n      <th></th>\n      <th></th>\n      <th></th>\n    </tr>\n  </thead>\n  <tbody>\n    <tr>\n      <th rowspan=\"30\" valign=\"top\">Alabama</th>\n      <th>Autauga</th>\n      <th>01001</th>\n      <td>0.0</td>\n      <td>0.0</td>\n      <td>0.0</td>\n      <td>0.0</td>\n      <td>0.0</td>\n      <td>0.0</td>\n      <td>0.0</td>\n      <td>0.0</td>\n      <td>0.0</td>\n      <td>0.0</td>\n      <td>...</td>\n      <td>2.0</td>\n      <td>2.0</td>\n      <td>1.0</td>\n      <td>1.0</td>\n      <td>2.0</td>\n      <td>2.0</td>\n      <td>2.0</td>\n      <td>2.0</td>\n      <td>2.0</td>\n      <td>3.0</td>\n    </tr>\n    <tr>\n      <th>Baldwin</th>\n      <th>01003</th>\n      <td>0.0</td>\n      <td>0.0</td>\n      <td>0.0</td>\n      <td>0.0</td>\n      <td>0.0</td>\n      <td>0.0</td>\n      <td>0.0</td>\n      <td>0.0</td>\n      <td>0.0</td>\n      <td>0.0</td>\n      <td>...</td>\n      <td>2.0</td>\n      <td>3.0</td>\n      <td>3.0</td>\n      <td>3.0</td>\n      <td>3.0</td>\n      <td>3.0</td>\n      <td>3.0</td>\n      <td>3.0</td>\n      <td>3.0</td>\n      <td>3.0</td>\n    </tr>\n    <tr>\n      <th>Barbour</th>\n      <th>01005</th>\n      <td>0.0</td>\n      <td>0.0</td>\n      <td>0.0</td>\n      <td>0.0</td>\n      <td>0.0</td>\n      <td>0.0</td>\n      <td>0.0</td>\n      <td>0.0</td>\n      <td>0.0</td>\n      <td>0.0</td>\n      <td>...</td>\n      <td>0.0</td>\n      <td>0.0</td>\n      <td>0.0</td>\n      <td>0.0</td>\n      <td>0.0</td>\n      <td>0.0</td>\n      <td>0.0</td>\n      <td>0.0</td>\n      <td>0.0</td>\n      <td>0.0</td>\n    </tr>\n    <tr>\n      <th>Bibb</th>\n      <th>01007</th>\n      <td>0.0</td>\n      <td>0.0</td>\n      <td>0.0</td>\n      <td>0.0</td>\n      <td>0.0</td>\n      <td>0.0</td>\n      <td>0.0</td>\n      <td>0.0</td>\n      <td>0.0</td>\n      <td>0.0</td>\n      <td>...</td>\n      <td>0.0</td>\n      <td>0.0</td>\n      <td>0.0</td>\n      <td>0.0</td>\n      <td>0.0</td>\n      <td>0.0</td>\n      <td>0.0</td>\n      <td>0.0</td>\n      <td>0.0</td>\n      <td>0.0</td>\n    </tr>\n    <tr>\n      <th>Blount</th>\n      <th>01009</th>\n      <td>0.0</td>\n      <td>0.0</td>\n      <td>0.0</td>\n      <td>0.0</td>\n      <td>0.0</td>\n      <td>0.0</td>\n      <td>0.0</td>\n      <td>0.0</td>\n      <td>0.0</td>\n      <td>0.0</td>\n      <td>...</td>\n      <td>0.0</td>\n      <td>0.0</td>\n      <td>0.0</td>\n      <td>0.0</td>\n      <td>0.0</td>\n      <td>0.0</td>\n      <td>0.0</td>\n      <td>0.0</td>\n      <td>0.0</td>\n      <td>0.0</td>\n    </tr>\n    <tr>\n      <th>Bullock</th>\n      <th>01011</th>\n      <td>0.0</td>\n      <td>0.0</td>\n      <td>0.0</td>\n      <td>0.0</td>\n      <td>0.0</td>\n      <td>0.0</td>\n      <td>0.0</td>\n      <td>0.0</td>\n      <td>0.0</td>\n      <td>0.0</td>\n      <td>...</td>\n      <td>0.0</td>\n      <td>0.0</td>\n      <td>0.0</td>\n      <td>0.0</td>\n      <td>0.0</td>\n      <td>0.0</td>\n      <td>0.0</td>\n      <td>0.0</td>\n      <td>0.0</td>\n      <td>0.0</td>\n    </tr>\n    <tr>\n      <th>Butler</th>\n      <th>01013</th>\n      <td>0.0</td>\n      <td>0.0</td>\n      <td>0.0</td>\n      <td>0.0</td>\n      <td>0.0</td>\n      <td>0.0</td>\n      <td>0.0</td>\n      <td>0.0</td>\n      <td>0.0</td>\n      <td>0.0</td>\n      <td>...</td>\n      <td>0.0</td>\n      <td>0.0</td>\n      <td>0.0</td>\n      <td>0.0</td>\n      <td>0.0</td>\n      <td>0.0</td>\n      <td>0.0</td>\n      <td>0.0</td>\n      <td>1.0</td>\n      <td>1.0</td>\n    </tr>\n    <tr>\n      <th>Calhoun</th>\n      <th>01015</th>\n      <td>0.0</td>\n      <td>0.0</td>\n      <td>0.0</td>\n      <td>0.0</td>\n      <td>0.0</td>\n      <td>0.0</td>\n      <td>0.0</td>\n      <td>0.0</td>\n      <td>0.0</td>\n      <td>0.0</td>\n      <td>...</td>\n      <td>2.0</td>\n      <td>2.0</td>\n      <td>3.0</td>\n      <td>3.0</td>\n      <td>3.0</td>\n      <td>3.0</td>\n      <td>3.0</td>\n      <td>3.0</td>\n      <td>3.0</td>\n      <td>3.0</td>\n    </tr>\n    <tr>\n      <th>Chambers</th>\n      <th>01017</th>\n      <td>0.0</td>\n      <td>0.0</td>\n      <td>0.0</td>\n      <td>0.0</td>\n      <td>0.0</td>\n      <td>0.0</td>\n      <td>0.0</td>\n      <td>0.0</td>\n      <td>0.0</td>\n      <td>0.0</td>\n      <td>...</td>\n      <td>11.0</td>\n      <td>14.0</td>\n      <td>13.0</td>\n      <td>16.0</td>\n      <td>16.0</td>\n      <td>16.0</td>\n      <td>17.0</td>\n      <td>18.0</td>\n      <td>18.0</td>\n      <td>18.0</td>\n    </tr>\n    <tr>\n      <th>Cherokee</th>\n      <th>01019</th>\n      <td>0.0</td>\n      <td>0.0</td>\n      <td>0.0</td>\n      <td>0.0</td>\n      <td>0.0</td>\n      <td>0.0</td>\n      <td>0.0</td>\n      <td>0.0</td>\n      <td>0.0</td>\n      <td>0.0</td>\n      <td>...</td>\n      <td>0.0</td>\n      <td>0.0</td>\n      <td>0.0</td>\n      <td>0.0</td>\n      <td>0.0</td>\n      <td>0.0</td>\n      <td>0.0</td>\n      <td>0.0</td>\n      <td>0.0</td>\n      <td>0.0</td>\n    </tr>\n    <tr>\n      <th>Chilton</th>\n      <th>01021</th>\n      <td>0.0</td>\n      <td>0.0</td>\n      <td>0.0</td>\n      <td>0.0</td>\n      <td>0.0</td>\n      <td>0.0</td>\n      <td>0.0</td>\n      <td>0.0</td>\n      <td>0.0</td>\n      <td>0.0</td>\n      <td>...</td>\n      <td>0.0</td>\n      <td>0.0</td>\n      <td>0.0</td>\n      <td>0.0</td>\n      <td>1.0</td>\n      <td>1.0</td>\n      <td>1.0</td>\n      <td>1.0</td>\n      <td>1.0</td>\n      <td>1.0</td>\n    </tr>\n    <tr>\n      <th>Choctaw</th>\n      <th>01023</th>\n      <td>0.0</td>\n      <td>0.0</td>\n      <td>0.0</td>\n      <td>0.0</td>\n      <td>0.0</td>\n      <td>0.0</td>\n      <td>0.0</td>\n      <td>0.0</td>\n      <td>0.0</td>\n      <td>0.0</td>\n      <td>...</td>\n      <td>0.0</td>\n      <td>0.0</td>\n      <td>0.0</td>\n      <td>0.0</td>\n      <td>0.0</td>\n      <td>0.0</td>\n      <td>0.0</td>\n      <td>0.0</td>\n      <td>0.0</td>\n      <td>0.0</td>\n    </tr>\n    <tr>\n      <th>Clarke</th>\n      <th>01025</th>\n      <td>0.0</td>\n      <td>0.0</td>\n      <td>0.0</td>\n      <td>0.0</td>\n      <td>0.0</td>\n      <td>0.0</td>\n      <td>0.0</td>\n      <td>0.0</td>\n      <td>0.0</td>\n      <td>0.0</td>\n      <td>...</td>\n      <td>0.0</td>\n      <td>0.0</td>\n      <td>1.0</td>\n      <td>1.0</td>\n      <td>1.0</td>\n      <td>1.0</td>\n      <td>1.0</td>\n      <td>1.0</td>\n      <td>1.0</td>\n      <td>1.0</td>\n    </tr>\n    <tr>\n      <th>Clay</th>\n      <th>01027</th>\n      <td>0.0</td>\n      <td>0.0</td>\n      <td>0.0</td>\n      <td>0.0</td>\n      <td>0.0</td>\n      <td>0.0</td>\n      <td>0.0</td>\n      <td>0.0</td>\n      <td>0.0</td>\n      <td>0.0</td>\n      <td>...</td>\n      <td>0.0</td>\n      <td>0.0</td>\n      <td>0.0</td>\n      <td>0.0</td>\n      <td>0.0</td>\n      <td>1.0</td>\n      <td>1.0</td>\n      <td>1.0</td>\n      <td>1.0</td>\n      <td>1.0</td>\n    </tr>\n    <tr>\n      <th>Cleburne</th>\n      <th>01029</th>\n      <td>0.0</td>\n      <td>0.0</td>\n      <td>0.0</td>\n      <td>0.0</td>\n      <td>0.0</td>\n      <td>0.0</td>\n      <td>0.0</td>\n      <td>0.0</td>\n      <td>0.0</td>\n      <td>0.0</td>\n      <td>...</td>\n      <td>0.0</td>\n      <td>1.0</td>\n      <td>1.0</td>\n      <td>1.0</td>\n      <td>1.0</td>\n      <td>1.0</td>\n      <td>1.0</td>\n      <td>1.0</td>\n      <td>1.0</td>\n      <td>1.0</td>\n    </tr>\n    <tr>\n      <th>Coffee</th>\n      <th>01031</th>\n      <td>0.0</td>\n      <td>0.0</td>\n      <td>0.0</td>\n      <td>0.0</td>\n      <td>0.0</td>\n      <td>0.0</td>\n      <td>0.0</td>\n      <td>0.0</td>\n      <td>0.0</td>\n      <td>0.0</td>\n      <td>...</td>\n      <td>0.0</td>\n      <td>0.0</td>\n      <td>0.0</td>\n      <td>1.0</td>\n      <td>1.0</td>\n      <td>1.0</td>\n      <td>0.0</td>\n      <td>0.0</td>\n      <td>0.0</td>\n      <td>0.0</td>\n    </tr>\n    <tr>\n      <th>Colbert</th>\n      <th>01033</th>\n      <td>0.0</td>\n      <td>0.0</td>\n      <td>0.0</td>\n      <td>0.0</td>\n      <td>0.0</td>\n      <td>0.0</td>\n      <td>0.0</td>\n      <td>0.0</td>\n      <td>0.0</td>\n      <td>0.0</td>\n      <td>...</td>\n      <td>1.0</td>\n      <td>1.0</td>\n      <td>1.0</td>\n      <td>1.0</td>\n      <td>1.0</td>\n      <td>1.0</td>\n      <td>2.0</td>\n      <td>2.0</td>\n      <td>2.0</td>\n      <td>2.0</td>\n    </tr>\n    <tr>\n      <th>Conecuh</th>\n      <th>01035</th>\n      <td>0.0</td>\n      <td>0.0</td>\n      <td>0.0</td>\n      <td>0.0</td>\n      <td>0.0</td>\n      <td>0.0</td>\n      <td>0.0</td>\n      <td>0.0</td>\n      <td>0.0</td>\n      <td>0.0</td>\n      <td>...</td>\n      <td>0.0</td>\n      <td>0.0</td>\n      <td>0.0</td>\n      <td>0.0</td>\n      <td>0.0</td>\n      <td>0.0</td>\n      <td>0.0</td>\n      <td>0.0</td>\n      <td>0.0</td>\n      <td>0.0</td>\n    </tr>\n    <tr>\n      <th>Coosa</th>\n      <th>01037</th>\n      <td>0.0</td>\n      <td>0.0</td>\n      <td>0.0</td>\n      <td>0.0</td>\n      <td>0.0</td>\n      <td>0.0</td>\n      <td>0.0</td>\n      <td>0.0</td>\n      <td>0.0</td>\n      <td>0.0</td>\n      <td>...</td>\n      <td>1.0</td>\n      <td>1.0</td>\n      <td>1.0</td>\n      <td>1.0</td>\n      <td>1.0</td>\n      <td>1.0</td>\n      <td>1.0</td>\n      <td>1.0</td>\n      <td>1.0</td>\n      <td>1.0</td>\n    </tr>\n    <tr>\n      <th>Covington</th>\n      <th>01039</th>\n      <td>0.0</td>\n      <td>0.0</td>\n      <td>0.0</td>\n      <td>0.0</td>\n      <td>0.0</td>\n      <td>0.0</td>\n      <td>0.0</td>\n      <td>0.0</td>\n      <td>0.0</td>\n      <td>0.0</td>\n      <td>...</td>\n      <td>1.0</td>\n      <td>1.0</td>\n      <td>0.0</td>\n      <td>0.0</td>\n      <td>0.0</td>\n      <td>0.0</td>\n      <td>0.0</td>\n      <td>0.0</td>\n      <td>1.0</td>\n      <td>1.0</td>\n    </tr>\n    <tr>\n      <th>Crenshaw</th>\n      <th>01041</th>\n      <td>0.0</td>\n      <td>0.0</td>\n      <td>0.0</td>\n      <td>0.0</td>\n      <td>0.0</td>\n      <td>0.0</td>\n      <td>0.0</td>\n      <td>0.0</td>\n      <td>0.0</td>\n      <td>0.0</td>\n      <td>...</td>\n      <td>0.0</td>\n      <td>0.0</td>\n      <td>0.0</td>\n      <td>0.0</td>\n      <td>0.0</td>\n      <td>0.0</td>\n      <td>0.0</td>\n      <td>0.0</td>\n      <td>0.0</td>\n      <td>0.0</td>\n    </tr>\n    <tr>\n      <th>Cullman</th>\n      <th>01043</th>\n      <td>0.0</td>\n      <td>0.0</td>\n      <td>0.0</td>\n      <td>0.0</td>\n      <td>0.0</td>\n      <td>0.0</td>\n      <td>0.0</td>\n      <td>0.0</td>\n      <td>0.0</td>\n      <td>0.0</td>\n      <td>...</td>\n      <td>0.0</td>\n      <td>0.0</td>\n      <td>0.0</td>\n      <td>0.0</td>\n      <td>0.0</td>\n      <td>0.0</td>\n      <td>0.0</td>\n      <td>0.0</td>\n      <td>0.0</td>\n      <td>0.0</td>\n    </tr>\n    <tr>\n      <th>Dale</th>\n      <th>01045</th>\n      <td>0.0</td>\n      <td>0.0</td>\n      <td>0.0</td>\n      <td>0.0</td>\n      <td>0.0</td>\n      <td>0.0</td>\n      <td>0.0</td>\n      <td>0.0</td>\n      <td>0.0</td>\n      <td>0.0</td>\n      <td>...</td>\n      <td>0.0</td>\n      <td>0.0</td>\n      <td>0.0</td>\n      <td>0.0</td>\n      <td>0.0</td>\n      <td>0.0</td>\n      <td>0.0</td>\n      <td>0.0</td>\n      <td>0.0</td>\n      <td>0.0</td>\n    </tr>\n    <tr>\n      <th>Dallas</th>\n      <th>01047</th>\n      <td>0.0</td>\n      <td>0.0</td>\n      <td>0.0</td>\n      <td>0.0</td>\n      <td>0.0</td>\n      <td>0.0</td>\n      <td>0.0</td>\n      <td>0.0</td>\n      <td>0.0</td>\n      <td>0.0</td>\n      <td>...</td>\n      <td>2.0</td>\n      <td>2.0</td>\n      <td>2.0</td>\n      <td>2.0</td>\n      <td>2.0</td>\n      <td>2.0</td>\n      <td>2.0</td>\n      <td>2.0</td>\n      <td>2.0</td>\n      <td>3.0</td>\n    </tr>\n    <tr>\n      <th>DeKalb</th>\n      <th>01049</th>\n      <td>0.0</td>\n      <td>0.0</td>\n      <td>0.0</td>\n      <td>0.0</td>\n      <td>0.0</td>\n      <td>0.0</td>\n      <td>0.0</td>\n      <td>0.0</td>\n      <td>0.0</td>\n      <td>0.0</td>\n      <td>...</td>\n      <td>2.0</td>\n      <td>2.0</td>\n      <td>2.0</td>\n      <td>2.0</td>\n      <td>2.0</td>\n      <td>2.0</td>\n      <td>2.0</td>\n      <td>2.0</td>\n      <td>2.0</td>\n      <td>2.0</td>\n    </tr>\n    <tr>\n      <th>Elmore</th>\n      <th>01051</th>\n      <td>0.0</td>\n      <td>0.0</td>\n      <td>0.0</td>\n      <td>0.0</td>\n      <td>0.0</td>\n      <td>0.0</td>\n      <td>0.0</td>\n      <td>0.0</td>\n      <td>0.0</td>\n      <td>0.0</td>\n      <td>...</td>\n      <td>1.0</td>\n      <td>1.0</td>\n      <td>1.0</td>\n      <td>1.0</td>\n      <td>1.0</td>\n      <td>1.0</td>\n      <td>1.0</td>\n      <td>1.0</td>\n      <td>1.0</td>\n      <td>1.0</td>\n    </tr>\n    <tr>\n      <th>Escambia</th>\n      <th>01053</th>\n      <td>0.0</td>\n      <td>0.0</td>\n      <td>0.0</td>\n      <td>0.0</td>\n      <td>0.0</td>\n      <td>0.0</td>\n      <td>0.0</td>\n      <td>0.0</td>\n      <td>0.0</td>\n      <td>0.0</td>\n      <td>...</td>\n      <td>0.0</td>\n      <td>0.0</td>\n      <td>0.0</td>\n      <td>1.0</td>\n      <td>1.0</td>\n      <td>1.0</td>\n      <td>1.0</td>\n      <td>1.0</td>\n      <td>1.0</td>\n      <td>1.0</td>\n    </tr>\n    <tr>\n      <th>Etowah</th>\n      <th>01055</th>\n      <td>0.0</td>\n      <td>0.0</td>\n      <td>0.0</td>\n      <td>0.0</td>\n      <td>0.0</td>\n      <td>0.0</td>\n      <td>0.0</td>\n      <td>0.0</td>\n      <td>0.0</td>\n      <td>0.0</td>\n      <td>...</td>\n      <td>7.0</td>\n      <td>7.0</td>\n      <td>7.0</td>\n      <td>8.0</td>\n      <td>8.0</td>\n      <td>8.0</td>\n      <td>8.0</td>\n      <td>8.0</td>\n      <td>8.0</td>\n      <td>8.0</td>\n    </tr>\n    <tr>\n      <th>Fayette</th>\n      <th>01057</th>\n      <td>0.0</td>\n      <td>0.0</td>\n      <td>0.0</td>\n      <td>0.0</td>\n      <td>0.0</td>\n      <td>0.0</td>\n      <td>0.0</td>\n      <td>0.0</td>\n      <td>0.0</td>\n      <td>0.0</td>\n      <td>...</td>\n      <td>0.0</td>\n      <td>0.0</td>\n      <td>0.0</td>\n      <td>0.0</td>\n      <td>0.0</td>\n      <td>0.0</td>\n      <td>0.0</td>\n      <td>0.0</td>\n      <td>0.0</td>\n      <td>0.0</td>\n    </tr>\n    <tr>\n      <th>Franklin</th>\n      <th>01059</th>\n      <td>0.0</td>\n      <td>0.0</td>\n      <td>0.0</td>\n      <td>0.0</td>\n      <td>0.0</td>\n      <td>0.0</td>\n      <td>0.0</td>\n      <td>0.0</td>\n      <td>0.0</td>\n      <td>0.0</td>\n      <td>...</td>\n      <td>0.0</td>\n      <td>0.0</td>\n      <td>0.0</td>\n      <td>0.0</td>\n      <td>0.0</td>\n      <td>0.0</td>\n      <td>0.0</td>\n      <td>0.0</td>\n      <td>0.0</td>\n      <td>0.0</td>\n    </tr>\n    <tr>\n      <th>...</th>\n      <th>...</th>\n      <th>...</th>\n      <td>...</td>\n      <td>...</td>\n      <td>...</td>\n      <td>...</td>\n      <td>...</td>\n      <td>...</td>\n      <td>...</td>\n      <td>...</td>\n      <td>...</td>\n      <td>...</td>\n      <td>...</td>\n      <td>...</td>\n      <td>...</td>\n      <td>...</td>\n      <td>...</td>\n      <td>...</td>\n      <td>...</td>\n      <td>...</td>\n      <td>...</td>\n      <td>...</td>\n      <td>...</td>\n    </tr>\n    <tr>\n      <th rowspan=\"9\" valign=\"top\">Wisconsin</th>\n      <th>Vilas</th>\n      <th>55125</th>\n      <td>0.0</td>\n      <td>0.0</td>\n      <td>0.0</td>\n      <td>0.0</td>\n      <td>0.0</td>\n      <td>0.0</td>\n      <td>0.0</td>\n      <td>0.0</td>\n      <td>0.0</td>\n      <td>0.0</td>\n      <td>...</td>\n      <td>0.0</td>\n      <td>0.0</td>\n      <td>0.0</td>\n      <td>0.0</td>\n      <td>0.0</td>\n      <td>0.0</td>\n      <td>0.0</td>\n      <td>0.0</td>\n      <td>0.0</td>\n      <td>0.0</td>\n    </tr>\n    <tr>\n      <th>Walworth</th>\n      <th>55127</th>\n      <td>0.0</td>\n      <td>0.0</td>\n      <td>0.0</td>\n      <td>0.0</td>\n      <td>0.0</td>\n      <td>0.0</td>\n      <td>0.0</td>\n      <td>0.0</td>\n      <td>0.0</td>\n      <td>0.0</td>\n      <td>...</td>\n      <td>4.0</td>\n      <td>6.0</td>\n      <td>6.0</td>\n      <td>7.0</td>\n      <td>7.0</td>\n      <td>7.0</td>\n      <td>7.0</td>\n      <td>8.0</td>\n      <td>8.0</td>\n      <td>8.0</td>\n    </tr>\n    <tr>\n      <th>Washburn</th>\n      <th>55129</th>\n      <td>0.0</td>\n      <td>0.0</td>\n      <td>0.0</td>\n      <td>0.0</td>\n      <td>0.0</td>\n      <td>0.0</td>\n      <td>0.0</td>\n      <td>0.0</td>\n      <td>0.0</td>\n      <td>0.0</td>\n      <td>...</td>\n      <td>0.0</td>\n      <td>0.0</td>\n      <td>0.0</td>\n      <td>0.0</td>\n      <td>0.0</td>\n      <td>0.0</td>\n      <td>0.0</td>\n      <td>0.0</td>\n      <td>0.0</td>\n      <td>0.0</td>\n    </tr>\n    <tr>\n      <th>Washington</th>\n      <th>55131</th>\n      <td>0.0</td>\n      <td>0.0</td>\n      <td>0.0</td>\n      <td>0.0</td>\n      <td>0.0</td>\n      <td>0.0</td>\n      <td>0.0</td>\n      <td>0.0</td>\n      <td>0.0</td>\n      <td>0.0</td>\n      <td>...</td>\n      <td>3.0</td>\n      <td>3.0</td>\n      <td>3.0</td>\n      <td>3.0</td>\n      <td>4.0</td>\n      <td>4.0</td>\n      <td>4.0</td>\n      <td>4.0</td>\n      <td>4.0</td>\n      <td>4.0</td>\n    </tr>\n    <tr>\n      <th>Waukesha</th>\n      <th>55133</th>\n      <td>0.0</td>\n      <td>0.0</td>\n      <td>0.0</td>\n      <td>0.0</td>\n      <td>0.0</td>\n      <td>0.0</td>\n      <td>0.0</td>\n      <td>0.0</td>\n      <td>0.0</td>\n      <td>0.0</td>\n      <td>...</td>\n      <td>11.0</td>\n      <td>11.0</td>\n      <td>11.0</td>\n      <td>13.0</td>\n      <td>13.0</td>\n      <td>14.0</td>\n      <td>14.0</td>\n      <td>14.0</td>\n      <td>14.0</td>\n      <td>15.0</td>\n    </tr>\n    <tr>\n      <th>Waupaca</th>\n      <th>55135</th>\n      <td>0.0</td>\n      <td>0.0</td>\n      <td>0.0</td>\n      <td>0.0</td>\n      <td>0.0</td>\n      <td>0.0</td>\n      <td>0.0</td>\n      <td>0.0</td>\n      <td>0.0</td>\n      <td>0.0</td>\n      <td>...</td>\n      <td>1.0</td>\n      <td>1.0</td>\n      <td>1.0</td>\n      <td>1.0</td>\n      <td>1.0</td>\n      <td>1.0</td>\n      <td>1.0</td>\n      <td>1.0</td>\n      <td>1.0</td>\n      <td>1.0</td>\n    </tr>\n    <tr>\n      <th>Waushara</th>\n      <th>55137</th>\n      <td>0.0</td>\n      <td>0.0</td>\n      <td>0.0</td>\n      <td>0.0</td>\n      <td>0.0</td>\n      <td>0.0</td>\n      <td>0.0</td>\n      <td>0.0</td>\n      <td>0.0</td>\n      <td>0.0</td>\n      <td>...</td>\n      <td>0.0</td>\n      <td>0.0</td>\n      <td>0.0</td>\n      <td>0.0</td>\n      <td>0.0</td>\n      <td>0.0</td>\n      <td>0.0</td>\n      <td>0.0</td>\n      <td>0.0</td>\n      <td>0.0</td>\n    </tr>\n    <tr>\n      <th>Winnebago</th>\n      <th>55139</th>\n      <td>0.0</td>\n      <td>0.0</td>\n      <td>0.0</td>\n      <td>0.0</td>\n      <td>0.0</td>\n      <td>0.0</td>\n      <td>0.0</td>\n      <td>0.0</td>\n      <td>0.0</td>\n      <td>0.0</td>\n      <td>...</td>\n      <td>1.0</td>\n      <td>1.0</td>\n      <td>1.0</td>\n      <td>1.0</td>\n      <td>1.0</td>\n      <td>1.0</td>\n      <td>1.0</td>\n      <td>1.0</td>\n      <td>1.0</td>\n      <td>1.0</td>\n    </tr>\n    <tr>\n      <th>Wood</th>\n      <th>55141</th>\n      <td>0.0</td>\n      <td>0.0</td>\n      <td>0.0</td>\n      <td>0.0</td>\n      <td>0.0</td>\n      <td>0.0</td>\n      <td>0.0</td>\n      <td>0.0</td>\n      <td>0.0</td>\n      <td>0.0</td>\n      <td>...</td>\n      <td>0.0</td>\n      <td>0.0</td>\n      <td>0.0</td>\n      <td>0.0</td>\n      <td>0.0</td>\n      <td>0.0</td>\n      <td>0.0</td>\n      <td>0.0</td>\n      <td>0.0</td>\n      <td>0.0</td>\n    </tr>\n    <tr>\n      <th rowspan=\"21\" valign=\"top\">Wyoming</th>\n      <th>Albany</th>\n      <th>56001</th>\n      <td>0.0</td>\n      <td>0.0</td>\n      <td>0.0</td>\n      <td>0.0</td>\n      <td>0.0</td>\n      <td>0.0</td>\n      <td>0.0</td>\n      <td>0.0</td>\n      <td>0.0</td>\n      <td>0.0</td>\n      <td>...</td>\n      <td>0.0</td>\n      <td>0.0</td>\n      <td>0.0</td>\n      <td>0.0</td>\n      <td>0.0</td>\n      <td>0.0</td>\n      <td>0.0</td>\n      <td>0.0</td>\n      <td>0.0</td>\n      <td>0.0</td>\n    </tr>\n    <tr>\n      <th>Big Horn</th>\n      <th>56003</th>\n      <td>0.0</td>\n      <td>0.0</td>\n      <td>0.0</td>\n      <td>0.0</td>\n      <td>0.0</td>\n      <td>0.0</td>\n      <td>0.0</td>\n      <td>0.0</td>\n      <td>0.0</td>\n      <td>0.0</td>\n      <td>...</td>\n      <td>0.0</td>\n      <td>0.0</td>\n      <td>0.0</td>\n      <td>0.0</td>\n      <td>0.0</td>\n      <td>0.0</td>\n      <td>0.0</td>\n      <td>0.0</td>\n      <td>0.0</td>\n      <td>0.0</td>\n    </tr>\n    <tr>\n      <th>Campbell</th>\n      <th>56005</th>\n      <td>0.0</td>\n      <td>0.0</td>\n      <td>0.0</td>\n      <td>0.0</td>\n      <td>0.0</td>\n      <td>0.0</td>\n      <td>0.0</td>\n      <td>0.0</td>\n      <td>0.0</td>\n      <td>0.0</td>\n      <td>...</td>\n      <td>0.0</td>\n      <td>0.0</td>\n      <td>0.0</td>\n      <td>0.0</td>\n      <td>0.0</td>\n      <td>0.0</td>\n      <td>0.0</td>\n      <td>0.0</td>\n      <td>0.0</td>\n      <td>0.0</td>\n    </tr>\n    <tr>\n      <th>Carbon</th>\n      <th>56007</th>\n      <td>0.0</td>\n      <td>0.0</td>\n      <td>0.0</td>\n      <td>0.0</td>\n      <td>0.0</td>\n      <td>0.0</td>\n      <td>0.0</td>\n      <td>0.0</td>\n      <td>0.0</td>\n      <td>0.0</td>\n      <td>...</td>\n      <td>0.0</td>\n      <td>0.0</td>\n      <td>0.0</td>\n      <td>0.0</td>\n      <td>0.0</td>\n      <td>0.0</td>\n      <td>0.0</td>\n      <td>0.0</td>\n      <td>0.0</td>\n      <td>0.0</td>\n    </tr>\n    <tr>\n      <th>Converse</th>\n      <th>56009</th>\n      <td>0.0</td>\n      <td>0.0</td>\n      <td>0.0</td>\n      <td>0.0</td>\n      <td>0.0</td>\n      <td>0.0</td>\n      <td>0.0</td>\n      <td>0.0</td>\n      <td>0.0</td>\n      <td>0.0</td>\n      <td>...</td>\n      <td>0.0</td>\n      <td>0.0</td>\n      <td>0.0</td>\n      <td>0.0</td>\n      <td>0.0</td>\n      <td>0.0</td>\n      <td>0.0</td>\n      <td>0.0</td>\n      <td>0.0</td>\n      <td>0.0</td>\n    </tr>\n    <tr>\n      <th>Crook</th>\n      <th>56011</th>\n      <td>0.0</td>\n      <td>0.0</td>\n      <td>0.0</td>\n      <td>0.0</td>\n      <td>0.0</td>\n      <td>0.0</td>\n      <td>0.0</td>\n      <td>0.0</td>\n      <td>0.0</td>\n      <td>0.0</td>\n      <td>...</td>\n      <td>0.0</td>\n      <td>0.0</td>\n      <td>0.0</td>\n      <td>0.0</td>\n      <td>0.0</td>\n      <td>0.0</td>\n      <td>0.0</td>\n      <td>0.0</td>\n      <td>0.0</td>\n      <td>0.0</td>\n    </tr>\n    <tr>\n      <th>Fremont</th>\n      <th>56013</th>\n      <td>0.0</td>\n      <td>0.0</td>\n      <td>0.0</td>\n      <td>0.0</td>\n      <td>0.0</td>\n      <td>0.0</td>\n      <td>0.0</td>\n      <td>0.0</td>\n      <td>0.0</td>\n      <td>0.0</td>\n      <td>...</td>\n      <td>0.0</td>\n      <td>0.0</td>\n      <td>0.0</td>\n      <td>4.0</td>\n      <td>4.0</td>\n      <td>4.0</td>\n      <td>4.0</td>\n      <td>4.0</td>\n      <td>4.0</td>\n      <td>4.0</td>\n    </tr>\n    <tr>\n      <th>Goshen</th>\n      <th>56015</th>\n      <td>0.0</td>\n      <td>0.0</td>\n      <td>0.0</td>\n      <td>0.0</td>\n      <td>0.0</td>\n      <td>0.0</td>\n      <td>0.0</td>\n      <td>0.0</td>\n      <td>0.0</td>\n      <td>0.0</td>\n      <td>...</td>\n      <td>0.0</td>\n      <td>0.0</td>\n      <td>0.0</td>\n      <td>0.0</td>\n      <td>0.0</td>\n      <td>0.0</td>\n      <td>0.0</td>\n      <td>0.0</td>\n      <td>0.0</td>\n      <td>0.0</td>\n    </tr>\n    <tr>\n      <th>Hot Springs</th>\n      <th>56017</th>\n      <td>0.0</td>\n      <td>0.0</td>\n      <td>0.0</td>\n      <td>0.0</td>\n      <td>0.0</td>\n      <td>0.0</td>\n      <td>0.0</td>\n      <td>0.0</td>\n      <td>0.0</td>\n      <td>0.0</td>\n      <td>...</td>\n      <td>0.0</td>\n      <td>0.0</td>\n      <td>0.0</td>\n      <td>0.0</td>\n      <td>0.0</td>\n      <td>0.0</td>\n      <td>0.0</td>\n      <td>0.0</td>\n      <td>0.0</td>\n      <td>0.0</td>\n    </tr>\n    <tr>\n      <th>Johnson</th>\n      <th>56019</th>\n      <td>0.0</td>\n      <td>0.0</td>\n      <td>0.0</td>\n      <td>0.0</td>\n      <td>0.0</td>\n      <td>0.0</td>\n      <td>0.0</td>\n      <td>0.0</td>\n      <td>0.0</td>\n      <td>0.0</td>\n      <td>...</td>\n      <td>1.0</td>\n      <td>1.0</td>\n      <td>1.0</td>\n      <td>1.0</td>\n      <td>1.0</td>\n      <td>1.0</td>\n      <td>1.0</td>\n      <td>1.0</td>\n      <td>1.0</td>\n      <td>1.0</td>\n    </tr>\n    <tr>\n      <th>Laramie</th>\n      <th>56021</th>\n      <td>0.0</td>\n      <td>0.0</td>\n      <td>0.0</td>\n      <td>0.0</td>\n      <td>0.0</td>\n      <td>0.0</td>\n      <td>0.0</td>\n      <td>0.0</td>\n      <td>0.0</td>\n      <td>0.0</td>\n      <td>...</td>\n      <td>1.0</td>\n      <td>1.0</td>\n      <td>1.0</td>\n      <td>1.0</td>\n      <td>1.0</td>\n      <td>1.0</td>\n      <td>1.0</td>\n      <td>1.0</td>\n      <td>1.0</td>\n      <td>1.0</td>\n    </tr>\n    <tr>\n      <th>Lincoln</th>\n      <th>56023</th>\n      <td>0.0</td>\n      <td>0.0</td>\n      <td>0.0</td>\n      <td>0.0</td>\n      <td>0.0</td>\n      <td>0.0</td>\n      <td>0.0</td>\n      <td>0.0</td>\n      <td>0.0</td>\n      <td>0.0</td>\n      <td>...</td>\n      <td>0.0</td>\n      <td>0.0</td>\n      <td>0.0</td>\n      <td>0.0</td>\n      <td>0.0</td>\n      <td>0.0</td>\n      <td>0.0</td>\n      <td>0.0</td>\n      <td>0.0</td>\n      <td>0.0</td>\n    </tr>\n    <tr>\n      <th>Natrona</th>\n      <th>56025</th>\n      <td>0.0</td>\n      <td>0.0</td>\n      <td>0.0</td>\n      <td>0.0</td>\n      <td>0.0</td>\n      <td>0.0</td>\n      <td>0.0</td>\n      <td>0.0</td>\n      <td>0.0</td>\n      <td>0.0</td>\n      <td>...</td>\n      <td>0.0</td>\n      <td>0.0</td>\n      <td>0.0</td>\n      <td>0.0</td>\n      <td>0.0</td>\n      <td>0.0</td>\n      <td>0.0</td>\n      <td>0.0</td>\n      <td>0.0</td>\n      <td>0.0</td>\n    </tr>\n    <tr>\n      <th>Niobrara</th>\n      <th>56027</th>\n      <td>0.0</td>\n      <td>0.0</td>\n      <td>0.0</td>\n      <td>0.0</td>\n      <td>0.0</td>\n      <td>0.0</td>\n      <td>0.0</td>\n      <td>0.0</td>\n      <td>0.0</td>\n      <td>0.0</td>\n      <td>...</td>\n      <td>0.0</td>\n      <td>0.0</td>\n      <td>0.0</td>\n      <td>0.0</td>\n      <td>0.0</td>\n      <td>0.0</td>\n      <td>0.0</td>\n      <td>0.0</td>\n      <td>0.0</td>\n      <td>0.0</td>\n    </tr>\n    <tr>\n      <th>Park</th>\n      <th>56029</th>\n      <td>0.0</td>\n      <td>0.0</td>\n      <td>0.0</td>\n      <td>0.0</td>\n      <td>0.0</td>\n      <td>0.0</td>\n      <td>0.0</td>\n      <td>0.0</td>\n      <td>0.0</td>\n      <td>0.0</td>\n      <td>...</td>\n      <td>0.0</td>\n      <td>0.0</td>\n      <td>0.0</td>\n      <td>0.0</td>\n      <td>0.0</td>\n      <td>0.0</td>\n      <td>0.0</td>\n      <td>0.0</td>\n      <td>0.0</td>\n      <td>0.0</td>\n    </tr>\n    <tr>\n      <th>Sheridan</th>\n      <th>56033</th>\n      <td>0.0</td>\n      <td>0.0</td>\n      <td>0.0</td>\n      <td>0.0</td>\n      <td>0.0</td>\n      <td>0.0</td>\n      <td>0.0</td>\n      <td>0.0</td>\n      <td>0.0</td>\n      <td>0.0</td>\n      <td>...</td>\n      <td>0.0</td>\n      <td>0.0</td>\n      <td>0.0</td>\n      <td>0.0</td>\n      <td>0.0</td>\n      <td>0.0</td>\n      <td>0.0</td>\n      <td>0.0</td>\n      <td>0.0</td>\n      <td>0.0</td>\n    </tr>\n    <tr>\n      <th>Sublette</th>\n      <th>56035</th>\n      <td>0.0</td>\n      <td>0.0</td>\n      <td>0.0</td>\n      <td>0.0</td>\n      <td>0.0</td>\n      <td>0.0</td>\n      <td>0.0</td>\n      <td>0.0</td>\n      <td>0.0</td>\n      <td>0.0</td>\n      <td>...</td>\n      <td>0.0</td>\n      <td>0.0</td>\n      <td>0.0</td>\n      <td>0.0</td>\n      <td>0.0</td>\n      <td>0.0</td>\n      <td>0.0</td>\n      <td>0.0</td>\n      <td>0.0</td>\n      <td>0.0</td>\n    </tr>\n    <tr>\n      <th>Sweetwater</th>\n      <th>56037</th>\n      <td>0.0</td>\n      <td>0.0</td>\n      <td>0.0</td>\n      <td>0.0</td>\n      <td>0.0</td>\n      <td>0.0</td>\n      <td>0.0</td>\n      <td>0.0</td>\n      <td>0.0</td>\n      <td>0.0</td>\n      <td>...</td>\n      <td>0.0</td>\n      <td>0.0</td>\n      <td>0.0</td>\n      <td>0.0</td>\n      <td>0.0</td>\n      <td>0.0</td>\n      <td>0.0</td>\n      <td>0.0</td>\n      <td>0.0</td>\n      <td>0.0</td>\n    </tr>\n    <tr>\n      <th>Teton</th>\n      <th>56039</th>\n      <td>0.0</td>\n      <td>0.0</td>\n      <td>0.0</td>\n      <td>0.0</td>\n      <td>0.0</td>\n      <td>0.0</td>\n      <td>0.0</td>\n      <td>0.0</td>\n      <td>0.0</td>\n      <td>0.0</td>\n      <td>...</td>\n      <td>0.0</td>\n      <td>0.0</td>\n      <td>0.0</td>\n      <td>0.0</td>\n      <td>0.0</td>\n      <td>1.0</td>\n      <td>1.0</td>\n      <td>1.0</td>\n      <td>1.0</td>\n      <td>1.0</td>\n    </tr>\n    <tr>\n      <th>Uinta</th>\n      <th>56041</th>\n      <td>0.0</td>\n      <td>0.0</td>\n      <td>0.0</td>\n      <td>0.0</td>\n      <td>0.0</td>\n      <td>0.0</td>\n      <td>0.0</td>\n      <td>0.0</td>\n      <td>0.0</td>\n      <td>0.0</td>\n      <td>...</td>\n      <td>0.0</td>\n      <td>0.0</td>\n      <td>0.0</td>\n      <td>0.0</td>\n      <td>0.0</td>\n      <td>0.0</td>\n      <td>0.0</td>\n      <td>0.0</td>\n      <td>0.0</td>\n      <td>0.0</td>\n    </tr>\n    <tr>\n      <th>Washakie</th>\n      <th>56043</th>\n      <td>0.0</td>\n      <td>0.0</td>\n      <td>0.0</td>\n      <td>0.0</td>\n      <td>0.0</td>\n      <td>0.0</td>\n      <td>0.0</td>\n      <td>0.0</td>\n      <td>0.0</td>\n      <td>0.0</td>\n      <td>...</td>\n      <td>0.0</td>\n      <td>0.0</td>\n      <td>0.0</td>\n      <td>0.0</td>\n      <td>0.0</td>\n      <td>0.0</td>\n      <td>0.0</td>\n      <td>0.0</td>\n      <td>0.0</td>\n      <td>0.0</td>\n    </tr>\n  </tbody>\n</table>\n<p>2865 rows × 196 columns</p>\n</div>"
     },
     "metadata": {},
     "output_type": "execute_result",
     "execution_count": 4
    }
   ],
   "source": [
    "pivot_counties = pd.pivot_table(df_counties_original , index=['state','county','fips'],\n",
    "                       columns=['date'])\n",
    "pivot_counties = pivot_counties.replace(np.nan, 0)\n",
    "pivot_counties"
   ]
  },
  {
   "cell_type": "markdown",
   "metadata": {},
   "source": [
    "0.3 Get Date Info"
   ]
  },
  {
   "cell_type": "code",
   "execution_count": 5,
   "metadata": {
    "pycharm": {
     "is_executing": false,
     "name": "#%%\n"
    }
   },
   "outputs": [
    {
     "data": {
      "text/plain": "Index(['2020-01-21', '2020-01-22', '2020-01-23', '2020-01-24', '2020-01-25',\n       '2020-01-26', '2020-01-27', '2020-01-28', '2020-01-29', '2020-01-30',\n       '2020-01-31', '2020-02-01', '2020-02-02', '2020-02-03', '2020-02-04',\n       '2020-02-05', '2020-02-06', '2020-02-07', '2020-02-08', '2020-02-09',\n       '2020-02-10', '2020-02-11', '2020-02-12', '2020-02-13', '2020-02-14',\n       '2020-02-15', '2020-02-16', '2020-02-17', '2020-02-18', '2020-02-19',\n       '2020-02-20', '2020-02-21', '2020-02-22', '2020-02-23', '2020-02-24',\n       '2020-02-25', '2020-02-26', '2020-02-27', '2020-02-28', '2020-02-29',\n       '2020-03-01', '2020-03-02', '2020-03-03', '2020-03-04', '2020-03-05',\n       '2020-03-06', '2020-03-07', '2020-03-08', '2020-03-09', '2020-03-10',\n       '2020-03-11', '2020-03-12', '2020-03-13', '2020-03-14', '2020-03-15',\n       '2020-03-16', '2020-03-17', '2020-03-18', '2020-03-19', '2020-03-20',\n       '2020-03-21', '2020-03-22', '2020-03-23', '2020-03-24', '2020-03-25',\n       '2020-03-26', '2020-03-27', '2020-03-28', '2020-03-29', '2020-03-30',\n       '2020-03-31', '2020-04-01', '2020-04-02', '2020-04-03', '2020-04-04',\n       '2020-04-05', '2020-04-06', '2020-04-07', '2020-04-08', '2020-04-09',\n       '2020-04-10', '2020-04-11', '2020-04-12', '2020-04-13', '2020-04-14',\n       '2020-04-15', '2020-04-16', '2020-04-17', '2020-04-18', '2020-04-19',\n       '2020-04-20', '2020-04-21', '2020-04-22', '2020-04-23', '2020-04-24',\n       '2020-04-25', '2020-04-26', '2020-04-27'],\n      dtype='object', name='date')"
     },
     "metadata": {},
     "output_type": "execute_result",
     "execution_count": 5
    }
   ],
   "source": [
    "date= pivot_counties['cases'].columns\n",
    "date"
   ]
  },
  {
   "cell_type": "code",
   "execution_count": 6,
   "metadata": {
    "pycharm": {
     "is_executing": false,
     "name": "#%%\n"
    }
   },
   "outputs": [],
   "source": [
    "date_str = np.sort(date)\n",
    "dt_str_start=np.min(date_str)\n",
    "dt_str_end=np.max(date_str)"
   ]
  },
  {
   "cell_type": "code",
   "execution_count": 7,
   "metadata": {
    "pycharm": {
     "is_executing": false,
     "name": "#%%\n"
    }
   },
   "outputs": [
    {
     "name": "stdout",
     "text": [
      "98 DatetimeIndex(['2020-01-21', '2020-01-22', '2020-01-23', '2020-01-24',\n               '2020-01-25', '2020-01-26', '2020-01-27', '2020-01-28',\n               '2020-01-29', '2020-01-30', '2020-01-31', '2020-02-01',\n               '2020-02-02', '2020-02-03', '2020-02-04', '2020-02-05',\n               '2020-02-06', '2020-02-07', '2020-02-08', '2020-02-09',\n               '2020-02-10', '2020-02-11', '2020-02-12', '2020-02-13',\n               '2020-02-14', '2020-02-15', '2020-02-16', '2020-02-17',\n               '2020-02-18', '2020-02-19', '2020-02-20', '2020-02-21',\n               '2020-02-22', '2020-02-23', '2020-02-24', '2020-02-25',\n               '2020-02-26', '2020-02-27', '2020-02-28', '2020-02-29',\n               '2020-03-01', '2020-03-02', '2020-03-03', '2020-03-04',\n               '2020-03-05', '2020-03-06', '2020-03-07', '2020-03-08',\n               '2020-03-09', '2020-03-10', '2020-03-11', '2020-03-12',\n               '2020-03-13', '2020-03-14', '2020-03-15', '2020-03-16',\n               '2020-03-17', '2020-03-18', '2020-03-19', '2020-03-20',\n               '2020-03-21', '2020-03-22', '2020-03-23', '2020-03-24',\n               '2020-03-25', '2020-03-26', '2020-03-27', '2020-03-28',\n               '2020-03-29', '2020-03-30', '2020-03-31', '2020-04-01',\n               '2020-04-02', '2020-04-03', '2020-04-04', '2020-04-05',\n               '2020-04-06', '2020-04-07', '2020-04-08', '2020-04-09',\n               '2020-04-10', '2020-04-11', '2020-04-12', '2020-04-13',\n               '2020-04-14', '2020-04-15', '2020-04-16', '2020-04-17',\n               '2020-04-18', '2020-04-19', '2020-04-20', '2020-04-21',\n               '2020-04-22', '2020-04-23', '2020-04-24', '2020-04-25',\n               '2020-04-26', '2020-04-27'],\n              dtype='datetime64[ns]', freq='D')\n98 ['2020-01-21', '2020-01-22', '2020-01-23', '2020-01-24', '2020-01-25', '2020-01-26', '2020-01-27', '2020-01-28', '2020-01-29', '2020-01-30', '2020-01-31', '2020-02-01', '2020-02-02', '2020-02-03', '2020-02-04', '2020-02-05', '2020-02-06', '2020-02-07', '2020-02-08', '2020-02-09', '2020-02-10', '2020-02-11', '2020-02-12', '2020-02-13', '2020-02-14', '2020-02-15', '2020-02-16', '2020-02-17', '2020-02-18', '2020-02-19', '2020-02-20', '2020-02-21', '2020-02-22', '2020-02-23', '2020-02-24', '2020-02-25', '2020-02-26', '2020-02-27', '2020-02-28', '2020-02-29', '2020-03-01', '2020-03-02', '2020-03-03', '2020-03-04', '2020-03-05', '2020-03-06', '2020-03-07', '2020-03-08', '2020-03-09', '2020-03-10', '2020-03-11', '2020-03-12', '2020-03-13', '2020-03-14', '2020-03-15', '2020-03-16', '2020-03-17', '2020-03-18', '2020-03-19', '2020-03-20', '2020-03-21', '2020-03-22', '2020-03-23', '2020-03-24', '2020-03-25', '2020-03-26', '2020-03-27', '2020-03-28', '2020-03-29', '2020-03-30', '2020-03-31', '2020-04-01', '2020-04-02', '2020-04-03', '2020-04-04', '2020-04-05', '2020-04-06', '2020-04-07', '2020-04-08', '2020-04-09', '2020-04-10', '2020-04-11', '2020-04-12', '2020-04-13', '2020-04-14', '2020-04-15', '2020-04-16', '2020-04-17', '2020-04-18', '2020-04-19', '2020-04-20', '2020-04-21', '2020-04-22', '2020-04-23', '2020-04-24', '2020-04-25', '2020-04-26', '2020-04-27']\n"
     ],
     "output_type": "stream"
    }
   ],
   "source": [
    "dt_start = datetime.strptime(dt_str_start, \"%Y-%m-%d\")\n",
    "dt_end = datetime.strptime(dt_str_end, \"%Y-%m-%d\")\n",
    "dt_range = pd.date_range(start=dt_start,end=dt_end)\n",
    "print(len(dt_range), dt_range)\n",
    "dt_range_str = list(map(lambda x: x.strftime(\"%Y-%m-%d\"), dt_range.tolist()))\n",
    "print(len(dt_range_str), dt_range_str)"
   ]
  },
  {
   "cell_type": "markdown",
   "metadata": {
    "pycharm": {
     "name": "#%% md\n"
    }
   },
   "source": [
    "Step1:  \n",
    "Add Cases Time Series, First Case Date, Death Time Series, First Death Date"
   ]
  },
  {
   "cell_type": "code",
   "execution_count": 8,
   "metadata": {
    "pycharm": {
     "is_executing": false,
     "name": "#%%\n"
    }
   },
   "outputs": [],
   "source": [
    "# import json\n",
    "# pivot_counties['cases_ts'] = json.dumps({\"values\": pivot_counties['cases'].values.tolist()[0]})\n",
    "# pivot_counties['deaths_ts'] =  json.dumps({\"values\": pivot_counties['deaths'].values.tolist()[0]})\n",
    "\n",
    "pivot_counties['cases_ts'] =  pivot_counties['cases'].values.tolist()\n",
    "pivot_counties['deaths_ts'] =  pivot_counties['deaths'].values.tolist()"
   ]
  },
  {
   "cell_type": "markdown",
   "source": [
    "Form Dynamic classes for new_case and new_death "
   ],
   "metadata": {
    "collapsed": false,
    "pycharm": {
     "name": "#%% md\n"
    }
   }
  },
  {
   "cell_type": "code",
   "execution_count": 9,
   "outputs": [
    {
     "name": "stderr",
     "text": [
      "C:\\Users\\Jason\\Anaconda3\\lib\\site-packages\\mapclassify\\classifiers.py:237: UserWarning: Warning: Not enough unique values in array to form k classes\n  \"Warning: Not enough unique values in array to form k classes\", UserWarning\nC:\\Users\\Jason\\Anaconda3\\lib\\site-packages\\mapclassify\\classifiers.py:239: UserWarning: Warning: setting k to 1\n  Warn(\"Warning: setting k to %d\" % k_q, UserWarning)\nC:\\Users\\Jason\\Anaconda3\\lib\\site-packages\\mapclassify\\classifiers.py:890: RuntimeWarning: invalid value encountered in double_scalars\n  gadf = 1 - self.adcm / adam\nC:\\Users\\Jason\\Anaconda3\\lib\\site-packages\\mapclassify\\classifiers.py:239: UserWarning: Warning: setting k to 2\n  Warn(\"Warning: setting k to %d\" % k_q, UserWarning)\n",
      "C:\\Users\\Jason\\Anaconda3\\lib\\site-packages\\mapclassify\\classifiers.py:239: UserWarning: Warning: setting k to 3\n  Warn(\"Warning: setting k to %d\" % k_q, UserWarning)\nC:\\Users\\Jason\\Anaconda3\\lib\\site-packages\\mapclassify\\classifiers.py:239: UserWarning: Warning: setting k to 4\n  Warn(\"Warning: setting k to %d\" % k_q, UserWarning)\n"
     ],
     "output_type": "stream"
    }
   ],
   "source": [
    "new_case_dict = {}\n",
    "for i in range(1,len(date)):\n",
    "    q6 = mc.Quantiles(pivot_counties['cases_ts'].apply(lambda x: x[i] - x[i - 1]).values, k=6)\n",
    "    new_case_dict[i] = ','.join(q6.bins.astype(int).astype(str))"
   ],
   "metadata": {
    "collapsed": false,
    "pycharm": {
     "name": "#%%\n",
     "is_executing": false
    }
   }
  },
  {
   "cell_type": "code",
   "execution_count": 10,
   "outputs": [],
   "source": [
    "dynamic_cl_dict = {}\n",
    "dynamic_cl_dict['county'] = {'new_case':new_case_dict, 'new_death':{}}\n",
    "dynamic_cl_dict['state'] = {}"
   ],
   "metadata": {
    "collapsed": false,
    "pycharm": {
     "name": "#%%\n",
     "is_executing": false
    }
   }
  },
  {
   "cell_type": "code",
   "execution_count": 11,
   "outputs": [],
   "source": [
    "import json\n",
    "with open('dynamic_classes.json','w') as json_file:\n",
    "    json.dump(dynamic_cl_dict, json_file)"
   ],
   "metadata": {
    "collapsed": false,
    "pycharm": {
     "name": "#%%\n",
     "is_executing": false
    }
   }
  },
  {
   "cell_type": "code",
   "execution_count": 12,
   "outputs": [
    {
     "data": {
      "text/plain": "                           cases                                              \\\ndate                  2020-01-21 2020-01-22 2020-01-23 2020-01-24 2020-01-25   \nstate   county  fips                                                           \nAlabama Autauga 01001        0.0        0.0        0.0        0.0        0.0   \n        Baldwin 01003        0.0        0.0        0.0        0.0        0.0   \n        Barbour 01005        0.0        0.0        0.0        0.0        0.0   \n        Bibb    01007        0.0        0.0        0.0        0.0        0.0   \n        Blount  01009        0.0        0.0        0.0        0.0        0.0   \n\n                                                                              \\\ndate                  2020-01-26 2020-01-27 2020-01-28 2020-01-29 2020-01-30   \nstate   county  fips                                                           \nAlabama Autauga 01001        0.0        0.0        0.0        0.0        0.0   \n        Baldwin 01003        0.0        0.0        0.0        0.0        0.0   \n        Barbour 01005        0.0        0.0        0.0        0.0        0.0   \n        Bibb    01007        0.0        0.0        0.0        0.0        0.0   \n        Blount  01009        0.0        0.0        0.0        0.0        0.0   \n\n                       ...     deaths                                   \\\ndate                   ... 2020-04-22 2020-04-23 2020-04-24 2020-04-25   \nstate   county  fips   ...                                               \nAlabama Autauga 01001  ...        2.0        2.0        2.0        2.0   \n        Baldwin 01003  ...        3.0        3.0        3.0        3.0   \n        Barbour 01005  ...        0.0        0.0        0.0        0.0   \n        Bibb    01007  ...        0.0        0.0        0.0        0.0   \n        Blount  01009  ...        0.0        0.0        0.0        0.0   \n\n                                             \\\ndate                  2020-04-26 2020-04-27   \nstate   county  fips                          \nAlabama Autauga 01001        2.0        3.0   \n        Baldwin 01003        3.0        3.0   \n        Barbour 01005        0.0        0.0   \n        Bibb    01007        0.0        0.0   \n        Blount  01009        0.0        0.0   \n\n                                                                cases_ts  \\\ndate                                                                       \nstate   county  fips                                                       \nAlabama Autauga 01001  [0.0, 0.0, 0.0, 0.0, 0.0, 0.0, 0.0, 0.0, 0.0, ...   \n        Baldwin 01003  [0.0, 0.0, 0.0, 0.0, 0.0, 0.0, 0.0, 0.0, 0.0, ...   \n        Barbour 01005  [0.0, 0.0, 0.0, 0.0, 0.0, 0.0, 0.0, 0.0, 0.0, ...   \n        Bibb    01007  [0.0, 0.0, 0.0, 0.0, 0.0, 0.0, 0.0, 0.0, 0.0, ...   \n        Blount  01009  [0.0, 0.0, 0.0, 0.0, 0.0, 0.0, 0.0, 0.0, 0.0, ...   \n\n                                                               deaths_ts  \\\ndate                                                                       \nstate   county  fips                                                       \nAlabama Autauga 01001  [0.0, 0.0, 0.0, 0.0, 0.0, 0.0, 0.0, 0.0, 0.0, ...   \n        Baldwin 01003  [0.0, 0.0, 0.0, 0.0, 0.0, 0.0, 0.0, 0.0, 0.0, ...   \n        Barbour 01005  [0.0, 0.0, 0.0, 0.0, 0.0, 0.0, 0.0, 0.0, 0.0, ...   \n        Bibb    01007  [0.0, 0.0, 0.0, 0.0, 0.0, 0.0, 0.0, 0.0, 0.0, ...   \n        Blount  01009  [0.0, 0.0, 0.0, 0.0, 0.0, 0.0, 0.0, 0.0, 0.0, ...   \n\n                      dt_first_case dt_first_death  \ndate                                                \nstate   county  fips                                \nAlabama Autauga 01001    2020-03-24     2020-04-06  \n        Baldwin 01003    2020-03-14     2020-04-01  \n        Barbour 01005    2020-04-03            NaN  \n        Bibb    01007    2020-03-30            NaN  \n        Blount  01009    2020-03-25            NaN  \n\n[5 rows x 200 columns]",
      "text/html": "<div>\n<style scoped>\n    .dataframe tbody tr th:only-of-type {\n        vertical-align: middle;\n    }\n\n    .dataframe tbody tr th {\n        vertical-align: top;\n    }\n\n    .dataframe thead tr th {\n        text-align: left;\n    }\n\n    .dataframe thead tr:last-of-type th {\n        text-align: right;\n    }\n</style>\n<table border=\"1\" class=\"dataframe\">\n  <thead>\n    <tr>\n      <th></th>\n      <th></th>\n      <th></th>\n      <th colspan=\"10\" halign=\"left\">cases</th>\n      <th>...</th>\n      <th colspan=\"6\" halign=\"left\">deaths</th>\n      <th>cases_ts</th>\n      <th>deaths_ts</th>\n      <th>dt_first_case</th>\n      <th>dt_first_death</th>\n    </tr>\n    <tr>\n      <th></th>\n      <th></th>\n      <th>date</th>\n      <th>2020-01-21</th>\n      <th>2020-01-22</th>\n      <th>2020-01-23</th>\n      <th>2020-01-24</th>\n      <th>2020-01-25</th>\n      <th>2020-01-26</th>\n      <th>2020-01-27</th>\n      <th>2020-01-28</th>\n      <th>2020-01-29</th>\n      <th>2020-01-30</th>\n      <th>...</th>\n      <th>2020-04-22</th>\n      <th>2020-04-23</th>\n      <th>2020-04-24</th>\n      <th>2020-04-25</th>\n      <th>2020-04-26</th>\n      <th>2020-04-27</th>\n      <th></th>\n      <th></th>\n      <th></th>\n      <th></th>\n    </tr>\n    <tr>\n      <th>state</th>\n      <th>county</th>\n      <th>fips</th>\n      <th></th>\n      <th></th>\n      <th></th>\n      <th></th>\n      <th></th>\n      <th></th>\n      <th></th>\n      <th></th>\n      <th></th>\n      <th></th>\n      <th></th>\n      <th></th>\n      <th></th>\n      <th></th>\n      <th></th>\n      <th></th>\n      <th></th>\n      <th></th>\n      <th></th>\n      <th></th>\n      <th></th>\n    </tr>\n  </thead>\n  <tbody>\n    <tr>\n      <th rowspan=\"5\" valign=\"top\">Alabama</th>\n      <th>Autauga</th>\n      <th>01001</th>\n      <td>0.0</td>\n      <td>0.0</td>\n      <td>0.0</td>\n      <td>0.0</td>\n      <td>0.0</td>\n      <td>0.0</td>\n      <td>0.0</td>\n      <td>0.0</td>\n      <td>0.0</td>\n      <td>0.0</td>\n      <td>...</td>\n      <td>2.0</td>\n      <td>2.0</td>\n      <td>2.0</td>\n      <td>2.0</td>\n      <td>2.0</td>\n      <td>3.0</td>\n      <td>[0.0, 0.0, 0.0, 0.0, 0.0, 0.0, 0.0, 0.0, 0.0, ...</td>\n      <td>[0.0, 0.0, 0.0, 0.0, 0.0, 0.0, 0.0, 0.0, 0.0, ...</td>\n      <td>2020-03-24</td>\n      <td>2020-04-06</td>\n    </tr>\n    <tr>\n      <th>Baldwin</th>\n      <th>01003</th>\n      <td>0.0</td>\n      <td>0.0</td>\n      <td>0.0</td>\n      <td>0.0</td>\n      <td>0.0</td>\n      <td>0.0</td>\n      <td>0.0</td>\n      <td>0.0</td>\n      <td>0.0</td>\n      <td>0.0</td>\n      <td>...</td>\n      <td>3.0</td>\n      <td>3.0</td>\n      <td>3.0</td>\n      <td>3.0</td>\n      <td>3.0</td>\n      <td>3.0</td>\n      <td>[0.0, 0.0, 0.0, 0.0, 0.0, 0.0, 0.0, 0.0, 0.0, ...</td>\n      <td>[0.0, 0.0, 0.0, 0.0, 0.0, 0.0, 0.0, 0.0, 0.0, ...</td>\n      <td>2020-03-14</td>\n      <td>2020-04-01</td>\n    </tr>\n    <tr>\n      <th>Barbour</th>\n      <th>01005</th>\n      <td>0.0</td>\n      <td>0.0</td>\n      <td>0.0</td>\n      <td>0.0</td>\n      <td>0.0</td>\n      <td>0.0</td>\n      <td>0.0</td>\n      <td>0.0</td>\n      <td>0.0</td>\n      <td>0.0</td>\n      <td>...</td>\n      <td>0.0</td>\n      <td>0.0</td>\n      <td>0.0</td>\n      <td>0.0</td>\n      <td>0.0</td>\n      <td>0.0</td>\n      <td>[0.0, 0.0, 0.0, 0.0, 0.0, 0.0, 0.0, 0.0, 0.0, ...</td>\n      <td>[0.0, 0.0, 0.0, 0.0, 0.0, 0.0, 0.0, 0.0, 0.0, ...</td>\n      <td>2020-04-03</td>\n      <td>NaN</td>\n    </tr>\n    <tr>\n      <th>Bibb</th>\n      <th>01007</th>\n      <td>0.0</td>\n      <td>0.0</td>\n      <td>0.0</td>\n      <td>0.0</td>\n      <td>0.0</td>\n      <td>0.0</td>\n      <td>0.0</td>\n      <td>0.0</td>\n      <td>0.0</td>\n      <td>0.0</td>\n      <td>...</td>\n      <td>0.0</td>\n      <td>0.0</td>\n      <td>0.0</td>\n      <td>0.0</td>\n      <td>0.0</td>\n      <td>0.0</td>\n      <td>[0.0, 0.0, 0.0, 0.0, 0.0, 0.0, 0.0, 0.0, 0.0, ...</td>\n      <td>[0.0, 0.0, 0.0, 0.0, 0.0, 0.0, 0.0, 0.0, 0.0, ...</td>\n      <td>2020-03-30</td>\n      <td>NaN</td>\n    </tr>\n    <tr>\n      <th>Blount</th>\n      <th>01009</th>\n      <td>0.0</td>\n      <td>0.0</td>\n      <td>0.0</td>\n      <td>0.0</td>\n      <td>0.0</td>\n      <td>0.0</td>\n      <td>0.0</td>\n      <td>0.0</td>\n      <td>0.0</td>\n      <td>0.0</td>\n      <td>...</td>\n      <td>0.0</td>\n      <td>0.0</td>\n      <td>0.0</td>\n      <td>0.0</td>\n      <td>0.0</td>\n      <td>0.0</td>\n      <td>[0.0, 0.0, 0.0, 0.0, 0.0, 0.0, 0.0, 0.0, 0.0, ...</td>\n      <td>[0.0, 0.0, 0.0, 0.0, 0.0, 0.0, 0.0, 0.0, 0.0, ...</td>\n      <td>2020-03-25</td>\n      <td>NaN</td>\n    </tr>\n  </tbody>\n</table>\n<p>5 rows × 200 columns</p>\n</div>"
     },
     "metadata": {},
     "output_type": "execute_result",
     "execution_count": 12
    }
   ],
   "source": [
    "pivot_counties['dt_first_case'] = (pivot_counties['cases'] > 0).idxmax(axis=1)\n",
    "pivot_counties['dt_first_death'] = (pivot_counties['deaths'] > 0).idxmax(axis=1)\n",
    "#For death reports, deal with no deaths counties\n",
    "pivot_counties.loc[pivot_counties['deaths'].iloc[:, -1] <= 0, 'dt_first_death'] = np.nan\n",
    "pivot_counties.head(5)"
   ],
   "metadata": {
    "collapsed": false,
    "pycharm": {
     "name": "#%%\n",
     "is_executing": false
    }
   }
  },
  {
   "cell_type": "markdown",
   "source": [
    "Step2:  \n",
    "Add today_case, today_new_case, today_death, today_new_death"
   ],
   "metadata": {
    "collapsed": false,
    "pycharm": {
     "name": "#%% md\n"
    }
   }
  },
  {
   "cell_type": "code",
   "execution_count": 13,
   "outputs": [],
   "source": [
    "yesterday = date.values[-2]\n",
    "pivot_counties['today_case'] = pivot_counties['cases'][dt_str_end]\n",
    "pivot_counties['today_new_case'] = pivot_counties['cases'][dt_str_end] - pivot_counties['cases'][yesterday]\n",
    "pivot_counties['today_death'] = pivot_counties['deaths'][dt_str_end]\n",
    "pivot_counties['today_new_death'] = pivot_counties['deaths'][dt_str_end] - pivot_counties['deaths'][yesterday]"
   ],
   "metadata": {
    "collapsed": false,
    "pycharm": {
     "name": "#%%\n",
     "is_executing": false
    }
   }
  },
  {
   "cell_type": "markdown",
   "source": [
    "Step3:  \n",
    "Extract necessary columns"
   ],
   "metadata": {
    "collapsed": false,
    "pycharm": {
     "name": "#%% md\n"
    }
   }
  },
  {
   "cell_type": "code",
   "execution_count": 14,
   "outputs": [
    {
     "data": {
      "text/plain": "     state   county   fips                                           cases_ts  \\\n0  Alabama  Autauga  01001  [0.0, 0.0, 0.0, 0.0, 0.0, 0.0, 0.0, 0.0, 0.0, ...   \n1  Alabama  Baldwin  01003  [0.0, 0.0, 0.0, 0.0, 0.0, 0.0, 0.0, 0.0, 0.0, ...   \n2  Alabama  Barbour  01005  [0.0, 0.0, 0.0, 0.0, 0.0, 0.0, 0.0, 0.0, 0.0, ...   \n3  Alabama     Bibb  01007  [0.0, 0.0, 0.0, 0.0, 0.0, 0.0, 0.0, 0.0, 0.0, ...   \n4  Alabama   Blount  01009  [0.0, 0.0, 0.0, 0.0, 0.0, 0.0, 0.0, 0.0, 0.0, ...   \n\n                                           deaths_ts dt_first_case  \\\n0  [0.0, 0.0, 0.0, 0.0, 0.0, 0.0, 0.0, 0.0, 0.0, ...    2020-03-24   \n1  [0.0, 0.0, 0.0, 0.0, 0.0, 0.0, 0.0, 0.0, 0.0, ...    2020-03-14   \n2  [0.0, 0.0, 0.0, 0.0, 0.0, 0.0, 0.0, 0.0, 0.0, ...    2020-04-03   \n3  [0.0, 0.0, 0.0, 0.0, 0.0, 0.0, 0.0, 0.0, 0.0, ...    2020-03-30   \n4  [0.0, 0.0, 0.0, 0.0, 0.0, 0.0, 0.0, 0.0, 0.0, ...    2020-03-25   \n\n  dt_first_death  today_case  today_new_case  today_death  today_new_death  \n0     2020-04-06        39.0             2.0          3.0              1.0  \n1     2020-04-01       168.0             7.0          3.0              0.0  \n2            NaN        35.0             2.0          0.0              0.0  \n3            NaN        42.0             4.0          0.0              0.0  \n4            NaN        34.0             0.0          0.0              0.0  ",
      "text/html": "<div>\n<style scoped>\n    .dataframe tbody tr th:only-of-type {\n        vertical-align: middle;\n    }\n\n    .dataframe tbody tr th {\n        vertical-align: top;\n    }\n\n    .dataframe thead th {\n        text-align: right;\n    }\n</style>\n<table border=\"1\" class=\"dataframe\">\n  <thead>\n    <tr style=\"text-align: right;\">\n      <th></th>\n      <th>state</th>\n      <th>county</th>\n      <th>fips</th>\n      <th>cases_ts</th>\n      <th>deaths_ts</th>\n      <th>dt_first_case</th>\n      <th>dt_first_death</th>\n      <th>today_case</th>\n      <th>today_new_case</th>\n      <th>today_death</th>\n      <th>today_new_death</th>\n    </tr>\n  </thead>\n  <tbody>\n    <tr>\n      <th>0</th>\n      <td>Alabama</td>\n      <td>Autauga</td>\n      <td>01001</td>\n      <td>[0.0, 0.0, 0.0, 0.0, 0.0, 0.0, 0.0, 0.0, 0.0, ...</td>\n      <td>[0.0, 0.0, 0.0, 0.0, 0.0, 0.0, 0.0, 0.0, 0.0, ...</td>\n      <td>2020-03-24</td>\n      <td>2020-04-06</td>\n      <td>39.0</td>\n      <td>2.0</td>\n      <td>3.0</td>\n      <td>1.0</td>\n    </tr>\n    <tr>\n      <th>1</th>\n      <td>Alabama</td>\n      <td>Baldwin</td>\n      <td>01003</td>\n      <td>[0.0, 0.0, 0.0, 0.0, 0.0, 0.0, 0.0, 0.0, 0.0, ...</td>\n      <td>[0.0, 0.0, 0.0, 0.0, 0.0, 0.0, 0.0, 0.0, 0.0, ...</td>\n      <td>2020-03-14</td>\n      <td>2020-04-01</td>\n      <td>168.0</td>\n      <td>7.0</td>\n      <td>3.0</td>\n      <td>0.0</td>\n    </tr>\n    <tr>\n      <th>2</th>\n      <td>Alabama</td>\n      <td>Barbour</td>\n      <td>01005</td>\n      <td>[0.0, 0.0, 0.0, 0.0, 0.0, 0.0, 0.0, 0.0, 0.0, ...</td>\n      <td>[0.0, 0.0, 0.0, 0.0, 0.0, 0.0, 0.0, 0.0, 0.0, ...</td>\n      <td>2020-04-03</td>\n      <td>NaN</td>\n      <td>35.0</td>\n      <td>2.0</td>\n      <td>0.0</td>\n      <td>0.0</td>\n    </tr>\n    <tr>\n      <th>3</th>\n      <td>Alabama</td>\n      <td>Bibb</td>\n      <td>01007</td>\n      <td>[0.0, 0.0, 0.0, 0.0, 0.0, 0.0, 0.0, 0.0, 0.0, ...</td>\n      <td>[0.0, 0.0, 0.0, 0.0, 0.0, 0.0, 0.0, 0.0, 0.0, ...</td>\n      <td>2020-03-30</td>\n      <td>NaN</td>\n      <td>42.0</td>\n      <td>4.0</td>\n      <td>0.0</td>\n      <td>0.0</td>\n    </tr>\n    <tr>\n      <th>4</th>\n      <td>Alabama</td>\n      <td>Blount</td>\n      <td>01009</td>\n      <td>[0.0, 0.0, 0.0, 0.0, 0.0, 0.0, 0.0, 0.0, 0.0, ...</td>\n      <td>[0.0, 0.0, 0.0, 0.0, 0.0, 0.0, 0.0, 0.0, 0.0, ...</td>\n      <td>2020-03-25</td>\n      <td>NaN</td>\n      <td>34.0</td>\n      <td>0.0</td>\n      <td>0.0</td>\n      <td>0.0</td>\n    </tr>\n  </tbody>\n</table>\n</div>"
     },
     "metadata": {},
     "output_type": "execute_result",
     "execution_count": 14
    }
   ],
   "source": [
    "report_df = pivot_counties[['cases_ts','deaths_ts','dt_first_case','dt_first_death','today_case','today_new_case', 'today_death','today_new_death']]\n",
    "report_df = report_df.reset_index()\n",
    "report_df.columns = ['state','county','fips','cases_ts','deaths_ts','dt_first_case','dt_first_death','today_case','today_new_case', 'today_death','today_new_death']\n",
    "report_df.head(5)"
   ],
   "metadata": {
    "collapsed": false,
    "pycharm": {
     "name": "#%%\n",
     "is_executing": false
    }
   }
  },
  {
   "cell_type": "code",
   "execution_count": 15,
   "outputs": [
    {
     "data": {
      "text/plain": "[0.0,\n 0.0,\n 0.0,\n 0.0,\n 0.0,\n 0.0,\n 0.0,\n 0.0,\n 0.0,\n 0.0,\n 0.0,\n 0.0,\n 0.0,\n 0.0,\n 0.0,\n 0.0,\n 0.0,\n 0.0,\n 0.0,\n 0.0,\n 0.0,\n 0.0,\n 0.0,\n 0.0,\n 0.0,\n 0.0,\n 0.0,\n 0.0,\n 0.0,\n 0.0,\n 0.0,\n 0.0,\n 0.0,\n 0.0,\n 0.0,\n 0.0,\n 0.0,\n 0.0,\n 0.0,\n 0.0,\n 0.0,\n 0.0,\n 0.0,\n 0.0,\n 0.0,\n 0.0,\n 0.0,\n 0.0,\n 0.0,\n 0.0,\n 0.0,\n 0.0,\n 0.0,\n 1.0,\n 1.0,\n 1.0,\n 1.0,\n 1.0,\n 1.0,\n 2.0,\n 2.0,\n 2.0,\n 3.0,\n 4.0,\n 4.0,\n 5.0,\n 5.0,\n 10.0,\n 15.0,\n 18.0,\n 19.0,\n 23.0,\n 25.0,\n 28.0,\n 29.0,\n 34.0,\n 38.0,\n 42.0,\n 49.0,\n 59.0,\n 59.0,\n 66.0,\n 71.0,\n 78.0,\n 87.0,\n 98.0,\n 102.0,\n 103.0,\n 109.0,\n 114.0,\n 117.0,\n 123.0,\n 132.0,\n 143.0,\n 147.0,\n 154.0,\n 161.0,\n 168.0]"
     },
     "metadata": {},
     "output_type": "execute_result",
     "execution_count": 15
    }
   ],
   "source": [
    "report_df['cases_ts'][1]"
   ],
   "metadata": {
    "collapsed": false,
    "pycharm": {
     "name": "#%%\n",
     "is_executing": false
    }
   }
  },
  {
   "cell_type": "markdown",
   "source": [
    "Step4:  \n",
    "Assign Geometries to counties"
   ],
   "metadata": {
    "collapsed": false
   }
  },
  {
   "cell_type": "code",
   "execution_count": 16,
   "outputs": [
    {
     "data": {
      "text/plain": "Index(['NAME', 'state_name', 'GEOID', 'population', 'geometry', 'state',\n       'county', 'fips', 'cases_ts', 'deaths_ts', 'dt_first_case',\n       'dt_first_death', 'today_case', 'today_new_case', 'today_death',\n       'today_new_death'],\n      dtype='object')"
     },
     "metadata": {},
     "output_type": "execute_result",
     "execution_count": 16
    }
   ],
   "source": [
    "final_df = pd.merge(old_counties_geojson_df[[\"NAME\", \"state_name\", \"GEOID\", \"population\", \"geometry\"]], report_df, how='left', left_on=['NAME','state_name'], right_on = ['county','state'])\n",
    "final_df.columns"
   ],
   "metadata": {
    "collapsed": false,
    "pycharm": {
     "name": "#%%\n",
     "is_executing": false
    }
   }
  },
  {
   "cell_type": "markdown",
   "source": [
    "Step5:  \n",
    "Deal with nan values (Counties not shows up in geojson) (More works)"
   ],
   "metadata": {
    "collapsed": false,
    "pycharm": {
     "name": "#%% md\n"
    }
   }
  },
  {
   "cell_type": "code",
   "execution_count": 17,
   "outputs": [],
   "source": [
    "final_df[['today_case','today_new_case','today_death','today_new_death']] = final_df[['today_case','today_new_case','today_death','today_new_death']].replace(np.nan,0)\n",
    "final_df['fips'] = final_df['fips'].replace(np.nan, final_df['GEOID'])\n"
   ],
   "metadata": {
    "collapsed": false,
    "pycharm": {
     "name": "#%%\n",
     "is_executing": false
    }
   }
  },
  {
   "cell_type": "code",
   "execution_count": 18,
   "outputs": [],
   "source": [
    "template =final_df[~final_df['cases_ts'].isna()]['cases_ts']\n",
    "template = template.iloc[0]"
   ],
   "metadata": {
    "collapsed": false,
    "pycharm": {
     "name": "#%%\n",
     "is_executing": false
    }
   }
  },
  {
   "cell_type": "code",
   "execution_count": 19,
   "outputs": [],
   "source": [
    "for x in range(0,len(template)):\n",
    "    template[x] = 0\n",
    "template = ','.join(map(str, template))"
   ],
   "metadata": {
    "collapsed": false,
    "pycharm": {
     "name": "#%%\n",
     "is_executing": false
    }
   }
  },
  {
   "cell_type": "code",
   "execution_count": 20,
   "outputs": [
    {
     "data": {
      "text/plain": "       NAME      state_name  GEOID  population  \\\n0    Bladen  North Carolina  37017       33778   \n1    Stanly  North Carolina  37167       61114   \n2    Summit            Ohio  39153      541810   \n3  Sullivan    Pennsylvania  42113        6177   \n4    Upshur           Texas  48459       40769   \n\n                                            geometry           state  \\\n0  MULTIPOLYGON (((-78.90200 34.83527, -78.79960 ...  North Carolina   \n1  MULTIPOLYGON (((-80.49738 35.20210, -80.29542 ...  North Carolina   \n2  MULTIPOLYGON (((-81.68699 41.13596, -81.68495 ...            Ohio   \n3  MULTIPOLYGON (((-76.81373 41.59003, -76.22014 ...    Pennsylvania   \n4  MULTIPOLYGON (((-95.15274 32.66095, -95.15211 ...           Texas   \n\n     county   fips                                           cases_ts  \\\n0    Bladen  37017  0,0,0,0,0,0,0,0,0,0,0,0,0,0,0,0,0,0,0,0,0,0,0,...   \n1    Stanly  37167  0.0,0.0,0.0,0.0,0.0,0.0,0.0,0.0,0.0,0.0,0.0,0....   \n2    Summit  39153  0.0,0.0,0.0,0.0,0.0,0.0,0.0,0.0,0.0,0.0,0.0,0....   \n3  Sullivan  42113  0.0,0.0,0.0,0.0,0.0,0.0,0.0,0.0,0.0,0.0,0.0,0....   \n4    Upshur  48459  0.0,0.0,0.0,0.0,0.0,0.0,0.0,0.0,0.0,0.0,0.0,0....   \n\n                                           deaths_ts dt_first_case  \\\n0  0.0,0.0,0.0,0.0,0.0,0.0,0.0,0.0,0.0,0.0,0.0,0....    2020-03-29   \n1  0.0,0.0,0.0,0.0,0.0,0.0,0.0,0.0,0.0,0.0,0.0,0....    2020-03-20   \n2  0.0,0.0,0.0,0.0,0.0,0.0,0.0,0.0,0.0,0.0,0.0,0....    2020-03-14   \n3  0.0,0.0,0.0,0.0,0.0,0.0,0.0,0.0,0.0,0.0,0.0,0....    2020-04-04   \n4  0.0,0.0,0.0,0.0,0.0,0.0,0.0,0.0,0.0,0.0,0.0,0....    2020-03-20   \n\n  dt_first_death  today_case  today_new_case  today_death  today_new_death  \n0            NaN        10.0             0.0          0.0              0.0  \n1     2020-04-09        29.0             1.0          4.0              0.0  \n2     2020-03-27       500.0            15.0         39.0              1.0  \n3            NaN         1.0             0.0          0.0              0.0  \n4            NaN        13.0             0.0          0.0              0.0  ",
      "text/html": "<div>\n<style scoped>\n    .dataframe tbody tr th:only-of-type {\n        vertical-align: middle;\n    }\n\n    .dataframe tbody tr th {\n        vertical-align: top;\n    }\n\n    .dataframe thead th {\n        text-align: right;\n    }\n</style>\n<table border=\"1\" class=\"dataframe\">\n  <thead>\n    <tr style=\"text-align: right;\">\n      <th></th>\n      <th>NAME</th>\n      <th>state_name</th>\n      <th>GEOID</th>\n      <th>population</th>\n      <th>geometry</th>\n      <th>state</th>\n      <th>county</th>\n      <th>fips</th>\n      <th>cases_ts</th>\n      <th>deaths_ts</th>\n      <th>dt_first_case</th>\n      <th>dt_first_death</th>\n      <th>today_case</th>\n      <th>today_new_case</th>\n      <th>today_death</th>\n      <th>today_new_death</th>\n    </tr>\n  </thead>\n  <tbody>\n    <tr>\n      <th>0</th>\n      <td>Bladen</td>\n      <td>North Carolina</td>\n      <td>37017</td>\n      <td>33778</td>\n      <td>MULTIPOLYGON (((-78.90200 34.83527, -78.79960 ...</td>\n      <td>North Carolina</td>\n      <td>Bladen</td>\n      <td>37017</td>\n      <td>0,0,0,0,0,0,0,0,0,0,0,0,0,0,0,0,0,0,0,0,0,0,0,...</td>\n      <td>0.0,0.0,0.0,0.0,0.0,0.0,0.0,0.0,0.0,0.0,0.0,0....</td>\n      <td>2020-03-29</td>\n      <td>NaN</td>\n      <td>10.0</td>\n      <td>0.0</td>\n      <td>0.0</td>\n      <td>0.0</td>\n    </tr>\n    <tr>\n      <th>1</th>\n      <td>Stanly</td>\n      <td>North Carolina</td>\n      <td>37167</td>\n      <td>61114</td>\n      <td>MULTIPOLYGON (((-80.49738 35.20210, -80.29542 ...</td>\n      <td>North Carolina</td>\n      <td>Stanly</td>\n      <td>37167</td>\n      <td>0.0,0.0,0.0,0.0,0.0,0.0,0.0,0.0,0.0,0.0,0.0,0....</td>\n      <td>0.0,0.0,0.0,0.0,0.0,0.0,0.0,0.0,0.0,0.0,0.0,0....</td>\n      <td>2020-03-20</td>\n      <td>2020-04-09</td>\n      <td>29.0</td>\n      <td>1.0</td>\n      <td>4.0</td>\n      <td>0.0</td>\n    </tr>\n    <tr>\n      <th>2</th>\n      <td>Summit</td>\n      <td>Ohio</td>\n      <td>39153</td>\n      <td>541810</td>\n      <td>MULTIPOLYGON (((-81.68699 41.13596, -81.68495 ...</td>\n      <td>Ohio</td>\n      <td>Summit</td>\n      <td>39153</td>\n      <td>0.0,0.0,0.0,0.0,0.0,0.0,0.0,0.0,0.0,0.0,0.0,0....</td>\n      <td>0.0,0.0,0.0,0.0,0.0,0.0,0.0,0.0,0.0,0.0,0.0,0....</td>\n      <td>2020-03-14</td>\n      <td>2020-03-27</td>\n      <td>500.0</td>\n      <td>15.0</td>\n      <td>39.0</td>\n      <td>1.0</td>\n    </tr>\n    <tr>\n      <th>3</th>\n      <td>Sullivan</td>\n      <td>Pennsylvania</td>\n      <td>42113</td>\n      <td>6177</td>\n      <td>MULTIPOLYGON (((-76.81373 41.59003, -76.22014 ...</td>\n      <td>Pennsylvania</td>\n      <td>Sullivan</td>\n      <td>42113</td>\n      <td>0.0,0.0,0.0,0.0,0.0,0.0,0.0,0.0,0.0,0.0,0.0,0....</td>\n      <td>0.0,0.0,0.0,0.0,0.0,0.0,0.0,0.0,0.0,0.0,0.0,0....</td>\n      <td>2020-04-04</td>\n      <td>NaN</td>\n      <td>1.0</td>\n      <td>0.0</td>\n      <td>0.0</td>\n      <td>0.0</td>\n    </tr>\n    <tr>\n      <th>4</th>\n      <td>Upshur</td>\n      <td>Texas</td>\n      <td>48459</td>\n      <td>40769</td>\n      <td>MULTIPOLYGON (((-95.15274 32.66095, -95.15211 ...</td>\n      <td>Texas</td>\n      <td>Upshur</td>\n      <td>48459</td>\n      <td>0.0,0.0,0.0,0.0,0.0,0.0,0.0,0.0,0.0,0.0,0.0,0....</td>\n      <td>0.0,0.0,0.0,0.0,0.0,0.0,0.0,0.0,0.0,0.0,0.0,0....</td>\n      <td>2020-03-20</td>\n      <td>NaN</td>\n      <td>13.0</td>\n      <td>0.0</td>\n      <td>0.0</td>\n      <td>0.0</td>\n    </tr>\n  </tbody>\n</table>\n</div>"
     },
     "metadata": {},
     "output_type": "execute_result",
     "execution_count": 20
    }
   ],
   "source": [
    "\n",
    "final_df['cases_ts'] = final_df['cases_ts'].apply(lambda x: ','.join(map(str, x)) if type(x) is list else template)\n",
    "final_df['deaths_ts'] = final_df['deaths_ts'].apply(lambda x: ','.join(map(str, x)) if type(x) is list else template)\n",
    "final_df.head(5)"
   ],
   "metadata": {
    "collapsed": false,
    "pycharm": {
     "name": "#%%\n",
     "is_executing": false
    }
   }
  },
  {
   "cell_type": "markdown",
   "source": [
    "Step6:  \n",
    "Finalize the Dataframe"
   ],
   "metadata": {
    "collapsed": false,
    "pycharm": {
     "name": "#%% md\n"
    }
   }
  },
  {
   "cell_type": "code",
   "execution_count": 21,
   "outputs": [
    {
     "data": {
      "text/plain": "     NAME      state_name  population   fips dt_first_case dt_first_death  \\\n0  Bladen  North Carolina       33778  37017    2020-03-29            NaN   \n\n                                            cases_ts  \\\n0  0,0,0,0,0,0,0,0,0,0,0,0,0,0,0,0,0,0,0,0,0,0,0,...   \n\n                                           deaths_ts  today_case  \\\n0  0.0,0.0,0.0,0.0,0.0,0.0,0.0,0.0,0.0,0.0,0.0,0....        10.0   \n\n   today_new_case  today_death  today_new_death  \\\n0             0.0          0.0              0.0   \n\n                                            geometry    dt_start      dt_end  \\\n0  MULTIPOLYGON (((-78.90200 34.83527, -78.79960 ...  2020-01-21  2020-04-27   \n\n  dt_unit  \n0     day  ",
      "text/html": "<div>\n<style scoped>\n    .dataframe tbody tr th:only-of-type {\n        vertical-align: middle;\n    }\n\n    .dataframe tbody tr th {\n        vertical-align: top;\n    }\n\n    .dataframe thead th {\n        text-align: right;\n    }\n</style>\n<table border=\"1\" class=\"dataframe\">\n  <thead>\n    <tr style=\"text-align: right;\">\n      <th></th>\n      <th>NAME</th>\n      <th>state_name</th>\n      <th>population</th>\n      <th>fips</th>\n      <th>dt_first_case</th>\n      <th>dt_first_death</th>\n      <th>cases_ts</th>\n      <th>deaths_ts</th>\n      <th>today_case</th>\n      <th>today_new_case</th>\n      <th>today_death</th>\n      <th>today_new_death</th>\n      <th>geometry</th>\n      <th>dt_start</th>\n      <th>dt_end</th>\n      <th>dt_unit</th>\n    </tr>\n  </thead>\n  <tbody>\n    <tr>\n      <th>0</th>\n      <td>Bladen</td>\n      <td>North Carolina</td>\n      <td>33778</td>\n      <td>37017</td>\n      <td>2020-03-29</td>\n      <td>NaN</td>\n      <td>0,0,0,0,0,0,0,0,0,0,0,0,0,0,0,0,0,0,0,0,0,0,0,...</td>\n      <td>0.0,0.0,0.0,0.0,0.0,0.0,0.0,0.0,0.0,0.0,0.0,0....</td>\n      <td>10.0</td>\n      <td>0.0</td>\n      <td>0.0</td>\n      <td>0.0</td>\n      <td>MULTIPOLYGON (((-78.90200 34.83527, -78.79960 ...</td>\n      <td>2020-01-21</td>\n      <td>2020-04-27</td>\n      <td>day</td>\n    </tr>\n  </tbody>\n</table>\n</div>"
     },
     "metadata": {},
     "output_type": "execute_result",
     "execution_count": 21
    }
   ],
   "source": [
    "final_df=final_df[[\"NAME\", \"state_name\", \"population\", \"fips\", \"dt_first_case\", \"dt_first_death\", \"cases_ts\", \"deaths_ts\", \n",
    "                   'today_case','today_new_case','today_death','today_new_death', \"geometry\"]]\n",
    "final_df['dt_start'] = dt_str_start\n",
    "final_df['dt_end'] = dt_str_end\n",
    "final_df['dt_unit'] = \"day\"\n",
    "final_df.head(1)"
   ],
   "metadata": {
    "collapsed": false,
    "pycharm": {
     "name": "#%%\n",
     "is_executing": false
    }
   }
  },
  {
   "cell_type": "markdown",
   "source": [
    "Step 7:  \n",
    "Output file"
   ],
   "metadata": {
    "collapsed": false,
    "pycharm": {
     "name": "#%% md\n"
    }
   }
  },
  {
   "cell_type": "code",
   "execution_count": 22,
   "metadata": {
    "pycharm": {
     "is_executing": false,
     "name": "#%%\n"
    }
   },
   "outputs": [
    {
     "name": "stdout",
     "text": [
      "done\n"
     ],
     "output_type": "stream"
    }
   ],
   "source": [
    "final_df.to_file(r\"./nyt_counties_data.geojson\", driver='GeoJSON', encoding='utf-8')\n",
    "print(\"done\")"
   ]
  },
  {
   "cell_type": "code",
   "execution_count": 23,
   "outputs": [],
   "source": [
    "illinois_gdf = final_df[final_df['state_name'] == 'Illinois']"
   ],
   "metadata": {
    "collapsed": false,
    "pycharm": {
     "name": "#%%\n",
     "is_executing": false
    }
   }
  },
  {
   "cell_type": "code",
   "execution_count": 24,
   "outputs": [
    {
     "name": "stdout",
     "text": [
      "done\n"
     ],
     "output_type": "stream"
    }
   ],
   "source": [
    "illinois_gdf.to_file(r\"./illinois/nyt_illinois_counties_data.geojson\", driver='GeoJSON', encoding='utf-8')\n",
    "print('done')"
   ],
   "metadata": {
    "collapsed": false,
    "pycharm": {
     "name": "#%%\n",
     "is_executing": false
    }
   }
  },
  {
   "cell_type": "markdown",
   "metadata": {
    "pycharm": {
     "name": "#%% md\n"
    }
   },
   "source": [
    "New Data Structure (Full version)"
   ]
  },
  {
   "cell_type": "code",
   "execution_count": 25,
   "metadata": {
    "pycharm": {
     "is_executing": false,
     "name": "#%%\n"
    }
   },
   "outputs": [],
   "source": [
    "# pivot_counties.columns = ['_'.join(col).strip() for col in pivot_counties.columns.values]\n",
    "# report_df_2 = pivot_counties.reset_index()"
   ]
  },
  {
   "cell_type": "code",
   "execution_count": 26,
   "metadata": {
    "pycharm": {
     "is_executing": false,
     "name": "#%%\n"
    }
   },
   "outputs": [],
   "source": [
    "# report_df_2.head(5)"
   ]
  },
  {
   "cell_type": "code",
   "execution_count": 27,
   "metadata": {
    "pycharm": {
     "name": "#%%\n",
     "is_executing": false
    }
   },
   "outputs": [],
   "source": [
    "# pivot_counties.head(5)"
   ]
  },
  {
   "cell_type": "code",
   "execution_count": 28,
   "metadata": {
    "pycharm": {
     "is_executing": false,
     "name": "#%%\n"
    }
   },
   "outputs": [],
   "source": [
    "# final_df_2 = pd.merge(old_counties_geojson_df[[\"NAME\", \"state_name\", \"population\", \"geometry\"]], report_df_2, how='right', left_on=['NAME','state_name'], right_on = ['county','state'])\n",
    "# final_df_2 = final_df_2.drop(['state','county'], axis = 1)\n",
    "# final_df_2['dt_start'] = dt_start\n",
    "# final_df_2['dt_end'] = dt_end\n",
    "# final_df_2.head(5)"
   ]
  },
  {
   "cell_type": "code",
   "execution_count": 29,
   "metadata": {
    "pycharm": {
     "is_executing": false,
     "name": "#%%\n"
    }
   },
   "outputs": [],
   "source": [
    "# final_df_2.to_file(r\"./nyt_counties_data_full.geojson\", driver='GeoJSON', encoding='utf-8')\n",
    "# print(\"done\")"
   ]
  },
  {
   "cell_type": "markdown",
   "metadata": {
    "pycharm": {
     "name": "#%% md\n"
    }
   },
   "source": [
    "Generate JSON file"
   ]
  },
  {
   "cell_type": "code",
   "execution_count": 30,
   "metadata": {
    "pycharm": {
     "is_executing": false,
     "name": "#%%\n"
    }
   },
   "outputs": [],
   "source": [
    "# county_list = []\n",
    "# for state in df_counties_original.state.unique():\n",
    "#     for county in df_counties_original.loc[(df_counties_original['state'] == state)].county.unique():\n",
    "#         county_list.append({\"name\": county, \"state\": state})\n",
    " \n",
    "# print(len(county_list), county_list)\n"
   ]
  },
  {
   "cell_type": "code",
   "execution_count": 31,
   "metadata": {
    "pycharm": {
     "is_executing": false,
     "name": "#%%\n"
    }
   },
   "outputs": [],
   "source": [
    "# data_df = report_df.set_index(report_df[\"county\"]+\", \"+report_df[\"state\"])\n",
    "# data_dict =data_df.to_dict(orient='index')"
   ]
  },
  {
   "cell_type": "code",
   "execution_count": 32,
   "metadata": {
    "pycharm": {
     "is_executing": false,
     "name": "#%%\n"
    }
   },
   "outputs": [],
   "source": [
    "# df = df_counties_original.groupby(['county', 'state'], sort=False)[['cases', 'deaths']].max().sort_values(\"cases\", ascending=False)\n",
    "# county_state_list = list(map(lambda x: x[0]+\", \"+x[1], df.index.tolist()))\n",
    "# meta = {\"dates\": dt_range_str,\"states\": county_state_list, \"cases\": df[\"cases\"].values.tolist(), \"deaths\": df[\"deaths\"].values.tolist()}\n",
    "# data_dict[\"metadata\"] = meta"
   ]
  },
  {
   "cell_type": "code",
   "execution_count": 33,
   "metadata": {
    "pycharm": {
     "is_executing": false,
     "name": "#%%\n"
    }
   },
   "outputs": [],
   "source": [
    "# data_dict"
   ]
  },
  {
   "cell_type": "code",
   "execution_count": 34,
   "metadata": {
    "pycharm": {
     "is_executing": false,
     "name": "#%%\n"
    }
   },
   "outputs": [],
   "source": [
    "# import json\n",
    "# with open('./nyt_counties_data.json', 'w') as outfile:\n",
    "#     json.dump(data_dict, outfile)"
   ]
  },
  {
   "cell_type": "code",
   "execution_count": 34,
   "metadata": {
    "pycharm": {
     "is_executing": false
    }
   },
   "outputs": [],
   "source": []
  }
 ],
 "metadata": {
  "kernelspec": {
   "display_name": "Python 3",
   "language": "python",
   "name": "python3"
  },
  "language_info": {
   "codemirror_mode": {
    "name": "ipython",
    "version": 3
   },
   "file_extension": ".py",
   "mimetype": "text/x-python",
   "name": "python",
   "nbconvert_exporter": "python",
   "pygments_lexer": "ipython3",
   "version": "3.8.2"
  },
  "pycharm": {
   "stem_cell": {
    "cell_type": "raw",
    "source": [],
    "metadata": {
     "collapsed": false
    }
   }
  }
 },
 "nbformat": 4,
 "nbformat_minor": 1
}