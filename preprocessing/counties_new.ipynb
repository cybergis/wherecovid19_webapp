{
 "cells": [
  {
   "cell_type": "markdown",
   "metadata": {},
   "source": [
    "# Process US County-level Data from NYT"
   ]
  },
  {
   "cell_type": "code",
   "execution_count": 20,
   "metadata": {
    "pycharm": {
     "is_executing": false,
     "name": "#%%\n"
    }
   },
   "outputs": [],
   "source": [
    "# Import packages\n",
    "import pandas as pd\n",
    "import numpy as np\n",
    "from datetime import datetime\n",
    "import geopandas as gpd\n",
    "import mapclassify as mc"
   ]
  },
  {
   "cell_type": "markdown",
   "metadata": {
    "pycharm": {
     "name": "#%% md\n"
    }
   },
   "source": [
    "Step0:  \n",
    "Read data and get basic county groups"
   ]
  },
  {
   "cell_type": "markdown",
   "metadata": {
    "pycharm": {
     "name": "#%% md\n"
    }
   },
   "source": [
    "0.0 Report Data"
   ]
  },
  {
   "cell_type": "code",
   "execution_count": 24,
   "metadata": {
    "pycharm": {
     "is_executing": false,
     "name": "#%%\n"
    }
   },
   "outputs": [
    {
     "data": {
      "text/html": [
       "<div>\n",
       "<style scoped>\n",
       "    .dataframe tbody tr th:only-of-type {\n",
       "        vertical-align: middle;\n",
       "    }\n",
       "\n",
       "    .dataframe tbody tr th {\n",
       "        vertical-align: top;\n",
       "    }\n",
       "\n",
       "    .dataframe thead th {\n",
       "        text-align: right;\n",
       "    }\n",
       "</style>\n",
       "<table border=\"1\" class=\"dataframe\">\n",
       "  <thead>\n",
       "    <tr style=\"text-align: right;\">\n",
       "      <th></th>\n",
       "      <th>date</th>\n",
       "      <th>county</th>\n",
       "      <th>state</th>\n",
       "      <th>fips</th>\n",
       "      <th>cases</th>\n",
       "      <th>deaths</th>\n",
       "    </tr>\n",
       "  </thead>\n",
       "  <tbody>\n",
       "    <tr>\n",
       "      <th>724935</th>\n",
       "      <td>2020-11-12</td>\n",
       "      <td>Unknown</td>\n",
       "      <td>Puerto Rico</td>\n",
       "      <td>00000</td>\n",
       "      <td>2420</td>\n",
       "      <td>909</td>\n",
       "    </tr>\n",
       "    <tr>\n",
       "      <th>103556</th>\n",
       "      <td>2020-04-30</td>\n",
       "      <td>Unknown</td>\n",
       "      <td>Vermont</td>\n",
       "      <td>00000</td>\n",
       "      <td>3</td>\n",
       "      <td>0</td>\n",
       "    </tr>\n",
       "    <tr>\n",
       "      <th>103563</th>\n",
       "      <td>2020-04-30</td>\n",
       "      <td>Unknown</td>\n",
       "      <td>Virgin Islands</td>\n",
       "      <td>00000</td>\n",
       "      <td>0</td>\n",
       "      <td>4</td>\n",
       "    </tr>\n",
       "    <tr>\n",
       "      <th>592749</th>\n",
       "      <td>2020-10-02</td>\n",
       "      <td>Unknown</td>\n",
       "      <td>Wisconsin</td>\n",
       "      <td>00000</td>\n",
       "      <td>0</td>\n",
       "      <td>10</td>\n",
       "    </tr>\n",
       "    <tr>\n",
       "      <th>735607</th>\n",
       "      <td>2020-11-16</td>\n",
       "      <td>Unknown</td>\n",
       "      <td>Alaska</td>\n",
       "      <td>00000</td>\n",
       "      <td>199</td>\n",
       "      <td>0</td>\n",
       "    </tr>\n",
       "    <tr>\n",
       "      <th>...</th>\n",
       "      <td>...</td>\n",
       "      <td>...</td>\n",
       "      <td>...</td>\n",
       "      <td>...</td>\n",
       "      <td>...</td>\n",
       "      <td>...</td>\n",
       "    </tr>\n",
       "    <tr>\n",
       "      <th>190396</th>\n",
       "      <td>2020-05-29</td>\n",
       "      <td>St. Thomas</td>\n",
       "      <td>Virgin Islands</td>\n",
       "      <td>78030</td>\n",
       "      <td>38</td>\n",
       "      <td>0</td>\n",
       "    </tr>\n",
       "    <tr>\n",
       "      <th>537389</th>\n",
       "      <td>2020-09-15</td>\n",
       "      <td>St. Thomas</td>\n",
       "      <td>Virgin Islands</td>\n",
       "      <td>78030</td>\n",
       "      <td>744</td>\n",
       "      <td>12</td>\n",
       "    </tr>\n",
       "    <tr>\n",
       "      <th>514737</th>\n",
       "      <td>2020-09-08</td>\n",
       "      <td>St. Thomas</td>\n",
       "      <td>Virgin Islands</td>\n",
       "      <td>78030</td>\n",
       "      <td>712</td>\n",
       "      <td>11</td>\n",
       "    </tr>\n",
       "    <tr>\n",
       "      <th>670312</th>\n",
       "      <td>2020-10-26</td>\n",
       "      <td>St. Thomas</td>\n",
       "      <td>Virgin Islands</td>\n",
       "      <td>78030</td>\n",
       "      <td>779</td>\n",
       "      <td>14</td>\n",
       "    </tr>\n",
       "    <tr>\n",
       "      <th>430743</th>\n",
       "      <td>2020-08-13</td>\n",
       "      <td>St. Thomas</td>\n",
       "      <td>Virgin Islands</td>\n",
       "      <td>78030</td>\n",
       "      <td>363</td>\n",
       "      <td>4</td>\n",
       "    </tr>\n",
       "  </tbody>\n",
       "</table>\n",
       "<p>780967 rows × 6 columns</p>\n",
       "</div>"
      ],
      "text/plain": [
       "              date      county           state   fips  cases  deaths\n",
       "724935  2020-11-12     Unknown     Puerto Rico  00000   2420     909\n",
       "103556  2020-04-30     Unknown         Vermont  00000      3       0\n",
       "103563  2020-04-30     Unknown  Virgin Islands  00000      0       4\n",
       "592749  2020-10-02     Unknown       Wisconsin  00000      0      10\n",
       "735607  2020-11-16     Unknown          Alaska  00000    199       0\n",
       "...            ...         ...             ...    ...    ...     ...\n",
       "190396  2020-05-29  St. Thomas  Virgin Islands  78030     38       0\n",
       "537389  2020-09-15  St. Thomas  Virgin Islands  78030    744      12\n",
       "514737  2020-09-08  St. Thomas  Virgin Islands  78030    712      11\n",
       "670312  2020-10-26  St. Thomas  Virgin Islands  78030    779      14\n",
       "430743  2020-08-13  St. Thomas  Virgin Islands  78030    363       4\n",
       "\n",
       "[780967 rows x 6 columns]"
      ]
     },
     "execution_count": 24,
     "metadata": {},
     "output_type": "execute_result"
    }
   ],
   "source": [
    "# Read updated CSV file\n",
    "df_counties_original = pd.read_csv(\"./us-counties.csv\", dtype={\"date\": np.string_, \n",
    "                                                             \"county\": np.string_,\n",
    "                                                             \"state\": np.string_,\n",
    "                                                             \"fips\": np.string_,\n",
    "                                                            \"cases\": np.int32,\n",
    "                                                            \"deaths\": np.string_})\n",
    "# Change 'Unknown' fips to '00000' \n",
    "df_counties_original['fips'] = df_counties_original['fips'].replace({np.nan: '00000'})\n",
    "# Change 'Unknown' deaths to 0 and death column to int32 type\n",
    "df_counties_original['deaths'] = df_counties_original['deaths'].replace({np.nan: 0})\n",
    "df_counties_original = df_counties_original.astype({'deaths': 'int32'})\n",
    "df_counties_original.sort_values(\"fips\", ascending=True)"
   ]
  },
  {
   "cell_type": "code",
   "execution_count": 25,
   "metadata": {
    "scrolled": true
   },
   "outputs": [
    {
     "data": {
      "text/plain": [
       "date      object\n",
       "county    object\n",
       "state     object\n",
       "fips      object\n",
       "cases      int32\n",
       "deaths     int32\n",
       "dtype: object"
      ]
     },
     "execution_count": 25,
     "metadata": {},
     "output_type": "execute_result"
    }
   ],
   "source": [
    "df_counties_original.dtypes"
   ]
  },
  {
   "cell_type": "markdown",
   "metadata": {
    "pycharm": {
     "name": "#%% md\n"
    }
   },
   "source": [
    "0.1 GeoJSON Data"
   ]
  },
  {
   "cell_type": "code",
   "execution_count": null,
   "metadata": {
    "pycharm": {
     "is_executing": false,
     "name": "#%%\n"
    }
   },
   "outputs": [],
   "source": [
    "# Read GeoJson data\n",
    "old_counties_geojson_df = gpd.read_file(r\"./counties_update_new.geojson\")\n",
    "old_counties_geojson_df.head(5)"
   ]
  },
  {
   "cell_type": "markdown",
   "metadata": {
    "pycharm": {
     "name": "#%% md\n"
    }
   },
   "source": [
    "0.2 Group Data to Counties"
   ]
  },
  {
   "cell_type": "code",
   "execution_count": null,
   "metadata": {
    "pycharm": {
     "is_executing": false,
     "name": "#%%\n"
    }
   },
   "outputs": [],
   "source": [
    "# Transform cases/deaths data table to pivot table using fips as main index\n",
    "pivot_counties = pd.pivot_table(df_counties_original , index=['state','county','fips'],\n",
    "                       columns=['date'])\n",
    "pivot_counties = pivot_counties.replace(np.nan, 0)\n",
    "pivot_counties"
   ]
  },
  {
   "cell_type": "markdown",
   "metadata": {},
   "source": [
    "0.3 Get Date Info"
   ]
  },
  {
   "cell_type": "code",
   "execution_count": null,
   "metadata": {
    "pycharm": {
     "is_executing": false,
     "name": "#%%\n"
    }
   },
   "outputs": [],
   "source": [
    "# Get dates from data table\n",
    "date= pivot_counties['cases'].columns\n",
    "date"
   ]
  },
  {
   "cell_type": "code",
   "execution_count": null,
   "metadata": {
    "pycharm": {
     "is_executing": false,
     "name": "#%%\n"
    }
   },
   "outputs": [],
   "source": [
    "# Sort dates and get the start/end\n",
    "date_str = np.sort(date)\n",
    "dt_str_start=np.min(date_str)\n",
    "dt_str_end=np.max(date_str)"
   ]
  },
  {
   "cell_type": "code",
   "execution_count": null,
   "metadata": {
    "pycharm": {
     "is_executing": false,
     "name": "#%%\n"
    }
   },
   "outputs": [],
   "source": [
    "# Format dates and create a list\n",
    "start = datetime.strptime(dt_str_start, \"%Y-%m-%d\")\n",
    "end = datetime.strptime(dt_str_end, \"%Y-%m-%d\")\n",
    "dt_range = pd.date_range(start=start,end=end)\n",
    "print(len(dt_range), dt_range)\n",
    "dt_range_str = list(map(lambda x: x.strftime(\"%Y-%m-%d\"), dt_range.tolist()))\n",
    "print(len(dt_range_str), dt_range_str)"
   ]
  },
  {
   "cell_type": "markdown",
   "metadata": {
    "pycharm": {
     "name": "#%% md\n"
    }
   },
   "source": [
    "Step1:  \n",
    "Add Cases Time Series, First Case Date, Death Time Series, First Death Date"
   ]
  },
  {
   "cell_type": "code",
   "execution_count": null,
   "metadata": {
    "pycharm": {
     "is_executing": false,
     "name": "#%%\n"
    }
   },
   "outputs": [],
   "source": [
    "# import json\n",
    "# pivot_counties['cases_ts'] = json.dumps({\"values\": pivot_counties['cases'].values.tolist()[0]})\n",
    "# pivot_counties['deaths_ts'] =  json.dumps({\"values\": pivot_counties['deaths'].values.tolist()[0]})\n",
    "\n",
    "# Create time series of cases/deaths\n",
    "pivot_counties['cases_ts'] =  pivot_counties['cases'].values.tolist()\n",
    "pivot_counties['deaths_ts'] =  pivot_counties['deaths'].values.tolist()"
   ]
  },
  {
   "cell_type": "code",
   "execution_count": null,
   "metadata": {
    "pycharm": {
     "is_executing": false,
     "name": "#%%\n"
    }
   },
   "outputs": [],
   "source": [
    "# Get the date of first case/death\n",
    "pivot_counties['dt_first_case'] = (pivot_counties['cases'] > 0).idxmax(axis=1)\n",
    "pivot_counties['dt_first_death'] = (pivot_counties['deaths'] > 0).idxmax(axis=1)\n",
    "# For death reports, deal with no deaths counties\n",
    "pivot_counties.loc[pivot_counties['deaths'].iloc[:, -1] <= 0, 'dt_first_death'] = np.nan\n",
    "pivot_counties.head(5)"
   ]
  },
  {
   "cell_type": "markdown",
   "metadata": {
    "pycharm": {
     "name": "#%% md\n"
    }
   },
   "source": [
    "Step2:  \n",
    "Add today_case, today_new_case, today_death, today_new_death"
   ]
  },
  {
   "cell_type": "code",
   "execution_count": null,
   "metadata": {
    "pycharm": {
     "is_executing": false,
     "name": "#%%\n"
    }
   },
   "outputs": [],
   "source": [
    "# Get the latest case/death\n",
    "yesterday = date.values[-2]\n",
    "pivot_counties['today_case'] = pivot_counties['cases'][dt_str_end]\n",
    "pivot_counties['today_new_case'] = pivot_counties['cases'][dt_str_end] - pivot_counties['cases'][yesterday]\n",
    "pivot_counties['today_death'] = pivot_counties['deaths'][dt_str_end]\n",
    "pivot_counties['today_new_death'] = pivot_counties['deaths'][dt_str_end] - pivot_counties['deaths'][yesterday]"
   ]
  },
  {
   "cell_type": "markdown",
   "metadata": {
    "pycharm": {
     "name": "#%% md\n"
    }
   },
   "source": [
    "Step3:  \n",
    "Extract necessary columns"
   ]
  },
  {
   "cell_type": "code",
   "execution_count": null,
   "metadata": {
    "pycharm": {
     "is_executing": false,
     "name": "#%%\n"
    }
   },
   "outputs": [],
   "source": [
    "# Only keep the necessary columns\n",
    "report_df = pivot_counties[['cases_ts','deaths_ts','dt_first_case','dt_first_death','today_case','today_new_case', 'today_death','today_new_death']]\n",
    "report_df = report_df.reset_index()\n",
    "report_df.columns = ['state','county','fips','cases_ts','deaths_ts','dt_first_case','dt_first_death','today_case','today_new_case', 'today_death','today_new_death']\n",
    "report_df.head(5)"
   ]
  },
  {
   "cell_type": "markdown",
   "metadata": {},
   "source": [
    "Step4:  \n",
    "Assign geometries to counties"
   ]
  },
  {
   "cell_type": "code",
   "execution_count": null,
   "metadata": {
    "pycharm": {
     "is_executing": false,
     "name": "#%%\n"
    }
   },
   "outputs": [],
   "source": [
    "# Merge case dataframe and geometry\n",
    "final_df = pd.merge(old_counties_geojson_df[[\"NAME\", \"state_name\", \"GEOID\", \"population\", \"geometry\"]], report_df, how='left', left_on=['NAME','state_name'], right_on = ['county','state'])\n",
    "final_df.columns"
   ]
  },
  {
   "cell_type": "markdown",
   "metadata": {
    "pycharm": {
     "name": "#%% md\n"
    }
   },
   "source": [
    "Step5:  \n",
    "Deal with nan values"
   ]
  },
  {
   "cell_type": "code",
   "execution_count": null,
   "metadata": {
    "pycharm": {
     "is_executing": false,
     "name": "#%%\n"
    }
   },
   "outputs": [],
   "source": [
    "# Replace NAN values with 0\n",
    "final_df[['today_case','today_new_case','today_death','today_new_death']] = final_df[['today_case','today_new_case','today_death','today_new_death']].replace(np.nan,0)\n",
    "final_df['fips'] = final_df['fips'].replace(np.nan, final_df['GEOID'])"
   ]
  },
  {
   "cell_type": "code",
   "execution_count": null,
   "metadata": {
    "pycharm": {
     "is_executing": false,
     "name": "#%%\n"
    }
   },
   "outputs": [],
   "source": [
    "# Set up template\n",
    "template =final_df[~final_df['cases_ts'].isna()]['cases_ts']\n",
    "template = template.iloc[0]"
   ]
  },
  {
   "cell_type": "code",
   "execution_count": null,
   "metadata": {
    "pycharm": {
     "is_executing": false,
     "name": "#%%\n"
    }
   },
   "outputs": [],
   "source": [
    "for x in range(0,len(template)):\n",
    "    template[x] = 0\n",
    "template = ','.join(map(str, template))"
   ]
  },
  {
   "cell_type": "code",
   "execution_count": null,
   "metadata": {},
   "outputs": [],
   "source": [
    "# Change list format to string with commas\n",
    "final_df['cases_ts'] = final_df['cases_ts'].apply(lambda x: ','.join(map(str, x)) if type(x) is list else template)\n",
    "final_df['deaths_ts'] = final_df['deaths_ts'].apply(lambda x: ','.join(map(str, x)) if type(x) is list else template)\n",
    "final_df.head(5)"
   ]
  },
  {
   "cell_type": "markdown",
   "metadata": {
    "pycharm": {
     "name": "#%% md\n"
    }
   },
   "source": [
    "Step6:  \n",
    "Finalize the dataframe"
   ]
  },
  {
   "cell_type": "code",
   "execution_count": null,
   "metadata": {
    "pycharm": {
     "is_executing": false,
     "name": "#%%\n"
    }
   },
   "outputs": [],
   "source": [
    "# Keep and add essential columns\n",
    "final_df=final_df[[\"NAME\", \"state_name\", \"population\", \"fips\", \"dt_first_case\", \"dt_first_death\", \"cases_ts\", \"deaths_ts\", \n",
    "                   'today_case','today_new_case','today_death','today_new_death', \"geometry\"]]\n",
    "final_df['start'] = dt_str_start\n",
    "final_df['end'] = dt_str_end\n",
    "final_df['dt_unit'] = \"day\"\n",
    "final_df.head(1)"
   ]
  },
  {
   "cell_type": "code",
   "execution_count": null,
   "metadata": {},
   "outputs": [],
   "source": [
    "# Calculate weekly change rates of cases and form a time-series list\n",
    "final_df['change_ts'] = \"\"\n",
    "for x in range(0, len(final_df)):\n",
    "    newCaseList = [0]\n",
    "    changeRateList = []\n",
    "    caseStrList = final_df.loc[x,'cases_ts'].split(\",\")\n",
    "    for i in range(1, len(caseStrList)):\n",
    "        dailyNewCase = float(caseStrList[i]) - float(caseStrList[i-1])\n",
    "        newCaseList.append(dailyNewCase)\n",
    "    for i in range(0, len(newCaseList)):\n",
    "        if i < 13:\n",
    "            changeRate = 0\n",
    "        else:\n",
    "            currentWeekSum = 0\n",
    "            previousWeekSum = 0\n",
    "            for j in range(0,7):\n",
    "                currentWeekSum = currentWeekSum + newCaseList[i-j]\n",
    "            for k in range(7,14):\n",
    "                previousWeekSum = previousWeekSum + newCaseList[i-k]\n",
    "            if previousWeekSum == 0 and currentWeekSum == 0:\n",
    "                changeRate = 0\n",
    "            elif previousWeekSum == 0 and currentWeekSum != 0:\n",
    "                changeRate = currentWeekSum\n",
    "            else:\n",
    "                changeRate = round(currentWeekSum/previousWeekSum-1,2)\n",
    "        changeRateList.append(changeRate)\n",
    "        changeRateStrList = list(map(str, changeRateList))\n",
    "#     print(','.join(changeRateStrList))\n",
    "    final_df.loc[x,'change_ts'] = ','.join(changeRateStrList)\n",
    "\n",
    "final_df"
   ]
  },
  {
   "cell_type": "markdown",
   "metadata": {
    "pycharm": {
     "name": "#%% md\n"
    }
   },
   "source": [
    "Step 7:  \n",
    "Output file"
   ]
  },
  {
   "cell_type": "code",
   "execution_count": null,
   "metadata": {
    "pycharm": {
     "is_executing": false,
     "name": "#%%\n"
    }
   },
   "outputs": [],
   "source": [
    "# Save file\n",
    "final_df.to_file(r\"./nyt_counties_data.geojson\", driver='GeoJSON', encoding='utf-8')\n",
    "print(\"done\")"
   ]
  }
 ],
 "metadata": {
  "kernelspec": {
   "display_name": "Python 3",
   "language": "python",
   "name": "python3"
  },
  "language_info": {
   "codemirror_mode": {
    "name": "ipython",
    "version": 3
   },
   "file_extension": ".py",
   "mimetype": "text/x-python",
   "name": "python",
   "nbconvert_exporter": "python",
   "pygments_lexer": "ipython3",
   "version": "3.7.6"
  },
  "pycharm": {
   "stem_cell": {
    "cell_type": "raw",
    "metadata": {
     "collapsed": false
    },
    "source": []
   }
  }
 },
 "nbformat": 4,
 "nbformat_minor": 1
}
