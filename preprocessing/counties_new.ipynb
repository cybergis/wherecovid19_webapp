{
 "cells": [
  {
   "cell_type": "code",
   "execution_count": 1,
   "metadata": {
    "pycharm": {
     "is_executing": false,
     "name": "#%%\n"
    }
   },
   "outputs": [],
   "source": [
    "import pandas as pd\n",
    "import numpy as np\n",
    "from datetime import datetime\n",
    "import geopandas as gpd\n",
    "import mapclassify as mc"
   ]
  },
  {
   "cell_type": "markdown",
   "metadata": {
    "pycharm": {
     "name": "#%% md\n"
    }
   },
   "source": [
    "Step0:  \n",
    "Read Data and get basic county groups"
   ]
  },
  {
   "cell_type": "markdown",
   "source": [
    "0.0 Report Data"
   ],
   "metadata": {
    "collapsed": false,
    "pycharm": {
     "name": "#%% md\n"
    }
   }
  },
  {
   "cell_type": "code",
   "execution_count": 2,
   "metadata": {
    "pycharm": {
     "is_executing": false,
     "name": "#%%\n"
    }
   },
   "outputs": [
    {
     "data": {
      "text/plain": "              date    county           state   fips  cases  deaths\n24767   2020-04-01   Unknown        Kentucky  00000      9       0\n85713   2020-04-24   Unknown          Nevada  00000     43       5\n48196   2020-04-10   Unknown            Utah  00000      0       7\n48212   2020-04-10   Unknown         Vermont  00000     26       1\n48216   2020-04-10   Unknown  Virgin Islands  00000     46       1\n...            ...       ...             ...    ...    ...     ...\n98259   2020-04-28  Washakie         Wyoming  56043      4       0\n15835   2020-03-27  Washakie         Wyoming  56043      1       0\n56536   2020-04-13  Washakie         Wyoming  56043      4       0\n61966   2020-04-15  Washakie         Wyoming  56043      4       0\n101107  2020-04-29  Washakie         Wyoming  56043      4       0\n\n[101108 rows x 6 columns]",
      "text/html": "<div>\n<style scoped>\n    .dataframe tbody tr th:only-of-type {\n        vertical-align: middle;\n    }\n\n    .dataframe tbody tr th {\n        vertical-align: top;\n    }\n\n    .dataframe thead th {\n        text-align: right;\n    }\n</style>\n<table border=\"1\" class=\"dataframe\">\n  <thead>\n    <tr style=\"text-align: right;\">\n      <th></th>\n      <th>date</th>\n      <th>county</th>\n      <th>state</th>\n      <th>fips</th>\n      <th>cases</th>\n      <th>deaths</th>\n    </tr>\n  </thead>\n  <tbody>\n    <tr>\n      <th>24767</th>\n      <td>2020-04-01</td>\n      <td>Unknown</td>\n      <td>Kentucky</td>\n      <td>00000</td>\n      <td>9</td>\n      <td>0</td>\n    </tr>\n    <tr>\n      <th>85713</th>\n      <td>2020-04-24</td>\n      <td>Unknown</td>\n      <td>Nevada</td>\n      <td>00000</td>\n      <td>43</td>\n      <td>5</td>\n    </tr>\n    <tr>\n      <th>48196</th>\n      <td>2020-04-10</td>\n      <td>Unknown</td>\n      <td>Utah</td>\n      <td>00000</td>\n      <td>0</td>\n      <td>7</td>\n    </tr>\n    <tr>\n      <th>48212</th>\n      <td>2020-04-10</td>\n      <td>Unknown</td>\n      <td>Vermont</td>\n      <td>00000</td>\n      <td>26</td>\n      <td>1</td>\n    </tr>\n    <tr>\n      <th>48216</th>\n      <td>2020-04-10</td>\n      <td>Unknown</td>\n      <td>Virgin Islands</td>\n      <td>00000</td>\n      <td>46</td>\n      <td>1</td>\n    </tr>\n    <tr>\n      <th>...</th>\n      <td>...</td>\n      <td>...</td>\n      <td>...</td>\n      <td>...</td>\n      <td>...</td>\n      <td>...</td>\n    </tr>\n    <tr>\n      <th>98259</th>\n      <td>2020-04-28</td>\n      <td>Washakie</td>\n      <td>Wyoming</td>\n      <td>56043</td>\n      <td>4</td>\n      <td>0</td>\n    </tr>\n    <tr>\n      <th>15835</th>\n      <td>2020-03-27</td>\n      <td>Washakie</td>\n      <td>Wyoming</td>\n      <td>56043</td>\n      <td>1</td>\n      <td>0</td>\n    </tr>\n    <tr>\n      <th>56536</th>\n      <td>2020-04-13</td>\n      <td>Washakie</td>\n      <td>Wyoming</td>\n      <td>56043</td>\n      <td>4</td>\n      <td>0</td>\n    </tr>\n    <tr>\n      <th>61966</th>\n      <td>2020-04-15</td>\n      <td>Washakie</td>\n      <td>Wyoming</td>\n      <td>56043</td>\n      <td>4</td>\n      <td>0</td>\n    </tr>\n    <tr>\n      <th>101107</th>\n      <td>2020-04-29</td>\n      <td>Washakie</td>\n      <td>Wyoming</td>\n      <td>56043</td>\n      <td>4</td>\n      <td>0</td>\n    </tr>\n  </tbody>\n</table>\n<p>101108 rows × 6 columns</p>\n</div>"
     },
     "metadata": {},
     "output_type": "execute_result",
     "execution_count": 2
    }
   ],
   "source": [
    "df_counties_original = pd.read_csv(\"./us-counties.csv\", dtype={\"date\": np.string_, \n",
    "                                                             \"county\": np.string_,\n",
    "                                                             \"state\": np.string_,\n",
    "                                                             \"fips\": np.string_,\n",
    "                                                            \"cases\": np.int32,\n",
    "                                                            \"deaths\": np.int32})\n",
    "#Tansform Unknown fips to '00000' \n",
    "df_counties_original['fips'] = df_counties_original['fips'].replace({np.nan: '00000'})\n",
    "df_counties_original.sort_values(\"fips\", ascending=True)"
   ]
  },
  {
   "cell_type": "markdown",
   "source": [
    "0.1 GeoJSON Data"
   ],
   "metadata": {
    "collapsed": false,
    "pycharm": {
     "name": "#%% md\n"
    }
   }
  },
  {
   "cell_type": "code",
   "execution_count": 3,
   "outputs": [
    {
     "data": {
      "text/plain": "       NAME      state_name  GEOID  population  \\\n0    Bladen  North Carolina  37017       33778   \n1    Stanly  North Carolina  37167       61114   \n2    Summit            Ohio  39153      541810   \n3  Sullivan    Pennsylvania  42113        6177   \n4    Upshur           Texas  48459       40769   \n\n                                            geometry  \n0  MULTIPOLYGON (((-78.90200 34.83527, -78.79960 ...  \n1  MULTIPOLYGON (((-80.49738 35.20210, -80.29542 ...  \n2  MULTIPOLYGON (((-81.68699 41.13596, -81.68495 ...  \n3  MULTIPOLYGON (((-76.81373 41.59003, -76.22014 ...  \n4  MULTIPOLYGON (((-95.15274 32.66095, -95.15211 ...  ",
      "text/html": "<div>\n<style scoped>\n    .dataframe tbody tr th:only-of-type {\n        vertical-align: middle;\n    }\n\n    .dataframe tbody tr th {\n        vertical-align: top;\n    }\n\n    .dataframe thead th {\n        text-align: right;\n    }\n</style>\n<table border=\"1\" class=\"dataframe\">\n  <thead>\n    <tr style=\"text-align: right;\">\n      <th></th>\n      <th>NAME</th>\n      <th>state_name</th>\n      <th>GEOID</th>\n      <th>population</th>\n      <th>geometry</th>\n    </tr>\n  </thead>\n  <tbody>\n    <tr>\n      <th>0</th>\n      <td>Bladen</td>\n      <td>North Carolina</td>\n      <td>37017</td>\n      <td>33778</td>\n      <td>MULTIPOLYGON (((-78.90200 34.83527, -78.79960 ...</td>\n    </tr>\n    <tr>\n      <th>1</th>\n      <td>Stanly</td>\n      <td>North Carolina</td>\n      <td>37167</td>\n      <td>61114</td>\n      <td>MULTIPOLYGON (((-80.49738 35.20210, -80.29542 ...</td>\n    </tr>\n    <tr>\n      <th>2</th>\n      <td>Summit</td>\n      <td>Ohio</td>\n      <td>39153</td>\n      <td>541810</td>\n      <td>MULTIPOLYGON (((-81.68699 41.13596, -81.68495 ...</td>\n    </tr>\n    <tr>\n      <th>3</th>\n      <td>Sullivan</td>\n      <td>Pennsylvania</td>\n      <td>42113</td>\n      <td>6177</td>\n      <td>MULTIPOLYGON (((-76.81373 41.59003, -76.22014 ...</td>\n    </tr>\n    <tr>\n      <th>4</th>\n      <td>Upshur</td>\n      <td>Texas</td>\n      <td>48459</td>\n      <td>40769</td>\n      <td>MULTIPOLYGON (((-95.15274 32.66095, -95.15211 ...</td>\n    </tr>\n  </tbody>\n</table>\n</div>"
     },
     "metadata": {},
     "output_type": "execute_result",
     "execution_count": 3
    }
   ],
   "source": [
    "old_counties_geojson_df = gpd.read_file(r\"./counties_update_new.geojson\")\n",
    "old_counties_geojson_df.head(5)"
   ],
   "metadata": {
    "collapsed": false,
    "pycharm": {
     "name": "#%%\n",
     "is_executing": false
    }
   }
  },
  {
   "cell_type": "markdown",
   "metadata": {
    "pycharm": {
     "name": "#%% md\n"
    }
   },
   "source": [
    "Group Data to Counties"
   ]
  },
  {
   "cell_type": "code",
   "execution_count": 4,
   "metadata": {
    "pycharm": {
     "is_executing": false,
     "name": "#%%\n"
    }
   },
   "outputs": [
    {
     "data": {
      "text/plain": "                              cases                                   \\\ndate                     2020-01-21 2020-01-22 2020-01-23 2020-01-24   \nstate   county     fips                                                \nAlabama Autauga    01001        0.0        0.0        0.0        0.0   \n        Baldwin    01003        0.0        0.0        0.0        0.0   \n        Barbour    01005        0.0        0.0        0.0        0.0   \n        Bibb       01007        0.0        0.0        0.0        0.0   \n        Blount     01009        0.0        0.0        0.0        0.0   \n...                             ...        ...        ...        ...   \nWyoming Sublette   56035        0.0        0.0        0.0        0.0   \n        Sweetwater 56037        0.0        0.0        0.0        0.0   \n        Teton      56039        0.0        0.0        0.0        0.0   \n        Uinta      56041        0.0        0.0        0.0        0.0   \n        Washakie   56043        0.0        0.0        0.0        0.0   \n\n                                                                      \\\ndate                     2020-01-25 2020-01-26 2020-01-27 2020-01-28   \nstate   county     fips                                                \nAlabama Autauga    01001        0.0        0.0        0.0        0.0   \n        Baldwin    01003        0.0        0.0        0.0        0.0   \n        Barbour    01005        0.0        0.0        0.0        0.0   \n        Bibb       01007        0.0        0.0        0.0        0.0   \n        Blount     01009        0.0        0.0        0.0        0.0   \n...                             ...        ...        ...        ...   \nWyoming Sublette   56035        0.0        0.0        0.0        0.0   \n        Sweetwater 56037        0.0        0.0        0.0        0.0   \n        Teton      56039        0.0        0.0        0.0        0.0   \n        Uinta      56041        0.0        0.0        0.0        0.0   \n        Washakie   56043        0.0        0.0        0.0        0.0   \n\n                                                ...     deaths             \\\ndate                     2020-01-29 2020-01-30  ... 2020-04-20 2020-04-21   \nstate   county     fips                         ...                         \nAlabama Autauga    01001        0.0        0.0  ...        1.0        1.0   \n        Baldwin    01003        0.0        0.0  ...        3.0        3.0   \n        Barbour    01005        0.0        0.0  ...        0.0        0.0   \n        Bibb       01007        0.0        0.0  ...        0.0        0.0   \n        Blount     01009        0.0        0.0  ...        0.0        0.0   \n...                             ...        ...  ...        ...        ...   \nWyoming Sublette   56035        0.0        0.0  ...        0.0        0.0   \n        Sweetwater 56037        0.0        0.0  ...        0.0        0.0   \n        Teton      56039        0.0        0.0  ...        0.0        0.0   \n        Uinta      56041        0.0        0.0  ...        0.0        0.0   \n        Washakie   56043        0.0        0.0  ...        0.0        0.0   \n\n                                                                      \\\ndate                     2020-04-22 2020-04-23 2020-04-24 2020-04-25   \nstate   county     fips                                                \nAlabama Autauga    01001        2.0        2.0        2.0        2.0   \n        Baldwin    01003        3.0        3.0        3.0        3.0   \n        Barbour    01005        0.0        0.0        0.0        0.0   \n        Bibb       01007        0.0        0.0        0.0        0.0   \n        Blount     01009        0.0        0.0        0.0        0.0   \n...                             ...        ...        ...        ...   \nWyoming Sublette   56035        0.0        0.0        0.0        0.0   \n        Sweetwater 56037        0.0        0.0        0.0        0.0   \n        Teton      56039        0.0        1.0        1.0        1.0   \n        Uinta      56041        0.0        0.0        0.0        0.0   \n        Washakie   56043        0.0        0.0        0.0        0.0   \n\n                                                                      \ndate                     2020-04-26 2020-04-27 2020-04-28 2020-04-29  \nstate   county     fips                                               \nAlabama Autauga    01001        2.0        3.0        4.0        4.0  \n        Baldwin    01003        3.0        3.0        3.0        2.0  \n        Barbour    01005        0.0        0.0        0.0        1.0  \n        Bibb       01007        0.0        0.0        0.0        0.0  \n        Blount     01009        0.0        0.0        0.0        0.0  \n...                             ...        ...        ...        ...  \nWyoming Sublette   56035        0.0        0.0        0.0        0.0  \n        Sweetwater 56037        0.0        0.0        0.0        0.0  \n        Teton      56039        1.0        1.0        1.0        1.0  \n        Uinta      56041        0.0        0.0        0.0        0.0  \n        Washakie   56043        0.0        0.0        0.0        0.0  \n\n[2886 rows x 200 columns]",
      "text/html": "<div>\n<style scoped>\n    .dataframe tbody tr th:only-of-type {\n        vertical-align: middle;\n    }\n\n    .dataframe tbody tr th {\n        vertical-align: top;\n    }\n\n    .dataframe thead tr th {\n        text-align: left;\n    }\n\n    .dataframe thead tr:last-of-type th {\n        text-align: right;\n    }\n</style>\n<table border=\"1\" class=\"dataframe\">\n  <thead>\n    <tr>\n      <th></th>\n      <th></th>\n      <th></th>\n      <th colspan=\"10\" halign=\"left\">cases</th>\n      <th>...</th>\n      <th colspan=\"10\" halign=\"left\">deaths</th>\n    </tr>\n    <tr>\n      <th></th>\n      <th></th>\n      <th>date</th>\n      <th>2020-01-21</th>\n      <th>2020-01-22</th>\n      <th>2020-01-23</th>\n      <th>2020-01-24</th>\n      <th>2020-01-25</th>\n      <th>2020-01-26</th>\n      <th>2020-01-27</th>\n      <th>2020-01-28</th>\n      <th>2020-01-29</th>\n      <th>2020-01-30</th>\n      <th>...</th>\n      <th>2020-04-20</th>\n      <th>2020-04-21</th>\n      <th>2020-04-22</th>\n      <th>2020-04-23</th>\n      <th>2020-04-24</th>\n      <th>2020-04-25</th>\n      <th>2020-04-26</th>\n      <th>2020-04-27</th>\n      <th>2020-04-28</th>\n      <th>2020-04-29</th>\n    </tr>\n    <tr>\n      <th>state</th>\n      <th>county</th>\n      <th>fips</th>\n      <th></th>\n      <th></th>\n      <th></th>\n      <th></th>\n      <th></th>\n      <th></th>\n      <th></th>\n      <th></th>\n      <th></th>\n      <th></th>\n      <th></th>\n      <th></th>\n      <th></th>\n      <th></th>\n      <th></th>\n      <th></th>\n      <th></th>\n      <th></th>\n      <th></th>\n      <th></th>\n      <th></th>\n    </tr>\n  </thead>\n  <tbody>\n    <tr>\n      <th rowspan=\"5\" valign=\"top\">Alabama</th>\n      <th>Autauga</th>\n      <th>01001</th>\n      <td>0.0</td>\n      <td>0.0</td>\n      <td>0.0</td>\n      <td>0.0</td>\n      <td>0.0</td>\n      <td>0.0</td>\n      <td>0.0</td>\n      <td>0.0</td>\n      <td>0.0</td>\n      <td>0.0</td>\n      <td>...</td>\n      <td>1.0</td>\n      <td>1.0</td>\n      <td>2.0</td>\n      <td>2.0</td>\n      <td>2.0</td>\n      <td>2.0</td>\n      <td>2.0</td>\n      <td>3.0</td>\n      <td>4.0</td>\n      <td>4.0</td>\n    </tr>\n    <tr>\n      <th>Baldwin</th>\n      <th>01003</th>\n      <td>0.0</td>\n      <td>0.0</td>\n      <td>0.0</td>\n      <td>0.0</td>\n      <td>0.0</td>\n      <td>0.0</td>\n      <td>0.0</td>\n      <td>0.0</td>\n      <td>0.0</td>\n      <td>0.0</td>\n      <td>...</td>\n      <td>3.0</td>\n      <td>3.0</td>\n      <td>3.0</td>\n      <td>3.0</td>\n      <td>3.0</td>\n      <td>3.0</td>\n      <td>3.0</td>\n      <td>3.0</td>\n      <td>3.0</td>\n      <td>2.0</td>\n    </tr>\n    <tr>\n      <th>Barbour</th>\n      <th>01005</th>\n      <td>0.0</td>\n      <td>0.0</td>\n      <td>0.0</td>\n      <td>0.0</td>\n      <td>0.0</td>\n      <td>0.0</td>\n      <td>0.0</td>\n      <td>0.0</td>\n      <td>0.0</td>\n      <td>0.0</td>\n      <td>...</td>\n      <td>0.0</td>\n      <td>0.0</td>\n      <td>0.0</td>\n      <td>0.0</td>\n      <td>0.0</td>\n      <td>0.0</td>\n      <td>0.0</td>\n      <td>0.0</td>\n      <td>0.0</td>\n      <td>1.0</td>\n    </tr>\n    <tr>\n      <th>Bibb</th>\n      <th>01007</th>\n      <td>0.0</td>\n      <td>0.0</td>\n      <td>0.0</td>\n      <td>0.0</td>\n      <td>0.0</td>\n      <td>0.0</td>\n      <td>0.0</td>\n      <td>0.0</td>\n      <td>0.0</td>\n      <td>0.0</td>\n      <td>...</td>\n      <td>0.0</td>\n      <td>0.0</td>\n      <td>0.0</td>\n      <td>0.0</td>\n      <td>0.0</td>\n      <td>0.0</td>\n      <td>0.0</td>\n      <td>0.0</td>\n      <td>0.0</td>\n      <td>0.0</td>\n    </tr>\n    <tr>\n      <th>Blount</th>\n      <th>01009</th>\n      <td>0.0</td>\n      <td>0.0</td>\n      <td>0.0</td>\n      <td>0.0</td>\n      <td>0.0</td>\n      <td>0.0</td>\n      <td>0.0</td>\n      <td>0.0</td>\n      <td>0.0</td>\n      <td>0.0</td>\n      <td>...</td>\n      <td>0.0</td>\n      <td>0.0</td>\n      <td>0.0</td>\n      <td>0.0</td>\n      <td>0.0</td>\n      <td>0.0</td>\n      <td>0.0</td>\n      <td>0.0</td>\n      <td>0.0</td>\n      <td>0.0</td>\n    </tr>\n    <tr>\n      <th>...</th>\n      <th>...</th>\n      <th>...</th>\n      <td>...</td>\n      <td>...</td>\n      <td>...</td>\n      <td>...</td>\n      <td>...</td>\n      <td>...</td>\n      <td>...</td>\n      <td>...</td>\n      <td>...</td>\n      <td>...</td>\n      <td>...</td>\n      <td>...</td>\n      <td>...</td>\n      <td>...</td>\n      <td>...</td>\n      <td>...</td>\n      <td>...</td>\n      <td>...</td>\n      <td>...</td>\n      <td>...</td>\n      <td>...</td>\n    </tr>\n    <tr>\n      <th rowspan=\"5\" valign=\"top\">Wyoming</th>\n      <th>Sublette</th>\n      <th>56035</th>\n      <td>0.0</td>\n      <td>0.0</td>\n      <td>0.0</td>\n      <td>0.0</td>\n      <td>0.0</td>\n      <td>0.0</td>\n      <td>0.0</td>\n      <td>0.0</td>\n      <td>0.0</td>\n      <td>0.0</td>\n      <td>...</td>\n      <td>0.0</td>\n      <td>0.0</td>\n      <td>0.0</td>\n      <td>0.0</td>\n      <td>0.0</td>\n      <td>0.0</td>\n      <td>0.0</td>\n      <td>0.0</td>\n      <td>0.0</td>\n      <td>0.0</td>\n    </tr>\n    <tr>\n      <th>Sweetwater</th>\n      <th>56037</th>\n      <td>0.0</td>\n      <td>0.0</td>\n      <td>0.0</td>\n      <td>0.0</td>\n      <td>0.0</td>\n      <td>0.0</td>\n      <td>0.0</td>\n      <td>0.0</td>\n      <td>0.0</td>\n      <td>0.0</td>\n      <td>...</td>\n      <td>0.0</td>\n      <td>0.0</td>\n      <td>0.0</td>\n      <td>0.0</td>\n      <td>0.0</td>\n      <td>0.0</td>\n      <td>0.0</td>\n      <td>0.0</td>\n      <td>0.0</td>\n      <td>0.0</td>\n    </tr>\n    <tr>\n      <th>Teton</th>\n      <th>56039</th>\n      <td>0.0</td>\n      <td>0.0</td>\n      <td>0.0</td>\n      <td>0.0</td>\n      <td>0.0</td>\n      <td>0.0</td>\n      <td>0.0</td>\n      <td>0.0</td>\n      <td>0.0</td>\n      <td>0.0</td>\n      <td>...</td>\n      <td>0.0</td>\n      <td>0.0</td>\n      <td>0.0</td>\n      <td>1.0</td>\n      <td>1.0</td>\n      <td>1.0</td>\n      <td>1.0</td>\n      <td>1.0</td>\n      <td>1.0</td>\n      <td>1.0</td>\n    </tr>\n    <tr>\n      <th>Uinta</th>\n      <th>56041</th>\n      <td>0.0</td>\n      <td>0.0</td>\n      <td>0.0</td>\n      <td>0.0</td>\n      <td>0.0</td>\n      <td>0.0</td>\n      <td>0.0</td>\n      <td>0.0</td>\n      <td>0.0</td>\n      <td>0.0</td>\n      <td>...</td>\n      <td>0.0</td>\n      <td>0.0</td>\n      <td>0.0</td>\n      <td>0.0</td>\n      <td>0.0</td>\n      <td>0.0</td>\n      <td>0.0</td>\n      <td>0.0</td>\n      <td>0.0</td>\n      <td>0.0</td>\n    </tr>\n    <tr>\n      <th>Washakie</th>\n      <th>56043</th>\n      <td>0.0</td>\n      <td>0.0</td>\n      <td>0.0</td>\n      <td>0.0</td>\n      <td>0.0</td>\n      <td>0.0</td>\n      <td>0.0</td>\n      <td>0.0</td>\n      <td>0.0</td>\n      <td>0.0</td>\n      <td>...</td>\n      <td>0.0</td>\n      <td>0.0</td>\n      <td>0.0</td>\n      <td>0.0</td>\n      <td>0.0</td>\n      <td>0.0</td>\n      <td>0.0</td>\n      <td>0.0</td>\n      <td>0.0</td>\n      <td>0.0</td>\n    </tr>\n  </tbody>\n</table>\n<p>2886 rows × 200 columns</p>\n</div>"
     },
     "metadata": {},
     "output_type": "execute_result",
     "execution_count": 4
    }
   ],
   "source": [
    "pivot_counties = pd.pivot_table(df_counties_original , index=['state','county','fips'],\n",
    "                       columns=['date'])\n",
    "pivot_counties = pivot_counties.replace(np.nan, 0)\n",
    "pivot_counties"
   ]
  },
  {
   "cell_type": "markdown",
   "metadata": {},
   "source": [
    "0.3 Get Date Info"
   ]
  },
  {
   "cell_type": "code",
   "execution_count": 5,
   "metadata": {
    "pycharm": {
     "is_executing": false,
     "name": "#%%\n"
    }
   },
   "outputs": [
    {
     "data": {
      "text/plain": "Index(['2020-01-21', '2020-01-22', '2020-01-23', '2020-01-24', '2020-01-25',\n       '2020-01-26', '2020-01-27', '2020-01-28', '2020-01-29', '2020-01-30',\n       '2020-01-31', '2020-02-01', '2020-02-02', '2020-02-03', '2020-02-04',\n       '2020-02-05', '2020-02-06', '2020-02-07', '2020-02-08', '2020-02-09',\n       '2020-02-10', '2020-02-11', '2020-02-12', '2020-02-13', '2020-02-14',\n       '2020-02-15', '2020-02-16', '2020-02-17', '2020-02-18', '2020-02-19',\n       '2020-02-20', '2020-02-21', '2020-02-22', '2020-02-23', '2020-02-24',\n       '2020-02-25', '2020-02-26', '2020-02-27', '2020-02-28', '2020-02-29',\n       '2020-03-01', '2020-03-02', '2020-03-03', '2020-03-04', '2020-03-05',\n       '2020-03-06', '2020-03-07', '2020-03-08', '2020-03-09', '2020-03-10',\n       '2020-03-11', '2020-03-12', '2020-03-13', '2020-03-14', '2020-03-15',\n       '2020-03-16', '2020-03-17', '2020-03-18', '2020-03-19', '2020-03-20',\n       '2020-03-21', '2020-03-22', '2020-03-23', '2020-03-24', '2020-03-25',\n       '2020-03-26', '2020-03-27', '2020-03-28', '2020-03-29', '2020-03-30',\n       '2020-03-31', '2020-04-01', '2020-04-02', '2020-04-03', '2020-04-04',\n       '2020-04-05', '2020-04-06', '2020-04-07', '2020-04-08', '2020-04-09',\n       '2020-04-10', '2020-04-11', '2020-04-12', '2020-04-13', '2020-04-14',\n       '2020-04-15', '2020-04-16', '2020-04-17', '2020-04-18', '2020-04-19',\n       '2020-04-20', '2020-04-21', '2020-04-22', '2020-04-23', '2020-04-24',\n       '2020-04-25', '2020-04-26', '2020-04-27', '2020-04-28', '2020-04-29'],\n      dtype='object', name='date')"
     },
     "metadata": {},
     "output_type": "execute_result",
     "execution_count": 5
    }
   ],
   "source": [
    "date= pivot_counties['cases'].columns\n",
    "date"
   ]
  },
  {
   "cell_type": "code",
   "execution_count": 6,
   "metadata": {
    "pycharm": {
     "is_executing": false,
     "name": "#%%\n"
    }
   },
   "outputs": [],
   "source": [
    "date_str = np.sort(date)\n",
    "dt_str_start=np.min(date_str)\n",
    "dt_str_end=np.max(date_str)"
   ]
  },
  {
   "cell_type": "code",
   "execution_count": 7,
   "metadata": {
    "pycharm": {
     "is_executing": false,
     "name": "#%%\n"
    }
   },
   "outputs": [
    {
     "name": "stdout",
     "text": [
      "100 DatetimeIndex(['2020-01-21', '2020-01-22', '2020-01-23', '2020-01-24',\n               '2020-01-25', '2020-01-26', '2020-01-27', '2020-01-28',\n               '2020-01-29', '2020-01-30', '2020-01-31', '2020-02-01',\n               '2020-02-02', '2020-02-03', '2020-02-04', '2020-02-05',\n               '2020-02-06', '2020-02-07', '2020-02-08', '2020-02-09',\n               '2020-02-10', '2020-02-11', '2020-02-12', '2020-02-13',\n               '2020-02-14', '2020-02-15', '2020-02-16', '2020-02-17',\n               '2020-02-18', '2020-02-19', '2020-02-20', '2020-02-21',\n               '2020-02-22', '2020-02-23', '2020-02-24', '2020-02-25',\n               '2020-02-26', '2020-02-27', '2020-02-28', '2020-02-29',\n               '2020-03-01', '2020-03-02', '2020-03-03', '2020-03-04',\n               '2020-03-05', '2020-03-06', '2020-03-07', '2020-03-08',\n               '2020-03-09', '2020-03-10', '2020-03-11', '2020-03-12',\n               '2020-03-13', '2020-03-14', '2020-03-15', '2020-03-16',\n               '2020-03-17', '2020-03-18', '2020-03-19', '2020-03-20',\n               '2020-03-21', '2020-03-22', '2020-03-23', '2020-03-24',\n               '2020-03-25', '2020-03-26', '2020-03-27', '2020-03-28',\n               '2020-03-29', '2020-03-30', '2020-03-31', '2020-04-01',\n               '2020-04-02', '2020-04-03', '2020-04-04', '2020-04-05',\n               '2020-04-06', '2020-04-07', '2020-04-08', '2020-04-09',\n               '2020-04-10', '2020-04-11', '2020-04-12', '2020-04-13',\n               '2020-04-14', '2020-04-15', '2020-04-16', '2020-04-17',\n               '2020-04-18', '2020-04-19', '2020-04-20', '2020-04-21',\n               '2020-04-22', '2020-04-23', '2020-04-24', '2020-04-25',\n               '2020-04-26', '2020-04-27', '2020-04-28', '2020-04-29'],\n              dtype='datetime64[ns]', freq='D')\n100 ['2020-01-21', '2020-01-22', '2020-01-23', '2020-01-24', '2020-01-25', '2020-01-26', '2020-01-27', '2020-01-28', '2020-01-29', '2020-01-30', '2020-01-31', '2020-02-01', '2020-02-02', '2020-02-03', '2020-02-04', '2020-02-05', '2020-02-06', '2020-02-07', '2020-02-08', '2020-02-09', '2020-02-10', '2020-02-11', '2020-02-12', '2020-02-13', '2020-02-14', '2020-02-15', '2020-02-16', '2020-02-17', '2020-02-18', '2020-02-19', '2020-02-20', '2020-02-21', '2020-02-22', '2020-02-23', '2020-02-24', '2020-02-25', '2020-02-26', '2020-02-27', '2020-02-28', '2020-02-29', '2020-03-01', '2020-03-02', '2020-03-03', '2020-03-04', '2020-03-05', '2020-03-06', '2020-03-07', '2020-03-08', '2020-03-09', '2020-03-10', '2020-03-11', '2020-03-12', '2020-03-13', '2020-03-14', '2020-03-15', '2020-03-16', '2020-03-17', '2020-03-18', '2020-03-19', '2020-03-20', '2020-03-21', '2020-03-22', '2020-03-23', '2020-03-24', '2020-03-25', '2020-03-26', '2020-03-27', '2020-03-28', '2020-03-29', '2020-03-30', '2020-03-31', '2020-04-01', '2020-04-02', '2020-04-03', '2020-04-04', '2020-04-05', '2020-04-06', '2020-04-07', '2020-04-08', '2020-04-09', '2020-04-10', '2020-04-11', '2020-04-12', '2020-04-13', '2020-04-14', '2020-04-15', '2020-04-16', '2020-04-17', '2020-04-18', '2020-04-19', '2020-04-20', '2020-04-21', '2020-04-22', '2020-04-23', '2020-04-24', '2020-04-25', '2020-04-26', '2020-04-27', '2020-04-28', '2020-04-29']\n"
     ],
     "output_type": "stream"
    }
   ],
   "source": [
    "dt_start = datetime.strptime(dt_str_start, \"%Y-%m-%d\")\n",
    "dt_end = datetime.strptime(dt_str_end, \"%Y-%m-%d\")\n",
    "dt_range = pd.date_range(start=dt_start,end=dt_end)\n",
    "print(len(dt_range), dt_range)\n",
    "dt_range_str = list(map(lambda x: x.strftime(\"%Y-%m-%d\"), dt_range.tolist()))\n",
    "print(len(dt_range_str), dt_range_str)"
   ]
  },
  {
   "cell_type": "markdown",
   "metadata": {
    "pycharm": {
     "name": "#%% md\n"
    }
   },
   "source": [
    "Step1:  \n",
    "Add Cases Time Series, First Case Date, Death Time Series, First Death Date"
   ]
  },
  {
   "cell_type": "code",
   "execution_count": 8,
   "metadata": {
    "pycharm": {
     "is_executing": false,
     "name": "#%%\n"
    }
   },
   "outputs": [],
   "source": [
    "# import json\n",
    "# pivot_counties['cases_ts'] = json.dumps({\"values\": pivot_counties['cases'].values.tolist()[0]})\n",
    "# pivot_counties['deaths_ts'] =  json.dumps({\"values\": pivot_counties['deaths'].values.tolist()[0]})\n",
    "\n",
    "pivot_counties['cases_ts'] =  pivot_counties['cases'].values.tolist()\n",
    "pivot_counties['deaths_ts'] =  pivot_counties['deaths'].values.tolist()"
   ]
  },
  {
   "cell_type": "markdown",
   "source": [
    "Form Dynamic classes for new_case and new_death "
   ],
   "metadata": {
    "collapsed": false,
    "pycharm": {
     "name": "#%% md\n"
    }
   }
  },
  {
   "cell_type": "code",
   "execution_count": 9,
   "outputs": [
    {
     "name": "stderr",
     "text": [
      "/Users/zhiyul/miniconda3/envs/wherecovid19/lib/python3.8/site-packages/mapclassify/classifiers.py:236: UserWarning: Warning: Not enough unique values in array to form k classes\n  Warn(\n/Users/zhiyul/miniconda3/envs/wherecovid19/lib/python3.8/site-packages/mapclassify/classifiers.py:239: UserWarning: Warning: setting k to 1\n  Warn(\"Warning: setting k to %d\" % k_q, UserWarning)\n/Users/zhiyul/miniconda3/envs/wherecovid19/lib/python3.8/site-packages/mapclassify/classifiers.py:890: RuntimeWarning: invalid value encountered in double_scalars\n  gadf = 1 - self.adcm / adam\n/Users/zhiyul/miniconda3/envs/wherecovid19/lib/python3.8/site-packages/mapclassify/classifiers.py:239: UserWarning: Warning: setting k to 2\n  Warn(\"Warning: setting k to %d\" % k_q, UserWarning)\n",
      "/Users/zhiyul/miniconda3/envs/wherecovid19/lib/python3.8/site-packages/mapclassify/classifiers.py:239: UserWarning: Warning: setting k to 3\n  Warn(\"Warning: setting k to %d\" % k_q, UserWarning)\n/Users/zhiyul/miniconda3/envs/wherecovid19/lib/python3.8/site-packages/mapclassify/classifiers.py:239: UserWarning: Warning: setting k to 4\n  Warn(\"Warning: setting k to %d\" % k_q, UserWarning)\n"
     ],
     "output_type": "stream"
    }
   ],
   "source": [
    "new_case_dict = {}\n",
    "for i in range(1,len(date)):\n",
    "    q6 = mc.Quantiles(pivot_counties['cases_ts'].apply(lambda x: x[i] - x[i - 1]).values, k=6)\n",
    "    new_case_dict[i] = ','.join(q6.bins.astype(int).astype(str))"
   ],
   "metadata": {
    "collapsed": false,
    "pycharm": {
     "name": "#%%\n",
     "is_executing": false
    }
   }
  },
  {
   "cell_type": "code",
   "execution_count": 10,
   "outputs": [],
   "source": [
    "dynamic_cl_dict = {}\n",
    "dynamic_cl_dict['county'] = {'new_case':new_case_dict, 'new_death':{}}\n",
    "dynamic_cl_dict['state'] = {}"
   ],
   "metadata": {
    "collapsed": false,
    "pycharm": {
     "name": "#%%\n",
     "is_executing": false
    }
   }
  },
  {
   "cell_type": "code",
   "execution_count": 11,
   "outputs": [],
   "source": [
    "import json\n",
    "with open('dynamic_classes.json','w') as json_file:\n",
    "    json.dump(dynamic_cl_dict, json_file)"
   ],
   "metadata": {
    "collapsed": false,
    "pycharm": {
     "name": "#%%\n",
     "is_executing": false
    }
   }
  },
  {
   "cell_type": "code",
   "execution_count": 12,
   "outputs": [
    {
     "data": {
      "text/plain": "                           cases                                              \\\ndate                  2020-01-21 2020-01-22 2020-01-23 2020-01-24 2020-01-25   \nstate   county  fips                                                           \nAlabama Autauga 01001        0.0        0.0        0.0        0.0        0.0   \n        Baldwin 01003        0.0        0.0        0.0        0.0        0.0   \n        Barbour 01005        0.0        0.0        0.0        0.0        0.0   \n        Bibb    01007        0.0        0.0        0.0        0.0        0.0   \n        Blount  01009        0.0        0.0        0.0        0.0        0.0   \n\n                                                                              \\\ndate                  2020-01-26 2020-01-27 2020-01-28 2020-01-29 2020-01-30   \nstate   county  fips                                                           \nAlabama Autauga 01001        0.0        0.0        0.0        0.0        0.0   \n        Baldwin 01003        0.0        0.0        0.0        0.0        0.0   \n        Barbour 01005        0.0        0.0        0.0        0.0        0.0   \n        Bibb    01007        0.0        0.0        0.0        0.0        0.0   \n        Blount  01009        0.0        0.0        0.0        0.0        0.0   \n\n                       ...     deaths                                   \\\ndate                   ... 2020-04-24 2020-04-25 2020-04-26 2020-04-27   \nstate   county  fips   ...                                               \nAlabama Autauga 01001  ...        2.0        2.0        2.0        3.0   \n        Baldwin 01003  ...        3.0        3.0        3.0        3.0   \n        Barbour 01005  ...        0.0        0.0        0.0        0.0   \n        Bibb    01007  ...        0.0        0.0        0.0        0.0   \n        Blount  01009  ...        0.0        0.0        0.0        0.0   \n\n                                             \\\ndate                  2020-04-28 2020-04-29   \nstate   county  fips                          \nAlabama Autauga 01001        4.0        4.0   \n        Baldwin 01003        3.0        2.0   \n        Barbour 01005        0.0        1.0   \n        Bibb    01007        0.0        0.0   \n        Blount  01009        0.0        0.0   \n\n                                                                cases_ts  \\\ndate                                                                       \nstate   county  fips                                                       \nAlabama Autauga 01001  [0.0, 0.0, 0.0, 0.0, 0.0, 0.0, 0.0, 0.0, 0.0, ...   \n        Baldwin 01003  [0.0, 0.0, 0.0, 0.0, 0.0, 0.0, 0.0, 0.0, 0.0, ...   \n        Barbour 01005  [0.0, 0.0, 0.0, 0.0, 0.0, 0.0, 0.0, 0.0, 0.0, ...   \n        Bibb    01007  [0.0, 0.0, 0.0, 0.0, 0.0, 0.0, 0.0, 0.0, 0.0, ...   \n        Blount  01009  [0.0, 0.0, 0.0, 0.0, 0.0, 0.0, 0.0, 0.0, 0.0, ...   \n\n                                                               deaths_ts  \\\ndate                                                                       \nstate   county  fips                                                       \nAlabama Autauga 01001  [0.0, 0.0, 0.0, 0.0, 0.0, 0.0, 0.0, 0.0, 0.0, ...   \n        Baldwin 01003  [0.0, 0.0, 0.0, 0.0, 0.0, 0.0, 0.0, 0.0, 0.0, ...   \n        Barbour 01005  [0.0, 0.0, 0.0, 0.0, 0.0, 0.0, 0.0, 0.0, 0.0, ...   \n        Bibb    01007  [0.0, 0.0, 0.0, 0.0, 0.0, 0.0, 0.0, 0.0, 0.0, ...   \n        Blount  01009  [0.0, 0.0, 0.0, 0.0, 0.0, 0.0, 0.0, 0.0, 0.0, ...   \n\n                      dt_first_case dt_first_death  \ndate                                                \nstate   county  fips                                \nAlabama Autauga 01001    2020-03-24     2020-04-06  \n        Baldwin 01003    2020-03-14     2020-04-01  \n        Barbour 01005    2020-04-03     2020-04-29  \n        Bibb    01007    2020-03-30            NaN  \n        Blount  01009    2020-03-25            NaN  \n\n[5 rows x 204 columns]",
      "text/html": "<div>\n<style scoped>\n    .dataframe tbody tr th:only-of-type {\n        vertical-align: middle;\n    }\n\n    .dataframe tbody tr th {\n        vertical-align: top;\n    }\n\n    .dataframe thead tr th {\n        text-align: left;\n    }\n\n    .dataframe thead tr:last-of-type th {\n        text-align: right;\n    }\n</style>\n<table border=\"1\" class=\"dataframe\">\n  <thead>\n    <tr>\n      <th></th>\n      <th></th>\n      <th></th>\n      <th colspan=\"10\" halign=\"left\">cases</th>\n      <th>...</th>\n      <th colspan=\"6\" halign=\"left\">deaths</th>\n      <th>cases_ts</th>\n      <th>deaths_ts</th>\n      <th>dt_first_case</th>\n      <th>dt_first_death</th>\n    </tr>\n    <tr>\n      <th></th>\n      <th></th>\n      <th>date</th>\n      <th>2020-01-21</th>\n      <th>2020-01-22</th>\n      <th>2020-01-23</th>\n      <th>2020-01-24</th>\n      <th>2020-01-25</th>\n      <th>2020-01-26</th>\n      <th>2020-01-27</th>\n      <th>2020-01-28</th>\n      <th>2020-01-29</th>\n      <th>2020-01-30</th>\n      <th>...</th>\n      <th>2020-04-24</th>\n      <th>2020-04-25</th>\n      <th>2020-04-26</th>\n      <th>2020-04-27</th>\n      <th>2020-04-28</th>\n      <th>2020-04-29</th>\n      <th></th>\n      <th></th>\n      <th></th>\n      <th></th>\n    </tr>\n    <tr>\n      <th>state</th>\n      <th>county</th>\n      <th>fips</th>\n      <th></th>\n      <th></th>\n      <th></th>\n      <th></th>\n      <th></th>\n      <th></th>\n      <th></th>\n      <th></th>\n      <th></th>\n      <th></th>\n      <th></th>\n      <th></th>\n      <th></th>\n      <th></th>\n      <th></th>\n      <th></th>\n      <th></th>\n      <th></th>\n      <th></th>\n      <th></th>\n      <th></th>\n    </tr>\n  </thead>\n  <tbody>\n    <tr>\n      <th rowspan=\"5\" valign=\"top\">Alabama</th>\n      <th>Autauga</th>\n      <th>01001</th>\n      <td>0.0</td>\n      <td>0.0</td>\n      <td>0.0</td>\n      <td>0.0</td>\n      <td>0.0</td>\n      <td>0.0</td>\n      <td>0.0</td>\n      <td>0.0</td>\n      <td>0.0</td>\n      <td>0.0</td>\n      <td>...</td>\n      <td>2.0</td>\n      <td>2.0</td>\n      <td>2.0</td>\n      <td>3.0</td>\n      <td>4.0</td>\n      <td>4.0</td>\n      <td>[0.0, 0.0, 0.0, 0.0, 0.0, 0.0, 0.0, 0.0, 0.0, ...</td>\n      <td>[0.0, 0.0, 0.0, 0.0, 0.0, 0.0, 0.0, 0.0, 0.0, ...</td>\n      <td>2020-03-24</td>\n      <td>2020-04-06</td>\n    </tr>\n    <tr>\n      <th>Baldwin</th>\n      <th>01003</th>\n      <td>0.0</td>\n      <td>0.0</td>\n      <td>0.0</td>\n      <td>0.0</td>\n      <td>0.0</td>\n      <td>0.0</td>\n      <td>0.0</td>\n      <td>0.0</td>\n      <td>0.0</td>\n      <td>0.0</td>\n      <td>...</td>\n      <td>3.0</td>\n      <td>3.0</td>\n      <td>3.0</td>\n      <td>3.0</td>\n      <td>3.0</td>\n      <td>2.0</td>\n      <td>[0.0, 0.0, 0.0, 0.0, 0.0, 0.0, 0.0, 0.0, 0.0, ...</td>\n      <td>[0.0, 0.0, 0.0, 0.0, 0.0, 0.0, 0.0, 0.0, 0.0, ...</td>\n      <td>2020-03-14</td>\n      <td>2020-04-01</td>\n    </tr>\n    <tr>\n      <th>Barbour</th>\n      <th>01005</th>\n      <td>0.0</td>\n      <td>0.0</td>\n      <td>0.0</td>\n      <td>0.0</td>\n      <td>0.0</td>\n      <td>0.0</td>\n      <td>0.0</td>\n      <td>0.0</td>\n      <td>0.0</td>\n      <td>0.0</td>\n      <td>...</td>\n      <td>0.0</td>\n      <td>0.0</td>\n      <td>0.0</td>\n      <td>0.0</td>\n      <td>0.0</td>\n      <td>1.0</td>\n      <td>[0.0, 0.0, 0.0, 0.0, 0.0, 0.0, 0.0, 0.0, 0.0, ...</td>\n      <td>[0.0, 0.0, 0.0, 0.0, 0.0, 0.0, 0.0, 0.0, 0.0, ...</td>\n      <td>2020-04-03</td>\n      <td>2020-04-29</td>\n    </tr>\n    <tr>\n      <th>Bibb</th>\n      <th>01007</th>\n      <td>0.0</td>\n      <td>0.0</td>\n      <td>0.0</td>\n      <td>0.0</td>\n      <td>0.0</td>\n      <td>0.0</td>\n      <td>0.0</td>\n      <td>0.0</td>\n      <td>0.0</td>\n      <td>0.0</td>\n      <td>...</td>\n      <td>0.0</td>\n      <td>0.0</td>\n      <td>0.0</td>\n      <td>0.0</td>\n      <td>0.0</td>\n      <td>0.0</td>\n      <td>[0.0, 0.0, 0.0, 0.0, 0.0, 0.0, 0.0, 0.0, 0.0, ...</td>\n      <td>[0.0, 0.0, 0.0, 0.0, 0.0, 0.0, 0.0, 0.0, 0.0, ...</td>\n      <td>2020-03-30</td>\n      <td>NaN</td>\n    </tr>\n    <tr>\n      <th>Blount</th>\n      <th>01009</th>\n      <td>0.0</td>\n      <td>0.0</td>\n      <td>0.0</td>\n      <td>0.0</td>\n      <td>0.0</td>\n      <td>0.0</td>\n      <td>0.0</td>\n      <td>0.0</td>\n      <td>0.0</td>\n      <td>0.0</td>\n      <td>...</td>\n      <td>0.0</td>\n      <td>0.0</td>\n      <td>0.0</td>\n      <td>0.0</td>\n      <td>0.0</td>\n      <td>0.0</td>\n      <td>[0.0, 0.0, 0.0, 0.0, 0.0, 0.0, 0.0, 0.0, 0.0, ...</td>\n      <td>[0.0, 0.0, 0.0, 0.0, 0.0, 0.0, 0.0, 0.0, 0.0, ...</td>\n      <td>2020-03-25</td>\n      <td>NaN</td>\n    </tr>\n  </tbody>\n</table>\n<p>5 rows × 204 columns</p>\n</div>"
     },
     "metadata": {},
     "output_type": "execute_result",
     "execution_count": 12
    }
   ],
   "source": [
    "pivot_counties['dt_first_case'] = (pivot_counties['cases'] > 0).idxmax(axis=1)\n",
    "pivot_counties['dt_first_death'] = (pivot_counties['deaths'] > 0).idxmax(axis=1)\n",
    "#For death reports, deal with no deaths counties\n",
    "pivot_counties.loc[pivot_counties['deaths'].iloc[:, -1] <= 0, 'dt_first_death'] = np.nan\n",
    "pivot_counties.head(5)"
   ],
   "metadata": {
    "collapsed": false,
    "pycharm": {
     "name": "#%%\n",
     "is_executing": false
    }
   }
  },
  {
   "cell_type": "markdown",
   "source": [
    "Step2:  \n",
    "Add today_case, today_new_case, today_death, today_new_death"
   ],
   "metadata": {
    "collapsed": false,
    "pycharm": {
     "name": "#%% md\n"
    }
   }
  },
  {
   "cell_type": "code",
   "execution_count": 13,
   "outputs": [],
   "source": [
    "yesterday = date.values[-2]\n",
    "pivot_counties['today_case'] = pivot_counties['cases'][dt_str_end]\n",
    "pivot_counties['today_new_case'] = pivot_counties['cases'][dt_str_end] - pivot_counties['cases'][yesterday]\n",
    "pivot_counties['today_death'] = pivot_counties['deaths'][dt_str_end]\n",
    "pivot_counties['today_new_death'] = pivot_counties['deaths'][dt_str_end] - pivot_counties['deaths'][yesterday]"
   ],
   "metadata": {
    "collapsed": false,
    "pycharm": {
     "name": "#%%\n",
     "is_executing": false
    }
   }
  },
  {
   "cell_type": "markdown",
   "source": [
    "Step3:  \n",
    "Extract necessary columns"
   ],
   "metadata": {
    "collapsed": false,
    "pycharm": {
     "name": "#%% md\n"
    }
   }
  },
  {
   "cell_type": "code",
   "execution_count": 14,
   "outputs": [
    {
     "data": {
      "text/plain": "     state   county   fips                                           cases_ts  \\\n0  Alabama  Autauga  01001  [0.0, 0.0, 0.0, 0.0, 0.0, 0.0, 0.0, 0.0, 0.0, ...   \n1  Alabama  Baldwin  01003  [0.0, 0.0, 0.0, 0.0, 0.0, 0.0, 0.0, 0.0, 0.0, ...   \n2  Alabama  Barbour  01005  [0.0, 0.0, 0.0, 0.0, 0.0, 0.0, 0.0, 0.0, 0.0, ...   \n3  Alabama     Bibb  01007  [0.0, 0.0, 0.0, 0.0, 0.0, 0.0, 0.0, 0.0, 0.0, ...   \n4  Alabama   Blount  01009  [0.0, 0.0, 0.0, 0.0, 0.0, 0.0, 0.0, 0.0, 0.0, ...   \n\n                                           deaths_ts dt_first_case  \\\n0  [0.0, 0.0, 0.0, 0.0, 0.0, 0.0, 0.0, 0.0, 0.0, ...    2020-03-24   \n1  [0.0, 0.0, 0.0, 0.0, 0.0, 0.0, 0.0, 0.0, 0.0, ...    2020-03-14   \n2  [0.0, 0.0, 0.0, 0.0, 0.0, 0.0, 0.0, 0.0, 0.0, ...    2020-04-03   \n3  [0.0, 0.0, 0.0, 0.0, 0.0, 0.0, 0.0, 0.0, 0.0, ...    2020-03-30   \n4  [0.0, 0.0, 0.0, 0.0, 0.0, 0.0, 0.0, 0.0, 0.0, ...    2020-03-25   \n\n  dt_first_death  today_case  today_new_case  today_death  today_new_death  \n0     2020-04-06        43.0             3.0          4.0              0.0  \n1     2020-04-01       173.0             2.0          2.0             -1.0  \n2     2020-04-29        37.0             0.0          1.0              1.0  \n3            NaN        42.0             0.0          0.0              0.0  \n4            NaN        36.0             2.0          0.0              0.0  ",
      "text/html": "<div>\n<style scoped>\n    .dataframe tbody tr th:only-of-type {\n        vertical-align: middle;\n    }\n\n    .dataframe tbody tr th {\n        vertical-align: top;\n    }\n\n    .dataframe thead th {\n        text-align: right;\n    }\n</style>\n<table border=\"1\" class=\"dataframe\">\n  <thead>\n    <tr style=\"text-align: right;\">\n      <th></th>\n      <th>state</th>\n      <th>county</th>\n      <th>fips</th>\n      <th>cases_ts</th>\n      <th>deaths_ts</th>\n      <th>dt_first_case</th>\n      <th>dt_first_death</th>\n      <th>today_case</th>\n      <th>today_new_case</th>\n      <th>today_death</th>\n      <th>today_new_death</th>\n    </tr>\n  </thead>\n  <tbody>\n    <tr>\n      <th>0</th>\n      <td>Alabama</td>\n      <td>Autauga</td>\n      <td>01001</td>\n      <td>[0.0, 0.0, 0.0, 0.0, 0.0, 0.0, 0.0, 0.0, 0.0, ...</td>\n      <td>[0.0, 0.0, 0.0, 0.0, 0.0, 0.0, 0.0, 0.0, 0.0, ...</td>\n      <td>2020-03-24</td>\n      <td>2020-04-06</td>\n      <td>43.0</td>\n      <td>3.0</td>\n      <td>4.0</td>\n      <td>0.0</td>\n    </tr>\n    <tr>\n      <th>1</th>\n      <td>Alabama</td>\n      <td>Baldwin</td>\n      <td>01003</td>\n      <td>[0.0, 0.0, 0.0, 0.0, 0.0, 0.0, 0.0, 0.0, 0.0, ...</td>\n      <td>[0.0, 0.0, 0.0, 0.0, 0.0, 0.0, 0.0, 0.0, 0.0, ...</td>\n      <td>2020-03-14</td>\n      <td>2020-04-01</td>\n      <td>173.0</td>\n      <td>2.0</td>\n      <td>2.0</td>\n      <td>-1.0</td>\n    </tr>\n    <tr>\n      <th>2</th>\n      <td>Alabama</td>\n      <td>Barbour</td>\n      <td>01005</td>\n      <td>[0.0, 0.0, 0.0, 0.0, 0.0, 0.0, 0.0, 0.0, 0.0, ...</td>\n      <td>[0.0, 0.0, 0.0, 0.0, 0.0, 0.0, 0.0, 0.0, 0.0, ...</td>\n      <td>2020-04-03</td>\n      <td>2020-04-29</td>\n      <td>37.0</td>\n      <td>0.0</td>\n      <td>1.0</td>\n      <td>1.0</td>\n    </tr>\n    <tr>\n      <th>3</th>\n      <td>Alabama</td>\n      <td>Bibb</td>\n      <td>01007</td>\n      <td>[0.0, 0.0, 0.0, 0.0, 0.0, 0.0, 0.0, 0.0, 0.0, ...</td>\n      <td>[0.0, 0.0, 0.0, 0.0, 0.0, 0.0, 0.0, 0.0, 0.0, ...</td>\n      <td>2020-03-30</td>\n      <td>NaN</td>\n      <td>42.0</td>\n      <td>0.0</td>\n      <td>0.0</td>\n      <td>0.0</td>\n    </tr>\n    <tr>\n      <th>4</th>\n      <td>Alabama</td>\n      <td>Blount</td>\n      <td>01009</td>\n      <td>[0.0, 0.0, 0.0, 0.0, 0.0, 0.0, 0.0, 0.0, 0.0, ...</td>\n      <td>[0.0, 0.0, 0.0, 0.0, 0.0, 0.0, 0.0, 0.0, 0.0, ...</td>\n      <td>2020-03-25</td>\n      <td>NaN</td>\n      <td>36.0</td>\n      <td>2.0</td>\n      <td>0.0</td>\n      <td>0.0</td>\n    </tr>\n  </tbody>\n</table>\n</div>"
     },
     "metadata": {},
     "output_type": "execute_result",
     "execution_count": 14
    }
   ],
   "source": [
    "report_df = pivot_counties[['cases_ts','deaths_ts','dt_first_case','dt_first_death','today_case','today_new_case', 'today_death','today_new_death']]\n",
    "report_df = report_df.reset_index()\n",
    "report_df.columns = ['state','county','fips','cases_ts','deaths_ts','dt_first_case','dt_first_death','today_case','today_new_case', 'today_death','today_new_death']\n",
    "report_df.head(5)"
   ],
   "metadata": {
    "collapsed": false,
    "pycharm": {
     "name": "#%%\n",
     "is_executing": false
    }
   }
  },
  {
   "cell_type": "code",
   "execution_count": 15,
   "outputs": [
    {
     "data": {
      "text/plain": "[0.0,\n 0.0,\n 0.0,\n 0.0,\n 0.0,\n 0.0,\n 0.0,\n 0.0,\n 0.0,\n 0.0,\n 0.0,\n 0.0,\n 0.0,\n 0.0,\n 0.0,\n 0.0,\n 0.0,\n 0.0,\n 0.0,\n 0.0,\n 0.0,\n 0.0,\n 0.0,\n 0.0,\n 0.0,\n 0.0,\n 0.0,\n 0.0,\n 0.0,\n 0.0,\n 0.0,\n 0.0,\n 0.0,\n 0.0,\n 0.0,\n 0.0,\n 0.0,\n 0.0,\n 0.0,\n 0.0,\n 0.0,\n 0.0,\n 0.0,\n 0.0,\n 0.0,\n 0.0,\n 0.0,\n 0.0,\n 0.0,\n 0.0,\n 0.0,\n 0.0,\n 0.0,\n 1.0,\n 1.0,\n 1.0,\n 1.0,\n 1.0,\n 1.0,\n 2.0,\n 2.0,\n 2.0,\n 3.0,\n 4.0,\n 4.0,\n 5.0,\n 5.0,\n 10.0,\n 15.0,\n 18.0,\n 19.0,\n 23.0,\n 25.0,\n 28.0,\n 29.0,\n 34.0,\n 38.0,\n 42.0,\n 49.0,\n 59.0,\n 59.0,\n 66.0,\n 71.0,\n 78.0,\n 87.0,\n 98.0,\n 102.0,\n 103.0,\n 109.0,\n 114.0,\n 117.0,\n 123.0,\n 132.0,\n 143.0,\n 147.0,\n 154.0,\n 161.0,\n 168.0,\n 171.0,\n 173.0]"
     },
     "metadata": {},
     "output_type": "execute_result",
     "execution_count": 15
    }
   ],
   "source": [
    "report_df['cases_ts'][1]"
   ],
   "metadata": {
    "collapsed": false,
    "pycharm": {
     "name": "#%%\n",
     "is_executing": false
    }
   }
  },
  {
   "cell_type": "markdown",
   "source": [
    "Step4:  \n",
    "Assign Geometries to counties"
   ],
   "metadata": {
    "collapsed": false
   }
  },
  {
   "cell_type": "code",
   "execution_count": 16,
   "outputs": [
    {
     "data": {
      "text/plain": "Index(['NAME', 'state_name', 'GEOID', 'population', 'geometry', 'state',\n       'county', 'fips', 'cases_ts', 'deaths_ts', 'dt_first_case',\n       'dt_first_death', 'today_case', 'today_new_case', 'today_death',\n       'today_new_death'],\n      dtype='object')"
     },
     "metadata": {},
     "output_type": "execute_result",
     "execution_count": 16
    }
   ],
   "source": [
    "final_df = pd.merge(old_counties_geojson_df[[\"NAME\", \"state_name\", \"GEOID\", \"population\", \"geometry\"]], report_df, how='left', left_on=['NAME','state_name'], right_on = ['county','state'])\n",
    "final_df.columns"
   ],
   "metadata": {
    "collapsed": false,
    "pycharm": {
     "name": "#%%\n",
     "is_executing": false
    }
   }
  },
  {
   "cell_type": "markdown",
   "source": [
    "Step5:  \n",
    "Deal with nan values (Counties not shows up in geojson) (More works)"
   ],
   "metadata": {
    "collapsed": false,
    "pycharm": {
     "name": "#%% md\n"
    }
   }
  },
  {
   "cell_type": "code",
   "execution_count": 17,
   "outputs": [],
   "source": [
    "final_df[['today_case','today_new_case','today_death','today_new_death']] = final_df[['today_case','today_new_case','today_death','today_new_death']].replace(np.nan,0)\n",
    "final_df['fips'] = final_df['fips'].replace(np.nan, final_df['GEOID'])\n"
   ],
   "metadata": {
    "collapsed": false,
    "pycharm": {
     "name": "#%%\n",
     "is_executing": false
    }
   }
  },
  {
   "cell_type": "code",
   "execution_count": 18,
   "outputs": [],
   "source": [
    "template =final_df[~final_df['cases_ts'].isna()]['cases_ts']\n",
    "template = template.iloc[0]"
   ],
   "metadata": {
    "collapsed": false,
    "pycharm": {
     "name": "#%%\n",
     "is_executing": false
    }
   }
  },
  {
   "cell_type": "code",
   "execution_count": 19,
   "outputs": [],
   "source": [
    "for x in range(0,len(template)):\n",
    "    template[x] = 0\n",
    "template = ','.join(map(str, template))"
   ],
   "metadata": {
    "collapsed": false,
    "pycharm": {
     "name": "#%%\n",
     "is_executing": false
    }
   }
  },
  {
   "cell_type": "code",
   "execution_count": 20,
   "outputs": [
    {
     "data": {
      "text/plain": "       NAME      state_name  GEOID  population  \\\n0    Bladen  North Carolina  37017       33778   \n1    Stanly  North Carolina  37167       61114   \n2    Summit            Ohio  39153      541810   \n3  Sullivan    Pennsylvania  42113        6177   \n4    Upshur           Texas  48459       40769   \n\n                                            geometry           state  \\\n0  MULTIPOLYGON (((-78.90200 34.83527, -78.79960 ...  North Carolina   \n1  MULTIPOLYGON (((-80.49738 35.20210, -80.29542 ...  North Carolina   \n2  MULTIPOLYGON (((-81.68699 41.13596, -81.68495 ...            Ohio   \n3  MULTIPOLYGON (((-76.81373 41.59003, -76.22014 ...    Pennsylvania   \n4  MULTIPOLYGON (((-95.15274 32.66095, -95.15211 ...           Texas   \n\n     county   fips                                           cases_ts  \\\n0    Bladen  37017  0,0,0,0,0,0,0,0,0,0,0,0,0,0,0,0,0,0,0,0,0,0,0,...   \n1    Stanly  37167  0.0,0.0,0.0,0.0,0.0,0.0,0.0,0.0,0.0,0.0,0.0,0....   \n2    Summit  39153  0.0,0.0,0.0,0.0,0.0,0.0,0.0,0.0,0.0,0.0,0.0,0....   \n3  Sullivan  42113  0.0,0.0,0.0,0.0,0.0,0.0,0.0,0.0,0.0,0.0,0.0,0....   \n4    Upshur  48459  0.0,0.0,0.0,0.0,0.0,0.0,0.0,0.0,0.0,0.0,0.0,0....   \n\n                                           deaths_ts dt_first_case  \\\n0  0.0,0.0,0.0,0.0,0.0,0.0,0.0,0.0,0.0,0.0,0.0,0....    2020-03-29   \n1  0.0,0.0,0.0,0.0,0.0,0.0,0.0,0.0,0.0,0.0,0.0,0....    2020-03-20   \n2  0.0,0.0,0.0,0.0,0.0,0.0,0.0,0.0,0.0,0.0,0.0,0....    2020-03-14   \n3  0.0,0.0,0.0,0.0,0.0,0.0,0.0,0.0,0.0,0.0,0.0,0....    2020-04-04   \n4  0.0,0.0,0.0,0.0,0.0,0.0,0.0,0.0,0.0,0.0,0.0,0....    2020-03-20   \n\n  dt_first_death  today_case  today_new_case  today_death  today_new_death  \n0            NaN        20.0             7.0          0.0              0.0  \n1     2020-04-09        28.0             0.0          4.0              0.0  \n2     2020-03-27       584.0            42.0         49.0              6.0  \n3            NaN         1.0             0.0          0.0              0.0  \n4            NaN        13.0             0.0          0.0              0.0  ",
      "text/html": "<div>\n<style scoped>\n    .dataframe tbody tr th:only-of-type {\n        vertical-align: middle;\n    }\n\n    .dataframe tbody tr th {\n        vertical-align: top;\n    }\n\n    .dataframe thead th {\n        text-align: right;\n    }\n</style>\n<table border=\"1\" class=\"dataframe\">\n  <thead>\n    <tr style=\"text-align: right;\">\n      <th></th>\n      <th>NAME</th>\n      <th>state_name</th>\n      <th>GEOID</th>\n      <th>population</th>\n      <th>geometry</th>\n      <th>state</th>\n      <th>county</th>\n      <th>fips</th>\n      <th>cases_ts</th>\n      <th>deaths_ts</th>\n      <th>dt_first_case</th>\n      <th>dt_first_death</th>\n      <th>today_case</th>\n      <th>today_new_case</th>\n      <th>today_death</th>\n      <th>today_new_death</th>\n    </tr>\n  </thead>\n  <tbody>\n    <tr>\n      <th>0</th>\n      <td>Bladen</td>\n      <td>North Carolina</td>\n      <td>37017</td>\n      <td>33778</td>\n      <td>MULTIPOLYGON (((-78.90200 34.83527, -78.79960 ...</td>\n      <td>North Carolina</td>\n      <td>Bladen</td>\n      <td>37017</td>\n      <td>0,0,0,0,0,0,0,0,0,0,0,0,0,0,0,0,0,0,0,0,0,0,0,...</td>\n      <td>0.0,0.0,0.0,0.0,0.0,0.0,0.0,0.0,0.0,0.0,0.0,0....</td>\n      <td>2020-03-29</td>\n      <td>NaN</td>\n      <td>20.0</td>\n      <td>7.0</td>\n      <td>0.0</td>\n      <td>0.0</td>\n    </tr>\n    <tr>\n      <th>1</th>\n      <td>Stanly</td>\n      <td>North Carolina</td>\n      <td>37167</td>\n      <td>61114</td>\n      <td>MULTIPOLYGON (((-80.49738 35.20210, -80.29542 ...</td>\n      <td>North Carolina</td>\n      <td>Stanly</td>\n      <td>37167</td>\n      <td>0.0,0.0,0.0,0.0,0.0,0.0,0.0,0.0,0.0,0.0,0.0,0....</td>\n      <td>0.0,0.0,0.0,0.0,0.0,0.0,0.0,0.0,0.0,0.0,0.0,0....</td>\n      <td>2020-03-20</td>\n      <td>2020-04-09</td>\n      <td>28.0</td>\n      <td>0.0</td>\n      <td>4.0</td>\n      <td>0.0</td>\n    </tr>\n    <tr>\n      <th>2</th>\n      <td>Summit</td>\n      <td>Ohio</td>\n      <td>39153</td>\n      <td>541810</td>\n      <td>MULTIPOLYGON (((-81.68699 41.13596, -81.68495 ...</td>\n      <td>Ohio</td>\n      <td>Summit</td>\n      <td>39153</td>\n      <td>0.0,0.0,0.0,0.0,0.0,0.0,0.0,0.0,0.0,0.0,0.0,0....</td>\n      <td>0.0,0.0,0.0,0.0,0.0,0.0,0.0,0.0,0.0,0.0,0.0,0....</td>\n      <td>2020-03-14</td>\n      <td>2020-03-27</td>\n      <td>584.0</td>\n      <td>42.0</td>\n      <td>49.0</td>\n      <td>6.0</td>\n    </tr>\n    <tr>\n      <th>3</th>\n      <td>Sullivan</td>\n      <td>Pennsylvania</td>\n      <td>42113</td>\n      <td>6177</td>\n      <td>MULTIPOLYGON (((-76.81373 41.59003, -76.22014 ...</td>\n      <td>Pennsylvania</td>\n      <td>Sullivan</td>\n      <td>42113</td>\n      <td>0.0,0.0,0.0,0.0,0.0,0.0,0.0,0.0,0.0,0.0,0.0,0....</td>\n      <td>0.0,0.0,0.0,0.0,0.0,0.0,0.0,0.0,0.0,0.0,0.0,0....</td>\n      <td>2020-04-04</td>\n      <td>NaN</td>\n      <td>1.0</td>\n      <td>0.0</td>\n      <td>0.0</td>\n      <td>0.0</td>\n    </tr>\n    <tr>\n      <th>4</th>\n      <td>Upshur</td>\n      <td>Texas</td>\n      <td>48459</td>\n      <td>40769</td>\n      <td>MULTIPOLYGON (((-95.15274 32.66095, -95.15211 ...</td>\n      <td>Texas</td>\n      <td>Upshur</td>\n      <td>48459</td>\n      <td>0.0,0.0,0.0,0.0,0.0,0.0,0.0,0.0,0.0,0.0,0.0,0....</td>\n      <td>0.0,0.0,0.0,0.0,0.0,0.0,0.0,0.0,0.0,0.0,0.0,0....</td>\n      <td>2020-03-20</td>\n      <td>NaN</td>\n      <td>13.0</td>\n      <td>0.0</td>\n      <td>0.0</td>\n      <td>0.0</td>\n    </tr>\n  </tbody>\n</table>\n</div>"
     },
     "metadata": {},
     "output_type": "execute_result",
     "execution_count": 20
    }
   ],
   "source": [
    "\n",
    "final_df['cases_ts'] = final_df['cases_ts'].apply(lambda x: ','.join(map(str, x)) if type(x) is list else template)\n",
    "final_df['deaths_ts'] = final_df['deaths_ts'].apply(lambda x: ','.join(map(str, x)) if type(x) is list else template)\n",
    "final_df.head(5)"
   ],
   "metadata": {
    "collapsed": false,
    "pycharm": {
     "name": "#%%\n",
     "is_executing": false
    }
   }
  },
  {
   "cell_type": "markdown",
   "source": [
    "Step6:  \n",
    "Finalize the Dataframe"
   ],
   "metadata": {
    "collapsed": false,
    "pycharm": {
     "name": "#%% md\n"
    }
   }
  },
  {
   "cell_type": "code",
   "execution_count": 21,
   "outputs": [
    {
     "data": {
      "text/plain": "     NAME      state_name  population   fips dt_first_case dt_first_death  \\\n0  Bladen  North Carolina       33778  37017    2020-03-29            NaN   \n\n                                            cases_ts  \\\n0  0,0,0,0,0,0,0,0,0,0,0,0,0,0,0,0,0,0,0,0,0,0,0,...   \n\n                                           deaths_ts  today_case  \\\n0  0.0,0.0,0.0,0.0,0.0,0.0,0.0,0.0,0.0,0.0,0.0,0....        20.0   \n\n   today_new_case  today_death  today_new_death  \\\n0             7.0          0.0              0.0   \n\n                                            geometry    dt_start      dt_end  \\\n0  MULTIPOLYGON (((-78.90200 34.83527, -78.79960 ...  2020-01-21  2020-04-29   \n\n  dt_unit  \n0     day  ",
      "text/html": "<div>\n<style scoped>\n    .dataframe tbody tr th:only-of-type {\n        vertical-align: middle;\n    }\n\n    .dataframe tbody tr th {\n        vertical-align: top;\n    }\n\n    .dataframe thead th {\n        text-align: right;\n    }\n</style>\n<table border=\"1\" class=\"dataframe\">\n  <thead>\n    <tr style=\"text-align: right;\">\n      <th></th>\n      <th>NAME</th>\n      <th>state_name</th>\n      <th>population</th>\n      <th>fips</th>\n      <th>dt_first_case</th>\n      <th>dt_first_death</th>\n      <th>cases_ts</th>\n      <th>deaths_ts</th>\n      <th>today_case</th>\n      <th>today_new_case</th>\n      <th>today_death</th>\n      <th>today_new_death</th>\n      <th>geometry</th>\n      <th>dt_start</th>\n      <th>dt_end</th>\n      <th>dt_unit</th>\n    </tr>\n  </thead>\n  <tbody>\n    <tr>\n      <th>0</th>\n      <td>Bladen</td>\n      <td>North Carolina</td>\n      <td>33778</td>\n      <td>37017</td>\n      <td>2020-03-29</td>\n      <td>NaN</td>\n      <td>0,0,0,0,0,0,0,0,0,0,0,0,0,0,0,0,0,0,0,0,0,0,0,...</td>\n      <td>0.0,0.0,0.0,0.0,0.0,0.0,0.0,0.0,0.0,0.0,0.0,0....</td>\n      <td>20.0</td>\n      <td>7.0</td>\n      <td>0.0</td>\n      <td>0.0</td>\n      <td>MULTIPOLYGON (((-78.90200 34.83527, -78.79960 ...</td>\n      <td>2020-01-21</td>\n      <td>2020-04-29</td>\n      <td>day</td>\n    </tr>\n  </tbody>\n</table>\n</div>"
     },
     "metadata": {},
     "output_type": "execute_result",
     "execution_count": 21
    }
   ],
   "source": [
    "final_df=final_df[[\"NAME\", \"state_name\", \"population\", \"fips\", \"dt_first_case\", \"dt_first_death\", \"cases_ts\", \"deaths_ts\", \n",
    "                   'today_case','today_new_case','today_death','today_new_death', \"geometry\"]]\n",
    "final_df['dt_start'] = dt_str_start\n",
    "final_df['dt_end'] = dt_str_end\n",
    "final_df['dt_unit'] = \"day\"\n",
    "final_df.head(1)"
   ],
   "metadata": {
    "collapsed": false,
    "pycharm": {
     "name": "#%%\n",
     "is_executing": false
    }
   }
  },
  {
   "cell_type": "markdown",
   "source": [
    "Step 7:  \n",
    "Output file"
   ],
   "metadata": {
    "collapsed": false,
    "pycharm": {
     "name": "#%% md\n"
    }
   }
  },
  {
   "cell_type": "code",
   "execution_count": 22,
   "metadata": {
    "pycharm": {
     "is_executing": false,
     "name": "#%%\n"
    }
   },
   "outputs": [
    {
     "name": "stdout",
     "text": [
      "done\n"
     ],
     "output_type": "stream"
    }
   ],
   "source": [
    "final_df.to_file(r\"./nyt_counties_data.geojson\", driver='GeoJSON', encoding='utf-8')\n",
    "print(\"done\")"
   ]
  },
  {
   "cell_type": "code",
   "execution_count": 23,
   "outputs": [],
   "source": [
    "illinois_gdf = final_df[final_df['state_name'] == 'Illinois']"
   ],
   "metadata": {
    "collapsed": false,
    "pycharm": {
     "name": "#%%\n",
     "is_executing": false
    }
   }
  },
  {
   "cell_type": "code",
   "execution_count": 24,
   "outputs": [
    {
     "name": "stdout",
     "text": [
      "done\n"
     ],
     "output_type": "stream"
    }
   ],
   "source": [
    "illinois_gdf.to_file(r\"./illinois/nyt_illinois_counties_data.geojson\", driver='GeoJSON', encoding='utf-8')\n",
    "print('done')"
   ],
   "metadata": {
    "collapsed": false,
    "pycharm": {
     "name": "#%%\n",
     "is_executing": false
    }
   }
  },
  {
   "cell_type": "markdown",
   "metadata": {
    "pycharm": {
     "name": "#%% md\n"
    }
   },
   "source": [
    "New Data Structure (Full version)"
   ]
  },
  {
   "cell_type": "code",
   "execution_count": 25,
   "metadata": {
    "pycharm": {
     "is_executing": false,
     "name": "#%%\n"
    }
   },
   "outputs": [],
   "source": [
    "# pivot_counties.columns = ['_'.join(col).strip() for col in pivot_counties.columns.values]\n",
    "# report_df_2 = pivot_counties.reset_index()"
   ]
  },
  {
   "cell_type": "code",
   "execution_count": 26,
   "metadata": {
    "pycharm": {
     "is_executing": false,
     "name": "#%%\n"
    }
   },
   "outputs": [],
   "source": [
    "# report_df_2.head(5)"
   ]
  },
  {
   "cell_type": "code",
   "execution_count": 27,
   "metadata": {
    "pycharm": {
     "name": "#%%\n",
     "is_executing": false
    }
   },
   "outputs": [],
   "source": [
    "# pivot_counties.head(5)"
   ]
  },
  {
   "cell_type": "code",
   "execution_count": 28,
   "metadata": {
    "pycharm": {
     "is_executing": false,
     "name": "#%%\n"
    }
   },
   "outputs": [],
   "source": [
    "# final_df_2 = pd.merge(old_counties_geojson_df[[\"NAME\", \"state_name\", \"population\", \"geometry\"]], report_df_2, how='right', left_on=['NAME','state_name'], right_on = ['county','state'])\n",
    "# final_df_2 = final_df_2.drop(['state','county'], axis = 1)\n",
    "# final_df_2['dt_start'] = dt_start\n",
    "# final_df_2['dt_end'] = dt_end\n",
    "# final_df_2.head(5)"
   ]
  },
  {
   "cell_type": "code",
   "execution_count": 29,
   "metadata": {
    "pycharm": {
     "is_executing": false,
     "name": "#%%\n"
    }
   },
   "outputs": [],
   "source": [
    "# final_df_2.to_file(r\"./nyt_counties_data_full.geojson\", driver='GeoJSON', encoding='utf-8')\n",
    "# print(\"done\")"
   ]
  },
  {
   "cell_type": "markdown",
   "metadata": {
    "pycharm": {
     "name": "#%% md\n"
    }
   },
   "source": [
    "Generate JSON file"
   ]
  },
  {
   "cell_type": "code",
   "execution_count": 30,
   "metadata": {
    "pycharm": {
     "is_executing": false,
     "name": "#%%\n"
    }
   },
   "outputs": [],
   "source": [
    "# county_list = []\n",
    "# for state in df_counties_original.state.unique():\n",
    "#     for county in df_counties_original.loc[(df_counties_original['state'] == state)].county.unique():\n",
    "#         county_list.append({\"name\": county, \"state\": state})\n",
    " \n",
    "# print(len(county_list), county_list)\n"
   ]
  },
  {
   "cell_type": "code",
   "execution_count": 31,
   "metadata": {
    "pycharm": {
     "is_executing": false,
     "name": "#%%\n"
    }
   },
   "outputs": [],
   "source": [
    "# data_df = report_df.set_index(report_df[\"county\"]+\", \"+report_df[\"state\"])\n",
    "# data_dict =data_df.to_dict(orient='index')"
   ]
  },
  {
   "cell_type": "code",
   "execution_count": 32,
   "metadata": {
    "pycharm": {
     "is_executing": false,
     "name": "#%%\n"
    }
   },
   "outputs": [],
   "source": [
    "# df = df_counties_original.groupby(['county', 'state'], sort=False)[['cases', 'deaths']].max().sort_values(\"cases\", ascending=False)\n",
    "# county_state_list = list(map(lambda x: x[0]+\", \"+x[1], df.index.tolist()))\n",
    "# meta = {\"dates\": dt_range_str,\"states\": county_state_list, \"cases\": df[\"cases\"].values.tolist(), \"deaths\": df[\"deaths\"].values.tolist()}\n",
    "# data_dict[\"metadata\"] = meta"
   ]
  },
  {
   "cell_type": "code",
   "execution_count": 33,
   "metadata": {
    "pycharm": {
     "is_executing": false,
     "name": "#%%\n"
    }
   },
   "outputs": [],
   "source": [
    "# data_dict"
   ]
  },
  {
   "cell_type": "code",
   "execution_count": 34,
   "metadata": {
    "pycharm": {
     "is_executing": false,
     "name": "#%%\n"
    }
   },
   "outputs": [],
   "source": [
    "# import json\n",
    "# with open('./nyt_counties_data.json', 'w') as outfile:\n",
    "#     json.dump(data_dict, outfile)"
   ]
  },
  {
   "cell_type": "code",
   "execution_count": 34,
   "metadata": {
    "pycharm": {
     "is_executing": false
    }
   },
   "outputs": [],
   "source": []
  }
 ],
 "metadata": {
  "kernelspec": {
   "display_name": "Python 3",
   "language": "python",
   "name": "python3"
  },
  "language_info": {
   "codemirror_mode": {
    "name": "ipython",
    "version": 3
   },
   "file_extension": ".py",
   "mimetype": "text/x-python",
   "name": "python",
   "nbconvert_exporter": "python",
   "pygments_lexer": "ipython3",
   "version": "3.8.2"
  },
  "pycharm": {
   "stem_cell": {
    "cell_type": "raw",
    "source": [],
    "metadata": {
     "collapsed": false
    }
   }
  }
 },
 "nbformat": 4,
 "nbformat_minor": 1
}