{
 "cells": [
  {
   "cell_type": "code",
   "execution_count": null,
   "metadata": {
    "pycharm": {
     "is_executing": false,
     "name": "#%%\n"
    }
   },
   "outputs": [],
   "source": [
    "import pandas as pd\n",
    "import numpy as np\n",
    "from datetime import datetime\n",
    "import geopandas as gpd"
   ]
  },
  {
   "cell_type": "markdown",
   "metadata": {
    "pycharm": {
     "name": "#%% md\n"
    }
   },
   "source": [
    "FIRST READ DATA"
   ]
  },
  {
   "cell_type": "code",
   "execution_count": null,
   "metadata": {
    "pycharm": {
     "is_executing": false,
     "name": "#%%\n"
    }
   },
   "outputs": [],
   "source": [
    "df_counties_original = pd.read_csv(\"./us-counties.csv\", dtype={\"date\": np.string_, \n",
    "                                                             \"county\": np.string_,\n",
    "                                                             \"state\": np.string_,\n",
    "                                                             \"fips\": np.string_,\n",
    "                                                            \"cases\": np.int32,\n",
    "                                                            \"deaths\": np.int32})\n",
    "#Tansform Unknown fips to '00000' \n",
    "df_counties_original['fips'] = df_counties_original['fips'].replace({np.nan: '00000'})\n",
    "df_counties_original.sort_values(\"fips\", ascending=True)\n"
   ]
  },
  {
   "cell_type": "markdown",
   "metadata": {
    "pycharm": {
     "name": "#%% md\n"
    }
   },
   "source": [
    "Generate GeoJSON"
   ]
  },
  {
   "cell_type": "code",
   "execution_count": null,
   "metadata": {
    "pycharm": {
     "is_executing": false,
     "name": "#%%\n"
    }
   },
   "outputs": [],
   "source": [
    "pivot_counties = pd.pivot_table(df_counties_original , index=['state','county','fips'],\n",
    "                       columns=['date'])\n",
    "pivot_counties = pivot_counties.replace(np.nan, 0)\n",
    "pivot_counties"
   ]
  },
  {
   "cell_type": "markdown",
   "metadata": {},
   "source": [
    "Get Date Info"
   ]
  },
  {
   "cell_type": "code",
   "execution_count": null,
   "metadata": {
    "pycharm": {
     "is_executing": false,
     "name": "#%%\n"
    }
   },
   "outputs": [],
   "source": [
    "date= pivot_counties['cases'].columns\n",
    "date"
   ]
  },
  {
   "cell_type": "code",
   "execution_count": null,
   "metadata": {
    "pycharm": {
     "is_executing": false,
     "name": "#%%\n"
    }
   },
   "outputs": [],
   "source": [
    "date_str = np.sort(date)\n",
    "dt_str_start=np.min(date_str)\n",
    "dt_str_end=np.max(date_str)"
   ]
  },
  {
   "cell_type": "code",
   "execution_count": null,
   "metadata": {
    "pycharm": {
     "is_executing": false,
     "name": "#%%\n"
    }
   },
   "outputs": [],
   "source": [
    "dt_start = datetime.strptime(dt_str_start, \"%Y-%m-%d\")\n",
    "dt_end = datetime.strptime(dt_str_end, \"%Y-%m-%d\")\n",
    "dt_range = pd.date_range(start=dt_start,end=dt_end)\n",
    "print(len(dt_range), dt_range)\n",
    "dt_range_str = list(map(lambda x: x.strftime(\"%Y-%m-%d\"), dt_range.tolist()))\n",
    "print(len(dt_range_str), dt_range_str)"
   ]
  },
  {
   "cell_type": "markdown",
   "metadata": {
    "pycharm": {
     "name": "#%% md\n"
    }
   },
   "source": [
    "Add Cases Time Series, First Case Date, Death Time Series, First Death Date"
   ]
  },
  {
   "cell_type": "code",
   "execution_count": null,
   "metadata": {
    "pycharm": {
     "is_executing": false,
     "name": "#%%\n"
    }
   },
   "outputs": [],
   "source": [
    "# import json\n",
    "# pivot_counties['cases_ts'] = json.dumps({\"values\": pivot_counties['cases'].values.tolist()[0]})\n",
    "# pivot_counties['deaths_ts'] =  json.dumps({\"values\": pivot_counties['deaths'].values.tolist()[0]})\n",
    "\n",
    "pivot_counties['cases_ts'] =  pivot_counties['cases'].values.tolist()\n",
    "pivot_counties['cases_ts'] = pivot_counties['cases_ts'].apply(lambda x: ','.join(map(str, x)))\n",
    "pivot_counties['deaths_ts'] =  pivot_counties['deaths'].values.tolist()\n",
    "pivot_counties['deaths_ts'] = pivot_counties['deaths_ts'].apply(lambda x: ','.join(map(str, x)))\n",
    "\n",
    "pivot_counties"
   ]
  },
  {
   "cell_type": "code",
   "execution_count": null,
   "metadata": {
    "pycharm": {
     "is_executing": false
    }
   },
   "outputs": [],
   "source": [
    "yesterday = date.values[-2]\n",
    "pivot_counties['today_case'] = pivot_counties['cases'][dt_str_end]\n",
    "pivot_counties['today_new_case'] = pivot_counties['cases'][dt_str_end] - pivot_counties['cases'][yesterday]\n",
    "pivot_counties['today_death'] = pivot_counties['deaths'][dt_str_end]\n",
    "pivot_counties['today_new_death'] = pivot_counties['deaths'][dt_str_end] - pivot_counties['deaths'][yesterday]"
   ]
  },
  {
   "cell_type": "code",
   "execution_count": null,
   "metadata": {
    "pycharm": {
     "is_executing": false,
     "name": "#%%\n"
    }
   },
   "outputs": [],
   "source": [
    "pivot_counties['dt_first_case'] = (pivot_counties['cases'] > 0).idxmax(axis=1)\n",
    "pivot_counties['dt_first_death'] = (pivot_counties['deaths'] > 0).idxmax(axis=1)\n",
    "#For death reports, deal with no deaths counties\n",
    "pivot_counties.loc[pivot_counties['deaths'].iloc[:, -1] <= 0, 'dt_first_death'] = np.nan\n",
    "pivot_counties.head(5)\n"
   ]
  },
  {
   "cell_type": "markdown",
   "metadata": {
    "pycharm": {
     "name": "#%% md\n"
    }
   },
   "source": [
    "Read County Boundary GeoJSON file"
   ]
  },
  {
   "cell_type": "code",
   "execution_count": null,
   "metadata": {
    "pycharm": {
     "is_executing": false,
     "name": "#%%\n"
    }
   },
   "outputs": [],
   "source": [
    "old_counties_geojson_df = gpd.read_file(r\"./counties_update_new.geojson\")\n",
    "old_counties_geojson_df.head(5)\n"
   ]
  },
  {
   "cell_type": "markdown",
   "metadata": {},
   "source": [
    "Old Data Structure"
   ]
  },
  {
   "cell_type": "code",
   "execution_count": null,
   "metadata": {
    "pycharm": {
     "is_executing": false,
     "name": "#%%\n"
    }
   },
   "outputs": [],
   "source": [
    "report_df = pivot_counties[['cases_ts','deaths_ts','dt_first_case','dt_first_death','today_case','today_new_case', 'today_death','today_new_death']]\n",
    "report_df = report_df.reset_index()\n",
    "report_df.columns = ['state','county','fips','cases_ts','deaths_ts','dt_first_case','dt_first_death','today_case','today_new_case', 'today_death','today_new_death']\n",
    "report_df.head(5)"
   ]
  },
  {
   "cell_type": "code",
   "execution_count": null,
   "metadata": {
    "pycharm": {
     "is_executing": false,
     "name": "#%%\n"
    }
   },
   "outputs": [],
   "source": [
    "report_df['today_case'].sum()\n",
    "# Truth from report: 528422"
   ]
  },
  {
   "cell_type": "code",
   "execution_count": null,
   "metadata": {
    "pycharm": {
     "is_executing": false,
     "name": "#%%\n"
    }
   },
   "outputs": [],
   "source": [
    "geojson_counties = (old_counties_geojson_df['state_name'] + \",\" + old_counties_geojson_df['NAME']).unique()\n",
    "geojson_counties"
   ]
  },
  {
   "cell_type": "code",
   "execution_count": null,
   "metadata": {
    "pycharm": {
     "is_executing": false,
     "name": "#%%\n"
    }
   },
   "outputs": [],
   "source": [
    "report_counties = (report_df['state'] + \",\" + report_df['county']).unique()\n",
    "report_counties"
   ]
  },
  {
   "cell_type": "code",
   "execution_count": null,
   "metadata": {
    "pycharm": {
     "is_executing": false,
     "name": "#%%\n"
    }
   },
   "outputs": [],
   "source": [
    "for county in geojson_counties:\n",
    "    if county not in report_counties:\n",
    "        print(county);"
   ]
  },
  {
   "cell_type": "code",
   "execution_count": null,
   "metadata": {
    "pycharm": {
     "is_executing": false,
     "name": "#%%\n"
    }
   },
   "outputs": [],
   "source": [
    "for state in report_counties:\n",
    "    if state not in geojson_counties:\n",
    "        print(state);        "
   ]
  },
  {
   "cell_type": "code",
   "execution_count": null,
   "metadata": {
    "pycharm": {
     "is_executing": false,
     "name": "#%%\n"
    }
   },
   "outputs": [],
   "source": [
    "report_df[(report_df['state'] == 'Guam')\n",
    "          |(report_df['state'] == 'Northern Mariana Islands')\n",
    "          |(report_df['state'] == 'Virgin Islands')]"
   ]
  },
  {
   "cell_type": "code",
   "execution_count": null,
   "metadata": {
    "pycharm": {
     "is_executing": false,
     "name": "#%%\n"
    }
   },
   "outputs": [],
   "source": [
    "exception = report_df[(report_df['fips'] == '00000') & (report_df['county'] == 'Unknown')][['county','state','today_case']]"
   ]
  },
  {
   "cell_type": "code",
   "execution_count": null,
   "metadata": {
    "pycharm": {
     "is_executing": false,
     "name": "#%%\n"
    }
   },
   "outputs": [],
   "source": [
    "exception"
   ]
  },
  {
   "cell_type": "code",
   "execution_count": null,
   "metadata": {
    "pycharm": {
     "is_executing": false,
     "name": "#%%\n"
    }
   },
   "outputs": [],
   "source": [
    "exception['today_case'].sum()\n",
    "# cases which has no county level info: 6558"
   ]
  },
  {
   "cell_type": "code",
   "execution_count": null,
   "metadata": {
    "pycharm": {
     "is_executing": false,
     "name": "#%%\n"
    }
   },
   "outputs": [],
   "source": [
    "report_df[report_df['county'] == 'Cass'][['county','state','today_case']]"
   ]
  },
  {
   "cell_type": "code",
   "execution_count": null,
   "metadata": {
    "pycharm": {
     "is_executing": false,
     "name": "#%%\n"
    }
   },
   "outputs": [],
   "source": [
    "final_df = pd.merge(old_counties_geojson_df[[\"NAME\", \"state_name\", \"population\", \"geometry\"]], report_df, how='left', left_on=['NAME','state_name'], right_on = ['county','state'])\n",
    "final_df.columns"
   ]
  },
  {
   "cell_type": "code",
   "execution_count": null,
   "metadata": {
    "pycharm": {
     "is_executing": false,
     "name": "#%%\n"
    }
   },
   "outputs": [],
   "source": [
    "final_df=final_df[[\"NAME\", \"state_name\", \"population\", \"fips\", \"dt_first_case\", \"dt_first_death\", \"cases_ts\", \"deaths_ts\", 'today_case','today_new_case', 'today_death','today_new_death', \"geometry\"]]\n",
    "final_df['dt_start'] = dt_str_start\n",
    "final_df['dt_end'] = dt_str_end\n",
    "final_df['dt_unit'] = \"day\"\n",
    "final_df"
   ]
  },
  {
   "cell_type": "code",
   "execution_count": null,
   "metadata": {
    "pycharm": {
     "is_executing": false
    }
   },
   "outputs": [],
   "source": [
    "final_df[pd.notnull(final_df[\"cases_ts\"])]['dt_start'] = dt_str_start\n",
    "final_df.head(5)"
   ]
  },
  {
   "cell_type": "code",
   "execution_count": null,
   "metadata": {
    "pycharm": {
     "is_executing": false,
     "name": "#%%\n"
    }
   },
   "outputs": [],
   "source": [
    "final_df[['today_case','today_new_case','today_death','today_new_death']] = final_df[['today_case','today_new_case','today_death','today_new_death']].replace(np.nan,0)\n"
   ]
  },
  {
   "cell_type": "code",
   "execution_count": null,
   "metadata": {
    "pycharm": {
     "is_executing": false,
     "name": "#%%\n"
    }
   },
   "outputs": [],
   "source": [
    "final_df['today_case'].sum()\n",
    "# Truth total from case report: 528422\n",
    "# Previous total without Kansas City: 522461\n",
    "# Adding Kansas City: 522759 + Unknown cases: 6558 = 529317?"
   ]
  },
  {
   "cell_type": "code",
   "execution_count": null,
   "metadata": {},
   "outputs": [],
   "source": [
    "final_df"
   ]
  },
  {
   "cell_type": "code",
   "execution_count": null,
   "metadata": {
    "pycharm": {
     "is_executing": false,
     "name": "#%%\n"
    }
   },
   "outputs": [],
   "source": [
    "final_df[final_df['NAME'] == 'New York City']"
   ]
  },
  {
   "cell_type": "code",
   "execution_count": null,
   "metadata": {
    "pycharm": {
     "is_executing": false,
     "name": "#%%\n"
    }
   },
   "outputs": [],
   "source": [
    "final_df.to_file(r\"./nyt_counties_data.geojson\", driver='GeoJSON', encoding='utf-8')\n",
    "print(\"done\")"
   ]
  },
  {
   "cell_type": "markdown",
   "metadata": {
    "pycharm": {
     "name": "#%% md\n"
    }
   },
   "source": [
    "New Data Structure (Full version)"
   ]
  },
  {
   "cell_type": "code",
   "execution_count": null,
   "metadata": {
    "pycharm": {
     "is_executing": false,
     "name": "#%%\n"
    }
   },
   "outputs": [],
   "source": [
    "# pivot_counties.columns = ['_'.join(col).strip() for col in pivot_counties.columns.values]\n",
    "# report_df_2 = pivot_counties.reset_index()"
   ]
  },
  {
   "cell_type": "code",
   "execution_count": null,
   "metadata": {
    "pycharm": {
     "is_executing": false,
     "name": "#%%\n"
    }
   },
   "outputs": [],
   "source": [
    "# report_df_2.head(5)"
   ]
  },
  {
   "cell_type": "code",
   "execution_count": null,
   "metadata": {
    "pycharm": {
     "name": "#%%\n"
    }
   },
   "outputs": [],
   "source": [
    "# pivot_counties.head(5)"
   ]
  },
  {
   "cell_type": "code",
   "execution_count": null,
   "metadata": {
    "pycharm": {
     "is_executing": false,
     "name": "#%%\n"
    }
   },
   "outputs": [],
   "source": [
    "# final_df_2 = pd.merge(old_counties_geojson_df[[\"NAME\", \"state_name\", \"population\", \"geometry\"]], report_df_2, how='right', left_on=['NAME','state_name'], right_on = ['county','state'])\n",
    "# final_df_2 = final_df_2.drop(['state','county'], axis = 1)\n",
    "# final_df_2['dt_start'] = dt_start\n",
    "# final_df_2['dt_end'] = dt_end\n",
    "# final_df_2.head(5)"
   ]
  },
  {
   "cell_type": "code",
   "execution_count": null,
   "metadata": {
    "pycharm": {
     "is_executing": false,
     "name": "#%%\n"
    }
   },
   "outputs": [],
   "source": [
    "# final_df_2.to_file(r\"./nyt_counties_data_full.geojson\", driver='GeoJSON', encoding='utf-8')\n",
    "# print(\"done\")"
   ]
  },
  {
   "cell_type": "markdown",
   "metadata": {
    "pycharm": {
     "name": "#%% md\n"
    }
   },
   "source": [
    "Generate JSON file"
   ]
  },
  {
   "cell_type": "code",
   "execution_count": null,
   "metadata": {
    "pycharm": {
     "is_executing": false,
     "name": "#%%\n"
    }
   },
   "outputs": [],
   "source": [
    "# county_list = []\n",
    "# for state in df_counties_original.state.unique():\n",
    "#     for county in df_counties_original.loc[(df_counties_original['state'] == state)].county.unique():\n",
    "#         county_list.append({\"name\": county, \"state\": state})\n",
    " \n",
    "# print(len(county_list), county_list)\n"
   ]
  },
  {
   "cell_type": "code",
   "execution_count": null,
   "metadata": {
    "pycharm": {
     "is_executing": false,
     "name": "#%%\n"
    }
   },
   "outputs": [],
   "source": [
    "# data_df = report_df.set_index(report_df[\"county\"]+\", \"+report_df[\"state\"])\n",
    "# data_dict =data_df.to_dict(orient='index')"
   ]
  },
  {
   "cell_type": "code",
   "execution_count": null,
   "metadata": {
    "pycharm": {
     "is_executing": false,
     "name": "#%%\n"
    }
   },
   "outputs": [],
   "source": [
    "# df = df_counties_original.groupby(['county', 'state'], sort=False)[['cases', 'deaths']].max().sort_values(\"cases\", ascending=False)\n",
    "# county_state_list = list(map(lambda x: x[0]+\", \"+x[1], df.index.tolist()))\n",
    "# meta = {\"dates\": dt_range_str,\"states\": county_state_list, \"cases\": df[\"cases\"].values.tolist(), \"deaths\": df[\"deaths\"].values.tolist()}\n",
    "# data_dict[\"metadata\"] = meta"
   ]
  },
  {
   "cell_type": "code",
   "execution_count": null,
   "metadata": {
    "pycharm": {
     "is_executing": false,
     "name": "#%%\n"
    }
   },
   "outputs": [],
   "source": [
    "# data_dict"
   ]
  },
  {
   "cell_type": "code",
   "execution_count": null,
   "metadata": {
    "pycharm": {
     "is_executing": false,
     "name": "#%%\n"
    }
   },
   "outputs": [],
   "source": [
    "# import json\n",
    "# with open('./nyt_counties_data.json', 'w') as outfile:\n",
    "#     json.dump(data_dict, outfile)"
   ]
  },
  {
   "cell_type": "code",
   "execution_count": null,
   "metadata": {
    "pycharm": {
     "is_executing": false
    }
   },
   "outputs": [],
   "source": []
  }
 ],
 "metadata": {
  "kernelspec": {
   "display_name": "Python 3",
   "language": "python",
   "name": "python3"
  },
  "language_info": {
   "codemirror_mode": {
    "name": "ipython",
    "version": 3
   },
   "file_extension": ".py",
   "mimetype": "text/x-python",
   "name": "python",
   "nbconvert_exporter": "python",
   "pygments_lexer": "ipython3",
   "version": "3.8.2"
  },
  "pycharm": {
   "stem_cell": {
    "cell_type": "raw",
    "metadata": {
     "collapsed": false
    },
    "source": []
   }
  }
 },
 "nbformat": 4,
 "nbformat_minor": 1
}
