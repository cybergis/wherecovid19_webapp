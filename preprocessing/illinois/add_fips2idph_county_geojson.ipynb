{
 "cells": [
  {
   "cell_type": "code",
   "execution_count": 1,
   "metadata": {
    "collapsed": true,
    "pycharm": {
     "is_executing": false
    }
   },
   "outputs": [],
   "source": [
    "import pandas as pd\n",
    "import geopandas as gpd"
   ]
  },
  {
   "cell_type": "code",
   "execution_count": 25,
   "outputs": [],
   "source": [
    "fips_df = pd.read_csv(\"./state_and_county_fips_master.csv\", dtype={'fips': str})\n"
   ],
   "metadata": {
    "collapsed": false,
    "pycharm": {
     "name": "#%%\n",
     "is_executing": false
    }
   }
  },
  {
   "cell_type": "code",
   "execution_count": 31,
   "outputs": [
    {
     "data": {
      "text/plain": "      fips              name\n610  17001      Adams County\n611  17003  Alexander County\n612  17005       Bond County\n613  17007      Boone County\n614  17009      Brown County",
      "text/html": "<div>\n<style scoped>\n    .dataframe tbody tr th:only-of-type {\n        vertical-align: middle;\n    }\n\n    .dataframe tbody tr th {\n        vertical-align: top;\n    }\n\n    .dataframe thead th {\n        text-align: right;\n    }\n</style>\n<table border=\"1\" class=\"dataframe\">\n  <thead>\n    <tr style=\"text-align: right;\">\n      <th></th>\n      <th>fips</th>\n      <th>name</th>\n    </tr>\n  </thead>\n  <tbody>\n    <tr>\n      <th>610</th>\n      <td>17001</td>\n      <td>Adams County</td>\n    </tr>\n    <tr>\n      <th>611</th>\n      <td>17003</td>\n      <td>Alexander County</td>\n    </tr>\n    <tr>\n      <th>612</th>\n      <td>17005</td>\n      <td>Bond County</td>\n    </tr>\n    <tr>\n      <th>613</th>\n      <td>17007</td>\n      <td>Boone County</td>\n    </tr>\n    <tr>\n      <th>614</th>\n      <td>17009</td>\n      <td>Brown County</td>\n    </tr>\n  </tbody>\n</table>\n</div>"
     },
     "metadata": {},
     "output_type": "execute_result",
     "execution_count": 31
    }
   ],
   "source": [
    "fips_df = fips_df[fips_df[\"state\"]==\"IL\"][[\"fips\", \"name\"]]\n",
    "fips_df.head()"
   ],
   "metadata": {
    "collapsed": false,
    "pycharm": {
     "name": "#%%\n",
     "is_executing": false
    }
   }
  },
  {
   "cell_type": "code",
   "execution_count": 32,
   "outputs": [
    {
     "data": {
      "text/plain": "(102, 2)"
     },
     "metadata": {},
     "output_type": "execute_result",
     "execution_count": 32
    }
   ],
   "source": [
    "fips_df.shape\n"
   ],
   "metadata": {
    "collapsed": false,
    "pycharm": {
     "name": "#%%\n",
     "is_executing": false
    }
   }
  },
  {
   "cell_type": "code",
   "execution_count": 33,
   "outputs": [
    {
     "data": {
      "text/plain": "        id OBJECTID          County  Percent_1         Shape__Area  \\\n0  McHenry        1  McHenry County       27.7  17027625788.537001   \n1    Boone        2    Boone County       33.7  7862723082.6885996   \n2     Ogle        3     Ogle County       31.2    21284584781.1903   \n3     Will        4     Will County       28.0  23669428994.175301   \n4  LaSalle        5  LaSalle County       27.1  32008439057.989899   \n\n        Shape__Length                                           geometry  \n0  522324.30501520802  POLYGON ((-88.70742 42.49352, -88.70741 42.493...  \n1  375171.14457663603  POLYGON ((-88.70742 42.49352, -88.70750 42.493...  \n2  651729.42136120505  POLYGON ((-89.68809 42.19950, -89.68807 42.184...  \n3  779085.21483073698  POLYGON ((-88.26146 41.72439, -88.26103 41.708...  \n4  825360.16391267197  POLYGON ((-88.93885 41.62837, -88.93891 41.628...  ",
      "text/html": "<div>\n<style scoped>\n    .dataframe tbody tr th:only-of-type {\n        vertical-align: middle;\n    }\n\n    .dataframe tbody tr th {\n        vertical-align: top;\n    }\n\n    .dataframe thead th {\n        text-align: right;\n    }\n</style>\n<table border=\"1\" class=\"dataframe\">\n  <thead>\n    <tr style=\"text-align: right;\">\n      <th></th>\n      <th>id</th>\n      <th>OBJECTID</th>\n      <th>County</th>\n      <th>Percent_1</th>\n      <th>Shape__Area</th>\n      <th>Shape__Length</th>\n      <th>geometry</th>\n    </tr>\n  </thead>\n  <tbody>\n    <tr>\n      <th>0</th>\n      <td>McHenry</td>\n      <td>1</td>\n      <td>McHenry County</td>\n      <td>27.7</td>\n      <td>17027625788.537001</td>\n      <td>522324.30501520802</td>\n      <td>POLYGON ((-88.70742 42.49352, -88.70741 42.493...</td>\n    </tr>\n    <tr>\n      <th>1</th>\n      <td>Boone</td>\n      <td>2</td>\n      <td>Boone County</td>\n      <td>33.7</td>\n      <td>7862723082.6885996</td>\n      <td>375171.14457663603</td>\n      <td>POLYGON ((-88.70742 42.49352, -88.70750 42.493...</td>\n    </tr>\n    <tr>\n      <th>2</th>\n      <td>Ogle</td>\n      <td>3</td>\n      <td>Ogle County</td>\n      <td>31.2</td>\n      <td>21284584781.1903</td>\n      <td>651729.42136120505</td>\n      <td>POLYGON ((-89.68809 42.19950, -89.68807 42.184...</td>\n    </tr>\n    <tr>\n      <th>3</th>\n      <td>Will</td>\n      <td>4</td>\n      <td>Will County</td>\n      <td>28.0</td>\n      <td>23669428994.175301</td>\n      <td>779085.21483073698</td>\n      <td>POLYGON ((-88.26146 41.72439, -88.26103 41.708...</td>\n    </tr>\n    <tr>\n      <th>4</th>\n      <td>LaSalle</td>\n      <td>5</td>\n      <td>LaSalle County</td>\n      <td>27.1</td>\n      <td>32008439057.989899</td>\n      <td>825360.16391267197</td>\n      <td>POLYGON ((-88.93885 41.62837, -88.93891 41.628...</td>\n    </tr>\n  </tbody>\n</table>\n</div>"
     },
     "metadata": {},
     "output_type": "execute_result",
     "execution_count": 33
    }
   ],
   "source": [
    "illinois_county_gdf = gpd.read_file(\"./Illinois_County_Geo_ch.json\")\n",
    "illinois_county_gdf.head()"
   ],
   "metadata": {
    "collapsed": false,
    "pycharm": {
     "name": "#%%\n",
     "is_executing": false
    }
   }
  },
  {
   "cell_type": "code",
   "execution_count": 34,
   "outputs": [
    {
     "data": {
      "text/plain": "(103, 7)"
     },
     "metadata": {},
     "output_type": "execute_result",
     "execution_count": 34
    }
   ],
   "source": [
    "illinois_county_gdf.shape\n"
   ],
   "metadata": {
    "collapsed": false,
    "pycharm": {
     "name": "#%%\n",
     "is_executing": false
    }
   }
  },
  {
   "cell_type": "code",
   "execution_count": 37,
   "outputs": [
    {
     "data": {
      "text/plain": "                     id OBJECTID  Percent_1         Shape__Area  \\\nCounty                                                            \nMcHenry County  McHenry        1       27.7  17027625788.537001   \nBoone County      Boone        2       33.7  7862723082.6885996   \nOgle County        Ogle        3       31.2    21284584781.1903   \nWill County        Will        4       28.0  23669428994.175301   \nLaSalle County  LaSalle        5       27.1  32008439057.989899   \n\n                     Shape__Length  \\\nCounty                               \nMcHenry County  522324.30501520802   \nBoone County    375171.14457663603   \nOgle County     651729.42136120505   \nWill County     779085.21483073698   \nLaSalle County  825360.16391267197   \n\n                                                         geometry   fips  \nCounty                                                                    \nMcHenry County  POLYGON ((-88.70742 42.49352, -88.70741 42.493...  17111  \nBoone County    POLYGON ((-88.70742 42.49352, -88.70750 42.493...  17007  \nOgle County     POLYGON ((-89.68809 42.19950, -89.68807 42.184...  17141  \nWill County     POLYGON ((-88.26146 41.72439, -88.26103 41.708...  17197  \nLaSalle County  POLYGON ((-88.93885 41.62837, -88.93891 41.628...  17099  ",
      "text/html": "<div>\n<style scoped>\n    .dataframe tbody tr th:only-of-type {\n        vertical-align: middle;\n    }\n\n    .dataframe tbody tr th {\n        vertical-align: top;\n    }\n\n    .dataframe thead th {\n        text-align: right;\n    }\n</style>\n<table border=\"1\" class=\"dataframe\">\n  <thead>\n    <tr style=\"text-align: right;\">\n      <th></th>\n      <th>id</th>\n      <th>OBJECTID</th>\n      <th>Percent_1</th>\n      <th>Shape__Area</th>\n      <th>Shape__Length</th>\n      <th>geometry</th>\n      <th>fips</th>\n    </tr>\n    <tr>\n      <th>County</th>\n      <th></th>\n      <th></th>\n      <th></th>\n      <th></th>\n      <th></th>\n      <th></th>\n      <th></th>\n    </tr>\n  </thead>\n  <tbody>\n    <tr>\n      <th>McHenry County</th>\n      <td>McHenry</td>\n      <td>1</td>\n      <td>27.7</td>\n      <td>17027625788.537001</td>\n      <td>522324.30501520802</td>\n      <td>POLYGON ((-88.70742 42.49352, -88.70741 42.493...</td>\n      <td>17111</td>\n    </tr>\n    <tr>\n      <th>Boone County</th>\n      <td>Boone</td>\n      <td>2</td>\n      <td>33.7</td>\n      <td>7862723082.6885996</td>\n      <td>375171.14457663603</td>\n      <td>POLYGON ((-88.70742 42.49352, -88.70750 42.493...</td>\n      <td>17007</td>\n    </tr>\n    <tr>\n      <th>Ogle County</th>\n      <td>Ogle</td>\n      <td>3</td>\n      <td>31.2</td>\n      <td>21284584781.1903</td>\n      <td>651729.42136120505</td>\n      <td>POLYGON ((-89.68809 42.19950, -89.68807 42.184...</td>\n      <td>17141</td>\n    </tr>\n    <tr>\n      <th>Will County</th>\n      <td>Will</td>\n      <td>4</td>\n      <td>28.0</td>\n      <td>23669428994.175301</td>\n      <td>779085.21483073698</td>\n      <td>POLYGON ((-88.26146 41.72439, -88.26103 41.708...</td>\n      <td>17197</td>\n    </tr>\n    <tr>\n      <th>LaSalle County</th>\n      <td>LaSalle</td>\n      <td>5</td>\n      <td>27.1</td>\n      <td>32008439057.989899</td>\n      <td>825360.16391267197</td>\n      <td>POLYGON ((-88.93885 41.62837, -88.93891 41.628...</td>\n      <td>17099</td>\n    </tr>\n  </tbody>\n</table>\n</div>"
     },
     "metadata": {},
     "output_type": "execute_result",
     "execution_count": 37
    }
   ],
   "source": [
    "illinois_county_gdf_new = illinois_county_gdf.set_index('County').join(fips_df.set_index('name'))\n",
    "illinois_county_gdf_new.head()"
   ],
   "metadata": {
    "collapsed": false,
    "pycharm": {
     "name": "#%%\n",
     "is_executing": false
    }
   }
  },
  {
   "cell_type": "code",
   "execution_count": 38,
   "outputs": [],
   "source": [
    "illinois_county_gdf_new.to_file(\"./Illinois_County_Geo_ch.geojson\", driver='GeoJSON')"
   ],
   "metadata": {
    "collapsed": false,
    "pycharm": {
     "name": "#%%\n",
     "is_executing": false
    }
   }
  },
  {
   "cell_type": "code",
   "execution_count": null,
   "outputs": [],
   "source": [
    "\n"
   ],
   "metadata": {
    "collapsed": false,
    "pycharm": {
     "name": "#%%\n"
    }
   }
  }
 ],
 "metadata": {
  "kernelspec": {
   "display_name": "Python 3",
   "language": "python",
   "name": "python3"
  },
  "language_info": {
   "codemirror_mode": {
    "name": "ipython",
    "version": 2
   },
   "file_extension": ".py",
   "mimetype": "text/x-python",
   "name": "python",
   "nbconvert_exporter": "python",
   "pygments_lexer": "ipython2",
   "version": "2.7.6"
  },
  "pycharm": {
   "stem_cell": {
    "cell_type": "raw",
    "source": [],
    "metadata": {
     "collapsed": false
    }
   }
  }
 },
 "nbformat": 4,
 "nbformat_minor": 0
}