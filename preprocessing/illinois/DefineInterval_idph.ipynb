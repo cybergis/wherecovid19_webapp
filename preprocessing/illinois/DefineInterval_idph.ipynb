{
 "cells": [
  {
   "cell_type": "markdown",
   "metadata": {},
   "source": [
    "# Generate Color Bins For Each Layer"
   ]
  },
  {
   "cell_type": "markdown",
   "metadata": {},
   "source": [
    "### 0. Import libraries and create empty dictionaries"
   ]
  },
  {
   "cell_type": "code",
   "execution_count": 29,
   "metadata": {
    "pycharm": {
     "is_executing": false
    }
   },
   "outputs": [],
   "source": [
    "import geopandas as gpd\n",
    "import numpy as np\n",
    "import mapclassify as mc\n",
    "import matplotlib.pyplot as plt"
   ]
  },
  {
   "cell_type": "code",
   "execution_count": 30,
   "metadata": {
    "pycharm": {
     "is_executing": false,
     "name": "#%%\n"
    }
   },
   "outputs": [],
   "source": [
    "total_dict = {}\n",
    "dph_illinois_dict = {}\n",
    "vul_dict = {}"
   ]
  },
  {
   "cell_type": "code",
   "execution_count": 31,
   "metadata": {
    "pycharm": {
     "is_executing": false,
     "name": "#%%\n"
    }
   },
   "outputs": [],
   "source": [
    "dynamic_dict = {}\n",
    "dynamic_illinois_dict = {}"
   ]
  },
  {
   "cell_type": "code",
   "execution_count": 32,
   "metadata": {
    "pycharm": {
     "is_executing": false,
     "name": "#%%\n"
    }
   },
   "outputs": [],
   "source": [
    "def create_dict(column):\n",
    "    tmp_dict = {}\n",
    "    tmp_dict['Quantiles'] = {\n",
    "        'bins': ','.join(mc.Quantiles(column, k=6).bins.astype(str)),\n",
    "        'k': 6\n",
    "    }\n",
    "    tmp_dict['FisherJenks'] = {\n",
    "        'bins': ','.join(mc.FisherJenks(column, k=6).bins.astype(str)),\n",
    "        'k': 6\n",
    "    }\n",
    "    tmp_dict['NaturalBreaks'] = {\n",
    "        'bins': ','.join(mc.NaturalBreaks(column, k=6).bins.astype(str)),\n",
    "        'k': 6\n",
    "    }\n",
    "    return tmp_dict"
   ]
  },
  {
   "cell_type": "markdown",
   "metadata": {},
   "source": [
    "### 3. For IDPH County-level Data"
   ]
  },
  {
   "cell_type": "markdown",
   "metadata": {},
   "source": [
    "#### 3.0 Load Data"
   ]
  },
  {
   "cell_type": "code",
   "execution_count": 33,
   "metadata": {
    "pycharm": {
     "is_executing": false,
     "name": "#%%\n"
    }
   },
   "outputs": [],
   "source": [
    "dph_illinois_gdf = gpd.read_file('./dph_county_data.geojson')"
   ]
  },
  {
   "cell_type": "code",
   "execution_count": 34,
   "metadata": {
    "pycharm": {
     "is_executing": false,
     "name": "#%%\n"
    }
   },
   "outputs": [
    {
     "data": {
      "text/html": [
       "<div>\n",
       "<style scoped>\n",
       "    .dataframe tbody tr th:only-of-type {\n",
       "        vertical-align: middle;\n",
       "    }\n",
       "\n",
       "    .dataframe tbody tr th {\n",
       "        vertical-align: top;\n",
       "    }\n",
       "\n",
       "    .dataframe thead th {\n",
       "        text-align: right;\n",
       "    }\n",
       "</style>\n",
       "<table border=\"1\" class=\"dataframe\">\n",
       "  <thead>\n",
       "    <tr style=\"text-align: right;\">\n",
       "      <th></th>\n",
       "      <th>id</th>\n",
       "      <th>population</th>\n",
       "      <th>NAME</th>\n",
       "      <th>cases_ts</th>\n",
       "      <th>dt_first_case</th>\n",
       "      <th>today_case</th>\n",
       "      <th>today_new_case</th>\n",
       "      <th>deaths_ts</th>\n",
       "      <th>dt_first_death</th>\n",
       "      <th>today_death</th>\n",
       "      <th>today_new_death</th>\n",
       "      <th>today_tested</th>\n",
       "      <th>today_new_tested</th>\n",
       "      <th>start</th>\n",
       "      <th>end</th>\n",
       "      <th>dt_unit</th>\n",
       "      <th>change_ts</th>\n",
       "      <th>geometry</th>\n",
       "    </tr>\n",
       "  </thead>\n",
       "  <tbody>\n",
       "    <tr>\n",
       "      <th>0</th>\n",
       "      <td>Chicago</td>\n",
       "      <td>2693976</td>\n",
       "      <td>Chicago</td>\n",
       "      <td>0,0,0,0,0,519,519,782,915,1161,1364,1610,2026,...</td>\n",
       "      <td>2020-03-22</td>\n",
       "      <td>330697</td>\n",
       "      <td>396</td>\n",
       "      <td>0,0,0,0,0,4,4,5,5,9,9,12,16,16,21,39,41,57,76,...</td>\n",
       "      <td>2020-03-22</td>\n",
       "      <td>5920</td>\n",
       "      <td>0</td>\n",
       "      <td>7013885</td>\n",
       "      <td>25958</td>\n",
       "      <td>2020-03-17</td>\n",
       "      <td>2021-11-07</td>\n",
       "      <td>day</td>\n",
       "      <td>0,0,0,0,0,0,0,0,0,0,0,0,0,2.24,1.44,1.37,0.82,...</td>\n",
       "      <td>MULTIPOLYGON (((-87.93514 42.00089, -87.93521 ...</td>\n",
       "    </tr>\n",
       "    <tr>\n",
       "      <th>1</th>\n",
       "      <td>McHenry</td>\n",
       "      <td>308570</td>\n",
       "      <td>McHenry</td>\n",
       "      <td>2,4,6,8,11,12,12,14,19,27,45,47,52,52,63,69,81...</td>\n",
       "      <td>2020-03-17</td>\n",
       "      <td>35984</td>\n",
       "      <td>71</td>\n",
       "      <td>0,0,0,0,0,0,0,0,0,1,1,2,2,2,2,2,3,3,3,3,3,4,5,...</td>\n",
       "      <td>2020-03-26</td>\n",
       "      <td>336</td>\n",
       "      <td>0</td>\n",
       "      <td>569967</td>\n",
       "      <td>2559</td>\n",
       "      <td>2020-03-17</td>\n",
       "      <td>2021-11-07</td>\n",
       "      <td>day</td>\n",
       "      <td>0,0,0,0,0,0,0,0,0,0,0,0,0,3.0,3.08,2.33,1.57,0...</td>\n",
       "      <td>POLYGON ((-88.70742 42.49352, -88.70741 42.493...</td>\n",
       "    </tr>\n",
       "    <tr>\n",
       "      <th>2</th>\n",
       "      <td>Boone</td>\n",
       "      <td>53577</td>\n",
       "      <td>Boone</td>\n",
       "      <td>0,0,0,0,0,0,0,0,0,0,0,0,0,0,0,0,0,0,0,3,4,6,7,...</td>\n",
       "      <td>2020-04-05</td>\n",
       "      <td>8119</td>\n",
       "      <td>15</td>\n",
       "      <td>0,0,0,0,0,0,0,0,0,0,0,0,0,0,0,0,0,0,0,0,0,0,1,...</td>\n",
       "      <td>2020-04-08</td>\n",
       "      <td>84</td>\n",
       "      <td>0</td>\n",
       "      <td>93429</td>\n",
       "      <td>255</td>\n",
       "      <td>2020-03-17</td>\n",
       "      <td>2021-11-07</td>\n",
       "      <td>day</td>\n",
       "      <td>0,0,0,0,0,0,0,0,0,0,0,0,0,0,0,0,0,0,0,3.0,4.0,...</td>\n",
       "      <td>POLYGON ((-88.70742 42.49352, -88.70750 42.493...</td>\n",
       "    </tr>\n",
       "    <tr>\n",
       "      <th>3</th>\n",
       "      <td>Ogle</td>\n",
       "      <td>50923</td>\n",
       "      <td>Ogle</td>\n",
       "      <td>0,0,0,0,0,0,0,0,0,0,0,0,0,0,1,1,1,1,4,5,7,10,1...</td>\n",
       "      <td>2020-03-31</td>\n",
       "      <td>7840</td>\n",
       "      <td>15</td>\n",
       "      <td>0,0,0,0,0,0,0,0,0,0,0,0,0,0,0,0,0,0,0,0,0,0,0,...</td>\n",
       "      <td>2020-04-15</td>\n",
       "      <td>94</td>\n",
       "      <td>0</td>\n",
       "      <td>96607</td>\n",
       "      <td>304</td>\n",
       "      <td>2020-03-17</td>\n",
       "      <td>2021-11-07</td>\n",
       "      <td>day</td>\n",
       "      <td>0,0,0,0,0,0,0,0,0,0,0,0,0,0,1.0,1.0,1.0,1.0,4....</td>\n",
       "      <td>POLYGON ((-89.68809 42.19950, -89.68807 42.184...</td>\n",
       "    </tr>\n",
       "    <tr>\n",
       "      <th>4</th>\n",
       "      <td>Will</td>\n",
       "      <td>692310</td>\n",
       "      <td>Will</td>\n",
       "      <td>2,3,9,10,12,21,21,28,40,67,104,127,182,223,228...</td>\n",
       "      <td>2020-03-17</td>\n",
       "      <td>93764</td>\n",
       "      <td>154</td>\n",
       "      <td>0,0,0,1,1,1,1,1,2,3,3,4,4,5,8,9,8,10,11,12,19,...</td>\n",
       "      <td>2020-03-20</td>\n",
       "      <td>1144</td>\n",
       "      <td>1</td>\n",
       "      <td>1545447</td>\n",
       "      <td>5793</td>\n",
       "      <td>2020-03-17</td>\n",
       "      <td>2021-11-07</td>\n",
       "      <td>day</td>\n",
       "      <td>0,0,0,0,0,0,0,0,0,0,0,0,0,9.63,6.69,6.62,4.47,...</td>\n",
       "      <td>POLYGON ((-88.26146 41.72439, -88.26103 41.708...</td>\n",
       "    </tr>\n",
       "  </tbody>\n",
       "</table>\n",
       "</div>"
      ],
      "text/plain": [
       "        id  population     NAME  \\\n",
       "0  Chicago     2693976  Chicago   \n",
       "1  McHenry      308570  McHenry   \n",
       "2    Boone       53577    Boone   \n",
       "3     Ogle       50923     Ogle   \n",
       "4     Will      692310     Will   \n",
       "\n",
       "                                            cases_ts dt_first_case  \\\n",
       "0  0,0,0,0,0,519,519,782,915,1161,1364,1610,2026,...    2020-03-22   \n",
       "1  2,4,6,8,11,12,12,14,19,27,45,47,52,52,63,69,81...    2020-03-17   \n",
       "2  0,0,0,0,0,0,0,0,0,0,0,0,0,0,0,0,0,0,0,3,4,6,7,...    2020-04-05   \n",
       "3  0,0,0,0,0,0,0,0,0,0,0,0,0,0,1,1,1,1,4,5,7,10,1...    2020-03-31   \n",
       "4  2,3,9,10,12,21,21,28,40,67,104,127,182,223,228...    2020-03-17   \n",
       "\n",
       "   today_case  today_new_case  \\\n",
       "0      330697             396   \n",
       "1       35984              71   \n",
       "2        8119              15   \n",
       "3        7840              15   \n",
       "4       93764             154   \n",
       "\n",
       "                                           deaths_ts dt_first_death  \\\n",
       "0  0,0,0,0,0,4,4,5,5,9,9,12,16,16,21,39,41,57,76,...     2020-03-22   \n",
       "1  0,0,0,0,0,0,0,0,0,1,1,2,2,2,2,2,3,3,3,3,3,4,5,...     2020-03-26   \n",
       "2  0,0,0,0,0,0,0,0,0,0,0,0,0,0,0,0,0,0,0,0,0,0,1,...     2020-04-08   \n",
       "3  0,0,0,0,0,0,0,0,0,0,0,0,0,0,0,0,0,0,0,0,0,0,0,...     2020-04-15   \n",
       "4  0,0,0,1,1,1,1,1,2,3,3,4,4,5,8,9,8,10,11,12,19,...     2020-03-20   \n",
       "\n",
       "   today_death  today_new_death  today_tested  today_new_tested       start  \\\n",
       "0         5920                0       7013885             25958  2020-03-17   \n",
       "1          336                0        569967              2559  2020-03-17   \n",
       "2           84                0         93429               255  2020-03-17   \n",
       "3           94                0         96607               304  2020-03-17   \n",
       "4         1144                1       1545447              5793  2020-03-17   \n",
       "\n",
       "          end dt_unit                                          change_ts  \\\n",
       "0  2021-11-07     day  0,0,0,0,0,0,0,0,0,0,0,0,0,2.24,1.44,1.37,0.82,...   \n",
       "1  2021-11-07     day  0,0,0,0,0,0,0,0,0,0,0,0,0,3.0,3.08,2.33,1.57,0...   \n",
       "2  2021-11-07     day  0,0,0,0,0,0,0,0,0,0,0,0,0,0,0,0,0,0,0,3.0,4.0,...   \n",
       "3  2021-11-07     day  0,0,0,0,0,0,0,0,0,0,0,0,0,0,1.0,1.0,1.0,1.0,4....   \n",
       "4  2021-11-07     day  0,0,0,0,0,0,0,0,0,0,0,0,0,9.63,6.69,6.62,4.47,...   \n",
       "\n",
       "                                            geometry  \n",
       "0  MULTIPOLYGON (((-87.93514 42.00089, -87.93521 ...  \n",
       "1  POLYGON ((-88.70742 42.49352, -88.70741 42.493...  \n",
       "2  POLYGON ((-88.70742 42.49352, -88.70750 42.493...  \n",
       "3  POLYGON ((-89.68809 42.19950, -89.68807 42.184...  \n",
       "4  POLYGON ((-88.26146 41.72439, -88.26103 41.708...  "
      ]
     },
     "execution_count": 34,
     "metadata": {},
     "output_type": "execute_result"
    }
   ],
   "source": [
    "dph_illinois_gdf.head(5)"
   ]
  },
  {
   "cell_type": "code",
   "execution_count": 35,
   "metadata": {},
   "outputs": [],
   "source": [
    "dph_illinois_gdf = dph_illinois_gdf[dph_illinois_gdf['id'] != 'Illinois']"
   ]
  },
  {
   "cell_type": "markdown",
   "metadata": {
    "pycharm": {
     "name": "#%% md\n"
    }
   },
   "source": [
    "#### 3.1 Get Constant Classes from today's data"
   ]
  },
  {
   "cell_type": "code",
   "execution_count": 36,
   "metadata": {
    "pycharm": {
     "is_executing": false,
     "name": "#%%\n"
    }
   },
   "outputs": [],
   "source": [
    "illinois_case = dph_illinois_gdf['today_case']\n",
    "illinois_death = dph_illinois_gdf['today_death']\n",
    "illinois_case_per_100k_capita = dph_illinois_gdf['today_case']/(dph_illinois_gdf['population']/100000)\n",
    "illinois_death_per_100k_capita = dph_illinois_gdf['today_death']/(dph_illinois_gdf['population']/100000)\n",
    "#death_case_ratio = counties_gdf['today_death']/counties_gdf['today_case']\n",
    "#death_case_ratio = death_case_ratio.replace(np.nan, 0)"
   ]
  },
  {
   "cell_type": "code",
   "execution_count": 37,
   "metadata": {
    "pycharm": {
     "is_executing": false,
     "name": "#%%\n"
    }
   },
   "outputs": [],
   "source": [
    "illinois_death_per_100k_capita = illinois_death_per_100k_capita.replace(np.nan,0)\n",
    "illinois_death_per_100k_capita = illinois_death_per_100k_capita.replace(np.inf,0)\n",
    "illinois_case_per_100k_capita = illinois_case_per_100k_capita.replace(np.nan,0)\n",
    "illinois_case_per_100k_capita = illinois_case_per_100k_capita.replace(np.inf,0)"
   ]
  },
  {
   "cell_type": "code",
   "execution_count": 38,
   "metadata": {
    "pycharm": {
     "is_executing": false,
     "name": "#%%\n"
    }
   },
   "outputs": [],
   "source": [
    "illinois_log_case = illinois_case.apply(lambda x: np.log(x + 1))\n",
    "illinois_log_death = illinois_death.apply(lambda x: np.log(x + 1))\n",
    "illinois_log_case_per_100k_capita = illinois_case_per_100k_capita.apply(lambda x: np.log(x + 1))\n",
    "illinois_log_death_per_100k_capita =illinois_death_per_100k_capita.apply(lambda x: np.log(x + 1))"
   ]
  },
  {
   "cell_type": "code",
   "execution_count": 39,
   "metadata": {
    "pycharm": {
     "is_executing": false,
     "name": "#%%\n"
    }
   },
   "outputs": [],
   "source": [
    "dph_illinois_dict['case'] = {}\n",
    "dph_illinois_dict['death'] = {}\n",
    "dph_illinois_dict['case_per_100k_capita'] = {}\n",
    "dph_illinois_dict['death_per_100k_capita'] = {}"
   ]
  },
  {
   "cell_type": "code",
   "execution_count": 40,
   "metadata": {
    "pycharm": {
     "is_executing": false,
     "name": "#%%\n"
    }
   },
   "outputs": [],
   "source": [
    "dph_illinois_dict['case']['nolog'] = create_dict(illinois_case)\n",
    "dph_illinois_dict['case']['log'] = create_dict(illinois_log_case)\n",
    "dph_illinois_dict['death']['nolog'] = create_dict(illinois_death)\n",
    "dph_illinois_dict['death']['log'] = create_dict(illinois_log_death)\n",
    "dph_illinois_dict['case_per_100k_capita']['nolog'] = create_dict(illinois_case_per_100k_capita)\n",
    "dph_illinois_dict['case_per_100k_capita']['log'] = create_dict(illinois_log_case_per_100k_capita)\n",
    "dph_illinois_dict['death_per_100k_capita']['nolog'] = create_dict(illinois_death_per_100k_capita)\n",
    "dph_illinois_dict['death_per_100k_capita']['log'] = create_dict(illinois_log_death_per_100k_capita)"
   ]
  },
  {
   "cell_type": "code",
   "execution_count": 41,
   "metadata": {},
   "outputs": [
    {
     "data": {
      "text/plain": [
       "{'case': {'nolog': {'Quantiles': {'bins': '1952.0000000000005,2696.0,4418.0,7103.000000000002,16700.000000000025,330697.0',\n",
       "    'k': 6},\n",
       "   'FisherJenks': {'bins': '8501,23620,42956,82227,111403,330697', 'k': 6},\n",
       "   'NaturalBreaks': {'bins': '8501.0,27789.0,42956.0,82227.0,111403.0,330697.0',\n",
       "    'k': 6}},\n",
       "  'log': {'Quantiles': {'bins': '7.57712193087668,7.89989532313973,8.39366870513074,8.868413284672005,9.72322387685162,12.708960851174155',\n",
       "    'k': 6},\n",
       "   'FisherJenks': {'bins': '7.273786317844895,8.24800570160062,9.048056708918736,10.23243152273655,11.620918512473422,12.708960851174155',\n",
       "    'k': 6},\n",
       "   'NaturalBreaks': {'bins': '7.273786317844895,8.24800570160062,9.048056708918736,10.23243152273655,11.448546931034022,12.708960851174155',\n",
       "    'k': 6}}},\n",
       " 'death': {'nolog': {'Quantiles': {'bins': '23.000000000000014,40.000000000000014,71.0,102.00000000000001,226.00000000000037,5920.0',\n",
       "    'k': 6},\n",
       "   'FisherJenks': {'bins': '157,376,891,1392,5413,5920', 'k': 6},\n",
       "   'NaturalBreaks': {'bins': '157.0,376.0,891.0,1392.0,5413.0,5920.0',\n",
       "    'k': 6}},\n",
       "  'log': {'Quantiles': {'bins': '3.1780538303479466,3.7135720667043084,4.276666119016055,4.634728988229636,5.424950017481405,8.686260632531775',\n",
       "    'k': 6},\n",
       "   'FisherJenks': {'bins': '2.833213344056216,3.9318256327243257,4.90527477843843,5.932245187448011,7.239214973779806,8.686260632531775',\n",
       "    'k': 6},\n",
       "   'NaturalBreaks': {'bins': '2.833213344056216,3.9318256327243257,4.90527477843843,5.932245187448011,7.239214973779806,8.686260632531775',\n",
       "    'k': 6}}},\n",
       " 'case_per_100k_capita': {'nolog': {'Quantiles': {'bins': '13509.021842355176,14947.42211410186,15773.332723028334,16830.875857851464,18597.470458998876,21990.21207177814',\n",
       "    'k': 6},\n",
       "   'FisherJenks': {'bins': '6139.396385633569,12749.123685528293,14575.72066585465,16473.71714643304,18597.470458998872,21990.21207177814',\n",
       "    'k': 6},\n",
       "   'NaturalBreaks': {'bins': '6139.396385633569,12493.497485694468,14361.686585045147,16287.823946720717,18597.470458998872,21990.21207177814',\n",
       "    'k': 6}},\n",
       "  'log': {'Quantiles': {'bins': '9.511187047707576,9.612361029041418,9.666139386865208,9.73102974014495,9.830834622932786,9.998398201255725',\n",
       "    'k': 6},\n",
       "   'FisherJenks': {'bins': '8.722644576978192,9.415436025263448,9.572388913198486,9.698234504190701,9.824537205505667,9.998398201255725',\n",
       "    'k': 6},\n",
       "   'NaturalBreaks': {'bins': '8.722644576978192,9.415436025263448,9.572388913198486,9.698234504190701,9.824537205505667,9.998398201255725',\n",
       "    'k': 6}}},\n",
       " 'death_per_100k_capita': {'nolog': {'Quantiles': {'bins': '158.8918313302098,199.5909617327453,238.20456893582823,269.2998204667864,306.6544004906471,534.3652109821264',\n",
       "    'k': 6},\n",
       "   'FisherJenks': {'bins': '113.93229166666666,190.24668653687615,249.81495188749076,320.8123092256899,444.8130277442702,534.3652109821264',\n",
       "    'k': 6},\n",
       "   'NaturalBreaks': {'bins': '113.93229166666666,190.24668653687615,249.81495188749076,320.8123092256899,444.8130277442702,534.3652109821264',\n",
       "    'k': 6}},\n",
       "  'log': {'Quantiles': {'bins': '5.074497532419958,5.301267818345006,5.477319122796349,5.599531789082353,5.728977076645547,6.282949151354881',\n",
       "    'k': 6},\n",
       "   'FisherJenks': {'bins': '3.7530111609436076,4.744343186855299,5.223552999775553,5.495512090189675,5.77396848499419,6.282949151354881',\n",
       "    'k': 6},\n",
       "   'NaturalBreaks': {'bins': '3.7530111609436076,4.744343186855299,5.223552999775553,5.495512090189675,5.77396848499419,6.282949151354881',\n",
       "    'k': 6}}}}"
      ]
     },
     "execution_count": 41,
     "metadata": {},
     "output_type": "execute_result"
    }
   ],
   "source": [
    "dph_illinois_dict"
   ]
  },
  {
   "cell_type": "markdown",
   "metadata": {
    "pycharm": {
     "name": "#%% md\n"
    }
   },
   "source": [
    "### 7. Summary and ouput"
   ]
  },
  {
   "cell_type": "code",
   "execution_count": 42,
   "metadata": {
    "pycharm": {
     "is_executing": false,
     "name": "#%%\n"
    }
   },
   "outputs": [
    {
     "name": "stdout",
     "output_type": "stream",
     "text": [
      "done\n"
     ]
    }
   ],
   "source": [
    "import json\n",
    "total_dict['dph_illinois'] = dph_illinois_dict\n",
    "with open('classes_idph.json','w') as json_file:\n",
    "    json.dump(total_dict, json_file)\n",
    "print('done')"
   ]
  }
 ],
 "metadata": {
  "kernelspec": {
   "display_name": "Python 3",
   "language": "python",
   "name": "python3"
  },
  "language_info": {
   "codemirror_mode": {
    "name": "ipython",
    "version": 3
   },
   "file_extension": ".py",
   "mimetype": "text/x-python",
   "name": "python",
   "nbconvert_exporter": "python",
   "pygments_lexer": "ipython3",
   "version": "3.7.8"
  },
  "pycharm": {
   "stem_cell": {
    "cell_type": "raw",
    "metadata": {
     "collapsed": false
    },
    "source": []
   }
  }
 },
 "nbformat": 4,
 "nbformat_minor": 1
}
