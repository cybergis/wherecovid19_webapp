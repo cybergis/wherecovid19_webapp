{
 "cells": [
  {
   "cell_type": "markdown",
   "metadata": {
    "collapsed": true,
    "pycharm": {
     "name": "#%% md\n"
    }
   },
   "source": [
    "URL preparation"
   ]
  },
  {
   "cell_type": "code",
   "execution_count": 95,
   "metadata": {
    "pycharm": {
     "is_executing": false,
     "name": "#%%\n"
    }
   },
   "outputs": [],
   "source": [
    "# Geometry URL\n",
    "zipcode_geometry_url = \"http://www.dph.illinois.gov/sites/default/files/COVID19/il_illinois_zip_codes.json?nocache=1\"\n",
    "county_geometry_url = \"http://www.dph.illinois.gov/sites/default/files/Illinois_County_Geo_ch.json\"\n",
    "\n",
    "# Data URL\n",
    "county_data_url = \"http://www.dph.illinois.gov/sitefiles/CountyDemos.json?nocache=1\"\n",
    "zipcode_data_url = \"http://www.dph.illinois.gov/sitefiles/COVIDZip.json?nocache=1\"\n",
    "history_data_url = \"http://www.dph.illinois.gov/sitefiles/COVIDHistoricalTestResults.json?nocache=1\""
   ]
  },
  {
   "cell_type": "code",
   "execution_count": 96,
   "metadata": {
    "pycharm": {
     "is_executing": false,
     "name": "#%%\n"
    }
   },
   "outputs": [],
   "source": [
    "import pandas as pd\n",
    "import json\n",
    "import numpy as np\n",
    "import geopandas as gpd\n",
    "from urllib.request import urlopen\n",
    "import shapely.wkt"
   ]
  },
  {
   "cell_type": "markdown",
   "metadata": {
    "pycharm": {
     "name": "#%% md\n"
    }
   },
   "source": [
    "Download data"
   ]
  },
  {
   "cell_type": "code",
   "execution_count": 97,
   "metadata": {
    "pycharm": {
     "is_executing": false,
     "name": "#%%\n"
    }
   },
   "outputs": [],
   "source": [
    "# with urlopen(zipcode_data_url) as response:\n",
    "#     zipcode_dict = json.load(response)\n",
    "#     zipcode_data = pd.DataFrame(zipcode_dict['zip_values'])\n",
    "with open(\"./idph_COVIDZip.json\") as f:\n",
    "    zipcode_dict = json.load(f)\n",
    "    zipcode_data = pd.DataFrame(zipcode_dict['zip_values'])"
   ]
  },
  {
   "cell_type": "code",
   "execution_count": 98,
   "metadata": {
    "pycharm": {
     "is_executing": false,
     "name": "#%%\n"
    }
   },
   "outputs": [],
   "source": [
    "# with urlopen(county_data_url) as response:\n",
    "#     county_dict = json.load(response)\n",
    "#     county_data = pd.DataFrame(county_dict['county_demographics'])\n",
    "    "
   ]
  },
  {
   "cell_type": "code",
   "execution_count": 99,
   "metadata": {
    "pycharm": {
     "is_executing": false,
     "name": "#%%\n"
    }
   },
   "outputs": [],
   "source": [
    "# with urlopen(history_data_url) as response:\n",
    "#     history_dict = json.load(response)\n",
    "with open(\"./idph_COVIDHistoricalTestResults.json\") as f:\n",
    "    history_dict = json.load(f)"
   ]
  },
  {
   "cell_type": "code",
   "execution_count": 100,
   "metadata": {
    "pycharm": {
     "is_executing": false,
     "name": "#%%\n"
    }
   },
   "outputs": [],
   "source": [
    "zipcode_geometry = gpd.read_file(zipcode_geometry_url)\n",
    "county_geometry = gpd.read_file(county_geometry_url)"
   ]
  },
  {
   "cell_type": "code",
   "execution_count": 101,
   "metadata": {
    "pycharm": {
     "is_executing": false,
     "name": "#%%\n"
    }
   },
   "outputs": [],
   "source": [
    "with urlopen(zipcode_geometry_url) as response:\n",
    "    tmp = json.load(response)\n",
    "    zipcode_gpd = gpd.GeoDataFrame(tmp['features'])"
   ]
  },
  {
   "cell_type": "code",
   "execution_count": 102,
   "metadata": {
    "pycharm": {
     "is_executing": false,
     "name": "#%%    \n"
    }
   },
   "outputs": [],
   "source": [
    "zipcode_gpd['geometry'] = zipcode_geometry\n",
    "zipcode_gpd = zipcode_gpd[['id','geometry']]\n",
    "zipcode_gpd['id'] = zipcode_gpd['id'].astype(str)"
   ]
  },
  {
   "cell_type": "code",
   "execution_count": 103,
   "metadata": {},
   "outputs": [
    {
     "data": {
      "text/html": [
       "<div>\n",
       "<style scoped>\n",
       "    .dataframe tbody tr th:only-of-type {\n",
       "        vertical-align: middle;\n",
       "    }\n",
       "\n",
       "    .dataframe tbody tr th {\n",
       "        vertical-align: top;\n",
       "    }\n",
       "\n",
       "    .dataframe thead th {\n",
       "        text-align: right;\n",
       "    }\n",
       "</style>\n",
       "<table border=\"1\" class=\"dataframe\">\n",
       "  <thead>\n",
       "    <tr style=\"text-align: right;\">\n",
       "      <th></th>\n",
       "      <th>id</th>\n",
       "      <th>OBJECTID</th>\n",
       "      <th>County</th>\n",
       "      <th>Percent_1</th>\n",
       "      <th>Shape__Area</th>\n",
       "      <th>Shape__Length</th>\n",
       "      <th>geometry</th>\n",
       "    </tr>\n",
       "  </thead>\n",
       "  <tbody>\n",
       "    <tr>\n",
       "      <th>0</th>\n",
       "      <td>McHenry</td>\n",
       "      <td>1</td>\n",
       "      <td>McHenry County</td>\n",
       "      <td>27.7</td>\n",
       "      <td>17027625788.537001</td>\n",
       "      <td>522324.305015</td>\n",
       "      <td>POLYGON ((-88.70742 42.49352, -88.70741 42.493...</td>\n",
       "    </tr>\n",
       "    <tr>\n",
       "      <th>1</th>\n",
       "      <td>Boone</td>\n",
       "      <td>2</td>\n",
       "      <td>Boone County</td>\n",
       "      <td>33.7</td>\n",
       "      <td>7862723082.688600</td>\n",
       "      <td>375171.144577</td>\n",
       "      <td>POLYGON ((-88.70742 42.49352, -88.70750 42.493...</td>\n",
       "    </tr>\n",
       "    <tr>\n",
       "      <th>2</th>\n",
       "      <td>Ogle</td>\n",
       "      <td>3</td>\n",
       "      <td>Ogle County</td>\n",
       "      <td>31.2</td>\n",
       "      <td>21284584781.190300</td>\n",
       "      <td>651729.421361</td>\n",
       "      <td>POLYGON ((-89.68809 42.19950, -89.68807 42.184...</td>\n",
       "    </tr>\n",
       "    <tr>\n",
       "      <th>3</th>\n",
       "      <td>Will</td>\n",
       "      <td>4</td>\n",
       "      <td>Will County</td>\n",
       "      <td>28.0</td>\n",
       "      <td>23669428994.175301</td>\n",
       "      <td>779085.214831</td>\n",
       "      <td>POLYGON ((-88.26146 41.72439, -88.26103 41.708...</td>\n",
       "    </tr>\n",
       "    <tr>\n",
       "      <th>4</th>\n",
       "      <td>LaSalle</td>\n",
       "      <td>5</td>\n",
       "      <td>LaSalle County</td>\n",
       "      <td>27.1</td>\n",
       "      <td>32008439057.989899</td>\n",
       "      <td>825360.163913</td>\n",
       "      <td>POLYGON ((-88.93885 41.62837, -88.93891 41.628...</td>\n",
       "    </tr>\n",
       "    <tr>\n",
       "      <th>...</th>\n",
       "      <td>...</td>\n",
       "      <td>...</td>\n",
       "      <td>...</td>\n",
       "      <td>...</td>\n",
       "      <td>...</td>\n",
       "      <td>...</td>\n",
       "      <td>...</td>\n",
       "    </tr>\n",
       "    <tr>\n",
       "      <th>98</th>\n",
       "      <td>Lawrence</td>\n",
       "      <td>99</td>\n",
       "      <td>Lawrence County</td>\n",
       "      <td>28.9</td>\n",
       "      <td>10426836159.952499</td>\n",
       "      <td>442943.679766</td>\n",
       "      <td>POLYGON ((-87.90806 38.85013, -87.90819 38.835...</td>\n",
       "    </tr>\n",
       "    <tr>\n",
       "      <th>99</th>\n",
       "      <td>Marion</td>\n",
       "      <td>100</td>\n",
       "      <td>Marion County</td>\n",
       "      <td>33.5</td>\n",
       "      <td>16056558800.880800</td>\n",
       "      <td>509529.795774</td>\n",
       "      <td>POLYGON ((-89.13844 38.73633, -89.13847 38.721...</td>\n",
       "    </tr>\n",
       "    <tr>\n",
       "      <th>100</th>\n",
       "      <td>Union</td>\n",
       "      <td>101</td>\n",
       "      <td>Union County</td>\n",
       "      <td>28.2</td>\n",
       "      <td>11769540678.443001</td>\n",
       "      <td>489617.647490</td>\n",
       "      <td>POLYGON ((-89.04143 37.59650, -89.06017 37.597...</td>\n",
       "    </tr>\n",
       "    <tr>\n",
       "      <th>101</th>\n",
       "      <td>Pope</td>\n",
       "      <td>102</td>\n",
       "      <td>Pope County</td>\n",
       "      <td>29.5</td>\n",
       "      <td>10432553057.307899</td>\n",
       "      <td>537878.380731</td>\n",
       "      <td>POLYGON ((-88.70860 37.59926, -88.70876 37.584...</td>\n",
       "    </tr>\n",
       "    <tr>\n",
       "      <th>102</th>\n",
       "      <td>Chicago</td>\n",
       "      <td>103</td>\n",
       "      <td>Chicago</td>\n",
       "      <td>28.2</td>\n",
       "      <td>6450276623.31</td>\n",
       "      <td>845282.931362</td>\n",
       "      <td>MULTIPOLYGON (((-87.93514 42.00089, -87.93521 ...</td>\n",
       "    </tr>\n",
       "  </tbody>\n",
       "</table>\n",
       "<p>103 rows × 7 columns</p>\n",
       "</div>"
      ],
      "text/plain": [
       "           id OBJECTID           County  Percent_1         Shape__Area  \\\n",
       "0     McHenry        1   McHenry County       27.7  17027625788.537001   \n",
       "1       Boone        2     Boone County       33.7   7862723082.688600   \n",
       "2        Ogle        3      Ogle County       31.2  21284584781.190300   \n",
       "3        Will        4      Will County       28.0  23669428994.175301   \n",
       "4     LaSalle        5   LaSalle County       27.1  32008439057.989899   \n",
       "..        ...      ...              ...        ...                 ...   \n",
       "98   Lawrence       99  Lawrence County       28.9  10426836159.952499   \n",
       "99     Marion      100    Marion County       33.5  16056558800.880800   \n",
       "100     Union      101     Union County       28.2  11769540678.443001   \n",
       "101      Pope      102      Pope County       29.5  10432553057.307899   \n",
       "102   Chicago      103          Chicago       28.2       6450276623.31   \n",
       "\n",
       "     Shape__Length                                           geometry  \n",
       "0    522324.305015  POLYGON ((-88.70742 42.49352, -88.70741 42.493...  \n",
       "1    375171.144577  POLYGON ((-88.70742 42.49352, -88.70750 42.493...  \n",
       "2    651729.421361  POLYGON ((-89.68809 42.19950, -89.68807 42.184...  \n",
       "3    779085.214831  POLYGON ((-88.26146 41.72439, -88.26103 41.708...  \n",
       "4    825360.163913  POLYGON ((-88.93885 41.62837, -88.93891 41.628...  \n",
       "..             ...                                                ...  \n",
       "98   442943.679766  POLYGON ((-87.90806 38.85013, -87.90819 38.835...  \n",
       "99   509529.795774  POLYGON ((-89.13844 38.73633, -89.13847 38.721...  \n",
       "100  489617.647490  POLYGON ((-89.04143 37.59650, -89.06017 37.597...  \n",
       "101  537878.380731  POLYGON ((-88.70860 37.59926, -88.70876 37.584...  \n",
       "102  845282.931362  MULTIPOLYGON (((-87.93514 42.00089, -87.93521 ...  \n",
       "\n",
       "[103 rows x 7 columns]"
      ]
     },
     "execution_count": 103,
     "metadata": {},
     "output_type": "execute_result"
    }
   ],
   "source": [
    "county_geometry"
   ]
  },
  {
   "cell_type": "code",
   "execution_count": 104,
   "metadata": {
    "pycharm": {
     "is_executing": false,
     "name": "#%%\n"
    }
   },
   "outputs": [],
   "source": [
    "county_gpd = county_geometry[['id','geometry']]"
   ]
  },
  {
   "cell_type": "code",
   "execution_count": 105,
   "metadata": {},
   "outputs": [],
   "source": [
    "polygon1 = shapely.wkt.loads('POLYGON ((-89.6536529004544 39.7828177522233, -89.6536529004544 39.7799814663649, -89.64987635016143 39.7799814663649, -89.64987635016143 39.7828177522233, -89.6536529004544 39.7828177522233))')\n",
    "polygon2 = shapely.wkt.loads('POLYGON ((-89.64923261999786 39.78268583454302, -89.64923261999786 39.7799814663649, -89.64575647711456 39.7799814663649, -89.64575647711456 39.78268583454302, -89.64923261999786 39.78268583454302))')"
   ]
  },
  {
   "cell_type": "code",
   "execution_count": 106,
   "metadata": {},
   "outputs": [],
   "source": [
    "county_gpd_static = county_gpd.append([{'id':\"Out Of State\", 'geometry':polygon1}], ignore_index=True)\n",
    "county_gpd_static = county_gpd_static.append([{'id':\"Unassigned\", 'geometry':polygon2}], ignore_index=True)"
   ]
  },
  {
   "cell_type": "code",
   "execution_count": 107,
   "metadata": {},
   "outputs": [
    {
     "data": {
      "text/html": [
       "<div>\n",
       "<style scoped>\n",
       "    .dataframe tbody tr th:only-of-type {\n",
       "        vertical-align: middle;\n",
       "    }\n",
       "\n",
       "    .dataframe tbody tr th {\n",
       "        vertical-align: top;\n",
       "    }\n",
       "\n",
       "    .dataframe thead th {\n",
       "        text-align: right;\n",
       "    }\n",
       "</style>\n",
       "<table border=\"1\" class=\"dataframe\">\n",
       "  <thead>\n",
       "    <tr style=\"text-align: right;\">\n",
       "      <th></th>\n",
       "      <th>id</th>\n",
       "      <th>geometry</th>\n",
       "    </tr>\n",
       "  </thead>\n",
       "  <tbody>\n",
       "    <tr>\n",
       "      <th>0</th>\n",
       "      <td>McHenry</td>\n",
       "      <td>POLYGON ((-88.70742 42.49352, -88.70741 42.493...</td>\n",
       "    </tr>\n",
       "    <tr>\n",
       "      <th>1</th>\n",
       "      <td>Boone</td>\n",
       "      <td>POLYGON ((-88.70742 42.49352, -88.70750 42.493...</td>\n",
       "    </tr>\n",
       "    <tr>\n",
       "      <th>2</th>\n",
       "      <td>Ogle</td>\n",
       "      <td>POLYGON ((-89.68809 42.19950, -89.68807 42.184...</td>\n",
       "    </tr>\n",
       "    <tr>\n",
       "      <th>3</th>\n",
       "      <td>Will</td>\n",
       "      <td>POLYGON ((-88.26146 41.72439, -88.26103 41.708...</td>\n",
       "    </tr>\n",
       "    <tr>\n",
       "      <th>4</th>\n",
       "      <td>LaSalle</td>\n",
       "      <td>POLYGON ((-88.93885 41.62837, -88.93891 41.628...</td>\n",
       "    </tr>\n",
       "    <tr>\n",
       "      <th>...</th>\n",
       "      <td>...</td>\n",
       "      <td>...</td>\n",
       "    </tr>\n",
       "    <tr>\n",
       "      <th>100</th>\n",
       "      <td>Union</td>\n",
       "      <td>POLYGON ((-89.04143 37.59650, -89.06017 37.597...</td>\n",
       "    </tr>\n",
       "    <tr>\n",
       "      <th>101</th>\n",
       "      <td>Pope</td>\n",
       "      <td>POLYGON ((-88.70860 37.59926, -88.70876 37.584...</td>\n",
       "    </tr>\n",
       "    <tr>\n",
       "      <th>102</th>\n",
       "      <td>Chicago</td>\n",
       "      <td>MULTIPOLYGON (((-87.93514 42.00089, -87.93521 ...</td>\n",
       "    </tr>\n",
       "    <tr>\n",
       "      <th>103</th>\n",
       "      <td>Out Of State</td>\n",
       "      <td>POLYGON ((-89.65365 39.78282, -89.65365 39.779...</td>\n",
       "    </tr>\n",
       "    <tr>\n",
       "      <th>104</th>\n",
       "      <td>Unassigned</td>\n",
       "      <td>POLYGON ((-89.64923 39.78269, -89.64923 39.779...</td>\n",
       "    </tr>\n",
       "  </tbody>\n",
       "</table>\n",
       "<p>105 rows × 2 columns</p>\n",
       "</div>"
      ],
      "text/plain": [
       "               id                                           geometry\n",
       "0         McHenry  POLYGON ((-88.70742 42.49352, -88.70741 42.493...\n",
       "1           Boone  POLYGON ((-88.70742 42.49352, -88.70750 42.493...\n",
       "2            Ogle  POLYGON ((-89.68809 42.19950, -89.68807 42.184...\n",
       "3            Will  POLYGON ((-88.26146 41.72439, -88.26103 41.708...\n",
       "4         LaSalle  POLYGON ((-88.93885 41.62837, -88.93891 41.628...\n",
       "..            ...                                                ...\n",
       "100         Union  POLYGON ((-89.04143 37.59650, -89.06017 37.597...\n",
       "101          Pope  POLYGON ((-88.70860 37.59926, -88.70876 37.584...\n",
       "102       Chicago  MULTIPOLYGON (((-87.93514 42.00089, -87.93521 ...\n",
       "103  Out Of State  POLYGON ((-89.65365 39.78282, -89.65365 39.779...\n",
       "104    Unassigned  POLYGON ((-89.64923 39.78269, -89.64923 39.779...\n",
       "\n",
       "[105 rows x 2 columns]"
      ]
     },
     "execution_count": 107,
     "metadata": {},
     "output_type": "execute_result"
    }
   ],
   "source": [
    "county_gpd_static"
   ]
  },
  {
   "cell_type": "markdown",
   "metadata": {
    "pycharm": {
     "is_executing": false,
     "name": "#%% md\n"
    }
   },
   "source": [
    "Zipcode Data generation"
   ]
  },
  {
   "cell_type": "code",
   "execution_count": 108,
   "metadata": {
    "pycharm": {
     "is_executing": false,
     "name": "#%%\n"
    }
   },
   "outputs": [
    {
     "data": {
      "text/html": [
       "<div>\n",
       "<style scoped>\n",
       "    .dataframe tbody tr th:only-of-type {\n",
       "        vertical-align: middle;\n",
       "    }\n",
       "\n",
       "    .dataframe tbody tr th {\n",
       "        vertical-align: top;\n",
       "    }\n",
       "\n",
       "    .dataframe thead th {\n",
       "        text-align: right;\n",
       "    }\n",
       "</style>\n",
       "<table border=\"1\" class=\"dataframe\">\n",
       "  <thead>\n",
       "    <tr style=\"text-align: right;\">\n",
       "      <th></th>\n",
       "      <th>zip</th>\n",
       "      <th>confirmed_cases</th>\n",
       "      <th>total_tested</th>\n",
       "      <th>demographics</th>\n",
       "    </tr>\n",
       "  </thead>\n",
       "  <tbody>\n",
       "    <tr>\n",
       "      <th>0</th>\n",
       "      <td>46324</td>\n",
       "      <td>6</td>\n",
       "      <td>121</td>\n",
       "      <td>{'age': [{'age_group': 'Unknown', 'count': 0, ...</td>\n",
       "    </tr>\n",
       "    <tr>\n",
       "      <th>1</th>\n",
       "      <td>53142</td>\n",
       "      <td>8</td>\n",
       "      <td>160</td>\n",
       "      <td>{'age': [{'age_group': 'Unknown', 'count': 0, ...</td>\n",
       "    </tr>\n",
       "    <tr>\n",
       "      <th>2</th>\n",
       "      <td>60002</td>\n",
       "      <td>71</td>\n",
       "      <td>595</td>\n",
       "      <td>{'age': [{'age_group': 'Unknown', 'count': 0, ...</td>\n",
       "    </tr>\n",
       "    <tr>\n",
       "      <th>3</th>\n",
       "      <td>60004</td>\n",
       "      <td>213</td>\n",
       "      <td>2521</td>\n",
       "      <td>{'age': [{'age_group': 'Unknown', 'count': 6, ...</td>\n",
       "    </tr>\n",
       "    <tr>\n",
       "      <th>4</th>\n",
       "      <td>60005</td>\n",
       "      <td>122</td>\n",
       "      <td>778</td>\n",
       "      <td>{'age': [{'age_group': 'Unknown', 'count': 0, ...</td>\n",
       "    </tr>\n",
       "    <tr>\n",
       "      <th>...</th>\n",
       "      <td>...</td>\n",
       "      <td>...</td>\n",
       "      <td>...</td>\n",
       "      <td>...</td>\n",
       "    </tr>\n",
       "    <tr>\n",
       "      <th>498</th>\n",
       "      <td>62920</td>\n",
       "      <td>55</td>\n",
       "      <td>196</td>\n",
       "      <td>{'age': [{'age_group': 'Unknown', 'count': 0, ...</td>\n",
       "    </tr>\n",
       "    <tr>\n",
       "      <th>499</th>\n",
       "      <td>62948</td>\n",
       "      <td>8</td>\n",
       "      <td>289</td>\n",
       "      <td>{'age': [{'age_group': 'Unknown', 'count': 0, ...</td>\n",
       "    </tr>\n",
       "    <tr>\n",
       "      <th>500</th>\n",
       "      <td>62959</td>\n",
       "      <td>25</td>\n",
       "      <td>668</td>\n",
       "      <td>{'age': [{'age_group': 'Unknown', 'count': 0, ...</td>\n",
       "    </tr>\n",
       "    <tr>\n",
       "      <th>501</th>\n",
       "      <td>62966</td>\n",
       "      <td>46</td>\n",
       "      <td>471</td>\n",
       "      <td>{'age': [{'age_group': 'Unknown', 'count': 0, ...</td>\n",
       "    </tr>\n",
       "    <tr>\n",
       "      <th>502</th>\n",
       "      <td>62992</td>\n",
       "      <td>32</td>\n",
       "      <td>115</td>\n",
       "      <td>{'age': [{'age_group': 'Unknown', 'count': 0, ...</td>\n",
       "    </tr>\n",
       "  </tbody>\n",
       "</table>\n",
       "<p>503 rows × 4 columns</p>\n",
       "</div>"
      ],
      "text/plain": [
       "       zip  confirmed_cases  total_tested  \\\n",
       "0    46324                6           121   \n",
       "1    53142                8           160   \n",
       "2    60002               71           595   \n",
       "3    60004              213          2521   \n",
       "4    60005              122           778   \n",
       "..     ...              ...           ...   \n",
       "498  62920               55           196   \n",
       "499  62948                8           289   \n",
       "500  62959               25           668   \n",
       "501  62966               46           471   \n",
       "502  62992               32           115   \n",
       "\n",
       "                                          demographics  \n",
       "0    {'age': [{'age_group': 'Unknown', 'count': 0, ...  \n",
       "1    {'age': [{'age_group': 'Unknown', 'count': 0, ...  \n",
       "2    {'age': [{'age_group': 'Unknown', 'count': 0, ...  \n",
       "3    {'age': [{'age_group': 'Unknown', 'count': 6, ...  \n",
       "4    {'age': [{'age_group': 'Unknown', 'count': 0, ...  \n",
       "..                                                 ...  \n",
       "498  {'age': [{'age_group': 'Unknown', 'count': 0, ...  \n",
       "499  {'age': [{'age_group': 'Unknown', 'count': 0, ...  \n",
       "500  {'age': [{'age_group': 'Unknown', 'count': 0, ...  \n",
       "501  {'age': [{'age_group': 'Unknown', 'count': 0, ...  \n",
       "502  {'age': [{'age_group': 'Unknown', 'count': 0, ...  \n",
       "\n",
       "[503 rows x 4 columns]"
      ]
     },
     "execution_count": 108,
     "metadata": {},
     "output_type": "execute_result"
    }
   ],
   "source": [
    "zipcode_data"
   ]
  },
  {
   "cell_type": "code",
   "execution_count": 109,
   "metadata": {
    "pycharm": {
     "is_executing": false,
     "name": "#%%\n"
    }
   },
   "outputs": [
    {
     "data": {
      "text/plain": [
       "id            object\n",
       "geometry    geometry\n",
       "dtype: object"
      ]
     },
     "execution_count": 109,
     "metadata": {},
     "output_type": "execute_result"
    }
   ],
   "source": [
    "zipcode_gpd.dtypes"
   ]
  },
  {
   "cell_type": "code",
   "execution_count": 110,
   "metadata": {
    "pycharm": {
     "is_executing": false,
     "name": "#%%\n"
    }
   },
   "outputs": [],
   "source": [
    "zipcode_final_gpd = pd.merge(zipcode_gpd,zipcode_data, how = 'left', left_on=['id'], right_on=['zip'])"
   ]
  },
  {
   "cell_type": "code",
   "execution_count": 111,
   "metadata": {
    "pycharm": {
     "is_executing": false,
     "name": "#%%\n"
    }
   },
   "outputs": [],
   "source": [
    "zipcode_final_gpd['confirmed_cases'] = zipcode_final_gpd['confirmed_cases'].replace(np.nan,0)\n",
    "zipcode_final_gpd['total_tested'] = zipcode_final_gpd['total_tested'].replace(np.nan,0)\n",
    "zipcode_final_gpd = zipcode_final_gpd[['id','confirmed_cases','total_tested','geometry']]"
   ]
  },
  {
   "cell_type": "code",
   "execution_count": 112,
   "metadata": {
    "pycharm": {
     "is_executing": false,
     "name": "#%%\n"
    }
   },
   "outputs": [
    {
     "name": "stdout",
     "output_type": "stream",
     "text": [
      "done\n"
     ]
    }
   ],
   "source": [
    "zipcode_final_gpd.to_file('dph_zipcode_data.geojson', driver='GeoJSON', encoding='utf-8')\n",
    "print('done')"
   ]
  },
  {
   "cell_type": "markdown",
   "metadata": {
    "pycharm": {
     "name": "#%% md\n"
    }
   },
   "source": [
    "Static County Data Generation\n"
   ]
  },
  {
   "cell_type": "code",
   "execution_count": 113,
   "metadata": {
    "pycharm": {
     "is_executing": false,
     "name": "#%%\n"
    }
   },
   "outputs": [],
   "source": [
    "county_static_data = pd.DataFrame(history_dict['characteristics_by_county']['values'])"
   ]
  },
  {
   "cell_type": "code",
   "execution_count": 114,
   "metadata": {
    "pycharm": {
     "is_executing": false,
     "name": "#%%\n"
    }
   },
   "outputs": [],
   "source": [
    "county_static = pd.merge(county_gpd_static, county_static_data, how=\"left\", left_on=\"id\",right_on=\"County\")"
   ]
  },
  {
   "cell_type": "code",
   "execution_count": 115,
   "metadata": {
    "pycharm": {
     "is_executing": false,
     "name": "#%%\n"
    }
   },
   "outputs": [],
   "source": [
    "county_static = county_static.rename(columns={'id':'NAME'})"
   ]
  },
  {
   "cell_type": "code",
   "execution_count": 116,
   "metadata": {},
   "outputs": [
    {
     "data": {
      "text/html": [
       "<div>\n",
       "<style scoped>\n",
       "    .dataframe tbody tr th:only-of-type {\n",
       "        vertical-align: middle;\n",
       "    }\n",
       "\n",
       "    .dataframe tbody tr th {\n",
       "        vertical-align: top;\n",
       "    }\n",
       "\n",
       "    .dataframe thead th {\n",
       "        text-align: right;\n",
       "    }\n",
       "</style>\n",
       "<table border=\"1\" class=\"dataframe\">\n",
       "  <thead>\n",
       "    <tr style=\"text-align: right;\">\n",
       "      <th></th>\n",
       "      <th>NAME</th>\n",
       "      <th>geometry</th>\n",
       "      <th>County</th>\n",
       "      <th>confirmed_cases</th>\n",
       "      <th>total_tested</th>\n",
       "      <th>deaths</th>\n",
       "      <th>lat</th>\n",
       "      <th>lon</th>\n",
       "    </tr>\n",
       "  </thead>\n",
       "  <tbody>\n",
       "    <tr>\n",
       "      <th>0</th>\n",
       "      <td>McHenry</td>\n",
       "      <td>POLYGON ((-88.70742 42.49352, -88.70741 42.493...</td>\n",
       "      <td>McHenry</td>\n",
       "      <td>1179</td>\n",
       "      <td>7663</td>\n",
       "      <td>62</td>\n",
       "      <td>42.304000</td>\n",
       "      <td>-88.401600</td>\n",
       "    </tr>\n",
       "    <tr>\n",
       "      <th>1</th>\n",
       "      <td>Boone</td>\n",
       "      <td>POLYGON ((-88.70742 42.49352, -88.70750 42.493...</td>\n",
       "      <td>Boone</td>\n",
       "      <td>290</td>\n",
       "      <td>1602</td>\n",
       "      <td>14</td>\n",
       "      <td>42.348500</td>\n",
       "      <td>-88.826300</td>\n",
       "    </tr>\n",
       "    <tr>\n",
       "      <th>2</th>\n",
       "      <td>Ogle</td>\n",
       "      <td>POLYGON ((-89.68809 42.19950, -89.68807 42.184...</td>\n",
       "      <td>Ogle</td>\n",
       "      <td>170</td>\n",
       "      <td>1761</td>\n",
       "      <td>2</td>\n",
       "      <td>41.997000</td>\n",
       "      <td>-89.322700</td>\n",
       "    </tr>\n",
       "    <tr>\n",
       "      <th>3</th>\n",
       "      <td>Will</td>\n",
       "      <td>POLYGON ((-88.26146 41.72439, -88.26103 41.708...</td>\n",
       "      <td>Will</td>\n",
       "      <td>4388</td>\n",
       "      <td>25612</td>\n",
       "      <td>240</td>\n",
       "      <td>41.505500</td>\n",
       "      <td>-88.090100</td>\n",
       "    </tr>\n",
       "    <tr>\n",
       "      <th>4</th>\n",
       "      <td>LaSalle</td>\n",
       "      <td>POLYGON ((-88.93885 41.62837, -88.93891 41.628...</td>\n",
       "      <td>LaSalle</td>\n",
       "      <td>120</td>\n",
       "      <td>2220</td>\n",
       "      <td>8</td>\n",
       "      <td>41.436400</td>\n",
       "      <td>-88.941400</td>\n",
       "    </tr>\n",
       "    <tr>\n",
       "      <th>...</th>\n",
       "      <td>...</td>\n",
       "      <td>...</td>\n",
       "      <td>...</td>\n",
       "      <td>...</td>\n",
       "      <td>...</td>\n",
       "      <td>...</td>\n",
       "      <td>...</td>\n",
       "      <td>...</td>\n",
       "    </tr>\n",
       "    <tr>\n",
       "      <th>100</th>\n",
       "      <td>Union</td>\n",
       "      <td>POLYGON ((-89.04143 37.59650, -89.06017 37.597...</td>\n",
       "      <td>Union</td>\n",
       "      <td>122</td>\n",
       "      <td>911</td>\n",
       "      <td>4</td>\n",
       "      <td>37.508700</td>\n",
       "      <td>-89.284700</td>\n",
       "    </tr>\n",
       "    <tr>\n",
       "      <th>101</th>\n",
       "      <td>Pope</td>\n",
       "      <td>POLYGON ((-88.70860 37.59926, -88.70876 37.584...</td>\n",
       "      <td>Pope</td>\n",
       "      <td>1</td>\n",
       "      <td>40</td>\n",
       "      <td>0</td>\n",
       "      <td>37.417100</td>\n",
       "      <td>-88.595200</td>\n",
       "    </tr>\n",
       "    <tr>\n",
       "      <th>102</th>\n",
       "      <td>Chicago</td>\n",
       "      <td>MULTIPOLYGON (((-87.93514 42.00089, -87.93521 ...</td>\n",
       "      <td>Chicago</td>\n",
       "      <td>36621</td>\n",
       "      <td>166152</td>\n",
       "      <td>1636</td>\n",
       "      <td>41.789896</td>\n",
       "      <td>-87.627734</td>\n",
       "    </tr>\n",
       "    <tr>\n",
       "      <th>103</th>\n",
       "      <td>Out Of State</td>\n",
       "      <td>POLYGON ((-89.65365 39.78282, -89.65365 39.779...</td>\n",
       "      <td>Out Of State</td>\n",
       "      <td>84</td>\n",
       "      <td>1612</td>\n",
       "      <td>1</td>\n",
       "      <td>0.000000</td>\n",
       "      <td>0.000000</td>\n",
       "    </tr>\n",
       "    <tr>\n",
       "      <th>104</th>\n",
       "      <td>Unassigned</td>\n",
       "      <td>POLYGON ((-89.64923 39.78269, -89.64923 39.779...</td>\n",
       "      <td>Unassigned</td>\n",
       "      <td>67</td>\n",
       "      <td>13047</td>\n",
       "      <td>0</td>\n",
       "      <td>39.839888</td>\n",
       "      <td>-89.510168</td>\n",
       "    </tr>\n",
       "  </tbody>\n",
       "</table>\n",
       "<p>105 rows × 8 columns</p>\n",
       "</div>"
      ],
      "text/plain": [
       "             NAME                                           geometry  \\\n",
       "0         McHenry  POLYGON ((-88.70742 42.49352, -88.70741 42.493...   \n",
       "1           Boone  POLYGON ((-88.70742 42.49352, -88.70750 42.493...   \n",
       "2            Ogle  POLYGON ((-89.68809 42.19950, -89.68807 42.184...   \n",
       "3            Will  POLYGON ((-88.26146 41.72439, -88.26103 41.708...   \n",
       "4         LaSalle  POLYGON ((-88.93885 41.62837, -88.93891 41.628...   \n",
       "..            ...                                                ...   \n",
       "100         Union  POLYGON ((-89.04143 37.59650, -89.06017 37.597...   \n",
       "101          Pope  POLYGON ((-88.70860 37.59926, -88.70876 37.584...   \n",
       "102       Chicago  MULTIPOLYGON (((-87.93514 42.00089, -87.93521 ...   \n",
       "103  Out Of State  POLYGON ((-89.65365 39.78282, -89.65365 39.779...   \n",
       "104    Unassigned  POLYGON ((-89.64923 39.78269, -89.64923 39.779...   \n",
       "\n",
       "           County  confirmed_cases  total_tested  deaths        lat        lon  \n",
       "0         McHenry             1179          7663      62  42.304000 -88.401600  \n",
       "1           Boone              290          1602      14  42.348500 -88.826300  \n",
       "2            Ogle              170          1761       2  41.997000 -89.322700  \n",
       "3            Will             4388         25612     240  41.505500 -88.090100  \n",
       "4         LaSalle              120          2220       8  41.436400 -88.941400  \n",
       "..            ...              ...           ...     ...        ...        ...  \n",
       "100         Union              122           911       4  37.508700 -89.284700  \n",
       "101          Pope                1            40       0  37.417100 -88.595200  \n",
       "102       Chicago            36621        166152    1636  41.789896 -87.627734  \n",
       "103  Out Of State               84          1612       1   0.000000   0.000000  \n",
       "104    Unassigned               67         13047       0  39.839888 -89.510168  \n",
       "\n",
       "[105 rows x 8 columns]"
      ]
     },
     "execution_count": 116,
     "metadata": {},
     "output_type": "execute_result"
    }
   ],
   "source": [
    "county_static"
   ]
  },
  {
   "cell_type": "code",
   "execution_count": 117,
   "metadata": {},
   "outputs": [
    {
     "data": {
      "text/plain": [
       "geopandas.geoseries.GeoSeries"
      ]
     },
     "execution_count": 117,
     "metadata": {},
     "output_type": "execute_result"
    }
   ],
   "source": [
    "type(county_static[\"geometry\"])"
   ]
  },
  {
   "cell_type": "code",
   "execution_count": 118,
   "metadata": {
    "pycharm": {
     "is_executing": false,
     "name": "#%%\n"
    }
   },
   "outputs": [
    {
     "name": "stdout",
     "output_type": "stream",
     "text": [
      "done\n"
     ]
    }
   ],
   "source": [
    "county_static.to_file('dph_county_static_data.geojson', driver='GeoJSON', encoding='utf-8')\n",
    "print('done')"
   ]
  },
  {
   "cell_type": "markdown",
   "metadata": {
    "pycharm": {
     "name": "#%% md\n"
    }
   },
   "source": [
    "County Data generation\n"
   ]
  },
  {
   "cell_type": "code",
   "execution_count": 119,
   "metadata": {
    "pycharm": {
     "is_executing": false,
     "name": "#%%\n"
    }
   },
   "outputs": [],
   "source": [
    "# transform to new york times format\n",
    "county_history = pd.DataFrame(history_dict['historical_county']['values'])\n",
    "l = []\n",
    "for case in history_dict['historical_county']['values']:\n",
    "    testDate = case['testDate']\n",
    "    values = case['values']\n",
    "    for x in values:\n",
    "        x['date'] = testDate\n",
    "        l.append(x)\n",
    "county_history = pd.DataFrame(l)"
   ]
  },
  {
   "cell_type": "code",
   "execution_count": 120,
   "metadata": {
    "pycharm": {
     "is_executing": false,
     "name": "#%%\n"
    }
   },
   "outputs": [],
   "source": [
    "# eliminate unassigned data\n",
    "county_history = county_history[county_history['County'] != 'Unassigned']"
   ]
  },
  {
   "cell_type": "code",
   "execution_count": 121,
   "metadata": {
    "pycharm": {
     "is_executing": false,
     "name": "#%%\n"
    }
   },
   "outputs": [],
   "source": [
    "def standardDate(str):\n",
    "    l = str.split('/')\n",
    "    month = l[0]\n",
    "    day = l[1]\n",
    "    year = l[2]\n",
    "    if len(month) < 2:\n",
    "        month = '0' + month\n",
    "    if len(day) < 2:\n",
    "        day = '0' + day\n",
    "    return year + '-' + month + '-' + day"
   ]
  },
  {
   "cell_type": "code",
   "execution_count": 122,
   "metadata": {
    "pycharm": {
     "is_executing": false,
     "name": "#%%\n"
    }
   },
   "outputs": [],
   "source": [
    "# pivot table\n",
    "county_pivot = pd.pivot_table(county_history, index=['County'],columns=['date'])"
   ]
  },
  {
   "cell_type": "code",
   "execution_count": 123,
   "metadata": {
    "pycharm": {
     "is_executing": false,
     "name": "#%%\n"
    }
   },
   "outputs": [
    {
     "data": {
      "text/plain": [
       "date\n",
       "3/17/2020    0.0\n",
       "3/18/2020    0.0\n",
       "3/19/2020    0.0\n",
       "3/20/2020    0.0\n",
       "3/21/2020    0.0\n",
       "            ... \n",
       "5/5/2020     1.0\n",
       "5/6/2020     1.0\n",
       "5/7/2020     1.0\n",
       "5/8/2020     1.0\n",
       "5/9/2020     1.0\n",
       "Name: Bond, Length: 61, dtype: float64"
      ]
     },
     "execution_count": 123,
     "metadata": {},
     "output_type": "execute_result"
    }
   ],
   "source": [
    "county_pivot['deaths'].iloc[2]"
   ]
  },
  {
   "cell_type": "code",
   "execution_count": 124,
   "metadata": {
    "pycharm": {
     "is_executing": false,
     "name": "#%%\n"
    }
   },
   "outputs": [],
   "source": [
    "# Standardized Date Format\n",
    "county_cases = county_pivot['confirmed_cases']\n",
    "county_deaths = county_pivot['deaths']"
   ]
  },
  {
   "cell_type": "code",
   "execution_count": 125,
   "metadata": {
    "pycharm": {
     "is_executing": false,
     "name": "#%%\n"
    }
   },
   "outputs": [],
   "source": [
    "county_cases = county_cases.rename(columns=standardDate)\n",
    "county_deaths = county_deaths.rename(columns=standardDate)"
   ]
  },
  {
   "cell_type": "code",
   "execution_count": 126,
   "metadata": {
    "pycharm": {
     "is_executing": false,
     "name": "#%%\n"
    }
   },
   "outputs": [],
   "source": [
    "# Add missing 03/23 data with 03/22\n",
    "county_cases['2020-03-23'] = county_cases['2020-03-22']\n",
    "county_deaths['2020-03-23'] = county_deaths['2020-03-22']"
   ]
  },
  {
   "cell_type": "code",
   "execution_count": 127,
   "metadata": {
    "pycharm": {
     "is_executing": false,
     "name": "#%%\n"
    }
   },
   "outputs": [
    {
     "data": {
      "text/html": [
       "<div>\n",
       "<style scoped>\n",
       "    .dataframe tbody tr th:only-of-type {\n",
       "        vertical-align: middle;\n",
       "    }\n",
       "\n",
       "    .dataframe tbody tr th {\n",
       "        vertical-align: top;\n",
       "    }\n",
       "\n",
       "    .dataframe thead th {\n",
       "        text-align: right;\n",
       "    }\n",
       "</style>\n",
       "<table border=\"1\" class=\"dataframe\">\n",
       "  <thead>\n",
       "    <tr style=\"text-align: right;\">\n",
       "      <th>date</th>\n",
       "      <th>2020-03-17</th>\n",
       "      <th>2020-03-18</th>\n",
       "      <th>2020-03-19</th>\n",
       "      <th>2020-03-20</th>\n",
       "      <th>2020-03-21</th>\n",
       "      <th>2020-03-22</th>\n",
       "      <th>2020-03-24</th>\n",
       "      <th>2020-03-25</th>\n",
       "      <th>2020-03-26</th>\n",
       "      <th>2020-03-27</th>\n",
       "      <th>...</th>\n",
       "      <th>2020-05-17</th>\n",
       "      <th>2020-05-02</th>\n",
       "      <th>2020-05-03</th>\n",
       "      <th>2020-05-04</th>\n",
       "      <th>2020-05-05</th>\n",
       "      <th>2020-05-06</th>\n",
       "      <th>2020-05-07</th>\n",
       "      <th>2020-05-08</th>\n",
       "      <th>2020-05-09</th>\n",
       "      <th>2020-03-23</th>\n",
       "    </tr>\n",
       "    <tr>\n",
       "      <th>County</th>\n",
       "      <th></th>\n",
       "      <th></th>\n",
       "      <th></th>\n",
       "      <th></th>\n",
       "      <th></th>\n",
       "      <th></th>\n",
       "      <th></th>\n",
       "      <th></th>\n",
       "      <th></th>\n",
       "      <th></th>\n",
       "      <th></th>\n",
       "      <th></th>\n",
       "      <th></th>\n",
       "      <th></th>\n",
       "      <th></th>\n",
       "      <th></th>\n",
       "      <th></th>\n",
       "      <th></th>\n",
       "      <th></th>\n",
       "      <th></th>\n",
       "      <th></th>\n",
       "    </tr>\n",
       "  </thead>\n",
       "  <tbody>\n",
       "    <tr>\n",
       "      <th>Adams</th>\n",
       "      <td>0.0</td>\n",
       "      <td>0.0</td>\n",
       "      <td>0.0</td>\n",
       "      <td>1.0</td>\n",
       "      <td>1.0</td>\n",
       "      <td>1.0</td>\n",
       "      <td>1.0</td>\n",
       "      <td>1.0</td>\n",
       "      <td>1.0</td>\n",
       "      <td>1.0</td>\n",
       "      <td>...</td>\n",
       "      <td>42.0</td>\n",
       "      <td>40.0</td>\n",
       "      <td>40.0</td>\n",
       "      <td>40.0</td>\n",
       "      <td>40.0</td>\n",
       "      <td>40.0</td>\n",
       "      <td>40.0</td>\n",
       "      <td>41.0</td>\n",
       "      <td>41.0</td>\n",
       "      <td>1.0</td>\n",
       "    </tr>\n",
       "  </tbody>\n",
       "</table>\n",
       "<p>1 rows × 62 columns</p>\n",
       "</div>"
      ],
      "text/plain": [
       "date    2020-03-17  2020-03-18  2020-03-19  2020-03-20  2020-03-21  \\\n",
       "County                                                               \n",
       "Adams          0.0         0.0         0.0         1.0         1.0   \n",
       "\n",
       "date    2020-03-22  2020-03-24  2020-03-25  2020-03-26  2020-03-27  ...  \\\n",
       "County                                                              ...   \n",
       "Adams          1.0         1.0         1.0         1.0         1.0  ...   \n",
       "\n",
       "date    2020-05-17  2020-05-02  2020-05-03  2020-05-04  2020-05-05  \\\n",
       "County                                                               \n",
       "Adams         42.0        40.0        40.0        40.0        40.0   \n",
       "\n",
       "date    2020-05-06  2020-05-07  2020-05-08  2020-05-09  2020-03-23  \n",
       "County                                                              \n",
       "Adams         40.0        40.0        41.0        41.0         1.0  \n",
       "\n",
       "[1 rows x 62 columns]"
      ]
     },
     "execution_count": 127,
     "metadata": {},
     "output_type": "execute_result"
    }
   ],
   "source": [
    "county_cases.head(1)"
   ]
  },
  {
   "cell_type": "code",
   "execution_count": 128,
   "metadata": {
    "pycharm": {
     "is_executing": false,
     "name": "#%%\n"
    }
   },
   "outputs": [],
   "source": [
    "# Get date information\n",
    "date = county_cases.columns.tolist()\n",
    "date.sort()\n",
    "dt_first = date[0]\n",
    "dt_today = date[-1]\n",
    "dt_yesterday = date[-2]"
   ]
  },
  {
   "cell_type": "code",
   "execution_count": 129,
   "metadata": {
    "pycharm": {
     "is_executing": false,
     "name": "#%%\n"
    }
   },
   "outputs": [],
   "source": [
    "from datetime import datetime\n",
    "from datetime import timedelta"
   ]
  },
  {
   "cell_type": "code",
   "execution_count": 130,
   "metadata": {
    "pycharm": {
     "is_executing": false,
     "name": "#%%\n"
    }
   },
   "outputs": [],
   "source": [
    "def find_missing_date(date):\n",
    "    dt_range = datetime.strptime(date[-1], \"%Y-%m-%d\") - datetime.strptime(date[0], \"%Y-%m-%d\")\n",
    "    if len(date) != dt_range.days + 1:\n",
    "        print('Alert! Missing Date or Redundant date')\n",
    "        for x in range(len(date) - 1):\n",
    "            if (datetime.strptime(date[x + 1], \"%Y-%m-%d\") - datetime.strptime(date[x], \"%Y-%m-%d\")).days != 1:\n",
    "                missing_date = datetime.strptime(date[x], \"%Y-%m-%d\") + timedelta(days=1)\n",
    "                print('Missing Date:')\n",
    "                print(missing_date)"
   ]
  },
  {
   "cell_type": "code",
   "execution_count": 131,
   "metadata": {
    "pycharm": {
     "is_executing": false,
     "name": "#%%\n"
    }
   },
   "outputs": [],
   "source": [
    "# Looking for missing dates\n",
    "find_missing_date(date)"
   ]
  },
  {
   "cell_type": "code",
   "execution_count": 132,
   "metadata": {
    "pycharm": {
     "is_executing": false,
     "name": "#%%\n"
    }
   },
   "outputs": [],
   "source": [
    "# reorder date\n",
    "county_cases = county_cases[date]\n",
    "county_deaths = county_deaths[date]"
   ]
  },
  {
   "cell_type": "code",
   "execution_count": 133,
   "metadata": {
    "pycharm": {
     "is_executing": false,
     "name": "#%%\n"
    }
   },
   "outputs": [],
   "source": [
    "# get case time series\n",
    "cases_ts = county_cases.values.tolist()\n",
    "deaths_ts = county_deaths.values.tolist()"
   ]
  },
  {
   "cell_type": "code",
   "execution_count": 134,
   "metadata": {
    "pycharm": {
     "is_executing": false,
     "name": "#%%\n"
    }
   },
   "outputs": [],
   "source": [
    "# get first case date\n",
    "county_cases['dt_first_case'] = (county_cases > 0).idxmax(axis=1)\n",
    "county_cases.loc[county_cases.iloc[:, -2] <= 0, 'dt_first_case'] = np.nan\n",
    "county_deaths['dt_first_death'] = (county_deaths > 0).idxmax(axis=1)\n",
    "county_deaths.loc[county_deaths.iloc[:, -2] <= 0, 'dt_first_death'] = np.nan"
   ]
  },
  {
   "cell_type": "code",
   "execution_count": 135,
   "metadata": {
    "pycharm": {
     "is_executing": false,
     "name": "#%%\n"
    }
   },
   "outputs": [],
   "source": [
    "county_cases['cases_ts'] = cases_ts\n",
    "county_deaths['deaths_ts'] = deaths_ts"
   ]
  },
  {
   "cell_type": "code",
   "execution_count": 136,
   "metadata": {
    "pycharm": {
     "is_executing": false,
     "name": "#%%\n"
    }
   },
   "outputs": [],
   "source": [
    "# Add today_case and today_new_case columns\n",
    "county_cases['today_case'] = county_cases[dt_today]\n",
    "county_cases['today_new_case'] = county_cases[dt_today] - county_cases[dt_yesterday]\n",
    "county_deaths['today_death'] = county_deaths[dt_today]\n",
    "county_deaths['today_new_death'] = county_deaths[dt_today] - county_deaths[dt_yesterday]"
   ]
  },
  {
   "cell_type": "code",
   "execution_count": 137,
   "metadata": {
    "pycharm": {
     "is_executing": false,
     "name": "#%%\n"
    }
   },
   "outputs": [],
   "source": [
    "case_report = county_cases[['cases_ts','dt_first_case','today_case','today_new_case']]"
   ]
  },
  {
   "cell_type": "code",
   "execution_count": 138,
   "metadata": {
    "pycharm": {
     "is_executing": false,
     "name": "#%%\n"
    }
   },
   "outputs": [],
   "source": [
    "death_report = county_deaths[['deaths_ts','dt_first_death','today_death','today_new_death']]"
   ]
  },
  {
   "cell_type": "code",
   "execution_count": 139,
   "metadata": {
    "pycharm": {
     "is_executing": false,
     "name": "#%%\n"
    }
   },
   "outputs": [],
   "source": [
    "county_report = case_report.join(death_report, how=\"outer\")"
   ]
  },
  {
   "cell_type": "code",
   "execution_count": 140,
   "metadata": {
    "pycharm": {
     "is_executing": false,
     "name": "#%%\n"
    }
   },
   "outputs": [],
   "source": [
    "county_report = county_report.reset_index()\n",
    "county_report.columns = ['NAME','cases_ts','dt_first_case','today_case','today_new_case','deaths_ts','dt_first_death','today_death','today_new_death']\n",
    "county_report['cases_ts'] = county_report['cases_ts'].apply(lambda x: ','.join(map(str,x)))\n",
    "county_report['deaths_ts'] = county_report['deaths_ts'].apply(lambda x: ','.join(map(str,x)))"
   ]
  },
  {
   "cell_type": "code",
   "execution_count": 141,
   "metadata": {
    "pycharm": {
     "is_executing": false,
     "name": "#%%\n"
    }
   },
   "outputs": [
    {
     "data": {
      "text/plain": [
       "array(['Illinois', 'Out Of State', 'Suburban Cook'], dtype=object)"
      ]
     },
     "execution_count": 141,
     "metadata": {},
     "output_type": "execute_result"
    }
   ],
   "source": [
    "np.setdiff1d(county_report['NAME'],county_gpd['id'])\n",
    "# Illinois, Out of State and Suburban Cook is not in geometry"
   ]
  },
  {
   "cell_type": "code",
   "execution_count": 142,
   "metadata": {
    "pycharm": {
     "is_executing": false,
     "name": "#%%\n"
    }
   },
   "outputs": [],
   "source": [
    "county_report = county_report[(county_report['NAME'] != 'Illinois') & (county_report['NAME'] != 'Out of State') & (county_report['NAME'] != 'Suburban Cook')]\n",
    "\n"
   ]
  },
  {
   "cell_type": "code",
   "execution_count": 143,
   "metadata": {
    "pycharm": {
     "is_executing": false,
     "name": "#%%\n"
    }
   },
   "outputs": [],
   "source": [
    "county_report['dt_start'] = dt_first\n",
    "county_report['dt_end'] = dt_today\n",
    "county_report['dt_unit'] = 'day'"
   ]
  },
  {
   "cell_type": "code",
   "execution_count": 144,
   "metadata": {
    "pycharm": {
     "is_executing": false,
     "name": "#%%\n"
    }
   },
   "outputs": [
    {
     "data": {
      "text/html": [
       "<div>\n",
       "<style scoped>\n",
       "    .dataframe tbody tr th:only-of-type {\n",
       "        vertical-align: middle;\n",
       "    }\n",
       "\n",
       "    .dataframe tbody tr th {\n",
       "        vertical-align: top;\n",
       "    }\n",
       "\n",
       "    .dataframe thead th {\n",
       "        text-align: right;\n",
       "    }\n",
       "</style>\n",
       "<table border=\"1\" class=\"dataframe\">\n",
       "  <thead>\n",
       "    <tr style=\"text-align: right;\">\n",
       "      <th></th>\n",
       "      <th>NAME</th>\n",
       "      <th>cases_ts</th>\n",
       "      <th>dt_first_case</th>\n",
       "      <th>today_case</th>\n",
       "      <th>today_new_case</th>\n",
       "      <th>deaths_ts</th>\n",
       "      <th>dt_first_death</th>\n",
       "      <th>today_death</th>\n",
       "      <th>today_new_death</th>\n",
       "      <th>dt_start</th>\n",
       "      <th>dt_end</th>\n",
       "      <th>dt_unit</th>\n",
       "    </tr>\n",
       "  </thead>\n",
       "  <tbody>\n",
       "    <tr>\n",
       "      <th>0</th>\n",
       "      <td>Adams</td>\n",
       "      <td>0.0,0.0,0.0,1.0,1.0,1.0,1.0,1.0,1.0,1.0,1.0,1....</td>\n",
       "      <td>2020-03-20</td>\n",
       "      <td>42.0</td>\n",
       "      <td>0.0</td>\n",
       "      <td>0.0,0.0,0.0,0.0,0.0,0.0,0.0,0.0,0.0,0.0,0.0,0....</td>\n",
       "      <td>2020-05-01</td>\n",
       "      <td>1.0</td>\n",
       "      <td>0.0</td>\n",
       "      <td>2020-03-17</td>\n",
       "      <td>2020-05-17</td>\n",
       "      <td>day</td>\n",
       "    </tr>\n",
       "    <tr>\n",
       "      <th>1</th>\n",
       "      <td>Alexander</td>\n",
       "      <td>0.0,0.0,0.0,0.0,0.0,0.0,0.0,0.0,0.0,0.0,0.0,0....</td>\n",
       "      <td>2020-04-16</td>\n",
       "      <td>8.0</td>\n",
       "      <td>0.0</td>\n",
       "      <td>0.0,0.0,0.0,0.0,0.0,0.0,0.0,0.0,0.0,0.0,0.0,0....</td>\n",
       "      <td>NaN</td>\n",
       "      <td>0.0</td>\n",
       "      <td>0.0</td>\n",
       "      <td>2020-03-17</td>\n",
       "      <td>2020-05-17</td>\n",
       "      <td>day</td>\n",
       "    </tr>\n",
       "    <tr>\n",
       "      <th>2</th>\n",
       "      <td>Bond</td>\n",
       "      <td>0.0,0.0,0.0,0.0,0.0,0.0,0.0,0.0,0.0,0.0,0.0,0....</td>\n",
       "      <td>2020-03-29</td>\n",
       "      <td>11.0</td>\n",
       "      <td>0.0</td>\n",
       "      <td>0.0,0.0,0.0,0.0,0.0,0.0,0.0,0.0,0.0,0.0,0.0,0....</td>\n",
       "      <td>2020-04-16</td>\n",
       "      <td>1.0</td>\n",
       "      <td>0.0</td>\n",
       "      <td>2020-03-17</td>\n",
       "      <td>2020-05-17</td>\n",
       "      <td>day</td>\n",
       "    </tr>\n",
       "    <tr>\n",
       "      <th>3</th>\n",
       "      <td>Boone</td>\n",
       "      <td>0.0,0.0,0.0,0.0,0.0,0.0,0.0,0.0,0.0,0.0,0.0,0....</td>\n",
       "      <td>2020-04-05</td>\n",
       "      <td>290.0</td>\n",
       "      <td>8.0</td>\n",
       "      <td>0.0,0.0,0.0,0.0,0.0,0.0,0.0,0.0,0.0,0.0,0.0,0....</td>\n",
       "      <td>2020-04-08</td>\n",
       "      <td>14.0</td>\n",
       "      <td>0.0</td>\n",
       "      <td>2020-03-17</td>\n",
       "      <td>2020-05-17</td>\n",
       "      <td>day</td>\n",
       "    </tr>\n",
       "    <tr>\n",
       "      <th>4</th>\n",
       "      <td>Brown</td>\n",
       "      <td>0.0,0.0,0.0,0.0,0.0,0.0,0.0,0.0,0.0,0.0,0.0,0....</td>\n",
       "      <td>2020-05-01</td>\n",
       "      <td>10.0</td>\n",
       "      <td>0.0</td>\n",
       "      <td>0.0,0.0,0.0,0.0,0.0,0.0,0.0,0.0,0.0,0.0,0.0,0....</td>\n",
       "      <td>NaN</td>\n",
       "      <td>0.0</td>\n",
       "      <td>0.0</td>\n",
       "      <td>2020-03-17</td>\n",
       "      <td>2020-05-17</td>\n",
       "      <td>day</td>\n",
       "    </tr>\n",
       "    <tr>\n",
       "      <th>...</th>\n",
       "      <td>...</td>\n",
       "      <td>...</td>\n",
       "      <td>...</td>\n",
       "      <td>...</td>\n",
       "      <td>...</td>\n",
       "      <td>...</td>\n",
       "      <td>...</td>\n",
       "      <td>...</td>\n",
       "      <td>...</td>\n",
       "      <td>...</td>\n",
       "      <td>...</td>\n",
       "      <td>...</td>\n",
       "    </tr>\n",
       "    <tr>\n",
       "      <th>101</th>\n",
       "      <td>Whiteside</td>\n",
       "      <td>1.0,1.0,1.0,1.0,1.0,1.0,1.0,1.0,1.0,1.0,2.0,2....</td>\n",
       "      <td>2020-03-17</td>\n",
       "      <td>122.0</td>\n",
       "      <td>4.0</td>\n",
       "      <td>0.0,0.0,0.0,0.0,0.0,0.0,0.0,0.0,0.0,0.0,0.0,0....</td>\n",
       "      <td>2020-04-02</td>\n",
       "      <td>8.0</td>\n",
       "      <td>0.0</td>\n",
       "      <td>2020-03-17</td>\n",
       "      <td>2020-05-17</td>\n",
       "      <td>day</td>\n",
       "    </tr>\n",
       "    <tr>\n",
       "      <th>102</th>\n",
       "      <td>Will</td>\n",
       "      <td>2.0,3.0,9.0,10.0,12.0,21.0,21.0,28.0,40.0,67.0...</td>\n",
       "      <td>2020-03-17</td>\n",
       "      <td>4388.0</td>\n",
       "      <td>76.0</td>\n",
       "      <td>0.0,0.0,0.0,1.0,1.0,1.0,1.0,1.0,2.0,3.0,3.0,4....</td>\n",
       "      <td>2020-03-20</td>\n",
       "      <td>240.0</td>\n",
       "      <td>0.0</td>\n",
       "      <td>2020-03-17</td>\n",
       "      <td>2020-05-17</td>\n",
       "      <td>day</td>\n",
       "    </tr>\n",
       "    <tr>\n",
       "      <th>103</th>\n",
       "      <td>Williamson</td>\n",
       "      <td>0.0,0.0,1.0,1.0,1.0,1.0,1.0,0.0,1.0,1.0,1.0,1....</td>\n",
       "      <td>2020-03-19</td>\n",
       "      <td>52.0</td>\n",
       "      <td>0.0</td>\n",
       "      <td>0.0,0.0,1.0,1.0,0.0,0.0,0.0,0.0,0.0,0.0,0.0,0....</td>\n",
       "      <td>2020-03-19</td>\n",
       "      <td>1.0</td>\n",
       "      <td>0.0</td>\n",
       "      <td>2020-03-17</td>\n",
       "      <td>2020-05-17</td>\n",
       "      <td>day</td>\n",
       "    </tr>\n",
       "    <tr>\n",
       "      <th>104</th>\n",
       "      <td>Winnebago</td>\n",
       "      <td>1.0,1.0,1.0,2.0,4.0,5.0,5.0,5.0,7.0,8.0,8.0,9....</td>\n",
       "      <td>2020-03-17</td>\n",
       "      <td>1490.0</td>\n",
       "      <td>54.0</td>\n",
       "      <td>0.0,0.0,0.0,0.0,0.0,0.0,0.0,0.0,0.0,0.0,0.0,0....</td>\n",
       "      <td>2020-04-01</td>\n",
       "      <td>35.0</td>\n",
       "      <td>1.0</td>\n",
       "      <td>2020-03-17</td>\n",
       "      <td>2020-05-17</td>\n",
       "      <td>day</td>\n",
       "    </tr>\n",
       "    <tr>\n",
       "      <th>105</th>\n",
       "      <td>Woodford</td>\n",
       "      <td>1.0,1.0,2.0,2.0,2.0,2.0,2.0,3.0,3.0,3.0,3.0,3....</td>\n",
       "      <td>2020-03-17</td>\n",
       "      <td>14.0</td>\n",
       "      <td>0.0</td>\n",
       "      <td>0.0,0.0,0.0,0.0,0.0,0.0,0.0,0.0,0.0,0.0,0.0,0....</td>\n",
       "      <td>2020-04-21</td>\n",
       "      <td>1.0</td>\n",
       "      <td>0.0</td>\n",
       "      <td>2020-03-17</td>\n",
       "      <td>2020-05-17</td>\n",
       "      <td>day</td>\n",
       "    </tr>\n",
       "  </tbody>\n",
       "</table>\n",
       "<p>104 rows × 12 columns</p>\n",
       "</div>"
      ],
      "text/plain": [
       "           NAME                                           cases_ts  \\\n",
       "0         Adams  0.0,0.0,0.0,1.0,1.0,1.0,1.0,1.0,1.0,1.0,1.0,1....   \n",
       "1     Alexander  0.0,0.0,0.0,0.0,0.0,0.0,0.0,0.0,0.0,0.0,0.0,0....   \n",
       "2          Bond  0.0,0.0,0.0,0.0,0.0,0.0,0.0,0.0,0.0,0.0,0.0,0....   \n",
       "3         Boone  0.0,0.0,0.0,0.0,0.0,0.0,0.0,0.0,0.0,0.0,0.0,0....   \n",
       "4         Brown  0.0,0.0,0.0,0.0,0.0,0.0,0.0,0.0,0.0,0.0,0.0,0....   \n",
       "..          ...                                                ...   \n",
       "101   Whiteside  1.0,1.0,1.0,1.0,1.0,1.0,1.0,1.0,1.0,1.0,2.0,2....   \n",
       "102        Will  2.0,3.0,9.0,10.0,12.0,21.0,21.0,28.0,40.0,67.0...   \n",
       "103  Williamson  0.0,0.0,1.0,1.0,1.0,1.0,1.0,0.0,1.0,1.0,1.0,1....   \n",
       "104   Winnebago  1.0,1.0,1.0,2.0,4.0,5.0,5.0,5.0,7.0,8.0,8.0,9....   \n",
       "105    Woodford  1.0,1.0,2.0,2.0,2.0,2.0,2.0,3.0,3.0,3.0,3.0,3....   \n",
       "\n",
       "    dt_first_case  today_case  today_new_case  \\\n",
       "0      2020-03-20        42.0             0.0   \n",
       "1      2020-04-16         8.0             0.0   \n",
       "2      2020-03-29        11.0             0.0   \n",
       "3      2020-04-05       290.0             8.0   \n",
       "4      2020-05-01        10.0             0.0   \n",
       "..            ...         ...             ...   \n",
       "101    2020-03-17       122.0             4.0   \n",
       "102    2020-03-17      4388.0            76.0   \n",
       "103    2020-03-19        52.0             0.0   \n",
       "104    2020-03-17      1490.0            54.0   \n",
       "105    2020-03-17        14.0             0.0   \n",
       "\n",
       "                                             deaths_ts dt_first_death  \\\n",
       "0    0.0,0.0,0.0,0.0,0.0,0.0,0.0,0.0,0.0,0.0,0.0,0....     2020-05-01   \n",
       "1    0.0,0.0,0.0,0.0,0.0,0.0,0.0,0.0,0.0,0.0,0.0,0....            NaN   \n",
       "2    0.0,0.0,0.0,0.0,0.0,0.0,0.0,0.0,0.0,0.0,0.0,0....     2020-04-16   \n",
       "3    0.0,0.0,0.0,0.0,0.0,0.0,0.0,0.0,0.0,0.0,0.0,0....     2020-04-08   \n",
       "4    0.0,0.0,0.0,0.0,0.0,0.0,0.0,0.0,0.0,0.0,0.0,0....            NaN   \n",
       "..                                                 ...            ...   \n",
       "101  0.0,0.0,0.0,0.0,0.0,0.0,0.0,0.0,0.0,0.0,0.0,0....     2020-04-02   \n",
       "102  0.0,0.0,0.0,1.0,1.0,1.0,1.0,1.0,2.0,3.0,3.0,4....     2020-03-20   \n",
       "103  0.0,0.0,1.0,1.0,0.0,0.0,0.0,0.0,0.0,0.0,0.0,0....     2020-03-19   \n",
       "104  0.0,0.0,0.0,0.0,0.0,0.0,0.0,0.0,0.0,0.0,0.0,0....     2020-04-01   \n",
       "105  0.0,0.0,0.0,0.0,0.0,0.0,0.0,0.0,0.0,0.0,0.0,0....     2020-04-21   \n",
       "\n",
       "     today_death  today_new_death    dt_start      dt_end dt_unit  \n",
       "0            1.0              0.0  2020-03-17  2020-05-17     day  \n",
       "1            0.0              0.0  2020-03-17  2020-05-17     day  \n",
       "2            1.0              0.0  2020-03-17  2020-05-17     day  \n",
       "3           14.0              0.0  2020-03-17  2020-05-17     day  \n",
       "4            0.0              0.0  2020-03-17  2020-05-17     day  \n",
       "..           ...              ...         ...         ...     ...  \n",
       "101          8.0              0.0  2020-03-17  2020-05-17     day  \n",
       "102        240.0              0.0  2020-03-17  2020-05-17     day  \n",
       "103          1.0              0.0  2020-03-17  2020-05-17     day  \n",
       "104         35.0              1.0  2020-03-17  2020-05-17     day  \n",
       "105          1.0              0.0  2020-03-17  2020-05-17     day  \n",
       "\n",
       "[104 rows x 12 columns]"
      ]
     },
     "execution_count": 144,
     "metadata": {},
     "output_type": "execute_result"
    }
   ],
   "source": [
    "county_report"
   ]
  },
  {
   "cell_type": "code",
   "execution_count": 145,
   "metadata": {
    "pycharm": {
     "is_executing": false,
     "name": "#%%\n"
    }
   },
   "outputs": [],
   "source": [
    "county_final_gpd = pd.merge(county_gpd, county_report, how=\"left\", left_on=\"id\", right_on=\"NAME\")"
   ]
  },
  {
   "cell_type": "code",
   "execution_count": 146,
   "metadata": {
    "pycharm": {
     "is_executing": false,
     "name": "#%%\n"
    }
   },
   "outputs": [],
   "source": [
    "county_final_gpd['population'] = 1"
   ]
  },
  {
   "cell_type": "code",
   "execution_count": 147,
   "metadata": {
    "pycharm": {
     "is_executing": false,
     "name": "#%%\n"
    }
   },
   "outputs": [
    {
     "data": {
      "text/html": [
       "<div>\n",
       "<style scoped>\n",
       "    .dataframe tbody tr th:only-of-type {\n",
       "        vertical-align: middle;\n",
       "    }\n",
       "\n",
       "    .dataframe tbody tr th {\n",
       "        vertical-align: top;\n",
       "    }\n",
       "\n",
       "    .dataframe thead th {\n",
       "        text-align: right;\n",
       "    }\n",
       "</style>\n",
       "<table border=\"1\" class=\"dataframe\">\n",
       "  <thead>\n",
       "    <tr style=\"text-align: right;\">\n",
       "      <th></th>\n",
       "      <th>id</th>\n",
       "      <th>geometry</th>\n",
       "      <th>NAME</th>\n",
       "      <th>cases_ts</th>\n",
       "      <th>dt_first_case</th>\n",
       "      <th>today_case</th>\n",
       "      <th>today_new_case</th>\n",
       "      <th>deaths_ts</th>\n",
       "      <th>dt_first_death</th>\n",
       "      <th>today_death</th>\n",
       "      <th>today_new_death</th>\n",
       "      <th>dt_start</th>\n",
       "      <th>dt_end</th>\n",
       "      <th>dt_unit</th>\n",
       "      <th>population</th>\n",
       "    </tr>\n",
       "  </thead>\n",
       "  <tbody>\n",
       "    <tr>\n",
       "      <th>0</th>\n",
       "      <td>McHenry</td>\n",
       "      <td>POLYGON ((-88.70742 42.49352, -88.70741 42.493...</td>\n",
       "      <td>McHenry</td>\n",
       "      <td>2.0,4.0,6.0,8.0,11.0,12.0,12.0,14.0,19.0,27.0,...</td>\n",
       "      <td>2020-03-17</td>\n",
       "      <td>1179.0</td>\n",
       "      <td>23.0</td>\n",
       "      <td>0.0,0.0,0.0,0.0,0.0,0.0,0.0,0.0,0.0,1.0,1.0,2....</td>\n",
       "      <td>2020-03-26</td>\n",
       "      <td>62.0</td>\n",
       "      <td>0.0</td>\n",
       "      <td>2020-03-17</td>\n",
       "      <td>2020-05-17</td>\n",
       "      <td>day</td>\n",
       "      <td>1</td>\n",
       "    </tr>\n",
       "    <tr>\n",
       "      <th>1</th>\n",
       "      <td>Boone</td>\n",
       "      <td>POLYGON ((-88.70742 42.49352, -88.70750 42.493...</td>\n",
       "      <td>Boone</td>\n",
       "      <td>0.0,0.0,0.0,0.0,0.0,0.0,0.0,0.0,0.0,0.0,0.0,0....</td>\n",
       "      <td>2020-04-05</td>\n",
       "      <td>290.0</td>\n",
       "      <td>8.0</td>\n",
       "      <td>0.0,0.0,0.0,0.0,0.0,0.0,0.0,0.0,0.0,0.0,0.0,0....</td>\n",
       "      <td>2020-04-08</td>\n",
       "      <td>14.0</td>\n",
       "      <td>0.0</td>\n",
       "      <td>2020-03-17</td>\n",
       "      <td>2020-05-17</td>\n",
       "      <td>day</td>\n",
       "      <td>1</td>\n",
       "    </tr>\n",
       "    <tr>\n",
       "      <th>2</th>\n",
       "      <td>Ogle</td>\n",
       "      <td>POLYGON ((-89.68809 42.19950, -89.68807 42.184...</td>\n",
       "      <td>Ogle</td>\n",
       "      <td>0.0,0.0,0.0,0.0,0.0,0.0,0.0,0.0,0.0,0.0,0.0,0....</td>\n",
       "      <td>2020-03-31</td>\n",
       "      <td>170.0</td>\n",
       "      <td>1.0</td>\n",
       "      <td>0.0,0.0,0.0,0.0,0.0,0.0,0.0,0.0,0.0,0.0,0.0,0....</td>\n",
       "      <td>2020-04-15</td>\n",
       "      <td>2.0</td>\n",
       "      <td>0.0</td>\n",
       "      <td>2020-03-17</td>\n",
       "      <td>2020-05-17</td>\n",
       "      <td>day</td>\n",
       "      <td>1</td>\n",
       "    </tr>\n",
       "    <tr>\n",
       "      <th>3</th>\n",
       "      <td>Will</td>\n",
       "      <td>POLYGON ((-88.26146 41.72439, -88.26103 41.708...</td>\n",
       "      <td>Will</td>\n",
       "      <td>2.0,3.0,9.0,10.0,12.0,21.0,21.0,28.0,40.0,67.0...</td>\n",
       "      <td>2020-03-17</td>\n",
       "      <td>4388.0</td>\n",
       "      <td>76.0</td>\n",
       "      <td>0.0,0.0,0.0,1.0,1.0,1.0,1.0,1.0,2.0,3.0,3.0,4....</td>\n",
       "      <td>2020-03-20</td>\n",
       "      <td>240.0</td>\n",
       "      <td>0.0</td>\n",
       "      <td>2020-03-17</td>\n",
       "      <td>2020-05-17</td>\n",
       "      <td>day</td>\n",
       "      <td>1</td>\n",
       "    </tr>\n",
       "    <tr>\n",
       "      <th>4</th>\n",
       "      <td>LaSalle</td>\n",
       "      <td>POLYGON ((-88.93885 41.62837, -88.93891 41.628...</td>\n",
       "      <td>LaSalle</td>\n",
       "      <td>0.0,0.0,1.0,1.0,1.0,1.0,1.0,3.0,3.0,3.0,3.0,3....</td>\n",
       "      <td>2020-03-19</td>\n",
       "      <td>120.0</td>\n",
       "      <td>-1.0</td>\n",
       "      <td>0.0,0.0,0.0,0.0,0.0,0.0,0.0,0.0,0.0,0.0,0.0,0....</td>\n",
       "      <td>2020-03-29</td>\n",
       "      <td>8.0</td>\n",
       "      <td>0.0</td>\n",
       "      <td>2020-03-17</td>\n",
       "      <td>2020-05-17</td>\n",
       "      <td>day</td>\n",
       "      <td>1</td>\n",
       "    </tr>\n",
       "    <tr>\n",
       "      <th>...</th>\n",
       "      <td>...</td>\n",
       "      <td>...</td>\n",
       "      <td>...</td>\n",
       "      <td>...</td>\n",
       "      <td>...</td>\n",
       "      <td>...</td>\n",
       "      <td>...</td>\n",
       "      <td>...</td>\n",
       "      <td>...</td>\n",
       "      <td>...</td>\n",
       "      <td>...</td>\n",
       "      <td>...</td>\n",
       "      <td>...</td>\n",
       "      <td>...</td>\n",
       "      <td>...</td>\n",
       "    </tr>\n",
       "    <tr>\n",
       "      <th>98</th>\n",
       "      <td>Lawrence</td>\n",
       "      <td>POLYGON ((-87.90806 38.85013, -87.90819 38.835...</td>\n",
       "      <td>Lawrence</td>\n",
       "      <td>0.0,0.0,0.0,0.0,0.0,0.0,0.0,0.0,0.0,0.0,0.0,0....</td>\n",
       "      <td>2020-04-07</td>\n",
       "      <td>4.0</td>\n",
       "      <td>0.0</td>\n",
       "      <td>0.0,0.0,0.0,0.0,0.0,0.0,0.0,0.0,0.0,0.0,0.0,0....</td>\n",
       "      <td>NaN</td>\n",
       "      <td>0.0</td>\n",
       "      <td>0.0</td>\n",
       "      <td>2020-03-17</td>\n",
       "      <td>2020-05-17</td>\n",
       "      <td>day</td>\n",
       "      <td>1</td>\n",
       "    </tr>\n",
       "    <tr>\n",
       "      <th>99</th>\n",
       "      <td>Marion</td>\n",
       "      <td>POLYGON ((-89.13844 38.73633, -89.13847 38.721...</td>\n",
       "      <td>Marion</td>\n",
       "      <td>0.0,0.0,0.0,0.0,0.0,0.0,0.0,0.0,0.0,0.0,0.0,0....</td>\n",
       "      <td>2020-03-30</td>\n",
       "      <td>48.0</td>\n",
       "      <td>0.0</td>\n",
       "      <td>0.0,0.0,0.0,0.0,0.0,0.0,0.0,0.0,0.0,0.0,0.0,0....</td>\n",
       "      <td>NaN</td>\n",
       "      <td>0.0</td>\n",
       "      <td>0.0</td>\n",
       "      <td>2020-03-17</td>\n",
       "      <td>2020-05-17</td>\n",
       "      <td>day</td>\n",
       "      <td>1</td>\n",
       "    </tr>\n",
       "    <tr>\n",
       "      <th>100</th>\n",
       "      <td>Union</td>\n",
       "      <td>POLYGON ((-89.04143 37.59650, -89.06017 37.597...</td>\n",
       "      <td>Union</td>\n",
       "      <td>0.0,0.0,0.0,0.0,0.0,0.0,0.0,0.0,0.0,0.0,0.0,0....</td>\n",
       "      <td>2020-04-15</td>\n",
       "      <td>122.0</td>\n",
       "      <td>0.0</td>\n",
       "      <td>0.0,0.0,0.0,0.0,0.0,0.0,0.0,0.0,0.0,0.0,0.0,0....</td>\n",
       "      <td>2020-05-05</td>\n",
       "      <td>4.0</td>\n",
       "      <td>0.0</td>\n",
       "      <td>2020-03-17</td>\n",
       "      <td>2020-05-17</td>\n",
       "      <td>day</td>\n",
       "      <td>1</td>\n",
       "    </tr>\n",
       "    <tr>\n",
       "      <th>101</th>\n",
       "      <td>Pope</td>\n",
       "      <td>POLYGON ((-88.70860 37.59926, -88.70876 37.584...</td>\n",
       "      <td>Pope</td>\n",
       "      <td>0.0,0.0,0.0,0.0,0.0,0.0,0.0,0.0,0.0,0.0,0.0,0....</td>\n",
       "      <td>2020-05-08</td>\n",
       "      <td>1.0</td>\n",
       "      <td>0.0</td>\n",
       "      <td>0.0,0.0,0.0,0.0,0.0,0.0,0.0,0.0,0.0,0.0,0.0,0....</td>\n",
       "      <td>NaN</td>\n",
       "      <td>0.0</td>\n",
       "      <td>0.0</td>\n",
       "      <td>2020-03-17</td>\n",
       "      <td>2020-05-17</td>\n",
       "      <td>day</td>\n",
       "      <td>1</td>\n",
       "    </tr>\n",
       "    <tr>\n",
       "      <th>102</th>\n",
       "      <td>Chicago</td>\n",
       "      <td>MULTIPOLYGON (((-87.93514 42.00089, -87.93521 ...</td>\n",
       "      <td>Chicago</td>\n",
       "      <td>0.0,0.0,0.0,0.0,0.0,519.0,519.0,782.0,915.0,11...</td>\n",
       "      <td>2020-03-22</td>\n",
       "      <td>36621.0</td>\n",
       "      <td>615.0</td>\n",
       "      <td>0.0,0.0,0.0,0.0,0.0,4.0,4.0,5.0,5.0,9.0,9.0,12...</td>\n",
       "      <td>2020-03-22</td>\n",
       "      <td>1636.0</td>\n",
       "      <td>16.0</td>\n",
       "      <td>2020-03-17</td>\n",
       "      <td>2020-05-17</td>\n",
       "      <td>day</td>\n",
       "      <td>1</td>\n",
       "    </tr>\n",
       "  </tbody>\n",
       "</table>\n",
       "<p>103 rows × 15 columns</p>\n",
       "</div>"
      ],
      "text/plain": [
       "           id                                           geometry      NAME  \\\n",
       "0     McHenry  POLYGON ((-88.70742 42.49352, -88.70741 42.493...   McHenry   \n",
       "1       Boone  POLYGON ((-88.70742 42.49352, -88.70750 42.493...     Boone   \n",
       "2        Ogle  POLYGON ((-89.68809 42.19950, -89.68807 42.184...      Ogle   \n",
       "3        Will  POLYGON ((-88.26146 41.72439, -88.26103 41.708...      Will   \n",
       "4     LaSalle  POLYGON ((-88.93885 41.62837, -88.93891 41.628...   LaSalle   \n",
       "..        ...                                                ...       ...   \n",
       "98   Lawrence  POLYGON ((-87.90806 38.85013, -87.90819 38.835...  Lawrence   \n",
       "99     Marion  POLYGON ((-89.13844 38.73633, -89.13847 38.721...    Marion   \n",
       "100     Union  POLYGON ((-89.04143 37.59650, -89.06017 37.597...     Union   \n",
       "101      Pope  POLYGON ((-88.70860 37.59926, -88.70876 37.584...      Pope   \n",
       "102   Chicago  MULTIPOLYGON (((-87.93514 42.00089, -87.93521 ...   Chicago   \n",
       "\n",
       "                                              cases_ts dt_first_case  \\\n",
       "0    2.0,4.0,6.0,8.0,11.0,12.0,12.0,14.0,19.0,27.0,...    2020-03-17   \n",
       "1    0.0,0.0,0.0,0.0,0.0,0.0,0.0,0.0,0.0,0.0,0.0,0....    2020-04-05   \n",
       "2    0.0,0.0,0.0,0.0,0.0,0.0,0.0,0.0,0.0,0.0,0.0,0....    2020-03-31   \n",
       "3    2.0,3.0,9.0,10.0,12.0,21.0,21.0,28.0,40.0,67.0...    2020-03-17   \n",
       "4    0.0,0.0,1.0,1.0,1.0,1.0,1.0,3.0,3.0,3.0,3.0,3....    2020-03-19   \n",
       "..                                                 ...           ...   \n",
       "98   0.0,0.0,0.0,0.0,0.0,0.0,0.0,0.0,0.0,0.0,0.0,0....    2020-04-07   \n",
       "99   0.0,0.0,0.0,0.0,0.0,0.0,0.0,0.0,0.0,0.0,0.0,0....    2020-03-30   \n",
       "100  0.0,0.0,0.0,0.0,0.0,0.0,0.0,0.0,0.0,0.0,0.0,0....    2020-04-15   \n",
       "101  0.0,0.0,0.0,0.0,0.0,0.0,0.0,0.0,0.0,0.0,0.0,0....    2020-05-08   \n",
       "102  0.0,0.0,0.0,0.0,0.0,519.0,519.0,782.0,915.0,11...    2020-03-22   \n",
       "\n",
       "     today_case  today_new_case  \\\n",
       "0        1179.0            23.0   \n",
       "1         290.0             8.0   \n",
       "2         170.0             1.0   \n",
       "3        4388.0            76.0   \n",
       "4         120.0            -1.0   \n",
       "..          ...             ...   \n",
       "98          4.0             0.0   \n",
       "99         48.0             0.0   \n",
       "100       122.0             0.0   \n",
       "101         1.0             0.0   \n",
       "102     36621.0           615.0   \n",
       "\n",
       "                                             deaths_ts dt_first_death  \\\n",
       "0    0.0,0.0,0.0,0.0,0.0,0.0,0.0,0.0,0.0,1.0,1.0,2....     2020-03-26   \n",
       "1    0.0,0.0,0.0,0.0,0.0,0.0,0.0,0.0,0.0,0.0,0.0,0....     2020-04-08   \n",
       "2    0.0,0.0,0.0,0.0,0.0,0.0,0.0,0.0,0.0,0.0,0.0,0....     2020-04-15   \n",
       "3    0.0,0.0,0.0,1.0,1.0,1.0,1.0,1.0,2.0,3.0,3.0,4....     2020-03-20   \n",
       "4    0.0,0.0,0.0,0.0,0.0,0.0,0.0,0.0,0.0,0.0,0.0,0....     2020-03-29   \n",
       "..                                                 ...            ...   \n",
       "98   0.0,0.0,0.0,0.0,0.0,0.0,0.0,0.0,0.0,0.0,0.0,0....            NaN   \n",
       "99   0.0,0.0,0.0,0.0,0.0,0.0,0.0,0.0,0.0,0.0,0.0,0....            NaN   \n",
       "100  0.0,0.0,0.0,0.0,0.0,0.0,0.0,0.0,0.0,0.0,0.0,0....     2020-05-05   \n",
       "101  0.0,0.0,0.0,0.0,0.0,0.0,0.0,0.0,0.0,0.0,0.0,0....            NaN   \n",
       "102  0.0,0.0,0.0,0.0,0.0,4.0,4.0,5.0,5.0,9.0,9.0,12...     2020-03-22   \n",
       "\n",
       "     today_death  today_new_death    dt_start      dt_end dt_unit  population  \n",
       "0           62.0              0.0  2020-03-17  2020-05-17     day           1  \n",
       "1           14.0              0.0  2020-03-17  2020-05-17     day           1  \n",
       "2            2.0              0.0  2020-03-17  2020-05-17     day           1  \n",
       "3          240.0              0.0  2020-03-17  2020-05-17     day           1  \n",
       "4            8.0              0.0  2020-03-17  2020-05-17     day           1  \n",
       "..           ...              ...         ...         ...     ...         ...  \n",
       "98           0.0              0.0  2020-03-17  2020-05-17     day           1  \n",
       "99           0.0              0.0  2020-03-17  2020-05-17     day           1  \n",
       "100          4.0              0.0  2020-03-17  2020-05-17     day           1  \n",
       "101          0.0              0.0  2020-03-17  2020-05-17     day           1  \n",
       "102       1636.0             16.0  2020-03-17  2020-05-17     day           1  \n",
       "\n",
       "[103 rows x 15 columns]"
      ]
     },
     "execution_count": 147,
     "metadata": {},
     "output_type": "execute_result"
    }
   ],
   "source": [
    "county_final_gpd"
   ]
  },
  {
   "cell_type": "code",
   "execution_count": 148,
   "metadata": {
    "pycharm": {
     "is_executing": false,
     "name": "#%%\n"
    }
   },
   "outputs": [
    {
     "name": "stdout",
     "output_type": "stream",
     "text": [
      "done\n"
     ]
    }
   ],
   "source": [
    "county_final_gpd.to_file('dph_county_data.geojson', driver='GeoJSON', encoding='utf-8')\n",
    "print('done')\n"
   ]
  }
 ],
 "metadata": {
  "kernelspec": {
   "display_name": "Python 3",
   "language": "python",
   "name": "python3"
  },
  "language_info": {
   "codemirror_mode": {
    "name": "ipython",
    "version": 3
   },
   "file_extension": ".py",
   "mimetype": "text/x-python",
   "name": "python",
   "nbconvert_exporter": "python",
   "pygments_lexer": "ipython3",
   "version": "3.7.7"
  },
  "pycharm": {
   "stem_cell": {
    "cell_type": "raw",
    "metadata": {
     "collapsed": false
    },
    "source": []
   }
  }
 },
 "nbformat": 4,
 "nbformat_minor": 1
}
