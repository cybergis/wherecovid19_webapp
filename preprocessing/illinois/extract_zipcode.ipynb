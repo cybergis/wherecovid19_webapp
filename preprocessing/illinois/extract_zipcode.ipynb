{
 "cells": [
  {
   "cell_type": "markdown",
   "metadata": {
    "collapsed": true,
    "pycharm": {
     "name": "#%% md\n"
    }
   },
   "source": [
    "URL preparation"
   ]
  },
  {
   "cell_type": "code",
   "execution_count": 68,
   "outputs": [],
   "source": [
    "# Geometry URL\n",
    "zipcode_geometry_url = \"http://www.dph.illinois.gov/sites/default/files/COVID19/il_illinois_zip_codes.json?nocache=1\"\n",
    "county_geometry_url = \"http://www.dph.illinois.gov/sites/default/files/Illinois_County_Geo_ch.json\"\n",
    "\n",
    "# Data URL\n",
    "county_data_url = \"http://www.dph.illinois.gov/sitefiles/CountyDemos.json?nocache=1\"\n",
    "zipcode_data_url = \"http://www.dph.illinois.gov/sitefiles/COVIDZip.json?nocache=1\"\n",
    "history_data_url = \"http://www.dph.illinois.gov/sitefiles/COVIDHistoricalTestResults.json?nocache=1\""
   ],
   "metadata": {
    "collapsed": false,
    "pycharm": {
     "name": "#%%\n",
     "is_executing": false
    }
   }
  },
  {
   "cell_type": "code",
   "execution_count": 69,
   "outputs": [],
   "source": [
    "import pandas as pd\n",
    "import json\n",
    "import numpy as np\n",
    "import geopandas as gpd\n",
    "from urllib.request import urlopen"
   ],
   "metadata": {
    "collapsed": false,
    "pycharm": {
     "name": "#%%\n",
     "is_executing": false
    }
   }
  },
  {
   "cell_type": "markdown",
   "source": [
    "Download data"
   ],
   "metadata": {
    "collapsed": false,
    "pycharm": {
     "name": "#%% md\n"
    }
   }
  },
  {
   "cell_type": "code",
   "execution_count": 70,
   "outputs": [],
   "source": [
    "with urlopen(zipcode_data_url) as response:\n",
    "    zipcode_dict = json.load(response)\n",
    "    zipcode_data = pd.DataFrame(zipcode_dict['zip_values'])\n",
    "    "
   ],
   "metadata": {
    "collapsed": false,
    "pycharm": {
     "name": "#%%\n",
     "is_executing": false
    }
   }
  },
  {
   "cell_type": "code",
   "execution_count": 71,
   "outputs": [],
   "source": [
    "with urlopen(county_data_url) as response:\n",
    "    county_dict = json.load(response)\n",
    "    county_data = pd.DataFrame(county_dict['county_demographics'])\n",
    "    "
   ],
   "metadata": {
    "collapsed": false,
    "pycharm": {
     "name": "#%%\n",
     "is_executing": false
    }
   }
  },
  {
   "cell_type": "code",
   "execution_count": 72,
   "outputs": [],
   "source": [
    "with urlopen(history_data_url) as response:\n",
    "    history_dict = json.load(response)\n"
   ],
   "metadata": {
    "collapsed": false,
    "pycharm": {
     "name": "#%%\n",
     "is_executing": false
    }
   }
  },
  {
   "cell_type": "code",
   "execution_count": 73,
   "outputs": [],
   "source": [
    "zipcode_geometry = gpd.read_file(zipcode_geometry_url)\n",
    "county_geometry = gpd.read_file(county_geometry_url)"
   ],
   "metadata": {
    "collapsed": false,
    "pycharm": {
     "name": "#%%\n",
     "is_executing": false
    }
   }
  },
  {
   "cell_type": "code",
   "execution_count": 74,
   "outputs": [],
   "source": [
    "with urlopen(zipcode_geometry_url) as response:\n",
    "    tmp = json.load(response)\n",
    "    zipcode_gpd = gpd.GeoDataFrame(tmp['features'])"
   ],
   "metadata": {
    "collapsed": false,
    "pycharm": {
     "name": "#%%\n",
     "is_executing": false
    }
   }
  },
  {
   "cell_type": "code",
   "execution_count": 75,
   "outputs": [],
   "source": [
    "zipcode_gpd['geometry'] = zipcode_geometry\n",
    "zipcode_gpd = zipcode_gpd[['id','geometry']]\n",
    "zipcode_gpd['id'] = zipcode_gpd['id'].astype(str)"
   ],
   "metadata": {
    "collapsed": false,
    "pycharm": {
     "name": "#%%    \n",
     "is_executing": false
    }
   }
  },
  {
   "cell_type": "code",
   "execution_count": 76,
   "outputs": [],
   "source": [
    "county_gpd = county_geometry[['id','geometry']]"
   ],
   "metadata": {
    "collapsed": false,
    "pycharm": {
     "name": "#%%\n",
     "is_executing": false
    }
   }
  },
  {
   "cell_type": "markdown",
   "source": [
    "Zipcode Data generation"
   ],
   "metadata": {
    "collapsed": false,
    "pycharm": {
     "name": "#%% md\n",
     "is_executing": false
    }
   }
  },
  {
   "cell_type": "code",
   "execution_count": 77,
   "outputs": [
    {
     "data": {
      "text/plain": "     confirmed_cases                                       demographics  \\\n0                  6  {'age': [{'age_group': 'Unknown', 'count': 0, ...   \n1                 59  {'age': [{'age_group': 'Unknown', 'count': 0, ...   \n2                161  {'age': [{'age_group': 'Unknown', 'count': 0, ...   \n3                 85  {'age': [{'age_group': 'Unknown', 'count': 0, ...   \n4                117  {'age': [{'age_group': 'Unknown', 'count': 0, ...   \n5                144  {'age': [{'age_group': 'Unknown', 'count': 0, ...   \n6                 48  {'age': [{'age_group': 'Unknown', 'count': 0, ...   \n7                 56  {'age': [{'age_group': 'Unknown', 'count': 0, ...   \n8                 49  {'age': [{'age_group': 'Unknown', 'count': 0, ...   \n9                 88  {'age': [{'age_group': 'Unknown', 'count': 0, ...   \n10               113  {'age': [{'age_group': 'Unknown', 'count': 0, ...   \n11               663  {'age': [{'age_group': 'Unknown', 'count': 0, ...   \n12               271  {'age': [{'age_group': 'Unknown', 'count': 0, ...   \n13                19  {'age': [{'age_group': 'Unknown', 'count': 0, ...   \n14                 9  {'age': [{'age_group': 'Unknown', 'count': 0, ...   \n15                23  {'age': [{'age_group': 'Unknown', 'count': 0, ...   \n16               216  {'age': [{'age_group': 'Unknown', 'count': 0, ...   \n17                89  {'age': [{'age_group': 'Unknown', 'count': 0, ...   \n18                84  {'age': [{'age_group': 'Unknown', 'count': 0, ...   \n19               167  {'age': [{'age_group': 'Unknown', 'count': 0, ...   \n20                65  {'age': [{'age_group': 'Unknown', 'count': 0, ...   \n21               162  {'age': [{'age_group': 'Unknown', 'count': 0, ...   \n22                49  {'age': [{'age_group': 'Unknown', 'count': 0, ...   \n23                24  {'age': [{'age_group': 'Unknown', 'count': 0, ...   \n24                15  {'age': [{'age_group': 'Unknown', 'count': 0, ...   \n25                14  {'age': [{'age_group': 'Unknown', 'count': 0, ...   \n26                58  {'age': [{'age_group': 'Unknown', 'count': 0, ...   \n27                93  {'age': [{'age_group': 'Unknown', 'count': 0, ...   \n28                97  {'age': [{'age_group': 'Unknown', 'count': 0, ...   \n29                95  {'age': [{'age_group': 'Unknown', 'count': 0, ...   \n..               ...                                                ...   \n430               15  {'age': [{'age_group': 'Unknown', 'count': 0, ...   \n431               77  {'age': [{'age_group': 'Unknown', 'count': 0, ...   \n432               21  {'age': [{'age_group': 'Unknown', 'count': 0, ...   \n433               23  {'age': [{'age_group': 'Unknown', 'count': 0, ...   \n434                9  {'age': [{'age_group': 'Unknown', 'count': 0, ...   \n435               25  {'age': [{'age_group': 'Unknown', 'count': 0, ...   \n436               45  {'age': [{'age_group': 'Unknown', 'count': 0, ...   \n437                8  {'age': [{'age_group': 'Unknown', 'count': 0, ...   \n438               20  {'age': [{'age_group': 'Unknown', 'count': 0, ...   \n439                7  {'age': [{'age_group': 'Unknown', 'count': 0, ...   \n440                9  {'age': [{'age_group': 'Unknown', 'count': 0, ...   \n441               59  {'age': [{'age_group': 'Unknown', 'count': 0, ...   \n442               43  {'age': [{'age_group': 'Unknown', 'count': 0, ...   \n443               39  {'age': [{'age_group': 'Unknown', 'count': 0, ...   \n444               31  {'age': [{'age_group': 'Unknown', 'count': 0, ...   \n445               10  {'age': [{'age_group': 'Unknown', 'count': 0, ...   \n446               15  {'age': [{'age_group': 'Unknown', 'count': 0, ...   \n447               46  {'age': [{'age_group': 'Unknown', 'count': 0, ...   \n448               14  {'age': [{'age_group': 'Unknown', 'count': 0, ...   \n449               74  {'age': [{'age_group': 'Unknown', 'count': 0, ...   \n450               87  {'age': [{'age_group': 'Unknown', 'count': 0, ...   \n451               12  {'age': [{'age_group': 'Unknown', 'count': 0, ...   \n452               26  {'age': [{'age_group': 'Unknown', 'count': 0, ...   \n453               12  {'age': [{'age_group': 'Unknown', 'count': 0, ...   \n454               10  {'age': [{'age_group': 'Unknown', 'count': 0, ...   \n455               17  {'age': [{'age_group': 'Unknown', 'count': 0, ...   \n456                6  {'age': [{'age_group': 'Unknown', 'count': 0, ...   \n457               20  {'age': [{'age_group': 'Unknown', 'count': 0, ...   \n458               36  {'age': [{'age_group': 'Unknown', 'count': 0, ...   \n459               19  {'age': [{'age_group': 'Unknown', 'count': 0, ...   \n\n     total_tested    zip  \n0              96  53142  \n1             407  60002  \n2            1628  60004  \n3             492  60005  \n4             587  60007  \n5             446  60008  \n6             466  60010  \n7             162  60012  \n8             268  60013  \n9             654  60014  \n10            616  60015  \n11           1923  60016  \n12            880  60018  \n13            170  60020  \n14             74  60021  \n15            194  60022  \n16           1098  60025  \n17            382  60026  \n18            571  60030  \n19            752  60031  \n20            243  60033  \n21            853  60035  \n22            138  60040  \n23            139  60041  \n24             96  60042  \n25             90  60043  \n26            279  60044  \n27            481  60045  \n28            549  60046  \n29            457  60047  \n..            ...    ...  \n430            93  62471  \n431           516  62521  \n432            99  62522  \n433           222  62526  \n434            51  62565  \n435           201  62568  \n436           372  62618  \n437           230  62629  \n438           343  62650  \n439           338  62656  \n440            59  62664  \n441           245  62684  \n442           770  62702  \n443           577  62703  \n444           721  62704  \n445           144  62707  \n446           267  62711  \n447           457  62801  \n448           185  62832  \n449           494  62864  \n450           460  62901  \n451            65  62902  \n452           162  62906  \n453            37  62907  \n454           132  62918  \n455            74  62920  \n456           191  62948  \n457           432  62959  \n458           289  62966  \n459            49  62992  \n\n[460 rows x 4 columns]",
      "text/html": "<div>\n<style scoped>\n    .dataframe tbody tr th:only-of-type {\n        vertical-align: middle;\n    }\n\n    .dataframe tbody tr th {\n        vertical-align: top;\n    }\n\n    .dataframe thead th {\n        text-align: right;\n    }\n</style>\n<table border=\"1\" class=\"dataframe\">\n  <thead>\n    <tr style=\"text-align: right;\">\n      <th></th>\n      <th>confirmed_cases</th>\n      <th>demographics</th>\n      <th>total_tested</th>\n      <th>zip</th>\n    </tr>\n  </thead>\n  <tbody>\n    <tr>\n      <th>0</th>\n      <td>6</td>\n      <td>{'age': [{'age_group': 'Unknown', 'count': 0, ...</td>\n      <td>96</td>\n      <td>53142</td>\n    </tr>\n    <tr>\n      <th>1</th>\n      <td>59</td>\n      <td>{'age': [{'age_group': 'Unknown', 'count': 0, ...</td>\n      <td>407</td>\n      <td>60002</td>\n    </tr>\n    <tr>\n      <th>2</th>\n      <td>161</td>\n      <td>{'age': [{'age_group': 'Unknown', 'count': 0, ...</td>\n      <td>1628</td>\n      <td>60004</td>\n    </tr>\n    <tr>\n      <th>3</th>\n      <td>85</td>\n      <td>{'age': [{'age_group': 'Unknown', 'count': 0, ...</td>\n      <td>492</td>\n      <td>60005</td>\n    </tr>\n    <tr>\n      <th>4</th>\n      <td>117</td>\n      <td>{'age': [{'age_group': 'Unknown', 'count': 0, ...</td>\n      <td>587</td>\n      <td>60007</td>\n    </tr>\n    <tr>\n      <th>5</th>\n      <td>144</td>\n      <td>{'age': [{'age_group': 'Unknown', 'count': 0, ...</td>\n      <td>446</td>\n      <td>60008</td>\n    </tr>\n    <tr>\n      <th>6</th>\n      <td>48</td>\n      <td>{'age': [{'age_group': 'Unknown', 'count': 0, ...</td>\n      <td>466</td>\n      <td>60010</td>\n    </tr>\n    <tr>\n      <th>7</th>\n      <td>56</td>\n      <td>{'age': [{'age_group': 'Unknown', 'count': 0, ...</td>\n      <td>162</td>\n      <td>60012</td>\n    </tr>\n    <tr>\n      <th>8</th>\n      <td>49</td>\n      <td>{'age': [{'age_group': 'Unknown', 'count': 0, ...</td>\n      <td>268</td>\n      <td>60013</td>\n    </tr>\n    <tr>\n      <th>9</th>\n      <td>88</td>\n      <td>{'age': [{'age_group': 'Unknown', 'count': 0, ...</td>\n      <td>654</td>\n      <td>60014</td>\n    </tr>\n    <tr>\n      <th>10</th>\n      <td>113</td>\n      <td>{'age': [{'age_group': 'Unknown', 'count': 0, ...</td>\n      <td>616</td>\n      <td>60015</td>\n    </tr>\n    <tr>\n      <th>11</th>\n      <td>663</td>\n      <td>{'age': [{'age_group': 'Unknown', 'count': 0, ...</td>\n      <td>1923</td>\n      <td>60016</td>\n    </tr>\n    <tr>\n      <th>12</th>\n      <td>271</td>\n      <td>{'age': [{'age_group': 'Unknown', 'count': 0, ...</td>\n      <td>880</td>\n      <td>60018</td>\n    </tr>\n    <tr>\n      <th>13</th>\n      <td>19</td>\n      <td>{'age': [{'age_group': 'Unknown', 'count': 0, ...</td>\n      <td>170</td>\n      <td>60020</td>\n    </tr>\n    <tr>\n      <th>14</th>\n      <td>9</td>\n      <td>{'age': [{'age_group': 'Unknown', 'count': 0, ...</td>\n      <td>74</td>\n      <td>60021</td>\n    </tr>\n    <tr>\n      <th>15</th>\n      <td>23</td>\n      <td>{'age': [{'age_group': 'Unknown', 'count': 0, ...</td>\n      <td>194</td>\n      <td>60022</td>\n    </tr>\n    <tr>\n      <th>16</th>\n      <td>216</td>\n      <td>{'age': [{'age_group': 'Unknown', 'count': 0, ...</td>\n      <td>1098</td>\n      <td>60025</td>\n    </tr>\n    <tr>\n      <th>17</th>\n      <td>89</td>\n      <td>{'age': [{'age_group': 'Unknown', 'count': 0, ...</td>\n      <td>382</td>\n      <td>60026</td>\n    </tr>\n    <tr>\n      <th>18</th>\n      <td>84</td>\n      <td>{'age': [{'age_group': 'Unknown', 'count': 0, ...</td>\n      <td>571</td>\n      <td>60030</td>\n    </tr>\n    <tr>\n      <th>19</th>\n      <td>167</td>\n      <td>{'age': [{'age_group': 'Unknown', 'count': 0, ...</td>\n      <td>752</td>\n      <td>60031</td>\n    </tr>\n    <tr>\n      <th>20</th>\n      <td>65</td>\n      <td>{'age': [{'age_group': 'Unknown', 'count': 0, ...</td>\n      <td>243</td>\n      <td>60033</td>\n    </tr>\n    <tr>\n      <th>21</th>\n      <td>162</td>\n      <td>{'age': [{'age_group': 'Unknown', 'count': 0, ...</td>\n      <td>853</td>\n      <td>60035</td>\n    </tr>\n    <tr>\n      <th>22</th>\n      <td>49</td>\n      <td>{'age': [{'age_group': 'Unknown', 'count': 0, ...</td>\n      <td>138</td>\n      <td>60040</td>\n    </tr>\n    <tr>\n      <th>23</th>\n      <td>24</td>\n      <td>{'age': [{'age_group': 'Unknown', 'count': 0, ...</td>\n      <td>139</td>\n      <td>60041</td>\n    </tr>\n    <tr>\n      <th>24</th>\n      <td>15</td>\n      <td>{'age': [{'age_group': 'Unknown', 'count': 0, ...</td>\n      <td>96</td>\n      <td>60042</td>\n    </tr>\n    <tr>\n      <th>25</th>\n      <td>14</td>\n      <td>{'age': [{'age_group': 'Unknown', 'count': 0, ...</td>\n      <td>90</td>\n      <td>60043</td>\n    </tr>\n    <tr>\n      <th>26</th>\n      <td>58</td>\n      <td>{'age': [{'age_group': 'Unknown', 'count': 0, ...</td>\n      <td>279</td>\n      <td>60044</td>\n    </tr>\n    <tr>\n      <th>27</th>\n      <td>93</td>\n      <td>{'age': [{'age_group': 'Unknown', 'count': 0, ...</td>\n      <td>481</td>\n      <td>60045</td>\n    </tr>\n    <tr>\n      <th>28</th>\n      <td>97</td>\n      <td>{'age': [{'age_group': 'Unknown', 'count': 0, ...</td>\n      <td>549</td>\n      <td>60046</td>\n    </tr>\n    <tr>\n      <th>29</th>\n      <td>95</td>\n      <td>{'age': [{'age_group': 'Unknown', 'count': 0, ...</td>\n      <td>457</td>\n      <td>60047</td>\n    </tr>\n    <tr>\n      <th>...</th>\n      <td>...</td>\n      <td>...</td>\n      <td>...</td>\n      <td>...</td>\n    </tr>\n    <tr>\n      <th>430</th>\n      <td>15</td>\n      <td>{'age': [{'age_group': 'Unknown', 'count': 0, ...</td>\n      <td>93</td>\n      <td>62471</td>\n    </tr>\n    <tr>\n      <th>431</th>\n      <td>77</td>\n      <td>{'age': [{'age_group': 'Unknown', 'count': 0, ...</td>\n      <td>516</td>\n      <td>62521</td>\n    </tr>\n    <tr>\n      <th>432</th>\n      <td>21</td>\n      <td>{'age': [{'age_group': 'Unknown', 'count': 0, ...</td>\n      <td>99</td>\n      <td>62522</td>\n    </tr>\n    <tr>\n      <th>433</th>\n      <td>23</td>\n      <td>{'age': [{'age_group': 'Unknown', 'count': 0, ...</td>\n      <td>222</td>\n      <td>62526</td>\n    </tr>\n    <tr>\n      <th>434</th>\n      <td>9</td>\n      <td>{'age': [{'age_group': 'Unknown', 'count': 0, ...</td>\n      <td>51</td>\n      <td>62565</td>\n    </tr>\n    <tr>\n      <th>435</th>\n      <td>25</td>\n      <td>{'age': [{'age_group': 'Unknown', 'count': 0, ...</td>\n      <td>201</td>\n      <td>62568</td>\n    </tr>\n    <tr>\n      <th>436</th>\n      <td>45</td>\n      <td>{'age': [{'age_group': 'Unknown', 'count': 0, ...</td>\n      <td>372</td>\n      <td>62618</td>\n    </tr>\n    <tr>\n      <th>437</th>\n      <td>8</td>\n      <td>{'age': [{'age_group': 'Unknown', 'count': 0, ...</td>\n      <td>230</td>\n      <td>62629</td>\n    </tr>\n    <tr>\n      <th>438</th>\n      <td>20</td>\n      <td>{'age': [{'age_group': 'Unknown', 'count': 0, ...</td>\n      <td>343</td>\n      <td>62650</td>\n    </tr>\n    <tr>\n      <th>439</th>\n      <td>7</td>\n      <td>{'age': [{'age_group': 'Unknown', 'count': 0, ...</td>\n      <td>338</td>\n      <td>62656</td>\n    </tr>\n    <tr>\n      <th>440</th>\n      <td>9</td>\n      <td>{'age': [{'age_group': 'Unknown', 'count': 0, ...</td>\n      <td>59</td>\n      <td>62664</td>\n    </tr>\n    <tr>\n      <th>441</th>\n      <td>59</td>\n      <td>{'age': [{'age_group': 'Unknown', 'count': 0, ...</td>\n      <td>245</td>\n      <td>62684</td>\n    </tr>\n    <tr>\n      <th>442</th>\n      <td>43</td>\n      <td>{'age': [{'age_group': 'Unknown', 'count': 0, ...</td>\n      <td>770</td>\n      <td>62702</td>\n    </tr>\n    <tr>\n      <th>443</th>\n      <td>39</td>\n      <td>{'age': [{'age_group': 'Unknown', 'count': 0, ...</td>\n      <td>577</td>\n      <td>62703</td>\n    </tr>\n    <tr>\n      <th>444</th>\n      <td>31</td>\n      <td>{'age': [{'age_group': 'Unknown', 'count': 0, ...</td>\n      <td>721</td>\n      <td>62704</td>\n    </tr>\n    <tr>\n      <th>445</th>\n      <td>10</td>\n      <td>{'age': [{'age_group': 'Unknown', 'count': 0, ...</td>\n      <td>144</td>\n      <td>62707</td>\n    </tr>\n    <tr>\n      <th>446</th>\n      <td>15</td>\n      <td>{'age': [{'age_group': 'Unknown', 'count': 0, ...</td>\n      <td>267</td>\n      <td>62711</td>\n    </tr>\n    <tr>\n      <th>447</th>\n      <td>46</td>\n      <td>{'age': [{'age_group': 'Unknown', 'count': 0, ...</td>\n      <td>457</td>\n      <td>62801</td>\n    </tr>\n    <tr>\n      <th>448</th>\n      <td>14</td>\n      <td>{'age': [{'age_group': 'Unknown', 'count': 0, ...</td>\n      <td>185</td>\n      <td>62832</td>\n    </tr>\n    <tr>\n      <th>449</th>\n      <td>74</td>\n      <td>{'age': [{'age_group': 'Unknown', 'count': 0, ...</td>\n      <td>494</td>\n      <td>62864</td>\n    </tr>\n    <tr>\n      <th>450</th>\n      <td>87</td>\n      <td>{'age': [{'age_group': 'Unknown', 'count': 0, ...</td>\n      <td>460</td>\n      <td>62901</td>\n    </tr>\n    <tr>\n      <th>451</th>\n      <td>12</td>\n      <td>{'age': [{'age_group': 'Unknown', 'count': 0, ...</td>\n      <td>65</td>\n      <td>62902</td>\n    </tr>\n    <tr>\n      <th>452</th>\n      <td>26</td>\n      <td>{'age': [{'age_group': 'Unknown', 'count': 0, ...</td>\n      <td>162</td>\n      <td>62906</td>\n    </tr>\n    <tr>\n      <th>453</th>\n      <td>12</td>\n      <td>{'age': [{'age_group': 'Unknown', 'count': 0, ...</td>\n      <td>37</td>\n      <td>62907</td>\n    </tr>\n    <tr>\n      <th>454</th>\n      <td>10</td>\n      <td>{'age': [{'age_group': 'Unknown', 'count': 0, ...</td>\n      <td>132</td>\n      <td>62918</td>\n    </tr>\n    <tr>\n      <th>455</th>\n      <td>17</td>\n      <td>{'age': [{'age_group': 'Unknown', 'count': 0, ...</td>\n      <td>74</td>\n      <td>62920</td>\n    </tr>\n    <tr>\n      <th>456</th>\n      <td>6</td>\n      <td>{'age': [{'age_group': 'Unknown', 'count': 0, ...</td>\n      <td>191</td>\n      <td>62948</td>\n    </tr>\n    <tr>\n      <th>457</th>\n      <td>20</td>\n      <td>{'age': [{'age_group': 'Unknown', 'count': 0, ...</td>\n      <td>432</td>\n      <td>62959</td>\n    </tr>\n    <tr>\n      <th>458</th>\n      <td>36</td>\n      <td>{'age': [{'age_group': 'Unknown', 'count': 0, ...</td>\n      <td>289</td>\n      <td>62966</td>\n    </tr>\n    <tr>\n      <th>459</th>\n      <td>19</td>\n      <td>{'age': [{'age_group': 'Unknown', 'count': 0, ...</td>\n      <td>49</td>\n      <td>62992</td>\n    </tr>\n  </tbody>\n</table>\n<p>460 rows × 4 columns</p>\n</div>"
     },
     "metadata": {},
     "output_type": "execute_result",
     "execution_count": 77
    }
   ],
   "source": [
    "zipcode_data"
   ],
   "metadata": {
    "collapsed": false,
    "pycharm": {
     "name": "#%%\n",
     "is_executing": false
    }
   }
  },
  {
   "cell_type": "code",
   "execution_count": 78,
   "outputs": [
    {
     "data": {
      "text/plain": "id            object\ngeometry    geometry\ndtype: object"
     },
     "metadata": {},
     "output_type": "execute_result",
     "execution_count": 78
    }
   ],
   "source": [
    "zipcode_gpd.dtypes"
   ],
   "metadata": {
    "collapsed": false,
    "pycharm": {
     "name": "#%%\n",
     "is_executing": false
    }
   }
  },
  {
   "cell_type": "code",
   "execution_count": 79,
   "outputs": [],
   "source": [
    "zipcode_final_gpd = pd.merge(zipcode_gpd,zipcode_data, how = 'left', left_on=['id'], right_on=['zip'])"
   ],
   "metadata": {
    "collapsed": false,
    "pycharm": {
     "name": "#%%\n",
     "is_executing": false
    }
   }
  },
  {
   "cell_type": "code",
   "execution_count": 80,
   "outputs": [],
   "source": [
    "zipcode_final_gpd['confirmed_cases'] = zipcode_final_gpd['confirmed_cases'].replace(np.nan,0)\n",
    "zipcode_final_gpd['total_tested'] = zipcode_final_gpd['total_tested'].replace(np.nan,0)\n",
    "zipcode_final_gpd = zipcode_final_gpd[['id','confirmed_cases','total_tested','geometry']]"
   ],
   "metadata": {
    "collapsed": false,
    "pycharm": {
     "name": "#%%\n",
     "is_executing": false
    }
   }
  },
  {
   "cell_type": "code",
   "execution_count": 81,
   "outputs": [
    {
     "name": "stdout",
     "text": [
      "done\n"
     ],
     "output_type": "stream"
    }
   ],
   "source": [
    "zipcode_final_gpd.to_file('dph_zipcode_data.geojson', driver='GeoJSON', encoding='utf-8')\n",
    "print('done')"
   ],
   "metadata": {
    "collapsed": false,
    "pycharm": {
     "name": "#%%\n",
     "is_executing": false
    }
   }
  },
  {
   "cell_type": "markdown",
   "source": [
    "Static County Data Generation"
   ],
   "metadata": {
    "collapsed": false,
    "pycharm": {
     "name": "#%% md\n"
    }
   }
  },
  {
   "cell_type": "code",
   "execution_count": 82,
   "outputs": [],
   "source": [
    "county_static = pd.merge(county_gpd, county_data, how=\"left\", left_on=\"id\",right_on=\"County\")"
   ],
   "metadata": {
    "collapsed": false,
    "pycharm": {
     "name": "#%%\n",
     "is_executing": false
    }
   }
  },
  {
   "cell_type": "code",
   "execution_count": 100,
   "outputs": [
    {
     "data": {
      "text/plain": "             id                                           geometry  \\\n0       McHenry  POLYGON ((-88.70742 42.49352, -88.70741 42.493...   \n1         Boone  POLYGON ((-88.70742 42.49352, -88.70750 42.493...   \n2          Ogle  POLYGON ((-89.68809 42.19950, -89.68807 42.184...   \n3          Will  POLYGON ((-88.26146 41.72439, -88.26103 41.708...   \n4       LaSalle  POLYGON ((-88.93885 41.62837, -88.93891 41.628...   \n5        Bureau  POLYGON ((-89.63155 41.58491, -89.64769 41.584...   \n6         Henry  POLYGON ((-89.86249 41.58401, -89.87517 41.584...   \n7        Grundy  POLYGON ((-88.25217 41.46277, -88.27149 41.462...   \n8        Mercer  POLYGON ((-90.43382 41.32698, -90.45335 41.326...   \n9        Putnam  POLYGON ((-89.16353 41.30991, -89.16500 41.309...   \n10       McLean  POLYGON ((-88.92943 40.75330, -88.94863 40.752...   \n11     Tazewell  POLYGON ((-89.26933 40.59450, -89.26948 40.601...   \n12       Fulton  POLYGON ((-89.98606 40.71225, -90.00002 40.712...   \n13        Adams  POLYGON ((-91.50535 40.20029, -91.50436 40.198...   \n14    Champaign  POLYGON ((-88.46003 40.39850, -88.46009 40.383...   \n15        Logan  POLYGON ((-89.60299 40.32011, -89.60273 40.305...   \n16        Piatt  POLYGON ((-88.57476 40.28158, -88.58665 40.267...   \n17        Stark  POLYGON ((-89.85770 41.23450, -89.86772 41.234...   \n18         Knox  POLYGON ((-89.98529 41.14944, -90.00422 41.149...   \n19     Marshall  POLYGON ((-89.63903 41.14845, -89.63905 41.133...   \n20   Livingston  POLYGON ((-88.25174 41.11422, -88.26009 41.114...   \n21    Henderson  POLYGON ((-90.78527 41.06922, -90.80435 41.070...   \n22       Warren  POLYGON ((-90.43990 41.06383, -90.45876 41.063...   \n23     Iroquois  POLYGON ((-87.52616 41.01035, -87.54231 41.010...   \n24       Peoria  POLYGON ((-89.98593 40.97465, -89.98599 40.961...   \n25     Woodford  POLYGON ((-89.04765 40.92567, -89.06702 40.925...   \n26      Carroll  POLYGON ((-89.91979 42.19678, -89.93903 42.196...   \n27         Kane  POLYGON ((-88.58859 42.15366, -88.58852 42.139...   \n28       DeKalb  POLYGON ((-88.70559 42.15355, -88.72510 42.153...   \n29         Cook  POLYGON ((-88.23858 42.15425, -88.23865 42.139...   \n..          ...                                                ...   \n73       Hardin  POLYGON ((-88.37538 37.59960, -88.39355 37.599...   \n74       Massac  POLYGON ((-88.92877 37.30294, -88.92877 37.302...   \n75    McDonough  POLYGON ((-90.78961 40.63568, -90.78967 40.635...   \n76    Vermilion  POLYGON ((-87.93508 40.48596, -87.93473 40.471...   \n77        Macon  POLYGON ((-89.14466 40.04885, -89.14459 40.034...   \n78     Sangamon  POLYGON ((-89.21798 39.91706, -89.23638 39.916...   \n79        Edgar  POLYGON ((-87.93761 39.87996, -87.93729 39.865...   \n80       Morgan  POLYGON ((-89.99438 39.87291, -90.01303 39.872...   \n81    Christian  POLYGON ((-89.21767 39.81320, -89.21788 39.813...   \n82     Moultrie  POLYGON ((-88.74551 39.79203, -88.75854 39.792...   \n83        Scott  POLYGON ((-90.58103 39.52172, -90.56211 39.521...   \n84        Coles  POLYGON ((-88.47247 39.65162, -88.47201 39.637...   \n85       Shelby  POLYGON ((-89.02552 39.65448, -89.02541 39.640...   \n86   Montgomery  POLYGON ((-89.70178 39.52331, -89.70144 39.508...   \n87     Macoupin  POLYGON ((-89.92568 39.52239, -89.94431 39.522...   \n88        Clark  POLYGON ((-87.96033 39.48136, -87.97896 39.481...   \n89     Crawford  POLYGON ((-87.95037 39.17505, -87.95003 39.158...   \n90       Jasper  POLYGON ((-88.00774 39.17389, -88.02264 39.173...   \n91         Bond  POLYGON ((-89.25027 39.02822, -89.26896 39.028...   \n92      Madison  POLYGON ((-89.63924 38.99914, -89.64215 38.999...   \n93      Fayette  POLYGON ((-89.13957 39.21785, -89.15807 39.217...   \n94    St. Clair  POLYGON ((-89.70703 38.65503, -89.72531 38.655...   \n95        Wayne  POLYGON ((-88.69830 38.60606, -88.69830 38.605...   \n96       Monroe  POLYGON ((-89.89905 38.22077, -89.89905 38.220...   \n97    Jefferson  POLYGON ((-89.14445 38.47387, -89.14462 38.460...   \n98     Lawrence  POLYGON ((-87.90806 38.85013, -87.90819 38.835...   \n99       Marion  POLYGON ((-89.13844 38.73633, -89.13847 38.721...   \n100       Union  POLYGON ((-89.04143 37.59650, -89.06017 37.597...   \n101        Pope  POLYGON ((-88.70860 37.59926, -88.70876 37.584...   \n102     Chicago  MULTIPOLYGON (((-87.93514 42.00089, -87.93521 ...   \n\n         County  confirmed_cases  \\\n0       McHenry              814   \n1         Boone              155   \n2          Ogle              137   \n3          Will             3333   \n4       LaSalle               84   \n5        Bureau               12   \n6         Henry               54   \n7        Grundy               48   \n8        Mercer               10   \n9        Putnam                0   \n10       McLean              108   \n11     Tazewell               56   \n12       Fulton                3   \n13        Adams               40   \n14    Champaign              212   \n15        Logan                7   \n16        Piatt                8   \n17        Stark                1   \n18         Knox               61   \n19     Marshall                4   \n20   Livingston               23   \n21    Henderson                5   \n22       Warren               88   \n23     Iroquois               62   \n24       Peoria              126   \n25     Woodford               15   \n26      Carroll               10   \n27         Kane             2332   \n28       DeKalb              141   \n29         Cook            19316   \n..          ...              ...   \n73       Hardin                1   \n74       Massac                4   \n75    McDonough               42   \n76    Vermilion               22   \n77        Macon              129   \n78     Sangamon              231   \n79        Edgar                0   \n80       Morgan               26   \n81    Christian               28   \n82     Moultrie                6   \n83        Scott                0   \n84        Coles               22   \n85       Shelby               10   \n86   Montgomery               33   \n87     Macoupin               39   \n88        Clark                5   \n89     Crawford               10   \n90       Jasper               46   \n91         Bond                8   \n92      Madison              374   \n93      Fayette               16   \n94    St. Clair              601   \n95        Wayne                2   \n96       Monroe               74   \n97    Jefferson               86   \n98     Lawrence                3   \n99       Marion               38   \n100       Union               48   \n101        Pope                0   \n102     Chicago            27440   \n\n                                          demographics  total_tested  \n0    {'age': [{'age_group': 'Unknown', 'count': 0, ...          4576  \n1    {'age': [{'age_group': 'Unknown', 'count': 0, ...           628  \n2    {'age': [{'age_group': 'Unknown', 'count': 0, ...          1315  \n3    {'age': [{'age_group': 'Unknown', 'count': 0, ...         17234  \n4    {'age': [{'age_group': 'Unknown', 'count': 0, ...          1424  \n5    {'age': [{'age_group': 'Unknown', 'count': 0, ...           331  \n6    {'age': [{'age_group': 'Unknown', 'count': 0, ...           638  \n7    {'age': [{'age_group': 'Unknown', 'count': 0, ...           733  \n8    {'age': [{'age_group': 'Unknown', 'count': 0, ...           163  \n9    {'age': [{'age_group': 'Unknown', 'count': 0, ...            48  \n10   {'age': [{'age_group': 'Unknown', 'count': 0, ...          3052  \n11   {'age': [{'age_group': 'Unknown', 'count': 0, ...          1910  \n12   {'age': [{'age_group': 'Unknown', 'count': 0, ...           202  \n13   {'age': [{'age_group': 'Unknown', 'count': 0, ...          1406  \n14   {'age': [{'age_group': 'Unknown', 'count': 0, ...          4161  \n15   {'age': [{'age_group': 'Unknown', 'count': 0, ...           481  \n16   {'age': [{'age_group': 'Unknown', 'count': 0, ...           242  \n17   {'age': [{'age_group': 'Unknown', 'count': 0, ...            43  \n18   {'age': [{'age_group': 'Unknown', 'count': 0, ...           714  \n19   {'age': [{'age_group': 'Unknown', 'count': 0, ...            88  \n20   {'age': [{'age_group': 'Unknown', 'count': 0, ...           463  \n21   {'age': [{'age_group': 'Unknown', 'count': 0, ...            75  \n22   {'age': [{'age_group': 'Unknown', 'count': 0, ...           285  \n23   {'age': [{'age_group': 'Unknown', 'count': 0, ...           415  \n24   {'age': [{'age_group': 'Unknown', 'count': 0, ...          2651  \n25   {'age': [{'age_group': 'Unknown', 'count': 0, ...           388  \n26   {'age': [{'age_group': 'Unknown', 'count': 0, ...            90  \n27   {'age': [{'age_group': 'Unknown', 'count': 0, ...          9542  \n28   {'age': [{'age_group': 'Unknown', 'count': 0, ...          1232  \n29   {'age': [{'age_group': 'Unknown', 'count': 25,...         89317  \n..                                                 ...           ...  \n73   {'age': [{'age_group': 'Unknown', 'count': 0, ...            22  \n74   {'age': [{'age_group': 'Unknown', 'count': 0, ...            92  \n75   {'age': [{'age_group': 'Unknown', 'count': 0, ...           361  \n76   {'age': [{'age_group': 'Unknown', 'count': 0, ...           860  \n77   {'age': [{'age_group': 'Unknown', 'count': 0, ...          1217  \n78   {'age': [{'age_group': 'Unknown', 'count': 0, ...          4318  \n79   {'age': [{'age_group': 'Unknown', 'count': 0, ...           120  \n80   {'age': [{'age_group': 'Unknown', 'count': 0, ...           467  \n81   {'age': [{'age_group': 'Unknown', 'count': 0, ...           411  \n82   {'age': [{'age_group': 'Unknown', 'count': 0, ...            80  \n83   {'age': [{'age_group': 'Unknown', 'count': 0, ...            60  \n84   {'age': [{'age_group': 'Unknown', 'count': 0, ...           415  \n85   {'age': [{'age_group': 'Unknown', 'count': 0, ...           121  \n86   {'age': [{'age_group': 'Unknown', 'count': 0, ...           592  \n87   {'age': [{'age_group': 'Unknown', 'count': 0, ...           708  \n88   {'age': [{'age_group': 'Unknown', 'count': 0, ...           103  \n89   {'age': [{'age_group': 'Unknown', 'count': 0, ...           186  \n90   {'age': [{'age_group': 'Unknown', 'count': 0, ...           239  \n91   {'age': [{'age_group': 'Unknown', 'count': 0, ...           144  \n92   {'age': [{'age_group': 'Unknown', 'count': 0, ...          2278  \n93   {'age': [{'age_group': 'Unknown', 'count': 0, ...           175  \n94   {'age': [{'age_group': 'Unknown', 'count': 0, ...          3068  \n95   {'age': [{'age_group': 'Unknown', 'count': 0, ...           173  \n96   {'age': [{'age_group': 'Unknown', 'count': 0, ...           284  \n97   {'age': [{'age_group': 'Unknown', 'count': 0, ...           692  \n98   {'age': [{'age_group': 'Unknown', 'count': 0, ...           158  \n99   {'age': [{'age_group': 'Unknown', 'count': 0, ...           702  \n100  {'age': [{'age_group': 'Unknown', 'count': 0, ...           348  \n101  {'age': [{'age_group': 'Unknown', 'count': 0, ...            24  \n102  {'age': [{'age_group': 'Unknown', 'count': 20,...        112588  \n\n[103 rows x 6 columns]",
      "text/html": "<div>\n<style scoped>\n    .dataframe tbody tr th:only-of-type {\n        vertical-align: middle;\n    }\n\n    .dataframe tbody tr th {\n        vertical-align: top;\n    }\n\n    .dataframe thead th {\n        text-align: right;\n    }\n</style>\n<table border=\"1\" class=\"dataframe\">\n  <thead>\n    <tr style=\"text-align: right;\">\n      <th></th>\n      <th>id</th>\n      <th>geometry</th>\n      <th>County</th>\n      <th>confirmed_cases</th>\n      <th>demographics</th>\n      <th>total_tested</th>\n    </tr>\n  </thead>\n  <tbody>\n    <tr>\n      <th>0</th>\n      <td>McHenry</td>\n      <td>POLYGON ((-88.70742 42.49352, -88.70741 42.493...</td>\n      <td>McHenry</td>\n      <td>814</td>\n      <td>{'age': [{'age_group': 'Unknown', 'count': 0, ...</td>\n      <td>4576</td>\n    </tr>\n    <tr>\n      <th>1</th>\n      <td>Boone</td>\n      <td>POLYGON ((-88.70742 42.49352, -88.70750 42.493...</td>\n      <td>Boone</td>\n      <td>155</td>\n      <td>{'age': [{'age_group': 'Unknown', 'count': 0, ...</td>\n      <td>628</td>\n    </tr>\n    <tr>\n      <th>2</th>\n      <td>Ogle</td>\n      <td>POLYGON ((-89.68809 42.19950, -89.68807 42.184...</td>\n      <td>Ogle</td>\n      <td>137</td>\n      <td>{'age': [{'age_group': 'Unknown', 'count': 0, ...</td>\n      <td>1315</td>\n    </tr>\n    <tr>\n      <th>3</th>\n      <td>Will</td>\n      <td>POLYGON ((-88.26146 41.72439, -88.26103 41.708...</td>\n      <td>Will</td>\n      <td>3333</td>\n      <td>{'age': [{'age_group': 'Unknown', 'count': 0, ...</td>\n      <td>17234</td>\n    </tr>\n    <tr>\n      <th>4</th>\n      <td>LaSalle</td>\n      <td>POLYGON ((-88.93885 41.62837, -88.93891 41.628...</td>\n      <td>LaSalle</td>\n      <td>84</td>\n      <td>{'age': [{'age_group': 'Unknown', 'count': 0, ...</td>\n      <td>1424</td>\n    </tr>\n    <tr>\n      <th>5</th>\n      <td>Bureau</td>\n      <td>POLYGON ((-89.63155 41.58491, -89.64769 41.584...</td>\n      <td>Bureau</td>\n      <td>12</td>\n      <td>{'age': [{'age_group': 'Unknown', 'count': 0, ...</td>\n      <td>331</td>\n    </tr>\n    <tr>\n      <th>6</th>\n      <td>Henry</td>\n      <td>POLYGON ((-89.86249 41.58401, -89.87517 41.584...</td>\n      <td>Henry</td>\n      <td>54</td>\n      <td>{'age': [{'age_group': 'Unknown', 'count': 0, ...</td>\n      <td>638</td>\n    </tr>\n    <tr>\n      <th>7</th>\n      <td>Grundy</td>\n      <td>POLYGON ((-88.25217 41.46277, -88.27149 41.462...</td>\n      <td>Grundy</td>\n      <td>48</td>\n      <td>{'age': [{'age_group': 'Unknown', 'count': 0, ...</td>\n      <td>733</td>\n    </tr>\n    <tr>\n      <th>8</th>\n      <td>Mercer</td>\n      <td>POLYGON ((-90.43382 41.32698, -90.45335 41.326...</td>\n      <td>Mercer</td>\n      <td>10</td>\n      <td>{'age': [{'age_group': 'Unknown', 'count': 0, ...</td>\n      <td>163</td>\n    </tr>\n    <tr>\n      <th>9</th>\n      <td>Putnam</td>\n      <td>POLYGON ((-89.16353 41.30991, -89.16500 41.309...</td>\n      <td>Putnam</td>\n      <td>0</td>\n      <td>{'age': [{'age_group': 'Unknown', 'count': 0, ...</td>\n      <td>48</td>\n    </tr>\n    <tr>\n      <th>10</th>\n      <td>McLean</td>\n      <td>POLYGON ((-88.92943 40.75330, -88.94863 40.752...</td>\n      <td>McLean</td>\n      <td>108</td>\n      <td>{'age': [{'age_group': 'Unknown', 'count': 0, ...</td>\n      <td>3052</td>\n    </tr>\n    <tr>\n      <th>11</th>\n      <td>Tazewell</td>\n      <td>POLYGON ((-89.26933 40.59450, -89.26948 40.601...</td>\n      <td>Tazewell</td>\n      <td>56</td>\n      <td>{'age': [{'age_group': 'Unknown', 'count': 0, ...</td>\n      <td>1910</td>\n    </tr>\n    <tr>\n      <th>12</th>\n      <td>Fulton</td>\n      <td>POLYGON ((-89.98606 40.71225, -90.00002 40.712...</td>\n      <td>Fulton</td>\n      <td>3</td>\n      <td>{'age': [{'age_group': 'Unknown', 'count': 0, ...</td>\n      <td>202</td>\n    </tr>\n    <tr>\n      <th>13</th>\n      <td>Adams</td>\n      <td>POLYGON ((-91.50535 40.20029, -91.50436 40.198...</td>\n      <td>Adams</td>\n      <td>40</td>\n      <td>{'age': [{'age_group': 'Unknown', 'count': 0, ...</td>\n      <td>1406</td>\n    </tr>\n    <tr>\n      <th>14</th>\n      <td>Champaign</td>\n      <td>POLYGON ((-88.46003 40.39850, -88.46009 40.383...</td>\n      <td>Champaign</td>\n      <td>212</td>\n      <td>{'age': [{'age_group': 'Unknown', 'count': 0, ...</td>\n      <td>4161</td>\n    </tr>\n    <tr>\n      <th>15</th>\n      <td>Logan</td>\n      <td>POLYGON ((-89.60299 40.32011, -89.60273 40.305...</td>\n      <td>Logan</td>\n      <td>7</td>\n      <td>{'age': [{'age_group': 'Unknown', 'count': 0, ...</td>\n      <td>481</td>\n    </tr>\n    <tr>\n      <th>16</th>\n      <td>Piatt</td>\n      <td>POLYGON ((-88.57476 40.28158, -88.58665 40.267...</td>\n      <td>Piatt</td>\n      <td>8</td>\n      <td>{'age': [{'age_group': 'Unknown', 'count': 0, ...</td>\n      <td>242</td>\n    </tr>\n    <tr>\n      <th>17</th>\n      <td>Stark</td>\n      <td>POLYGON ((-89.85770 41.23450, -89.86772 41.234...</td>\n      <td>Stark</td>\n      <td>1</td>\n      <td>{'age': [{'age_group': 'Unknown', 'count': 0, ...</td>\n      <td>43</td>\n    </tr>\n    <tr>\n      <th>18</th>\n      <td>Knox</td>\n      <td>POLYGON ((-89.98529 41.14944, -90.00422 41.149...</td>\n      <td>Knox</td>\n      <td>61</td>\n      <td>{'age': [{'age_group': 'Unknown', 'count': 0, ...</td>\n      <td>714</td>\n    </tr>\n    <tr>\n      <th>19</th>\n      <td>Marshall</td>\n      <td>POLYGON ((-89.63903 41.14845, -89.63905 41.133...</td>\n      <td>Marshall</td>\n      <td>4</td>\n      <td>{'age': [{'age_group': 'Unknown', 'count': 0, ...</td>\n      <td>88</td>\n    </tr>\n    <tr>\n      <th>20</th>\n      <td>Livingston</td>\n      <td>POLYGON ((-88.25174 41.11422, -88.26009 41.114...</td>\n      <td>Livingston</td>\n      <td>23</td>\n      <td>{'age': [{'age_group': 'Unknown', 'count': 0, ...</td>\n      <td>463</td>\n    </tr>\n    <tr>\n      <th>21</th>\n      <td>Henderson</td>\n      <td>POLYGON ((-90.78527 41.06922, -90.80435 41.070...</td>\n      <td>Henderson</td>\n      <td>5</td>\n      <td>{'age': [{'age_group': 'Unknown', 'count': 0, ...</td>\n      <td>75</td>\n    </tr>\n    <tr>\n      <th>22</th>\n      <td>Warren</td>\n      <td>POLYGON ((-90.43990 41.06383, -90.45876 41.063...</td>\n      <td>Warren</td>\n      <td>88</td>\n      <td>{'age': [{'age_group': 'Unknown', 'count': 0, ...</td>\n      <td>285</td>\n    </tr>\n    <tr>\n      <th>23</th>\n      <td>Iroquois</td>\n      <td>POLYGON ((-87.52616 41.01035, -87.54231 41.010...</td>\n      <td>Iroquois</td>\n      <td>62</td>\n      <td>{'age': [{'age_group': 'Unknown', 'count': 0, ...</td>\n      <td>415</td>\n    </tr>\n    <tr>\n      <th>24</th>\n      <td>Peoria</td>\n      <td>POLYGON ((-89.98593 40.97465, -89.98599 40.961...</td>\n      <td>Peoria</td>\n      <td>126</td>\n      <td>{'age': [{'age_group': 'Unknown', 'count': 0, ...</td>\n      <td>2651</td>\n    </tr>\n    <tr>\n      <th>25</th>\n      <td>Woodford</td>\n      <td>POLYGON ((-89.04765 40.92567, -89.06702 40.925...</td>\n      <td>Woodford</td>\n      <td>15</td>\n      <td>{'age': [{'age_group': 'Unknown', 'count': 0, ...</td>\n      <td>388</td>\n    </tr>\n    <tr>\n      <th>26</th>\n      <td>Carroll</td>\n      <td>POLYGON ((-89.91979 42.19678, -89.93903 42.196...</td>\n      <td>Carroll</td>\n      <td>10</td>\n      <td>{'age': [{'age_group': 'Unknown', 'count': 0, ...</td>\n      <td>90</td>\n    </tr>\n    <tr>\n      <th>27</th>\n      <td>Kane</td>\n      <td>POLYGON ((-88.58859 42.15366, -88.58852 42.139...</td>\n      <td>Kane</td>\n      <td>2332</td>\n      <td>{'age': [{'age_group': 'Unknown', 'count': 0, ...</td>\n      <td>9542</td>\n    </tr>\n    <tr>\n      <th>28</th>\n      <td>DeKalb</td>\n      <td>POLYGON ((-88.70559 42.15355, -88.72510 42.153...</td>\n      <td>DeKalb</td>\n      <td>141</td>\n      <td>{'age': [{'age_group': 'Unknown', 'count': 0, ...</td>\n      <td>1232</td>\n    </tr>\n    <tr>\n      <th>29</th>\n      <td>Cook</td>\n      <td>POLYGON ((-88.23858 42.15425, -88.23865 42.139...</td>\n      <td>Cook</td>\n      <td>19316</td>\n      <td>{'age': [{'age_group': 'Unknown', 'count': 25,...</td>\n      <td>89317</td>\n    </tr>\n    <tr>\n      <th>...</th>\n      <td>...</td>\n      <td>...</td>\n      <td>...</td>\n      <td>...</td>\n      <td>...</td>\n      <td>...</td>\n    </tr>\n    <tr>\n      <th>73</th>\n      <td>Hardin</td>\n      <td>POLYGON ((-88.37538 37.59960, -88.39355 37.599...</td>\n      <td>Hardin</td>\n      <td>1</td>\n      <td>{'age': [{'age_group': 'Unknown', 'count': 0, ...</td>\n      <td>22</td>\n    </tr>\n    <tr>\n      <th>74</th>\n      <td>Massac</td>\n      <td>POLYGON ((-88.92877 37.30294, -88.92877 37.302...</td>\n      <td>Massac</td>\n      <td>4</td>\n      <td>{'age': [{'age_group': 'Unknown', 'count': 0, ...</td>\n      <td>92</td>\n    </tr>\n    <tr>\n      <th>75</th>\n      <td>McDonough</td>\n      <td>POLYGON ((-90.78961 40.63568, -90.78967 40.635...</td>\n      <td>McDonough</td>\n      <td>42</td>\n      <td>{'age': [{'age_group': 'Unknown', 'count': 0, ...</td>\n      <td>361</td>\n    </tr>\n    <tr>\n      <th>76</th>\n      <td>Vermilion</td>\n      <td>POLYGON ((-87.93508 40.48596, -87.93473 40.471...</td>\n      <td>Vermilion</td>\n      <td>22</td>\n      <td>{'age': [{'age_group': 'Unknown', 'count': 0, ...</td>\n      <td>860</td>\n    </tr>\n    <tr>\n      <th>77</th>\n      <td>Macon</td>\n      <td>POLYGON ((-89.14466 40.04885, -89.14459 40.034...</td>\n      <td>Macon</td>\n      <td>129</td>\n      <td>{'age': [{'age_group': 'Unknown', 'count': 0, ...</td>\n      <td>1217</td>\n    </tr>\n    <tr>\n      <th>78</th>\n      <td>Sangamon</td>\n      <td>POLYGON ((-89.21798 39.91706, -89.23638 39.916...</td>\n      <td>Sangamon</td>\n      <td>231</td>\n      <td>{'age': [{'age_group': 'Unknown', 'count': 0, ...</td>\n      <td>4318</td>\n    </tr>\n    <tr>\n      <th>79</th>\n      <td>Edgar</td>\n      <td>POLYGON ((-87.93761 39.87996, -87.93729 39.865...</td>\n      <td>Edgar</td>\n      <td>0</td>\n      <td>{'age': [{'age_group': 'Unknown', 'count': 0, ...</td>\n      <td>120</td>\n    </tr>\n    <tr>\n      <th>80</th>\n      <td>Morgan</td>\n      <td>POLYGON ((-89.99438 39.87291, -90.01303 39.872...</td>\n      <td>Morgan</td>\n      <td>26</td>\n      <td>{'age': [{'age_group': 'Unknown', 'count': 0, ...</td>\n      <td>467</td>\n    </tr>\n    <tr>\n      <th>81</th>\n      <td>Christian</td>\n      <td>POLYGON ((-89.21767 39.81320, -89.21788 39.813...</td>\n      <td>Christian</td>\n      <td>28</td>\n      <td>{'age': [{'age_group': 'Unknown', 'count': 0, ...</td>\n      <td>411</td>\n    </tr>\n    <tr>\n      <th>82</th>\n      <td>Moultrie</td>\n      <td>POLYGON ((-88.74551 39.79203, -88.75854 39.792...</td>\n      <td>Moultrie</td>\n      <td>6</td>\n      <td>{'age': [{'age_group': 'Unknown', 'count': 0, ...</td>\n      <td>80</td>\n    </tr>\n    <tr>\n      <th>83</th>\n      <td>Scott</td>\n      <td>POLYGON ((-90.58103 39.52172, -90.56211 39.521...</td>\n      <td>Scott</td>\n      <td>0</td>\n      <td>{'age': [{'age_group': 'Unknown', 'count': 0, ...</td>\n      <td>60</td>\n    </tr>\n    <tr>\n      <th>84</th>\n      <td>Coles</td>\n      <td>POLYGON ((-88.47247 39.65162, -88.47201 39.637...</td>\n      <td>Coles</td>\n      <td>22</td>\n      <td>{'age': [{'age_group': 'Unknown', 'count': 0, ...</td>\n      <td>415</td>\n    </tr>\n    <tr>\n      <th>85</th>\n      <td>Shelby</td>\n      <td>POLYGON ((-89.02552 39.65448, -89.02541 39.640...</td>\n      <td>Shelby</td>\n      <td>10</td>\n      <td>{'age': [{'age_group': 'Unknown', 'count': 0, ...</td>\n      <td>121</td>\n    </tr>\n    <tr>\n      <th>86</th>\n      <td>Montgomery</td>\n      <td>POLYGON ((-89.70178 39.52331, -89.70144 39.508...</td>\n      <td>Montgomery</td>\n      <td>33</td>\n      <td>{'age': [{'age_group': 'Unknown', 'count': 0, ...</td>\n      <td>592</td>\n    </tr>\n    <tr>\n      <th>87</th>\n      <td>Macoupin</td>\n      <td>POLYGON ((-89.92568 39.52239, -89.94431 39.522...</td>\n      <td>Macoupin</td>\n      <td>39</td>\n      <td>{'age': [{'age_group': 'Unknown', 'count': 0, ...</td>\n      <td>708</td>\n    </tr>\n    <tr>\n      <th>88</th>\n      <td>Clark</td>\n      <td>POLYGON ((-87.96033 39.48136, -87.97896 39.481...</td>\n      <td>Clark</td>\n      <td>5</td>\n      <td>{'age': [{'age_group': 'Unknown', 'count': 0, ...</td>\n      <td>103</td>\n    </tr>\n    <tr>\n      <th>89</th>\n      <td>Crawford</td>\n      <td>POLYGON ((-87.95037 39.17505, -87.95003 39.158...</td>\n      <td>Crawford</td>\n      <td>10</td>\n      <td>{'age': [{'age_group': 'Unknown', 'count': 0, ...</td>\n      <td>186</td>\n    </tr>\n    <tr>\n      <th>90</th>\n      <td>Jasper</td>\n      <td>POLYGON ((-88.00774 39.17389, -88.02264 39.173...</td>\n      <td>Jasper</td>\n      <td>46</td>\n      <td>{'age': [{'age_group': 'Unknown', 'count': 0, ...</td>\n      <td>239</td>\n    </tr>\n    <tr>\n      <th>91</th>\n      <td>Bond</td>\n      <td>POLYGON ((-89.25027 39.02822, -89.26896 39.028...</td>\n      <td>Bond</td>\n      <td>8</td>\n      <td>{'age': [{'age_group': 'Unknown', 'count': 0, ...</td>\n      <td>144</td>\n    </tr>\n    <tr>\n      <th>92</th>\n      <td>Madison</td>\n      <td>POLYGON ((-89.63924 38.99914, -89.64215 38.999...</td>\n      <td>Madison</td>\n      <td>374</td>\n      <td>{'age': [{'age_group': 'Unknown', 'count': 0, ...</td>\n      <td>2278</td>\n    </tr>\n    <tr>\n      <th>93</th>\n      <td>Fayette</td>\n      <td>POLYGON ((-89.13957 39.21785, -89.15807 39.217...</td>\n      <td>Fayette</td>\n      <td>16</td>\n      <td>{'age': [{'age_group': 'Unknown', 'count': 0, ...</td>\n      <td>175</td>\n    </tr>\n    <tr>\n      <th>94</th>\n      <td>St. Clair</td>\n      <td>POLYGON ((-89.70703 38.65503, -89.72531 38.655...</td>\n      <td>St. Clair</td>\n      <td>601</td>\n      <td>{'age': [{'age_group': 'Unknown', 'count': 0, ...</td>\n      <td>3068</td>\n    </tr>\n    <tr>\n      <th>95</th>\n      <td>Wayne</td>\n      <td>POLYGON ((-88.69830 38.60606, -88.69830 38.605...</td>\n      <td>Wayne</td>\n      <td>2</td>\n      <td>{'age': [{'age_group': 'Unknown', 'count': 0, ...</td>\n      <td>173</td>\n    </tr>\n    <tr>\n      <th>96</th>\n      <td>Monroe</td>\n      <td>POLYGON ((-89.89905 38.22077, -89.89905 38.220...</td>\n      <td>Monroe</td>\n      <td>74</td>\n      <td>{'age': [{'age_group': 'Unknown', 'count': 0, ...</td>\n      <td>284</td>\n    </tr>\n    <tr>\n      <th>97</th>\n      <td>Jefferson</td>\n      <td>POLYGON ((-89.14445 38.47387, -89.14462 38.460...</td>\n      <td>Jefferson</td>\n      <td>86</td>\n      <td>{'age': [{'age_group': 'Unknown', 'count': 0, ...</td>\n      <td>692</td>\n    </tr>\n    <tr>\n      <th>98</th>\n      <td>Lawrence</td>\n      <td>POLYGON ((-87.90806 38.85013, -87.90819 38.835...</td>\n      <td>Lawrence</td>\n      <td>3</td>\n      <td>{'age': [{'age_group': 'Unknown', 'count': 0, ...</td>\n      <td>158</td>\n    </tr>\n    <tr>\n      <th>99</th>\n      <td>Marion</td>\n      <td>POLYGON ((-89.13844 38.73633, -89.13847 38.721...</td>\n      <td>Marion</td>\n      <td>38</td>\n      <td>{'age': [{'age_group': 'Unknown', 'count': 0, ...</td>\n      <td>702</td>\n    </tr>\n    <tr>\n      <th>100</th>\n      <td>Union</td>\n      <td>POLYGON ((-89.04143 37.59650, -89.06017 37.597...</td>\n      <td>Union</td>\n      <td>48</td>\n      <td>{'age': [{'age_group': 'Unknown', 'count': 0, ...</td>\n      <td>348</td>\n    </tr>\n    <tr>\n      <th>101</th>\n      <td>Pope</td>\n      <td>POLYGON ((-88.70860 37.59926, -88.70876 37.584...</td>\n      <td>Pope</td>\n      <td>0</td>\n      <td>{'age': [{'age_group': 'Unknown', 'count': 0, ...</td>\n      <td>24</td>\n    </tr>\n    <tr>\n      <th>102</th>\n      <td>Chicago</td>\n      <td>MULTIPOLYGON (((-87.93514 42.00089, -87.93521 ...</td>\n      <td>Chicago</td>\n      <td>27440</td>\n      <td>{'age': [{'age_group': 'Unknown', 'count': 20,...</td>\n      <td>112588</td>\n    </tr>\n  </tbody>\n</table>\n<p>103 rows × 6 columns</p>\n</div>"
     },
     "metadata": {},
     "output_type": "execute_result",
     "execution_count": 100
    }
   ],
   "source": [
    "county_static "
   ],
   "metadata": {
    "collapsed": false,
    "pycharm": {
     "name": "#%%\n",
     "is_executing": false
    }
   }
  },
  {
   "cell_type": "code",
   "execution_count": 83,
   "outputs": [
    {
     "name": "stdout",
     "text": [
      "done\n"
     ],
     "output_type": "stream"
    }
   ],
   "source": [
    "county_static.to_file('dph_county_static_data.geojson', driver='GeoJSON', encoding='utf-8')\n",
    "print('done')"
   ],
   "metadata": {
    "collapsed": false,
    "pycharm": {
     "name": "#%%\n",
     "is_executing": false
    }
   }
  },
  {
   "cell_type": "markdown",
   "source": [
    "County Data generation\n"
   ],
   "metadata": {
    "collapsed": false,
    "pycharm": {
     "name": "#%% md\n"
    }
   }
  },
  {
   "cell_type": "code",
   "execution_count": 84,
   "outputs": [],
   "source": [
    "# transform to new york times format\n",
    "county_history = pd.DataFrame(history_dict['historical_county']['values'])\n",
    "l = []\n",
    "for case in history_dict['historical_county']['values']:\n",
    "    testDate = case['testDate']\n",
    "    values = case['values']\n",
    "    for x in values:\n",
    "        x['date'] = testDate\n",
    "        l.append(x)\n",
    "county_history = pd.DataFrame(l)"
   ],
   "metadata": {
    "collapsed": false,
    "pycharm": {
     "name": "#%%\n",
     "is_executing": false
    }
   }
  },
  {
   "cell_type": "code",
   "execution_count": 85,
   "outputs": [],
   "source": [
    "# eliminate unassigned data\n",
    "county_history = county_history[county_history['County'] != 'Unassigned']"
   ],
   "metadata": {
    "collapsed": false,
    "pycharm": {
     "name": "#%%\n",
     "is_executing": false
    }
   }
  },
  {
   "cell_type": "code",
   "execution_count": 86,
   "outputs": [],
   "source": [
    "# pivot table\n",
    "county_pivot = pd.pivot_table(county_history, index=['County'],columns=['date'])"
   ],
   "metadata": {
    "collapsed": false,
    "pycharm": {
     "name": "#%%\n",
     "is_executing": false
    }
   }
  },
  {
   "cell_type": "code",
   "execution_count": 87,
   "outputs": [],
   "source": [
    "# get case time series\n",
    "county_pivot['cases_ts'] = county_pivot['confirmed_cases'].values.tolist()"
   ],
   "metadata": {
    "collapsed": false,
    "pycharm": {
     "name": "#%%\n",
     "is_executing": false
    }
   }
  },
  {
   "cell_type": "code",
   "execution_count": 88,
   "outputs": [],
   "source": [
    "# get first case date\n",
    "county_pivot['dt_first_case'] = (county_pivot['confirmed_cases'] > 0).idxmax(axis=1)\n",
    "county_pivot.loc[county_pivot['confirmed_cases'].iloc[:, -1] <= 0, 'dt_first_case'] = np.nan"
   ],
   "metadata": {
    "collapsed": false,
    "pycharm": {
     "name": "#%%\n",
     "is_executing": false
    }
   }
  },
  {
   "cell_type": "code",
   "execution_count": 89,
   "outputs": [],
   "source": [
    "# Get date information\n",
    "date = county_pivot['confirmed_cases'].columns\n",
    "dt_first = date[0]\n",
    "dt_today = date[-1]\n",
    "dt_yesterday = date[-2]"
   ],
   "metadata": {
    "collapsed": false,
    "pycharm": {
     "name": "#%%\n",
     "is_executing": false
    }
   }
  },
  {
   "cell_type": "code",
   "execution_count": 90,
   "outputs": [
    {
     "data": {
      "text/plain": "Index(['3/17/2020', '3/18/2020', '3/19/2020', '3/20/2020', '3/21/2020',\n       '3/22/2020', '3/24/2020', '3/25/2020', '3/26/2020', '3/27/2020',\n       '3/28/2020', '3/29/2020', '3/30/2020', '3/31/2020', '4/1/2020',\n       '4/10/2020', '4/11/2020', '4/12/2020', '4/13/2020', '4/14/2020',\n       '4/15/2020', '4/16/2020', '4/17/2020', '4/18/2020', '4/19/2020',\n       '4/2/2020', '4/20/2020', '4/21/2020', '4/22/2020', '4/23/2020',\n       '4/24/2020', '4/25/2020', '4/26/2020', '4/27/2020', '4/28/2020',\n       '4/29/2020', '4/3/2020', '4/30/2020', '4/4/2020', '4/5/2020',\n       '4/6/2020', '4/7/2020', '4/8/2020', '4/9/2020', '5/1/2020', '5/2/2020',\n       '5/3/2020', '5/4/2020', '5/5/2020', '5/6/2020'],\n      dtype='object', name='date')"
     },
     "metadata": {},
     "output_type": "execute_result",
     "execution_count": 90
    }
   ],
   "source": [
    "date"
   ],
   "metadata": {
    "collapsed": false,
    "pycharm": {
     "name": "#%%\n",
     "is_executing": false
    }
   }
  },
  {
   "cell_type": "code",
   "execution_count": 91,
   "outputs": [],
   "source": [
    "# Add today_case and today_new_case columns\n",
    "county_pivot['today_case'] = county_pivot['confirmed_cases'][dt_today]\n",
    "county_pivot['today_new_case'] = county_pivot['confirmed_cases'][dt_today] - county_pivot['confirmed_cases'][dt_yesterday]"
   ],
   "metadata": {
    "collapsed": false,
    "pycharm": {
     "name": "#%%\n",
     "is_executing": false
    }
   }
  },
  {
   "cell_type": "code",
   "execution_count": 92,
   "outputs": [],
   "source": [
    "# Reformat\n",
    "county_report = county_pivot[['cases_ts','dt_first_case','today_case','today_new_case']]\n",
    "county_report = county_report.reset_index()\n",
    "county_report.columns = ['County','cases_ts','dt_first_case','today_case','today_new_case']\n",
    "county_report['cases_ts'] = county_report['cases_ts'].apply(lambda x: ','.join(map(str,x)))"
   ],
   "metadata": {
    "collapsed": false,
    "pycharm": {
     "name": "#%%\n",
     "is_executing": false
    }
   }
  },
  {
   "cell_type": "code",
   "execution_count": 93,
   "outputs": [
    {
     "data": {
      "text/plain": "array(['Illinois', 'Out Of State', 'Suburban Cook'], dtype=object)"
     },
     "metadata": {},
     "output_type": "execute_result",
     "execution_count": 93
    }
   ],
   "source": [
    "np.setdiff1d(county_report['County'],county_gpd['id'])\n",
    "# Illinois, Out of State and Suburban Cook is not in geometry"
   ],
   "metadata": {
    "collapsed": false,
    "pycharm": {
     "name": "#%%\n",
     "is_executing": false
    }
   }
  },
  {
   "cell_type": "code",
   "execution_count": 94,
   "outputs": [],
   "source": [
    "county_report = county_report[(county_report['County'] != 'Illinois') & (county_report['County'] != 'Out of State') & (county_report['County'] != 'Suburban Cook')]"
   ],
   "metadata": {
    "collapsed": false,
    "pycharm": {
     "name": "#%%\n",
     "is_executing": false
    }
   }
  },
  {
   "cell_type": "code",
   "execution_count": 95,
   "outputs": [],
   "source": [
    "def standardDate(str):\n",
    "    l = str.split('/')\n",
    "    month = l[0]\n",
    "    day = l[1]\n",
    "    year = l[2]\n",
    "    if len(month) < 2:\n",
    "        month = '0' + month\n",
    "    if len(day) < 2:\n",
    "        day = '0' + day\n",
    "    return year + '-' + month + '-' + day"
   ],
   "metadata": {
    "collapsed": false,
    "pycharm": {
     "name": "#%%\n",
     "is_executing": false
    }
   }
  },
  {
   "cell_type": "code",
   "execution_count": 96,
   "outputs": [],
   "source": [
    "county_report['dt_first_case'] = county_report['dt_first_case'].apply(lambda x: standardDate(x) if type(x) == str else x)\n",
    "county_report['dt_start'] = standardDate(dt_first)\n",
    "county_report['dt_end'] = standardDate(dt_today)\n",
    "county_report['dt_unit'] = 'day'"
   ],
   "metadata": {
    "collapsed": false,
    "pycharm": {
     "name": "#%%\n",
     "is_executing": false
    }
   }
  },
  {
   "cell_type": "code",
   "execution_count": 97,
   "outputs": [],
   "source": [
    "county_final_gpd = pd.merge(county_gpd, county_report, how=\"left\", left_on=\"id\", right_on=\"County\")"
   ],
   "metadata": {
    "collapsed": false,
    "pycharm": {
     "name": "#%%\n",
     "is_executing": false
    }
   }
  },
  {
   "cell_type": "code",
   "execution_count": 98,
   "outputs": [],
   "source": [
    "county_final_gpd['population'] = 1"
   ],
   "metadata": {
    "collapsed": false,
    "pycharm": {
     "name": "#%%\n",
     "is_executing": false
    }
   }
  },
  {
   "cell_type": "code",
   "execution_count": 99,
   "outputs": [
    {
     "name": "stdout",
     "text": [
      "done\n"
     ],
     "output_type": "stream"
    }
   ],
   "source": [
    "county_final_gpd.to_file('dph_county_data.geojson', driver='GeoJSON', encoding='utf-8')\n",
    "print('done')\n"
   ],
   "metadata": {
    "collapsed": false,
    "pycharm": {
     "name": "#%%\n",
     "is_executing": false
    }
   }
  }
 ],
 "metadata": {
  "language_info": {
   "codemirror_mode": {
    "name": "ipython",
    "version": 2
   },
   "file_extension": ".py",
   "mimetype": "text/x-python",
   "name": "python",
   "nbconvert_exporter": "python",
   "pygments_lexer": "ipython2",
   "version": "2.7.6"
  },
  "kernelspec": {
   "name": "python3",
   "language": "python",
   "display_name": "Python 3"
  },
  "pycharm": {
   "stem_cell": {
    "cell_type": "raw",
    "source": [],
    "metadata": {
     "collapsed": false
    }
   }
  }
 },
 "nbformat": 4,
 "nbformat_minor": 0
}