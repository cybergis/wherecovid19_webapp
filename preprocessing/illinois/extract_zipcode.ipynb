{
 "cells": [
  {
   "cell_type": "markdown",
   "metadata": {
    "collapsed": true,
    "pycharm": {
     "name": "#%% md\n"
    }
   },
   "source": [
    "URL preparation"
   ]
  },
  {
   "cell_type": "code",
   "execution_count": 2,
   "outputs": [],
   "source": [
    "# Geometry URL\n",
    "zipcode_geometry_url = \"http://www.dph.illinois.gov/sites/default/files/COVID19/il_illinois_zip_codes.json?nocache=1\"\n",
    "county_geometry_url = \"http://www.dph.illinois.gov/sites/default/files/Illinois_County_Geo_ch.json\"\n",
    "\n",
    "# Data URL\n",
    "county_data_url = \"http://www.dph.illinois.gov/sitefiles/CountyDemos.json?nocache=1\"\n",
    "zipcode_data_url = \"http://www.dph.illinois.gov/sitefiles/COVIDZip.json?nocache=1\"\n",
    "history_data_url = \"http://www.dph.illinois.gov/sitefiles/COVIDHistoricalTestResults.json?nocache=1\""
   ],
   "metadata": {
    "collapsed": false,
    "pycharm": {
     "name": "#%%\n",
     "is_executing": false
    }
   }
  },
  {
   "cell_type": "code",
   "execution_count": 3,
   "outputs": [],
   "source": [
    "import pandas as pd\n",
    "import json\n",
    "import numpy as np\n",
    "import geopandas as gpd\n",
    "from urllib.request import urlopen"
   ],
   "metadata": {
    "collapsed": false,
    "pycharm": {
     "name": "#%%\n",
     "is_executing": false
    }
   }
  },
  {
   "cell_type": "markdown",
   "source": [
    "Download data"
   ],
   "metadata": {
    "collapsed": false,
    "pycharm": {
     "name": "#%% md\n"
    }
   }
  },
  {
   "cell_type": "code",
   "execution_count": 4,
   "outputs": [],
   "source": [
    "with urlopen(zipcode_data_url) as response:\n",
    "    zipcode_dict = json.load(response)\n",
    "    zipcode_data = pd.DataFrame(zipcode_dict['zip_values'])\n",
    "    "
   ],
   "metadata": {
    "collapsed": false,
    "pycharm": {
     "name": "#%%\n",
     "is_executing": false
    }
   }
  },
  {
   "cell_type": "code",
   "execution_count": 5,
   "outputs": [],
   "source": [
    "with urlopen(county_data_url) as response:\n",
    "    county_dict = json.load(response)\n",
    "    county_data = pd.DataFrame(county_dict['county_demographics'])\n",
    "    "
   ],
   "metadata": {
    "collapsed": false,
    "pycharm": {
     "name": "#%%\n",
     "is_executing": false
    }
   }
  },
  {
   "cell_type": "code",
   "execution_count": 6,
   "outputs": [],
   "source": [
    "with urlopen(history_data_url) as response:\n",
    "    history_dict = json.load(response)\n"
   ],
   "metadata": {
    "collapsed": false,
    "pycharm": {
     "name": "#%%\n",
     "is_executing": false
    }
   }
  },
  {
   "cell_type": "code",
   "execution_count": 7,
   "outputs": [],
   "source": [
    "zipcode_geometry = gpd.read_file(zipcode_geometry_url)\n",
    "county_geometry = gpd.read_file(county_geometry_url)"
   ],
   "metadata": {
    "collapsed": false,
    "pycharm": {
     "name": "#%%\n",
     "is_executing": false
    }
   }
  },
  {
   "cell_type": "code",
   "execution_count": 8,
   "outputs": [],
   "source": [
    "with urlopen(zipcode_geometry_url) as response:\n",
    "    tmp = json.load(response)\n",
    "    zipcode_gpd = gpd.GeoDataFrame(tmp['features'])"
   ],
   "metadata": {
    "collapsed": false,
    "pycharm": {
     "name": "#%%\n",
     "is_executing": false
    }
   }
  },
  {
   "cell_type": "code",
   "execution_count": 9,
   "outputs": [],
   "source": [
    "zipcode_gpd['geometry'] = zipcode_geometry\n",
    "zipcode_gpd = zipcode_gpd[['id','geometry']]\n",
    "zipcode_gpd['id'] = zipcode_gpd['id'].astype(str)"
   ],
   "metadata": {
    "collapsed": false,
    "pycharm": {
     "name": "#%%    \n",
     "is_executing": false
    }
   }
  },
  {
   "cell_type": "code",
   "execution_count": 10,
   "outputs": [],
   "source": [
    "county_gpd = county_geometry[['id','geometry']]"
   ],
   "metadata": {
    "collapsed": false,
    "pycharm": {
     "name": "#%%\n",
     "is_executing": false
    }
   }
  },
  {
   "cell_type": "markdown",
   "source": [
    "Zipcode Data generation"
   ],
   "metadata": {
    "collapsed": false,
    "pycharm": {
     "name": "#%% md\n",
     "is_executing": false
    }
   }
  },
  {
   "cell_type": "code",
   "execution_count": 11,
   "outputs": [
    {
     "data": {
      "text/plain": "     confirmed_cases                                       demographics  \\\n0                  6  {'age': [{'age_group': 'Unknown', 'count': 0, ...   \n1                 65  {'age': [{'age_group': 'Unknown', 'count': 0, ...   \n2                178  {'age': [{'age_group': 'Unknown', 'count': 0, ...   \n3                 90  {'age': [{'age_group': 'Unknown', 'count': 0, ...   \n4                125  {'age': [{'age_group': 'Unknown', 'count': 0, ...   \n5                161  {'age': [{'age_group': 'Unknown', 'count': 0, ...   \n6                 54  {'age': [{'age_group': 'Unknown', 'count': 0, ...   \n7                 59  {'age': [{'age_group': 'Unknown', 'count': 0, ...   \n8                 53  {'age': [{'age_group': 'Unknown', 'count': 0, ...   \n9                 99  {'age': [{'age_group': 'Unknown', 'count': 0, ...   \n10               117  {'age': [{'age_group': 'Unknown', 'count': 0, ...   \n11               707  {'age': [{'age_group': 'Unknown', 'count': 0, ...   \n12               306  {'age': [{'age_group': 'Unknown', 'count': 0, ...   \n13                22  {'age': [{'age_group': 'Unknown', 'count': 0, ...   \n14                10  {'age': [{'age_group': 'Unknown', 'count': 0, ...   \n15                23  {'age': [{'age_group': 'Unknown', 'count': 0, ...   \n16               227  {'age': [{'age_group': 'Unknown', 'count': 0, ...   \n17                93  {'age': [{'age_group': 'Unknown', 'count': 0, ...   \n18                97  {'age': [{'age_group': 'Unknown', 'count': 0, ...   \n19               189  {'age': [{'age_group': 'Unknown', 'count': 0, ...   \n20                73  {'age': [{'age_group': 'Unknown', 'count': 0, ...   \n21               167  {'age': [{'age_group': 'Unknown', 'count': 0, ...   \n22                55  {'age': [{'age_group': 'Unknown', 'count': 0, ...   \n23                25  {'age': [{'age_group': 'Unknown', 'count': 0, ...   \n24                18  {'age': [{'age_group': 'Unknown', 'count': 0, ...   \n25                14  {'age': [{'age_group': 'Unknown', 'count': 0, ...   \n26                61  {'age': [{'age_group': 'Unknown', 'count': 0, ...   \n27                97  {'age': [{'age_group': 'Unknown', 'count': 0, ...   \n28               111  {'age': [{'age_group': 'Unknown', 'count': 0, ...   \n29               105  {'age': [{'age_group': 'Unknown', 'count': 0, ...   \n..               ...                                                ...   \n441               84  {'age': [{'age_group': 'Unknown', 'count': 0, ...   \n442               21  {'age': [{'age_group': 'Unknown', 'count': 0, ...   \n443               24  {'age': [{'age_group': 'Unknown', 'count': 0, ...   \n444                9  {'age': [{'age_group': 'Unknown', 'count': 0, ...   \n445               25  {'age': [{'age_group': 'Unknown', 'count': 0, ...   \n446               48  {'age': [{'age_group': 'Unknown', 'count': 0, ...   \n447               10  {'age': [{'age_group': 'Unknown', 'count': 0, ...   \n448               22  {'age': [{'age_group': 'Unknown', 'count': 0, ...   \n449                9  {'age': [{'age_group': 'Unknown', 'count': 0, ...   \n450                9  {'age': [{'age_group': 'Unknown', 'count': 0, ...   \n451                6  {'age': [{'age_group': 'Unknown', 'count': 0, ...   \n452               63  {'age': [{'age_group': 'Unknown', 'count': 0, ...   \n453               48  {'age': [{'age_group': 'Unknown', 'count': 0, ...   \n454               41  {'age': [{'age_group': 'Unknown', 'count': 0, ...   \n455               32  {'age': [{'age_group': 'Unknown', 'count': 0, ...   \n456               11  {'age': [{'age_group': 'Unknown', 'count': 0, ...   \n457               17  {'age': [{'age_group': 'Unknown', 'count': 0, ...   \n458               50  {'age': [{'age_group': 'Unknown', 'count': 0, ...   \n459               14  {'age': [{'age_group': 'Unknown', 'count': 0, ...   \n460               77  {'age': [{'age_group': 'Unknown', 'count': 0, ...   \n461               89  {'age': [{'age_group': 'Unknown', 'count': 0, ...   \n462               12  {'age': [{'age_group': 'Unknown', 'count': 0, ...   \n463               30  {'age': [{'age_group': 'Unknown', 'count': 0, ...   \n464               12  {'age': [{'age_group': 'Unknown', 'count': 0, ...   \n465               10  {'age': [{'age_group': 'Unknown', 'count': 0, ...   \n466               20  {'age': [{'age_group': 'Unknown', 'count': 0, ...   \n467                6  {'age': [{'age_group': 'Unknown', 'count': 0, ...   \n468               23  {'age': [{'age_group': 'Unknown', 'count': 0, ...   \n469               40  {'age': [{'age_group': 'Unknown', 'count': 0, ...   \n470               20  {'age': [{'age_group': 'Unknown', 'count': 0, ...   \n\n     total_tested    zip  \n0             111  53142  \n1             443  60002  \n2            1723  60004  \n3             522  60005  \n4             643  60007  \n5             499  60008  \n6             524  60010  \n7             174  60012  \n8             295  60013  \n9             717  60014  \n10            660  60015  \n11           2086  60016  \n12            956  60018  \n13            192  60020  \n14             78  60021  \n15            203  60022  \n16           1180  60025  \n17            403  60026  \n18            645  60030  \n19            878  60031  \n20            269  60033  \n21            901  60035  \n22            169  60040  \n23            153  60041  \n24            110  60042  \n25             93  60043  \n26            299  60044  \n27            520  60045  \n28            589  60046  \n29            526  60047  \n..            ...    ...  \n441           557  62521  \n442           109  62522  \n443           253  62526  \n444            56  62565  \n445           216  62568  \n446           409  62618  \n447           263  62629  \n448           385  62650  \n449           369  62656  \n450            71  62664  \n451           130  62675  \n452           262  62684  \n453           880  62702  \n454           700  62703  \n455           842  62704  \n456           168  62707  \n457           318  62711  \n458           509  62801  \n459           196  62832  \n460           525  62864  \n461           508  62901  \n462            71  62902  \n463           206  62906  \n464            42  62907  \n465           147  62918  \n466            83  62920  \n467           204  62948  \n468           480  62959  \n469           324  62966  \n470            54  62992  \n\n[471 rows x 4 columns]",
      "text/html": "<div>\n<style scoped>\n    .dataframe tbody tr th:only-of-type {\n        vertical-align: middle;\n    }\n\n    .dataframe tbody tr th {\n        vertical-align: top;\n    }\n\n    .dataframe thead th {\n        text-align: right;\n    }\n</style>\n<table border=\"1\" class=\"dataframe\">\n  <thead>\n    <tr style=\"text-align: right;\">\n      <th></th>\n      <th>confirmed_cases</th>\n      <th>demographics</th>\n      <th>total_tested</th>\n      <th>zip</th>\n    </tr>\n  </thead>\n  <tbody>\n    <tr>\n      <th>0</th>\n      <td>6</td>\n      <td>{'age': [{'age_group': 'Unknown', 'count': 0, ...</td>\n      <td>111</td>\n      <td>53142</td>\n    </tr>\n    <tr>\n      <th>1</th>\n      <td>65</td>\n      <td>{'age': [{'age_group': 'Unknown', 'count': 0, ...</td>\n      <td>443</td>\n      <td>60002</td>\n    </tr>\n    <tr>\n      <th>2</th>\n      <td>178</td>\n      <td>{'age': [{'age_group': 'Unknown', 'count': 0, ...</td>\n      <td>1723</td>\n      <td>60004</td>\n    </tr>\n    <tr>\n      <th>3</th>\n      <td>90</td>\n      <td>{'age': [{'age_group': 'Unknown', 'count': 0, ...</td>\n      <td>522</td>\n      <td>60005</td>\n    </tr>\n    <tr>\n      <th>4</th>\n      <td>125</td>\n      <td>{'age': [{'age_group': 'Unknown', 'count': 0, ...</td>\n      <td>643</td>\n      <td>60007</td>\n    </tr>\n    <tr>\n      <th>5</th>\n      <td>161</td>\n      <td>{'age': [{'age_group': 'Unknown', 'count': 0, ...</td>\n      <td>499</td>\n      <td>60008</td>\n    </tr>\n    <tr>\n      <th>6</th>\n      <td>54</td>\n      <td>{'age': [{'age_group': 'Unknown', 'count': 0, ...</td>\n      <td>524</td>\n      <td>60010</td>\n    </tr>\n    <tr>\n      <th>7</th>\n      <td>59</td>\n      <td>{'age': [{'age_group': 'Unknown', 'count': 0, ...</td>\n      <td>174</td>\n      <td>60012</td>\n    </tr>\n    <tr>\n      <th>8</th>\n      <td>53</td>\n      <td>{'age': [{'age_group': 'Unknown', 'count': 0, ...</td>\n      <td>295</td>\n      <td>60013</td>\n    </tr>\n    <tr>\n      <th>9</th>\n      <td>99</td>\n      <td>{'age': [{'age_group': 'Unknown', 'count': 0, ...</td>\n      <td>717</td>\n      <td>60014</td>\n    </tr>\n    <tr>\n      <th>10</th>\n      <td>117</td>\n      <td>{'age': [{'age_group': 'Unknown', 'count': 0, ...</td>\n      <td>660</td>\n      <td>60015</td>\n    </tr>\n    <tr>\n      <th>11</th>\n      <td>707</td>\n      <td>{'age': [{'age_group': 'Unknown', 'count': 0, ...</td>\n      <td>2086</td>\n      <td>60016</td>\n    </tr>\n    <tr>\n      <th>12</th>\n      <td>306</td>\n      <td>{'age': [{'age_group': 'Unknown', 'count': 0, ...</td>\n      <td>956</td>\n      <td>60018</td>\n    </tr>\n    <tr>\n      <th>13</th>\n      <td>22</td>\n      <td>{'age': [{'age_group': 'Unknown', 'count': 0, ...</td>\n      <td>192</td>\n      <td>60020</td>\n    </tr>\n    <tr>\n      <th>14</th>\n      <td>10</td>\n      <td>{'age': [{'age_group': 'Unknown', 'count': 0, ...</td>\n      <td>78</td>\n      <td>60021</td>\n    </tr>\n    <tr>\n      <th>15</th>\n      <td>23</td>\n      <td>{'age': [{'age_group': 'Unknown', 'count': 0, ...</td>\n      <td>203</td>\n      <td>60022</td>\n    </tr>\n    <tr>\n      <th>16</th>\n      <td>227</td>\n      <td>{'age': [{'age_group': 'Unknown', 'count': 0, ...</td>\n      <td>1180</td>\n      <td>60025</td>\n    </tr>\n    <tr>\n      <th>17</th>\n      <td>93</td>\n      <td>{'age': [{'age_group': 'Unknown', 'count': 0, ...</td>\n      <td>403</td>\n      <td>60026</td>\n    </tr>\n    <tr>\n      <th>18</th>\n      <td>97</td>\n      <td>{'age': [{'age_group': 'Unknown', 'count': 0, ...</td>\n      <td>645</td>\n      <td>60030</td>\n    </tr>\n    <tr>\n      <th>19</th>\n      <td>189</td>\n      <td>{'age': [{'age_group': 'Unknown', 'count': 0, ...</td>\n      <td>878</td>\n      <td>60031</td>\n    </tr>\n    <tr>\n      <th>20</th>\n      <td>73</td>\n      <td>{'age': [{'age_group': 'Unknown', 'count': 0, ...</td>\n      <td>269</td>\n      <td>60033</td>\n    </tr>\n    <tr>\n      <th>21</th>\n      <td>167</td>\n      <td>{'age': [{'age_group': 'Unknown', 'count': 0, ...</td>\n      <td>901</td>\n      <td>60035</td>\n    </tr>\n    <tr>\n      <th>22</th>\n      <td>55</td>\n      <td>{'age': [{'age_group': 'Unknown', 'count': 0, ...</td>\n      <td>169</td>\n      <td>60040</td>\n    </tr>\n    <tr>\n      <th>23</th>\n      <td>25</td>\n      <td>{'age': [{'age_group': 'Unknown', 'count': 0, ...</td>\n      <td>153</td>\n      <td>60041</td>\n    </tr>\n    <tr>\n      <th>24</th>\n      <td>18</td>\n      <td>{'age': [{'age_group': 'Unknown', 'count': 0, ...</td>\n      <td>110</td>\n      <td>60042</td>\n    </tr>\n    <tr>\n      <th>25</th>\n      <td>14</td>\n      <td>{'age': [{'age_group': 'Unknown', 'count': 0, ...</td>\n      <td>93</td>\n      <td>60043</td>\n    </tr>\n    <tr>\n      <th>26</th>\n      <td>61</td>\n      <td>{'age': [{'age_group': 'Unknown', 'count': 0, ...</td>\n      <td>299</td>\n      <td>60044</td>\n    </tr>\n    <tr>\n      <th>27</th>\n      <td>97</td>\n      <td>{'age': [{'age_group': 'Unknown', 'count': 0, ...</td>\n      <td>520</td>\n      <td>60045</td>\n    </tr>\n    <tr>\n      <th>28</th>\n      <td>111</td>\n      <td>{'age': [{'age_group': 'Unknown', 'count': 0, ...</td>\n      <td>589</td>\n      <td>60046</td>\n    </tr>\n    <tr>\n      <th>29</th>\n      <td>105</td>\n      <td>{'age': [{'age_group': 'Unknown', 'count': 0, ...</td>\n      <td>526</td>\n      <td>60047</td>\n    </tr>\n    <tr>\n      <th>...</th>\n      <td>...</td>\n      <td>...</td>\n      <td>...</td>\n      <td>...</td>\n    </tr>\n    <tr>\n      <th>441</th>\n      <td>84</td>\n      <td>{'age': [{'age_group': 'Unknown', 'count': 0, ...</td>\n      <td>557</td>\n      <td>62521</td>\n    </tr>\n    <tr>\n      <th>442</th>\n      <td>21</td>\n      <td>{'age': [{'age_group': 'Unknown', 'count': 0, ...</td>\n      <td>109</td>\n      <td>62522</td>\n    </tr>\n    <tr>\n      <th>443</th>\n      <td>24</td>\n      <td>{'age': [{'age_group': 'Unknown', 'count': 0, ...</td>\n      <td>253</td>\n      <td>62526</td>\n    </tr>\n    <tr>\n      <th>444</th>\n      <td>9</td>\n      <td>{'age': [{'age_group': 'Unknown', 'count': 0, ...</td>\n      <td>56</td>\n      <td>62565</td>\n    </tr>\n    <tr>\n      <th>445</th>\n      <td>25</td>\n      <td>{'age': [{'age_group': 'Unknown', 'count': 0, ...</td>\n      <td>216</td>\n      <td>62568</td>\n    </tr>\n    <tr>\n      <th>446</th>\n      <td>48</td>\n      <td>{'age': [{'age_group': 'Unknown', 'count': 0, ...</td>\n      <td>409</td>\n      <td>62618</td>\n    </tr>\n    <tr>\n      <th>447</th>\n      <td>10</td>\n      <td>{'age': [{'age_group': 'Unknown', 'count': 0, ...</td>\n      <td>263</td>\n      <td>62629</td>\n    </tr>\n    <tr>\n      <th>448</th>\n      <td>22</td>\n      <td>{'age': [{'age_group': 'Unknown', 'count': 0, ...</td>\n      <td>385</td>\n      <td>62650</td>\n    </tr>\n    <tr>\n      <th>449</th>\n      <td>9</td>\n      <td>{'age': [{'age_group': 'Unknown', 'count': 0, ...</td>\n      <td>369</td>\n      <td>62656</td>\n    </tr>\n    <tr>\n      <th>450</th>\n      <td>9</td>\n      <td>{'age': [{'age_group': 'Unknown', 'count': 0, ...</td>\n      <td>71</td>\n      <td>62664</td>\n    </tr>\n    <tr>\n      <th>451</th>\n      <td>6</td>\n      <td>{'age': [{'age_group': 'Unknown', 'count': 0, ...</td>\n      <td>130</td>\n      <td>62675</td>\n    </tr>\n    <tr>\n      <th>452</th>\n      <td>63</td>\n      <td>{'age': [{'age_group': 'Unknown', 'count': 0, ...</td>\n      <td>262</td>\n      <td>62684</td>\n    </tr>\n    <tr>\n      <th>453</th>\n      <td>48</td>\n      <td>{'age': [{'age_group': 'Unknown', 'count': 0, ...</td>\n      <td>880</td>\n      <td>62702</td>\n    </tr>\n    <tr>\n      <th>454</th>\n      <td>41</td>\n      <td>{'age': [{'age_group': 'Unknown', 'count': 0, ...</td>\n      <td>700</td>\n      <td>62703</td>\n    </tr>\n    <tr>\n      <th>455</th>\n      <td>32</td>\n      <td>{'age': [{'age_group': 'Unknown', 'count': 0, ...</td>\n      <td>842</td>\n      <td>62704</td>\n    </tr>\n    <tr>\n      <th>456</th>\n      <td>11</td>\n      <td>{'age': [{'age_group': 'Unknown', 'count': 0, ...</td>\n      <td>168</td>\n      <td>62707</td>\n    </tr>\n    <tr>\n      <th>457</th>\n      <td>17</td>\n      <td>{'age': [{'age_group': 'Unknown', 'count': 0, ...</td>\n      <td>318</td>\n      <td>62711</td>\n    </tr>\n    <tr>\n      <th>458</th>\n      <td>50</td>\n      <td>{'age': [{'age_group': 'Unknown', 'count': 0, ...</td>\n      <td>509</td>\n      <td>62801</td>\n    </tr>\n    <tr>\n      <th>459</th>\n      <td>14</td>\n      <td>{'age': [{'age_group': 'Unknown', 'count': 0, ...</td>\n      <td>196</td>\n      <td>62832</td>\n    </tr>\n    <tr>\n      <th>460</th>\n      <td>77</td>\n      <td>{'age': [{'age_group': 'Unknown', 'count': 0, ...</td>\n      <td>525</td>\n      <td>62864</td>\n    </tr>\n    <tr>\n      <th>461</th>\n      <td>89</td>\n      <td>{'age': [{'age_group': 'Unknown', 'count': 0, ...</td>\n      <td>508</td>\n      <td>62901</td>\n    </tr>\n    <tr>\n      <th>462</th>\n      <td>12</td>\n      <td>{'age': [{'age_group': 'Unknown', 'count': 0, ...</td>\n      <td>71</td>\n      <td>62902</td>\n    </tr>\n    <tr>\n      <th>463</th>\n      <td>30</td>\n      <td>{'age': [{'age_group': 'Unknown', 'count': 0, ...</td>\n      <td>206</td>\n      <td>62906</td>\n    </tr>\n    <tr>\n      <th>464</th>\n      <td>12</td>\n      <td>{'age': [{'age_group': 'Unknown', 'count': 0, ...</td>\n      <td>42</td>\n      <td>62907</td>\n    </tr>\n    <tr>\n      <th>465</th>\n      <td>10</td>\n      <td>{'age': [{'age_group': 'Unknown', 'count': 0, ...</td>\n      <td>147</td>\n      <td>62918</td>\n    </tr>\n    <tr>\n      <th>466</th>\n      <td>20</td>\n      <td>{'age': [{'age_group': 'Unknown', 'count': 0, ...</td>\n      <td>83</td>\n      <td>62920</td>\n    </tr>\n    <tr>\n      <th>467</th>\n      <td>6</td>\n      <td>{'age': [{'age_group': 'Unknown', 'count': 0, ...</td>\n      <td>204</td>\n      <td>62948</td>\n    </tr>\n    <tr>\n      <th>468</th>\n      <td>23</td>\n      <td>{'age': [{'age_group': 'Unknown', 'count': 0, ...</td>\n      <td>480</td>\n      <td>62959</td>\n    </tr>\n    <tr>\n      <th>469</th>\n      <td>40</td>\n      <td>{'age': [{'age_group': 'Unknown', 'count': 0, ...</td>\n      <td>324</td>\n      <td>62966</td>\n    </tr>\n    <tr>\n      <th>470</th>\n      <td>20</td>\n      <td>{'age': [{'age_group': 'Unknown', 'count': 0, ...</td>\n      <td>54</td>\n      <td>62992</td>\n    </tr>\n  </tbody>\n</table>\n<p>471 rows × 4 columns</p>\n</div>"
     },
     "metadata": {},
     "output_type": "execute_result",
     "execution_count": 11
    }
   ],
   "source": [
    "zipcode_data"
   ],
   "metadata": {
    "collapsed": false,
    "pycharm": {
     "name": "#%%\n",
     "is_executing": false
    }
   }
  },
  {
   "cell_type": "code",
   "execution_count": 12,
   "outputs": [
    {
     "data": {
      "text/plain": "id            object\ngeometry    geometry\ndtype: object"
     },
     "metadata": {},
     "output_type": "execute_result",
     "execution_count": 12
    }
   ],
   "source": [
    "zipcode_gpd.dtypes"
   ],
   "metadata": {
    "collapsed": false,
    "pycharm": {
     "name": "#%%\n",
     "is_executing": false
    }
   }
  },
  {
   "cell_type": "code",
   "execution_count": 13,
   "outputs": [],
   "source": [
    "zipcode_final_gpd = pd.merge(zipcode_gpd,zipcode_data, how = 'left', left_on=['id'], right_on=['zip'])"
   ],
   "metadata": {
    "collapsed": false,
    "pycharm": {
     "name": "#%%\n",
     "is_executing": false
    }
   }
  },
  {
   "cell_type": "code",
   "execution_count": 14,
   "outputs": [],
   "source": [
    "zipcode_final_gpd['confirmed_cases'] = zipcode_final_gpd['confirmed_cases'].replace(np.nan,0)\n",
    "zipcode_final_gpd['total_tested'] = zipcode_final_gpd['total_tested'].replace(np.nan,0)\n",
    "zipcode_final_gpd = zipcode_final_gpd[['id','confirmed_cases','total_tested','geometry']]"
   ],
   "metadata": {
    "collapsed": false,
    "pycharm": {
     "name": "#%%\n",
     "is_executing": false
    }
   }
  },
  {
   "cell_type": "code",
   "execution_count": 15,
   "outputs": [
    {
     "name": "stdout",
     "text": [
      "done\n"
     ],
     "output_type": "stream"
    }
   ],
   "source": [
    "zipcode_final_gpd.to_file('dph_zipcode_data.geojson', driver='GeoJSON', encoding='utf-8')\n",
    "print('done')"
   ],
   "metadata": {
    "collapsed": false,
    "pycharm": {
     "name": "#%%\n",
     "is_executing": false
    }
   }
  },
  {
   "cell_type": "markdown",
   "source": [
    "Static County Data Generation"
   ],
   "metadata": {
    "collapsed": false,
    "pycharm": {
     "name": "#%% md\n"
    }
   }
  },
  {
   "cell_type": "code",
   "execution_count": 16,
   "outputs": [],
   "source": [
    "county_static = pd.merge(county_gpd, county_data, how=\"left\", left_on=\"id\",right_on=\"County\")"
   ],
   "metadata": {
    "collapsed": false,
    "pycharm": {
     "name": "#%%\n",
     "is_executing": false
    }
   }
  },
  {
   "cell_type": "code",
   "execution_count": 17,
   "outputs": [
    {
     "data": {
      "text/plain": "             id                                           geometry  \\\n0       McHenry  POLYGON ((-88.70742 42.49352, -88.70741 42.493...   \n1         Boone  POLYGON ((-88.70742 42.49352, -88.70750 42.493...   \n2          Ogle  POLYGON ((-89.68809 42.19950, -89.68807 42.184...   \n3          Will  POLYGON ((-88.26146 41.72439, -88.26103 41.708...   \n4       LaSalle  POLYGON ((-88.93885 41.62837, -88.93891 41.628...   \n5        Bureau  POLYGON ((-89.63155 41.58491, -89.64769 41.584...   \n6         Henry  POLYGON ((-89.86249 41.58401, -89.87517 41.584...   \n7        Grundy  POLYGON ((-88.25217 41.46277, -88.27149 41.462...   \n8        Mercer  POLYGON ((-90.43382 41.32698, -90.45335 41.326...   \n9        Putnam  POLYGON ((-89.16353 41.30991, -89.16500 41.309...   \n10       McLean  POLYGON ((-88.92943 40.75330, -88.94863 40.752...   \n11     Tazewell  POLYGON ((-89.26933 40.59450, -89.26948 40.601...   \n12       Fulton  POLYGON ((-89.98606 40.71225, -90.00002 40.712...   \n13        Adams  POLYGON ((-91.50535 40.20029, -91.50436 40.198...   \n14    Champaign  POLYGON ((-88.46003 40.39850, -88.46009 40.383...   \n15        Logan  POLYGON ((-89.60299 40.32011, -89.60273 40.305...   \n16        Piatt  POLYGON ((-88.57476 40.28158, -88.58665 40.267...   \n17        Stark  POLYGON ((-89.85770 41.23450, -89.86772 41.234...   \n18         Knox  POLYGON ((-89.98529 41.14944, -90.00422 41.149...   \n19     Marshall  POLYGON ((-89.63903 41.14845, -89.63905 41.133...   \n20   Livingston  POLYGON ((-88.25174 41.11422, -88.26009 41.114...   \n21    Henderson  POLYGON ((-90.78527 41.06922, -90.80435 41.070...   \n22       Warren  POLYGON ((-90.43990 41.06383, -90.45876 41.063...   \n23     Iroquois  POLYGON ((-87.52616 41.01035, -87.54231 41.010...   \n24       Peoria  POLYGON ((-89.98593 40.97465, -89.98599 40.961...   \n25     Woodford  POLYGON ((-89.04765 40.92567, -89.06702 40.925...   \n26      Carroll  POLYGON ((-89.91979 42.19678, -89.93903 42.196...   \n27         Kane  POLYGON ((-88.58859 42.15366, -88.58852 42.139...   \n28       DeKalb  POLYGON ((-88.70559 42.15355, -88.72510 42.153...   \n29         Cook  POLYGON ((-88.23858 42.15425, -88.23865 42.139...   \n..          ...                                                ...   \n73       Hardin  POLYGON ((-88.37538 37.59960, -88.39355 37.599...   \n74       Massac  POLYGON ((-88.92877 37.30294, -88.92877 37.302...   \n75    McDonough  POLYGON ((-90.78961 40.63568, -90.78967 40.635...   \n76    Vermilion  POLYGON ((-87.93508 40.48596, -87.93473 40.471...   \n77        Macon  POLYGON ((-89.14466 40.04885, -89.14459 40.034...   \n78     Sangamon  POLYGON ((-89.21798 39.91706, -89.23638 39.916...   \n79        Edgar  POLYGON ((-87.93761 39.87996, -87.93729 39.865...   \n80       Morgan  POLYGON ((-89.99438 39.87291, -90.01303 39.872...   \n81    Christian  POLYGON ((-89.21767 39.81320, -89.21788 39.813...   \n82     Moultrie  POLYGON ((-88.74551 39.79203, -88.75854 39.792...   \n83        Scott  POLYGON ((-90.58103 39.52172, -90.56211 39.521...   \n84        Coles  POLYGON ((-88.47247 39.65162, -88.47201 39.637...   \n85       Shelby  POLYGON ((-89.02552 39.65448, -89.02541 39.640...   \n86   Montgomery  POLYGON ((-89.70178 39.52331, -89.70144 39.508...   \n87     Macoupin  POLYGON ((-89.92568 39.52239, -89.94431 39.522...   \n88        Clark  POLYGON ((-87.96033 39.48136, -87.97896 39.481...   \n89     Crawford  POLYGON ((-87.95037 39.17505, -87.95003 39.158...   \n90       Jasper  POLYGON ((-88.00774 39.17389, -88.02264 39.173...   \n91         Bond  POLYGON ((-89.25027 39.02822, -89.26896 39.028...   \n92      Madison  POLYGON ((-89.63924 38.99914, -89.64215 38.999...   \n93      Fayette  POLYGON ((-89.13957 39.21785, -89.15807 39.217...   \n94    St. Clair  POLYGON ((-89.70703 38.65503, -89.72531 38.655...   \n95        Wayne  POLYGON ((-88.69830 38.60606, -88.69830 38.605...   \n96       Monroe  POLYGON ((-89.89905 38.22077, -89.89905 38.220...   \n97    Jefferson  POLYGON ((-89.14445 38.47387, -89.14462 38.460...   \n98     Lawrence  POLYGON ((-87.90806 38.85013, -87.90819 38.835...   \n99       Marion  POLYGON ((-89.13844 38.73633, -89.13847 38.721...   \n100       Union  POLYGON ((-89.04143 37.59650, -89.06017 37.597...   \n101        Pope  POLYGON ((-88.70860 37.59926, -88.70876 37.584...   \n102     Chicago  MULTIPOLYGON (((-87.93514 42.00089, -87.93521 ...   \n\n         County  confirmed_cases  \\\n0       McHenry              897   \n1         Boone              177   \n2          Ogle              141   \n3          Will             3561   \n4       LaSalle               93   \n5        Bureau               13   \n6         Henry               59   \n7        Grundy               55   \n8        Mercer               11   \n9        Putnam                0   \n10       McLean              112   \n11     Tazewell               58   \n12       Fulton                3   \n13        Adams               41   \n14    Champaign              247   \n15        Logan                9   \n16        Piatt                7   \n17        Stark                1   \n18         Knox               69   \n19     Marshall                4   \n20   Livingston               24   \n21    Henderson                6   \n22       Warren               93   \n23     Iroquois               85   \n24       Peoria              132   \n25     Woodford               15   \n26      Carroll               10   \n27         Kane             2668   \n28       DeKalb              160   \n29         Cook            20716   \n..          ...              ...   \n73       Hardin                1   \n74       Massac                6   \n75    McDonough               48   \n76    Vermilion               25   \n77        Macon              138   \n78     Sangamon              253   \n79        Edgar                0   \n80       Morgan               28   \n81    Christian               29   \n82     Moultrie                6   \n83        Scott                0   \n84        Coles               22   \n85       Shelby               10   \n86   Montgomery               34   \n87     Macoupin               38   \n88        Clark                5   \n89     Crawford               10   \n90       Jasper               46   \n91         Bond                8   \n92      Madison              401   \n93      Fayette               17   \n94    St. Clair              648   \n95        Wayne                3   \n96       Monroe               79   \n97    Jefferson               89   \n98     Lawrence                3   \n99       Marion               41   \n100       Union               58   \n101        Pope                1   \n102     Chicago            29535   \n\n                                          demographics  total_tested  \n0    {'age': [{'age_group': 'Unknown', 'count': 0, ...          5052  \n1    {'age': [{'age_group': 'Unknown', 'count': 0, ...           702  \n2    {'age': [{'age_group': 'Unknown', 'count': 0, ...          1381  \n3    {'age': [{'age_group': 'Unknown', 'count': 0, ...         18707  \n4    {'age': [{'age_group': 'Unknown', 'count': 0, ...          1548  \n5    {'age': [{'age_group': 'Unknown', 'count': 0, ...           366  \n6    {'age': [{'age_group': 'Unknown', 'count': 0, ...           692  \n7    {'age': [{'age_group': 'Unknown', 'count': 0, ...           773  \n8    {'age': [{'age_group': 'Unknown', 'count': 0, ...           184  \n9    {'age': [{'age_group': 'Unknown', 'count': 0, ...            55  \n10   {'age': [{'age_group': 'Unknown', 'count': 0, ...          3309  \n11   {'age': [{'age_group': 'Unknown', 'count': 0, ...          2357  \n12   {'age': [{'age_group': 'Unknown', 'count': 0, ...           251  \n13   {'age': [{'age_group': 'Unknown', 'count': 0, ...          1474  \n14   {'age': [{'age_group': 'Unknown', 'count': 0, ...          4682  \n15   {'age': [{'age_group': 'Unknown', 'count': 0, ...           532  \n16   {'age': [{'age_group': 'Unknown', 'count': 0, ...           275  \n17   {'age': [{'age_group': 'Unknown', 'count': 0, ...            52  \n18   {'age': [{'age_group': 'Unknown', 'count': 0, ...           846  \n19   {'age': [{'age_group': 'Unknown', 'count': 0, ...           106  \n20   {'age': [{'age_group': 'Unknown', 'count': 0, ...           494  \n21   {'age': [{'age_group': 'Unknown', 'count': 0, ...            97  \n22   {'age': [{'age_group': 'Unknown', 'count': 0, ...           320  \n23   {'age': [{'age_group': 'Unknown', 'count': 0, ...           508  \n24   {'age': [{'age_group': 'Unknown', 'count': 0, ...          3273  \n25   {'age': [{'age_group': 'Unknown', 'count': 0, ...           457  \n26   {'age': [{'age_group': 'Unknown', 'count': 0, ...            96  \n27   {'age': [{'age_group': 'Unknown', 'count': 0, ...         10772  \n28   {'age': [{'age_group': 'Unknown', 'count': 0, ...          1410  \n29   {'age': [{'age_group': 'Unknown', 'count': 26,...         98370  \n..                                                 ...           ...  \n73   {'age': [{'age_group': 'Unknown', 'count': 0, ...            24  \n74   {'age': [{'age_group': 'Unknown', 'count': 0, ...            95  \n75   {'age': [{'age_group': 'Unknown', 'count': 0, ...           475  \n76   {'age': [{'age_group': 'Unknown', 'count': 0, ...           929  \n77   {'age': [{'age_group': 'Unknown', 'count': 0, ...          1320  \n78   {'age': [{'age_group': 'Unknown', 'count': 0, ...          4942  \n79   {'age': [{'age_group': 'Unknown', 'count': 0, ...           131  \n80   {'age': [{'age_group': 'Unknown', 'count': 0, ...           529  \n81   {'age': [{'age_group': 'Unknown', 'count': 0, ...           447  \n82   {'age': [{'age_group': 'Unknown', 'count': 0, ...            92  \n83   {'age': [{'age_group': 'Unknown', 'count': 0, ...            70  \n84   {'age': [{'age_group': 'Unknown', 'count': 0, ...           441  \n85   {'age': [{'age_group': 'Unknown', 'count': 0, ...           130  \n86   {'age': [{'age_group': 'Unknown', 'count': 0, ...           634  \n87   {'age': [{'age_group': 'Unknown', 'count': 0, ...           757  \n88   {'age': [{'age_group': 'Unknown', 'count': 0, ...           113  \n89   {'age': [{'age_group': 'Unknown', 'count': 0, ...           190  \n90   {'age': [{'age_group': 'Unknown', 'count': 0, ...           250  \n91   {'age': [{'age_group': 'Unknown', 'count': 0, ...           157  \n92   {'age': [{'age_group': 'Unknown', 'count': 0, ...          2455  \n93   {'age': [{'age_group': 'Unknown', 'count': 0, ...           189  \n94   {'age': [{'age_group': 'Unknown', 'count': 0, ...          3353  \n95   {'age': [{'age_group': 'Unknown', 'count': 0, ...           183  \n96   {'age': [{'age_group': 'Unknown', 'count': 0, ...           295  \n97   {'age': [{'age_group': 'Unknown', 'count': 0, ...           738  \n98   {'age': [{'age_group': 'Unknown', 'count': 0, ...           168  \n99   {'age': [{'age_group': 'Unknown', 'count': 0, ...           768  \n100  {'age': [{'age_group': 'Unknown', 'count': 0, ...           430  \n101  {'age': [{'age_group': 'Unknown', 'count': 0, ...            26  \n102  {'age': [{'age_group': 'Unknown', 'count': 24,...        122700  \n\n[103 rows x 6 columns]",
      "text/html": "<div>\n<style scoped>\n    .dataframe tbody tr th:only-of-type {\n        vertical-align: middle;\n    }\n\n    .dataframe tbody tr th {\n        vertical-align: top;\n    }\n\n    .dataframe thead th {\n        text-align: right;\n    }\n</style>\n<table border=\"1\" class=\"dataframe\">\n  <thead>\n    <tr style=\"text-align: right;\">\n      <th></th>\n      <th>id</th>\n      <th>geometry</th>\n      <th>County</th>\n      <th>confirmed_cases</th>\n      <th>demographics</th>\n      <th>total_tested</th>\n    </tr>\n  </thead>\n  <tbody>\n    <tr>\n      <th>0</th>\n      <td>McHenry</td>\n      <td>POLYGON ((-88.70742 42.49352, -88.70741 42.493...</td>\n      <td>McHenry</td>\n      <td>897</td>\n      <td>{'age': [{'age_group': 'Unknown', 'count': 0, ...</td>\n      <td>5052</td>\n    </tr>\n    <tr>\n      <th>1</th>\n      <td>Boone</td>\n      <td>POLYGON ((-88.70742 42.49352, -88.70750 42.493...</td>\n      <td>Boone</td>\n      <td>177</td>\n      <td>{'age': [{'age_group': 'Unknown', 'count': 0, ...</td>\n      <td>702</td>\n    </tr>\n    <tr>\n      <th>2</th>\n      <td>Ogle</td>\n      <td>POLYGON ((-89.68809 42.19950, -89.68807 42.184...</td>\n      <td>Ogle</td>\n      <td>141</td>\n      <td>{'age': [{'age_group': 'Unknown', 'count': 0, ...</td>\n      <td>1381</td>\n    </tr>\n    <tr>\n      <th>3</th>\n      <td>Will</td>\n      <td>POLYGON ((-88.26146 41.72439, -88.26103 41.708...</td>\n      <td>Will</td>\n      <td>3561</td>\n      <td>{'age': [{'age_group': 'Unknown', 'count': 0, ...</td>\n      <td>18707</td>\n    </tr>\n    <tr>\n      <th>4</th>\n      <td>LaSalle</td>\n      <td>POLYGON ((-88.93885 41.62837, -88.93891 41.628...</td>\n      <td>LaSalle</td>\n      <td>93</td>\n      <td>{'age': [{'age_group': 'Unknown', 'count': 0, ...</td>\n      <td>1548</td>\n    </tr>\n    <tr>\n      <th>5</th>\n      <td>Bureau</td>\n      <td>POLYGON ((-89.63155 41.58491, -89.64769 41.584...</td>\n      <td>Bureau</td>\n      <td>13</td>\n      <td>{'age': [{'age_group': 'Unknown', 'count': 0, ...</td>\n      <td>366</td>\n    </tr>\n    <tr>\n      <th>6</th>\n      <td>Henry</td>\n      <td>POLYGON ((-89.86249 41.58401, -89.87517 41.584...</td>\n      <td>Henry</td>\n      <td>59</td>\n      <td>{'age': [{'age_group': 'Unknown', 'count': 0, ...</td>\n      <td>692</td>\n    </tr>\n    <tr>\n      <th>7</th>\n      <td>Grundy</td>\n      <td>POLYGON ((-88.25217 41.46277, -88.27149 41.462...</td>\n      <td>Grundy</td>\n      <td>55</td>\n      <td>{'age': [{'age_group': 'Unknown', 'count': 0, ...</td>\n      <td>773</td>\n    </tr>\n    <tr>\n      <th>8</th>\n      <td>Mercer</td>\n      <td>POLYGON ((-90.43382 41.32698, -90.45335 41.326...</td>\n      <td>Mercer</td>\n      <td>11</td>\n      <td>{'age': [{'age_group': 'Unknown', 'count': 0, ...</td>\n      <td>184</td>\n    </tr>\n    <tr>\n      <th>9</th>\n      <td>Putnam</td>\n      <td>POLYGON ((-89.16353 41.30991, -89.16500 41.309...</td>\n      <td>Putnam</td>\n      <td>0</td>\n      <td>{'age': [{'age_group': 'Unknown', 'count': 0, ...</td>\n      <td>55</td>\n    </tr>\n    <tr>\n      <th>10</th>\n      <td>McLean</td>\n      <td>POLYGON ((-88.92943 40.75330, -88.94863 40.752...</td>\n      <td>McLean</td>\n      <td>112</td>\n      <td>{'age': [{'age_group': 'Unknown', 'count': 0, ...</td>\n      <td>3309</td>\n    </tr>\n    <tr>\n      <th>11</th>\n      <td>Tazewell</td>\n      <td>POLYGON ((-89.26933 40.59450, -89.26948 40.601...</td>\n      <td>Tazewell</td>\n      <td>58</td>\n      <td>{'age': [{'age_group': 'Unknown', 'count': 0, ...</td>\n      <td>2357</td>\n    </tr>\n    <tr>\n      <th>12</th>\n      <td>Fulton</td>\n      <td>POLYGON ((-89.98606 40.71225, -90.00002 40.712...</td>\n      <td>Fulton</td>\n      <td>3</td>\n      <td>{'age': [{'age_group': 'Unknown', 'count': 0, ...</td>\n      <td>251</td>\n    </tr>\n    <tr>\n      <th>13</th>\n      <td>Adams</td>\n      <td>POLYGON ((-91.50535 40.20029, -91.50436 40.198...</td>\n      <td>Adams</td>\n      <td>41</td>\n      <td>{'age': [{'age_group': 'Unknown', 'count': 0, ...</td>\n      <td>1474</td>\n    </tr>\n    <tr>\n      <th>14</th>\n      <td>Champaign</td>\n      <td>POLYGON ((-88.46003 40.39850, -88.46009 40.383...</td>\n      <td>Champaign</td>\n      <td>247</td>\n      <td>{'age': [{'age_group': 'Unknown', 'count': 0, ...</td>\n      <td>4682</td>\n    </tr>\n    <tr>\n      <th>15</th>\n      <td>Logan</td>\n      <td>POLYGON ((-89.60299 40.32011, -89.60273 40.305...</td>\n      <td>Logan</td>\n      <td>9</td>\n      <td>{'age': [{'age_group': 'Unknown', 'count': 0, ...</td>\n      <td>532</td>\n    </tr>\n    <tr>\n      <th>16</th>\n      <td>Piatt</td>\n      <td>POLYGON ((-88.57476 40.28158, -88.58665 40.267...</td>\n      <td>Piatt</td>\n      <td>7</td>\n      <td>{'age': [{'age_group': 'Unknown', 'count': 0, ...</td>\n      <td>275</td>\n    </tr>\n    <tr>\n      <th>17</th>\n      <td>Stark</td>\n      <td>POLYGON ((-89.85770 41.23450, -89.86772 41.234...</td>\n      <td>Stark</td>\n      <td>1</td>\n      <td>{'age': [{'age_group': 'Unknown', 'count': 0, ...</td>\n      <td>52</td>\n    </tr>\n    <tr>\n      <th>18</th>\n      <td>Knox</td>\n      <td>POLYGON ((-89.98529 41.14944, -90.00422 41.149...</td>\n      <td>Knox</td>\n      <td>69</td>\n      <td>{'age': [{'age_group': 'Unknown', 'count': 0, ...</td>\n      <td>846</td>\n    </tr>\n    <tr>\n      <th>19</th>\n      <td>Marshall</td>\n      <td>POLYGON ((-89.63903 41.14845, -89.63905 41.133...</td>\n      <td>Marshall</td>\n      <td>4</td>\n      <td>{'age': [{'age_group': 'Unknown', 'count': 0, ...</td>\n      <td>106</td>\n    </tr>\n    <tr>\n      <th>20</th>\n      <td>Livingston</td>\n      <td>POLYGON ((-88.25174 41.11422, -88.26009 41.114...</td>\n      <td>Livingston</td>\n      <td>24</td>\n      <td>{'age': [{'age_group': 'Unknown', 'count': 0, ...</td>\n      <td>494</td>\n    </tr>\n    <tr>\n      <th>21</th>\n      <td>Henderson</td>\n      <td>POLYGON ((-90.78527 41.06922, -90.80435 41.070...</td>\n      <td>Henderson</td>\n      <td>6</td>\n      <td>{'age': [{'age_group': 'Unknown', 'count': 0, ...</td>\n      <td>97</td>\n    </tr>\n    <tr>\n      <th>22</th>\n      <td>Warren</td>\n      <td>POLYGON ((-90.43990 41.06383, -90.45876 41.063...</td>\n      <td>Warren</td>\n      <td>93</td>\n      <td>{'age': [{'age_group': 'Unknown', 'count': 0, ...</td>\n      <td>320</td>\n    </tr>\n    <tr>\n      <th>23</th>\n      <td>Iroquois</td>\n      <td>POLYGON ((-87.52616 41.01035, -87.54231 41.010...</td>\n      <td>Iroquois</td>\n      <td>85</td>\n      <td>{'age': [{'age_group': 'Unknown', 'count': 0, ...</td>\n      <td>508</td>\n    </tr>\n    <tr>\n      <th>24</th>\n      <td>Peoria</td>\n      <td>POLYGON ((-89.98593 40.97465, -89.98599 40.961...</td>\n      <td>Peoria</td>\n      <td>132</td>\n      <td>{'age': [{'age_group': 'Unknown', 'count': 0, ...</td>\n      <td>3273</td>\n    </tr>\n    <tr>\n      <th>25</th>\n      <td>Woodford</td>\n      <td>POLYGON ((-89.04765 40.92567, -89.06702 40.925...</td>\n      <td>Woodford</td>\n      <td>15</td>\n      <td>{'age': [{'age_group': 'Unknown', 'count': 0, ...</td>\n      <td>457</td>\n    </tr>\n    <tr>\n      <th>26</th>\n      <td>Carroll</td>\n      <td>POLYGON ((-89.91979 42.19678, -89.93903 42.196...</td>\n      <td>Carroll</td>\n      <td>10</td>\n      <td>{'age': [{'age_group': 'Unknown', 'count': 0, ...</td>\n      <td>96</td>\n    </tr>\n    <tr>\n      <th>27</th>\n      <td>Kane</td>\n      <td>POLYGON ((-88.58859 42.15366, -88.58852 42.139...</td>\n      <td>Kane</td>\n      <td>2668</td>\n      <td>{'age': [{'age_group': 'Unknown', 'count': 0, ...</td>\n      <td>10772</td>\n    </tr>\n    <tr>\n      <th>28</th>\n      <td>DeKalb</td>\n      <td>POLYGON ((-88.70559 42.15355, -88.72510 42.153...</td>\n      <td>DeKalb</td>\n      <td>160</td>\n      <td>{'age': [{'age_group': 'Unknown', 'count': 0, ...</td>\n      <td>1410</td>\n    </tr>\n    <tr>\n      <th>29</th>\n      <td>Cook</td>\n      <td>POLYGON ((-88.23858 42.15425, -88.23865 42.139...</td>\n      <td>Cook</td>\n      <td>20716</td>\n      <td>{'age': [{'age_group': 'Unknown', 'count': 26,...</td>\n      <td>98370</td>\n    </tr>\n    <tr>\n      <th>...</th>\n      <td>...</td>\n      <td>...</td>\n      <td>...</td>\n      <td>...</td>\n      <td>...</td>\n      <td>...</td>\n    </tr>\n    <tr>\n      <th>73</th>\n      <td>Hardin</td>\n      <td>POLYGON ((-88.37538 37.59960, -88.39355 37.599...</td>\n      <td>Hardin</td>\n      <td>1</td>\n      <td>{'age': [{'age_group': 'Unknown', 'count': 0, ...</td>\n      <td>24</td>\n    </tr>\n    <tr>\n      <th>74</th>\n      <td>Massac</td>\n      <td>POLYGON ((-88.92877 37.30294, -88.92877 37.302...</td>\n      <td>Massac</td>\n      <td>6</td>\n      <td>{'age': [{'age_group': 'Unknown', 'count': 0, ...</td>\n      <td>95</td>\n    </tr>\n    <tr>\n      <th>75</th>\n      <td>McDonough</td>\n      <td>POLYGON ((-90.78961 40.63568, -90.78967 40.635...</td>\n      <td>McDonough</td>\n      <td>48</td>\n      <td>{'age': [{'age_group': 'Unknown', 'count': 0, ...</td>\n      <td>475</td>\n    </tr>\n    <tr>\n      <th>76</th>\n      <td>Vermilion</td>\n      <td>POLYGON ((-87.93508 40.48596, -87.93473 40.471...</td>\n      <td>Vermilion</td>\n      <td>25</td>\n      <td>{'age': [{'age_group': 'Unknown', 'count': 0, ...</td>\n      <td>929</td>\n    </tr>\n    <tr>\n      <th>77</th>\n      <td>Macon</td>\n      <td>POLYGON ((-89.14466 40.04885, -89.14459 40.034...</td>\n      <td>Macon</td>\n      <td>138</td>\n      <td>{'age': [{'age_group': 'Unknown', 'count': 0, ...</td>\n      <td>1320</td>\n    </tr>\n    <tr>\n      <th>78</th>\n      <td>Sangamon</td>\n      <td>POLYGON ((-89.21798 39.91706, -89.23638 39.916...</td>\n      <td>Sangamon</td>\n      <td>253</td>\n      <td>{'age': [{'age_group': 'Unknown', 'count': 0, ...</td>\n      <td>4942</td>\n    </tr>\n    <tr>\n      <th>79</th>\n      <td>Edgar</td>\n      <td>POLYGON ((-87.93761 39.87996, -87.93729 39.865...</td>\n      <td>Edgar</td>\n      <td>0</td>\n      <td>{'age': [{'age_group': 'Unknown', 'count': 0, ...</td>\n      <td>131</td>\n    </tr>\n    <tr>\n      <th>80</th>\n      <td>Morgan</td>\n      <td>POLYGON ((-89.99438 39.87291, -90.01303 39.872...</td>\n      <td>Morgan</td>\n      <td>28</td>\n      <td>{'age': [{'age_group': 'Unknown', 'count': 0, ...</td>\n      <td>529</td>\n    </tr>\n    <tr>\n      <th>81</th>\n      <td>Christian</td>\n      <td>POLYGON ((-89.21767 39.81320, -89.21788 39.813...</td>\n      <td>Christian</td>\n      <td>29</td>\n      <td>{'age': [{'age_group': 'Unknown', 'count': 0, ...</td>\n      <td>447</td>\n    </tr>\n    <tr>\n      <th>82</th>\n      <td>Moultrie</td>\n      <td>POLYGON ((-88.74551 39.79203, -88.75854 39.792...</td>\n      <td>Moultrie</td>\n      <td>6</td>\n      <td>{'age': [{'age_group': 'Unknown', 'count': 0, ...</td>\n      <td>92</td>\n    </tr>\n    <tr>\n      <th>83</th>\n      <td>Scott</td>\n      <td>POLYGON ((-90.58103 39.52172, -90.56211 39.521...</td>\n      <td>Scott</td>\n      <td>0</td>\n      <td>{'age': [{'age_group': 'Unknown', 'count': 0, ...</td>\n      <td>70</td>\n    </tr>\n    <tr>\n      <th>84</th>\n      <td>Coles</td>\n      <td>POLYGON ((-88.47247 39.65162, -88.47201 39.637...</td>\n      <td>Coles</td>\n      <td>22</td>\n      <td>{'age': [{'age_group': 'Unknown', 'count': 0, ...</td>\n      <td>441</td>\n    </tr>\n    <tr>\n      <th>85</th>\n      <td>Shelby</td>\n      <td>POLYGON ((-89.02552 39.65448, -89.02541 39.640...</td>\n      <td>Shelby</td>\n      <td>10</td>\n      <td>{'age': [{'age_group': 'Unknown', 'count': 0, ...</td>\n      <td>130</td>\n    </tr>\n    <tr>\n      <th>86</th>\n      <td>Montgomery</td>\n      <td>POLYGON ((-89.70178 39.52331, -89.70144 39.508...</td>\n      <td>Montgomery</td>\n      <td>34</td>\n      <td>{'age': [{'age_group': 'Unknown', 'count': 0, ...</td>\n      <td>634</td>\n    </tr>\n    <tr>\n      <th>87</th>\n      <td>Macoupin</td>\n      <td>POLYGON ((-89.92568 39.52239, -89.94431 39.522...</td>\n      <td>Macoupin</td>\n      <td>38</td>\n      <td>{'age': [{'age_group': 'Unknown', 'count': 0, ...</td>\n      <td>757</td>\n    </tr>\n    <tr>\n      <th>88</th>\n      <td>Clark</td>\n      <td>POLYGON ((-87.96033 39.48136, -87.97896 39.481...</td>\n      <td>Clark</td>\n      <td>5</td>\n      <td>{'age': [{'age_group': 'Unknown', 'count': 0, ...</td>\n      <td>113</td>\n    </tr>\n    <tr>\n      <th>89</th>\n      <td>Crawford</td>\n      <td>POLYGON ((-87.95037 39.17505, -87.95003 39.158...</td>\n      <td>Crawford</td>\n      <td>10</td>\n      <td>{'age': [{'age_group': 'Unknown', 'count': 0, ...</td>\n      <td>190</td>\n    </tr>\n    <tr>\n      <th>90</th>\n      <td>Jasper</td>\n      <td>POLYGON ((-88.00774 39.17389, -88.02264 39.173...</td>\n      <td>Jasper</td>\n      <td>46</td>\n      <td>{'age': [{'age_group': 'Unknown', 'count': 0, ...</td>\n      <td>250</td>\n    </tr>\n    <tr>\n      <th>91</th>\n      <td>Bond</td>\n      <td>POLYGON ((-89.25027 39.02822, -89.26896 39.028...</td>\n      <td>Bond</td>\n      <td>8</td>\n      <td>{'age': [{'age_group': 'Unknown', 'count': 0, ...</td>\n      <td>157</td>\n    </tr>\n    <tr>\n      <th>92</th>\n      <td>Madison</td>\n      <td>POLYGON ((-89.63924 38.99914, -89.64215 38.999...</td>\n      <td>Madison</td>\n      <td>401</td>\n      <td>{'age': [{'age_group': 'Unknown', 'count': 0, ...</td>\n      <td>2455</td>\n    </tr>\n    <tr>\n      <th>93</th>\n      <td>Fayette</td>\n      <td>POLYGON ((-89.13957 39.21785, -89.15807 39.217...</td>\n      <td>Fayette</td>\n      <td>17</td>\n      <td>{'age': [{'age_group': 'Unknown', 'count': 0, ...</td>\n      <td>189</td>\n    </tr>\n    <tr>\n      <th>94</th>\n      <td>St. Clair</td>\n      <td>POLYGON ((-89.70703 38.65503, -89.72531 38.655...</td>\n      <td>St. Clair</td>\n      <td>648</td>\n      <td>{'age': [{'age_group': 'Unknown', 'count': 0, ...</td>\n      <td>3353</td>\n    </tr>\n    <tr>\n      <th>95</th>\n      <td>Wayne</td>\n      <td>POLYGON ((-88.69830 38.60606, -88.69830 38.605...</td>\n      <td>Wayne</td>\n      <td>3</td>\n      <td>{'age': [{'age_group': 'Unknown', 'count': 0, ...</td>\n      <td>183</td>\n    </tr>\n    <tr>\n      <th>96</th>\n      <td>Monroe</td>\n      <td>POLYGON ((-89.89905 38.22077, -89.89905 38.220...</td>\n      <td>Monroe</td>\n      <td>79</td>\n      <td>{'age': [{'age_group': 'Unknown', 'count': 0, ...</td>\n      <td>295</td>\n    </tr>\n    <tr>\n      <th>97</th>\n      <td>Jefferson</td>\n      <td>POLYGON ((-89.14445 38.47387, -89.14462 38.460...</td>\n      <td>Jefferson</td>\n      <td>89</td>\n      <td>{'age': [{'age_group': 'Unknown', 'count': 0, ...</td>\n      <td>738</td>\n    </tr>\n    <tr>\n      <th>98</th>\n      <td>Lawrence</td>\n      <td>POLYGON ((-87.90806 38.85013, -87.90819 38.835...</td>\n      <td>Lawrence</td>\n      <td>3</td>\n      <td>{'age': [{'age_group': 'Unknown', 'count': 0, ...</td>\n      <td>168</td>\n    </tr>\n    <tr>\n      <th>99</th>\n      <td>Marion</td>\n      <td>POLYGON ((-89.13844 38.73633, -89.13847 38.721...</td>\n      <td>Marion</td>\n      <td>41</td>\n      <td>{'age': [{'age_group': 'Unknown', 'count': 0, ...</td>\n      <td>768</td>\n    </tr>\n    <tr>\n      <th>100</th>\n      <td>Union</td>\n      <td>POLYGON ((-89.04143 37.59650, -89.06017 37.597...</td>\n      <td>Union</td>\n      <td>58</td>\n      <td>{'age': [{'age_group': 'Unknown', 'count': 0, ...</td>\n      <td>430</td>\n    </tr>\n    <tr>\n      <th>101</th>\n      <td>Pope</td>\n      <td>POLYGON ((-88.70860 37.59926, -88.70876 37.584...</td>\n      <td>Pope</td>\n      <td>1</td>\n      <td>{'age': [{'age_group': 'Unknown', 'count': 0, ...</td>\n      <td>26</td>\n    </tr>\n    <tr>\n      <th>102</th>\n      <td>Chicago</td>\n      <td>MULTIPOLYGON (((-87.93514 42.00089, -87.93521 ...</td>\n      <td>Chicago</td>\n      <td>29535</td>\n      <td>{'age': [{'age_group': 'Unknown', 'count': 24,...</td>\n      <td>122700</td>\n    </tr>\n  </tbody>\n</table>\n<p>103 rows × 6 columns</p>\n</div>"
     },
     "metadata": {},
     "output_type": "execute_result",
     "execution_count": 17
    }
   ],
   "source": [
    "county_static "
   ],
   "metadata": {
    "collapsed": false,
    "pycharm": {
     "name": "#%%\n",
     "is_executing": false
    }
   }
  },
  {
   "cell_type": "code",
   "execution_count": 18,
   "outputs": [
    {
     "name": "stdout",
     "text": [
      "done\n"
     ],
     "output_type": "stream"
    }
   ],
   "source": [
    "county_static.to_file('dph_county_static_data.geojson', driver='GeoJSON', encoding='utf-8')\n",
    "print('done')"
   ],
   "metadata": {
    "collapsed": false,
    "pycharm": {
     "name": "#%%\n",
     "is_executing": false
    }
   }
  },
  {
   "cell_type": "markdown",
   "source": [
    "County Data generation\n"
   ],
   "metadata": {
    "collapsed": false,
    "pycharm": {
     "name": "#%% md\n"
    }
   }
  },
  {
   "cell_type": "code",
   "execution_count": 19,
   "outputs": [],
   "source": [
    "# transform to new york times format\n",
    "county_history = pd.DataFrame(history_dict['historical_county']['values'])\n",
    "l = []\n",
    "for case in history_dict['historical_county']['values']:\n",
    "    testDate = case['testDate']\n",
    "    values = case['values']\n",
    "    for x in values:\n",
    "        x['date'] = testDate\n",
    "        l.append(x)\n",
    "county_history = pd.DataFrame(l)"
   ],
   "metadata": {
    "collapsed": false,
    "pycharm": {
     "name": "#%%\n",
     "is_executing": false
    }
   }
  },
  {
   "cell_type": "code",
   "execution_count": 20,
   "outputs": [],
   "source": [
    "# eliminate unassigned data\n",
    "county_history = county_history[county_history['County'] != 'Unassigned']"
   ],
   "metadata": {
    "collapsed": false,
    "pycharm": {
     "name": "#%%\n",
     "is_executing": false
    }
   }
  },
  {
   "cell_type": "code",
   "execution_count": 21,
   "outputs": [],
   "source": [
    "def standardDate(str):\n",
    "    l = str.split('/')\n",
    "    month = l[0]\n",
    "    day = l[1]\n",
    "    year = l[2]\n",
    "    if len(month) < 2:\n",
    "        month = '0' + month\n",
    "    if len(day) < 2:\n",
    "        day = '0' + day\n",
    "    return year + '-' + month + '-' + day"
   ],
   "metadata": {
    "collapsed": false,
    "pycharm": {
     "name": "#%%\n",
     "is_executing": false
    }
   }
  },
  {
   "cell_type": "code",
   "execution_count": 22,
   "outputs": [],
   "source": [
    "# pivot table\n",
    "county_pivot = pd.pivot_table(county_history, index=['County'],columns=['date'])"
   ],
   "metadata": {
    "collapsed": false,
    "pycharm": {
     "name": "#%%\n",
     "is_executing": false
    }
   }
  },
  {
   "cell_type": "code",
   "execution_count": 23,
   "outputs": [],
   "source": [
    "# Standardized Date Format\n",
    "county_cases = county_pivot['confirmed_cases']"
   ],
   "metadata": {
    "collapsed": false,
    "pycharm": {
     "name": "#%%\n",
     "is_executing": false
    }
   }
  },
  {
   "cell_type": "code",
   "execution_count": 24,
   "outputs": [],
   "source": [
    "county_cases = county_cases.rename(columns=standardDate)"
   ],
   "metadata": {
    "collapsed": false,
    "pycharm": {
     "name": "#%%\n",
     "is_executing": false
    }
   }
  },
  {
   "cell_type": "code",
   "execution_count": 25,
   "outputs": [],
   "source": [
    "# Add missing 03/23 data with 03/22\n",
    "county_cases['2020-03-23'] = county_cases['2020-03-22']"
   ],
   "metadata": {
    "collapsed": false,
    "pycharm": {
     "name": "#%%\n",
     "is_executing": false
    }
   }
  },
  {
   "cell_type": "code",
   "execution_count": 26,
   "outputs": [
    {
     "data": {
      "text/plain": "date    2020-03-17  2020-03-18  2020-03-19  2020-03-20  2020-03-21  \\\nCounty                                                               \nAdams          0.0         0.0         0.0         1.0         1.0   \n\ndate    2020-03-22  2020-03-24  2020-03-25  2020-03-26  2020-03-27  ...  \\\nCounty                                                              ...   \nAdams          1.0         1.0         1.0         1.0         1.0  ...   \n\ndate    2020-04-09  2020-05-01  2020-05-02  2020-05-03  2020-05-04  \\\nCounty                                                               \nAdams         22.0        40.0        40.0        40.0        40.0   \n\ndate    2020-05-05  2020-05-06  2020-05-07  2020-05-08  2020-03-23  \nCounty                                                              \nAdams         40.0        40.0        40.0        41.0         1.0  \n\n[1 rows x 53 columns]",
      "text/html": "<div>\n<style scoped>\n    .dataframe tbody tr th:only-of-type {\n        vertical-align: middle;\n    }\n\n    .dataframe tbody tr th {\n        vertical-align: top;\n    }\n\n    .dataframe thead th {\n        text-align: right;\n    }\n</style>\n<table border=\"1\" class=\"dataframe\">\n  <thead>\n    <tr style=\"text-align: right;\">\n      <th>date</th>\n      <th>2020-03-17</th>\n      <th>2020-03-18</th>\n      <th>2020-03-19</th>\n      <th>2020-03-20</th>\n      <th>2020-03-21</th>\n      <th>2020-03-22</th>\n      <th>2020-03-24</th>\n      <th>2020-03-25</th>\n      <th>2020-03-26</th>\n      <th>2020-03-27</th>\n      <th>...</th>\n      <th>2020-04-09</th>\n      <th>2020-05-01</th>\n      <th>2020-05-02</th>\n      <th>2020-05-03</th>\n      <th>2020-05-04</th>\n      <th>2020-05-05</th>\n      <th>2020-05-06</th>\n      <th>2020-05-07</th>\n      <th>2020-05-08</th>\n      <th>2020-03-23</th>\n    </tr>\n    <tr>\n      <th>County</th>\n      <th></th>\n      <th></th>\n      <th></th>\n      <th></th>\n      <th></th>\n      <th></th>\n      <th></th>\n      <th></th>\n      <th></th>\n      <th></th>\n      <th></th>\n      <th></th>\n      <th></th>\n      <th></th>\n      <th></th>\n      <th></th>\n      <th></th>\n      <th></th>\n      <th></th>\n      <th></th>\n      <th></th>\n    </tr>\n  </thead>\n  <tbody>\n    <tr>\n      <th>Adams</th>\n      <td>0.0</td>\n      <td>0.0</td>\n      <td>0.0</td>\n      <td>1.0</td>\n      <td>1.0</td>\n      <td>1.0</td>\n      <td>1.0</td>\n      <td>1.0</td>\n      <td>1.0</td>\n      <td>1.0</td>\n      <td>...</td>\n      <td>22.0</td>\n      <td>40.0</td>\n      <td>40.0</td>\n      <td>40.0</td>\n      <td>40.0</td>\n      <td>40.0</td>\n      <td>40.0</td>\n      <td>40.0</td>\n      <td>41.0</td>\n      <td>1.0</td>\n    </tr>\n  </tbody>\n</table>\n<p>1 rows × 53 columns</p>\n</div>"
     },
     "metadata": {},
     "output_type": "execute_result",
     "execution_count": 26
    }
   ],
   "source": [
    "county_cases.head(1)"
   ],
   "metadata": {
    "collapsed": false,
    "pycharm": {
     "name": "#%%\n",
     "is_executing": false
    }
   }
  },
  {
   "cell_type": "code",
   "execution_count": 27,
   "outputs": [],
   "source": [
    "# Get date information\n",
    "date = county_cases.columns.tolist()\n",
    "date.sort()\n",
    "dt_first = date[0]\n",
    "dt_today = date[-1]\n",
    "dt_yesterday = date[-2]"
   ],
   "metadata": {
    "collapsed": false,
    "pycharm": {
     "name": "#%%\n",
     "is_executing": false
    }
   }
  },
  {
   "cell_type": "code",
   "execution_count": 51,
   "outputs": [],
   "source": [
    "from datetime import datetime\n",
    "from datetime import timedelta"
   ],
   "metadata": {
    "collapsed": false,
    "pycharm": {
     "name": "#%%\n",
     "is_executing": false
    }
   }
  },
  {
   "cell_type": "code",
   "execution_count": 60,
   "outputs": [],
   "source": [
    "def find_missing_date(date):\n",
    "    dt_range = datetime.strptime(date[-1], \"%Y-%m-%d\") - datetime.strptime(date[0], \"%Y-%m-%d\")\n",
    "    if len(date) != dt_range.days + 1:\n",
    "        print('Alert! Missing Date or Redundant date')\n",
    "        for x in range(len(date) - 1):\n",
    "            if (datetime.strptime(date[x + 1], \"%Y-%m-%d\") - datetime.strptime(date[x], \"%Y-%m-%d\")).days != 1:\n",
    "                missing_date = datetime.strptime(date[x], \"%Y-%m-%d\") + timedelta(days=1)\n",
    "                print('Missing Date:')\n",
    "                print(missing_date)"
   ],
   "metadata": {
    "collapsed": false,
    "pycharm": {
     "name": "#%%\n",
     "is_executing": false
    }
   }
  },
  {
   "cell_type": "code",
   "execution_count": 64,
   "outputs": [],
   "source": [
    "# Looking for missing dates\n",
    "find_missing_date(date)"
   ],
   "metadata": {
    "collapsed": false,
    "pycharm": {
     "name": "#%%\n",
     "is_executing": false
    }
   }
  },
  {
   "cell_type": "code",
   "execution_count": null,
   "outputs": [],
   "source": [
    "# reorder date\n",
    "county_cases = county_cases[date]"
   ],
   "metadata": {
    "collapsed": false,
    "pycharm": {
     "name": "#%%\n",
     "is_executing": false
    }
   }
  },
  {
   "cell_type": "code",
   "execution_count": null,
   "outputs": [],
   "source": [
    "# get case time series\n",
    "cases_ts = county_cases.values.tolist()"
   ],
   "metadata": {
    "collapsed": false,
    "pycharm": {
     "name": "#%%\n",
     "is_executing": false
    }
   }
  },
  {
   "cell_type": "code",
   "execution_count": null,
   "outputs": [],
   "source": [
    "# get first case date\n",
    "county_cases['dt_first_case'] = (county_cases > 0).idxmax(axis=1)\n",
    "county_cases.loc[county_cases.iloc[:, -2] <= 0, 'dt_first_case'] = np.nan"
   ],
   "metadata": {
    "collapsed": false,
    "pycharm": {
     "name": "#%%\n",
     "is_executing": false
    }
   }
  },
  {
   "cell_type": "code",
   "execution_count": null,
   "outputs": [],
   "source": [
    "county_cases['cases_ts'] = cases_ts"
   ],
   "metadata": {
    "collapsed": false,
    "pycharm": {
     "name": "#%%\n",
     "is_executing": false
    }
   }
  },
  {
   "cell_type": "code",
   "execution_count": null,
   "outputs": [],
   "source": [
    "# Add today_case and today_new_case columns\n",
    "county_cases['today_case'] = county_cases[dt_today]\n",
    "county_cases['today_new_case'] = county_cases[dt_today] - county_cases[dt_yesterday]"
   ],
   "metadata": {
    "collapsed": false,
    "pycharm": {
     "name": "#%%\n",
     "is_executing": false
    }
   }
  },
  {
   "cell_type": "code",
   "execution_count": null,
   "outputs": [],
   "source": [
    "# Reformat\n",
    "county_report = county_cases[['cases_ts','dt_first_case','today_case','today_new_case']]\n",
    "county_report = county_report.reset_index()\n",
    "county_report.columns = ['County','cases_ts','dt_first_case','today_case','today_new_case']\n",
    "county_report['cases_ts'] = county_report['cases_ts'].apply(lambda x: ','.join(map(str,x)))"
   ],
   "metadata": {
    "collapsed": false,
    "pycharm": {
     "name": "#%%\n",
     "is_executing": false
    }
   }
  },
  {
   "cell_type": "code",
   "execution_count": null,
   "outputs": [],
   "source": [
    "np.setdiff1d(county_report['County'],county_gpd['id'])\n",
    "# Illinois, Out of State and Suburban Cook is not in geometry"
   ],
   "metadata": {
    "collapsed": false,
    "pycharm": {
     "name": "#%%\n",
     "is_executing": false
    }
   }
  },
  {
   "cell_type": "code",
   "execution_count": null,
   "outputs": [],
   "source": [
    "county_report = county_report[(county_report['County'] != 'Illinois') & (county_report['County'] != 'Out of State') & (county_report['County'] != 'Suburban Cook')]\n",
    "\n"
   ],
   "metadata": {
    "collapsed": false,
    "pycharm": {
     "name": "#%%\n",
     "is_executing": false
    }
   }
  },
  {
   "cell_type": "code",
   "execution_count": null,
   "outputs": [],
   "source": [
    "county_report['dt_start'] = dt_first\n",
    "county_report['dt_end'] = dt_today\n",
    "county_report['dt_unit'] = 'day'"
   ],
   "metadata": {
    "collapsed": false,
    "pycharm": {
     "name": "#%%\n",
     "is_executing": false
    }
   }
  },
  {
   "cell_type": "code",
   "execution_count": null,
   "outputs": [],
   "source": [
    "county_report"
   ],
   "metadata": {
    "collapsed": false,
    "pycharm": {
     "name": "#%%\n",
     "is_executing": false
    }
   }
  },
  {
   "cell_type": "code",
   "execution_count": null,
   "outputs": [],
   "source": [
    "county_final_gpd = pd.merge(county_gpd, county_report, how=\"left\", left_on=\"id\", right_on=\"County\")"
   ],
   "metadata": {
    "collapsed": false,
    "pycharm": {
     "name": "#%%\n",
     "is_executing": false
    }
   }
  },
  {
   "cell_type": "code",
   "execution_count": null,
   "outputs": [],
   "source": [
    "county_final_gpd['population'] = 1"
   ],
   "metadata": {
    "collapsed": false,
    "pycharm": {
     "name": "#%%\n",
     "is_executing": false
    }
   }
  },
  {
   "cell_type": "code",
   "execution_count": null,
   "outputs": [],
   "source": [
    "county_final_gpd.to_file('dph_county_data.geojson', driver='GeoJSON', encoding='utf-8')\n",
    "print('done')\n"
   ],
   "metadata": {
    "collapsed": false,
    "pycharm": {
     "name": "#%%\n",
     "is_executing": false
    }
   }
  }
 ],
 "metadata": {
  "language_info": {
   "codemirror_mode": {
    "name": "ipython",
    "version": 2
   },
   "file_extension": ".py",
   "mimetype": "text/x-python",
   "name": "python",
   "nbconvert_exporter": "python",
   "pygments_lexer": "ipython2",
   "version": "2.7.6"
  },
  "kernelspec": {
   "name": "python3",
   "language": "python",
   "display_name": "Python 3"
  },
  "pycharm": {
   "stem_cell": {
    "cell_type": "raw",
    "source": [],
    "metadata": {
     "collapsed": false
    }
   }
  }
 },
 "nbformat": 4,
 "nbformat_minor": 0
}