{
 "cells": [
  {
   "cell_type": "markdown",
   "metadata": {
    "collapsed": true,
    "pycharm": {
     "name": "#%% md\n"
    }
   },
   "source": [
    "URL preparation"
   ]
  },
  {
   "cell_type": "code",
   "execution_count": 340,
   "metadata": {
    "pycharm": {
     "is_executing": false,
     "name": "#%%\n"
    }
   },
   "outputs": [],
   "source": [
    "# Geometry URL\n",
    "zipcode_geometry_url = \"http://www.dph.illinois.gov/sites/default/files/COVID19/il_illinois_zip_codes.json?nocache=1\"\n",
    "county_geometry_url = \"http://www.dph.illinois.gov/sites/default/files/Illinois_County_Geo_ch.json\""
   ]
  },
  {
   "cell_type": "code",
   "execution_count": 341,
   "metadata": {
    "pycharm": {
     "is_executing": false,
     "name": "#%%\n"
    }
   },
   "outputs": [],
   "source": [
    "import pandas as pd\n",
    "import json\n",
    "import numpy as np\n",
    "import geopandas as gpd\n",
    "from urllib.request import urlopen\n",
    "import shapely.wkt"
   ]
  },
  {
   "cell_type": "markdown",
   "metadata": {
    "pycharm": {
     "name": "#%% md\n"
    }
   },
   "source": [
    "Download data"
   ]
  },
  {
   "cell_type": "code",
   "execution_count": 342,
   "metadata": {
    "pycharm": {
     "is_executing": false,
     "name": "#%%\n"
    }
   },
   "outputs": [],
   "source": [
    "with open(\"./idph_COVIDZip.json\") as f:\n",
    "    zipcode_dict = json.load(f)\n",
    "    zipcode_data = pd.DataFrame(zipcode_dict['zip_values'])"
   ]
  },
  {
   "cell_type": "code",
   "execution_count": 343,
   "metadata": {
    "pycharm": {
     "is_executing": false,
     "name": "#%%\n"
    }
   },
   "outputs": [],
   "source": [
    "with open(\"./idph_COVIDHistoricalTestResults.json\") as f:\n",
    "    history_dict = json.load(f)"
   ]
  },
  {
   "cell_type": "code",
   "execution_count": 344,
   "metadata": {
    "pycharm": {
     "is_executing": false,
     "name": "#%%\n"
    }
   },
   "outputs": [],
   "source": [
    "zipcode_geometry = gpd.read_file(zipcode_geometry_url)\n",
    "county_geometry = gpd.read_file(county_geometry_url)"
   ]
  },
  {
   "cell_type": "code",
   "execution_count": 345,
   "metadata": {
    "pycharm": {
     "is_executing": false,
     "name": "#%%\n"
    }
   },
   "outputs": [],
   "source": [
    "with urlopen(zipcode_geometry_url) as response:\n",
    "    tmp = json.load(response)\n",
    "    zipcode_gpd = gpd.GeoDataFrame(tmp['features'])"
   ]
  },
  {
   "cell_type": "code",
   "execution_count": 346,
   "metadata": {
    "pycharm": {
     "is_executing": false,
     "name": "#%%    \n"
    }
   },
   "outputs": [],
   "source": [
    "zipcode_gpd['geometry'] = zipcode_geometry\n",
    "zipcode_gpd = zipcode_gpd[['id','geometry']]\n",
    "zipcode_gpd['id'] = zipcode_gpd['id'].astype(str)"
   ]
  },
  {
   "cell_type": "code",
   "execution_count": 347,
   "metadata": {
    "pycharm": {
     "is_executing": false
    }
   },
   "outputs": [
    {
     "data": {
      "text/html": [
       "<div>\n",
       "<style scoped>\n",
       "    .dataframe tbody tr th:only-of-type {\n",
       "        vertical-align: middle;\n",
       "    }\n",
       "\n",
       "    .dataframe tbody tr th {\n",
       "        vertical-align: top;\n",
       "    }\n",
       "\n",
       "    .dataframe thead th {\n",
       "        text-align: right;\n",
       "    }\n",
       "</style>\n",
       "<table border=\"1\" class=\"dataframe\">\n",
       "  <thead>\n",
       "    <tr style=\"text-align: right;\">\n",
       "      <th></th>\n",
       "      <th>id</th>\n",
       "      <th>OBJECTID</th>\n",
       "      <th>County</th>\n",
       "      <th>Percent_1</th>\n",
       "      <th>Shape__Area</th>\n",
       "      <th>Shape__Length</th>\n",
       "      <th>geometry</th>\n",
       "    </tr>\n",
       "  </thead>\n",
       "  <tbody>\n",
       "    <tr>\n",
       "      <th>0</th>\n",
       "      <td>McHenry</td>\n",
       "      <td>1</td>\n",
       "      <td>McHenry County</td>\n",
       "      <td>27.7</td>\n",
       "      <td>17027625788.537001</td>\n",
       "      <td>522324.305015</td>\n",
       "      <td>POLYGON ((-88.70742 42.49352, -88.70741 42.493...</td>\n",
       "    </tr>\n",
       "    <tr>\n",
       "      <th>1</th>\n",
       "      <td>Boone</td>\n",
       "      <td>2</td>\n",
       "      <td>Boone County</td>\n",
       "      <td>33.7</td>\n",
       "      <td>7862723082.688600</td>\n",
       "      <td>375171.144577</td>\n",
       "      <td>POLYGON ((-88.70742 42.49352, -88.70750 42.493...</td>\n",
       "    </tr>\n",
       "    <tr>\n",
       "      <th>2</th>\n",
       "      <td>Ogle</td>\n",
       "      <td>3</td>\n",
       "      <td>Ogle County</td>\n",
       "      <td>31.2</td>\n",
       "      <td>21284584781.190300</td>\n",
       "      <td>651729.421361</td>\n",
       "      <td>POLYGON ((-89.68809 42.19950, -89.68807 42.184...</td>\n",
       "    </tr>\n",
       "    <tr>\n",
       "      <th>3</th>\n",
       "      <td>Will</td>\n",
       "      <td>4</td>\n",
       "      <td>Will County</td>\n",
       "      <td>28.0</td>\n",
       "      <td>23669428994.175301</td>\n",
       "      <td>779085.214831</td>\n",
       "      <td>POLYGON ((-88.26146 41.72439, -88.26103 41.708...</td>\n",
       "    </tr>\n",
       "    <tr>\n",
       "      <th>4</th>\n",
       "      <td>LaSalle</td>\n",
       "      <td>5</td>\n",
       "      <td>LaSalle County</td>\n",
       "      <td>27.1</td>\n",
       "      <td>32008439057.989899</td>\n",
       "      <td>825360.163913</td>\n",
       "      <td>POLYGON ((-88.93885 41.62837, -88.93891 41.628...</td>\n",
       "    </tr>\n",
       "    <tr>\n",
       "      <th>...</th>\n",
       "      <td>...</td>\n",
       "      <td>...</td>\n",
       "      <td>...</td>\n",
       "      <td>...</td>\n",
       "      <td>...</td>\n",
       "      <td>...</td>\n",
       "      <td>...</td>\n",
       "    </tr>\n",
       "    <tr>\n",
       "      <th>98</th>\n",
       "      <td>Lawrence</td>\n",
       "      <td>99</td>\n",
       "      <td>Lawrence County</td>\n",
       "      <td>28.9</td>\n",
       "      <td>10426836159.952499</td>\n",
       "      <td>442943.679766</td>\n",
       "      <td>POLYGON ((-87.90806 38.85013, -87.90819 38.835...</td>\n",
       "    </tr>\n",
       "    <tr>\n",
       "      <th>99</th>\n",
       "      <td>Marion</td>\n",
       "      <td>100</td>\n",
       "      <td>Marion County</td>\n",
       "      <td>33.5</td>\n",
       "      <td>16056558800.880800</td>\n",
       "      <td>509529.795774</td>\n",
       "      <td>POLYGON ((-89.13844 38.73633, -89.13847 38.721...</td>\n",
       "    </tr>\n",
       "    <tr>\n",
       "      <th>100</th>\n",
       "      <td>Union</td>\n",
       "      <td>101</td>\n",
       "      <td>Union County</td>\n",
       "      <td>28.2</td>\n",
       "      <td>11769540678.443001</td>\n",
       "      <td>489617.647490</td>\n",
       "      <td>POLYGON ((-89.04143 37.59650, -89.06017 37.597...</td>\n",
       "    </tr>\n",
       "    <tr>\n",
       "      <th>101</th>\n",
       "      <td>Pope</td>\n",
       "      <td>102</td>\n",
       "      <td>Pope County</td>\n",
       "      <td>29.5</td>\n",
       "      <td>10432553057.307899</td>\n",
       "      <td>537878.380731</td>\n",
       "      <td>POLYGON ((-88.70860 37.59926, -88.70876 37.584...</td>\n",
       "    </tr>\n",
       "    <tr>\n",
       "      <th>102</th>\n",
       "      <td>Chicago</td>\n",
       "      <td>103</td>\n",
       "      <td>Chicago</td>\n",
       "      <td>28.2</td>\n",
       "      <td>6450276623.31</td>\n",
       "      <td>845282.931362</td>\n",
       "      <td>MULTIPOLYGON (((-87.93514 42.00089, -87.93521 ...</td>\n",
       "    </tr>\n",
       "  </tbody>\n",
       "</table>\n",
       "<p>103 rows × 7 columns</p>\n",
       "</div>"
      ],
      "text/plain": [
       "           id OBJECTID           County  Percent_1         Shape__Area  \\\n",
       "0     McHenry        1   McHenry County       27.7  17027625788.537001   \n",
       "1       Boone        2     Boone County       33.7   7862723082.688600   \n",
       "2        Ogle        3      Ogle County       31.2  21284584781.190300   \n",
       "3        Will        4      Will County       28.0  23669428994.175301   \n",
       "4     LaSalle        5   LaSalle County       27.1  32008439057.989899   \n",
       "..        ...      ...              ...        ...                 ...   \n",
       "98   Lawrence       99  Lawrence County       28.9  10426836159.952499   \n",
       "99     Marion      100    Marion County       33.5  16056558800.880800   \n",
       "100     Union      101     Union County       28.2  11769540678.443001   \n",
       "101      Pope      102      Pope County       29.5  10432553057.307899   \n",
       "102   Chicago      103          Chicago       28.2       6450276623.31   \n",
       "\n",
       "     Shape__Length                                           geometry  \n",
       "0    522324.305015  POLYGON ((-88.70742 42.49352, -88.70741 42.493...  \n",
       "1    375171.144577  POLYGON ((-88.70742 42.49352, -88.70750 42.493...  \n",
       "2    651729.421361  POLYGON ((-89.68809 42.19950, -89.68807 42.184...  \n",
       "3    779085.214831  POLYGON ((-88.26146 41.72439, -88.26103 41.708...  \n",
       "4    825360.163913  POLYGON ((-88.93885 41.62837, -88.93891 41.628...  \n",
       "..             ...                                                ...  \n",
       "98   442943.679766  POLYGON ((-87.90806 38.85013, -87.90819 38.835...  \n",
       "99   509529.795774  POLYGON ((-89.13844 38.73633, -89.13847 38.721...  \n",
       "100  489617.647490  POLYGON ((-89.04143 37.59650, -89.06017 37.597...  \n",
       "101  537878.380731  POLYGON ((-88.70860 37.59926, -88.70876 37.584...  \n",
       "102  845282.931362  MULTIPOLYGON (((-87.93514 42.00089, -87.93521 ...  \n",
       "\n",
       "[103 rows x 7 columns]"
      ]
     },
     "execution_count": 347,
     "metadata": {},
     "output_type": "execute_result"
    }
   ],
   "source": [
    "county_geometry"
   ]
  },
  {
   "cell_type": "code",
   "execution_count": 348,
   "metadata": {
    "pycharm": {
     "is_executing": false,
     "name": "#%%\n"
    }
   },
   "outputs": [],
   "source": [
    "county_gpd = county_geometry[['id','geometry']]"
   ]
  },
  {
   "cell_type": "code",
   "execution_count": 349,
   "metadata": {
    "pycharm": {
     "is_executing": false
    }
   },
   "outputs": [],
   "source": [
    "polygon1 = shapely.wkt.loads('POLYGON ((-89.6536529004544 39.7828177522233, -89.6536529004544 39.7799814663649, -89.64987635016143 39.7799814663649, -89.64987635016143 39.7828177522233, -89.6536529004544 39.7828177522233))')\n",
    "polygon2 = shapely.wkt.loads('POLYGON ((-89.64923261999786 39.78268583454302, -89.64923261999786 39.7799814663649, -89.64575647711456 39.7799814663649, -89.64575647711456 39.78268583454302, -89.64923261999786 39.78268583454302))')"
   ]
  },
  {
   "cell_type": "code",
   "execution_count": 350,
   "metadata": {
    "pycharm": {
     "is_executing": false
    }
   },
   "outputs": [],
   "source": [
    "# county_gpd_static = county_gpd.append([{'id':\"Out Of State\", 'geometry':polygon1}], ignore_index=True)\n",
    "# county_gpd_static = county_gpd_static.append([{'id':\"Unassigned\", 'geometry':polygon2}], ignore_index=True)\n",
    "county_gpd_static = county_gpd.append([{'id':\"Illinois\", 'geometry':polygon2}], ignore_index=True)"
   ]
  },
  {
   "cell_type": "code",
   "execution_count": 351,
   "metadata": {
    "pycharm": {
     "is_executing": false
    }
   },
   "outputs": [
    {
     "data": {
      "text/html": [
       "<div>\n",
       "<style scoped>\n",
       "    .dataframe tbody tr th:only-of-type {\n",
       "        vertical-align: middle;\n",
       "    }\n",
       "\n",
       "    .dataframe tbody tr th {\n",
       "        vertical-align: top;\n",
       "    }\n",
       "\n",
       "    .dataframe thead th {\n",
       "        text-align: right;\n",
       "    }\n",
       "</style>\n",
       "<table border=\"1\" class=\"dataframe\">\n",
       "  <thead>\n",
       "    <tr style=\"text-align: right;\">\n",
       "      <th></th>\n",
       "      <th>id</th>\n",
       "      <th>geometry</th>\n",
       "    </tr>\n",
       "  </thead>\n",
       "  <tbody>\n",
       "    <tr>\n",
       "      <th>0</th>\n",
       "      <td>McHenry</td>\n",
       "      <td>POLYGON ((-88.70742 42.49352, -88.70741 42.493...</td>\n",
       "    </tr>\n",
       "    <tr>\n",
       "      <th>1</th>\n",
       "      <td>Boone</td>\n",
       "      <td>POLYGON ((-88.70742 42.49352, -88.70750 42.493...</td>\n",
       "    </tr>\n",
       "    <tr>\n",
       "      <th>2</th>\n",
       "      <td>Ogle</td>\n",
       "      <td>POLYGON ((-89.68809 42.19950, -89.68807 42.184...</td>\n",
       "    </tr>\n",
       "    <tr>\n",
       "      <th>3</th>\n",
       "      <td>Will</td>\n",
       "      <td>POLYGON ((-88.26146 41.72439, -88.26103 41.708...</td>\n",
       "    </tr>\n",
       "    <tr>\n",
       "      <th>4</th>\n",
       "      <td>LaSalle</td>\n",
       "      <td>POLYGON ((-88.93885 41.62837, -88.93891 41.628...</td>\n",
       "    </tr>\n",
       "    <tr>\n",
       "      <th>...</th>\n",
       "      <td>...</td>\n",
       "      <td>...</td>\n",
       "    </tr>\n",
       "    <tr>\n",
       "      <th>99</th>\n",
       "      <td>Marion</td>\n",
       "      <td>POLYGON ((-89.13844 38.73633, -89.13847 38.721...</td>\n",
       "    </tr>\n",
       "    <tr>\n",
       "      <th>100</th>\n",
       "      <td>Union</td>\n",
       "      <td>POLYGON ((-89.04143 37.59650, -89.06017 37.597...</td>\n",
       "    </tr>\n",
       "    <tr>\n",
       "      <th>101</th>\n",
       "      <td>Pope</td>\n",
       "      <td>POLYGON ((-88.70860 37.59926, -88.70876 37.584...</td>\n",
       "    </tr>\n",
       "    <tr>\n",
       "      <th>102</th>\n",
       "      <td>Chicago</td>\n",
       "      <td>MULTIPOLYGON (((-87.93514 42.00089, -87.93521 ...</td>\n",
       "    </tr>\n",
       "    <tr>\n",
       "      <th>103</th>\n",
       "      <td>Illinois</td>\n",
       "      <td>POLYGON ((-89.64923 39.78269, -89.64923 39.779...</td>\n",
       "    </tr>\n",
       "  </tbody>\n",
       "</table>\n",
       "<p>104 rows × 2 columns</p>\n",
       "</div>"
      ],
      "text/plain": [
       "           id                                           geometry\n",
       "0     McHenry  POLYGON ((-88.70742 42.49352, -88.70741 42.493...\n",
       "1       Boone  POLYGON ((-88.70742 42.49352, -88.70750 42.493...\n",
       "2        Ogle  POLYGON ((-89.68809 42.19950, -89.68807 42.184...\n",
       "3        Will  POLYGON ((-88.26146 41.72439, -88.26103 41.708...\n",
       "4     LaSalle  POLYGON ((-88.93885 41.62837, -88.93891 41.628...\n",
       "..        ...                                                ...\n",
       "99     Marion  POLYGON ((-89.13844 38.73633, -89.13847 38.721...\n",
       "100     Union  POLYGON ((-89.04143 37.59650, -89.06017 37.597...\n",
       "101      Pope  POLYGON ((-88.70860 37.59926, -88.70876 37.584...\n",
       "102   Chicago  MULTIPOLYGON (((-87.93514 42.00089, -87.93521 ...\n",
       "103  Illinois  POLYGON ((-89.64923 39.78269, -89.64923 39.779...\n",
       "\n",
       "[104 rows x 2 columns]"
      ]
     },
     "execution_count": 351,
     "metadata": {},
     "output_type": "execute_result"
    }
   ],
   "source": [
    "county_gpd_static"
   ]
  },
  {
   "cell_type": "markdown",
   "metadata": {
    "pycharm": {
     "is_executing": false,
     "name": "#%% md\n"
    }
   },
   "source": [
    "Zipcode Data generation"
   ]
  },
  {
   "cell_type": "code",
   "execution_count": 352,
   "metadata": {
    "pycharm": {
     "is_executing": false,
     "name": "#%%\n"
    }
   },
   "outputs": [
    {
     "data": {
      "text/html": [
       "<div>\n",
       "<style scoped>\n",
       "    .dataframe tbody tr th:only-of-type {\n",
       "        vertical-align: middle;\n",
       "    }\n",
       "\n",
       "    .dataframe tbody tr th {\n",
       "        vertical-align: top;\n",
       "    }\n",
       "\n",
       "    .dataframe thead th {\n",
       "        text-align: right;\n",
       "    }\n",
       "</style>\n",
       "<table border=\"1\" class=\"dataframe\">\n",
       "  <thead>\n",
       "    <tr style=\"text-align: right;\">\n",
       "      <th></th>\n",
       "      <th>zip</th>\n",
       "      <th>confirmed_cases</th>\n",
       "      <th>total_tested</th>\n",
       "      <th>demographics</th>\n",
       "    </tr>\n",
       "  </thead>\n",
       "  <tbody>\n",
       "    <tr>\n",
       "      <th>0</th>\n",
       "      <td>60002</td>\n",
       "      <td>117</td>\n",
       "      <td>1518</td>\n",
       "      <td>{'age': [{'age_group': 'Unknown', 'count': 0, ...</td>\n",
       "    </tr>\n",
       "    <tr>\n",
       "      <th>1</th>\n",
       "      <td>60004</td>\n",
       "      <td>371</td>\n",
       "      <td>7465</td>\n",
       "      <td>{'age': [{'age_group': 'Unknown', 'count': 0, ...</td>\n",
       "    </tr>\n",
       "    <tr>\n",
       "      <th>2</th>\n",
       "      <td>60005</td>\n",
       "      <td>211</td>\n",
       "      <td>3472</td>\n",
       "      <td>{'age': [{'age_group': 'Unknown', 'count': 0, ...</td>\n",
       "    </tr>\n",
       "    <tr>\n",
       "      <th>3</th>\n",
       "      <td>60007</td>\n",
       "      <td>369</td>\n",
       "      <td>3196</td>\n",
       "      <td>{'age': [{'age_group': 'Unknown', 'count': 0, ...</td>\n",
       "    </tr>\n",
       "    <tr>\n",
       "      <th>4</th>\n",
       "      <td>60008</td>\n",
       "      <td>351</td>\n",
       "      <td>3820</td>\n",
       "      <td>{'age': [{'age_group': 'Unknown', 'count': 0, ...</td>\n",
       "    </tr>\n",
       "    <tr>\n",
       "      <th>...</th>\n",
       "      <td>...</td>\n",
       "      <td>...</td>\n",
       "      <td>...</td>\n",
       "      <td>...</td>\n",
       "    </tr>\n",
       "    <tr>\n",
       "      <th>572</th>\n",
       "      <td>62952</td>\n",
       "      <td>12</td>\n",
       "      <td>277</td>\n",
       "      <td>{'age': [{'age_group': 'Unknown', 'count': 0, ...</td>\n",
       "    </tr>\n",
       "    <tr>\n",
       "      <th>573</th>\n",
       "      <td>62959</td>\n",
       "      <td>49</td>\n",
       "      <td>2522</td>\n",
       "      <td>{'age': [{'age_group': 'Unknown', 'count': 0, ...</td>\n",
       "    </tr>\n",
       "    <tr>\n",
       "      <th>574</th>\n",
       "      <td>62960</td>\n",
       "      <td>7</td>\n",
       "      <td>773</td>\n",
       "      <td>{'age': [{'age_group': 'Unknown', 'count': 0, ...</td>\n",
       "    </tr>\n",
       "    <tr>\n",
       "      <th>575</th>\n",
       "      <td>62966</td>\n",
       "      <td>103</td>\n",
       "      <td>1470</td>\n",
       "      <td>{'age': [{'age_group': 'Unknown', 'count': 0, ...</td>\n",
       "    </tr>\n",
       "    <tr>\n",
       "      <th>576</th>\n",
       "      <td>62992</td>\n",
       "      <td>59</td>\n",
       "      <td>230</td>\n",
       "      <td>{'age': [{'age_group': 'Unknown', 'count': 0, ...</td>\n",
       "    </tr>\n",
       "  </tbody>\n",
       "</table>\n",
       "<p>577 rows × 4 columns</p>\n",
       "</div>"
      ],
      "text/plain": [
       "       zip  confirmed_cases  total_tested  \\\n",
       "0    60002              117          1518   \n",
       "1    60004              371          7465   \n",
       "2    60005              211          3472   \n",
       "3    60007              369          3196   \n",
       "4    60008              351          3820   \n",
       "..     ...              ...           ...   \n",
       "572  62952               12           277   \n",
       "573  62959               49          2522   \n",
       "574  62960                7           773   \n",
       "575  62966              103          1470   \n",
       "576  62992               59           230   \n",
       "\n",
       "                                          demographics  \n",
       "0    {'age': [{'age_group': 'Unknown', 'count': 0, ...  \n",
       "1    {'age': [{'age_group': 'Unknown', 'count': 0, ...  \n",
       "2    {'age': [{'age_group': 'Unknown', 'count': 0, ...  \n",
       "3    {'age': [{'age_group': 'Unknown', 'count': 0, ...  \n",
       "4    {'age': [{'age_group': 'Unknown', 'count': 0, ...  \n",
       "..                                                 ...  \n",
       "572  {'age': [{'age_group': 'Unknown', 'count': 0, ...  \n",
       "573  {'age': [{'age_group': 'Unknown', 'count': 0, ...  \n",
       "574  {'age': [{'age_group': 'Unknown', 'count': 0, ...  \n",
       "575  {'age': [{'age_group': 'Unknown', 'count': 0, ...  \n",
       "576  {'age': [{'age_group': 'Unknown', 'count': 0, ...  \n",
       "\n",
       "[577 rows x 4 columns]"
      ]
     },
     "execution_count": 352,
     "metadata": {},
     "output_type": "execute_result"
    }
   ],
   "source": [
    "zipcode_data"
   ]
  },
  {
   "cell_type": "code",
   "execution_count": 353,
   "metadata": {
    "pycharm": {
     "is_executing": false,
     "name": "#%%\n"
    }
   },
   "outputs": [
    {
     "data": {
      "text/plain": [
       "id            object\n",
       "geometry    geometry\n",
       "dtype: object"
      ]
     },
     "execution_count": 353,
     "metadata": {},
     "output_type": "execute_result"
    }
   ],
   "source": [
    "zipcode_gpd.dtypes"
   ]
  },
  {
   "cell_type": "code",
   "execution_count": 354,
   "metadata": {
    "pycharm": {
     "is_executing": false,
     "name": "#%%\n"
    }
   },
   "outputs": [],
   "source": [
    "zipcode_final_gpd = pd.merge(zipcode_gpd,zipcode_data, how = 'left', left_on=['id'], right_on=['zip'])"
   ]
  },
  {
   "cell_type": "code",
   "execution_count": 355,
   "metadata": {
    "pycharm": {
     "is_executing": false,
     "name": "#%%\n"
    }
   },
   "outputs": [],
   "source": [
    "zipcode_final_gpd['confirmed_cases'] = zipcode_final_gpd['confirmed_cases'].replace(np.nan,0)\n",
    "zipcode_final_gpd['total_tested'] = zipcode_final_gpd['total_tested'].replace(np.nan,0)\n",
    "zipcode_final_gpd = zipcode_final_gpd[['id','confirmed_cases','total_tested','geometry']]"
   ]
  },
  {
   "cell_type": "code",
   "execution_count": 356,
   "metadata": {
    "pycharm": {
     "is_executing": false,
     "name": "#%%\n"
    }
   },
   "outputs": [
    {
     "name": "stdout",
     "output_type": "stream",
     "text": [
      "done\n"
     ]
    }
   ],
   "source": [
    "zipcode_final_gpd.to_file('dph_zipcode_data.geojson', driver='GeoJSON', encoding='utf-8')\n",
    "print('done')"
   ]
  },
  {
   "cell_type": "markdown",
   "metadata": {
    "pycharm": {
     "name": "#%% md\n"
    }
   },
   "source": [
    "County Data generation\n"
   ]
  },
  {
   "cell_type": "code",
   "execution_count": 362,
   "metadata": {
    "pycharm": {
     "is_executing": false,
     "name": "#%%\n"
    }
   },
   "outputs": [],
   "source": [
    "# transform to new york times format\n",
    "county_history = pd.DataFrame(history_dict['historical_county']['values'])\n",
    "l = []\n",
    "for case in history_dict['historical_county']['values']:\n",
    "    testDate = case['testDate']\n",
    "    values = case['values']\n",
    "    for x in values:\n",
    "        x['date'] = testDate\n",
    "        l.append(x)\n",
    "county_history = pd.DataFrame(l)"
   ]
  },
  {
   "cell_type": "code",
   "execution_count": 363,
   "metadata": {
    "pycharm": {
     "is_executing": false,
     "name": "#%%\n"
    }
   },
   "outputs": [],
   "source": [
    "# eliminate unassigned data\n",
    "county_history = county_history[county_history['County'] != 'Unassigned']"
   ]
  },
  {
   "cell_type": "code",
   "execution_count": 364,
   "metadata": {
    "pycharm": {
     "is_executing": false,
     "name": "#%%\n"
    }
   },
   "outputs": [],
   "source": [
    "def standardDate(str):\n",
    "    l = str.split('/')\n",
    "    month = l[0]\n",
    "    day = l[1]\n",
    "    year = l[2]\n",
    "    if len(month) < 2:\n",
    "        month = '0' + month\n",
    "    if len(day) < 2:\n",
    "        day = '0' + day\n",
    "    return year + '-' + month + '-' + day"
   ]
  },
  {
   "cell_type": "code",
   "execution_count": 365,
   "metadata": {
    "pycharm": {
     "is_executing": false,
     "name": "#%%\n"
    }
   },
   "outputs": [],
   "source": [
    "# pivot table\n",
    "county_pivot = pd.pivot_table(county_history, index=['County'],columns=['date'])"
   ]
  },
  {
   "cell_type": "code",
   "execution_count": 366,
   "metadata": {
    "pycharm": {
     "is_executing": false,
     "name": "#%%\n"
    }
   },
   "outputs": [
    {
     "data": {
      "text/plain": [
       "date\n",
       "3/17/2020    0.0\n",
       "3/18/2020    0.0\n",
       "3/19/2020    0.0\n",
       "3/20/2020    0.0\n",
       "3/21/2020    0.0\n",
       "            ... \n",
       "6/5/2020     1.0\n",
       "6/6/2020     1.0\n",
       "6/7/2020     1.0\n",
       "6/8/2020     1.0\n",
       "6/9/2020     1.0\n",
       "Name: Bond, Length: 104, dtype: float64"
      ]
     },
     "execution_count": 366,
     "metadata": {},
     "output_type": "execute_result"
    }
   ],
   "source": [
    "county_pivot['deaths'].iloc[2]"
   ]
  },
  {
   "cell_type": "code",
   "execution_count": 367,
   "metadata": {
    "pycharm": {
     "is_executing": false,
     "name": "#%%\n"
    }
   },
   "outputs": [],
   "source": [
    "# Standardized Date Format\n",
    "county_cases = county_pivot['confirmed_cases']\n",
    "county_deaths = county_pivot['deaths']\n",
    "county_tested = county_pivot['total_tested']"
   ]
  },
  {
   "cell_type": "code",
   "execution_count": 368,
   "metadata": {
    "pycharm": {
     "is_executing": false,
     "name": "#%%\n"
    }
   },
   "outputs": [],
   "source": [
    "county_cases = county_cases.rename(columns=standardDate)\n",
    "county_deaths = county_deaths.rename(columns=standardDate)\n",
    "county_tested = county_tested.rename(columns=standardDate)"
   ]
  },
  {
   "cell_type": "code",
   "execution_count": 369,
   "metadata": {
    "pycharm": {
     "is_executing": false,
     "name": "#%%\n"
    }
   },
   "outputs": [],
   "source": [
    "# Add missing 03/23 data with 03/22\n",
    "county_cases['2020-03-23'] = county_cases['2020-03-22']\n",
    "county_deaths['2020-03-23'] = county_deaths['2020-03-22']\n",
    "county_tested['2020-03-23'] = county_tested['2020-03-22']"
   ]
  },
  {
   "cell_type": "code",
   "execution_count": 370,
   "metadata": {
    "pycharm": {
     "is_executing": false,
     "name": "#%%\n"
    }
   },
   "outputs": [
    {
     "data": {
      "text/html": [
       "<div>\n",
       "<style scoped>\n",
       "    .dataframe tbody tr th:only-of-type {\n",
       "        vertical-align: middle;\n",
       "    }\n",
       "\n",
       "    .dataframe tbody tr th {\n",
       "        vertical-align: top;\n",
       "    }\n",
       "\n",
       "    .dataframe thead th {\n",
       "        text-align: right;\n",
       "    }\n",
       "</style>\n",
       "<table border=\"1\" class=\"dataframe\">\n",
       "  <thead>\n",
       "    <tr style=\"text-align: right;\">\n",
       "      <th>date</th>\n",
       "      <th>2020-03-17</th>\n",
       "      <th>2020-03-18</th>\n",
       "      <th>2020-03-19</th>\n",
       "      <th>2020-03-20</th>\n",
       "      <th>2020-03-21</th>\n",
       "      <th>2020-03-22</th>\n",
       "      <th>2020-03-24</th>\n",
       "      <th>2020-03-25</th>\n",
       "      <th>2020-03-26</th>\n",
       "      <th>2020-03-27</th>\n",
       "      <th>...</th>\n",
       "      <th>2020-06-28</th>\n",
       "      <th>2020-06-29</th>\n",
       "      <th>2020-06-03</th>\n",
       "      <th>2020-06-04</th>\n",
       "      <th>2020-06-05</th>\n",
       "      <th>2020-06-06</th>\n",
       "      <th>2020-06-07</th>\n",
       "      <th>2020-06-08</th>\n",
       "      <th>2020-06-09</th>\n",
       "      <th>2020-03-23</th>\n",
       "    </tr>\n",
       "    <tr>\n",
       "      <th>County</th>\n",
       "      <th></th>\n",
       "      <th></th>\n",
       "      <th></th>\n",
       "      <th></th>\n",
       "      <th></th>\n",
       "      <th></th>\n",
       "      <th></th>\n",
       "      <th></th>\n",
       "      <th></th>\n",
       "      <th></th>\n",
       "      <th></th>\n",
       "      <th></th>\n",
       "      <th></th>\n",
       "      <th></th>\n",
       "      <th></th>\n",
       "      <th></th>\n",
       "      <th></th>\n",
       "      <th></th>\n",
       "      <th></th>\n",
       "      <th></th>\n",
       "      <th></th>\n",
       "    </tr>\n",
       "  </thead>\n",
       "  <tbody>\n",
       "    <tr>\n",
       "      <th>Adams</th>\n",
       "      <td>0.0</td>\n",
       "      <td>0.0</td>\n",
       "      <td>0.0</td>\n",
       "      <td>1.0</td>\n",
       "      <td>1.0</td>\n",
       "      <td>1.0</td>\n",
       "      <td>1.0</td>\n",
       "      <td>1.0</td>\n",
       "      <td>1.0</td>\n",
       "      <td>1.0</td>\n",
       "      <td>...</td>\n",
       "      <td>83.0</td>\n",
       "      <td>88.0</td>\n",
       "      <td>44.0</td>\n",
       "      <td>44.0</td>\n",
       "      <td>44.0</td>\n",
       "      <td>46.0</td>\n",
       "      <td>46.0</td>\n",
       "      <td>45.0</td>\n",
       "      <td>45.0</td>\n",
       "      <td>1.0</td>\n",
       "    </tr>\n",
       "  </tbody>\n",
       "</table>\n",
       "<p>1 rows × 105 columns</p>\n",
       "</div>"
      ],
      "text/plain": [
       "date    2020-03-17  2020-03-18  2020-03-19  2020-03-20  2020-03-21  \\\n",
       "County                                                               \n",
       "Adams          0.0         0.0         0.0         1.0         1.0   \n",
       "\n",
       "date    2020-03-22  2020-03-24  2020-03-25  2020-03-26  2020-03-27  ...  \\\n",
       "County                                                              ...   \n",
       "Adams          1.0         1.0         1.0         1.0         1.0  ...   \n",
       "\n",
       "date    2020-06-28  2020-06-29  2020-06-03  2020-06-04  2020-06-05  \\\n",
       "County                                                               \n",
       "Adams         83.0        88.0        44.0        44.0        44.0   \n",
       "\n",
       "date    2020-06-06  2020-06-07  2020-06-08  2020-06-09  2020-03-23  \n",
       "County                                                              \n",
       "Adams         46.0        46.0        45.0        45.0         1.0  \n",
       "\n",
       "[1 rows x 105 columns]"
      ]
     },
     "execution_count": 370,
     "metadata": {},
     "output_type": "execute_result"
    }
   ],
   "source": [
    "county_cases.head(1)"
   ]
  },
  {
   "cell_type": "code",
   "execution_count": 371,
   "metadata": {},
   "outputs": [
    {
     "data": {
      "text/html": [
       "<div>\n",
       "<style scoped>\n",
       "    .dataframe tbody tr th:only-of-type {\n",
       "        vertical-align: middle;\n",
       "    }\n",
       "\n",
       "    .dataframe tbody tr th {\n",
       "        vertical-align: top;\n",
       "    }\n",
       "\n",
       "    .dataframe thead th {\n",
       "        text-align: right;\n",
       "    }\n",
       "</style>\n",
       "<table border=\"1\" class=\"dataframe\">\n",
       "  <thead>\n",
       "    <tr style=\"text-align: right;\">\n",
       "      <th>date</th>\n",
       "      <th>2020-03-17</th>\n",
       "      <th>2020-03-18</th>\n",
       "      <th>2020-03-19</th>\n",
       "      <th>2020-03-20</th>\n",
       "      <th>2020-03-21</th>\n",
       "      <th>2020-03-22</th>\n",
       "      <th>2020-03-24</th>\n",
       "      <th>2020-03-25</th>\n",
       "      <th>2020-03-26</th>\n",
       "      <th>2020-03-27</th>\n",
       "      <th>...</th>\n",
       "      <th>2020-06-28</th>\n",
       "      <th>2020-06-29</th>\n",
       "      <th>2020-06-03</th>\n",
       "      <th>2020-06-04</th>\n",
       "      <th>2020-06-05</th>\n",
       "      <th>2020-06-06</th>\n",
       "      <th>2020-06-07</th>\n",
       "      <th>2020-06-08</th>\n",
       "      <th>2020-06-09</th>\n",
       "      <th>2020-03-23</th>\n",
       "    </tr>\n",
       "    <tr>\n",
       "      <th>County</th>\n",
       "      <th></th>\n",
       "      <th></th>\n",
       "      <th></th>\n",
       "      <th></th>\n",
       "      <th></th>\n",
       "      <th></th>\n",
       "      <th></th>\n",
       "      <th></th>\n",
       "      <th></th>\n",
       "      <th></th>\n",
       "      <th></th>\n",
       "      <th></th>\n",
       "      <th></th>\n",
       "      <th></th>\n",
       "      <th></th>\n",
       "      <th></th>\n",
       "      <th></th>\n",
       "      <th></th>\n",
       "      <th></th>\n",
       "      <th></th>\n",
       "      <th></th>\n",
       "    </tr>\n",
       "  </thead>\n",
       "  <tbody>\n",
       "    <tr>\n",
       "      <th>Adams</th>\n",
       "      <td>0.0</td>\n",
       "      <td>0.0</td>\n",
       "      <td>0.0</td>\n",
       "      <td>0.0</td>\n",
       "      <td>0.0</td>\n",
       "      <td>0.0</td>\n",
       "      <td>0.0</td>\n",
       "      <td>0.0</td>\n",
       "      <td>0.0</td>\n",
       "      <td>0.0</td>\n",
       "      <td>...</td>\n",
       "      <td>8084.0</td>\n",
       "      <td>8221.0</td>\n",
       "      <td>4398.0</td>\n",
       "      <td>4461.0</td>\n",
       "      <td>4526.0</td>\n",
       "      <td>4555.0</td>\n",
       "      <td>4586.0</td>\n",
       "      <td>4623.0</td>\n",
       "      <td>4655.0</td>\n",
       "      <td>0.0</td>\n",
       "    </tr>\n",
       "    <tr>\n",
       "      <th>Alexander</th>\n",
       "      <td>0.0</td>\n",
       "      <td>0.0</td>\n",
       "      <td>0.0</td>\n",
       "      <td>0.0</td>\n",
       "      <td>0.0</td>\n",
       "      <td>0.0</td>\n",
       "      <td>0.0</td>\n",
       "      <td>0.0</td>\n",
       "      <td>0.0</td>\n",
       "      <td>0.0</td>\n",
       "      <td>...</td>\n",
       "      <td>495.0</td>\n",
       "      <td>508.0</td>\n",
       "      <td>227.0</td>\n",
       "      <td>231.0</td>\n",
       "      <td>250.0</td>\n",
       "      <td>253.0</td>\n",
       "      <td>256.0</td>\n",
       "      <td>258.0</td>\n",
       "      <td>260.0</td>\n",
       "      <td>0.0</td>\n",
       "    </tr>\n",
       "    <tr>\n",
       "      <th>Bond</th>\n",
       "      <td>0.0</td>\n",
       "      <td>0.0</td>\n",
       "      <td>0.0</td>\n",
       "      <td>0.0</td>\n",
       "      <td>0.0</td>\n",
       "      <td>0.0</td>\n",
       "      <td>0.0</td>\n",
       "      <td>0.0</td>\n",
       "      <td>0.0</td>\n",
       "      <td>0.0</td>\n",
       "      <td>...</td>\n",
       "      <td>818.0</td>\n",
       "      <td>849.0</td>\n",
       "      <td>368.0</td>\n",
       "      <td>387.0</td>\n",
       "      <td>403.0</td>\n",
       "      <td>410.0</td>\n",
       "      <td>433.0</td>\n",
       "      <td>439.0</td>\n",
       "      <td>450.0</td>\n",
       "      <td>0.0</td>\n",
       "    </tr>\n",
       "    <tr>\n",
       "      <th>Boone</th>\n",
       "      <td>0.0</td>\n",
       "      <td>0.0</td>\n",
       "      <td>0.0</td>\n",
       "      <td>0.0</td>\n",
       "      <td>0.0</td>\n",
       "      <td>0.0</td>\n",
       "      <td>0.0</td>\n",
       "      <td>0.0</td>\n",
       "      <td>0.0</td>\n",
       "      <td>0.0</td>\n",
       "      <td>...</td>\n",
       "      <td>5207.0</td>\n",
       "      <td>5250.0</td>\n",
       "      <td>3387.0</td>\n",
       "      <td>3441.0</td>\n",
       "      <td>3493.0</td>\n",
       "      <td>3597.0</td>\n",
       "      <td>3712.0</td>\n",
       "      <td>3759.0</td>\n",
       "      <td>3806.0</td>\n",
       "      <td>0.0</td>\n",
       "    </tr>\n",
       "    <tr>\n",
       "      <th>Brown</th>\n",
       "      <td>0.0</td>\n",
       "      <td>0.0</td>\n",
       "      <td>0.0</td>\n",
       "      <td>0.0</td>\n",
       "      <td>0.0</td>\n",
       "      <td>0.0</td>\n",
       "      <td>0.0</td>\n",
       "      <td>0.0</td>\n",
       "      <td>0.0</td>\n",
       "      <td>0.0</td>\n",
       "      <td>...</td>\n",
       "      <td>507.0</td>\n",
       "      <td>510.0</td>\n",
       "      <td>402.0</td>\n",
       "      <td>404.0</td>\n",
       "      <td>408.0</td>\n",
       "      <td>408.0</td>\n",
       "      <td>408.0</td>\n",
       "      <td>411.0</td>\n",
       "      <td>415.0</td>\n",
       "      <td>0.0</td>\n",
       "    </tr>\n",
       "    <tr>\n",
       "      <th>...</th>\n",
       "      <td>...</td>\n",
       "      <td>...</td>\n",
       "      <td>...</td>\n",
       "      <td>...</td>\n",
       "      <td>...</td>\n",
       "      <td>...</td>\n",
       "      <td>...</td>\n",
       "      <td>...</td>\n",
       "      <td>...</td>\n",
       "      <td>...</td>\n",
       "      <td>...</td>\n",
       "      <td>...</td>\n",
       "      <td>...</td>\n",
       "      <td>...</td>\n",
       "      <td>...</td>\n",
       "      <td>...</td>\n",
       "      <td>...</td>\n",
       "      <td>...</td>\n",
       "      <td>...</td>\n",
       "      <td>...</td>\n",
       "      <td>...</td>\n",
       "    </tr>\n",
       "    <tr>\n",
       "      <th>Whiteside</th>\n",
       "      <td>0.0</td>\n",
       "      <td>0.0</td>\n",
       "      <td>0.0</td>\n",
       "      <td>0.0</td>\n",
       "      <td>0.0</td>\n",
       "      <td>0.0</td>\n",
       "      <td>0.0</td>\n",
       "      <td>0.0</td>\n",
       "      <td>0.0</td>\n",
       "      <td>0.0</td>\n",
       "      <td>...</td>\n",
       "      <td>3933.0</td>\n",
       "      <td>3979.0</td>\n",
       "      <td>2192.0</td>\n",
       "      <td>2241.0</td>\n",
       "      <td>2311.0</td>\n",
       "      <td>2328.0</td>\n",
       "      <td>2437.0</td>\n",
       "      <td>2455.0</td>\n",
       "      <td>2537.0</td>\n",
       "      <td>0.0</td>\n",
       "    </tr>\n",
       "    <tr>\n",
       "      <th>Will</th>\n",
       "      <td>0.0</td>\n",
       "      <td>0.0</td>\n",
       "      <td>0.0</td>\n",
       "      <td>0.0</td>\n",
       "      <td>0.0</td>\n",
       "      <td>0.0</td>\n",
       "      <td>0.0</td>\n",
       "      <td>0.0</td>\n",
       "      <td>0.0</td>\n",
       "      <td>0.0</td>\n",
       "      <td>...</td>\n",
       "      <td>72278.0</td>\n",
       "      <td>73240.0</td>\n",
       "      <td>44426.0</td>\n",
       "      <td>45556.0</td>\n",
       "      <td>46412.0</td>\n",
       "      <td>47974.0</td>\n",
       "      <td>49128.0</td>\n",
       "      <td>49630.0</td>\n",
       "      <td>50778.0</td>\n",
       "      <td>0.0</td>\n",
       "    </tr>\n",
       "    <tr>\n",
       "      <th>Williamson</th>\n",
       "      <td>0.0</td>\n",
       "      <td>0.0</td>\n",
       "      <td>0.0</td>\n",
       "      <td>0.0</td>\n",
       "      <td>0.0</td>\n",
       "      <td>0.0</td>\n",
       "      <td>0.0</td>\n",
       "      <td>0.0</td>\n",
       "      <td>0.0</td>\n",
       "      <td>0.0</td>\n",
       "      <td>...</td>\n",
       "      <td>5432.0</td>\n",
       "      <td>5577.0</td>\n",
       "      <td>2547.0</td>\n",
       "      <td>2656.0</td>\n",
       "      <td>2735.0</td>\n",
       "      <td>2921.0</td>\n",
       "      <td>3093.0</td>\n",
       "      <td>3171.0</td>\n",
       "      <td>3243.0</td>\n",
       "      <td>0.0</td>\n",
       "    </tr>\n",
       "    <tr>\n",
       "      <th>Winnebago</th>\n",
       "      <td>0.0</td>\n",
       "      <td>0.0</td>\n",
       "      <td>0.0</td>\n",
       "      <td>0.0</td>\n",
       "      <td>0.0</td>\n",
       "      <td>0.0</td>\n",
       "      <td>0.0</td>\n",
       "      <td>0.0</td>\n",
       "      <td>0.0</td>\n",
       "      <td>0.0</td>\n",
       "      <td>...</td>\n",
       "      <td>31753.0</td>\n",
       "      <td>32108.0</td>\n",
       "      <td>21267.0</td>\n",
       "      <td>21855.0</td>\n",
       "      <td>22268.0</td>\n",
       "      <td>22714.0</td>\n",
       "      <td>23203.0</td>\n",
       "      <td>23480.0</td>\n",
       "      <td>23812.0</td>\n",
       "      <td>0.0</td>\n",
       "    </tr>\n",
       "    <tr>\n",
       "      <th>Woodford</th>\n",
       "      <td>0.0</td>\n",
       "      <td>0.0</td>\n",
       "      <td>0.0</td>\n",
       "      <td>0.0</td>\n",
       "      <td>0.0</td>\n",
       "      <td>0.0</td>\n",
       "      <td>0.0</td>\n",
       "      <td>0.0</td>\n",
       "      <td>0.0</td>\n",
       "      <td>0.0</td>\n",
       "      <td>...</td>\n",
       "      <td>2362.0</td>\n",
       "      <td>2402.0</td>\n",
       "      <td>1254.0</td>\n",
       "      <td>1411.0</td>\n",
       "      <td>1497.0</td>\n",
       "      <td>1524.0</td>\n",
       "      <td>1543.0</td>\n",
       "      <td>1557.0</td>\n",
       "      <td>1576.0</td>\n",
       "      <td>0.0</td>\n",
       "    </tr>\n",
       "  </tbody>\n",
       "</table>\n",
       "<p>106 rows × 105 columns</p>\n",
       "</div>"
      ],
      "text/plain": [
       "date        2020-03-17  2020-03-18  2020-03-19  2020-03-20  2020-03-21  \\\n",
       "County                                                                   \n",
       "Adams              0.0         0.0         0.0         0.0         0.0   \n",
       "Alexander          0.0         0.0         0.0         0.0         0.0   \n",
       "Bond               0.0         0.0         0.0         0.0         0.0   \n",
       "Boone              0.0         0.0         0.0         0.0         0.0   \n",
       "Brown              0.0         0.0         0.0         0.0         0.0   \n",
       "...                ...         ...         ...         ...         ...   \n",
       "Whiteside          0.0         0.0         0.0         0.0         0.0   \n",
       "Will               0.0         0.0         0.0         0.0         0.0   \n",
       "Williamson         0.0         0.0         0.0         0.0         0.0   \n",
       "Winnebago          0.0         0.0         0.0         0.0         0.0   \n",
       "Woodford           0.0         0.0         0.0         0.0         0.0   \n",
       "\n",
       "date        2020-03-22  2020-03-24  2020-03-25  2020-03-26  2020-03-27  ...  \\\n",
       "County                                                                  ...   \n",
       "Adams              0.0         0.0         0.0         0.0         0.0  ...   \n",
       "Alexander          0.0         0.0         0.0         0.0         0.0  ...   \n",
       "Bond               0.0         0.0         0.0         0.0         0.0  ...   \n",
       "Boone              0.0         0.0         0.0         0.0         0.0  ...   \n",
       "Brown              0.0         0.0         0.0         0.0         0.0  ...   \n",
       "...                ...         ...         ...         ...         ...  ...   \n",
       "Whiteside          0.0         0.0         0.0         0.0         0.0  ...   \n",
       "Will               0.0         0.0         0.0         0.0         0.0  ...   \n",
       "Williamson         0.0         0.0         0.0         0.0         0.0  ...   \n",
       "Winnebago          0.0         0.0         0.0         0.0         0.0  ...   \n",
       "Woodford           0.0         0.0         0.0         0.0         0.0  ...   \n",
       "\n",
       "date        2020-06-28  2020-06-29  2020-06-03  2020-06-04  2020-06-05  \\\n",
       "County                                                                   \n",
       "Adams           8084.0      8221.0      4398.0      4461.0      4526.0   \n",
       "Alexander        495.0       508.0       227.0       231.0       250.0   \n",
       "Bond             818.0       849.0       368.0       387.0       403.0   \n",
       "Boone           5207.0      5250.0      3387.0      3441.0      3493.0   \n",
       "Brown            507.0       510.0       402.0       404.0       408.0   \n",
       "...                ...         ...         ...         ...         ...   \n",
       "Whiteside       3933.0      3979.0      2192.0      2241.0      2311.0   \n",
       "Will           72278.0     73240.0     44426.0     45556.0     46412.0   \n",
       "Williamson      5432.0      5577.0      2547.0      2656.0      2735.0   \n",
       "Winnebago      31753.0     32108.0     21267.0     21855.0     22268.0   \n",
       "Woodford        2362.0      2402.0      1254.0      1411.0      1497.0   \n",
       "\n",
       "date        2020-06-06  2020-06-07  2020-06-08  2020-06-09  2020-03-23  \n",
       "County                                                                  \n",
       "Adams           4555.0      4586.0      4623.0      4655.0         0.0  \n",
       "Alexander        253.0       256.0       258.0       260.0         0.0  \n",
       "Bond             410.0       433.0       439.0       450.0         0.0  \n",
       "Boone           3597.0      3712.0      3759.0      3806.0         0.0  \n",
       "Brown            408.0       408.0       411.0       415.0         0.0  \n",
       "...                ...         ...         ...         ...         ...  \n",
       "Whiteside       2328.0      2437.0      2455.0      2537.0         0.0  \n",
       "Will           47974.0     49128.0     49630.0     50778.0         0.0  \n",
       "Williamson      2921.0      3093.0      3171.0      3243.0         0.0  \n",
       "Winnebago      22714.0     23203.0     23480.0     23812.0         0.0  \n",
       "Woodford        1524.0      1543.0      1557.0      1576.0         0.0  \n",
       "\n",
       "[106 rows x 105 columns]"
      ]
     },
     "execution_count": 371,
     "metadata": {},
     "output_type": "execute_result"
    }
   ],
   "source": [
    "county_tested"
   ]
  },
  {
   "cell_type": "code",
   "execution_count": 372,
   "metadata": {
    "pycharm": {
     "is_executing": false,
     "name": "#%%\n"
    }
   },
   "outputs": [],
   "source": [
    "# Get date information\n",
    "date = county_cases.columns.tolist()\n",
    "date.sort()\n",
    "dt_first = date[0]\n",
    "dt_today = date[-1]\n",
    "dt_yesterday = date[-2]"
   ]
  },
  {
   "cell_type": "code",
   "execution_count": 373,
   "metadata": {
    "pycharm": {
     "is_executing": false,
     "name": "#%%\n"
    }
   },
   "outputs": [],
   "source": [
    "from datetime import datetime\n",
    "from datetime import timedelta"
   ]
  },
  {
   "cell_type": "code",
   "execution_count": 374,
   "metadata": {
    "pycharm": {
     "is_executing": false,
     "name": "#%%\n"
    }
   },
   "outputs": [],
   "source": [
    "def find_missing_date(date):\n",
    "    dt_range = datetime.strptime(date[-1], \"%Y-%m-%d\") - datetime.strptime(date[0], \"%Y-%m-%d\")\n",
    "    if len(date) != dt_range.days + 1:\n",
    "        print('Alert! Missing Date or Redundant date')\n",
    "        for x in range(len(date) - 1):\n",
    "            if (datetime.strptime(date[x + 1], \"%Y-%m-%d\") - datetime.strptime(date[x], \"%Y-%m-%d\")).days != 1:\n",
    "                missing_date = datetime.strptime(date[x], \"%Y-%m-%d\") + timedelta(days=1)\n",
    "                print('Missing Date:')\n",
    "                print(missing_date)"
   ]
  },
  {
   "cell_type": "code",
   "execution_count": 375,
   "metadata": {
    "pycharm": {
     "is_executing": false,
     "name": "#%%\n"
    }
   },
   "outputs": [],
   "source": [
    "# Looking for missing dates\n",
    "find_missing_date(date)"
   ]
  },
  {
   "cell_type": "code",
   "execution_count": 376,
   "metadata": {
    "pycharm": {
     "is_executing": false,
     "name": "#%%\n"
    }
   },
   "outputs": [],
   "source": [
    "# reorder date\n",
    "county_cases = county_cases[date]\n",
    "county_deaths = county_deaths[date]\n",
    "county_tested = county_tested[date]"
   ]
  },
  {
   "cell_type": "code",
   "execution_count": 377,
   "metadata": {
    "pycharm": {
     "is_executing": false,
     "name": "#%%\n"
    }
   },
   "outputs": [],
   "source": [
    "# get case time series\n",
    "cases_ts = county_cases.values.tolist()\n",
    "deaths_ts = county_deaths.values.tolist()\n",
    "tested_ts = county_tested.values.tolist()"
   ]
  },
  {
   "cell_type": "code",
   "execution_count": 378,
   "metadata": {
    "pycharm": {
     "is_executing": false,
     "name": "#%%\n"
    }
   },
   "outputs": [],
   "source": [
    "# get first case date\n",
    "county_cases['dt_first_case'] = (county_cases > 0).idxmax(axis=1)\n",
    "county_cases.loc[county_cases.iloc[:, -2] <= 0, 'dt_first_case'] = np.nan\n",
    "county_deaths['dt_first_death'] = (county_deaths > 0).idxmax(axis=1)\n",
    "county_deaths.loc[county_deaths.iloc[:, -2] <= 0, 'dt_first_death'] = np.nan"
   ]
  },
  {
   "cell_type": "code",
   "execution_count": 379,
   "metadata": {
    "pycharm": {
     "is_executing": false,
     "name": "#%%\n"
    }
   },
   "outputs": [],
   "source": [
    "county_cases['cases_ts'] = cases_ts\n",
    "county_deaths['deaths_ts'] = deaths_ts"
   ]
  },
  {
   "cell_type": "code",
   "execution_count": 380,
   "metadata": {
    "pycharm": {
     "is_executing": false,
     "name": "#%%\n"
    }
   },
   "outputs": [
    {
     "name": "stderr",
     "output_type": "stream",
     "text": [
      "C:\\Users\\lymin\\Anaconda3\\envs\\wherecovid19\\lib\\site-packages\\ipykernel_launcher.py:6: SettingWithCopyWarning: \n",
      "A value is trying to be set on a copy of a slice from a DataFrame.\n",
      "Try using .loc[row_indexer,col_indexer] = value instead\n",
      "\n",
      "See the caveats in the documentation: https://pandas.pydata.org/pandas-docs/stable/user_guide/indexing.html#returning-a-view-versus-a-copy\n",
      "  \n",
      "C:\\Users\\lymin\\Anaconda3\\envs\\wherecovid19\\lib\\site-packages\\ipykernel_launcher.py:7: SettingWithCopyWarning: \n",
      "A value is trying to be set on a copy of a slice from a DataFrame.\n",
      "Try using .loc[row_indexer,col_indexer] = value instead\n",
      "\n",
      "See the caveats in the documentation: https://pandas.pydata.org/pandas-docs/stable/user_guide/indexing.html#returning-a-view-versus-a-copy\n",
      "  import sys\n"
     ]
    }
   ],
   "source": [
    "# Add today_case and today_new_case columns\n",
    "county_cases['today_case'] = county_cases[dt_today]\n",
    "county_cases['today_new_case'] = county_cases[dt_today] - county_cases[dt_yesterday]\n",
    "county_deaths['today_death'] = county_deaths[dt_today]\n",
    "county_deaths['today_new_death'] = county_deaths[dt_today] - county_deaths[dt_yesterday]\n",
    "county_tested['today_tested'] = county_tested[dt_today]\n",
    "county_tested['today_new_tested'] = county_tested[dt_today] - county_tested[dt_yesterday]"
   ]
  },
  {
   "cell_type": "code",
   "execution_count": 381,
   "metadata": {
    "pycharm": {
     "is_executing": false,
     "name": "#%%\n"
    }
   },
   "outputs": [],
   "source": [
    "case_report = county_cases[['cases_ts','dt_first_case','today_case','today_new_case']]"
   ]
  },
  {
   "cell_type": "code",
   "execution_count": 382,
   "metadata": {
    "pycharm": {
     "is_executing": false,
     "name": "#%%\n"
    }
   },
   "outputs": [],
   "source": [
    "death_report = county_deaths[['deaths_ts','dt_first_death','today_death','today_new_death']]"
   ]
  },
  {
   "cell_type": "code",
   "execution_count": 383,
   "metadata": {},
   "outputs": [],
   "source": [
    "tested_report = county_tested[['today_tested','today_new_tested']]"
   ]
  },
  {
   "cell_type": "code",
   "execution_count": 384,
   "metadata": {
    "pycharm": {
     "is_executing": false,
     "name": "#%%\n"
    }
   },
   "outputs": [],
   "source": [
    "county_report = case_report.join(death_report, how=\"outer\").join(tested_report, how=\"outer\")"
   ]
  },
  {
   "cell_type": "code",
   "execution_count": 385,
   "metadata": {
    "pycharm": {
     "is_executing": false,
     "name": "#%%\n"
    }
   },
   "outputs": [],
   "source": [
    "county_report = county_report.reset_index()\n",
    "county_report.columns = ['NAME','cases_ts','dt_first_case','today_case','today_new_case','deaths_ts','dt_first_death','today_death','today_new_death','today_tested','today_new_tested']\n",
    "county_report['cases_ts'] = county_report['cases_ts'].apply(lambda x: ','.join(map(str,x)))\n",
    "county_report['deaths_ts'] = county_report['deaths_ts'].apply(lambda x: ','.join(map(str,x)))"
   ]
  },
  {
   "cell_type": "code",
   "execution_count": 386,
   "metadata": {},
   "outputs": [],
   "source": [
    "# county_gpd_dynamic = county_gpd_static"
   ]
  },
  {
   "cell_type": "code",
   "execution_count": 387,
   "metadata": {
    "pycharm": {
     "is_executing": false,
     "name": "#%%\n"
    }
   },
   "outputs": [
    {
     "data": {
      "text/plain": [
       "array(['Out Of State', 'Suburban Cook'], dtype=object)"
      ]
     },
     "execution_count": 387,
     "metadata": {},
     "output_type": "execute_result"
    }
   ],
   "source": [
    "np.setdiff1d(county_report['NAME'],county_gpd_dynamic['id'])\n",
    "# Illinois, Out of State and Suburban Cook is not in geometry"
   ]
  },
  {
   "cell_type": "code",
   "execution_count": 388,
   "metadata": {
    "pycharm": {
     "is_executing": false,
     "name": "#%%\n"
    }
   },
   "outputs": [],
   "source": [
    "county_report = county_report[(county_report['NAME'] != 'Out Of State') & (county_report['NAME'] != 'Suburban Cook')]"
   ]
  },
  {
   "cell_type": "code",
   "execution_count": 389,
   "metadata": {
    "pycharm": {
     "is_executing": false,
     "name": "#%%\n"
    }
   },
   "outputs": [],
   "source": [
    "county_report['dt_start'] = dt_first\n",
    "county_report['dt_end'] = dt_today\n",
    "county_report['dt_unit'] = 'day'"
   ]
  },
  {
   "cell_type": "code",
   "execution_count": 390,
   "metadata": {
    "pycharm": {
     "is_executing": false,
     "name": "#%%\n"
    }
   },
   "outputs": [
    {
     "data": {
      "text/html": [
       "<div>\n",
       "<style scoped>\n",
       "    .dataframe tbody tr th:only-of-type {\n",
       "        vertical-align: middle;\n",
       "    }\n",
       "\n",
       "    .dataframe tbody tr th {\n",
       "        vertical-align: top;\n",
       "    }\n",
       "\n",
       "    .dataframe thead th {\n",
       "        text-align: right;\n",
       "    }\n",
       "</style>\n",
       "<table border=\"1\" class=\"dataframe\">\n",
       "  <thead>\n",
       "    <tr style=\"text-align: right;\">\n",
       "      <th></th>\n",
       "      <th>NAME</th>\n",
       "      <th>cases_ts</th>\n",
       "      <th>dt_first_case</th>\n",
       "      <th>today_case</th>\n",
       "      <th>today_new_case</th>\n",
       "      <th>deaths_ts</th>\n",
       "      <th>dt_first_death</th>\n",
       "      <th>today_death</th>\n",
       "      <th>today_new_death</th>\n",
       "      <th>today_tested</th>\n",
       "      <th>today_new_tested</th>\n",
       "      <th>dt_start</th>\n",
       "      <th>dt_end</th>\n",
       "      <th>dt_unit</th>\n",
       "    </tr>\n",
       "  </thead>\n",
       "  <tbody>\n",
       "    <tr>\n",
       "      <th>0</th>\n",
       "      <td>Adams</td>\n",
       "      <td>0.0,0.0,0.0,1.0,1.0,1.0,1.0,1.0,1.0,1.0,1.0,1....</td>\n",
       "      <td>2020-03-20</td>\n",
       "      <td>88.0</td>\n",
       "      <td>5.0</td>\n",
       "      <td>0.0,0.0,0.0,0.0,0.0,0.0,0.0,0.0,0.0,0.0,0.0,0....</td>\n",
       "      <td>2020-05-01</td>\n",
       "      <td>1.0</td>\n",
       "      <td>0.0</td>\n",
       "      <td>8221.0</td>\n",
       "      <td>137.0</td>\n",
       "      <td>2020-03-17</td>\n",
       "      <td>2020-06-29</td>\n",
       "      <td>day</td>\n",
       "    </tr>\n",
       "    <tr>\n",
       "      <th>1</th>\n",
       "      <td>Alexander</td>\n",
       "      <td>0.0,0.0,0.0,0.0,0.0,0.0,0.0,0.0,0.0,0.0,0.0,0....</td>\n",
       "      <td>2020-04-16</td>\n",
       "      <td>22.0</td>\n",
       "      <td>0.0</td>\n",
       "      <td>0.0,0.0,0.0,0.0,0.0,0.0,0.0,0.0,0.0,0.0,0.0,0....</td>\n",
       "      <td>NaN</td>\n",
       "      <td>0.0</td>\n",
       "      <td>0.0</td>\n",
       "      <td>508.0</td>\n",
       "      <td>13.0</td>\n",
       "      <td>2020-03-17</td>\n",
       "      <td>2020-06-29</td>\n",
       "      <td>day</td>\n",
       "    </tr>\n",
       "    <tr>\n",
       "      <th>2</th>\n",
       "      <td>Bond</td>\n",
       "      <td>0.0,0.0,0.0,0.0,0.0,0.0,0.0,0.0,0.0,0.0,0.0,0....</td>\n",
       "      <td>2020-03-29</td>\n",
       "      <td>13.0</td>\n",
       "      <td>0.0</td>\n",
       "      <td>0.0,0.0,0.0,0.0,0.0,0.0,0.0,0.0,0.0,0.0,0.0,0....</td>\n",
       "      <td>2020-04-16</td>\n",
       "      <td>1.0</td>\n",
       "      <td>0.0</td>\n",
       "      <td>849.0</td>\n",
       "      <td>31.0</td>\n",
       "      <td>2020-03-17</td>\n",
       "      <td>2020-06-29</td>\n",
       "      <td>day</td>\n",
       "    </tr>\n",
       "    <tr>\n",
       "      <th>3</th>\n",
       "      <td>Boone</td>\n",
       "      <td>0.0,0.0,0.0,0.0,0.0,0.0,0.0,0.0,0.0,0.0,0.0,0....</td>\n",
       "      <td>2020-04-05</td>\n",
       "      <td>579.0</td>\n",
       "      <td>2.0</td>\n",
       "      <td>0.0,0.0,0.0,0.0,0.0,0.0,0.0,0.0,0.0,0.0,0.0,0....</td>\n",
       "      <td>2020-04-08</td>\n",
       "      <td>21.0</td>\n",
       "      <td>0.0</td>\n",
       "      <td>5250.0</td>\n",
       "      <td>43.0</td>\n",
       "      <td>2020-03-17</td>\n",
       "      <td>2020-06-29</td>\n",
       "      <td>day</td>\n",
       "    </tr>\n",
       "    <tr>\n",
       "      <th>4</th>\n",
       "      <td>Brown</td>\n",
       "      <td>0.0,0.0,0.0,0.0,0.0,0.0,0.0,0.0,0.0,0.0,0.0,0....</td>\n",
       "      <td>2020-05-01</td>\n",
       "      <td>10.0</td>\n",
       "      <td>0.0</td>\n",
       "      <td>0.0,0.0,0.0,0.0,0.0,0.0,0.0,0.0,0.0,0.0,0.0,0....</td>\n",
       "      <td>NaN</td>\n",
       "      <td>0.0</td>\n",
       "      <td>0.0</td>\n",
       "      <td>510.0</td>\n",
       "      <td>3.0</td>\n",
       "      <td>2020-03-17</td>\n",
       "      <td>2020-06-29</td>\n",
       "      <td>day</td>\n",
       "    </tr>\n",
       "    <tr>\n",
       "      <th>...</th>\n",
       "      <td>...</td>\n",
       "      <td>...</td>\n",
       "      <td>...</td>\n",
       "      <td>...</td>\n",
       "      <td>...</td>\n",
       "      <td>...</td>\n",
       "      <td>...</td>\n",
       "      <td>...</td>\n",
       "      <td>...</td>\n",
       "      <td>...</td>\n",
       "      <td>...</td>\n",
       "      <td>...</td>\n",
       "      <td>...</td>\n",
       "      <td>...</td>\n",
       "    </tr>\n",
       "    <tr>\n",
       "      <th>101</th>\n",
       "      <td>Whiteside</td>\n",
       "      <td>1.0,1.0,1.0,1.0,1.0,1.0,1.0,1.0,1.0,1.0,2.0,2....</td>\n",
       "      <td>2020-03-17</td>\n",
       "      <td>183.0</td>\n",
       "      <td>0.0</td>\n",
       "      <td>0.0,0.0,0.0,0.0,0.0,0.0,0.0,0.0,0.0,0.0,0.0,0....</td>\n",
       "      <td>2020-04-02</td>\n",
       "      <td>15.0</td>\n",
       "      <td>0.0</td>\n",
       "      <td>3979.0</td>\n",
       "      <td>46.0</td>\n",
       "      <td>2020-03-17</td>\n",
       "      <td>2020-06-29</td>\n",
       "      <td>day</td>\n",
       "    </tr>\n",
       "    <tr>\n",
       "      <th>102</th>\n",
       "      <td>Will</td>\n",
       "      <td>2.0,3.0,9.0,10.0,12.0,21.0,21.0,28.0,40.0,67.0...</td>\n",
       "      <td>2020-03-17</td>\n",
       "      <td>6635.0</td>\n",
       "      <td>27.0</td>\n",
       "      <td>0.0,0.0,0.0,1.0,1.0,1.0,1.0,1.0,2.0,3.0,3.0,4....</td>\n",
       "      <td>2020-03-20</td>\n",
       "      <td>319.0</td>\n",
       "      <td>0.0</td>\n",
       "      <td>73240.0</td>\n",
       "      <td>962.0</td>\n",
       "      <td>2020-03-17</td>\n",
       "      <td>2020-06-29</td>\n",
       "      <td>day</td>\n",
       "    </tr>\n",
       "    <tr>\n",
       "      <th>103</th>\n",
       "      <td>Williamson</td>\n",
       "      <td>0.0,0.0,1.0,1.0,1.0,1.0,1.0,0.0,1.0,1.0,1.0,1....</td>\n",
       "      <td>2020-03-19</td>\n",
       "      <td>114.0</td>\n",
       "      <td>1.0</td>\n",
       "      <td>0.0,0.0,1.0,1.0,0.0,0.0,0.0,0.0,0.0,0.0,0.0,0....</td>\n",
       "      <td>2020-03-19</td>\n",
       "      <td>4.0</td>\n",
       "      <td>0.0</td>\n",
       "      <td>5577.0</td>\n",
       "      <td>145.0</td>\n",
       "      <td>2020-03-17</td>\n",
       "      <td>2020-06-29</td>\n",
       "      <td>day</td>\n",
       "    </tr>\n",
       "    <tr>\n",
       "      <th>104</th>\n",
       "      <td>Winnebago</td>\n",
       "      <td>1.0,1.0,1.0,2.0,4.0,5.0,5.0,5.0,7.0,8.0,8.0,9....</td>\n",
       "      <td>2020-03-17</td>\n",
       "      <td>3014.0</td>\n",
       "      <td>10.0</td>\n",
       "      <td>0.0,0.0,0.0,0.0,0.0,0.0,0.0,0.0,0.0,0.0,0.0,0....</td>\n",
       "      <td>2020-04-01</td>\n",
       "      <td>92.0</td>\n",
       "      <td>0.0</td>\n",
       "      <td>32108.0</td>\n",
       "      <td>355.0</td>\n",
       "      <td>2020-03-17</td>\n",
       "      <td>2020-06-29</td>\n",
       "      <td>day</td>\n",
       "    </tr>\n",
       "    <tr>\n",
       "      <th>105</th>\n",
       "      <td>Woodford</td>\n",
       "      <td>1.0,1.0,2.0,2.0,2.0,2.0,2.0,3.0,3.0,3.0,3.0,3....</td>\n",
       "      <td>2020-03-17</td>\n",
       "      <td>33.0</td>\n",
       "      <td>0.0</td>\n",
       "      <td>0.0,0.0,0.0,0.0,0.0,0.0,0.0,0.0,0.0,0.0,0.0,0....</td>\n",
       "      <td>2020-04-21</td>\n",
       "      <td>2.0</td>\n",
       "      <td>0.0</td>\n",
       "      <td>2402.0</td>\n",
       "      <td>40.0</td>\n",
       "      <td>2020-03-17</td>\n",
       "      <td>2020-06-29</td>\n",
       "      <td>day</td>\n",
       "    </tr>\n",
       "  </tbody>\n",
       "</table>\n",
       "<p>104 rows × 14 columns</p>\n",
       "</div>"
      ],
      "text/plain": [
       "           NAME                                           cases_ts  \\\n",
       "0         Adams  0.0,0.0,0.0,1.0,1.0,1.0,1.0,1.0,1.0,1.0,1.0,1....   \n",
       "1     Alexander  0.0,0.0,0.0,0.0,0.0,0.0,0.0,0.0,0.0,0.0,0.0,0....   \n",
       "2          Bond  0.0,0.0,0.0,0.0,0.0,0.0,0.0,0.0,0.0,0.0,0.0,0....   \n",
       "3         Boone  0.0,0.0,0.0,0.0,0.0,0.0,0.0,0.0,0.0,0.0,0.0,0....   \n",
       "4         Brown  0.0,0.0,0.0,0.0,0.0,0.0,0.0,0.0,0.0,0.0,0.0,0....   \n",
       "..          ...                                                ...   \n",
       "101   Whiteside  1.0,1.0,1.0,1.0,1.0,1.0,1.0,1.0,1.0,1.0,2.0,2....   \n",
       "102        Will  2.0,3.0,9.0,10.0,12.0,21.0,21.0,28.0,40.0,67.0...   \n",
       "103  Williamson  0.0,0.0,1.0,1.0,1.0,1.0,1.0,0.0,1.0,1.0,1.0,1....   \n",
       "104   Winnebago  1.0,1.0,1.0,2.0,4.0,5.0,5.0,5.0,7.0,8.0,8.0,9....   \n",
       "105    Woodford  1.0,1.0,2.0,2.0,2.0,2.0,2.0,3.0,3.0,3.0,3.0,3....   \n",
       "\n",
       "    dt_first_case  today_case  today_new_case  \\\n",
       "0      2020-03-20        88.0             5.0   \n",
       "1      2020-04-16        22.0             0.0   \n",
       "2      2020-03-29        13.0             0.0   \n",
       "3      2020-04-05       579.0             2.0   \n",
       "4      2020-05-01        10.0             0.0   \n",
       "..            ...         ...             ...   \n",
       "101    2020-03-17       183.0             0.0   \n",
       "102    2020-03-17      6635.0            27.0   \n",
       "103    2020-03-19       114.0             1.0   \n",
       "104    2020-03-17      3014.0            10.0   \n",
       "105    2020-03-17        33.0             0.0   \n",
       "\n",
       "                                             deaths_ts dt_first_death  \\\n",
       "0    0.0,0.0,0.0,0.0,0.0,0.0,0.0,0.0,0.0,0.0,0.0,0....     2020-05-01   \n",
       "1    0.0,0.0,0.0,0.0,0.0,0.0,0.0,0.0,0.0,0.0,0.0,0....            NaN   \n",
       "2    0.0,0.0,0.0,0.0,0.0,0.0,0.0,0.0,0.0,0.0,0.0,0....     2020-04-16   \n",
       "3    0.0,0.0,0.0,0.0,0.0,0.0,0.0,0.0,0.0,0.0,0.0,0....     2020-04-08   \n",
       "4    0.0,0.0,0.0,0.0,0.0,0.0,0.0,0.0,0.0,0.0,0.0,0....            NaN   \n",
       "..                                                 ...            ...   \n",
       "101  0.0,0.0,0.0,0.0,0.0,0.0,0.0,0.0,0.0,0.0,0.0,0....     2020-04-02   \n",
       "102  0.0,0.0,0.0,1.0,1.0,1.0,1.0,1.0,2.0,3.0,3.0,4....     2020-03-20   \n",
       "103  0.0,0.0,1.0,1.0,0.0,0.0,0.0,0.0,0.0,0.0,0.0,0....     2020-03-19   \n",
       "104  0.0,0.0,0.0,0.0,0.0,0.0,0.0,0.0,0.0,0.0,0.0,0....     2020-04-01   \n",
       "105  0.0,0.0,0.0,0.0,0.0,0.0,0.0,0.0,0.0,0.0,0.0,0....     2020-04-21   \n",
       "\n",
       "     today_death  today_new_death  today_tested  today_new_tested    dt_start  \\\n",
       "0            1.0              0.0        8221.0             137.0  2020-03-17   \n",
       "1            0.0              0.0         508.0              13.0  2020-03-17   \n",
       "2            1.0              0.0         849.0              31.0  2020-03-17   \n",
       "3           21.0              0.0        5250.0              43.0  2020-03-17   \n",
       "4            0.0              0.0         510.0               3.0  2020-03-17   \n",
       "..           ...              ...           ...               ...         ...   \n",
       "101         15.0              0.0        3979.0              46.0  2020-03-17   \n",
       "102        319.0              0.0       73240.0             962.0  2020-03-17   \n",
       "103          4.0              0.0        5577.0             145.0  2020-03-17   \n",
       "104         92.0              0.0       32108.0             355.0  2020-03-17   \n",
       "105          2.0              0.0        2402.0              40.0  2020-03-17   \n",
       "\n",
       "         dt_end dt_unit  \n",
       "0    2020-06-29     day  \n",
       "1    2020-06-29     day  \n",
       "2    2020-06-29     day  \n",
       "3    2020-06-29     day  \n",
       "4    2020-06-29     day  \n",
       "..          ...     ...  \n",
       "101  2020-06-29     day  \n",
       "102  2020-06-29     day  \n",
       "103  2020-06-29     day  \n",
       "104  2020-06-29     day  \n",
       "105  2020-06-29     day  \n",
       "\n",
       "[104 rows x 14 columns]"
      ]
     },
     "execution_count": 390,
     "metadata": {},
     "output_type": "execute_result"
    }
   ],
   "source": [
    "county_report"
   ]
  },
  {
   "cell_type": "code",
   "execution_count": 391,
   "metadata": {
    "pycharm": {
     "is_executing": false,
     "name": "#%%\n"
    }
   },
   "outputs": [],
   "source": [
    "county_final_gpd = pd.merge(county_gpd_dynamic, county_report, how=\"left\", left_on=\"id\", right_on=\"NAME\")"
   ]
  },
  {
   "cell_type": "code",
   "execution_count": 392,
   "metadata": {
    "pycharm": {
     "is_executing": false,
     "name": "#%%\n"
    }
   },
   "outputs": [],
   "source": [
    "county_final_gpd['population'] = 1"
   ]
  },
  {
   "cell_type": "code",
   "execution_count": 394,
   "metadata": {},
   "outputs": [
    {
     "data": {
      "text/html": [
       "<div>\n",
       "<style scoped>\n",
       "    .dataframe tbody tr th:only-of-type {\n",
       "        vertical-align: middle;\n",
       "    }\n",
       "\n",
       "    .dataframe tbody tr th {\n",
       "        vertical-align: top;\n",
       "    }\n",
       "\n",
       "    .dataframe thead th {\n",
       "        text-align: right;\n",
       "    }\n",
       "</style>\n",
       "<table border=\"1\" class=\"dataframe\">\n",
       "  <thead>\n",
       "    <tr style=\"text-align: right;\">\n",
       "      <th></th>\n",
       "      <th>id</th>\n",
       "      <th>geometry</th>\n",
       "      <th>NAME</th>\n",
       "      <th>cases_ts</th>\n",
       "      <th>dt_first_case</th>\n",
       "      <th>today_case</th>\n",
       "      <th>today_new_case</th>\n",
       "      <th>deaths_ts</th>\n",
       "      <th>dt_first_death</th>\n",
       "      <th>today_death</th>\n",
       "      <th>today_new_death</th>\n",
       "      <th>today_tested</th>\n",
       "      <th>today_new_tested</th>\n",
       "      <th>dt_start</th>\n",
       "      <th>dt_end</th>\n",
       "      <th>dt_unit</th>\n",
       "      <th>population</th>\n",
       "    </tr>\n",
       "  </thead>\n",
       "  <tbody>\n",
       "    <tr>\n",
       "      <th>0</th>\n",
       "      <td>McHenry</td>\n",
       "      <td>POLYGON ((-88.70742 42.49352, -88.70741 42.493...</td>\n",
       "      <td>McHenry</td>\n",
       "      <td>2.0,4.0,6.0,8.0,11.0,12.0,12.0,14.0,19.0,27.0,...</td>\n",
       "      <td>2020-03-17</td>\n",
       "      <td>2010.0</td>\n",
       "      <td>11.0</td>\n",
       "      <td>0.0,0.0,0.0,0.0,0.0,0.0,0.0,0.0,0.0,1.0,1.0,2....</td>\n",
       "      <td>2020-03-26</td>\n",
       "      <td>97.0</td>\n",
       "      <td>0.0</td>\n",
       "      <td>23110.0</td>\n",
       "      <td>393.0</td>\n",
       "      <td>2020-03-17</td>\n",
       "      <td>2020-06-29</td>\n",
       "      <td>day</td>\n",
       "      <td>1</td>\n",
       "    </tr>\n",
       "    <tr>\n",
       "      <th>1</th>\n",
       "      <td>Boone</td>\n",
       "      <td>POLYGON ((-88.70742 42.49352, -88.70750 42.493...</td>\n",
       "      <td>Boone</td>\n",
       "      <td>0.0,0.0,0.0,0.0,0.0,0.0,0.0,0.0,0.0,0.0,0.0,0....</td>\n",
       "      <td>2020-04-05</td>\n",
       "      <td>579.0</td>\n",
       "      <td>2.0</td>\n",
       "      <td>0.0,0.0,0.0,0.0,0.0,0.0,0.0,0.0,0.0,0.0,0.0,0....</td>\n",
       "      <td>2020-04-08</td>\n",
       "      <td>21.0</td>\n",
       "      <td>0.0</td>\n",
       "      <td>5250.0</td>\n",
       "      <td>43.0</td>\n",
       "      <td>2020-03-17</td>\n",
       "      <td>2020-06-29</td>\n",
       "      <td>day</td>\n",
       "      <td>1</td>\n",
       "    </tr>\n",
       "    <tr>\n",
       "      <th>2</th>\n",
       "      <td>Ogle</td>\n",
       "      <td>POLYGON ((-89.68809 42.19950, -89.68807 42.184...</td>\n",
       "      <td>Ogle</td>\n",
       "      <td>0.0,0.0,0.0,0.0,0.0,0.0,0.0,0.0,0.0,0.0,0.0,0....</td>\n",
       "      <td>2020-03-31</td>\n",
       "      <td>256.0</td>\n",
       "      <td>4.0</td>\n",
       "      <td>0.0,0.0,0.0,0.0,0.0,0.0,0.0,0.0,0.0,0.0,0.0,0....</td>\n",
       "      <td>2020-04-15</td>\n",
       "      <td>4.0</td>\n",
       "      <td>0.0</td>\n",
       "      <td>3990.0</td>\n",
       "      <td>194.0</td>\n",
       "      <td>2020-03-17</td>\n",
       "      <td>2020-06-29</td>\n",
       "      <td>day</td>\n",
       "      <td>1</td>\n",
       "    </tr>\n",
       "    <tr>\n",
       "      <th>3</th>\n",
       "      <td>Will</td>\n",
       "      <td>POLYGON ((-88.26146 41.72439, -88.26103 41.708...</td>\n",
       "      <td>Will</td>\n",
       "      <td>2.0,3.0,9.0,10.0,12.0,21.0,21.0,28.0,40.0,67.0...</td>\n",
       "      <td>2020-03-17</td>\n",
       "      <td>6635.0</td>\n",
       "      <td>27.0</td>\n",
       "      <td>0.0,0.0,0.0,1.0,1.0,1.0,1.0,1.0,2.0,3.0,3.0,4....</td>\n",
       "      <td>2020-03-20</td>\n",
       "      <td>319.0</td>\n",
       "      <td>0.0</td>\n",
       "      <td>73240.0</td>\n",
       "      <td>962.0</td>\n",
       "      <td>2020-03-17</td>\n",
       "      <td>2020-06-29</td>\n",
       "      <td>day</td>\n",
       "      <td>1</td>\n",
       "    </tr>\n",
       "    <tr>\n",
       "      <th>4</th>\n",
       "      <td>LaSalle</td>\n",
       "      <td>POLYGON ((-88.93885 41.62837, -88.93891 41.628...</td>\n",
       "      <td>LaSalle</td>\n",
       "      <td>0.0,0.0,1.0,1.0,1.0,1.0,1.0,3.0,3.0,3.0,3.0,3....</td>\n",
       "      <td>2020-03-19</td>\n",
       "      <td>208.0</td>\n",
       "      <td>3.0</td>\n",
       "      <td>0.0,0.0,0.0,0.0,0.0,0.0,0.0,0.0,0.0,0.0,0.0,0....</td>\n",
       "      <td>2020-03-29</td>\n",
       "      <td>17.0</td>\n",
       "      <td>0.0</td>\n",
       "      <td>7706.0</td>\n",
       "      <td>298.0</td>\n",
       "      <td>2020-03-17</td>\n",
       "      <td>2020-06-29</td>\n",
       "      <td>day</td>\n",
       "      <td>1</td>\n",
       "    </tr>\n",
       "    <tr>\n",
       "      <th>...</th>\n",
       "      <td>...</td>\n",
       "      <td>...</td>\n",
       "      <td>...</td>\n",
       "      <td>...</td>\n",
       "      <td>...</td>\n",
       "      <td>...</td>\n",
       "      <td>...</td>\n",
       "      <td>...</td>\n",
       "      <td>...</td>\n",
       "      <td>...</td>\n",
       "      <td>...</td>\n",
       "      <td>...</td>\n",
       "      <td>...</td>\n",
       "      <td>...</td>\n",
       "      <td>...</td>\n",
       "      <td>...</td>\n",
       "      <td>...</td>\n",
       "    </tr>\n",
       "    <tr>\n",
       "      <th>99</th>\n",
       "      <td>Marion</td>\n",
       "      <td>POLYGON ((-89.13844 38.73633, -89.13847 38.721...</td>\n",
       "      <td>Marion</td>\n",
       "      <td>0.0,0.0,0.0,0.0,0.0,0.0,0.0,0.0,0.0,0.0,0.0,0....</td>\n",
       "      <td>2020-03-30</td>\n",
       "      <td>65.0</td>\n",
       "      <td>0.0</td>\n",
       "      <td>0.0,0.0,0.0,0.0,0.0,0.0,0.0,0.0,0.0,0.0,0.0,0....</td>\n",
       "      <td>NaN</td>\n",
       "      <td>0.0</td>\n",
       "      <td>0.0</td>\n",
       "      <td>2967.0</td>\n",
       "      <td>124.0</td>\n",
       "      <td>2020-03-17</td>\n",
       "      <td>2020-06-29</td>\n",
       "      <td>day</td>\n",
       "      <td>1</td>\n",
       "    </tr>\n",
       "    <tr>\n",
       "      <th>100</th>\n",
       "      <td>Union</td>\n",
       "      <td>POLYGON ((-89.04143 37.59650, -89.06017 37.597...</td>\n",
       "      <td>Union</td>\n",
       "      <td>0.0,0.0,0.0,0.0,0.0,0.0,0.0,0.0,0.0,0.0,0.0,0....</td>\n",
       "      <td>2020-04-15</td>\n",
       "      <td>184.0</td>\n",
       "      <td>0.0</td>\n",
       "      <td>0.0,0.0,0.0,0.0,0.0,0.0,0.0,0.0,0.0,0.0,0.0,0....</td>\n",
       "      <td>2020-05-05</td>\n",
       "      <td>19.0</td>\n",
       "      <td>0.0</td>\n",
       "      <td>2147.0</td>\n",
       "      <td>97.0</td>\n",
       "      <td>2020-03-17</td>\n",
       "      <td>2020-06-29</td>\n",
       "      <td>day</td>\n",
       "      <td>1</td>\n",
       "    </tr>\n",
       "    <tr>\n",
       "      <th>101</th>\n",
       "      <td>Pope</td>\n",
       "      <td>POLYGON ((-88.70860 37.59926, -88.70876 37.584...</td>\n",
       "      <td>Pope</td>\n",
       "      <td>0.0,0.0,0.0,0.0,0.0,0.0,0.0,0.0,0.0,0.0,0.0,0....</td>\n",
       "      <td>2020-05-08</td>\n",
       "      <td>1.0</td>\n",
       "      <td>0.0</td>\n",
       "      <td>0.0,0.0,0.0,0.0,0.0,0.0,0.0,0.0,0.0,0.0,0.0,0....</td>\n",
       "      <td>NaN</td>\n",
       "      <td>0.0</td>\n",
       "      <td>0.0</td>\n",
       "      <td>152.0</td>\n",
       "      <td>3.0</td>\n",
       "      <td>2020-03-17</td>\n",
       "      <td>2020-06-29</td>\n",
       "      <td>day</td>\n",
       "      <td>1</td>\n",
       "    </tr>\n",
       "    <tr>\n",
       "      <th>102</th>\n",
       "      <td>Chicago</td>\n",
       "      <td>MULTIPOLYGON (((-87.93514 42.00089, -87.93521 ...</td>\n",
       "      <td>Chicago</td>\n",
       "      <td>0.0,0.0,0.0,0.0,0.0,519.0,519.0,782.0,915.0,11...</td>\n",
       "      <td>2020-03-22</td>\n",
       "      <td>52150.0</td>\n",
       "      <td>200.0</td>\n",
       "      <td>0.0,0.0,0.0,0.0,0.0,4.0,4.0,5.0,5.0,9.0,9.0,12...</td>\n",
       "      <td>2020-03-22</td>\n",
       "      <td>2593.0</td>\n",
       "      <td>11.0</td>\n",
       "      <td>403848.0</td>\n",
       "      <td>6666.0</td>\n",
       "      <td>2020-03-17</td>\n",
       "      <td>2020-06-29</td>\n",
       "      <td>day</td>\n",
       "      <td>1</td>\n",
       "    </tr>\n",
       "    <tr>\n",
       "      <th>103</th>\n",
       "      <td>Illinois</td>\n",
       "      <td>POLYGON ((-89.64923 39.78269, -89.64923 39.779...</td>\n",
       "      <td>Illinois</td>\n",
       "      <td>160.0,288.0,422.0,585.0,753.0,1049.0,1049.0,15...</td>\n",
       "      <td>2020-03-17</td>\n",
       "      <td>142461.0</td>\n",
       "      <td>738.0</td>\n",
       "      <td>0.0,1.0,3.0,5.0,6.0,9.0,9.0,16.0,19.0,26.0,34....</td>\n",
       "      <td>2020-03-18</td>\n",
       "      <td>6902.0</td>\n",
       "      <td>14.0</td>\n",
       "      <td>1571896.0</td>\n",
       "      <td>26918.0</td>\n",
       "      <td>2020-03-17</td>\n",
       "      <td>2020-06-29</td>\n",
       "      <td>day</td>\n",
       "      <td>1</td>\n",
       "    </tr>\n",
       "  </tbody>\n",
       "</table>\n",
       "<p>104 rows × 17 columns</p>\n",
       "</div>"
      ],
      "text/plain": [
       "           id                                           geometry      NAME  \\\n",
       "0     McHenry  POLYGON ((-88.70742 42.49352, -88.70741 42.493...   McHenry   \n",
       "1       Boone  POLYGON ((-88.70742 42.49352, -88.70750 42.493...     Boone   \n",
       "2        Ogle  POLYGON ((-89.68809 42.19950, -89.68807 42.184...      Ogle   \n",
       "3        Will  POLYGON ((-88.26146 41.72439, -88.26103 41.708...      Will   \n",
       "4     LaSalle  POLYGON ((-88.93885 41.62837, -88.93891 41.628...   LaSalle   \n",
       "..        ...                                                ...       ...   \n",
       "99     Marion  POLYGON ((-89.13844 38.73633, -89.13847 38.721...    Marion   \n",
       "100     Union  POLYGON ((-89.04143 37.59650, -89.06017 37.597...     Union   \n",
       "101      Pope  POLYGON ((-88.70860 37.59926, -88.70876 37.584...      Pope   \n",
       "102   Chicago  MULTIPOLYGON (((-87.93514 42.00089, -87.93521 ...   Chicago   \n",
       "103  Illinois  POLYGON ((-89.64923 39.78269, -89.64923 39.779...  Illinois   \n",
       "\n",
       "                                              cases_ts dt_first_case  \\\n",
       "0    2.0,4.0,6.0,8.0,11.0,12.0,12.0,14.0,19.0,27.0,...    2020-03-17   \n",
       "1    0.0,0.0,0.0,0.0,0.0,0.0,0.0,0.0,0.0,0.0,0.0,0....    2020-04-05   \n",
       "2    0.0,0.0,0.0,0.0,0.0,0.0,0.0,0.0,0.0,0.0,0.0,0....    2020-03-31   \n",
       "3    2.0,3.0,9.0,10.0,12.0,21.0,21.0,28.0,40.0,67.0...    2020-03-17   \n",
       "4    0.0,0.0,1.0,1.0,1.0,1.0,1.0,3.0,3.0,3.0,3.0,3....    2020-03-19   \n",
       "..                                                 ...           ...   \n",
       "99   0.0,0.0,0.0,0.0,0.0,0.0,0.0,0.0,0.0,0.0,0.0,0....    2020-03-30   \n",
       "100  0.0,0.0,0.0,0.0,0.0,0.0,0.0,0.0,0.0,0.0,0.0,0....    2020-04-15   \n",
       "101  0.0,0.0,0.0,0.0,0.0,0.0,0.0,0.0,0.0,0.0,0.0,0....    2020-05-08   \n",
       "102  0.0,0.0,0.0,0.0,0.0,519.0,519.0,782.0,915.0,11...    2020-03-22   \n",
       "103  160.0,288.0,422.0,585.0,753.0,1049.0,1049.0,15...    2020-03-17   \n",
       "\n",
       "     today_case  today_new_case  \\\n",
       "0        2010.0            11.0   \n",
       "1         579.0             2.0   \n",
       "2         256.0             4.0   \n",
       "3        6635.0            27.0   \n",
       "4         208.0             3.0   \n",
       "..          ...             ...   \n",
       "99         65.0             0.0   \n",
       "100       184.0             0.0   \n",
       "101         1.0             0.0   \n",
       "102     52150.0           200.0   \n",
       "103    142461.0           738.0   \n",
       "\n",
       "                                             deaths_ts dt_first_death  \\\n",
       "0    0.0,0.0,0.0,0.0,0.0,0.0,0.0,0.0,0.0,1.0,1.0,2....     2020-03-26   \n",
       "1    0.0,0.0,0.0,0.0,0.0,0.0,0.0,0.0,0.0,0.0,0.0,0....     2020-04-08   \n",
       "2    0.0,0.0,0.0,0.0,0.0,0.0,0.0,0.0,0.0,0.0,0.0,0....     2020-04-15   \n",
       "3    0.0,0.0,0.0,1.0,1.0,1.0,1.0,1.0,2.0,3.0,3.0,4....     2020-03-20   \n",
       "4    0.0,0.0,0.0,0.0,0.0,0.0,0.0,0.0,0.0,0.0,0.0,0....     2020-03-29   \n",
       "..                                                 ...            ...   \n",
       "99   0.0,0.0,0.0,0.0,0.0,0.0,0.0,0.0,0.0,0.0,0.0,0....            NaN   \n",
       "100  0.0,0.0,0.0,0.0,0.0,0.0,0.0,0.0,0.0,0.0,0.0,0....     2020-05-05   \n",
       "101  0.0,0.0,0.0,0.0,0.0,0.0,0.0,0.0,0.0,0.0,0.0,0....            NaN   \n",
       "102  0.0,0.0,0.0,0.0,0.0,4.0,4.0,5.0,5.0,9.0,9.0,12...     2020-03-22   \n",
       "103  0.0,1.0,3.0,5.0,6.0,9.0,9.0,16.0,19.0,26.0,34....     2020-03-18   \n",
       "\n",
       "     today_death  today_new_death  today_tested  today_new_tested    dt_start  \\\n",
       "0           97.0              0.0       23110.0             393.0  2020-03-17   \n",
       "1           21.0              0.0        5250.0              43.0  2020-03-17   \n",
       "2            4.0              0.0        3990.0             194.0  2020-03-17   \n",
       "3          319.0              0.0       73240.0             962.0  2020-03-17   \n",
       "4           17.0              0.0        7706.0             298.0  2020-03-17   \n",
       "..           ...              ...           ...               ...         ...   \n",
       "99           0.0              0.0        2967.0             124.0  2020-03-17   \n",
       "100         19.0              0.0        2147.0              97.0  2020-03-17   \n",
       "101          0.0              0.0         152.0               3.0  2020-03-17   \n",
       "102       2593.0             11.0      403848.0            6666.0  2020-03-17   \n",
       "103       6902.0             14.0     1571896.0           26918.0  2020-03-17   \n",
       "\n",
       "         dt_end dt_unit  population  \n",
       "0    2020-06-29     day           1  \n",
       "1    2020-06-29     day           1  \n",
       "2    2020-06-29     day           1  \n",
       "3    2020-06-29     day           1  \n",
       "4    2020-06-29     day           1  \n",
       "..          ...     ...         ...  \n",
       "99   2020-06-29     day           1  \n",
       "100  2020-06-29     day           1  \n",
       "101  2020-06-29     day           1  \n",
       "102  2020-06-29     day           1  \n",
       "103  2020-06-29     day           1  \n",
       "\n",
       "[104 rows x 17 columns]"
      ]
     },
     "execution_count": 394,
     "metadata": {},
     "output_type": "execute_result"
    }
   ],
   "source": [
    "county_final_gpd"
   ]
  },
  {
   "cell_type": "code",
   "execution_count": 395,
   "metadata": {
    "pycharm": {
     "is_executing": false,
     "name": "#%%\n"
    }
   },
   "outputs": [
    {
     "name": "stdout",
     "output_type": "stream",
     "text": [
      "done\n"
     ]
    }
   ],
   "source": [
    "county_final_gpd.to_file('dph_county_data.geojson', driver='GeoJSON', encoding='utf-8')\n",
    "print('done')"
   ]
  }
 ],
 "metadata": {
  "kernelspec": {
   "display_name": "Python 3",
   "language": "python",
   "name": "python3"
  },
  "language_info": {
   "codemirror_mode": {
    "name": "ipython",
    "version": 3
   },
   "file_extension": ".py",
   "mimetype": "text/x-python",
   "name": "python",
   "nbconvert_exporter": "python",
   "pygments_lexer": "ipython3",
   "version": "3.7.7"
  },
  "pycharm": {
   "stem_cell": {
    "cell_type": "raw",
    "metadata": {
     "collapsed": false
    },
    "source": []
   }
  }
 },
 "nbformat": 4,
 "nbformat_minor": 1
}
