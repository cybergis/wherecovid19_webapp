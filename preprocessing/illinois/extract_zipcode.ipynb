{
 "cells": [
  {
   "cell_type": "markdown",
   "metadata": {
    "collapsed": true,
    "pycharm": {
     "name": "#%% md\n"
    }
   },
   "source": [
    "URL preparation"
   ]
  },
  {
   "cell_type": "code",
   "execution_count": 1,
   "outputs": [],
   "source": [
    "# Geometry URL\n",
    "zipcode_geometry_url = \"http://www.dph.illinois.gov/sites/default/files/COVID19/il_illinois_zip_codes.json?nocache=1\"\n",
    "county_geometry_url = \"http://www.dph.illinois.gov/sites/default/files/Illinois_County_Geo_ch.json\"\n",
    "\n",
    "# Data URL\n",
    "county_data_url = \"http://www.dph.illinois.gov/sitefiles/CountyDemos.json?nocache=1\"\n",
    "zipcode_data_url = \"http://www.dph.illinois.gov/sitefiles/COVIDZip.json?nocache=1\"\n",
    "history_data_url = \"http://www.dph.illinois.gov/sitefiles/COVIDHistoricalTestResults.json?nocache=1\""
   ],
   "metadata": {
    "collapsed": false,
    "pycharm": {
     "name": "#%%\n",
     "is_executing": false
    }
   }
  },
  {
   "cell_type": "code",
   "execution_count": 2,
   "outputs": [],
   "source": [
    "import pandas as pd\n",
    "import json\n",
    "import numpy as np\n",
    "import geopandas as gpd\n",
    "from urllib.request import urlopen"
   ],
   "metadata": {
    "collapsed": false,
    "pycharm": {
     "name": "#%%\n",
     "is_executing": false
    }
   }
  },
  {
   "cell_type": "markdown",
   "source": [
    "Download data"
   ],
   "metadata": {
    "collapsed": false,
    "pycharm": {
     "name": "#%% md\n"
    }
   }
  },
  {
   "cell_type": "code",
   "execution_count": 3,
   "outputs": [],
   "source": [
    "with urlopen(zipcode_data_url) as response:\n",
    "    zipcode_dict = json.load(response)\n",
    "    zipcode_data = pd.DataFrame(zipcode_dict['zip_values'])\n",
    "    "
   ],
   "metadata": {
    "collapsed": false,
    "pycharm": {
     "name": "#%%\n",
     "is_executing": false
    }
   }
  },
  {
   "cell_type": "code",
   "execution_count": 4,
   "outputs": [],
   "source": [
    "with urlopen(county_data_url) as response:\n",
    "    county_dict = json.load(response)\n",
    "    county_data = pd.DataFrame(county_dict['county_demographics'])\n",
    "    "
   ],
   "metadata": {
    "collapsed": false,
    "pycharm": {
     "name": "#%%\n",
     "is_executing": false
    }
   }
  },
  {
   "cell_type": "code",
   "execution_count": 5,
   "outputs": [],
   "source": [
    "with urlopen(history_data_url) as response:\n",
    "    history_dict = json.load(response)\n"
   ],
   "metadata": {
    "collapsed": false,
    "pycharm": {
     "name": "#%%\n",
     "is_executing": false
    }
   }
  },
  {
   "cell_type": "code",
   "execution_count": 6,
   "outputs": [],
   "source": [
    "zipcode_geometry = gpd.read_file(zipcode_geometry_url)\n",
    "county_geometry = gpd.read_file(county_geometry_url)"
   ],
   "metadata": {
    "collapsed": false,
    "pycharm": {
     "name": "#%%\n",
     "is_executing": false
    }
   }
  },
  {
   "cell_type": "code",
   "execution_count": 7,
   "outputs": [],
   "source": [
    "with urlopen(zipcode_geometry_url) as response:\n",
    "    tmp = json.load(response)\n",
    "    zipcode_gpd = gpd.GeoDataFrame(tmp['features'])"
   ],
   "metadata": {
    "collapsed": false,
    "pycharm": {
     "name": "#%%\n",
     "is_executing": false
    }
   }
  },
  {
   "cell_type": "code",
   "execution_count": 8,
   "outputs": [],
   "source": [
    "zipcode_gpd['geometry'] = zipcode_geometry\n",
    "zipcode_gpd = zipcode_gpd[['id','geometry']]\n",
    "zipcode_gpd['id'] = zipcode_gpd['id'].astype(str)"
   ],
   "metadata": {
    "collapsed": false,
    "pycharm": {
     "name": "#%%    \n",
     "is_executing": false
    }
   }
  },
  {
   "cell_type": "code",
   "execution_count": 9,
   "outputs": [],
   "source": [
    "county_gpd = county_geometry[['id','geometry']]"
   ],
   "metadata": {
    "collapsed": false,
    "pycharm": {
     "name": "#%%\n",
     "is_executing": false
    }
   }
  },
  {
   "cell_type": "markdown",
   "source": [
    "Zipcode Data generation"
   ],
   "metadata": {
    "collapsed": false,
    "pycharm": {
     "name": "#%% md\n",
     "is_executing": false
    }
   }
  },
  {
   "cell_type": "code",
   "execution_count": 10,
   "outputs": [
    {
     "data": {
      "text/plain": "     confirmed_cases                                       demographics  \\\n0                  7  {'age': [{'age_group': 'Unknown', 'count': 0, ...   \n1                  6  {'age': [{'age_group': 'Unknown', 'count': 0, ...   \n2                 13  {'age': [{'age_group': 'Unknown', 'count': 0, ...   \n3                  6  {'age': [{'age_group': 'Unknown', 'count': 0, ...   \n4                  7  {'age': [{'age_group': 'Unknown', 'count': 0, ...   \n5                  8  {'age': [{'age_group': 'Unknown', 'count': 0, ...   \n6                 56  {'age': [{'age_group': 'Unknown', 'count': 0, ...   \n7                154  {'age': [{'age_group': 'Unknown', 'count': 0, ...   \n8                 82  {'age': [{'age_group': 'Unknown', 'count': 0, ...   \n9                116  {'age': [{'age_group': 'Unknown', 'count': 0, ...   \n10               134  {'age': [{'age_group': 'Unknown', 'count': 0, ...   \n11                47  {'age': [{'age_group': 'Unknown', 'count': 0, ...   \n12                55  {'age': [{'age_group': 'Unknown', 'count': 0, ...   \n13                45  {'age': [{'age_group': 'Unknown', 'count': 0, ...   \n14                90  {'age': [{'age_group': 'Unknown', 'count': 0, ...   \n15               106  {'age': [{'age_group': 'Unknown', 'count': 0, ...   \n16               637  {'age': [{'age_group': 'Unknown', 'count': 0, ...   \n17               270  {'age': [{'age_group': 'Unknown', 'count': 0, ...   \n18                19  {'age': [{'age_group': 'Unknown', 'count': 0, ...   \n19                 9  {'age': [{'age_group': 'Unknown', 'count': 0, ...   \n20                23  {'age': [{'age_group': 'Unknown', 'count': 0, ...   \n21               215  {'age': [{'age_group': 'Unknown', 'count': 0, ...   \n22                89  {'age': [{'age_group': 'Unknown', 'count': 0, ...   \n23                83  {'age': [{'age_group': 'Unknown', 'count': 0, ...   \n24               160  {'age': [{'age_group': 'Unknown', 'count': 0, ...   \n25                63  {'age': [{'age_group': 'Unknown', 'count': 0, ...   \n26               158  {'age': [{'age_group': 'Unknown', 'count': 0, ...   \n27                49  {'age': [{'age_group': 'Unknown', 'count': 0, ...   \n28                24  {'age': [{'age_group': 'Unknown', 'count': 0, ...   \n29                14  {'age': [{'age_group': 'Unknown', 'count': 0, ...   \n..               ...                                                ...   \n433               15  {'age': [{'age_group': 'Unknown', 'count': 0, ...   \n434               75  {'age': [{'age_group': 'Unknown', 'count': 0, ...   \n435               21  {'age': [{'age_group': 'Unknown', 'count': 0, ...   \n436               22  {'age': [{'age_group': 'Unknown', 'count': 0, ...   \n437                7  {'age': [{'age_group': 'Unknown', 'count': 0, ...   \n438               25  {'age': [{'age_group': 'Unknown', 'count': 0, ...   \n439               39  {'age': [{'age_group': 'Unknown', 'count': 0, ...   \n440                8  {'age': [{'age_group': 'Unknown', 'count': 0, ...   \n441               20  {'age': [{'age_group': 'Unknown', 'count': 0, ...   \n442                7  {'age': [{'age_group': 'Unknown', 'count': 0, ...   \n443                9  {'age': [{'age_group': 'Unknown', 'count': 0, ...   \n444               59  {'age': [{'age_group': 'Unknown', 'count': 0, ...   \n445               39  {'age': [{'age_group': 'Unknown', 'count': 0, ...   \n446               32  {'age': [{'age_group': 'Unknown', 'count': 0, ...   \n447               28  {'age': [{'age_group': 'Unknown', 'count': 0, ...   \n448               10  {'age': [{'age_group': 'Unknown', 'count': 0, ...   \n449               15  {'age': [{'age_group': 'Unknown', 'count': 0, ...   \n450               46  {'age': [{'age_group': 'Unknown', 'count': 0, ...   \n451               13  {'age': [{'age_group': 'Unknown', 'count': 0, ...   \n452               74  {'age': [{'age_group': 'Unknown', 'count': 0, ...   \n453               82  {'age': [{'age_group': 'Unknown', 'count': 0, ...   \n454               12  {'age': [{'age_group': 'Unknown', 'count': 0, ...   \n455                9  {'age': [{'age_group': 'Unknown', 'count': 0, ...   \n456               11  {'age': [{'age_group': 'Unknown', 'count': 0, ...   \n457                9  {'age': [{'age_group': 'Unknown', 'count': 0, ...   \n458               16  {'age': [{'age_group': 'Unknown', 'count': 0, ...   \n459                6  {'age': [{'age_group': 'Unknown', 'count': 0, ...   \n460               18  {'age': [{'age_group': 'Unknown', 'count': 0, ...   \n461               37  {'age': [{'age_group': 'Unknown', 'count': 0, ...   \n462               16  {'age': [{'age_group': 'Unknown', 'count': 0, ...   \n\n     total_tested    zip  \n0              77  46324  \n1              37  46394  \n2              89  53142  \n3              54  53143  \n4              50  53215  \n5              33  54302  \n6             400  60002  \n7            1573  60004  \n8             481  60005  \n9             563  60007  \n10            425  60008  \n11            442  60010  \n12            158  60012  \n13            250  60013  \n14            625  60014  \n15            605  60015  \n16           1851  60016  \n17            851  60018  \n18            164  60020  \n19             70  60021  \n20            187  60022  \n21           1075  60025  \n22            369  60026  \n23            561  60030  \n24            736  60031  \n25            231  60033  \n26            832  60035  \n27            135  60040  \n28            132  60041  \n29             91  60042  \n..            ...    ...  \n433            91  62471  \n434           500  62521  \n435            87  62522  \n436           210  62526  \n437            50  62565  \n438           194  62568  \n439           346  62618  \n440           222  62629  \n441           315  62650  \n442           316  62656  \n443            53  62664  \n444           229  62684  \n445           722  62702  \n446           522  62703  \n447           677  62704  \n448           137  62707  \n449           254  62711  \n450           439  62801  \n451           171  62832  \n452           487  62864  \n453           424  62901  \n454            63  62902  \n455           144  62906  \n456            36  62907  \n457           120  62918  \n458            64  62920  \n459           183  62948  \n460           419  62959  \n461           260  62966  \n462            44  62992  \n\n[463 rows x 4 columns]",
      "text/html": "<div>\n<style scoped>\n    .dataframe tbody tr th:only-of-type {\n        vertical-align: middle;\n    }\n\n    .dataframe tbody tr th {\n        vertical-align: top;\n    }\n\n    .dataframe thead th {\n        text-align: right;\n    }\n</style>\n<table border=\"1\" class=\"dataframe\">\n  <thead>\n    <tr style=\"text-align: right;\">\n      <th></th>\n      <th>confirmed_cases</th>\n      <th>demographics</th>\n      <th>total_tested</th>\n      <th>zip</th>\n    </tr>\n  </thead>\n  <tbody>\n    <tr>\n      <th>0</th>\n      <td>7</td>\n      <td>{'age': [{'age_group': 'Unknown', 'count': 0, ...</td>\n      <td>77</td>\n      <td>46324</td>\n    </tr>\n    <tr>\n      <th>1</th>\n      <td>6</td>\n      <td>{'age': [{'age_group': 'Unknown', 'count': 0, ...</td>\n      <td>37</td>\n      <td>46394</td>\n    </tr>\n    <tr>\n      <th>2</th>\n      <td>13</td>\n      <td>{'age': [{'age_group': 'Unknown', 'count': 0, ...</td>\n      <td>89</td>\n      <td>53142</td>\n    </tr>\n    <tr>\n      <th>3</th>\n      <td>6</td>\n      <td>{'age': [{'age_group': 'Unknown', 'count': 0, ...</td>\n      <td>54</td>\n      <td>53143</td>\n    </tr>\n    <tr>\n      <th>4</th>\n      <td>7</td>\n      <td>{'age': [{'age_group': 'Unknown', 'count': 0, ...</td>\n      <td>50</td>\n      <td>53215</td>\n    </tr>\n    <tr>\n      <th>5</th>\n      <td>8</td>\n      <td>{'age': [{'age_group': 'Unknown', 'count': 0, ...</td>\n      <td>33</td>\n      <td>54302</td>\n    </tr>\n    <tr>\n      <th>6</th>\n      <td>56</td>\n      <td>{'age': [{'age_group': 'Unknown', 'count': 0, ...</td>\n      <td>400</td>\n      <td>60002</td>\n    </tr>\n    <tr>\n      <th>7</th>\n      <td>154</td>\n      <td>{'age': [{'age_group': 'Unknown', 'count': 0, ...</td>\n      <td>1573</td>\n      <td>60004</td>\n    </tr>\n    <tr>\n      <th>8</th>\n      <td>82</td>\n      <td>{'age': [{'age_group': 'Unknown', 'count': 0, ...</td>\n      <td>481</td>\n      <td>60005</td>\n    </tr>\n    <tr>\n      <th>9</th>\n      <td>116</td>\n      <td>{'age': [{'age_group': 'Unknown', 'count': 0, ...</td>\n      <td>563</td>\n      <td>60007</td>\n    </tr>\n    <tr>\n      <th>10</th>\n      <td>134</td>\n      <td>{'age': [{'age_group': 'Unknown', 'count': 0, ...</td>\n      <td>425</td>\n      <td>60008</td>\n    </tr>\n    <tr>\n      <th>11</th>\n      <td>47</td>\n      <td>{'age': [{'age_group': 'Unknown', 'count': 0, ...</td>\n      <td>442</td>\n      <td>60010</td>\n    </tr>\n    <tr>\n      <th>12</th>\n      <td>55</td>\n      <td>{'age': [{'age_group': 'Unknown', 'count': 0, ...</td>\n      <td>158</td>\n      <td>60012</td>\n    </tr>\n    <tr>\n      <th>13</th>\n      <td>45</td>\n      <td>{'age': [{'age_group': 'Unknown', 'count': 0, ...</td>\n      <td>250</td>\n      <td>60013</td>\n    </tr>\n    <tr>\n      <th>14</th>\n      <td>90</td>\n      <td>{'age': [{'age_group': 'Unknown', 'count': 0, ...</td>\n      <td>625</td>\n      <td>60014</td>\n    </tr>\n    <tr>\n      <th>15</th>\n      <td>106</td>\n      <td>{'age': [{'age_group': 'Unknown', 'count': 0, ...</td>\n      <td>605</td>\n      <td>60015</td>\n    </tr>\n    <tr>\n      <th>16</th>\n      <td>637</td>\n      <td>{'age': [{'age_group': 'Unknown', 'count': 0, ...</td>\n      <td>1851</td>\n      <td>60016</td>\n    </tr>\n    <tr>\n      <th>17</th>\n      <td>270</td>\n      <td>{'age': [{'age_group': 'Unknown', 'count': 0, ...</td>\n      <td>851</td>\n      <td>60018</td>\n    </tr>\n    <tr>\n      <th>18</th>\n      <td>19</td>\n      <td>{'age': [{'age_group': 'Unknown', 'count': 0, ...</td>\n      <td>164</td>\n      <td>60020</td>\n    </tr>\n    <tr>\n      <th>19</th>\n      <td>9</td>\n      <td>{'age': [{'age_group': 'Unknown', 'count': 0, ...</td>\n      <td>70</td>\n      <td>60021</td>\n    </tr>\n    <tr>\n      <th>20</th>\n      <td>23</td>\n      <td>{'age': [{'age_group': 'Unknown', 'count': 0, ...</td>\n      <td>187</td>\n      <td>60022</td>\n    </tr>\n    <tr>\n      <th>21</th>\n      <td>215</td>\n      <td>{'age': [{'age_group': 'Unknown', 'count': 0, ...</td>\n      <td>1075</td>\n      <td>60025</td>\n    </tr>\n    <tr>\n      <th>22</th>\n      <td>89</td>\n      <td>{'age': [{'age_group': 'Unknown', 'count': 0, ...</td>\n      <td>369</td>\n      <td>60026</td>\n    </tr>\n    <tr>\n      <th>23</th>\n      <td>83</td>\n      <td>{'age': [{'age_group': 'Unknown', 'count': 0, ...</td>\n      <td>561</td>\n      <td>60030</td>\n    </tr>\n    <tr>\n      <th>24</th>\n      <td>160</td>\n      <td>{'age': [{'age_group': 'Unknown', 'count': 0, ...</td>\n      <td>736</td>\n      <td>60031</td>\n    </tr>\n    <tr>\n      <th>25</th>\n      <td>63</td>\n      <td>{'age': [{'age_group': 'Unknown', 'count': 0, ...</td>\n      <td>231</td>\n      <td>60033</td>\n    </tr>\n    <tr>\n      <th>26</th>\n      <td>158</td>\n      <td>{'age': [{'age_group': 'Unknown', 'count': 0, ...</td>\n      <td>832</td>\n      <td>60035</td>\n    </tr>\n    <tr>\n      <th>27</th>\n      <td>49</td>\n      <td>{'age': [{'age_group': 'Unknown', 'count': 0, ...</td>\n      <td>135</td>\n      <td>60040</td>\n    </tr>\n    <tr>\n      <th>28</th>\n      <td>24</td>\n      <td>{'age': [{'age_group': 'Unknown', 'count': 0, ...</td>\n      <td>132</td>\n      <td>60041</td>\n    </tr>\n    <tr>\n      <th>29</th>\n      <td>14</td>\n      <td>{'age': [{'age_group': 'Unknown', 'count': 0, ...</td>\n      <td>91</td>\n      <td>60042</td>\n    </tr>\n    <tr>\n      <th>...</th>\n      <td>...</td>\n      <td>...</td>\n      <td>...</td>\n      <td>...</td>\n    </tr>\n    <tr>\n      <th>433</th>\n      <td>15</td>\n      <td>{'age': [{'age_group': 'Unknown', 'count': 0, ...</td>\n      <td>91</td>\n      <td>62471</td>\n    </tr>\n    <tr>\n      <th>434</th>\n      <td>75</td>\n      <td>{'age': [{'age_group': 'Unknown', 'count': 0, ...</td>\n      <td>500</td>\n      <td>62521</td>\n    </tr>\n    <tr>\n      <th>435</th>\n      <td>21</td>\n      <td>{'age': [{'age_group': 'Unknown', 'count': 0, ...</td>\n      <td>87</td>\n      <td>62522</td>\n    </tr>\n    <tr>\n      <th>436</th>\n      <td>22</td>\n      <td>{'age': [{'age_group': 'Unknown', 'count': 0, ...</td>\n      <td>210</td>\n      <td>62526</td>\n    </tr>\n    <tr>\n      <th>437</th>\n      <td>7</td>\n      <td>{'age': [{'age_group': 'Unknown', 'count': 0, ...</td>\n      <td>50</td>\n      <td>62565</td>\n    </tr>\n    <tr>\n      <th>438</th>\n      <td>25</td>\n      <td>{'age': [{'age_group': 'Unknown', 'count': 0, ...</td>\n      <td>194</td>\n      <td>62568</td>\n    </tr>\n    <tr>\n      <th>439</th>\n      <td>39</td>\n      <td>{'age': [{'age_group': 'Unknown', 'count': 0, ...</td>\n      <td>346</td>\n      <td>62618</td>\n    </tr>\n    <tr>\n      <th>440</th>\n      <td>8</td>\n      <td>{'age': [{'age_group': 'Unknown', 'count': 0, ...</td>\n      <td>222</td>\n      <td>62629</td>\n    </tr>\n    <tr>\n      <th>441</th>\n      <td>20</td>\n      <td>{'age': [{'age_group': 'Unknown', 'count': 0, ...</td>\n      <td>315</td>\n      <td>62650</td>\n    </tr>\n    <tr>\n      <th>442</th>\n      <td>7</td>\n      <td>{'age': [{'age_group': 'Unknown', 'count': 0, ...</td>\n      <td>316</td>\n      <td>62656</td>\n    </tr>\n    <tr>\n      <th>443</th>\n      <td>9</td>\n      <td>{'age': [{'age_group': 'Unknown', 'count': 0, ...</td>\n      <td>53</td>\n      <td>62664</td>\n    </tr>\n    <tr>\n      <th>444</th>\n      <td>59</td>\n      <td>{'age': [{'age_group': 'Unknown', 'count': 0, ...</td>\n      <td>229</td>\n      <td>62684</td>\n    </tr>\n    <tr>\n      <th>445</th>\n      <td>39</td>\n      <td>{'age': [{'age_group': 'Unknown', 'count': 0, ...</td>\n      <td>722</td>\n      <td>62702</td>\n    </tr>\n    <tr>\n      <th>446</th>\n      <td>32</td>\n      <td>{'age': [{'age_group': 'Unknown', 'count': 0, ...</td>\n      <td>522</td>\n      <td>62703</td>\n    </tr>\n    <tr>\n      <th>447</th>\n      <td>28</td>\n      <td>{'age': [{'age_group': 'Unknown', 'count': 0, ...</td>\n      <td>677</td>\n      <td>62704</td>\n    </tr>\n    <tr>\n      <th>448</th>\n      <td>10</td>\n      <td>{'age': [{'age_group': 'Unknown', 'count': 0, ...</td>\n      <td>137</td>\n      <td>62707</td>\n    </tr>\n    <tr>\n      <th>449</th>\n      <td>15</td>\n      <td>{'age': [{'age_group': 'Unknown', 'count': 0, ...</td>\n      <td>254</td>\n      <td>62711</td>\n    </tr>\n    <tr>\n      <th>450</th>\n      <td>46</td>\n      <td>{'age': [{'age_group': 'Unknown', 'count': 0, ...</td>\n      <td>439</td>\n      <td>62801</td>\n    </tr>\n    <tr>\n      <th>451</th>\n      <td>13</td>\n      <td>{'age': [{'age_group': 'Unknown', 'count': 0, ...</td>\n      <td>171</td>\n      <td>62832</td>\n    </tr>\n    <tr>\n      <th>452</th>\n      <td>74</td>\n      <td>{'age': [{'age_group': 'Unknown', 'count': 0, ...</td>\n      <td>487</td>\n      <td>62864</td>\n    </tr>\n    <tr>\n      <th>453</th>\n      <td>82</td>\n      <td>{'age': [{'age_group': 'Unknown', 'count': 0, ...</td>\n      <td>424</td>\n      <td>62901</td>\n    </tr>\n    <tr>\n      <th>454</th>\n      <td>12</td>\n      <td>{'age': [{'age_group': 'Unknown', 'count': 0, ...</td>\n      <td>63</td>\n      <td>62902</td>\n    </tr>\n    <tr>\n      <th>455</th>\n      <td>9</td>\n      <td>{'age': [{'age_group': 'Unknown', 'count': 0, ...</td>\n      <td>144</td>\n      <td>62906</td>\n    </tr>\n    <tr>\n      <th>456</th>\n      <td>11</td>\n      <td>{'age': [{'age_group': 'Unknown', 'count': 0, ...</td>\n      <td>36</td>\n      <td>62907</td>\n    </tr>\n    <tr>\n      <th>457</th>\n      <td>9</td>\n      <td>{'age': [{'age_group': 'Unknown', 'count': 0, ...</td>\n      <td>120</td>\n      <td>62918</td>\n    </tr>\n    <tr>\n      <th>458</th>\n      <td>16</td>\n      <td>{'age': [{'age_group': 'Unknown', 'count': 0, ...</td>\n      <td>64</td>\n      <td>62920</td>\n    </tr>\n    <tr>\n      <th>459</th>\n      <td>6</td>\n      <td>{'age': [{'age_group': 'Unknown', 'count': 0, ...</td>\n      <td>183</td>\n      <td>62948</td>\n    </tr>\n    <tr>\n      <th>460</th>\n      <td>18</td>\n      <td>{'age': [{'age_group': 'Unknown', 'count': 0, ...</td>\n      <td>419</td>\n      <td>62959</td>\n    </tr>\n    <tr>\n      <th>461</th>\n      <td>37</td>\n      <td>{'age': [{'age_group': 'Unknown', 'count': 0, ...</td>\n      <td>260</td>\n      <td>62966</td>\n    </tr>\n    <tr>\n      <th>462</th>\n      <td>16</td>\n      <td>{'age': [{'age_group': 'Unknown', 'count': 0, ...</td>\n      <td>44</td>\n      <td>62992</td>\n    </tr>\n  </tbody>\n</table>\n<p>463 rows × 4 columns</p>\n</div>"
     },
     "metadata": {},
     "output_type": "execute_result",
     "execution_count": 10
    }
   ],
   "source": [
    "zipcode_data"
   ],
   "metadata": {
    "collapsed": false,
    "pycharm": {
     "name": "#%%\n",
     "is_executing": false
    }
   }
  },
  {
   "cell_type": "code",
   "execution_count": 11,
   "outputs": [
    {
     "data": {
      "text/plain": "id            object\ngeometry    geometry\ndtype: object"
     },
     "metadata": {},
     "output_type": "execute_result",
     "execution_count": 11
    }
   ],
   "source": [
    "zipcode_gpd.dtypes"
   ],
   "metadata": {
    "collapsed": false,
    "pycharm": {
     "name": "#%%\n",
     "is_executing": false
    }
   }
  },
  {
   "cell_type": "code",
   "execution_count": 12,
   "outputs": [],
   "source": [
    "zipcode_final_gpd = pd.merge(zipcode_gpd,zipcode_data, how = 'left', left_on=['id'], right_on=['zip'])"
   ],
   "metadata": {
    "collapsed": false,
    "pycharm": {
     "name": "#%%\n",
     "is_executing": false
    }
   }
  },
  {
   "cell_type": "code",
   "execution_count": 13,
   "outputs": [],
   "source": [
    "zipcode_final_gpd['confirmed_cases'] = zipcode_final_gpd['confirmed_cases'].replace(np.nan,0)\n",
    "zipcode_final_gpd['total_tested'] = zipcode_final_gpd['total_tested'].replace(np.nan,0)\n",
    "zipcode_final_gpd = zipcode_final_gpd[['id','confirmed_cases','total_tested','geometry']]"
   ],
   "metadata": {
    "collapsed": false,
    "pycharm": {
     "name": "#%%\n",
     "is_executing": false
    }
   }
  },
  {
   "cell_type": "code",
   "execution_count": 14,
   "outputs": [
    {
     "name": "stdout",
     "text": [
      "done\n"
     ],
     "output_type": "stream"
    }
   ],
   "source": [
    "zipcode_final_gpd.to_file('dph_zipcode_data.geojson', driver='GeoJSON', encoding='utf-8')\n",
    "print('done')"
   ],
   "metadata": {
    "collapsed": false,
    "pycharm": {
     "name": "#%%\n",
     "is_executing": false
    }
   }
  },
  {
   "cell_type": "markdown",
   "source": [
    "Static County Data Generation"
   ],
   "metadata": {
    "collapsed": false,
    "pycharm": {
     "name": "#%% md\n"
    }
   }
  },
  {
   "cell_type": "code",
   "execution_count": 45,
   "outputs": [],
   "source": [
    "county_static = pd.merge(county_gpd, county_data, how=\"left\", left_on=\"id\",right_on=\"County\")"
   ],
   "metadata": {
    "collapsed": false,
    "pycharm": {
     "name": "#%%\n",
     "is_executing": false
    }
   }
  },
  {
   "cell_type": "code",
   "execution_count": 47,
   "outputs": [
    {
     "name": "stdout",
     "text": [
      "done\n"
     ],
     "output_type": "stream"
    }
   ],
   "source": [
    "county_static.to_file('dph_county_static_data.geojson', driver='GeoJSON', encoding='utf-8')\n",
    "print('done')"
   ],
   "metadata": {
    "collapsed": false,
    "pycharm": {
     "name": "#%%\n",
     "is_executing": false
    }
   }
  },
  {
   "cell_type": "markdown",
   "source": [
    "County Data generation\n"
   ],
   "metadata": {
    "collapsed": false,
    "pycharm": {
     "name": "#%% md\n"
    }
   }
  },
  {
   "cell_type": "code",
   "execution_count": 15,
   "outputs": [],
   "source": [
    "# transform to new york times format\n",
    "county_history = pd.DataFrame(history_dict['historical_county']['values'])\n",
    "l = []\n",
    "for case in history_dict['historical_county']['values']:\n",
    "    testDate = case['testDate']\n",
    "    values = case['values']\n",
    "    for x in values:\n",
    "        x['date'] = testDate\n",
    "        l.append(x)\n",
    "county_history = pd.DataFrame(l)"
   ],
   "metadata": {
    "collapsed": false,
    "pycharm": {
     "name": "#%%\n",
     "is_executing": false
    }
   }
  },
  {
   "cell_type": "code",
   "execution_count": 16,
   "outputs": [],
   "source": [
    "# eliminate unassigned data\n",
    "county_history = county_history[county_history['County'] != 'Unassigned']"
   ],
   "metadata": {
    "collapsed": false,
    "pycharm": {
     "name": "#%%\n",
     "is_executing": false
    }
   }
  },
  {
   "cell_type": "code",
   "execution_count": 17,
   "outputs": [],
   "source": [
    "# pivot table\n",
    "county_pivot = pd.pivot_table(county_history, index=['County'],columns=['date'])"
   ],
   "metadata": {
    "collapsed": false,
    "pycharm": {
     "name": "#%%\n",
     "is_executing": false
    }
   }
  },
  {
   "cell_type": "code",
   "execution_count": 37,
   "outputs": [
    {
     "data": {
      "text/plain": "[0.0,\n 0.0,\n 0.0,\n 1.0,\n 1.0,\n 1.0,\n 1.0,\n 1.0,\n 1.0,\n 1.0,\n 1.0,\n 2.0,\n 2.0,\n 2.0,\n 2.0,\n 24.0,\n 25.0,\n 25.0,\n 26.0,\n 27.0,\n 27.0,\n 29.0,\n 30.0,\n 31.0,\n 34.0,\n 2.0,\n 29.0,\n 29.0,\n 29.0,\n 29.0,\n 32.0,\n 32.0,\n 32.0,\n 33.0,\n 40.0,\n 40.0,\n 2.0,\n 40.0,\n 3.0,\n 3.0,\n 8.0,\n 9.0,\n 11.0,\n 22.0,\n 40.0,\n 40.0,\n 40.0,\n 40.0,\n 40.0]"
     },
     "metadata": {},
     "output_type": "execute_result",
     "execution_count": 37
    }
   ],
   "source": [
    "county_pivot['cases_ts'][0]"
   ],
   "metadata": {
    "collapsed": false,
    "pycharm": {
     "name": "#%%\n",
     "is_executing": false
    }
   }
  },
  {
   "cell_type": "code",
   "execution_count": 40,
   "outputs": [
    {
     "data": {
      "text/plain": "date\n3/17/2020     0.0\n3/18/2020     0.0\n3/19/2020     0.0\n3/20/2020     1.0\n3/21/2020     1.0\n3/22/2020     1.0\n3/24/2020     1.0\n3/25/2020     1.0\n3/26/2020     1.0\n3/27/2020     1.0\n3/28/2020     1.0\n3/29/2020     2.0\n3/30/2020     2.0\n3/31/2020     2.0\n4/1/2020      2.0\n4/10/2020    24.0\n4/11/2020    25.0\n4/12/2020    25.0\n4/13/2020    26.0\n4/14/2020    27.0\n4/15/2020    27.0\n4/16/2020    29.0\n4/17/2020    30.0\n4/18/2020    31.0\n4/19/2020    34.0\n4/2/2020      2.0\n4/20/2020    29.0\n4/21/2020    29.0\n4/22/2020    29.0\n4/23/2020    29.0\n4/24/2020    32.0\n4/25/2020    32.0\n4/26/2020    32.0\n4/27/2020    33.0\n4/28/2020    40.0\n4/29/2020    40.0\n4/3/2020      2.0\n4/30/2020    40.0\n4/4/2020      3.0\n4/5/2020      3.0\n4/6/2020      8.0\n4/7/2020      9.0\n4/8/2020     11.0\n4/9/2020     22.0\n5/1/2020     40.0\n5/2/2020     40.0\n5/3/2020     40.0\n5/4/2020     40.0\n5/5/2020     40.0\nName: Adams, dtype: float64"
     },
     "metadata": {},
     "output_type": "execute_result",
     "execution_count": 40
    }
   ],
   "source": [
    "county_pivot['confirmed_cases'].iloc[0]"
   ],
   "metadata": {
    "collapsed": false,
    "pycharm": {
     "name": "#%%\n",
     "is_executing": false
    }
   }
  },
  {
   "cell_type": "code",
   "execution_count": 34,
   "outputs": [],
   "source": [
    "# get case time series\n",
    "county_pivot['cases_ts'] = county_pivot['confirmed_cases'].values.tolist()"
   ],
   "metadata": {
    "collapsed": false,
    "pycharm": {
     "name": "#%%\n",
     "is_executing": false
    }
   }
  },
  {
   "cell_type": "code",
   "execution_count": 19,
   "outputs": [],
   "source": [
    "# get first case date\n",
    "county_pivot['dt_first_case'] = (county_pivot['confirmed_cases'] > 0).idxmax(axis=1)\n",
    "county_pivot.loc[county_pivot['confirmed_cases'].iloc[:, -1] <= 0, 'dt_first_case'] = np.nan"
   ],
   "metadata": {
    "collapsed": false,
    "pycharm": {
     "name": "#%%\n",
     "is_executing": false
    }
   }
  },
  {
   "cell_type": "code",
   "execution_count": 20,
   "outputs": [],
   "source": [
    "# Get date information\n",
    "date = county_pivot['confirmed_cases'].columns\n",
    "dt_first = date[0]\n",
    "dt_today = date[-1]\n",
    "dt_yesterday = date[-2]"
   ],
   "metadata": {
    "collapsed": false,
    "pycharm": {
     "name": "#%%\n",
     "is_executing": false
    }
   }
  },
  {
   "cell_type": "code",
   "execution_count": 42,
   "outputs": [
    {
     "data": {
      "text/plain": "Index(['3/17/2020', '3/18/2020', '3/19/2020', '3/20/2020', '3/21/2020',\n       '3/22/2020', '3/24/2020', '3/25/2020', '3/26/2020', '3/27/2020',\n       '3/28/2020', '3/29/2020', '3/30/2020', '3/31/2020', '4/1/2020',\n       '4/10/2020', '4/11/2020', '4/12/2020', '4/13/2020', '4/14/2020',\n       '4/15/2020', '4/16/2020', '4/17/2020', '4/18/2020', '4/19/2020',\n       '4/2/2020', '4/20/2020', '4/21/2020', '4/22/2020', '4/23/2020',\n       '4/24/2020', '4/25/2020', '4/26/2020', '4/27/2020', '4/28/2020',\n       '4/29/2020', '4/3/2020', '4/30/2020', '4/4/2020', '4/5/2020',\n       '4/6/2020', '4/7/2020', '4/8/2020', '4/9/2020', '5/1/2020', '5/2/2020',\n       '5/3/2020', '5/4/2020', '5/5/2020'],\n      dtype='object', name='date')"
     },
     "metadata": {},
     "output_type": "execute_result",
     "execution_count": 42
    }
   ],
   "source": [
    "date"
   ],
   "metadata": {
    "collapsed": false,
    "pycharm": {
     "name": "#%%\n",
     "is_executing": false
    }
   }
  },
  {
   "cell_type": "code",
   "execution_count": 21,
   "outputs": [],
   "source": [
    "# Add today_case and today_new_case columns\n",
    "county_pivot['today_case'] = county_pivot['confirmed_cases'][dt_today]\n",
    "county_pivot['today_new_case'] = county_pivot['confirmed_cases'][dt_today] - county_pivot['confirmed_cases'][dt_yesterday]"
   ],
   "metadata": {
    "collapsed": false,
    "pycharm": {
     "name": "#%%\n",
     "is_executing": false
    }
   }
  },
  {
   "cell_type": "code",
   "execution_count": 22,
   "outputs": [],
   "source": [
    "# Reformat\n",
    "county_report = county_pivot[['cases_ts','dt_first_case','today_case','today_new_case']]\n",
    "county_report = county_report.reset_index()\n",
    "county_report.columns = ['County','cases_ts','dt_first_case','today_case','today_new_case']\n",
    "county_report['cases_ts'] = county_report['cases_ts'].apply(lambda x: ','.join(map(str,x)))"
   ],
   "metadata": {
    "collapsed": false,
    "pycharm": {
     "name": "#%%\n",
     "is_executing": false
    }
   }
  },
  {
   "cell_type": "code",
   "execution_count": 23,
   "outputs": [
    {
     "data": {
      "text/plain": "array(['Illinois', 'Out Of State', 'Suburban Cook'], dtype=object)"
     },
     "metadata": {},
     "output_type": "execute_result",
     "execution_count": 23
    }
   ],
   "source": [
    "np.setdiff1d(county_report['County'],county_gpd['id'])\n",
    "# Illinois, Out of State and Suburban Cook is not in geometry"
   ],
   "metadata": {
    "collapsed": false,
    "pycharm": {
     "name": "#%%\n",
     "is_executing": false
    }
   }
  },
  {
   "cell_type": "code",
   "execution_count": 24,
   "outputs": [],
   "source": [
    "county_report = county_report[(county_report['County'] != 'Illinois') & (county_report['County'] != 'Out of State') & (county_report['County'] != 'Suburban Cook')]"
   ],
   "metadata": {
    "collapsed": false,
    "pycharm": {
     "name": "#%%\n",
     "is_executing": false
    }
   }
  },
  {
   "cell_type": "code",
   "execution_count": 25,
   "outputs": [],
   "source": [
    "def standardDate(str):\n",
    "    l = str.split('/')\n",
    "    month = l[0]\n",
    "    day = l[1]\n",
    "    year = l[2]\n",
    "    if len(month) < 2:\n",
    "        month = '0' + month\n",
    "    if len(day) < 2:\n",
    "        day = '0' + day\n",
    "    return year + '-' + month + '-' + day"
   ],
   "metadata": {
    "collapsed": false,
    "pycharm": {
     "name": "#%%\n",
     "is_executing": false
    }
   }
  },
  {
   "cell_type": "code",
   "execution_count": 26,
   "outputs": [],
   "source": [
    "county_report['dt_first_case'] = county_report['dt_first_case'].apply(lambda x: standardDate(x) if type(x) == str else x)\n",
    "county_report['dt_start'] = standardDate(dt_first)\n",
    "county_report['dt_end'] = standardDate(dt_today)\n",
    "county_report['dt_unit'] = 'day'"
   ],
   "metadata": {
    "collapsed": false,
    "pycharm": {
     "name": "#%%\n",
     "is_executing": false
    }
   }
  },
  {
   "cell_type": "code",
   "execution_count": 27,
   "outputs": [],
   "source": [
    "county_final_gpd = pd.merge(county_gpd, county_report, how=\"left\", left_on=\"id\", right_on=\"County\")"
   ],
   "metadata": {
    "collapsed": false,
    "pycharm": {
     "name": "#%%\n",
     "is_executing": false
    }
   }
  },
  {
   "cell_type": "code",
   "execution_count": 28,
   "outputs": [],
   "source": [
    "county_final_gpd['population'] = 1"
   ],
   "metadata": {
    "collapsed": false,
    "pycharm": {
     "name": "#%%\n",
     "is_executing": false
    }
   }
  },
  {
   "cell_type": "code",
   "execution_count": 29,
   "outputs": [
    {
     "name": "stdout",
     "text": [
      "done\n"
     ],
     "output_type": "stream"
    }
   ],
   "source": [
    "county_final_gpd.to_file('dph_county_data.geojson', driver='GeoJSON', encoding='utf-8')\n",
    "print('done')\n"
   ],
   "metadata": {
    "collapsed": false,
    "pycharm": {
     "name": "#%%\n",
     "is_executing": false
    }
   }
  }
 ],
 "metadata": {
  "language_info": {
   "codemirror_mode": {
    "name": "ipython",
    "version": 2
   },
   "file_extension": ".py",
   "mimetype": "text/x-python",
   "name": "python",
   "nbconvert_exporter": "python",
   "pygments_lexer": "ipython2",
   "version": "2.7.6"
  },
  "kernelspec": {
   "name": "python3",
   "language": "python",
   "display_name": "Python 3"
  },
  "pycharm": {
   "stem_cell": {
    "cell_type": "raw",
    "source": [],
    "metadata": {
     "collapsed": false
    }
   }
  }
 },
 "nbformat": 4,
 "nbformat_minor": 0
}