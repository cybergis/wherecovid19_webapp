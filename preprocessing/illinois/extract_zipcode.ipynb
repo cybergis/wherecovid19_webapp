{
 "cells": [
  {
   "cell_type": "markdown",
   "metadata": {
    "collapsed": true,
    "pycharm": {
     "name": "#%% md\n"
    }
   },
   "source": [
    "URL preparation"
   ]
  },
  {
   "cell_type": "code",
   "execution_count": 59,
   "metadata": {
    "pycharm": {
     "is_executing": false,
     "name": "#%%\n"
    }
   },
   "outputs": [],
   "source": [
    "# Geometry URL\n",
    "zipcode_geometry_url = \"http://www.dph.illinois.gov/sites/default/files/COVID19/il_illinois_zip_codes.json?nocache=1\"\n",
    "county_geometry_url = \"http://www.dph.illinois.gov/sites/default/files/Illinois_County_Geo_ch.json\"\n",
    "\n",
    "# Data URL\n",
    "county_data_url = \"http://www.dph.illinois.gov/sitefiles/CountyDemos.json?nocache=1\"\n",
    "zipcode_data_url = \"http://www.dph.illinois.gov/sitefiles/COVIDZip.json?nocache=1\"\n",
    "history_data_url = \"http://www.dph.illinois.gov/sitefiles/COVIDHistoricalTestResults.json?nocache=1\""
   ]
  },
  {
   "cell_type": "code",
   "execution_count": 60,
   "metadata": {
    "pycharm": {
     "is_executing": false,
     "name": "#%%\n"
    }
   },
   "outputs": [],
   "source": [
    "import pandas as pd\n",
    "import json\n",
    "import numpy as np\n",
    "import geopandas as gpd\n",
    "from urllib.request import urlopen\n",
    "import shapely.wkt"
   ]
  },
  {
   "cell_type": "markdown",
   "metadata": {
    "pycharm": {
     "name": "#%% md\n"
    }
   },
   "source": [
    "Download data"
   ]
  },
  {
   "cell_type": "code",
   "execution_count": 61,
   "metadata": {
    "pycharm": {
     "is_executing": false,
     "name": "#%%\n"
    }
   },
   "outputs": [],
   "source": [
    "# with urlopen(zipcode_data_url) as response:\n",
    "#     zipcode_dict = json.load(response)\n",
    "#     zipcode_data = pd.DataFrame(zipcode_dict['zip_values'])\n",
    "with open(\"./idph_COVIDZip.json\") as f:\n",
    "    zipcode_dict = json.load(f)\n",
    "    zipcode_data = pd.DataFrame(zipcode_dict['zip_values'])"
   ]
  },
  {
   "cell_type": "code",
   "execution_count": 62,
   "metadata": {
    "pycharm": {
     "is_executing": false,
     "name": "#%%\n"
    }
   },
   "outputs": [],
   "source": [
    "# with urlopen(county_data_url) as response:\n",
    "#     county_dict = json.load(response)\n",
    "#     county_data = pd.DataFrame(county_dict['county_demographics'])\n",
    "    "
   ]
  },
  {
   "cell_type": "code",
   "execution_count": 63,
   "metadata": {
    "pycharm": {
     "is_executing": false,
     "name": "#%%\n"
    }
   },
   "outputs": [],
   "source": [
    "# with urlopen(history_data_url) as response:\n",
    "#     history_dict = json.load(response)\n",
    "with open(\"./idph_COVIDHistoricalTestResults.json\") as f:\n",
    "    history_dict = json.load(f)"
   ]
  },
  {
   "cell_type": "code",
   "execution_count": 64,
   "metadata": {
    "pycharm": {
     "is_executing": false,
     "name": "#%%\n"
    }
   },
   "outputs": [],
   "source": [
    "zipcode_geometry = gpd.read_file(zipcode_geometry_url)\n",
    "county_geometry = gpd.read_file(county_geometry_url)"
   ]
  },
  {
   "cell_type": "code",
   "execution_count": 65,
   "metadata": {
    "pycharm": {
     "is_executing": false,
     "name": "#%%\n"
    }
   },
   "outputs": [],
   "source": [
    "with urlopen(zipcode_geometry_url) as response:\n",
    "    tmp = json.load(response)\n",
    "    zipcode_gpd = gpd.GeoDataFrame(tmp['features'])"
   ]
  },
  {
   "cell_type": "code",
   "execution_count": 66,
   "metadata": {
    "pycharm": {
     "is_executing": false,
     "name": "#%%    \n"
    }
   },
   "outputs": [],
   "source": [
    "zipcode_gpd['geometry'] = zipcode_geometry\n",
    "zipcode_gpd = zipcode_gpd[['id','geometry']]\n",
    "zipcode_gpd['id'] = zipcode_gpd['id'].astype(str)"
   ]
  },
  {
   "cell_type": "code",
   "execution_count": 67,
   "metadata": {
    "pycharm": {
     "is_executing": false
    }
   },
   "outputs": [
    {
     "data": {
      "text/plain": "           id OBJECTID           County  Percent_1         Shape__Area  \\\n0     McHenry        1   McHenry County       27.7  17027625788.537001   \n1       Boone        2     Boone County       33.7  7862723082.6885996   \n2        Ogle        3      Ogle County       31.2    21284584781.1903   \n3        Will        4      Will County       28.0  23669428994.175301   \n4     LaSalle        5   LaSalle County       27.1  32008439057.989899   \n..        ...      ...              ...        ...                 ...   \n98   Lawrence       99  Lawrence County       28.9  10426836159.952499   \n99     Marion      100    Marion County       33.5    16056558800.8808   \n100     Union      101     Union County       28.2  11769540678.443001   \n101      Pope      102      Pope County       29.5  10432553057.307899   \n102   Chicago      103          Chicago       28.2       6450276623.31   \n\n          Shape__Length                                           geometry  \n0    522324.30501520802  POLYGON ((-88.70742 42.49352, -88.70741 42.493...  \n1    375171.14457663603  POLYGON ((-88.70742 42.49352, -88.70750 42.493...  \n2    651729.42136120505  POLYGON ((-89.68809 42.19950, -89.68807 42.184...  \n3    779085.21483073698  POLYGON ((-88.26146 41.72439, -88.26103 41.708...  \n4    825360.16391267197  POLYGON ((-88.93885 41.62837, -88.93891 41.628...  \n..                  ...                                                ...  \n98   442943.67976590397  POLYGON ((-87.90806 38.85013, -87.90819 38.835...  \n99   509529.79577371402  POLYGON ((-89.13844 38.73633, -89.13847 38.721...  \n100  489617.64749037399  POLYGON ((-89.04143 37.59650, -89.06017 37.597...  \n101    537878.380730576  POLYGON ((-88.70860 37.59926, -88.70876 37.584...  \n102       845282.931362  MULTIPOLYGON (((-87.93514 42.00089, -87.93521 ...  \n\n[103 rows x 7 columns]",
      "text/html": "<div>\n<style scoped>\n    .dataframe tbody tr th:only-of-type {\n        vertical-align: middle;\n    }\n\n    .dataframe tbody tr th {\n        vertical-align: top;\n    }\n\n    .dataframe thead th {\n        text-align: right;\n    }\n</style>\n<table border=\"1\" class=\"dataframe\">\n  <thead>\n    <tr style=\"text-align: right;\">\n      <th></th>\n      <th>id</th>\n      <th>OBJECTID</th>\n      <th>County</th>\n      <th>Percent_1</th>\n      <th>Shape__Area</th>\n      <th>Shape__Length</th>\n      <th>geometry</th>\n    </tr>\n  </thead>\n  <tbody>\n    <tr>\n      <th>0</th>\n      <td>McHenry</td>\n      <td>1</td>\n      <td>McHenry County</td>\n      <td>27.7</td>\n      <td>17027625788.537001</td>\n      <td>522324.30501520802</td>\n      <td>POLYGON ((-88.70742 42.49352, -88.70741 42.493...</td>\n    </tr>\n    <tr>\n      <th>1</th>\n      <td>Boone</td>\n      <td>2</td>\n      <td>Boone County</td>\n      <td>33.7</td>\n      <td>7862723082.6885996</td>\n      <td>375171.14457663603</td>\n      <td>POLYGON ((-88.70742 42.49352, -88.70750 42.493...</td>\n    </tr>\n    <tr>\n      <th>2</th>\n      <td>Ogle</td>\n      <td>3</td>\n      <td>Ogle County</td>\n      <td>31.2</td>\n      <td>21284584781.1903</td>\n      <td>651729.42136120505</td>\n      <td>POLYGON ((-89.68809 42.19950, -89.68807 42.184...</td>\n    </tr>\n    <tr>\n      <th>3</th>\n      <td>Will</td>\n      <td>4</td>\n      <td>Will County</td>\n      <td>28.0</td>\n      <td>23669428994.175301</td>\n      <td>779085.21483073698</td>\n      <td>POLYGON ((-88.26146 41.72439, -88.26103 41.708...</td>\n    </tr>\n    <tr>\n      <th>4</th>\n      <td>LaSalle</td>\n      <td>5</td>\n      <td>LaSalle County</td>\n      <td>27.1</td>\n      <td>32008439057.989899</td>\n      <td>825360.16391267197</td>\n      <td>POLYGON ((-88.93885 41.62837, -88.93891 41.628...</td>\n    </tr>\n    <tr>\n      <th>...</th>\n      <td>...</td>\n      <td>...</td>\n      <td>...</td>\n      <td>...</td>\n      <td>...</td>\n      <td>...</td>\n      <td>...</td>\n    </tr>\n    <tr>\n      <th>98</th>\n      <td>Lawrence</td>\n      <td>99</td>\n      <td>Lawrence County</td>\n      <td>28.9</td>\n      <td>10426836159.952499</td>\n      <td>442943.67976590397</td>\n      <td>POLYGON ((-87.90806 38.85013, -87.90819 38.835...</td>\n    </tr>\n    <tr>\n      <th>99</th>\n      <td>Marion</td>\n      <td>100</td>\n      <td>Marion County</td>\n      <td>33.5</td>\n      <td>16056558800.8808</td>\n      <td>509529.79577371402</td>\n      <td>POLYGON ((-89.13844 38.73633, -89.13847 38.721...</td>\n    </tr>\n    <tr>\n      <th>100</th>\n      <td>Union</td>\n      <td>101</td>\n      <td>Union County</td>\n      <td>28.2</td>\n      <td>11769540678.443001</td>\n      <td>489617.64749037399</td>\n      <td>POLYGON ((-89.04143 37.59650, -89.06017 37.597...</td>\n    </tr>\n    <tr>\n      <th>101</th>\n      <td>Pope</td>\n      <td>102</td>\n      <td>Pope County</td>\n      <td>29.5</td>\n      <td>10432553057.307899</td>\n      <td>537878.380730576</td>\n      <td>POLYGON ((-88.70860 37.59926, -88.70876 37.584...</td>\n    </tr>\n    <tr>\n      <th>102</th>\n      <td>Chicago</td>\n      <td>103</td>\n      <td>Chicago</td>\n      <td>28.2</td>\n      <td>6450276623.31</td>\n      <td>845282.931362</td>\n      <td>MULTIPOLYGON (((-87.93514 42.00089, -87.93521 ...</td>\n    </tr>\n  </tbody>\n</table>\n<p>103 rows × 7 columns</p>\n</div>"
     },
     "metadata": {},
     "output_type": "execute_result",
     "execution_count": 67
    }
   ],
   "source": [
    "county_geometry"
   ]
  },
  {
   "cell_type": "code",
   "execution_count": 68,
   "metadata": {
    "pycharm": {
     "is_executing": false,
     "name": "#%%\n"
    }
   },
   "outputs": [],
   "source": [
    "county_gpd = county_geometry[['id','geometry']]"
   ]
  },
  {
   "cell_type": "code",
   "execution_count": 69,
   "metadata": {
    "pycharm": {
     "is_executing": false
    }
   },
   "outputs": [],
   "source": [
    "polygon1 = shapely.wkt.loads('POLYGON ((-89.6536529004544 39.7828177522233, -89.6536529004544 39.7799814663649, -89.64987635016143 39.7799814663649, -89.64987635016143 39.7828177522233, -89.6536529004544 39.7828177522233))')\n",
    "polygon2 = shapely.wkt.loads('POLYGON ((-89.64923261999786 39.78268583454302, -89.64923261999786 39.7799814663649, -89.64575647711456 39.7799814663649, -89.64575647711456 39.78268583454302, -89.64923261999786 39.78268583454302))')"
   ]
  },
  {
   "cell_type": "code",
   "execution_count": 70,
   "metadata": {
    "pycharm": {
     "is_executing": false
    }
   },
   "outputs": [],
   "source": [
    "county_gpd_static = county_gpd.append([{'id':\"Out Of State\", 'geometry':polygon1}], ignore_index=True)\n",
    "county_gpd_static = county_gpd_static.append([{'id':\"Unassigned\", 'geometry':polygon2}], ignore_index=True)\n",
    "county_gpd_static = county_gpd_static.append([{'id':\"Illinois\", 'geometry':polygon2}], ignore_index=True)"
   ]
  },
  {
   "cell_type": "code",
   "execution_count": 71,
   "metadata": {
    "pycharm": {
     "is_executing": false
    }
   },
   "outputs": [
    {
     "data": {
      "text/plain": "               id                                           geometry\n0         McHenry  POLYGON ((-88.70742 42.49352, -88.70741 42.493...\n1           Boone  POLYGON ((-88.70742 42.49352, -88.70750 42.493...\n2            Ogle  POLYGON ((-89.68809 42.19950, -89.68807 42.184...\n3            Will  POLYGON ((-88.26146 41.72439, -88.26103 41.708...\n4         LaSalle  POLYGON ((-88.93885 41.62837, -88.93891 41.628...\n..            ...                                                ...\n101          Pope  POLYGON ((-88.70860 37.59926, -88.70876 37.584...\n102       Chicago  MULTIPOLYGON (((-87.93514 42.00089, -87.93521 ...\n103  Out Of State  POLYGON ((-89.65365 39.78282, -89.65365 39.779...\n104    Unassigned  POLYGON ((-89.64923 39.78269, -89.64923 39.779...\n105      Illinois  POLYGON ((-89.64923 39.78269, -89.64923 39.779...\n\n[106 rows x 2 columns]",
      "text/html": "<div>\n<style scoped>\n    .dataframe tbody tr th:only-of-type {\n        vertical-align: middle;\n    }\n\n    .dataframe tbody tr th {\n        vertical-align: top;\n    }\n\n    .dataframe thead th {\n        text-align: right;\n    }\n</style>\n<table border=\"1\" class=\"dataframe\">\n  <thead>\n    <tr style=\"text-align: right;\">\n      <th></th>\n      <th>id</th>\n      <th>geometry</th>\n    </tr>\n  </thead>\n  <tbody>\n    <tr>\n      <th>0</th>\n      <td>McHenry</td>\n      <td>POLYGON ((-88.70742 42.49352, -88.70741 42.493...</td>\n    </tr>\n    <tr>\n      <th>1</th>\n      <td>Boone</td>\n      <td>POLYGON ((-88.70742 42.49352, -88.70750 42.493...</td>\n    </tr>\n    <tr>\n      <th>2</th>\n      <td>Ogle</td>\n      <td>POLYGON ((-89.68809 42.19950, -89.68807 42.184...</td>\n    </tr>\n    <tr>\n      <th>3</th>\n      <td>Will</td>\n      <td>POLYGON ((-88.26146 41.72439, -88.26103 41.708...</td>\n    </tr>\n    <tr>\n      <th>4</th>\n      <td>LaSalle</td>\n      <td>POLYGON ((-88.93885 41.62837, -88.93891 41.628...</td>\n    </tr>\n    <tr>\n      <th>...</th>\n      <td>...</td>\n      <td>...</td>\n    </tr>\n    <tr>\n      <th>101</th>\n      <td>Pope</td>\n      <td>POLYGON ((-88.70860 37.59926, -88.70876 37.584...</td>\n    </tr>\n    <tr>\n      <th>102</th>\n      <td>Chicago</td>\n      <td>MULTIPOLYGON (((-87.93514 42.00089, -87.93521 ...</td>\n    </tr>\n    <tr>\n      <th>103</th>\n      <td>Out Of State</td>\n      <td>POLYGON ((-89.65365 39.78282, -89.65365 39.779...</td>\n    </tr>\n    <tr>\n      <th>104</th>\n      <td>Unassigned</td>\n      <td>POLYGON ((-89.64923 39.78269, -89.64923 39.779...</td>\n    </tr>\n    <tr>\n      <th>105</th>\n      <td>Illinois</td>\n      <td>POLYGON ((-89.64923 39.78269, -89.64923 39.779...</td>\n    </tr>\n  </tbody>\n</table>\n<p>106 rows × 2 columns</p>\n</div>"
     },
     "metadata": {},
     "output_type": "execute_result",
     "execution_count": 71
    }
   ],
   "source": [
    "county_gpd_static"
   ]
  },
  {
   "cell_type": "markdown",
   "metadata": {
    "pycharm": {
     "is_executing": false,
     "name": "#%% md\n"
    }
   },
   "source": [
    "Zipcode Data generation"
   ]
  },
  {
   "cell_type": "code",
   "execution_count": 72,
   "metadata": {
    "pycharm": {
     "is_executing": false,
     "name": "#%%\n"
    }
   },
   "outputs": [
    {
     "data": {
      "text/plain": "       zip  confirmed_cases  total_tested  \\\n0    46324                6           129   \n1    53142                9           161   \n2    60002               71           607   \n3    60004              215          2613   \n4    60005              127           806   \n..     ...              ...           ...   \n500  62920               55           202   \n501  62948                8           304   \n502  62959               25           693   \n503  62966               46           477   \n504  62992               32           116   \n\n                                          demographics  \n0    {'age': [{'age_group': 'Unknown', 'count': 0, ...  \n1    {'age': [{'age_group': 'Unknown', 'count': 0, ...  \n2    {'age': [{'age_group': 'Unknown', 'count': 0, ...  \n3    {'age': [{'age_group': 'Unknown', 'count': 6, ...  \n4    {'age': [{'age_group': 'Unknown', 'count': 0, ...  \n..                                                 ...  \n500  {'age': [{'age_group': 'Unknown', 'count': 0, ...  \n501  {'age': [{'age_group': 'Unknown', 'count': 0, ...  \n502  {'age': [{'age_group': 'Unknown', 'count': 0, ...  \n503  {'age': [{'age_group': 'Unknown', 'count': 0, ...  \n504  {'age': [{'age_group': 'Unknown', 'count': 0, ...  \n\n[505 rows x 4 columns]",
      "text/html": "<div>\n<style scoped>\n    .dataframe tbody tr th:only-of-type {\n        vertical-align: middle;\n    }\n\n    .dataframe tbody tr th {\n        vertical-align: top;\n    }\n\n    .dataframe thead th {\n        text-align: right;\n    }\n</style>\n<table border=\"1\" class=\"dataframe\">\n  <thead>\n    <tr style=\"text-align: right;\">\n      <th></th>\n      <th>zip</th>\n      <th>confirmed_cases</th>\n      <th>total_tested</th>\n      <th>demographics</th>\n    </tr>\n  </thead>\n  <tbody>\n    <tr>\n      <th>0</th>\n      <td>46324</td>\n      <td>6</td>\n      <td>129</td>\n      <td>{'age': [{'age_group': 'Unknown', 'count': 0, ...</td>\n    </tr>\n    <tr>\n      <th>1</th>\n      <td>53142</td>\n      <td>9</td>\n      <td>161</td>\n      <td>{'age': [{'age_group': 'Unknown', 'count': 0, ...</td>\n    </tr>\n    <tr>\n      <th>2</th>\n      <td>60002</td>\n      <td>71</td>\n      <td>607</td>\n      <td>{'age': [{'age_group': 'Unknown', 'count': 0, ...</td>\n    </tr>\n    <tr>\n      <th>3</th>\n      <td>60004</td>\n      <td>215</td>\n      <td>2613</td>\n      <td>{'age': [{'age_group': 'Unknown', 'count': 6, ...</td>\n    </tr>\n    <tr>\n      <th>4</th>\n      <td>60005</td>\n      <td>127</td>\n      <td>806</td>\n      <td>{'age': [{'age_group': 'Unknown', 'count': 0, ...</td>\n    </tr>\n    <tr>\n      <th>...</th>\n      <td>...</td>\n      <td>...</td>\n      <td>...</td>\n      <td>...</td>\n    </tr>\n    <tr>\n      <th>500</th>\n      <td>62920</td>\n      <td>55</td>\n      <td>202</td>\n      <td>{'age': [{'age_group': 'Unknown', 'count': 0, ...</td>\n    </tr>\n    <tr>\n      <th>501</th>\n      <td>62948</td>\n      <td>8</td>\n      <td>304</td>\n      <td>{'age': [{'age_group': 'Unknown', 'count': 0, ...</td>\n    </tr>\n    <tr>\n      <th>502</th>\n      <td>62959</td>\n      <td>25</td>\n      <td>693</td>\n      <td>{'age': [{'age_group': 'Unknown', 'count': 0, ...</td>\n    </tr>\n    <tr>\n      <th>503</th>\n      <td>62966</td>\n      <td>46</td>\n      <td>477</td>\n      <td>{'age': [{'age_group': 'Unknown', 'count': 0, ...</td>\n    </tr>\n    <tr>\n      <th>504</th>\n      <td>62992</td>\n      <td>32</td>\n      <td>116</td>\n      <td>{'age': [{'age_group': 'Unknown', 'count': 0, ...</td>\n    </tr>\n  </tbody>\n</table>\n<p>505 rows × 4 columns</p>\n</div>"
     },
     "metadata": {},
     "output_type": "execute_result",
     "execution_count": 72
    }
   ],
   "source": [
    "zipcode_data"
   ]
  },
  {
   "cell_type": "code",
   "execution_count": 73,
   "metadata": {
    "pycharm": {
     "is_executing": false,
     "name": "#%%\n"
    }
   },
   "outputs": [
    {
     "data": {
      "text/plain": "id            object\ngeometry    geometry\ndtype: object"
     },
     "metadata": {},
     "output_type": "execute_result",
     "execution_count": 73
    }
   ],
   "source": [
    "zipcode_gpd.dtypes"
   ]
  },
  {
   "cell_type": "code",
   "execution_count": 74,
   "metadata": {
    "pycharm": {
     "is_executing": false,
     "name": "#%%\n"
    }
   },
   "outputs": [],
   "source": [
    "zipcode_final_gpd = pd.merge(zipcode_gpd,zipcode_data, how = 'left', left_on=['id'], right_on=['zip'])"
   ]
  },
  {
   "cell_type": "code",
   "execution_count": 75,
   "metadata": {
    "pycharm": {
     "is_executing": false,
     "name": "#%%\n"
    }
   },
   "outputs": [],
   "source": [
    "zipcode_final_gpd['confirmed_cases'] = zipcode_final_gpd['confirmed_cases'].replace(np.nan,0)\n",
    "zipcode_final_gpd['total_tested'] = zipcode_final_gpd['total_tested'].replace(np.nan,0)\n",
    "zipcode_final_gpd = zipcode_final_gpd[['id','confirmed_cases','total_tested','geometry']]"
   ]
  },
  {
   "cell_type": "code",
   "execution_count": 76,
   "metadata": {
    "pycharm": {
     "is_executing": false,
     "name": "#%%\n"
    }
   },
   "outputs": [
    {
     "name": "stdout",
     "text": [
      "done\n"
     ],
     "output_type": "stream"
    }
   ],
   "source": [
    "zipcode_final_gpd.to_file('dph_zipcode_data.geojson', driver='GeoJSON', encoding='utf-8')\n",
    "print('done')"
   ]
  },
  {
   "cell_type": "markdown",
   "metadata": {
    "pycharm": {
     "name": "#%% md\n"
    }
   },
   "source": [
    "Static County Data Generation\n"
   ]
  },
  {
   "cell_type": "code",
   "execution_count": 77,
   "metadata": {
    "pycharm": {
     "is_executing": false,
     "name": "#%%\n"
    }
   },
   "outputs": [
    {
     "data": {
      "text/plain": "603241"
     },
     "metadata": {},
     "output_type": "execute_result",
     "execution_count": 77
    }
   ],
   "source": [
    "county_static_data = pd.DataFrame(history_dict['characteristics_by_county']['values'])\n",
    "county_static_data[\"total_tested\"].sum() - 562291"
   ]
  },
  {
   "cell_type": "code",
   "execution_count": 78,
   "metadata": {
    "pycharm": {
     "is_executing": false,
     "name": "#%%\n"
    }
   },
   "outputs": [],
   "source": [
    "county_static = pd.merge(county_gpd_static, county_static_data, how=\"left\", left_on=\"id\",right_on=\"County\")"
   ]
  },
  {
   "cell_type": "code",
   "execution_count": 79,
   "metadata": {
    "pycharm": {
     "is_executing": false,
     "name": "#%%\n"
    }
   },
   "outputs": [],
   "source": [
    "county_static = county_static.rename(columns={'id':'NAME'})"
   ]
  },
  {
   "cell_type": "code",
   "execution_count": 80,
   "metadata": {
    "pycharm": {
     "is_executing": false
    }
   },
   "outputs": [
    {
     "data": {
      "text/plain": "             NAME                                           geometry  \\\n0         McHenry  POLYGON ((-88.70742 42.49352, -88.70741 42.493...   \n1           Boone  POLYGON ((-88.70742 42.49352, -88.70750 42.493...   \n2            Ogle  POLYGON ((-89.68809 42.19950, -89.68807 42.184...   \n3            Will  POLYGON ((-88.26146 41.72439, -88.26103 41.708...   \n4         LaSalle  POLYGON ((-88.93885 41.62837, -88.93891 41.628...   \n..            ...                                                ...   \n101          Pope  POLYGON ((-88.70860 37.59926, -88.70876 37.584...   \n102       Chicago  MULTIPOLYGON (((-87.93514 42.00089, -87.93521 ...   \n103  Out Of State  POLYGON ((-89.65365 39.78282, -89.65365 39.779...   \n104    Unassigned  POLYGON ((-89.64923 39.78269, -89.64923 39.779...   \n105      Illinois  POLYGON ((-89.64923 39.78269, -89.64923 39.779...   \n\n           County  confirmed_cases  total_tested  deaths        lat        lon  \n0         McHenry             1209          7966      62  42.304000 -88.401600  \n1           Boone              307          1691      14  42.348500 -88.826300  \n2            Ogle              172          1811       2  41.997000 -89.322700  \n3            Will             4455         26544     240  41.505500 -88.090100  \n4         LaSalle              121          2296       8  41.436400 -88.941400  \n..            ...              ...           ...     ...        ...        ...  \n101          Pope                1            41       0  37.417100 -88.595200  \n102       Chicago            37434        171515    1681  41.789896 -87.627734  \n103  Out Of State               87          1893       1   0.000000   0.000000  \n104    Unassigned               74         13476       0  39.839888 -89.510168  \n105      Illinois            96485        603241    4234  39.839888 -89.510168  \n\n[106 rows x 8 columns]",
      "text/html": "<div>\n<style scoped>\n    .dataframe tbody tr th:only-of-type {\n        vertical-align: middle;\n    }\n\n    .dataframe tbody tr th {\n        vertical-align: top;\n    }\n\n    .dataframe thead th {\n        text-align: right;\n    }\n</style>\n<table border=\"1\" class=\"dataframe\">\n  <thead>\n    <tr style=\"text-align: right;\">\n      <th></th>\n      <th>NAME</th>\n      <th>geometry</th>\n      <th>County</th>\n      <th>confirmed_cases</th>\n      <th>total_tested</th>\n      <th>deaths</th>\n      <th>lat</th>\n      <th>lon</th>\n    </tr>\n  </thead>\n  <tbody>\n    <tr>\n      <th>0</th>\n      <td>McHenry</td>\n      <td>POLYGON ((-88.70742 42.49352, -88.70741 42.493...</td>\n      <td>McHenry</td>\n      <td>1209</td>\n      <td>7966</td>\n      <td>62</td>\n      <td>42.304000</td>\n      <td>-88.401600</td>\n    </tr>\n    <tr>\n      <th>1</th>\n      <td>Boone</td>\n      <td>POLYGON ((-88.70742 42.49352, -88.70750 42.493...</td>\n      <td>Boone</td>\n      <td>307</td>\n      <td>1691</td>\n      <td>14</td>\n      <td>42.348500</td>\n      <td>-88.826300</td>\n    </tr>\n    <tr>\n      <th>2</th>\n      <td>Ogle</td>\n      <td>POLYGON ((-89.68809 42.19950, -89.68807 42.184...</td>\n      <td>Ogle</td>\n      <td>172</td>\n      <td>1811</td>\n      <td>2</td>\n      <td>41.997000</td>\n      <td>-89.322700</td>\n    </tr>\n    <tr>\n      <th>3</th>\n      <td>Will</td>\n      <td>POLYGON ((-88.26146 41.72439, -88.26103 41.708...</td>\n      <td>Will</td>\n      <td>4455</td>\n      <td>26544</td>\n      <td>240</td>\n      <td>41.505500</td>\n      <td>-88.090100</td>\n    </tr>\n    <tr>\n      <th>4</th>\n      <td>LaSalle</td>\n      <td>POLYGON ((-88.93885 41.62837, -88.93891 41.628...</td>\n      <td>LaSalle</td>\n      <td>121</td>\n      <td>2296</td>\n      <td>8</td>\n      <td>41.436400</td>\n      <td>-88.941400</td>\n    </tr>\n    <tr>\n      <th>...</th>\n      <td>...</td>\n      <td>...</td>\n      <td>...</td>\n      <td>...</td>\n      <td>...</td>\n      <td>...</td>\n      <td>...</td>\n      <td>...</td>\n    </tr>\n    <tr>\n      <th>101</th>\n      <td>Pope</td>\n      <td>POLYGON ((-88.70860 37.59926, -88.70876 37.584...</td>\n      <td>Pope</td>\n      <td>1</td>\n      <td>41</td>\n      <td>0</td>\n      <td>37.417100</td>\n      <td>-88.595200</td>\n    </tr>\n    <tr>\n      <th>102</th>\n      <td>Chicago</td>\n      <td>MULTIPOLYGON (((-87.93514 42.00089, -87.93521 ...</td>\n      <td>Chicago</td>\n      <td>37434</td>\n      <td>171515</td>\n      <td>1681</td>\n      <td>41.789896</td>\n      <td>-87.627734</td>\n    </tr>\n    <tr>\n      <th>103</th>\n      <td>Out Of State</td>\n      <td>POLYGON ((-89.65365 39.78282, -89.65365 39.779...</td>\n      <td>Out Of State</td>\n      <td>87</td>\n      <td>1893</td>\n      <td>1</td>\n      <td>0.000000</td>\n      <td>0.000000</td>\n    </tr>\n    <tr>\n      <th>104</th>\n      <td>Unassigned</td>\n      <td>POLYGON ((-89.64923 39.78269, -89.64923 39.779...</td>\n      <td>Unassigned</td>\n      <td>74</td>\n      <td>13476</td>\n      <td>0</td>\n      <td>39.839888</td>\n      <td>-89.510168</td>\n    </tr>\n    <tr>\n      <th>105</th>\n      <td>Illinois</td>\n      <td>POLYGON ((-89.64923 39.78269, -89.64923 39.779...</td>\n      <td>Illinois</td>\n      <td>96485</td>\n      <td>603241</td>\n      <td>4234</td>\n      <td>39.839888</td>\n      <td>-89.510168</td>\n    </tr>\n  </tbody>\n</table>\n<p>106 rows × 8 columns</p>\n</div>"
     },
     "metadata": {},
     "output_type": "execute_result",
     "execution_count": 80
    }
   ],
   "source": [
    "county_static"
   ]
  },
  {
   "cell_type": "code",
   "execution_count": 81,
   "metadata": {
    "pycharm": {
     "is_executing": false
    }
   },
   "outputs": [
    {
     "data": {
      "text/plain": "geopandas.geoseries.GeoSeries"
     },
     "metadata": {},
     "output_type": "execute_result",
     "execution_count": 81
    }
   ],
   "source": [
    "type(county_static[\"geometry\"])"
   ]
  },
  {
   "cell_type": "code",
   "execution_count": 82,
   "metadata": {
    "pycharm": {
     "is_executing": false,
     "name": "#%%\n"
    }
   },
   "outputs": [
    {
     "name": "stdout",
     "text": [
      "done\n"
     ],
     "output_type": "stream"
    }
   ],
   "source": [
    "county_static.to_file('dph_county_static_data.geojson', driver='GeoJSON', encoding='utf-8')\n",
    "print('done')"
   ]
  },
  {
   "cell_type": "markdown",
   "metadata": {
    "pycharm": {
     "name": "#%% md\n"
    }
   },
   "source": [
    "County Data generation\n"
   ]
  },
  {
   "cell_type": "code",
   "execution_count": 83,
   "metadata": {
    "pycharm": {
     "is_executing": false,
     "name": "#%%\n"
    }
   },
   "outputs": [],
   "source": [
    "# transform to new york times format\n",
    "county_history = pd.DataFrame(history_dict['historical_county']['values'])\n",
    "l = []\n",
    "for case in history_dict['historical_county']['values']:\n",
    "    testDate = case['testDate']\n",
    "    values = case['values']\n",
    "    for x in values:\n",
    "        x['date'] = testDate\n",
    "        l.append(x)\n",
    "county_history = pd.DataFrame(l)"
   ]
  },
  {
   "cell_type": "code",
   "execution_count": 84,
   "metadata": {
    "pycharm": {
     "is_executing": false,
     "name": "#%%\n"
    }
   },
   "outputs": [],
   "source": [
    "# eliminate unassigned data\n",
    "county_history = county_history[county_history['County'] != 'Unassigned']"
   ]
  },
  {
   "cell_type": "code",
   "execution_count": 85,
   "metadata": {
    "pycharm": {
     "is_executing": false,
     "name": "#%%\n"
    }
   },
   "outputs": [],
   "source": [
    "def standardDate(str):\n",
    "    l = str.split('/')\n",
    "    month = l[0]\n",
    "    day = l[1]\n",
    "    year = l[2]\n",
    "    if len(month) < 2:\n",
    "        month = '0' + month\n",
    "    if len(day) < 2:\n",
    "        day = '0' + day\n",
    "    return year + '-' + month + '-' + day"
   ]
  },
  {
   "cell_type": "code",
   "execution_count": 86,
   "metadata": {
    "pycharm": {
     "is_executing": false,
     "name": "#%%\n"
    }
   },
   "outputs": [],
   "source": [
    "# pivot table\n",
    "county_pivot = pd.pivot_table(county_history, index=['County'],columns=['date'])"
   ]
  },
  {
   "cell_type": "code",
   "execution_count": 87,
   "metadata": {
    "pycharm": {
     "is_executing": false,
     "name": "#%%\n"
    }
   },
   "outputs": [
    {
     "data": {
      "text/plain": "date\n3/17/2020    0.0\n3/18/2020    0.0\n3/19/2020    0.0\n3/20/2020    0.0\n3/21/2020    0.0\n            ... \n5/5/2020     1.0\n5/6/2020     1.0\n5/7/2020     1.0\n5/8/2020     1.0\n5/9/2020     1.0\nName: Bond, Length: 62, dtype: float64"
     },
     "metadata": {},
     "output_type": "execute_result",
     "execution_count": 87
    }
   ],
   "source": [
    "county_pivot['deaths'].iloc[2]"
   ]
  },
  {
   "cell_type": "code",
   "execution_count": 88,
   "metadata": {
    "pycharm": {
     "is_executing": false,
     "name": "#%%\n"
    }
   },
   "outputs": [],
   "source": [
    "# Standardized Date Format\n",
    "county_cases = county_pivot['confirmed_cases']\n",
    "county_deaths = county_pivot['deaths']"
   ]
  },
  {
   "cell_type": "code",
   "execution_count": 89,
   "metadata": {
    "pycharm": {
     "is_executing": false,
     "name": "#%%\n"
    }
   },
   "outputs": [],
   "source": [
    "county_cases = county_cases.rename(columns=standardDate)\n",
    "county_deaths = county_deaths.rename(columns=standardDate)"
   ]
  },
  {
   "cell_type": "code",
   "execution_count": 90,
   "metadata": {
    "pycharm": {
     "is_executing": false,
     "name": "#%%\n"
    }
   },
   "outputs": [],
   "source": [
    "# Add missing 03/23 data with 03/22\n",
    "county_cases['2020-03-23'] = county_cases['2020-03-22']\n",
    "county_deaths['2020-03-23'] = county_deaths['2020-03-22']"
   ]
  },
  {
   "cell_type": "code",
   "execution_count": 91,
   "metadata": {
    "pycharm": {
     "is_executing": false,
     "name": "#%%\n"
    }
   },
   "outputs": [
    {
     "data": {
      "text/plain": "date    2020-03-17  2020-03-18  2020-03-19  2020-03-20  2020-03-21  \\\nCounty                                                               \nAdams          0.0         0.0         0.0         1.0         1.0   \n\ndate    2020-03-22  2020-03-24  2020-03-25  2020-03-26  2020-03-27  ...  \\\nCounty                                                              ...   \nAdams          1.0         1.0         1.0         1.0         1.0  ...   \n\ndate    2020-05-18  2020-05-02  2020-05-03  2020-05-04  2020-05-05  \\\nCounty                                                               \nAdams         42.0        40.0        40.0        40.0        40.0   \n\ndate    2020-05-06  2020-05-07  2020-05-08  2020-05-09  2020-03-23  \nCounty                                                              \nAdams         40.0        40.0        41.0        41.0         1.0  \n\n[1 rows x 63 columns]",
      "text/html": "<div>\n<style scoped>\n    .dataframe tbody tr th:only-of-type {\n        vertical-align: middle;\n    }\n\n    .dataframe tbody tr th {\n        vertical-align: top;\n    }\n\n    .dataframe thead th {\n        text-align: right;\n    }\n</style>\n<table border=\"1\" class=\"dataframe\">\n  <thead>\n    <tr style=\"text-align: right;\">\n      <th>date</th>\n      <th>2020-03-17</th>\n      <th>2020-03-18</th>\n      <th>2020-03-19</th>\n      <th>2020-03-20</th>\n      <th>2020-03-21</th>\n      <th>2020-03-22</th>\n      <th>2020-03-24</th>\n      <th>2020-03-25</th>\n      <th>2020-03-26</th>\n      <th>2020-03-27</th>\n      <th>...</th>\n      <th>2020-05-18</th>\n      <th>2020-05-02</th>\n      <th>2020-05-03</th>\n      <th>2020-05-04</th>\n      <th>2020-05-05</th>\n      <th>2020-05-06</th>\n      <th>2020-05-07</th>\n      <th>2020-05-08</th>\n      <th>2020-05-09</th>\n      <th>2020-03-23</th>\n    </tr>\n    <tr>\n      <th>County</th>\n      <th></th>\n      <th></th>\n      <th></th>\n      <th></th>\n      <th></th>\n      <th></th>\n      <th></th>\n      <th></th>\n      <th></th>\n      <th></th>\n      <th></th>\n      <th></th>\n      <th></th>\n      <th></th>\n      <th></th>\n      <th></th>\n      <th></th>\n      <th></th>\n      <th></th>\n      <th></th>\n      <th></th>\n    </tr>\n  </thead>\n  <tbody>\n    <tr>\n      <th>Adams</th>\n      <td>0.0</td>\n      <td>0.0</td>\n      <td>0.0</td>\n      <td>1.0</td>\n      <td>1.0</td>\n      <td>1.0</td>\n      <td>1.0</td>\n      <td>1.0</td>\n      <td>1.0</td>\n      <td>1.0</td>\n      <td>...</td>\n      <td>42.0</td>\n      <td>40.0</td>\n      <td>40.0</td>\n      <td>40.0</td>\n      <td>40.0</td>\n      <td>40.0</td>\n      <td>40.0</td>\n      <td>41.0</td>\n      <td>41.0</td>\n      <td>1.0</td>\n    </tr>\n  </tbody>\n</table>\n<p>1 rows × 63 columns</p>\n</div>"
     },
     "metadata": {},
     "output_type": "execute_result",
     "execution_count": 91
    }
   ],
   "source": [
    "county_cases.head(1)"
   ]
  },
  {
   "cell_type": "code",
   "execution_count": 92,
   "metadata": {
    "pycharm": {
     "is_executing": false,
     "name": "#%%\n"
    }
   },
   "outputs": [],
   "source": [
    "# Get date information\n",
    "date = county_cases.columns.tolist()\n",
    "date.sort()\n",
    "dt_first = date[0]\n",
    "dt_today = date[-1]\n",
    "dt_yesterday = date[-2]"
   ]
  },
  {
   "cell_type": "code",
   "execution_count": 93,
   "metadata": {
    "pycharm": {
     "is_executing": false,
     "name": "#%%\n"
    }
   },
   "outputs": [],
   "source": [
    "from datetime import datetime\n",
    "from datetime import timedelta"
   ]
  },
  {
   "cell_type": "code",
   "execution_count": 94,
   "metadata": {
    "pycharm": {
     "is_executing": false,
     "name": "#%%\n"
    }
   },
   "outputs": [],
   "source": [
    "def find_missing_date(date):\n",
    "    dt_range = datetime.strptime(date[-1], \"%Y-%m-%d\") - datetime.strptime(date[0], \"%Y-%m-%d\")\n",
    "    if len(date) != dt_range.days + 1:\n",
    "        print('Alert! Missing Date or Redundant date')\n",
    "        for x in range(len(date) - 1):\n",
    "            if (datetime.strptime(date[x + 1], \"%Y-%m-%d\") - datetime.strptime(date[x], \"%Y-%m-%d\")).days != 1:\n",
    "                missing_date = datetime.strptime(date[x], \"%Y-%m-%d\") + timedelta(days=1)\n",
    "                print('Missing Date:')\n",
    "                print(missing_date)"
   ]
  },
  {
   "cell_type": "code",
   "execution_count": 95,
   "metadata": {
    "pycharm": {
     "is_executing": false,
     "name": "#%%\n"
    }
   },
   "outputs": [],
   "source": [
    "# Looking for missing dates\n",
    "find_missing_date(date)"
   ]
  },
  {
   "cell_type": "code",
   "execution_count": 96,
   "metadata": {
    "pycharm": {
     "is_executing": false,
     "name": "#%%\n"
    }
   },
   "outputs": [],
   "source": [
    "# reorder date\n",
    "county_cases = county_cases[date]\n",
    "county_deaths = county_deaths[date]"
   ]
  },
  {
   "cell_type": "code",
   "execution_count": 97,
   "metadata": {
    "pycharm": {
     "is_executing": false,
     "name": "#%%\n"
    }
   },
   "outputs": [],
   "source": [
    "# get case time series\n",
    "cases_ts = county_cases.values.tolist()\n",
    "deaths_ts = county_deaths.values.tolist()"
   ]
  },
  {
   "cell_type": "code",
   "execution_count": 98,
   "metadata": {
    "pycharm": {
     "is_executing": false,
     "name": "#%%\n"
    }
   },
   "outputs": [],
   "source": [
    "# get first case date\n",
    "county_cases['dt_first_case'] = (county_cases > 0).idxmax(axis=1)\n",
    "county_cases.loc[county_cases.iloc[:, -2] <= 0, 'dt_first_case'] = np.nan\n",
    "county_deaths['dt_first_death'] = (county_deaths > 0).idxmax(axis=1)\n",
    "county_deaths.loc[county_deaths.iloc[:, -2] <= 0, 'dt_first_death'] = np.nan"
   ]
  },
  {
   "cell_type": "code",
   "execution_count": 99,
   "metadata": {
    "pycharm": {
     "is_executing": false,
     "name": "#%%\n"
    }
   },
   "outputs": [],
   "source": [
    "county_cases['cases_ts'] = cases_ts\n",
    "county_deaths['deaths_ts'] = deaths_ts"
   ]
  },
  {
   "cell_type": "code",
   "execution_count": 100,
   "metadata": {
    "pycharm": {
     "is_executing": false,
     "name": "#%%\n"
    }
   },
   "outputs": [],
   "source": [
    "# Add today_case and today_new_case columns\n",
    "county_cases['today_case'] = county_cases[dt_today]\n",
    "county_cases['today_new_case'] = county_cases[dt_today] - county_cases[dt_yesterday]\n",
    "county_deaths['today_death'] = county_deaths[dt_today]\n",
    "county_deaths['today_new_death'] = county_deaths[dt_today] - county_deaths[dt_yesterday]"
   ]
  },
  {
   "cell_type": "code",
   "execution_count": 101,
   "metadata": {
    "pycharm": {
     "is_executing": false,
     "name": "#%%\n"
    }
   },
   "outputs": [],
   "source": [
    "case_report = county_cases[['cases_ts','dt_first_case','today_case','today_new_case']]"
   ]
  },
  {
   "cell_type": "code",
   "execution_count": 102,
   "metadata": {
    "pycharm": {
     "is_executing": false,
     "name": "#%%\n"
    }
   },
   "outputs": [],
   "source": [
    "death_report = county_deaths[['deaths_ts','dt_first_death','today_death','today_new_death']]"
   ]
  },
  {
   "cell_type": "code",
   "execution_count": 103,
   "metadata": {
    "pycharm": {
     "is_executing": false,
     "name": "#%%\n"
    }
   },
   "outputs": [],
   "source": [
    "county_report = case_report.join(death_report, how=\"outer\")"
   ]
  },
  {
   "cell_type": "code",
   "execution_count": 104,
   "metadata": {
    "pycharm": {
     "is_executing": false,
     "name": "#%%\n"
    }
   },
   "outputs": [],
   "source": [
    "county_report = county_report.reset_index()\n",
    "county_report.columns = ['NAME','cases_ts','dt_first_case','today_case','today_new_case','deaths_ts','dt_first_death','today_death','today_new_death']\n",
    "county_report['cases_ts'] = county_report['cases_ts'].apply(lambda x: ','.join(map(str,x)))\n",
    "county_report['deaths_ts'] = county_report['deaths_ts'].apply(lambda x: ','.join(map(str,x)))"
   ]
  },
  {
   "cell_type": "code",
   "execution_count": 105,
   "metadata": {
    "pycharm": {
     "is_executing": false,
     "name": "#%%\n"
    }
   },
   "outputs": [
    {
     "data": {
      "text/plain": "array(['Illinois', 'Out Of State', 'Suburban Cook'], dtype=object)"
     },
     "metadata": {},
     "output_type": "execute_result",
     "execution_count": 105
    }
   ],
   "source": [
    "np.setdiff1d(county_report['NAME'],county_gpd['id'])\n",
    "# Illinois, Out of State and Suburban Cook is not in geometry"
   ]
  },
  {
   "cell_type": "code",
   "execution_count": 106,
   "metadata": {
    "pycharm": {
     "is_executing": false,
     "name": "#%%\n"
    }
   },
   "outputs": [],
   "source": [
    "county_report = county_report[(county_report['NAME'] != 'Illinois') & (county_report['NAME'] != 'Out of State') & (county_report['NAME'] != 'Suburban Cook')]\n",
    "\n"
   ]
  },
  {
   "cell_type": "code",
   "execution_count": 107,
   "metadata": {
    "pycharm": {
     "is_executing": false,
     "name": "#%%\n"
    }
   },
   "outputs": [],
   "source": [
    "county_report['dt_start'] = dt_first\n",
    "county_report['dt_end'] = dt_today\n",
    "county_report['dt_unit'] = 'day'"
   ]
  },
  {
   "cell_type": "code",
   "execution_count": 108,
   "metadata": {
    "pycharm": {
     "is_executing": false,
     "name": "#%%\n"
    }
   },
   "outputs": [
    {
     "data": {
      "text/plain": "           NAME                                           cases_ts  \\\n0         Adams  0.0,0.0,0.0,1.0,1.0,1.0,1.0,1.0,1.0,1.0,1.0,1....   \n1     Alexander  0.0,0.0,0.0,0.0,0.0,0.0,0.0,0.0,0.0,0.0,0.0,0....   \n2          Bond  0.0,0.0,0.0,0.0,0.0,0.0,0.0,0.0,0.0,0.0,0.0,0....   \n3         Boone  0.0,0.0,0.0,0.0,0.0,0.0,0.0,0.0,0.0,0.0,0.0,0....   \n4         Brown  0.0,0.0,0.0,0.0,0.0,0.0,0.0,0.0,0.0,0.0,0.0,0....   \n..          ...                                                ...   \n101   Whiteside  1.0,1.0,1.0,1.0,1.0,1.0,1.0,1.0,1.0,1.0,2.0,2....   \n102        Will  2.0,3.0,9.0,10.0,12.0,21.0,21.0,28.0,40.0,67.0...   \n103  Williamson  0.0,0.0,1.0,1.0,1.0,1.0,1.0,0.0,1.0,1.0,1.0,1....   \n104   Winnebago  1.0,1.0,1.0,2.0,4.0,5.0,5.0,5.0,7.0,8.0,8.0,9....   \n105    Woodford  1.0,1.0,2.0,2.0,2.0,2.0,2.0,3.0,3.0,3.0,3.0,3....   \n\n    dt_first_case  today_case  today_new_case  \\\n0      2020-03-20        42.0             0.0   \n1      2020-04-16         8.0             0.0   \n2      2020-03-29        11.0             0.0   \n3      2020-04-05       307.0            17.0   \n4      2020-05-01        11.0             1.0   \n..            ...         ...             ...   \n101    2020-03-17       123.0             1.0   \n102    2020-03-17      4455.0            67.0   \n103    2020-03-19        52.0             0.0   \n104    2020-03-17      1537.0            47.0   \n105    2020-03-17        16.0             2.0   \n\n                                             deaths_ts dt_first_death  \\\n0    0.0,0.0,0.0,0.0,0.0,0.0,0.0,0.0,0.0,0.0,0.0,0....     2020-05-01   \n1    0.0,0.0,0.0,0.0,0.0,0.0,0.0,0.0,0.0,0.0,0.0,0....            NaN   \n2    0.0,0.0,0.0,0.0,0.0,0.0,0.0,0.0,0.0,0.0,0.0,0....     2020-04-16   \n3    0.0,0.0,0.0,0.0,0.0,0.0,0.0,0.0,0.0,0.0,0.0,0....     2020-04-08   \n4    0.0,0.0,0.0,0.0,0.0,0.0,0.0,0.0,0.0,0.0,0.0,0....            NaN   \n..                                                 ...            ...   \n101  0.0,0.0,0.0,0.0,0.0,0.0,0.0,0.0,0.0,0.0,0.0,0....     2020-04-02   \n102  0.0,0.0,0.0,1.0,1.0,1.0,1.0,1.0,2.0,3.0,3.0,4....     2020-03-20   \n103  0.0,0.0,1.0,1.0,0.0,0.0,0.0,0.0,0.0,0.0,0.0,0....     2020-03-19   \n104  0.0,0.0,0.0,0.0,0.0,0.0,0.0,0.0,0.0,0.0,0.0,0....     2020-04-01   \n105  0.0,0.0,0.0,0.0,0.0,0.0,0.0,0.0,0.0,0.0,0.0,0....     2020-04-21   \n\n     today_death  today_new_death    dt_start      dt_end dt_unit  \n0            1.0              0.0  2020-03-17  2020-05-18     day  \n1            0.0              0.0  2020-03-17  2020-05-18     day  \n2            1.0              0.0  2020-03-17  2020-05-18     day  \n3           14.0              0.0  2020-03-17  2020-05-18     day  \n4            0.0              0.0  2020-03-17  2020-05-18     day  \n..           ...              ...         ...         ...     ...  \n101          8.0              0.0  2020-03-17  2020-05-18     day  \n102        240.0              0.0  2020-03-17  2020-05-18     day  \n103          1.0              0.0  2020-03-17  2020-05-18     day  \n104         37.0              2.0  2020-03-17  2020-05-18     day  \n105          1.0              0.0  2020-03-17  2020-05-18     day  \n\n[104 rows x 12 columns]",
      "text/html": "<div>\n<style scoped>\n    .dataframe tbody tr th:only-of-type {\n        vertical-align: middle;\n    }\n\n    .dataframe tbody tr th {\n        vertical-align: top;\n    }\n\n    .dataframe thead th {\n        text-align: right;\n    }\n</style>\n<table border=\"1\" class=\"dataframe\">\n  <thead>\n    <tr style=\"text-align: right;\">\n      <th></th>\n      <th>NAME</th>\n      <th>cases_ts</th>\n      <th>dt_first_case</th>\n      <th>today_case</th>\n      <th>today_new_case</th>\n      <th>deaths_ts</th>\n      <th>dt_first_death</th>\n      <th>today_death</th>\n      <th>today_new_death</th>\n      <th>dt_start</th>\n      <th>dt_end</th>\n      <th>dt_unit</th>\n    </tr>\n  </thead>\n  <tbody>\n    <tr>\n      <th>0</th>\n      <td>Adams</td>\n      <td>0.0,0.0,0.0,1.0,1.0,1.0,1.0,1.0,1.0,1.0,1.0,1....</td>\n      <td>2020-03-20</td>\n      <td>42.0</td>\n      <td>0.0</td>\n      <td>0.0,0.0,0.0,0.0,0.0,0.0,0.0,0.0,0.0,0.0,0.0,0....</td>\n      <td>2020-05-01</td>\n      <td>1.0</td>\n      <td>0.0</td>\n      <td>2020-03-17</td>\n      <td>2020-05-18</td>\n      <td>day</td>\n    </tr>\n    <tr>\n      <th>1</th>\n      <td>Alexander</td>\n      <td>0.0,0.0,0.0,0.0,0.0,0.0,0.0,0.0,0.0,0.0,0.0,0....</td>\n      <td>2020-04-16</td>\n      <td>8.0</td>\n      <td>0.0</td>\n      <td>0.0,0.0,0.0,0.0,0.0,0.0,0.0,0.0,0.0,0.0,0.0,0....</td>\n      <td>NaN</td>\n      <td>0.0</td>\n      <td>0.0</td>\n      <td>2020-03-17</td>\n      <td>2020-05-18</td>\n      <td>day</td>\n    </tr>\n    <tr>\n      <th>2</th>\n      <td>Bond</td>\n      <td>0.0,0.0,0.0,0.0,0.0,0.0,0.0,0.0,0.0,0.0,0.0,0....</td>\n      <td>2020-03-29</td>\n      <td>11.0</td>\n      <td>0.0</td>\n      <td>0.0,0.0,0.0,0.0,0.0,0.0,0.0,0.0,0.0,0.0,0.0,0....</td>\n      <td>2020-04-16</td>\n      <td>1.0</td>\n      <td>0.0</td>\n      <td>2020-03-17</td>\n      <td>2020-05-18</td>\n      <td>day</td>\n    </tr>\n    <tr>\n      <th>3</th>\n      <td>Boone</td>\n      <td>0.0,0.0,0.0,0.0,0.0,0.0,0.0,0.0,0.0,0.0,0.0,0....</td>\n      <td>2020-04-05</td>\n      <td>307.0</td>\n      <td>17.0</td>\n      <td>0.0,0.0,0.0,0.0,0.0,0.0,0.0,0.0,0.0,0.0,0.0,0....</td>\n      <td>2020-04-08</td>\n      <td>14.0</td>\n      <td>0.0</td>\n      <td>2020-03-17</td>\n      <td>2020-05-18</td>\n      <td>day</td>\n    </tr>\n    <tr>\n      <th>4</th>\n      <td>Brown</td>\n      <td>0.0,0.0,0.0,0.0,0.0,0.0,0.0,0.0,0.0,0.0,0.0,0....</td>\n      <td>2020-05-01</td>\n      <td>11.0</td>\n      <td>1.0</td>\n      <td>0.0,0.0,0.0,0.0,0.0,0.0,0.0,0.0,0.0,0.0,0.0,0....</td>\n      <td>NaN</td>\n      <td>0.0</td>\n      <td>0.0</td>\n      <td>2020-03-17</td>\n      <td>2020-05-18</td>\n      <td>day</td>\n    </tr>\n    <tr>\n      <th>...</th>\n      <td>...</td>\n      <td>...</td>\n      <td>...</td>\n      <td>...</td>\n      <td>...</td>\n      <td>...</td>\n      <td>...</td>\n      <td>...</td>\n      <td>...</td>\n      <td>...</td>\n      <td>...</td>\n      <td>...</td>\n    </tr>\n    <tr>\n      <th>101</th>\n      <td>Whiteside</td>\n      <td>1.0,1.0,1.0,1.0,1.0,1.0,1.0,1.0,1.0,1.0,2.0,2....</td>\n      <td>2020-03-17</td>\n      <td>123.0</td>\n      <td>1.0</td>\n      <td>0.0,0.0,0.0,0.0,0.0,0.0,0.0,0.0,0.0,0.0,0.0,0....</td>\n      <td>2020-04-02</td>\n      <td>8.0</td>\n      <td>0.0</td>\n      <td>2020-03-17</td>\n      <td>2020-05-18</td>\n      <td>day</td>\n    </tr>\n    <tr>\n      <th>102</th>\n      <td>Will</td>\n      <td>2.0,3.0,9.0,10.0,12.0,21.0,21.0,28.0,40.0,67.0...</td>\n      <td>2020-03-17</td>\n      <td>4455.0</td>\n      <td>67.0</td>\n      <td>0.0,0.0,0.0,1.0,1.0,1.0,1.0,1.0,2.0,3.0,3.0,4....</td>\n      <td>2020-03-20</td>\n      <td>240.0</td>\n      <td>0.0</td>\n      <td>2020-03-17</td>\n      <td>2020-05-18</td>\n      <td>day</td>\n    </tr>\n    <tr>\n      <th>103</th>\n      <td>Williamson</td>\n      <td>0.0,0.0,1.0,1.0,1.0,1.0,1.0,0.0,1.0,1.0,1.0,1....</td>\n      <td>2020-03-19</td>\n      <td>52.0</td>\n      <td>0.0</td>\n      <td>0.0,0.0,1.0,1.0,0.0,0.0,0.0,0.0,0.0,0.0,0.0,0....</td>\n      <td>2020-03-19</td>\n      <td>1.0</td>\n      <td>0.0</td>\n      <td>2020-03-17</td>\n      <td>2020-05-18</td>\n      <td>day</td>\n    </tr>\n    <tr>\n      <th>104</th>\n      <td>Winnebago</td>\n      <td>1.0,1.0,1.0,2.0,4.0,5.0,5.0,5.0,7.0,8.0,8.0,9....</td>\n      <td>2020-03-17</td>\n      <td>1537.0</td>\n      <td>47.0</td>\n      <td>0.0,0.0,0.0,0.0,0.0,0.0,0.0,0.0,0.0,0.0,0.0,0....</td>\n      <td>2020-04-01</td>\n      <td>37.0</td>\n      <td>2.0</td>\n      <td>2020-03-17</td>\n      <td>2020-05-18</td>\n      <td>day</td>\n    </tr>\n    <tr>\n      <th>105</th>\n      <td>Woodford</td>\n      <td>1.0,1.0,2.0,2.0,2.0,2.0,2.0,3.0,3.0,3.0,3.0,3....</td>\n      <td>2020-03-17</td>\n      <td>16.0</td>\n      <td>2.0</td>\n      <td>0.0,0.0,0.0,0.0,0.0,0.0,0.0,0.0,0.0,0.0,0.0,0....</td>\n      <td>2020-04-21</td>\n      <td>1.0</td>\n      <td>0.0</td>\n      <td>2020-03-17</td>\n      <td>2020-05-18</td>\n      <td>day</td>\n    </tr>\n  </tbody>\n</table>\n<p>104 rows × 12 columns</p>\n</div>"
     },
     "metadata": {},
     "output_type": "execute_result",
     "execution_count": 108
    }
   ],
   "source": [
    "county_report"
   ]
  },
  {
   "cell_type": "code",
   "execution_count": 109,
   "metadata": {
    "pycharm": {
     "is_executing": false,
     "name": "#%%\n"
    }
   },
   "outputs": [],
   "source": [
    "county_final_gpd = pd.merge(county_gpd, county_report, how=\"left\", left_on=\"id\", right_on=\"NAME\")"
   ]
  },
  {
   "cell_type": "code",
   "execution_count": 110,
   "metadata": {
    "pycharm": {
     "is_executing": false,
     "name": "#%%\n"
    }
   },
   "outputs": [],
   "source": [
    "county_final_gpd['population'] = 1"
   ]
  },
  {
   "cell_type": "code",
   "execution_count": 111,
   "metadata": {
    "pycharm": {
     "is_executing": false,
     "name": "#%%\n"
    }
   },
   "outputs": [
    {
     "data": {
      "text/plain": "           id                                           geometry      NAME  \\\n0     McHenry  POLYGON ((-88.70742 42.49352, -88.70741 42.493...   McHenry   \n1       Boone  POLYGON ((-88.70742 42.49352, -88.70750 42.493...     Boone   \n2        Ogle  POLYGON ((-89.68809 42.19950, -89.68807 42.184...      Ogle   \n3        Will  POLYGON ((-88.26146 41.72439, -88.26103 41.708...      Will   \n4     LaSalle  POLYGON ((-88.93885 41.62837, -88.93891 41.628...   LaSalle   \n..        ...                                                ...       ...   \n98   Lawrence  POLYGON ((-87.90806 38.85013, -87.90819 38.835...  Lawrence   \n99     Marion  POLYGON ((-89.13844 38.73633, -89.13847 38.721...    Marion   \n100     Union  POLYGON ((-89.04143 37.59650, -89.06017 37.597...     Union   \n101      Pope  POLYGON ((-88.70860 37.59926, -88.70876 37.584...      Pope   \n102   Chicago  MULTIPOLYGON (((-87.93514 42.00089, -87.93521 ...   Chicago   \n\n                                              cases_ts dt_first_case  \\\n0    2.0,4.0,6.0,8.0,11.0,12.0,12.0,14.0,19.0,27.0,...    2020-03-17   \n1    0.0,0.0,0.0,0.0,0.0,0.0,0.0,0.0,0.0,0.0,0.0,0....    2020-04-05   \n2    0.0,0.0,0.0,0.0,0.0,0.0,0.0,0.0,0.0,0.0,0.0,0....    2020-03-31   \n3    2.0,3.0,9.0,10.0,12.0,21.0,21.0,28.0,40.0,67.0...    2020-03-17   \n4    0.0,0.0,1.0,1.0,1.0,1.0,1.0,3.0,3.0,3.0,3.0,3....    2020-03-19   \n..                                                 ...           ...   \n98   0.0,0.0,0.0,0.0,0.0,0.0,0.0,0.0,0.0,0.0,0.0,0....    2020-04-07   \n99   0.0,0.0,0.0,0.0,0.0,0.0,0.0,0.0,0.0,0.0,0.0,0....    2020-03-30   \n100  0.0,0.0,0.0,0.0,0.0,0.0,0.0,0.0,0.0,0.0,0.0,0....    2020-04-15   \n101  0.0,0.0,0.0,0.0,0.0,0.0,0.0,0.0,0.0,0.0,0.0,0....    2020-05-08   \n102  0.0,0.0,0.0,0.0,0.0,519.0,519.0,782.0,915.0,11...    2020-03-22   \n\n     today_case  today_new_case  \\\n0        1209.0            30.0   \n1         307.0            17.0   \n2         172.0             2.0   \n3        4455.0            67.0   \n4         121.0             1.0   \n..          ...             ...   \n98          4.0             0.0   \n99         48.0             0.0   \n100       122.0             0.0   \n101         1.0             0.0   \n102     37434.0           813.0   \n\n                                             deaths_ts dt_first_death  \\\n0    0.0,0.0,0.0,0.0,0.0,0.0,0.0,0.0,0.0,1.0,1.0,2....     2020-03-26   \n1    0.0,0.0,0.0,0.0,0.0,0.0,0.0,0.0,0.0,0.0,0.0,0....     2020-04-08   \n2    0.0,0.0,0.0,0.0,0.0,0.0,0.0,0.0,0.0,0.0,0.0,0....     2020-04-15   \n3    0.0,0.0,0.0,1.0,1.0,1.0,1.0,1.0,2.0,3.0,3.0,4....     2020-03-20   \n4    0.0,0.0,0.0,0.0,0.0,0.0,0.0,0.0,0.0,0.0,0.0,0....     2020-03-29   \n..                                                 ...            ...   \n98   0.0,0.0,0.0,0.0,0.0,0.0,0.0,0.0,0.0,0.0,0.0,0....            NaN   \n99   0.0,0.0,0.0,0.0,0.0,0.0,0.0,0.0,0.0,0.0,0.0,0....            NaN   \n100  0.0,0.0,0.0,0.0,0.0,0.0,0.0,0.0,0.0,0.0,0.0,0....     2020-05-05   \n101  0.0,0.0,0.0,0.0,0.0,0.0,0.0,0.0,0.0,0.0,0.0,0....            NaN   \n102  0.0,0.0,0.0,0.0,0.0,4.0,4.0,5.0,5.0,9.0,9.0,12...     2020-03-22   \n\n     today_death  today_new_death    dt_start      dt_end dt_unit  population  \n0           62.0              0.0  2020-03-17  2020-05-18     day           1  \n1           14.0              0.0  2020-03-17  2020-05-18     day           1  \n2            2.0              0.0  2020-03-17  2020-05-18     day           1  \n3          240.0              0.0  2020-03-17  2020-05-18     day           1  \n4            8.0              0.0  2020-03-17  2020-05-18     day           1  \n..           ...              ...         ...         ...     ...         ...  \n98           0.0              0.0  2020-03-17  2020-05-18     day           1  \n99           0.0              0.0  2020-03-17  2020-05-18     day           1  \n100          4.0              0.0  2020-03-17  2020-05-18     day           1  \n101          0.0              0.0  2020-03-17  2020-05-18     day           1  \n102       1681.0             45.0  2020-03-17  2020-05-18     day           1  \n\n[103 rows x 15 columns]",
      "text/html": "<div>\n<style scoped>\n    .dataframe tbody tr th:only-of-type {\n        vertical-align: middle;\n    }\n\n    .dataframe tbody tr th {\n        vertical-align: top;\n    }\n\n    .dataframe thead th {\n        text-align: right;\n    }\n</style>\n<table border=\"1\" class=\"dataframe\">\n  <thead>\n    <tr style=\"text-align: right;\">\n      <th></th>\n      <th>id</th>\n      <th>geometry</th>\n      <th>NAME</th>\n      <th>cases_ts</th>\n      <th>dt_first_case</th>\n      <th>today_case</th>\n      <th>today_new_case</th>\n      <th>deaths_ts</th>\n      <th>dt_first_death</th>\n      <th>today_death</th>\n      <th>today_new_death</th>\n      <th>dt_start</th>\n      <th>dt_end</th>\n      <th>dt_unit</th>\n      <th>population</th>\n    </tr>\n  </thead>\n  <tbody>\n    <tr>\n      <th>0</th>\n      <td>McHenry</td>\n      <td>POLYGON ((-88.70742 42.49352, -88.70741 42.493...</td>\n      <td>McHenry</td>\n      <td>2.0,4.0,6.0,8.0,11.0,12.0,12.0,14.0,19.0,27.0,...</td>\n      <td>2020-03-17</td>\n      <td>1209.0</td>\n      <td>30.0</td>\n      <td>0.0,0.0,0.0,0.0,0.0,0.0,0.0,0.0,0.0,1.0,1.0,2....</td>\n      <td>2020-03-26</td>\n      <td>62.0</td>\n      <td>0.0</td>\n      <td>2020-03-17</td>\n      <td>2020-05-18</td>\n      <td>day</td>\n      <td>1</td>\n    </tr>\n    <tr>\n      <th>1</th>\n      <td>Boone</td>\n      <td>POLYGON ((-88.70742 42.49352, -88.70750 42.493...</td>\n      <td>Boone</td>\n      <td>0.0,0.0,0.0,0.0,0.0,0.0,0.0,0.0,0.0,0.0,0.0,0....</td>\n      <td>2020-04-05</td>\n      <td>307.0</td>\n      <td>17.0</td>\n      <td>0.0,0.0,0.0,0.0,0.0,0.0,0.0,0.0,0.0,0.0,0.0,0....</td>\n      <td>2020-04-08</td>\n      <td>14.0</td>\n      <td>0.0</td>\n      <td>2020-03-17</td>\n      <td>2020-05-18</td>\n      <td>day</td>\n      <td>1</td>\n    </tr>\n    <tr>\n      <th>2</th>\n      <td>Ogle</td>\n      <td>POLYGON ((-89.68809 42.19950, -89.68807 42.184...</td>\n      <td>Ogle</td>\n      <td>0.0,0.0,0.0,0.0,0.0,0.0,0.0,0.0,0.0,0.0,0.0,0....</td>\n      <td>2020-03-31</td>\n      <td>172.0</td>\n      <td>2.0</td>\n      <td>0.0,0.0,0.0,0.0,0.0,0.0,0.0,0.0,0.0,0.0,0.0,0....</td>\n      <td>2020-04-15</td>\n      <td>2.0</td>\n      <td>0.0</td>\n      <td>2020-03-17</td>\n      <td>2020-05-18</td>\n      <td>day</td>\n      <td>1</td>\n    </tr>\n    <tr>\n      <th>3</th>\n      <td>Will</td>\n      <td>POLYGON ((-88.26146 41.72439, -88.26103 41.708...</td>\n      <td>Will</td>\n      <td>2.0,3.0,9.0,10.0,12.0,21.0,21.0,28.0,40.0,67.0...</td>\n      <td>2020-03-17</td>\n      <td>4455.0</td>\n      <td>67.0</td>\n      <td>0.0,0.0,0.0,1.0,1.0,1.0,1.0,1.0,2.0,3.0,3.0,4....</td>\n      <td>2020-03-20</td>\n      <td>240.0</td>\n      <td>0.0</td>\n      <td>2020-03-17</td>\n      <td>2020-05-18</td>\n      <td>day</td>\n      <td>1</td>\n    </tr>\n    <tr>\n      <th>4</th>\n      <td>LaSalle</td>\n      <td>POLYGON ((-88.93885 41.62837, -88.93891 41.628...</td>\n      <td>LaSalle</td>\n      <td>0.0,0.0,1.0,1.0,1.0,1.0,1.0,3.0,3.0,3.0,3.0,3....</td>\n      <td>2020-03-19</td>\n      <td>121.0</td>\n      <td>1.0</td>\n      <td>0.0,0.0,0.0,0.0,0.0,0.0,0.0,0.0,0.0,0.0,0.0,0....</td>\n      <td>2020-03-29</td>\n      <td>8.0</td>\n      <td>0.0</td>\n      <td>2020-03-17</td>\n      <td>2020-05-18</td>\n      <td>day</td>\n      <td>1</td>\n    </tr>\n    <tr>\n      <th>...</th>\n      <td>...</td>\n      <td>...</td>\n      <td>...</td>\n      <td>...</td>\n      <td>...</td>\n      <td>...</td>\n      <td>...</td>\n      <td>...</td>\n      <td>...</td>\n      <td>...</td>\n      <td>...</td>\n      <td>...</td>\n      <td>...</td>\n      <td>...</td>\n      <td>...</td>\n    </tr>\n    <tr>\n      <th>98</th>\n      <td>Lawrence</td>\n      <td>POLYGON ((-87.90806 38.85013, -87.90819 38.835...</td>\n      <td>Lawrence</td>\n      <td>0.0,0.0,0.0,0.0,0.0,0.0,0.0,0.0,0.0,0.0,0.0,0....</td>\n      <td>2020-04-07</td>\n      <td>4.0</td>\n      <td>0.0</td>\n      <td>0.0,0.0,0.0,0.0,0.0,0.0,0.0,0.0,0.0,0.0,0.0,0....</td>\n      <td>NaN</td>\n      <td>0.0</td>\n      <td>0.0</td>\n      <td>2020-03-17</td>\n      <td>2020-05-18</td>\n      <td>day</td>\n      <td>1</td>\n    </tr>\n    <tr>\n      <th>99</th>\n      <td>Marion</td>\n      <td>POLYGON ((-89.13844 38.73633, -89.13847 38.721...</td>\n      <td>Marion</td>\n      <td>0.0,0.0,0.0,0.0,0.0,0.0,0.0,0.0,0.0,0.0,0.0,0....</td>\n      <td>2020-03-30</td>\n      <td>48.0</td>\n      <td>0.0</td>\n      <td>0.0,0.0,0.0,0.0,0.0,0.0,0.0,0.0,0.0,0.0,0.0,0....</td>\n      <td>NaN</td>\n      <td>0.0</td>\n      <td>0.0</td>\n      <td>2020-03-17</td>\n      <td>2020-05-18</td>\n      <td>day</td>\n      <td>1</td>\n    </tr>\n    <tr>\n      <th>100</th>\n      <td>Union</td>\n      <td>POLYGON ((-89.04143 37.59650, -89.06017 37.597...</td>\n      <td>Union</td>\n      <td>0.0,0.0,0.0,0.0,0.0,0.0,0.0,0.0,0.0,0.0,0.0,0....</td>\n      <td>2020-04-15</td>\n      <td>122.0</td>\n      <td>0.0</td>\n      <td>0.0,0.0,0.0,0.0,0.0,0.0,0.0,0.0,0.0,0.0,0.0,0....</td>\n      <td>2020-05-05</td>\n      <td>4.0</td>\n      <td>0.0</td>\n      <td>2020-03-17</td>\n      <td>2020-05-18</td>\n      <td>day</td>\n      <td>1</td>\n    </tr>\n    <tr>\n      <th>101</th>\n      <td>Pope</td>\n      <td>POLYGON ((-88.70860 37.59926, -88.70876 37.584...</td>\n      <td>Pope</td>\n      <td>0.0,0.0,0.0,0.0,0.0,0.0,0.0,0.0,0.0,0.0,0.0,0....</td>\n      <td>2020-05-08</td>\n      <td>1.0</td>\n      <td>0.0</td>\n      <td>0.0,0.0,0.0,0.0,0.0,0.0,0.0,0.0,0.0,0.0,0.0,0....</td>\n      <td>NaN</td>\n      <td>0.0</td>\n      <td>0.0</td>\n      <td>2020-03-17</td>\n      <td>2020-05-18</td>\n      <td>day</td>\n      <td>1</td>\n    </tr>\n    <tr>\n      <th>102</th>\n      <td>Chicago</td>\n      <td>MULTIPOLYGON (((-87.93514 42.00089, -87.93521 ...</td>\n      <td>Chicago</td>\n      <td>0.0,0.0,0.0,0.0,0.0,519.0,519.0,782.0,915.0,11...</td>\n      <td>2020-03-22</td>\n      <td>37434.0</td>\n      <td>813.0</td>\n      <td>0.0,0.0,0.0,0.0,0.0,4.0,4.0,5.0,5.0,9.0,9.0,12...</td>\n      <td>2020-03-22</td>\n      <td>1681.0</td>\n      <td>45.0</td>\n      <td>2020-03-17</td>\n      <td>2020-05-18</td>\n      <td>day</td>\n      <td>1</td>\n    </tr>\n  </tbody>\n</table>\n<p>103 rows × 15 columns</p>\n</div>"
     },
     "metadata": {},
     "output_type": "execute_result",
     "execution_count": 111
    }
   ],
   "source": [
    "county_final_gpd"
   ]
  },
  {
   "cell_type": "code",
   "execution_count": 112,
   "metadata": {
    "pycharm": {
     "is_executing": false,
     "name": "#%%\n"
    }
   },
   "outputs": [
    {
     "name": "stdout",
     "text": [
      "done\n"
     ],
     "output_type": "stream"
    }
   ],
   "source": [
    "county_final_gpd.to_file('dph_county_data.geojson', driver='GeoJSON', encoding='utf-8')\n",
    "print('done')\n"
   ]
  }
 ],
 "metadata": {
  "kernelspec": {
   "display_name": "Python 3",
   "language": "python",
   "name": "python3"
  },
  "language_info": {
   "codemirror_mode": {
    "name": "ipython",
    "version": 3
   },
   "file_extension": ".py",
   "mimetype": "text/x-python",
   "name": "python",
   "nbconvert_exporter": "python",
   "pygments_lexer": "ipython3",
   "version": "3.7.7"
  },
  "pycharm": {
   "stem_cell": {
    "cell_type": "raw",
    "source": [],
    "metadata": {
     "collapsed": false
    }
   }
  }
 },
 "nbformat": 4,
 "nbformat_minor": 1
}