{
 "cells": [
  {
   "cell_type": "markdown",
   "metadata": {
    "collapsed": true,
    "pycharm": {
     "name": "#%% md\n"
    }
   },
   "source": [
    "URL preparation"
   ]
  },
  {
   "cell_type": "code",
   "execution_count": 22,
   "metadata": {
    "pycharm": {
     "is_executing": false,
     "name": "#%%\n"
    }
   },
   "outputs": [],
   "source": [
    "# Geometry URL\n",
    "zipcode_geometry_url = \"http://www.dph.illinois.gov/sites/default/files/COVID19/il_illinois_zip_codes.json?nocache=1\"\n",
    "county_geometry_url = \"http://www.dph.illinois.gov/sites/default/files/Illinois_County_Geo_ch.json\""
   ]
  },
  {
   "cell_type": "code",
   "execution_count": 23,
   "metadata": {
    "pycharm": {
     "is_executing": false,
     "name": "#%%\n"
    }
   },
   "outputs": [],
   "source": [
    "import pandas as pd\n",
    "import json\n",
    "import numpy as np\n",
    "import geopandas as gpd\n",
    "from urllib.request import urlopen\n",
    "import shapely.wkt"
   ]
  },
  {
   "cell_type": "markdown",
   "metadata": {
    "pycharm": {
     "name": "#%% md\n"
    }
   },
   "source": [
    "Download data"
   ]
  },
  {
   "cell_type": "code",
   "execution_count": 24,
   "metadata": {
    "pycharm": {
     "is_executing": false,
     "name": "#%%\n"
    }
   },
   "outputs": [],
   "source": [
    "with open(\"./idph_COVIDZip.json\") as f:\n",
    "    zipcode_dict = json.load(f)\n",
    "    zipcode_data = pd.DataFrame(zipcode_dict['zip_values'])"
   ]
  },
  {
   "cell_type": "code",
   "execution_count": 25,
   "metadata": {
    "pycharm": {
     "is_executing": false,
     "name": "#%%\n"
    }
   },
   "outputs": [],
   "source": [
    "with open(\"./idph_COVIDHistoricalTestResults.json\") as f:\n",
    "    history_dict = json.load(f)"
   ]
  },
  {
   "cell_type": "code",
   "execution_count": 26,
   "metadata": {
    "pycharm": {
     "is_executing": false,
     "name": "#%%\n"
    }
   },
   "outputs": [],
   "source": [
    "zipcode_geometry = gpd.read_file(zipcode_geometry_url)\n",
    "county_geometry = gpd.read_file(county_geometry_url)"
   ]
  },
  {
   "cell_type": "code",
   "execution_count": 27,
   "metadata": {
    "pycharm": {
     "is_executing": false,
     "name": "#%%\n"
    }
   },
   "outputs": [],
   "source": [
    "with urlopen(zipcode_geometry_url) as response:\n",
    "    tmp = json.load(response)\n",
    "    zipcode_gpd = gpd.GeoDataFrame(tmp['features'])"
   ]
  },
  {
   "cell_type": "code",
   "execution_count": 28,
   "metadata": {
    "pycharm": {
     "is_executing": false,
     "name": "#%%    \n"
    }
   },
   "outputs": [],
   "source": [
    "zipcode_gpd['geometry'] = zipcode_geometry\n",
    "zipcode_gpd = zipcode_gpd[['id','geometry']]\n",
    "zipcode_gpd['id'] = zipcode_gpd['id'].astype(str)"
   ]
  },
  {
   "cell_type": "code",
   "execution_count": 29,
   "metadata": {
    "pycharm": {
     "is_executing": false
    }
   },
   "outputs": [
    {
     "data": {
      "text/html": [
       "<div>\n",
       "<style scoped>\n",
       "    .dataframe tbody tr th:only-of-type {\n",
       "        vertical-align: middle;\n",
       "    }\n",
       "\n",
       "    .dataframe tbody tr th {\n",
       "        vertical-align: top;\n",
       "    }\n",
       "\n",
       "    .dataframe thead th {\n",
       "        text-align: right;\n",
       "    }\n",
       "</style>\n",
       "<table border=\"1\" class=\"dataframe\">\n",
       "  <thead>\n",
       "    <tr style=\"text-align: right;\">\n",
       "      <th></th>\n",
       "      <th>id</th>\n",
       "      <th>OBJECTID</th>\n",
       "      <th>County</th>\n",
       "      <th>Percent_1</th>\n",
       "      <th>Shape__Area</th>\n",
       "      <th>Shape__Length</th>\n",
       "      <th>geometry</th>\n",
       "    </tr>\n",
       "  </thead>\n",
       "  <tbody>\n",
       "    <tr>\n",
       "      <th>0</th>\n",
       "      <td>McHenry</td>\n",
       "      <td>1</td>\n",
       "      <td>McHenry County</td>\n",
       "      <td>27.7</td>\n",
       "      <td>17027625788.537001</td>\n",
       "      <td>522324.305015</td>\n",
       "      <td>POLYGON ((-88.70742 42.49352, -88.70741 42.493...</td>\n",
       "    </tr>\n",
       "    <tr>\n",
       "      <th>1</th>\n",
       "      <td>Boone</td>\n",
       "      <td>2</td>\n",
       "      <td>Boone County</td>\n",
       "      <td>33.7</td>\n",
       "      <td>7862723082.688600</td>\n",
       "      <td>375171.144577</td>\n",
       "      <td>POLYGON ((-88.70742 42.49352, -88.70750 42.493...</td>\n",
       "    </tr>\n",
       "    <tr>\n",
       "      <th>2</th>\n",
       "      <td>Ogle</td>\n",
       "      <td>3</td>\n",
       "      <td>Ogle County</td>\n",
       "      <td>31.2</td>\n",
       "      <td>21284584781.190300</td>\n",
       "      <td>651729.421361</td>\n",
       "      <td>POLYGON ((-89.68809 42.19950, -89.68807 42.184...</td>\n",
       "    </tr>\n",
       "    <tr>\n",
       "      <th>3</th>\n",
       "      <td>Will</td>\n",
       "      <td>4</td>\n",
       "      <td>Will County</td>\n",
       "      <td>28.0</td>\n",
       "      <td>23669428994.175301</td>\n",
       "      <td>779085.214831</td>\n",
       "      <td>POLYGON ((-88.26146 41.72439, -88.26103 41.708...</td>\n",
       "    </tr>\n",
       "    <tr>\n",
       "      <th>4</th>\n",
       "      <td>LaSalle</td>\n",
       "      <td>5</td>\n",
       "      <td>LaSalle County</td>\n",
       "      <td>27.1</td>\n",
       "      <td>32008439057.989899</td>\n",
       "      <td>825360.163913</td>\n",
       "      <td>POLYGON ((-88.93885 41.62837, -88.93891 41.628...</td>\n",
       "    </tr>\n",
       "    <tr>\n",
       "      <th>...</th>\n",
       "      <td>...</td>\n",
       "      <td>...</td>\n",
       "      <td>...</td>\n",
       "      <td>...</td>\n",
       "      <td>...</td>\n",
       "      <td>...</td>\n",
       "      <td>...</td>\n",
       "    </tr>\n",
       "    <tr>\n",
       "      <th>98</th>\n",
       "      <td>Lawrence</td>\n",
       "      <td>99</td>\n",
       "      <td>Lawrence County</td>\n",
       "      <td>28.9</td>\n",
       "      <td>10426836159.952499</td>\n",
       "      <td>442943.679766</td>\n",
       "      <td>POLYGON ((-87.90806 38.85013, -87.90819 38.835...</td>\n",
       "    </tr>\n",
       "    <tr>\n",
       "      <th>99</th>\n",
       "      <td>Marion</td>\n",
       "      <td>100</td>\n",
       "      <td>Marion County</td>\n",
       "      <td>33.5</td>\n",
       "      <td>16056558800.880800</td>\n",
       "      <td>509529.795774</td>\n",
       "      <td>POLYGON ((-89.13844 38.73633, -89.13847 38.721...</td>\n",
       "    </tr>\n",
       "    <tr>\n",
       "      <th>100</th>\n",
       "      <td>Union</td>\n",
       "      <td>101</td>\n",
       "      <td>Union County</td>\n",
       "      <td>28.2</td>\n",
       "      <td>11769540678.443001</td>\n",
       "      <td>489617.647490</td>\n",
       "      <td>POLYGON ((-89.04143 37.59650, -89.06017 37.597...</td>\n",
       "    </tr>\n",
       "    <tr>\n",
       "      <th>101</th>\n",
       "      <td>Pope</td>\n",
       "      <td>102</td>\n",
       "      <td>Pope County</td>\n",
       "      <td>29.5</td>\n",
       "      <td>10432553057.307899</td>\n",
       "      <td>537878.380731</td>\n",
       "      <td>POLYGON ((-88.70860 37.59926, -88.70876 37.584...</td>\n",
       "    </tr>\n",
       "    <tr>\n",
       "      <th>102</th>\n",
       "      <td>Chicago</td>\n",
       "      <td>103</td>\n",
       "      <td>Chicago</td>\n",
       "      <td>28.2</td>\n",
       "      <td>6450276623.31</td>\n",
       "      <td>845282.931362</td>\n",
       "      <td>MULTIPOLYGON (((-87.93514 42.00089, -87.93521 ...</td>\n",
       "    </tr>\n",
       "  </tbody>\n",
       "</table>\n",
       "<p>103 rows × 7 columns</p>\n",
       "</div>"
      ],
      "text/plain": [
       "           id OBJECTID           County  Percent_1         Shape__Area  \\\n",
       "0     McHenry        1   McHenry County       27.7  17027625788.537001   \n",
       "1       Boone        2     Boone County       33.7   7862723082.688600   \n",
       "2        Ogle        3      Ogle County       31.2  21284584781.190300   \n",
       "3        Will        4      Will County       28.0  23669428994.175301   \n",
       "4     LaSalle        5   LaSalle County       27.1  32008439057.989899   \n",
       "..        ...      ...              ...        ...                 ...   \n",
       "98   Lawrence       99  Lawrence County       28.9  10426836159.952499   \n",
       "99     Marion      100    Marion County       33.5  16056558800.880800   \n",
       "100     Union      101     Union County       28.2  11769540678.443001   \n",
       "101      Pope      102      Pope County       29.5  10432553057.307899   \n",
       "102   Chicago      103          Chicago       28.2       6450276623.31   \n",
       "\n",
       "     Shape__Length                                           geometry  \n",
       "0    522324.305015  POLYGON ((-88.70742 42.49352, -88.70741 42.493...  \n",
       "1    375171.144577  POLYGON ((-88.70742 42.49352, -88.70750 42.493...  \n",
       "2    651729.421361  POLYGON ((-89.68809 42.19950, -89.68807 42.184...  \n",
       "3    779085.214831  POLYGON ((-88.26146 41.72439, -88.26103 41.708...  \n",
       "4    825360.163913  POLYGON ((-88.93885 41.62837, -88.93891 41.628...  \n",
       "..             ...                                                ...  \n",
       "98   442943.679766  POLYGON ((-87.90806 38.85013, -87.90819 38.835...  \n",
       "99   509529.795774  POLYGON ((-89.13844 38.73633, -89.13847 38.721...  \n",
       "100  489617.647490  POLYGON ((-89.04143 37.59650, -89.06017 37.597...  \n",
       "101  537878.380731  POLYGON ((-88.70860 37.59926, -88.70876 37.584...  \n",
       "102  845282.931362  MULTIPOLYGON (((-87.93514 42.00089, -87.93521 ...  \n",
       "\n",
       "[103 rows x 7 columns]"
      ]
     },
     "execution_count": 29,
     "metadata": {},
     "output_type": "execute_result"
    }
   ],
   "source": [
    "county_geometry"
   ]
  },
  {
   "cell_type": "code",
   "execution_count": 30,
   "metadata": {
    "pycharm": {
     "is_executing": false,
     "name": "#%%\n"
    }
   },
   "outputs": [],
   "source": [
    "county_gpd = county_geometry[['id','geometry']]"
   ]
  },
  {
   "cell_type": "code",
   "execution_count": 31,
   "metadata": {
    "pycharm": {
     "is_executing": false
    }
   },
   "outputs": [],
   "source": [
    "polygon1 = shapely.wkt.loads('POLYGON ((-89.6536529004544 39.7828177522233, -89.6536529004544 39.7799814663649, -89.64987635016143 39.7799814663649, -89.64987635016143 39.7828177522233, -89.6536529004544 39.7828177522233))')\n",
    "polygon2 = shapely.wkt.loads('POLYGON ((-89.64923261999786 39.78268583454302, -89.64923261999786 39.7799814663649, -89.64575647711456 39.7799814663649, -89.64575647711456 39.78268583454302, -89.64923261999786 39.78268583454302))')"
   ]
  },
  {
   "cell_type": "code",
   "execution_count": 32,
   "metadata": {
    "pycharm": {
     "is_executing": false
    }
   },
   "outputs": [],
   "source": [
    "# county_gpd_dynamic = county_gpd.append([{'id':\"Out Of State\", 'geometry':polygon1}], ignore_index=True)\n",
    "# county_gpd_dynamic = county_gpd_dynamic.append([{'id':\"Unassigned\", 'geometry':polygon2}], ignore_index=True)\n",
    "county_gpd_dynamic = county_gpd.append([{'id':\"Illinois\", 'geometry':polygon2}], ignore_index=True)"
   ]
  },
  {
   "cell_type": "code",
   "execution_count": 33,
   "metadata": {
    "pycharm": {
     "is_executing": false
    }
   },
   "outputs": [
    {
     "data": {
      "text/html": [
       "<div>\n",
       "<style scoped>\n",
       "    .dataframe tbody tr th:only-of-type {\n",
       "        vertical-align: middle;\n",
       "    }\n",
       "\n",
       "    .dataframe tbody tr th {\n",
       "        vertical-align: top;\n",
       "    }\n",
       "\n",
       "    .dataframe thead th {\n",
       "        text-align: right;\n",
       "    }\n",
       "</style>\n",
       "<table border=\"1\" class=\"dataframe\">\n",
       "  <thead>\n",
       "    <tr style=\"text-align: right;\">\n",
       "      <th></th>\n",
       "      <th>id</th>\n",
       "      <th>geometry</th>\n",
       "    </tr>\n",
       "  </thead>\n",
       "  <tbody>\n",
       "    <tr>\n",
       "      <th>0</th>\n",
       "      <td>McHenry</td>\n",
       "      <td>POLYGON ((-88.70742 42.49352, -88.70741 42.493...</td>\n",
       "    </tr>\n",
       "    <tr>\n",
       "      <th>1</th>\n",
       "      <td>Boone</td>\n",
       "      <td>POLYGON ((-88.70742 42.49352, -88.70750 42.493...</td>\n",
       "    </tr>\n",
       "    <tr>\n",
       "      <th>2</th>\n",
       "      <td>Ogle</td>\n",
       "      <td>POLYGON ((-89.68809 42.19950, -89.68807 42.184...</td>\n",
       "    </tr>\n",
       "    <tr>\n",
       "      <th>3</th>\n",
       "      <td>Will</td>\n",
       "      <td>POLYGON ((-88.26146 41.72439, -88.26103 41.708...</td>\n",
       "    </tr>\n",
       "    <tr>\n",
       "      <th>4</th>\n",
       "      <td>LaSalle</td>\n",
       "      <td>POLYGON ((-88.93885 41.62837, -88.93891 41.628...</td>\n",
       "    </tr>\n",
       "    <tr>\n",
       "      <th>...</th>\n",
       "      <td>...</td>\n",
       "      <td>...</td>\n",
       "    </tr>\n",
       "    <tr>\n",
       "      <th>99</th>\n",
       "      <td>Marion</td>\n",
       "      <td>POLYGON ((-89.13844 38.73633, -89.13847 38.721...</td>\n",
       "    </tr>\n",
       "    <tr>\n",
       "      <th>100</th>\n",
       "      <td>Union</td>\n",
       "      <td>POLYGON ((-89.04143 37.59650, -89.06017 37.597...</td>\n",
       "    </tr>\n",
       "    <tr>\n",
       "      <th>101</th>\n",
       "      <td>Pope</td>\n",
       "      <td>POLYGON ((-88.70860 37.59926, -88.70876 37.584...</td>\n",
       "    </tr>\n",
       "    <tr>\n",
       "      <th>102</th>\n",
       "      <td>Chicago</td>\n",
       "      <td>MULTIPOLYGON (((-87.93514 42.00089, -87.93521 ...</td>\n",
       "    </tr>\n",
       "    <tr>\n",
       "      <th>103</th>\n",
       "      <td>Illinois</td>\n",
       "      <td>POLYGON ((-89.64923 39.78269, -89.64923 39.779...</td>\n",
       "    </tr>\n",
       "  </tbody>\n",
       "</table>\n",
       "<p>104 rows × 2 columns</p>\n",
       "</div>"
      ],
      "text/plain": [
       "           id                                           geometry\n",
       "0     McHenry  POLYGON ((-88.70742 42.49352, -88.70741 42.493...\n",
       "1       Boone  POLYGON ((-88.70742 42.49352, -88.70750 42.493...\n",
       "2        Ogle  POLYGON ((-89.68809 42.19950, -89.68807 42.184...\n",
       "3        Will  POLYGON ((-88.26146 41.72439, -88.26103 41.708...\n",
       "4     LaSalle  POLYGON ((-88.93885 41.62837, -88.93891 41.628...\n",
       "..        ...                                                ...\n",
       "99     Marion  POLYGON ((-89.13844 38.73633, -89.13847 38.721...\n",
       "100     Union  POLYGON ((-89.04143 37.59650, -89.06017 37.597...\n",
       "101      Pope  POLYGON ((-88.70860 37.59926, -88.70876 37.584...\n",
       "102   Chicago  MULTIPOLYGON (((-87.93514 42.00089, -87.93521 ...\n",
       "103  Illinois  POLYGON ((-89.64923 39.78269, -89.64923 39.779...\n",
       "\n",
       "[104 rows x 2 columns]"
      ]
     },
     "execution_count": 33,
     "metadata": {},
     "output_type": "execute_result"
    }
   ],
   "source": [
    "county_gpd_dynamic"
   ]
  },
  {
   "cell_type": "markdown",
   "metadata": {
    "pycharm": {
     "is_executing": false,
     "name": "#%% md\n"
    }
   },
   "source": [
    "Zipcode Data generation"
   ]
  },
  {
   "cell_type": "code",
   "execution_count": 34,
   "metadata": {
    "pycharm": {
     "is_executing": false,
     "name": "#%%\n"
    }
   },
   "outputs": [
    {
     "data": {
      "text/html": [
       "<div>\n",
       "<style scoped>\n",
       "    .dataframe tbody tr th:only-of-type {\n",
       "        vertical-align: middle;\n",
       "    }\n",
       "\n",
       "    .dataframe tbody tr th {\n",
       "        vertical-align: top;\n",
       "    }\n",
       "\n",
       "    .dataframe thead th {\n",
       "        text-align: right;\n",
       "    }\n",
       "</style>\n",
       "<table border=\"1\" class=\"dataframe\">\n",
       "  <thead>\n",
       "    <tr style=\"text-align: right;\">\n",
       "      <th></th>\n",
       "      <th>zip</th>\n",
       "      <th>confirmed_cases</th>\n",
       "      <th>total_tested</th>\n",
       "      <th>demographics</th>\n",
       "    </tr>\n",
       "  </thead>\n",
       "  <tbody>\n",
       "    <tr>\n",
       "      <th>0</th>\n",
       "      <td>53142</td>\n",
       "      <td>8</td>\n",
       "      <td>145</td>\n",
       "      <td>{'age': [{'age_group': 'Unknown', 'count': 0, ...</td>\n",
       "    </tr>\n",
       "    <tr>\n",
       "      <th>1</th>\n",
       "      <td>60002</td>\n",
       "      <td>68</td>\n",
       "      <td>549</td>\n",
       "      <td>{'age': [{'age_group': 'Unknown', 'count': 0, ...</td>\n",
       "    </tr>\n",
       "    <tr>\n",
       "      <th>2</th>\n",
       "      <td>60004</td>\n",
       "      <td>205</td>\n",
       "      <td>2416</td>\n",
       "      <td>{'age': [{'age_group': 'Unknown', 'count': 6, ...</td>\n",
       "    </tr>\n",
       "    <tr>\n",
       "      <th>3</th>\n",
       "      <td>60005</td>\n",
       "      <td>113</td>\n",
       "      <td>734</td>\n",
       "      <td>{'age': [{'age_group': 'Unknown', 'count': 0, ...</td>\n",
       "    </tr>\n",
       "    <tr>\n",
       "      <th>4</th>\n",
       "      <td>60007</td>\n",
       "      <td>181</td>\n",
       "      <td>877</td>\n",
       "      <td>{'age': [{'age_group': 'Unknown', 'count': 0, ...</td>\n",
       "    </tr>\n",
       "    <tr>\n",
       "      <th>...</th>\n",
       "      <td>...</td>\n",
       "      <td>...</td>\n",
       "      <td>...</td>\n",
       "      <td>...</td>\n",
       "    </tr>\n",
       "    <tr>\n",
       "      <th>491</th>\n",
       "      <td>62920</td>\n",
       "      <td>54</td>\n",
       "      <td>190</td>\n",
       "      <td>{'age': [{'age_group': 'Unknown', 'count': 0, ...</td>\n",
       "    </tr>\n",
       "    <tr>\n",
       "      <th>492</th>\n",
       "      <td>62948</td>\n",
       "      <td>8</td>\n",
       "      <td>262</td>\n",
       "      <td>{'age': [{'age_group': 'Unknown', 'count': 0, ...</td>\n",
       "    </tr>\n",
       "    <tr>\n",
       "      <th>493</th>\n",
       "      <td>62959</td>\n",
       "      <td>24</td>\n",
       "      <td>632</td>\n",
       "      <td>{'age': [{'age_group': 'Unknown', 'count': 0, ...</td>\n",
       "    </tr>\n",
       "    <tr>\n",
       "      <th>494</th>\n",
       "      <td>62966</td>\n",
       "      <td>48</td>\n",
       "      <td>440</td>\n",
       "      <td>{'age': [{'age_group': 'Unknown', 'count': 0, ...</td>\n",
       "    </tr>\n",
       "    <tr>\n",
       "      <th>495</th>\n",
       "      <td>62992</td>\n",
       "      <td>32</td>\n",
       "      <td>111</td>\n",
       "      <td>{'age': [{'age_group': 'Unknown', 'count': 0, ...</td>\n",
       "    </tr>\n",
       "  </tbody>\n",
       "</table>\n",
       "<p>496 rows × 4 columns</p>\n",
       "</div>"
      ],
      "text/plain": [
       "       zip  confirmed_cases  total_tested  \\\n",
       "0    53142                8           145   \n",
       "1    60002               68           549   \n",
       "2    60004              205          2416   \n",
       "3    60005              113           734   \n",
       "4    60007              181           877   \n",
       "..     ...              ...           ...   \n",
       "491  62920               54           190   \n",
       "492  62948                8           262   \n",
       "493  62959               24           632   \n",
       "494  62966               48           440   \n",
       "495  62992               32           111   \n",
       "\n",
       "                                          demographics  \n",
       "0    {'age': [{'age_group': 'Unknown', 'count': 0, ...  \n",
       "1    {'age': [{'age_group': 'Unknown', 'count': 0, ...  \n",
       "2    {'age': [{'age_group': 'Unknown', 'count': 6, ...  \n",
       "3    {'age': [{'age_group': 'Unknown', 'count': 0, ...  \n",
       "4    {'age': [{'age_group': 'Unknown', 'count': 0, ...  \n",
       "..                                                 ...  \n",
       "491  {'age': [{'age_group': 'Unknown', 'count': 0, ...  \n",
       "492  {'age': [{'age_group': 'Unknown', 'count': 0, ...  \n",
       "493  {'age': [{'age_group': 'Unknown', 'count': 0, ...  \n",
       "494  {'age': [{'age_group': 'Unknown', 'count': 0, ...  \n",
       "495  {'age': [{'age_group': 'Unknown', 'count': 0, ...  \n",
       "\n",
       "[496 rows x 4 columns]"
      ]
     },
     "execution_count": 34,
     "metadata": {},
     "output_type": "execute_result"
    }
   ],
   "source": [
    "zipcode_data"
   ]
  },
  {
   "cell_type": "code",
   "execution_count": 35,
   "metadata": {
    "pycharm": {
     "is_executing": false,
     "name": "#%%\n"
    }
   },
   "outputs": [
    {
     "data": {
      "text/plain": [
       "id            object\n",
       "geometry    geometry\n",
       "dtype: object"
      ]
     },
     "execution_count": 35,
     "metadata": {},
     "output_type": "execute_result"
    }
   ],
   "source": [
    "zipcode_gpd.dtypes"
   ]
  },
  {
   "cell_type": "code",
   "execution_count": 36,
   "metadata": {
    "pycharm": {
     "is_executing": false,
     "name": "#%%\n"
    }
   },
   "outputs": [],
   "source": [
    "zipcode_final_gpd = pd.merge(zipcode_gpd,zipcode_data, how = 'left', left_on=['id'], right_on=['zip'])"
   ]
  },
  {
   "cell_type": "code",
   "execution_count": 37,
   "metadata": {
    "pycharm": {
     "is_executing": false,
     "name": "#%%\n"
    }
   },
   "outputs": [],
   "source": [
    "zipcode_final_gpd['confirmed_cases'] = zipcode_final_gpd['confirmed_cases'].replace(np.nan,0)\n",
    "zipcode_final_gpd['total_tested'] = zipcode_final_gpd['total_tested'].replace(np.nan,0)\n",
    "zipcode_final_gpd = zipcode_final_gpd[['id','confirmed_cases','total_tested','geometry']]"
   ]
  },
  {
   "cell_type": "code",
   "execution_count": 38,
   "metadata": {
    "pycharm": {
     "is_executing": false,
     "name": "#%%\n"
    }
   },
   "outputs": [
    {
     "name": "stdout",
     "output_type": "stream",
     "text": [
      "done\n"
     ]
    }
   ],
   "source": [
    "zipcode_final_gpd.to_file('dph_zipcode_data.geojson', driver='GeoJSON', encoding='utf-8')\n",
    "print('done')"
   ]
  },
  {
   "cell_type": "markdown",
   "metadata": {
    "pycharm": {
     "name": "#%% md\n"
    }
   },
   "source": [
    "County Data generation\n"
   ]
  },
  {
   "cell_type": "code",
   "execution_count": 39,
   "metadata": {
    "pycharm": {
     "is_executing": false,
     "name": "#%%\n"
    }
   },
   "outputs": [],
   "source": [
    "# transform to new york times format\n",
    "county_history = pd.DataFrame(history_dict['historical_county']['values'])\n",
    "l = []\n",
    "for case in history_dict['historical_county']['values']:\n",
    "    testDate = case['testDate']\n",
    "    values = case['values']\n",
    "    for x in values:\n",
    "        x['date'] = testDate\n",
    "        l.append(x)\n",
    "county_history = pd.DataFrame(l)"
   ]
  },
  {
   "cell_type": "code",
   "execution_count": 40,
   "metadata": {
    "pycharm": {
     "is_executing": false,
     "name": "#%%\n"
    }
   },
   "outputs": [],
   "source": [
    "# eliminate unassigned data\n",
    "county_history = county_history[county_history['County'] != 'Unassigned']"
   ]
  },
  {
   "cell_type": "code",
   "execution_count": 41,
   "metadata": {
    "pycharm": {
     "is_executing": false,
     "name": "#%%\n"
    }
   },
   "outputs": [],
   "source": [
    "def standardDate(str):\n",
    "    l = str.split('/')\n",
    "    month = l[0]\n",
    "    day = l[1]\n",
    "    year = l[2]\n",
    "    if len(month) < 2:\n",
    "        month = '0' + month\n",
    "    if len(day) < 2:\n",
    "        day = '0' + day\n",
    "    return year + '-' + month + '-' + day"
   ]
  },
  {
   "cell_type": "code",
   "execution_count": 42,
   "metadata": {
    "pycharm": {
     "is_executing": false,
     "name": "#%%\n"
    }
   },
   "outputs": [],
   "source": [
    "# pivot table\n",
    "county_pivot = pd.pivot_table(county_history, index=['County'],columns=['date'])\n",
    "county_pivot = county_pivot.replace(np.nan, 0).astype(int)"
   ]
  },
  {
   "cell_type": "code",
   "execution_count": 43,
   "metadata": {
    "pycharm": {
     "is_executing": false,
     "name": "#%%\n"
    }
   },
   "outputs": [
    {
     "data": {
      "text/plain": [
       "date\n",
       "3/17/2020    0\n",
       "3/18/2020    0\n",
       "3/19/2020    0\n",
       "3/20/2020    0\n",
       "3/21/2020    0\n",
       "3/22/2020    0\n",
       "3/24/2020    0\n",
       "3/25/2020    0\n",
       "3/26/2020    0\n",
       "3/27/2020    0\n",
       "3/28/2020    0\n",
       "3/29/2020    0\n",
       "3/30/2020    0\n",
       "3/31/2020    0\n",
       "4/1/2020     0\n",
       "4/10/2020    0\n",
       "4/11/2020    0\n",
       "4/12/2020    0\n",
       "4/13/2020    0\n",
       "4/14/2020    0\n",
       "4/15/2020    0\n",
       "4/16/2020    1\n",
       "4/17/2020    1\n",
       "4/18/2020    1\n",
       "4/19/2020    1\n",
       "4/2/2020     0\n",
       "4/20/2020    1\n",
       "4/21/2020    1\n",
       "4/22/2020    1\n",
       "4/23/2020    1\n",
       "4/24/2020    1\n",
       "4/25/2020    1\n",
       "4/26/2020    1\n",
       "4/27/2020    1\n",
       "4/28/2020    1\n",
       "4/29/2020    1\n",
       "4/3/2020     0\n",
       "4/30/2020    1\n",
       "4/4/2020     0\n",
       "4/5/2020     0\n",
       "4/6/2020     0\n",
       "4/7/2020     0\n",
       "4/8/2020     0\n",
       "4/9/2020     0\n",
       "5/1/2020     1\n",
       "5/10/2020    1\n",
       "5/11/2020    1\n",
       "5/12/2020    1\n",
       "5/13/2020    1\n",
       "5/14/2020    1\n",
       "5/15/2020    1\n",
       "5/2/2020     1\n",
       "5/3/2020     1\n",
       "5/4/2020     1\n",
       "5/5/2020     1\n",
       "5/6/2020     1\n",
       "5/7/2020     1\n",
       "5/8/2020     1\n",
       "5/9/2020     1\n",
       "Name: Bond, dtype: int32"
      ]
     },
     "execution_count": 43,
     "metadata": {},
     "output_type": "execute_result"
    }
   ],
   "source": [
    "county_pivot['deaths'].iloc[2]"
   ]
  },
  {
   "cell_type": "code",
   "execution_count": 44,
   "metadata": {
    "pycharm": {
     "is_executing": false,
     "name": "#%%\n"
    }
   },
   "outputs": [],
   "source": [
    "# Standardized Date Format\n",
    "county_cases = county_pivot['confirmed_cases']\n",
    "county_deaths = county_pivot['deaths']\n",
    "county_tested = county_pivot['total_tested']"
   ]
  },
  {
   "cell_type": "code",
   "execution_count": 45,
   "metadata": {
    "pycharm": {
     "is_executing": false,
     "name": "#%%\n"
    }
   },
   "outputs": [],
   "source": [
    "county_cases = county_cases.rename(columns=standardDate)\n",
    "county_deaths = county_deaths.rename(columns=standardDate)\n",
    "county_tested = county_tested.rename(columns=standardDate)"
   ]
  },
  {
   "cell_type": "code",
   "execution_count": 46,
   "metadata": {
    "pycharm": {
     "is_executing": false,
     "name": "#%%\n"
    }
   },
   "outputs": [],
   "source": [
    "# Add missing 03/23 data with 03/22\n",
    "county_cases['2020-03-23'] = county_cases['2020-03-22']\n",
    "county_deaths['2020-03-23'] = county_deaths['2020-03-22']\n",
    "county_tested['2020-03-23'] = county_tested['2020-03-22']"
   ]
  },
  {
   "cell_type": "code",
   "execution_count": 47,
   "metadata": {
    "pycharm": {
     "is_executing": false,
     "name": "#%%\n"
    }
   },
   "outputs": [
    {
     "data": {
      "text/html": [
       "<div>\n",
       "<style scoped>\n",
       "    .dataframe tbody tr th:only-of-type {\n",
       "        vertical-align: middle;\n",
       "    }\n",
       "\n",
       "    .dataframe tbody tr th {\n",
       "        vertical-align: top;\n",
       "    }\n",
       "\n",
       "    .dataframe thead th {\n",
       "        text-align: right;\n",
       "    }\n",
       "</style>\n",
       "<table border=\"1\" class=\"dataframe\">\n",
       "  <thead>\n",
       "    <tr style=\"text-align: right;\">\n",
       "      <th>date</th>\n",
       "      <th>2020-03-17</th>\n",
       "      <th>2020-03-18</th>\n",
       "      <th>2020-03-19</th>\n",
       "      <th>2020-03-20</th>\n",
       "      <th>2020-03-21</th>\n",
       "      <th>2020-03-22</th>\n",
       "      <th>2020-03-24</th>\n",
       "      <th>2020-03-25</th>\n",
       "      <th>2020-03-26</th>\n",
       "      <th>2020-03-27</th>\n",
       "      <th>...</th>\n",
       "      <th>2020-05-15</th>\n",
       "      <th>2020-05-02</th>\n",
       "      <th>2020-05-03</th>\n",
       "      <th>2020-05-04</th>\n",
       "      <th>2020-05-05</th>\n",
       "      <th>2020-05-06</th>\n",
       "      <th>2020-05-07</th>\n",
       "      <th>2020-05-08</th>\n",
       "      <th>2020-05-09</th>\n",
       "      <th>2020-03-23</th>\n",
       "    </tr>\n",
       "    <tr>\n",
       "      <th>County</th>\n",
       "      <th></th>\n",
       "      <th></th>\n",
       "      <th></th>\n",
       "      <th></th>\n",
       "      <th></th>\n",
       "      <th></th>\n",
       "      <th></th>\n",
       "      <th></th>\n",
       "      <th></th>\n",
       "      <th></th>\n",
       "      <th></th>\n",
       "      <th></th>\n",
       "      <th></th>\n",
       "      <th></th>\n",
       "      <th></th>\n",
       "      <th></th>\n",
       "      <th></th>\n",
       "      <th></th>\n",
       "      <th></th>\n",
       "      <th></th>\n",
       "      <th></th>\n",
       "    </tr>\n",
       "  </thead>\n",
       "  <tbody>\n",
       "    <tr>\n",
       "      <th>Adams</th>\n",
       "      <td>0</td>\n",
       "      <td>0</td>\n",
       "      <td>0</td>\n",
       "      <td>1</td>\n",
       "      <td>1</td>\n",
       "      <td>1</td>\n",
       "      <td>1</td>\n",
       "      <td>1</td>\n",
       "      <td>1</td>\n",
       "      <td>1</td>\n",
       "      <td>...</td>\n",
       "      <td>42</td>\n",
       "      <td>40</td>\n",
       "      <td>40</td>\n",
       "      <td>40</td>\n",
       "      <td>40</td>\n",
       "      <td>40</td>\n",
       "      <td>40</td>\n",
       "      <td>41</td>\n",
       "      <td>41</td>\n",
       "      <td>1</td>\n",
       "    </tr>\n",
       "  </tbody>\n",
       "</table>\n",
       "<p>1 rows × 60 columns</p>\n",
       "</div>"
      ],
      "text/plain": [
       "date    2020-03-17  2020-03-18  2020-03-19  2020-03-20  2020-03-21  \\\n",
       "County                                                               \n",
       "Adams            0           0           0           1           1   \n",
       "\n",
       "date    2020-03-22  2020-03-24  2020-03-25  2020-03-26  2020-03-27  ...  \\\n",
       "County                                                              ...   \n",
       "Adams            1           1           1           1           1  ...   \n",
       "\n",
       "date    2020-05-15  2020-05-02  2020-05-03  2020-05-04  2020-05-05  \\\n",
       "County                                                               \n",
       "Adams           42          40          40          40          40   \n",
       "\n",
       "date    2020-05-06  2020-05-07  2020-05-08  2020-05-09  2020-03-23  \n",
       "County                                                              \n",
       "Adams           40          40          41          41           1  \n",
       "\n",
       "[1 rows x 60 columns]"
      ]
     },
     "execution_count": 47,
     "metadata": {},
     "output_type": "execute_result"
    }
   ],
   "source": [
    "county_cases.head(1)"
   ]
  },
  {
   "cell_type": "code",
   "execution_count": 48,
   "metadata": {},
   "outputs": [
    {
     "data": {
      "text/html": [
       "<div>\n",
       "<style scoped>\n",
       "    .dataframe tbody tr th:only-of-type {\n",
       "        vertical-align: middle;\n",
       "    }\n",
       "\n",
       "    .dataframe tbody tr th {\n",
       "        vertical-align: top;\n",
       "    }\n",
       "\n",
       "    .dataframe thead th {\n",
       "        text-align: right;\n",
       "    }\n",
       "</style>\n",
       "<table border=\"1\" class=\"dataframe\">\n",
       "  <thead>\n",
       "    <tr style=\"text-align: right;\">\n",
       "      <th>date</th>\n",
       "      <th>2020-03-17</th>\n",
       "      <th>2020-03-18</th>\n",
       "      <th>2020-03-19</th>\n",
       "      <th>2020-03-20</th>\n",
       "      <th>2020-03-21</th>\n",
       "      <th>2020-03-22</th>\n",
       "      <th>2020-03-24</th>\n",
       "      <th>2020-03-25</th>\n",
       "      <th>2020-03-26</th>\n",
       "      <th>2020-03-27</th>\n",
       "      <th>...</th>\n",
       "      <th>2020-05-15</th>\n",
       "      <th>2020-05-02</th>\n",
       "      <th>2020-05-03</th>\n",
       "      <th>2020-05-04</th>\n",
       "      <th>2020-05-05</th>\n",
       "      <th>2020-05-06</th>\n",
       "      <th>2020-05-07</th>\n",
       "      <th>2020-05-08</th>\n",
       "      <th>2020-05-09</th>\n",
       "      <th>2020-03-23</th>\n",
       "    </tr>\n",
       "    <tr>\n",
       "      <th>County</th>\n",
       "      <th></th>\n",
       "      <th></th>\n",
       "      <th></th>\n",
       "      <th></th>\n",
       "      <th></th>\n",
       "      <th></th>\n",
       "      <th></th>\n",
       "      <th></th>\n",
       "      <th></th>\n",
       "      <th></th>\n",
       "      <th></th>\n",
       "      <th></th>\n",
       "      <th></th>\n",
       "      <th></th>\n",
       "      <th></th>\n",
       "      <th></th>\n",
       "      <th></th>\n",
       "      <th></th>\n",
       "      <th></th>\n",
       "      <th></th>\n",
       "      <th></th>\n",
       "    </tr>\n",
       "  </thead>\n",
       "  <tbody>\n",
       "    <tr>\n",
       "      <th>Adams</th>\n",
       "      <td>0</td>\n",
       "      <td>0</td>\n",
       "      <td>0</td>\n",
       "      <td>0</td>\n",
       "      <td>0</td>\n",
       "      <td>0</td>\n",
       "      <td>0</td>\n",
       "      <td>0</td>\n",
       "      <td>0</td>\n",
       "      <td>0</td>\n",
       "      <td>...</td>\n",
       "      <td>3045</td>\n",
       "      <td>0</td>\n",
       "      <td>0</td>\n",
       "      <td>1309</td>\n",
       "      <td>1380</td>\n",
       "      <td>1405</td>\n",
       "      <td>1414</td>\n",
       "      <td>1472</td>\n",
       "      <td>1537</td>\n",
       "      <td>0</td>\n",
       "    </tr>\n",
       "    <tr>\n",
       "      <th>Alexander</th>\n",
       "      <td>0</td>\n",
       "      <td>0</td>\n",
       "      <td>0</td>\n",
       "      <td>0</td>\n",
       "      <td>0</td>\n",
       "      <td>0</td>\n",
       "      <td>0</td>\n",
       "      <td>0</td>\n",
       "      <td>0</td>\n",
       "      <td>0</td>\n",
       "      <td>...</td>\n",
       "      <td>100</td>\n",
       "      <td>0</td>\n",
       "      <td>0</td>\n",
       "      <td>48</td>\n",
       "      <td>48</td>\n",
       "      <td>58</td>\n",
       "      <td>58</td>\n",
       "      <td>65</td>\n",
       "      <td>72</td>\n",
       "      <td>0</td>\n",
       "    </tr>\n",
       "    <tr>\n",
       "      <th>Bond</th>\n",
       "      <td>0</td>\n",
       "      <td>0</td>\n",
       "      <td>0</td>\n",
       "      <td>0</td>\n",
       "      <td>0</td>\n",
       "      <td>0</td>\n",
       "      <td>0</td>\n",
       "      <td>0</td>\n",
       "      <td>0</td>\n",
       "      <td>0</td>\n",
       "      <td>...</td>\n",
       "      <td>210</td>\n",
       "      <td>0</td>\n",
       "      <td>0</td>\n",
       "      <td>135</td>\n",
       "      <td>136</td>\n",
       "      <td>141</td>\n",
       "      <td>148</td>\n",
       "      <td>154</td>\n",
       "      <td>156</td>\n",
       "      <td>0</td>\n",
       "    </tr>\n",
       "    <tr>\n",
       "      <th>Boone</th>\n",
       "      <td>0</td>\n",
       "      <td>0</td>\n",
       "      <td>0</td>\n",
       "      <td>0</td>\n",
       "      <td>0</td>\n",
       "      <td>0</td>\n",
       "      <td>0</td>\n",
       "      <td>0</td>\n",
       "      <td>0</td>\n",
       "      <td>0</td>\n",
       "      <td>...</td>\n",
       "      <td>1496</td>\n",
       "      <td>0</td>\n",
       "      <td>0</td>\n",
       "      <td>578</td>\n",
       "      <td>601</td>\n",
       "      <td>627</td>\n",
       "      <td>658</td>\n",
       "      <td>701</td>\n",
       "      <td>742</td>\n",
       "      <td>0</td>\n",
       "    </tr>\n",
       "    <tr>\n",
       "      <th>Brown</th>\n",
       "      <td>0</td>\n",
       "      <td>0</td>\n",
       "      <td>0</td>\n",
       "      <td>0</td>\n",
       "      <td>0</td>\n",
       "      <td>0</td>\n",
       "      <td>0</td>\n",
       "      <td>0</td>\n",
       "      <td>0</td>\n",
       "      <td>0</td>\n",
       "      <td>...</td>\n",
       "      <td>266</td>\n",
       "      <td>0</td>\n",
       "      <td>0</td>\n",
       "      <td>40</td>\n",
       "      <td>40</td>\n",
       "      <td>44</td>\n",
       "      <td>62</td>\n",
       "      <td>139</td>\n",
       "      <td>206</td>\n",
       "      <td>0</td>\n",
       "    </tr>\n",
       "    <tr>\n",
       "      <th>...</th>\n",
       "      <td>...</td>\n",
       "      <td>...</td>\n",
       "      <td>...</td>\n",
       "      <td>...</td>\n",
       "      <td>...</td>\n",
       "      <td>...</td>\n",
       "      <td>...</td>\n",
       "      <td>...</td>\n",
       "      <td>...</td>\n",
       "      <td>...</td>\n",
       "      <td>...</td>\n",
       "      <td>...</td>\n",
       "      <td>...</td>\n",
       "      <td>...</td>\n",
       "      <td>...</td>\n",
       "      <td>...</td>\n",
       "      <td>...</td>\n",
       "      <td>...</td>\n",
       "      <td>...</td>\n",
       "      <td>...</td>\n",
       "      <td>...</td>\n",
       "    </tr>\n",
       "    <tr>\n",
       "      <th>Whiteside</th>\n",
       "      <td>0</td>\n",
       "      <td>0</td>\n",
       "      <td>0</td>\n",
       "      <td>0</td>\n",
       "      <td>0</td>\n",
       "      <td>0</td>\n",
       "      <td>0</td>\n",
       "      <td>0</td>\n",
       "      <td>0</td>\n",
       "      <td>0</td>\n",
       "      <td>...</td>\n",
       "      <td>1453</td>\n",
       "      <td>0</td>\n",
       "      <td>0</td>\n",
       "      <td>1058</td>\n",
       "      <td>1088</td>\n",
       "      <td>1111</td>\n",
       "      <td>1139</td>\n",
       "      <td>1177</td>\n",
       "      <td>1209</td>\n",
       "      <td>0</td>\n",
       "    </tr>\n",
       "    <tr>\n",
       "      <th>Will</th>\n",
       "      <td>0</td>\n",
       "      <td>0</td>\n",
       "      <td>0</td>\n",
       "      <td>0</td>\n",
       "      <td>0</td>\n",
       "      <td>0</td>\n",
       "      <td>0</td>\n",
       "      <td>0</td>\n",
       "      <td>0</td>\n",
       "      <td>0</td>\n",
       "      <td>...</td>\n",
       "      <td>24074</td>\n",
       "      <td>0</td>\n",
       "      <td>0</td>\n",
       "      <td>15910</td>\n",
       "      <td>16424</td>\n",
       "      <td>17222</td>\n",
       "      <td>17868</td>\n",
       "      <td>18689</td>\n",
       "      <td>19277</td>\n",
       "      <td>0</td>\n",
       "    </tr>\n",
       "    <tr>\n",
       "      <th>Williamson</th>\n",
       "      <td>0</td>\n",
       "      <td>0</td>\n",
       "      <td>0</td>\n",
       "      <td>0</td>\n",
       "      <td>0</td>\n",
       "      <td>0</td>\n",
       "      <td>0</td>\n",
       "      <td>0</td>\n",
       "      <td>0</td>\n",
       "      <td>0</td>\n",
       "      <td>...</td>\n",
       "      <td>1481</td>\n",
       "      <td>0</td>\n",
       "      <td>0</td>\n",
       "      <td>956</td>\n",
       "      <td>962</td>\n",
       "      <td>1007</td>\n",
       "      <td>1046</td>\n",
       "      <td>1106</td>\n",
       "      <td>1141</td>\n",
       "      <td>0</td>\n",
       "    </tr>\n",
       "    <tr>\n",
       "      <th>Winnebago</th>\n",
       "      <td>0</td>\n",
       "      <td>0</td>\n",
       "      <td>0</td>\n",
       "      <td>0</td>\n",
       "      <td>0</td>\n",
       "      <td>0</td>\n",
       "      <td>0</td>\n",
       "      <td>0</td>\n",
       "      <td>0</td>\n",
       "      <td>0</td>\n",
       "      <td>...</td>\n",
       "      <td>10857</td>\n",
       "      <td>0</td>\n",
       "      <td>0</td>\n",
       "      <td>4377</td>\n",
       "      <td>4540</td>\n",
       "      <td>4813</td>\n",
       "      <td>5150</td>\n",
       "      <td>5592</td>\n",
       "      <td>6058</td>\n",
       "      <td>0</td>\n",
       "    </tr>\n",
       "    <tr>\n",
       "      <th>Woodford</th>\n",
       "      <td>0</td>\n",
       "      <td>0</td>\n",
       "      <td>0</td>\n",
       "      <td>0</td>\n",
       "      <td>0</td>\n",
       "      <td>0</td>\n",
       "      <td>0</td>\n",
       "      <td>0</td>\n",
       "      <td>0</td>\n",
       "      <td>0</td>\n",
       "      <td>...</td>\n",
       "      <td>661</td>\n",
       "      <td>0</td>\n",
       "      <td>0</td>\n",
       "      <td>362</td>\n",
       "      <td>367</td>\n",
       "      <td>387</td>\n",
       "      <td>417</td>\n",
       "      <td>456</td>\n",
       "      <td>477</td>\n",
       "      <td>0</td>\n",
       "    </tr>\n",
       "  </tbody>\n",
       "</table>\n",
       "<p>106 rows × 60 columns</p>\n",
       "</div>"
      ],
      "text/plain": [
       "date        2020-03-17  2020-03-18  2020-03-19  2020-03-20  2020-03-21  \\\n",
       "County                                                                   \n",
       "Adams                0           0           0           0           0   \n",
       "Alexander            0           0           0           0           0   \n",
       "Bond                 0           0           0           0           0   \n",
       "Boone                0           0           0           0           0   \n",
       "Brown                0           0           0           0           0   \n",
       "...                ...         ...         ...         ...         ...   \n",
       "Whiteside            0           0           0           0           0   \n",
       "Will                 0           0           0           0           0   \n",
       "Williamson           0           0           0           0           0   \n",
       "Winnebago            0           0           0           0           0   \n",
       "Woodford             0           0           0           0           0   \n",
       "\n",
       "date        2020-03-22  2020-03-24  2020-03-25  2020-03-26  2020-03-27  ...  \\\n",
       "County                                                                  ...   \n",
       "Adams                0           0           0           0           0  ...   \n",
       "Alexander            0           0           0           0           0  ...   \n",
       "Bond                 0           0           0           0           0  ...   \n",
       "Boone                0           0           0           0           0  ...   \n",
       "Brown                0           0           0           0           0  ...   \n",
       "...                ...         ...         ...         ...         ...  ...   \n",
       "Whiteside            0           0           0           0           0  ...   \n",
       "Will                 0           0           0           0           0  ...   \n",
       "Williamson           0           0           0           0           0  ...   \n",
       "Winnebago            0           0           0           0           0  ...   \n",
       "Woodford             0           0           0           0           0  ...   \n",
       "\n",
       "date        2020-05-15  2020-05-02  2020-05-03  2020-05-04  2020-05-05  \\\n",
       "County                                                                   \n",
       "Adams             3045           0           0        1309        1380   \n",
       "Alexander          100           0           0          48          48   \n",
       "Bond               210           0           0         135         136   \n",
       "Boone             1496           0           0         578         601   \n",
       "Brown              266           0           0          40          40   \n",
       "...                ...         ...         ...         ...         ...   \n",
       "Whiteside         1453           0           0        1058        1088   \n",
       "Will             24074           0           0       15910       16424   \n",
       "Williamson        1481           0           0         956         962   \n",
       "Winnebago        10857           0           0        4377        4540   \n",
       "Woodford           661           0           0         362         367   \n",
       "\n",
       "date        2020-05-06  2020-05-07  2020-05-08  2020-05-09  2020-03-23  \n",
       "County                                                                  \n",
       "Adams             1405        1414        1472        1537           0  \n",
       "Alexander           58          58          65          72           0  \n",
       "Bond               141         148         154         156           0  \n",
       "Boone              627         658         701         742           0  \n",
       "Brown               44          62         139         206           0  \n",
       "...                ...         ...         ...         ...         ...  \n",
       "Whiteside         1111        1139        1177        1209           0  \n",
       "Will             17222       17868       18689       19277           0  \n",
       "Williamson        1007        1046        1106        1141           0  \n",
       "Winnebago         4813        5150        5592        6058           0  \n",
       "Woodford           387         417         456         477           0  \n",
       "\n",
       "[106 rows x 60 columns]"
      ]
     },
     "execution_count": 48,
     "metadata": {},
     "output_type": "execute_result"
    }
   ],
   "source": [
    "county_tested"
   ]
  },
  {
   "cell_type": "code",
   "execution_count": 49,
   "metadata": {
    "pycharm": {
     "is_executing": false,
     "name": "#%%\n"
    }
   },
   "outputs": [],
   "source": [
    "# Get date information\n",
    "date = county_cases.columns.tolist()\n",
    "date.sort()\n",
    "dt_first = date[0]\n",
    "dt_today = date[-1]\n",
    "dt_yesterday = date[-2]"
   ]
  },
  {
   "cell_type": "code",
   "execution_count": 50,
   "metadata": {
    "pycharm": {
     "is_executing": false,
     "name": "#%%\n"
    }
   },
   "outputs": [],
   "source": [
    "from datetime import datetime\n",
    "from datetime import timedelta"
   ]
  },
  {
   "cell_type": "code",
   "execution_count": 51,
   "metadata": {
    "pycharm": {
     "is_executing": false,
     "name": "#%%\n"
    }
   },
   "outputs": [],
   "source": [
    "def find_missing_date(date):\n",
    "    dt_range = datetime.strptime(date[-1], \"%Y-%m-%d\") - datetime.strptime(date[0], \"%Y-%m-%d\")\n",
    "    if len(date) != dt_range.days + 1:\n",
    "        print('Alert! Missing Date or Redundant date')\n",
    "        for x in range(len(date) - 1):\n",
    "            if (datetime.strptime(date[x + 1], \"%Y-%m-%d\") - datetime.strptime(date[x], \"%Y-%m-%d\")).days != 1:\n",
    "                missing_date = datetime.strptime(date[x], \"%Y-%m-%d\") + timedelta(days=1)\n",
    "                print('Missing Date:')\n",
    "                print(missing_date)"
   ]
  },
  {
   "cell_type": "code",
   "execution_count": 52,
   "metadata": {
    "pycharm": {
     "is_executing": false,
     "name": "#%%\n"
    }
   },
   "outputs": [],
   "source": [
    "# Looking for missing dates\n",
    "find_missing_date(date)"
   ]
  },
  {
   "cell_type": "code",
   "execution_count": 53,
   "metadata": {
    "pycharm": {
     "is_executing": false,
     "name": "#%%\n"
    }
   },
   "outputs": [],
   "source": [
    "# reorder date\n",
    "county_cases = county_cases[date]\n",
    "county_deaths = county_deaths[date]\n",
    "county_tested = county_tested[date]"
   ]
  },
  {
   "cell_type": "code",
   "execution_count": 54,
   "metadata": {
    "pycharm": {
     "is_executing": false,
     "name": "#%%\n"
    }
   },
   "outputs": [],
   "source": [
    "# get case time series\n",
    "cases_ts = county_cases.values.tolist()\n",
    "deaths_ts = county_deaths.values.tolist()\n",
    "tested_ts = county_tested.values.tolist()"
   ]
  },
  {
   "cell_type": "code",
   "execution_count": 55,
   "metadata": {
    "pycharm": {
     "is_executing": false,
     "name": "#%%\n"
    }
   },
   "outputs": [],
   "source": [
    "# get first case date\n",
    "county_cases['dt_first_case'] = (county_cases > 0).idxmax(axis=1)\n",
    "county_cases.loc[county_cases.iloc[:, -2] <= 0, 'dt_first_case'] = np.nan\n",
    "county_deaths['dt_first_death'] = (county_deaths > 0).idxmax(axis=1)\n",
    "county_deaths.loc[county_deaths.iloc[:, -2] <= 0, 'dt_first_death'] = np.nan"
   ]
  },
  {
   "cell_type": "code",
   "execution_count": 56,
   "metadata": {
    "pycharm": {
     "is_executing": false,
     "name": "#%%\n"
    }
   },
   "outputs": [],
   "source": [
    "county_cases['cases_ts'] = cases_ts\n",
    "county_deaths['deaths_ts'] = deaths_ts"
   ]
  },
  {
   "cell_type": "code",
   "execution_count": 57,
   "metadata": {
    "pycharm": {
     "is_executing": false,
     "name": "#%%\n"
    }
   },
   "outputs": [
    {
     "name": "stderr",
     "output_type": "stream",
     "text": [
      "C:\\Users\\lymin\\Anaconda3\\envs\\wherecovid19\\lib\\site-packages\\ipykernel_launcher.py:6: SettingWithCopyWarning: \n",
      "A value is trying to be set on a copy of a slice from a DataFrame.\n",
      "Try using .loc[row_indexer,col_indexer] = value instead\n",
      "\n",
      "See the caveats in the documentation: https://pandas.pydata.org/pandas-docs/stable/user_guide/indexing.html#returning-a-view-versus-a-copy\n",
      "  \n",
      "C:\\Users\\lymin\\Anaconda3\\envs\\wherecovid19\\lib\\site-packages\\ipykernel_launcher.py:7: SettingWithCopyWarning: \n",
      "A value is trying to be set on a copy of a slice from a DataFrame.\n",
      "Try using .loc[row_indexer,col_indexer] = value instead\n",
      "\n",
      "See the caveats in the documentation: https://pandas.pydata.org/pandas-docs/stable/user_guide/indexing.html#returning-a-view-versus-a-copy\n",
      "  import sys\n"
     ]
    }
   ],
   "source": [
    "# Add today_case and today_new_case columns\n",
    "county_cases['today_case'] = county_cases[dt_today]\n",
    "county_cases['today_new_case'] = county_cases[dt_today] - county_cases[dt_yesterday]\n",
    "county_deaths['today_death'] = county_deaths[dt_today]\n",
    "county_deaths['today_new_death'] = county_deaths[dt_today] - county_deaths[dt_yesterday]\n",
    "county_tested['today_tested'] = county_tested[dt_today]\n",
    "county_tested['today_new_tested'] = county_tested[dt_today] - county_tested[dt_yesterday]"
   ]
  },
  {
   "cell_type": "code",
   "execution_count": 58,
   "metadata": {
    "pycharm": {
     "is_executing": false,
     "name": "#%%\n"
    }
   },
   "outputs": [],
   "source": [
    "case_report = county_cases[['cases_ts','dt_first_case','today_case','today_new_case']]"
   ]
  },
  {
   "cell_type": "code",
   "execution_count": 59,
   "metadata": {
    "pycharm": {
     "is_executing": false,
     "name": "#%%\n"
    }
   },
   "outputs": [],
   "source": [
    "death_report = county_deaths[['deaths_ts','dt_first_death','today_death','today_new_death']]"
   ]
  },
  {
   "cell_type": "code",
   "execution_count": 60,
   "metadata": {},
   "outputs": [],
   "source": [
    "tested_report = county_tested[['today_tested','today_new_tested']]"
   ]
  },
  {
   "cell_type": "code",
   "execution_count": 61,
   "metadata": {
    "pycharm": {
     "is_executing": false,
     "name": "#%%\n"
    }
   },
   "outputs": [],
   "source": [
    "county_report = case_report.join(death_report, how=\"outer\").join(tested_report, how=\"outer\")"
   ]
  },
  {
   "cell_type": "code",
   "execution_count": 62,
   "metadata": {
    "pycharm": {
     "is_executing": false,
     "name": "#%%\n"
    }
   },
   "outputs": [],
   "source": [
    "county_report = county_report.reset_index()\n",
    "county_report.columns = ['NAME','cases_ts','dt_first_case','today_case','today_new_case','deaths_ts','dt_first_death','today_death','today_new_death','today_tested','today_new_tested']\n",
    "county_report['cases_ts'] = county_report['cases_ts'].apply(lambda x: ','.join(map(str,x)))\n",
    "county_report['deaths_ts'] = county_report['deaths_ts'].apply(lambda x: ','.join(map(str,x)))"
   ]
  },
  {
   "cell_type": "code",
   "execution_count": 63,
   "metadata": {
    "pycharm": {
     "is_executing": false,
     "name": "#%%\n"
    }
   },
   "outputs": [
    {
     "data": {
      "text/plain": [
       "array(['Out Of State', 'Suburban Cook'], dtype=object)"
      ]
     },
     "execution_count": 63,
     "metadata": {},
     "output_type": "execute_result"
    }
   ],
   "source": [
    "np.setdiff1d(county_report['NAME'],county_gpd_dynamic['id'])\n",
    "# Illinois, Out of State and Suburban Cook is not in geometry"
   ]
  },
  {
   "cell_type": "code",
   "execution_count": 64,
   "metadata": {
    "pycharm": {
     "is_executing": false,
     "name": "#%%\n"
    }
   },
   "outputs": [],
   "source": [
    "county_report = county_report[(county_report['NAME'] != 'Out Of State') & (county_report['NAME'] != 'Suburban Cook')]"
   ]
  },
  {
   "cell_type": "code",
   "execution_count": 65,
   "metadata": {
    "pycharm": {
     "is_executing": false,
     "name": "#%%\n"
    }
   },
   "outputs": [],
   "source": [
    "county_report['dt_start'] = dt_first\n",
    "county_report['dt_end'] = dt_today\n",
    "county_report['dt_unit'] = 'day'"
   ]
  },
  {
   "cell_type": "code",
   "execution_count": 66,
   "metadata": {
    "pycharm": {
     "is_executing": false,
     "name": "#%%\n"
    }
   },
   "outputs": [
    {
     "data": {
      "text/html": [
       "<div>\n",
       "<style scoped>\n",
       "    .dataframe tbody tr th:only-of-type {\n",
       "        vertical-align: middle;\n",
       "    }\n",
       "\n",
       "    .dataframe tbody tr th {\n",
       "        vertical-align: top;\n",
       "    }\n",
       "\n",
       "    .dataframe thead th {\n",
       "        text-align: right;\n",
       "    }\n",
       "</style>\n",
       "<table border=\"1\" class=\"dataframe\">\n",
       "  <thead>\n",
       "    <tr style=\"text-align: right;\">\n",
       "      <th></th>\n",
       "      <th>NAME</th>\n",
       "      <th>cases_ts</th>\n",
       "      <th>dt_first_case</th>\n",
       "      <th>today_case</th>\n",
       "      <th>today_new_case</th>\n",
       "      <th>deaths_ts</th>\n",
       "      <th>dt_first_death</th>\n",
       "      <th>today_death</th>\n",
       "      <th>today_new_death</th>\n",
       "      <th>today_tested</th>\n",
       "      <th>today_new_tested</th>\n",
       "      <th>dt_start</th>\n",
       "      <th>dt_end</th>\n",
       "      <th>dt_unit</th>\n",
       "    </tr>\n",
       "  </thead>\n",
       "  <tbody>\n",
       "    <tr>\n",
       "      <th>0</th>\n",
       "      <td>Adams</td>\n",
       "      <td>0,0,0,1,1,1,1,1,1,1,1,1,2,2,2,2,2,2,3,3,8,9,11...</td>\n",
       "      <td>2020-03-20</td>\n",
       "      <td>42</td>\n",
       "      <td>1</td>\n",
       "      <td>0,0,0,0,0,0,0,0,0,0,0,0,0,0,0,0,0,0,0,0,0,0,0,...</td>\n",
       "      <td>2020-05-01</td>\n",
       "      <td>1</td>\n",
       "      <td>0</td>\n",
       "      <td>3045</td>\n",
       "      <td>437</td>\n",
       "      <td>2020-03-17</td>\n",
       "      <td>2020-05-15</td>\n",
       "      <td>day</td>\n",
       "    </tr>\n",
       "    <tr>\n",
       "      <th>1</th>\n",
       "      <td>Alexander</td>\n",
       "      <td>0,0,0,0,0,0,0,0,0,0,0,0,0,0,0,0,0,0,0,0,0,0,0,...</td>\n",
       "      <td>2020-04-16</td>\n",
       "      <td>8</td>\n",
       "      <td>0</td>\n",
       "      <td>0,0,0,0,0,0,0,0,0,0,0,0,0,0,0,0,0,0,0,0,0,0,0,...</td>\n",
       "      <td>NaN</td>\n",
       "      <td>0</td>\n",
       "      <td>0</td>\n",
       "      <td>100</td>\n",
       "      <td>5</td>\n",
       "      <td>2020-03-17</td>\n",
       "      <td>2020-05-15</td>\n",
       "      <td>day</td>\n",
       "    </tr>\n",
       "    <tr>\n",
       "      <th>2</th>\n",
       "      <td>Bond</td>\n",
       "      <td>0,0,0,0,0,0,0,0,0,0,0,0,1,1,2,2,3,3,3,3,3,3,3,...</td>\n",
       "      <td>2020-03-29</td>\n",
       "      <td>11</td>\n",
       "      <td>1</td>\n",
       "      <td>0,0,0,0,0,0,0,0,0,0,0,0,0,0,0,0,0,0,0,0,0,0,0,...</td>\n",
       "      <td>2020-04-16</td>\n",
       "      <td>1</td>\n",
       "      <td>0</td>\n",
       "      <td>210</td>\n",
       "      <td>16</td>\n",
       "      <td>2020-03-17</td>\n",
       "      <td>2020-05-15</td>\n",
       "      <td>day</td>\n",
       "    </tr>\n",
       "    <tr>\n",
       "      <th>3</th>\n",
       "      <td>Boone</td>\n",
       "      <td>0,0,0,0,0,0,0,0,0,0,0,0,0,0,0,0,0,0,0,3,4,6,7,...</td>\n",
       "      <td>2020-04-05</td>\n",
       "      <td>274</td>\n",
       "      <td>6</td>\n",
       "      <td>0,0,0,0,0,0,0,0,0,0,0,0,0,0,0,0,0,0,0,0,0,0,1,...</td>\n",
       "      <td>2020-04-08</td>\n",
       "      <td>14</td>\n",
       "      <td>1</td>\n",
       "      <td>1496</td>\n",
       "      <td>65</td>\n",
       "      <td>2020-03-17</td>\n",
       "      <td>2020-05-15</td>\n",
       "      <td>day</td>\n",
       "    </tr>\n",
       "    <tr>\n",
       "      <th>4</th>\n",
       "      <td>Brown</td>\n",
       "      <td>0,0,0,0,0,0,0,0,0,0,0,0,0,0,0,0,0,0,0,0,0,0,0,...</td>\n",
       "      <td>2020-05-01</td>\n",
       "      <td>9</td>\n",
       "      <td>0</td>\n",
       "      <td>0,0,0,0,0,0,0,0,0,0,0,0,0,0,0,0,0,0,0,0,0,0,0,...</td>\n",
       "      <td>NaN</td>\n",
       "      <td>0</td>\n",
       "      <td>0</td>\n",
       "      <td>266</td>\n",
       "      <td>26</td>\n",
       "      <td>2020-03-17</td>\n",
       "      <td>2020-05-15</td>\n",
       "      <td>day</td>\n",
       "    </tr>\n",
       "    <tr>\n",
       "      <th>...</th>\n",
       "      <td>...</td>\n",
       "      <td>...</td>\n",
       "      <td>...</td>\n",
       "      <td>...</td>\n",
       "      <td>...</td>\n",
       "      <td>...</td>\n",
       "      <td>...</td>\n",
       "      <td>...</td>\n",
       "      <td>...</td>\n",
       "      <td>...</td>\n",
       "      <td>...</td>\n",
       "      <td>...</td>\n",
       "      <td>...</td>\n",
       "      <td>...</td>\n",
       "    </tr>\n",
       "    <tr>\n",
       "      <th>101</th>\n",
       "      <td>Whiteside</td>\n",
       "      <td>1,1,1,1,1,1,1,1,1,1,2,2,3,4,5,5,6,9,15,18,18,2...</td>\n",
       "      <td>2020-03-17</td>\n",
       "      <td>113</td>\n",
       "      <td>2</td>\n",
       "      <td>0,0,0,0,0,0,0,0,0,0,0,0,0,0,0,0,1,1,1,1,1,1,1,...</td>\n",
       "      <td>2020-04-02</td>\n",
       "      <td>8</td>\n",
       "      <td>0</td>\n",
       "      <td>1453</td>\n",
       "      <td>43</td>\n",
       "      <td>2020-03-17</td>\n",
       "      <td>2020-05-15</td>\n",
       "      <td>day</td>\n",
       "    </tr>\n",
       "    <tr>\n",
       "      <th>102</th>\n",
       "      <td>Will</td>\n",
       "      <td>2,3,9,10,12,21,21,28,40,67,104,127,182,223,228...</td>\n",
       "      <td>2020-03-17</td>\n",
       "      <td>4277</td>\n",
       "      <td>187</td>\n",
       "      <td>0,0,0,1,1,1,1,1,2,3,3,4,4,5,8,9,8,10,11,12,19,...</td>\n",
       "      <td>2020-03-20</td>\n",
       "      <td>237</td>\n",
       "      <td>6</td>\n",
       "      <td>24074</td>\n",
       "      <td>1203</td>\n",
       "      <td>2020-03-17</td>\n",
       "      <td>2020-05-15</td>\n",
       "      <td>day</td>\n",
       "    </tr>\n",
       "    <tr>\n",
       "      <th>103</th>\n",
       "      <td>Williamson</td>\n",
       "      <td>0,0,1,1,1,1,1,0,1,1,1,1,1,1,1,1,1,2,3,3,3,8,9,...</td>\n",
       "      <td>2020-03-19</td>\n",
       "      <td>51</td>\n",
       "      <td>-1</td>\n",
       "      <td>0,0,1,1,0,0,0,0,0,0,0,0,0,0,0,0,0,0,0,0,0,0,0,...</td>\n",
       "      <td>2020-03-19</td>\n",
       "      <td>1</td>\n",
       "      <td>0</td>\n",
       "      <td>1481</td>\n",
       "      <td>65</td>\n",
       "      <td>2020-03-17</td>\n",
       "      <td>2020-05-15</td>\n",
       "      <td>day</td>\n",
       "    </tr>\n",
       "    <tr>\n",
       "      <th>104</th>\n",
       "      <td>Winnebago</td>\n",
       "      <td>1,1,1,2,4,5,5,5,7,8,8,9,12,13,15,18,24,28,36,4...</td>\n",
       "      <td>2020-03-17</td>\n",
       "      <td>1390</td>\n",
       "      <td>53</td>\n",
       "      <td>0,0,0,0,0,0,0,0,0,0,0,0,0,0,0,1,1,1,1,1,1,3,3,...</td>\n",
       "      <td>2020-04-01</td>\n",
       "      <td>33</td>\n",
       "      <td>1</td>\n",
       "      <td>10857</td>\n",
       "      <td>607</td>\n",
       "      <td>2020-03-17</td>\n",
       "      <td>2020-05-15</td>\n",
       "      <td>day</td>\n",
       "    </tr>\n",
       "    <tr>\n",
       "      <th>105</th>\n",
       "      <td>Woodford</td>\n",
       "      <td>1,1,2,2,2,2,2,3,3,3,3,3,3,3,3,3,3,4,6,6,6,7,7,...</td>\n",
       "      <td>2020-03-17</td>\n",
       "      <td>14</td>\n",
       "      <td>0</td>\n",
       "      <td>0,0,0,0,0,0,0,0,0,0,0,0,0,0,0,0,0,0,0,0,0,0,0,...</td>\n",
       "      <td>2020-04-21</td>\n",
       "      <td>1</td>\n",
       "      <td>0</td>\n",
       "      <td>661</td>\n",
       "      <td>30</td>\n",
       "      <td>2020-03-17</td>\n",
       "      <td>2020-05-15</td>\n",
       "      <td>day</td>\n",
       "    </tr>\n",
       "  </tbody>\n",
       "</table>\n",
       "<p>104 rows × 14 columns</p>\n",
       "</div>"
      ],
      "text/plain": [
       "           NAME                                           cases_ts  \\\n",
       "0         Adams  0,0,0,1,1,1,1,1,1,1,1,1,2,2,2,2,2,2,3,3,8,9,11...   \n",
       "1     Alexander  0,0,0,0,0,0,0,0,0,0,0,0,0,0,0,0,0,0,0,0,0,0,0,...   \n",
       "2          Bond  0,0,0,0,0,0,0,0,0,0,0,0,1,1,2,2,3,3,3,3,3,3,3,...   \n",
       "3         Boone  0,0,0,0,0,0,0,0,0,0,0,0,0,0,0,0,0,0,0,3,4,6,7,...   \n",
       "4         Brown  0,0,0,0,0,0,0,0,0,0,0,0,0,0,0,0,0,0,0,0,0,0,0,...   \n",
       "..          ...                                                ...   \n",
       "101   Whiteside  1,1,1,1,1,1,1,1,1,1,2,2,3,4,5,5,6,9,15,18,18,2...   \n",
       "102        Will  2,3,9,10,12,21,21,28,40,67,104,127,182,223,228...   \n",
       "103  Williamson  0,0,1,1,1,1,1,0,1,1,1,1,1,1,1,1,1,2,3,3,3,8,9,...   \n",
       "104   Winnebago  1,1,1,2,4,5,5,5,7,8,8,9,12,13,15,18,24,28,36,4...   \n",
       "105    Woodford  1,1,2,2,2,2,2,3,3,3,3,3,3,3,3,3,3,4,6,6,6,7,7,...   \n",
       "\n",
       "    dt_first_case  today_case  today_new_case  \\\n",
       "0      2020-03-20          42               1   \n",
       "1      2020-04-16           8               0   \n",
       "2      2020-03-29          11               1   \n",
       "3      2020-04-05         274               6   \n",
       "4      2020-05-01           9               0   \n",
       "..            ...         ...             ...   \n",
       "101    2020-03-17         113               2   \n",
       "102    2020-03-17        4277             187   \n",
       "103    2020-03-19          51              -1   \n",
       "104    2020-03-17        1390              53   \n",
       "105    2020-03-17          14               0   \n",
       "\n",
       "                                             deaths_ts dt_first_death  \\\n",
       "0    0,0,0,0,0,0,0,0,0,0,0,0,0,0,0,0,0,0,0,0,0,0,0,...     2020-05-01   \n",
       "1    0,0,0,0,0,0,0,0,0,0,0,0,0,0,0,0,0,0,0,0,0,0,0,...            NaN   \n",
       "2    0,0,0,0,0,0,0,0,0,0,0,0,0,0,0,0,0,0,0,0,0,0,0,...     2020-04-16   \n",
       "3    0,0,0,0,0,0,0,0,0,0,0,0,0,0,0,0,0,0,0,0,0,0,1,...     2020-04-08   \n",
       "4    0,0,0,0,0,0,0,0,0,0,0,0,0,0,0,0,0,0,0,0,0,0,0,...            NaN   \n",
       "..                                                 ...            ...   \n",
       "101  0,0,0,0,0,0,0,0,0,0,0,0,0,0,0,0,1,1,1,1,1,1,1,...     2020-04-02   \n",
       "102  0,0,0,1,1,1,1,1,2,3,3,4,4,5,8,9,8,10,11,12,19,...     2020-03-20   \n",
       "103  0,0,1,1,0,0,0,0,0,0,0,0,0,0,0,0,0,0,0,0,0,0,0,...     2020-03-19   \n",
       "104  0,0,0,0,0,0,0,0,0,0,0,0,0,0,0,1,1,1,1,1,1,3,3,...     2020-04-01   \n",
       "105  0,0,0,0,0,0,0,0,0,0,0,0,0,0,0,0,0,0,0,0,0,0,0,...     2020-04-21   \n",
       "\n",
       "     today_death  today_new_death  today_tested  today_new_tested    dt_start  \\\n",
       "0              1                0          3045               437  2020-03-17   \n",
       "1              0                0           100                 5  2020-03-17   \n",
       "2              1                0           210                16  2020-03-17   \n",
       "3             14                1          1496                65  2020-03-17   \n",
       "4              0                0           266                26  2020-03-17   \n",
       "..           ...              ...           ...               ...         ...   \n",
       "101            8                0          1453                43  2020-03-17   \n",
       "102          237                6         24074              1203  2020-03-17   \n",
       "103            1                0          1481                65  2020-03-17   \n",
       "104           33                1         10857               607  2020-03-17   \n",
       "105            1                0           661                30  2020-03-17   \n",
       "\n",
       "         dt_end dt_unit  \n",
       "0    2020-05-15     day  \n",
       "1    2020-05-15     day  \n",
       "2    2020-05-15     day  \n",
       "3    2020-05-15     day  \n",
       "4    2020-05-15     day  \n",
       "..          ...     ...  \n",
       "101  2020-05-15     day  \n",
       "102  2020-05-15     day  \n",
       "103  2020-05-15     day  \n",
       "104  2020-05-15     day  \n",
       "105  2020-05-15     day  \n",
       "\n",
       "[104 rows x 14 columns]"
      ]
     },
     "execution_count": 66,
     "metadata": {},
     "output_type": "execute_result"
    }
   ],
   "source": [
    "county_report"
   ]
  },
  {
   "cell_type": "code",
   "execution_count": 67,
   "metadata": {
    "pycharm": {
     "is_executing": false,
     "name": "#%%\n"
    }
   },
   "outputs": [],
   "source": [
    "county_final_gpd = pd.merge(county_gpd_dynamic, county_report, how=\"left\", left_on=\"id\", right_on=\"NAME\")"
   ]
  },
  {
   "cell_type": "code",
   "execution_count": 68,
   "metadata": {
    "pycharm": {
     "is_executing": false,
     "name": "#%%\n"
    }
   },
   "outputs": [],
   "source": [
    "county_final_gpd['population'] = 1"
   ]
  },
  {
   "cell_type": "code",
   "execution_count": 69,
   "metadata": {},
   "outputs": [
    {
     "data": {
      "text/html": [
       "<div>\n",
       "<style scoped>\n",
       "    .dataframe tbody tr th:only-of-type {\n",
       "        vertical-align: middle;\n",
       "    }\n",
       "\n",
       "    .dataframe tbody tr th {\n",
       "        vertical-align: top;\n",
       "    }\n",
       "\n",
       "    .dataframe thead th {\n",
       "        text-align: right;\n",
       "    }\n",
       "</style>\n",
       "<table border=\"1\" class=\"dataframe\">\n",
       "  <thead>\n",
       "    <tr style=\"text-align: right;\">\n",
       "      <th></th>\n",
       "      <th>id</th>\n",
       "      <th>geometry</th>\n",
       "      <th>NAME</th>\n",
       "      <th>cases_ts</th>\n",
       "      <th>dt_first_case</th>\n",
       "      <th>today_case</th>\n",
       "      <th>today_new_case</th>\n",
       "      <th>deaths_ts</th>\n",
       "      <th>dt_first_death</th>\n",
       "      <th>today_death</th>\n",
       "      <th>today_new_death</th>\n",
       "      <th>today_tested</th>\n",
       "      <th>today_new_tested</th>\n",
       "      <th>dt_start</th>\n",
       "      <th>dt_end</th>\n",
       "      <th>dt_unit</th>\n",
       "      <th>population</th>\n",
       "    </tr>\n",
       "  </thead>\n",
       "  <tbody>\n",
       "    <tr>\n",
       "      <th>0</th>\n",
       "      <td>McHenry</td>\n",
       "      <td>POLYGON ((-88.70742 42.49352, -88.70741 42.493...</td>\n",
       "      <td>McHenry</td>\n",
       "      <td>2,4,6,8,11,12,12,14,19,27,45,47,52,52,63,69,81...</td>\n",
       "      <td>2020-03-17</td>\n",
       "      <td>1123</td>\n",
       "      <td>40</td>\n",
       "      <td>0,0,0,0,0,0,0,0,0,1,1,2,2,2,2,2,3,3,3,3,3,4,5,...</td>\n",
       "      <td>2020-03-26</td>\n",
       "      <td>62</td>\n",
       "      <td>5</td>\n",
       "      <td>7054</td>\n",
       "      <td>252</td>\n",
       "      <td>2020-03-17</td>\n",
       "      <td>2020-05-15</td>\n",
       "      <td>day</td>\n",
       "      <td>1</td>\n",
       "    </tr>\n",
       "    <tr>\n",
       "      <th>1</th>\n",
       "      <td>Boone</td>\n",
       "      <td>POLYGON ((-88.70742 42.49352, -88.70750 42.493...</td>\n",
       "      <td>Boone</td>\n",
       "      <td>0,0,0,0,0,0,0,0,0,0,0,0,0,0,0,0,0,0,0,3,4,6,7,...</td>\n",
       "      <td>2020-04-05</td>\n",
       "      <td>274</td>\n",
       "      <td>6</td>\n",
       "      <td>0,0,0,0,0,0,0,0,0,0,0,0,0,0,0,0,0,0,0,0,0,0,1,...</td>\n",
       "      <td>2020-04-08</td>\n",
       "      <td>14</td>\n",
       "      <td>1</td>\n",
       "      <td>1496</td>\n",
       "      <td>65</td>\n",
       "      <td>2020-03-17</td>\n",
       "      <td>2020-05-15</td>\n",
       "      <td>day</td>\n",
       "      <td>1</td>\n",
       "    </tr>\n",
       "    <tr>\n",
       "      <th>2</th>\n",
       "      <td>Ogle</td>\n",
       "      <td>POLYGON ((-89.68809 42.19950, -89.68807 42.184...</td>\n",
       "      <td>Ogle</td>\n",
       "      <td>0,0,0,0,0,0,0,0,0,0,0,0,0,0,1,1,1,1,4,5,7,10,1...</td>\n",
       "      <td>2020-03-31</td>\n",
       "      <td>165</td>\n",
       "      <td>2</td>\n",
       "      <td>0,0,0,0,0,0,0,0,0,0,0,0,0,0,0,0,0,0,0,0,0,0,0,...</td>\n",
       "      <td>2020-04-15</td>\n",
       "      <td>2</td>\n",
       "      <td>0</td>\n",
       "      <td>1677</td>\n",
       "      <td>63</td>\n",
       "      <td>2020-03-17</td>\n",
       "      <td>2020-05-15</td>\n",
       "      <td>day</td>\n",
       "      <td>1</td>\n",
       "    </tr>\n",
       "    <tr>\n",
       "      <th>3</th>\n",
       "      <td>Will</td>\n",
       "      <td>POLYGON ((-88.26146 41.72439, -88.26103 41.708...</td>\n",
       "      <td>Will</td>\n",
       "      <td>2,3,9,10,12,21,21,28,40,67,104,127,182,223,228...</td>\n",
       "      <td>2020-03-17</td>\n",
       "      <td>4277</td>\n",
       "      <td>187</td>\n",
       "      <td>0,0,0,1,1,1,1,1,2,3,3,4,4,5,8,9,8,10,11,12,19,...</td>\n",
       "      <td>2020-03-20</td>\n",
       "      <td>237</td>\n",
       "      <td>6</td>\n",
       "      <td>24074</td>\n",
       "      <td>1203</td>\n",
       "      <td>2020-03-17</td>\n",
       "      <td>2020-05-15</td>\n",
       "      <td>day</td>\n",
       "      <td>1</td>\n",
       "    </tr>\n",
       "    <tr>\n",
       "      <th>4</th>\n",
       "      <td>LaSalle</td>\n",
       "      <td>POLYGON ((-88.93885 41.62837, -88.93891 41.628...</td>\n",
       "      <td>LaSalle</td>\n",
       "      <td>0,0,1,1,1,1,1,3,3,3,3,3,4,5,5,6,6,6,7,8,11,12,...</td>\n",
       "      <td>2020-03-19</td>\n",
       "      <td>117</td>\n",
       "      <td>4</td>\n",
       "      <td>0,0,0,0,0,0,0,0,0,0,0,0,1,1,1,1,1,1,1,1,1,1,1,...</td>\n",
       "      <td>2020-03-29</td>\n",
       "      <td>7</td>\n",
       "      <td>2</td>\n",
       "      <td>2096</td>\n",
       "      <td>78</td>\n",
       "      <td>2020-03-17</td>\n",
       "      <td>2020-05-15</td>\n",
       "      <td>day</td>\n",
       "      <td>1</td>\n",
       "    </tr>\n",
       "    <tr>\n",
       "      <th>...</th>\n",
       "      <td>...</td>\n",
       "      <td>...</td>\n",
       "      <td>...</td>\n",
       "      <td>...</td>\n",
       "      <td>...</td>\n",
       "      <td>...</td>\n",
       "      <td>...</td>\n",
       "      <td>...</td>\n",
       "      <td>...</td>\n",
       "      <td>...</td>\n",
       "      <td>...</td>\n",
       "      <td>...</td>\n",
       "      <td>...</td>\n",
       "      <td>...</td>\n",
       "      <td>...</td>\n",
       "      <td>...</td>\n",
       "      <td>...</td>\n",
       "    </tr>\n",
       "    <tr>\n",
       "      <th>99</th>\n",
       "      <td>Marion</td>\n",
       "      <td>POLYGON ((-89.13844 38.73633, -89.13847 38.721...</td>\n",
       "      <td>Marion</td>\n",
       "      <td>0,0,0,0,0,0,0,0,0,0,0,0,0,2,2,2,2,3,3,3,3,3,4,...</td>\n",
       "      <td>2020-03-30</td>\n",
       "      <td>47</td>\n",
       "      <td>0</td>\n",
       "      <td>0,0,0,0,0,0,0,0,0,0,0,0,0,0,0,0,0,0,0,0,0,0,0,...</td>\n",
       "      <td>NaN</td>\n",
       "      <td>0</td>\n",
       "      <td>0</td>\n",
       "      <td>1000</td>\n",
       "      <td>40</td>\n",
       "      <td>2020-03-17</td>\n",
       "      <td>2020-05-15</td>\n",
       "      <td>day</td>\n",
       "      <td>1</td>\n",
       "    </tr>\n",
       "    <tr>\n",
       "      <th>100</th>\n",
       "      <td>Union</td>\n",
       "      <td>POLYGON ((-89.04143 37.59650, -89.06017 37.597...</td>\n",
       "      <td>Union</td>\n",
       "      <td>0,0,0,0,0,0,0,0,0,0,0,0,0,0,0,0,0,0,0,0,0,0,0,...</td>\n",
       "      <td>2020-04-15</td>\n",
       "      <td>117</td>\n",
       "      <td>4</td>\n",
       "      <td>0,0,0,0,0,0,0,0,0,0,0,0,0,0,0,0,0,0,0,0,0,0,0,...</td>\n",
       "      <td>2020-05-05</td>\n",
       "      <td>4</td>\n",
       "      <td>3</td>\n",
       "      <td>842</td>\n",
       "      <td>39</td>\n",
       "      <td>2020-03-17</td>\n",
       "      <td>2020-05-15</td>\n",
       "      <td>day</td>\n",
       "      <td>1</td>\n",
       "    </tr>\n",
       "    <tr>\n",
       "      <th>101</th>\n",
       "      <td>Pope</td>\n",
       "      <td>POLYGON ((-88.70860 37.59926, -88.70876 37.584...</td>\n",
       "      <td>Pope</td>\n",
       "      <td>0,0,0,0,0,0,0,0,0,0,0,0,0,0,0,0,0,0,0,0,0,0,0,...</td>\n",
       "      <td>2020-05-08</td>\n",
       "      <td>1</td>\n",
       "      <td>0</td>\n",
       "      <td>0,0,0,0,0,0,0,0,0,0,0,0,0,0,0,0,0,0,0,0,0,0,0,...</td>\n",
       "      <td>NaN</td>\n",
       "      <td>0</td>\n",
       "      <td>0</td>\n",
       "      <td>36</td>\n",
       "      <td>0</td>\n",
       "      <td>2020-03-17</td>\n",
       "      <td>2020-05-15</td>\n",
       "      <td>day</td>\n",
       "      <td>1</td>\n",
       "    </tr>\n",
       "    <tr>\n",
       "      <th>102</th>\n",
       "      <td>Chicago</td>\n",
       "      <td>MULTIPOLYGON (((-87.93514 42.00089, -87.93521 ...</td>\n",
       "      <td>Chicago</td>\n",
       "      <td>0,0,0,0,0,519,519,782,915,1161,1364,1610,2026,...</td>\n",
       "      <td>2020-03-22</td>\n",
       "      <td>35183</td>\n",
       "      <td>842</td>\n",
       "      <td>0,0,0,0,0,4,4,5,5,9,9,12,16,16,21,39,41,57,76,...</td>\n",
       "      <td>2020-03-22</td>\n",
       "      <td>1606</td>\n",
       "      <td>54</td>\n",
       "      <td>155725</td>\n",
       "      <td>7144</td>\n",
       "      <td>2020-03-17</td>\n",
       "      <td>2020-05-15</td>\n",
       "      <td>day</td>\n",
       "      <td>1</td>\n",
       "    </tr>\n",
       "    <tr>\n",
       "      <th>103</th>\n",
       "      <td>Illinois</td>\n",
       "      <td>POLYGON ((-89.64923 39.78269, -89.64923 39.779...</td>\n",
       "      <td>Illinois</td>\n",
       "      <td>160,288,422,585,753,1049,1049,1535,1865,2538,3...</td>\n",
       "      <td>2020-03-17</td>\n",
       "      <td>90369</td>\n",
       "      <td>2432</td>\n",
       "      <td>0,1,3,5,6,9,9,16,19,26,34,47,65,72,98,141,157,...</td>\n",
       "      <td>2020-03-18</td>\n",
       "      <td>4058</td>\n",
       "      <td>130</td>\n",
       "      <td>538602</td>\n",
       "      <td>26565</td>\n",
       "      <td>2020-03-17</td>\n",
       "      <td>2020-05-15</td>\n",
       "      <td>day</td>\n",
       "      <td>1</td>\n",
       "    </tr>\n",
       "  </tbody>\n",
       "</table>\n",
       "<p>104 rows × 17 columns</p>\n",
       "</div>"
      ],
      "text/plain": [
       "           id                                           geometry      NAME  \\\n",
       "0     McHenry  POLYGON ((-88.70742 42.49352, -88.70741 42.493...   McHenry   \n",
       "1       Boone  POLYGON ((-88.70742 42.49352, -88.70750 42.493...     Boone   \n",
       "2        Ogle  POLYGON ((-89.68809 42.19950, -89.68807 42.184...      Ogle   \n",
       "3        Will  POLYGON ((-88.26146 41.72439, -88.26103 41.708...      Will   \n",
       "4     LaSalle  POLYGON ((-88.93885 41.62837, -88.93891 41.628...   LaSalle   \n",
       "..        ...                                                ...       ...   \n",
       "99     Marion  POLYGON ((-89.13844 38.73633, -89.13847 38.721...    Marion   \n",
       "100     Union  POLYGON ((-89.04143 37.59650, -89.06017 37.597...     Union   \n",
       "101      Pope  POLYGON ((-88.70860 37.59926, -88.70876 37.584...      Pope   \n",
       "102   Chicago  MULTIPOLYGON (((-87.93514 42.00089, -87.93521 ...   Chicago   \n",
       "103  Illinois  POLYGON ((-89.64923 39.78269, -89.64923 39.779...  Illinois   \n",
       "\n",
       "                                              cases_ts dt_first_case  \\\n",
       "0    2,4,6,8,11,12,12,14,19,27,45,47,52,52,63,69,81...    2020-03-17   \n",
       "1    0,0,0,0,0,0,0,0,0,0,0,0,0,0,0,0,0,0,0,3,4,6,7,...    2020-04-05   \n",
       "2    0,0,0,0,0,0,0,0,0,0,0,0,0,0,1,1,1,1,4,5,7,10,1...    2020-03-31   \n",
       "3    2,3,9,10,12,21,21,28,40,67,104,127,182,223,228...    2020-03-17   \n",
       "4    0,0,1,1,1,1,1,3,3,3,3,3,4,5,5,6,6,6,7,8,11,12,...    2020-03-19   \n",
       "..                                                 ...           ...   \n",
       "99   0,0,0,0,0,0,0,0,0,0,0,0,0,2,2,2,2,3,3,3,3,3,4,...    2020-03-30   \n",
       "100  0,0,0,0,0,0,0,0,0,0,0,0,0,0,0,0,0,0,0,0,0,0,0,...    2020-04-15   \n",
       "101  0,0,0,0,0,0,0,0,0,0,0,0,0,0,0,0,0,0,0,0,0,0,0,...    2020-05-08   \n",
       "102  0,0,0,0,0,519,519,782,915,1161,1364,1610,2026,...    2020-03-22   \n",
       "103  160,288,422,585,753,1049,1049,1535,1865,2538,3...    2020-03-17   \n",
       "\n",
       "     today_case  today_new_case  \\\n",
       "0          1123              40   \n",
       "1           274               6   \n",
       "2           165               2   \n",
       "3          4277             187   \n",
       "4           117               4   \n",
       "..          ...             ...   \n",
       "99           47               0   \n",
       "100         117               4   \n",
       "101           1               0   \n",
       "102       35183             842   \n",
       "103       90369            2432   \n",
       "\n",
       "                                             deaths_ts dt_first_death  \\\n",
       "0    0,0,0,0,0,0,0,0,0,1,1,2,2,2,2,2,3,3,3,3,3,4,5,...     2020-03-26   \n",
       "1    0,0,0,0,0,0,0,0,0,0,0,0,0,0,0,0,0,0,0,0,0,0,1,...     2020-04-08   \n",
       "2    0,0,0,0,0,0,0,0,0,0,0,0,0,0,0,0,0,0,0,0,0,0,0,...     2020-04-15   \n",
       "3    0,0,0,1,1,1,1,1,2,3,3,4,4,5,8,9,8,10,11,12,19,...     2020-03-20   \n",
       "4    0,0,0,0,0,0,0,0,0,0,0,0,1,1,1,1,1,1,1,1,1,1,1,...     2020-03-29   \n",
       "..                                                 ...            ...   \n",
       "99   0,0,0,0,0,0,0,0,0,0,0,0,0,0,0,0,0,0,0,0,0,0,0,...            NaN   \n",
       "100  0,0,0,0,0,0,0,0,0,0,0,0,0,0,0,0,0,0,0,0,0,0,0,...     2020-05-05   \n",
       "101  0,0,0,0,0,0,0,0,0,0,0,0,0,0,0,0,0,0,0,0,0,0,0,...            NaN   \n",
       "102  0,0,0,0,0,4,4,5,5,9,9,12,16,16,21,39,41,57,76,...     2020-03-22   \n",
       "103  0,1,3,5,6,9,9,16,19,26,34,47,65,72,98,141,157,...     2020-03-18   \n",
       "\n",
       "     today_death  today_new_death  today_tested  today_new_tested    dt_start  \\\n",
       "0             62                5          7054               252  2020-03-17   \n",
       "1             14                1          1496                65  2020-03-17   \n",
       "2              2                0          1677                63  2020-03-17   \n",
       "3            237                6         24074              1203  2020-03-17   \n",
       "4              7                2          2096                78  2020-03-17   \n",
       "..           ...              ...           ...               ...         ...   \n",
       "99             0                0          1000                40  2020-03-17   \n",
       "100            4                3           842                39  2020-03-17   \n",
       "101            0                0            36                 0  2020-03-17   \n",
       "102         1606               54        155725              7144  2020-03-17   \n",
       "103         4058              130        538602             26565  2020-03-17   \n",
       "\n",
       "         dt_end dt_unit  population  \n",
       "0    2020-05-15     day           1  \n",
       "1    2020-05-15     day           1  \n",
       "2    2020-05-15     day           1  \n",
       "3    2020-05-15     day           1  \n",
       "4    2020-05-15     day           1  \n",
       "..          ...     ...         ...  \n",
       "99   2020-05-15     day           1  \n",
       "100  2020-05-15     day           1  \n",
       "101  2020-05-15     day           1  \n",
       "102  2020-05-15     day           1  \n",
       "103  2020-05-15     day           1  \n",
       "\n",
       "[104 rows x 17 columns]"
      ]
     },
     "execution_count": 69,
     "metadata": {},
     "output_type": "execute_result"
    }
   ],
   "source": [
    "county_final_gpd"
   ]
  },
  {
   "cell_type": "code",
   "execution_count": 70,
   "metadata": {},
   "outputs": [],
   "source": [
    "county_final_gpd['geometry'] = county_final_gpd.apply(lambda x: shapely.wkt.loads(shapely.wkt.dumps(x.geometry, rounding_precision=8)).simplify(0), axis = 1)"
   ]
  },
  {
   "cell_type": "code",
   "execution_count": 71,
   "metadata": {
    "pycharm": {
     "is_executing": false,
     "name": "#%%\n"
    }
   },
   "outputs": [
    {
     "name": "stdout",
     "output_type": "stream",
     "text": [
      "done\n"
     ]
    }
   ],
   "source": [
    "county_final_gpd.to_file('dph_county_data.geojson', driver='GeoJSON', encoding='utf-8')\n",
    "print('done')"
   ]
  }
 ],
 "metadata": {
  "kernelspec": {
   "display_name": "Python 3",
   "language": "python",
   "name": "python3"
  },
  "language_info": {
   "codemirror_mode": {
    "name": "ipython",
    "version": 3
   },
   "file_extension": ".py",
   "mimetype": "text/x-python",
   "name": "python",
   "nbconvert_exporter": "python",
   "pygments_lexer": "ipython3",
   "version": "3.7.7"
  },
  "pycharm": {
   "stem_cell": {
    "cell_type": "raw",
    "metadata": {
     "collapsed": false
    },
    "source": []
   }
  }
 },
 "nbformat": 4,
 "nbformat_minor": 1
}
