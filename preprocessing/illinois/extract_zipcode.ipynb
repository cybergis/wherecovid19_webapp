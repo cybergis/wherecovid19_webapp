{
 "cells": [
  {
   "cell_type": "markdown",
   "metadata": {
    "collapsed": true,
    "pycharm": {
     "name": "#%% md\n"
    }
   },
   "source": [
    "URL preparation"
   ]
  },
  {
   "cell_type": "code",
   "execution_count": 89,
   "metadata": {
    "pycharm": {
     "is_executing": false,
     "name": "#%%\n"
    }
   },
   "outputs": [],
   "source": [
    "# Geometry URL\n",
    "zipcode_geometry_url = \"http://www.dph.illinois.gov/sites/default/files/COVID19/il_illinois_zip_codes.json?nocache=1\"\n",
    "county_geometry_url = \"http://www.dph.illinois.gov/sites/default/files/Illinois_County_Geo_ch.json\""
   ]
  },
  {
   "cell_type": "code",
   "execution_count": 90,
   "metadata": {
    "pycharm": {
     "is_executing": false,
     "name": "#%%\n"
    }
   },
   "outputs": [],
   "source": [
    "import pandas as pd\n",
    "import json\n",
    "import numpy as np\n",
    "import geopandas as gpd\n",
    "from urllib.request import urlopen\n",
    "import shapely.wkt"
   ]
  },
  {
   "cell_type": "markdown",
   "metadata": {
    "pycharm": {
     "name": "#%% md\n"
    }
   },
   "source": [
    "Download data"
   ]
  },
  {
   "cell_type": "code",
   "execution_count": 91,
   "metadata": {
    "pycharm": {
     "is_executing": false,
     "name": "#%%\n"
    }
   },
   "outputs": [],
   "source": [
    "with open(\"./idph_COVIDZip.json\") as f:\n",
    "    zipcode_dict = json.load(f)\n",
    "    zipcode_data = pd.DataFrame(zipcode_dict['zip_values'])"
   ]
  },
  {
   "cell_type": "code",
   "execution_count": 92,
   "metadata": {
    "pycharm": {
     "is_executing": false,
     "name": "#%%\n"
    }
   },
   "outputs": [],
   "source": [
    "with open(\"./idph_COVIDHistoricalTestResults.json\") as f:\n",
    "    history_dict = json.load(f)"
   ]
  },
  {
   "cell_type": "code",
   "execution_count": 93,
   "metadata": {
    "pycharm": {
     "is_executing": true,
     "name": "#%%\n"
    }
   },
   "outputs": [],
   "source": [
    "zipcode_geometry = gpd.read_file(zipcode_geometry_url)\n",
    "county_geometry = gpd.read_file(county_geometry_url)"
   ]
  },
  {
   "cell_type": "code",
   "execution_count": 94,
   "metadata": {
    "pycharm": {
     "is_executing": true,
     "name": "#%%\n"
    }
   },
   "outputs": [],
   "source": [
    "with urlopen(zipcode_geometry_url) as response:\n",
    "    tmp = json.load(response)\n",
    "    zipcode_gpd = gpd.GeoDataFrame(tmp['features'])"
   ]
  },
  {
   "cell_type": "code",
   "execution_count": 95,
   "metadata": {
    "pycharm": {
     "is_executing": true,
     "name": "#%%    \n"
    }
   },
   "outputs": [],
   "source": [
    "zipcode_gpd['geometry'] = zipcode_geometry\n",
    "zipcode_gpd = zipcode_gpd[['id','geometry']]\n",
    "zipcode_gpd['id'] = zipcode_gpd['id'].astype(str)"
   ]
  },
  {
   "cell_type": "code",
   "execution_count": 96,
   "metadata": {
    "pycharm": {
     "is_executing": true
    }
   },
   "outputs": [
    {
     "data": {
      "text/html": [
       "<div>\n",
       "<style scoped>\n",
       "    .dataframe tbody tr th:only-of-type {\n",
       "        vertical-align: middle;\n",
       "    }\n",
       "\n",
       "    .dataframe tbody tr th {\n",
       "        vertical-align: top;\n",
       "    }\n",
       "\n",
       "    .dataframe thead th {\n",
       "        text-align: right;\n",
       "    }\n",
       "</style>\n",
       "<table border=\"1\" class=\"dataframe\">\n",
       "  <thead>\n",
       "    <tr style=\"text-align: right;\">\n",
       "      <th></th>\n",
       "      <th>id</th>\n",
       "      <th>OBJECTID</th>\n",
       "      <th>County</th>\n",
       "      <th>Percent_1</th>\n",
       "      <th>Shape__Area</th>\n",
       "      <th>Shape__Length</th>\n",
       "      <th>geometry</th>\n",
       "    </tr>\n",
       "  </thead>\n",
       "  <tbody>\n",
       "    <tr>\n",
       "      <th>0</th>\n",
       "      <td>McHenry</td>\n",
       "      <td>1</td>\n",
       "      <td>McHenry County</td>\n",
       "      <td>27.7</td>\n",
       "      <td>17027625788.537001</td>\n",
       "      <td>522324.30501520802</td>\n",
       "      <td>POLYGON ((-88.70742 42.49352, -88.70741 42.493...</td>\n",
       "    </tr>\n",
       "    <tr>\n",
       "      <th>1</th>\n",
       "      <td>Boone</td>\n",
       "      <td>2</td>\n",
       "      <td>Boone County</td>\n",
       "      <td>33.7</td>\n",
       "      <td>7862723082.6885996</td>\n",
       "      <td>375171.14457663603</td>\n",
       "      <td>POLYGON ((-88.70742 42.49352, -88.70750 42.493...</td>\n",
       "    </tr>\n",
       "    <tr>\n",
       "      <th>2</th>\n",
       "      <td>Ogle</td>\n",
       "      <td>3</td>\n",
       "      <td>Ogle County</td>\n",
       "      <td>31.2</td>\n",
       "      <td>21284584781.1903</td>\n",
       "      <td>651729.42136120505</td>\n",
       "      <td>POLYGON ((-89.68809 42.19950, -89.68807 42.184...</td>\n",
       "    </tr>\n",
       "    <tr>\n",
       "      <th>3</th>\n",
       "      <td>Will</td>\n",
       "      <td>4</td>\n",
       "      <td>Will County</td>\n",
       "      <td>28.0</td>\n",
       "      <td>23669428994.175301</td>\n",
       "      <td>779085.21483073698</td>\n",
       "      <td>POLYGON ((-88.26146 41.72439, -88.26103 41.708...</td>\n",
       "    </tr>\n",
       "    <tr>\n",
       "      <th>4</th>\n",
       "      <td>LaSalle</td>\n",
       "      <td>5</td>\n",
       "      <td>LaSalle County</td>\n",
       "      <td>27.1</td>\n",
       "      <td>32008439057.989899</td>\n",
       "      <td>825360.16391267197</td>\n",
       "      <td>POLYGON ((-88.93885 41.62837, -88.93891 41.628...</td>\n",
       "    </tr>\n",
       "    <tr>\n",
       "      <th>...</th>\n",
       "      <td>...</td>\n",
       "      <td>...</td>\n",
       "      <td>...</td>\n",
       "      <td>...</td>\n",
       "      <td>...</td>\n",
       "      <td>...</td>\n",
       "      <td>...</td>\n",
       "    </tr>\n",
       "    <tr>\n",
       "      <th>98</th>\n",
       "      <td>Lawrence</td>\n",
       "      <td>99</td>\n",
       "      <td>Lawrence County</td>\n",
       "      <td>28.9</td>\n",
       "      <td>10426836159.952499</td>\n",
       "      <td>442943.67976590397</td>\n",
       "      <td>POLYGON ((-87.90806 38.85013, -87.90819 38.835...</td>\n",
       "    </tr>\n",
       "    <tr>\n",
       "      <th>99</th>\n",
       "      <td>Marion</td>\n",
       "      <td>100</td>\n",
       "      <td>Marion County</td>\n",
       "      <td>33.5</td>\n",
       "      <td>16056558800.8808</td>\n",
       "      <td>509529.79577371402</td>\n",
       "      <td>POLYGON ((-89.13844 38.73633, -89.13847 38.721...</td>\n",
       "    </tr>\n",
       "    <tr>\n",
       "      <th>100</th>\n",
       "      <td>Union</td>\n",
       "      <td>101</td>\n",
       "      <td>Union County</td>\n",
       "      <td>28.2</td>\n",
       "      <td>11769540678.443001</td>\n",
       "      <td>489617.64749037399</td>\n",
       "      <td>POLYGON ((-89.04143 37.59650, -89.06017 37.597...</td>\n",
       "    </tr>\n",
       "    <tr>\n",
       "      <th>101</th>\n",
       "      <td>Pope</td>\n",
       "      <td>102</td>\n",
       "      <td>Pope County</td>\n",
       "      <td>29.5</td>\n",
       "      <td>10432553057.307899</td>\n",
       "      <td>537878.380730576</td>\n",
       "      <td>POLYGON ((-88.70860 37.59926, -88.70876 37.584...</td>\n",
       "    </tr>\n",
       "    <tr>\n",
       "      <th>102</th>\n",
       "      <td>Chicago</td>\n",
       "      <td>103</td>\n",
       "      <td>Chicago</td>\n",
       "      <td>28.2</td>\n",
       "      <td>6450276623.31</td>\n",
       "      <td>845282.931362</td>\n",
       "      <td>MULTIPOLYGON (((-87.93514 42.00089, -87.93521 ...</td>\n",
       "    </tr>\n",
       "  </tbody>\n",
       "</table>\n",
       "<p>103 rows × 7 columns</p>\n",
       "</div>"
      ],
      "text/plain": [
       "           id OBJECTID           County  Percent_1         Shape__Area  \\\n",
       "0     McHenry        1   McHenry County       27.7  17027625788.537001   \n",
       "1       Boone        2     Boone County       33.7  7862723082.6885996   \n",
       "2        Ogle        3      Ogle County       31.2    21284584781.1903   \n",
       "3        Will        4      Will County       28.0  23669428994.175301   \n",
       "4     LaSalle        5   LaSalle County       27.1  32008439057.989899   \n",
       "..        ...      ...              ...        ...                 ...   \n",
       "98   Lawrence       99  Lawrence County       28.9  10426836159.952499   \n",
       "99     Marion      100    Marion County       33.5    16056558800.8808   \n",
       "100     Union      101     Union County       28.2  11769540678.443001   \n",
       "101      Pope      102      Pope County       29.5  10432553057.307899   \n",
       "102   Chicago      103          Chicago       28.2       6450276623.31   \n",
       "\n",
       "          Shape__Length                                           geometry  \n",
       "0    522324.30501520802  POLYGON ((-88.70742 42.49352, -88.70741 42.493...  \n",
       "1    375171.14457663603  POLYGON ((-88.70742 42.49352, -88.70750 42.493...  \n",
       "2    651729.42136120505  POLYGON ((-89.68809 42.19950, -89.68807 42.184...  \n",
       "3    779085.21483073698  POLYGON ((-88.26146 41.72439, -88.26103 41.708...  \n",
       "4    825360.16391267197  POLYGON ((-88.93885 41.62837, -88.93891 41.628...  \n",
       "..                  ...                                                ...  \n",
       "98   442943.67976590397  POLYGON ((-87.90806 38.85013, -87.90819 38.835...  \n",
       "99   509529.79577371402  POLYGON ((-89.13844 38.73633, -89.13847 38.721...  \n",
       "100  489617.64749037399  POLYGON ((-89.04143 37.59650, -89.06017 37.597...  \n",
       "101    537878.380730576  POLYGON ((-88.70860 37.59926, -88.70876 37.584...  \n",
       "102       845282.931362  MULTIPOLYGON (((-87.93514 42.00089, -87.93521 ...  \n",
       "\n",
       "[103 rows x 7 columns]"
      ]
     },
     "execution_count": 96,
     "metadata": {},
     "output_type": "execute_result"
    }
   ],
   "source": [
    "county_geometry"
   ]
  },
  {
   "cell_type": "code",
   "execution_count": 97,
   "metadata": {
    "pycharm": {
     "is_executing": true,
     "name": "#%%\n"
    }
   },
   "outputs": [],
   "source": [
    "county_gpd = county_geometry[['id','geometry']]"
   ]
  },
  {
   "cell_type": "code",
   "execution_count": 98,
   "metadata": {
    "pycharm": {
     "is_executing": true
    }
   },
   "outputs": [],
   "source": [
    "polygon1 = shapely.wkt.loads('POLYGON ((-89.6536529004544 39.7828177522233, -89.6536529004544 39.7799814663649, -89.64987635016143 39.7799814663649, -89.64987635016143 39.7828177522233, -89.6536529004544 39.7828177522233))')\n",
    "polygon2 = shapely.wkt.loads('POLYGON ((-89.64923261999786 39.78268583454302, -89.64923261999786 39.7799814663649, -89.64575647711456 39.7799814663649, -89.64575647711456 39.78268583454302, -89.64923261999786 39.78268583454302))')"
   ]
  },
  {
   "cell_type": "code",
   "execution_count": 99,
   "metadata": {
    "pycharm": {
     "is_executing": true
    }
   },
   "outputs": [],
   "source": [
    "# county_gpd_dynamic = county_gpd.append([{'id':\"Out Of State\", 'geometry':polygon1}], ignore_index=True)\n",
    "# county_gpd_dynamic = county_gpd_dynamic.append([{'id':\"Unassigned\", 'geometry':polygon2}], ignore_index=True)\n",
    "county_gpd_dynamic = county_gpd.append([{'id':\"Illinois\", 'geometry':polygon2}], ignore_index=True)"
   ]
  },
  {
   "cell_type": "code",
   "execution_count": 100,
   "metadata": {
    "pycharm": {
     "is_executing": true
    }
   },
   "outputs": [
    {
     "data": {
      "text/html": [
       "<div>\n",
       "<style scoped>\n",
       "    .dataframe tbody tr th:only-of-type {\n",
       "        vertical-align: middle;\n",
       "    }\n",
       "\n",
       "    .dataframe tbody tr th {\n",
       "        vertical-align: top;\n",
       "    }\n",
       "\n",
       "    .dataframe thead th {\n",
       "        text-align: right;\n",
       "    }\n",
       "</style>\n",
       "<table border=\"1\" class=\"dataframe\">\n",
       "  <thead>\n",
       "    <tr style=\"text-align: right;\">\n",
       "      <th></th>\n",
       "      <th>id</th>\n",
       "      <th>geometry</th>\n",
       "    </tr>\n",
       "  </thead>\n",
       "  <tbody>\n",
       "    <tr>\n",
       "      <th>0</th>\n",
       "      <td>McHenry</td>\n",
       "      <td>POLYGON ((-88.70742 42.49352, -88.70741 42.493...</td>\n",
       "    </tr>\n",
       "    <tr>\n",
       "      <th>1</th>\n",
       "      <td>Boone</td>\n",
       "      <td>POLYGON ((-88.70742 42.49352, -88.70750 42.493...</td>\n",
       "    </tr>\n",
       "    <tr>\n",
       "      <th>2</th>\n",
       "      <td>Ogle</td>\n",
       "      <td>POLYGON ((-89.68809 42.19950, -89.68807 42.184...</td>\n",
       "    </tr>\n",
       "    <tr>\n",
       "      <th>3</th>\n",
       "      <td>Will</td>\n",
       "      <td>POLYGON ((-88.26146 41.72439, -88.26103 41.708...</td>\n",
       "    </tr>\n",
       "    <tr>\n",
       "      <th>4</th>\n",
       "      <td>LaSalle</td>\n",
       "      <td>POLYGON ((-88.93885 41.62837, -88.93891 41.628...</td>\n",
       "    </tr>\n",
       "    <tr>\n",
       "      <th>...</th>\n",
       "      <td>...</td>\n",
       "      <td>...</td>\n",
       "    </tr>\n",
       "    <tr>\n",
       "      <th>99</th>\n",
       "      <td>Marion</td>\n",
       "      <td>POLYGON ((-89.13844 38.73633, -89.13847 38.721...</td>\n",
       "    </tr>\n",
       "    <tr>\n",
       "      <th>100</th>\n",
       "      <td>Union</td>\n",
       "      <td>POLYGON ((-89.04143 37.59650, -89.06017 37.597...</td>\n",
       "    </tr>\n",
       "    <tr>\n",
       "      <th>101</th>\n",
       "      <td>Pope</td>\n",
       "      <td>POLYGON ((-88.70860 37.59926, -88.70876 37.584...</td>\n",
       "    </tr>\n",
       "    <tr>\n",
       "      <th>102</th>\n",
       "      <td>Chicago</td>\n",
       "      <td>MULTIPOLYGON (((-87.93514 42.00089, -87.93521 ...</td>\n",
       "    </tr>\n",
       "    <tr>\n",
       "      <th>103</th>\n",
       "      <td>Illinois</td>\n",
       "      <td>POLYGON ((-89.64923 39.78269, -89.64923 39.779...</td>\n",
       "    </tr>\n",
       "  </tbody>\n",
       "</table>\n",
       "<p>104 rows × 2 columns</p>\n",
       "</div>"
      ],
      "text/plain": [
       "           id                                           geometry\n",
       "0     McHenry  POLYGON ((-88.70742 42.49352, -88.70741 42.493...\n",
       "1       Boone  POLYGON ((-88.70742 42.49352, -88.70750 42.493...\n",
       "2        Ogle  POLYGON ((-89.68809 42.19950, -89.68807 42.184...\n",
       "3        Will  POLYGON ((-88.26146 41.72439, -88.26103 41.708...\n",
       "4     LaSalle  POLYGON ((-88.93885 41.62837, -88.93891 41.628...\n",
       "..        ...                                                ...\n",
       "99     Marion  POLYGON ((-89.13844 38.73633, -89.13847 38.721...\n",
       "100     Union  POLYGON ((-89.04143 37.59650, -89.06017 37.597...\n",
       "101      Pope  POLYGON ((-88.70860 37.59926, -88.70876 37.584...\n",
       "102   Chicago  MULTIPOLYGON (((-87.93514 42.00089, -87.93521 ...\n",
       "103  Illinois  POLYGON ((-89.64923 39.78269, -89.64923 39.779...\n",
       "\n",
       "[104 rows x 2 columns]"
      ]
     },
     "execution_count": 100,
     "metadata": {},
     "output_type": "execute_result"
    }
   ],
   "source": [
    "county_gpd_dynamic"
   ]
  },
  {
   "cell_type": "markdown",
   "metadata": {
    "pycharm": {
     "is_executing": false,
     "name": "#%% md\n"
    }
   },
   "source": [
    "Zipcode Data generation"
   ]
  },
  {
   "cell_type": "code",
   "execution_count": 101,
   "metadata": {
    "pycharm": {
     "is_executing": true,
     "name": "#%%\n"
    }
   },
   "outputs": [
    {
     "data": {
      "text/html": [
       "<div>\n",
       "<style scoped>\n",
       "    .dataframe tbody tr th:only-of-type {\n",
       "        vertical-align: middle;\n",
       "    }\n",
       "\n",
       "    .dataframe tbody tr th {\n",
       "        vertical-align: top;\n",
       "    }\n",
       "\n",
       "    .dataframe thead th {\n",
       "        text-align: right;\n",
       "    }\n",
       "</style>\n",
       "<table border=\"1\" class=\"dataframe\">\n",
       "  <thead>\n",
       "    <tr style=\"text-align: right;\">\n",
       "      <th></th>\n",
       "      <th>zip</th>\n",
       "      <th>confirmed_cases</th>\n",
       "      <th>total_tested</th>\n",
       "      <th>demographics</th>\n",
       "    </tr>\n",
       "  </thead>\n",
       "  <tbody>\n",
       "    <tr>\n",
       "      <th>0</th>\n",
       "      <td>60002</td>\n",
       "      <td>118</td>\n",
       "      <td>1569</td>\n",
       "      <td>{'age': [{'age_group': 'Unknown', 'count': 0, ...</td>\n",
       "    </tr>\n",
       "    <tr>\n",
       "      <th>1</th>\n",
       "      <td>60004</td>\n",
       "      <td>371</td>\n",
       "      <td>7732</td>\n",
       "      <td>{'age': [{'age_group': 'Unknown', 'count': 0, ...</td>\n",
       "    </tr>\n",
       "    <tr>\n",
       "      <th>2</th>\n",
       "      <td>60005</td>\n",
       "      <td>218</td>\n",
       "      <td>3683</td>\n",
       "      <td>{'age': [{'age_group': 'Unknown', 'count': 0, ...</td>\n",
       "    </tr>\n",
       "    <tr>\n",
       "      <th>3</th>\n",
       "      <td>60007</td>\n",
       "      <td>373</td>\n",
       "      <td>3316</td>\n",
       "      <td>{'age': [{'age_group': 'Unknown', 'count': 0, ...</td>\n",
       "    </tr>\n",
       "    <tr>\n",
       "      <th>4</th>\n",
       "      <td>60008</td>\n",
       "      <td>353</td>\n",
       "      <td>3914</td>\n",
       "      <td>{'age': [{'age_group': 'Unknown', 'count': 0, ...</td>\n",
       "    </tr>\n",
       "    <tr>\n",
       "      <th>...</th>\n",
       "      <td>...</td>\n",
       "      <td>...</td>\n",
       "      <td>...</td>\n",
       "      <td>...</td>\n",
       "    </tr>\n",
       "    <tr>\n",
       "      <th>580</th>\n",
       "      <td>62952</td>\n",
       "      <td>13</td>\n",
       "      <td>285</td>\n",
       "      <td>{'age': [{'age_group': 'Unknown', 'count': 0, ...</td>\n",
       "    </tr>\n",
       "    <tr>\n",
       "      <th>581</th>\n",
       "      <td>62959</td>\n",
       "      <td>51</td>\n",
       "      <td>2822</td>\n",
       "      <td>{'age': [{'age_group': 'Unknown', 'count': 0, ...</td>\n",
       "    </tr>\n",
       "    <tr>\n",
       "      <th>582</th>\n",
       "      <td>62960</td>\n",
       "      <td>8</td>\n",
       "      <td>793</td>\n",
       "      <td>{'age': [{'age_group': 'Unknown', 'count': 0, ...</td>\n",
       "    </tr>\n",
       "    <tr>\n",
       "      <th>583</th>\n",
       "      <td>62966</td>\n",
       "      <td>104</td>\n",
       "      <td>1521</td>\n",
       "      <td>{'age': [{'age_group': 'Unknown', 'count': 0, ...</td>\n",
       "    </tr>\n",
       "    <tr>\n",
       "      <th>584</th>\n",
       "      <td>62992</td>\n",
       "      <td>59</td>\n",
       "      <td>235</td>\n",
       "      <td>{'age': [{'age_group': 'Unknown', 'count': 0, ...</td>\n",
       "    </tr>\n",
       "  </tbody>\n",
       "</table>\n",
       "<p>585 rows × 4 columns</p>\n",
       "</div>"
      ],
      "text/plain": [
       "       zip  confirmed_cases  total_tested  \\\n",
       "0    60002              118          1569   \n",
       "1    60004              371          7732   \n",
       "2    60005              218          3683   \n",
       "3    60007              373          3316   \n",
       "4    60008              353          3914   \n",
       "..     ...              ...           ...   \n",
       "580  62952               13           285   \n",
       "581  62959               51          2822   \n",
       "582  62960                8           793   \n",
       "583  62966              104          1521   \n",
       "584  62992               59           235   \n",
       "\n",
       "                                          demographics  \n",
       "0    {'age': [{'age_group': 'Unknown', 'count': 0, ...  \n",
       "1    {'age': [{'age_group': 'Unknown', 'count': 0, ...  \n",
       "2    {'age': [{'age_group': 'Unknown', 'count': 0, ...  \n",
       "3    {'age': [{'age_group': 'Unknown', 'count': 0, ...  \n",
       "4    {'age': [{'age_group': 'Unknown', 'count': 0, ...  \n",
       "..                                                 ...  \n",
       "580  {'age': [{'age_group': 'Unknown', 'count': 0, ...  \n",
       "581  {'age': [{'age_group': 'Unknown', 'count': 0, ...  \n",
       "582  {'age': [{'age_group': 'Unknown', 'count': 0, ...  \n",
       "583  {'age': [{'age_group': 'Unknown', 'count': 0, ...  \n",
       "584  {'age': [{'age_group': 'Unknown', 'count': 0, ...  \n",
       "\n",
       "[585 rows x 4 columns]"
      ]
     },
     "execution_count": 101,
     "metadata": {},
     "output_type": "execute_result"
    }
   ],
   "source": [
    "zipcode_data"
   ]
  },
  {
   "cell_type": "code",
   "execution_count": 102,
   "metadata": {
    "pycharm": {
     "is_executing": true,
     "name": "#%%\n"
    }
   },
   "outputs": [
    {
     "data": {
      "text/plain": [
       "id            object\n",
       "geometry    geometry\n",
       "dtype: object"
      ]
     },
     "execution_count": 102,
     "metadata": {},
     "output_type": "execute_result"
    }
   ],
   "source": [
    "zipcode_gpd.dtypes"
   ]
  },
  {
   "cell_type": "code",
   "execution_count": 103,
   "metadata": {
    "pycharm": {
     "is_executing": true,
     "name": "#%%\n"
    }
   },
   "outputs": [],
   "source": [
    "zipcode_final_gpd = pd.merge(zipcode_gpd,zipcode_data, how = 'left', left_on=['id'], right_on=['zip'])"
   ]
  },
  {
   "cell_type": "code",
   "execution_count": 104,
   "metadata": {
    "pycharm": {
     "is_executing": true,
     "name": "#%%\n"
    }
   },
   "outputs": [],
   "source": [
    "zipcode_final_gpd['confirmed_cases'] = zipcode_final_gpd['confirmed_cases'].replace(np.nan,0)\n",
    "zipcode_final_gpd['total_tested'] = zipcode_final_gpd['total_tested'].replace(np.nan,0)\n",
    "zipcode_final_gpd = zipcode_final_gpd[['id','confirmed_cases','total_tested','geometry']]"
   ]
  },
  {
   "cell_type": "code",
   "execution_count": 105,
   "metadata": {
    "pycharm": {
     "is_executing": true,
     "name": "#%%\n"
    }
   },
   "outputs": [
    {
     "name": "stdout",
     "output_type": "stream",
     "text": [
      "done\n"
     ]
    }
   ],
   "source": [
    "zipcode_final_gpd.to_file('dph_zipcode_data.geojson', driver='GeoJSON', encoding='utf-8')\n",
    "print('done')"
   ]
  },
  {
   "cell_type": "markdown",
   "metadata": {
    "pycharm": {
     "name": "#%% md\n"
    }
   },
   "source": [
    "County Data generation\n"
   ]
  },
  {
   "cell_type": "code",
   "execution_count": 106,
   "metadata": {
    "pycharm": {
     "is_executing": true,
     "name": "#%%\n"
    }
   },
   "outputs": [
    {
     "name": "stdout",
     "output_type": "stream",
     "text": [
      "7/5/2020\n",
      "7/4/2020\n",
      "7/3/2020\n",
      "7/2/2020\n",
      "7/1/2020\n",
      "6/30/2020\n",
      "6/29/2020\n",
      "6/28/2020\n",
      "6/27/2020\n",
      "6/26/2020\n",
      "6/25/2020\n",
      "6/24/2020\n",
      "6/23/2020\n",
      "6/22/2020\n",
      "6/21/2020\n",
      "6/20/2020\n",
      "6/19/2020\n",
      "6/18/2020\n",
      "6/17/2020\n",
      "6/16/2020\n",
      "6/15/2020\n",
      "6/14/2020\n",
      "6/13/2020\n",
      "6/12/2020\n",
      "6/11/2020\n",
      "6/10/2020\n",
      "6/9/2020\n",
      "6/8/2020\n",
      "6/7/2020\n",
      "6/6/2020\n",
      "6/5/2020\n",
      "6/4/2020\n",
      "6/3/2020\n",
      "6/2/2020\n",
      "6/1/2020\n",
      "5/31/2020\n",
      "5/30/2020\n",
      "5/29/2020\n",
      "5/28/2020\n",
      "5/27/2020\n",
      "5/26/2020\n",
      "5/25/2020\n",
      "5/24/2020\n",
      "5/23/2020\n",
      "5/22/2020\n",
      "5/21/2020\n",
      "5/20/2020\n",
      "5/19/2020\n",
      "5/18/2020\n",
      "5/17/2020\n",
      "5/16/2020\n",
      "5/15/2020\n",
      "5/14/2020\n",
      "5/13/2020\n",
      "5/12/2020\n",
      "5/11/2020\n",
      "5/10/2020\n",
      "5/9/2020\n",
      "5/8/2020\n",
      "5/7/2020\n",
      "5/6/2020\n",
      "5/5/2020\n",
      "5/4/2020\n",
      "5/3/2020\n",
      "5/2/2020\n",
      "5/1/2020\n",
      "4/30/2020\n",
      "4/29/2020\n",
      "4/28/2020\n",
      "4/27/2020\n",
      "4/26/2020\n",
      "4/25/2020\n",
      "4/24/2020\n",
      "4/23/2020\n",
      "4/22/2020\n",
      "4/21/2020\n",
      "4/20/2020\n",
      "4/19/2020\n",
      "4/18/2020\n",
      "4/17/2020\n",
      "4/16/2020\n",
      "4/15/2020\n",
      "4/14/2020\n",
      "4/13/2020\n",
      "4/12/2020\n",
      "4/11/2020\n",
      "4/11/2020\n",
      "4/10/2020\n",
      "4/9/2020\n",
      "4/8/2020\n",
      "4/7/2020\n",
      "4/6/2020\n",
      "4/5/2020\n",
      "4/4/2020\n",
      "4/3/2020\n",
      "4/2/2020\n",
      "4/1/2020\n",
      "3/31/2020\n",
      "3/30/2020\n",
      "3/29/2020\n",
      "3/28/2020\n",
      "3/27/2020\n",
      "3/26/2020\n",
      "3/25/2020\n",
      "3/24/2020\n",
      "3/22/2020\n",
      "3/21/2020\n",
      "3/20/2020\n",
      "3/19/2020\n",
      "3/18/2020\n",
      "3/17/2020\n"
     ]
    }
   ],
   "source": [
    "# transform to new york times format\n",
    "county_history = pd.DataFrame(history_dict['historical_county']['values'])\n",
    "l = []\n",
    "for case in history_dict['historical_county']['values']:\n",
    "    if 'testDate' in case:\n",
    "        testDate = case['testDate']\n",
    "    else:\n",
    "        # Exception for 7/3/2020\n",
    "        testDate = case['testdate']\n",
    "    print(testDate)\n",
    "    values = case['values']\n",
    "    for x in values:\n",
    "        x['date'] = testDate\n",
    "        l.append(x)\n",
    "county_history = pd.DataFrame(l)"
   ]
  },
  {
   "cell_type": "code",
   "execution_count": 107,
   "metadata": {
    "pycharm": {
     "is_executing": true,
     "name": "#%%\n"
    }
   },
   "outputs": [],
   "source": [
    "# eliminate unassigned data\n",
    "county_history = county_history[county_history['County'] != 'Unassigned']"
   ]
  },
  {
   "cell_type": "code",
   "execution_count": 108,
   "metadata": {
    "pycharm": {
     "is_executing": true,
     "name": "#%%\n"
    }
   },
   "outputs": [],
   "source": [
    "def standardDate(str):\n",
    "    l = str.split('/')\n",
    "    month = l[0]\n",
    "    day = l[1]\n",
    "    year = l[2]\n",
    "    if len(month) < 2:\n",
    "        month = '0' + month\n",
    "    if len(day) < 2:\n",
    "        day = '0' + day\n",
    "    return year + '-' + month + '-' + day"
   ]
  },
  {
   "cell_type": "code",
   "execution_count": 109,
   "metadata": {
    "pycharm": {
     "is_executing": true,
     "name": "#%%\n"
    }
   },
   "outputs": [],
   "source": [
    "# pivot table\n",
    "county_pivot = pd.pivot_table(county_history, index=['County'],columns=['date'])\n",
    "county_pivot = county_pivot.replace(np.nan, 0).astype(int)"
   ]
  },
  {
   "cell_type": "code",
   "execution_count": 110,
   "metadata": {
    "pycharm": {
     "is_executing": true,
     "name": "#%%\n"
    }
   },
   "outputs": [
    {
     "data": {
      "text/plain": [
       "date\n",
       "3/17/2020    0\n",
       "3/18/2020    0\n",
       "3/19/2020    0\n",
       "3/20/2020    0\n",
       "3/21/2020    0\n",
       "            ..\n",
       "7/1/2020     1\n",
       "7/2/2020     1\n",
       "7/3/2020     1\n",
       "7/4/2020     1\n",
       "7/5/2020     1\n",
       "Name: Bond, Length: 110, dtype: int64"
      ]
     },
     "execution_count": 110,
     "metadata": {},
     "output_type": "execute_result"
    }
   ],
   "source": [
    "county_pivot['deaths'].iloc[2]"
   ]
  },
  {
   "cell_type": "code",
   "execution_count": 111,
   "metadata": {
    "pycharm": {
     "is_executing": true,
     "name": "#%%\n"
    }
   },
   "outputs": [],
   "source": [
    "# Standardized Date Format\n",
    "county_cases = county_pivot['confirmed_cases']\n",
    "county_deaths = county_pivot['deaths']\n",
    "county_tested = county_pivot['total_tested']"
   ]
  },
  {
   "cell_type": "code",
   "execution_count": 112,
   "metadata": {
    "pycharm": {
     "is_executing": true,
     "name": "#%%\n"
    }
   },
   "outputs": [],
   "source": [
    "county_cases = county_cases.rename(columns=standardDate)\n",
    "county_deaths = county_deaths.rename(columns=standardDate)\n",
    "county_tested = county_tested.rename(columns=standardDate)"
   ]
  },
  {
   "cell_type": "code",
   "execution_count": 113,
   "metadata": {
    "pycharm": {
     "is_executing": true,
     "name": "#%%\n"
    }
   },
   "outputs": [],
   "source": [
    "# Add missing 03/23 data with 03/22\n",
    "county_cases['2020-03-23'] = county_cases['2020-03-22']\n",
    "county_deaths['2020-03-23'] = county_deaths['2020-03-22']\n",
    "county_tested['2020-03-23'] = county_tested['2020-03-22']"
   ]
  },
  {
   "cell_type": "code",
   "execution_count": 114,
   "metadata": {
    "pycharm": {
     "is_executing": true,
     "name": "#%%\n"
    }
   },
   "outputs": [
    {
     "data": {
      "text/html": [
       "<div>\n",
       "<style scoped>\n",
       "    .dataframe tbody tr th:only-of-type {\n",
       "        vertical-align: middle;\n",
       "    }\n",
       "\n",
       "    .dataframe tbody tr th {\n",
       "        vertical-align: top;\n",
       "    }\n",
       "\n",
       "    .dataframe thead th {\n",
       "        text-align: right;\n",
       "    }\n",
       "</style>\n",
       "<table border=\"1\" class=\"dataframe\">\n",
       "  <thead>\n",
       "    <tr style=\"text-align: right;\">\n",
       "      <th>date</th>\n",
       "      <th>2020-03-17</th>\n",
       "      <th>2020-03-18</th>\n",
       "      <th>2020-03-19</th>\n",
       "      <th>2020-03-20</th>\n",
       "      <th>2020-03-21</th>\n",
       "      <th>2020-03-22</th>\n",
       "      <th>2020-03-24</th>\n",
       "      <th>2020-03-25</th>\n",
       "      <th>2020-03-26</th>\n",
       "      <th>2020-03-27</th>\n",
       "      <th>...</th>\n",
       "      <th>2020-06-06</th>\n",
       "      <th>2020-06-07</th>\n",
       "      <th>2020-06-08</th>\n",
       "      <th>2020-06-09</th>\n",
       "      <th>2020-07-01</th>\n",
       "      <th>2020-07-02</th>\n",
       "      <th>2020-07-03</th>\n",
       "      <th>2020-07-04</th>\n",
       "      <th>2020-07-05</th>\n",
       "      <th>2020-03-23</th>\n",
       "    </tr>\n",
       "    <tr>\n",
       "      <th>County</th>\n",
       "      <th></th>\n",
       "      <th></th>\n",
       "      <th></th>\n",
       "      <th></th>\n",
       "      <th></th>\n",
       "      <th></th>\n",
       "      <th></th>\n",
       "      <th></th>\n",
       "      <th></th>\n",
       "      <th></th>\n",
       "      <th></th>\n",
       "      <th></th>\n",
       "      <th></th>\n",
       "      <th></th>\n",
       "      <th></th>\n",
       "      <th></th>\n",
       "      <th></th>\n",
       "      <th></th>\n",
       "      <th></th>\n",
       "      <th></th>\n",
       "      <th></th>\n",
       "    </tr>\n",
       "  </thead>\n",
       "  <tbody>\n",
       "    <tr>\n",
       "      <th>Adams</th>\n",
       "      <td>0</td>\n",
       "      <td>0</td>\n",
       "      <td>0</td>\n",
       "      <td>1</td>\n",
       "      <td>1</td>\n",
       "      <td>1</td>\n",
       "      <td>1</td>\n",
       "      <td>1</td>\n",
       "      <td>1</td>\n",
       "      <td>1</td>\n",
       "      <td>...</td>\n",
       "      <td>46</td>\n",
       "      <td>46</td>\n",
       "      <td>45</td>\n",
       "      <td>45</td>\n",
       "      <td>93</td>\n",
       "      <td>100</td>\n",
       "      <td>106</td>\n",
       "      <td>113</td>\n",
       "      <td>122</td>\n",
       "      <td>1</td>\n",
       "    </tr>\n",
       "  </tbody>\n",
       "</table>\n",
       "<p>1 rows × 111 columns</p>\n",
       "</div>"
      ],
      "text/plain": [
       "date    2020-03-17  2020-03-18  2020-03-19  2020-03-20  2020-03-21  \\\n",
       "County                                                               \n",
       "Adams            0           0           0           1           1   \n",
       "\n",
       "date    2020-03-22  2020-03-24  2020-03-25  2020-03-26  2020-03-27  ...  \\\n",
       "County                                                              ...   \n",
       "Adams            1           1           1           1           1  ...   \n",
       "\n",
       "date    2020-06-06  2020-06-07  2020-06-08  2020-06-09  2020-07-01  \\\n",
       "County                                                               \n",
       "Adams           46          46          45          45          93   \n",
       "\n",
       "date    2020-07-02  2020-07-03  2020-07-04  2020-07-05  2020-03-23  \n",
       "County                                                              \n",
       "Adams          100         106         113         122           1  \n",
       "\n",
       "[1 rows x 111 columns]"
      ]
     },
     "execution_count": 114,
     "metadata": {},
     "output_type": "execute_result"
    }
   ],
   "source": [
    "county_cases.head(1)"
   ]
  },
  {
   "cell_type": "code",
   "execution_count": 115,
   "metadata": {
    "pycharm": {
     "is_executing": true
    }
   },
   "outputs": [
    {
     "data": {
      "text/html": [
       "<div>\n",
       "<style scoped>\n",
       "    .dataframe tbody tr th:only-of-type {\n",
       "        vertical-align: middle;\n",
       "    }\n",
       "\n",
       "    .dataframe tbody tr th {\n",
       "        vertical-align: top;\n",
       "    }\n",
       "\n",
       "    .dataframe thead th {\n",
       "        text-align: right;\n",
       "    }\n",
       "</style>\n",
       "<table border=\"1\" class=\"dataframe\">\n",
       "  <thead>\n",
       "    <tr style=\"text-align: right;\">\n",
       "      <th>date</th>\n",
       "      <th>2020-03-17</th>\n",
       "      <th>2020-03-18</th>\n",
       "      <th>2020-03-19</th>\n",
       "      <th>2020-03-20</th>\n",
       "      <th>2020-03-21</th>\n",
       "      <th>2020-03-22</th>\n",
       "      <th>2020-03-24</th>\n",
       "      <th>2020-03-25</th>\n",
       "      <th>2020-03-26</th>\n",
       "      <th>2020-03-27</th>\n",
       "      <th>...</th>\n",
       "      <th>2020-06-06</th>\n",
       "      <th>2020-06-07</th>\n",
       "      <th>2020-06-08</th>\n",
       "      <th>2020-06-09</th>\n",
       "      <th>2020-07-01</th>\n",
       "      <th>2020-07-02</th>\n",
       "      <th>2020-07-03</th>\n",
       "      <th>2020-07-04</th>\n",
       "      <th>2020-07-05</th>\n",
       "      <th>2020-03-23</th>\n",
       "    </tr>\n",
       "    <tr>\n",
       "      <th>County</th>\n",
       "      <th></th>\n",
       "      <th></th>\n",
       "      <th></th>\n",
       "      <th></th>\n",
       "      <th></th>\n",
       "      <th></th>\n",
       "      <th></th>\n",
       "      <th></th>\n",
       "      <th></th>\n",
       "      <th></th>\n",
       "      <th></th>\n",
       "      <th></th>\n",
       "      <th></th>\n",
       "      <th></th>\n",
       "      <th></th>\n",
       "      <th></th>\n",
       "      <th></th>\n",
       "      <th></th>\n",
       "      <th></th>\n",
       "      <th></th>\n",
       "      <th></th>\n",
       "    </tr>\n",
       "  </thead>\n",
       "  <tbody>\n",
       "    <tr>\n",
       "      <th>Adams</th>\n",
       "      <td>0</td>\n",
       "      <td>0</td>\n",
       "      <td>0</td>\n",
       "      <td>0</td>\n",
       "      <td>0</td>\n",
       "      <td>0</td>\n",
       "      <td>0</td>\n",
       "      <td>0</td>\n",
       "      <td>0</td>\n",
       "      <td>0</td>\n",
       "      <td>...</td>\n",
       "      <td>4555</td>\n",
       "      <td>4586</td>\n",
       "      <td>4623</td>\n",
       "      <td>4655</td>\n",
       "      <td>8373</td>\n",
       "      <td>8512</td>\n",
       "      <td>8645</td>\n",
       "      <td>8733</td>\n",
       "      <td>8825</td>\n",
       "      <td>0</td>\n",
       "    </tr>\n",
       "    <tr>\n",
       "      <th>Alexander</th>\n",
       "      <td>0</td>\n",
       "      <td>0</td>\n",
       "      <td>0</td>\n",
       "      <td>0</td>\n",
       "      <td>0</td>\n",
       "      <td>0</td>\n",
       "      <td>0</td>\n",
       "      <td>0</td>\n",
       "      <td>0</td>\n",
       "      <td>0</td>\n",
       "      <td>...</td>\n",
       "      <td>253</td>\n",
       "      <td>256</td>\n",
       "      <td>258</td>\n",
       "      <td>260</td>\n",
       "      <td>517</td>\n",
       "      <td>521</td>\n",
       "      <td>527</td>\n",
       "      <td>528</td>\n",
       "      <td>529</td>\n",
       "      <td>0</td>\n",
       "    </tr>\n",
       "    <tr>\n",
       "      <th>Bond</th>\n",
       "      <td>0</td>\n",
       "      <td>0</td>\n",
       "      <td>0</td>\n",
       "      <td>0</td>\n",
       "      <td>0</td>\n",
       "      <td>0</td>\n",
       "      <td>0</td>\n",
       "      <td>0</td>\n",
       "      <td>0</td>\n",
       "      <td>0</td>\n",
       "      <td>...</td>\n",
       "      <td>410</td>\n",
       "      <td>433</td>\n",
       "      <td>439</td>\n",
       "      <td>450</td>\n",
       "      <td>909</td>\n",
       "      <td>938</td>\n",
       "      <td>974</td>\n",
       "      <td>1019</td>\n",
       "      <td>1058</td>\n",
       "      <td>0</td>\n",
       "    </tr>\n",
       "    <tr>\n",
       "      <th>Boone</th>\n",
       "      <td>0</td>\n",
       "      <td>0</td>\n",
       "      <td>0</td>\n",
       "      <td>0</td>\n",
       "      <td>0</td>\n",
       "      <td>0</td>\n",
       "      <td>0</td>\n",
       "      <td>0</td>\n",
       "      <td>0</td>\n",
       "      <td>0</td>\n",
       "      <td>...</td>\n",
       "      <td>3597</td>\n",
       "      <td>3712</td>\n",
       "      <td>3759</td>\n",
       "      <td>3806</td>\n",
       "      <td>5389</td>\n",
       "      <td>5426</td>\n",
       "      <td>5479</td>\n",
       "      <td>5547</td>\n",
       "      <td>5692</td>\n",
       "      <td>0</td>\n",
       "    </tr>\n",
       "    <tr>\n",
       "      <th>Brown</th>\n",
       "      <td>0</td>\n",
       "      <td>0</td>\n",
       "      <td>0</td>\n",
       "      <td>0</td>\n",
       "      <td>0</td>\n",
       "      <td>0</td>\n",
       "      <td>0</td>\n",
       "      <td>0</td>\n",
       "      <td>0</td>\n",
       "      <td>0</td>\n",
       "      <td>...</td>\n",
       "      <td>408</td>\n",
       "      <td>408</td>\n",
       "      <td>411</td>\n",
       "      <td>415</td>\n",
       "      <td>516</td>\n",
       "      <td>523</td>\n",
       "      <td>526</td>\n",
       "      <td>528</td>\n",
       "      <td>528</td>\n",
       "      <td>0</td>\n",
       "    </tr>\n",
       "    <tr>\n",
       "      <th>...</th>\n",
       "      <td>...</td>\n",
       "      <td>...</td>\n",
       "      <td>...</td>\n",
       "      <td>...</td>\n",
       "      <td>...</td>\n",
       "      <td>...</td>\n",
       "      <td>...</td>\n",
       "      <td>...</td>\n",
       "      <td>...</td>\n",
       "      <td>...</td>\n",
       "      <td>...</td>\n",
       "      <td>...</td>\n",
       "      <td>...</td>\n",
       "      <td>...</td>\n",
       "      <td>...</td>\n",
       "      <td>...</td>\n",
       "      <td>...</td>\n",
       "      <td>...</td>\n",
       "      <td>...</td>\n",
       "      <td>...</td>\n",
       "      <td>...</td>\n",
       "    </tr>\n",
       "    <tr>\n",
       "      <th>Whiteside</th>\n",
       "      <td>0</td>\n",
       "      <td>0</td>\n",
       "      <td>0</td>\n",
       "      <td>0</td>\n",
       "      <td>0</td>\n",
       "      <td>0</td>\n",
       "      <td>0</td>\n",
       "      <td>0</td>\n",
       "      <td>0</td>\n",
       "      <td>0</td>\n",
       "      <td>...</td>\n",
       "      <td>2328</td>\n",
       "      <td>2437</td>\n",
       "      <td>2455</td>\n",
       "      <td>2537</td>\n",
       "      <td>4175</td>\n",
       "      <td>4268</td>\n",
       "      <td>4318</td>\n",
       "      <td>4365</td>\n",
       "      <td>4486</td>\n",
       "      <td>0</td>\n",
       "    </tr>\n",
       "    <tr>\n",
       "      <th>Will</th>\n",
       "      <td>0</td>\n",
       "      <td>0</td>\n",
       "      <td>0</td>\n",
       "      <td>0</td>\n",
       "      <td>0</td>\n",
       "      <td>0</td>\n",
       "      <td>0</td>\n",
       "      <td>0</td>\n",
       "      <td>0</td>\n",
       "      <td>0</td>\n",
       "      <td>...</td>\n",
       "      <td>47974</td>\n",
       "      <td>49128</td>\n",
       "      <td>49630</td>\n",
       "      <td>50778</td>\n",
       "      <td>76237</td>\n",
       "      <td>77559</td>\n",
       "      <td>78849</td>\n",
       "      <td>80150</td>\n",
       "      <td>81099</td>\n",
       "      <td>0</td>\n",
       "    </tr>\n",
       "    <tr>\n",
       "      <th>Williamson</th>\n",
       "      <td>0</td>\n",
       "      <td>0</td>\n",
       "      <td>0</td>\n",
       "      <td>0</td>\n",
       "      <td>0</td>\n",
       "      <td>0</td>\n",
       "      <td>0</td>\n",
       "      <td>0</td>\n",
       "      <td>0</td>\n",
       "      <td>0</td>\n",
       "      <td>...</td>\n",
       "      <td>2921</td>\n",
       "      <td>3093</td>\n",
       "      <td>3171</td>\n",
       "      <td>3243</td>\n",
       "      <td>6101</td>\n",
       "      <td>6184</td>\n",
       "      <td>6288</td>\n",
       "      <td>6374</td>\n",
       "      <td>6500</td>\n",
       "      <td>0</td>\n",
       "    </tr>\n",
       "    <tr>\n",
       "      <th>Winnebago</th>\n",
       "      <td>0</td>\n",
       "      <td>0</td>\n",
       "      <td>0</td>\n",
       "      <td>0</td>\n",
       "      <td>0</td>\n",
       "      <td>0</td>\n",
       "      <td>0</td>\n",
       "      <td>0</td>\n",
       "      <td>0</td>\n",
       "      <td>0</td>\n",
       "      <td>...</td>\n",
       "      <td>22714</td>\n",
       "      <td>23203</td>\n",
       "      <td>23480</td>\n",
       "      <td>23812</td>\n",
       "      <td>33249</td>\n",
       "      <td>33524</td>\n",
       "      <td>34049</td>\n",
       "      <td>34659</td>\n",
       "      <td>35115</td>\n",
       "      <td>0</td>\n",
       "    </tr>\n",
       "    <tr>\n",
       "      <th>Woodford</th>\n",
       "      <td>0</td>\n",
       "      <td>0</td>\n",
       "      <td>0</td>\n",
       "      <td>0</td>\n",
       "      <td>0</td>\n",
       "      <td>0</td>\n",
       "      <td>0</td>\n",
       "      <td>0</td>\n",
       "      <td>0</td>\n",
       "      <td>0</td>\n",
       "      <td>...</td>\n",
       "      <td>1524</td>\n",
       "      <td>1543</td>\n",
       "      <td>1557</td>\n",
       "      <td>1576</td>\n",
       "      <td>2487</td>\n",
       "      <td>2550</td>\n",
       "      <td>2615</td>\n",
       "      <td>2661</td>\n",
       "      <td>2705</td>\n",
       "      <td>0</td>\n",
       "    </tr>\n",
       "  </tbody>\n",
       "</table>\n",
       "<p>106 rows × 111 columns</p>\n",
       "</div>"
      ],
      "text/plain": [
       "date        2020-03-17  2020-03-18  2020-03-19  2020-03-20  2020-03-21  \\\n",
       "County                                                                   \n",
       "Adams                0           0           0           0           0   \n",
       "Alexander            0           0           0           0           0   \n",
       "Bond                 0           0           0           0           0   \n",
       "Boone                0           0           0           0           0   \n",
       "Brown                0           0           0           0           0   \n",
       "...                ...         ...         ...         ...         ...   \n",
       "Whiteside            0           0           0           0           0   \n",
       "Will                 0           0           0           0           0   \n",
       "Williamson           0           0           0           0           0   \n",
       "Winnebago            0           0           0           0           0   \n",
       "Woodford             0           0           0           0           0   \n",
       "\n",
       "date        2020-03-22  2020-03-24  2020-03-25  2020-03-26  2020-03-27  ...  \\\n",
       "County                                                                  ...   \n",
       "Adams                0           0           0           0           0  ...   \n",
       "Alexander            0           0           0           0           0  ...   \n",
       "Bond                 0           0           0           0           0  ...   \n",
       "Boone                0           0           0           0           0  ...   \n",
       "Brown                0           0           0           0           0  ...   \n",
       "...                ...         ...         ...         ...         ...  ...   \n",
       "Whiteside            0           0           0           0           0  ...   \n",
       "Will                 0           0           0           0           0  ...   \n",
       "Williamson           0           0           0           0           0  ...   \n",
       "Winnebago            0           0           0           0           0  ...   \n",
       "Woodford             0           0           0           0           0  ...   \n",
       "\n",
       "date        2020-06-06  2020-06-07  2020-06-08  2020-06-09  2020-07-01  \\\n",
       "County                                                                   \n",
       "Adams             4555        4586        4623        4655        8373   \n",
       "Alexander          253         256         258         260         517   \n",
       "Bond               410         433         439         450         909   \n",
       "Boone             3597        3712        3759        3806        5389   \n",
       "Brown              408         408         411         415         516   \n",
       "...                ...         ...         ...         ...         ...   \n",
       "Whiteside         2328        2437        2455        2537        4175   \n",
       "Will             47974       49128       49630       50778       76237   \n",
       "Williamson        2921        3093        3171        3243        6101   \n",
       "Winnebago        22714       23203       23480       23812       33249   \n",
       "Woodford          1524        1543        1557        1576        2487   \n",
       "\n",
       "date        2020-07-02  2020-07-03  2020-07-04  2020-07-05  2020-03-23  \n",
       "County                                                                  \n",
       "Adams             8512        8645        8733        8825           0  \n",
       "Alexander          521         527         528         529           0  \n",
       "Bond               938         974        1019        1058           0  \n",
       "Boone             5426        5479        5547        5692           0  \n",
       "Brown              523         526         528         528           0  \n",
       "...                ...         ...         ...         ...         ...  \n",
       "Whiteside         4268        4318        4365        4486           0  \n",
       "Will             77559       78849       80150       81099           0  \n",
       "Williamson        6184        6288        6374        6500           0  \n",
       "Winnebago        33524       34049       34659       35115           0  \n",
       "Woodford          2550        2615        2661        2705           0  \n",
       "\n",
       "[106 rows x 111 columns]"
      ]
     },
     "execution_count": 115,
     "metadata": {},
     "output_type": "execute_result"
    }
   ],
   "source": [
    "county_tested"
   ]
  },
  {
   "cell_type": "code",
   "execution_count": 116,
   "metadata": {
    "pycharm": {
     "is_executing": true,
     "name": "#%%\n"
    }
   },
   "outputs": [],
   "source": [
    "# Get date information\n",
    "date = county_cases.columns.tolist()\n",
    "date.sort()\n",
    "dt_first = date[0]\n",
    "dt_today = date[-1]\n",
    "dt_yesterday = date[-2]"
   ]
  },
  {
   "cell_type": "code",
   "execution_count": 117,
   "metadata": {
    "pycharm": {
     "is_executing": true,
     "name": "#%%\n"
    }
   },
   "outputs": [],
   "source": [
    "from datetime import datetime\n",
    "from datetime import timedelta"
   ]
  },
  {
   "cell_type": "code",
   "execution_count": 118,
   "metadata": {
    "pycharm": {
     "is_executing": true,
     "name": "#%%\n"
    }
   },
   "outputs": [],
   "source": [
    "def find_missing_date(date):\n",
    "    dt_range = datetime.strptime(date[-1], \"%Y-%m-%d\") - datetime.strptime(date[0], \"%Y-%m-%d\")\n",
    "    if len(date) != dt_range.days + 1:\n",
    "        print('Alert! Missing Date or Redundant date')\n",
    "        for x in range(len(date) - 1):\n",
    "            if (datetime.strptime(date[x + 1], \"%Y-%m-%d\") - datetime.strptime(date[x], \"%Y-%m-%d\")).days != 1:\n",
    "                missing_date = datetime.strptime(date[x], \"%Y-%m-%d\") + timedelta(days=1)\n",
    "                print('Missing Date:')\n",
    "                print(missing_date)"
   ]
  },
  {
   "cell_type": "code",
   "execution_count": 119,
   "metadata": {
    "pycharm": {
     "is_executing": true,
     "name": "#%%\n"
    }
   },
   "outputs": [],
   "source": [
    "# Looking for missing dates\n",
    "find_missing_date(date)"
   ]
  },
  {
   "cell_type": "code",
   "execution_count": 120,
   "metadata": {
    "pycharm": {
     "is_executing": true,
     "name": "#%%\n"
    }
   },
   "outputs": [],
   "source": [
    "# reorder date\n",
    "county_cases = county_cases[date]\n",
    "county_deaths = county_deaths[date]\n",
    "county_tested = county_tested[date]"
   ]
  },
  {
   "cell_type": "code",
   "execution_count": 121,
   "metadata": {
    "pycharm": {
     "is_executing": true,
     "name": "#%%\n"
    }
   },
   "outputs": [],
   "source": [
    "# get case time series\n",
    "cases_ts = county_cases.values.tolist()\n",
    "deaths_ts = county_deaths.values.tolist()\n",
    "tested_ts = county_tested.values.tolist()"
   ]
  },
  {
   "cell_type": "code",
   "execution_count": 122,
   "metadata": {
    "pycharm": {
     "is_executing": true,
     "name": "#%%\n"
    }
   },
   "outputs": [],
   "source": [
    "# get first case date\n",
    "county_cases['dt_first_case'] = (county_cases > 0).idxmax(axis=1)\n",
    "county_cases.loc[county_cases.iloc[:, -2] <= 0, 'dt_first_case'] = np.nan\n",
    "county_deaths['dt_first_death'] = (county_deaths > 0).idxmax(axis=1)\n",
    "county_deaths.loc[county_deaths.iloc[:, -2] <= 0, 'dt_first_death'] = np.nan"
   ]
  },
  {
   "cell_type": "code",
   "execution_count": 123,
   "metadata": {
    "pycharm": {
     "is_executing": true,
     "name": "#%%\n"
    }
   },
   "outputs": [],
   "source": [
    "county_cases['cases_ts'] = cases_ts\n",
    "county_deaths['deaths_ts'] = deaths_ts"
   ]
  },
  {
   "cell_type": "code",
   "execution_count": 124,
   "metadata": {
    "pycharm": {
     "is_executing": true,
     "name": "#%%\n"
    }
   },
   "outputs": [
    {
     "name": "stderr",
     "output_type": "stream",
     "text": [
      "<ipython-input-124-4277f609183d>:6: SettingWithCopyWarning: \n",
      "A value is trying to be set on a copy of a slice from a DataFrame.\n",
      "Try using .loc[row_indexer,col_indexer] = value instead\n",
      "\n",
      "See the caveats in the documentation: https://pandas.pydata.org/pandas-docs/stable/user_guide/indexing.html#returning-a-view-versus-a-copy\n",
      "  county_tested['today_tested'] = county_tested[dt_today]\n",
      "<ipython-input-124-4277f609183d>:7: SettingWithCopyWarning: \n",
      "A value is trying to be set on a copy of a slice from a DataFrame.\n",
      "Try using .loc[row_indexer,col_indexer] = value instead\n",
      "\n",
      "See the caveats in the documentation: https://pandas.pydata.org/pandas-docs/stable/user_guide/indexing.html#returning-a-view-versus-a-copy\n",
      "  county_tested['today_new_tested'] = county_tested[dt_today] - county_tested[dt_yesterday]\n"
     ]
    }
   ],
   "source": [
    "# Add today_case and today_new_case columns\n",
    "county_cases['today_case'] = county_cases[dt_today]\n",
    "county_cases['today_new_case'] = county_cases[dt_today] - county_cases[dt_yesterday]\n",
    "county_deaths['today_death'] = county_deaths[dt_today]\n",
    "county_deaths['today_new_death'] = county_deaths[dt_today] - county_deaths[dt_yesterday]\n",
    "county_tested['today_tested'] = county_tested[dt_today]\n",
    "county_tested['today_new_tested'] = county_tested[dt_today] - county_tested[dt_yesterday]"
   ]
  },
  {
   "cell_type": "code",
   "execution_count": 125,
   "metadata": {
    "pycharm": {
     "is_executing": true,
     "name": "#%%\n"
    }
   },
   "outputs": [],
   "source": [
    "case_report = county_cases[['cases_ts','dt_first_case','today_case','today_new_case']]"
   ]
  },
  {
   "cell_type": "code",
   "execution_count": 126,
   "metadata": {
    "pycharm": {
     "is_executing": true,
     "name": "#%%\n"
    }
   },
   "outputs": [],
   "source": [
    "death_report = county_deaths[['deaths_ts','dt_first_death','today_death','today_new_death']]"
   ]
  },
  {
   "cell_type": "code",
   "execution_count": 127,
   "metadata": {
    "pycharm": {
     "is_executing": true
    }
   },
   "outputs": [],
   "source": [
    "tested_report = county_tested[['today_tested','today_new_tested']]"
   ]
  },
  {
   "cell_type": "code",
   "execution_count": 128,
   "metadata": {
    "pycharm": {
     "is_executing": true,
     "name": "#%%\n"
    }
   },
   "outputs": [],
   "source": [
    "county_report = case_report.join(death_report, how=\"outer\").join(tested_report, how=\"outer\")"
   ]
  },
  {
   "cell_type": "code",
   "execution_count": 129,
   "metadata": {
    "pycharm": {
     "is_executing": true,
     "name": "#%%\n"
    }
   },
   "outputs": [],
   "source": [
    "county_report = county_report.reset_index()\n",
    "county_report.columns = ['NAME','cases_ts','dt_first_case','today_case','today_new_case','deaths_ts','dt_first_death','today_death','today_new_death','today_tested','today_new_tested']\n",
    "county_report['cases_ts'] = county_report['cases_ts'].apply(lambda x: ','.join(map(str,x)))\n",
    "county_report['deaths_ts'] = county_report['deaths_ts'].apply(lambda x: ','.join(map(str,x)))"
   ]
  },
  {
   "cell_type": "code",
   "execution_count": 130,
   "metadata": {
    "pycharm": {
     "is_executing": true,
     "name": "#%%\n"
    }
   },
   "outputs": [
    {
     "data": {
      "text/plain": [
       "array(['Out Of State', 'Suburban Cook'], dtype=object)"
      ]
     },
     "execution_count": 130,
     "metadata": {},
     "output_type": "execute_result"
    }
   ],
   "source": [
    "np.setdiff1d(county_report['NAME'],county_gpd_dynamic['id'])\n",
    "# Illinois, Out of State and Suburban Cook is not in geometry"
   ]
  },
  {
   "cell_type": "code",
   "execution_count": 131,
   "metadata": {
    "pycharm": {
     "is_executing": true,
     "name": "#%%\n"
    }
   },
   "outputs": [],
   "source": [
    "county_report = county_report[(county_report['NAME'] != 'Out Of State') & (county_report['NAME'] != 'Suburban Cook')]"
   ]
  },
  {
   "cell_type": "code",
   "execution_count": 132,
   "metadata": {
    "pycharm": {
     "is_executing": true,
     "name": "#%%\n"
    }
   },
   "outputs": [],
   "source": [
    "county_report['dt_start'] = dt_first\n",
    "county_report['dt_end'] = dt_today\n",
    "county_report['dt_unit'] = 'day'"
   ]
  },
  {
   "cell_type": "code",
   "execution_count": 133,
   "metadata": {
    "pycharm": {
     "is_executing": true,
     "name": "#%%\n"
    }
   },
   "outputs": [
    {
     "data": {
      "text/html": [
       "<div>\n",
       "<style scoped>\n",
       "    .dataframe tbody tr th:only-of-type {\n",
       "        vertical-align: middle;\n",
       "    }\n",
       "\n",
       "    .dataframe tbody tr th {\n",
       "        vertical-align: top;\n",
       "    }\n",
       "\n",
       "    .dataframe thead th {\n",
       "        text-align: right;\n",
       "    }\n",
       "</style>\n",
       "<table border=\"1\" class=\"dataframe\">\n",
       "  <thead>\n",
       "    <tr style=\"text-align: right;\">\n",
       "      <th></th>\n",
       "      <th>NAME</th>\n",
       "      <th>cases_ts</th>\n",
       "      <th>dt_first_case</th>\n",
       "      <th>today_case</th>\n",
       "      <th>today_new_case</th>\n",
       "      <th>deaths_ts</th>\n",
       "      <th>dt_first_death</th>\n",
       "      <th>today_death</th>\n",
       "      <th>today_new_death</th>\n",
       "      <th>today_tested</th>\n",
       "      <th>today_new_tested</th>\n",
       "      <th>dt_start</th>\n",
       "      <th>dt_end</th>\n",
       "      <th>dt_unit</th>\n",
       "    </tr>\n",
       "  </thead>\n",
       "  <tbody>\n",
       "    <tr>\n",
       "      <th>0</th>\n",
       "      <td>Adams</td>\n",
       "      <td>0,0,0,1,1,1,1,1,1,1,1,1,2,2,2,2,2,2,3,3,8,9,11...</td>\n",
       "      <td>2020-03-20</td>\n",
       "      <td>122</td>\n",
       "      <td>9</td>\n",
       "      <td>0,0,0,0,0,0,0,0,0,0,0,0,0,0,0,0,0,0,0,0,0,0,0,...</td>\n",
       "      <td>2020-05-01</td>\n",
       "      <td>1</td>\n",
       "      <td>0</td>\n",
       "      <td>8825</td>\n",
       "      <td>92</td>\n",
       "      <td>2020-03-17</td>\n",
       "      <td>2020-07-05</td>\n",
       "      <td>day</td>\n",
       "    </tr>\n",
       "    <tr>\n",
       "      <th>1</th>\n",
       "      <td>Alexander</td>\n",
       "      <td>0,0,0,0,0,0,0,0,0,0,0,0,0,0,0,0,0,0,0,0,0,0,0,...</td>\n",
       "      <td>2020-04-16</td>\n",
       "      <td>22</td>\n",
       "      <td>0</td>\n",
       "      <td>0,0,0,0,0,0,0,0,0,0,0,0,0,0,0,0,0,0,0,0,0,0,0,...</td>\n",
       "      <td>NaN</td>\n",
       "      <td>0</td>\n",
       "      <td>0</td>\n",
       "      <td>529</td>\n",
       "      <td>1</td>\n",
       "      <td>2020-03-17</td>\n",
       "      <td>2020-07-05</td>\n",
       "      <td>day</td>\n",
       "    </tr>\n",
       "    <tr>\n",
       "      <th>2</th>\n",
       "      <td>Bond</td>\n",
       "      <td>0,0,0,0,0,0,0,0,0,0,0,0,1,1,2,2,3,3,3,3,3,3,3,...</td>\n",
       "      <td>2020-03-29</td>\n",
       "      <td>16</td>\n",
       "      <td>0</td>\n",
       "      <td>0,0,0,0,0,0,0,0,0,0,0,0,0,0,0,0,0,0,0,0,0,0,0,...</td>\n",
       "      <td>2020-04-16</td>\n",
       "      <td>1</td>\n",
       "      <td>0</td>\n",
       "      <td>1058</td>\n",
       "      <td>39</td>\n",
       "      <td>2020-03-17</td>\n",
       "      <td>2020-07-05</td>\n",
       "      <td>day</td>\n",
       "    </tr>\n",
       "    <tr>\n",
       "      <th>3</th>\n",
       "      <td>Boone</td>\n",
       "      <td>0,0,0,0,0,0,0,0,0,0,0,0,0,0,0,0,0,0,0,3,4,6,7,...</td>\n",
       "      <td>2020-04-05</td>\n",
       "      <td>608</td>\n",
       "      <td>0</td>\n",
       "      <td>0,0,0,0,0,0,0,0,0,0,0,0,0,0,0,0,0,0,0,0,0,0,1,...</td>\n",
       "      <td>2020-04-08</td>\n",
       "      <td>21</td>\n",
       "      <td>0</td>\n",
       "      <td>5692</td>\n",
       "      <td>145</td>\n",
       "      <td>2020-03-17</td>\n",
       "      <td>2020-07-05</td>\n",
       "      <td>day</td>\n",
       "    </tr>\n",
       "    <tr>\n",
       "      <th>4</th>\n",
       "      <td>Brown</td>\n",
       "      <td>0,0,0,0,0,0,0,0,0,0,0,0,0,0,0,0,0,0,0,0,0,0,0,...</td>\n",
       "      <td>2020-05-01</td>\n",
       "      <td>10</td>\n",
       "      <td>0</td>\n",
       "      <td>0,0,0,0,0,0,0,0,0,0,0,0,0,0,0,0,0,0,0,0,0,0,0,...</td>\n",
       "      <td>NaN</td>\n",
       "      <td>0</td>\n",
       "      <td>0</td>\n",
       "      <td>528</td>\n",
       "      <td>0</td>\n",
       "      <td>2020-03-17</td>\n",
       "      <td>2020-07-05</td>\n",
       "      <td>day</td>\n",
       "    </tr>\n",
       "    <tr>\n",
       "      <th>...</th>\n",
       "      <td>...</td>\n",
       "      <td>...</td>\n",
       "      <td>...</td>\n",
       "      <td>...</td>\n",
       "      <td>...</td>\n",
       "      <td>...</td>\n",
       "      <td>...</td>\n",
       "      <td>...</td>\n",
       "      <td>...</td>\n",
       "      <td>...</td>\n",
       "      <td>...</td>\n",
       "      <td>...</td>\n",
       "      <td>...</td>\n",
       "      <td>...</td>\n",
       "    </tr>\n",
       "    <tr>\n",
       "      <th>101</th>\n",
       "      <td>Whiteside</td>\n",
       "      <td>1,1,1,1,1,1,1,1,1,1,2,2,3,4,5,5,6,9,15,18,18,2...</td>\n",
       "      <td>2020-03-17</td>\n",
       "      <td>195</td>\n",
       "      <td>2</td>\n",
       "      <td>0,0,0,0,0,0,0,0,0,0,0,0,0,0,0,0,1,1,1,1,1,1,1,...</td>\n",
       "      <td>2020-04-02</td>\n",
       "      <td>15</td>\n",
       "      <td>0</td>\n",
       "      <td>4486</td>\n",
       "      <td>121</td>\n",
       "      <td>2020-03-17</td>\n",
       "      <td>2020-07-05</td>\n",
       "      <td>day</td>\n",
       "    </tr>\n",
       "    <tr>\n",
       "      <th>102</th>\n",
       "      <td>Will</td>\n",
       "      <td>2,3,9,10,12,21,21,28,40,67,104,127,182,223,228...</td>\n",
       "      <td>2020-03-17</td>\n",
       "      <td>6923</td>\n",
       "      <td>40</td>\n",
       "      <td>0,0,0,1,1,1,1,1,2,3,3,4,4,5,8,9,8,10,11,12,19,...</td>\n",
       "      <td>2020-03-20</td>\n",
       "      <td>320</td>\n",
       "      <td>0</td>\n",
       "      <td>81099</td>\n",
       "      <td>949</td>\n",
       "      <td>2020-03-17</td>\n",
       "      <td>2020-07-05</td>\n",
       "      <td>day</td>\n",
       "    </tr>\n",
       "    <tr>\n",
       "      <th>103</th>\n",
       "      <td>Williamson</td>\n",
       "      <td>0,0,1,1,1,1,1,0,1,1,1,1,1,1,1,1,1,2,3,3,3,8,9,...</td>\n",
       "      <td>2020-03-19</td>\n",
       "      <td>132</td>\n",
       "      <td>6</td>\n",
       "      <td>0,0,1,1,0,0,0,0,0,0,0,0,0,0,0,0,0,0,0,0,0,0,0,...</td>\n",
       "      <td>2020-03-19</td>\n",
       "      <td>4</td>\n",
       "      <td>0</td>\n",
       "      <td>6500</td>\n",
       "      <td>126</td>\n",
       "      <td>2020-03-17</td>\n",
       "      <td>2020-07-05</td>\n",
       "      <td>day</td>\n",
       "    </tr>\n",
       "    <tr>\n",
       "      <th>104</th>\n",
       "      <td>Winnebago</td>\n",
       "      <td>1,1,1,2,4,5,5,5,7,8,8,9,12,13,15,18,24,28,36,4...</td>\n",
       "      <td>2020-03-17</td>\n",
       "      <td>3091</td>\n",
       "      <td>7</td>\n",
       "      <td>0,0,0,0,0,0,0,0,0,0,0,0,0,0,0,1,1,1,1,1,1,3,3,...</td>\n",
       "      <td>2020-04-01</td>\n",
       "      <td>96</td>\n",
       "      <td>0</td>\n",
       "      <td>35115</td>\n",
       "      <td>456</td>\n",
       "      <td>2020-03-17</td>\n",
       "      <td>2020-07-05</td>\n",
       "      <td>day</td>\n",
       "    </tr>\n",
       "    <tr>\n",
       "      <th>105</th>\n",
       "      <td>Woodford</td>\n",
       "      <td>1,1,2,2,2,2,2,3,3,3,3,3,3,3,3,3,3,4,6,6,6,7,7,...</td>\n",
       "      <td>2020-03-17</td>\n",
       "      <td>35</td>\n",
       "      <td>0</td>\n",
       "      <td>0,0,0,0,0,0,0,0,0,0,0,0,0,0,0,0,0,0,0,0,0,0,0,...</td>\n",
       "      <td>2020-04-21</td>\n",
       "      <td>2</td>\n",
       "      <td>0</td>\n",
       "      <td>2705</td>\n",
       "      <td>44</td>\n",
       "      <td>2020-03-17</td>\n",
       "      <td>2020-07-05</td>\n",
       "      <td>day</td>\n",
       "    </tr>\n",
       "  </tbody>\n",
       "</table>\n",
       "<p>104 rows × 14 columns</p>\n",
       "</div>"
      ],
      "text/plain": [
       "           NAME                                           cases_ts  \\\n",
       "0         Adams  0,0,0,1,1,1,1,1,1,1,1,1,2,2,2,2,2,2,3,3,8,9,11...   \n",
       "1     Alexander  0,0,0,0,0,0,0,0,0,0,0,0,0,0,0,0,0,0,0,0,0,0,0,...   \n",
       "2          Bond  0,0,0,0,0,0,0,0,0,0,0,0,1,1,2,2,3,3,3,3,3,3,3,...   \n",
       "3         Boone  0,0,0,0,0,0,0,0,0,0,0,0,0,0,0,0,0,0,0,3,4,6,7,...   \n",
       "4         Brown  0,0,0,0,0,0,0,0,0,0,0,0,0,0,0,0,0,0,0,0,0,0,0,...   \n",
       "..          ...                                                ...   \n",
       "101   Whiteside  1,1,1,1,1,1,1,1,1,1,2,2,3,4,5,5,6,9,15,18,18,2...   \n",
       "102        Will  2,3,9,10,12,21,21,28,40,67,104,127,182,223,228...   \n",
       "103  Williamson  0,0,1,1,1,1,1,0,1,1,1,1,1,1,1,1,1,2,3,3,3,8,9,...   \n",
       "104   Winnebago  1,1,1,2,4,5,5,5,7,8,8,9,12,13,15,18,24,28,36,4...   \n",
       "105    Woodford  1,1,2,2,2,2,2,3,3,3,3,3,3,3,3,3,3,4,6,6,6,7,7,...   \n",
       "\n",
       "    dt_first_case  today_case  today_new_case  \\\n",
       "0      2020-03-20         122               9   \n",
       "1      2020-04-16          22               0   \n",
       "2      2020-03-29          16               0   \n",
       "3      2020-04-05         608               0   \n",
       "4      2020-05-01          10               0   \n",
       "..            ...         ...             ...   \n",
       "101    2020-03-17         195               2   \n",
       "102    2020-03-17        6923              40   \n",
       "103    2020-03-19         132               6   \n",
       "104    2020-03-17        3091               7   \n",
       "105    2020-03-17          35               0   \n",
       "\n",
       "                                             deaths_ts dt_first_death  \\\n",
       "0    0,0,0,0,0,0,0,0,0,0,0,0,0,0,0,0,0,0,0,0,0,0,0,...     2020-05-01   \n",
       "1    0,0,0,0,0,0,0,0,0,0,0,0,0,0,0,0,0,0,0,0,0,0,0,...            NaN   \n",
       "2    0,0,0,0,0,0,0,0,0,0,0,0,0,0,0,0,0,0,0,0,0,0,0,...     2020-04-16   \n",
       "3    0,0,0,0,0,0,0,0,0,0,0,0,0,0,0,0,0,0,0,0,0,0,1,...     2020-04-08   \n",
       "4    0,0,0,0,0,0,0,0,0,0,0,0,0,0,0,0,0,0,0,0,0,0,0,...            NaN   \n",
       "..                                                 ...            ...   \n",
       "101  0,0,0,0,0,0,0,0,0,0,0,0,0,0,0,0,1,1,1,1,1,1,1,...     2020-04-02   \n",
       "102  0,0,0,1,1,1,1,1,2,3,3,4,4,5,8,9,8,10,11,12,19,...     2020-03-20   \n",
       "103  0,0,1,1,0,0,0,0,0,0,0,0,0,0,0,0,0,0,0,0,0,0,0,...     2020-03-19   \n",
       "104  0,0,0,0,0,0,0,0,0,0,0,0,0,0,0,1,1,1,1,1,1,3,3,...     2020-04-01   \n",
       "105  0,0,0,0,0,0,0,0,0,0,0,0,0,0,0,0,0,0,0,0,0,0,0,...     2020-04-21   \n",
       "\n",
       "     today_death  today_new_death  today_tested  today_new_tested    dt_start  \\\n",
       "0              1                0          8825                92  2020-03-17   \n",
       "1              0                0           529                 1  2020-03-17   \n",
       "2              1                0          1058                39  2020-03-17   \n",
       "3             21                0          5692               145  2020-03-17   \n",
       "4              0                0           528                 0  2020-03-17   \n",
       "..           ...              ...           ...               ...         ...   \n",
       "101           15                0          4486               121  2020-03-17   \n",
       "102          320                0         81099               949  2020-03-17   \n",
       "103            4                0          6500               126  2020-03-17   \n",
       "104           96                0         35115               456  2020-03-17   \n",
       "105            2                0          2705                44  2020-03-17   \n",
       "\n",
       "         dt_end dt_unit  \n",
       "0    2020-07-05     day  \n",
       "1    2020-07-05     day  \n",
       "2    2020-07-05     day  \n",
       "3    2020-07-05     day  \n",
       "4    2020-07-05     day  \n",
       "..          ...     ...  \n",
       "101  2020-07-05     day  \n",
       "102  2020-07-05     day  \n",
       "103  2020-07-05     day  \n",
       "104  2020-07-05     day  \n",
       "105  2020-07-05     day  \n",
       "\n",
       "[104 rows x 14 columns]"
      ]
     },
     "execution_count": 133,
     "metadata": {},
     "output_type": "execute_result"
    }
   ],
   "source": [
    "county_report"
   ]
  },
  {
   "cell_type": "code",
   "execution_count": 134,
   "metadata": {
    "pycharm": {
     "is_executing": true,
     "name": "#%%\n"
    }
   },
   "outputs": [],
   "source": [
    "county_final_gpd = pd.merge(county_gpd_dynamic, county_report, how=\"left\", left_on=\"id\", right_on=\"NAME\")"
   ]
  },
  {
   "cell_type": "code",
   "execution_count": 135,
   "metadata": {
    "pycharm": {
     "is_executing": true,
     "name": "#%%\n"
    }
   },
   "outputs": [],
   "source": [
    "county_final_gpd['population'] = 1"
   ]
  },
  {
   "cell_type": "code",
   "execution_count": 136,
   "metadata": {
    "pycharm": {
     "is_executing": true
    }
   },
   "outputs": [
    {
     "data": {
      "text/html": [
       "<div>\n",
       "<style scoped>\n",
       "    .dataframe tbody tr th:only-of-type {\n",
       "        vertical-align: middle;\n",
       "    }\n",
       "\n",
       "    .dataframe tbody tr th {\n",
       "        vertical-align: top;\n",
       "    }\n",
       "\n",
       "    .dataframe thead th {\n",
       "        text-align: right;\n",
       "    }\n",
       "</style>\n",
       "<table border=\"1\" class=\"dataframe\">\n",
       "  <thead>\n",
       "    <tr style=\"text-align: right;\">\n",
       "      <th></th>\n",
       "      <th>id</th>\n",
       "      <th>geometry</th>\n",
       "      <th>NAME</th>\n",
       "      <th>cases_ts</th>\n",
       "      <th>dt_first_case</th>\n",
       "      <th>today_case</th>\n",
       "      <th>today_new_case</th>\n",
       "      <th>deaths_ts</th>\n",
       "      <th>dt_first_death</th>\n",
       "      <th>today_death</th>\n",
       "      <th>today_new_death</th>\n",
       "      <th>today_tested</th>\n",
       "      <th>today_new_tested</th>\n",
       "      <th>dt_start</th>\n",
       "      <th>dt_end</th>\n",
       "      <th>dt_unit</th>\n",
       "      <th>population</th>\n",
       "    </tr>\n",
       "  </thead>\n",
       "  <tbody>\n",
       "    <tr>\n",
       "      <th>0</th>\n",
       "      <td>McHenry</td>\n",
       "      <td>POLYGON ((-88.70742 42.49352, -88.70741 42.493...</td>\n",
       "      <td>McHenry</td>\n",
       "      <td>2,4,6,8,11,12,12,14,19,27,45,47,52,52,63,69,81...</td>\n",
       "      <td>2020-03-17</td>\n",
       "      <td>2115</td>\n",
       "      <td>12</td>\n",
       "      <td>0,0,0,0,0,0,0,0,0,1,1,2,2,2,2,2,3,3,3,3,3,4,5,...</td>\n",
       "      <td>2020-03-26</td>\n",
       "      <td>97</td>\n",
       "      <td>0</td>\n",
       "      <td>25822</td>\n",
       "      <td>409</td>\n",
       "      <td>2020-03-17</td>\n",
       "      <td>2020-07-05</td>\n",
       "      <td>day</td>\n",
       "      <td>1</td>\n",
       "    </tr>\n",
       "    <tr>\n",
       "      <th>1</th>\n",
       "      <td>Boone</td>\n",
       "      <td>POLYGON ((-88.70742 42.49352, -88.70750 42.493...</td>\n",
       "      <td>Boone</td>\n",
       "      <td>0,0,0,0,0,0,0,0,0,0,0,0,0,0,0,0,0,0,0,3,4,6,7,...</td>\n",
       "      <td>2020-04-05</td>\n",
       "      <td>608</td>\n",
       "      <td>0</td>\n",
       "      <td>0,0,0,0,0,0,0,0,0,0,0,0,0,0,0,0,0,0,0,0,0,0,1,...</td>\n",
       "      <td>2020-04-08</td>\n",
       "      <td>21</td>\n",
       "      <td>0</td>\n",
       "      <td>5692</td>\n",
       "      <td>145</td>\n",
       "      <td>2020-03-17</td>\n",
       "      <td>2020-07-05</td>\n",
       "      <td>day</td>\n",
       "      <td>1</td>\n",
       "    </tr>\n",
       "    <tr>\n",
       "      <th>2</th>\n",
       "      <td>Ogle</td>\n",
       "      <td>POLYGON ((-89.68809 42.19950, -89.68807 42.184...</td>\n",
       "      <td>Ogle</td>\n",
       "      <td>0,0,0,0,0,0,0,0,0,0,0,0,0,0,1,1,1,1,4,5,7,10,1...</td>\n",
       "      <td>2020-03-31</td>\n",
       "      <td>271</td>\n",
       "      <td>2</td>\n",
       "      <td>0,0,0,0,0,0,0,0,0,0,0,0,0,0,0,0,0,0,0,0,0,0,0,...</td>\n",
       "      <td>2020-04-15</td>\n",
       "      <td>4</td>\n",
       "      <td>0</td>\n",
       "      <td>4589</td>\n",
       "      <td>217</td>\n",
       "      <td>2020-03-17</td>\n",
       "      <td>2020-07-05</td>\n",
       "      <td>day</td>\n",
       "      <td>1</td>\n",
       "    </tr>\n",
       "    <tr>\n",
       "      <th>3</th>\n",
       "      <td>Will</td>\n",
       "      <td>POLYGON ((-88.26146 41.72439, -88.26103 41.708...</td>\n",
       "      <td>Will</td>\n",
       "      <td>2,3,9,10,12,21,21,28,40,67,104,127,182,223,228...</td>\n",
       "      <td>2020-03-17</td>\n",
       "      <td>6923</td>\n",
       "      <td>40</td>\n",
       "      <td>0,0,0,1,1,1,1,1,2,3,3,4,4,5,8,9,8,10,11,12,19,...</td>\n",
       "      <td>2020-03-20</td>\n",
       "      <td>320</td>\n",
       "      <td>0</td>\n",
       "      <td>81099</td>\n",
       "      <td>949</td>\n",
       "      <td>2020-03-17</td>\n",
       "      <td>2020-07-05</td>\n",
       "      <td>day</td>\n",
       "      <td>1</td>\n",
       "    </tr>\n",
       "    <tr>\n",
       "      <th>4</th>\n",
       "      <td>LaSalle</td>\n",
       "      <td>POLYGON ((-88.93885 41.62837, -88.93891 41.628...</td>\n",
       "      <td>LaSalle</td>\n",
       "      <td>0,0,1,1,1,1,1,3,3,3,3,3,4,5,5,6,6,6,7,8,11,12,...</td>\n",
       "      <td>2020-03-19</td>\n",
       "      <td>226</td>\n",
       "      <td>1</td>\n",
       "      <td>0,0,0,0,0,0,0,0,0,0,0,0,1,1,1,1,1,1,1,1,1,1,1,...</td>\n",
       "      <td>2020-03-29</td>\n",
       "      <td>17</td>\n",
       "      <td>0</td>\n",
       "      <td>8920</td>\n",
       "      <td>125</td>\n",
       "      <td>2020-03-17</td>\n",
       "      <td>2020-07-05</td>\n",
       "      <td>day</td>\n",
       "      <td>1</td>\n",
       "    </tr>\n",
       "    <tr>\n",
       "      <th>...</th>\n",
       "      <td>...</td>\n",
       "      <td>...</td>\n",
       "      <td>...</td>\n",
       "      <td>...</td>\n",
       "      <td>...</td>\n",
       "      <td>...</td>\n",
       "      <td>...</td>\n",
       "      <td>...</td>\n",
       "      <td>...</td>\n",
       "      <td>...</td>\n",
       "      <td>...</td>\n",
       "      <td>...</td>\n",
       "      <td>...</td>\n",
       "      <td>...</td>\n",
       "      <td>...</td>\n",
       "      <td>...</td>\n",
       "      <td>...</td>\n",
       "    </tr>\n",
       "    <tr>\n",
       "      <th>99</th>\n",
       "      <td>Marion</td>\n",
       "      <td>POLYGON ((-89.13844 38.73633, -89.13847 38.721...</td>\n",
       "      <td>Marion</td>\n",
       "      <td>0,0,0,0,0,0,0,0,0,0,0,0,0,2,2,2,2,3,3,3,3,3,4,...</td>\n",
       "      <td>2020-03-30</td>\n",
       "      <td>69</td>\n",
       "      <td>0</td>\n",
       "      <td>0,0,0,0,0,0,0,0,0,0,0,0,0,0,0,0,0,0,0,0,0,0,0,...</td>\n",
       "      <td>NaN</td>\n",
       "      <td>0</td>\n",
       "      <td>0</td>\n",
       "      <td>3195</td>\n",
       "      <td>17</td>\n",
       "      <td>2020-03-17</td>\n",
       "      <td>2020-07-05</td>\n",
       "      <td>day</td>\n",
       "      <td>1</td>\n",
       "    </tr>\n",
       "    <tr>\n",
       "      <th>100</th>\n",
       "      <td>Union</td>\n",
       "      <td>POLYGON ((-89.04143 37.59650, -89.06017 37.597...</td>\n",
       "      <td>Union</td>\n",
       "      <td>0,0,0,0,0,0,0,0,0,0,0,0,0,0,0,0,0,0,0,0,0,0,0,...</td>\n",
       "      <td>2020-04-15</td>\n",
       "      <td>195</td>\n",
       "      <td>1</td>\n",
       "      <td>0,0,0,0,0,0,0,0,0,0,0,0,0,0,0,0,0,0,0,0,0,0,0,...</td>\n",
       "      <td>2020-05-05</td>\n",
       "      <td>19</td>\n",
       "      <td>0</td>\n",
       "      <td>2330</td>\n",
       "      <td>30</td>\n",
       "      <td>2020-03-17</td>\n",
       "      <td>2020-07-05</td>\n",
       "      <td>day</td>\n",
       "      <td>1</td>\n",
       "    </tr>\n",
       "    <tr>\n",
       "      <th>101</th>\n",
       "      <td>Pope</td>\n",
       "      <td>POLYGON ((-88.70860 37.59926, -88.70876 37.584...</td>\n",
       "      <td>Pope</td>\n",
       "      <td>0,0,0,0,0,0,0,0,0,0,0,0,0,0,0,0,0,0,0,0,0,0,0,...</td>\n",
       "      <td>2020-05-08</td>\n",
       "      <td>1</td>\n",
       "      <td>0</td>\n",
       "      <td>0,0,0,0,0,0,0,0,0,0,0,0,0,0,0,0,0,0,0,0,0,0,0,...</td>\n",
       "      <td>NaN</td>\n",
       "      <td>0</td>\n",
       "      <td>0</td>\n",
       "      <td>161</td>\n",
       "      <td>1</td>\n",
       "      <td>2020-03-17</td>\n",
       "      <td>2020-07-05</td>\n",
       "      <td>day</td>\n",
       "      <td>1</td>\n",
       "    </tr>\n",
       "    <tr>\n",
       "      <th>102</th>\n",
       "      <td>Chicago</td>\n",
       "      <td>MULTIPOLYGON (((-87.93514 42.00089, -87.93521 ...</td>\n",
       "      <td>Chicago</td>\n",
       "      <td>0,0,0,0,0,519,519,782,915,1161,1364,1610,2026,...</td>\n",
       "      <td>2020-03-22</td>\n",
       "      <td>53531</td>\n",
       "      <td>156</td>\n",
       "      <td>0,0,0,0,0,4,4,5,5,9,9,12,16,16,21,39,41,57,76,...</td>\n",
       "      <td>2020-03-22</td>\n",
       "      <td>2634</td>\n",
       "      <td>3</td>\n",
       "      <td>448260</td>\n",
       "      <td>7218</td>\n",
       "      <td>2020-03-17</td>\n",
       "      <td>2020-07-05</td>\n",
       "      <td>day</td>\n",
       "      <td>1</td>\n",
       "    </tr>\n",
       "    <tr>\n",
       "      <th>103</th>\n",
       "      <td>Illinois</td>\n",
       "      <td>POLYGON ((-89.64923 39.78269, -89.64923 39.779...</td>\n",
       "      <td>Illinois</td>\n",
       "      <td>160,288,422,585,753,1049,1049,1535,1865,2538,3...</td>\n",
       "      <td>2020-03-17</td>\n",
       "      <td>147251</td>\n",
       "      <td>639</td>\n",
       "      <td>0,1,3,5,6,9,9,16,19,26,34,47,65,72,98,141,157,...</td>\n",
       "      <td>2020-03-18</td>\n",
       "      <td>7020</td>\n",
       "      <td>6</td>\n",
       "      <td>1761706</td>\n",
       "      <td>27235</td>\n",
       "      <td>2020-03-17</td>\n",
       "      <td>2020-07-05</td>\n",
       "      <td>day</td>\n",
       "      <td>1</td>\n",
       "    </tr>\n",
       "  </tbody>\n",
       "</table>\n",
       "<p>104 rows × 17 columns</p>\n",
       "</div>"
      ],
      "text/plain": [
       "           id                                           geometry      NAME  \\\n",
       "0     McHenry  POLYGON ((-88.70742 42.49352, -88.70741 42.493...   McHenry   \n",
       "1       Boone  POLYGON ((-88.70742 42.49352, -88.70750 42.493...     Boone   \n",
       "2        Ogle  POLYGON ((-89.68809 42.19950, -89.68807 42.184...      Ogle   \n",
       "3        Will  POLYGON ((-88.26146 41.72439, -88.26103 41.708...      Will   \n",
       "4     LaSalle  POLYGON ((-88.93885 41.62837, -88.93891 41.628...   LaSalle   \n",
       "..        ...                                                ...       ...   \n",
       "99     Marion  POLYGON ((-89.13844 38.73633, -89.13847 38.721...    Marion   \n",
       "100     Union  POLYGON ((-89.04143 37.59650, -89.06017 37.597...     Union   \n",
       "101      Pope  POLYGON ((-88.70860 37.59926, -88.70876 37.584...      Pope   \n",
       "102   Chicago  MULTIPOLYGON (((-87.93514 42.00089, -87.93521 ...   Chicago   \n",
       "103  Illinois  POLYGON ((-89.64923 39.78269, -89.64923 39.779...  Illinois   \n",
       "\n",
       "                                              cases_ts dt_first_case  \\\n",
       "0    2,4,6,8,11,12,12,14,19,27,45,47,52,52,63,69,81...    2020-03-17   \n",
       "1    0,0,0,0,0,0,0,0,0,0,0,0,0,0,0,0,0,0,0,3,4,6,7,...    2020-04-05   \n",
       "2    0,0,0,0,0,0,0,0,0,0,0,0,0,0,1,1,1,1,4,5,7,10,1...    2020-03-31   \n",
       "3    2,3,9,10,12,21,21,28,40,67,104,127,182,223,228...    2020-03-17   \n",
       "4    0,0,1,1,1,1,1,3,3,3,3,3,4,5,5,6,6,6,7,8,11,12,...    2020-03-19   \n",
       "..                                                 ...           ...   \n",
       "99   0,0,0,0,0,0,0,0,0,0,0,0,0,2,2,2,2,3,3,3,3,3,4,...    2020-03-30   \n",
       "100  0,0,0,0,0,0,0,0,0,0,0,0,0,0,0,0,0,0,0,0,0,0,0,...    2020-04-15   \n",
       "101  0,0,0,0,0,0,0,0,0,0,0,0,0,0,0,0,0,0,0,0,0,0,0,...    2020-05-08   \n",
       "102  0,0,0,0,0,519,519,782,915,1161,1364,1610,2026,...    2020-03-22   \n",
       "103  160,288,422,585,753,1049,1049,1535,1865,2538,3...    2020-03-17   \n",
       "\n",
       "     today_case  today_new_case  \\\n",
       "0          2115              12   \n",
       "1           608               0   \n",
       "2           271               2   \n",
       "3          6923              40   \n",
       "4           226               1   \n",
       "..          ...             ...   \n",
       "99           69               0   \n",
       "100         195               1   \n",
       "101           1               0   \n",
       "102       53531             156   \n",
       "103      147251             639   \n",
       "\n",
       "                                             deaths_ts dt_first_death  \\\n",
       "0    0,0,0,0,0,0,0,0,0,1,1,2,2,2,2,2,3,3,3,3,3,4,5,...     2020-03-26   \n",
       "1    0,0,0,0,0,0,0,0,0,0,0,0,0,0,0,0,0,0,0,0,0,0,1,...     2020-04-08   \n",
       "2    0,0,0,0,0,0,0,0,0,0,0,0,0,0,0,0,0,0,0,0,0,0,0,...     2020-04-15   \n",
       "3    0,0,0,1,1,1,1,1,2,3,3,4,4,5,8,9,8,10,11,12,19,...     2020-03-20   \n",
       "4    0,0,0,0,0,0,0,0,0,0,0,0,1,1,1,1,1,1,1,1,1,1,1,...     2020-03-29   \n",
       "..                                                 ...            ...   \n",
       "99   0,0,0,0,0,0,0,0,0,0,0,0,0,0,0,0,0,0,0,0,0,0,0,...            NaN   \n",
       "100  0,0,0,0,0,0,0,0,0,0,0,0,0,0,0,0,0,0,0,0,0,0,0,...     2020-05-05   \n",
       "101  0,0,0,0,0,0,0,0,0,0,0,0,0,0,0,0,0,0,0,0,0,0,0,...            NaN   \n",
       "102  0,0,0,0,0,4,4,5,5,9,9,12,16,16,21,39,41,57,76,...     2020-03-22   \n",
       "103  0,1,3,5,6,9,9,16,19,26,34,47,65,72,98,141,157,...     2020-03-18   \n",
       "\n",
       "     today_death  today_new_death  today_tested  today_new_tested    dt_start  \\\n",
       "0             97                0         25822               409  2020-03-17   \n",
       "1             21                0          5692               145  2020-03-17   \n",
       "2              4                0          4589               217  2020-03-17   \n",
       "3            320                0         81099               949  2020-03-17   \n",
       "4             17                0          8920               125  2020-03-17   \n",
       "..           ...              ...           ...               ...         ...   \n",
       "99             0                0          3195                17  2020-03-17   \n",
       "100           19                0          2330                30  2020-03-17   \n",
       "101            0                0           161                 1  2020-03-17   \n",
       "102         2634                3        448260              7218  2020-03-17   \n",
       "103         7020                6       1761706             27235  2020-03-17   \n",
       "\n",
       "         dt_end dt_unit  population  \n",
       "0    2020-07-05     day           1  \n",
       "1    2020-07-05     day           1  \n",
       "2    2020-07-05     day           1  \n",
       "3    2020-07-05     day           1  \n",
       "4    2020-07-05     day           1  \n",
       "..          ...     ...         ...  \n",
       "99   2020-07-05     day           1  \n",
       "100  2020-07-05     day           1  \n",
       "101  2020-07-05     day           1  \n",
       "102  2020-07-05     day           1  \n",
       "103  2020-07-05     day           1  \n",
       "\n",
       "[104 rows x 17 columns]"
      ]
     },
     "execution_count": 136,
     "metadata": {},
     "output_type": "execute_result"
    }
   ],
   "source": [
    "county_final_gpd"
   ]
  },
  {
   "cell_type": "code",
   "execution_count": 137,
   "metadata": {
    "pycharm": {
     "is_executing": true
    }
   },
   "outputs": [],
   "source": [
    "county_final_gpd['geometry'] = county_final_gpd.apply(lambda x: shapely.wkt.loads(shapely.wkt.dumps(x.geometry, rounding_precision=8)).simplify(0), axis = 1)"
   ]
  },
  {
   "cell_type": "code",
   "execution_count": 138,
   "metadata": {
    "pycharm": {
     "is_executing": true,
     "name": "#%%\n"
    }
   },
   "outputs": [
    {
     "name": "stdout",
     "output_type": "stream",
     "text": [
      "done\n"
     ]
    }
   ],
   "source": [
    "county_final_gpd.to_file('dph_county_data.geojson', driver='GeoJSON', encoding='utf-8')\n",
    "print('done')"
   ]
  }
 ],
 "metadata": {
  "kernelspec": {
   "display_name": "Python 3",
   "language": "python",
   "name": "python3"
  },
  "language_info": {
   "codemirror_mode": {
    "name": "ipython",
    "version": 3
   },
   "file_extension": ".py",
   "mimetype": "text/x-python",
   "name": "python",
   "nbconvert_exporter": "python",
   "pygments_lexer": "ipython3",
   "version": "3.8.2"
  },
  "pycharm": {
   "stem_cell": {
    "cell_type": "raw",
    "metadata": {
     "collapsed": false
    },
    "source": []
   }
  }
 },
 "nbformat": 4,
 "nbformat_minor": 1
}
