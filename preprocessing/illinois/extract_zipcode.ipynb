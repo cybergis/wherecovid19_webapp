{
 "cells": [
  {
   "cell_type": "markdown",
   "metadata": {
    "collapsed": true,
    "pycharm": {
     "name": "#%% md\n"
    }
   },
   "source": [
    "URL preparation"
   ]
  },
  {
   "cell_type": "code",
   "execution_count": 171,
   "outputs": [],
   "source": [
    "# Geometry URL\n",
    "zipcode_geometry_url = \"http://www.dph.illinois.gov/sites/default/files/COVID19/il_illinois_zip_codes.json?nocache=1\"\n",
    "county_geometry_url = \"http://www.dph.illinois.gov/sites/default/files/Illinois_County_Geo_ch.json\"\n",
    "\n",
    "# Data URL\n",
    "county_data_url = \"http://www.dph.illinois.gov/sitefiles/CountyDemos.json?nocache=1\"\n",
    "zipcode_data_url = \"http://www.dph.illinois.gov/sitefiles/COVIDZip.json?nocache=1\"\n",
    "history_data_url = \"http://www.dph.illinois.gov/sitefiles/COVIDHistoricalTestResults.json?nocache=1\""
   ],
   "metadata": {
    "collapsed": false,
    "pycharm": {
     "name": "#%%\n",
     "is_executing": false
    }
   }
  },
  {
   "cell_type": "code",
   "execution_count": 172,
   "outputs": [],
   "source": [
    "import pandas as pd\n",
    "import json\n",
    "import numpy as np\n",
    "import geopandas as gpd\n",
    "from urllib.request import urlopen"
   ],
   "metadata": {
    "collapsed": false,
    "pycharm": {
     "name": "#%%\n",
     "is_executing": false
    }
   }
  },
  {
   "cell_type": "markdown",
   "source": [
    "Download data"
   ],
   "metadata": {
    "collapsed": false,
    "pycharm": {
     "name": "#%% md\n"
    }
   }
  },
  {
   "cell_type": "code",
   "execution_count": 173,
   "outputs": [],
   "source": [
    "with urlopen(zipcode_data_url) as response:\n",
    "    zipcode_dict = json.load(response)\n",
    "    zipcode_data = pd.DataFrame(zipcode_dict['zip_values'])\n",
    "    "
   ],
   "metadata": {
    "collapsed": false,
    "pycharm": {
     "name": "#%%\n",
     "is_executing": false
    }
   }
  },
  {
   "cell_type": "code",
   "execution_count": 174,
   "outputs": [],
   "source": [
    "# with urlopen(county_data_url) as response:\n",
    "#     county_dict = json.load(response)\n",
    "#     county_data = pd.DataFrame(county_dict['county_demographics'])\n",
    "    "
   ],
   "metadata": {
    "collapsed": false,
    "pycharm": {
     "name": "#%%\n",
     "is_executing": false
    }
   }
  },
  {
   "cell_type": "code",
   "execution_count": 175,
   "outputs": [],
   "source": [
    "with urlopen(history_data_url) as response:\n",
    "    history_dict = json.load(response)"
   ],
   "metadata": {
    "collapsed": false,
    "pycharm": {
     "name": "#%%\n",
     "is_executing": false
    }
   }
  },
  {
   "cell_type": "code",
   "execution_count": 176,
   "outputs": [],
   "source": [
    "zipcode_geometry = gpd.read_file(zipcode_geometry_url)\n",
    "county_geometry = gpd.read_file(county_geometry_url)"
   ],
   "metadata": {
    "collapsed": false,
    "pycharm": {
     "name": "#%%\n",
     "is_executing": false
    }
   }
  },
  {
   "cell_type": "code",
   "execution_count": 177,
   "outputs": [],
   "source": [
    "with urlopen(zipcode_geometry_url) as response:\n",
    "    tmp = json.load(response)\n",
    "    zipcode_gpd = gpd.GeoDataFrame(tmp['features'])"
   ],
   "metadata": {
    "collapsed": false,
    "pycharm": {
     "name": "#%%\n",
     "is_executing": false
    }
   }
  },
  {
   "cell_type": "code",
   "execution_count": 178,
   "outputs": [],
   "source": [
    "zipcode_gpd['geometry'] = zipcode_geometry\n",
    "zipcode_gpd = zipcode_gpd[['id','geometry']]\n",
    "zipcode_gpd['id'] = zipcode_gpd['id'].astype(str)"
   ],
   "metadata": {
    "collapsed": false,
    "pycharm": {
     "name": "#%%    \n",
     "is_executing": false
    }
   }
  },
  {
   "cell_type": "code",
   "execution_count": 179,
   "outputs": [],
   "source": [
    "county_gpd = county_geometry[['id','geometry']]"
   ],
   "metadata": {
    "collapsed": false,
    "pycharm": {
     "name": "#%%\n",
     "is_executing": false
    }
   }
  },
  {
   "cell_type": "markdown",
   "source": [
    "Zipcode Data generation"
   ],
   "metadata": {
    "collapsed": false,
    "pycharm": {
     "name": "#%% md\n",
     "is_executing": false
    }
   }
  },
  {
   "cell_type": "code",
   "execution_count": 180,
   "outputs": [
    {
     "data": {
      "text/plain": "     confirmed_cases                                       demographics  \\\n0                  8  {'age': [{'age_group': 'Unknown', 'count': 0, ...   \n1                 68  {'age': [{'age_group': 'Unknown', 'count': 0, ...   \n2                205  {'age': [{'age_group': 'Unknown', 'count': 6, ...   \n3                113  {'age': [{'age_group': 'Unknown', 'count': 0, ...   \n4                181  {'age': [{'age_group': 'Unknown', 'count': 0, ...   \n5                200  {'age': [{'age_group': 'Unknown', 'count': 0, ...   \n6                 72  {'age': [{'age_group': 'Unknown', 'count': 0, ...   \n7                 68  {'age': [{'age_group': 'Unknown', 'count': 0, ...   \n8                 63  {'age': [{'age_group': 'Unknown', 'count': 0, ...   \n9                130  {'age': [{'age_group': 'Unknown', 'count': 0, ...   \n10               137  {'age': [{'age_group': 'Unknown', 'count': 0, ...   \n11               792  {'age': [{'age_group': 'Unknown', 'count': 0, ...   \n12               379  {'age': [{'age_group': 'Unknown', 'count': 0, ...   \n13                25  {'age': [{'age_group': 'Unknown', 'count': 0, ...   \n14                16  {'age': [{'age_group': 'Unknown', 'count': 0, ...   \n15                23  {'age': [{'age_group': 'Unknown', 'count': 0, ...   \n16               256  {'age': [{'age_group': 'Unknown', 'count': 0, ...   \n17               107  {'age': [{'age_group': 'Unknown', 'count': 0, ...   \n18               123  {'age': [{'age_group': 'Unknown', 'count': 0, ...   \n19               219  {'age': [{'age_group': 'Unknown', 'count': 0, ...   \n20               100  {'age': [{'age_group': 'Unknown', 'count': 0, ...   \n21               180  {'age': [{'age_group': 'Unknown', 'count': 0, ...   \n22                88  {'age': [{'age_group': 'Unknown', 'count': 0, ...   \n23                33  {'age': [{'age_group': 'Unknown', 'count': 0, ...   \n24                20  {'age': [{'age_group': 'Unknown', 'count': 0, ...   \n25                14  {'age': [{'age_group': 'Unknown', 'count': 0, ...   \n26                70  {'age': [{'age_group': 'Unknown', 'count': 0, ...   \n27               103  {'age': [{'age_group': 'Unknown', 'count': 0, ...   \n28               135  {'age': [{'age_group': 'Unknown', 'count': 0, ...   \n29               140  {'age': [{'age_group': 'Unknown', 'count': 0, ...   \n..               ...                                                ...   \n466               26  {'age': [{'age_group': 'Unknown', 'count': 0, ...   \n467               55  {'age': [{'age_group': 'Unknown', 'count': 0, ...   \n468               12  {'age': [{'age_group': 'Unknown', 'count': 0, ...   \n469               27  {'age': [{'age_group': 'Unknown', 'count': 0, ...   \n470               10  {'age': [{'age_group': 'Unknown', 'count': 0, ...   \n471               10  {'age': [{'age_group': 'Unknown', 'count': 0, ...   \n472                6  {'age': [{'age_group': 'Unknown', 'count': 0, ...   \n473                6  {'age': [{'age_group': 'Unknown', 'count': 0, ...   \n474               69  {'age': [{'age_group': 'Unknown', 'count': 0, ...   \n475               61  {'age': [{'age_group': 'Unknown', 'count': 0, ...   \n476               48  {'age': [{'age_group': 'Unknown', 'count': 0, ...   \n477               37  {'age': [{'age_group': 'Unknown', 'count': 0, ...   \n478               16  {'age': [{'age_group': 'Unknown', 'count': 0, ...   \n479               19  {'age': [{'age_group': 'Unknown', 'count': 0, ...   \n480               50  {'age': [{'age_group': 'Unknown', 'count': 0, ...   \n481               16  {'age': [{'age_group': 'Unknown', 'count': 0, ...   \n482                7  {'age': [{'age_group': 'Unknown', 'count': 0, ...   \n483               82  {'age': [{'age_group': 'Unknown', 'count': 0, ...   \n484                9  {'age': [{'age_group': 'Unknown', 'count': 0, ...   \n485               96  {'age': [{'age_group': 'Unknown', 'count': 0, ...   \n486               13  {'age': [{'age_group': 'Unknown', 'count': 0, ...   \n487               48  {'age': [{'age_group': 'Unknown', 'count': 0, ...   \n488               12  {'age': [{'age_group': 'Unknown', 'count': 0, ...   \n489                6  {'age': [{'age_group': 'Unknown', 'count': 0, ...   \n490               13  {'age': [{'age_group': 'Unknown', 'count': 0, ...   \n491               54  {'age': [{'age_group': 'Unknown', 'count': 0, ...   \n492                8  {'age': [{'age_group': 'Unknown', 'count': 0, ...   \n493               24  {'age': [{'age_group': 'Unknown', 'count': 0, ...   \n494               48  {'age': [{'age_group': 'Unknown', 'count': 0, ...   \n495               32  {'age': [{'age_group': 'Unknown', 'count': 0, ...   \n\n     total_tested    zip  \n0             145  53142  \n1             549  60002  \n2            2416  60004  \n3             734  60005  \n4             877  60007  \n5             898  60008  \n6             749  60010  \n7             238  60012  \n8             409  60013  \n9            1020  60014  \n10            790  60015  \n11           2671  60016  \n12           1274  60018  \n13            268  60020  \n14            100  60021  \n15            239  60022  \n16           1472  60025  \n17            503  60026  \n18            916  60030  \n19           1245  60031  \n20            410  60033  \n21           1102  60035  \n22            229  60040  \n23            209  60041  \n24            160  60042  \n25            106  60043  \n26            379  60044  \n27            648  60045  \n28            809  60046  \n29            767  60047  \n..            ...    ...  \n466           290  62568  \n467           469  62618  \n468           373  62629  \n469           536  62650  \n470           490  62656  \n471            93  62664  \n472           174  62675  \n473           134  62681  \n474           340  62684  \n475          1203  62702  \n476          1049  62703  \n477          1118  62704  \n478           214  62707  \n479           523  62711  \n480           658  62801  \n481           254  62832  \n482           270  62837  \n483           679  62864  \n484            82  62882  \n485           691  62901  \n486           101  62902  \n487           427  62906  \n488            50  62907  \n489            36  62912  \n490           221  62918  \n491           190  62920  \n492           262  62948  \n493           632  62959  \n494           440  62966  \n495           111  62992  \n\n[496 rows x 4 columns]",
      "text/html": "<div>\n<style scoped>\n    .dataframe tbody tr th:only-of-type {\n        vertical-align: middle;\n    }\n\n    .dataframe tbody tr th {\n        vertical-align: top;\n    }\n\n    .dataframe thead th {\n        text-align: right;\n    }\n</style>\n<table border=\"1\" class=\"dataframe\">\n  <thead>\n    <tr style=\"text-align: right;\">\n      <th></th>\n      <th>confirmed_cases</th>\n      <th>demographics</th>\n      <th>total_tested</th>\n      <th>zip</th>\n    </tr>\n  </thead>\n  <tbody>\n    <tr>\n      <th>0</th>\n      <td>8</td>\n      <td>{'age': [{'age_group': 'Unknown', 'count': 0, ...</td>\n      <td>145</td>\n      <td>53142</td>\n    </tr>\n    <tr>\n      <th>1</th>\n      <td>68</td>\n      <td>{'age': [{'age_group': 'Unknown', 'count': 0, ...</td>\n      <td>549</td>\n      <td>60002</td>\n    </tr>\n    <tr>\n      <th>2</th>\n      <td>205</td>\n      <td>{'age': [{'age_group': 'Unknown', 'count': 6, ...</td>\n      <td>2416</td>\n      <td>60004</td>\n    </tr>\n    <tr>\n      <th>3</th>\n      <td>113</td>\n      <td>{'age': [{'age_group': 'Unknown', 'count': 0, ...</td>\n      <td>734</td>\n      <td>60005</td>\n    </tr>\n    <tr>\n      <th>4</th>\n      <td>181</td>\n      <td>{'age': [{'age_group': 'Unknown', 'count': 0, ...</td>\n      <td>877</td>\n      <td>60007</td>\n    </tr>\n    <tr>\n      <th>5</th>\n      <td>200</td>\n      <td>{'age': [{'age_group': 'Unknown', 'count': 0, ...</td>\n      <td>898</td>\n      <td>60008</td>\n    </tr>\n    <tr>\n      <th>6</th>\n      <td>72</td>\n      <td>{'age': [{'age_group': 'Unknown', 'count': 0, ...</td>\n      <td>749</td>\n      <td>60010</td>\n    </tr>\n    <tr>\n      <th>7</th>\n      <td>68</td>\n      <td>{'age': [{'age_group': 'Unknown', 'count': 0, ...</td>\n      <td>238</td>\n      <td>60012</td>\n    </tr>\n    <tr>\n      <th>8</th>\n      <td>63</td>\n      <td>{'age': [{'age_group': 'Unknown', 'count': 0, ...</td>\n      <td>409</td>\n      <td>60013</td>\n    </tr>\n    <tr>\n      <th>9</th>\n      <td>130</td>\n      <td>{'age': [{'age_group': 'Unknown', 'count': 0, ...</td>\n      <td>1020</td>\n      <td>60014</td>\n    </tr>\n    <tr>\n      <th>10</th>\n      <td>137</td>\n      <td>{'age': [{'age_group': 'Unknown', 'count': 0, ...</td>\n      <td>790</td>\n      <td>60015</td>\n    </tr>\n    <tr>\n      <th>11</th>\n      <td>792</td>\n      <td>{'age': [{'age_group': 'Unknown', 'count': 0, ...</td>\n      <td>2671</td>\n      <td>60016</td>\n    </tr>\n    <tr>\n      <th>12</th>\n      <td>379</td>\n      <td>{'age': [{'age_group': 'Unknown', 'count': 0, ...</td>\n      <td>1274</td>\n      <td>60018</td>\n    </tr>\n    <tr>\n      <th>13</th>\n      <td>25</td>\n      <td>{'age': [{'age_group': 'Unknown', 'count': 0, ...</td>\n      <td>268</td>\n      <td>60020</td>\n    </tr>\n    <tr>\n      <th>14</th>\n      <td>16</td>\n      <td>{'age': [{'age_group': 'Unknown', 'count': 0, ...</td>\n      <td>100</td>\n      <td>60021</td>\n    </tr>\n    <tr>\n      <th>15</th>\n      <td>23</td>\n      <td>{'age': [{'age_group': 'Unknown', 'count': 0, ...</td>\n      <td>239</td>\n      <td>60022</td>\n    </tr>\n    <tr>\n      <th>16</th>\n      <td>256</td>\n      <td>{'age': [{'age_group': 'Unknown', 'count': 0, ...</td>\n      <td>1472</td>\n      <td>60025</td>\n    </tr>\n    <tr>\n      <th>17</th>\n      <td>107</td>\n      <td>{'age': [{'age_group': 'Unknown', 'count': 0, ...</td>\n      <td>503</td>\n      <td>60026</td>\n    </tr>\n    <tr>\n      <th>18</th>\n      <td>123</td>\n      <td>{'age': [{'age_group': 'Unknown', 'count': 0, ...</td>\n      <td>916</td>\n      <td>60030</td>\n    </tr>\n    <tr>\n      <th>19</th>\n      <td>219</td>\n      <td>{'age': [{'age_group': 'Unknown', 'count': 0, ...</td>\n      <td>1245</td>\n      <td>60031</td>\n    </tr>\n    <tr>\n      <th>20</th>\n      <td>100</td>\n      <td>{'age': [{'age_group': 'Unknown', 'count': 0, ...</td>\n      <td>410</td>\n      <td>60033</td>\n    </tr>\n    <tr>\n      <th>21</th>\n      <td>180</td>\n      <td>{'age': [{'age_group': 'Unknown', 'count': 0, ...</td>\n      <td>1102</td>\n      <td>60035</td>\n    </tr>\n    <tr>\n      <th>22</th>\n      <td>88</td>\n      <td>{'age': [{'age_group': 'Unknown', 'count': 0, ...</td>\n      <td>229</td>\n      <td>60040</td>\n    </tr>\n    <tr>\n      <th>23</th>\n      <td>33</td>\n      <td>{'age': [{'age_group': 'Unknown', 'count': 0, ...</td>\n      <td>209</td>\n      <td>60041</td>\n    </tr>\n    <tr>\n      <th>24</th>\n      <td>20</td>\n      <td>{'age': [{'age_group': 'Unknown', 'count': 0, ...</td>\n      <td>160</td>\n      <td>60042</td>\n    </tr>\n    <tr>\n      <th>25</th>\n      <td>14</td>\n      <td>{'age': [{'age_group': 'Unknown', 'count': 0, ...</td>\n      <td>106</td>\n      <td>60043</td>\n    </tr>\n    <tr>\n      <th>26</th>\n      <td>70</td>\n      <td>{'age': [{'age_group': 'Unknown', 'count': 0, ...</td>\n      <td>379</td>\n      <td>60044</td>\n    </tr>\n    <tr>\n      <th>27</th>\n      <td>103</td>\n      <td>{'age': [{'age_group': 'Unknown', 'count': 0, ...</td>\n      <td>648</td>\n      <td>60045</td>\n    </tr>\n    <tr>\n      <th>28</th>\n      <td>135</td>\n      <td>{'age': [{'age_group': 'Unknown', 'count': 0, ...</td>\n      <td>809</td>\n      <td>60046</td>\n    </tr>\n    <tr>\n      <th>29</th>\n      <td>140</td>\n      <td>{'age': [{'age_group': 'Unknown', 'count': 0, ...</td>\n      <td>767</td>\n      <td>60047</td>\n    </tr>\n    <tr>\n      <th>...</th>\n      <td>...</td>\n      <td>...</td>\n      <td>...</td>\n      <td>...</td>\n    </tr>\n    <tr>\n      <th>466</th>\n      <td>26</td>\n      <td>{'age': [{'age_group': 'Unknown', 'count': 0, ...</td>\n      <td>290</td>\n      <td>62568</td>\n    </tr>\n    <tr>\n      <th>467</th>\n      <td>55</td>\n      <td>{'age': [{'age_group': 'Unknown', 'count': 0, ...</td>\n      <td>469</td>\n      <td>62618</td>\n    </tr>\n    <tr>\n      <th>468</th>\n      <td>12</td>\n      <td>{'age': [{'age_group': 'Unknown', 'count': 0, ...</td>\n      <td>373</td>\n      <td>62629</td>\n    </tr>\n    <tr>\n      <th>469</th>\n      <td>27</td>\n      <td>{'age': [{'age_group': 'Unknown', 'count': 0, ...</td>\n      <td>536</td>\n      <td>62650</td>\n    </tr>\n    <tr>\n      <th>470</th>\n      <td>10</td>\n      <td>{'age': [{'age_group': 'Unknown', 'count': 0, ...</td>\n      <td>490</td>\n      <td>62656</td>\n    </tr>\n    <tr>\n      <th>471</th>\n      <td>10</td>\n      <td>{'age': [{'age_group': 'Unknown', 'count': 0, ...</td>\n      <td>93</td>\n      <td>62664</td>\n    </tr>\n    <tr>\n      <th>472</th>\n      <td>6</td>\n      <td>{'age': [{'age_group': 'Unknown', 'count': 0, ...</td>\n      <td>174</td>\n      <td>62675</td>\n    </tr>\n    <tr>\n      <th>473</th>\n      <td>6</td>\n      <td>{'age': [{'age_group': 'Unknown', 'count': 0, ...</td>\n      <td>134</td>\n      <td>62681</td>\n    </tr>\n    <tr>\n      <th>474</th>\n      <td>69</td>\n      <td>{'age': [{'age_group': 'Unknown', 'count': 0, ...</td>\n      <td>340</td>\n      <td>62684</td>\n    </tr>\n    <tr>\n      <th>475</th>\n      <td>61</td>\n      <td>{'age': [{'age_group': 'Unknown', 'count': 0, ...</td>\n      <td>1203</td>\n      <td>62702</td>\n    </tr>\n    <tr>\n      <th>476</th>\n      <td>48</td>\n      <td>{'age': [{'age_group': 'Unknown', 'count': 0, ...</td>\n      <td>1049</td>\n      <td>62703</td>\n    </tr>\n    <tr>\n      <th>477</th>\n      <td>37</td>\n      <td>{'age': [{'age_group': 'Unknown', 'count': 0, ...</td>\n      <td>1118</td>\n      <td>62704</td>\n    </tr>\n    <tr>\n      <th>478</th>\n      <td>16</td>\n      <td>{'age': [{'age_group': 'Unknown', 'count': 0, ...</td>\n      <td>214</td>\n      <td>62707</td>\n    </tr>\n    <tr>\n      <th>479</th>\n      <td>19</td>\n      <td>{'age': [{'age_group': 'Unknown', 'count': 0, ...</td>\n      <td>523</td>\n      <td>62711</td>\n    </tr>\n    <tr>\n      <th>480</th>\n      <td>50</td>\n      <td>{'age': [{'age_group': 'Unknown', 'count': 0, ...</td>\n      <td>658</td>\n      <td>62801</td>\n    </tr>\n    <tr>\n      <th>481</th>\n      <td>16</td>\n      <td>{'age': [{'age_group': 'Unknown', 'count': 0, ...</td>\n      <td>254</td>\n      <td>62832</td>\n    </tr>\n    <tr>\n      <th>482</th>\n      <td>7</td>\n      <td>{'age': [{'age_group': 'Unknown', 'count': 0, ...</td>\n      <td>270</td>\n      <td>62837</td>\n    </tr>\n    <tr>\n      <th>483</th>\n      <td>82</td>\n      <td>{'age': [{'age_group': 'Unknown', 'count': 0, ...</td>\n      <td>679</td>\n      <td>62864</td>\n    </tr>\n    <tr>\n      <th>484</th>\n      <td>9</td>\n      <td>{'age': [{'age_group': 'Unknown', 'count': 0, ...</td>\n      <td>82</td>\n      <td>62882</td>\n    </tr>\n    <tr>\n      <th>485</th>\n      <td>96</td>\n      <td>{'age': [{'age_group': 'Unknown', 'count': 0, ...</td>\n      <td>691</td>\n      <td>62901</td>\n    </tr>\n    <tr>\n      <th>486</th>\n      <td>13</td>\n      <td>{'age': [{'age_group': 'Unknown', 'count': 0, ...</td>\n      <td>101</td>\n      <td>62902</td>\n    </tr>\n    <tr>\n      <th>487</th>\n      <td>48</td>\n      <td>{'age': [{'age_group': 'Unknown', 'count': 0, ...</td>\n      <td>427</td>\n      <td>62906</td>\n    </tr>\n    <tr>\n      <th>488</th>\n      <td>12</td>\n      <td>{'age': [{'age_group': 'Unknown', 'count': 0, ...</td>\n      <td>50</td>\n      <td>62907</td>\n    </tr>\n    <tr>\n      <th>489</th>\n      <td>6</td>\n      <td>{'age': [{'age_group': 'Unknown', 'count': 0, ...</td>\n      <td>36</td>\n      <td>62912</td>\n    </tr>\n    <tr>\n      <th>490</th>\n      <td>13</td>\n      <td>{'age': [{'age_group': 'Unknown', 'count': 0, ...</td>\n      <td>221</td>\n      <td>62918</td>\n    </tr>\n    <tr>\n      <th>491</th>\n      <td>54</td>\n      <td>{'age': [{'age_group': 'Unknown', 'count': 0, ...</td>\n      <td>190</td>\n      <td>62920</td>\n    </tr>\n    <tr>\n      <th>492</th>\n      <td>8</td>\n      <td>{'age': [{'age_group': 'Unknown', 'count': 0, ...</td>\n      <td>262</td>\n      <td>62948</td>\n    </tr>\n    <tr>\n      <th>493</th>\n      <td>24</td>\n      <td>{'age': [{'age_group': 'Unknown', 'count': 0, ...</td>\n      <td>632</td>\n      <td>62959</td>\n    </tr>\n    <tr>\n      <th>494</th>\n      <td>48</td>\n      <td>{'age': [{'age_group': 'Unknown', 'count': 0, ...</td>\n      <td>440</td>\n      <td>62966</td>\n    </tr>\n    <tr>\n      <th>495</th>\n      <td>32</td>\n      <td>{'age': [{'age_group': 'Unknown', 'count': 0, ...</td>\n      <td>111</td>\n      <td>62992</td>\n    </tr>\n  </tbody>\n</table>\n<p>496 rows × 4 columns</p>\n</div>"
     },
     "metadata": {},
     "output_type": "execute_result",
     "execution_count": 180
    }
   ],
   "source": [
    "zipcode_data"
   ],
   "metadata": {
    "collapsed": false,
    "pycharm": {
     "name": "#%%\n",
     "is_executing": false
    }
   }
  },
  {
   "cell_type": "code",
   "execution_count": 181,
   "outputs": [
    {
     "data": {
      "text/plain": "id            object\ngeometry    geometry\ndtype: object"
     },
     "metadata": {},
     "output_type": "execute_result",
     "execution_count": 181
    }
   ],
   "source": [
    "zipcode_gpd.dtypes"
   ],
   "metadata": {
    "collapsed": false,
    "pycharm": {
     "name": "#%%\n",
     "is_executing": false
    }
   }
  },
  {
   "cell_type": "code",
   "execution_count": 182,
   "outputs": [],
   "source": [
    "zipcode_final_gpd = pd.merge(zipcode_gpd,zipcode_data, how = 'left', left_on=['id'], right_on=['zip'])"
   ],
   "metadata": {
    "collapsed": false,
    "pycharm": {
     "name": "#%%\n",
     "is_executing": false
    }
   }
  },
  {
   "cell_type": "code",
   "execution_count": 183,
   "outputs": [],
   "source": [
    "zipcode_final_gpd['confirmed_cases'] = zipcode_final_gpd['confirmed_cases'].replace(np.nan,0)\n",
    "zipcode_final_gpd['total_tested'] = zipcode_final_gpd['total_tested'].replace(np.nan,0)\n",
    "zipcode_final_gpd = zipcode_final_gpd[['id','confirmed_cases','total_tested','geometry']]"
   ],
   "metadata": {
    "collapsed": false,
    "pycharm": {
     "name": "#%%\n",
     "is_executing": false
    }
   }
  },
  {
   "cell_type": "code",
   "execution_count": 184,
   "outputs": [
    {
     "name": "stdout",
     "text": [
      "done\n"
     ],
     "output_type": "stream"
    }
   ],
   "source": [
    "zipcode_final_gpd.to_file('dph_zipcode_data.geojson', driver='GeoJSON', encoding='utf-8')\n",
    "print('done')"
   ],
   "metadata": {
    "collapsed": false,
    "pycharm": {
     "name": "#%%\n",
     "is_executing": false
    }
   }
  },
  {
   "cell_type": "markdown",
   "source": [
    "Static County Data Generation\n"
   ],
   "metadata": {
    "collapsed": false,
    "pycharm": {
     "name": "#%% md\n"
    }
   }
  },
  {
   "cell_type": "code",
   "execution_count": 185,
   "outputs": [],
   "source": [
    "county_static_data = pd.DataFrame(history_dict['characteristics_by_county']['values'])"
   ],
   "metadata": {
    "collapsed": false,
    "pycharm": {
     "name": "#%%\n",
     "is_executing": false
    }
   }
  },
  {
   "cell_type": "code",
   "execution_count": 186,
   "outputs": [],
   "source": [
    "county_static = pd.merge(county_gpd, county_static_data, how=\"left\", left_on=\"id\",right_on=\"County\")"
   ],
   "metadata": {
    "collapsed": false,
    "pycharm": {
     "name": "#%%\n",
     "is_executing": false
    }
   }
  },
  {
   "cell_type": "code",
   "execution_count": 187,
   "outputs": [],
   "source": [
    "county_static = county_static.rename(columns={'id':'NAME'})"
   ],
   "metadata": {
    "collapsed": false,
    "pycharm": {
     "name": "#%%\n",
     "is_executing": false
    }
   }
  },
  {
   "cell_type": "code",
   "execution_count": 188,
   "outputs": [
    {
     "name": "stdout",
     "text": [
      "done\n"
     ],
     "output_type": "stream"
    }
   ],
   "source": [
    "county_static.to_file('dph_county_static_data.geojson', driver='GeoJSON', encoding='utf-8')\n",
    "print('done')"
   ],
   "metadata": {
    "collapsed": false,
    "pycharm": {
     "name": "#%%\n",
     "is_executing": false
    }
   }
  },
  {
   "cell_type": "markdown",
   "source": [
    "County Data generation\n"
   ],
   "metadata": {
    "collapsed": false,
    "pycharm": {
     "name": "#%% md\n"
    }
   }
  },
  {
   "cell_type": "code",
   "execution_count": 189,
   "outputs": [],
   "source": [
    "# transform to new york times format\n",
    "county_history = pd.DataFrame(history_dict['historical_county']['values'])\n",
    "l = []\n",
    "for case in history_dict['historical_county']['values']:\n",
    "    testDate = case['testDate']\n",
    "    values = case['values']\n",
    "    for x in values:\n",
    "        x['date'] = testDate\n",
    "        l.append(x)\n",
    "county_history = pd.DataFrame(l)"
   ],
   "metadata": {
    "collapsed": false,
    "pycharm": {
     "name": "#%%\n",
     "is_executing": false
    }
   }
  },
  {
   "cell_type": "code",
   "execution_count": 190,
   "outputs": [],
   "source": [
    "# eliminate unassigned data\n",
    "county_history = county_history[county_history['County'] != 'Unassigned']"
   ],
   "metadata": {
    "collapsed": false,
    "pycharm": {
     "name": "#%%\n",
     "is_executing": false
    }
   }
  },
  {
   "cell_type": "code",
   "execution_count": 191,
   "outputs": [],
   "source": [
    "def standardDate(str):\n",
    "    l = str.split('/')\n",
    "    month = l[0]\n",
    "    day = l[1]\n",
    "    year = l[2]\n",
    "    if len(month) < 2:\n",
    "        month = '0' + month\n",
    "    if len(day) < 2:\n",
    "        day = '0' + day\n",
    "    return year + '-' + month + '-' + day"
   ],
   "metadata": {
    "collapsed": false,
    "pycharm": {
     "name": "#%%\n",
     "is_executing": false
    }
   }
  },
  {
   "cell_type": "code",
   "execution_count": 192,
   "outputs": [],
   "source": [
    "# pivot table\n",
    "county_pivot = pd.pivot_table(county_history, index=['County'],columns=['date'])"
   ],
   "metadata": {
    "collapsed": false,
    "pycharm": {
     "name": "#%%\n",
     "is_executing": false
    }
   }
  },
  {
   "cell_type": "code",
   "execution_count": 193,
   "outputs": [
    {
     "data": {
      "text/plain": "date\n3/17/2020    0.0\n3/18/2020    0.0\n3/19/2020    0.0\n3/20/2020    0.0\n3/21/2020    0.0\n3/22/2020    0.0\n3/24/2020    0.0\n3/25/2020    0.0\n3/26/2020    0.0\n3/27/2020    0.0\n3/28/2020    0.0\n3/29/2020    0.0\n3/30/2020    0.0\n3/31/2020    0.0\n4/1/2020     0.0\n4/10/2020    0.0\n4/11/2020    0.0\n4/12/2020    0.0\n4/13/2020    0.0\n4/14/2020    0.0\n4/15/2020    0.0\n4/16/2020    1.0\n4/17/2020    1.0\n4/18/2020    1.0\n4/19/2020    1.0\n4/2/2020     0.0\n4/20/2020    1.0\n4/21/2020    1.0\n4/22/2020    1.0\n4/23/2020    1.0\n4/24/2020    1.0\n4/25/2020    1.0\n4/26/2020    1.0\n4/27/2020    1.0\n4/28/2020    1.0\n4/29/2020    1.0\n4/3/2020     0.0\n4/30/2020    1.0\n4/4/2020     0.0\n4/5/2020     0.0\n4/6/2020     0.0\n4/7/2020     0.0\n4/8/2020     0.0\n4/9/2020     0.0\n5/1/2020     1.0\n5/10/2020    1.0\n5/11/2020    1.0\n5/12/2020    1.0\n5/13/2020    1.0\n5/14/2020    1.0\n5/15/2020    1.0\n5/2/2020     1.0\n5/3/2020     1.0\n5/4/2020     1.0\n5/5/2020     1.0\n5/6/2020     1.0\n5/7/2020     1.0\n5/8/2020     1.0\n5/9/2020     1.0\nName: Bond, dtype: float64"
     },
     "metadata": {},
     "output_type": "execute_result",
     "execution_count": 193
    }
   ],
   "source": [
    "county_pivot['deaths'].iloc[2]"
   ],
   "metadata": {
    "collapsed": false,
    "pycharm": {
     "name": "#%%\n",
     "is_executing": false
    }
   }
  },
  {
   "cell_type": "code",
   "execution_count": 194,
   "outputs": [],
   "source": [
    "# Standardized Date Format\n",
    "county_cases = county_pivot['confirmed_cases']\n",
    "county_deaths = county_pivot['deaths']"
   ],
   "metadata": {
    "collapsed": false,
    "pycharm": {
     "name": "#%%\n",
     "is_executing": false
    }
   }
  },
  {
   "cell_type": "code",
   "execution_count": 195,
   "outputs": [],
   "source": [
    "county_cases = county_cases.rename(columns=standardDate)\n",
    "county_deaths = county_deaths.rename(columns=standardDate)"
   ],
   "metadata": {
    "collapsed": false,
    "pycharm": {
     "name": "#%%\n",
     "is_executing": false
    }
   }
  },
  {
   "cell_type": "code",
   "execution_count": 196,
   "outputs": [],
   "source": [
    "# Add missing 03/23 data with 03/22\n",
    "county_cases['2020-03-23'] = county_cases['2020-03-22']\n",
    "county_deaths['2020-03-23'] = county_deaths['2020-03-22']"
   ],
   "metadata": {
    "collapsed": false,
    "pycharm": {
     "name": "#%%\n",
     "is_executing": false
    }
   }
  },
  {
   "cell_type": "code",
   "execution_count": 197,
   "outputs": [
    {
     "data": {
      "text/plain": "date    2020-03-17  2020-03-18  2020-03-19  2020-03-20  2020-03-21  \\\nCounty                                                               \nAdams          0.0         0.0         0.0         1.0         1.0   \n\ndate    2020-03-22  2020-03-24  2020-03-25  2020-03-26  2020-03-27  ...  \\\nCounty                                                              ...   \nAdams          1.0         1.0         1.0         1.0         1.0  ...   \n\ndate    2020-05-15  2020-05-02  2020-05-03  2020-05-04  2020-05-05  \\\nCounty                                                               \nAdams         42.0        40.0        40.0        40.0        40.0   \n\ndate    2020-05-06  2020-05-07  2020-05-08  2020-05-09  2020-03-23  \nCounty                                                              \nAdams         40.0        40.0        41.0        41.0         1.0  \n\n[1 rows x 60 columns]",
      "text/html": "<div>\n<style scoped>\n    .dataframe tbody tr th:only-of-type {\n        vertical-align: middle;\n    }\n\n    .dataframe tbody tr th {\n        vertical-align: top;\n    }\n\n    .dataframe thead th {\n        text-align: right;\n    }\n</style>\n<table border=\"1\" class=\"dataframe\">\n  <thead>\n    <tr style=\"text-align: right;\">\n      <th>date</th>\n      <th>2020-03-17</th>\n      <th>2020-03-18</th>\n      <th>2020-03-19</th>\n      <th>2020-03-20</th>\n      <th>2020-03-21</th>\n      <th>2020-03-22</th>\n      <th>2020-03-24</th>\n      <th>2020-03-25</th>\n      <th>2020-03-26</th>\n      <th>2020-03-27</th>\n      <th>...</th>\n      <th>2020-05-15</th>\n      <th>2020-05-02</th>\n      <th>2020-05-03</th>\n      <th>2020-05-04</th>\n      <th>2020-05-05</th>\n      <th>2020-05-06</th>\n      <th>2020-05-07</th>\n      <th>2020-05-08</th>\n      <th>2020-05-09</th>\n      <th>2020-03-23</th>\n    </tr>\n    <tr>\n      <th>County</th>\n      <th></th>\n      <th></th>\n      <th></th>\n      <th></th>\n      <th></th>\n      <th></th>\n      <th></th>\n      <th></th>\n      <th></th>\n      <th></th>\n      <th></th>\n      <th></th>\n      <th></th>\n      <th></th>\n      <th></th>\n      <th></th>\n      <th></th>\n      <th></th>\n      <th></th>\n      <th></th>\n      <th></th>\n    </tr>\n  </thead>\n  <tbody>\n    <tr>\n      <th>Adams</th>\n      <td>0.0</td>\n      <td>0.0</td>\n      <td>0.0</td>\n      <td>1.0</td>\n      <td>1.0</td>\n      <td>1.0</td>\n      <td>1.0</td>\n      <td>1.0</td>\n      <td>1.0</td>\n      <td>1.0</td>\n      <td>...</td>\n      <td>42.0</td>\n      <td>40.0</td>\n      <td>40.0</td>\n      <td>40.0</td>\n      <td>40.0</td>\n      <td>40.0</td>\n      <td>40.0</td>\n      <td>41.0</td>\n      <td>41.0</td>\n      <td>1.0</td>\n    </tr>\n  </tbody>\n</table>\n<p>1 rows × 60 columns</p>\n</div>"
     },
     "metadata": {},
     "output_type": "execute_result",
     "execution_count": 197
    }
   ],
   "source": [
    "county_cases.head(1)"
   ],
   "metadata": {
    "collapsed": false,
    "pycharm": {
     "name": "#%%\n",
     "is_executing": false
    }
   }
  },
  {
   "cell_type": "code",
   "execution_count": 198,
   "outputs": [],
   "source": [
    "# Get date information\n",
    "date = county_cases.columns.tolist()\n",
    "date.sort()\n",
    "dt_first = date[0]\n",
    "dt_today = date[-1]\n",
    "dt_yesterday = date[-2]"
   ],
   "metadata": {
    "collapsed": false,
    "pycharm": {
     "name": "#%%\n",
     "is_executing": false
    }
   }
  },
  {
   "cell_type": "code",
   "execution_count": 199,
   "outputs": [],
   "source": [
    "from datetime import datetime\n",
    "from datetime import timedelta"
   ],
   "metadata": {
    "collapsed": false,
    "pycharm": {
     "name": "#%%\n",
     "is_executing": false
    }
   }
  },
  {
   "cell_type": "code",
   "execution_count": 200,
   "outputs": [],
   "source": [
    "def find_missing_date(date):\n",
    "    dt_range = datetime.strptime(date[-1], \"%Y-%m-%d\") - datetime.strptime(date[0], \"%Y-%m-%d\")\n",
    "    if len(date) != dt_range.days + 1:\n",
    "        print('Alert! Missing Date or Redundant date')\n",
    "        for x in range(len(date) - 1):\n",
    "            if (datetime.strptime(date[x + 1], \"%Y-%m-%d\") - datetime.strptime(date[x], \"%Y-%m-%d\")).days != 1:\n",
    "                missing_date = datetime.strptime(date[x], \"%Y-%m-%d\") + timedelta(days=1)\n",
    "                print('Missing Date:')\n",
    "                print(missing_date)"
   ],
   "metadata": {
    "collapsed": false,
    "pycharm": {
     "name": "#%%\n",
     "is_executing": false
    }
   }
  },
  {
   "cell_type": "code",
   "execution_count": 201,
   "outputs": [],
   "source": [
    "# Looking for missing dates\n",
    "find_missing_date(date)"
   ],
   "metadata": {
    "collapsed": false,
    "pycharm": {
     "name": "#%%\n",
     "is_executing": false
    }
   }
  },
  {
   "cell_type": "code",
   "execution_count": 202,
   "outputs": [],
   "source": [
    "# reorder date\n",
    "county_cases = county_cases[date]\n",
    "county_deaths = county_deaths[date]"
   ],
   "metadata": {
    "collapsed": false,
    "pycharm": {
     "name": "#%%\n",
     "is_executing": false
    }
   }
  },
  {
   "cell_type": "code",
   "execution_count": 203,
   "outputs": [],
   "source": [
    "# get case time series\n",
    "cases_ts = county_cases.values.tolist()\n",
    "deaths_ts = county_deaths.values.tolist()"
   ],
   "metadata": {
    "collapsed": false,
    "pycharm": {
     "name": "#%%\n",
     "is_executing": false
    }
   }
  },
  {
   "cell_type": "code",
   "execution_count": 204,
   "outputs": [],
   "source": [
    "# get first case date\n",
    "county_cases['dt_first_case'] = (county_cases > 0).idxmax(axis=1)\n",
    "county_cases.loc[county_cases.iloc[:, -2] <= 0, 'dt_first_case'] = np.nan\n",
    "county_deaths['dt_first_death'] = (county_deaths > 0).idxmax(axis=1)\n",
    "county_deaths.loc[county_deaths.iloc[:, -2] <= 0, 'dt_first_death'] = np.nan"
   ],
   "metadata": {
    "collapsed": false,
    "pycharm": {
     "name": "#%%\n",
     "is_executing": false
    }
   }
  },
  {
   "cell_type": "code",
   "execution_count": 205,
   "outputs": [],
   "source": [
    "county_cases['cases_ts'] = cases_ts\n",
    "county_deaths['deaths_ts'] = deaths_ts"
   ],
   "metadata": {
    "collapsed": false,
    "pycharm": {
     "name": "#%%\n",
     "is_executing": false
    }
   }
  },
  {
   "cell_type": "code",
   "execution_count": 206,
   "outputs": [],
   "source": [
    "# Add today_case and today_new_case columns\n",
    "county_cases['today_case'] = county_cases[dt_today]\n",
    "county_cases['today_new_case'] = county_cases[dt_today] - county_cases[dt_yesterday]\n",
    "county_deaths['today_death'] = county_deaths[dt_today]\n",
    "county_deaths['today_new_death'] = county_deaths[dt_today] - county_deaths[dt_yesterday]"
   ],
   "metadata": {
    "collapsed": false,
    "pycharm": {
     "name": "#%%\n",
     "is_executing": false
    }
   }
  },
  {
   "cell_type": "code",
   "execution_count": 207,
   "outputs": [],
   "source": [
    "case_report = county_cases[['cases_ts','dt_first_case','today_case','today_new_case']]"
   ],
   "metadata": {
    "collapsed": false,
    "pycharm": {
     "name": "#%%\n",
     "is_executing": false
    }
   }
  },
  {
   "cell_type": "code",
   "execution_count": 208,
   "outputs": [],
   "source": [
    "death_report = county_deaths[['deaths_ts','dt_first_death','today_death','today_new_death']]"
   ],
   "metadata": {
    "collapsed": false,
    "pycharm": {
     "name": "#%%\n",
     "is_executing": false
    }
   }
  },
  {
   "cell_type": "code",
   "execution_count": 209,
   "outputs": [],
   "source": [
    "county_report = case_report.join(death_report, how=\"outer\")"
   ],
   "metadata": {
    "collapsed": false,
    "pycharm": {
     "name": "#%%\n",
     "is_executing": false
    }
   }
  },
  {
   "cell_type": "code",
   "execution_count": 210,
   "outputs": [],
   "source": [
    "county_report = county_report.reset_index()\n",
    "county_report.columns = ['NAME','cases_ts','dt_first_case','today_case','today_new_case','deaths_ts','dt_first_death','today_death','today_new_death']\n",
    "county_report['cases_ts'] = county_report['cases_ts'].apply(lambda x: ','.join(map(str,x)))\n",
    "county_report['deaths_ts'] = county_report['deaths_ts'].apply(lambda x: ','.join(map(str,x)))"
   ],
   "metadata": {
    "collapsed": false,
    "pycharm": {
     "name": "#%%\n",
     "is_executing": false
    }
   }
  },
  {
   "cell_type": "code",
   "execution_count": 211,
   "outputs": [
    {
     "data": {
      "text/plain": "array(['Illinois', 'Out Of State', 'Suburban Cook'], dtype=object)"
     },
     "metadata": {},
     "output_type": "execute_result",
     "execution_count": 211
    }
   ],
   "source": [
    "np.setdiff1d(county_report['NAME'],county_gpd['id'])\n",
    "# Illinois, Out of State and Suburban Cook is not in geometry"
   ],
   "metadata": {
    "collapsed": false,
    "pycharm": {
     "name": "#%%\n",
     "is_executing": false
    }
   }
  },
  {
   "cell_type": "code",
   "execution_count": 212,
   "outputs": [],
   "source": [
    "county_report = county_report[(county_report['NAME'] != 'Illinois') & (county_report['NAME'] != 'Out of State') & (county_report['NAME'] != 'Suburban Cook')]\n",
    "\n"
   ],
   "metadata": {
    "collapsed": false,
    "pycharm": {
     "name": "#%%\n",
     "is_executing": false
    }
   }
  },
  {
   "cell_type": "code",
   "execution_count": 213,
   "outputs": [],
   "source": [
    "county_report['dt_start'] = dt_first\n",
    "county_report['dt_end'] = dt_today\n",
    "county_report['dt_unit'] = 'day'"
   ],
   "metadata": {
    "collapsed": false,
    "pycharm": {
     "name": "#%%\n",
     "is_executing": false
    }
   }
  },
  {
   "cell_type": "code",
   "execution_count": 214,
   "outputs": [
    {
     "data": {
      "text/plain": "            NAME                                           cases_ts  \\\n0          Adams  0.0,0.0,0.0,1.0,1.0,1.0,1.0,1.0,1.0,1.0,1.0,1....   \n1      Alexander  0.0,0.0,0.0,0.0,0.0,0.0,0.0,0.0,0.0,0.0,0.0,0....   \n2           Bond  0.0,0.0,0.0,0.0,0.0,0.0,0.0,0.0,0.0,0.0,0.0,0....   \n3          Boone  0.0,0.0,0.0,0.0,0.0,0.0,0.0,0.0,0.0,0.0,0.0,0....   \n4          Brown  0.0,0.0,0.0,0.0,0.0,0.0,0.0,0.0,0.0,0.0,0.0,0....   \n5         Bureau  0.0,0.0,0.0,0.0,0.0,0.0,0.0,0.0,0.0,0.0,1.0,1....   \n6        Calhoun  0.0,0.0,0.0,0.0,0.0,0.0,0.0,0.0,0.0,0.0,0.0,0....   \n7        Carroll  0.0,0.0,0.0,0.0,0.0,0.0,0.0,0.0,0.0,0.0,0.0,1....   \n8           Cass  0.0,0.0,0.0,0.0,0.0,0.0,0.0,0.0,0.0,0.0,0.0,0....   \n9      Champaign  1.0,1.0,1.0,1.0,1.0,2.0,2.0,2.0,4.0,8.0,10.0,1...   \n10       Chicago  0.0,0.0,0.0,0.0,0.0,519.0,519.0,782.0,915.0,11...   \n11     Christian  0.0,0.0,0.0,1.0,1.0,1.0,1.0,1.0,1.0,1.0,1.0,1....   \n12         Clark  0.0,0.0,0.0,0.0,0.0,0.0,0.0,0.0,0.0,0.0,0.0,0....   \n13          Clay  0.0,0.0,0.0,0.0,0.0,0.0,0.0,0.0,0.0,0.0,0.0,0....   \n14       Clinton  2.0,3.0,3.0,3.0,3.0,3.0,3.0,3.0,4.0,5.0,5.0,5....   \n15         Coles  0.0,0.0,0.0,0.0,0.0,0.0,0.0,0.0,0.0,0.0,0.0,0....   \n16          Cook  107.0,178.0,278.0,411.0,548.0,286.0,286.0,412....   \n17      Crawford  0.0,0.0,0.0,0.0,0.0,0.0,0.0,0.0,0.0,0.0,0.0,0....   \n18    Cumberland  1.0,1.0,1.0,1.0,1.0,1.0,1.0,1.0,1.0,1.0,1.0,1....   \n19       De Witt  0.0,0.0,0.0,0.0,0.0,0.0,0.0,0.0,0.0,0.0,0.0,0....   \n20        DeKalb  0.0,0.0,0.0,0.0,1.0,1.0,1.0,1.0,1.0,3.0,4.0,4....   \n21       Douglas  0.0,0.0,0.0,0.0,0.0,0.0,0.0,0.0,1.0,1.0,1.0,1....   \n22        DuPage  26.0,45.0,54.0,57.0,65.0,79.0,79.0,103.0,131.0...   \n23         Edgar  0.0,0.0,0.0,0.0,0.0,0.0,0.0,0.0,0.0,0.0,0.0,0....   \n24       Edwards  0.0,0.0,0.0,0.0,0.0,0.0,0.0,0.0,0.0,0.0,0.0,0....   \n25     Effingham  0.0,0.0,0.0,0.0,0.0,0.0,0.0,0.0,0.0,0.0,0.0,0....   \n26       Fayette  0.0,0.0,0.0,0.0,0.0,0.0,0.0,0.0,0.0,0.0,0.0,1....   \n27          Ford  0.0,0.0,0.0,0.0,0.0,0.0,0.0,0.0,0.0,0.0,0.0,0....   \n28      Franklin  0.0,0.0,0.0,0.0,0.0,0.0,0.0,0.0,0.0,1.0,1.0,1....   \n29        Fulton  0.0,0.0,0.0,0.0,0.0,0.0,0.0,0.0,0.0,0.0,0.0,0....   \n..           ...                                                ...   \n75         Perry  0.0,0.0,0.0,0.0,0.0,0.0,0.0,0.0,0.0,0.0,0.0,0....   \n76         Piatt  0.0,0.0,0.0,0.0,0.0,0.0,0.0,0.0,0.0,0.0,0.0,0....   \n77          Pike  0.0,0.0,0.0,0.0,0.0,0.0,0.0,0.0,0.0,0.0,0.0,0....   \n78          Pope  0.0,0.0,0.0,0.0,0.0,0.0,0.0,0.0,0.0,0.0,0.0,0....   \n79       Pulaski  0.0,0.0,0.0,0.0,0.0,0.0,0.0,0.0,0.0,0.0,0.0,0....   \n80        Putnam  0.0,0.0,0.0,0.0,0.0,0.0,0.0,0.0,0.0,0.0,0.0,0....   \n81      Randolph  0.0,0.0,0.0,0.0,0.0,0.0,0.0,0.0,0.0,0.0,0.0,0....   \n82      Richland  0.0,0.0,0.0,0.0,0.0,0.0,0.0,0.0,0.0,0.0,0.0,0....   \n83   Rock Island  0.0,0.0,0.0,0.0,0.0,1.0,1.0,1.0,3.0,4.0,4.0,4....   \n84        Saline  0.0,0.0,0.0,0.0,0.0,0.0,0.0,0.0,0.0,0.0,0.0,0....   \n85      Sangamon  3.0,3.0,4.0,4.0,4.0,4.0,4.0,5.0,5.0,7.0,7.0,8....   \n86      Schuyler  0.0,0.0,0.0,0.0,0.0,0.0,0.0,0.0,0.0,0.0,0.0,0....   \n87         Scott  0.0,0.0,0.0,0.0,0.0,0.0,0.0,0.0,0.0,0.0,0.0,0....   \n88        Shelby  0.0,0.0,0.0,0.0,0.0,0.0,0.0,0.0,0.0,0.0,0.0,0....   \n89     St. Clair  2.0,3.0,3.0,3.0,3.0,3.0,3.0,7.0,7.0,13.0,15.0,...   \n90         Stark  0.0,0.0,0.0,0.0,0.0,0.0,0.0,0.0,0.0,0.0,0.0,0....   \n91    Stephenson  0.0,0.0,0.0,0.0,0.0,1.0,1.0,1.0,1.0,2.0,2.0,2....   \n93      Tazewell  0.0,0.0,0.0,0.0,0.0,0.0,0.0,0.0,0.0,2.0,2.0,3....   \n94         Union  0.0,0.0,0.0,0.0,0.0,0.0,0.0,0.0,0.0,0.0,0.0,0....   \n95     Vermilion  0.0,0.0,0.0,0.0,0.0,0.0,0.0,0.0,0.0,0.0,0.0,0....   \n96        Wabash  0.0,0.0,0.0,0.0,0.0,0.0,0.0,0.0,0.0,0.0,0.0,0....   \n97        Warren  0.0,0.0,0.0,0.0,0.0,0.0,0.0,0.0,0.0,0.0,0.0,0....   \n98    Washington  0.0,0.0,1.0,1.0,1.0,1.0,1.0,1.0,1.0,1.0,1.0,1....   \n99         Wayne  0.0,0.0,0.0,0.0,0.0,0.0,0.0,0.0,0.0,0.0,0.0,0....   \n100        White  0.0,0.0,0.0,0.0,0.0,0.0,0.0,0.0,0.0,0.0,0.0,0....   \n101    Whiteside  1.0,1.0,1.0,1.0,1.0,1.0,1.0,1.0,1.0,1.0,2.0,2....   \n102         Will  2.0,3.0,9.0,10.0,12.0,21.0,21.0,28.0,40.0,67.0...   \n103   Williamson  0.0,0.0,1.0,1.0,1.0,1.0,1.0,0.0,1.0,1.0,1.0,1....   \n104    Winnebago  1.0,1.0,1.0,2.0,4.0,5.0,5.0,5.0,7.0,8.0,8.0,9....   \n105     Woodford  1.0,1.0,2.0,2.0,2.0,2.0,2.0,3.0,3.0,3.0,3.0,3....   \n\n    dt_first_case  today_case  today_new_case  \\\n0      2020-03-20        42.0             1.0   \n1      2020-04-16         8.0             0.0   \n2      2020-03-29        11.0             1.0   \n3      2020-04-05       274.0             6.0   \n4      2020-05-01         9.0             0.0   \n5      2020-03-27        15.0             0.0   \n6      2020-04-05         1.0             0.0   \n7      2020-03-28        12.0             0.0   \n8      2020-04-20        67.0             1.0   \n9      2020-03-17       344.0            20.0   \n10     2020-03-22     35183.0           842.0   \n11     2020-03-20        30.0             0.0   \n12     2020-03-30         9.0             0.0   \n13     2020-04-14         2.0             0.0   \n14     2020-03-17       159.0             4.0   \n15     2020-04-07        67.0             5.0   \n16     2020-03-17     24722.0           606.0   \n17     2020-03-30        11.0             0.0   \n18     2020-03-17         8.0             0.0   \n19     2020-04-03         4.0             0.0   \n20     2020-03-21       229.0            12.0   \n21     2020-03-25        22.0             0.0   \n22     2020-03-17      5634.0           181.0   \n23     2020-05-15         1.0             1.0   \n24     2020-05-13         2.0             0.0   \n25     2020-04-03         6.0             0.0   \n26     2020-03-28        19.0             2.0   \n27     2020-03-31        16.0             1.0   \n28     2020-03-26        11.0             0.0   \n29     2020-04-10         6.0             0.0   \n..            ...         ...             ...   \n75     2020-04-11        38.0             0.0   \n76     2020-04-02         8.0             0.0   \n77     2020-04-04         1.0             0.0   \n78     2020-05-08         1.0             0.0   \n79     2020-04-09        40.0             7.0   \n80            NaN         0.0             0.0   \n81     2020-03-30       234.0             1.0   \n82     2020-04-07         3.0             0.0   \n83     2020-03-22       563.0            20.0   \n84     2020-03-30         6.0             0.0   \n85     2020-03-17       299.0            10.0   \n86     2020-04-09         7.0             0.0   \n87            NaN         0.0             0.0   \n88     2020-04-07        12.0             1.0   \n89     2020-03-17       765.0             6.0   \n90     2020-04-08         1.0             0.0   \n91     2020-03-22       135.0            16.0   \n93     2020-03-26        62.0             4.0   \n94     2020-04-15       117.0             4.0   \n95     2020-04-01        29.0             0.0   \n96     2020-04-06         1.0             0.0   \n97     2020-04-11       105.0             0.0   \n98     2020-03-19        17.0             0.0   \n99     2020-04-17         8.0            -3.0   \n100    2020-04-20         2.0             0.0   \n101    2020-03-17       113.0             2.0   \n102    2020-03-17      4277.0           187.0   \n103    2020-03-19        51.0            -1.0   \n104    2020-03-17      1390.0            53.0   \n105    2020-03-17        14.0             0.0   \n\n                                             deaths_ts dt_first_death  \\\n0    0.0,0.0,0.0,0.0,0.0,0.0,0.0,0.0,0.0,0.0,0.0,0....     2020-05-01   \n1    0.0,0.0,0.0,0.0,0.0,0.0,0.0,0.0,0.0,0.0,0.0,0....            NaN   \n2    0.0,0.0,0.0,0.0,0.0,0.0,0.0,0.0,0.0,0.0,0.0,0....     2020-04-16   \n3    0.0,0.0,0.0,0.0,0.0,0.0,0.0,0.0,0.0,0.0,0.0,0....     2020-04-08   \n4    0.0,0.0,0.0,0.0,0.0,0.0,0.0,0.0,0.0,0.0,0.0,0....            NaN   \n5    0.0,0.0,0.0,0.0,0.0,0.0,0.0,0.0,0.0,0.0,0.0,0....     2020-05-05   \n6    0.0,0.0,0.0,0.0,0.0,0.0,0.0,0.0,0.0,0.0,0.0,0....            NaN   \n7    0.0,0.0,0.0,0.0,0.0,0.0,0.0,0.0,0.0,0.0,0.0,0....     2020-04-01   \n8    0.0,0.0,0.0,0.0,0.0,0.0,0.0,0.0,0.0,0.0,0.0,0....            NaN   \n9    0.0,0.0,0.0,0.0,0.0,0.0,0.0,0.0,0.0,0.0,0.0,0....     2020-04-07   \n10   0.0,0.0,0.0,0.0,0.0,4.0,4.0,5.0,5.0,9.0,9.0,12...     2020-03-22   \n11   0.0,0.0,0.0,0.0,0.0,0.0,0.0,0.0,0.0,0.0,0.0,0....     2020-04-02   \n12   0.0,0.0,0.0,0.0,0.0,0.0,0.0,0.0,0.0,0.0,0.0,0....            NaN   \n13   0.0,0.0,0.0,0.0,0.0,0.0,0.0,0.0,0.0,0.0,0.0,0....            NaN   \n14   0.0,0.0,0.0,0.0,0.0,0.0,0.0,0.0,0.0,0.0,0.0,0....     2020-04-24   \n15   0.0,0.0,0.0,0.0,0.0,0.0,0.0,0.0,0.0,0.0,0.0,0....     2020-04-25   \n16   1.0,1.0,2.0,3.0,4.0,2.0,2.0,7.0,8.0,9.0,11.0,1...     2020-03-17   \n17   0.0,0.0,0.0,0.0,0.0,0.0,0.0,0.0,0.0,0.0,0.0,0....            NaN   \n18   0.0,0.0,0.0,0.0,0.0,0.0,0.0,0.0,0.0,0.0,0.0,0....            NaN   \n19   0.0,0.0,0.0,0.0,0.0,0.0,0.0,0.0,0.0,0.0,0.0,0....            NaN   \n20   0.0,0.0,0.0,0.0,0.0,0.0,0.0,0.0,0.0,0.0,0.0,0....     2020-04-06   \n21   0.0,0.0,0.0,0.0,0.0,0.0,0.0,0.0,0.0,0.0,0.0,0....            NaN   \n22   0.0,0.0,0.0,0.0,0.0,0.0,0.0,1.0,1.0,1.0,6.0,6....     2020-03-24   \n23   0.0,0.0,0.0,0.0,0.0,0.0,0.0,0.0,0.0,0.0,0.0,0....            NaN   \n24   0.0,0.0,0.0,0.0,0.0,0.0,0.0,0.0,0.0,0.0,0.0,0....            NaN   \n25   0.0,0.0,0.0,0.0,0.0,0.0,0.0,0.0,0.0,0.0,0.0,0....     2020-04-09   \n26   0.0,0.0,0.0,0.0,0.0,0.0,0.0,0.0,0.0,0.0,0.0,0....     2020-04-13   \n27   0.0,0.0,0.0,0.0,0.0,0.0,0.0,0.0,0.0,0.0,0.0,0....     2020-04-07   \n28   0.0,0.0,0.0,0.0,0.0,0.0,0.0,0.0,0.0,0.0,0.0,0....            NaN   \n29   0.0,0.0,0.0,0.0,0.0,0.0,0.0,0.0,0.0,0.0,0.0,0....            NaN   \n..                                                 ...            ...   \n75   0.0,0.0,0.0,0.0,0.0,0.0,0.0,0.0,0.0,0.0,0.0,0....            NaN   \n76   0.0,0.0,0.0,0.0,0.0,0.0,0.0,0.0,0.0,0.0,0.0,0....            NaN   \n77   0.0,0.0,0.0,0.0,0.0,0.0,0.0,0.0,0.0,0.0,0.0,0....            NaN   \n78   0.0,0.0,0.0,0.0,0.0,0.0,0.0,0.0,0.0,0.0,0.0,0....            NaN   \n79   0.0,0.0,0.0,0.0,0.0,0.0,0.0,0.0,0.0,0.0,0.0,0....            NaN   \n80   0.0,0.0,0.0,0.0,0.0,0.0,0.0,0.0,0.0,0.0,0.0,0....            NaN   \n81   0.0,0.0,0.0,0.0,0.0,0.0,0.0,0.0,0.0,0.0,0.0,0....     2020-04-17   \n82   0.0,0.0,0.0,0.0,0.0,0.0,0.0,0.0,0.0,0.0,0.0,0....            NaN   \n83   0.0,0.0,0.0,0.0,0.0,0.0,0.0,0.0,0.0,0.0,0.0,0....     2020-04-09   \n84   0.0,0.0,0.0,0.0,0.0,0.0,0.0,0.0,0.0,0.0,0.0,0....            NaN   \n85   0.0,0.0,0.0,1.0,1.0,1.0,1.0,1.0,1.0,1.0,1.0,1....     2020-03-20   \n86   0.0,0.0,0.0,0.0,0.0,0.0,0.0,0.0,0.0,0.0,0.0,0....            NaN   \n87   0.0,0.0,0.0,0.0,0.0,0.0,0.0,0.0,0.0,0.0,0.0,0....            NaN   \n88   0.0,0.0,0.0,0.0,0.0,0.0,0.0,0.0,0.0,0.0,0.0,0....     2020-04-29   \n89   0.0,0.0,0.0,0.0,0.0,0.0,0.0,0.0,0.0,0.0,0.0,0....     2020-03-29   \n90   0.0,0.0,0.0,0.0,0.0,0.0,0.0,0.0,0.0,0.0,0.0,0....            NaN   \n91   0.0,0.0,0.0,0.0,0.0,0.0,0.0,0.0,0.0,0.0,0.0,0....            NaN   \n93   0.0,0.0,0.0,0.0,0.0,0.0,0.0,0.0,0.0,0.0,0.0,0....     2020-04-07   \n94   0.0,0.0,0.0,0.0,0.0,0.0,0.0,0.0,0.0,0.0,0.0,0....     2020-05-05   \n95   0.0,0.0,0.0,0.0,0.0,0.0,0.0,0.0,0.0,0.0,0.0,0....     2020-04-29   \n96   0.0,0.0,0.0,0.0,0.0,0.0,0.0,0.0,0.0,0.0,0.0,0....            NaN   \n97   0.0,0.0,0.0,0.0,0.0,0.0,0.0,0.0,0.0,0.0,0.0,0....            NaN   \n98   0.0,0.0,0.0,0.0,0.0,0.0,0.0,0.0,0.0,0.0,0.0,0....            NaN   \n99   0.0,0.0,0.0,0.0,0.0,0.0,0.0,0.0,0.0,0.0,0.0,0....     2020-05-14   \n100  0.0,0.0,0.0,0.0,0.0,0.0,0.0,0.0,0.0,0.0,0.0,0....            NaN   \n101  0.0,0.0,0.0,0.0,0.0,0.0,0.0,0.0,0.0,0.0,0.0,0....     2020-04-02   \n102  0.0,0.0,0.0,1.0,1.0,1.0,1.0,1.0,2.0,3.0,3.0,4....     2020-03-20   \n103  0.0,0.0,1.0,1.0,0.0,0.0,0.0,0.0,0.0,0.0,0.0,0....     2020-03-19   \n104  0.0,0.0,0.0,0.0,0.0,0.0,0.0,0.0,0.0,0.0,0.0,0....     2020-04-01   \n105  0.0,0.0,0.0,0.0,0.0,0.0,0.0,0.0,0.0,0.0,0.0,0....     2020-04-21   \n\n     today_death  today_new_death    dt_start      dt_end dt_unit  \n0            1.0              0.0  2020-03-17  2020-05-15     day  \n1            0.0              0.0  2020-03-17  2020-05-15     day  \n2            1.0              0.0  2020-03-17  2020-05-15     day  \n3           14.0              1.0  2020-03-17  2020-05-15     day  \n4            0.0              0.0  2020-03-17  2020-05-15     day  \n5            1.0              0.0  2020-03-17  2020-05-15     day  \n6            0.0              0.0  2020-03-17  2020-05-15     day  \n7            2.0              0.0  2020-03-17  2020-05-15     day  \n8            0.0              0.0  2020-03-17  2020-05-15     day  \n9            7.0              1.0  2020-03-17  2020-05-15     day  \n10        1606.0             54.0  2020-03-17  2020-05-15     day  \n11           4.0              0.0  2020-03-17  2020-05-15     day  \n12           0.0              0.0  2020-03-17  2020-05-15     day  \n13           0.0              0.0  2020-03-17  2020-05-15     day  \n14          13.0              0.0  2020-03-17  2020-05-15     day  \n15           4.0              0.0  2020-03-17  2020-05-15     day  \n16        1156.0             33.0  2020-03-17  2020-05-15     day  \n17           0.0              0.0  2020-03-17  2020-05-15     day  \n18           0.0              0.0  2020-03-17  2020-05-15     day  \n19           0.0              0.0  2020-03-17  2020-05-15     day  \n20           2.0              0.0  2020-03-17  2020-05-15     day  \n21           0.0              0.0  2020-03-17  2020-05-15     day  \n22         287.0              8.0  2020-03-17  2020-05-15     day  \n23           0.0              0.0  2020-03-17  2020-05-15     day  \n24           0.0              0.0  2020-03-17  2020-05-15     day  \n25           1.0              0.0  2020-03-17  2020-05-15     day  \n26           2.0              0.0  2020-03-17  2020-05-15     day  \n27           1.0              0.0  2020-03-17  2020-05-15     day  \n28           0.0              0.0  2020-03-17  2020-05-15     day  \n29           0.0              0.0  2020-03-17  2020-05-15     day  \n..           ...              ...         ...         ...     ...  \n75           0.0              0.0  2020-03-17  2020-05-15     day  \n76           0.0              0.0  2020-03-17  2020-05-15     day  \n77           0.0              0.0  2020-03-17  2020-05-15     day  \n78           0.0              0.0  2020-03-17  2020-05-15     day  \n79           0.0              0.0  2020-03-17  2020-05-15     day  \n80           0.0              0.0  2020-03-17  2020-05-15     day  \n81           3.0              0.0  2020-03-17  2020-05-15     day  \n82           0.0              0.0  2020-03-17  2020-05-15     day  \n83          18.0              1.0  2020-03-17  2020-05-15     day  \n84           0.0              0.0  2020-03-17  2020-05-15     day  \n85          25.0              1.0  2020-03-17  2020-05-15     day  \n86           0.0              0.0  2020-03-17  2020-05-15     day  \n87           0.0              0.0  2020-03-17  2020-05-15     day  \n88           1.0              0.0  2020-03-17  2020-05-15     day  \n89          63.0              2.0  2020-03-17  2020-05-15     day  \n90           0.0              0.0  2020-03-17  2020-05-15     day  \n91           0.0              0.0  2020-03-17  2020-05-15     day  \n93           3.0              0.0  2020-03-17  2020-05-15     day  \n94           4.0              3.0  2020-03-17  2020-05-15     day  \n95           1.0              0.0  2020-03-17  2020-05-15     day  \n96           0.0              0.0  2020-03-17  2020-05-15     day  \n97           0.0              0.0  2020-03-17  2020-05-15     day  \n98           0.0              0.0  2020-03-17  2020-05-15     day  \n99           1.0              0.0  2020-03-17  2020-05-15     day  \n100          0.0              0.0  2020-03-17  2020-05-15     day  \n101          8.0              0.0  2020-03-17  2020-05-15     day  \n102        237.0              6.0  2020-03-17  2020-05-15     day  \n103          1.0              0.0  2020-03-17  2020-05-15     day  \n104         33.0              1.0  2020-03-17  2020-05-15     day  \n105          1.0              0.0  2020-03-17  2020-05-15     day  \n\n[104 rows x 12 columns]",
      "text/html": "<div>\n<style scoped>\n    .dataframe tbody tr th:only-of-type {\n        vertical-align: middle;\n    }\n\n    .dataframe tbody tr th {\n        vertical-align: top;\n    }\n\n    .dataframe thead th {\n        text-align: right;\n    }\n</style>\n<table border=\"1\" class=\"dataframe\">\n  <thead>\n    <tr style=\"text-align: right;\">\n      <th></th>\n      <th>NAME</th>\n      <th>cases_ts</th>\n      <th>dt_first_case</th>\n      <th>today_case</th>\n      <th>today_new_case</th>\n      <th>deaths_ts</th>\n      <th>dt_first_death</th>\n      <th>today_death</th>\n      <th>today_new_death</th>\n      <th>dt_start</th>\n      <th>dt_end</th>\n      <th>dt_unit</th>\n    </tr>\n  </thead>\n  <tbody>\n    <tr>\n      <th>0</th>\n      <td>Adams</td>\n      <td>0.0,0.0,0.0,1.0,1.0,1.0,1.0,1.0,1.0,1.0,1.0,1....</td>\n      <td>2020-03-20</td>\n      <td>42.0</td>\n      <td>1.0</td>\n      <td>0.0,0.0,0.0,0.0,0.0,0.0,0.0,0.0,0.0,0.0,0.0,0....</td>\n      <td>2020-05-01</td>\n      <td>1.0</td>\n      <td>0.0</td>\n      <td>2020-03-17</td>\n      <td>2020-05-15</td>\n      <td>day</td>\n    </tr>\n    <tr>\n      <th>1</th>\n      <td>Alexander</td>\n      <td>0.0,0.0,0.0,0.0,0.0,0.0,0.0,0.0,0.0,0.0,0.0,0....</td>\n      <td>2020-04-16</td>\n      <td>8.0</td>\n      <td>0.0</td>\n      <td>0.0,0.0,0.0,0.0,0.0,0.0,0.0,0.0,0.0,0.0,0.0,0....</td>\n      <td>NaN</td>\n      <td>0.0</td>\n      <td>0.0</td>\n      <td>2020-03-17</td>\n      <td>2020-05-15</td>\n      <td>day</td>\n    </tr>\n    <tr>\n      <th>2</th>\n      <td>Bond</td>\n      <td>0.0,0.0,0.0,0.0,0.0,0.0,0.0,0.0,0.0,0.0,0.0,0....</td>\n      <td>2020-03-29</td>\n      <td>11.0</td>\n      <td>1.0</td>\n      <td>0.0,0.0,0.0,0.0,0.0,0.0,0.0,0.0,0.0,0.0,0.0,0....</td>\n      <td>2020-04-16</td>\n      <td>1.0</td>\n      <td>0.0</td>\n      <td>2020-03-17</td>\n      <td>2020-05-15</td>\n      <td>day</td>\n    </tr>\n    <tr>\n      <th>3</th>\n      <td>Boone</td>\n      <td>0.0,0.0,0.0,0.0,0.0,0.0,0.0,0.0,0.0,0.0,0.0,0....</td>\n      <td>2020-04-05</td>\n      <td>274.0</td>\n      <td>6.0</td>\n      <td>0.0,0.0,0.0,0.0,0.0,0.0,0.0,0.0,0.0,0.0,0.0,0....</td>\n      <td>2020-04-08</td>\n      <td>14.0</td>\n      <td>1.0</td>\n      <td>2020-03-17</td>\n      <td>2020-05-15</td>\n      <td>day</td>\n    </tr>\n    <tr>\n      <th>4</th>\n      <td>Brown</td>\n      <td>0.0,0.0,0.0,0.0,0.0,0.0,0.0,0.0,0.0,0.0,0.0,0....</td>\n      <td>2020-05-01</td>\n      <td>9.0</td>\n      <td>0.0</td>\n      <td>0.0,0.0,0.0,0.0,0.0,0.0,0.0,0.0,0.0,0.0,0.0,0....</td>\n      <td>NaN</td>\n      <td>0.0</td>\n      <td>0.0</td>\n      <td>2020-03-17</td>\n      <td>2020-05-15</td>\n      <td>day</td>\n    </tr>\n    <tr>\n      <th>5</th>\n      <td>Bureau</td>\n      <td>0.0,0.0,0.0,0.0,0.0,0.0,0.0,0.0,0.0,0.0,1.0,1....</td>\n      <td>2020-03-27</td>\n      <td>15.0</td>\n      <td>0.0</td>\n      <td>0.0,0.0,0.0,0.0,0.0,0.0,0.0,0.0,0.0,0.0,0.0,0....</td>\n      <td>2020-05-05</td>\n      <td>1.0</td>\n      <td>0.0</td>\n      <td>2020-03-17</td>\n      <td>2020-05-15</td>\n      <td>day</td>\n    </tr>\n    <tr>\n      <th>6</th>\n      <td>Calhoun</td>\n      <td>0.0,0.0,0.0,0.0,0.0,0.0,0.0,0.0,0.0,0.0,0.0,0....</td>\n      <td>2020-04-05</td>\n      <td>1.0</td>\n      <td>0.0</td>\n      <td>0.0,0.0,0.0,0.0,0.0,0.0,0.0,0.0,0.0,0.0,0.0,0....</td>\n      <td>NaN</td>\n      <td>0.0</td>\n      <td>0.0</td>\n      <td>2020-03-17</td>\n      <td>2020-05-15</td>\n      <td>day</td>\n    </tr>\n    <tr>\n      <th>7</th>\n      <td>Carroll</td>\n      <td>0.0,0.0,0.0,0.0,0.0,0.0,0.0,0.0,0.0,0.0,0.0,1....</td>\n      <td>2020-03-28</td>\n      <td>12.0</td>\n      <td>0.0</td>\n      <td>0.0,0.0,0.0,0.0,0.0,0.0,0.0,0.0,0.0,0.0,0.0,0....</td>\n      <td>2020-04-01</td>\n      <td>2.0</td>\n      <td>0.0</td>\n      <td>2020-03-17</td>\n      <td>2020-05-15</td>\n      <td>day</td>\n    </tr>\n    <tr>\n      <th>8</th>\n      <td>Cass</td>\n      <td>0.0,0.0,0.0,0.0,0.0,0.0,0.0,0.0,0.0,0.0,0.0,0....</td>\n      <td>2020-04-20</td>\n      <td>67.0</td>\n      <td>1.0</td>\n      <td>0.0,0.0,0.0,0.0,0.0,0.0,0.0,0.0,0.0,0.0,0.0,0....</td>\n      <td>NaN</td>\n      <td>0.0</td>\n      <td>0.0</td>\n      <td>2020-03-17</td>\n      <td>2020-05-15</td>\n      <td>day</td>\n    </tr>\n    <tr>\n      <th>9</th>\n      <td>Champaign</td>\n      <td>1.0,1.0,1.0,1.0,1.0,2.0,2.0,2.0,4.0,8.0,10.0,1...</td>\n      <td>2020-03-17</td>\n      <td>344.0</td>\n      <td>20.0</td>\n      <td>0.0,0.0,0.0,0.0,0.0,0.0,0.0,0.0,0.0,0.0,0.0,0....</td>\n      <td>2020-04-07</td>\n      <td>7.0</td>\n      <td>1.0</td>\n      <td>2020-03-17</td>\n      <td>2020-05-15</td>\n      <td>day</td>\n    </tr>\n    <tr>\n      <th>10</th>\n      <td>Chicago</td>\n      <td>0.0,0.0,0.0,0.0,0.0,519.0,519.0,782.0,915.0,11...</td>\n      <td>2020-03-22</td>\n      <td>35183.0</td>\n      <td>842.0</td>\n      <td>0.0,0.0,0.0,0.0,0.0,4.0,4.0,5.0,5.0,9.0,9.0,12...</td>\n      <td>2020-03-22</td>\n      <td>1606.0</td>\n      <td>54.0</td>\n      <td>2020-03-17</td>\n      <td>2020-05-15</td>\n      <td>day</td>\n    </tr>\n    <tr>\n      <th>11</th>\n      <td>Christian</td>\n      <td>0.0,0.0,0.0,1.0,1.0,1.0,1.0,1.0,1.0,1.0,1.0,1....</td>\n      <td>2020-03-20</td>\n      <td>30.0</td>\n      <td>0.0</td>\n      <td>0.0,0.0,0.0,0.0,0.0,0.0,0.0,0.0,0.0,0.0,0.0,0....</td>\n      <td>2020-04-02</td>\n      <td>4.0</td>\n      <td>0.0</td>\n      <td>2020-03-17</td>\n      <td>2020-05-15</td>\n      <td>day</td>\n    </tr>\n    <tr>\n      <th>12</th>\n      <td>Clark</td>\n      <td>0.0,0.0,0.0,0.0,0.0,0.0,0.0,0.0,0.0,0.0,0.0,0....</td>\n      <td>2020-03-30</td>\n      <td>9.0</td>\n      <td>0.0</td>\n      <td>0.0,0.0,0.0,0.0,0.0,0.0,0.0,0.0,0.0,0.0,0.0,0....</td>\n      <td>NaN</td>\n      <td>0.0</td>\n      <td>0.0</td>\n      <td>2020-03-17</td>\n      <td>2020-05-15</td>\n      <td>day</td>\n    </tr>\n    <tr>\n      <th>13</th>\n      <td>Clay</td>\n      <td>0.0,0.0,0.0,0.0,0.0,0.0,0.0,0.0,0.0,0.0,0.0,0....</td>\n      <td>2020-04-14</td>\n      <td>2.0</td>\n      <td>0.0</td>\n      <td>0.0,0.0,0.0,0.0,0.0,0.0,0.0,0.0,0.0,0.0,0.0,0....</td>\n      <td>NaN</td>\n      <td>0.0</td>\n      <td>0.0</td>\n      <td>2020-03-17</td>\n      <td>2020-05-15</td>\n      <td>day</td>\n    </tr>\n    <tr>\n      <th>14</th>\n      <td>Clinton</td>\n      <td>2.0,3.0,3.0,3.0,3.0,3.0,3.0,3.0,4.0,5.0,5.0,5....</td>\n      <td>2020-03-17</td>\n      <td>159.0</td>\n      <td>4.0</td>\n      <td>0.0,0.0,0.0,0.0,0.0,0.0,0.0,0.0,0.0,0.0,0.0,0....</td>\n      <td>2020-04-24</td>\n      <td>13.0</td>\n      <td>0.0</td>\n      <td>2020-03-17</td>\n      <td>2020-05-15</td>\n      <td>day</td>\n    </tr>\n    <tr>\n      <th>15</th>\n      <td>Coles</td>\n      <td>0.0,0.0,0.0,0.0,0.0,0.0,0.0,0.0,0.0,0.0,0.0,0....</td>\n      <td>2020-04-07</td>\n      <td>67.0</td>\n      <td>5.0</td>\n      <td>0.0,0.0,0.0,0.0,0.0,0.0,0.0,0.0,0.0,0.0,0.0,0....</td>\n      <td>2020-04-25</td>\n      <td>4.0</td>\n      <td>0.0</td>\n      <td>2020-03-17</td>\n      <td>2020-05-15</td>\n      <td>day</td>\n    </tr>\n    <tr>\n      <th>16</th>\n      <td>Cook</td>\n      <td>107.0,178.0,278.0,411.0,548.0,286.0,286.0,412....</td>\n      <td>2020-03-17</td>\n      <td>24722.0</td>\n      <td>606.0</td>\n      <td>1.0,1.0,2.0,3.0,4.0,2.0,2.0,7.0,8.0,9.0,11.0,1...</td>\n      <td>2020-03-17</td>\n      <td>1156.0</td>\n      <td>33.0</td>\n      <td>2020-03-17</td>\n      <td>2020-05-15</td>\n      <td>day</td>\n    </tr>\n    <tr>\n      <th>17</th>\n      <td>Crawford</td>\n      <td>0.0,0.0,0.0,0.0,0.0,0.0,0.0,0.0,0.0,0.0,0.0,0....</td>\n      <td>2020-03-30</td>\n      <td>11.0</td>\n      <td>0.0</td>\n      <td>0.0,0.0,0.0,0.0,0.0,0.0,0.0,0.0,0.0,0.0,0.0,0....</td>\n      <td>NaN</td>\n      <td>0.0</td>\n      <td>0.0</td>\n      <td>2020-03-17</td>\n      <td>2020-05-15</td>\n      <td>day</td>\n    </tr>\n    <tr>\n      <th>18</th>\n      <td>Cumberland</td>\n      <td>1.0,1.0,1.0,1.0,1.0,1.0,1.0,1.0,1.0,1.0,1.0,1....</td>\n      <td>2020-03-17</td>\n      <td>8.0</td>\n      <td>0.0</td>\n      <td>0.0,0.0,0.0,0.0,0.0,0.0,0.0,0.0,0.0,0.0,0.0,0....</td>\n      <td>NaN</td>\n      <td>0.0</td>\n      <td>0.0</td>\n      <td>2020-03-17</td>\n      <td>2020-05-15</td>\n      <td>day</td>\n    </tr>\n    <tr>\n      <th>19</th>\n      <td>De Witt</td>\n      <td>0.0,0.0,0.0,0.0,0.0,0.0,0.0,0.0,0.0,0.0,0.0,0....</td>\n      <td>2020-04-03</td>\n      <td>4.0</td>\n      <td>0.0</td>\n      <td>0.0,0.0,0.0,0.0,0.0,0.0,0.0,0.0,0.0,0.0,0.0,0....</td>\n      <td>NaN</td>\n      <td>0.0</td>\n      <td>0.0</td>\n      <td>2020-03-17</td>\n      <td>2020-05-15</td>\n      <td>day</td>\n    </tr>\n    <tr>\n      <th>20</th>\n      <td>DeKalb</td>\n      <td>0.0,0.0,0.0,0.0,1.0,1.0,1.0,1.0,1.0,3.0,4.0,4....</td>\n      <td>2020-03-21</td>\n      <td>229.0</td>\n      <td>12.0</td>\n      <td>0.0,0.0,0.0,0.0,0.0,0.0,0.0,0.0,0.0,0.0,0.0,0....</td>\n      <td>2020-04-06</td>\n      <td>2.0</td>\n      <td>0.0</td>\n      <td>2020-03-17</td>\n      <td>2020-05-15</td>\n      <td>day</td>\n    </tr>\n    <tr>\n      <th>21</th>\n      <td>Douglas</td>\n      <td>0.0,0.0,0.0,0.0,0.0,0.0,0.0,0.0,1.0,1.0,1.0,1....</td>\n      <td>2020-03-25</td>\n      <td>22.0</td>\n      <td>0.0</td>\n      <td>0.0,0.0,0.0,0.0,0.0,0.0,0.0,0.0,0.0,0.0,0.0,0....</td>\n      <td>NaN</td>\n      <td>0.0</td>\n      <td>0.0</td>\n      <td>2020-03-17</td>\n      <td>2020-05-15</td>\n      <td>day</td>\n    </tr>\n    <tr>\n      <th>22</th>\n      <td>DuPage</td>\n      <td>26.0,45.0,54.0,57.0,65.0,79.0,79.0,103.0,131.0...</td>\n      <td>2020-03-17</td>\n      <td>5634.0</td>\n      <td>181.0</td>\n      <td>0.0,0.0,0.0,0.0,0.0,0.0,0.0,1.0,1.0,1.0,6.0,6....</td>\n      <td>2020-03-24</td>\n      <td>287.0</td>\n      <td>8.0</td>\n      <td>2020-03-17</td>\n      <td>2020-05-15</td>\n      <td>day</td>\n    </tr>\n    <tr>\n      <th>23</th>\n      <td>Edgar</td>\n      <td>0.0,0.0,0.0,0.0,0.0,0.0,0.0,0.0,0.0,0.0,0.0,0....</td>\n      <td>2020-05-15</td>\n      <td>1.0</td>\n      <td>1.0</td>\n      <td>0.0,0.0,0.0,0.0,0.0,0.0,0.0,0.0,0.0,0.0,0.0,0....</td>\n      <td>NaN</td>\n      <td>0.0</td>\n      <td>0.0</td>\n      <td>2020-03-17</td>\n      <td>2020-05-15</td>\n      <td>day</td>\n    </tr>\n    <tr>\n      <th>24</th>\n      <td>Edwards</td>\n      <td>0.0,0.0,0.0,0.0,0.0,0.0,0.0,0.0,0.0,0.0,0.0,0....</td>\n      <td>2020-05-13</td>\n      <td>2.0</td>\n      <td>0.0</td>\n      <td>0.0,0.0,0.0,0.0,0.0,0.0,0.0,0.0,0.0,0.0,0.0,0....</td>\n      <td>NaN</td>\n      <td>0.0</td>\n      <td>0.0</td>\n      <td>2020-03-17</td>\n      <td>2020-05-15</td>\n      <td>day</td>\n    </tr>\n    <tr>\n      <th>25</th>\n      <td>Effingham</td>\n      <td>0.0,0.0,0.0,0.0,0.0,0.0,0.0,0.0,0.0,0.0,0.0,0....</td>\n      <td>2020-04-03</td>\n      <td>6.0</td>\n      <td>0.0</td>\n      <td>0.0,0.0,0.0,0.0,0.0,0.0,0.0,0.0,0.0,0.0,0.0,0....</td>\n      <td>2020-04-09</td>\n      <td>1.0</td>\n      <td>0.0</td>\n      <td>2020-03-17</td>\n      <td>2020-05-15</td>\n      <td>day</td>\n    </tr>\n    <tr>\n      <th>26</th>\n      <td>Fayette</td>\n      <td>0.0,0.0,0.0,0.0,0.0,0.0,0.0,0.0,0.0,0.0,0.0,1....</td>\n      <td>2020-03-28</td>\n      <td>19.0</td>\n      <td>2.0</td>\n      <td>0.0,0.0,0.0,0.0,0.0,0.0,0.0,0.0,0.0,0.0,0.0,0....</td>\n      <td>2020-04-13</td>\n      <td>2.0</td>\n      <td>0.0</td>\n      <td>2020-03-17</td>\n      <td>2020-05-15</td>\n      <td>day</td>\n    </tr>\n    <tr>\n      <th>27</th>\n      <td>Ford</td>\n      <td>0.0,0.0,0.0,0.0,0.0,0.0,0.0,0.0,0.0,0.0,0.0,0....</td>\n      <td>2020-03-31</td>\n      <td>16.0</td>\n      <td>1.0</td>\n      <td>0.0,0.0,0.0,0.0,0.0,0.0,0.0,0.0,0.0,0.0,0.0,0....</td>\n      <td>2020-04-07</td>\n      <td>1.0</td>\n      <td>0.0</td>\n      <td>2020-03-17</td>\n      <td>2020-05-15</td>\n      <td>day</td>\n    </tr>\n    <tr>\n      <th>28</th>\n      <td>Franklin</td>\n      <td>0.0,0.0,0.0,0.0,0.0,0.0,0.0,0.0,0.0,1.0,1.0,1....</td>\n      <td>2020-03-26</td>\n      <td>11.0</td>\n      <td>0.0</td>\n      <td>0.0,0.0,0.0,0.0,0.0,0.0,0.0,0.0,0.0,0.0,0.0,0....</td>\n      <td>NaN</td>\n      <td>0.0</td>\n      <td>0.0</td>\n      <td>2020-03-17</td>\n      <td>2020-05-15</td>\n      <td>day</td>\n    </tr>\n    <tr>\n      <th>29</th>\n      <td>Fulton</td>\n      <td>0.0,0.0,0.0,0.0,0.0,0.0,0.0,0.0,0.0,0.0,0.0,0....</td>\n      <td>2020-04-10</td>\n      <td>6.0</td>\n      <td>0.0</td>\n      <td>0.0,0.0,0.0,0.0,0.0,0.0,0.0,0.0,0.0,0.0,0.0,0....</td>\n      <td>NaN</td>\n      <td>0.0</td>\n      <td>0.0</td>\n      <td>2020-03-17</td>\n      <td>2020-05-15</td>\n      <td>day</td>\n    </tr>\n    <tr>\n      <th>...</th>\n      <td>...</td>\n      <td>...</td>\n      <td>...</td>\n      <td>...</td>\n      <td>...</td>\n      <td>...</td>\n      <td>...</td>\n      <td>...</td>\n      <td>...</td>\n      <td>...</td>\n      <td>...</td>\n      <td>...</td>\n    </tr>\n    <tr>\n      <th>75</th>\n      <td>Perry</td>\n      <td>0.0,0.0,0.0,0.0,0.0,0.0,0.0,0.0,0.0,0.0,0.0,0....</td>\n      <td>2020-04-11</td>\n      <td>38.0</td>\n      <td>0.0</td>\n      <td>0.0,0.0,0.0,0.0,0.0,0.0,0.0,0.0,0.0,0.0,0.0,0....</td>\n      <td>NaN</td>\n      <td>0.0</td>\n      <td>0.0</td>\n      <td>2020-03-17</td>\n      <td>2020-05-15</td>\n      <td>day</td>\n    </tr>\n    <tr>\n      <th>76</th>\n      <td>Piatt</td>\n      <td>0.0,0.0,0.0,0.0,0.0,0.0,0.0,0.0,0.0,0.0,0.0,0....</td>\n      <td>2020-04-02</td>\n      <td>8.0</td>\n      <td>0.0</td>\n      <td>0.0,0.0,0.0,0.0,0.0,0.0,0.0,0.0,0.0,0.0,0.0,0....</td>\n      <td>NaN</td>\n      <td>0.0</td>\n      <td>0.0</td>\n      <td>2020-03-17</td>\n      <td>2020-05-15</td>\n      <td>day</td>\n    </tr>\n    <tr>\n      <th>77</th>\n      <td>Pike</td>\n      <td>0.0,0.0,0.0,0.0,0.0,0.0,0.0,0.0,0.0,0.0,0.0,0....</td>\n      <td>2020-04-04</td>\n      <td>1.0</td>\n      <td>0.0</td>\n      <td>0.0,0.0,0.0,0.0,0.0,0.0,0.0,0.0,0.0,0.0,0.0,0....</td>\n      <td>NaN</td>\n      <td>0.0</td>\n      <td>0.0</td>\n      <td>2020-03-17</td>\n      <td>2020-05-15</td>\n      <td>day</td>\n    </tr>\n    <tr>\n      <th>78</th>\n      <td>Pope</td>\n      <td>0.0,0.0,0.0,0.0,0.0,0.0,0.0,0.0,0.0,0.0,0.0,0....</td>\n      <td>2020-05-08</td>\n      <td>1.0</td>\n      <td>0.0</td>\n      <td>0.0,0.0,0.0,0.0,0.0,0.0,0.0,0.0,0.0,0.0,0.0,0....</td>\n      <td>NaN</td>\n      <td>0.0</td>\n      <td>0.0</td>\n      <td>2020-03-17</td>\n      <td>2020-05-15</td>\n      <td>day</td>\n    </tr>\n    <tr>\n      <th>79</th>\n      <td>Pulaski</td>\n      <td>0.0,0.0,0.0,0.0,0.0,0.0,0.0,0.0,0.0,0.0,0.0,0....</td>\n      <td>2020-04-09</td>\n      <td>40.0</td>\n      <td>7.0</td>\n      <td>0.0,0.0,0.0,0.0,0.0,0.0,0.0,0.0,0.0,0.0,0.0,0....</td>\n      <td>NaN</td>\n      <td>0.0</td>\n      <td>0.0</td>\n      <td>2020-03-17</td>\n      <td>2020-05-15</td>\n      <td>day</td>\n    </tr>\n    <tr>\n      <th>80</th>\n      <td>Putnam</td>\n      <td>0.0,0.0,0.0,0.0,0.0,0.0,0.0,0.0,0.0,0.0,0.0,0....</td>\n      <td>NaN</td>\n      <td>0.0</td>\n      <td>0.0</td>\n      <td>0.0,0.0,0.0,0.0,0.0,0.0,0.0,0.0,0.0,0.0,0.0,0....</td>\n      <td>NaN</td>\n      <td>0.0</td>\n      <td>0.0</td>\n      <td>2020-03-17</td>\n      <td>2020-05-15</td>\n      <td>day</td>\n    </tr>\n    <tr>\n      <th>81</th>\n      <td>Randolph</td>\n      <td>0.0,0.0,0.0,0.0,0.0,0.0,0.0,0.0,0.0,0.0,0.0,0....</td>\n      <td>2020-03-30</td>\n      <td>234.0</td>\n      <td>1.0</td>\n      <td>0.0,0.0,0.0,0.0,0.0,0.0,0.0,0.0,0.0,0.0,0.0,0....</td>\n      <td>2020-04-17</td>\n      <td>3.0</td>\n      <td>0.0</td>\n      <td>2020-03-17</td>\n      <td>2020-05-15</td>\n      <td>day</td>\n    </tr>\n    <tr>\n      <th>82</th>\n      <td>Richland</td>\n      <td>0.0,0.0,0.0,0.0,0.0,0.0,0.0,0.0,0.0,0.0,0.0,0....</td>\n      <td>2020-04-07</td>\n      <td>3.0</td>\n      <td>0.0</td>\n      <td>0.0,0.0,0.0,0.0,0.0,0.0,0.0,0.0,0.0,0.0,0.0,0....</td>\n      <td>NaN</td>\n      <td>0.0</td>\n      <td>0.0</td>\n      <td>2020-03-17</td>\n      <td>2020-05-15</td>\n      <td>day</td>\n    </tr>\n    <tr>\n      <th>83</th>\n      <td>Rock Island</td>\n      <td>0.0,0.0,0.0,0.0,0.0,1.0,1.0,1.0,3.0,4.0,4.0,4....</td>\n      <td>2020-03-22</td>\n      <td>563.0</td>\n      <td>20.0</td>\n      <td>0.0,0.0,0.0,0.0,0.0,0.0,0.0,0.0,0.0,0.0,0.0,0....</td>\n      <td>2020-04-09</td>\n      <td>18.0</td>\n      <td>1.0</td>\n      <td>2020-03-17</td>\n      <td>2020-05-15</td>\n      <td>day</td>\n    </tr>\n    <tr>\n      <th>84</th>\n      <td>Saline</td>\n      <td>0.0,0.0,0.0,0.0,0.0,0.0,0.0,0.0,0.0,0.0,0.0,0....</td>\n      <td>2020-03-30</td>\n      <td>6.0</td>\n      <td>0.0</td>\n      <td>0.0,0.0,0.0,0.0,0.0,0.0,0.0,0.0,0.0,0.0,0.0,0....</td>\n      <td>NaN</td>\n      <td>0.0</td>\n      <td>0.0</td>\n      <td>2020-03-17</td>\n      <td>2020-05-15</td>\n      <td>day</td>\n    </tr>\n    <tr>\n      <th>85</th>\n      <td>Sangamon</td>\n      <td>3.0,3.0,4.0,4.0,4.0,4.0,4.0,5.0,5.0,7.0,7.0,8....</td>\n      <td>2020-03-17</td>\n      <td>299.0</td>\n      <td>10.0</td>\n      <td>0.0,0.0,0.0,1.0,1.0,1.0,1.0,1.0,1.0,1.0,1.0,1....</td>\n      <td>2020-03-20</td>\n      <td>25.0</td>\n      <td>1.0</td>\n      <td>2020-03-17</td>\n      <td>2020-05-15</td>\n      <td>day</td>\n    </tr>\n    <tr>\n      <th>86</th>\n      <td>Schuyler</td>\n      <td>0.0,0.0,0.0,0.0,0.0,0.0,0.0,0.0,0.0,0.0,0.0,0....</td>\n      <td>2020-04-09</td>\n      <td>7.0</td>\n      <td>0.0</td>\n      <td>0.0,0.0,0.0,0.0,0.0,0.0,0.0,0.0,0.0,0.0,0.0,0....</td>\n      <td>NaN</td>\n      <td>0.0</td>\n      <td>0.0</td>\n      <td>2020-03-17</td>\n      <td>2020-05-15</td>\n      <td>day</td>\n    </tr>\n    <tr>\n      <th>87</th>\n      <td>Scott</td>\n      <td>0.0,0.0,0.0,0.0,0.0,0.0,0.0,0.0,0.0,0.0,0.0,0....</td>\n      <td>NaN</td>\n      <td>0.0</td>\n      <td>0.0</td>\n      <td>0.0,0.0,0.0,0.0,0.0,0.0,0.0,0.0,0.0,0.0,0.0,0....</td>\n      <td>NaN</td>\n      <td>0.0</td>\n      <td>0.0</td>\n      <td>2020-03-17</td>\n      <td>2020-05-15</td>\n      <td>day</td>\n    </tr>\n    <tr>\n      <th>88</th>\n      <td>Shelby</td>\n      <td>0.0,0.0,0.0,0.0,0.0,0.0,0.0,0.0,0.0,0.0,0.0,0....</td>\n      <td>2020-04-07</td>\n      <td>12.0</td>\n      <td>1.0</td>\n      <td>0.0,0.0,0.0,0.0,0.0,0.0,0.0,0.0,0.0,0.0,0.0,0....</td>\n      <td>2020-04-29</td>\n      <td>1.0</td>\n      <td>0.0</td>\n      <td>2020-03-17</td>\n      <td>2020-05-15</td>\n      <td>day</td>\n    </tr>\n    <tr>\n      <th>89</th>\n      <td>St. Clair</td>\n      <td>2.0,3.0,3.0,3.0,3.0,3.0,3.0,7.0,7.0,13.0,15.0,...</td>\n      <td>2020-03-17</td>\n      <td>765.0</td>\n      <td>6.0</td>\n      <td>0.0,0.0,0.0,0.0,0.0,0.0,0.0,0.0,0.0,0.0,0.0,0....</td>\n      <td>2020-03-29</td>\n      <td>63.0</td>\n      <td>2.0</td>\n      <td>2020-03-17</td>\n      <td>2020-05-15</td>\n      <td>day</td>\n    </tr>\n    <tr>\n      <th>90</th>\n      <td>Stark</td>\n      <td>0.0,0.0,0.0,0.0,0.0,0.0,0.0,0.0,0.0,0.0,0.0,0....</td>\n      <td>2020-04-08</td>\n      <td>1.0</td>\n      <td>0.0</td>\n      <td>0.0,0.0,0.0,0.0,0.0,0.0,0.0,0.0,0.0,0.0,0.0,0....</td>\n      <td>NaN</td>\n      <td>0.0</td>\n      <td>0.0</td>\n      <td>2020-03-17</td>\n      <td>2020-05-15</td>\n      <td>day</td>\n    </tr>\n    <tr>\n      <th>91</th>\n      <td>Stephenson</td>\n      <td>0.0,0.0,0.0,0.0,0.0,1.0,1.0,1.0,1.0,2.0,2.0,2....</td>\n      <td>2020-03-22</td>\n      <td>135.0</td>\n      <td>16.0</td>\n      <td>0.0,0.0,0.0,0.0,0.0,0.0,0.0,0.0,0.0,0.0,0.0,0....</td>\n      <td>NaN</td>\n      <td>0.0</td>\n      <td>0.0</td>\n      <td>2020-03-17</td>\n      <td>2020-05-15</td>\n      <td>day</td>\n    </tr>\n    <tr>\n      <th>93</th>\n      <td>Tazewell</td>\n      <td>0.0,0.0,0.0,0.0,0.0,0.0,0.0,0.0,0.0,2.0,2.0,3....</td>\n      <td>2020-03-26</td>\n      <td>62.0</td>\n      <td>4.0</td>\n      <td>0.0,0.0,0.0,0.0,0.0,0.0,0.0,0.0,0.0,0.0,0.0,0....</td>\n      <td>2020-04-07</td>\n      <td>3.0</td>\n      <td>0.0</td>\n      <td>2020-03-17</td>\n      <td>2020-05-15</td>\n      <td>day</td>\n    </tr>\n    <tr>\n      <th>94</th>\n      <td>Union</td>\n      <td>0.0,0.0,0.0,0.0,0.0,0.0,0.0,0.0,0.0,0.0,0.0,0....</td>\n      <td>2020-04-15</td>\n      <td>117.0</td>\n      <td>4.0</td>\n      <td>0.0,0.0,0.0,0.0,0.0,0.0,0.0,0.0,0.0,0.0,0.0,0....</td>\n      <td>2020-05-05</td>\n      <td>4.0</td>\n      <td>3.0</td>\n      <td>2020-03-17</td>\n      <td>2020-05-15</td>\n      <td>day</td>\n    </tr>\n    <tr>\n      <th>95</th>\n      <td>Vermilion</td>\n      <td>0.0,0.0,0.0,0.0,0.0,0.0,0.0,0.0,0.0,0.0,0.0,0....</td>\n      <td>2020-04-01</td>\n      <td>29.0</td>\n      <td>0.0</td>\n      <td>0.0,0.0,0.0,0.0,0.0,0.0,0.0,0.0,0.0,0.0,0.0,0....</td>\n      <td>2020-04-29</td>\n      <td>1.0</td>\n      <td>0.0</td>\n      <td>2020-03-17</td>\n      <td>2020-05-15</td>\n      <td>day</td>\n    </tr>\n    <tr>\n      <th>96</th>\n      <td>Wabash</td>\n      <td>0.0,0.0,0.0,0.0,0.0,0.0,0.0,0.0,0.0,0.0,0.0,0....</td>\n      <td>2020-04-06</td>\n      <td>1.0</td>\n      <td>0.0</td>\n      <td>0.0,0.0,0.0,0.0,0.0,0.0,0.0,0.0,0.0,0.0,0.0,0....</td>\n      <td>NaN</td>\n      <td>0.0</td>\n      <td>0.0</td>\n      <td>2020-03-17</td>\n      <td>2020-05-15</td>\n      <td>day</td>\n    </tr>\n    <tr>\n      <th>97</th>\n      <td>Warren</td>\n      <td>0.0,0.0,0.0,0.0,0.0,0.0,0.0,0.0,0.0,0.0,0.0,0....</td>\n      <td>2020-04-11</td>\n      <td>105.0</td>\n      <td>0.0</td>\n      <td>0.0,0.0,0.0,0.0,0.0,0.0,0.0,0.0,0.0,0.0,0.0,0....</td>\n      <td>NaN</td>\n      <td>0.0</td>\n      <td>0.0</td>\n      <td>2020-03-17</td>\n      <td>2020-05-15</td>\n      <td>day</td>\n    </tr>\n    <tr>\n      <th>98</th>\n      <td>Washington</td>\n      <td>0.0,0.0,1.0,1.0,1.0,1.0,1.0,1.0,1.0,1.0,1.0,1....</td>\n      <td>2020-03-19</td>\n      <td>17.0</td>\n      <td>0.0</td>\n      <td>0.0,0.0,0.0,0.0,0.0,0.0,0.0,0.0,0.0,0.0,0.0,0....</td>\n      <td>NaN</td>\n      <td>0.0</td>\n      <td>0.0</td>\n      <td>2020-03-17</td>\n      <td>2020-05-15</td>\n      <td>day</td>\n    </tr>\n    <tr>\n      <th>99</th>\n      <td>Wayne</td>\n      <td>0.0,0.0,0.0,0.0,0.0,0.0,0.0,0.0,0.0,0.0,0.0,0....</td>\n      <td>2020-04-17</td>\n      <td>8.0</td>\n      <td>-3.0</td>\n      <td>0.0,0.0,0.0,0.0,0.0,0.0,0.0,0.0,0.0,0.0,0.0,0....</td>\n      <td>2020-05-14</td>\n      <td>1.0</td>\n      <td>0.0</td>\n      <td>2020-03-17</td>\n      <td>2020-05-15</td>\n      <td>day</td>\n    </tr>\n    <tr>\n      <th>100</th>\n      <td>White</td>\n      <td>0.0,0.0,0.0,0.0,0.0,0.0,0.0,0.0,0.0,0.0,0.0,0....</td>\n      <td>2020-04-20</td>\n      <td>2.0</td>\n      <td>0.0</td>\n      <td>0.0,0.0,0.0,0.0,0.0,0.0,0.0,0.0,0.0,0.0,0.0,0....</td>\n      <td>NaN</td>\n      <td>0.0</td>\n      <td>0.0</td>\n      <td>2020-03-17</td>\n      <td>2020-05-15</td>\n      <td>day</td>\n    </tr>\n    <tr>\n      <th>101</th>\n      <td>Whiteside</td>\n      <td>1.0,1.0,1.0,1.0,1.0,1.0,1.0,1.0,1.0,1.0,2.0,2....</td>\n      <td>2020-03-17</td>\n      <td>113.0</td>\n      <td>2.0</td>\n      <td>0.0,0.0,0.0,0.0,0.0,0.0,0.0,0.0,0.0,0.0,0.0,0....</td>\n      <td>2020-04-02</td>\n      <td>8.0</td>\n      <td>0.0</td>\n      <td>2020-03-17</td>\n      <td>2020-05-15</td>\n      <td>day</td>\n    </tr>\n    <tr>\n      <th>102</th>\n      <td>Will</td>\n      <td>2.0,3.0,9.0,10.0,12.0,21.0,21.0,28.0,40.0,67.0...</td>\n      <td>2020-03-17</td>\n      <td>4277.0</td>\n      <td>187.0</td>\n      <td>0.0,0.0,0.0,1.0,1.0,1.0,1.0,1.0,2.0,3.0,3.0,4....</td>\n      <td>2020-03-20</td>\n      <td>237.0</td>\n      <td>6.0</td>\n      <td>2020-03-17</td>\n      <td>2020-05-15</td>\n      <td>day</td>\n    </tr>\n    <tr>\n      <th>103</th>\n      <td>Williamson</td>\n      <td>0.0,0.0,1.0,1.0,1.0,1.0,1.0,0.0,1.0,1.0,1.0,1....</td>\n      <td>2020-03-19</td>\n      <td>51.0</td>\n      <td>-1.0</td>\n      <td>0.0,0.0,1.0,1.0,0.0,0.0,0.0,0.0,0.0,0.0,0.0,0....</td>\n      <td>2020-03-19</td>\n      <td>1.0</td>\n      <td>0.0</td>\n      <td>2020-03-17</td>\n      <td>2020-05-15</td>\n      <td>day</td>\n    </tr>\n    <tr>\n      <th>104</th>\n      <td>Winnebago</td>\n      <td>1.0,1.0,1.0,2.0,4.0,5.0,5.0,5.0,7.0,8.0,8.0,9....</td>\n      <td>2020-03-17</td>\n      <td>1390.0</td>\n      <td>53.0</td>\n      <td>0.0,0.0,0.0,0.0,0.0,0.0,0.0,0.0,0.0,0.0,0.0,0....</td>\n      <td>2020-04-01</td>\n      <td>33.0</td>\n      <td>1.0</td>\n      <td>2020-03-17</td>\n      <td>2020-05-15</td>\n      <td>day</td>\n    </tr>\n    <tr>\n      <th>105</th>\n      <td>Woodford</td>\n      <td>1.0,1.0,2.0,2.0,2.0,2.0,2.0,3.0,3.0,3.0,3.0,3....</td>\n      <td>2020-03-17</td>\n      <td>14.0</td>\n      <td>0.0</td>\n      <td>0.0,0.0,0.0,0.0,0.0,0.0,0.0,0.0,0.0,0.0,0.0,0....</td>\n      <td>2020-04-21</td>\n      <td>1.0</td>\n      <td>0.0</td>\n      <td>2020-03-17</td>\n      <td>2020-05-15</td>\n      <td>day</td>\n    </tr>\n  </tbody>\n</table>\n<p>104 rows × 12 columns</p>\n</div>"
     },
     "metadata": {},
     "output_type": "execute_result",
     "execution_count": 214
    }
   ],
   "source": [
    "county_report"
   ],
   "metadata": {
    "collapsed": false,
    "pycharm": {
     "name": "#%%\n",
     "is_executing": false
    }
   }
  },
  {
   "cell_type": "code",
   "execution_count": 216,
   "outputs": [],
   "source": [
    "county_final_gpd = pd.merge(county_gpd, county_report, how=\"left\", left_on=\"id\", right_on=\"NAME\")"
   ],
   "metadata": {
    "collapsed": false,
    "pycharm": {
     "name": "#%%\n",
     "is_executing": false
    }
   }
  },
  {
   "cell_type": "code",
   "execution_count": 218,
   "outputs": [],
   "source": [
    "county_final_gpd['population'] = 1"
   ],
   "metadata": {
    "collapsed": false,
    "pycharm": {
     "name": "#%%\n",
     "is_executing": false
    }
   }
  },
  {
   "cell_type": "code",
   "execution_count": 222,
   "outputs": [
    {
     "data": {
      "text/plain": "             id                                           geometry  \\\n0       McHenry  POLYGON ((-88.70742 42.49352, -88.70741 42.493...   \n1         Boone  POLYGON ((-88.70742 42.49352, -88.70750 42.493...   \n2          Ogle  POLYGON ((-89.68809 42.19950, -89.68807 42.184...   \n3          Will  POLYGON ((-88.26146 41.72439, -88.26103 41.708...   \n4       LaSalle  POLYGON ((-88.93885 41.62837, -88.93891 41.628...   \n5        Bureau  POLYGON ((-89.63155 41.58491, -89.64769 41.584...   \n6         Henry  POLYGON ((-89.86249 41.58401, -89.87517 41.584...   \n7        Grundy  POLYGON ((-88.25217 41.46277, -88.27149 41.462...   \n8        Mercer  POLYGON ((-90.43382 41.32698, -90.45335 41.326...   \n9        Putnam  POLYGON ((-89.16353 41.30991, -89.16500 41.309...   \n10       McLean  POLYGON ((-88.92943 40.75330, -88.94863 40.752...   \n11     Tazewell  POLYGON ((-89.26933 40.59450, -89.26948 40.601...   \n12       Fulton  POLYGON ((-89.98606 40.71225, -90.00002 40.712...   \n13        Adams  POLYGON ((-91.50535 40.20029, -91.50436 40.198...   \n14    Champaign  POLYGON ((-88.46003 40.39850, -88.46009 40.383...   \n15        Logan  POLYGON ((-89.60299 40.32011, -89.60273 40.305...   \n16        Piatt  POLYGON ((-88.57476 40.28158, -88.58665 40.267...   \n17        Stark  POLYGON ((-89.85770 41.23450, -89.86772 41.234...   \n18         Knox  POLYGON ((-89.98529 41.14944, -90.00422 41.149...   \n19     Marshall  POLYGON ((-89.63903 41.14845, -89.63905 41.133...   \n20   Livingston  POLYGON ((-88.25174 41.11422, -88.26009 41.114...   \n21    Henderson  POLYGON ((-90.78527 41.06922, -90.80435 41.070...   \n22       Warren  POLYGON ((-90.43990 41.06383, -90.45876 41.063...   \n23     Iroquois  POLYGON ((-87.52616 41.01035, -87.54231 41.010...   \n24       Peoria  POLYGON ((-89.98593 40.97465, -89.98599 40.961...   \n25     Woodford  POLYGON ((-89.04765 40.92567, -89.06702 40.925...   \n26      Carroll  POLYGON ((-89.91979 42.19678, -89.93903 42.196...   \n27         Kane  POLYGON ((-88.58859 42.15366, -88.58852 42.139...   \n28       DeKalb  POLYGON ((-88.70559 42.15355, -88.72510 42.153...   \n29         Cook  POLYGON ((-88.23858 42.15425, -88.23865 42.139...   \n..          ...                                                ...   \n73       Hardin  POLYGON ((-88.37538 37.59960, -88.39355 37.599...   \n74       Massac  POLYGON ((-88.92877 37.30294, -88.92877 37.302...   \n75    McDonough  POLYGON ((-90.78961 40.63568, -90.78967 40.635...   \n76    Vermilion  POLYGON ((-87.93508 40.48596, -87.93473 40.471...   \n77        Macon  POLYGON ((-89.14466 40.04885, -89.14459 40.034...   \n78     Sangamon  POLYGON ((-89.21798 39.91706, -89.23638 39.916...   \n79        Edgar  POLYGON ((-87.93761 39.87996, -87.93729 39.865...   \n80       Morgan  POLYGON ((-89.99438 39.87291, -90.01303 39.872...   \n81    Christian  POLYGON ((-89.21767 39.81320, -89.21788 39.813...   \n82     Moultrie  POLYGON ((-88.74551 39.79203, -88.75854 39.792...   \n83        Scott  POLYGON ((-90.58103 39.52172, -90.56211 39.521...   \n84        Coles  POLYGON ((-88.47247 39.65162, -88.47201 39.637...   \n85       Shelby  POLYGON ((-89.02552 39.65448, -89.02541 39.640...   \n86   Montgomery  POLYGON ((-89.70178 39.52331, -89.70144 39.508...   \n87     Macoupin  POLYGON ((-89.92568 39.52239, -89.94431 39.522...   \n88        Clark  POLYGON ((-87.96033 39.48136, -87.97896 39.481...   \n89     Crawford  POLYGON ((-87.95037 39.17505, -87.95003 39.158...   \n90       Jasper  POLYGON ((-88.00774 39.17389, -88.02264 39.173...   \n91         Bond  POLYGON ((-89.25027 39.02822, -89.26896 39.028...   \n92      Madison  POLYGON ((-89.63924 38.99914, -89.64215 38.999...   \n93      Fayette  POLYGON ((-89.13957 39.21785, -89.15807 39.217...   \n94    St. Clair  POLYGON ((-89.70703 38.65503, -89.72531 38.655...   \n95        Wayne  POLYGON ((-88.69830 38.60606, -88.69830 38.605...   \n96       Monroe  POLYGON ((-89.89905 38.22077, -89.89905 38.220...   \n97    Jefferson  POLYGON ((-89.14445 38.47387, -89.14462 38.460...   \n98     Lawrence  POLYGON ((-87.90806 38.85013, -87.90819 38.835...   \n99       Marion  POLYGON ((-89.13844 38.73633, -89.13847 38.721...   \n100       Union  POLYGON ((-89.04143 37.59650, -89.06017 37.597...   \n101        Pope  POLYGON ((-88.70860 37.59926, -88.70876 37.584...   \n102     Chicago  MULTIPOLYGON (((-87.93514 42.00089, -87.93521 ...   \n\n           NAME                                           cases_ts  \\\n0       McHenry  2.0,4.0,6.0,8.0,11.0,12.0,12.0,14.0,19.0,27.0,...   \n1         Boone  0.0,0.0,0.0,0.0,0.0,0.0,0.0,0.0,0.0,0.0,0.0,0....   \n2          Ogle  0.0,0.0,0.0,0.0,0.0,0.0,0.0,0.0,0.0,0.0,0.0,0....   \n3          Will  2.0,3.0,9.0,10.0,12.0,21.0,21.0,28.0,40.0,67.0...   \n4       LaSalle  0.0,0.0,1.0,1.0,1.0,1.0,1.0,3.0,3.0,3.0,3.0,3....   \n5        Bureau  0.0,0.0,0.0,0.0,0.0,0.0,0.0,0.0,0.0,0.0,1.0,1....   \n6         Henry  0.0,0.0,0.0,0.0,0.0,0.0,0.0,0.0,0.0,0.0,1.0,2....   \n7        Grundy  0.0,0.0,0.0,0.0,0.0,0.0,0.0,1.0,0.0,2.0,2.0,2....   \n8        Mercer  0.0,0.0,0.0,0.0,0.0,0.0,0.0,0.0,0.0,0.0,0.0,0....   \n9        Putnam  0.0,0.0,0.0,0.0,0.0,0.0,0.0,0.0,0.0,0.0,0.0,0....   \n10       McLean  0.0,0.0,0.0,4.0,6.0,6.0,6.0,7.0,7.0,7.0,10.0,1...   \n11     Tazewell  0.0,0.0,0.0,0.0,0.0,0.0,0.0,0.0,0.0,2.0,2.0,3....   \n12       Fulton  0.0,0.0,0.0,0.0,0.0,0.0,0.0,0.0,0.0,0.0,0.0,0....   \n13        Adams  0.0,0.0,0.0,1.0,1.0,1.0,1.0,1.0,1.0,1.0,1.0,1....   \n14    Champaign  1.0,1.0,1.0,1.0,1.0,2.0,2.0,2.0,4.0,8.0,10.0,1...   \n15        Logan  0.0,0.0,0.0,0.0,0.0,0.0,0.0,0.0,0.0,0.0,0.0,0....   \n16        Piatt  0.0,0.0,0.0,0.0,0.0,0.0,0.0,0.0,0.0,0.0,0.0,0....   \n17        Stark  0.0,0.0,0.0,0.0,0.0,0.0,0.0,0.0,0.0,0.0,0.0,0....   \n18         Knox  0.0,0.0,0.0,0.0,0.0,0.0,0.0,0.0,0.0,0.0,0.0,0....   \n19     Marshall  0.0,0.0,0.0,0.0,0.0,0.0,0.0,0.0,1.0,1.0,1.0,1....   \n20   Livingston  0.0,0.0,0.0,0.0,0.0,1.0,1.0,1.0,1.0,1.0,2.0,2....   \n21    Henderson  0.0,0.0,0.0,0.0,0.0,0.0,0.0,0.0,0.0,0.0,0.0,0....   \n22       Warren  0.0,0.0,0.0,0.0,0.0,0.0,0.0,0.0,0.0,0.0,0.0,0....   \n23     Iroquois  0.0,0.0,0.0,0.0,0.0,0.0,0.0,0.0,0.0,0.0,1.0,2....   \n24       Peoria  1.0,3.0,3.0,3.0,3.0,3.0,3.0,3.0,4.0,5.0,6.0,7....   \n25     Woodford  1.0,1.0,2.0,2.0,2.0,2.0,2.0,3.0,3.0,3.0,3.0,3....   \n26      Carroll  0.0,0.0,0.0,0.0,0.0,0.0,0.0,0.0,0.0,0.0,0.0,1....   \n27         Kane  3.0,4.0,6.0,8.0,8.0,13.0,13.0,24.0,38.0,57.0,7...   \n28       DeKalb  0.0,0.0,0.0,0.0,1.0,1.0,1.0,1.0,1.0,3.0,4.0,4....   \n29         Cook  107.0,178.0,278.0,411.0,548.0,286.0,286.0,412....   \n..          ...                                                ...   \n73       Hardin  0.0,0.0,0.0,0.0,0.0,0.0,0.0,0.0,0.0,0.0,0.0,0....   \n74       Massac  0.0,0.0,0.0,0.0,0.0,0.0,0.0,0.0,0.0,0.0,0.0,0....   \n75    McDonough  0.0,0.0,0.0,0.0,0.0,0.0,0.0,0.0,0.0,0.0,0.0,0....   \n76    Vermilion  0.0,0.0,0.0,0.0,0.0,0.0,0.0,0.0,0.0,0.0,0.0,0....   \n77        Macon  0.0,0.0,0.0,0.0,0.0,0.0,0.0,0.0,0.0,0.0,0.0,1....   \n78     Sangamon  3.0,3.0,4.0,4.0,4.0,4.0,4.0,5.0,5.0,7.0,7.0,8....   \n79        Edgar  0.0,0.0,0.0,0.0,0.0,0.0,0.0,0.0,0.0,0.0,0.0,0....   \n80       Morgan  0.0,0.0,0.0,0.0,0.0,0.0,0.0,0.0,1.0,1.0,1.0,3....   \n81    Christian  0.0,0.0,0.0,1.0,1.0,1.0,1.0,1.0,1.0,1.0,1.0,1....   \n82     Moultrie  0.0,0.0,0.0,0.0,0.0,0.0,0.0,0.0,0.0,0.0,0.0,0....   \n83        Scott  0.0,0.0,0.0,0.0,0.0,0.0,0.0,0.0,0.0,0.0,0.0,0....   \n84        Coles  0.0,0.0,0.0,0.0,0.0,0.0,0.0,0.0,0.0,0.0,0.0,0....   \n85       Shelby  0.0,0.0,0.0,0.0,0.0,0.0,0.0,0.0,0.0,0.0,0.0,0....   \n86   Montgomery  0.0,0.0,0.0,0.0,0.0,0.0,0.0,0.0,0.0,0.0,0.0,0....   \n87     Macoupin  0.0,0.0,0.0,0.0,0.0,0.0,0.0,0.0,0.0,0.0,0.0,0....   \n88        Clark  0.0,0.0,0.0,0.0,0.0,0.0,0.0,0.0,0.0,0.0,0.0,0....   \n89     Crawford  0.0,0.0,0.0,0.0,0.0,0.0,0.0,0.0,0.0,0.0,0.0,0....   \n90       Jasper  0.0,0.0,0.0,0.0,0.0,0.0,0.0,0.0,0.0,0.0,0.0,0....   \n91         Bond  0.0,0.0,0.0,0.0,0.0,0.0,0.0,0.0,0.0,0.0,0.0,0....   \n92      Madison  0.0,1.0,1.0,1.0,2.0,2.0,2.0,2.0,3.0,6.0,8.0,10...   \n93      Fayette  0.0,0.0,0.0,0.0,0.0,0.0,0.0,0.0,0.0,0.0,0.0,1....   \n94    St. Clair  2.0,3.0,3.0,3.0,3.0,3.0,3.0,7.0,7.0,13.0,15.0,...   \n95        Wayne  0.0,0.0,0.0,0.0,0.0,0.0,0.0,0.0,0.0,0.0,0.0,0....   \n96       Monroe  0.0,0.0,0.0,0.0,0.0,0.0,0.0,1.0,2.0,3.0,3.0,3....   \n97    Jefferson  0.0,0.0,0.0,0.0,0.0,0.0,0.0,0.0,0.0,0.0,0.0,0....   \n98     Lawrence  0.0,0.0,0.0,0.0,0.0,0.0,0.0,0.0,0.0,0.0,0.0,0....   \n99       Marion  0.0,0.0,0.0,0.0,0.0,0.0,0.0,0.0,0.0,0.0,0.0,0....   \n100       Union  0.0,0.0,0.0,0.0,0.0,0.0,0.0,0.0,0.0,0.0,0.0,0....   \n101        Pope  0.0,0.0,0.0,0.0,0.0,0.0,0.0,0.0,0.0,0.0,0.0,0....   \n102     Chicago  0.0,0.0,0.0,0.0,0.0,519.0,519.0,782.0,915.0,11...   \n\n    dt_first_case  today_case  today_new_case  \\\n0      2020-03-17      1123.0            40.0   \n1      2020-04-05       274.0             6.0   \n2      2020-03-31       165.0             2.0   \n3      2020-03-17      4277.0           187.0   \n4      2020-03-19       117.0             4.0   \n5      2020-03-27        15.0             0.0   \n6      2020-03-27        64.0             2.0   \n7      2020-03-24        73.0             8.0   \n8      2020-04-02        14.0             1.0   \n9             NaN         0.0             0.0   \n10     2020-03-20       132.0             2.0   \n11     2020-03-26        62.0             4.0   \n12     2020-04-10         6.0             0.0   \n13     2020-03-20        42.0             1.0   \n14     2020-03-17       344.0            20.0   \n15     2020-04-02        10.0             0.0   \n16     2020-04-02         8.0             0.0   \n17     2020-04-08         1.0             0.0   \n18     2020-03-29        84.0             5.0   \n19     2020-03-25         5.0             1.0   \n20     2020-03-22        25.0             0.0   \n21     2020-04-17         7.0             0.0   \n22     2020-04-11       105.0             0.0   \n23     2020-03-27       111.0             4.0   \n24     2020-03-17       156.0             5.0   \n25     2020-03-17        14.0             0.0   \n26     2020-03-28        12.0             0.0   \n27     2020-03-17      4159.0           164.0   \n28     2020-03-21       229.0            12.0   \n29     2020-03-17     24722.0           606.0   \n..            ...         ...             ...   \n73     2020-04-21         1.0             0.0   \n74     2020-04-01         6.0             0.0   \n75     2020-04-11        58.0             0.0   \n76     2020-04-01        29.0             0.0   \n77     2020-03-28       159.0             5.0   \n78     2020-03-17       299.0            10.0   \n79     2020-05-15         1.0             1.0   \n80     2020-03-25        35.0             1.0   \n81     2020-03-20        30.0             0.0   \n82     2020-04-02         7.0             1.0   \n83            NaN         0.0             0.0   \n84     2020-04-07        67.0             5.0   \n85     2020-04-07        12.0             1.0   \n86     2020-03-29        36.0             0.0   \n87     2020-04-02        41.0             0.0   \n88     2020-03-30         9.0             0.0   \n89     2020-03-30        11.0             0.0   \n90     2020-04-04        45.0             0.0   \n91     2020-03-29        11.0             1.0   \n92     2020-03-18       464.0             3.0   \n93     2020-03-28        19.0             2.0   \n94     2020-03-17       765.0             6.0   \n95     2020-04-17         8.0            -3.0   \n96     2020-03-24        83.0             1.0   \n97     2020-03-29        98.0             0.0   \n98     2020-04-07         4.0             0.0   \n99     2020-03-30        47.0             0.0   \n100    2020-04-15       117.0             4.0   \n101    2020-05-08         1.0             0.0   \n102    2020-03-22     35183.0           842.0   \n\n                                             deaths_ts dt_first_death  \\\n0    0.0,0.0,0.0,0.0,0.0,0.0,0.0,0.0,0.0,1.0,1.0,2....     2020-03-26   \n1    0.0,0.0,0.0,0.0,0.0,0.0,0.0,0.0,0.0,0.0,0.0,0....     2020-04-08   \n2    0.0,0.0,0.0,0.0,0.0,0.0,0.0,0.0,0.0,0.0,0.0,0....     2020-04-15   \n3    0.0,0.0,0.0,1.0,1.0,1.0,1.0,1.0,2.0,3.0,3.0,4....     2020-03-20   \n4    0.0,0.0,0.0,0.0,0.0,0.0,0.0,0.0,0.0,0.0,0.0,0....     2020-03-29   \n5    0.0,0.0,0.0,0.0,0.0,0.0,0.0,0.0,0.0,0.0,0.0,0....     2020-05-05   \n6    0.0,0.0,0.0,0.0,0.0,0.0,0.0,0.0,0.0,0.0,0.0,0....            NaN   \n7    0.0,0.0,0.0,0.0,0.0,0.0,0.0,0.0,0.0,0.0,0.0,0....     2020-05-08   \n8    0.0,0.0,0.0,0.0,0.0,0.0,0.0,0.0,0.0,0.0,0.0,0....            NaN   \n9    0.0,0.0,0.0,0.0,0.0,0.0,0.0,0.0,0.0,0.0,0.0,0....            NaN   \n10   0.0,0.0,0.0,0.0,0.0,1.0,1.0,1.0,1.0,1.0,1.0,1....     2020-03-22   \n11   0.0,0.0,0.0,0.0,0.0,0.0,0.0,0.0,0.0,0.0,0.0,0....     2020-04-07   \n12   0.0,0.0,0.0,0.0,0.0,0.0,0.0,0.0,0.0,0.0,0.0,0....            NaN   \n13   0.0,0.0,0.0,0.0,0.0,0.0,0.0,0.0,0.0,0.0,0.0,0....     2020-05-01   \n14   0.0,0.0,0.0,0.0,0.0,0.0,0.0,0.0,0.0,0.0,0.0,0....     2020-04-07   \n15   0.0,0.0,0.0,0.0,0.0,0.0,0.0,0.0,0.0,0.0,0.0,0....            NaN   \n16   0.0,0.0,0.0,0.0,0.0,0.0,0.0,0.0,0.0,0.0,0.0,0....            NaN   \n17   0.0,0.0,0.0,0.0,0.0,0.0,0.0,0.0,0.0,0.0,0.0,0....            NaN   \n18   0.0,0.0,0.0,0.0,0.0,0.0,0.0,0.0,0.0,0.0,0.0,0....            NaN   \n19   0.0,0.0,0.0,0.0,0.0,0.0,0.0,0.0,0.0,0.0,0.0,0....            NaN   \n20   0.0,0.0,0.0,0.0,0.0,0.0,0.0,0.0,0.0,0.0,0.0,0....     2020-04-20   \n21   0.0,0.0,0.0,0.0,0.0,0.0,0.0,0.0,0.0,0.0,0.0,0....            NaN   \n22   0.0,0.0,0.0,0.0,0.0,0.0,0.0,0.0,0.0,0.0,0.0,0....            NaN   \n23   0.0,0.0,0.0,0.0,0.0,0.0,0.0,0.0,0.0,0.0,0.0,0....     2020-05-04   \n24   0.0,0.0,0.0,0.0,0.0,0.0,0.0,0.0,0.0,0.0,0.0,0....     2020-04-05   \n25   0.0,0.0,0.0,0.0,0.0,0.0,0.0,0.0,0.0,0.0,0.0,0....     2020-04-21   \n26   0.0,0.0,0.0,0.0,0.0,0.0,0.0,0.0,0.0,0.0,0.0,0....     2020-04-01   \n27   0.0,0.0,0.0,0.0,0.0,0.0,0.0,0.0,1.0,1.0,2.0,4....     2020-03-25   \n28   0.0,0.0,0.0,0.0,0.0,0.0,0.0,0.0,0.0,0.0,0.0,0....     2020-04-06   \n29   1.0,1.0,2.0,3.0,4.0,2.0,2.0,7.0,8.0,9.0,11.0,1...     2020-03-17   \n..                                                 ...            ...   \n73   0.0,0.0,0.0,0.0,0.0,0.0,0.0,0.0,0.0,0.0,0.0,0....            NaN   \n74   0.0,0.0,0.0,0.0,0.0,0.0,0.0,0.0,0.0,0.0,0.0,0....            NaN   \n75   0.0,0.0,0.0,0.0,0.0,0.0,0.0,0.0,0.0,0.0,0.0,0....     2020-05-02   \n76   0.0,0.0,0.0,0.0,0.0,0.0,0.0,0.0,0.0,0.0,0.0,0....     2020-04-29   \n77   0.0,0.0,0.0,0.0,0.0,0.0,0.0,0.0,0.0,0.0,0.0,0....     2020-04-08   \n78   0.0,0.0,0.0,1.0,1.0,1.0,1.0,1.0,1.0,1.0,1.0,1....     2020-03-20   \n79   0.0,0.0,0.0,0.0,0.0,0.0,0.0,0.0,0.0,0.0,0.0,0....            NaN   \n80   0.0,0.0,0.0,0.0,0.0,0.0,0.0,0.0,0.0,0.0,0.0,0....     2020-03-31   \n81   0.0,0.0,0.0,0.0,0.0,0.0,0.0,0.0,0.0,0.0,0.0,0....     2020-04-02   \n82   0.0,0.0,0.0,0.0,0.0,0.0,0.0,0.0,0.0,0.0,0.0,0....            NaN   \n83   0.0,0.0,0.0,0.0,0.0,0.0,0.0,0.0,0.0,0.0,0.0,0....            NaN   \n84   0.0,0.0,0.0,0.0,0.0,0.0,0.0,0.0,0.0,0.0,0.0,0....     2020-04-25   \n85   0.0,0.0,0.0,0.0,0.0,0.0,0.0,0.0,0.0,0.0,0.0,0....     2020-04-29   \n86   0.0,0.0,0.0,0.0,0.0,0.0,0.0,0.0,0.0,0.0,0.0,0....     2020-04-05   \n87   0.0,0.0,0.0,0.0,0.0,0.0,0.0,0.0,0.0,0.0,0.0,0....     2020-05-05   \n88   0.0,0.0,0.0,0.0,0.0,0.0,0.0,0.0,0.0,0.0,0.0,0....            NaN   \n89   0.0,0.0,0.0,0.0,0.0,0.0,0.0,0.0,0.0,0.0,0.0,0....            NaN   \n90   0.0,0.0,0.0,0.0,0.0,0.0,0.0,0.0,0.0,0.0,0.0,0....     2020-04-13   \n91   0.0,0.0,0.0,0.0,0.0,0.0,0.0,0.0,0.0,0.0,0.0,0....     2020-04-16   \n92   0.0,0.0,0.0,0.0,0.0,0.0,0.0,0.0,0.0,0.0,0.0,0....     2020-04-07   \n93   0.0,0.0,0.0,0.0,0.0,0.0,0.0,0.0,0.0,0.0,0.0,0....     2020-04-13   \n94   0.0,0.0,0.0,0.0,0.0,0.0,0.0,0.0,0.0,0.0,0.0,0....     2020-03-29   \n95   0.0,0.0,0.0,0.0,0.0,0.0,0.0,0.0,0.0,0.0,0.0,0....     2020-05-14   \n96   0.0,0.0,0.0,0.0,0.0,0.0,0.0,0.0,0.0,0.0,0.0,0....     2020-04-07   \n97   0.0,0.0,0.0,0.0,0.0,0.0,0.0,0.0,0.0,0.0,0.0,0....     2020-04-22   \n98   0.0,0.0,0.0,0.0,0.0,0.0,0.0,0.0,0.0,0.0,0.0,0....            NaN   \n99   0.0,0.0,0.0,0.0,0.0,0.0,0.0,0.0,0.0,0.0,0.0,0....            NaN   \n100  0.0,0.0,0.0,0.0,0.0,0.0,0.0,0.0,0.0,0.0,0.0,0....     2020-05-05   \n101  0.0,0.0,0.0,0.0,0.0,0.0,0.0,0.0,0.0,0.0,0.0,0....            NaN   \n102  0.0,0.0,0.0,0.0,0.0,4.0,4.0,5.0,5.0,9.0,9.0,12...     2020-03-22   \n\n     today_death  today_new_death    dt_start      dt_end dt_unit  population  \n0           62.0              5.0  2020-03-17  2020-05-15     day           1  \n1           14.0              1.0  2020-03-17  2020-05-15     day           1  \n2            2.0              0.0  2020-03-17  2020-05-15     day           1  \n3          237.0              6.0  2020-03-17  2020-05-15     day           1  \n4            7.0              2.0  2020-03-17  2020-05-15     day           1  \n5            1.0              0.0  2020-03-17  2020-05-15     day           1  \n6            0.0              0.0  2020-03-17  2020-05-15     day           1  \n7            1.0              0.0  2020-03-17  2020-05-15     day           1  \n8            0.0              0.0  2020-03-17  2020-05-15     day           1  \n9            0.0              0.0  2020-03-17  2020-05-15     day           1  \n10           4.0              1.0  2020-03-17  2020-05-15     day           1  \n11           3.0              0.0  2020-03-17  2020-05-15     day           1  \n12           0.0              0.0  2020-03-17  2020-05-15     day           1  \n13           1.0              0.0  2020-03-17  2020-05-15     day           1  \n14           7.0              1.0  2020-03-17  2020-05-15     day           1  \n15           0.0              0.0  2020-03-17  2020-05-15     day           1  \n16           0.0              0.0  2020-03-17  2020-05-15     day           1  \n17           0.0              0.0  2020-03-17  2020-05-15     day           1  \n18           0.0              0.0  2020-03-17  2020-05-15     day           1  \n19           0.0              0.0  2020-03-17  2020-05-15     day           1  \n20           1.0              0.0  2020-03-17  2020-05-15     day           1  \n21           0.0              0.0  2020-03-17  2020-05-15     day           1  \n22           0.0              0.0  2020-03-17  2020-05-15     day           1  \n23           3.0              0.0  2020-03-17  2020-05-15     day           1  \n24           6.0              0.0  2020-03-17  2020-05-15     day           1  \n25           1.0              0.0  2020-03-17  2020-05-15     day           1  \n26           2.0              0.0  2020-03-17  2020-05-15     day           1  \n27         107.0              3.0  2020-03-17  2020-05-15     day           1  \n28           2.0              0.0  2020-03-17  2020-05-15     day           1  \n29        1156.0             33.0  2020-03-17  2020-05-15     day           1  \n..           ...              ...         ...         ...     ...         ...  \n73           0.0              0.0  2020-03-17  2020-05-15     day           1  \n74           0.0              0.0  2020-03-17  2020-05-15     day           1  \n75           2.0              0.0  2020-03-17  2020-05-15     day           1  \n76           1.0              0.0  2020-03-17  2020-05-15     day           1  \n77          17.0              1.0  2020-03-17  2020-05-15     day           1  \n78          25.0              1.0  2020-03-17  2020-05-15     day           1  \n79           0.0              0.0  2020-03-17  2020-05-15     day           1  \n80           1.0              0.0  2020-03-17  2020-05-15     day           1  \n81           4.0              0.0  2020-03-17  2020-05-15     day           1  \n82           0.0              0.0  2020-03-17  2020-05-15     day           1  \n83           0.0              0.0  2020-03-17  2020-05-15     day           1  \n84           4.0              0.0  2020-03-17  2020-05-15     day           1  \n85           1.0              0.0  2020-03-17  2020-05-15     day           1  \n86           1.0              0.0  2020-03-17  2020-05-15     day           1  \n87           1.0              0.0  2020-03-17  2020-05-15     day           1  \n88           0.0              0.0  2020-03-17  2020-05-15     day           1  \n89           0.0              0.0  2020-03-17  2020-05-15     day           1  \n90           7.0              0.0  2020-03-17  2020-05-15     day           1  \n91           1.0              0.0  2020-03-17  2020-05-15     day           1  \n92          38.0              3.0  2020-03-17  2020-05-15     day           1  \n93           2.0              0.0  2020-03-17  2020-05-15     day           1  \n94          63.0              2.0  2020-03-17  2020-05-15     day           1  \n95           1.0              0.0  2020-03-17  2020-05-15     day           1  \n96          11.0              0.0  2020-03-17  2020-05-15     day           1  \n97          17.0              0.0  2020-03-17  2020-05-15     day           1  \n98           0.0              0.0  2020-03-17  2020-05-15     day           1  \n99           0.0              0.0  2020-03-17  2020-05-15     day           1  \n100          4.0              3.0  2020-03-17  2020-05-15     day           1  \n101          0.0              0.0  2020-03-17  2020-05-15     day           1  \n102       1606.0             54.0  2020-03-17  2020-05-15     day           1  \n\n[103 rows x 15 columns]",
      "text/html": "<div>\n<style scoped>\n    .dataframe tbody tr th:only-of-type {\n        vertical-align: middle;\n    }\n\n    .dataframe tbody tr th {\n        vertical-align: top;\n    }\n\n    .dataframe thead th {\n        text-align: right;\n    }\n</style>\n<table border=\"1\" class=\"dataframe\">\n  <thead>\n    <tr style=\"text-align: right;\">\n      <th></th>\n      <th>id</th>\n      <th>geometry</th>\n      <th>NAME</th>\n      <th>cases_ts</th>\n      <th>dt_first_case</th>\n      <th>today_case</th>\n      <th>today_new_case</th>\n      <th>deaths_ts</th>\n      <th>dt_first_death</th>\n      <th>today_death</th>\n      <th>today_new_death</th>\n      <th>dt_start</th>\n      <th>dt_end</th>\n      <th>dt_unit</th>\n      <th>population</th>\n    </tr>\n  </thead>\n  <tbody>\n    <tr>\n      <th>0</th>\n      <td>McHenry</td>\n      <td>POLYGON ((-88.70742 42.49352, -88.70741 42.493...</td>\n      <td>McHenry</td>\n      <td>2.0,4.0,6.0,8.0,11.0,12.0,12.0,14.0,19.0,27.0,...</td>\n      <td>2020-03-17</td>\n      <td>1123.0</td>\n      <td>40.0</td>\n      <td>0.0,0.0,0.0,0.0,0.0,0.0,0.0,0.0,0.0,1.0,1.0,2....</td>\n      <td>2020-03-26</td>\n      <td>62.0</td>\n      <td>5.0</td>\n      <td>2020-03-17</td>\n      <td>2020-05-15</td>\n      <td>day</td>\n      <td>1</td>\n    </tr>\n    <tr>\n      <th>1</th>\n      <td>Boone</td>\n      <td>POLYGON ((-88.70742 42.49352, -88.70750 42.493...</td>\n      <td>Boone</td>\n      <td>0.0,0.0,0.0,0.0,0.0,0.0,0.0,0.0,0.0,0.0,0.0,0....</td>\n      <td>2020-04-05</td>\n      <td>274.0</td>\n      <td>6.0</td>\n      <td>0.0,0.0,0.0,0.0,0.0,0.0,0.0,0.0,0.0,0.0,0.0,0....</td>\n      <td>2020-04-08</td>\n      <td>14.0</td>\n      <td>1.0</td>\n      <td>2020-03-17</td>\n      <td>2020-05-15</td>\n      <td>day</td>\n      <td>1</td>\n    </tr>\n    <tr>\n      <th>2</th>\n      <td>Ogle</td>\n      <td>POLYGON ((-89.68809 42.19950, -89.68807 42.184...</td>\n      <td>Ogle</td>\n      <td>0.0,0.0,0.0,0.0,0.0,0.0,0.0,0.0,0.0,0.0,0.0,0....</td>\n      <td>2020-03-31</td>\n      <td>165.0</td>\n      <td>2.0</td>\n      <td>0.0,0.0,0.0,0.0,0.0,0.0,0.0,0.0,0.0,0.0,0.0,0....</td>\n      <td>2020-04-15</td>\n      <td>2.0</td>\n      <td>0.0</td>\n      <td>2020-03-17</td>\n      <td>2020-05-15</td>\n      <td>day</td>\n      <td>1</td>\n    </tr>\n    <tr>\n      <th>3</th>\n      <td>Will</td>\n      <td>POLYGON ((-88.26146 41.72439, -88.26103 41.708...</td>\n      <td>Will</td>\n      <td>2.0,3.0,9.0,10.0,12.0,21.0,21.0,28.0,40.0,67.0...</td>\n      <td>2020-03-17</td>\n      <td>4277.0</td>\n      <td>187.0</td>\n      <td>0.0,0.0,0.0,1.0,1.0,1.0,1.0,1.0,2.0,3.0,3.0,4....</td>\n      <td>2020-03-20</td>\n      <td>237.0</td>\n      <td>6.0</td>\n      <td>2020-03-17</td>\n      <td>2020-05-15</td>\n      <td>day</td>\n      <td>1</td>\n    </tr>\n    <tr>\n      <th>4</th>\n      <td>LaSalle</td>\n      <td>POLYGON ((-88.93885 41.62837, -88.93891 41.628...</td>\n      <td>LaSalle</td>\n      <td>0.0,0.0,1.0,1.0,1.0,1.0,1.0,3.0,3.0,3.0,3.0,3....</td>\n      <td>2020-03-19</td>\n      <td>117.0</td>\n      <td>4.0</td>\n      <td>0.0,0.0,0.0,0.0,0.0,0.0,0.0,0.0,0.0,0.0,0.0,0....</td>\n      <td>2020-03-29</td>\n      <td>7.0</td>\n      <td>2.0</td>\n      <td>2020-03-17</td>\n      <td>2020-05-15</td>\n      <td>day</td>\n      <td>1</td>\n    </tr>\n    <tr>\n      <th>5</th>\n      <td>Bureau</td>\n      <td>POLYGON ((-89.63155 41.58491, -89.64769 41.584...</td>\n      <td>Bureau</td>\n      <td>0.0,0.0,0.0,0.0,0.0,0.0,0.0,0.0,0.0,0.0,1.0,1....</td>\n      <td>2020-03-27</td>\n      <td>15.0</td>\n      <td>0.0</td>\n      <td>0.0,0.0,0.0,0.0,0.0,0.0,0.0,0.0,0.0,0.0,0.0,0....</td>\n      <td>2020-05-05</td>\n      <td>1.0</td>\n      <td>0.0</td>\n      <td>2020-03-17</td>\n      <td>2020-05-15</td>\n      <td>day</td>\n      <td>1</td>\n    </tr>\n    <tr>\n      <th>6</th>\n      <td>Henry</td>\n      <td>POLYGON ((-89.86249 41.58401, -89.87517 41.584...</td>\n      <td>Henry</td>\n      <td>0.0,0.0,0.0,0.0,0.0,0.0,0.0,0.0,0.0,0.0,1.0,2....</td>\n      <td>2020-03-27</td>\n      <td>64.0</td>\n      <td>2.0</td>\n      <td>0.0,0.0,0.0,0.0,0.0,0.0,0.0,0.0,0.0,0.0,0.0,0....</td>\n      <td>NaN</td>\n      <td>0.0</td>\n      <td>0.0</td>\n      <td>2020-03-17</td>\n      <td>2020-05-15</td>\n      <td>day</td>\n      <td>1</td>\n    </tr>\n    <tr>\n      <th>7</th>\n      <td>Grundy</td>\n      <td>POLYGON ((-88.25217 41.46277, -88.27149 41.462...</td>\n      <td>Grundy</td>\n      <td>0.0,0.0,0.0,0.0,0.0,0.0,0.0,1.0,0.0,2.0,2.0,2....</td>\n      <td>2020-03-24</td>\n      <td>73.0</td>\n      <td>8.0</td>\n      <td>0.0,0.0,0.0,0.0,0.0,0.0,0.0,0.0,0.0,0.0,0.0,0....</td>\n      <td>2020-05-08</td>\n      <td>1.0</td>\n      <td>0.0</td>\n      <td>2020-03-17</td>\n      <td>2020-05-15</td>\n      <td>day</td>\n      <td>1</td>\n    </tr>\n    <tr>\n      <th>8</th>\n      <td>Mercer</td>\n      <td>POLYGON ((-90.43382 41.32698, -90.45335 41.326...</td>\n      <td>Mercer</td>\n      <td>0.0,0.0,0.0,0.0,0.0,0.0,0.0,0.0,0.0,0.0,0.0,0....</td>\n      <td>2020-04-02</td>\n      <td>14.0</td>\n      <td>1.0</td>\n      <td>0.0,0.0,0.0,0.0,0.0,0.0,0.0,0.0,0.0,0.0,0.0,0....</td>\n      <td>NaN</td>\n      <td>0.0</td>\n      <td>0.0</td>\n      <td>2020-03-17</td>\n      <td>2020-05-15</td>\n      <td>day</td>\n      <td>1</td>\n    </tr>\n    <tr>\n      <th>9</th>\n      <td>Putnam</td>\n      <td>POLYGON ((-89.16353 41.30991, -89.16500 41.309...</td>\n      <td>Putnam</td>\n      <td>0.0,0.0,0.0,0.0,0.0,0.0,0.0,0.0,0.0,0.0,0.0,0....</td>\n      <td>NaN</td>\n      <td>0.0</td>\n      <td>0.0</td>\n      <td>0.0,0.0,0.0,0.0,0.0,0.0,0.0,0.0,0.0,0.0,0.0,0....</td>\n      <td>NaN</td>\n      <td>0.0</td>\n      <td>0.0</td>\n      <td>2020-03-17</td>\n      <td>2020-05-15</td>\n      <td>day</td>\n      <td>1</td>\n    </tr>\n    <tr>\n      <th>10</th>\n      <td>McLean</td>\n      <td>POLYGON ((-88.92943 40.75330, -88.94863 40.752...</td>\n      <td>McLean</td>\n      <td>0.0,0.0,0.0,4.0,6.0,6.0,6.0,7.0,7.0,7.0,10.0,1...</td>\n      <td>2020-03-20</td>\n      <td>132.0</td>\n      <td>2.0</td>\n      <td>0.0,0.0,0.0,0.0,0.0,1.0,1.0,1.0,1.0,1.0,1.0,1....</td>\n      <td>2020-03-22</td>\n      <td>4.0</td>\n      <td>1.0</td>\n      <td>2020-03-17</td>\n      <td>2020-05-15</td>\n      <td>day</td>\n      <td>1</td>\n    </tr>\n    <tr>\n      <th>11</th>\n      <td>Tazewell</td>\n      <td>POLYGON ((-89.26933 40.59450, -89.26948 40.601...</td>\n      <td>Tazewell</td>\n      <td>0.0,0.0,0.0,0.0,0.0,0.0,0.0,0.0,0.0,2.0,2.0,3....</td>\n      <td>2020-03-26</td>\n      <td>62.0</td>\n      <td>4.0</td>\n      <td>0.0,0.0,0.0,0.0,0.0,0.0,0.0,0.0,0.0,0.0,0.0,0....</td>\n      <td>2020-04-07</td>\n      <td>3.0</td>\n      <td>0.0</td>\n      <td>2020-03-17</td>\n      <td>2020-05-15</td>\n      <td>day</td>\n      <td>1</td>\n    </tr>\n    <tr>\n      <th>12</th>\n      <td>Fulton</td>\n      <td>POLYGON ((-89.98606 40.71225, -90.00002 40.712...</td>\n      <td>Fulton</td>\n      <td>0.0,0.0,0.0,0.0,0.0,0.0,0.0,0.0,0.0,0.0,0.0,0....</td>\n      <td>2020-04-10</td>\n      <td>6.0</td>\n      <td>0.0</td>\n      <td>0.0,0.0,0.0,0.0,0.0,0.0,0.0,0.0,0.0,0.0,0.0,0....</td>\n      <td>NaN</td>\n      <td>0.0</td>\n      <td>0.0</td>\n      <td>2020-03-17</td>\n      <td>2020-05-15</td>\n      <td>day</td>\n      <td>1</td>\n    </tr>\n    <tr>\n      <th>13</th>\n      <td>Adams</td>\n      <td>POLYGON ((-91.50535 40.20029, -91.50436 40.198...</td>\n      <td>Adams</td>\n      <td>0.0,0.0,0.0,1.0,1.0,1.0,1.0,1.0,1.0,1.0,1.0,1....</td>\n      <td>2020-03-20</td>\n      <td>42.0</td>\n      <td>1.0</td>\n      <td>0.0,0.0,0.0,0.0,0.0,0.0,0.0,0.0,0.0,0.0,0.0,0....</td>\n      <td>2020-05-01</td>\n      <td>1.0</td>\n      <td>0.0</td>\n      <td>2020-03-17</td>\n      <td>2020-05-15</td>\n      <td>day</td>\n      <td>1</td>\n    </tr>\n    <tr>\n      <th>14</th>\n      <td>Champaign</td>\n      <td>POLYGON ((-88.46003 40.39850, -88.46009 40.383...</td>\n      <td>Champaign</td>\n      <td>1.0,1.0,1.0,1.0,1.0,2.0,2.0,2.0,4.0,8.0,10.0,1...</td>\n      <td>2020-03-17</td>\n      <td>344.0</td>\n      <td>20.0</td>\n      <td>0.0,0.0,0.0,0.0,0.0,0.0,0.0,0.0,0.0,0.0,0.0,0....</td>\n      <td>2020-04-07</td>\n      <td>7.0</td>\n      <td>1.0</td>\n      <td>2020-03-17</td>\n      <td>2020-05-15</td>\n      <td>day</td>\n      <td>1</td>\n    </tr>\n    <tr>\n      <th>15</th>\n      <td>Logan</td>\n      <td>POLYGON ((-89.60299 40.32011, -89.60273 40.305...</td>\n      <td>Logan</td>\n      <td>0.0,0.0,0.0,0.0,0.0,0.0,0.0,0.0,0.0,0.0,0.0,0....</td>\n      <td>2020-04-02</td>\n      <td>10.0</td>\n      <td>0.0</td>\n      <td>0.0,0.0,0.0,0.0,0.0,0.0,0.0,0.0,0.0,0.0,0.0,0....</td>\n      <td>NaN</td>\n      <td>0.0</td>\n      <td>0.0</td>\n      <td>2020-03-17</td>\n      <td>2020-05-15</td>\n      <td>day</td>\n      <td>1</td>\n    </tr>\n    <tr>\n      <th>16</th>\n      <td>Piatt</td>\n      <td>POLYGON ((-88.57476 40.28158, -88.58665 40.267...</td>\n      <td>Piatt</td>\n      <td>0.0,0.0,0.0,0.0,0.0,0.0,0.0,0.0,0.0,0.0,0.0,0....</td>\n      <td>2020-04-02</td>\n      <td>8.0</td>\n      <td>0.0</td>\n      <td>0.0,0.0,0.0,0.0,0.0,0.0,0.0,0.0,0.0,0.0,0.0,0....</td>\n      <td>NaN</td>\n      <td>0.0</td>\n      <td>0.0</td>\n      <td>2020-03-17</td>\n      <td>2020-05-15</td>\n      <td>day</td>\n      <td>1</td>\n    </tr>\n    <tr>\n      <th>17</th>\n      <td>Stark</td>\n      <td>POLYGON ((-89.85770 41.23450, -89.86772 41.234...</td>\n      <td>Stark</td>\n      <td>0.0,0.0,0.0,0.0,0.0,0.0,0.0,0.0,0.0,0.0,0.0,0....</td>\n      <td>2020-04-08</td>\n      <td>1.0</td>\n      <td>0.0</td>\n      <td>0.0,0.0,0.0,0.0,0.0,0.0,0.0,0.0,0.0,0.0,0.0,0....</td>\n      <td>NaN</td>\n      <td>0.0</td>\n      <td>0.0</td>\n      <td>2020-03-17</td>\n      <td>2020-05-15</td>\n      <td>day</td>\n      <td>1</td>\n    </tr>\n    <tr>\n      <th>18</th>\n      <td>Knox</td>\n      <td>POLYGON ((-89.98529 41.14944, -90.00422 41.149...</td>\n      <td>Knox</td>\n      <td>0.0,0.0,0.0,0.0,0.0,0.0,0.0,0.0,0.0,0.0,0.0,0....</td>\n      <td>2020-03-29</td>\n      <td>84.0</td>\n      <td>5.0</td>\n      <td>0.0,0.0,0.0,0.0,0.0,0.0,0.0,0.0,0.0,0.0,0.0,0....</td>\n      <td>NaN</td>\n      <td>0.0</td>\n      <td>0.0</td>\n      <td>2020-03-17</td>\n      <td>2020-05-15</td>\n      <td>day</td>\n      <td>1</td>\n    </tr>\n    <tr>\n      <th>19</th>\n      <td>Marshall</td>\n      <td>POLYGON ((-89.63903 41.14845, -89.63905 41.133...</td>\n      <td>Marshall</td>\n      <td>0.0,0.0,0.0,0.0,0.0,0.0,0.0,0.0,1.0,1.0,1.0,1....</td>\n      <td>2020-03-25</td>\n      <td>5.0</td>\n      <td>1.0</td>\n      <td>0.0,0.0,0.0,0.0,0.0,0.0,0.0,0.0,0.0,0.0,0.0,0....</td>\n      <td>NaN</td>\n      <td>0.0</td>\n      <td>0.0</td>\n      <td>2020-03-17</td>\n      <td>2020-05-15</td>\n      <td>day</td>\n      <td>1</td>\n    </tr>\n    <tr>\n      <th>20</th>\n      <td>Livingston</td>\n      <td>POLYGON ((-88.25174 41.11422, -88.26009 41.114...</td>\n      <td>Livingston</td>\n      <td>0.0,0.0,0.0,0.0,0.0,1.0,1.0,1.0,1.0,1.0,2.0,2....</td>\n      <td>2020-03-22</td>\n      <td>25.0</td>\n      <td>0.0</td>\n      <td>0.0,0.0,0.0,0.0,0.0,0.0,0.0,0.0,0.0,0.0,0.0,0....</td>\n      <td>2020-04-20</td>\n      <td>1.0</td>\n      <td>0.0</td>\n      <td>2020-03-17</td>\n      <td>2020-05-15</td>\n      <td>day</td>\n      <td>1</td>\n    </tr>\n    <tr>\n      <th>21</th>\n      <td>Henderson</td>\n      <td>POLYGON ((-90.78527 41.06922, -90.80435 41.070...</td>\n      <td>Henderson</td>\n      <td>0.0,0.0,0.0,0.0,0.0,0.0,0.0,0.0,0.0,0.0,0.0,0....</td>\n      <td>2020-04-17</td>\n      <td>7.0</td>\n      <td>0.0</td>\n      <td>0.0,0.0,0.0,0.0,0.0,0.0,0.0,0.0,0.0,0.0,0.0,0....</td>\n      <td>NaN</td>\n      <td>0.0</td>\n      <td>0.0</td>\n      <td>2020-03-17</td>\n      <td>2020-05-15</td>\n      <td>day</td>\n      <td>1</td>\n    </tr>\n    <tr>\n      <th>22</th>\n      <td>Warren</td>\n      <td>POLYGON ((-90.43990 41.06383, -90.45876 41.063...</td>\n      <td>Warren</td>\n      <td>0.0,0.0,0.0,0.0,0.0,0.0,0.0,0.0,0.0,0.0,0.0,0....</td>\n      <td>2020-04-11</td>\n      <td>105.0</td>\n      <td>0.0</td>\n      <td>0.0,0.0,0.0,0.0,0.0,0.0,0.0,0.0,0.0,0.0,0.0,0....</td>\n      <td>NaN</td>\n      <td>0.0</td>\n      <td>0.0</td>\n      <td>2020-03-17</td>\n      <td>2020-05-15</td>\n      <td>day</td>\n      <td>1</td>\n    </tr>\n    <tr>\n      <th>23</th>\n      <td>Iroquois</td>\n      <td>POLYGON ((-87.52616 41.01035, -87.54231 41.010...</td>\n      <td>Iroquois</td>\n      <td>0.0,0.0,0.0,0.0,0.0,0.0,0.0,0.0,0.0,0.0,1.0,2....</td>\n      <td>2020-03-27</td>\n      <td>111.0</td>\n      <td>4.0</td>\n      <td>0.0,0.0,0.0,0.0,0.0,0.0,0.0,0.0,0.0,0.0,0.0,0....</td>\n      <td>2020-05-04</td>\n      <td>3.0</td>\n      <td>0.0</td>\n      <td>2020-03-17</td>\n      <td>2020-05-15</td>\n      <td>day</td>\n      <td>1</td>\n    </tr>\n    <tr>\n      <th>24</th>\n      <td>Peoria</td>\n      <td>POLYGON ((-89.98593 40.97465, -89.98599 40.961...</td>\n      <td>Peoria</td>\n      <td>1.0,3.0,3.0,3.0,3.0,3.0,3.0,3.0,4.0,5.0,6.0,7....</td>\n      <td>2020-03-17</td>\n      <td>156.0</td>\n      <td>5.0</td>\n      <td>0.0,0.0,0.0,0.0,0.0,0.0,0.0,0.0,0.0,0.0,0.0,0....</td>\n      <td>2020-04-05</td>\n      <td>6.0</td>\n      <td>0.0</td>\n      <td>2020-03-17</td>\n      <td>2020-05-15</td>\n      <td>day</td>\n      <td>1</td>\n    </tr>\n    <tr>\n      <th>25</th>\n      <td>Woodford</td>\n      <td>POLYGON ((-89.04765 40.92567, -89.06702 40.925...</td>\n      <td>Woodford</td>\n      <td>1.0,1.0,2.0,2.0,2.0,2.0,2.0,3.0,3.0,3.0,3.0,3....</td>\n      <td>2020-03-17</td>\n      <td>14.0</td>\n      <td>0.0</td>\n      <td>0.0,0.0,0.0,0.0,0.0,0.0,0.0,0.0,0.0,0.0,0.0,0....</td>\n      <td>2020-04-21</td>\n      <td>1.0</td>\n      <td>0.0</td>\n      <td>2020-03-17</td>\n      <td>2020-05-15</td>\n      <td>day</td>\n      <td>1</td>\n    </tr>\n    <tr>\n      <th>26</th>\n      <td>Carroll</td>\n      <td>POLYGON ((-89.91979 42.19678, -89.93903 42.196...</td>\n      <td>Carroll</td>\n      <td>0.0,0.0,0.0,0.0,0.0,0.0,0.0,0.0,0.0,0.0,0.0,1....</td>\n      <td>2020-03-28</td>\n      <td>12.0</td>\n      <td>0.0</td>\n      <td>0.0,0.0,0.0,0.0,0.0,0.0,0.0,0.0,0.0,0.0,0.0,0....</td>\n      <td>2020-04-01</td>\n      <td>2.0</td>\n      <td>0.0</td>\n      <td>2020-03-17</td>\n      <td>2020-05-15</td>\n      <td>day</td>\n      <td>1</td>\n    </tr>\n    <tr>\n      <th>27</th>\n      <td>Kane</td>\n      <td>POLYGON ((-88.58859 42.15366, -88.58852 42.139...</td>\n      <td>Kane</td>\n      <td>3.0,4.0,6.0,8.0,8.0,13.0,13.0,24.0,38.0,57.0,7...</td>\n      <td>2020-03-17</td>\n      <td>4159.0</td>\n      <td>164.0</td>\n      <td>0.0,0.0,0.0,0.0,0.0,0.0,0.0,0.0,1.0,1.0,2.0,4....</td>\n      <td>2020-03-25</td>\n      <td>107.0</td>\n      <td>3.0</td>\n      <td>2020-03-17</td>\n      <td>2020-05-15</td>\n      <td>day</td>\n      <td>1</td>\n    </tr>\n    <tr>\n      <th>28</th>\n      <td>DeKalb</td>\n      <td>POLYGON ((-88.70559 42.15355, -88.72510 42.153...</td>\n      <td>DeKalb</td>\n      <td>0.0,0.0,0.0,0.0,1.0,1.0,1.0,1.0,1.0,3.0,4.0,4....</td>\n      <td>2020-03-21</td>\n      <td>229.0</td>\n      <td>12.0</td>\n      <td>0.0,0.0,0.0,0.0,0.0,0.0,0.0,0.0,0.0,0.0,0.0,0....</td>\n      <td>2020-04-06</td>\n      <td>2.0</td>\n      <td>0.0</td>\n      <td>2020-03-17</td>\n      <td>2020-05-15</td>\n      <td>day</td>\n      <td>1</td>\n    </tr>\n    <tr>\n      <th>29</th>\n      <td>Cook</td>\n      <td>POLYGON ((-88.23858 42.15425, -88.23865 42.139...</td>\n      <td>Cook</td>\n      <td>107.0,178.0,278.0,411.0,548.0,286.0,286.0,412....</td>\n      <td>2020-03-17</td>\n      <td>24722.0</td>\n      <td>606.0</td>\n      <td>1.0,1.0,2.0,3.0,4.0,2.0,2.0,7.0,8.0,9.0,11.0,1...</td>\n      <td>2020-03-17</td>\n      <td>1156.0</td>\n      <td>33.0</td>\n      <td>2020-03-17</td>\n      <td>2020-05-15</td>\n      <td>day</td>\n      <td>1</td>\n    </tr>\n    <tr>\n      <th>...</th>\n      <td>...</td>\n      <td>...</td>\n      <td>...</td>\n      <td>...</td>\n      <td>...</td>\n      <td>...</td>\n      <td>...</td>\n      <td>...</td>\n      <td>...</td>\n      <td>...</td>\n      <td>...</td>\n      <td>...</td>\n      <td>...</td>\n      <td>...</td>\n      <td>...</td>\n    </tr>\n    <tr>\n      <th>73</th>\n      <td>Hardin</td>\n      <td>POLYGON ((-88.37538 37.59960, -88.39355 37.599...</td>\n      <td>Hardin</td>\n      <td>0.0,0.0,0.0,0.0,0.0,0.0,0.0,0.0,0.0,0.0,0.0,0....</td>\n      <td>2020-04-21</td>\n      <td>1.0</td>\n      <td>0.0</td>\n      <td>0.0,0.0,0.0,0.0,0.0,0.0,0.0,0.0,0.0,0.0,0.0,0....</td>\n      <td>NaN</td>\n      <td>0.0</td>\n      <td>0.0</td>\n      <td>2020-03-17</td>\n      <td>2020-05-15</td>\n      <td>day</td>\n      <td>1</td>\n    </tr>\n    <tr>\n      <th>74</th>\n      <td>Massac</td>\n      <td>POLYGON ((-88.92877 37.30294, -88.92877 37.302...</td>\n      <td>Massac</td>\n      <td>0.0,0.0,0.0,0.0,0.0,0.0,0.0,0.0,0.0,0.0,0.0,0....</td>\n      <td>2020-04-01</td>\n      <td>6.0</td>\n      <td>0.0</td>\n      <td>0.0,0.0,0.0,0.0,0.0,0.0,0.0,0.0,0.0,0.0,0.0,0....</td>\n      <td>NaN</td>\n      <td>0.0</td>\n      <td>0.0</td>\n      <td>2020-03-17</td>\n      <td>2020-05-15</td>\n      <td>day</td>\n      <td>1</td>\n    </tr>\n    <tr>\n      <th>75</th>\n      <td>McDonough</td>\n      <td>POLYGON ((-90.78961 40.63568, -90.78967 40.635...</td>\n      <td>McDonough</td>\n      <td>0.0,0.0,0.0,0.0,0.0,0.0,0.0,0.0,0.0,0.0,0.0,0....</td>\n      <td>2020-04-11</td>\n      <td>58.0</td>\n      <td>0.0</td>\n      <td>0.0,0.0,0.0,0.0,0.0,0.0,0.0,0.0,0.0,0.0,0.0,0....</td>\n      <td>2020-05-02</td>\n      <td>2.0</td>\n      <td>0.0</td>\n      <td>2020-03-17</td>\n      <td>2020-05-15</td>\n      <td>day</td>\n      <td>1</td>\n    </tr>\n    <tr>\n      <th>76</th>\n      <td>Vermilion</td>\n      <td>POLYGON ((-87.93508 40.48596, -87.93473 40.471...</td>\n      <td>Vermilion</td>\n      <td>0.0,0.0,0.0,0.0,0.0,0.0,0.0,0.0,0.0,0.0,0.0,0....</td>\n      <td>2020-04-01</td>\n      <td>29.0</td>\n      <td>0.0</td>\n      <td>0.0,0.0,0.0,0.0,0.0,0.0,0.0,0.0,0.0,0.0,0.0,0....</td>\n      <td>2020-04-29</td>\n      <td>1.0</td>\n      <td>0.0</td>\n      <td>2020-03-17</td>\n      <td>2020-05-15</td>\n      <td>day</td>\n      <td>1</td>\n    </tr>\n    <tr>\n      <th>77</th>\n      <td>Macon</td>\n      <td>POLYGON ((-89.14466 40.04885, -89.14459 40.034...</td>\n      <td>Macon</td>\n      <td>0.0,0.0,0.0,0.0,0.0,0.0,0.0,0.0,0.0,0.0,0.0,1....</td>\n      <td>2020-03-28</td>\n      <td>159.0</td>\n      <td>5.0</td>\n      <td>0.0,0.0,0.0,0.0,0.0,0.0,0.0,0.0,0.0,0.0,0.0,0....</td>\n      <td>2020-04-08</td>\n      <td>17.0</td>\n      <td>1.0</td>\n      <td>2020-03-17</td>\n      <td>2020-05-15</td>\n      <td>day</td>\n      <td>1</td>\n    </tr>\n    <tr>\n      <th>78</th>\n      <td>Sangamon</td>\n      <td>POLYGON ((-89.21798 39.91706, -89.23638 39.916...</td>\n      <td>Sangamon</td>\n      <td>3.0,3.0,4.0,4.0,4.0,4.0,4.0,5.0,5.0,7.0,7.0,8....</td>\n      <td>2020-03-17</td>\n      <td>299.0</td>\n      <td>10.0</td>\n      <td>0.0,0.0,0.0,1.0,1.0,1.0,1.0,1.0,1.0,1.0,1.0,1....</td>\n      <td>2020-03-20</td>\n      <td>25.0</td>\n      <td>1.0</td>\n      <td>2020-03-17</td>\n      <td>2020-05-15</td>\n      <td>day</td>\n      <td>1</td>\n    </tr>\n    <tr>\n      <th>79</th>\n      <td>Edgar</td>\n      <td>POLYGON ((-87.93761 39.87996, -87.93729 39.865...</td>\n      <td>Edgar</td>\n      <td>0.0,0.0,0.0,0.0,0.0,0.0,0.0,0.0,0.0,0.0,0.0,0....</td>\n      <td>2020-05-15</td>\n      <td>1.0</td>\n      <td>1.0</td>\n      <td>0.0,0.0,0.0,0.0,0.0,0.0,0.0,0.0,0.0,0.0,0.0,0....</td>\n      <td>NaN</td>\n      <td>0.0</td>\n      <td>0.0</td>\n      <td>2020-03-17</td>\n      <td>2020-05-15</td>\n      <td>day</td>\n      <td>1</td>\n    </tr>\n    <tr>\n      <th>80</th>\n      <td>Morgan</td>\n      <td>POLYGON ((-89.99438 39.87291, -90.01303 39.872...</td>\n      <td>Morgan</td>\n      <td>0.0,0.0,0.0,0.0,0.0,0.0,0.0,0.0,1.0,1.0,1.0,3....</td>\n      <td>2020-03-25</td>\n      <td>35.0</td>\n      <td>1.0</td>\n      <td>0.0,0.0,0.0,0.0,0.0,0.0,0.0,0.0,0.0,0.0,0.0,0....</td>\n      <td>2020-03-31</td>\n      <td>1.0</td>\n      <td>0.0</td>\n      <td>2020-03-17</td>\n      <td>2020-05-15</td>\n      <td>day</td>\n      <td>1</td>\n    </tr>\n    <tr>\n      <th>81</th>\n      <td>Christian</td>\n      <td>POLYGON ((-89.21767 39.81320, -89.21788 39.813...</td>\n      <td>Christian</td>\n      <td>0.0,0.0,0.0,1.0,1.0,1.0,1.0,1.0,1.0,1.0,1.0,1....</td>\n      <td>2020-03-20</td>\n      <td>30.0</td>\n      <td>0.0</td>\n      <td>0.0,0.0,0.0,0.0,0.0,0.0,0.0,0.0,0.0,0.0,0.0,0....</td>\n      <td>2020-04-02</td>\n      <td>4.0</td>\n      <td>0.0</td>\n      <td>2020-03-17</td>\n      <td>2020-05-15</td>\n      <td>day</td>\n      <td>1</td>\n    </tr>\n    <tr>\n      <th>82</th>\n      <td>Moultrie</td>\n      <td>POLYGON ((-88.74551 39.79203, -88.75854 39.792...</td>\n      <td>Moultrie</td>\n      <td>0.0,0.0,0.0,0.0,0.0,0.0,0.0,0.0,0.0,0.0,0.0,0....</td>\n      <td>2020-04-02</td>\n      <td>7.0</td>\n      <td>1.0</td>\n      <td>0.0,0.0,0.0,0.0,0.0,0.0,0.0,0.0,0.0,0.0,0.0,0....</td>\n      <td>NaN</td>\n      <td>0.0</td>\n      <td>0.0</td>\n      <td>2020-03-17</td>\n      <td>2020-05-15</td>\n      <td>day</td>\n      <td>1</td>\n    </tr>\n    <tr>\n      <th>83</th>\n      <td>Scott</td>\n      <td>POLYGON ((-90.58103 39.52172, -90.56211 39.521...</td>\n      <td>Scott</td>\n      <td>0.0,0.0,0.0,0.0,0.0,0.0,0.0,0.0,0.0,0.0,0.0,0....</td>\n      <td>NaN</td>\n      <td>0.0</td>\n      <td>0.0</td>\n      <td>0.0,0.0,0.0,0.0,0.0,0.0,0.0,0.0,0.0,0.0,0.0,0....</td>\n      <td>NaN</td>\n      <td>0.0</td>\n      <td>0.0</td>\n      <td>2020-03-17</td>\n      <td>2020-05-15</td>\n      <td>day</td>\n      <td>1</td>\n    </tr>\n    <tr>\n      <th>84</th>\n      <td>Coles</td>\n      <td>POLYGON ((-88.47247 39.65162, -88.47201 39.637...</td>\n      <td>Coles</td>\n      <td>0.0,0.0,0.0,0.0,0.0,0.0,0.0,0.0,0.0,0.0,0.0,0....</td>\n      <td>2020-04-07</td>\n      <td>67.0</td>\n      <td>5.0</td>\n      <td>0.0,0.0,0.0,0.0,0.0,0.0,0.0,0.0,0.0,0.0,0.0,0....</td>\n      <td>2020-04-25</td>\n      <td>4.0</td>\n      <td>0.0</td>\n      <td>2020-03-17</td>\n      <td>2020-05-15</td>\n      <td>day</td>\n      <td>1</td>\n    </tr>\n    <tr>\n      <th>85</th>\n      <td>Shelby</td>\n      <td>POLYGON ((-89.02552 39.65448, -89.02541 39.640...</td>\n      <td>Shelby</td>\n      <td>0.0,0.0,0.0,0.0,0.0,0.0,0.0,0.0,0.0,0.0,0.0,0....</td>\n      <td>2020-04-07</td>\n      <td>12.0</td>\n      <td>1.0</td>\n      <td>0.0,0.0,0.0,0.0,0.0,0.0,0.0,0.0,0.0,0.0,0.0,0....</td>\n      <td>2020-04-29</td>\n      <td>1.0</td>\n      <td>0.0</td>\n      <td>2020-03-17</td>\n      <td>2020-05-15</td>\n      <td>day</td>\n      <td>1</td>\n    </tr>\n    <tr>\n      <th>86</th>\n      <td>Montgomery</td>\n      <td>POLYGON ((-89.70178 39.52331, -89.70144 39.508...</td>\n      <td>Montgomery</td>\n      <td>0.0,0.0,0.0,0.0,0.0,0.0,0.0,0.0,0.0,0.0,0.0,0....</td>\n      <td>2020-03-29</td>\n      <td>36.0</td>\n      <td>0.0</td>\n      <td>0.0,0.0,0.0,0.0,0.0,0.0,0.0,0.0,0.0,0.0,0.0,0....</td>\n      <td>2020-04-05</td>\n      <td>1.0</td>\n      <td>0.0</td>\n      <td>2020-03-17</td>\n      <td>2020-05-15</td>\n      <td>day</td>\n      <td>1</td>\n    </tr>\n    <tr>\n      <th>87</th>\n      <td>Macoupin</td>\n      <td>POLYGON ((-89.92568 39.52239, -89.94431 39.522...</td>\n      <td>Macoupin</td>\n      <td>0.0,0.0,0.0,0.0,0.0,0.0,0.0,0.0,0.0,0.0,0.0,0....</td>\n      <td>2020-04-02</td>\n      <td>41.0</td>\n      <td>0.0</td>\n      <td>0.0,0.0,0.0,0.0,0.0,0.0,0.0,0.0,0.0,0.0,0.0,0....</td>\n      <td>2020-05-05</td>\n      <td>1.0</td>\n      <td>0.0</td>\n      <td>2020-03-17</td>\n      <td>2020-05-15</td>\n      <td>day</td>\n      <td>1</td>\n    </tr>\n    <tr>\n      <th>88</th>\n      <td>Clark</td>\n      <td>POLYGON ((-87.96033 39.48136, -87.97896 39.481...</td>\n      <td>Clark</td>\n      <td>0.0,0.0,0.0,0.0,0.0,0.0,0.0,0.0,0.0,0.0,0.0,0....</td>\n      <td>2020-03-30</td>\n      <td>9.0</td>\n      <td>0.0</td>\n      <td>0.0,0.0,0.0,0.0,0.0,0.0,0.0,0.0,0.0,0.0,0.0,0....</td>\n      <td>NaN</td>\n      <td>0.0</td>\n      <td>0.0</td>\n      <td>2020-03-17</td>\n      <td>2020-05-15</td>\n      <td>day</td>\n      <td>1</td>\n    </tr>\n    <tr>\n      <th>89</th>\n      <td>Crawford</td>\n      <td>POLYGON ((-87.95037 39.17505, -87.95003 39.158...</td>\n      <td>Crawford</td>\n      <td>0.0,0.0,0.0,0.0,0.0,0.0,0.0,0.0,0.0,0.0,0.0,0....</td>\n      <td>2020-03-30</td>\n      <td>11.0</td>\n      <td>0.0</td>\n      <td>0.0,0.0,0.0,0.0,0.0,0.0,0.0,0.0,0.0,0.0,0.0,0....</td>\n      <td>NaN</td>\n      <td>0.0</td>\n      <td>0.0</td>\n      <td>2020-03-17</td>\n      <td>2020-05-15</td>\n      <td>day</td>\n      <td>1</td>\n    </tr>\n    <tr>\n      <th>90</th>\n      <td>Jasper</td>\n      <td>POLYGON ((-88.00774 39.17389, -88.02264 39.173...</td>\n      <td>Jasper</td>\n      <td>0.0,0.0,0.0,0.0,0.0,0.0,0.0,0.0,0.0,0.0,0.0,0....</td>\n      <td>2020-04-04</td>\n      <td>45.0</td>\n      <td>0.0</td>\n      <td>0.0,0.0,0.0,0.0,0.0,0.0,0.0,0.0,0.0,0.0,0.0,0....</td>\n      <td>2020-04-13</td>\n      <td>7.0</td>\n      <td>0.0</td>\n      <td>2020-03-17</td>\n      <td>2020-05-15</td>\n      <td>day</td>\n      <td>1</td>\n    </tr>\n    <tr>\n      <th>91</th>\n      <td>Bond</td>\n      <td>POLYGON ((-89.25027 39.02822, -89.26896 39.028...</td>\n      <td>Bond</td>\n      <td>0.0,0.0,0.0,0.0,0.0,0.0,0.0,0.0,0.0,0.0,0.0,0....</td>\n      <td>2020-03-29</td>\n      <td>11.0</td>\n      <td>1.0</td>\n      <td>0.0,0.0,0.0,0.0,0.0,0.0,0.0,0.0,0.0,0.0,0.0,0....</td>\n      <td>2020-04-16</td>\n      <td>1.0</td>\n      <td>0.0</td>\n      <td>2020-03-17</td>\n      <td>2020-05-15</td>\n      <td>day</td>\n      <td>1</td>\n    </tr>\n    <tr>\n      <th>92</th>\n      <td>Madison</td>\n      <td>POLYGON ((-89.63924 38.99914, -89.64215 38.999...</td>\n      <td>Madison</td>\n      <td>0.0,1.0,1.0,1.0,2.0,2.0,2.0,2.0,3.0,6.0,8.0,10...</td>\n      <td>2020-03-18</td>\n      <td>464.0</td>\n      <td>3.0</td>\n      <td>0.0,0.0,0.0,0.0,0.0,0.0,0.0,0.0,0.0,0.0,0.0,0....</td>\n      <td>2020-04-07</td>\n      <td>38.0</td>\n      <td>3.0</td>\n      <td>2020-03-17</td>\n      <td>2020-05-15</td>\n      <td>day</td>\n      <td>1</td>\n    </tr>\n    <tr>\n      <th>93</th>\n      <td>Fayette</td>\n      <td>POLYGON ((-89.13957 39.21785, -89.15807 39.217...</td>\n      <td>Fayette</td>\n      <td>0.0,0.0,0.0,0.0,0.0,0.0,0.0,0.0,0.0,0.0,0.0,1....</td>\n      <td>2020-03-28</td>\n      <td>19.0</td>\n      <td>2.0</td>\n      <td>0.0,0.0,0.0,0.0,0.0,0.0,0.0,0.0,0.0,0.0,0.0,0....</td>\n      <td>2020-04-13</td>\n      <td>2.0</td>\n      <td>0.0</td>\n      <td>2020-03-17</td>\n      <td>2020-05-15</td>\n      <td>day</td>\n      <td>1</td>\n    </tr>\n    <tr>\n      <th>94</th>\n      <td>St. Clair</td>\n      <td>POLYGON ((-89.70703 38.65503, -89.72531 38.655...</td>\n      <td>St. Clair</td>\n      <td>2.0,3.0,3.0,3.0,3.0,3.0,3.0,7.0,7.0,13.0,15.0,...</td>\n      <td>2020-03-17</td>\n      <td>765.0</td>\n      <td>6.0</td>\n      <td>0.0,0.0,0.0,0.0,0.0,0.0,0.0,0.0,0.0,0.0,0.0,0....</td>\n      <td>2020-03-29</td>\n      <td>63.0</td>\n      <td>2.0</td>\n      <td>2020-03-17</td>\n      <td>2020-05-15</td>\n      <td>day</td>\n      <td>1</td>\n    </tr>\n    <tr>\n      <th>95</th>\n      <td>Wayne</td>\n      <td>POLYGON ((-88.69830 38.60606, -88.69830 38.605...</td>\n      <td>Wayne</td>\n      <td>0.0,0.0,0.0,0.0,0.0,0.0,0.0,0.0,0.0,0.0,0.0,0....</td>\n      <td>2020-04-17</td>\n      <td>8.0</td>\n      <td>-3.0</td>\n      <td>0.0,0.0,0.0,0.0,0.0,0.0,0.0,0.0,0.0,0.0,0.0,0....</td>\n      <td>2020-05-14</td>\n      <td>1.0</td>\n      <td>0.0</td>\n      <td>2020-03-17</td>\n      <td>2020-05-15</td>\n      <td>day</td>\n      <td>1</td>\n    </tr>\n    <tr>\n      <th>96</th>\n      <td>Monroe</td>\n      <td>POLYGON ((-89.89905 38.22077, -89.89905 38.220...</td>\n      <td>Monroe</td>\n      <td>0.0,0.0,0.0,0.0,0.0,0.0,0.0,1.0,2.0,3.0,3.0,3....</td>\n      <td>2020-03-24</td>\n      <td>83.0</td>\n      <td>1.0</td>\n      <td>0.0,0.0,0.0,0.0,0.0,0.0,0.0,0.0,0.0,0.0,0.0,0....</td>\n      <td>2020-04-07</td>\n      <td>11.0</td>\n      <td>0.0</td>\n      <td>2020-03-17</td>\n      <td>2020-05-15</td>\n      <td>day</td>\n      <td>1</td>\n    </tr>\n    <tr>\n      <th>97</th>\n      <td>Jefferson</td>\n      <td>POLYGON ((-89.14445 38.47387, -89.14462 38.460...</td>\n      <td>Jefferson</td>\n      <td>0.0,0.0,0.0,0.0,0.0,0.0,0.0,0.0,0.0,0.0,0.0,0....</td>\n      <td>2020-03-29</td>\n      <td>98.0</td>\n      <td>0.0</td>\n      <td>0.0,0.0,0.0,0.0,0.0,0.0,0.0,0.0,0.0,0.0,0.0,0....</td>\n      <td>2020-04-22</td>\n      <td>17.0</td>\n      <td>0.0</td>\n      <td>2020-03-17</td>\n      <td>2020-05-15</td>\n      <td>day</td>\n      <td>1</td>\n    </tr>\n    <tr>\n      <th>98</th>\n      <td>Lawrence</td>\n      <td>POLYGON ((-87.90806 38.85013, -87.90819 38.835...</td>\n      <td>Lawrence</td>\n      <td>0.0,0.0,0.0,0.0,0.0,0.0,0.0,0.0,0.0,0.0,0.0,0....</td>\n      <td>2020-04-07</td>\n      <td>4.0</td>\n      <td>0.0</td>\n      <td>0.0,0.0,0.0,0.0,0.0,0.0,0.0,0.0,0.0,0.0,0.0,0....</td>\n      <td>NaN</td>\n      <td>0.0</td>\n      <td>0.0</td>\n      <td>2020-03-17</td>\n      <td>2020-05-15</td>\n      <td>day</td>\n      <td>1</td>\n    </tr>\n    <tr>\n      <th>99</th>\n      <td>Marion</td>\n      <td>POLYGON ((-89.13844 38.73633, -89.13847 38.721...</td>\n      <td>Marion</td>\n      <td>0.0,0.0,0.0,0.0,0.0,0.0,0.0,0.0,0.0,0.0,0.0,0....</td>\n      <td>2020-03-30</td>\n      <td>47.0</td>\n      <td>0.0</td>\n      <td>0.0,0.0,0.0,0.0,0.0,0.0,0.0,0.0,0.0,0.0,0.0,0....</td>\n      <td>NaN</td>\n      <td>0.0</td>\n      <td>0.0</td>\n      <td>2020-03-17</td>\n      <td>2020-05-15</td>\n      <td>day</td>\n      <td>1</td>\n    </tr>\n    <tr>\n      <th>100</th>\n      <td>Union</td>\n      <td>POLYGON ((-89.04143 37.59650, -89.06017 37.597...</td>\n      <td>Union</td>\n      <td>0.0,0.0,0.0,0.0,0.0,0.0,0.0,0.0,0.0,0.0,0.0,0....</td>\n      <td>2020-04-15</td>\n      <td>117.0</td>\n      <td>4.0</td>\n      <td>0.0,0.0,0.0,0.0,0.0,0.0,0.0,0.0,0.0,0.0,0.0,0....</td>\n      <td>2020-05-05</td>\n      <td>4.0</td>\n      <td>3.0</td>\n      <td>2020-03-17</td>\n      <td>2020-05-15</td>\n      <td>day</td>\n      <td>1</td>\n    </tr>\n    <tr>\n      <th>101</th>\n      <td>Pope</td>\n      <td>POLYGON ((-88.70860 37.59926, -88.70876 37.584...</td>\n      <td>Pope</td>\n      <td>0.0,0.0,0.0,0.0,0.0,0.0,0.0,0.0,0.0,0.0,0.0,0....</td>\n      <td>2020-05-08</td>\n      <td>1.0</td>\n      <td>0.0</td>\n      <td>0.0,0.0,0.0,0.0,0.0,0.0,0.0,0.0,0.0,0.0,0.0,0....</td>\n      <td>NaN</td>\n      <td>0.0</td>\n      <td>0.0</td>\n      <td>2020-03-17</td>\n      <td>2020-05-15</td>\n      <td>day</td>\n      <td>1</td>\n    </tr>\n    <tr>\n      <th>102</th>\n      <td>Chicago</td>\n      <td>MULTIPOLYGON (((-87.93514 42.00089, -87.93521 ...</td>\n      <td>Chicago</td>\n      <td>0.0,0.0,0.0,0.0,0.0,519.0,519.0,782.0,915.0,11...</td>\n      <td>2020-03-22</td>\n      <td>35183.0</td>\n      <td>842.0</td>\n      <td>0.0,0.0,0.0,0.0,0.0,4.0,4.0,5.0,5.0,9.0,9.0,12...</td>\n      <td>2020-03-22</td>\n      <td>1606.0</td>\n      <td>54.0</td>\n      <td>2020-03-17</td>\n      <td>2020-05-15</td>\n      <td>day</td>\n      <td>1</td>\n    </tr>\n  </tbody>\n</table>\n<p>103 rows × 15 columns</p>\n</div>"
     },
     "metadata": {},
     "output_type": "execute_result",
     "execution_count": 222
    }
   ],
   "source": [
    "county_final_gpd"
   ],
   "metadata": {
    "collapsed": false,
    "pycharm": {
     "name": "#%%\n",
     "is_executing": false
    }
   }
  },
  {
   "cell_type": "code",
   "execution_count": 219,
   "outputs": [
    {
     "name": "stdout",
     "text": [
      "done\n"
     ],
     "output_type": "stream"
    }
   ],
   "source": [
    "county_final_gpd.to_file('dph_county_data.geojson', driver='GeoJSON', encoding='utf-8')\n",
    "print('done')\n"
   ],
   "metadata": {
    "collapsed": false,
    "pycharm": {
     "name": "#%%\n",
     "is_executing": false
    }
   }
  }
 ],
 "metadata": {
  "language_info": {
   "codemirror_mode": {
    "name": "ipython",
    "version": 2
   },
   "file_extension": ".py",
   "mimetype": "text/x-python",
   "name": "python",
   "nbconvert_exporter": "python",
   "pygments_lexer": "ipython2",
   "version": "2.7.6"
  },
  "kernelspec": {
   "name": "python3",
   "language": "python",
   "display_name": "Python 3"
  },
  "pycharm": {
   "stem_cell": {
    "cell_type": "raw",
    "source": [],
    "metadata": {
     "collapsed": false
    }
   }
  }
 },
 "nbformat": 4,
 "nbformat_minor": 0
}