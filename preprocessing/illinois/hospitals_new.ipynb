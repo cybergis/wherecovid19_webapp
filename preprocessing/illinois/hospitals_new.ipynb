{
 "cells": [
  {
   "cell_type": "code",
   "execution_count": 3,
   "metadata": {
    "collapsed": true,
    "pycharm": {
     "is_executing": false
    }
   },
   "outputs": [],
   "source": [
    "import pandas as pd\n",
    "import numpy as np\n",
    "import geopandas as gpd\n",
    "from matplotlib import pyplot as plt"
   ]
  },
  {
   "cell_type": "code",
   "execution_count": 2,
   "outputs": [
    {
     "data": {
      "text/plain": "   FID                             Hospital          StreetAddress  \\\n0   46         Northwest Community Hospital  800 West Central Road   \n1   65      Alexian Brothers Medical Center    800 Biesterfield Rd   \n2   95      Advocate Good Shepherd Hospital   450 West Highway #22   \n3  194          Chicago Behavioral Hospital        555 Wilson Lane   \n4  203  Presence Holy Family Medical Center   100 North River Road   \n\n                City  ZIP_Code          X          Y  Total_Bed  AvailableBed  \\\n0  Arlington Heights     60005 -87.991039  42.066594        509           229   \n1  Elk Grove Village     60007 -88.016693  42.003433        401           180   \n2         Barrington     60010   0.000000   0.000000        176            79   \n3        Des Plaines     60016 -87.879254  42.043888        138            62   \n4        Des Plaines     60016 -87.869807  42.055750        178            80   \n\n   Bed_in_Use  Adult_ICU_Bed  Total_Vent  Available_Vent  Vent_in_Use  \\\n0         280            127          41              24           17   \n1         221            100          33              19           13   \n2          97             44          14               8            6   \n3          76             35          11               7            5   \n4          98             45          14               9            6   \n\n   CovidConfirmedPatient  CovidPatient_in_ICU  CovidPatientVent  FID2  \\\n0                    239                   13                 9     1   \n1                    188                   11                 7     2   \n2                     83                    5                 3     3   \n3                     65                    4                 3     4   \n4                     84                    5                 3     5   \n\n                     geometry  \n0  POINT (-87.99104 42.06659)  \n1  POINT (-88.01669 42.00343)  \n2     POINT (0.00000 0.00000)  \n3  POINT (-87.87925 42.04389)  \n4  POINT (-87.86981 42.05575)  ",
      "text/html": "<div>\n<style scoped>\n    .dataframe tbody tr th:only-of-type {\n        vertical-align: middle;\n    }\n\n    .dataframe tbody tr th {\n        vertical-align: top;\n    }\n\n    .dataframe thead th {\n        text-align: right;\n    }\n</style>\n<table border=\"1\" class=\"dataframe\">\n  <thead>\n    <tr style=\"text-align: right;\">\n      <th></th>\n      <th>FID</th>\n      <th>Hospital</th>\n      <th>StreetAddress</th>\n      <th>City</th>\n      <th>ZIP_Code</th>\n      <th>X</th>\n      <th>Y</th>\n      <th>Total_Bed</th>\n      <th>AvailableBed</th>\n      <th>Bed_in_Use</th>\n      <th>Adult_ICU_Bed</th>\n      <th>Total_Vent</th>\n      <th>Available_Vent</th>\n      <th>Vent_in_Use</th>\n      <th>CovidConfirmedPatient</th>\n      <th>CovidPatient_in_ICU</th>\n      <th>CovidPatientVent</th>\n      <th>FID2</th>\n      <th>geometry</th>\n    </tr>\n  </thead>\n  <tbody>\n    <tr>\n      <th>0</th>\n      <td>46</td>\n      <td>Northwest Community Hospital</td>\n      <td>800 West Central Road</td>\n      <td>Arlington Heights</td>\n      <td>60005</td>\n      <td>-87.991039</td>\n      <td>42.066594</td>\n      <td>509</td>\n      <td>229</td>\n      <td>280</td>\n      <td>127</td>\n      <td>41</td>\n      <td>24</td>\n      <td>17</td>\n      <td>239</td>\n      <td>13</td>\n      <td>9</td>\n      <td>1</td>\n      <td>POINT (-87.99104 42.06659)</td>\n    </tr>\n    <tr>\n      <th>1</th>\n      <td>65</td>\n      <td>Alexian Brothers Medical Center</td>\n      <td>800 Biesterfield Rd</td>\n      <td>Elk Grove Village</td>\n      <td>60007</td>\n      <td>-88.016693</td>\n      <td>42.003433</td>\n      <td>401</td>\n      <td>180</td>\n      <td>221</td>\n      <td>100</td>\n      <td>33</td>\n      <td>19</td>\n      <td>13</td>\n      <td>188</td>\n      <td>11</td>\n      <td>7</td>\n      <td>2</td>\n      <td>POINT (-88.01669 42.00343)</td>\n    </tr>\n    <tr>\n      <th>2</th>\n      <td>95</td>\n      <td>Advocate Good Shepherd Hospital</td>\n      <td>450 West Highway #22</td>\n      <td>Barrington</td>\n      <td>60010</td>\n      <td>0.000000</td>\n      <td>0.000000</td>\n      <td>176</td>\n      <td>79</td>\n      <td>97</td>\n      <td>44</td>\n      <td>14</td>\n      <td>8</td>\n      <td>6</td>\n      <td>83</td>\n      <td>5</td>\n      <td>3</td>\n      <td>3</td>\n      <td>POINT (0.00000 0.00000)</td>\n    </tr>\n    <tr>\n      <th>3</th>\n      <td>194</td>\n      <td>Chicago Behavioral Hospital</td>\n      <td>555 Wilson Lane</td>\n      <td>Des Plaines</td>\n      <td>60016</td>\n      <td>-87.879254</td>\n      <td>42.043888</td>\n      <td>138</td>\n      <td>62</td>\n      <td>76</td>\n      <td>35</td>\n      <td>11</td>\n      <td>7</td>\n      <td>5</td>\n      <td>65</td>\n      <td>4</td>\n      <td>3</td>\n      <td>4</td>\n      <td>POINT (-87.87925 42.04389)</td>\n    </tr>\n    <tr>\n      <th>4</th>\n      <td>203</td>\n      <td>Presence Holy Family Medical Center</td>\n      <td>100 North River Road</td>\n      <td>Des Plaines</td>\n      <td>60016</td>\n      <td>-87.869807</td>\n      <td>42.055750</td>\n      <td>178</td>\n      <td>80</td>\n      <td>98</td>\n      <td>45</td>\n      <td>14</td>\n      <td>9</td>\n      <td>6</td>\n      <td>84</td>\n      <td>5</td>\n      <td>3</td>\n      <td>5</td>\n      <td>POINT (-87.86981 42.05575)</td>\n    </tr>\n  </tbody>\n</table>\n</div>"
     },
     "metadata": {},
     "output_type": "execute_result",
     "execution_count": 2
    }
   ],
   "source": [
    "old_hospitals_gdf = gpd.read_file(\"Illinois_Hospitals.geojson\")\n",
    "old_hospitals_gdf.head(5)"
   ],
   "metadata": {
    "collapsed": false,
    "pycharm": {
     "name": "#%%\n",
     "is_executing": false
    }
   }
  },
  {
   "cell_type": "code",
   "execution_count": 15,
   "outputs": [],
   "source": [
    "new_hospitals_gdf = old_hospitals_gdf[old_hospitals_gdf['X'] != 0]"
   ],
   "metadata": {
    "collapsed": false,
    "pycharm": {
     "name": "#%%\n",
     "is_executing": false
    }
   }
  },
  {
   "cell_type": "code",
   "execution_count": 16,
   "outputs": [
    {
     "name": "stdout",
     "text": [
      "done\n"
     ],
     "output_type": "stream"
    }
   ],
   "source": [
    "new_hospitals_gdf.to_file(\"Illinois_Hospitals_valid.geojson\", driver='GeoJSON', encoding='utf-8')\n",
    "print('done')"
   ],
   "metadata": {
    "collapsed": false,
    "pycharm": {
     "name": "#%%\n",
     "is_executing": false
    }
   }
  },
  {
   "cell_type": "code",
   "execution_count": 29,
   "outputs": [
    {
     "data": {
      "text/plain": "   ID  age  Sex     Latitude     Longitude                Lab_Report_Date  \\\n0   1   41    1   41.7068448  -87.65708054  Tue, 24 Mar 2020 00:00:00 GMT   \n1   2   75    1    41.935298  -87.63922025  Tue, 24 Mar 2020 00:00:00 GMT   \n2   3    5    2  41.98555883  -87.69201674  Tue, 24 Mar 2020 00:00:00 GMT   \n3   5   65    2  42.07728149  -88.16177047  Wed, 18 Mar 2020 00:00:00 GMT   \n4   6   85    1  42.38465575  -87.83514951  Sat, 21 Mar 2020 00:00:00 GMT   \n\n  Test_Result      Race                   Ethnicity Deceased  FID  \\\n0    Positive     White  Not Hispanic or not Latino      Yes    1   \n1    Negative  Hispanic          Hispanic or Latino     NULL    2   \n2    Negative   Unknown                        NULL     NULL    3   \n3    Negative   Unknown                        NULL     NULL    4   \n4    Negative     White                        NULL     NULL    5   \n\n                     geometry  \n0  POINT (-87.65708 41.70684)  \n1  POINT (-87.63922 41.93530)  \n2  POINT (-87.69202 41.98556)  \n3  POINT (-88.16177 42.07728)  \n4  POINT (-87.83515 42.38466)  ",
      "text/html": "<div>\n<style scoped>\n    .dataframe tbody tr th:only-of-type {\n        vertical-align: middle;\n    }\n\n    .dataframe tbody tr th {\n        vertical-align: top;\n    }\n\n    .dataframe thead th {\n        text-align: right;\n    }\n</style>\n<table border=\"1\" class=\"dataframe\">\n  <thead>\n    <tr style=\"text-align: right;\">\n      <th></th>\n      <th>ID</th>\n      <th>age</th>\n      <th>Sex</th>\n      <th>Latitude</th>\n      <th>Longitude</th>\n      <th>Lab_Report_Date</th>\n      <th>Test_Result</th>\n      <th>Race</th>\n      <th>Ethnicity</th>\n      <th>Deceased</th>\n      <th>FID</th>\n      <th>geometry</th>\n    </tr>\n  </thead>\n  <tbody>\n    <tr>\n      <th>0</th>\n      <td>1</td>\n      <td>41</td>\n      <td>1</td>\n      <td>41.7068448</td>\n      <td>-87.65708054</td>\n      <td>Tue, 24 Mar 2020 00:00:00 GMT</td>\n      <td>Positive</td>\n      <td>White</td>\n      <td>Not Hispanic or not Latino</td>\n      <td>Yes</td>\n      <td>1</td>\n      <td>POINT (-87.65708 41.70684)</td>\n    </tr>\n    <tr>\n      <th>1</th>\n      <td>2</td>\n      <td>75</td>\n      <td>1</td>\n      <td>41.935298</td>\n      <td>-87.63922025</td>\n      <td>Tue, 24 Mar 2020 00:00:00 GMT</td>\n      <td>Negative</td>\n      <td>Hispanic</td>\n      <td>Hispanic or Latino</td>\n      <td>NULL</td>\n      <td>2</td>\n      <td>POINT (-87.63922 41.93530)</td>\n    </tr>\n    <tr>\n      <th>2</th>\n      <td>3</td>\n      <td>5</td>\n      <td>2</td>\n      <td>41.98555883</td>\n      <td>-87.69201674</td>\n      <td>Tue, 24 Mar 2020 00:00:00 GMT</td>\n      <td>Negative</td>\n      <td>Unknown</td>\n      <td>NULL</td>\n      <td>NULL</td>\n      <td>3</td>\n      <td>POINT (-87.69202 41.98556)</td>\n    </tr>\n    <tr>\n      <th>3</th>\n      <td>5</td>\n      <td>65</td>\n      <td>2</td>\n      <td>42.07728149</td>\n      <td>-88.16177047</td>\n      <td>Wed, 18 Mar 2020 00:00:00 GMT</td>\n      <td>Negative</td>\n      <td>Unknown</td>\n      <td>NULL</td>\n      <td>NULL</td>\n      <td>4</td>\n      <td>POINT (-88.16177 42.07728)</td>\n    </tr>\n    <tr>\n      <th>4</th>\n      <td>6</td>\n      <td>85</td>\n      <td>1</td>\n      <td>42.38465575</td>\n      <td>-87.83514951</td>\n      <td>Sat, 21 Mar 2020 00:00:00 GMT</td>\n      <td>Negative</td>\n      <td>White</td>\n      <td>NULL</td>\n      <td>NULL</td>\n      <td>5</td>\n      <td>POINT (-87.83515 42.38466)</td>\n    </tr>\n  </tbody>\n</table>\n</div>"
     },
     "metadata": {},
     "output_type": "execute_result",
     "execution_count": 29
    }
   ],
   "source": [
    "old_testing_gdf = gpd.read_file(\"illinois_testing.geojson\")\n",
    "old_testing_gdf.head(5)"
   ],
   "metadata": {
    "collapsed": false,
    "pycharm": {
     "name": "#%%\n",
     "is_executing": false
    }
   }
  },
  {
   "cell_type": "code",
   "execution_count": 34,
   "outputs": [],
   "source": [
    "old_testing_gdf['Deceased'].fillna(value='Info Unavailable', inplace=True)"
   ],
   "metadata": {
    "collapsed": false,
    "pycharm": {
     "name": "#%%\n",
     "is_executing": false
    }
   }
  },
  {
   "cell_type": "code",
   "execution_count": 32,
   "outputs": [],
   "source": [
    "old_testing_gdf['Deceased'] = old_testing_gdf['Deceased'].replace(\"NULL\",\"Info Unavailable\")"
   ],
   "metadata": {
    "collapsed": false,
    "pycharm": {
     "name": "#%%\n",
     "is_executing": false
    }
   }
  },
  {
   "cell_type": "code",
   "execution_count": 36,
   "outputs": [
    {
     "data": {
      "text/plain": "array(['Yes', 'Info Unavailable', 'No'], dtype=object)"
     },
     "metadata": {},
     "output_type": "execute_result",
     "execution_count": 36
    }
   ],
   "source": [
    "old_testing_gdf['Deceased'].unique()"
   ],
   "metadata": {
    "collapsed": false,
    "pycharm": {
     "name": "#%%\n",
     "is_executing": false
    }
   }
  },
  {
   "cell_type": "code",
   "execution_count": 37,
   "outputs": [
    {
     "name": "stdout",
     "text": [
      "done\n"
     ],
     "output_type": "stream"
    }
   ],
   "source": [
    "old_testing_gdf.to_file(\"illinois_testing.geojson\", driver='GeoJSON', encoding='utf-8')\n",
    "print('done')\n",
    "\n"
   ],
   "metadata": {
    "collapsed": false,
    "pycharm": {
     "name": "#%%\n",
     "is_executing": false
    }
   }
  }
 ],
 "metadata": {
  "language_info": {
   "codemirror_mode": {
    "name": "ipython",
    "version": 2
   },
   "file_extension": ".py",
   "mimetype": "text/x-python",
   "name": "python",
   "nbconvert_exporter": "python",
   "pygments_lexer": "ipython2",
   "version": "2.7.6"
  },
  "kernelspec": {
   "name": "python3",
   "language": "python",
   "display_name": "Python 3"
  },
  "pycharm": {
   "stem_cell": {
    "cell_type": "raw",
    "source": [],
    "metadata": {
     "collapsed": false
    }
   }
  }
 },
 "nbformat": 4,
 "nbformat_minor": 0
}