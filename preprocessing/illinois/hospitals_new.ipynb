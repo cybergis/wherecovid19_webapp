{
 "cells": [
  {
   "cell_type": "code",
   "execution_count": 46,
   "metadata": {
    "collapsed": true,
    "pycharm": {
     "is_executing": false
    }
   },
   "outputs": [],
   "source": [
    "import pandas as pd\n",
    "import numpy as np\n",
    "import geopandas as gpd\n",
    "from matplotlib import pyplot as plt"
   ]
  },
  {
   "cell_type": "code",
   "execution_count": 47,
   "outputs": [
    {
     "data": {
      "text/plain": "   FID                             Hospital          StreetAddress  \\\n0   46         Northwest Community Hospital  800 West Central Road   \n1   65      Alexian Brothers Medical Center    800 Biesterfield Rd   \n2   95      Advocate Good Shepherd Hospital   450 West Highway #22   \n3  194          Chicago Behavioral Hospital        555 Wilson Lane   \n4  203  Presence Holy Family Medical Center   100 North River Road   \n\n                City  ZIP_Code          X          Y  Total_Bed  AvailableBed  \\\n0  Arlington Heights     60005 -87.991039  42.066594        509           229   \n1  Elk Grove Village     60007 -88.016693  42.003433        401           180   \n2         Barrington     60010   0.000000   0.000000        176            79   \n3        Des Plaines     60016 -87.879254  42.043888        138            62   \n4        Des Plaines     60016 -87.869807  42.055750        178            80   \n\n   Bed_in_Use  Adult_ICU_Bed  Total_Vent  Available_Vent  Vent_in_Use  \\\n0         280            127          41              24           17   \n1         221            100          33              19           13   \n2          97             44          14               8            6   \n3          76             35          11               7            5   \n4          98             45          14               9            6   \n\n   CovidConfirmedPatient  CovidPatient_in_ICU  CovidPatientVent  \n0                    239                   13                 9  \n1                    188                   11                 7  \n2                     83                    5                 3  \n3                     65                    4                 3  \n4                     84                    5                 3  ",
      "text/html": "<div>\n<style scoped>\n    .dataframe tbody tr th:only-of-type {\n        vertical-align: middle;\n    }\n\n    .dataframe tbody tr th {\n        vertical-align: top;\n    }\n\n    .dataframe thead th {\n        text-align: right;\n    }\n</style>\n<table border=\"1\" class=\"dataframe\">\n  <thead>\n    <tr style=\"text-align: right;\">\n      <th></th>\n      <th>FID</th>\n      <th>Hospital</th>\n      <th>StreetAddress</th>\n      <th>City</th>\n      <th>ZIP_Code</th>\n      <th>X</th>\n      <th>Y</th>\n      <th>Total_Bed</th>\n      <th>AvailableBed</th>\n      <th>Bed_in_Use</th>\n      <th>Adult_ICU_Bed</th>\n      <th>Total_Vent</th>\n      <th>Available_Vent</th>\n      <th>Vent_in_Use</th>\n      <th>CovidConfirmedPatient</th>\n      <th>CovidPatient_in_ICU</th>\n      <th>CovidPatientVent</th>\n    </tr>\n  </thead>\n  <tbody>\n    <tr>\n      <th>0</th>\n      <td>46</td>\n      <td>Northwest Community Hospital</td>\n      <td>800 West Central Road</td>\n      <td>Arlington Heights</td>\n      <td>60005</td>\n      <td>-87.991039</td>\n      <td>42.066594</td>\n      <td>509</td>\n      <td>229</td>\n      <td>280</td>\n      <td>127</td>\n      <td>41</td>\n      <td>24</td>\n      <td>17</td>\n      <td>239</td>\n      <td>13</td>\n      <td>9</td>\n    </tr>\n    <tr>\n      <th>1</th>\n      <td>65</td>\n      <td>Alexian Brothers Medical Center</td>\n      <td>800 Biesterfield Rd</td>\n      <td>Elk Grove Village</td>\n      <td>60007</td>\n      <td>-88.016693</td>\n      <td>42.003433</td>\n      <td>401</td>\n      <td>180</td>\n      <td>221</td>\n      <td>100</td>\n      <td>33</td>\n      <td>19</td>\n      <td>13</td>\n      <td>188</td>\n      <td>11</td>\n      <td>7</td>\n    </tr>\n    <tr>\n      <th>2</th>\n      <td>95</td>\n      <td>Advocate Good Shepherd Hospital</td>\n      <td>450 West Highway #22</td>\n      <td>Barrington</td>\n      <td>60010</td>\n      <td>0.000000</td>\n      <td>0.000000</td>\n      <td>176</td>\n      <td>79</td>\n      <td>97</td>\n      <td>44</td>\n      <td>14</td>\n      <td>8</td>\n      <td>6</td>\n      <td>83</td>\n      <td>5</td>\n      <td>3</td>\n    </tr>\n    <tr>\n      <th>3</th>\n      <td>194</td>\n      <td>Chicago Behavioral Hospital</td>\n      <td>555 Wilson Lane</td>\n      <td>Des Plaines</td>\n      <td>60016</td>\n      <td>-87.879254</td>\n      <td>42.043888</td>\n      <td>138</td>\n      <td>62</td>\n      <td>76</td>\n      <td>35</td>\n      <td>11</td>\n      <td>7</td>\n      <td>5</td>\n      <td>65</td>\n      <td>4</td>\n      <td>3</td>\n    </tr>\n    <tr>\n      <th>4</th>\n      <td>203</td>\n      <td>Presence Holy Family Medical Center</td>\n      <td>100 North River Road</td>\n      <td>Des Plaines</td>\n      <td>60016</td>\n      <td>-87.869807</td>\n      <td>42.055750</td>\n      <td>178</td>\n      <td>80</td>\n      <td>98</td>\n      <td>45</td>\n      <td>14</td>\n      <td>9</td>\n      <td>6</td>\n      <td>84</td>\n      <td>5</td>\n      <td>3</td>\n    </tr>\n  </tbody>\n</table>\n</div>"
     },
     "metadata": {},
     "output_type": "execute_result",
     "execution_count": 47
    }
   ],
   "source": [
    "hospitals_df = pd.read_csv(r\"./illinois_hospitals.csv\")\n",
    "hospitals_df.columns = hospitals_df.columns.str.replace(' ', '_')\n",
    "hospitals_df.head(5)"
   ],
   "metadata": {
    "collapsed": false,
    "pycharm": {
     "name": "#%%\n",
     "is_executing": false
    }
   }
  },
  {
   "cell_type": "code",
   "execution_count": 48,
   "outputs": [],
   "source": [
    "hospitals_df = hospitals_df[hospitals_df['X'] != 0]"
   ],
   "metadata": {
    "collapsed": false,
    "pycharm": {
     "name": "#%%\n",
     "is_executing": false
    }
   }
  },
  {
   "cell_type": "code",
   "execution_count": 49,
   "outputs": [],
   "source": [
    "# X: Longitude; Y: Latitude\n",
    "hospitals_gdf = gpd.GeoDataFrame(hospitals_df, geometry=gpd.points_from_xy(hospitals_df.X, hospitals_df.Y))"
   ],
   "metadata": {
    "collapsed": false,
    "pycharm": {
     "name": "#%%\n",
     "is_executing": false
    }
   }
  },
  {
   "cell_type": "code",
   "execution_count": 50,
   "outputs": [
    {
     "name": "stdout",
     "text": [
      "done\n"
     ],
     "output_type": "stream"
    }
   ],
   "source": [
    "hospitals_gdf.to_file('illinois_hospitals.geojson', driver='GeoJSON', encoding='utf-8')\n",
    "print('done')"
   ],
   "metadata": {
    "collapsed": false,
    "pycharm": {
     "name": "#%%\n",
     "is_executing": false
    }
   }
  },
  {
   "cell_type": "code",
   "execution_count": 51,
   "outputs": [
    {
     "data": {
      "text/plain": "   ID  age  Sex   Latitude  Longitude Lab_Report_Date Test_Result      Race  \\\n0   1   41    1  41.706845 -87.657081  2020/3/24 0:00    Positive     White   \n1   2   75    1  41.935298 -87.639220  2020/3/24 0:00    Negative  Hispanic   \n2   3    5    2  41.985559 -87.692017  2020/3/24 0:00    Negative   Unknown   \n3   4   50    1        NaN        NaN  2020/3/24 0:00    Positive     White   \n4   5   65    2  42.077281 -88.161770  2020/3/18 0:00    Negative   Unknown   \n\n                    Ethnicity Deceased  \n0  Not Hispanic or not Latino      Yes  \n1          Hispanic or Latino      NaN  \n2                         NaN      NaN  \n3      Unknown Not Classified       No  \n4                         NaN      NaN  ",
      "text/html": "<div>\n<style scoped>\n    .dataframe tbody tr th:only-of-type {\n        vertical-align: middle;\n    }\n\n    .dataframe tbody tr th {\n        vertical-align: top;\n    }\n\n    .dataframe thead th {\n        text-align: right;\n    }\n</style>\n<table border=\"1\" class=\"dataframe\">\n  <thead>\n    <tr style=\"text-align: right;\">\n      <th></th>\n      <th>ID</th>\n      <th>age</th>\n      <th>Sex</th>\n      <th>Latitude</th>\n      <th>Longitude</th>\n      <th>Lab_Report_Date</th>\n      <th>Test_Result</th>\n      <th>Race</th>\n      <th>Ethnicity</th>\n      <th>Deceased</th>\n    </tr>\n  </thead>\n  <tbody>\n    <tr>\n      <th>0</th>\n      <td>1</td>\n      <td>41</td>\n      <td>1</td>\n      <td>41.706845</td>\n      <td>-87.657081</td>\n      <td>2020/3/24 0:00</td>\n      <td>Positive</td>\n      <td>White</td>\n      <td>Not Hispanic or not Latino</td>\n      <td>Yes</td>\n    </tr>\n    <tr>\n      <th>1</th>\n      <td>2</td>\n      <td>75</td>\n      <td>1</td>\n      <td>41.935298</td>\n      <td>-87.639220</td>\n      <td>2020/3/24 0:00</td>\n      <td>Negative</td>\n      <td>Hispanic</td>\n      <td>Hispanic or Latino</td>\n      <td>NaN</td>\n    </tr>\n    <tr>\n      <th>2</th>\n      <td>3</td>\n      <td>5</td>\n      <td>2</td>\n      <td>41.985559</td>\n      <td>-87.692017</td>\n      <td>2020/3/24 0:00</td>\n      <td>Negative</td>\n      <td>Unknown</td>\n      <td>NaN</td>\n      <td>NaN</td>\n    </tr>\n    <tr>\n      <th>3</th>\n      <td>4</td>\n      <td>50</td>\n      <td>1</td>\n      <td>NaN</td>\n      <td>NaN</td>\n      <td>2020/3/24 0:00</td>\n      <td>Positive</td>\n      <td>White</td>\n      <td>Unknown Not Classified</td>\n      <td>No</td>\n    </tr>\n    <tr>\n      <th>4</th>\n      <td>5</td>\n      <td>65</td>\n      <td>2</td>\n      <td>42.077281</td>\n      <td>-88.161770</td>\n      <td>2020/3/18 0:00</td>\n      <td>Negative</td>\n      <td>Unknown</td>\n      <td>NaN</td>\n      <td>NaN</td>\n    </tr>\n  </tbody>\n</table>\n</div>"
     },
     "metadata": {},
     "output_type": "execute_result",
     "execution_count": 51
    }
   ],
   "source": [
    "testings_df = pd.read_csv(\"illinois_testing.csv\")\n",
    "testings_df.columns = testings_df.columns.str.replace(' ','_')\n",
    "testings_df.head(5)"
   ],
   "metadata": {
    "collapsed": false,
    "pycharm": {
     "name": "#%%\n",
     "is_executing": false
    }
   }
  },
  {
   "cell_type": "code",
   "execution_count": 52,
   "outputs": [],
   "source": [
    "# Remove rows with 0 or nan coordinates\n",
    "testings_df = testings_df[~((testings_df['Latitude'] == 0) | (testings_df['Latitude'].isna()))]\n"
   ],
   "metadata": {
    "collapsed": false,
    "pycharm": {
     "name": "#%%\n",
     "is_executing": false
    }
   }
  },
  {
   "cell_type": "code",
   "execution_count": 53,
   "outputs": [],
   "source": [
    "# Deceased column nan value => Info Unavailable\n",
    "testings_df['Deceased'] = testings_df['Deceased'].fillna('Info Unavailable')"
   ],
   "metadata": {
    "collapsed": false,
    "pycharm": {
     "name": "#%%\n",
     "is_executing": false
    }
   }
  },
  {
   "cell_type": "code",
   "execution_count": 54,
   "outputs": [],
   "source": [
    "testings_gdf = gpd.GeoDataFrame(testings_df, geometry=gpd.points_from_xy(testings_df.Longitude, testings_df.Latitude))"
   ],
   "metadata": {
    "collapsed": false,
    "pycharm": {
     "name": "#%%\n",
     "is_executing": false
    }
   }
  },
  {
   "cell_type": "code",
   "execution_count": 55,
   "outputs": [
    {
     "name": "stdout",
     "text": [
      "done\n"
     ],
     "output_type": "stream"
    }
   ],
   "source": [
    "testings_gdf.to_file('illinois_testing.geojson', driver='GeoJSON', encoding='utf-8')\n",
    "print('done')"
   ],
   "metadata": {
    "collapsed": false,
    "pycharm": {
     "name": "#%%\n",
     "is_executing": false
    }
   }
  }
 ],
 "metadata": {
  "language_info": {
   "codemirror_mode": {
    "name": "ipython",
    "version": 2
   },
   "file_extension": ".py",
   "mimetype": "text/x-python",
   "name": "python",
   "nbconvert_exporter": "python",
   "pygments_lexer": "ipython2",
   "version": "2.7.6"
  },
  "kernelspec": {
   "name": "python3",
   "language": "python",
   "display_name": "Python 3"
  },
  "pycharm": {
   "stem_cell": {
    "cell_type": "raw",
    "source": [],
    "metadata": {
     "collapsed": false
    }
   }
  }
 },
 "nbformat": 4,
 "nbformat_minor": 0
}