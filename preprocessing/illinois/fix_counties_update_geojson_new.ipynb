{
 "cells": [
  {
   "cell_type": "code",
   "execution_count": null,
   "metadata": {
    "pycharm": {
     "is_executing": false
    }
   },
   "outputs": [],
   "source": [
    "import geopandas as gpd"
   ]
  },
  {
   "cell_type": "code",
   "execution_count": null,
   "metadata": {
    "pycharm": {
     "is_executing": false
    }
   },
   "outputs": [],
   "source": [
    "old_counties_geojson_df = gpd.read_file(\"counties_update.geojson\")\n",
    "old_counties_geojson_df.head(5)"
   ]
  },
  {
   "cell_type": "code",
   "execution_count": null,
   "metadata": {
    "pycharm": {
     "is_executing": false,
     "name": "#%%\n"
    }
   },
   "outputs": [],
   "source": [
    "old_counties_geojson_df.columns.values"
   ]
  },
  {
   "cell_type": "markdown",
   "metadata": {
    "pycharm": {
     "name": "#%% md\n"
    }
   },
   "source": [
    "Extract useful columns"
   ]
  },
  {
   "cell_type": "code",
   "execution_count": null,
   "metadata": {
    "pycharm": {
     "is_executing": false,
     "name": "#%%\n"
    }
   },
   "outputs": [],
   "source": [
    "counties_df = old_counties_geojson_df[['NAME','state_name','GEOID','population','geometry']]\n",
    "counties_df.head(5)"
   ]
  },
  {
   "cell_type": "markdown",
   "metadata": {
    "pycharm": {
     "is_executing": false,
     "name": "#%% md\n"
    }
   },
   "source": [
    "Check if New York City and Kansas City Exists"
   ]
  },
  {
   "cell_type": "code",
   "execution_count": null,
   "metadata": {
    "pycharm": {
     "name": "#%% \n"
    }
   },
   "outputs": [],
   "source": [
    "counties_df[counties_df['NAME'] == 'New York City']"
   ]
  },
  {
   "cell_type": "code",
   "execution_count": null,
   "metadata": {
    "pycharm": {
     "name": "#%%\n"
    }
   },
   "outputs": [],
   "source": [
    "counties_df[counties_df['NAME'] == 'Kansas City']"
   ]
  },
  {
   "cell_type": "markdown",
   "metadata": {
    "pycharm": {
     "name": "#%% md\n"
    }
   },
   "source": [
    "Add Kansas City from external GeoJSON file"
   ]
  },
  {
   "cell_type": "code",
   "execution_count": null,
   "metadata": {
    "pycharm": {
     "is_executing": false,
     "name": "#%%\n"
    }
   },
   "outputs": [],
   "source": [
    "kansas_city_geojson_df = gpd.read_file('kansas_city.geojson')\n",
    "kansas_city_geojson_df.head(5)"
   ]
  },
  {
   "cell_type": "code",
   "execution_count": null,
   "metadata": {
    "pycharm": {
     "is_executing": false,
     "name": "#%%\n"
    }
   },
   "outputs": [],
   "source": [
    "#Population Data get from WIKI: https://en.wikipedia.org/wiki/Kansas_City,_Missouri\n",
    "#According to the U.S. Census Bureau, the city had an estimated population of 491,918 in 2018\n",
    "kansas_geometry = kansas_city_geojson_df.geometry.unary_union\n",
    "counties_df = counties_df.append(\n",
    "    {\n",
    "        'NAME':'Kansas City',\n",
    "        'state_name':'Missouri',\n",
    "        'GEOID':'00000',\n",
    "        'population':491918,\n",
    "        'geometry':kansas_geometry\n",
    "    },ignore_index=True)"
   ]
  },
  {
   "cell_type": "code",
   "execution_count": null,
   "metadata": {
    "pycharm": {
     "is_executing": false,
     "name": "#%%\n"
    }
   },
   "outputs": [],
   "source": [
    "counties_df[counties_df['NAME'] == 'Kansas City']"
   ]
  },
  {
   "cell_type": "markdown",
   "metadata": {
    "pycharm": {
     "name": "#%% md\n"
    }
   },
   "source": [
    "Add New York City by merging 5 counties"
   ]
  },
  {
   "cell_type": "code",
   "execution_count": null,
   "metadata": {
    "pycharm": {
     "is_executing": false,
     "name": "#%%\n"
    }
   },
   "outputs": [],
   "source": [
    "new_york_city_df = counties_df[((counties_df['NAME'] == 'New York') \n",
    "            | (counties_df['NAME'] == 'Kings') \n",
    "            | (counties_df['NAME'] == 'Queens') \n",
    "            | (counties_df['NAME'] == 'Bronx')\n",
    "            | (counties_df['NAME'] == 'Richmond'))\n",
    "            & (counties_df['state_name'] == 'New York')]"
   ]
  },
  {
   "cell_type": "code",
   "execution_count": null,
   "metadata": {
    "pycharm": {
     "is_executing": false,
     "name": "#%%\n"
    }
   },
   "outputs": [],
   "source": [
    "nyc_geometry = new_york_city_df.geometry.unary_union"
   ]
  },
  {
   "cell_type": "code",
   "execution_count": null,
   "metadata": {
    "pycharm": {
     "is_executing": false,
     "name": "#%%\n"
    }
   },
   "outputs": [],
   "source": [
    "counties_df = counties_df.append(\n",
    "    {\n",
    "        'NAME':'New York City',\n",
    "        'state_name':'New York',\n",
    "        'GEOID':'00000',\n",
    "        'population':new_york_city_df['population'].sum(),\n",
    "        'geometry':nyc_geometry,\n",
    "    },ignore_index=True)"
   ]
  },
  {
   "cell_type": "code",
   "execution_count": null,
   "metadata": {
    "pycharm": {
     "is_executing": false,
     "name": "#%%\n"
    }
   },
   "outputs": [],
   "source": [
    "counties_df[counties_df['NAME'] == 'New York City']"
   ]
  },
  {
   "cell_type": "code",
   "execution_count": null,
   "metadata": {
    "pycharm": {
     "is_executing": false,
     "name": "#%%\n"
    }
   },
   "outputs": [],
   "source": [
    "counties_df.to_file(\"counties_update_new.geojson\", driver='GeoJSON', encoding='utf-8')\n",
    "print(\"done\")"
   ]
  },
  {
   "cell_type": "code",
   "execution_count": null,
   "metadata": {
    "pycharm": {
     "name": "#%%\n"
    }
   },
   "outputs": [],
   "source": [
    "_f# def get_shaply_geometry(county, state=\"New York\"):\n",
    "#     county_df = old_counties_geojson_df.loc[old_counties_geojson_df[\"NAME\"]==county].loc[old_counties_geojson_df[\"state_name\"]==state]\n",
    "#     index = county_df.index[0]\n",
    "#     geom = county_df['geometry'].values[0]\n",
    "#     return geom, index\n",
    "\n",
    "def get_shaply_geometry(county_state_pair_list):\n",
    "    geom_list=[]\n",
    "    index_list=[]\n",
    "    for county_state_pair in county_state_pair_list:\n",
    "        county = county_state_pair[0]\n",
    "        state = county_state_pair[1]\n",
    "        \n",
    "        county_df = old_counties_geojson_df.loc[old_counties_geojson_df[\"NAME\"]==county].loc[old_counties_geojson_df[\"state_name\"]==state]\n",
    "        index = county_df.index[0]\n",
    "        index_list.append(index)\n",
    "        geom = county_df['geometry'].values[0]\n",
    "        geom_list.append(geom)\n",
    "        print(county_state_pair)\n",
    "        display(geom)\n",
    "    return geom_list, index_list"
   ]
  },
  {
   "cell_type": "code",
   "execution_count": null,
   "metadata": {
    "pycharm": {
     "name": "#%%\n"
    }
   },
   "outputs": [],
   "source": [
    "nyc_boroughs_list = [(\"New York\",\"New York\"), (\"Kings\",\"New York\"), (\"Queens\",\"New York\"), (\"Bronx\",\"New York\"), (\"Richmond\",\"New York\")]\n",
    "\n",
    "borough_geom_list, borough_index_list = get_shaply_geometry(nyc_list)\n",
    "\n",
    "\n",
    "\n"
   ]
  },
  {
   "cell_type": "code",
   "execution_count": null,
   "metadata": {
    "pycharm": {
     "name": "#%%\n"
    }
   },
   "outputs": [],
   "source": [
    "import shapely"
   ]
  },
  {
   "cell_type": "code",
   "execution_count": null,
   "metadata": {
    "pycharm": {
     "name": "#%%\n"
    }
   },
   "outputs": [],
   "source": [
    "nyc_AllInOne_geom=shapely.ops.cascaded_union(borough_geom_list)"
   ]
  },
  {
   "cell_type": "code",
   "execution_count": null,
   "metadata": {
    "pycharm": {
     "name": "#%%\n"
    }
   },
   "outputs": [],
   "source": [
    "#df.loc[df.shape[0]]\n",
    "old_counties_geojson_subset_df=old_counties_geojson_df[[\"NAME\", \"state_name\", \"STATEFP\", \"COUNTYNS\", \"geometry\", \"population\"]]"
   ]
  },
  {
   "cell_type": "code",
   "execution_count": null,
   "metadata": {
    "pycharm": {
     "name": "#%%\n"
    }
   },
   "outputs": [],
   "source": [
    "#new_counties_df = old_counties_geojson_subset_df.loc[old_counties_geojson_subset_df.shape[0]]=[\"New York City\", \"Unknown\", nyc, 1]"
   ]
  },
  {
   "cell_type": "code",
   "execution_count": null,
   "metadata": {
    "pycharm": {
     "name": "#%%\n"
    }
   },
   "outputs": [],
   "source": []
  },
  {
   "cell_type": "code",
   "execution_count": null,
   "metadata": {
    "pycharm": {
     "name": "#%%\n"
    }
   },
   "outputs": [],
   "source": [
    "gdf2 = gpd.geodataframe.GeoDataFrame([[\"New York City\", \"New York\",None,None,nyc_AllInOne_geom, 1]], columns=[\"NAME\", \"state_name\", \"STATEFP\", \"COUNTYNS\", \"geometry\", \"population\"])\n"
   ]
  },
  {
   "cell_type": "code",
   "execution_count": null,
   "metadata": {
    "pycharm": {
     "name": "#%%\n"
    }
   },
   "outputs": [],
   "source": [
    "a=old_counties_geojson_subset_df.append(gdf2, ignore_index=True)"
   ]
  },
  {
   "cell_type": "code",
   "execution_count": null,
   "metadata": {
    "pycharm": {
     "name": "#%%\n"
    }
   },
   "outputs": [],
   "source": [
    "a=a.drop(borough_index_list)"
   ]
  },
  {
   "cell_type": "code",
   "execution_count": null,
   "metadata": {
    "pycharm": {
     "name": "#%%\n"
    }
   },
   "outputs": [],
   "source": [
    "a.to_file(\"counties_update_new.geojson\", driver='GeoJSON')\n",
    "print(\"done\")"
   ]
  },
  {
   "cell_type": "code",
   "execution_count": null,
   "metadata": {},
   "outputs": [],
   "source": []
  }
 ],
 "metadata": {
  "kernelspec": {
   "display_name": "Python 3",
   "language": "python",
   "name": "python3"
  },
  "language_info": {
   "codemirror_mode": {
    "name": "ipython",
    "version": 3
   },
   "file_extension": ".py",
   "mimetype": "text/x-python",
   "name": "python",
   "nbconvert_exporter": "python",
   "pygments_lexer": "ipython3",
   "version": "3.8.2"
  },
  "pycharm": {
   "stem_cell": {
    "cell_type": "raw",
    "metadata": {
     "collapsed": false
    },
    "source": []
   }
  }
 },
 "nbformat": 4,
 "nbformat_minor": 4
}
