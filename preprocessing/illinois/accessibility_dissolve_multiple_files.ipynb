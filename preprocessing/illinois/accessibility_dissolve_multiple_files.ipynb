{
 "cells": [
  {
   "cell_type": "code",
   "execution_count": 11,
   "metadata": {},
   "outputs": [],
   "source": [
    "import os\n",
    "import numpy as np\n",
    "import geopandas as gpd\n",
    "import matplotlib.pyplot as plt\n",
    "import matplotlib.lines as mlines\n",
    "from matplotlib.colors import ListedColormap"
   ]
  },
  {
   "cell_type": "code",
   "execution_count": 12,
   "metadata": {},
   "outputs": [
    {
     "name": "stdout",
     "output_type": "stream",
     "text": [
      "done\n"
     ]
    }
   ],
   "source": [
    "fileList = [\"Chicago_Acc_2020-05-19\", \"Chicago_ACC_2020-05-20\", \"Chicago_ACC_2020-05-21\",\n",
    "           \"Illinois_Acc_2020-05-19\", \"Illinois_ACC_2020-05-20\", \"Illinois_ACC_2020-05-21\"]\n",
    "\n",
    "def classify(a):\n",
    "    if a >= 0 and a <= 0.2:\n",
    "        return 0\n",
    "    elif a > 0.2 and a <= 0.4:\n",
    "        return 1\n",
    "    elif a > 0.4 and a <= 0.6:\n",
    "        return 2\n",
    "    elif a > 0.6 and a <= 0.8:\n",
    "        return 3\n",
    "    else:\n",
    "        return 4\n",
    "\n",
    "for i in range(0, len(fileList)):\n",
    "    chicagoACC = gpd.read_file(\"Chicago_Accessibility_Dissolve_Animation/\"+fileList[i]+\".shp\")\n",
    "    chicagoACC = chicagoACC.rename(columns={\"normal_cov\": \"normal_val\"})\n",
    "    chicagoACC['category'] = chicagoACC.apply(lambda x: classify(x.normal_val), axis = 1)\n",
    "    chicagoACC_dissolve = chicagoACC.dissolve(by='category', aggfunc = 'mean')\n",
    "    # chicagoACC_dissolve = chicagoACC_dissolve.drop(columns=['id'])\n",
    "    chicagoACC_dissolve[\"category\"] = range(0, len(chicagoACC_dissolve))\n",
    "    chicagoACC_dissolve = chicagoACC_dissolve.to_crs({'init': 'epsg:4326'})\n",
    "    chicagoACC_dissolve.to_file(fileList[i]+\"_dissolve.geojson\", driver=\"GeoJSON\")\n",
    "\n",
    "print(\"done\")"
   ]
  },
  {
   "cell_type": "code",
   "execution_count": 13,
   "metadata": {},
   "outputs": [
    {
     "data": {
      "text/html": [
       "<div>\n",
       "<style scoped>\n",
       "    .dataframe tbody tr th:only-of-type {\n",
       "        vertical-align: middle;\n",
       "    }\n",
       "\n",
       "    .dataframe tbody tr th {\n",
       "        vertical-align: top;\n",
       "    }\n",
       "\n",
       "    .dataframe thead th {\n",
       "        text-align: right;\n",
       "    }\n",
       "</style>\n",
       "<table border=\"1\" class=\"dataframe\">\n",
       "  <thead>\n",
       "    <tr style=\"text-align: right;\">\n",
       "      <th></th>\n",
       "      <th>geometry</th>\n",
       "      <th>id</th>\n",
       "      <th>normal_val</th>\n",
       "      <th>category</th>\n",
       "    </tr>\n",
       "    <tr>\n",
       "      <th>category</th>\n",
       "      <th></th>\n",
       "      <th></th>\n",
       "      <th></th>\n",
       "      <th></th>\n",
       "    </tr>\n",
       "  </thead>\n",
       "  <tbody>\n",
       "    <tr>\n",
       "      <th>0</th>\n",
       "      <td>POLYGON ((-89.87837 37.87735, -89.89388 37.854...</td>\n",
       "      <td>6172.138379</td>\n",
       "      <td>0.013964</td>\n",
       "      <td>0</td>\n",
       "    </tr>\n",
       "    <tr>\n",
       "      <th>1</th>\n",
       "      <td>MULTIPOLYGON (((-88.87226 38.95647, -88.88831 ...</td>\n",
       "      <td>4962.344262</td>\n",
       "      <td>0.228761</td>\n",
       "      <td>1</td>\n",
       "    </tr>\n",
       "    <tr>\n",
       "      <th>2</th>\n",
       "      <td>POLYGON ((-88.32566 39.12165, -88.34192 39.098...</td>\n",
       "      <td>7699.268293</td>\n",
       "      <td>0.524235</td>\n",
       "      <td>2</td>\n",
       "    </tr>\n",
       "    <tr>\n",
       "      <th>3</th>\n",
       "      <td>MULTIPOLYGON (((-88.69178 39.07186, -88.67564 ...</td>\n",
       "      <td>4379.277778</td>\n",
       "      <td>0.705049</td>\n",
       "      <td>3</td>\n",
       "    </tr>\n",
       "    <tr>\n",
       "      <th>4</th>\n",
       "      <td>POLYGON ((-90.35337 39.28362, -90.33560 39.261...</td>\n",
       "      <td>3113.833333</td>\n",
       "      <td>0.998657</td>\n",
       "      <td>4</td>\n",
       "    </tr>\n",
       "  </tbody>\n",
       "</table>\n",
       "</div>"
      ],
      "text/plain": [
       "                                                   geometry           id  \\\n",
       "category                                                                   \n",
       "0         POLYGON ((-89.87837 37.87735, -89.89388 37.854...  6172.138379   \n",
       "1         MULTIPOLYGON (((-88.87226 38.95647, -88.88831 ...  4962.344262   \n",
       "2         POLYGON ((-88.32566 39.12165, -88.34192 39.098...  7699.268293   \n",
       "3         MULTIPOLYGON (((-88.69178 39.07186, -88.67564 ...  4379.277778   \n",
       "4         POLYGON ((-90.35337 39.28362, -90.33560 39.261...  3113.833333   \n",
       "\n",
       "          normal_val  category  \n",
       "category                        \n",
       "0           0.013964         0  \n",
       "1           0.228761         1  \n",
       "2           0.524235         2  \n",
       "3           0.705049         3  \n",
       "4           0.998657         4  "
      ]
     },
     "execution_count": 13,
     "metadata": {},
     "output_type": "execute_result"
    }
   ],
   "source": [
    "chicagoACC_dissolve"
   ]
  },
  {
   "cell_type": "code",
   "execution_count": 14,
   "metadata": {},
   "outputs": [],
   "source": [
    "# fig, ax = plt.subplots(figsize = (12,8))\n",
    "# chicagoACC_dissolve.plot(column = 'category', edgecolor = \"black\", cmap='YlOrRd', ax=ax, legend = True)"
   ]
  }
 ],
 "metadata": {
  "kernelspec": {
   "display_name": "Python 3",
   "language": "python",
   "name": "python3"
  },
  "language_info": {
   "codemirror_mode": {
    "name": "ipython",
    "version": 3
   },
   "file_extension": ".py",
   "mimetype": "text/x-python",
   "name": "python",
   "nbconvert_exporter": "python",
   "pygments_lexer": "ipython3",
   "version": "3.7.7"
  }
 },
 "nbformat": 4,
 "nbformat_minor": 4
}
