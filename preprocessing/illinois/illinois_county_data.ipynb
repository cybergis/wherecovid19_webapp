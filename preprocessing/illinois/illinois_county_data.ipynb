{
 "cells": [
  {
   "cell_type": "code",
   "execution_count": null,
   "metadata": {},
   "outputs": [],
   "source": [
    "import geopandas as gpd\n",
    "import pandas as pd\n",
    "import numpy as np"
   ]
  },
  {
   "cell_type": "code",
   "execution_count": null,
   "metadata": {
    "scrolled": true
   },
   "outputs": [],
   "source": [
    "#forecast_df = pd.read_csv(\"./illinois_forecast_county.csv\")\n",
    "forecast_df = pd.read_csv(\"./fake_illinois_county.csv\")\n",
    "forecast_df"
   ]
  },
  {
   "cell_type": "code",
   "execution_count": null,
   "metadata": {
    "scrolled": false
   },
   "outputs": [],
   "source": [
    "len(forecast_df[\"FIPS\"].unique())"
   ]
  },
  {
   "cell_type": "code",
   "execution_count": null,
   "metadata": {},
   "outputs": [],
   "source": [
    "forecast_df['cases_ts']= forecast_df[[\"4/3/20\", \"4/10/20\", \"4/17/20\"]].values.tolist()\n",
    "forecast_df['cases_ts']=forecast_df['cases_ts'].apply(lambda x: \",\".join(map(str, x)))\n",
    "forecast_df['deaths_ts']=forecast_df['cases_ts']\n",
    "forecast_df['dt_start']=\"2020-04-03\"\n",
    "forecast_df['dt_end']=\"2020-04-17\"\n",
    "forecast_df['dt_unit']=\"week\"\n",
    "forecast_df"
   ]
  },
  {
   "cell_type": "code",
   "execution_count": null,
   "metadata": {},
   "outputs": [],
   "source": [
    "forecast_df[\"CountyName\"] = forecast_df.CountyName.apply(lambda x: x.replace(\" IL\",\"\"))\n",
    "forecast_df"
   ]
  },
  {
   "cell_type": "code",
   "execution_count": null,
   "metadata": {
    "scrolled": true
   },
   "outputs": [],
   "source": [
    "geojson_gdf = gpd.read_file(\"./counties_update_new_new.geojson\")\n",
    "geojson_gdf"
   ]
  },
  {
   "cell_type": "code",
   "execution_count": null,
   "metadata": {
    "scrolled": true
   },
   "outputs": [],
   "source": [
    "geojson_il=geojson_gdf[geojson_gdf[\"state_name\"]==\"Illinois\"]\n",
    "geojson_il"
   ]
  },
  {
   "cell_type": "code",
   "execution_count": null,
   "metadata": {},
   "outputs": [],
   "source": [
    "len(geojson_il)"
   ]
  },
  {
   "cell_type": "code",
   "execution_count": null,
   "metadata": {},
   "outputs": [],
   "source": [
    "final_df = pd.merge(geojson_il, forecast_df,  how='left', left_on=['NAME'], right_on = ['CountyName'])\n",
    "output_df = final_df[[\"NAME\", \"COUNTYNS\", \"FIPS\", \n",
    "          \"County_Population\", \"Number_Booths\", \"County_Forecast_Week_Ahead_Total\",\n",
    "                      \"cases_ts\", \"deaths_ts\", \"dt_start\", \"dt_end\", \"dt_unit\",\n",
    "         \"geometry\"]]\n",
    "output_df=output_df.rename(columns={\"County_Forecast_Week_Ahead_Total\": \"CountyForecast\", \"County_Population\": \"population\"})"
   ]
  },
  {
   "cell_type": "code",
   "execution_count": null,
   "metadata": {},
   "outputs": [],
   "source": [
    "output_df.sort_values(\"CountyForecast\")"
   ]
  },
  {
   "cell_type": "code",
   "execution_count": null,
   "metadata": {},
   "outputs": [],
   "source": [
    "output_df.to_file(\"illinois_forecast_county.geojson\", driver='GeoJSON')"
   ]
  },
  {
   "cell_type": "code",
   "execution_count": null,
   "metadata": {
    "scrolled": true
   },
   "outputs": [],
   "source": [
    "output_df['CountyForecast'].max()"
   ]
  },
  {
   "cell_type": "code",
   "execution_count": null,
   "metadata": {},
   "outputs": [],
   "source": [
    "output_df['CountyForecast'].min()"
   ]
  },
  {
   "cell_type": "code",
   "execution_count": null,
   "metadata": {},
   "outputs": [],
   "source": []
  }
 ],
 "metadata": {
  "kernelspec": {
   "display_name": "Python 3",
   "language": "python",
   "name": "python3"
  },
  "language_info": {
   "codemirror_mode": {
    "name": "ipython",
    "version": 3
   },
   "file_extension": ".py",
   "mimetype": "text/x-python",
   "name": "python",
   "nbconvert_exporter": "python",
   "pygments_lexer": "ipython3",
   "version": "3.8.2"
  }
 },
 "nbformat": 4,
 "nbformat_minor": 4
}
