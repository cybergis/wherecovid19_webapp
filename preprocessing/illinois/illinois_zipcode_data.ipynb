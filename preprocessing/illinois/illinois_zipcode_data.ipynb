{
 "cells": [
  {
   "cell_type": "code",
   "execution_count": null,
   "metadata": {
    "pycharm": {
     "is_executing": false
    }
   },
   "outputs": [],
   "source": [
    "import geopandas as gpd\n",
    "import pandas as pd"
   ]
  },
  {
   "cell_type": "code",
   "execution_count": null,
   "metadata": {
    "pycharm": {
     "is_executing": false
    }
   },
   "outputs": [],
   "source": [
    "#forecast_df = pd.read_csv(\"./illinois_forecast_zipcode.csv\")\n",
    "forecast_df = pd.read_csv(\"./fake_illinois_zipcode.csv\")\n",
    "len(forecast_df[\"ZipCode\"].unique())\n",
    "forecast_df"
   ]
  },
  {
   "cell_type": "code",
   "execution_count": null,
   "metadata": {
    "pycharm": {
     "is_executing": false,
     "name": "#%%\n"
    }
   },
   "outputs": [],
   "source": [
    "forecast_df['cases_ts']= forecast_df[[\"4/3/20\", \"4/10/20\", \"4/17/20\"]].values.tolist()\n",
    "forecast_df['cases_ts']=forecast_df['cases_ts'].apply(lambda x: \",\".join(map(str, x)))\n",
    "forecast_df['deaths_ts']=forecast_df['cases_ts']\n",
    "forecast_df['dt_start']=\"2020-04-03\"\n",
    "forecast_df['dt_end']=\"2020-04-17\"\n",
    "forecast_df['dt_unit']=\"week\"\n",
    "forecast_df"
   ]
  },
  {
   "cell_type": "code",
   "execution_count": null,
   "metadata": {
    "pycharm": {
     "is_executing": false
    }
   },
   "outputs": [],
   "source": [
    "forecast_df.ZipCode=forecast_df.ZipCode.astype(str)"
   ]
  },
  {
   "cell_type": "code",
   "execution_count": null,
   "metadata": {
    "pycharm": {
     "is_executing": false
    }
   },
   "outputs": [],
   "source": [
    "geojson_gdf = gpd.read_file(\"./illinois_zipcode_simp.geojson\")\n",
    "geojson_gdf.ZCTA5CE10=geojson_gdf.ZCTA5CE10.astype(str)\n",
    "geojson_gdf"
   ]
  },
  {
   "cell_type": "code",
   "execution_count": null,
   "metadata": {
    "pycharm": {
     "is_executing": false
    }
   },
   "outputs": [],
   "source": [
    "final_df = pd.merge(geojson_gdf, forecast_df,  how='left', left_on=['ZCTA5CE10'], right_on = ['ZipCode'])\n",
    "final_df\n"
   ]
  },
  {
   "cell_type": "code",
   "execution_count": null,
   "metadata": {},
   "outputs": [],
   "source": [
    "output_df = final_df[[\"ZCTA5CE10\", \"Main_City\", \"FIPS\", \n",
    "          \"ZipPopulation\", \"ZipCode_Forecast_Week_Ahead_Total\", \"County_Forecast_Week_Ahead_Total\", \n",
    "                      \"cases_ts\", \"deaths_ts\", \"dt_start\", \"dt_end\", \"dt_unit\",\n",
    "         \"geometry\"]]\n",
    "output_df=output_df.rename(columns={\"ZCTA5CE10\": \"ZipCode\", \n",
    "                                    \"Main_City\": \"MainCity\",\n",
    "                                    \"ZipPopulation\": \"population\",\n",
    "                                    \"ZipCode_Forecast_Week_Ahead_Total\": \"ZipCodeForecast\",\n",
    "                                    \"County_Forecast_Week_Ahead_Total\": \"CountyForecast\"})\n",
    "output_df"
   ]
  },
  {
   "cell_type": "code",
   "execution_count": null,
   "metadata": {
    "pycharm": {
     "is_executing": false
    }
   },
   "outputs": [],
   "source": [
    "output_df.to_file(\"illinois_forecast_zipcode.geojson\", driver='GeoJSON')"
   ]
  },
  {
   "cell_type": "code",
   "execution_count": null,
   "metadata": {
    "pycharm": {
     "is_executing": false
    }
   },
   "outputs": [],
   "source": [
    "output_df['ZipCodeForecast'].max()"
   ]
  },
  {
   "cell_type": "code",
   "execution_count": null,
   "metadata": {
    "pycharm": {
     "is_executing": false
    }
   },
   "outputs": [],
   "source": []
  },
  {
   "cell_type": "code",
   "execution_count": null,
   "metadata": {},
   "outputs": [],
   "source": []
  }
 ],
 "metadata": {
  "kernelspec": {
   "display_name": "Python 3",
   "language": "python",
   "name": "python3"
  },
  "language_info": {
   "codemirror_mode": {
    "name": "ipython",
    "version": 3
   },
   "file_extension": ".py",
   "mimetype": "text/x-python",
   "name": "python",
   "nbconvert_exporter": "python",
   "pygments_lexer": "ipython3",
   "version": "3.8.2"
  },
  "pycharm": {
   "stem_cell": {
    "cell_type": "raw",
    "metadata": {
     "collapsed": false
    },
    "source": []
   }
  }
 },
 "nbformat": 4,
 "nbformat_minor": 4
}
