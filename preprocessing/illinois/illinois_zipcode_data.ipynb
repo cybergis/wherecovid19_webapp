{
 "cells": [
  {
   "cell_type": "code",
   "execution_count": null,
   "metadata": {},
   "outputs": [],
   "source": [
    "import geopandas as gpd\n",
    "import pandas as pd"
   ]
  },
  {
   "cell_type": "code",
   "execution_count": null,
   "metadata": {},
   "outputs": [],
   "source": [
    "forecast_df = pd.read_csv(\"./illinois_forecast_zipcode.csv\")\n",
    "len(forecast_df[\"ZipCode\"].unique())\n",
    "forecast_df\n"
   ]
  },
  {
   "cell_type": "code",
   "execution_count": null,
   "metadata": {},
   "outputs": [],
   "source": [
    "forecast_df.ZipCode=forecast_df.ZipCode.astype(str)"
   ]
  },
  {
   "cell_type": "code",
   "execution_count": null,
   "metadata": {},
   "outputs": [],
   "source": [
    "geojson_gdf = gpd.read_file(\"./illinois_zipcode_simp.geojson\")\n",
    "geojson_gdf.ZCTA5CE10=geojson_gdf.ZCTA5CE10.astype(str)\n",
    "geojson_gdf"
   ]
  },
  {
   "cell_type": "code",
   "execution_count": null,
   "metadata": {},
   "outputs": [],
   "source": [
    "final_df = pd.merge(geojson_gdf, forecast_df,  how='left', left_on=['ZCTA5CE10'], right_on = ['ZipCode'])\n",
    "output_df = final_df[[\"ZCTA5CE10\", \"Main_City\", \"FIPS\", \n",
    "          \"ZipPopulation\", \"ZipCode_Forecast_Week_Ahead_Total\", \"County_Forecast_Week_Ahead_Total\",\n",
    "         \"geometry\"]]\n",
    "output_df=output_df.rename(columns={\"ZCTA5CE10\": \"ZipCode\", \n",
    "                                    \"Main_City\": \"MainCity\",\n",
    "                                    \"ZipCode_Forecast_Week_Ahead_Total\": \"ZipCodeForecast\",\n",
    "                                    \"County_Forecast_Week_Ahead_Total\": \"CountyForecast\"})"
   ]
  },
  {
   "cell_type": "code",
   "execution_count": null,
   "metadata": {},
   "outputs": [],
   "source": [
    "output_df.to_file(\"illinois_forecast_zipcode.geojson\", driver='GeoJSON')"
   ]
  },
  {
   "cell_type": "code",
   "execution_count": null,
   "metadata": {},
   "outputs": [],
   "source": [
    "output_df['ZipCodeForecast'].max()"
   ]
  },
  {
   "cell_type": "code",
   "execution_count": null,
   "metadata": {},
   "outputs": [],
   "source": []
  }
 ],
 "metadata": {
  "kernelspec": {
   "display_name": "Python 3",
   "language": "python",
   "name": "python3"
  },
  "language_info": {
   "codemirror_mode": {
    "name": "ipython",
    "version": 3
   },
   "file_extension": ".py",
   "mimetype": "text/x-python",
   "name": "python",
   "nbconvert_exporter": "python",
   "pygments_lexer": "ipython3",
   "version": "3.7.6"
  }
 },
 "nbformat": 4,
 "nbformat_minor": 4
}
