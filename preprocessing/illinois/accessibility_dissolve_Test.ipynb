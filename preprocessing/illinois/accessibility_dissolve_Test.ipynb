{
 "cells": [
  {
   "cell_type": "code",
   "execution_count": 24,
   "metadata": {},
   "outputs": [],
   "source": [
    "import os\n",
    "import numpy as np\n",
    "import geopandas as gpd\n",
    "import matplotlib.pyplot as plt\n",
    "import matplotlib.lines as mlines\n",
    "from matplotlib.colors import ListedColormap"
   ]
  },
  {
   "cell_type": "code",
   "execution_count": 10,
   "metadata": {},
   "outputs": [],
   "source": [
    "chicagoACC = gpd.read_file(\"Chicago_Accessibility/Chicago_ACC.shp\")"
   ]
  },
  {
   "cell_type": "code",
   "execution_count": 11,
   "metadata": {},
   "outputs": [
    {
     "data": {
      "text/html": [
       "<div>\n",
       "<style scoped>\n",
       "    .dataframe tbody tr th:only-of-type {\n",
       "        vertical-align: middle;\n",
       "    }\n",
       "\n",
       "    .dataframe tbody tr th {\n",
       "        vertical-align: top;\n",
       "    }\n",
       "\n",
       "    .dataframe thead th {\n",
       "        text-align: right;\n",
       "    }\n",
       "</style>\n",
       "<table border=\"1\" class=\"dataframe\">\n",
       "  <thead>\n",
       "    <tr style=\"text-align: right;\">\n",
       "      <th></th>\n",
       "      <th>id</th>\n",
       "      <th>normal_val</th>\n",
       "      <th>geometry</th>\n",
       "    </tr>\n",
       "  </thead>\n",
       "  <tbody>\n",
       "    <tr>\n",
       "      <th>0</th>\n",
       "      <td>4158</td>\n",
       "      <td>0.929751</td>\n",
       "      <td>POLYGON ((-87.71312 41.89411, -87.71140 41.896...</td>\n",
       "    </tr>\n",
       "    <tr>\n",
       "      <th>1</th>\n",
       "      <td>4159</td>\n",
       "      <td>0.939799</td>\n",
       "      <td>POLYGON ((-87.71307 41.88961, -87.71135 41.891...</td>\n",
       "    </tr>\n",
       "    <tr>\n",
       "      <th>2</th>\n",
       "      <td>4156</td>\n",
       "      <td>0.940660</td>\n",
       "      <td>POLYGON ((-87.71322 41.90312, -87.71150 41.905...</td>\n",
       "    </tr>\n",
       "    <tr>\n",
       "      <th>3</th>\n",
       "      <td>4157</td>\n",
       "      <td>0.944135</td>\n",
       "      <td>POLYGON ((-87.71317 41.89861, -87.71145 41.900...</td>\n",
       "    </tr>\n",
       "    <tr>\n",
       "      <th>4</th>\n",
       "      <td>4154</td>\n",
       "      <td>0.940660</td>\n",
       "      <td>POLYGON ((-87.71332 41.91212, -87.71160 41.914...</td>\n",
       "    </tr>\n",
       "    <tr>\n",
       "      <th>...</th>\n",
       "      <td>...</td>\n",
       "      <td>...</td>\n",
       "      <td>...</td>\n",
       "    </tr>\n",
       "    <tr>\n",
       "      <th>3274</th>\n",
       "      <td>4149</td>\n",
       "      <td>0.939901</td>\n",
       "      <td>POLYGON ((-87.71357 41.93464, -87.71185 41.936...</td>\n",
       "    </tr>\n",
       "    <tr>\n",
       "      <th>3275</th>\n",
       "      <td>4146</td>\n",
       "      <td>0.932963</td>\n",
       "      <td>POLYGON ((-87.71372 41.94815, -87.71200 41.950...</td>\n",
       "    </tr>\n",
       "    <tr>\n",
       "      <th>3276</th>\n",
       "      <td>4147</td>\n",
       "      <td>0.930890</td>\n",
       "      <td>POLYGON ((-87.71367 41.94364, -87.71195 41.945...</td>\n",
       "    </tr>\n",
       "    <tr>\n",
       "      <th>3277</th>\n",
       "      <td>4144</td>\n",
       "      <td>0.884283</td>\n",
       "      <td>POLYGON ((-87.71382 41.95715, -87.71210 41.959...</td>\n",
       "    </tr>\n",
       "    <tr>\n",
       "      <th>3278</th>\n",
       "      <td>4145</td>\n",
       "      <td>0.900155</td>\n",
       "      <td>POLYGON ((-87.71377 41.95265, -87.71205 41.954...</td>\n",
       "    </tr>\n",
       "  </tbody>\n",
       "</table>\n",
       "<p>3279 rows × 3 columns</p>\n",
       "</div>"
      ],
      "text/plain": [
       "        id  normal_val                                           geometry\n",
       "0     4158    0.929751  POLYGON ((-87.71312 41.89411, -87.71140 41.896...\n",
       "1     4159    0.939799  POLYGON ((-87.71307 41.88961, -87.71135 41.891...\n",
       "2     4156    0.940660  POLYGON ((-87.71322 41.90312, -87.71150 41.905...\n",
       "3     4157    0.944135  POLYGON ((-87.71317 41.89861, -87.71145 41.900...\n",
       "4     4154    0.940660  POLYGON ((-87.71332 41.91212, -87.71160 41.914...\n",
       "...    ...         ...                                                ...\n",
       "3274  4149    0.939901  POLYGON ((-87.71357 41.93464, -87.71185 41.936...\n",
       "3275  4146    0.932963  POLYGON ((-87.71372 41.94815, -87.71200 41.950...\n",
       "3276  4147    0.930890  POLYGON ((-87.71367 41.94364, -87.71195 41.945...\n",
       "3277  4144    0.884283  POLYGON ((-87.71382 41.95715, -87.71210 41.959...\n",
       "3278  4145    0.900155  POLYGON ((-87.71377 41.95265, -87.71205 41.954...\n",
       "\n",
       "[3279 rows x 3 columns]"
      ]
     },
     "execution_count": 11,
     "metadata": {},
     "output_type": "execute_result"
    }
   ],
   "source": [
    "chicagoACC"
   ]
  },
  {
   "cell_type": "code",
   "execution_count": 12,
   "metadata": {},
   "outputs": [],
   "source": [
    "def classify(a):\n",
    "    if a >= 0 and a <= 0.2:\n",
    "        return 0\n",
    "    elif a > 0.2 and a <= 0.4:\n",
    "        return 1\n",
    "    elif a > 0.4 and a <= 0.6:\n",
    "        return 2\n",
    "    elif a > 0.6 and a <= 0.8:\n",
    "        return 3\n",
    "    else:\n",
    "        return 4\n",
    "chicagoACC['category'] = chicagoACC.apply(lambda x: classify(x.normal_val), axis = 1)"
   ]
  },
  {
   "cell_type": "code",
   "execution_count": 13,
   "metadata": {},
   "outputs": [
    {
     "data": {
      "text/html": [
       "<div>\n",
       "<style scoped>\n",
       "    .dataframe tbody tr th:only-of-type {\n",
       "        vertical-align: middle;\n",
       "    }\n",
       "\n",
       "    .dataframe tbody tr th {\n",
       "        vertical-align: top;\n",
       "    }\n",
       "\n",
       "    .dataframe thead th {\n",
       "        text-align: right;\n",
       "    }\n",
       "</style>\n",
       "<table border=\"1\" class=\"dataframe\">\n",
       "  <thead>\n",
       "    <tr style=\"text-align: right;\">\n",
       "      <th></th>\n",
       "      <th>id</th>\n",
       "      <th>normal_val</th>\n",
       "      <th>geometry</th>\n",
       "      <th>category</th>\n",
       "    </tr>\n",
       "  </thead>\n",
       "  <tbody>\n",
       "    <tr>\n",
       "      <th>0</th>\n",
       "      <td>4158</td>\n",
       "      <td>0.929751</td>\n",
       "      <td>POLYGON ((-87.71312 41.89411, -87.71140 41.896...</td>\n",
       "      <td>4</td>\n",
       "    </tr>\n",
       "    <tr>\n",
       "      <th>1</th>\n",
       "      <td>4159</td>\n",
       "      <td>0.939799</td>\n",
       "      <td>POLYGON ((-87.71307 41.88961, -87.71135 41.891...</td>\n",
       "      <td>4</td>\n",
       "    </tr>\n",
       "    <tr>\n",
       "      <th>2</th>\n",
       "      <td>4156</td>\n",
       "      <td>0.940660</td>\n",
       "      <td>POLYGON ((-87.71322 41.90312, -87.71150 41.905...</td>\n",
       "      <td>4</td>\n",
       "    </tr>\n",
       "    <tr>\n",
       "      <th>3</th>\n",
       "      <td>4157</td>\n",
       "      <td>0.944135</td>\n",
       "      <td>POLYGON ((-87.71317 41.89861, -87.71145 41.900...</td>\n",
       "      <td>4</td>\n",
       "    </tr>\n",
       "    <tr>\n",
       "      <th>4</th>\n",
       "      <td>4154</td>\n",
       "      <td>0.940660</td>\n",
       "      <td>POLYGON ((-87.71332 41.91212, -87.71160 41.914...</td>\n",
       "      <td>4</td>\n",
       "    </tr>\n",
       "    <tr>\n",
       "      <th>...</th>\n",
       "      <td>...</td>\n",
       "      <td>...</td>\n",
       "      <td>...</td>\n",
       "      <td>...</td>\n",
       "    </tr>\n",
       "    <tr>\n",
       "      <th>3274</th>\n",
       "      <td>4149</td>\n",
       "      <td>0.939901</td>\n",
       "      <td>POLYGON ((-87.71357 41.93464, -87.71185 41.936...</td>\n",
       "      <td>4</td>\n",
       "    </tr>\n",
       "    <tr>\n",
       "      <th>3275</th>\n",
       "      <td>4146</td>\n",
       "      <td>0.932963</td>\n",
       "      <td>POLYGON ((-87.71372 41.94815, -87.71200 41.950...</td>\n",
       "      <td>4</td>\n",
       "    </tr>\n",
       "    <tr>\n",
       "      <th>3276</th>\n",
       "      <td>4147</td>\n",
       "      <td>0.930890</td>\n",
       "      <td>POLYGON ((-87.71367 41.94364, -87.71195 41.945...</td>\n",
       "      <td>4</td>\n",
       "    </tr>\n",
       "    <tr>\n",
       "      <th>3277</th>\n",
       "      <td>4144</td>\n",
       "      <td>0.884283</td>\n",
       "      <td>POLYGON ((-87.71382 41.95715, -87.71210 41.959...</td>\n",
       "      <td>4</td>\n",
       "    </tr>\n",
       "    <tr>\n",
       "      <th>3278</th>\n",
       "      <td>4145</td>\n",
       "      <td>0.900155</td>\n",
       "      <td>POLYGON ((-87.71377 41.95265, -87.71205 41.954...</td>\n",
       "      <td>4</td>\n",
       "    </tr>\n",
       "  </tbody>\n",
       "</table>\n",
       "<p>3279 rows × 4 columns</p>\n",
       "</div>"
      ],
      "text/plain": [
       "        id  normal_val                                           geometry  \\\n",
       "0     4158    0.929751  POLYGON ((-87.71312 41.89411, -87.71140 41.896...   \n",
       "1     4159    0.939799  POLYGON ((-87.71307 41.88961, -87.71135 41.891...   \n",
       "2     4156    0.940660  POLYGON ((-87.71322 41.90312, -87.71150 41.905...   \n",
       "3     4157    0.944135  POLYGON ((-87.71317 41.89861, -87.71145 41.900...   \n",
       "4     4154    0.940660  POLYGON ((-87.71332 41.91212, -87.71160 41.914...   \n",
       "...    ...         ...                                                ...   \n",
       "3274  4149    0.939901  POLYGON ((-87.71357 41.93464, -87.71185 41.936...   \n",
       "3275  4146    0.932963  POLYGON ((-87.71372 41.94815, -87.71200 41.950...   \n",
       "3276  4147    0.930890  POLYGON ((-87.71367 41.94364, -87.71195 41.945...   \n",
       "3277  4144    0.884283  POLYGON ((-87.71382 41.95715, -87.71210 41.959...   \n",
       "3278  4145    0.900155  POLYGON ((-87.71377 41.95265, -87.71205 41.954...   \n",
       "\n",
       "      category  \n",
       "0            4  \n",
       "1            4  \n",
       "2            4  \n",
       "3            4  \n",
       "4            4  \n",
       "...        ...  \n",
       "3274         4  \n",
       "3275         4  \n",
       "3276         4  \n",
       "3277         4  \n",
       "3278         4  \n",
       "\n",
       "[3279 rows x 4 columns]"
      ]
     },
     "execution_count": 13,
     "metadata": {},
     "output_type": "execute_result"
    }
   ],
   "source": [
    "chicagoACC"
   ]
  },
  {
   "cell_type": "code",
   "execution_count": 17,
   "metadata": {},
   "outputs": [
    {
     "data": {
      "text/plain": [
       "4    1297\n",
       "3    1048\n",
       "2     462\n",
       "1     445\n",
       "0      27\n",
       "Name: category, dtype: int64"
      ]
     },
     "execution_count": 17,
     "metadata": {},
     "output_type": "execute_result"
    }
   ],
   "source": [
    "chicagoACC['category'].value_counts()"
   ]
  },
  {
   "cell_type": "code",
   "execution_count": 18,
   "metadata": {},
   "outputs": [],
   "source": [
    "chicagoACC_dissolve = chicagoACC.dissolve(by='category', aggfunc = 'mean')"
   ]
  },
  {
   "cell_type": "code",
   "execution_count": 19,
   "metadata": {},
   "outputs": [
    {
     "data": {
      "text/html": [
       "<div>\n",
       "<style scoped>\n",
       "    .dataframe tbody tr th:only-of-type {\n",
       "        vertical-align: middle;\n",
       "    }\n",
       "\n",
       "    .dataframe tbody tr th {\n",
       "        vertical-align: top;\n",
       "    }\n",
       "\n",
       "    .dataframe thead th {\n",
       "        text-align: right;\n",
       "    }\n",
       "</style>\n",
       "<table border=\"1\" class=\"dataframe\">\n",
       "  <thead>\n",
       "    <tr style=\"text-align: right;\">\n",
       "      <th></th>\n",
       "      <th>geometry</th>\n",
       "      <th>id</th>\n",
       "      <th>normal_val</th>\n",
       "    </tr>\n",
       "    <tr>\n",
       "      <th>category</th>\n",
       "      <th></th>\n",
       "      <th></th>\n",
       "      <th></th>\n",
       "    </tr>\n",
       "  </thead>\n",
       "  <tbody>\n",
       "    <tr>\n",
       "      <th>0</th>\n",
       "      <td>MULTIPOLYGON (((-87.56479 41.64724, -87.56308 ...</td>\n",
       "      <td>3939.962963</td>\n",
       "      <td>0.125733</td>\n",
       "    </tr>\n",
       "    <tr>\n",
       "      <th>1</th>\n",
       "      <td>MULTIPOLYGON (((-87.66897 41.66470, -87.66726 ...</td>\n",
       "      <td>5779.530337</td>\n",
       "      <td>0.327478</td>\n",
       "    </tr>\n",
       "    <tr>\n",
       "      <th>2</th>\n",
       "      <td>MULTIPOLYGON (((-87.59774 41.83622, -87.59602 ...</td>\n",
       "      <td>5211.413420</td>\n",
       "      <td>0.509687</td>\n",
       "    </tr>\n",
       "    <tr>\n",
       "      <th>3</th>\n",
       "      <td>MULTIPOLYGON (((-87.77023 41.86897, -87.76852 ...</td>\n",
       "      <td>4107.917939</td>\n",
       "      <td>0.712875</td>\n",
       "    </tr>\n",
       "    <tr>\n",
       "      <th>4</th>\n",
       "      <td>MULTIPOLYGON (((-87.71410 41.66893, -87.71580 ...</td>\n",
       "      <td>3954.829607</td>\n",
       "      <td>0.639419</td>\n",
       "    </tr>\n",
       "  </tbody>\n",
       "</table>\n",
       "</div>"
      ],
      "text/plain": [
       "                                                   geometry           id  \\\n",
       "category                                                                   \n",
       "0         MULTIPOLYGON (((-87.56479 41.64724, -87.56308 ...  3939.962963   \n",
       "1         MULTIPOLYGON (((-87.66897 41.66470, -87.66726 ...  5779.530337   \n",
       "2         MULTIPOLYGON (((-87.59774 41.83622, -87.59602 ...  5211.413420   \n",
       "3         MULTIPOLYGON (((-87.77023 41.86897, -87.76852 ...  4107.917939   \n",
       "4         MULTIPOLYGON (((-87.71410 41.66893, -87.71580 ...  3954.829607   \n",
       "\n",
       "          normal_val  \n",
       "category              \n",
       "0           0.125733  \n",
       "1           0.327478  \n",
       "2           0.509687  \n",
       "3           0.712875  \n",
       "4           0.639419  "
      ]
     },
     "execution_count": 19,
     "metadata": {},
     "output_type": "execute_result"
    }
   ],
   "source": [
    "chicagoACC_dissolve"
   ]
  },
  {
   "cell_type": "code",
   "execution_count": 41,
   "metadata": {},
   "outputs": [],
   "source": [
    "# chicagoACC_dissolve = chicagoACC_dissolve.drop(columns=['id'])\n",
    "chicagoACC_dissolve[\"category\"] = range(0, len(chicagoACC_dissolve))"
   ]
  },
  {
   "cell_type": "code",
   "execution_count": 42,
   "metadata": {},
   "outputs": [
    {
     "data": {
      "text/html": [
       "<div>\n",
       "<style scoped>\n",
       "    .dataframe tbody tr th:only-of-type {\n",
       "        vertical-align: middle;\n",
       "    }\n",
       "\n",
       "    .dataframe tbody tr th {\n",
       "        vertical-align: top;\n",
       "    }\n",
       "\n",
       "    .dataframe thead th {\n",
       "        text-align: right;\n",
       "    }\n",
       "</style>\n",
       "<table border=\"1\" class=\"dataframe\">\n",
       "  <thead>\n",
       "    <tr style=\"text-align: right;\">\n",
       "      <th></th>\n",
       "      <th>geometry</th>\n",
       "      <th>normal_val</th>\n",
       "      <th>category</th>\n",
       "    </tr>\n",
       "    <tr>\n",
       "      <th>category</th>\n",
       "      <th></th>\n",
       "      <th></th>\n",
       "      <th></th>\n",
       "    </tr>\n",
       "  </thead>\n",
       "  <tbody>\n",
       "    <tr>\n",
       "      <th>0</th>\n",
       "      <td>MULTIPOLYGON (((-87.56479 41.64724, -87.56308 ...</td>\n",
       "      <td>0.125733</td>\n",
       "      <td>0</td>\n",
       "    </tr>\n",
       "    <tr>\n",
       "      <th>1</th>\n",
       "      <td>MULTIPOLYGON (((-87.66897 41.66470, -87.66726 ...</td>\n",
       "      <td>0.327478</td>\n",
       "      <td>1</td>\n",
       "    </tr>\n",
       "    <tr>\n",
       "      <th>2</th>\n",
       "      <td>MULTIPOLYGON (((-87.59774 41.83622, -87.59602 ...</td>\n",
       "      <td>0.509687</td>\n",
       "      <td>2</td>\n",
       "    </tr>\n",
       "    <tr>\n",
       "      <th>3</th>\n",
       "      <td>MULTIPOLYGON (((-87.77023 41.86897, -87.76852 ...</td>\n",
       "      <td>0.712875</td>\n",
       "      <td>3</td>\n",
       "    </tr>\n",
       "    <tr>\n",
       "      <th>4</th>\n",
       "      <td>MULTIPOLYGON (((-87.71410 41.66893, -87.71580 ...</td>\n",
       "      <td>0.639419</td>\n",
       "      <td>4</td>\n",
       "    </tr>\n",
       "  </tbody>\n",
       "</table>\n",
       "</div>"
      ],
      "text/plain": [
       "                                                   geometry  normal_val  \\\n",
       "category                                                                  \n",
       "0         MULTIPOLYGON (((-87.56479 41.64724, -87.56308 ...    0.125733   \n",
       "1         MULTIPOLYGON (((-87.66897 41.66470, -87.66726 ...    0.327478   \n",
       "2         MULTIPOLYGON (((-87.59774 41.83622, -87.59602 ...    0.509687   \n",
       "3         MULTIPOLYGON (((-87.77023 41.86897, -87.76852 ...    0.712875   \n",
       "4         MULTIPOLYGON (((-87.71410 41.66893, -87.71580 ...    0.639419   \n",
       "\n",
       "          category  \n",
       "category            \n",
       "0                0  \n",
       "1                1  \n",
       "2                2  \n",
       "3                3  \n",
       "4                4  "
      ]
     },
     "execution_count": 42,
     "metadata": {},
     "output_type": "execute_result"
    }
   ],
   "source": [
    "chicagoACC_dissolve"
   ]
  },
  {
   "cell_type": "code",
   "execution_count": 45,
   "metadata": {},
   "outputs": [
    {
     "data": {
      "text/plain": [
       "<matplotlib.axes._subplots.AxesSubplot at 0x20217589708>"
      ]
     },
     "execution_count": 45,
     "metadata": {},
     "output_type": "execute_result"
    },
    {
     "data": {
      "image/png": "[encoded data removed]",
      "text/plain": [
       "<Figure size 864x576 with 2 Axes>"
      ]
     },
     "metadata": {
      "needs_background": "light"
     },
     "output_type": "display_data"
    }
   ],
   "source": [
    "fig, ax = plt.subplots(figsize = (12,8))\n",
    "chicagoACC_dissolve.plot(column = 'category', edgecolor = \"black\", cmap='YlOrRd', ax=ax, legend = True)"
   ]
  },
  {
   "cell_type": "code",
   "execution_count": 46,
   "metadata": {},
   "outputs": [],
   "source": [
    "chicagoACC_dissolve = chicagoACC_dissolve.to_crs({'init': 'epsg:4326'})"
   ]
  },
  {
   "cell_type": "code",
   "execution_count": 47,
   "metadata": {},
   "outputs": [],
   "source": [
    "chicagoACC_dissolve.to_file(\"Chicago_ACC_dissolve.geojson\", driver=\"GeoJSON\")"
   ]
  }
 ],
 "metadata": {
  "kernelspec": {
   "display_name": "Python 3",
   "language": "python",
   "name": "python3"
  },
  "language_info": {
   "codemirror_mode": {
    "name": "ipython",
    "version": 3
   },
   "file_extension": ".py",
   "mimetype": "text/x-python",
   "name": "python",
   "nbconvert_exporter": "python",
   "pygments_lexer": "ipython3",
   "version": "3.7.7"
  }
 },
 "nbformat": 4,
 "nbformat_minor": 4
}
