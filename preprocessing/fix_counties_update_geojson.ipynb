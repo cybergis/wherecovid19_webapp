{
 "cells": [
  {
   "cell_type": "code",
   "execution_count": null,
   "metadata": {
    "pycharm": {
     "is_executing": false
    }
   },
   "outputs": [],
   "source": [
    "import geopandas as gpd"
   ]
  },
  {
   "cell_type": "code",
   "execution_count": null,
   "metadata": {
    "pycharm": {
     "is_executing": false
    }
   },
   "outputs": [],
   "source": [
    "old_counties_geojson_df = gpd.read_file(\"counties_update.geojson\")\n",
    "old_counties_geojson_df.head(5)"
   ]
  },
  {
   "cell_type": "code",
   "execution_count": null,
   "metadata": {
    "pycharm": {
     "name": "#%%\n"
    }
   },
   "outputs": [],
   "source": [
    "_f# def get_shaply_geometry(county, state=\"New York\"):\n",
    "#     county_df = old_counties_geojson_df.loc[old_counties_geojson_df[\"NAME\"]==county].loc[old_counties_geojson_df[\"state_name\"]==state]\n",
    "#     index = county_df.index[0]\n",
    "#     geom = county_df['geometry'].values[0]\n",
    "#     return geom, index\n",
    "\n",
    "def get_shaply_geometry(county_state_pair_list):\n",
    "    geom_list=[]\n",
    "    index_list=[]\n",
    "    for county_state_pair in county_state_pair_list:\n",
    "        county = county_state_pair[0]\n",
    "        state = county_state_pair[1]\n",
    "        \n",
    "        county_df = old_counties_geojson_df.loc[old_counties_geojson_df[\"NAME\"]==county].loc[old_counties_geojson_df[\"state_name\"]==state]\n",
    "        index = county_df.index[0]\n",
    "        index_list.append(index)\n",
    "        geom = county_df['geometry'].values[0]\n",
    "        geom_list.append(geom)\n",
    "        print(county_state_pair)\n",
    "        display(geom)\n",
    "    return geom_list, index_list"
   ]
  },
  {
   "cell_type": "code",
   "execution_count": null,
   "metadata": {
    "pycharm": {
     "name": "#%%\n"
    }
   },
   "outputs": [],
   "source": [
    "nyc_boroughs_list = [(\"New York\",\"New York\"), (\"Kings\",\"New York\"), (\"Queens\",\"New York\"), (\"Bronx\",\"New York\"), (\"Richmond\",\"New York\")]\n",
    "\n",
    "borough_geom_list, borough_index_list = get_shaply_geometry(nyc_list)\n",
    "\n",
    "\n",
    "\n"
   ]
  },
  {
   "cell_type": "code",
   "execution_count": null,
   "metadata": {
    "pycharm": {
     "name": "#%%\n"
    }
   },
   "outputs": [],
   "source": [
    "import shapely"
   ]
  },
  {
   "cell_type": "code",
   "execution_count": null,
   "metadata": {
    "pycharm": {
     "name": "#%%\n"
    }
   },
   "outputs": [],
   "source": [
    "nyc_AllInOne_geom=shapely.ops.cascaded_union(borough_geom_list)"
   ]
  },
  {
   "cell_type": "code",
   "execution_count": null,
   "metadata": {
    "pycharm": {
     "name": "#%%\n"
    }
   },
   "outputs": [],
   "source": [
    "#df.loc[df.shape[0]]\n",
    "old_counties_geojson_subset_df=old_counties_geojson_df[[\"NAME\", \"state_name\", \"STATEFP\", \"COUNTYNS\", \"geometry\", \"population\"]]"
   ]
  },
  {
   "cell_type": "code",
   "execution_count": null,
   "metadata": {
    "pycharm": {
     "name": "#%%\n"
    }
   },
   "outputs": [],
   "source": [
    "#new_counties_df = old_counties_geojson_subset_df.loc[old_counties_geojson_subset_df.shape[0]]=[\"New York City\", \"Unknown\", nyc, 1]"
   ]
  },
  {
   "cell_type": "code",
   "execution_count": null,
   "metadata": {
    "pycharm": {
     "name": "#%%\n"
    }
   },
   "outputs": [],
   "source": []
  },
  {
   "cell_type": "code",
   "execution_count": null,
   "metadata": {
    "pycharm": {
     "name": "#%%\n"
    }
   },
   "outputs": [],
   "source": [
    "gdf2 = gpd.geodataframe.GeoDataFrame([[\"New York City\", \"New York\",None,None,nyc_AllInOne_geom, 1]], columns=[\"NAME\", \"state_name\", \"STATEFP\", \"COUNTYNS\", \"geometry\", \"population\"])\n"
   ]
  },
  {
   "cell_type": "code",
   "execution_count": null,
   "metadata": {
    "pycharm": {
     "name": "#%%\n"
    }
   },
   "outputs": [],
   "source": [
    "a=old_counties_geojson_subset_df.append(gdf2, ignore_index=True)"
   ]
  },
  {
   "cell_type": "code",
   "execution_count": null,
   "metadata": {
    "pycharm": {
     "name": "#%%\n"
    }
   },
   "outputs": [],
   "source": [
    "a=a.drop(borough_index_list)"
   ]
  },
  {
   "cell_type": "code",
   "execution_count": null,
   "metadata": {
    "pycharm": {
     "name": "#%%\n"
    }
   },
   "outputs": [],
   "source": [
    "a.to_file(\"counties_update_new.geojson\", driver='GeoJSON')\n",
    "print(\"done\")"
   ]
  },
  {
   "cell_type": "code",
   "execution_count": null,
   "metadata": {},
   "outputs": [],
   "source": []
  }
 ],
 "metadata": {
  "kernelspec": {
   "display_name": "Python 3",
   "language": "python",
   "name": "python3"
  },
  "language_info": {
   "codemirror_mode": {
    "name": "ipython",
    "version": 3
   },
   "file_extension": ".py",
   "mimetype": "text/x-python",
   "name": "python",
   "nbconvert_exporter": "python",
   "pygments_lexer": "ipython3",
   "version": "3.8.2"
  },
  "pycharm": {
   "stem_cell": {
    "cell_type": "raw",
    "metadata": {
     "collapsed": false
    },
    "source": []
   }
  }
 },
 "nbformat": 4,
 "nbformat_minor": 4
}
