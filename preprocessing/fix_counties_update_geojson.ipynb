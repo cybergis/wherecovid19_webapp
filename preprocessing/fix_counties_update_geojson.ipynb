{
 "cells": [
  {
   "cell_type": "code",
   "execution_count": 48,
   "metadata": {
    "pycharm": {
     "is_executing": false
    }
   },
   "outputs": [],
   "source": [
    "import geopandas as gpd"
   ]
  },
  {
   "cell_type": "code",
   "execution_count": 49,
   "metadata": {
    "pycharm": {
     "is_executing": false
    }
   },
   "outputs": [
    {
     "data": {
      "text/plain": "  STATEFP COUNTYFP  COUNTYNS        AFFGEOID  GEOID      NAME LSAD  \\\n0      37      017  01026336  0500000US37017  37017    Bladen   06   \n1      37      167  01025844  0500000US37167  37167    Stanly   06   \n2      39      153  01074088  0500000US39153  39153    Summit   06   \n3      42      113  01213687  0500000US42113  42113  Sullivan   06   \n4      48      459  01384015  0500000US48459  48459    Upshur   06   \n\n        ALAND    AWATER     merge  ... d2020-03-19 d2020-03-20  d2020-03-21  \\\n0  2265887723  33010866    Bladen  ...           0           0            0   \n1  1023370459  25242751    Stanly  ...           0           0            0   \n2  1069181981  18958267    Summit  ...           0           0            0   \n3  1165338428   6617028  Sullivan  ...           0           0            0   \n4  1509910100  24878888    Upshur  ...           0           0            0   \n\n   d2020-03-22  d2020-03-23  d2020-03-24  d2020-03-25  d2020-03-26  \\\n0            0            0            0            0            0   \n1            0            0            0            0            0   \n2            0            0            0            0            0   \n3            0            0            0            0            0   \n4            0            0            0            0            0   \n\n   population                                           geometry  \n0       33778  MULTIPOLYGON (((-78.90200 34.83527, -78.79960 ...  \n1       61114  MULTIPOLYGON (((-80.49738 35.20210, -80.29542 ...  \n2      541810  MULTIPOLYGON (((-81.68699 41.13596, -81.68495 ...  \n3        6177  MULTIPOLYGON (((-76.81373 41.59003, -76.22014 ...  \n4       40769  MULTIPOLYGON (((-95.15274 32.66095, -95.15211 ...  \n\n[5 rows x 108 columns]",
      "text/html": "<div>\n<style scoped>\n    .dataframe tbody tr th:only-of-type {\n        vertical-align: middle;\n    }\n\n    .dataframe tbody tr th {\n        vertical-align: top;\n    }\n\n    .dataframe thead th {\n        text-align: right;\n    }\n</style>\n<table border=\"1\" class=\"dataframe\">\n  <thead>\n    <tr style=\"text-align: right;\">\n      <th></th>\n      <th>STATEFP</th>\n      <th>COUNTYFP</th>\n      <th>COUNTYNS</th>\n      <th>AFFGEOID</th>\n      <th>GEOID</th>\n      <th>NAME</th>\n      <th>LSAD</th>\n      <th>ALAND</th>\n      <th>AWATER</th>\n      <th>merge</th>\n      <th>...</th>\n      <th>d2020-03-19</th>\n      <th>d2020-03-20</th>\n      <th>d2020-03-21</th>\n      <th>d2020-03-22</th>\n      <th>d2020-03-23</th>\n      <th>d2020-03-24</th>\n      <th>d2020-03-25</th>\n      <th>d2020-03-26</th>\n      <th>population</th>\n      <th>geometry</th>\n    </tr>\n  </thead>\n  <tbody>\n    <tr>\n      <th>0</th>\n      <td>37</td>\n      <td>017</td>\n      <td>01026336</td>\n      <td>0500000US37017</td>\n      <td>37017</td>\n      <td>Bladen</td>\n      <td>06</td>\n      <td>2265887723</td>\n      <td>33010866</td>\n      <td>Bladen</td>\n      <td>...</td>\n      <td>0</td>\n      <td>0</td>\n      <td>0</td>\n      <td>0</td>\n      <td>0</td>\n      <td>0</td>\n      <td>0</td>\n      <td>0</td>\n      <td>33778</td>\n      <td>MULTIPOLYGON (((-78.90200 34.83527, -78.79960 ...</td>\n    </tr>\n    <tr>\n      <th>1</th>\n      <td>37</td>\n      <td>167</td>\n      <td>01025844</td>\n      <td>0500000US37167</td>\n      <td>37167</td>\n      <td>Stanly</td>\n      <td>06</td>\n      <td>1023370459</td>\n      <td>25242751</td>\n      <td>Stanly</td>\n      <td>...</td>\n      <td>0</td>\n      <td>0</td>\n      <td>0</td>\n      <td>0</td>\n      <td>0</td>\n      <td>0</td>\n      <td>0</td>\n      <td>0</td>\n      <td>61114</td>\n      <td>MULTIPOLYGON (((-80.49738 35.20210, -80.29542 ...</td>\n    </tr>\n    <tr>\n      <th>2</th>\n      <td>39</td>\n      <td>153</td>\n      <td>01074088</td>\n      <td>0500000US39153</td>\n      <td>39153</td>\n      <td>Summit</td>\n      <td>06</td>\n      <td>1069181981</td>\n      <td>18958267</td>\n      <td>Summit</td>\n      <td>...</td>\n      <td>0</td>\n      <td>0</td>\n      <td>0</td>\n      <td>0</td>\n      <td>0</td>\n      <td>0</td>\n      <td>0</td>\n      <td>0</td>\n      <td>541810</td>\n      <td>MULTIPOLYGON (((-81.68699 41.13596, -81.68495 ...</td>\n    </tr>\n    <tr>\n      <th>3</th>\n      <td>42</td>\n      <td>113</td>\n      <td>01213687</td>\n      <td>0500000US42113</td>\n      <td>42113</td>\n      <td>Sullivan</td>\n      <td>06</td>\n      <td>1165338428</td>\n      <td>6617028</td>\n      <td>Sullivan</td>\n      <td>...</td>\n      <td>0</td>\n      <td>0</td>\n      <td>0</td>\n      <td>0</td>\n      <td>0</td>\n      <td>0</td>\n      <td>0</td>\n      <td>0</td>\n      <td>6177</td>\n      <td>MULTIPOLYGON (((-76.81373 41.59003, -76.22014 ...</td>\n    </tr>\n    <tr>\n      <th>4</th>\n      <td>48</td>\n      <td>459</td>\n      <td>01384015</td>\n      <td>0500000US48459</td>\n      <td>48459</td>\n      <td>Upshur</td>\n      <td>06</td>\n      <td>1509910100</td>\n      <td>24878888</td>\n      <td>Upshur</td>\n      <td>...</td>\n      <td>0</td>\n      <td>0</td>\n      <td>0</td>\n      <td>0</td>\n      <td>0</td>\n      <td>0</td>\n      <td>0</td>\n      <td>0</td>\n      <td>40769</td>\n      <td>MULTIPOLYGON (((-95.15274 32.66095, -95.15211 ...</td>\n    </tr>\n  </tbody>\n</table>\n<p>5 rows × 108 columns</p>\n</div>"
     },
     "metadata": {},
     "output_type": "execute_result",
     "execution_count": 49
    }
   ],
   "source": [
    "old_counties_geojson_df = gpd.read_file(\"counties_update.geojson\")\n",
    "old_counties_geojson_df.head(5)"
   ]
  },
  {
   "cell_type": "code",
   "execution_count": null,
   "outputs": [],
   "source": [
    "_f# def get_shaply_geometry(county, state=\"New York\"):\n",
    "#     county_df = old_counties_geojson_df.loc[old_counties_geojson_df[\"NAME\"]==county].loc[old_counties_geojson_df[\"state_name\"]==state]\n",
    "#     index = county_df.index[0]\n",
    "#     geom = county_df['geometry'].values[0]\n",
    "#     return geom, index\n",
    "\n",
    "def get_shaply_geometry(county_state_pair_list):\n",
    "    geom_list=[]\n",
    "    index_list=[]\n",
    "    for county_state_pair in county_state_pair_list:\n",
    "        county = county_state_pair[0]\n",
    "        state = county_state_pair[1]\n",
    "        \n",
    "        county_df = old_counties_geojson_df.loc[old_counties_geojson_df[\"NAME\"]==county].loc[old_counties_geojson_df[\"state_name\"]==state]\n",
    "        index = county_df.index[0]\n",
    "        index_list.append(index)\n",
    "        geom = county_df['geometry'].values[0]\n",
    "        geom_list.append(geom)\n",
    "        print(county_state_pair)\n",
    "        display(geom)\n",
    "    return geom_list, index_list"
   ],
   "metadata": {
    "collapsed": false,
    "pycharm": {
     "name": "#%%\n"
    }
   }
  },
  {
   "cell_type": "code",
   "execution_count": null,
   "outputs": [],
   "source": [
    "nyc_boroughs_list = [(\"New York\",\"New York\"), (\"Kings\",\"New York\"), (\"Queens\",\"New York\"), (\"Bronx\",\"New York\"), (\"Richmond\",\"New York\")]\n",
    "\n",
    "borough_geom_list, borough_index_list = get_shaply_geometry(nyc_list)\n",
    "\n",
    "\n",
    "\n"
   ],
   "metadata": {
    "collapsed": false,
    "pycharm": {
     "name": "#%%\n"
    }
   }
  },
  {
   "cell_type": "code",
   "execution_count": null,
   "outputs": [],
   "source": [
    "import shapely"
   ],
   "metadata": {
    "collapsed": false,
    "pycharm": {
     "name": "#%%\n"
    }
   }
  },
  {
   "cell_type": "code",
   "execution_count": null,
   "outputs": [],
   "source": [
    "nyc_AllInOne_geom=shapely.ops.cascaded_union(borough_geom_list)"
   ],
   "metadata": {
    "collapsed": false,
    "pycharm": {
     "name": "#%%\n"
    }
   }
  },
  {
   "cell_type": "code",
   "execution_count": null,
   "outputs": [],
   "source": [
    "#df.loc[df.shape[0]]\n",
    "old_counties_geojson_subset_df=old_counties_geojson_df[[\"NAME\", \"state_name\", \"STATEFP\", \"COUNTYNS\", \"geometry\", \"population\"]]"
   ],
   "metadata": {
    "collapsed": false,
    "pycharm": {
     "name": "#%%\n"
    }
   }
  },
  {
   "cell_type": "code",
   "execution_count": null,
   "outputs": [],
   "source": [
    "#new_counties_df = old_counties_geojson_subset_df.loc[old_counties_geojson_subset_df.shape[0]]=[\"New York City\", \"Unknown\", nyc, 1]"
   ],
   "metadata": {
    "collapsed": false,
    "pycharm": {
     "name": "#%%\n"
    }
   }
  },
  {
   "cell_type": "code",
   "execution_count": null,
   "outputs": [],
   "source": [],
   "metadata": {
    "collapsed": false,
    "pycharm": {
     "name": "#%%\n"
    }
   }
  },
  {
   "cell_type": "code",
   "execution_count": null,
   "outputs": [],
   "source": [
    "gdf2 = gpd.geodataframe.GeoDataFrame([[\"New York City\", \"New York\",None,None,nyc_AllInOne_geom, 1]], columns=[\"NAME\", \"state_name\", \"STATEFP\", \"COUNTYNS\", \"geometry\", \"population\"])\n"
   ],
   "metadata": {
    "collapsed": false,
    "pycharm": {
     "name": "#%%\n"
    }
   }
  },
  {
   "cell_type": "code",
   "execution_count": null,
   "outputs": [],
   "source": [
    "a=old_counties_geojson_subset_df.append(gdf2, ignore_index=True)"
   ],
   "metadata": {
    "collapsed": false,
    "pycharm": {
     "name": "#%%\n"
    }
   }
  },
  {
   "cell_type": "code",
   "execution_count": null,
   "outputs": [],
   "source": [
    "a=a.drop(borough_index_list)"
   ],
   "metadata": {
    "collapsed": false,
    "pycharm": {
     "name": "#%%\n"
    }
   }
  },
  {
   "cell_type": "code",
   "execution_count": null,
   "outputs": [],
   "source": [
    "a.to_file(\"counties_update_new.geojson\", driver='GeoJSON')\n",
    "print(\"done\")"
   ],
   "metadata": {
    "collapsed": false,
    "pycharm": {
     "name": "#%%\n"
    }
   }
  },
  {
   "cell_type": "code",
   "execution_count": null,
   "metadata": {},
   "outputs": [],
   "source": []
  }
 ],
 "metadata": {
  "kernelspec": {
   "display_name": "Python 3",
   "language": "python",
   "name": "python3"
  },
  "language_info": {
   "codemirror_mode": {
    "name": "ipython",
    "version": 3
   },
   "file_extension": ".py",
   "mimetype": "text/x-python",
   "name": "python",
   "nbconvert_exporter": "python",
   "pygments_lexer": "ipython3",
   "version": "3.7.6"
  },
  "pycharm": {
   "stem_cell": {
    "cell_type": "raw",
    "source": [],
    "metadata": {
     "collapsed": false
    }
   }
  }
 },
 "nbformat": 4,
 "nbformat_minor": 4
}