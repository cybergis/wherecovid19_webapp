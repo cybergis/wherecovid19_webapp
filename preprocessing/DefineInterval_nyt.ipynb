{
 "cells": [
  {
   "cell_type": "markdown",
   "metadata": {},
   "source": [
    "# Generate Color Bins For Each Layer"
   ]
  },
  {
   "cell_type": "markdown",
   "metadata": {},
   "source": [
    "### 0. Import libraries and create empty dictionaries"
   ]
  },
  {
   "cell_type": "code",
   "execution_count": 21,
   "metadata": {
    "pycharm": {
     "is_executing": false
    }
   },
   "outputs": [],
   "source": [
    "import geopandas as gpd\n",
    "import numpy as np\n",
    "import mapclassify as mc\n",
    "import matplotlib.pyplot as plt"
   ]
  },
  {
   "cell_type": "code",
   "execution_count": 22,
   "metadata": {
    "pycharm": {
     "is_executing": false,
     "name": "#%%\n"
    }
   },
   "outputs": [],
   "source": [
    "total_dict = {}\n",
    "county_dict = {}\n",
    "state_dict = {}\n",
    "dph_illinois_dict = {}\n",
    "who_world_dict = {}\n",
    "vul_dict = {}"
   ]
  },
  {
   "cell_type": "code",
   "execution_count": 23,
   "metadata": {
    "pycharm": {
     "is_executing": false,
     "name": "#%%\n"
    }
   },
   "outputs": [],
   "source": [
    "dynamic_dict = {}\n",
    "dynamic_county_dict = {}\n",
    "dynamic_state_dict = {}\n",
    "dynamic_illinois_dict = {}"
   ]
  },
  {
   "cell_type": "markdown",
   "metadata": {
    "pycharm": {
     "name": "#%% md\n"
    }
   },
   "source": [
    "### 1. For US County-level Data"
   ]
  },
  {
   "cell_type": "markdown",
   "metadata": {},
   "source": [
    "#### 1.0 Load Data"
   ]
  },
  {
   "cell_type": "code",
   "execution_count": 24,
   "metadata": {
    "pycharm": {
     "is_executing": false,
     "name": "#%%\n"
    }
   },
   "outputs": [],
   "source": [
    "counties_gdf = gpd.read_file('nyt_counties_data.geojson')"
   ]
  },
  {
   "cell_type": "code",
   "execution_count": 25,
   "metadata": {
    "pycharm": {
     "is_executing": false,
     "name": "#%%\n"
    }
   },
   "outputs": [
    {
     "data": {
      "text/html": [
       "<div>\n",
       "<style scoped>\n",
       "    .dataframe tbody tr th:only-of-type {\n",
       "        vertical-align: middle;\n",
       "    }\n",
       "\n",
       "    .dataframe tbody tr th {\n",
       "        vertical-align: top;\n",
       "    }\n",
       "\n",
       "    .dataframe thead th {\n",
       "        text-align: right;\n",
       "    }\n",
       "</style>\n",
       "<table border=\"1\" class=\"dataframe\">\n",
       "  <thead>\n",
       "    <tr style=\"text-align: right;\">\n",
       "      <th></th>\n",
       "      <th>NAME</th>\n",
       "      <th>state_name</th>\n",
       "      <th>population</th>\n",
       "      <th>fips</th>\n",
       "      <th>dt_first_case</th>\n",
       "      <th>dt_first_death</th>\n",
       "      <th>cases_ts</th>\n",
       "      <th>deaths_ts</th>\n",
       "      <th>today_case</th>\n",
       "      <th>today_new_case</th>\n",
       "      <th>today_death</th>\n",
       "      <th>today_new_death</th>\n",
       "      <th>start</th>\n",
       "      <th>end</th>\n",
       "      <th>dt_unit</th>\n",
       "      <th>change_ts</th>\n",
       "      <th>geometry</th>\n",
       "    </tr>\n",
       "  </thead>\n",
       "  <tbody>\n",
       "    <tr>\n",
       "      <th>0</th>\n",
       "      <td>Bladen</td>\n",
       "      <td>North Carolina</td>\n",
       "      <td>33778</td>\n",
       "      <td>37017</td>\n",
       "      <td>2020-04-03</td>\n",
       "      <td>2020-05-06</td>\n",
       "      <td>0.0,0.0,0.0,0.0,0.0,0.0,0.0,0.0,0.0,0.0,0.0,0....</td>\n",
       "      <td>0.0,0.0,0.0,0.0,0.0,0.0,0.0,0.0,0.0,0.0,0.0,0....</td>\n",
       "      <td>5499.0</td>\n",
       "      <td>0.0</td>\n",
       "      <td>95.0</td>\n",
       "      <td>0.0</td>\n",
       "      <td>2020-01-21</td>\n",
       "      <td>2021-11-07</td>\n",
       "      <td>day</td>\n",
       "      <td>0,0,0,0,0,0,0,0,0,0,0,0,0,0,0,0,0,0,0,0,0,0,0,...</td>\n",
       "      <td>MULTIPOLYGON (((-78.90200 34.83527, -78.79960 ...</td>\n",
       "    </tr>\n",
       "    <tr>\n",
       "      <th>1</th>\n",
       "      <td>Stanly</td>\n",
       "      <td>North Carolina</td>\n",
       "      <td>61114</td>\n",
       "      <td>37167</td>\n",
       "      <td>2020-03-20</td>\n",
       "      <td>2020-04-09</td>\n",
       "      <td>0.0,0.0,0.0,0.0,0.0,0.0,0.0,0.0,0.0,0.0,0.0,0....</td>\n",
       "      <td>0.0,0.0,0.0,0.0,0.0,0.0,0.0,0.0,0.0,0.0,0.0,0....</td>\n",
       "      <td>11752.0</td>\n",
       "      <td>0.0</td>\n",
       "      <td>191.0</td>\n",
       "      <td>0.0</td>\n",
       "      <td>2020-01-21</td>\n",
       "      <td>2021-11-07</td>\n",
       "      <td>day</td>\n",
       "      <td>0,0,0,0,0,0,0,0,0,0,0,0,0,0,0,0,0,0,0,0,0,0,0,...</td>\n",
       "      <td>MULTIPOLYGON (((-80.49738 35.20210, -80.29542 ...</td>\n",
       "    </tr>\n",
       "    <tr>\n",
       "      <th>2</th>\n",
       "      <td>Summit</td>\n",
       "      <td>Ohio</td>\n",
       "      <td>541810</td>\n",
       "      <td>39153</td>\n",
       "      <td>2020-03-14</td>\n",
       "      <td>2020-03-27</td>\n",
       "      <td>0.0,0.0,0.0,0.0,0.0,0.0,0.0,0.0,0.0,0.0,0.0,0....</td>\n",
       "      <td>0.0,0.0,0.0,0.0,0.0,0.0,0.0,0.0,0.0,0.0,0.0,0....</td>\n",
       "      <td>64072.0</td>\n",
       "      <td>237.0</td>\n",
       "      <td>1144.0</td>\n",
       "      <td>0.0</td>\n",
       "      <td>2020-01-21</td>\n",
       "      <td>2021-11-07</td>\n",
       "      <td>day</td>\n",
       "      <td>0,0,0,0,0,0,0,0,0,0,0,0,0,0,0,0,0,0,0,0,0,0,0,...</td>\n",
       "      <td>MULTIPOLYGON (((-81.68699 41.13596, -81.68495 ...</td>\n",
       "    </tr>\n",
       "    <tr>\n",
       "      <th>3</th>\n",
       "      <td>Sullivan</td>\n",
       "      <td>Pennsylvania</td>\n",
       "      <td>6177</td>\n",
       "      <td>42113</td>\n",
       "      <td>2020-04-04</td>\n",
       "      <td>2020-10-14</td>\n",
       "      <td>0.0,0.0,0.0,0.0,0.0,0.0,0.0,0.0,0.0,0.0,0.0,0....</td>\n",
       "      <td>0.0,0.0,0.0,0.0,0.0,0.0,0.0,0.0,0.0,0.0,0.0,0....</td>\n",
       "      <td>600.0</td>\n",
       "      <td>1.0</td>\n",
       "      <td>24.0</td>\n",
       "      <td>0.0</td>\n",
       "      <td>2020-01-21</td>\n",
       "      <td>2021-11-07</td>\n",
       "      <td>day</td>\n",
       "      <td>0,0,0,0,0,0,0,0,0,0,0,0,0,0,0,0,0,0,0,0,0,0,0,...</td>\n",
       "      <td>MULTIPOLYGON (((-76.81373 41.59003, -76.22014 ...</td>\n",
       "    </tr>\n",
       "    <tr>\n",
       "      <th>4</th>\n",
       "      <td>Upshur</td>\n",
       "      <td>Texas</td>\n",
       "      <td>40769</td>\n",
       "      <td>48459</td>\n",
       "      <td>2020-03-20</td>\n",
       "      <td>2020-07-25</td>\n",
       "      <td>0.0,0.0,0.0,0.0,0.0,0.0,0.0,0.0,0.0,0.0,0.0,0....</td>\n",
       "      <td>0.0,0.0,0.0,0.0,0.0,0.0,0.0,0.0,0.0,0.0,0.0,0....</td>\n",
       "      <td>5856.0</td>\n",
       "      <td>0.0</td>\n",
       "      <td>144.0</td>\n",
       "      <td>0.0</td>\n",
       "      <td>2020-01-21</td>\n",
       "      <td>2021-11-07</td>\n",
       "      <td>day</td>\n",
       "      <td>0,0,0,0,0,0,0,0,0,0,0,0,0,0,0,0,0,0,0,0,0,0,0,...</td>\n",
       "      <td>MULTIPOLYGON (((-95.15274 32.66095, -95.15211 ...</td>\n",
       "    </tr>\n",
       "  </tbody>\n",
       "</table>\n",
       "</div>"
      ],
      "text/plain": [
       "       NAME      state_name  population   fips dt_first_case dt_first_death  \\\n",
       "0    Bladen  North Carolina       33778  37017    2020-04-03     2020-05-06   \n",
       "1    Stanly  North Carolina       61114  37167    2020-03-20     2020-04-09   \n",
       "2    Summit            Ohio      541810  39153    2020-03-14     2020-03-27   \n",
       "3  Sullivan    Pennsylvania        6177  42113    2020-04-04     2020-10-14   \n",
       "4    Upshur           Texas       40769  48459    2020-03-20     2020-07-25   \n",
       "\n",
       "                                            cases_ts  \\\n",
       "0  0.0,0.0,0.0,0.0,0.0,0.0,0.0,0.0,0.0,0.0,0.0,0....   \n",
       "1  0.0,0.0,0.0,0.0,0.0,0.0,0.0,0.0,0.0,0.0,0.0,0....   \n",
       "2  0.0,0.0,0.0,0.0,0.0,0.0,0.0,0.0,0.0,0.0,0.0,0....   \n",
       "3  0.0,0.0,0.0,0.0,0.0,0.0,0.0,0.0,0.0,0.0,0.0,0....   \n",
       "4  0.0,0.0,0.0,0.0,0.0,0.0,0.0,0.0,0.0,0.0,0.0,0....   \n",
       "\n",
       "                                           deaths_ts  today_case  \\\n",
       "0  0.0,0.0,0.0,0.0,0.0,0.0,0.0,0.0,0.0,0.0,0.0,0....      5499.0   \n",
       "1  0.0,0.0,0.0,0.0,0.0,0.0,0.0,0.0,0.0,0.0,0.0,0....     11752.0   \n",
       "2  0.0,0.0,0.0,0.0,0.0,0.0,0.0,0.0,0.0,0.0,0.0,0....     64072.0   \n",
       "3  0.0,0.0,0.0,0.0,0.0,0.0,0.0,0.0,0.0,0.0,0.0,0....       600.0   \n",
       "4  0.0,0.0,0.0,0.0,0.0,0.0,0.0,0.0,0.0,0.0,0.0,0....      5856.0   \n",
       "\n",
       "   today_new_case  today_death  today_new_death       start         end  \\\n",
       "0             0.0         95.0              0.0  2020-01-21  2021-11-07   \n",
       "1             0.0        191.0              0.0  2020-01-21  2021-11-07   \n",
       "2           237.0       1144.0              0.0  2020-01-21  2021-11-07   \n",
       "3             1.0         24.0              0.0  2020-01-21  2021-11-07   \n",
       "4             0.0        144.0              0.0  2020-01-21  2021-11-07   \n",
       "\n",
       "  dt_unit                                          change_ts  \\\n",
       "0     day  0,0,0,0,0,0,0,0,0,0,0,0,0,0,0,0,0,0,0,0,0,0,0,...   \n",
       "1     day  0,0,0,0,0,0,0,0,0,0,0,0,0,0,0,0,0,0,0,0,0,0,0,...   \n",
       "2     day  0,0,0,0,0,0,0,0,0,0,0,0,0,0,0,0,0,0,0,0,0,0,0,...   \n",
       "3     day  0,0,0,0,0,0,0,0,0,0,0,0,0,0,0,0,0,0,0,0,0,0,0,...   \n",
       "4     day  0,0,0,0,0,0,0,0,0,0,0,0,0,0,0,0,0,0,0,0,0,0,0,...   \n",
       "\n",
       "                                            geometry  \n",
       "0  MULTIPOLYGON (((-78.90200 34.83527, -78.79960 ...  \n",
       "1  MULTIPOLYGON (((-80.49738 35.20210, -80.29542 ...  \n",
       "2  MULTIPOLYGON (((-81.68699 41.13596, -81.68495 ...  \n",
       "3  MULTIPOLYGON (((-76.81373 41.59003, -76.22014 ...  \n",
       "4  MULTIPOLYGON (((-95.15274 32.66095, -95.15211 ...  "
      ]
     },
     "execution_count": 25,
     "metadata": {},
     "output_type": "execute_result"
    }
   ],
   "source": [
    "counties_gdf.head(5)"
   ]
  },
  {
   "cell_type": "code",
   "execution_count": 26,
   "metadata": {
    "pycharm": {
     "is_executing": false,
     "name": "#%%\n"
    }
   },
   "outputs": [],
   "source": [
    "case = counties_gdf['today_case']\n",
    "death = counties_gdf['today_death']\n",
    "case_per_100k_capita = counties_gdf['today_case']/(counties_gdf['population']/100000)\n",
    "death_per_100k_capita = counties_gdf['today_death']/(counties_gdf['population']/100000)\n",
    "# death_case_ratio = counties_gdf['today_death']/counties_gdf['today_case']\n",
    "# death_case_ratio = death_case_ratio.replace(np.nan, 0)"
   ]
  },
  {
   "cell_type": "code",
   "execution_count": 27,
   "metadata": {
    "pycharm": {
     "is_executing": false,
     "name": "#%%\n"
    }
   },
   "outputs": [],
   "source": [
    "log_case = case.apply(lambda x: np.log(x + 1))\n",
    "log_death = death.apply(lambda x: np.log(x + 1))\n",
    "log_case_per_100k_capita = case_per_100k_capita.apply(lambda x: np.log(x + 1))\n",
    "log_death_per_100k_capita = death.apply(lambda x: np.log(x + 1))"
   ]
  },
  {
   "cell_type": "markdown",
   "metadata": {
    "pycharm": {
     "name": "#%% md\n"
    }
   },
   "source": [
    "#### 1.1 Get Constant Classes from today's data"
   ]
  },
  {
   "cell_type": "code",
   "execution_count": 28,
   "metadata": {
    "pycharm": {
     "is_executing": false,
     "name": "#%%\n"
    }
   },
   "outputs": [],
   "source": [
    "def create_dict(column):\n",
    "    tmp_dict = {}\n",
    "    tmp_dict['Quantiles'] = {\n",
    "        'bins': ','.join(mc.Quantiles(column, k=6).bins.astype(str)),\n",
    "        'k': 6\n",
    "    }\n",
    "    tmp_dict['FisherJenks'] = {\n",
    "        'bins': ','.join(mc.FisherJenks(column, k=6).bins.astype(str)),\n",
    "        'k': 6\n",
    "    }\n",
    "    tmp_dict['NaturalBreaks'] = {\n",
    "        'bins': ','.join(mc.NaturalBreaks(column, k=6).bins.astype(str)),\n",
    "        'k': 6\n",
    "    }\n",
    "    return tmp_dict"
   ]
  },
  {
   "cell_type": "code",
   "execution_count": 29,
   "metadata": {
    "pycharm": {
     "is_executing": false,
     "name": "#%%\n"
    }
   },
   "outputs": [],
   "source": [
    "county_dict['case'] = {}\n",
    "county_dict['death'] = {}\n",
    "county_dict['case_per_100k_capita'] = {}\n",
    "county_dict['death_per_100k_capita'] = {}"
   ]
  },
  {
   "cell_type": "code",
   "execution_count": 30,
   "metadata": {
    "pycharm": {
     "is_executing": false,
     "name": "#%%\n"
    }
   },
   "outputs": [],
   "source": [
    "county_dict['case']['nolog'] = create_dict(case)\n",
    "county_dict['case']['log'] = create_dict(log_case)\n",
    "county_dict['death']['nolog'] = create_dict(death)\n",
    "county_dict['death']['log'] = create_dict(log_death)\n",
    "county_dict['case_per_100k_capita']['nolog'] = create_dict(case_per_100k_capita)\n",
    "county_dict['case_per_100k_capita']['log'] = create_dict(log_case_per_100k_capita)\n",
    "county_dict['death_per_100k_capita']['nolog'] = create_dict(death_per_100k_capita)\n",
    "county_dict['death_per_100k_capita']['log'] = create_dict(log_death_per_100k_capita)\n"
   ]
  },
  {
   "cell_type": "code",
   "execution_count": 31,
   "metadata": {
    "pycharm": {
     "is_executing": false,
     "name": "#%%\n"
    }
   },
   "outputs": [
    {
     "data": {
      "text/plain": [
       "{'case': {'nolog': {'Quantiles': {'bins': '1005.0000000000002,2166.0000000000005,3784.0,6817.000000000001,16128.000000000013,1503380.0',\n",
       "    'k': 6},\n",
       "   'FisherJenks': {'bins': '26748.0,88522.0,228752.0,406991.0,752986.0,1503380.0',\n",
       "    'k': 6},\n",
       "   'NaturalBreaks': {'bins': '26748.0,88522.0,228752.0,406991.0,752986.0,1503380.0',\n",
       "    'k': 6}},\n",
       "  'log': {'Quantiles': {'bins': '6.913737350659685,7.68109900153636,8.23880116587155,8.827321452697849,9.688374172917184,14.223227129625158',\n",
       "    'k': 6},\n",
       "   'FisherJenks': {'bins': '2.1972245773362196,6.498282149476434,7.851661177889265,9.023528749909364,10.424065467744796,14.223227129625158',\n",
       "    'k': 6},\n",
       "   'NaturalBreaks': {'bins': '2.1972245773362196,6.498282149476434,7.865955413933502,9.056839480990421,10.478554778363584,14.223227129625158',\n",
       "    'k': 6}}},\n",
       " 'death': {'nolog': {'Quantiles': {'bins': '14.0,37.0,65.0,111.0,256.0,34621.0',\n",
       "    'k': 6},\n",
       "   'FisherJenks': {'bins': '416.0,1399.0,3466.0,6014.0,12352.0,34621.0',\n",
       "    'k': 6},\n",
       "   'NaturalBreaks': {'bins': '436.0,1475.0,3466.0,6014.0,12352.0,34621.0',\n",
       "    'k': 6}},\n",
       "  'log': {'Quantiles': {'bins': '2.70805020110221,3.6375861597263857,4.189654742026425,4.718498871295094,5.54907608489522,10.452244597136675',\n",
       "    'k': 6},\n",
       "   'FisherJenks': {'bins': '1.0986122886681098,2.8903717578961645,4.02535169073515,5.081404364984463,6.421622267806518,10.452244597136675',\n",
       "    'k': 6},\n",
       "   'NaturalBreaks': {'bins': '1.0986122886681098,2.9444389791664403,4.02535169073515,5.056245805348308,6.391917113392602,10.452244597136675',\n",
       "    'k': 6}}},\n",
       " 'case_per_100k_capita': {'nolog': {'Quantiles': {'bins': '11364.278649145119,13579.426172148356,15107.084019769358,16561.64428755238,18246.84941459189,74254.0494458653',\n",
       "    'k': 6},\n",
       "   'FisherJenks': {'bins': '5043.132050431321,11014.759425282857,14877.417860314274,18559.9308593961,35477.82050079715,74254.0494458653',\n",
       "    'k': 6},\n",
       "   'NaturalBreaks': {'bins': '4801.328607193317,10885.408590479143,14774.97694807243,18389.968090466326,33134.85845607438,74254.0494458653',\n",
       "    'k': 6}},\n",
       "  'log': {'Quantiles': {'bins': '9.338318254168666,9.516384782958148,9.622985245093648,9.714905094391908,9.811802511770589,11.215261060357562',\n",
       "    'k': 6},\n",
       "   'FisherJenks': {'bins': '0.0,8.683106282599294,9.220719274970733,9.54146199247327,9.767692411621121,11.215261060357562',\n",
       "    'k': 6},\n",
       "   'NaturalBreaks': {'bins': '0.0,8.662069627843183,9.202547325805433,9.534750241400738,9.78225865293954,11.215261060357562',\n",
       "    'k': 6}}},\n",
       " 'death_per_100k_capita': {'nolog': {'Quantiles': {'bins': '131.88585878403424,196.68553155851083,252.0228146969094,309.5293777771665,388.5381253035454,1303.1299476312263',\n",
       "    'k': 6},\n",
       "   'FisherJenks': {'bins': '97.37865805598638,204.3030787947872,300.3082810672903,406.5040650406504,565.7708628005657,1303.1299476312263',\n",
       "    'k': 6},\n",
       "   'NaturalBreaks': {'bins': '100.76217542953107,208.0788890396707,306.4153285237763,416.66666666666663,577.5075987841946,1303.1299476312263',\n",
       "    'k': 6}},\n",
       "  'log': {'Quantiles': {'bins': '2.70805020110221,3.6375861597263857,4.189654742026425,4.718498871295094,5.54907608489522,10.452244597136675',\n",
       "    'k': 6},\n",
       "   'FisherJenks': {'bins': '1.0986122886681098,2.8903717578961645,4.02535169073515,5.081404364984463,6.421622267806518,10.452244597136675',\n",
       "    'k': 6},\n",
       "   'NaturalBreaks': {'bins': '1.0986122886681098,2.9444389791664403,4.04305126783455,5.093750200806762,6.440946540632921,10.452244597136675',\n",
       "    'k': 6}}}}"
      ]
     },
     "execution_count": 31,
     "metadata": {},
     "output_type": "execute_result"
    }
   ],
   "source": [
    "county_dict"
   ]
  },
  {
   "cell_type": "markdown",
   "metadata": {
    "pycharm": {
     "name": "#%% md\n"
    }
   },
   "source": [
    "### 2. For US State-level Data"
   ]
  },
  {
   "cell_type": "markdown",
   "metadata": {},
   "source": [
    "#### 2.0 Load Data"
   ]
  },
  {
   "cell_type": "code",
   "execution_count": 32,
   "metadata": {
    "pycharm": {
     "is_executing": false,
     "name": "#%%\n"
    }
   },
   "outputs": [],
   "source": [
    "state_gdf = gpd.read_file('nyt_states_data.geojson')"
   ]
  },
  {
   "cell_type": "code",
   "execution_count": 33,
   "metadata": {
    "pycharm": {
     "is_executing": false,
     "name": "#%%\n"
    }
   },
   "outputs": [
    {
     "data": {
      "text/html": [
       "<div>\n",
       "<style scoped>\n",
       "    .dataframe tbody tr th:only-of-type {\n",
       "        vertical-align: middle;\n",
       "    }\n",
       "\n",
       "    .dataframe tbody tr th {\n",
       "        vertical-align: top;\n",
       "    }\n",
       "\n",
       "    .dataframe thead th {\n",
       "        text-align: right;\n",
       "    }\n",
       "</style>\n",
       "<table border=\"1\" class=\"dataframe\">\n",
       "  <thead>\n",
       "    <tr style=\"text-align: right;\">\n",
       "      <th></th>\n",
       "      <th>index</th>\n",
       "      <th>NAME</th>\n",
       "      <th>population</th>\n",
       "      <th>fips</th>\n",
       "      <th>dt_first_case</th>\n",
       "      <th>dt_first_death</th>\n",
       "      <th>cases_ts</th>\n",
       "      <th>deaths_ts</th>\n",
       "      <th>today_case</th>\n",
       "      <th>today_new_case</th>\n",
       "      <th>today_death</th>\n",
       "      <th>today_new_death</th>\n",
       "      <th>start</th>\n",
       "      <th>end</th>\n",
       "      <th>dt_unit</th>\n",
       "      <th>change_ts</th>\n",
       "      <th>geometry</th>\n",
       "    </tr>\n",
       "  </thead>\n",
       "  <tbody>\n",
       "    <tr>\n",
       "      <th>0</th>\n",
       "      <td>0</td>\n",
       "      <td>West Virginia</td>\n",
       "      <td>1829054</td>\n",
       "      <td>54</td>\n",
       "      <td>2020-03-17</td>\n",
       "      <td>2020-03-29</td>\n",
       "      <td>0,0,0,0,0,0,0,0,0,0,0,0,0,0,0,0,0,0,0,0,0,0,0,...</td>\n",
       "      <td>0,0,0,0,0,0,0,0,0,0,0,0,0,0,0,0,0,0,0,0,0,0,0,...</td>\n",
       "      <td>278171</td>\n",
       "      <td>1038</td>\n",
       "      <td>4518</td>\n",
       "      <td>0</td>\n",
       "      <td>2020-01-21</td>\n",
       "      <td>2021-11-07</td>\n",
       "      <td>day</td>\n",
       "      <td>0,0,0,0,0,0,0,0,0,0,0,0,0,0,0,0,0,0,0,0,0,0,0,...</td>\n",
       "      <td>POLYGON ((-80.51899 40.63880, -80.51934 39.721...</td>\n",
       "    </tr>\n",
       "    <tr>\n",
       "      <th>1</th>\n",
       "      <td>1</td>\n",
       "      <td>Florida</td>\n",
       "      <td>20598139</td>\n",
       "      <td>12</td>\n",
       "      <td>2020-03-01</td>\n",
       "      <td>2020-03-06</td>\n",
       "      <td>0,0,0,0,0,0,0,0,0,0,0,0,0,0,0,0,0,0,0,0,0,0,0,...</td>\n",
       "      <td>0,0,0,0,0,0,0,0,0,0,0,0,0,0,0,0,0,0,0,0,0,0,0,...</td>\n",
       "      <td>3659255</td>\n",
       "      <td>0</td>\n",
       "      <td>60334</td>\n",
       "      <td>0</td>\n",
       "      <td>2020-01-21</td>\n",
       "      <td>2021-11-07</td>\n",
       "      <td>day</td>\n",
       "      <td>0,0,0,0,0,0,0,0,0,0,0,0,0,0,0,0,0,0,0,0,0,0,0,...</td>\n",
       "      <td>MULTIPOLYGON (((-82.98748 24.62538, -82.89993 ...</td>\n",
       "    </tr>\n",
       "    <tr>\n",
       "      <th>2</th>\n",
       "      <td>2</td>\n",
       "      <td>Illinois</td>\n",
       "      <td>12821497</td>\n",
       "      <td>17</td>\n",
       "      <td>2020-01-24</td>\n",
       "      <td>2020-03-17</td>\n",
       "      <td>0,0,0,1,1,1,1,1,1,2,2,2,2,2,2,2,2,2,2,2,2,2,2,...</td>\n",
       "      <td>0,0,0,0,0,0,0,0,0,0,0,0,0,0,0,0,0,0,0,0,0,0,0,...</td>\n",
       "      <td>1718384</td>\n",
       "      <td>0</td>\n",
       "      <td>28832</td>\n",
       "      <td>0</td>\n",
       "      <td>2020-01-21</td>\n",
       "      <td>2021-11-07</td>\n",
       "      <td>day</td>\n",
       "      <td>0,0,0,0,0,0,0,0,0,0,0,0,0,0.0,0.0,0.0,-1.0,-1....</td>\n",
       "      <td>POLYGON ((-90.64284 42.50848, -87.01994 42.493...</td>\n",
       "    </tr>\n",
       "    <tr>\n",
       "      <th>3</th>\n",
       "      <td>3</td>\n",
       "      <td>Minnesota</td>\n",
       "      <td>5527358</td>\n",
       "      <td>27</td>\n",
       "      <td>2020-03-06</td>\n",
       "      <td>2020-03-21</td>\n",
       "      <td>0,0,0,0,0,0,0,0,0,0,0,0,0,0,0,0,0,0,0,0,0,0,0,...</td>\n",
       "      <td>0,0,0,0,0,0,0,0,0,0,0,0,0,0,0,0,0,0,0,0,0,0,0,...</td>\n",
       "      <td>815132</td>\n",
       "      <td>0</td>\n",
       "      <td>8952</td>\n",
       "      <td>0</td>\n",
       "      <td>2020-01-21</td>\n",
       "      <td>2021-11-07</td>\n",
       "      <td>day</td>\n",
       "      <td>0,0,0,0,0,0,0,0,0,0,0,0,0,0,0,0,0,0,0,0,0,0,0,...</td>\n",
       "      <td>POLYGON ((-97.22872 49.00056, -95.15371 48.998...</td>\n",
       "    </tr>\n",
       "    <tr>\n",
       "      <th>4</th>\n",
       "      <td>4</td>\n",
       "      <td>Maryland</td>\n",
       "      <td>6003435</td>\n",
       "      <td>24</td>\n",
       "      <td>2020-03-05</td>\n",
       "      <td>2020-03-18</td>\n",
       "      <td>0,0,0,0,0,0,0,0,0,0,0,0,0,0,0,0,0,0,0,0,0,0,0,...</td>\n",
       "      <td>0,0,0,0,0,0,0,0,0,0,0,0,0,0,0,0,0,0,0,0,0,0,0,...</td>\n",
       "      <td>566313</td>\n",
       "      <td>727</td>\n",
       "      <td>10974</td>\n",
       "      <td>9</td>\n",
       "      <td>2020-01-21</td>\n",
       "      <td>2021-11-07</td>\n",
       "      <td>day</td>\n",
       "      <td>0,0,0,0,0,0,0,0,0,0,0,0,0,0,0,0,0,0,0,0,0,0,0,...</td>\n",
       "      <td>POLYGON ((-77.71952 39.32131, -77.76086 39.340...</td>\n",
       "    </tr>\n",
       "  </tbody>\n",
       "</table>\n",
       "</div>"
      ],
      "text/plain": [
       "   index           NAME  population fips dt_first_case dt_first_death  \\\n",
       "0      0  West Virginia     1829054   54    2020-03-17     2020-03-29   \n",
       "1      1        Florida    20598139   12    2020-03-01     2020-03-06   \n",
       "2      2       Illinois    12821497   17    2020-01-24     2020-03-17   \n",
       "3      3      Minnesota     5527358   27    2020-03-06     2020-03-21   \n",
       "4      4       Maryland     6003435   24    2020-03-05     2020-03-18   \n",
       "\n",
       "                                            cases_ts  \\\n",
       "0  0,0,0,0,0,0,0,0,0,0,0,0,0,0,0,0,0,0,0,0,0,0,0,...   \n",
       "1  0,0,0,0,0,0,0,0,0,0,0,0,0,0,0,0,0,0,0,0,0,0,0,...   \n",
       "2  0,0,0,1,1,1,1,1,1,2,2,2,2,2,2,2,2,2,2,2,2,2,2,...   \n",
       "3  0,0,0,0,0,0,0,0,0,0,0,0,0,0,0,0,0,0,0,0,0,0,0,...   \n",
       "4  0,0,0,0,0,0,0,0,0,0,0,0,0,0,0,0,0,0,0,0,0,0,0,...   \n",
       "\n",
       "                                           deaths_ts  today_case  \\\n",
       "0  0,0,0,0,0,0,0,0,0,0,0,0,0,0,0,0,0,0,0,0,0,0,0,...      278171   \n",
       "1  0,0,0,0,0,0,0,0,0,0,0,0,0,0,0,0,0,0,0,0,0,0,0,...     3659255   \n",
       "2  0,0,0,0,0,0,0,0,0,0,0,0,0,0,0,0,0,0,0,0,0,0,0,...     1718384   \n",
       "3  0,0,0,0,0,0,0,0,0,0,0,0,0,0,0,0,0,0,0,0,0,0,0,...      815132   \n",
       "4  0,0,0,0,0,0,0,0,0,0,0,0,0,0,0,0,0,0,0,0,0,0,0,...      566313   \n",
       "\n",
       "   today_new_case  today_death  today_new_death       start         end  \\\n",
       "0            1038         4518                0  2020-01-21  2021-11-07   \n",
       "1               0        60334                0  2020-01-21  2021-11-07   \n",
       "2               0        28832                0  2020-01-21  2021-11-07   \n",
       "3               0         8952                0  2020-01-21  2021-11-07   \n",
       "4             727        10974                9  2020-01-21  2021-11-07   \n",
       "\n",
       "  dt_unit                                          change_ts  \\\n",
       "0     day  0,0,0,0,0,0,0,0,0,0,0,0,0,0,0,0,0,0,0,0,0,0,0,...   \n",
       "1     day  0,0,0,0,0,0,0,0,0,0,0,0,0,0,0,0,0,0,0,0,0,0,0,...   \n",
       "2     day  0,0,0,0,0,0,0,0,0,0,0,0,0,0.0,0.0,0.0,-1.0,-1....   \n",
       "3     day  0,0,0,0,0,0,0,0,0,0,0,0,0,0,0,0,0,0,0,0,0,0,0,...   \n",
       "4     day  0,0,0,0,0,0,0,0,0,0,0,0,0,0,0,0,0,0,0,0,0,0,0,...   \n",
       "\n",
       "                                            geometry  \n",
       "0  POLYGON ((-80.51899 40.63880, -80.51934 39.721...  \n",
       "1  MULTIPOLYGON (((-82.98748 24.62538, -82.89993 ...  \n",
       "2  POLYGON ((-90.64284 42.50848, -87.01994 42.493...  \n",
       "3  POLYGON ((-97.22872 49.00056, -95.15371 48.998...  \n",
       "4  POLYGON ((-77.71952 39.32131, -77.76086 39.340...  "
      ]
     },
     "execution_count": 33,
     "metadata": {},
     "output_type": "execute_result"
    }
   ],
   "source": [
    "state_gdf.head(5)"
   ]
  },
  {
   "cell_type": "markdown",
   "metadata": {
    "pycharm": {
     "name": "#%% md\n"
    }
   },
   "source": [
    "#### 2.1 Get Constant Classes from today's data"
   ]
  },
  {
   "cell_type": "code",
   "execution_count": 34,
   "metadata": {
    "pycharm": {
     "is_executing": false,
     "name": "#%%\n"
    }
   },
   "outputs": [],
   "source": [
    "state_case = state_gdf['today_case']\n",
    "state_death = state_gdf['today_death']\n",
    "state_case_per_100k_capita = state_gdf['today_case']/(state_gdf['population']/100000)\n",
    "state_death_per_100k_capita = state_gdf['today_death']/(state_gdf['population']/100000)\n",
    "#death_case_ratio = counties_gdf['today_death']/counties_gdf['today_case']\n",
    "#death_case_ratio = death_case_ratio.replace(np.nan, 0)"
   ]
  },
  {
   "cell_type": "code",
   "execution_count": 35,
   "metadata": {
    "pycharm": {
     "is_executing": false,
     "name": "#%%\n"
    }
   },
   "outputs": [],
   "source": [
    "state_death_per_100k_capita = state_death_per_100k_capita.replace(np.nan,0)\n",
    "state_death_per_100k_capita = state_death_per_100k_capita.replace(np.inf,0)\n",
    "state_case_per_100k_capita = state_case_per_100k_capita.replace(np.nan,0)\n",
    "state_case_per_100k_capita = state_case_per_100k_capita.replace(np.inf,0)"
   ]
  },
  {
   "cell_type": "code",
   "execution_count": 36,
   "metadata": {
    "pycharm": {
     "is_executing": false,
     "name": "#%%\n"
    }
   },
   "outputs": [],
   "source": [
    "state_log_case = state_case.apply(lambda x: np.log(x + 1))\n",
    "state_log_death = state_death.apply(lambda x: np.log(x + 1))\n",
    "state_log_case_per_100k_capita = state_case_per_100k_capita.apply(lambda x: np.log(x + 1))\n",
    "state_log_death_per_100k_capita =state_death_per_100k_capita.apply(lambda x: np.log(x + 1))"
   ]
  },
  {
   "cell_type": "code",
   "execution_count": 37,
   "metadata": {
    "pycharm": {
     "is_executing": false,
     "name": "#%%\n"
    }
   },
   "outputs": [],
   "source": [
    "state_dict['case'] = {}\n",
    "state_dict['death'] = {}\n",
    "state_dict['case_per_100k_capita'] = {}\n",
    "state_dict['death_per_100k_capita'] = {}"
   ]
  },
  {
   "cell_type": "code",
   "execution_count": 38,
   "metadata": {
    "pycharm": {
     "is_executing": false,
     "name": "#%%\n"
    }
   },
   "outputs": [],
   "source": [
    "state_dict['case']['nolog'] = create_dict(state_case)\n",
    "state_dict['case']['log'] = create_dict(state_log_case)\n",
    "state_dict['death']['nolog'] = create_dict(state_death)\n",
    "state_dict['death']['log'] = create_dict(state_log_death)\n",
    "state_dict['case_per_100k_capita']['nolog'] = create_dict(state_case_per_100k_capita)\n",
    "state_dict['case_per_100k_capita']['log'] = create_dict(state_log_case_per_100k_capita)\n",
    "state_dict['death_per_100k_capita']['nolog'] = create_dict(state_death_per_100k_capita)\n",
    "state_dict['death_per_100k_capita']['log'] = create_dict(state_log_death_per_100k_capita)"
   ]
  },
  {
   "cell_type": "code",
   "execution_count": 39,
   "metadata": {},
   "outputs": [
    {
     "data": {
      "text/plain": [
       "{'case': {'nolog': {'Quantiles': {'bins': '141182.0,289282.0,560717.0,861480.0000000001,1307187.0000000014,4961782.0',\n",
       "    'k': 6},\n",
       "   'FisherJenks': {'bins': '455163,1033866,1718384,2587606,4252903,4961782',\n",
       "    'k': 6},\n",
       "   'NaturalBreaks': {'bins': '455163.0,1033866.0,1718384.0,2587606.0,4252903.0,4961782.0',\n",
       "    'k': 6}},\n",
       "  'log': {'Quantiles': {'bins': '11.857812200192459,12.575160726707395,13.236973384325214,13.66640828015091,14.083388823119181,15.417275709911614',\n",
       "    'k': 6},\n",
       "   'FisherJenks': {'bins': '5.840641657373398,10.652873279543263,12.297840193983275,13.381969996907825,14.356895454208304,15.417275709911614',\n",
       "    'k': 6},\n",
       "   'NaturalBreaks': {'bins': '5.840641657373398,10.652873279543263,12.297840193983275,13.381969996907825,14.356895454208304,15.417275709911614',\n",
       "    'k': 6}}},\n",
       " 'death': {'nolog': {'Quantiles': {'bins': '1597.0000000000005,3647.000000000003,8790.0,13841.000000000002,23951.000000000007,72698.0',\n",
       "    'k': 6},\n",
       "   'FisherJenks': {'bins': '5115,10974,21409,31898,60334,72698', 'k': 6},\n",
       "   'NaturalBreaks': {'bins': '5115.0,10974.0,21409.0,31898.0,60334.0,72698.0',\n",
       "    'k': 6}},\n",
       "  'log': {'Quantiles': {'bins': '7.37650812632622,8.201934351194224,9.081483749851179,9.535462727401809,10.083807106659412,11.194082908268824',\n",
       "    'k': 6},\n",
       "   'FisherJenks': {'bins': '1.3862943611198906,5.953243334287785,7.510977752014095,8.540128162698734,9.856815144337697,11.194082908268824',\n",
       "    'k': 6},\n",
       "   'NaturalBreaks': {'bins': '1.3862943611198906,5.953243334287785,7.510977752014095,8.540128162698734,9.856815144337697,11.194082908268824',\n",
       "    'k': 6}}},\n",
       " 'case_per_100k_capita': {'nolog': {'Quantiles': {'bins': '9466.645629351731,13189.65363884706,15170.573464577541,15783.149491827455,17341.21635890997,20190.879831321683',\n",
       "    'k': 6},\n",
       "   'FisherJenks': {'bins': '0.0,8086.055583191341,11307.232939011095,13841.12247364513,16543.806405952626,20190.879831321683',\n",
       "    'k': 6},\n",
       "   'NaturalBreaks': {'bins': '0.0,8086.055583191341,11307.232939011095,13841.12247364513,16543.806405952626,20190.879831321683',\n",
       "    'k': 6}},\n",
       "  'log': {'Quantiles': {'bins': '9.155635541685822,9.487263800120143,9.62717878908494,9.666761518756653,9.760899059866084,9.913035814021809',\n",
       "    'k': 6},\n",
       "   'FisherJenks': {'bins': '0.0,8.820452675751888,9.24669982342346,9.535471575335873,9.70118865897777,9.913035814021809',\n",
       "    'k': 6},\n",
       "   'NaturalBreaks': {'bins': '0.0,8.820452675751888,9.24669982342346,9.535471575335873,9.71382751922667,9.913035814021809',\n",
       "    'k': 6}}},\n",
       " 'death_per_100k_capita': {'nolog': {'Quantiles': {'bins': '111.7605022902084,179.8412387067501,224.8723374501433,247.01293674216288,279.28186968124015,339.538578180531',\n",
       "    'k': 6},\n",
       "   'FisherJenks': {'bins': '0.0,121.24475757628933,185.69681389653212,249.37494043747796,292.90995657423224,339.538578180531',\n",
       "    'k': 6},\n",
       "   'NaturalBreaks': {'bins': '0.0,121.24475757628933,185.69681389653212,249.37494043747796,292.90995657423224,339.538578180531',\n",
       "    'k': 6}},\n",
       "  'log': {'Quantiles': {'bins': '4.725266120742983,5.197619512141665,5.419969961129108,5.513480909087388,5.635795774242322,5.8305284177929995',\n",
       "    'k': 6},\n",
       "   'FisherJenks': {'bins': '0.0,4.225940641459762,4.806025244623948,5.229485985038013,5.561444702555646,5.8305284177929995',\n",
       "    'k': 6},\n",
       "   'NaturalBreaks': {'bins': '0.0,4.225940641459762,4.806025244623948,5.229485985038013,5.561444702555646,5.8305284177929995',\n",
       "    'k': 6}}}}"
      ]
     },
     "execution_count": 39,
     "metadata": {},
     "output_type": "execute_result"
    }
   ],
   "source": [
    "state_dict"
   ]
  },
  {
   "cell_type": "markdown",
   "metadata": {
    "pycharm": {
     "name": "#%% md\n"
    }
   },
   "source": [
    "### 7. Summary and ouput"
   ]
  },
  {
   "cell_type": "code",
   "execution_count": 40,
   "metadata": {
    "pycharm": {
     "is_executing": false,
     "name": "#%%\n"
    }
   },
   "outputs": [
    {
     "name": "stdout",
     "output_type": "stream",
     "text": [
      "done\n"
     ]
    }
   ],
   "source": [
    "import json\n",
    "total_dict['county'] = county_dict\n",
    "total_dict['state'] = state_dict\n",
    "with open('classes_nyt.json','w') as json_file:\n",
    "    json.dump(total_dict, json_file)\n",
    "print('done')"
   ]
  }
 ],
 "metadata": {
  "kernelspec": {
   "display_name": "Python 3",
   "language": "python",
   "name": "python3"
  },
  "language_info": {
   "codemirror_mode": {
    "name": "ipython",
    "version": 3
   },
   "file_extension": ".py",
   "mimetype": "text/x-python",
   "name": "python",
   "nbconvert_exporter": "python",
   "pygments_lexer": "ipython3",
   "version": "3.7.8"
  },
  "pycharm": {
   "stem_cell": {
    "cell_type": "raw",
    "metadata": {
     "collapsed": false
    },
    "source": []
   }
  }
 },
 "nbformat": 4,
 "nbformat_minor": 1
}
