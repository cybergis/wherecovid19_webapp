{
 "cells": [
  {
   "cell_type": "code",
   "execution_count": 1,
   "metadata": {
    "collapsed": true,
    "pycharm": {
     "is_executing": false
    }
   },
   "outputs": [],
   "source": [
    "import geopandas as gpd\n",
    "import numpy as np\n",
    "import mapclassify as mc\n",
    "import matplotlib.pyplot as plt"
   ]
  },
  {
   "cell_type": "code",
   "execution_count": 2,
   "outputs": [],
   "source": [
    "total_dict = {}\n",
    "county_dict = {}\n",
    "state_dict = {}\n",
    "illinois_dict = {}"
   ],
   "metadata": {
    "collapsed": false,
    "pycharm": {
     "name": "#%%\n",
     "is_executing": false
    }
   }
  },
  {
   "cell_type": "code",
   "execution_count": 3,
   "outputs": [],
   "source": [
    "dynamic_dict = {}\n",
    "dynamic_county_dict = {}\n",
    "dynamic_state_dict = {}\n",
    "dynamic_illinois_dict = {}"
   ],
   "metadata": {
    "collapsed": false,
    "pycharm": {
     "name": "#%%\n",
     "is_executing": false
    }
   }
  },
  {
   "cell_type": "markdown",
   "source": [
    "1. Read County Data"
   ],
   "metadata": {
    "collapsed": false,
    "pycharm": {
     "name": "#%% md\n"
    }
   }
  },
  {
   "cell_type": "code",
   "execution_count": 4,
   "outputs": [],
   "source": [
    "counties_gdf = gpd.read_file('nyt_counties_data.geojson')"
   ],
   "metadata": {
    "collapsed": false,
    "pycharm": {
     "name": "#%%\n",
     "is_executing": false
    }
   }
  },
  {
   "cell_type": "code",
   "execution_count": 5,
   "outputs": [
    {
     "data": {
      "text/plain": "       NAME      state_name  population   fips dt_first_case dt_first_death  \\\n0    Bladen  North Carolina       33778  37017    2020-03-29           None   \n1    Stanly  North Carolina       61114  37167    2020-03-20     2020-04-09   \n2    Summit            Ohio      541810  39153    2020-03-14     2020-03-27   \n3  Sullivan    Pennsylvania        6177  42113    2020-04-04           None   \n4    Upshur           Texas       40769  48459    2020-03-20           None   \n\n                                            cases_ts  \\\n0  0,0,0,0,0,0,0,0,0,0,0,0,0,0,0,0,0,0,0,0,0,0,0,...   \n1  0.0,0.0,0.0,0.0,0.0,0.0,0.0,0.0,0.0,0.0,0.0,0....   \n2  0.0,0.0,0.0,0.0,0.0,0.0,0.0,0.0,0.0,0.0,0.0,0....   \n3  0.0,0.0,0.0,0.0,0.0,0.0,0.0,0.0,0.0,0.0,0.0,0....   \n4  0.0,0.0,0.0,0.0,0.0,0.0,0.0,0.0,0.0,0.0,0.0,0....   \n\n                                           deaths_ts  today_case  \\\n0  0.0,0.0,0.0,0.0,0.0,0.0,0.0,0.0,0.0,0.0,0.0,0....        10.0   \n1  0.0,0.0,0.0,0.0,0.0,0.0,0.0,0.0,0.0,0.0,0.0,0....        29.0   \n2  0.0,0.0,0.0,0.0,0.0,0.0,0.0,0.0,0.0,0.0,0.0,0....       500.0   \n3  0.0,0.0,0.0,0.0,0.0,0.0,0.0,0.0,0.0,0.0,0.0,0....         1.0   \n4  0.0,0.0,0.0,0.0,0.0,0.0,0.0,0.0,0.0,0.0,0.0,0....        13.0   \n\n   today_new_case  today_death  today_new_death    dt_start      dt_end  \\\n0             0.0          0.0              0.0  2020-01-21  2020-04-27   \n1             1.0          4.0              0.0  2020-01-21  2020-04-27   \n2            15.0         39.0              1.0  2020-01-21  2020-04-27   \n3             0.0          0.0              0.0  2020-01-21  2020-04-27   \n4             0.0          0.0              0.0  2020-01-21  2020-04-27   \n\n  dt_unit                                           geometry  \n0     day  MULTIPOLYGON (((-78.90200 34.83527, -78.79960 ...  \n1     day  MULTIPOLYGON (((-80.49738 35.20210, -80.29542 ...  \n2     day  MULTIPOLYGON (((-81.68699 41.13596, -81.68495 ...  \n3     day  MULTIPOLYGON (((-76.81373 41.59003, -76.22014 ...  \n4     day  MULTIPOLYGON (((-95.15274 32.66095, -95.15211 ...  ",
      "text/html": "<div>\n<style scoped>\n    .dataframe tbody tr th:only-of-type {\n        vertical-align: middle;\n    }\n\n    .dataframe tbody tr th {\n        vertical-align: top;\n    }\n\n    .dataframe thead th {\n        text-align: right;\n    }\n</style>\n<table border=\"1\" class=\"dataframe\">\n  <thead>\n    <tr style=\"text-align: right;\">\n      <th></th>\n      <th>NAME</th>\n      <th>state_name</th>\n      <th>population</th>\n      <th>fips</th>\n      <th>dt_first_case</th>\n      <th>dt_first_death</th>\n      <th>cases_ts</th>\n      <th>deaths_ts</th>\n      <th>today_case</th>\n      <th>today_new_case</th>\n      <th>today_death</th>\n      <th>today_new_death</th>\n      <th>dt_start</th>\n      <th>dt_end</th>\n      <th>dt_unit</th>\n      <th>geometry</th>\n    </tr>\n  </thead>\n  <tbody>\n    <tr>\n      <th>0</th>\n      <td>Bladen</td>\n      <td>North Carolina</td>\n      <td>33778</td>\n      <td>37017</td>\n      <td>2020-03-29</td>\n      <td>None</td>\n      <td>0,0,0,0,0,0,0,0,0,0,0,0,0,0,0,0,0,0,0,0,0,0,0,...</td>\n      <td>0.0,0.0,0.0,0.0,0.0,0.0,0.0,0.0,0.0,0.0,0.0,0....</td>\n      <td>10.0</td>\n      <td>0.0</td>\n      <td>0.0</td>\n      <td>0.0</td>\n      <td>2020-01-21</td>\n      <td>2020-04-27</td>\n      <td>day</td>\n      <td>MULTIPOLYGON (((-78.90200 34.83527, -78.79960 ...</td>\n    </tr>\n    <tr>\n      <th>1</th>\n      <td>Stanly</td>\n      <td>North Carolina</td>\n      <td>61114</td>\n      <td>37167</td>\n      <td>2020-03-20</td>\n      <td>2020-04-09</td>\n      <td>0.0,0.0,0.0,0.0,0.0,0.0,0.0,0.0,0.0,0.0,0.0,0....</td>\n      <td>0.0,0.0,0.0,0.0,0.0,0.0,0.0,0.0,0.0,0.0,0.0,0....</td>\n      <td>29.0</td>\n      <td>1.0</td>\n      <td>4.0</td>\n      <td>0.0</td>\n      <td>2020-01-21</td>\n      <td>2020-04-27</td>\n      <td>day</td>\n      <td>MULTIPOLYGON (((-80.49738 35.20210, -80.29542 ...</td>\n    </tr>\n    <tr>\n      <th>2</th>\n      <td>Summit</td>\n      <td>Ohio</td>\n      <td>541810</td>\n      <td>39153</td>\n      <td>2020-03-14</td>\n      <td>2020-03-27</td>\n      <td>0.0,0.0,0.0,0.0,0.0,0.0,0.0,0.0,0.0,0.0,0.0,0....</td>\n      <td>0.0,0.0,0.0,0.0,0.0,0.0,0.0,0.0,0.0,0.0,0.0,0....</td>\n      <td>500.0</td>\n      <td>15.0</td>\n      <td>39.0</td>\n      <td>1.0</td>\n      <td>2020-01-21</td>\n      <td>2020-04-27</td>\n      <td>day</td>\n      <td>MULTIPOLYGON (((-81.68699 41.13596, -81.68495 ...</td>\n    </tr>\n    <tr>\n      <th>3</th>\n      <td>Sullivan</td>\n      <td>Pennsylvania</td>\n      <td>6177</td>\n      <td>42113</td>\n      <td>2020-04-04</td>\n      <td>None</td>\n      <td>0.0,0.0,0.0,0.0,0.0,0.0,0.0,0.0,0.0,0.0,0.0,0....</td>\n      <td>0.0,0.0,0.0,0.0,0.0,0.0,0.0,0.0,0.0,0.0,0.0,0....</td>\n      <td>1.0</td>\n      <td>0.0</td>\n      <td>0.0</td>\n      <td>0.0</td>\n      <td>2020-01-21</td>\n      <td>2020-04-27</td>\n      <td>day</td>\n      <td>MULTIPOLYGON (((-76.81373 41.59003, -76.22014 ...</td>\n    </tr>\n    <tr>\n      <th>4</th>\n      <td>Upshur</td>\n      <td>Texas</td>\n      <td>40769</td>\n      <td>48459</td>\n      <td>2020-03-20</td>\n      <td>None</td>\n      <td>0.0,0.0,0.0,0.0,0.0,0.0,0.0,0.0,0.0,0.0,0.0,0....</td>\n      <td>0.0,0.0,0.0,0.0,0.0,0.0,0.0,0.0,0.0,0.0,0.0,0....</td>\n      <td>13.0</td>\n      <td>0.0</td>\n      <td>0.0</td>\n      <td>0.0</td>\n      <td>2020-01-21</td>\n      <td>2020-04-27</td>\n      <td>day</td>\n      <td>MULTIPOLYGON (((-95.15274 32.66095, -95.15211 ...</td>\n    </tr>\n  </tbody>\n</table>\n</div>"
     },
     "metadata": {},
     "output_type": "execute_result",
     "execution_count": 5
    }
   ],
   "source": [
    "counties_gdf.head(5)"
   ],
   "metadata": {
    "collapsed": false,
    "pycharm": {
     "name": "#%%\n",
     "is_executing": false
    }
   }
  },
  {
   "cell_type": "code",
   "execution_count": 6,
   "outputs": [],
   "source": [
    "case = counties_gdf['today_case']\n",
    "death = counties_gdf['today_death']\n",
    "case_per_100k_capita = counties_gdf['today_case']/(counties_gdf['population']/100000)\n",
    "death_per_100k_capita = counties_gdf['today_death']/(counties_gdf['population']/100000)\n",
    "death_case_ratio = counties_gdf['today_death']/counties_gdf['today_case']\n",
    "death_case_ratio = death_case_ratio.replace(np.nan, 0)"
   ],
   "metadata": {
    "collapsed": false,
    "pycharm": {
     "name": "#%%\n",
     "is_executing": false
    }
   }
  },
  {
   "cell_type": "code",
   "execution_count": 7,
   "outputs": [],
   "source": [
    "log_case = case.apply(lambda x: np.log(x + 1))\n",
    "log_death = death.apply(lambda x: np.log(x + 1))\n",
    "log_case_per_100k_capita = case_per_100k_capita.apply(lambda x: np.log(x + 1))\n",
    "log_death_per_100k_capita = death.apply(lambda x: np.log(x + 1))\n",
    "\n"
   ],
   "metadata": {
    "collapsed": false,
    "pycharm": {
     "name": "#%%\n",
     "is_executing": false
    }
   }
  },
  {
   "cell_type": "markdown",
   "source": [
    "1.1 Get Constant Classes from today's data"
   ],
   "metadata": {
    "collapsed": false,
    "pycharm": {
     "name": "#%% md\n"
    }
   }
  },
  {
   "cell_type": "code",
   "execution_count": 8,
   "outputs": [],
   "source": [
    "def create_dict(column,name,dict):\n",
    "    tmp_dict = {}\n",
    "    tmp_dict['Quantiles'] = {\n",
    "        'bins': ','.join(mc.Quantiles(column, k=6).bins.astype(str)),\n",
    "        'k': 6\n",
    "    }\n",
    "    tmp_dict['FisherJenks'] = {\n",
    "        'bins': ','.join(mc.FisherJenks(column, k=6).bins.astype(str)),\n",
    "        'k': 6\n",
    "    }\n",
    "    tmp_dict['NaturalBreaks'] = {\n",
    "        'bins': ','.join(mc.NaturalBreaks(column, k=6).bins.astype(str)),\n",
    "        'k': 6\n",
    "    }\n",
    "    dict[name] = tmp_dict"
   ],
   "metadata": {
    "collapsed": false,
    "pycharm": {
     "name": "#%%\n",
     "is_executing": false
    }
   }
  },
  {
   "cell_type": "code",
   "execution_count": 9,
   "outputs": [
    {
     "name": "stderr",
     "text": [
      "C:\\Users\\Jason\\Anaconda3\\lib\\site-packages\\mapclassify\\classifiers.py:237: UserWarning: Warning: Not enough unique values in array to form k classes\n  \"Warning: Not enough unique values in array to form k classes\", UserWarning\nC:\\Users\\Jason\\Anaconda3\\lib\\site-packages\\mapclassify\\classifiers.py:239: UserWarning: Warning: setting k to 4\n  Warn(\"Warning: setting k to %d\" % k_q, UserWarning)\n",
      "C:\\Users\\Jason\\Anaconda3\\lib\\site-packages\\mapclassify\\classifiers.py:237: UserWarning: Warning: Not enough unique values in array to form k classes\n  \"Warning: Not enough unique values in array to form k classes\", UserWarning\nC:\\Users\\Jason\\Anaconda3\\lib\\site-packages\\mapclassify\\classifiers.py:239: UserWarning: Warning: setting k to 4\n  Warn(\"Warning: setting k to %d\" % k_q, UserWarning)\n"
     ],
     "output_type": "stream"
    }
   ],
   "source": [
    "create_dict(case,'case',county_dict)\n",
    "create_dict(log_case,'log_case',county_dict)\n",
    "create_dict(log_death,'log_death',county_dict)\n",
    "create_dict(log_case_per_100k_capita,\"log_case_per_100k_capita\",county_dict)\n",
    "create_dict(log_death_per_100k_capita,\"log_death_per_100k_capita\",county_dict)"
   ],
   "metadata": {
    "collapsed": false,
    "pycharm": {
     "name": "#%%\n",
     "is_executing": false
    }
   }
  },
  {
   "cell_type": "code",
   "execution_count": 10,
   "outputs": [
    {
     "name": "stderr",
     "text": [
      "C:\\Users\\Jason\\Anaconda3\\lib\\site-packages\\mapclassify\\classifiers.py:237: UserWarning: Warning: Not enough unique values in array to form k classes\n  \"Warning: Not enough unique values in array to form k classes\", UserWarning\nC:\\Users\\Jason\\Anaconda3\\lib\\site-packages\\mapclassify\\classifiers.py:239: UserWarning: Warning: setting k to 4\n  Warn(\"Warning: setting k to %d\" % k_q, UserWarning)\n"
     ],
     "output_type": "stream"
    }
   ],
   "source": [
    "create_dict(death,'death',county_dict)"
   ],
   "metadata": {
    "collapsed": false,
    "pycharm": {
     "name": "#%%\n",
     "is_executing": false
    }
   }
  },
  {
   "cell_type": "code",
   "execution_count": 11,
   "outputs": [],
   "source": [
    "create_dict(case_per_100k_capita,'case_per_100k_capita',county_dict)"
   ],
   "metadata": {
    "collapsed": false,
    "pycharm": {
     "name": "#%%\n",
     "is_executing": false
    }
   }
  },
  {
   "cell_type": "code",
   "execution_count": 12,
   "outputs": [
    {
     "name": "stderr",
     "text": [
      "C:\\Users\\Jason\\Anaconda3\\lib\\site-packages\\mapclassify\\classifiers.py:237: UserWarning: Warning: Not enough unique values in array to form k classes\n  \"Warning: Not enough unique values in array to form k classes\", UserWarning\nC:\\Users\\Jason\\Anaconda3\\lib\\site-packages\\mapclassify\\classifiers.py:239: UserWarning: Warning: setting k to 4\n  Warn(\"Warning: setting k to %d\" % k_q, UserWarning)\n"
     ],
     "output_type": "stream"
    }
   ],
   "source": [
    "create_dict(death_per_100k_capita,'death_per_100k_capita',county_dict)"
   ],
   "metadata": {
    "collapsed": false,
    "pycharm": {
     "name": "#%%\n",
     "is_executing": false
    }
   }
  },
  {
   "cell_type": "code",
   "execution_count": 13,
   "outputs": [
    {
     "name": "stderr",
     "text": [
      "C:\\Users\\Jason\\Anaconda3\\lib\\site-packages\\mapclassify\\classifiers.py:237: UserWarning: Warning: Not enough unique values in array to form k classes\n  \"Warning: Not enough unique values in array to form k classes\", UserWarning\nC:\\Users\\Jason\\Anaconda3\\lib\\site-packages\\mapclassify\\classifiers.py:239: UserWarning: Warning: setting k to 4\n  Warn(\"Warning: setting k to %d\" % k_q, UserWarning)\n"
     ],
     "output_type": "stream"
    }
   ],
   "source": [
    "create_dict(death_case_ratio,'death_case_ratio',county_dict)"
   ],
   "metadata": {
    "collapsed": false,
    "pycharm": {
     "name": "#%%\n",
     "is_executing": false
    }
   }
  },
  {
   "cell_type": "code",
   "execution_count": 14,
   "outputs": [
    {
     "data": {
      "text/plain": "{'case': {'Quantiles': {'bins': '1.0,5.0,13.0,38.0,138.0,160499.0', 'k': 6},\n  'FisherJenks': {'bins': '1140.0,3892.0,8253.0,20417.0,34865.0,160499.0',\n   'k': 6},\n  'NaturalBreaks': {'bins': '1130.0,3892.0,8253.0,20417.0,34865.0,160499.0',\n   'k': 6}},\n 'log_case': {'Quantiles': {'bins': '0.6931471805599453,1.791759469228055,2.6390573296152584,3.6635616461296463,4.9344739331306915,11.986049221552207',\n   'k': 6},\n  'FisherJenks': {'bins': '0.6931471805599453,2.1972245773362196,3.5263605246161616,4.955827057601261,6.878326468291325,11.986049221552207',\n   'k': 6},\n  'NaturalBreaks': {'bins': '0.6931471805599453,2.1972245773362196,3.4965075614664802,4.912654885736052,6.8308742346461795,11.986049221552207',\n   'k': 6}},\n 'log_death': {'Quantiles': {'bins': '0.0,0.6931471805599453,1.9459101490553132,9.380758024267314',\n   'k': 6},\n  'FisherJenks': {'bins': '0.0,1.0986122886681098,2.1972245773362196,3.4011973816621555,5.056245805348308,9.380758024267314',\n   'k': 6},\n  'NaturalBreaks': {'bins': '0.0,1.0986122886681098,2.1972245773362196,3.4011973816621555,5.056245805348308,9.380758024267314',\n   'k': 6}},\n 'log_case_per_100k_capita': {'Quantiles': {'bins': '2.187049608789485,3.374263840832319,3.932968033598779,4.46990390828986,5.228067959650778,9.439870741565919',\n   'k': 6},\n  'FisherJenks': {'bins': '1.2521383198399145,3.0655492999265124,3.9756748121656766,4.870908907930953,6.0385929208037625,9.439870741565919',\n   'k': 6},\n  'NaturalBreaks': {'bins': '1.2521383198399145,3.0789869678455526,3.9887720698809157,4.880785411954211,6.0385929208037625,9.439870741565919',\n   'k': 6}},\n 'log_death_per_100k_capita': {'Quantiles': {'bins': '0.0,0.6931471805599453,1.9459101490553132,9.380758024267314',\n   'k': 6},\n  'FisherJenks': {'bins': '0.0,1.0986122886681098,2.1972245773362196,3.4011973816621555,5.056245805348308,9.380758024267314',\n   'k': 6},\n  'NaturalBreaks': {'bins': '0.0,1.0986122886681098,2.1972245773362196,3.4011973816621555,5.056245805348308,9.380758024267314',\n   'k': 6}},\n 'death': {'Quantiles': {'bins': '0.0,1.0,6.0,11857.0', 'k': 6},\n  'FisherJenks': {'bins': '63.0,267.0,727.0,1347.0,2003.0,11857.0', 'k': 6},\n  'NaturalBreaks': {'bins': '65.0,267.0,727.0,1347.0,2003.0,11857.0', 'k': 6}},\n 'case_per_100k_capita': {'Quantiles': {'bins': '7.908889591901311,28.202777973630408,50.05829573680742,86.34832915983077,185.43226069062217,12579.090718625603',\n   'k': 6},\n  'FisherJenks': {'bins': '149.13657770800629,496.91569568197394,1247.64919040411,2570.0962136692406,5505.658999634904,12579.090718625603',\n   'k': 6},\n  'NaturalBreaks': {'bins': '149.13657770800629,496.91569568197394,1247.64919040411,2570.0962136692406,5505.658999634904,12579.090718625603',\n   'k': 6}},\n 'death_per_100k_capita': {'Quantiles': {'bins': '0.0,2.5261775144939467,7.764276563531194,419.02367483762833',\n   'k': 6},\n  'FisherJenks': {'bins': '5.302742401612034,18.606381989022236,44.01281190466246,86.89769284641528,203.1832035218422,419.02367483762833',\n   'k': 6},\n  'NaturalBreaks': {'bins': '5.09061290979434,17.94043774668102,42.39426668012516,86.89769284641528,203.1832035218422,419.02367483762833',\n   'k': 6}},\n 'death_case_ratio': {'Quantiles': {'bins': '0.0,0.02857142857142857,0.06280373831775707,1.0',\n   'k': 6},\n  'FisherJenks': {'bins': '0.023809523809523808,0.07317073170731707,0.15,0.3,0.6666666666666666,1.0',\n   'k': 6},\n  'NaturalBreaks': {'bins': '0.024806201550387597,0.07894736842105263,0.17333333333333334,0.3333333333333333,0.6666666666666666,1.0',\n   'k': 6}}}"
     },
     "metadata": {},
     "output_type": "execute_result",
     "execution_count": 14
    }
   ],
   "source": [
    "county_dict"
   ],
   "metadata": {
    "collapsed": false,
    "pycharm": {
     "name": "#%%\n",
     "is_executing": false
    }
   }
  },
  {
   "cell_type": "markdown",
   "source": [
    "1.2 Create Dynamic classes"
   ],
   "metadata": {
    "collapsed": false,
    "pycharm": {
     "name": "#%% md\n"
    }
   }
  },
  {
   "cell_type": "code",
   "execution_count": 15,
   "outputs": [],
   "source": [
    "case_ts = counties_gdf['cases_ts'].apply(lambda x: x.split(','))\n",
    "death_ts = counties_gdf['deaths_ts'].apply(lambda x: x.split(','))"
   ],
   "metadata": {
    "collapsed": false,
    "pycharm": {
     "name": "#%%\n",
     "is_executing": false
    }
   }
  },
  {
   "cell_type": "code",
   "execution_count": 16,
   "outputs": [],
   "source": [
    "length = len(case_ts[1])"
   ],
   "metadata": {
    "collapsed": false,
    "pycharm": {
     "name": "#%%\n",
     "is_executing": false
    }
   }
  },
  {
   "cell_type": "code",
   "execution_count": 17,
   "outputs": [
    {
     "name": "stderr",
     "text": [
      "C:\\Users\\Jason\\Anaconda3\\lib\\site-packages\\mapclassify\\classifiers.py:237: UserWarning: Warning: Not enough unique values in array to form k classes\n  \"Warning: Not enough unique values in array to form k classes\", UserWarning\nC:\\Users\\Jason\\Anaconda3\\lib\\site-packages\\mapclassify\\classifiers.py:239: UserWarning: Warning: setting k to 1\n  Warn(\"Warning: setting k to %d\" % k_q, UserWarning)\nC:\\Users\\Jason\\Anaconda3\\lib\\site-packages\\mapclassify\\classifiers.py:890: RuntimeWarning: invalid value encountered in double_scalars\n  gadf = 1 - self.adcm / adam\nC:\\Users\\Jason\\Anaconda3\\lib\\site-packages\\mapclassify\\classifiers.py:239: UserWarning: Warning: setting k to 2\n  Warn(\"Warning: setting k to %d\" % k_q, UserWarning)\n",
      "C:\\Users\\Jason\\Anaconda3\\lib\\site-packages\\mapclassify\\classifiers.py:239: UserWarning: Warning: setting k to 3\n  Warn(\"Warning: setting k to %d\" % k_q, UserWarning)\nC:\\Users\\Jason\\Anaconda3\\lib\\site-packages\\mapclassify\\classifiers.py:239: UserWarning: Warning: setting k to 4\n  Warn(\"Warning: setting k to %d\" % k_q, UserWarning)\n"
     ],
     "output_type": "stream"
    }
   ],
   "source": [
    "new_case_dict = {}\n",
    "for i in range(1,length):\n",
    "    q6 = mc.Quantiles(case_ts.apply(lambda x: int(float(x[i]) - float(x[i - 1]))).values, k=6)\n",
    "    new_case_dict[i] = ','.join(q6.bins.astype(int).astype(str))"
   ],
   "metadata": {
    "collapsed": false,
    "pycharm": {
     "name": "#%%\n",
     "is_executing": false
    }
   }
  },
  {
   "cell_type": "code",
   "execution_count": 18,
   "outputs": [],
   "source": [
    "new_death_dict = {}\n",
    "for i in range(1,length):\n",
    "    d6 = mc.Quantiles(death_ts.apply(lambda x: int(float(x[i]) - float(x[i - 1]))).values, k=6)\n",
    "    new_death_dict[i] = ','.join(d6.bins.astype(int).astype(str))"
   ],
   "metadata": {
    "collapsed": false,
    "pycharm": {
     "name": "#%%\n",
     "is_executing": false
    }
   }
  },
  {
   "cell_type": "code",
   "execution_count": 19,
   "outputs": [],
   "source": [
    "dynamic_county_dict['new_case'] = new_case_dict\n",
    "dynamic_county_dict['new_death'] = new_death_dict\n"
   ],
   "metadata": {
    "collapsed": false,
    "pycharm": {
     "name": "#%%\n",
     "is_executing": false
    }
   }
  },
  {
   "cell_type": "markdown",
   "source": [
    "2.Read State Data"
   ],
   "metadata": {
    "collapsed": false,
    "pycharm": {
     "name": "#%% md\n"
    }
   }
  },
  {
   "cell_type": "code",
   "execution_count": 20,
   "outputs": [],
   "source": [
    "state_gdf = gpd.read_file('nyt_states_data.geojson')"
   ],
   "metadata": {
    "collapsed": false,
    "pycharm": {
     "name": "#%%\n",
     "is_executing": false
    }
   }
  },
  {
   "cell_type": "code",
   "execution_count": 21,
   "outputs": [
    {
     "data": {
      "text/plain": "            NAME  population fips dt_first_case dt_first_death  \\\n0  West Virginia     1829054   54    2020-03-17     2020-03-29   \n1        Florida    20598139   12    2020-03-01     2020-03-06   \n2       Illinois    12821497   17    2020-01-24     2020-03-17   \n3      Minnesota     5527358   27    2020-03-06     2020-03-21   \n4       Maryland     6003435   24    2020-03-05     2020-03-18   \n\n                                            cases_ts  \\\n0  0.0,0.0,0.0,0.0,0.0,0.0,0.0,0.0,0.0,0.0,0.0,0....   \n1  0.0,0.0,0.0,0.0,0.0,0.0,0.0,0.0,0.0,0.0,0.0,0....   \n2  0.0,0.0,0.0,1.0,1.0,1.0,1.0,1.0,1.0,2.0,2.0,2....   \n3  0.0,0.0,0.0,0.0,0.0,0.0,0.0,0.0,0.0,0.0,0.0,0....   \n4  0.0,0.0,0.0,0.0,0.0,0.0,0.0,0.0,0.0,0.0,0.0,0....   \n\n                                           deaths_ts  today_case  \\\n0  0.0,0.0,0.0,0.0,0.0,0.0,0.0,0.0,0.0,0.0,0.0,0....      1077.0   \n1  0.0,0.0,0.0,0.0,0.0,0.0,0.0,0.0,0.0,0.0,0.0,0....     32130.0   \n2  0.0,0.0,0.0,0.0,0.0,0.0,0.0,0.0,0.0,0.0,0.0,0....     45883.0   \n3  0.0,0.0,0.0,0.0,0.0,0.0,0.0,0.0,0.0,0.0,0.0,0....      3816.0   \n4  0.0,0.0,0.0,0.0,0.0,0.0,0.0,0.0,0.0,0.0,0.0,0....     19487.0   \n\n   today_new_case  today_death  today_new_death    dt_start      dt_end  \\\n0            24.0         37.0              3.0  2020-01-21  2020-04-27   \n1           610.0       1087.0             14.0  2020-01-21  2020-04-27   \n2          1980.0       1992.0             49.0  2020-01-21  2020-04-27   \n3           214.0        286.0             14.0  2020-01-21  2020-04-27   \n4           906.0        858.0             31.0  2020-01-21  2020-04-27   \n\n  dt_unit                                           geometry  \n0     day  POLYGON ((-80.51899 40.63880, -80.51934 39.721...  \n1     day  MULTIPOLYGON (((-82.98748 24.62538, -82.89993 ...  \n2     day  POLYGON ((-90.64284 42.50848, -87.01994 42.493...  \n3     day  POLYGON ((-97.22872 49.00056, -95.15371 48.998...  \n4     day  POLYGON ((-77.71952 39.32131, -77.76086 39.340...  ",
      "text/html": "<div>\n<style scoped>\n    .dataframe tbody tr th:only-of-type {\n        vertical-align: middle;\n    }\n\n    .dataframe tbody tr th {\n        vertical-align: top;\n    }\n\n    .dataframe thead th {\n        text-align: right;\n    }\n</style>\n<table border=\"1\" class=\"dataframe\">\n  <thead>\n    <tr style=\"text-align: right;\">\n      <th></th>\n      <th>NAME</th>\n      <th>population</th>\n      <th>fips</th>\n      <th>dt_first_case</th>\n      <th>dt_first_death</th>\n      <th>cases_ts</th>\n      <th>deaths_ts</th>\n      <th>today_case</th>\n      <th>today_new_case</th>\n      <th>today_death</th>\n      <th>today_new_death</th>\n      <th>dt_start</th>\n      <th>dt_end</th>\n      <th>dt_unit</th>\n      <th>geometry</th>\n    </tr>\n  </thead>\n  <tbody>\n    <tr>\n      <th>0</th>\n      <td>West Virginia</td>\n      <td>1829054</td>\n      <td>54</td>\n      <td>2020-03-17</td>\n      <td>2020-03-29</td>\n      <td>0.0,0.0,0.0,0.0,0.0,0.0,0.0,0.0,0.0,0.0,0.0,0....</td>\n      <td>0.0,0.0,0.0,0.0,0.0,0.0,0.0,0.0,0.0,0.0,0.0,0....</td>\n      <td>1077.0</td>\n      <td>24.0</td>\n      <td>37.0</td>\n      <td>3.0</td>\n      <td>2020-01-21</td>\n      <td>2020-04-27</td>\n      <td>day</td>\n      <td>POLYGON ((-80.51899 40.63880, -80.51934 39.721...</td>\n    </tr>\n    <tr>\n      <th>1</th>\n      <td>Florida</td>\n      <td>20598139</td>\n      <td>12</td>\n      <td>2020-03-01</td>\n      <td>2020-03-06</td>\n      <td>0.0,0.0,0.0,0.0,0.0,0.0,0.0,0.0,0.0,0.0,0.0,0....</td>\n      <td>0.0,0.0,0.0,0.0,0.0,0.0,0.0,0.0,0.0,0.0,0.0,0....</td>\n      <td>32130.0</td>\n      <td>610.0</td>\n      <td>1087.0</td>\n      <td>14.0</td>\n      <td>2020-01-21</td>\n      <td>2020-04-27</td>\n      <td>day</td>\n      <td>MULTIPOLYGON (((-82.98748 24.62538, -82.89993 ...</td>\n    </tr>\n    <tr>\n      <th>2</th>\n      <td>Illinois</td>\n      <td>12821497</td>\n      <td>17</td>\n      <td>2020-01-24</td>\n      <td>2020-03-17</td>\n      <td>0.0,0.0,0.0,1.0,1.0,1.0,1.0,1.0,1.0,2.0,2.0,2....</td>\n      <td>0.0,0.0,0.0,0.0,0.0,0.0,0.0,0.0,0.0,0.0,0.0,0....</td>\n      <td>45883.0</td>\n      <td>1980.0</td>\n      <td>1992.0</td>\n      <td>49.0</td>\n      <td>2020-01-21</td>\n      <td>2020-04-27</td>\n      <td>day</td>\n      <td>POLYGON ((-90.64284 42.50848, -87.01994 42.493...</td>\n    </tr>\n    <tr>\n      <th>3</th>\n      <td>Minnesota</td>\n      <td>5527358</td>\n      <td>27</td>\n      <td>2020-03-06</td>\n      <td>2020-03-21</td>\n      <td>0.0,0.0,0.0,0.0,0.0,0.0,0.0,0.0,0.0,0.0,0.0,0....</td>\n      <td>0.0,0.0,0.0,0.0,0.0,0.0,0.0,0.0,0.0,0.0,0.0,0....</td>\n      <td>3816.0</td>\n      <td>214.0</td>\n      <td>286.0</td>\n      <td>14.0</td>\n      <td>2020-01-21</td>\n      <td>2020-04-27</td>\n      <td>day</td>\n      <td>POLYGON ((-97.22872 49.00056, -95.15371 48.998...</td>\n    </tr>\n    <tr>\n      <th>4</th>\n      <td>Maryland</td>\n      <td>6003435</td>\n      <td>24</td>\n      <td>2020-03-05</td>\n      <td>2020-03-18</td>\n      <td>0.0,0.0,0.0,0.0,0.0,0.0,0.0,0.0,0.0,0.0,0.0,0....</td>\n      <td>0.0,0.0,0.0,0.0,0.0,0.0,0.0,0.0,0.0,0.0,0.0,0....</td>\n      <td>19487.0</td>\n      <td>906.0</td>\n      <td>858.0</td>\n      <td>31.0</td>\n      <td>2020-01-21</td>\n      <td>2020-04-27</td>\n      <td>day</td>\n      <td>POLYGON ((-77.71952 39.32131, -77.76086 39.340...</td>\n    </tr>\n  </tbody>\n</table>\n</div>"
     },
     "metadata": {},
     "output_type": "execute_result",
     "execution_count": 21
    }
   ],
   "source": [
    "state_gdf.head(5)"
   ],
   "metadata": {
    "collapsed": false,
    "pycharm": {
     "name": "#%%\n",
     "is_executing": false
    }
   }
  },
  {
   "cell_type": "code",
   "execution_count": 22,
   "outputs": [
    {
     "data": {
      "text/plain": "NAME                                                  Virgin Islands\npopulation                                                         0\nfips                                                              78\ndt_first_case                                             2020-03-14\ndt_first_death                                            2020-04-06\ncases_ts           0.0,0.0,0.0,0.0,0.0,0.0,0.0,0.0,0.0,0.0,0.0,0....\ndeaths_ts          0.0,0.0,0.0,0.0,0.0,0.0,0.0,0.0,0.0,0.0,0.0,0....\ntoday_case                                                        59\ntoday_new_case                                                     2\ntoday_death                                                        4\ntoday_new_death                                                    0\ndt_start                                                  2020-01-21\ndt_end                                                    2020-04-27\ndt_unit                                                          day\ngeometry           (POLYGON ((-64.95671400000001 17.678977, -64.9...\nName: 34, dtype: object"
     },
     "metadata": {},
     "output_type": "execute_result",
     "execution_count": 22
    }
   ],
   "source": [
    "state_gdf.iloc[34]"
   ],
   "metadata": {
    "collapsed": false,
    "pycharm": {
     "name": "#%%\n",
     "is_executing": false
    }
   }
  },
  {
   "cell_type": "code",
   "execution_count": 23,
   "outputs": [],
   "source": [
    "state_case = state_gdf['today_case']\n",
    "state_death = state_gdf['today_death']\n",
    "state_case_per_100k_capita = state_gdf['today_case']/(state_gdf['population']/100000)\n",
    "state_death_per_100k_capita = state_gdf['today_death']/(state_gdf['population']/100000)\n",
    "#death_case_ratio = counties_gdf['today_death']/counties_gdf['today_case']\n",
    "#death_case_ratio = death_case_ratio.replace(np.nan, 0)"
   ],
   "metadata": {
    "collapsed": false,
    "pycharm": {
     "name": "#%%\n",
     "is_executing": false
    }
   }
  },
  {
   "cell_type": "code",
   "execution_count": 24,
   "outputs": [],
   "source": [
    "state_death_per_100k_capita = state_death_per_100k_capita.replace(np.nan,0)\n",
    "state_death_per_100k_capita = state_death_per_100k_capita.replace(np.inf,0)\n",
    "state_case_per_100k_capita = state_case_per_100k_capita.replace(np.nan,0)\n",
    "state_case_per_100k_capita = state_case_per_100k_capita.replace(np.inf,0)"
   ],
   "metadata": {
    "collapsed": false,
    "pycharm": {
     "name": "#%%\n",
     "is_executing": false
    }
   }
  },
  {
   "cell_type": "code",
   "execution_count": 25,
   "outputs": [
    {
     "name": "stderr",
     "text": [
      "C:\\Users\\Jason\\Anaconda3\\lib\\site-packages\\mapclassify\\classifiers.py:419: RuntimeWarning: invalid value encountered in greater\n  binIds += (x > l) * (x <= r) * k\nC:\\Users\\Jason\\Anaconda3\\lib\\site-packages\\mapclassify\\classifiers.py:419: RuntimeWarning: invalid value encountered in less_equal\n  binIds += (x > l) * (x <= r) * k\nC:\\Users\\Jason\\Anaconda3\\lib\\site-packages\\numpy\\lib\\function_base.py:3405: RuntimeWarning: Invalid value encountered in median\n  r = func(a, **kwargs)\n"
     ],
     "output_type": "stream"
    },
    {
     "traceback": [
      "\u001b[1;31m---------------------------------------------------------------------------\u001b[0m",
      "\u001b[1;31mValueError\u001b[0m                                Traceback (most recent call last)",
      "\u001b[1;32m<ipython-input-25-ed5f8b27b0a5>\u001b[0m in \u001b[0;36m<module>\u001b[1;34m\u001b[0m\n\u001b[1;32m----> 1\u001b[1;33m \u001b[0mcreate_dict\u001b[0m\u001b[1;33m(\u001b[0m\u001b[0mstate_case\u001b[0m\u001b[1;33m,\u001b[0m\u001b[1;34m'case'\u001b[0m\u001b[1;33m,\u001b[0m\u001b[0mstate_dict\u001b[0m\u001b[1;33m)\u001b[0m\u001b[1;33m\u001b[0m\u001b[1;33m\u001b[0m\u001b[0m\n\u001b[0m\u001b[0;32m      2\u001b[0m \u001b[1;33m\u001b[0m\u001b[0m\n",
      "\u001b[1;32m<ipython-input-8-1b25ac6b4c82>\u001b[0m in \u001b[0;36mcreate_dict\u001b[1;34m(column, name, dict)\u001b[0m\n\u001b[0;32m     10\u001b[0m     }\n\u001b[0;32m     11\u001b[0m     tmp_dict['NaturalBreaks'] = {\n\u001b[1;32m---> 12\u001b[1;33m         \u001b[1;34m'bins'\u001b[0m\u001b[1;33m:\u001b[0m \u001b[1;34m','\u001b[0m\u001b[1;33m.\u001b[0m\u001b[0mjoin\u001b[0m\u001b[1;33m(\u001b[0m\u001b[0mmc\u001b[0m\u001b[1;33m.\u001b[0m\u001b[0mNaturalBreaks\u001b[0m\u001b[1;33m(\u001b[0m\u001b[0mcolumn\u001b[0m\u001b[1;33m,\u001b[0m \u001b[0mk\u001b[0m\u001b[1;33m=\u001b[0m\u001b[1;36m6\u001b[0m\u001b[1;33m)\u001b[0m\u001b[1;33m.\u001b[0m\u001b[0mbins\u001b[0m\u001b[1;33m.\u001b[0m\u001b[0mastype\u001b[0m\u001b[1;33m(\u001b[0m\u001b[0mstr\u001b[0m\u001b[1;33m)\u001b[0m\u001b[1;33m)\u001b[0m\u001b[1;33m,\u001b[0m\u001b[1;33m\u001b[0m\u001b[1;33m\u001b[0m\u001b[0m\n\u001b[0m\u001b[0;32m     13\u001b[0m         \u001b[1;34m'k'\u001b[0m\u001b[1;33m:\u001b[0m \u001b[1;36m6\u001b[0m\u001b[1;33m\u001b[0m\u001b[1;33m\u001b[0m\u001b[0m\n\u001b[0;32m     14\u001b[0m     }\n",
      "\u001b[1;32m~\\Anaconda3\\lib\\site-packages\\mapclassify\\classifiers.py\u001b[0m in \u001b[0;36m__init__\u001b[1;34m(self, y, k, initial)\u001b[0m\n\u001b[0;32m   1704\u001b[0m         \u001b[0mself\u001b[0m\u001b[1;33m.\u001b[0m\u001b[0mk\u001b[0m \u001b[1;33m=\u001b[0m \u001b[0mk\u001b[0m\u001b[1;33m\u001b[0m\u001b[1;33m\u001b[0m\u001b[0m\n\u001b[0;32m   1705\u001b[0m         \u001b[0mself\u001b[0m\u001b[1;33m.\u001b[0m\u001b[0minit\u001b[0m \u001b[1;33m=\u001b[0m \u001b[0minitial\u001b[0m\u001b[1;33m\u001b[0m\u001b[1;33m\u001b[0m\u001b[0m\n\u001b[1;32m-> 1706\u001b[1;33m         \u001b[0mMapClassifier\u001b[0m\u001b[1;33m.\u001b[0m\u001b[0m__init__\u001b[0m\u001b[1;33m(\u001b[0m\u001b[0mself\u001b[0m\u001b[1;33m,\u001b[0m \u001b[0my\u001b[0m\u001b[1;33m)\u001b[0m\u001b[1;33m\u001b[0m\u001b[1;33m\u001b[0m\u001b[0m\n\u001b[0m\u001b[0;32m   1707\u001b[0m         \u001b[0mself\u001b[0m\u001b[1;33m.\u001b[0m\u001b[0mname\u001b[0m \u001b[1;33m=\u001b[0m \u001b[1;34m\"NaturalBreaks\"\u001b[0m\u001b[1;33m\u001b[0m\u001b[1;33m\u001b[0m\u001b[0m\n\u001b[0;32m   1708\u001b[0m \u001b[1;33m\u001b[0m\u001b[0m\n",
      "\u001b[1;32m~\\Anaconda3\\lib\\site-packages\\mapclassify\\classifiers.py\u001b[0m in \u001b[0;36m__init__\u001b[1;34m(self, y)\u001b[0m\n\u001b[0;32m    614\u001b[0m         \u001b[0mself\u001b[0m\u001b[1;33m.\u001b[0m\u001b[0mfmt\u001b[0m \u001b[1;33m=\u001b[0m \u001b[0mFMT\u001b[0m\u001b[1;33m\u001b[0m\u001b[1;33m\u001b[0m\u001b[0m\n\u001b[0;32m    615\u001b[0m         \u001b[0mself\u001b[0m\u001b[1;33m.\u001b[0m\u001b[0my\u001b[0m \u001b[1;33m=\u001b[0m \u001b[0my\u001b[0m\u001b[1;33m\u001b[0m\u001b[1;33m\u001b[0m\u001b[0m\n\u001b[1;32m--> 616\u001b[1;33m         \u001b[0mself\u001b[0m\u001b[1;33m.\u001b[0m\u001b[0m_classify\u001b[0m\u001b[1;33m(\u001b[0m\u001b[1;33m)\u001b[0m\u001b[1;33m\u001b[0m\u001b[1;33m\u001b[0m\u001b[0m\n\u001b[0m\u001b[0;32m    617\u001b[0m         \u001b[0mself\u001b[0m\u001b[1;33m.\u001b[0m\u001b[0m_summary\u001b[0m\u001b[1;33m(\u001b[0m\u001b[1;33m)\u001b[0m\u001b[1;33m\u001b[0m\u001b[1;33m\u001b[0m\u001b[0m\n\u001b[0;32m    618\u001b[0m \u001b[1;33m\u001b[0m\u001b[0m\n",
      "\u001b[1;32m~\\Anaconda3\\lib\\site-packages\\mapclassify\\classifiers.py\u001b[0m in \u001b[0;36m_classify\u001b[1;34m(self)\u001b[0m\n\u001b[0;32m    633\u001b[0m \u001b[1;33m\u001b[0m\u001b[0m\n\u001b[0;32m    634\u001b[0m     \u001b[1;32mdef\u001b[0m \u001b[0m_classify\u001b[0m\u001b[1;33m(\u001b[0m\u001b[0mself\u001b[0m\u001b[1;33m)\u001b[0m\u001b[1;33m:\u001b[0m\u001b[1;33m\u001b[0m\u001b[1;33m\u001b[0m\u001b[0m\n\u001b[1;32m--> 635\u001b[1;33m         \u001b[0mself\u001b[0m\u001b[1;33m.\u001b[0m\u001b[0m_set_bins\u001b[0m\u001b[1;33m(\u001b[0m\u001b[1;33m)\u001b[0m\u001b[1;33m\u001b[0m\u001b[1;33m\u001b[0m\u001b[0m\n\u001b[0m\u001b[0;32m    636\u001b[0m         \u001b[0mself\u001b[0m\u001b[1;33m.\u001b[0m\u001b[0myb\u001b[0m\u001b[1;33m,\u001b[0m \u001b[0mself\u001b[0m\u001b[1;33m.\u001b[0m\u001b[0mcounts\u001b[0m \u001b[1;33m=\u001b[0m \u001b[0mbin1d\u001b[0m\u001b[1;33m(\u001b[0m\u001b[0mself\u001b[0m\u001b[1;33m.\u001b[0m\u001b[0my\u001b[0m\u001b[1;33m,\u001b[0m \u001b[0mself\u001b[0m\u001b[1;33m.\u001b[0m\u001b[0mbins\u001b[0m\u001b[1;33m)\u001b[0m\u001b[1;33m\u001b[0m\u001b[1;33m\u001b[0m\u001b[0m\n\u001b[0;32m    637\u001b[0m \u001b[1;33m\u001b[0m\u001b[0m\n",
      "\u001b[1;32m~\\Anaconda3\\lib\\site-packages\\mapclassify\\classifiers.py\u001b[0m in \u001b[0;36m_set_bins\u001b[1;34m(self)\u001b[0m\n\u001b[0;32m   1725\u001b[0m             \u001b[0mself\u001b[0m\u001b[1;33m.\u001b[0m\u001b[0mk\u001b[0m \u001b[1;33m=\u001b[0m \u001b[0mk\u001b[0m\u001b[1;33m\u001b[0m\u001b[1;33m\u001b[0m\u001b[0m\n\u001b[0;32m   1726\u001b[0m         \u001b[1;32melse\u001b[0m\u001b[1;33m:\u001b[0m\u001b[1;33m\u001b[0m\u001b[1;33m\u001b[0m\u001b[0m\n\u001b[1;32m-> 1727\u001b[1;33m             \u001b[0mres0\u001b[0m \u001b[1;33m=\u001b[0m \u001b[0mnatural_breaks\u001b[0m\u001b[1;33m(\u001b[0m\u001b[0mx\u001b[0m\u001b[1;33m,\u001b[0m \u001b[0mk\u001b[0m\u001b[1;33m,\u001b[0m \u001b[0minit\u001b[0m\u001b[1;33m=\u001b[0m\u001b[0mself\u001b[0m\u001b[1;33m.\u001b[0m\u001b[0minit\u001b[0m\u001b[1;33m)\u001b[0m\u001b[1;33m\u001b[0m\u001b[1;33m\u001b[0m\u001b[0m\n\u001b[0m\u001b[0;32m   1728\u001b[0m             \u001b[0mfit\u001b[0m \u001b[1;33m=\u001b[0m \u001b[0mres0\u001b[0m\u001b[1;33m[\u001b[0m\u001b[1;36m2\u001b[0m\u001b[1;33m]\u001b[0m\u001b[1;33m\u001b[0m\u001b[1;33m\u001b[0m\u001b[0m\n\u001b[0;32m   1729\u001b[0m             \u001b[0mself\u001b[0m\u001b[1;33m.\u001b[0m\u001b[0mbins\u001b[0m \u001b[1;33m=\u001b[0m \u001b[0mnp\u001b[0m\u001b[1;33m.\u001b[0m\u001b[0marray\u001b[0m\u001b[1;33m(\u001b[0m\u001b[0mres0\u001b[0m\u001b[1;33m[\u001b[0m\u001b[1;33m-\u001b[0m\u001b[1;36m1\u001b[0m\u001b[1;33m]\u001b[0m\u001b[1;33m)\u001b[0m\u001b[1;33m\u001b[0m\u001b[1;33m\u001b[0m\u001b[0m\n",
      "\u001b[1;32m~\\Anaconda3\\lib\\site-packages\\mapclassify\\classifiers.py\u001b[0m in \u001b[0;36mnatural_breaks\u001b[1;34m(values, k, init)\u001b[0m\n\u001b[0;32m    498\u001b[0m         \u001b[0mWarn\u001b[0m\u001b[1;33m(\u001b[0m\u001b[1;34m\"Warning: setting k to %d\"\u001b[0m \u001b[1;33m%\u001b[0m \u001b[0muvk\u001b[0m\u001b[1;33m,\u001b[0m \u001b[0mUserWarning\u001b[0m\u001b[1;33m)\u001b[0m\u001b[1;33m\u001b[0m\u001b[1;33m\u001b[0m\u001b[0m\n\u001b[0;32m    499\u001b[0m         \u001b[0mk\u001b[0m \u001b[1;33m=\u001b[0m \u001b[0muvk\u001b[0m\u001b[1;33m\u001b[0m\u001b[1;33m\u001b[0m\u001b[0m\n\u001b[1;32m--> 500\u001b[1;33m     \u001b[0mkres\u001b[0m \u001b[1;33m=\u001b[0m \u001b[0m_kmeans\u001b[0m\u001b[1;33m(\u001b[0m\u001b[0mvalues\u001b[0m\u001b[1;33m,\u001b[0m \u001b[0mk\u001b[0m\u001b[1;33m,\u001b[0m \u001b[0mn_init\u001b[0m\u001b[1;33m=\u001b[0m\u001b[0minit\u001b[0m\u001b[1;33m)\u001b[0m\u001b[1;33m\u001b[0m\u001b[1;33m\u001b[0m\u001b[0m\n\u001b[0m\u001b[0;32m    501\u001b[0m     \u001b[0msids\u001b[0m \u001b[1;33m=\u001b[0m \u001b[0mkres\u001b[0m\u001b[1;33m[\u001b[0m\u001b[1;33m-\u001b[0m\u001b[1;36m1\u001b[0m\u001b[1;33m]\u001b[0m  \u001b[1;31m# centroids\u001b[0m\u001b[1;33m\u001b[0m\u001b[1;33m\u001b[0m\u001b[0m\n\u001b[0;32m    502\u001b[0m     \u001b[0mfit\u001b[0m \u001b[1;33m=\u001b[0m \u001b[0mkres\u001b[0m\u001b[1;33m[\u001b[0m\u001b[1;33m-\u001b[0m\u001b[1;36m2\u001b[0m\u001b[1;33m]\u001b[0m\u001b[1;33m\u001b[0m\u001b[1;33m\u001b[0m\u001b[0m\n",
      "\u001b[1;32m~\\Anaconda3\\lib\\site-packages\\mapclassify\\classifiers.py\u001b[0m in \u001b[0;36m_kmeans\u001b[1;34m(y, k, n_init)\u001b[0m\n\u001b[0;32m    449\u001b[0m     \u001b[0my\u001b[0m \u001b[1;33m=\u001b[0m \u001b[0my\u001b[0m \u001b[1;33m*\u001b[0m \u001b[1;36m1.0\u001b[0m  \u001b[1;31m# KMEANS needs float or double dtype\u001b[0m\u001b[1;33m\u001b[0m\u001b[1;33m\u001b[0m\u001b[0m\n\u001b[0;32m    450\u001b[0m     \u001b[0my\u001b[0m\u001b[1;33m.\u001b[0m\u001b[0mshape\u001b[0m \u001b[1;33m=\u001b[0m \u001b[1;33m(\u001b[0m\u001b[1;33m-\u001b[0m\u001b[1;36m1\u001b[0m\u001b[1;33m,\u001b[0m \u001b[1;36m1\u001b[0m\u001b[1;33m)\u001b[0m\u001b[1;33m\u001b[0m\u001b[1;33m\u001b[0m\u001b[0m\n\u001b[1;32m--> 451\u001b[1;33m     \u001b[0mresult\u001b[0m \u001b[1;33m=\u001b[0m \u001b[0mKMEANS\u001b[0m\u001b[1;33m(\u001b[0m\u001b[0mn_clusters\u001b[0m\u001b[1;33m=\u001b[0m\u001b[0mk\u001b[0m\u001b[1;33m,\u001b[0m \u001b[0minit\u001b[0m\u001b[1;33m=\u001b[0m\u001b[1;34m\"k-means++\"\u001b[0m\u001b[1;33m,\u001b[0m \u001b[0mn_init\u001b[0m\u001b[1;33m=\u001b[0m\u001b[0mn_init\u001b[0m\u001b[1;33m)\u001b[0m\u001b[1;33m.\u001b[0m\u001b[0mfit\u001b[0m\u001b[1;33m(\u001b[0m\u001b[0my\u001b[0m\u001b[1;33m)\u001b[0m\u001b[1;33m\u001b[0m\u001b[1;33m\u001b[0m\u001b[0m\n\u001b[0m\u001b[0;32m    452\u001b[0m     \u001b[0mclass_ids\u001b[0m \u001b[1;33m=\u001b[0m \u001b[0mresult\u001b[0m\u001b[1;33m.\u001b[0m\u001b[0mlabels_\u001b[0m\u001b[1;33m\u001b[0m\u001b[1;33m\u001b[0m\u001b[0m\n\u001b[0;32m    453\u001b[0m     \u001b[0mcentroids\u001b[0m \u001b[1;33m=\u001b[0m \u001b[0mresult\u001b[0m\u001b[1;33m.\u001b[0m\u001b[0mcluster_centers_\u001b[0m\u001b[1;33m\u001b[0m\u001b[1;33m\u001b[0m\u001b[0m\n",
      "\u001b[1;32m~\\Anaconda3\\lib\\site-packages\\sklearn\\cluster\\k_means_.py\u001b[0m in \u001b[0;36mfit\u001b[1;34m(self, X, y, sample_weight)\u001b[0m\n\u001b[0;32m    967\u001b[0m                 \u001b[0mtol\u001b[0m\u001b[1;33m=\u001b[0m\u001b[0mself\u001b[0m\u001b[1;33m.\u001b[0m\u001b[0mtol\u001b[0m\u001b[1;33m,\u001b[0m \u001b[0mrandom_state\u001b[0m\u001b[1;33m=\u001b[0m\u001b[0mrandom_state\u001b[0m\u001b[1;33m,\u001b[0m \u001b[0mcopy_x\u001b[0m\u001b[1;33m=\u001b[0m\u001b[0mself\u001b[0m\u001b[1;33m.\u001b[0m\u001b[0mcopy_x\u001b[0m\u001b[1;33m,\u001b[0m\u001b[1;33m\u001b[0m\u001b[1;33m\u001b[0m\u001b[0m\n\u001b[0;32m    968\u001b[0m                 \u001b[0mn_jobs\u001b[0m\u001b[1;33m=\u001b[0m\u001b[0mself\u001b[0m\u001b[1;33m.\u001b[0m\u001b[0mn_jobs\u001b[0m\u001b[1;33m,\u001b[0m \u001b[0malgorithm\u001b[0m\u001b[1;33m=\u001b[0m\u001b[0mself\u001b[0m\u001b[1;33m.\u001b[0m\u001b[0malgorithm\u001b[0m\u001b[1;33m,\u001b[0m\u001b[1;33m\u001b[0m\u001b[1;33m\u001b[0m\u001b[0m\n\u001b[1;32m--> 969\u001b[1;33m                 return_n_iter=True)\n\u001b[0m\u001b[0;32m    970\u001b[0m         \u001b[1;32mreturn\u001b[0m \u001b[0mself\u001b[0m\u001b[1;33m\u001b[0m\u001b[1;33m\u001b[0m\u001b[0m\n\u001b[0;32m    971\u001b[0m \u001b[1;33m\u001b[0m\u001b[0m\n",
      "\u001b[1;32m~\\Anaconda3\\lib\\site-packages\\sklearn\\cluster\\k_means_.py\u001b[0m in \u001b[0;36mk_means\u001b[1;34m(X, n_clusters, sample_weight, init, precompute_distances, n_init, max_iter, verbose, tol, random_state, copy_x, n_jobs, algorithm, return_n_iter)\u001b[0m\n\u001b[0;32m    307\u001b[0m     \u001b[0morder\u001b[0m \u001b[1;33m=\u001b[0m \u001b[1;34m\"C\"\u001b[0m \u001b[1;32mif\u001b[0m \u001b[0mcopy_x\u001b[0m \u001b[1;32melse\u001b[0m \u001b[1;32mNone\u001b[0m\u001b[1;33m\u001b[0m\u001b[1;33m\u001b[0m\u001b[0m\n\u001b[0;32m    308\u001b[0m     X = check_array(X, accept_sparse='csr', dtype=[np.float64, np.float32],\n\u001b[1;32m--> 309\u001b[1;33m                     order=order, copy=copy_x)\n\u001b[0m\u001b[0;32m    310\u001b[0m     \u001b[1;31m# verify that the number of samples given is larger than k\u001b[0m\u001b[1;33m\u001b[0m\u001b[1;33m\u001b[0m\u001b[1;33m\u001b[0m\u001b[0m\n\u001b[0;32m    311\u001b[0m     \u001b[1;32mif\u001b[0m \u001b[0m_num_samples\u001b[0m\u001b[1;33m(\u001b[0m\u001b[0mX\u001b[0m\u001b[1;33m)\u001b[0m \u001b[1;33m<\u001b[0m \u001b[0mn_clusters\u001b[0m\u001b[1;33m:\u001b[0m\u001b[1;33m\u001b[0m\u001b[1;33m\u001b[0m\u001b[0m\n",
      "\u001b[1;32m~\\Anaconda3\\lib\\site-packages\\sklearn\\utils\\validation.py\u001b[0m in \u001b[0;36mcheck_array\u001b[1;34m(array, accept_sparse, accept_large_sparse, dtype, order, copy, force_all_finite, ensure_2d, allow_nd, ensure_min_samples, ensure_min_features, warn_on_dtype, estimator)\u001b[0m\n\u001b[0;32m    540\u001b[0m         \u001b[1;32mif\u001b[0m \u001b[0mforce_all_finite\u001b[0m\u001b[1;33m:\u001b[0m\u001b[1;33m\u001b[0m\u001b[1;33m\u001b[0m\u001b[0m\n\u001b[0;32m    541\u001b[0m             _assert_all_finite(array,\n\u001b[1;32m--> 542\u001b[1;33m                                allow_nan=force_all_finite == 'allow-nan')\n\u001b[0m\u001b[0;32m    543\u001b[0m \u001b[1;33m\u001b[0m\u001b[0m\n\u001b[0;32m    544\u001b[0m     \u001b[1;32mif\u001b[0m \u001b[0mensure_min_samples\u001b[0m \u001b[1;33m>\u001b[0m \u001b[1;36m0\u001b[0m\u001b[1;33m:\u001b[0m\u001b[1;33m\u001b[0m\u001b[1;33m\u001b[0m\u001b[0m\n",
      "\u001b[1;32m~\\Anaconda3\\lib\\site-packages\\sklearn\\utils\\validation.py\u001b[0m in \u001b[0;36m_assert_all_finite\u001b[1;34m(X, allow_nan)\u001b[0m\n\u001b[0;32m     54\u001b[0m                 not allow_nan and not np.isfinite(X).all()):\n\u001b[0;32m     55\u001b[0m             \u001b[0mtype_err\u001b[0m \u001b[1;33m=\u001b[0m \u001b[1;34m'infinity'\u001b[0m \u001b[1;32mif\u001b[0m \u001b[0mallow_nan\u001b[0m \u001b[1;32melse\u001b[0m \u001b[1;34m'NaN, infinity'\u001b[0m\u001b[1;33m\u001b[0m\u001b[1;33m\u001b[0m\u001b[0m\n\u001b[1;32m---> 56\u001b[1;33m             \u001b[1;32mraise\u001b[0m \u001b[0mValueError\u001b[0m\u001b[1;33m(\u001b[0m\u001b[0mmsg_err\u001b[0m\u001b[1;33m.\u001b[0m\u001b[0mformat\u001b[0m\u001b[1;33m(\u001b[0m\u001b[0mtype_err\u001b[0m\u001b[1;33m,\u001b[0m \u001b[0mX\u001b[0m\u001b[1;33m.\u001b[0m\u001b[0mdtype\u001b[0m\u001b[1;33m)\u001b[0m\u001b[1;33m)\u001b[0m\u001b[1;33m\u001b[0m\u001b[1;33m\u001b[0m\u001b[0m\n\u001b[0m\u001b[0;32m     57\u001b[0m     \u001b[1;31m# for object dtype data, we only check for NaNs (GH-13254)\u001b[0m\u001b[1;33m\u001b[0m\u001b[1;33m\u001b[0m\u001b[1;33m\u001b[0m\u001b[0m\n\u001b[0;32m     58\u001b[0m     \u001b[1;32melif\u001b[0m \u001b[0mX\u001b[0m\u001b[1;33m.\u001b[0m\u001b[0mdtype\u001b[0m \u001b[1;33m==\u001b[0m \u001b[0mnp\u001b[0m\u001b[1;33m.\u001b[0m\u001b[0mdtype\u001b[0m\u001b[1;33m(\u001b[0m\u001b[1;34m'object'\u001b[0m\u001b[1;33m)\u001b[0m \u001b[1;32mand\u001b[0m \u001b[1;32mnot\u001b[0m \u001b[0mallow_nan\u001b[0m\u001b[1;33m:\u001b[0m\u001b[1;33m\u001b[0m\u001b[1;33m\u001b[0m\u001b[0m\n",
      "\u001b[1;31mValueError\u001b[0m: Input contains NaN, infinity or a value too large for dtype('float64')."
     ],
     "ename": "ValueError",
     "evalue": "Input contains NaN, infinity or a value too large for dtype('float64').",
     "output_type": "error"
    }
   ],
   "source": [
    "create_dict(state_case,'case',state_dict)"
   ],
   "metadata": {
    "collapsed": false,
    "pycharm": {
     "name": "#%%\n",
     "is_executing": false
    }
   }
  },
  {
   "cell_type": "code",
   "execution_count": null,
   "outputs": [],
   "source": [
    "create_dict(state_death,'death',state_dict)"
   ],
   "metadata": {
    "collapsed": false,
    "pycharm": {
     "name": "#%%\n",
     "is_executing": false
    }
   }
  },
  {
   "cell_type": "code",
   "execution_count": null,
   "outputs": [],
   "source": [
    "create_dict(state_case_per_100k_capita,'case_per_100k_capita',state_dict)"
   ],
   "metadata": {
    "collapsed": false,
    "pycharm": {
     "name": "#%%\n",
     "is_executing": false
    }
   }
  },
  {
   "cell_type": "code",
   "execution_count": null,
   "outputs": [],
   "source": [
    "create_dict(state_death_per_100k_capita,'death_per_100k_capita',state_dict)"
   ],
   "metadata": {
    "collapsed": false,
    "pycharm": {
     "name": "#%%\n",
     "is_executing": false
    }
   }
  },
  {
   "cell_type": "markdown",
   "source": [
    "3. Read Illinois County Data"
   ],
   "metadata": {
    "collapsed": false,
    "pycharm": {
     "name": "#%% md\n"
    }
   }
  },
  {
   "cell_type": "code",
   "execution_count": null,
   "outputs": [],
   "source": [
    "illinois_gdf = gpd.read_file('illinois/nyt_illinois_counties_data.geojson')"
   ],
   "metadata": {
    "collapsed": false,
    "pycharm": {
     "name": "#%%\n",
     "is_executing": false
    }
   }
  },
  {
   "cell_type": "code",
   "execution_count": null,
   "outputs": [],
   "source": [
    "illinois_gdf.head(5)"
   ],
   "metadata": {
    "collapsed": false,
    "pycharm": {
     "name": "#%%\n",
     "is_executing": false
    }
   }
  },
  {
   "cell_type": "code",
   "execution_count": null,
   "outputs": [],
   "source": [
    "illinois_case = illinois_gdf['today_case']\n",
    "illinois_death = illinois_gdf['today_death']\n",
    "illinois_case_per_100k_capita = illinois_gdf['today_case']/(illinois_gdf['population']/100000)\n",
    "illinois_death_per_100k_capita = illinois_gdf['today_death']/(illinois_gdf['population']/100000)\n",
    "#death_case_ratio = counties_gdf['today_death']/counties_gdf['today_case']\n",
    "#death_case_ratio = death_case_ratio.replace(np.nan, 0)"
   ],
   "metadata": {
    "collapsed": false,
    "pycharm": {
     "name": "#%%\n",
     "is_executing": false
    }
   }
  },
  {
   "cell_type": "code",
   "execution_count": null,
   "outputs": [],
   "source": [
    "illinois_death_per_100k_capita = illinois_death_per_100k_capita.replace(np.nan,0)\n",
    "illinois_death_per_100k_capita = illinois_death_per_100k_capita.replace(np.inf,0)\n",
    "illinois_case_per_100k_capita = illinois_case_per_100k_capita.replace(np.nan,0)\n",
    "illinois_case_per_100k_capita = illinois_case_per_100k_capita.replace(np.inf,0)"
   ],
   "metadata": {
    "collapsed": false,
    "pycharm": {
     "name": "#%%\n",
     "is_executing": false
    }
   }
  },
  {
   "cell_type": "code",
   "execution_count": null,
   "outputs": [],
   "source": [
    "create_dict(illinois_case,'case',illinois_dict)"
   ],
   "metadata": {
    "collapsed": false,
    "pycharm": {
     "name": "#%%\n",
     "is_executing": false
    }
   }
  },
  {
   "cell_type": "code",
   "execution_count": null,
   "outputs": [],
   "source": [
    "create_dict(illinois_death,'death',illinois_dict)"
   ],
   "metadata": {
    "collapsed": false,
    "pycharm": {
     "name": "#%%\n",
     "is_executing": false
    }
   }
  },
  {
   "cell_type": "code",
   "execution_count": null,
   "outputs": [],
   "source": [
    "create_dict(illinois_case_per_100k_capita,'case_per_100k_capita',illinois_dict)"
   ],
   "metadata": {
    "collapsed": false,
    "pycharm": {
     "name": "#%%\n",
     "is_executing": false
    }
   }
  },
  {
   "cell_type": "code",
   "execution_count": null,
   "outputs": [],
   "source": [
    "create_dict(illinois_death_per_100k_capita,'death_per_100k_capita',illinois_dict)"
   ],
   "metadata": {
    "collapsed": false,
    "pycharm": {
     "name": "#%%\n",
     "is_executing": false
    }
   }
  },
  {
   "cell_type": "markdown",
   "source": [
    "Summary and ouput"
   ],
   "metadata": {
    "collapsed": false,
    "pycharm": {
     "name": "#%% md\n"
    }
   }
  },
  {
   "cell_type": "code",
   "execution_count": null,
   "outputs": [],
   "source": [
    "import json\n",
    "total_dict['county'] = county_dict\n",
    "total_dict['state'] = state_dict\n",
    "total_dict['illinois'] = illinois_dict\n",
    "dynamic_dict['county'] = dynamic_county_dict\n",
    "dynamic_dict['state'] = dynamic_state_dict\n",
    "dynamic_dict['illinois'] = dynamic_illinois_dict\n",
    "with open('classes.json','w') as json_file:\n",
    "    json.dump(total_dict, json_file)\n",
    "with open('dynamic_classes.json','w') as json_file:\n",
    "    json.dump(dynamic_dict, json_file)\n"
   ],
   "metadata": {
    "collapsed": false,
    "pycharm": {
     "name": "#%%\n",
     "is_executing": false
    }
   }
  }
 ],
 "metadata": {
  "language_info": {
   "codemirror_mode": {
    "name": "ipython",
    "version": 2
   },
   "file_extension": ".py",
   "mimetype": "text/x-python",
   "name": "python",
   "nbconvert_exporter": "python",
   "pygments_lexer": "ipython2",
   "version": "2.7.6"
  },
  "kernelspec": {
   "name": "python3",
   "language": "python",
   "display_name": "Python 3"
  },
  "pycharm": {
   "stem_cell": {
    "cell_type": "raw",
    "source": [],
    "metadata": {
     "collapsed": false
    }
   }
  }
 },
 "nbformat": 4,
 "nbformat_minor": 0
}