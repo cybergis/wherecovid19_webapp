{
 "cells": [
  {
   "cell_type": "code",
   "execution_count": 1,
   "metadata": {
    "collapsed": true,
    "pycharm": {
     "is_executing": false
    }
   },
   "outputs": [],
   "source": [
    "import geopandas as gpd\n",
    "import numpy as np\n",
    "import mapclassify as mc\n",
    "import matplotlib.pyplot as plt"
   ]
  },
  {
   "cell_type": "code",
   "execution_count": 2,
   "outputs": [],
   "source": [
    "counties_gdf = gpd.read_file('nyt_counties_data.geojson')"
   ],
   "metadata": {
    "collapsed": false,
    "pycharm": {
     "name": "#%%\n",
     "is_executing": false
    }
   }
  },
  {
   "cell_type": "code",
   "execution_count": 3,
   "outputs": [
    {
     "data": {
      "text/plain": "       NAME      state_name  population   fips dt_first_case dt_first_death  \\\n0    Bladen  North Carolina       33778  37017    2020-03-29           None   \n1    Stanly  North Carolina       61114  37167    2020-03-20     2020-04-09   \n2    Summit            Ohio      541810  39153    2020-03-14     2020-03-27   \n3  Sullivan    Pennsylvania        6177  42113    2020-04-04           None   \n4    Upshur           Texas       40769  48459    2020-03-20           None   \n\n                                            cases_ts  \\\n0  0,0,0,0,0,0,0,0,0,0,0,0,0,0,0,0,0,0,0,0,0,0,0,...   \n1  0.0,0.0,0.0,0.0,0.0,0.0,0.0,0.0,0.0,0.0,0.0,0....   \n2  0.0,0.0,0.0,0.0,0.0,0.0,0.0,0.0,0.0,0.0,0.0,0....   \n3  0.0,0.0,0.0,0.0,0.0,0.0,0.0,0.0,0.0,0.0,0.0,0....   \n4  0.0,0.0,0.0,0.0,0.0,0.0,0.0,0.0,0.0,0.0,0.0,0....   \n\n                                           deaths_ts  today_case  \\\n0  0.0,0.0,0.0,0.0,0.0,0.0,0.0,0.0,0.0,0.0,0.0,0....         4.0   \n1  0.0,0.0,0.0,0.0,0.0,0.0,0.0,0.0,0.0,0.0,0.0,0....        21.0   \n2  0.0,0.0,0.0,0.0,0.0,0.0,0.0,0.0,0.0,0.0,0.0,0....       385.0   \n3  0.0,0.0,0.0,0.0,0.0,0.0,0.0,0.0,0.0,0.0,0.0,0....         1.0   \n4  0.0,0.0,0.0,0.0,0.0,0.0,0.0,0.0,0.0,0.0,0.0,0....         9.0   \n\n   today_new_case  today_death  today_new_death    dt_start      dt_end  \\\n0             2.0          0.0              0.0  2020-01-21  2020-04-21   \n1             0.0          3.0              0.0  2020-01-21  2020-04-21   \n2            15.0         28.0              4.0  2020-01-21  2020-04-21   \n3             0.0          0.0              0.0  2020-01-21  2020-04-21   \n4             0.0          0.0              0.0  2020-01-21  2020-04-21   \n\n  dt_unit                                           geometry  \n0     day  MULTIPOLYGON (((-78.90200 34.83527, -78.79960 ...  \n1     day  MULTIPOLYGON (((-80.49738 35.20210, -80.29542 ...  \n2     day  MULTIPOLYGON (((-81.68699 41.13596, -81.68495 ...  \n3     day  MULTIPOLYGON (((-76.81373 41.59003, -76.22014 ...  \n4     day  MULTIPOLYGON (((-95.15274 32.66095, -95.15211 ...  ",
      "text/html": "<div>\n<style scoped>\n    .dataframe tbody tr th:only-of-type {\n        vertical-align: middle;\n    }\n\n    .dataframe tbody tr th {\n        vertical-align: top;\n    }\n\n    .dataframe thead th {\n        text-align: right;\n    }\n</style>\n<table border=\"1\" class=\"dataframe\">\n  <thead>\n    <tr style=\"text-align: right;\">\n      <th></th>\n      <th>NAME</th>\n      <th>state_name</th>\n      <th>population</th>\n      <th>fips</th>\n      <th>dt_first_case</th>\n      <th>dt_first_death</th>\n      <th>cases_ts</th>\n      <th>deaths_ts</th>\n      <th>today_case</th>\n      <th>today_new_case</th>\n      <th>today_death</th>\n      <th>today_new_death</th>\n      <th>dt_start</th>\n      <th>dt_end</th>\n      <th>dt_unit</th>\n      <th>geometry</th>\n    </tr>\n  </thead>\n  <tbody>\n    <tr>\n      <th>0</th>\n      <td>Bladen</td>\n      <td>North Carolina</td>\n      <td>33778</td>\n      <td>37017</td>\n      <td>2020-03-29</td>\n      <td>None</td>\n      <td>0,0,0,0,0,0,0,0,0,0,0,0,0,0,0,0,0,0,0,0,0,0,0,...</td>\n      <td>0.0,0.0,0.0,0.0,0.0,0.0,0.0,0.0,0.0,0.0,0.0,0....</td>\n      <td>4.0</td>\n      <td>2.0</td>\n      <td>0.0</td>\n      <td>0.0</td>\n      <td>2020-01-21</td>\n      <td>2020-04-21</td>\n      <td>day</td>\n      <td>MULTIPOLYGON (((-78.90200 34.83527, -78.79960 ...</td>\n    </tr>\n    <tr>\n      <th>1</th>\n      <td>Stanly</td>\n      <td>North Carolina</td>\n      <td>61114</td>\n      <td>37167</td>\n      <td>2020-03-20</td>\n      <td>2020-04-09</td>\n      <td>0.0,0.0,0.0,0.0,0.0,0.0,0.0,0.0,0.0,0.0,0.0,0....</td>\n      <td>0.0,0.0,0.0,0.0,0.0,0.0,0.0,0.0,0.0,0.0,0.0,0....</td>\n      <td>21.0</td>\n      <td>0.0</td>\n      <td>3.0</td>\n      <td>0.0</td>\n      <td>2020-01-21</td>\n      <td>2020-04-21</td>\n      <td>day</td>\n      <td>MULTIPOLYGON (((-80.49738 35.20210, -80.29542 ...</td>\n    </tr>\n    <tr>\n      <th>2</th>\n      <td>Summit</td>\n      <td>Ohio</td>\n      <td>541810</td>\n      <td>39153</td>\n      <td>2020-03-14</td>\n      <td>2020-03-27</td>\n      <td>0.0,0.0,0.0,0.0,0.0,0.0,0.0,0.0,0.0,0.0,0.0,0....</td>\n      <td>0.0,0.0,0.0,0.0,0.0,0.0,0.0,0.0,0.0,0.0,0.0,0....</td>\n      <td>385.0</td>\n      <td>15.0</td>\n      <td>28.0</td>\n      <td>4.0</td>\n      <td>2020-01-21</td>\n      <td>2020-04-21</td>\n      <td>day</td>\n      <td>MULTIPOLYGON (((-81.68699 41.13596, -81.68495 ...</td>\n    </tr>\n    <tr>\n      <th>3</th>\n      <td>Sullivan</td>\n      <td>Pennsylvania</td>\n      <td>6177</td>\n      <td>42113</td>\n      <td>2020-04-04</td>\n      <td>None</td>\n      <td>0.0,0.0,0.0,0.0,0.0,0.0,0.0,0.0,0.0,0.0,0.0,0....</td>\n      <td>0.0,0.0,0.0,0.0,0.0,0.0,0.0,0.0,0.0,0.0,0.0,0....</td>\n      <td>1.0</td>\n      <td>0.0</td>\n      <td>0.0</td>\n      <td>0.0</td>\n      <td>2020-01-21</td>\n      <td>2020-04-21</td>\n      <td>day</td>\n      <td>MULTIPOLYGON (((-76.81373 41.59003, -76.22014 ...</td>\n    </tr>\n    <tr>\n      <th>4</th>\n      <td>Upshur</td>\n      <td>Texas</td>\n      <td>40769</td>\n      <td>48459</td>\n      <td>2020-03-20</td>\n      <td>None</td>\n      <td>0.0,0.0,0.0,0.0,0.0,0.0,0.0,0.0,0.0,0.0,0.0,0....</td>\n      <td>0.0,0.0,0.0,0.0,0.0,0.0,0.0,0.0,0.0,0.0,0.0,0....</td>\n      <td>9.0</td>\n      <td>0.0</td>\n      <td>0.0</td>\n      <td>0.0</td>\n      <td>2020-01-21</td>\n      <td>2020-04-21</td>\n      <td>day</td>\n      <td>MULTIPOLYGON (((-95.15274 32.66095, -95.15211 ...</td>\n    </tr>\n  </tbody>\n</table>\n</div>"
     },
     "metadata": {},
     "output_type": "execute_result",
     "execution_count": 3
    }
   ],
   "source": [
    "counties_gdf.head(5)"
   ],
   "metadata": {
    "collapsed": false,
    "pycharm": {
     "name": "#%%\n",
     "is_executing": false
    }
   }
  },
  {
   "cell_type": "code",
   "execution_count": 4,
   "outputs": [
    {
     "data": {
      "text/plain": "0            4.0\n1           21.0\n2          385.0\n3            1.0\n4            9.0\n5           13.0\n6           14.0\n7           45.0\n8            1.0\n9            0.0\n10           8.0\n11           6.0\n12           4.0\n13           2.0\n14           0.0\n15          18.0\n16           8.0\n17           6.0\n18          44.0\n19          22.0\n20          26.0\n21          50.0\n22           2.0\n23           8.0\n24           8.0\n25           1.0\n26          68.0\n27           0.0\n28         160.0\n29           1.0\n          ...   \n3192         6.0\n3193       853.0\n3194        34.0\n3195        12.0\n3196         6.0\n3197        85.0\n3198         4.0\n3199         0.0\n3200        13.0\n3201         0.0\n3202        37.0\n3203         2.0\n3204         5.0\n3205         0.0\n3206         4.0\n3207        12.0\n3208        16.0\n3209         2.0\n3210         0.0\n3211         0.0\n3212       400.0\n3213       233.0\n3214        79.0\n3215         0.0\n3216         0.0\n3217         4.0\n3218        75.0\n3219       334.0\n3220       438.0\n3221    139335.0\nName: today_case, Length: 3222, dtype: float64"
     },
     "metadata": {},
     "output_type": "execute_result",
     "execution_count": 4
    }
   ],
   "source": [
    "counties_gdf['today_case']"
   ],
   "metadata": {
    "collapsed": false,
    "pycharm": {
     "name": "#%%\n",
     "is_executing": false
    }
   }
  },
  {
   "cell_type": "code",
   "execution_count": 5,
   "outputs": [],
   "source": [
    "cases_q6 = mc.Quantiles(counties_gdf['today_case'], k=6)\n",
    "cases_fj6 = mc.FisherJenks(counties_gdf['today_case'], k=6)\n",
    "cases_n6 = mc.NaturalBreaks(counties_gdf['today_case'], k=6)\n",
    "cases_std6 = mc.StdMean(counties_gdf['today_case'], multiples=[-0.25,0.25,0.75,1.25,1.75,2.25])\n",
    "cases_fj11 = mc.FisherJenks(counties_gdf['today_case'], k=11)"
   ],
   "metadata": {
    "collapsed": false,
    "pycharm": {
     "name": "#%%\n",
     "is_executing": false
    }
   }
  },
  {
   "cell_type": "code",
   "execution_count": 6,
   "outputs": [],
   "source": [
    "cases_per_capita_q6 = mc.Quantiles(counties_gdf['today_case']/(counties_gdf['population']/100000), k=6)\n",
    "cases_per_capita_fj6 = mc.FisherJenks(counties_gdf['today_case']/(counties_gdf['population']/100000), k=6)\n",
    "cases_per_capita_n6 = mc.NaturalBreaks(counties_gdf['today_case']/(counties_gdf['population']/100000), k=6)"
   ],
   "metadata": {
    "collapsed": false,
    "pycharm": {
     "name": "#%%\n",
     "is_executing": false
    }
   }
  },
  {
   "cell_type": "code",
   "execution_count": 7,
   "outputs": [],
   "source": [
    "cases_per_capita_q6 = mc.Quantiles(counties_gdf['today_case']/(counties_gdf['population']/100000), k=6)\n",
    "cases_per_capita_fj6 = mc.FisherJenks(counties_gdf['today_case']/(counties_gdf['population']/100000), k=6)\n",
    "cases_per_capita_n6 = mc.NaturalBreaks(counties_gdf['today_case']/(counties_gdf['population']/100000), k=6)"
   ],
   "metadata": {
    "collapsed": false,
    "pycharm": {
     "name": "#%%\n",
     "is_executing": false
    }
   }
  },
  {
   "cell_type": "code",
   "execution_count": 8,
   "outputs": [
    {
     "data": {
      "text/plain": "Quantiles                 \n\n     Interval        Count\n--------------------------\n[   0.00,    4.54] |   537\n(   4.54,   21.52] |   537\n(  21.52,   39.32] |   537\n(  39.32,   67.21] |   537\n(  67.21,  137.26] |   537\n( 137.26, 8703.12] |   537"
     },
     "metadata": {},
     "output_type": "execute_result",
     "execution_count": 8
    }
   ],
   "source": [
    "cases_per_capita_q6"
   ],
   "metadata": {
    "collapsed": false,
    "pycharm": {
     "name": "#%%\n",
     "is_executing": false
    }
   }
  },
  {
   "cell_type": "code",
   "execution_count": 9,
   "outputs": [
    {
     "data": {
      "text/plain": "Quantiles                     \n\n       Interval          Count\n------------------------------\n[     0.00,      1.00] |   750\n(     1.00,      4.00] |   434\n(     4.00,     10.00] |   432\n(    10.00,     28.00] |   537\n(    28.00,    105.17] |   532\n(   105.17, 139335.00] |   537"
     },
     "metadata": {},
     "output_type": "execute_result",
     "execution_count": 9
    }
   ],
   "source": [
    "cases_q6"
   ],
   "metadata": {
    "collapsed": false,
    "pycharm": {
     "name": "#%%\n",
     "is_executing": false
    }
   }
  },
  {
   "cell_type": "code",
   "execution_count": 10,
   "outputs": [
    {
     "data": {
      "text/plain": "FisherJenks                   \n\n       Interval          Count\n------------------------------\n[     0.00,    909.00] |  3101\n(   909.00,   3341.00] |    84\n(  3341.00,   6576.00] |    18\n(  6576.00,  15140.00] |    14\n( 15140.00,  31079.00] |     4\n( 31079.00, 139335.00] |     1"
     },
     "metadata": {},
     "output_type": "execute_result",
     "execution_count": 10
    }
   ],
   "source": [
    "cases_fj6"
   ],
   "metadata": {
    "collapsed": false,
    "pycharm": {
     "name": "#%%\n",
     "is_executing": false
    }
   }
  },
  {
   "cell_type": "code",
   "execution_count": 11,
   "outputs": [
    {
     "data": {
      "text/plain": "NaturalBreaks                 \n\n       Interval          Count\n------------------------------\n[     0.00,    909.00] |  3101\n(   909.00,   3341.00] |    84\n(  3341.00,   6576.00] |    18\n(  6576.00,  15140.00] |    14\n( 15140.00,  31079.00] |     4\n( 31079.00, 139335.00] |     1"
     },
     "metadata": {},
     "output_type": "execute_result",
     "execution_count": 11
    }
   ],
   "source": [
    "cases_n6"
   ],
   "metadata": {
    "collapsed": false,
    "pycharm": {
     "name": "#%%\n",
     "is_executing": false
    }
   }
  },
  {
   "cell_type": "code",
   "execution_count": 12,
   "outputs": [
    {
     "data": {
      "text/plain": "StdMean                       \n\n       Interval          Count\n------------------------------\n(     -inf,   -442.33] |     0\n(  -442.33,    939.27] |  3103\n(   939.27,   2320.87] |    64\n(  2320.87,   3702.46] |    18\n(  3702.46,   5084.06] |    10\n(  5084.06,   6465.65] |     7\n(  6465.65, 139335.00] |    20"
     },
     "metadata": {},
     "output_type": "execute_result",
     "execution_count": 12
    }
   ],
   "source": [
    "cases_std6"
   ],
   "metadata": {
    "collapsed": false,
    "pycharm": {
     "name": "#%%\n",
     "is_executing": false
    }
   }
  },
  {
   "cell_type": "code",
   "execution_count": 13,
   "outputs": [],
   "source": [
    "case_dict = {}\n",
    "case_dict['Quantiles'] = {\"bins\":','.join(cases_q6.bins.astype(int).astype(str)), \"k\":6}\n",
    "case_dict['FisherJenks'] = {\"bins\":','.join(cases_fj6.bins.astype(int).astype(str)), \"k\":6}\n",
    "case_dict['NaturalBreaks'] = {\"bins\":','.join(cases_n6.bins.astype(int).astype(str)), \"k\":6}\n",
    "case_dict['StandardDev'] = {'bins':','.join(cases_std6.bins.astype(int).astype(str)), \"multiples\":6}\n",
    "case_dict['Best'] = {'bins':','.join(cases_fj11.bins.astype(int).astype(str)), \"k\":11}\n",
    "case_dict['QuantilesPer100kCapita'] = {\"bins\":','.join(cases_per_capita_q6.bins.astype(int).astype(str)), \"k\":6}\n",
    "case_dict['FisherJenksPer100kCapita'] = {\"bins\":','.join(cases_per_capita_fj6.bins.astype(int).astype(str)), \"k\":6}\n",
    "case_dict['NaturalBreaksPer100kCapita'] = {\"bins\":','.join(cases_per_capita_n6.bins.astype(int).astype(str)), \"k\":6}"
   ],
   "metadata": {
    "collapsed": false,
    "pycharm": {
     "name": "#%%\n",
     "is_executing": false
    }
   }
  },
  {
   "cell_type": "code",
   "execution_count": 14,
   "outputs": [],
   "source": [
    "county_dict = {}\n",
    "county_dict['case'] = case_dict\n",
    "county_dict['death'] = {}"
   ],
   "metadata": {
    "collapsed": false,
    "pycharm": {
     "name": "#%%\n",
     "is_executing": false
    }
   }
  },
  {
   "cell_type": "code",
   "execution_count": 15,
   "outputs": [],
   "source": [
    "total_dict = {}\n",
    "total_dict['county'] = county_dict\n",
    "total_dict['state'] = {}"
   ],
   "metadata": {
    "collapsed": false,
    "pycharm": {
     "name": "#%%\n",
     "is_executing": false
    }
   }
  },
  {
   "cell_type": "code",
   "execution_count": 16,
   "outputs": [],
   "source": [
    "import json\n",
    "\n",
    "with open('classes.json','w') as json_file:\n",
    "    json.dump(total_dict, json_file)"
   ],
   "metadata": {
    "collapsed": false,
    "pycharm": {
     "name": "#%%\n",
     "is_executing": false
    }
   }
  },
  {
   "cell_type": "code",
   "execution_count": null,
   "outputs": [],
   "source": [
    "total_list = np.array([])\n",
    "for x in counties_gdf['cases_ts'].apply(lambda x: x.split(\",\")):\n",
    "    total_list = np.concatenate((total_list,x))"
   ],
   "metadata": {
    "collapsed": false,
    "pycharm": {
     "name": "#%%\n",
     "is_executing": true
    }
   }
  },
  {
   "cell_type": "code",
   "execution_count": null,
   "outputs": [],
   "source": [
    "total_list = total_list.astype(float)"
   ],
   "metadata": {
    "collapsed": false,
    "pycharm": {
     "name": "#%%\n",
     "is_executing": true
    }
   }
  },
  {
   "cell_type": "code",
   "execution_count": null,
   "outputs": [],
   "source": [
    "cases_q6_t = mc.Quantiles(total_list, k=6)"
   ],
   "metadata": {
    "collapsed": false,
    "pycharm": {
     "name": "#%%\n",
     "is_executing": true
    }
   }
  },
  {
   "cell_type": "code",
   "execution_count": null,
   "outputs": [],
   "source": [
    "cases_q6_t"
   ],
   "metadata": {
    "collapsed": false,
    "pycharm": {
     "name": "#%%\n",
     "is_executing": true
    }
   }
  },
  {
   "cell_type": "code",
   "execution_count": null,
   "outputs": [],
   "source": [
    "cases_fj6_t = mc.FisherJenks(total_list, k=6)\n",
    "cases_n6_t = mc.NaturalBreaks(total_list, k=6)"
   ],
   "metadata": {
    "collapsed": false,
    "pycharm": {
     "name": "#%%\n",
     "is_executing": true
    }
   }
  },
  {
   "cell_type": "code",
   "execution_count": null,
   "outputs": [],
   "source": [
    "counties_gdf[['NAME','class']]"
   ],
   "metadata": {
    "collapsed": false,
    "pycharm": {
     "name": "#%%\n",
     "is_executing": true
    }
   }
  },
  {
   "cell_type": "code",
   "execution_count": null,
   "outputs": [],
   "source": [
    "cases_q10.bins"
   ],
   "metadata": {
    "collapsed": false,
    "pycharm": {
     "name": "#%%c\n",
     "is_executing": true
    }
   }
  },
  {
   "cell_type": "code",
   "execution_count": null,
   "outputs": [],
   "source": [
    "tmp = 10\n",
    "cases_q10.find_bin(200)[0]"
   ],
   "metadata": {
    "collapsed": false,
    "pycharm": {
     "name": "#%%\n",
     "is_executing": true
    }
   }
  },
  {
   "cell_type": "code",
   "execution_count": null,
   "outputs": [],
   "source": [
    "fig, ax = plt.subplots(figsize=(12,10), subplot_kw={'aspect':'equal'})\n",
    "counties_gdf.plot(column='class',categorical=True, k=10, cmap='OrRd')"
   ],
   "metadata": {
    "collapsed": false,
    "pycharm": {
     "name": "#%%\n",
     "is_executing": true
    }
   }
  }
 ],
 "metadata": {
  "language_info": {
   "codemirror_mode": {
    "name": "ipython",
    "version": 2
   },
   "file_extension": ".py",
   "mimetype": "text/x-python",
   "name": "python",
   "nbconvert_exporter": "python",
   "pygments_lexer": "ipython2",
   "version": "2.7.6"
  },
  "kernelspec": {
   "name": "python3",
   "language": "python",
   "display_name": "Python 3"
  },
  "pycharm": {
   "stem_cell": {
    "cell_type": "raw",
    "source": [],
    "metadata": {
     "collapsed": false
    }
   }
  }
 },
 "nbformat": 4,
 "nbformat_minor": 0
}