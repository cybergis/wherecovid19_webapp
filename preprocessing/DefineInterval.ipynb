{
 "cells": [
  {
   "cell_type": "code",
   "execution_count": 123,
   "metadata": {
    "pycharm": {
     "is_executing": false
    }
   },
   "outputs": [],
   "source": [
    "import geopandas as gpd\n",
    "import numpy as np\n",
    "import mapclassify as mc\n",
    "import matplotlib.pyplot as plt"
   ]
  },
  {
   "cell_type": "code",
   "execution_count": 124,
   "metadata": {
    "pycharm": {
     "is_executing": false,
     "name": "#%%\n"
    }
   },
   "outputs": [],
   "source": [
    "total_dict = {}\n",
    "county_dict = {}\n",
    "state_dict = {}\n",
    "dph_illinois_dict = {}\n",
    "who_world_dict = {}\n",
    "vul_dict = {}"
   ]
  },
  {
   "cell_type": "code",
   "execution_count": 125,
   "metadata": {
    "pycharm": {
     "is_executing": false,
     "name": "#%%\n"
    }
   },
   "outputs": [],
   "source": [
    "dynamic_dict = {}\n",
    "dynamic_county_dict = {}\n",
    "dynamic_state_dict = {}\n",
    "dynamic_illinois_dict = {}"
   ]
  },
  {
   "cell_type": "markdown",
   "metadata": {
    "pycharm": {
     "name": "#%% md\n"
    }
   },
   "source": [
    "1. Read County Data"
   ]
  },
  {
   "cell_type": "code",
   "execution_count": 126,
   "metadata": {
    "pycharm": {
     "is_executing": false,
     "name": "#%%\n"
    }
   },
   "outputs": [],
   "source": [
    "counties_gdf = gpd.read_file('nyt_counties_data.geojson')"
   ]
  },
  {
   "cell_type": "code",
   "execution_count": 127,
   "metadata": {
    "pycharm": {
     "is_executing": false,
     "name": "#%%\n"
    }
   },
   "outputs": [
    {
     "data": {
      "text/html": [
       "<div>\n",
       "<style scoped>\n",
       "    .dataframe tbody tr th:only-of-type {\n",
       "        vertical-align: middle;\n",
       "    }\n",
       "\n",
       "    .dataframe tbody tr th {\n",
       "        vertical-align: top;\n",
       "    }\n",
       "\n",
       "    .dataframe thead th {\n",
       "        text-align: right;\n",
       "    }\n",
       "</style>\n",
       "<table border=\"1\" class=\"dataframe\">\n",
       "  <thead>\n",
       "    <tr style=\"text-align: right;\">\n",
       "      <th></th>\n",
       "      <th>NAME</th>\n",
       "      <th>state_name</th>\n",
       "      <th>population</th>\n",
       "      <th>fips</th>\n",
       "      <th>dt_first_case</th>\n",
       "      <th>dt_first_death</th>\n",
       "      <th>cases_ts</th>\n",
       "      <th>deaths_ts</th>\n",
       "      <th>today_case</th>\n",
       "      <th>today_new_case</th>\n",
       "      <th>today_death</th>\n",
       "      <th>today_new_death</th>\n",
       "      <th>dt_start</th>\n",
       "      <th>dt_end</th>\n",
       "      <th>dt_unit</th>\n",
       "      <th>geometry</th>\n",
       "    </tr>\n",
       "  </thead>\n",
       "  <tbody>\n",
       "    <tr>\n",
       "      <th>0</th>\n",
       "      <td>Bladen</td>\n",
       "      <td>North Carolina</td>\n",
       "      <td>33778</td>\n",
       "      <td>37017</td>\n",
       "      <td>2020-04-03</td>\n",
       "      <td>2020-05-06</td>\n",
       "      <td>0,0,0,0,0,0,0,0,0,0,0,0,0,0,0,0,0,0,0,0,0,0,0,...</td>\n",
       "      <td>0,0,0,0,0,0,0,0,0,0,0,0,0,0,0,0,0,0,0,0,0,0,0,...</td>\n",
       "      <td>366.0</td>\n",
       "      <td>9.0</td>\n",
       "      <td>3.0</td>\n",
       "      <td>0.0</td>\n",
       "      <td>2020-01-21</td>\n",
       "      <td>2020-06-29</td>\n",
       "      <td>day</td>\n",
       "      <td>MULTIPOLYGON (((-78.90200 34.83527, -78.79960 ...</td>\n",
       "    </tr>\n",
       "    <tr>\n",
       "      <th>1</th>\n",
       "      <td>Stanly</td>\n",
       "      <td>North Carolina</td>\n",
       "      <td>61114</td>\n",
       "      <td>37167</td>\n",
       "      <td>2020-03-20</td>\n",
       "      <td>2020-04-09</td>\n",
       "      <td>0,0,0,0,0,0,0,0,0,0,0,0,0,0,0,0,0,0,0,0,0,0,0,...</td>\n",
       "      <td>0,0,0,0,0,0,0,0,0,0,0,0,0,0,0,0,0,0,0,0,0,0,0,...</td>\n",
       "      <td>373.0</td>\n",
       "      <td>14.0</td>\n",
       "      <td>5.0</td>\n",
       "      <td>0.0</td>\n",
       "      <td>2020-01-21</td>\n",
       "      <td>2020-06-29</td>\n",
       "      <td>day</td>\n",
       "      <td>MULTIPOLYGON (((-80.49738 35.20210, -80.29542 ...</td>\n",
       "    </tr>\n",
       "    <tr>\n",
       "      <th>2</th>\n",
       "      <td>Summit</td>\n",
       "      <td>Ohio</td>\n",
       "      <td>541810</td>\n",
       "      <td>39153</td>\n",
       "      <td>2020-03-14</td>\n",
       "      <td>2020-03-27</td>\n",
       "      <td>0,0,0,0,0,0,0,0,0,0,0,0,0,0,0,0,0,0,0,0,0,0,0,...</td>\n",
       "      <td>0,0,0,0,0,0,0,0,0,0,0,0,0,0,0,0,0,0,0,0,0,0,0,...</td>\n",
       "      <td>1920.0</td>\n",
       "      <td>24.0</td>\n",
       "      <td>204.0</td>\n",
       "      <td>2.0</td>\n",
       "      <td>2020-01-21</td>\n",
       "      <td>2020-06-29</td>\n",
       "      <td>day</td>\n",
       "      <td>MULTIPOLYGON (((-81.68699 41.13596, -81.68495 ...</td>\n",
       "    </tr>\n",
       "    <tr>\n",
       "      <th>3</th>\n",
       "      <td>Sullivan</td>\n",
       "      <td>Pennsylvania</td>\n",
       "      <td>6177</td>\n",
       "      <td>42113</td>\n",
       "      <td>2020-04-04</td>\n",
       "      <td>None</td>\n",
       "      <td>0,0,0,0,0,0,0,0,0,0,0,0,0,0,0,0,0,0,0,0,0,0,0,...</td>\n",
       "      <td>0,0,0,0,0,0,0,0,0,0,0,0,0,0,0,0,0,0,0,0,0,0,0,...</td>\n",
       "      <td>5.0</td>\n",
       "      <td>0.0</td>\n",
       "      <td>0.0</td>\n",
       "      <td>0.0</td>\n",
       "      <td>2020-01-21</td>\n",
       "      <td>2020-06-29</td>\n",
       "      <td>day</td>\n",
       "      <td>MULTIPOLYGON (((-76.81373 41.59003, -76.22014 ...</td>\n",
       "    </tr>\n",
       "    <tr>\n",
       "      <th>4</th>\n",
       "      <td>Upshur</td>\n",
       "      <td>Texas</td>\n",
       "      <td>40769</td>\n",
       "      <td>48459</td>\n",
       "      <td>2020-03-20</td>\n",
       "      <td>None</td>\n",
       "      <td>0,0,0,0,0,0,0,0,0,0,0,0,0,0,0,0,0,0,0,0,0,0,0,...</td>\n",
       "      <td>0,0,0,0,0,0,0,0,0,0,0,0,0,0,0,0,0,0,0,0,0,0,0,...</td>\n",
       "      <td>46.0</td>\n",
       "      <td>0.0</td>\n",
       "      <td>0.0</td>\n",
       "      <td>0.0</td>\n",
       "      <td>2020-01-21</td>\n",
       "      <td>2020-06-29</td>\n",
       "      <td>day</td>\n",
       "      <td>MULTIPOLYGON (((-95.15274 32.66095, -95.15211 ...</td>\n",
       "    </tr>\n",
       "  </tbody>\n",
       "</table>\n",
       "</div>"
      ],
      "text/plain": [
       "       NAME      state_name  population   fips dt_first_case dt_first_death  \\\n",
       "0    Bladen  North Carolina       33778  37017    2020-04-03     2020-05-06   \n",
       "1    Stanly  North Carolina       61114  37167    2020-03-20     2020-04-09   \n",
       "2    Summit            Ohio      541810  39153    2020-03-14     2020-03-27   \n",
       "3  Sullivan    Pennsylvania        6177  42113    2020-04-04           None   \n",
       "4    Upshur           Texas       40769  48459    2020-03-20           None   \n",
       "\n",
       "                                            cases_ts  \\\n",
       "0  0,0,0,0,0,0,0,0,0,0,0,0,0,0,0,0,0,0,0,0,0,0,0,...   \n",
       "1  0,0,0,0,0,0,0,0,0,0,0,0,0,0,0,0,0,0,0,0,0,0,0,...   \n",
       "2  0,0,0,0,0,0,0,0,0,0,0,0,0,0,0,0,0,0,0,0,0,0,0,...   \n",
       "3  0,0,0,0,0,0,0,0,0,0,0,0,0,0,0,0,0,0,0,0,0,0,0,...   \n",
       "4  0,0,0,0,0,0,0,0,0,0,0,0,0,0,0,0,0,0,0,0,0,0,0,...   \n",
       "\n",
       "                                           deaths_ts  today_case  \\\n",
       "0  0,0,0,0,0,0,0,0,0,0,0,0,0,0,0,0,0,0,0,0,0,0,0,...       366.0   \n",
       "1  0,0,0,0,0,0,0,0,0,0,0,0,0,0,0,0,0,0,0,0,0,0,0,...       373.0   \n",
       "2  0,0,0,0,0,0,0,0,0,0,0,0,0,0,0,0,0,0,0,0,0,0,0,...      1920.0   \n",
       "3  0,0,0,0,0,0,0,0,0,0,0,0,0,0,0,0,0,0,0,0,0,0,0,...         5.0   \n",
       "4  0,0,0,0,0,0,0,0,0,0,0,0,0,0,0,0,0,0,0,0,0,0,0,...        46.0   \n",
       "\n",
       "   today_new_case  today_death  today_new_death    dt_start      dt_end  \\\n",
       "0             9.0          3.0              0.0  2020-01-21  2020-06-29   \n",
       "1            14.0          5.0              0.0  2020-01-21  2020-06-29   \n",
       "2            24.0        204.0              2.0  2020-01-21  2020-06-29   \n",
       "3             0.0          0.0              0.0  2020-01-21  2020-06-29   \n",
       "4             0.0          0.0              0.0  2020-01-21  2020-06-29   \n",
       "\n",
       "  dt_unit                                           geometry  \n",
       "0     day  MULTIPOLYGON (((-78.90200 34.83527, -78.79960 ...  \n",
       "1     day  MULTIPOLYGON (((-80.49738 35.20210, -80.29542 ...  \n",
       "2     day  MULTIPOLYGON (((-81.68699 41.13596, -81.68495 ...  \n",
       "3     day  MULTIPOLYGON (((-76.81373 41.59003, -76.22014 ...  \n",
       "4     day  MULTIPOLYGON (((-95.15274 32.66095, -95.15211 ...  "
      ]
     },
     "execution_count": 127,
     "metadata": {},
     "output_type": "execute_result"
    }
   ],
   "source": [
    "counties_gdf.head(5)"
   ]
  },
  {
   "cell_type": "code",
   "execution_count": 128,
   "metadata": {
    "pycharm": {
     "is_executing": false,
     "name": "#%%\n"
    }
   },
   "outputs": [],
   "source": [
    "case = counties_gdf['today_case']\n",
    "death = counties_gdf['today_death']\n",
    "case_per_100k_capita = counties_gdf['today_case']/(counties_gdf['population']/100000)\n",
    "death_per_100k_capita = counties_gdf['today_death']/(counties_gdf['population']/100000)\n",
    "# death_case_ratio = counties_gdf['today_death']/counties_gdf['today_case']\n",
    "# death_case_ratio = death_case_ratio.replace(np.nan, 0)"
   ]
  },
  {
   "cell_type": "code",
   "execution_count": 129,
   "metadata": {
    "pycharm": {
     "is_executing": false,
     "name": "#%%\n"
    }
   },
   "outputs": [],
   "source": [
    "log_case = case.apply(lambda x: np.log(x + 1))\n",
    "log_death = death.apply(lambda x: np.log(x + 1))\n",
    "log_case_per_100k_capita = case_per_100k_capita.apply(lambda x: np.log(x + 1))\n",
    "log_death_per_100k_capita = death.apply(lambda x: np.log(x + 1))\n",
    "\n"
   ]
  },
  {
   "cell_type": "markdown",
   "metadata": {
    "pycharm": {
     "name": "#%% md\n"
    }
   },
   "source": [
    "1.1 Get Constant Classes from today's data"
   ]
  },
  {
   "cell_type": "code",
   "execution_count": 130,
   "metadata": {
    "pycharm": {
     "is_executing": false,
     "name": "#%%\n"
    }
   },
   "outputs": [],
   "source": [
    "def create_dict(column):\n",
    "    tmp_dict = {}\n",
    "    tmp_dict['Quantiles'] = {\n",
    "        'bins': ','.join(mc.Quantiles(column, k=6).bins.astype(str)),\n",
    "        'k': 6\n",
    "    }\n",
    "    tmp_dict['FisherJenks'] = {\n",
    "        'bins': ','.join(mc.FisherJenks(column, k=6).bins.astype(str)),\n",
    "        'k': 6\n",
    "    }\n",
    "    tmp_dict['NaturalBreaks'] = {\n",
    "        'bins': ','.join(mc.NaturalBreaks(column, k=6).bins.astype(str)),\n",
    "        'k': 6\n",
    "    }\n",
    "    return tmp_dict"
   ]
  },
  {
   "cell_type": "code",
   "execution_count": 131,
   "metadata": {
    "pycharm": {
     "is_executing": false,
     "name": "#%%\n"
    }
   },
   "outputs": [],
   "source": [
    "county_dict['case'] = {}\n",
    "county_dict['death'] = {}\n",
    "county_dict['case_per_100k_capita'] = {}\n",
    "county_dict['death_per_100k_capita'] = {}"
   ]
  },
  {
   "cell_type": "code",
   "execution_count": 132,
   "metadata": {
    "pycharm": {
     "is_executing": false,
     "name": "#%%\n"
    }
   },
   "outputs": [
    {
     "name": "stderr",
     "output_type": "stream",
     "text": [
      "C:\\Users\\lymin\\Anaconda3\\envs\\wherecovid19\\lib\\site-packages\\mapclassify\\classifiers.py:237: UserWarning: Warning: Not enough unique values in array to form k classes\n",
      "  \"Warning: Not enough unique values in array to form k classes\", UserWarning\n",
      "C:\\Users\\lymin\\Anaconda3\\envs\\wherecovid19\\lib\\site-packages\\mapclassify\\classifiers.py:239: UserWarning: Warning: setting k to 5\n",
      "  Warn(\"Warning: setting k to %d\" % k_q, UserWarning)\n",
      "C:\\Users\\lymin\\Anaconda3\\envs\\wherecovid19\\lib\\site-packages\\mapclassify\\classifiers.py:237: UserWarning: Warning: Not enough unique values in array to form k classes\n",
      "  \"Warning: Not enough unique values in array to form k classes\", UserWarning\n",
      "C:\\Users\\lymin\\Anaconda3\\envs\\wherecovid19\\lib\\site-packages\\mapclassify\\classifiers.py:239: UserWarning: Warning: setting k to 5\n",
      "  Warn(\"Warning: setting k to %d\" % k_q, UserWarning)\n",
      "C:\\Users\\lymin\\Anaconda3\\envs\\wherecovid19\\lib\\site-packages\\mapclassify\\classifiers.py:237: UserWarning: Warning: Not enough unique values in array to form k classes\n",
      "  \"Warning: Not enough unique values in array to form k classes\", UserWarning\n",
      "C:\\Users\\lymin\\Anaconda3\\envs\\wherecovid19\\lib\\site-packages\\mapclassify\\classifiers.py:239: UserWarning: Warning: setting k to 5\n",
      "  Warn(\"Warning: setting k to %d\" % k_q, UserWarning)\n",
      "C:\\Users\\lymin\\Anaconda3\\envs\\wherecovid19\\lib\\site-packages\\mapclassify\\classifiers.py:237: UserWarning: Warning: Not enough unique values in array to form k classes\n",
      "  \"Warning: Not enough unique values in array to form k classes\", UserWarning\n",
      "C:\\Users\\lymin\\Anaconda3\\envs\\wherecovid19\\lib\\site-packages\\mapclassify\\classifiers.py:239: UserWarning: Warning: setting k to 5\n",
      "  Warn(\"Warning: setting k to %d\" % k_q, UserWarning)\n"
     ]
    }
   ],
   "source": [
    "county_dict['case']['nolog'] = create_dict(case)\n",
    "county_dict['case']['log'] = create_dict(log_case)\n",
    "county_dict['death']['nolog'] = create_dict(death)\n",
    "county_dict['death']['log'] = create_dict(log_death)\n",
    "county_dict['case_per_100k_capita']['nolog'] = create_dict(case_per_100k_capita)\n",
    "county_dict['case_per_100k_capita']['log'] = create_dict(log_case_per_100k_capita)\n",
    "county_dict['death_per_100k_capita']['nolog'] = create_dict(death_per_100k_capita)\n",
    "county_dict['death_per_100k_capita']['log'] = create_dict(log_death_per_100k_capita)\n"
   ]
  },
  {
   "cell_type": "code",
   "execution_count": 133,
   "metadata": {
    "pycharm": {
     "is_executing": false,
     "name": "#%%\n"
    }
   },
   "outputs": [
    {
     "data": {
      "text/plain": [
       "{'case': {'nolog': {'Quantiles': {'bins': '6.0,25.0,68.0,178.0,583.0000000000009,219670.0',\n",
       "    'k': 6},\n",
       "   'FisherJenks': {'bins': '2405.0,9203.0,23946.0,45178.0,100772.0,219670.0',\n",
       "    'k': 6},\n",
       "   'NaturalBreaks': {'bins': '2233.0,8676.0,23946.0,45178.0,100772.0,219670.0',\n",
       "    'k': 6}},\n",
       "  'log': {'Quantiles': {'bins': '1.9459101490553132,3.258096538021482,4.23410650459726,5.187385805840755,6.369900982828229,12.29988625148084',\n",
       "    'k': 6},\n",
       "   'FisherJenks': {'bins': '1.0986122886681098,2.8903717578961645,4.343805421853684,5.755742213586912,7.512071245835466,12.29988625148084',\n",
       "    'k': 6},\n",
       "   'NaturalBreaks': {'bins': '1.0986122886681098,2.8903717578961645,4.31748811353631,5.746203190540153,7.512071245835466,12.29988625148084',\n",
       "    'k': 6}}},\n",
       " 'death': {'nolog': {'Quantiles': {'bins': '0.0,1.0,4.0,18.0,21941.0', 'k': 6},\n",
       "   'FisherJenks': {'bins': '232.0,805.0,1595.0,2713.0,4554.0,21941.0', 'k': 6},\n",
       "   'NaturalBreaks': {'bins': '139.0,503.0,1183.0,2026.0,4554.0,21941.0',\n",
       "    'k': 6}},\n",
       "  'log': {'Quantiles': {'bins': '0.0,0.6931471805599453,1.6094379124341003,2.9444389791664403,9.996157887377436',\n",
       "    'k': 6},\n",
       "   'FisherJenks': {'bins': '0.0,1.3862943611198906,2.6390573296152584,3.970291913552122,5.602118820879701,9.996157887377436',\n",
       "    'k': 6},\n",
       "   'NaturalBreaks': {'bins': '0.0,1.3862943611198906,2.6390573296152584,3.9889840465642745,5.602118820879701,9.996157887377436',\n",
       "    'k': 6}}},\n",
       " 'case_per_100k_capita': {'nolog': {'Quantiles': {'bins': '62.19872492613903,138.35483523196896,249.37655860349125,437.7296422555022,805.7733589694117,57992.87659752776',\n",
       "    'k': 6},\n",
       "   'FisherJenks': {'bins': '390.06327293643943,1024.350390417155,2249.7281926904743,4668.339567255338,15481.040426198684,57992.87659752776',\n",
       "    'k': 6},\n",
       "   'NaturalBreaks': {'bins': '386.2679571199167,1020.7727249527893,2249.7281926904743,4668.339567255338,15481.040426198684,57992.87659752776',\n",
       "    'k': 6}},\n",
       "  'log': {'Quantiles': {'bins': '4.14628412572997,4.937023451797231,5.522966019042957,6.08388337428593,6.693042784921839,10.968092708050335',\n",
       "    'k': 6},\n",
       "   'FisherJenks': {'bins': '0.0,4.190590799519433,5.160344407002266,6.032955741109067,6.975966221952498,10.968092708050335',\n",
       "    'k': 6},\n",
       "   'NaturalBreaks': {'bins': '0.0,4.199397537979573,5.182614208076529,6.060798975698493,7.015168864701323,10.968092708050335',\n",
       "    'k': 6}}},\n",
       " 'death_per_100k_capita': {'nolog': {'Quantiles': {'bins': '0.0,3.830243603493182,10.13747982251613,28.47679141499681,2002.9331657238633',\n",
       "    'k': 6},\n",
       "   'FisherJenks': {'bins': '16.54202108672372,51.04273005687618,104.17269517911916,190.22534386889083,374.92677211482135,2002.9331657238633',\n",
       "    'k': 6},\n",
       "   'NaturalBreaks': {'bins': '16.648686085694116,51.04273005687618,104.17269517911916,190.22534386889083,374.92677211482135,2002.9331657238633',\n",
       "    'k': 6}},\n",
       "  'log': {'Quantiles': {'bins': '0.0,0.6931471805599453,1.6094379124341003,2.9444389791664403,9.996157887377436',\n",
       "    'k': 6},\n",
       "   'FisherJenks': {'bins': '0.0,1.3862943611198906,2.6390573296152584,3.970291913552122,5.602118820879701,9.996157887377436',\n",
       "    'k': 6},\n",
       "   'NaturalBreaks': {'bins': '0.0,1.3862943611198906,2.6390573296152584,3.9889840465642745,5.602118820879701,9.996157887377436',\n",
       "    'k': 6}}}}"
      ]
     },
     "execution_count": 133,
     "metadata": {},
     "output_type": "execute_result"
    }
   ],
   "source": [
    "county_dict"
   ]
  },
  {
   "cell_type": "markdown",
   "metadata": {
    "pycharm": {
     "name": "#%% md\n"
    }
   },
   "source": [
    "1.2 Create Dynamic classes"
   ]
  },
  {
   "cell_type": "code",
   "execution_count": 134,
   "metadata": {
    "pycharm": {
     "is_executing": false,
     "name": "#%%\n"
    }
   },
   "outputs": [],
   "source": [
    "# case_ts = counties_gdf['cases_ts'].apply(lambda x: x.split(','))\n",
    "# death_ts = counties_gdf['deaths_ts'].apply(lambda x: x.split(','))"
   ]
  },
  {
   "cell_type": "code",
   "execution_count": 135,
   "metadata": {
    "pycharm": {
     "is_executing": false,
     "name": "#%%\n"
    }
   },
   "outputs": [],
   "source": [
    "# length = len(case_ts[1])"
   ]
  },
  {
   "cell_type": "code",
   "execution_count": 136,
   "metadata": {
    "pycharm": {
     "is_executing": false,
     "name": "#%%\n"
    }
   },
   "outputs": [],
   "source": [
    "# new_case_dict = {}\n",
    "# for i in range(1,length):\n",
    "#     q6 = mc.Quantiles(case_ts.apply(lambda x: int(float(x[i]) - float(x[i - 1]))).values, k=6)\n",
    "#     new_case_dict[i] = ','.join(q6.bins.astype(int).astype(str))"
   ]
  },
  {
   "cell_type": "code",
   "execution_count": 137,
   "metadata": {
    "pycharm": {
     "is_executing": false,
     "name": "#%%\n"
    }
   },
   "outputs": [],
   "source": [
    "# new_death_dict = {}\n",
    "# for i in range(1,length):\n",
    "#     d6 = mc.Quantiles(death_ts.apply(lambda x: int(float(x[i]) - float(x[i - 1]))).values, k=6)\n",
    "#     new_death_dict[i] = ','.join(d6.bins.astype(int).astype(str))"
   ]
  },
  {
   "cell_type": "code",
   "execution_count": 138,
   "metadata": {
    "pycharm": {
     "is_executing": false,
     "name": "#%%\n"
    }
   },
   "outputs": [],
   "source": [
    "# dynamic_county_dict['new_case'] = new_case_dict\n",
    "# dynamic_county_dict['new_death'] = new_death_dict\n"
   ]
  },
  {
   "cell_type": "markdown",
   "metadata": {
    "pycharm": {
     "name": "#%% md\n"
    }
   },
   "source": [
    "2.Read State Data"
   ]
  },
  {
   "cell_type": "code",
   "execution_count": 139,
   "metadata": {
    "pycharm": {
     "is_executing": false,
     "name": "#%%\n"
    }
   },
   "outputs": [],
   "source": [
    "state_gdf = gpd.read_file('nyt_states_data.geojson')"
   ]
  },
  {
   "cell_type": "code",
   "execution_count": 140,
   "metadata": {
    "pycharm": {
     "is_executing": false,
     "name": "#%%\n"
    }
   },
   "outputs": [
    {
     "data": {
      "text/html": [
       "<div>\n",
       "<style scoped>\n",
       "    .dataframe tbody tr th:only-of-type {\n",
       "        vertical-align: middle;\n",
       "    }\n",
       "\n",
       "    .dataframe tbody tr th {\n",
       "        vertical-align: top;\n",
       "    }\n",
       "\n",
       "    .dataframe thead th {\n",
       "        text-align: right;\n",
       "    }\n",
       "</style>\n",
       "<table border=\"1\" class=\"dataframe\">\n",
       "  <thead>\n",
       "    <tr style=\"text-align: right;\">\n",
       "      <th></th>\n",
       "      <th>NAME</th>\n",
       "      <th>population</th>\n",
       "      <th>fips</th>\n",
       "      <th>dt_first_case</th>\n",
       "      <th>dt_first_death</th>\n",
       "      <th>cases_ts</th>\n",
       "      <th>deaths_ts</th>\n",
       "      <th>today_case</th>\n",
       "      <th>today_new_case</th>\n",
       "      <th>today_death</th>\n",
       "      <th>today_new_death</th>\n",
       "      <th>dt_start</th>\n",
       "      <th>dt_end</th>\n",
       "      <th>dt_unit</th>\n",
       "      <th>geometry</th>\n",
       "    </tr>\n",
       "  </thead>\n",
       "  <tbody>\n",
       "    <tr>\n",
       "      <th>0</th>\n",
       "      <td>West Virginia</td>\n",
       "      <td>1829054</td>\n",
       "      <td>54</td>\n",
       "      <td>2020-03-17</td>\n",
       "      <td>2020-03-29</td>\n",
       "      <td>0,0,0,0,0,0,0,0,0,0,0,0,0,0,0,0,0,0,0,0,0,0,0,...</td>\n",
       "      <td>0,0,0,0,0,0,0,0,0,0,0,0,0,0,0,0,0,0,0,0,0,0,0,...</td>\n",
       "      <td>2870.0</td>\n",
       "      <td>38.0</td>\n",
       "      <td>93.0</td>\n",
       "      <td>0.0</td>\n",
       "      <td>2020-01-21</td>\n",
       "      <td>2020-06-29</td>\n",
       "      <td>day</td>\n",
       "      <td>POLYGON ((-80.51899 40.63880, -80.51934 39.721...</td>\n",
       "    </tr>\n",
       "    <tr>\n",
       "      <th>1</th>\n",
       "      <td>Florida</td>\n",
       "      <td>20598139</td>\n",
       "      <td>12</td>\n",
       "      <td>2020-03-01</td>\n",
       "      <td>2020-03-06</td>\n",
       "      <td>0,0,0,0,0,0,0,0,0,0,0,0,0,0,0,0,0,0,0,0,0,0,0,...</td>\n",
       "      <td>0,0,0,0,0,0,0,0,0,0,0,0,0,0,0,0,0,0,0,0,0,0,0,...</td>\n",
       "      <td>146333.0</td>\n",
       "      <td>5266.0</td>\n",
       "      <td>3446.0</td>\n",
       "      <td>28.0</td>\n",
       "      <td>2020-01-21</td>\n",
       "      <td>2020-06-29</td>\n",
       "      <td>day</td>\n",
       "      <td>MULTIPOLYGON (((-82.98748 24.62538, -82.89993 ...</td>\n",
       "    </tr>\n",
       "    <tr>\n",
       "      <th>2</th>\n",
       "      <td>Illinois</td>\n",
       "      <td>12821497</td>\n",
       "      <td>17</td>\n",
       "      <td>2020-01-24</td>\n",
       "      <td>2020-03-17</td>\n",
       "      <td>0,0,0,1,1,1,1,1,1,2,2,2,2,2,2,2,2,2,2,2,2,2,2,...</td>\n",
       "      <td>0,0,0,0,0,0,0,0,0,0,0,0,0,0,0,0,0,0,0,0,0,0,0,...</td>\n",
       "      <td>143885.0</td>\n",
       "      <td>768.0</td>\n",
       "      <td>7115.0</td>\n",
       "      <td>17.0</td>\n",
       "      <td>2020-01-21</td>\n",
       "      <td>2020-06-29</td>\n",
       "      <td>day</td>\n",
       "      <td>POLYGON ((-90.64284 42.50848, -87.01994 42.493...</td>\n",
       "    </tr>\n",
       "    <tr>\n",
       "      <th>3</th>\n",
       "      <td>Minnesota</td>\n",
       "      <td>5527358</td>\n",
       "      <td>27</td>\n",
       "      <td>2020-03-06</td>\n",
       "      <td>2020-03-21</td>\n",
       "      <td>0,0,0,0,0,0,0,0,0,0,0,0,0,0,0,0,0,0,0,0,0,0,0,...</td>\n",
       "      <td>0,0,0,0,0,0,0,0,0,0,0,0,0,0,0,0,0,0,0,0,0,0,0,...</td>\n",
       "      <td>35896.0</td>\n",
       "      <td>312.0</td>\n",
       "      <td>1470.0</td>\n",
       "      <td>10.0</td>\n",
       "      <td>2020-01-21</td>\n",
       "      <td>2020-06-29</td>\n",
       "      <td>day</td>\n",
       "      <td>POLYGON ((-97.22872 49.00056, -95.15371 48.998...</td>\n",
       "    </tr>\n",
       "    <tr>\n",
       "      <th>4</th>\n",
       "      <td>Maryland</td>\n",
       "      <td>6003435</td>\n",
       "      <td>24</td>\n",
       "      <td>2020-03-05</td>\n",
       "      <td>2020-03-18</td>\n",
       "      <td>0,0,0,0,0,0,0,0,0,0,0,0,0,0,0,0,0,0,0,0,0,0,0,...</td>\n",
       "      <td>0,0,0,0,0,0,0,0,0,0,0,0,0,0,0,0,0,0,0,0,0,0,0,...</td>\n",
       "      <td>67837.0</td>\n",
       "      <td>477.0</td>\n",
       "      <td>3175.0</td>\n",
       "      <td>7.0</td>\n",
       "      <td>2020-01-21</td>\n",
       "      <td>2020-06-29</td>\n",
       "      <td>day</td>\n",
       "      <td>POLYGON ((-77.71952 39.32131, -77.76086 39.340...</td>\n",
       "    </tr>\n",
       "  </tbody>\n",
       "</table>\n",
       "</div>"
      ],
      "text/plain": [
       "            NAME  population fips dt_first_case dt_first_death  \\\n",
       "0  West Virginia     1829054   54    2020-03-17     2020-03-29   \n",
       "1        Florida    20598139   12    2020-03-01     2020-03-06   \n",
       "2       Illinois    12821497   17    2020-01-24     2020-03-17   \n",
       "3      Minnesota     5527358   27    2020-03-06     2020-03-21   \n",
       "4       Maryland     6003435   24    2020-03-05     2020-03-18   \n",
       "\n",
       "                                            cases_ts  \\\n",
       "0  0,0,0,0,0,0,0,0,0,0,0,0,0,0,0,0,0,0,0,0,0,0,0,...   \n",
       "1  0,0,0,0,0,0,0,0,0,0,0,0,0,0,0,0,0,0,0,0,0,0,0,...   \n",
       "2  0,0,0,1,1,1,1,1,1,2,2,2,2,2,2,2,2,2,2,2,2,2,2,...   \n",
       "3  0,0,0,0,0,0,0,0,0,0,0,0,0,0,0,0,0,0,0,0,0,0,0,...   \n",
       "4  0,0,0,0,0,0,0,0,0,0,0,0,0,0,0,0,0,0,0,0,0,0,0,...   \n",
       "\n",
       "                                           deaths_ts  today_case  \\\n",
       "0  0,0,0,0,0,0,0,0,0,0,0,0,0,0,0,0,0,0,0,0,0,0,0,...      2870.0   \n",
       "1  0,0,0,0,0,0,0,0,0,0,0,0,0,0,0,0,0,0,0,0,0,0,0,...    146333.0   \n",
       "2  0,0,0,0,0,0,0,0,0,0,0,0,0,0,0,0,0,0,0,0,0,0,0,...    143885.0   \n",
       "3  0,0,0,0,0,0,0,0,0,0,0,0,0,0,0,0,0,0,0,0,0,0,0,...     35896.0   \n",
       "4  0,0,0,0,0,0,0,0,0,0,0,0,0,0,0,0,0,0,0,0,0,0,0,...     67837.0   \n",
       "\n",
       "   today_new_case  today_death  today_new_death    dt_start      dt_end  \\\n",
       "0            38.0         93.0              0.0  2020-01-21  2020-06-29   \n",
       "1          5266.0       3446.0             28.0  2020-01-21  2020-06-29   \n",
       "2           768.0       7115.0             17.0  2020-01-21  2020-06-29   \n",
       "3           312.0       1470.0             10.0  2020-01-21  2020-06-29   \n",
       "4           477.0       3175.0              7.0  2020-01-21  2020-06-29   \n",
       "\n",
       "  dt_unit                                           geometry  \n",
       "0     day  POLYGON ((-80.51899 40.63880, -80.51934 39.721...  \n",
       "1     day  MULTIPOLYGON (((-82.98748 24.62538, -82.89993 ...  \n",
       "2     day  POLYGON ((-90.64284 42.50848, -87.01994 42.493...  \n",
       "3     day  POLYGON ((-97.22872 49.00056, -95.15371 48.998...  \n",
       "4     day  POLYGON ((-77.71952 39.32131, -77.76086 39.340...  "
      ]
     },
     "execution_count": 140,
     "metadata": {},
     "output_type": "execute_result"
    }
   ],
   "source": [
    "state_gdf.head(5)"
   ]
  },
  {
   "cell_type": "code",
   "execution_count": 141,
   "metadata": {
    "pycharm": {
     "is_executing": false,
     "name": "#%%\n"
    }
   },
   "outputs": [
    {
     "data": {
      "text/plain": [
       "NAME                                                  Virgin Islands\n",
       "population                                                         0\n",
       "fips                                                              78\n",
       "dt_first_case                                             2020-03-14\n",
       "dt_first_death                                            2020-04-06\n",
       "cases_ts           0,0,0,0,0,0,0,0,0,0,0,0,0,0,0,0,0,0,0,0,0,0,0,...\n",
       "deaths_ts          0,0,0,0,0,0,0,0,0,0,0,0,0,0,0,0,0,0,0,0,0,0,0,...\n",
       "today_case                                                        81\n",
       "today_new_case                                                     0\n",
       "today_death                                                        6\n",
       "today_new_death                                                    0\n",
       "dt_start                                                  2020-01-21\n",
       "dt_end                                                    2020-06-29\n",
       "dt_unit                                                          day\n",
       "geometry           (POLYGON ((-64.95671400000001 17.678977, -64.9...\n",
       "Name: 34, dtype: object"
      ]
     },
     "execution_count": 141,
     "metadata": {},
     "output_type": "execute_result"
    }
   ],
   "source": [
    "state_gdf.iloc[34]"
   ]
  },
  {
   "cell_type": "code",
   "execution_count": 142,
   "metadata": {
    "pycharm": {
     "is_executing": false,
     "name": "#%%\n"
    }
   },
   "outputs": [],
   "source": [
    "state_case = state_gdf['today_case']\n",
    "state_death = state_gdf['today_death']\n",
    "state_case_per_100k_capita = state_gdf['today_case']/(state_gdf['population']/100000)\n",
    "state_death_per_100k_capita = state_gdf['today_death']/(state_gdf['population']/100000)\n",
    "#death_case_ratio = counties_gdf['today_death']/counties_gdf['today_case']\n",
    "#death_case_ratio = death_case_ratio.replace(np.nan, 0)"
   ]
  },
  {
   "cell_type": "code",
   "execution_count": 143,
   "metadata": {
    "pycharm": {
     "is_executing": false,
     "name": "#%%\n"
    }
   },
   "outputs": [],
   "source": [
    "state_death_per_100k_capita = state_death_per_100k_capita.replace(np.nan,0)\n",
    "state_death_per_100k_capita = state_death_per_100k_capita.replace(np.inf,0)\n",
    "state_case_per_100k_capita = state_case_per_100k_capita.replace(np.nan,0)\n",
    "state_case_per_100k_capita = state_case_per_100k_capita.replace(np.inf,0)"
   ]
  },
  {
   "cell_type": "code",
   "execution_count": 144,
   "metadata": {
    "pycharm": {
     "is_executing": false,
     "name": "#%%\n"
    }
   },
   "outputs": [],
   "source": [
    "state_log_case = state_case.apply(lambda x: np.log(x + 1))\n",
    "state_log_death = state_death.apply(lambda x: np.log(x + 1))\n",
    "state_log_case_per_100k_capita = state_case_per_100k_capita.apply(lambda x: np.log(x + 1))\n",
    "state_log_death_per_100k_capita =state_death_per_100k_capita.apply(lambda x: np.log(x + 1))"
   ]
  },
  {
   "cell_type": "code",
   "execution_count": 145,
   "metadata": {
    "pycharm": {
     "is_executing": false,
     "name": "#%%\n"
    }
   },
   "outputs": [],
   "source": [
    "state_dict['case'] = {}\n",
    "state_dict['death'] = {}\n",
    "state_dict['case_per_100k_capita'] = {}\n",
    "state_dict['death_per_100k_capita'] = {}"
   ]
  },
  {
   "cell_type": "code",
   "execution_count": 146,
   "metadata": {
    "pycharm": {
     "is_executing": false,
     "name": "#%%\n"
    }
   },
   "outputs": [],
   "source": [
    "state_dict['case']['nolog'] = create_dict(state_case)\n",
    "state_dict['case']['log'] = create_dict(state_log_case)\n",
    "state_dict['death']['nolog'] = create_dict(state_death)\n",
    "state_dict['death']['log'] = create_dict(state_log_death)\n",
    "state_dict['case_per_100k_capita']['nolog'] = create_dict(state_case_per_100k_capita)\n",
    "state_dict['case_per_100k_capita']['log'] = create_dict(state_log_case_per_100k_capita)\n",
    "state_dict['death_per_100k_capita']['nolog'] = create_dict(state_death_per_100k_capita)\n",
    "state_dict['death_per_100k_capita']['log'] = create_dict(state_log_death_per_100k_capita)"
   ]
  },
  {
   "cell_type": "markdown",
   "metadata": {},
   "source": [
    "4. Read DPH Illinois County Data"
   ]
  },
  {
   "cell_type": "code",
   "execution_count": 147,
   "metadata": {
    "pycharm": {
     "is_executing": false,
     "name": "#%%\n"
    }
   },
   "outputs": [],
   "source": [
    "dph_illinois_gdf = gpd.read_file('illinois/dph_county_data.geojson')"
   ]
  },
  {
   "cell_type": "code",
   "execution_count": 148,
   "metadata": {
    "pycharm": {
     "is_executing": false,
     "name": "#%%\n"
    }
   },
   "outputs": [
    {
     "data": {
      "text/html": [
       "<div>\n",
       "<style scoped>\n",
       "    .dataframe tbody tr th:only-of-type {\n",
       "        vertical-align: middle;\n",
       "    }\n",
       "\n",
       "    .dataframe tbody tr th {\n",
       "        vertical-align: top;\n",
       "    }\n",
       "\n",
       "    .dataframe thead th {\n",
       "        text-align: right;\n",
       "    }\n",
       "</style>\n",
       "<table border=\"1\" class=\"dataframe\">\n",
       "  <thead>\n",
       "    <tr style=\"text-align: right;\">\n",
       "      <th></th>\n",
       "      <th>id</th>\n",
       "      <th>NAME</th>\n",
       "      <th>cases_ts</th>\n",
       "      <th>dt_first_case</th>\n",
       "      <th>today_case</th>\n",
       "      <th>today_new_case</th>\n",
       "      <th>deaths_ts</th>\n",
       "      <th>dt_first_death</th>\n",
       "      <th>today_death</th>\n",
       "      <th>today_new_death</th>\n",
       "      <th>today_tested</th>\n",
       "      <th>today_new_tested</th>\n",
       "      <th>dt_start</th>\n",
       "      <th>dt_end</th>\n",
       "      <th>dt_unit</th>\n",
       "      <th>population</th>\n",
       "      <th>geometry</th>\n",
       "    </tr>\n",
       "  </thead>\n",
       "  <tbody>\n",
       "    <tr>\n",
       "      <th>0</th>\n",
       "      <td>McHenry</td>\n",
       "      <td>McHenry</td>\n",
       "      <td>2,4,6,8,11,12,12,14,19,27,45,47,52,52,63,69,81...</td>\n",
       "      <td>2020-03-17</td>\n",
       "      <td>1123</td>\n",
       "      <td>40</td>\n",
       "      <td>0,0,0,0,0,0,0,0,0,1,1,2,2,2,2,2,3,3,3,3,3,4,5,...</td>\n",
       "      <td>2020-03-26</td>\n",
       "      <td>62</td>\n",
       "      <td>5</td>\n",
       "      <td>7054</td>\n",
       "      <td>252</td>\n",
       "      <td>2020-03-17</td>\n",
       "      <td>2020-05-15</td>\n",
       "      <td>day</td>\n",
       "      <td>1</td>\n",
       "      <td>POLYGON ((-88.70742 42.49352, -88.70741 42.493...</td>\n",
       "    </tr>\n",
       "    <tr>\n",
       "      <th>1</th>\n",
       "      <td>Boone</td>\n",
       "      <td>Boone</td>\n",
       "      <td>0,0,0,0,0,0,0,0,0,0,0,0,0,0,0,0,0,0,0,3,4,6,7,...</td>\n",
       "      <td>2020-04-05</td>\n",
       "      <td>274</td>\n",
       "      <td>6</td>\n",
       "      <td>0,0,0,0,0,0,0,0,0,0,0,0,0,0,0,0,0,0,0,0,0,0,1,...</td>\n",
       "      <td>2020-04-08</td>\n",
       "      <td>14</td>\n",
       "      <td>1</td>\n",
       "      <td>1496</td>\n",
       "      <td>65</td>\n",
       "      <td>2020-03-17</td>\n",
       "      <td>2020-05-15</td>\n",
       "      <td>day</td>\n",
       "      <td>1</td>\n",
       "      <td>POLYGON ((-88.70742 42.49352, -88.70750 42.493...</td>\n",
       "    </tr>\n",
       "    <tr>\n",
       "      <th>2</th>\n",
       "      <td>Ogle</td>\n",
       "      <td>Ogle</td>\n",
       "      <td>0,0,0,0,0,0,0,0,0,0,0,0,0,0,1,1,1,1,4,5,7,10,1...</td>\n",
       "      <td>2020-03-31</td>\n",
       "      <td>165</td>\n",
       "      <td>2</td>\n",
       "      <td>0,0,0,0,0,0,0,0,0,0,0,0,0,0,0,0,0,0,0,0,0,0,0,...</td>\n",
       "      <td>2020-04-15</td>\n",
       "      <td>2</td>\n",
       "      <td>0</td>\n",
       "      <td>1677</td>\n",
       "      <td>63</td>\n",
       "      <td>2020-03-17</td>\n",
       "      <td>2020-05-15</td>\n",
       "      <td>day</td>\n",
       "      <td>1</td>\n",
       "      <td>POLYGON ((-89.68809 42.19950, -89.68807 42.184...</td>\n",
       "    </tr>\n",
       "    <tr>\n",
       "      <th>3</th>\n",
       "      <td>Will</td>\n",
       "      <td>Will</td>\n",
       "      <td>2,3,9,10,12,21,21,28,40,67,104,127,182,223,228...</td>\n",
       "      <td>2020-03-17</td>\n",
       "      <td>4277</td>\n",
       "      <td>187</td>\n",
       "      <td>0,0,0,1,1,1,1,1,2,3,3,4,4,5,8,9,8,10,11,12,19,...</td>\n",
       "      <td>2020-03-20</td>\n",
       "      <td>237</td>\n",
       "      <td>6</td>\n",
       "      <td>24074</td>\n",
       "      <td>1203</td>\n",
       "      <td>2020-03-17</td>\n",
       "      <td>2020-05-15</td>\n",
       "      <td>day</td>\n",
       "      <td>1</td>\n",
       "      <td>POLYGON ((-88.26146 41.72439, -88.26103 41.708...</td>\n",
       "    </tr>\n",
       "    <tr>\n",
       "      <th>4</th>\n",
       "      <td>LaSalle</td>\n",
       "      <td>LaSalle</td>\n",
       "      <td>0,0,1,1,1,1,1,3,3,3,3,3,4,5,5,6,6,6,7,8,11,12,...</td>\n",
       "      <td>2020-03-19</td>\n",
       "      <td>117</td>\n",
       "      <td>4</td>\n",
       "      <td>0,0,0,0,0,0,0,0,0,0,0,0,1,1,1,1,1,1,1,1,1,1,1,...</td>\n",
       "      <td>2020-03-29</td>\n",
       "      <td>7</td>\n",
       "      <td>2</td>\n",
       "      <td>2096</td>\n",
       "      <td>78</td>\n",
       "      <td>2020-03-17</td>\n",
       "      <td>2020-05-15</td>\n",
       "      <td>day</td>\n",
       "      <td>1</td>\n",
       "      <td>POLYGON ((-88.93885 41.62837, -88.93891 41.628...</td>\n",
       "    </tr>\n",
       "  </tbody>\n",
       "</table>\n",
       "</div>"
      ],
      "text/plain": [
       "        id     NAME                                           cases_ts  \\\n",
       "0  McHenry  McHenry  2,4,6,8,11,12,12,14,19,27,45,47,52,52,63,69,81...   \n",
       "1    Boone    Boone  0,0,0,0,0,0,0,0,0,0,0,0,0,0,0,0,0,0,0,3,4,6,7,...   \n",
       "2     Ogle     Ogle  0,0,0,0,0,0,0,0,0,0,0,0,0,0,1,1,1,1,4,5,7,10,1...   \n",
       "3     Will     Will  2,3,9,10,12,21,21,28,40,67,104,127,182,223,228...   \n",
       "4  LaSalle  LaSalle  0,0,1,1,1,1,1,3,3,3,3,3,4,5,5,6,6,6,7,8,11,12,...   \n",
       "\n",
       "  dt_first_case  today_case  today_new_case  \\\n",
       "0    2020-03-17        1123              40   \n",
       "1    2020-04-05         274               6   \n",
       "2    2020-03-31         165               2   \n",
       "3    2020-03-17        4277             187   \n",
       "4    2020-03-19         117               4   \n",
       "\n",
       "                                           deaths_ts dt_first_death  \\\n",
       "0  0,0,0,0,0,0,0,0,0,1,1,2,2,2,2,2,3,3,3,3,3,4,5,...     2020-03-26   \n",
       "1  0,0,0,0,0,0,0,0,0,0,0,0,0,0,0,0,0,0,0,0,0,0,1,...     2020-04-08   \n",
       "2  0,0,0,0,0,0,0,0,0,0,0,0,0,0,0,0,0,0,0,0,0,0,0,...     2020-04-15   \n",
       "3  0,0,0,1,1,1,1,1,2,3,3,4,4,5,8,9,8,10,11,12,19,...     2020-03-20   \n",
       "4  0,0,0,0,0,0,0,0,0,0,0,0,1,1,1,1,1,1,1,1,1,1,1,...     2020-03-29   \n",
       "\n",
       "   today_death  today_new_death  today_tested  today_new_tested    dt_start  \\\n",
       "0           62                5          7054               252  2020-03-17   \n",
       "1           14                1          1496                65  2020-03-17   \n",
       "2            2                0          1677                63  2020-03-17   \n",
       "3          237                6         24074              1203  2020-03-17   \n",
       "4            7                2          2096                78  2020-03-17   \n",
       "\n",
       "       dt_end dt_unit  population  \\\n",
       "0  2020-05-15     day           1   \n",
       "1  2020-05-15     day           1   \n",
       "2  2020-05-15     day           1   \n",
       "3  2020-05-15     day           1   \n",
       "4  2020-05-15     day           1   \n",
       "\n",
       "                                            geometry  \n",
       "0  POLYGON ((-88.70742 42.49352, -88.70741 42.493...  \n",
       "1  POLYGON ((-88.70742 42.49352, -88.70750 42.493...  \n",
       "2  POLYGON ((-89.68809 42.19950, -89.68807 42.184...  \n",
       "3  POLYGON ((-88.26146 41.72439, -88.26103 41.708...  \n",
       "4  POLYGON ((-88.93885 41.62837, -88.93891 41.628...  "
      ]
     },
     "execution_count": 148,
     "metadata": {},
     "output_type": "execute_result"
    }
   ],
   "source": [
    "dph_illinois_gdf.head(5)"
   ]
  },
  {
   "cell_type": "code",
   "execution_count": 149,
   "metadata": {},
   "outputs": [],
   "source": [
    "dph_illinois_gdf = dph_illinois_gdf[dph_illinois_gdf['id'] != 'Illinois']"
   ]
  },
  {
   "cell_type": "code",
   "execution_count": 150,
   "metadata": {
    "pycharm": {
     "is_executing": false,
     "name": "#%%\n"
    }
   },
   "outputs": [],
   "source": [
    "dph_illinois_case = dph_illinois_gdf['today_case']\n",
    "\n",
    "#illinois_case_per_100k_capita = illinois_gdf['today_case']/(illinois_gdf['population']/100000)\n",
    "#illinois_death_per_100k_capita = illinois_gdf['today_death']/(illinois_gdf['population']/100000)\n",
    "#death_case_ratio = counties_gdf['today_death']/counties_gdf['today_case']\n",
    "#death_case_ratio = death_case_ratio.replace(np.nan, 0)"
   ]
  },
  {
   "cell_type": "code",
   "execution_count": 151,
   "metadata": {
    "pycharm": {
     "is_executing": false,
     "name": "#%%\n"
    }
   },
   "outputs": [],
   "source": [
    "# illinois_death_per_100k_capita = illinois_death_per_100k_capita.replace(np.nan,0)\n",
    "# illinois_death_per_100k_capita = illinois_death_per_100k_capita.replace(np.inf,0)\n",
    "# illinois_case_per_100k_capita = illinois_case_per_100k_capita.replace(np.nan,0)\n",
    "# illinois_case_per_100k_capita = illinois_case_per_100k_capita.replace(np.inf,0)"
   ]
  },
  {
   "cell_type": "code",
   "execution_count": 152,
   "metadata": {
    "pycharm": {
     "is_executing": false,
     "name": "#%%\n"
    }
   },
   "outputs": [],
   "source": [
    "dph_illinois_log_case = dph_illinois_case.apply(lambda x: np.log(x + 1))\n",
    "# illinois_log_death = illinois_death.apply(lambda x: np.log(x + 1))\n",
    "# illinois_log_case_per_100k_capita = illinois_case_per_100k_capita.apply(lambda x: np.log(x + 1))\n",
    "# illinois_log_death_per_100k_capita =illinois_death_per_100k_capita.apply(lambda x: np.log(x + 1))"
   ]
  },
  {
   "cell_type": "code",
   "execution_count": 153,
   "metadata": {
    "pycharm": {
     "is_executing": false,
     "name": "#%%\n"
    }
   },
   "outputs": [],
   "source": [
    "dph_illinois_dict['case'] = {}\n",
    "dph_illinois_dict['death'] = {}\n",
    "dph_illinois_dict['case_per_100k_capita'] = {}\n",
    "dph_illinois_dict['death_per_100k_capita'] = {}"
   ]
  },
  {
   "cell_type": "code",
   "execution_count": 154,
   "metadata": {
    "pycharm": {
     "is_executing": false,
     "name": "#%%\n"
    }
   },
   "outputs": [],
   "source": [
    "dph_illinois_dict['case']['nolog'] = create_dict(dph_illinois_case)\n",
    "dph_illinois_dict['case']['log'] = create_dict(dph_illinois_log_case)\n",
    "# dph_illinois_dict['death']['nolog'] = create_dict(illinois_death)\n",
    "# dph_illinois_dict['death']['log'] = create_dict(illinois_log_death)\n",
    "# dph_illinois_dict['case_per_100k_capita']['nolog'] = create_dict(illinois_case_per_100k_capita)\n",
    "# dph_illinois_dict['case_per_100k_capita']['log'] = create_dict(illinois_log_case_per_100k_capita)\n",
    "# dph_illinois_dict['death_per_100k_capita']['nolog'] = create_dict(illinois_death_per_100k_capita)\n",
    "# dph_illinois_dict['death_per_100k_capita']['log'] = create_dict(illinois_log_death_per_100k_capita)"
   ]
  },
  {
   "cell_type": "markdown",
   "metadata": {
    "pycharm": {
     "name": "#%% md\n"
    }
   },
   "source": [
    "6. Read DPH County Test (Static) and DPH Zipcode Case (Static)\n"
   ]
  },
  {
   "cell_type": "code",
   "execution_count": 155,
   "metadata": {
    "pycharm": {
     "is_executing": false,
     "name": "#%%\n"
    }
   },
   "outputs": [],
   "source": [
    "dph_illinois_test_gdf = gpd.read_file('illinois/dph_county_static_data.geojson')\n",
    "dph_zipcode_gdf = gpd.read_file('illinois/dph_zipcode_data.geojson')"
   ]
  },
  {
   "cell_type": "code",
   "execution_count": 156,
   "metadata": {
    "pycharm": {
     "is_executing": false,
     "name": "#%%\n"
    }
   },
   "outputs": [
    {
     "data": {
      "text/html": [
       "<div>\n",
       "<style scoped>\n",
       "    .dataframe tbody tr th:only-of-type {\n",
       "        vertical-align: middle;\n",
       "    }\n",
       "\n",
       "    .dataframe tbody tr th {\n",
       "        vertical-align: top;\n",
       "    }\n",
       "\n",
       "    .dataframe thead th {\n",
       "        text-align: right;\n",
       "    }\n",
       "</style>\n",
       "<table border=\"1\" class=\"dataframe\">\n",
       "  <thead>\n",
       "    <tr style=\"text-align: right;\">\n",
       "      <th></th>\n",
       "      <th>id</th>\n",
       "      <th>confirmed_cases</th>\n",
       "      <th>total_tested</th>\n",
       "      <th>geometry</th>\n",
       "    </tr>\n",
       "  </thead>\n",
       "  <tbody>\n",
       "    <tr>\n",
       "      <th>0</th>\n",
       "      <td>62359</td>\n",
       "      <td>0.0</td>\n",
       "      <td>0.0</td>\n",
       "      <td>POLYGON ((-91.18290 40.02688, -91.17656 40.020...</td>\n",
       "    </tr>\n",
       "    <tr>\n",
       "      <th>1</th>\n",
       "      <td>62376</td>\n",
       "      <td>0.0</td>\n",
       "      <td>0.0</td>\n",
       "      <td>POLYGON ((-91.35721 40.17576, -91.35600 40.151...</td>\n",
       "    </tr>\n",
       "    <tr>\n",
       "      <th>2</th>\n",
       "      <td>62312</td>\n",
       "      <td>0.0</td>\n",
       "      <td>0.0</td>\n",
       "      <td>POLYGON ((-90.97797 39.78881, -90.97787 39.772...</td>\n",
       "    </tr>\n",
       "    <tr>\n",
       "      <th>3</th>\n",
       "      <td>62365</td>\n",
       "      <td>0.0</td>\n",
       "      <td>0.0</td>\n",
       "      <td>POLYGON ((-91.16584 39.83701, -91.14703 39.837...</td>\n",
       "    </tr>\n",
       "    <tr>\n",
       "      <th>4</th>\n",
       "      <td>62246</td>\n",
       "      <td>6.0</td>\n",
       "      <td>130.0</td>\n",
       "      <td>POLYGON ((-89.56254 38.91811, -89.56794 38.923...</td>\n",
       "    </tr>\n",
       "    <tr>\n",
       "      <th>...</th>\n",
       "      <td>...</td>\n",
       "      <td>...</td>\n",
       "      <td>...</td>\n",
       "      <td>...</td>\n",
       "    </tr>\n",
       "    <tr>\n",
       "      <th>1379</th>\n",
       "      <td>60484</td>\n",
       "      <td>97.0</td>\n",
       "      <td>430.0</td>\n",
       "      <td>POLYGON ((-87.70969 41.45644, -87.70949 41.456...</td>\n",
       "    </tr>\n",
       "    <tr>\n",
       "      <th>1380</th>\n",
       "      <td>62948</td>\n",
       "      <td>8.0</td>\n",
       "      <td>262.0</td>\n",
       "      <td>MULTIPOLYGON (((-89.02159 37.74516, -89.03561 ...</td>\n",
       "    </tr>\n",
       "    <tr>\n",
       "      <th>1381</th>\n",
       "      <td>62921</td>\n",
       "      <td>0.0</td>\n",
       "      <td>0.0</td>\n",
       "      <td>POLYGON ((-89.09155 37.79258, -89.08896 37.807...</td>\n",
       "    </tr>\n",
       "    <tr>\n",
       "      <th>1382</th>\n",
       "      <td>62915</td>\n",
       "      <td>0.0</td>\n",
       "      <td>0.0</td>\n",
       "      <td>POLYGON ((-89.11994 37.78039, -89.12263 37.781...</td>\n",
       "    </tr>\n",
       "    <tr>\n",
       "      <th>1383</th>\n",
       "      <td>61088</td>\n",
       "      <td>6.0</td>\n",
       "      <td>136.0</td>\n",
       "      <td>MULTIPOLYGON (((-89.18498 42.37764, -89.18512 ...</td>\n",
       "    </tr>\n",
       "  </tbody>\n",
       "</table>\n",
       "<p>1384 rows × 4 columns</p>\n",
       "</div>"
      ],
      "text/plain": [
       "         id  confirmed_cases  total_tested  \\\n",
       "0     62359              0.0           0.0   \n",
       "1     62376              0.0           0.0   \n",
       "2     62312              0.0           0.0   \n",
       "3     62365              0.0           0.0   \n",
       "4     62246              6.0         130.0   \n",
       "...     ...              ...           ...   \n",
       "1379  60484             97.0         430.0   \n",
       "1380  62948              8.0         262.0   \n",
       "1381  62921              0.0           0.0   \n",
       "1382  62915              0.0           0.0   \n",
       "1383  61088              6.0         136.0   \n",
       "\n",
       "                                               geometry  \n",
       "0     POLYGON ((-91.18290 40.02688, -91.17656 40.020...  \n",
       "1     POLYGON ((-91.35721 40.17576, -91.35600 40.151...  \n",
       "2     POLYGON ((-90.97797 39.78881, -90.97787 39.772...  \n",
       "3     POLYGON ((-91.16584 39.83701, -91.14703 39.837...  \n",
       "4     POLYGON ((-89.56254 38.91811, -89.56794 38.923...  \n",
       "...                                                 ...  \n",
       "1379  POLYGON ((-87.70969 41.45644, -87.70949 41.456...  \n",
       "1380  MULTIPOLYGON (((-89.02159 37.74516, -89.03561 ...  \n",
       "1381  POLYGON ((-89.09155 37.79258, -89.08896 37.807...  \n",
       "1382  POLYGON ((-89.11994 37.78039, -89.12263 37.781...  \n",
       "1383  MULTIPOLYGON (((-89.18498 42.37764, -89.18512 ...  \n",
       "\n",
       "[1384 rows x 4 columns]"
      ]
     },
     "execution_count": 156,
     "metadata": {},
     "output_type": "execute_result"
    }
   ],
   "source": [
    "dph_zipcode_gdf"
   ]
  },
  {
   "cell_type": "code",
   "execution_count": 157,
   "metadata": {
    "pycharm": {
     "is_executing": false,
     "name": "#%%\n"
    }
   },
   "outputs": [],
   "source": [
    "dph_illinois_tested = dph_illinois_test_gdf['total_tested']\n",
    "dph_zipcode_tested = dph_zipcode_gdf['total_tested']\n",
    "dph_zipcode_case = dph_zipcode_gdf['confirmed_cases']"
   ]
  },
  {
   "cell_type": "code",
   "execution_count": 158,
   "metadata": {
    "pycharm": {
     "is_executing": false,
     "name": "#%%\n"
    }
   },
   "outputs": [],
   "source": [
    "dph_illinois_log_tested = dph_illinois_tested.apply(lambda x: np.log(x + 1))\n",
    "dph_zipcode_log_tested = dph_zipcode_tested.apply(lambda x: np.log(x + 1))\n",
    "dph_zipcode_log_case = dph_zipcode_case.apply(lambda x: np.log(x + 1))"
   ]
  },
  {
   "cell_type": "code",
   "execution_count": 159,
   "metadata": {
    "pycharm": {
     "is_executing": false,
     "name": "#%%\n"
    }
   },
   "outputs": [],
   "source": [
    "dph_illinois_dict['tested'] = {}\n",
    "dph_illinois_dict['zipcode_case'] = {}\n",
    "dph_illinois_dict['zipcode_tested'] = {}"
   ]
  },
  {
   "cell_type": "code",
   "execution_count": 160,
   "metadata": {
    "pycharm": {
     "is_executing": false,
     "name": "#%%\n"
    }
   },
   "outputs": [
    {
     "name": "stderr",
     "output_type": "stream",
     "text": [
      "C:\\Users\\lymin\\Anaconda3\\envs\\wherecovid19\\lib\\site-packages\\mapclassify\\classifiers.py:237: UserWarning: Warning: Not enough unique values in array to form k classes\n",
      "  \"Warning: Not enough unique values in array to form k classes\", UserWarning\n",
      "C:\\Users\\lymin\\Anaconda3\\envs\\wherecovid19\\lib\\site-packages\\mapclassify\\classifiers.py:239: UserWarning: Warning: setting k to 4\n",
      "  Warn(\"Warning: setting k to %d\" % k_q, UserWarning)\n",
      "C:\\Users\\lymin\\Anaconda3\\envs\\wherecovid19\\lib\\site-packages\\mapclassify\\classifiers.py:237: UserWarning: Warning: Not enough unique values in array to form k classes\n",
      "  \"Warning: Not enough unique values in array to form k classes\", UserWarning\n",
      "C:\\Users\\lymin\\Anaconda3\\envs\\wherecovid19\\lib\\site-packages\\mapclassify\\classifiers.py:239: UserWarning: Warning: setting k to 4\n",
      "  Warn(\"Warning: setting k to %d\" % k_q, UserWarning)\n",
      "C:\\Users\\lymin\\Anaconda3\\envs\\wherecovid19\\lib\\site-packages\\mapclassify\\classifiers.py:237: UserWarning: Warning: Not enough unique values in array to form k classes\n",
      "  \"Warning: Not enough unique values in array to form k classes\", UserWarning\n",
      "C:\\Users\\lymin\\Anaconda3\\envs\\wherecovid19\\lib\\site-packages\\mapclassify\\classifiers.py:239: UserWarning: Warning: setting k to 4\n",
      "  Warn(\"Warning: setting k to %d\" % k_q, UserWarning)\n",
      "C:\\Users\\lymin\\Anaconda3\\envs\\wherecovid19\\lib\\site-packages\\mapclassify\\classifiers.py:237: UserWarning: Warning: Not enough unique values in array to form k classes\n",
      "  \"Warning: Not enough unique values in array to form k classes\", UserWarning\n",
      "C:\\Users\\lymin\\Anaconda3\\envs\\wherecovid19\\lib\\site-packages\\mapclassify\\classifiers.py:239: UserWarning: Warning: setting k to 4\n",
      "  Warn(\"Warning: setting k to %d\" % k_q, UserWarning)\n"
     ]
    }
   ],
   "source": [
    "dph_illinois_dict['tested']['nolog'] = create_dict(dph_illinois_tested)\n",
    "dph_illinois_dict['tested']['log'] = create_dict(dph_illinois_log_tested)\n",
    "dph_illinois_dict['zipcode_case']['nolog'] = create_dict(dph_zipcode_case)\n",
    "dph_illinois_dict['zipcode_case']['log'] = create_dict(dph_zipcode_log_case)\n",
    "dph_illinois_dict['zipcode_tested']['nolog'] = create_dict(dph_zipcode_tested)\n",
    "dph_illinois_dict['zipcode_tested']['log'] = create_dict(dph_zipcode_log_tested)"
   ]
  },
  {
   "cell_type": "markdown",
   "metadata": {},
   "source": [
    "7. Read Worldwide Data"
   ]
  },
  {
   "cell_type": "code",
   "execution_count": 161,
   "metadata": {},
   "outputs": [],
   "source": [
    "who_world_gdf = gpd.read_file('worldwide/who_world_data.geojson')"
   ]
  },
  {
   "cell_type": "code",
   "execution_count": 162,
   "metadata": {},
   "outputs": [],
   "source": [
    "who_world_case = who_world_gdf['today_case']\n",
    "who_world_death = who_world_gdf['today_death']"
   ]
  },
  {
   "cell_type": "code",
   "execution_count": 163,
   "metadata": {},
   "outputs": [],
   "source": [
    "who_world_log_case = who_world_case.apply(lambda x: np.log(x + 1))\n",
    "who_world_log_death = who_world_death.apply(lambda x: np.log(x + 1))"
   ]
  },
  {
   "cell_type": "code",
   "execution_count": 164,
   "metadata": {},
   "outputs": [],
   "source": [
    "who_world_dict['case'] = {}\n",
    "who_world_dict['death'] = {}"
   ]
  },
  {
   "cell_type": "code",
   "execution_count": 165,
   "metadata": {},
   "outputs": [],
   "source": [
    "who_world_dict['case']['nolog'] = create_dict(who_world_case)\n",
    "who_world_dict['case']['log'] = create_dict(who_world_log_case)\n",
    "who_world_dict['death']['nolog'] = create_dict(who_world_death)\n",
    "who_world_dict['death']['log'] = create_dict(who_world_log_death)"
   ]
  },
  {
   "cell_type": "markdown",
   "metadata": {},
   "source": [
    "8. Read Vulnerability Data"
   ]
  },
  {
   "cell_type": "code",
   "execution_count": 166,
   "metadata": {},
   "outputs": [],
   "source": [
    "vul_gdf = gpd.read_file('illinois/vulnerability.geojson')"
   ]
  },
  {
   "cell_type": "code",
   "execution_count": 167,
   "metadata": {},
   "outputs": [],
   "source": [
    "vul = vul_gdf['today_vul']"
   ]
  },
  {
   "cell_type": "code",
   "execution_count": 168,
   "metadata": {},
   "outputs": [],
   "source": [
    "vul_dict['case'] = {}"
   ]
  },
  {
   "cell_type": "code",
   "execution_count": 169,
   "metadata": {},
   "outputs": [],
   "source": [
    "vul_dict['case']['nolog'] = create_dict(vul)"
   ]
  },
  {
   "cell_type": "markdown",
   "metadata": {
    "pycharm": {
     "name": "#%% md\n"
    }
   },
   "source": [
    "Summary and ouput\n"
   ]
  },
  {
   "cell_type": "code",
   "execution_count": 170,
   "metadata": {
    "pycharm": {
     "is_executing": false,
     "name": "#%%\n"
    }
   },
   "outputs": [
    {
     "name": "stdout",
     "output_type": "stream",
     "text": [
      "done\n"
     ]
    }
   ],
   "source": [
    "import json\n",
    "total_dict['county'] = county_dict\n",
    "total_dict['state'] = state_dict\n",
    "total_dict['dph_illinois'] = dph_illinois_dict\n",
    "total_dict['who_world'] = who_world_dict\n",
    "total_dict['vulnerability'] = vul_dict\n",
    "# dynamic_dict['county'] = dynamic_county_dict\n",
    "# dynamic_dict['state'] = dynamic_state_dict\n",
    "# dynamic_dict['illinois'] = dynamic_illinois_dict\n",
    "with open('classes.json','w') as json_file:\n",
    "    json.dump(total_dict, json_file)\n",
    "# with open('dynamic_classes.json','w') as json_file:\n",
    "#     json.dump(dynamic_dict, json_file)\n",
    "print('done')"
   ]
  }
 ],
 "metadata": {
  "kernelspec": {
   "display_name": "Python 3",
   "language": "python",
   "name": "python3"
  },
  "language_info": {
   "codemirror_mode": {
    "name": "ipython",
    "version": 3
   },
   "file_extension": ".py",
   "mimetype": "text/x-python",
   "name": "python",
   "nbconvert_exporter": "python",
   "pygments_lexer": "ipython3",
   "version": "3.7.7"
  },
  "pycharm": {
   "stem_cell": {
    "cell_type": "raw",
    "metadata": {
     "collapsed": false
    },
    "source": []
   }
  }
 },
 "nbformat": 4,
 "nbformat_minor": 1
}
