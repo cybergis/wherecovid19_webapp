{
 "cells": [
  {
   "cell_type": "code",
   "execution_count": 47,
   "metadata": {
    "collapsed": true,
    "pycharm": {
     "is_executing": false
    }
   },
   "outputs": [],
   "source": [
    "import geopandas as gpd\n",
    "import numpy as np\n",
    "import mapclassify as mc\n",
    "import matplotlib.pyplot as plt"
   ]
  },
  {
   "cell_type": "code",
   "execution_count": 48,
   "outputs": [],
   "source": [
    "total_dict = {}\n",
    "county_dict = {}\n",
    "state_dict = {}\n",
    "illinois_dict = {}\n",
    "dph_illinois_dict = {}"
   ],
   "metadata": {
    "collapsed": false,
    "pycharm": {
     "name": "#%%\n",
     "is_executing": false
    }
   }
  },
  {
   "cell_type": "code",
   "execution_count": 49,
   "outputs": [],
   "source": [
    "dynamic_dict = {}\n",
    "dynamic_county_dict = {}\n",
    "dynamic_state_dict = {}\n",
    "dynamic_illinois_dict = {}"
   ],
   "metadata": {
    "collapsed": false,
    "pycharm": {
     "name": "#%%\n",
     "is_executing": false
    }
   }
  },
  {
   "cell_type": "markdown",
   "source": [
    "1. Read County Data"
   ],
   "metadata": {
    "collapsed": false,
    "pycharm": {
     "name": "#%% md\n"
    }
   }
  },
  {
   "cell_type": "code",
   "execution_count": 50,
   "outputs": [],
   "source": [
    "counties_gdf = gpd.read_file('nyt_counties_data.geojson')"
   ],
   "metadata": {
    "collapsed": false,
    "pycharm": {
     "name": "#%%\n",
     "is_executing": false
    }
   }
  },
  {
   "cell_type": "code",
   "execution_count": 51,
   "outputs": [
    {
     "data": {
      "text/plain": "       NAME      state_name  population   fips dt_first_case dt_first_death  \\\n0    Bladen  North Carolina       33778  37017    2020-03-29           None   \n1    Stanly  North Carolina       61114  37167    2020-03-20     2020-04-09   \n2    Summit            Ohio      541810  39153    2020-03-14     2020-03-27   \n3  Sullivan    Pennsylvania        6177  42113    2020-04-04           None   \n4    Upshur           Texas       40769  48459    2020-03-20           None   \n\n                                            cases_ts  \\\n0  0,0,0,0,0,0,0,0,0,0,0,0,0,0,0,0,0,0,0,0,0,0,0,...   \n1  0.0,0.0,0.0,0.0,0.0,0.0,0.0,0.0,0.0,0.0,0.0,0....   \n2  0.0,0.0,0.0,0.0,0.0,0.0,0.0,0.0,0.0,0.0,0.0,0....   \n3  0.0,0.0,0.0,0.0,0.0,0.0,0.0,0.0,0.0,0.0,0.0,0....   \n4  0.0,0.0,0.0,0.0,0.0,0.0,0.0,0.0,0.0,0.0,0.0,0....   \n\n                                           deaths_ts  today_case  \\\n0  0.0,0.0,0.0,0.0,0.0,0.0,0.0,0.0,0.0,0.0,0.0,0....        21.0   \n1  0.0,0.0,0.0,0.0,0.0,0.0,0.0,0.0,0.0,0.0,0.0,0....        29.0   \n2  0.0,0.0,0.0,0.0,0.0,0.0,0.0,0.0,0.0,0.0,0.0,0....       608.0   \n3  0.0,0.0,0.0,0.0,0.0,0.0,0.0,0.0,0.0,0.0,0.0,0....         1.0   \n4  0.0,0.0,0.0,0.0,0.0,0.0,0.0,0.0,0.0,0.0,0.0,0....        14.0   \n\n   today_new_case  today_death  today_new_death    dt_start      dt_end  \\\n0             1.0          0.0              0.0  2020-01-21  2020-04-30   \n1             1.0          4.0              0.0  2020-01-21  2020-04-30   \n2            24.0         49.0              0.0  2020-01-21  2020-04-30   \n3             0.0          0.0              0.0  2020-01-21  2020-04-30   \n4             1.0          0.0              0.0  2020-01-21  2020-04-30   \n\n  dt_unit                                           geometry  \n0     day  MULTIPOLYGON (((-78.90200 34.83527, -78.79960 ...  \n1     day  MULTIPOLYGON (((-80.49738 35.20210, -80.29542 ...  \n2     day  MULTIPOLYGON (((-81.68699 41.13596, -81.68495 ...  \n3     day  MULTIPOLYGON (((-76.81373 41.59003, -76.22014 ...  \n4     day  MULTIPOLYGON (((-95.15274 32.66095, -95.15211 ...  ",
      "text/html": "<div>\n<style scoped>\n    .dataframe tbody tr th:only-of-type {\n        vertical-align: middle;\n    }\n\n    .dataframe tbody tr th {\n        vertical-align: top;\n    }\n\n    .dataframe thead th {\n        text-align: right;\n    }\n</style>\n<table border=\"1\" class=\"dataframe\">\n  <thead>\n    <tr style=\"text-align: right;\">\n      <th></th>\n      <th>NAME</th>\n      <th>state_name</th>\n      <th>population</th>\n      <th>fips</th>\n      <th>dt_first_case</th>\n      <th>dt_first_death</th>\n      <th>cases_ts</th>\n      <th>deaths_ts</th>\n      <th>today_case</th>\n      <th>today_new_case</th>\n      <th>today_death</th>\n      <th>today_new_death</th>\n      <th>dt_start</th>\n      <th>dt_end</th>\n      <th>dt_unit</th>\n      <th>geometry</th>\n    </tr>\n  </thead>\n  <tbody>\n    <tr>\n      <th>0</th>\n      <td>Bladen</td>\n      <td>North Carolina</td>\n      <td>33778</td>\n      <td>37017</td>\n      <td>2020-03-29</td>\n      <td>None</td>\n      <td>0,0,0,0,0,0,0,0,0,0,0,0,0,0,0,0,0,0,0,0,0,0,0,...</td>\n      <td>0.0,0.0,0.0,0.0,0.0,0.0,0.0,0.0,0.0,0.0,0.0,0....</td>\n      <td>21.0</td>\n      <td>1.0</td>\n      <td>0.0</td>\n      <td>0.0</td>\n      <td>2020-01-21</td>\n      <td>2020-04-30</td>\n      <td>day</td>\n      <td>MULTIPOLYGON (((-78.90200 34.83527, -78.79960 ...</td>\n    </tr>\n    <tr>\n      <th>1</th>\n      <td>Stanly</td>\n      <td>North Carolina</td>\n      <td>61114</td>\n      <td>37167</td>\n      <td>2020-03-20</td>\n      <td>2020-04-09</td>\n      <td>0.0,0.0,0.0,0.0,0.0,0.0,0.0,0.0,0.0,0.0,0.0,0....</td>\n      <td>0.0,0.0,0.0,0.0,0.0,0.0,0.0,0.0,0.0,0.0,0.0,0....</td>\n      <td>29.0</td>\n      <td>1.0</td>\n      <td>4.0</td>\n      <td>0.0</td>\n      <td>2020-01-21</td>\n      <td>2020-04-30</td>\n      <td>day</td>\n      <td>MULTIPOLYGON (((-80.49738 35.20210, -80.29542 ...</td>\n    </tr>\n    <tr>\n      <th>2</th>\n      <td>Summit</td>\n      <td>Ohio</td>\n      <td>541810</td>\n      <td>39153</td>\n      <td>2020-03-14</td>\n      <td>2020-03-27</td>\n      <td>0.0,0.0,0.0,0.0,0.0,0.0,0.0,0.0,0.0,0.0,0.0,0....</td>\n      <td>0.0,0.0,0.0,0.0,0.0,0.0,0.0,0.0,0.0,0.0,0.0,0....</td>\n      <td>608.0</td>\n      <td>24.0</td>\n      <td>49.0</td>\n      <td>0.0</td>\n      <td>2020-01-21</td>\n      <td>2020-04-30</td>\n      <td>day</td>\n      <td>MULTIPOLYGON (((-81.68699 41.13596, -81.68495 ...</td>\n    </tr>\n    <tr>\n      <th>3</th>\n      <td>Sullivan</td>\n      <td>Pennsylvania</td>\n      <td>6177</td>\n      <td>42113</td>\n      <td>2020-04-04</td>\n      <td>None</td>\n      <td>0.0,0.0,0.0,0.0,0.0,0.0,0.0,0.0,0.0,0.0,0.0,0....</td>\n      <td>0.0,0.0,0.0,0.0,0.0,0.0,0.0,0.0,0.0,0.0,0.0,0....</td>\n      <td>1.0</td>\n      <td>0.0</td>\n      <td>0.0</td>\n      <td>0.0</td>\n      <td>2020-01-21</td>\n      <td>2020-04-30</td>\n      <td>day</td>\n      <td>MULTIPOLYGON (((-76.81373 41.59003, -76.22014 ...</td>\n    </tr>\n    <tr>\n      <th>4</th>\n      <td>Upshur</td>\n      <td>Texas</td>\n      <td>40769</td>\n      <td>48459</td>\n      <td>2020-03-20</td>\n      <td>None</td>\n      <td>0.0,0.0,0.0,0.0,0.0,0.0,0.0,0.0,0.0,0.0,0.0,0....</td>\n      <td>0.0,0.0,0.0,0.0,0.0,0.0,0.0,0.0,0.0,0.0,0.0,0....</td>\n      <td>14.0</td>\n      <td>1.0</td>\n      <td>0.0</td>\n      <td>0.0</td>\n      <td>2020-01-21</td>\n      <td>2020-04-30</td>\n      <td>day</td>\n      <td>MULTIPOLYGON (((-95.15274 32.66095, -95.15211 ...</td>\n    </tr>\n  </tbody>\n</table>\n</div>"
     },
     "metadata": {},
     "output_type": "execute_result",
     "execution_count": 51
    }
   ],
   "source": [
    "counties_gdf.head(5)"
   ],
   "metadata": {
    "collapsed": false,
    "pycharm": {
     "name": "#%%\n",
     "is_executing": false
    }
   }
  },
  {
   "cell_type": "code",
   "execution_count": 52,
   "outputs": [],
   "source": [
    "case = counties_gdf['today_case']\n",
    "death = counties_gdf['today_death']\n",
    "case_per_100k_capita = counties_gdf['today_case']/(counties_gdf['population']/100000)\n",
    "death_per_100k_capita = counties_gdf['today_death']/(counties_gdf['population']/100000)\n",
    "# death_case_ratio = counties_gdf['today_death']/counties_gdf['today_case']\n",
    "# death_case_ratio = death_case_ratio.replace(np.nan, 0)"
   ],
   "metadata": {
    "collapsed": false,
    "pycharm": {
     "name": "#%%\n",
     "is_executing": false
    }
   }
  },
  {
   "cell_type": "code",
   "execution_count": 53,
   "outputs": [],
   "source": [
    "log_case = case.apply(lambda x: np.log(x + 1))\n",
    "log_death = death.apply(lambda x: np.log(x + 1))\n",
    "log_case_per_100k_capita = case_per_100k_capita.apply(lambda x: np.log(x + 1))\n",
    "log_death_per_100k_capita = death.apply(lambda x: np.log(x + 1))\n",
    "\n"
   ],
   "metadata": {
    "collapsed": false,
    "pycharm": {
     "name": "#%%\n",
     "is_executing": false
    }
   }
  },
  {
   "cell_type": "markdown",
   "source": [
    "1.1 Get Constant Classes from today's data"
   ],
   "metadata": {
    "collapsed": false,
    "pycharm": {
     "name": "#%% md\n"
    }
   }
  },
  {
   "cell_type": "code",
   "execution_count": 54,
   "outputs": [],
   "source": [
    "def create_dict(column):\n",
    "    tmp_dict = {}\n",
    "    tmp_dict['Quantiles'] = {\n",
    "        'bins': ','.join(mc.Quantiles(column, k=6).bins.astype(str)),\n",
    "        'k': 6\n",
    "    }\n",
    "    tmp_dict['FisherJenks'] = {\n",
    "        'bins': ','.join(mc.FisherJenks(column, k=6).bins.astype(str)),\n",
    "        'k': 6\n",
    "    }\n",
    "    tmp_dict['NaturalBreaks'] = {\n",
    "        'bins': ','.join(mc.NaturalBreaks(column, k=6).bins.astype(str)),\n",
    "        'k': 6\n",
    "    }\n",
    "    return tmp_dict"
   ],
   "metadata": {
    "collapsed": false,
    "pycharm": {
     "name": "#%%\n",
     "is_executing": false
    }
   }
  },
  {
   "cell_type": "code",
   "execution_count": 55,
   "outputs": [],
   "source": [
    "county_dict['case'] = {}\n",
    "county_dict['death'] = {}\n",
    "county_dict['case_per_100k_capita'] = {}\n",
    "county_dict['death_per_100k_capita'] = {}"
   ],
   "metadata": {
    "collapsed": false,
    "pycharm": {
     "name": "#%%\n",
     "is_executing": false
    }
   }
  },
  {
   "cell_type": "code",
   "execution_count": 56,
   "outputs": [
    {
     "name": "stderr",
     "text": [
      "C:\\Users\\Jason\\Anaconda3\\lib\\site-packages\\mapclassify\\classifiers.py:237: UserWarning: Warning: Not enough unique values in array to form k classes\n  \"Warning: Not enough unique values in array to form k classes\", UserWarning\nC:\\Users\\Jason\\Anaconda3\\lib\\site-packages\\mapclassify\\classifiers.py:239: UserWarning: Warning: setting k to 4\n  Warn(\"Warning: setting k to %d\" % k_q, UserWarning)\nC:\\Users\\Jason\\Anaconda3\\lib\\site-packages\\mapclassify\\classifiers.py:237: UserWarning: Warning: Not enough unique values in array to form k classes\n  \"Warning: Not enough unique values in array to form k classes\", UserWarning\nC:\\Users\\Jason\\Anaconda3\\lib\\site-packages\\mapclassify\\classifiers.py:239: UserWarning: Warning: setting k to 4\n  Warn(\"Warning: setting k to %d\" % k_q, UserWarning)\n",
      "C:\\Users\\Jason\\Anaconda3\\lib\\site-packages\\mapclassify\\classifiers.py:237: UserWarning: Warning: Not enough unique values in array to form k classes\n  \"Warning: Not enough unique values in array to form k classes\", UserWarning\nC:\\Users\\Jason\\Anaconda3\\lib\\site-packages\\mapclassify\\classifiers.py:239: UserWarning: Warning: setting k to 4\n  Warn(\"Warning: setting k to %d\" % k_q, UserWarning)\nC:\\Users\\Jason\\Anaconda3\\lib\\site-packages\\mapclassify\\classifiers.py:237: UserWarning: Warning: Not enough unique values in array to form k classes\n  \"Warning: Not enough unique values in array to form k classes\", UserWarning\nC:\\Users\\Jason\\Anaconda3\\lib\\site-packages\\mapclassify\\classifiers.py:239: UserWarning: Warning: setting k to 4\n  Warn(\"Warning: setting k to %d\" % k_q, UserWarning)\n"
     ],
     "output_type": "stream"
    }
   ],
   "source": [
    "county_dict['case']['nolog'] = create_dict(case)\n",
    "county_dict['case']['log'] = create_dict(log_case)\n",
    "county_dict['death']['nolog'] = create_dict(death)\n",
    "county_dict['death']['log'] = create_dict(log_death)\n",
    "county_dict['case_per_100k_capita']['nolog'] = create_dict(case_per_100k_capita)\n",
    "county_dict['case_per_100k_capita']['log'] = create_dict(log_case_per_100k_capita)\n",
    "county_dict['death_per_100k_capita']['nolog'] = create_dict(death_per_100k_capita)\n",
    "county_dict['death_per_100k_capita']['log'] = create_dict(log_death_per_100k_capita)\n"
   ],
   "metadata": {
    "collapsed": false,
    "pycharm": {
     "name": "#%%\n",
     "is_executing": false
    }
   }
  },
  {
   "cell_type": "code",
   "execution_count": 57,
   "outputs": [
    {
     "data": {
      "text/plain": "{'case': {'nolog': {'Quantiles': {'bins': '1.0,5.0,15.0,43.0,151.00000000000045,167489.0',\n    'k': 6},\n   'FisherJenks': {'bins': '1177.0,4031.0,8673.0,23182.0,36513.0,167489.0',\n    'k': 6},\n   'NaturalBreaks': {'bins': '1177.0,4031.0,8673.0,23182.0,36513.0,167489.0',\n    'k': 6}},\n  'log': {'Quantiles': {'bins': '0.6931471805599453,1.791759469228055,2.772588722239781,3.784189633918261,5.02388052084628,12.028678926972516',\n    'k': 6},\n   'FisherJenks': {'bins': '0.6931471805599453,2.1972245773362196,3.6109179126442243,5.093750200806762,6.982862751468942,12.028678926972516',\n    'k': 6},\n   'NaturalBreaks': {'bins': '0.6931471805599453,2.302585092994046,3.6888794541139363,5.159055299214529,7.061334366910438,12.028678926972516',\n    'k': 6}}},\n 'death': {'nolog': {'Quantiles': {'bins': '0.0,1.0,7.0,12514.0', 'k': 6},\n   'FisherJenks': {'bins': '71.0,285.0,698.0,1228.0,2111.0,12514.0', 'k': 6},\n   'NaturalBreaks': {'bins': '71.0,285.0,698.0,1228.0,2111.0,12514.0',\n    'k': 6}},\n  'log': {'Quantiles': {'bins': '0.0,0.6931471805599453,2.0794415416798357,9.434683203865875',\n    'k': 6},\n   'FisherJenks': {'bins': '0.0,1.0986122886681098,2.1972245773362196,3.4657359027997265,5.159055299214529,9.434683203865875',\n    'k': 6},\n   'NaturalBreaks': {'bins': '0.0,1.0986122886681098,2.302585092994046,3.58351893845611,5.241747015059643,9.434683203865875',\n    'k': 6}}},\n 'case_per_100k_capita': {'nolog': {'Quantiles': {'bins': '9.734254842791788,31.67062549485354,56.79666792881484,98.79080060064808,207.18536477848812,15130.944898386759',\n    'k': 6},\n   'FisherJenks': {'bins': '165.25084561956155,535.2513172200385,1316.4879498885232,2643.0009936869915,5943.775100401607,15130.944898386759',\n    'k': 6},\n   'NaturalBreaks': {'bins': '166.7052558462607,535.2513172200385,1316.4879498885232,2643.0009936869915,5943.775100401607,15130.944898386759',\n    'k': 6}},\n  'log': {'Quantiles': {'bins': '2.37344001511542,3.4864763712776803,4.056931125726204,4.603076000718513,5.338428859658676,9.624563344349697',\n    'k': 6},\n   'FisherJenks': {'bins': '1.2521383198399145,3.1259596405968972,4.044254080710875,4.950273930246581,6.134885111779609,9.624563344349697',\n    'k': 6},\n   'NaturalBreaks': {'bins': '1.3162691155712136,3.149515058871381,4.082761704186011,4.9939713083187245,6.16491439055316,9.624563344349697',\n    'k': 6}}},\n 'death_per_100k_capita': {'nolog': {'Quantiles': {'bins': '0.0,2.912522390015879,9.043760727930458,561.491724282422',\n    'k': 6},\n   'FisherJenks': {'bins': '7.25356028917527,25.86552513482405,62.71558482282847,133.73751783166904,268.0965147453083,561.491724282422',\n    'k': 6},\n   'NaturalBreaks': {'bins': '7.25356028917527,25.358988176371764,59.58067770693522,124.75907034603465,268.0965147453083,561.491724282422',\n    'k': 6}},\n  'log': {'Quantiles': {'bins': '0.0,0.6931471805599453,2.0794415416798357,9.434683203865875',\n    'k': 6},\n   'FisherJenks': {'bins': '0.0,1.0986122886681098,2.1972245773362196,3.4657359027997265,5.159055299214529,9.434683203865875',\n    'k': 6},\n   'NaturalBreaks': {'bins': '0.0,1.0986122886681098,2.1972245773362196,3.4657359027997265,5.159055299214529,9.434683203865875',\n    'k': 6}}}}"
     },
     "metadata": {},
     "output_type": "execute_result",
     "execution_count": 57
    }
   ],
   "source": [
    "county_dict"
   ],
   "metadata": {
    "collapsed": false,
    "pycharm": {
     "name": "#%%\n",
     "is_executing": false
    }
   }
  },
  {
   "cell_type": "markdown",
   "source": [
    "1.2 Create Dynamic classes"
   ],
   "metadata": {
    "collapsed": false,
    "pycharm": {
     "name": "#%% md\n"
    }
   }
  },
  {
   "cell_type": "code",
   "execution_count": 58,
   "outputs": [],
   "source": [
    "# case_ts = counties_gdf['cases_ts'].apply(lambda x: x.split(','))\n",
    "# death_ts = counties_gdf['deaths_ts'].apply(lambda x: x.split(','))"
   ],
   "metadata": {
    "collapsed": false,
    "pycharm": {
     "name": "#%%\n",
     "is_executing": false
    }
   }
  },
  {
   "cell_type": "code",
   "execution_count": 59,
   "outputs": [],
   "source": [
    "# length = len(case_ts[1])"
   ],
   "metadata": {
    "collapsed": false,
    "pycharm": {
     "name": "#%%\n",
     "is_executing": false
    }
   }
  },
  {
   "cell_type": "code",
   "execution_count": 60,
   "outputs": [],
   "source": [
    "# new_case_dict = {}\n",
    "# for i in range(1,length):\n",
    "#     q6 = mc.Quantiles(case_ts.apply(lambda x: int(float(x[i]) - float(x[i - 1]))).values, k=6)\n",
    "#     new_case_dict[i] = ','.join(q6.bins.astype(int).astype(str))"
   ],
   "metadata": {
    "collapsed": false,
    "pycharm": {
     "name": "#%%\n",
     "is_executing": false
    }
   }
  },
  {
   "cell_type": "code",
   "execution_count": 61,
   "outputs": [],
   "source": [
    "# new_death_dict = {}\n",
    "# for i in range(1,length):\n",
    "#     d6 = mc.Quantiles(death_ts.apply(lambda x: int(float(x[i]) - float(x[i - 1]))).values, k=6)\n",
    "#     new_death_dict[i] = ','.join(d6.bins.astype(int).astype(str))"
   ],
   "metadata": {
    "collapsed": false,
    "pycharm": {
     "name": "#%%\n",
     "is_executing": false
    }
   }
  },
  {
   "cell_type": "code",
   "execution_count": 62,
   "outputs": [],
   "source": [
    "# dynamic_county_dict['new_case'] = new_case_dict\n",
    "# dynamic_county_dict['new_death'] = new_death_dict\n"
   ],
   "metadata": {
    "collapsed": false,
    "pycharm": {
     "name": "#%%\n",
     "is_executing": false
    }
   }
  },
  {
   "cell_type": "markdown",
   "source": [
    "2.Read State Data"
   ],
   "metadata": {
    "collapsed": false,
    "pycharm": {
     "name": "#%% md\n"
    }
   }
  },
  {
   "cell_type": "code",
   "execution_count": 63,
   "outputs": [],
   "source": [
    "state_gdf = gpd.read_file('nyt_states_data.geojson')"
   ],
   "metadata": {
    "collapsed": false,
    "pycharm": {
     "name": "#%%\n",
     "is_executing": false
    }
   }
  },
  {
   "cell_type": "code",
   "execution_count": 64,
   "outputs": [
    {
     "data": {
      "text/plain": "            NAME  population fips dt_first_case dt_first_death  \\\n0  West Virginia     1829054   54    2020-03-17     2020-03-29   \n1        Florida    20598139   12    2020-03-01     2020-03-06   \n2       Illinois    12821497   17    2020-01-24     2020-03-17   \n3      Minnesota     5527358   27    2020-03-06     2020-03-21   \n4       Maryland     6003435   24    2020-03-05     2020-03-18   \n\n                                            cases_ts  \\\n0  0.0,0.0,0.0,0.0,0.0,0.0,0.0,0.0,0.0,0.0,0.0,0....   \n1  0.0,0.0,0.0,0.0,0.0,0.0,0.0,0.0,0.0,0.0,0.0,0....   \n2  0.0,0.0,0.0,1.0,1.0,1.0,1.0,1.0,1.0,2.0,2.0,2....   \n3  0.0,0.0,0.0,0.0,0.0,0.0,0.0,0.0,0.0,0.0,0.0,0....   \n4  0.0,0.0,0.0,0.0,0.0,0.0,0.0,0.0,0.0,0.0,0.0,0....   \n\n                                           deaths_ts  today_case  \\\n0  0.0,0.0,0.0,0.0,0.0,0.0,0.0,0.0,0.0,0.0,0.0,0....      1125.0   \n1  0.0,0.0,0.0,0.0,0.0,0.0,0.0,0.0,0.0,0.0,0.0,0....     33683.0   \n2  0.0,0.0,0.0,0.0,0.0,0.0,0.0,0.0,0.0,0.0,0.0,0....     52918.0   \n3  0.0,0.0,0.0,0.0,0.0,0.0,0.0,0.0,0.0,0.0,0.0,0....      5136.0   \n4  0.0,0.0,0.0,0.0,0.0,0.0,0.0,0.0,0.0,0.0,0.0,0....     21742.0   \n\n   today_new_case  today_death  today_new_death    dt_start      dt_end  \\\n0            16.0         44.0              4.0  2020-01-21  2020-04-30   \n1           498.0       1267.0             51.0  2020-01-21  2020-04-30   \n2          2563.0       2361.0            140.0  2020-01-21  2020-04-30   \n3           492.0        343.0             24.0  2020-01-21  2020-04-30   \n4           893.0       1047.0             62.0  2020-01-21  2020-04-30   \n\n  dt_unit                                           geometry  \n0     day  POLYGON ((-80.51899 40.63880, -80.51934 39.721...  \n1     day  MULTIPOLYGON (((-82.98748 24.62538, -82.89993 ...  \n2     day  POLYGON ((-90.64284 42.50848, -87.01994 42.493...  \n3     day  POLYGON ((-97.22872 49.00056, -95.15371 48.998...  \n4     day  POLYGON ((-77.71952 39.32131, -77.76086 39.340...  ",
      "text/html": "<div>\n<style scoped>\n    .dataframe tbody tr th:only-of-type {\n        vertical-align: middle;\n    }\n\n    .dataframe tbody tr th {\n        vertical-align: top;\n    }\n\n    .dataframe thead th {\n        text-align: right;\n    }\n</style>\n<table border=\"1\" class=\"dataframe\">\n  <thead>\n    <tr style=\"text-align: right;\">\n      <th></th>\n      <th>NAME</th>\n      <th>population</th>\n      <th>fips</th>\n      <th>dt_first_case</th>\n      <th>dt_first_death</th>\n      <th>cases_ts</th>\n      <th>deaths_ts</th>\n      <th>today_case</th>\n      <th>today_new_case</th>\n      <th>today_death</th>\n      <th>today_new_death</th>\n      <th>dt_start</th>\n      <th>dt_end</th>\n      <th>dt_unit</th>\n      <th>geometry</th>\n    </tr>\n  </thead>\n  <tbody>\n    <tr>\n      <th>0</th>\n      <td>West Virginia</td>\n      <td>1829054</td>\n      <td>54</td>\n      <td>2020-03-17</td>\n      <td>2020-03-29</td>\n      <td>0.0,0.0,0.0,0.0,0.0,0.0,0.0,0.0,0.0,0.0,0.0,0....</td>\n      <td>0.0,0.0,0.0,0.0,0.0,0.0,0.0,0.0,0.0,0.0,0.0,0....</td>\n      <td>1125.0</td>\n      <td>16.0</td>\n      <td>44.0</td>\n      <td>4.0</td>\n      <td>2020-01-21</td>\n      <td>2020-04-30</td>\n      <td>day</td>\n      <td>POLYGON ((-80.51899 40.63880, -80.51934 39.721...</td>\n    </tr>\n    <tr>\n      <th>1</th>\n      <td>Florida</td>\n      <td>20598139</td>\n      <td>12</td>\n      <td>2020-03-01</td>\n      <td>2020-03-06</td>\n      <td>0.0,0.0,0.0,0.0,0.0,0.0,0.0,0.0,0.0,0.0,0.0,0....</td>\n      <td>0.0,0.0,0.0,0.0,0.0,0.0,0.0,0.0,0.0,0.0,0.0,0....</td>\n      <td>33683.0</td>\n      <td>498.0</td>\n      <td>1267.0</td>\n      <td>51.0</td>\n      <td>2020-01-21</td>\n      <td>2020-04-30</td>\n      <td>day</td>\n      <td>MULTIPOLYGON (((-82.98748 24.62538, -82.89993 ...</td>\n    </tr>\n    <tr>\n      <th>2</th>\n      <td>Illinois</td>\n      <td>12821497</td>\n      <td>17</td>\n      <td>2020-01-24</td>\n      <td>2020-03-17</td>\n      <td>0.0,0.0,0.0,1.0,1.0,1.0,1.0,1.0,1.0,2.0,2.0,2....</td>\n      <td>0.0,0.0,0.0,0.0,0.0,0.0,0.0,0.0,0.0,0.0,0.0,0....</td>\n      <td>52918.0</td>\n      <td>2563.0</td>\n      <td>2361.0</td>\n      <td>140.0</td>\n      <td>2020-01-21</td>\n      <td>2020-04-30</td>\n      <td>day</td>\n      <td>POLYGON ((-90.64284 42.50848, -87.01994 42.493...</td>\n    </tr>\n    <tr>\n      <th>3</th>\n      <td>Minnesota</td>\n      <td>5527358</td>\n      <td>27</td>\n      <td>2020-03-06</td>\n      <td>2020-03-21</td>\n      <td>0.0,0.0,0.0,0.0,0.0,0.0,0.0,0.0,0.0,0.0,0.0,0....</td>\n      <td>0.0,0.0,0.0,0.0,0.0,0.0,0.0,0.0,0.0,0.0,0.0,0....</td>\n      <td>5136.0</td>\n      <td>492.0</td>\n      <td>343.0</td>\n      <td>24.0</td>\n      <td>2020-01-21</td>\n      <td>2020-04-30</td>\n      <td>day</td>\n      <td>POLYGON ((-97.22872 49.00056, -95.15371 48.998...</td>\n    </tr>\n    <tr>\n      <th>4</th>\n      <td>Maryland</td>\n      <td>6003435</td>\n      <td>24</td>\n      <td>2020-03-05</td>\n      <td>2020-03-18</td>\n      <td>0.0,0.0,0.0,0.0,0.0,0.0,0.0,0.0,0.0,0.0,0.0,0....</td>\n      <td>0.0,0.0,0.0,0.0,0.0,0.0,0.0,0.0,0.0,0.0,0.0,0....</td>\n      <td>21742.0</td>\n      <td>893.0</td>\n      <td>1047.0</td>\n      <td>62.0</td>\n      <td>2020-01-21</td>\n      <td>2020-04-30</td>\n      <td>day</td>\n      <td>POLYGON ((-77.71952 39.32131, -77.76086 39.340...</td>\n    </tr>\n  </tbody>\n</table>\n</div>"
     },
     "metadata": {},
     "output_type": "execute_result",
     "execution_count": 64
    }
   ],
   "source": [
    "state_gdf.head(5)"
   ],
   "metadata": {
    "collapsed": false,
    "pycharm": {
     "name": "#%%\n",
     "is_executing": false
    }
   }
  },
  {
   "cell_type": "code",
   "execution_count": 65,
   "outputs": [
    {
     "data": {
      "text/plain": "NAME                                                  Virgin Islands\npopulation                                                         0\nfips                                                              78\ndt_first_case                                             2020-03-14\ndt_first_death                                            2020-04-06\ncases_ts           0.0,0.0,0.0,0.0,0.0,0.0,0.0,0.0,0.0,0.0,0.0,0....\ndeaths_ts          0.0,0.0,0.0,0.0,0.0,0.0,0.0,0.0,0.0,0.0,0.0,0....\ntoday_case                                                        66\ntoday_new_case                                                     0\ntoday_death                                                        4\ntoday_new_death                                                    0\ndt_start                                                  2020-01-21\ndt_end                                                    2020-04-30\ndt_unit                                                          day\ngeometry           (POLYGON ((-64.95671400000001 17.678977, -64.9...\nName: 34, dtype: object"
     },
     "metadata": {},
     "output_type": "execute_result",
     "execution_count": 65
    }
   ],
   "source": [
    "state_gdf.iloc[34]"
   ],
   "metadata": {
    "collapsed": false,
    "pycharm": {
     "name": "#%%\n",
     "is_executing": false
    }
   }
  },
  {
   "cell_type": "code",
   "execution_count": 66,
   "outputs": [],
   "source": [
    "state_case = state_gdf['today_case']\n",
    "state_death = state_gdf['today_death']\n",
    "state_case_per_100k_capita = state_gdf['today_case']/(state_gdf['population']/100000)\n",
    "state_death_per_100k_capita = state_gdf['today_death']/(state_gdf['population']/100000)\n",
    "#death_case_ratio = counties_gdf['today_death']/counties_gdf['today_case']\n",
    "#death_case_ratio = death_case_ratio.replace(np.nan, 0)"
   ],
   "metadata": {
    "collapsed": false,
    "pycharm": {
     "name": "#%%\n",
     "is_executing": false
    }
   }
  },
  {
   "cell_type": "code",
   "execution_count": 67,
   "outputs": [],
   "source": [
    "state_death_per_100k_capita = state_death_per_100k_capita.replace(np.nan,0)\n",
    "state_death_per_100k_capita = state_death_per_100k_capita.replace(np.inf,0)\n",
    "state_case_per_100k_capita = state_case_per_100k_capita.replace(np.nan,0)\n",
    "state_case_per_100k_capita = state_case_per_100k_capita.replace(np.inf,0)"
   ],
   "metadata": {
    "collapsed": false,
    "pycharm": {
     "name": "#%%\n",
     "is_executing": false
    }
   }
  },
  {
   "cell_type": "code",
   "execution_count": 68,
   "outputs": [],
   "source": [
    "state_log_case = state_case.apply(lambda x: np.log(x + 1))\n",
    "state_log_death = state_death.apply(lambda x: np.log(x + 1))\n",
    "state_log_case_per_100k_capita = state_case_per_100k_capita.apply(lambda x: np.log(x + 1))\n",
    "state_log_death_per_100k_capita =state_death_per_100k_capita.apply(lambda x: np.log(x + 1))\n",
    "\n"
   ],
   "metadata": {
    "collapsed": false,
    "pycharm": {
     "name": "#%%\n",
     "is_executing": false
    }
   }
  },
  {
   "cell_type": "code",
   "execution_count": 69,
   "outputs": [],
   "source": [
    "state_dict['case'] = {}\n",
    "state_dict['death'] = {}\n",
    "state_dict['case_per_100k_capita'] = {}\n",
    "state_dict['death_per_100k_capita'] = {}"
   ],
   "metadata": {
    "collapsed": false,
    "pycharm": {
     "name": "#%%\n",
     "is_executing": false
    }
   }
  },
  {
   "cell_type": "code",
   "execution_count": 70,
   "outputs": [],
   "source": [
    "state_dict['case']['nolog'] = create_dict(state_case)\n",
    "state_dict['case']['log'] = create_dict(state_log_case)\n",
    "state_dict['death']['nolog'] = create_dict(state_death)\n",
    "state_dict['death']['log'] = create_dict(state_log_death)\n",
    "state_dict['case_per_100k_capita']['nolog'] = create_dict(state_case_per_100k_capita)\n",
    "state_dict['case_per_100k_capita']['log'] = create_dict(state_log_case_per_100k_capita)\n",
    "state_dict['death_per_100k_capita']['nolog'] = create_dict(state_death_per_100k_capita)\n",
    "state_dict['death_per_100k_capita']['log'] = create_dict(state_log_death_per_100k_capita)"
   ],
   "metadata": {
    "collapsed": false,
    "pycharm": {
     "name": "#%%\n",
     "is_executing": false
    }
   }
  },
  {
   "cell_type": "markdown",
   "source": [
    "3. Read Illinois County Data"
   ],
   "metadata": {
    "collapsed": false,
    "pycharm": {
     "name": "#%% md\n"
    }
   }
  },
  {
   "cell_type": "code",
   "execution_count": 71,
   "outputs": [],
   "source": [
    "illinois_gdf = gpd.read_file('illinois/nyt_illinois_counties_data.geojson')"
   ],
   "metadata": {
    "collapsed": false,
    "pycharm": {
     "name": "#%%\n",
     "is_executing": false
    }
   }
  },
  {
   "cell_type": "code",
   "execution_count": 72,
   "outputs": [
    {
     "data": {
      "text/plain": "      NAME state_name  population   fips dt_first_case dt_first_death  \\\n0    Clark   Illinois       15836  17023    2020-03-30           None   \n1  Kendall   Illinois      124626  17093    2020-03-18     2020-03-29   \n2    Brown   Illinois        6675  17009          None           None   \n3   Warren   Illinois       17338  17187    2020-04-11           None   \n4    Union   Illinois       17127  17181    2020-04-15           None   \n\n                                            cases_ts  \\\n0  0.0,0.0,0.0,0.0,0.0,0.0,0.0,0.0,0.0,0.0,0.0,0....   \n1  0.0,0.0,0.0,0.0,0.0,0.0,0.0,0.0,0.0,0.0,0.0,0....   \n2  0,0,0,0,0,0,0,0,0,0,0,0,0,0,0,0,0,0,0,0,0,0,0,...   \n3  0.0,0.0,0.0,0.0,0.0,0.0,0.0,0.0,0.0,0.0,0.0,0....   \n4  0.0,0.0,0.0,0.0,0.0,0.0,0.0,0.0,0.0,0.0,0.0,0....   \n\n                                           deaths_ts  today_case  \\\n0  0.0,0.0,0.0,0.0,0.0,0.0,0.0,0.0,0.0,0.0,0.0,0....         5.0   \n1  0.0,0.0,0.0,0.0,0.0,0.0,0.0,0.0,0.0,0.0,0.0,0....       266.0   \n2  0,0,0,0,0,0,0,0,0,0,0,0,0,0,0,0,0,0,0,0,0,0,0,...         0.0   \n3  0.0,0.0,0.0,0.0,0.0,0.0,0.0,0.0,0.0,0.0,0.0,0....        62.0   \n4  0.0,0.0,0.0,0.0,0.0,0.0,0.0,0.0,0.0,0.0,0.0,0....        17.0   \n\n   today_new_case  today_death  today_new_death    dt_start      dt_end  \\\n0             0.0          0.0              0.0  2020-01-21  2020-04-30   \n1            11.0          7.0              0.0  2020-01-21  2020-04-30   \n2             0.0          0.0              0.0  2020-01-21  2020-04-30   \n3             6.0          0.0              0.0  2020-01-21  2020-04-30   \n4             6.0          0.0              0.0  2020-01-21  2020-04-30   \n\n  dt_unit                                           geometry  \n0     day  MULTIPOLYGON (((-88.01421 39.48076, -87.96018 ...  \n1     day  MULTIPOLYGON (((-88.60193 41.71956, -88.40450 ...  \n2     day  MULTIPOLYGON (((-90.91347 40.10446, -90.69582 ...  \n3     day  MULTIPOLYGON (((-90.78519 41.06875, -90.43942 ...  \n4     day  MULTIPOLYGON (((-89.50179 37.55890, -89.49775 ...  ",
      "text/html": "<div>\n<style scoped>\n    .dataframe tbody tr th:only-of-type {\n        vertical-align: middle;\n    }\n\n    .dataframe tbody tr th {\n        vertical-align: top;\n    }\n\n    .dataframe thead th {\n        text-align: right;\n    }\n</style>\n<table border=\"1\" class=\"dataframe\">\n  <thead>\n    <tr style=\"text-align: right;\">\n      <th></th>\n      <th>NAME</th>\n      <th>state_name</th>\n      <th>population</th>\n      <th>fips</th>\n      <th>dt_first_case</th>\n      <th>dt_first_death</th>\n      <th>cases_ts</th>\n      <th>deaths_ts</th>\n      <th>today_case</th>\n      <th>today_new_case</th>\n      <th>today_death</th>\n      <th>today_new_death</th>\n      <th>dt_start</th>\n      <th>dt_end</th>\n      <th>dt_unit</th>\n      <th>geometry</th>\n    </tr>\n  </thead>\n  <tbody>\n    <tr>\n      <th>0</th>\n      <td>Clark</td>\n      <td>Illinois</td>\n      <td>15836</td>\n      <td>17023</td>\n      <td>2020-03-30</td>\n      <td>None</td>\n      <td>0.0,0.0,0.0,0.0,0.0,0.0,0.0,0.0,0.0,0.0,0.0,0....</td>\n      <td>0.0,0.0,0.0,0.0,0.0,0.0,0.0,0.0,0.0,0.0,0.0,0....</td>\n      <td>5.0</td>\n      <td>0.0</td>\n      <td>0.0</td>\n      <td>0.0</td>\n      <td>2020-01-21</td>\n      <td>2020-04-30</td>\n      <td>day</td>\n      <td>MULTIPOLYGON (((-88.01421 39.48076, -87.96018 ...</td>\n    </tr>\n    <tr>\n      <th>1</th>\n      <td>Kendall</td>\n      <td>Illinois</td>\n      <td>124626</td>\n      <td>17093</td>\n      <td>2020-03-18</td>\n      <td>2020-03-29</td>\n      <td>0.0,0.0,0.0,0.0,0.0,0.0,0.0,0.0,0.0,0.0,0.0,0....</td>\n      <td>0.0,0.0,0.0,0.0,0.0,0.0,0.0,0.0,0.0,0.0,0.0,0....</td>\n      <td>266.0</td>\n      <td>11.0</td>\n      <td>7.0</td>\n      <td>0.0</td>\n      <td>2020-01-21</td>\n      <td>2020-04-30</td>\n      <td>day</td>\n      <td>MULTIPOLYGON (((-88.60193 41.71956, -88.40450 ...</td>\n    </tr>\n    <tr>\n      <th>2</th>\n      <td>Brown</td>\n      <td>Illinois</td>\n      <td>6675</td>\n      <td>17009</td>\n      <td>None</td>\n      <td>None</td>\n      <td>0,0,0,0,0,0,0,0,0,0,0,0,0,0,0,0,0,0,0,0,0,0,0,...</td>\n      <td>0,0,0,0,0,0,0,0,0,0,0,0,0,0,0,0,0,0,0,0,0,0,0,...</td>\n      <td>0.0</td>\n      <td>0.0</td>\n      <td>0.0</td>\n      <td>0.0</td>\n      <td>2020-01-21</td>\n      <td>2020-04-30</td>\n      <td>day</td>\n      <td>MULTIPOLYGON (((-90.91347 40.10446, -90.69582 ...</td>\n    </tr>\n    <tr>\n      <th>3</th>\n      <td>Warren</td>\n      <td>Illinois</td>\n      <td>17338</td>\n      <td>17187</td>\n      <td>2020-04-11</td>\n      <td>None</td>\n      <td>0.0,0.0,0.0,0.0,0.0,0.0,0.0,0.0,0.0,0.0,0.0,0....</td>\n      <td>0.0,0.0,0.0,0.0,0.0,0.0,0.0,0.0,0.0,0.0,0.0,0....</td>\n      <td>62.0</td>\n      <td>6.0</td>\n      <td>0.0</td>\n      <td>0.0</td>\n      <td>2020-01-21</td>\n      <td>2020-04-30</td>\n      <td>day</td>\n      <td>MULTIPOLYGON (((-90.78519 41.06875, -90.43942 ...</td>\n    </tr>\n    <tr>\n      <th>4</th>\n      <td>Union</td>\n      <td>Illinois</td>\n      <td>17127</td>\n      <td>17181</td>\n      <td>2020-04-15</td>\n      <td>None</td>\n      <td>0.0,0.0,0.0,0.0,0.0,0.0,0.0,0.0,0.0,0.0,0.0,0....</td>\n      <td>0.0,0.0,0.0,0.0,0.0,0.0,0.0,0.0,0.0,0.0,0.0,0....</td>\n      <td>17.0</td>\n      <td>6.0</td>\n      <td>0.0</td>\n      <td>0.0</td>\n      <td>2020-01-21</td>\n      <td>2020-04-30</td>\n      <td>day</td>\n      <td>MULTIPOLYGON (((-89.50179 37.55890, -89.49775 ...</td>\n    </tr>\n  </tbody>\n</table>\n</div>"
     },
     "metadata": {},
     "output_type": "execute_result",
     "execution_count": 72
    }
   ],
   "source": [
    "illinois_gdf.head(5)"
   ],
   "metadata": {
    "collapsed": false,
    "pycharm": {
     "name": "#%%\n",
     "is_executing": false
    }
   }
  },
  {
   "cell_type": "code",
   "execution_count": 73,
   "outputs": [],
   "source": [
    "illinois_case = illinois_gdf['today_case']\n",
    "illinois_death = illinois_gdf['today_death']\n",
    "illinois_case_per_100k_capita = illinois_gdf['today_case']/(illinois_gdf['population']/100000)\n",
    "illinois_death_per_100k_capita = illinois_gdf['today_death']/(illinois_gdf['population']/100000)\n",
    "#death_case_ratio = counties_gdf['today_death']/counties_gdf['today_case']\n",
    "#death_case_ratio = death_case_ratio.replace(np.nan, 0)"
   ],
   "metadata": {
    "collapsed": false,
    "pycharm": {
     "name": "#%%\n",
     "is_executing": false
    }
   }
  },
  {
   "cell_type": "code",
   "execution_count": 74,
   "outputs": [],
   "source": [
    "illinois_death_per_100k_capita = illinois_death_per_100k_capita.replace(np.nan,0)\n",
    "illinois_death_per_100k_capita = illinois_death_per_100k_capita.replace(np.inf,0)\n",
    "illinois_case_per_100k_capita = illinois_case_per_100k_capita.replace(np.nan,0)\n",
    "illinois_case_per_100k_capita = illinois_case_per_100k_capita.replace(np.inf,0)"
   ],
   "metadata": {
    "collapsed": false,
    "pycharm": {
     "name": "#%%\n",
     "is_executing": false
    }
   }
  },
  {
   "cell_type": "code",
   "execution_count": 75,
   "outputs": [],
   "source": [
    "illinois_log_case = illinois_case.apply(lambda x: np.log(x + 1))\n",
    "illinois_log_death = illinois_death.apply(lambda x: np.log(x + 1))\n",
    "illinois_log_case_per_100k_capita = illinois_case_per_100k_capita.apply(lambda x: np.log(x + 1))\n",
    "illinois_log_death_per_100k_capita =illinois_death_per_100k_capita.apply(lambda x: np.log(x + 1))\n",
    "\n"
   ],
   "metadata": {
    "collapsed": false,
    "pycharm": {
     "name": "#%%\n",
     "is_executing": false
    }
   }
  },
  {
   "cell_type": "code",
   "execution_count": 76,
   "outputs": [],
   "source": [
    "illinois_dict['case'] = {}\n",
    "illinois_dict['death'] = {}\n",
    "illinois_dict['case_per_100k_capita'] = {}\n",
    "illinois_dict['death_per_100k_capita'] = {}"
   ],
   "metadata": {
    "collapsed": false,
    "pycharm": {
     "name": "#%%\n",
     "is_executing": false
    }
   }
  },
  {
   "cell_type": "code",
   "execution_count": 77,
   "outputs": [
    {
     "name": "stderr",
     "text": [
      "C:\\Users\\Jason\\Anaconda3\\lib\\site-packages\\mapclassify\\classifiers.py:237: UserWarning: Warning: Not enough unique values in array to form k classes\n  \"Warning: Not enough unique values in array to form k classes\", UserWarning\nC:\\Users\\Jason\\Anaconda3\\lib\\site-packages\\mapclassify\\classifiers.py:239: UserWarning: Warning: setting k to 4\n  Warn(\"Warning: setting k to %d\" % k_q, UserWarning)\nC:\\Users\\Jason\\Anaconda3\\lib\\site-packages\\mapclassify\\classifiers.py:237: UserWarning: Warning: Not enough unique values in array to form k classes\n  \"Warning: Not enough unique values in array to form k classes\", UserWarning\nC:\\Users\\Jason\\Anaconda3\\lib\\site-packages\\mapclassify\\classifiers.py:239: UserWarning: Warning: setting k to 4\n  Warn(\"Warning: setting k to %d\" % k_q, UserWarning)\nC:\\Users\\Jason\\Anaconda3\\lib\\site-packages\\mapclassify\\classifiers.py:237: UserWarning: Warning: Not enough unique values in array to form k classes\n  \"Warning: Not enough unique values in array to form k classes\", UserWarning\nC:\\Users\\Jason\\Anaconda3\\lib\\site-packages\\mapclassify\\classifiers.py:239: UserWarning: Warning: setting k to 4\n  Warn(\"Warning: setting k to %d\" % k_q, UserWarning)\nC:\\Users\\Jason\\Anaconda3\\lib\\site-packages\\mapclassify\\classifiers.py:237: UserWarning: Warning: Not enough unique values in array to form k classes\n  \"Warning: Not enough unique values in array to form k classes\", UserWarning\nC:\\Users\\Jason\\Anaconda3\\lib\\site-packages\\mapclassify\\classifiers.py:239: UserWarning: Warning: setting k to 4\n  Warn(\"Warning: setting k to %d\" % k_q, UserWarning)\n"
     ],
     "output_type": "stream"
    }
   ],
   "source": [
    "illinois_dict['case']['nolog'] = create_dict(illinois_case)\n",
    "illinois_dict['case']['log'] = create_dict(illinois_log_case)\n",
    "illinois_dict['death']['nolog'] = create_dict(illinois_death)\n",
    "illinois_dict['death']['log'] = create_dict(illinois_log_death)\n",
    "illinois_dict['case_per_100k_capita']['nolog'] = create_dict(illinois_case_per_100k_capita)\n",
    "illinois_dict['case_per_100k_capita']['log'] = create_dict(illinois_log_case_per_100k_capita)\n",
    "illinois_dict['death_per_100k_capita']['nolog'] = create_dict(illinois_death_per_100k_capita)\n",
    "illinois_dict['death_per_100k_capita']['log'] = create_dict(illinois_log_death_per_100k_capita)"
   ],
   "metadata": {
    "collapsed": false,
    "pycharm": {
     "name": "#%%\n",
     "is_executing": false
    }
   }
  },
  {
   "cell_type": "markdown",
   "source": [
    "4. Read DPH Illinois County Data"
   ],
   "metadata": {
    "collapsed": false
   }
  },
  {
   "cell_type": "code",
   "execution_count": 78,
   "outputs": [],
   "source": [
    "dph_illinois_gdf = gpd.read_file('illinois/dph_county_data.geojson')"
   ],
   "metadata": {
    "collapsed": false,
    "pycharm": {
     "name": "#%%\n",
     "is_executing": false
    }
   }
  },
  {
   "cell_type": "code",
   "execution_count": 79,
   "outputs": [
    {
     "data": {
      "text/plain": "        id   County                                           cases_ts  \\\n0  McHenry  McHenry  2.0,4.0,6.0,8.0,11.0,12.0,12.0,14.0,19.0,27.0,...   \n1    Boone    Boone  0.0,0.0,0.0,0.0,0.0,0.0,0.0,0.0,0.0,0.0,0.0,0....   \n2     Ogle     Ogle  0.0,0.0,0.0,0.0,0.0,0.0,0.0,0.0,0.0,0.0,0.0,0....   \n3     Will     Will  2.0,3.0,9.0,10.0,12.0,21.0,21.0,28.0,40.0,67.0...   \n4  LaSalle  LaSalle  0.0,0.0,1.0,1.0,1.0,1.0,1.0,3.0,3.0,3.0,3.0,3....   \n\n  dt_first_case  today_case  today_new_case    dt_start      dt_end dt_unit  \\\n0    2020-03-17       814.0            12.0  2020-03-17  2020-05-06     day   \n1    2020-04-05       155.0             9.0  2020-03-17  2020-05-06     day   \n2    2020-03-31       137.0             4.0  2020-03-17  2020-05-06     day   \n3    2020-03-17      3332.0           182.0  2020-03-17  2020-05-06     day   \n4    2020-03-19        84.0            15.0  2020-03-17  2020-05-06     day   \n\n   population                                           geometry  \n0           1  POLYGON ((-88.70742 42.49352, -88.70741 42.493...  \n1           1  POLYGON ((-88.70742 42.49352, -88.70750 42.493...  \n2           1  POLYGON ((-89.68809 42.19950, -89.68807 42.184...  \n3           1  POLYGON ((-88.26146 41.72439, -88.26103 41.708...  \n4           1  POLYGON ((-88.93885 41.62837, -88.93891 41.628...  ",
      "text/html": "<div>\n<style scoped>\n    .dataframe tbody tr th:only-of-type {\n        vertical-align: middle;\n    }\n\n    .dataframe tbody tr th {\n        vertical-align: top;\n    }\n\n    .dataframe thead th {\n        text-align: right;\n    }\n</style>\n<table border=\"1\" class=\"dataframe\">\n  <thead>\n    <tr style=\"text-align: right;\">\n      <th></th>\n      <th>id</th>\n      <th>County</th>\n      <th>cases_ts</th>\n      <th>dt_first_case</th>\n      <th>today_case</th>\n      <th>today_new_case</th>\n      <th>dt_start</th>\n      <th>dt_end</th>\n      <th>dt_unit</th>\n      <th>population</th>\n      <th>geometry</th>\n    </tr>\n  </thead>\n  <tbody>\n    <tr>\n      <th>0</th>\n      <td>McHenry</td>\n      <td>McHenry</td>\n      <td>2.0,4.0,6.0,8.0,11.0,12.0,12.0,14.0,19.0,27.0,...</td>\n      <td>2020-03-17</td>\n      <td>814.0</td>\n      <td>12.0</td>\n      <td>2020-03-17</td>\n      <td>2020-05-06</td>\n      <td>day</td>\n      <td>1</td>\n      <td>POLYGON ((-88.70742 42.49352, -88.70741 42.493...</td>\n    </tr>\n    <tr>\n      <th>1</th>\n      <td>Boone</td>\n      <td>Boone</td>\n      <td>0.0,0.0,0.0,0.0,0.0,0.0,0.0,0.0,0.0,0.0,0.0,0....</td>\n      <td>2020-04-05</td>\n      <td>155.0</td>\n      <td>9.0</td>\n      <td>2020-03-17</td>\n      <td>2020-05-06</td>\n      <td>day</td>\n      <td>1</td>\n      <td>POLYGON ((-88.70742 42.49352, -88.70750 42.493...</td>\n    </tr>\n    <tr>\n      <th>2</th>\n      <td>Ogle</td>\n      <td>Ogle</td>\n      <td>0.0,0.0,0.0,0.0,0.0,0.0,0.0,0.0,0.0,0.0,0.0,0....</td>\n      <td>2020-03-31</td>\n      <td>137.0</td>\n      <td>4.0</td>\n      <td>2020-03-17</td>\n      <td>2020-05-06</td>\n      <td>day</td>\n      <td>1</td>\n      <td>POLYGON ((-89.68809 42.19950, -89.68807 42.184...</td>\n    </tr>\n    <tr>\n      <th>3</th>\n      <td>Will</td>\n      <td>Will</td>\n      <td>2.0,3.0,9.0,10.0,12.0,21.0,21.0,28.0,40.0,67.0...</td>\n      <td>2020-03-17</td>\n      <td>3332.0</td>\n      <td>182.0</td>\n      <td>2020-03-17</td>\n      <td>2020-05-06</td>\n      <td>day</td>\n      <td>1</td>\n      <td>POLYGON ((-88.26146 41.72439, -88.26103 41.708...</td>\n    </tr>\n    <tr>\n      <th>4</th>\n      <td>LaSalle</td>\n      <td>LaSalle</td>\n      <td>0.0,0.0,1.0,1.0,1.0,1.0,1.0,3.0,3.0,3.0,3.0,3....</td>\n      <td>2020-03-19</td>\n      <td>84.0</td>\n      <td>15.0</td>\n      <td>2020-03-17</td>\n      <td>2020-05-06</td>\n      <td>day</td>\n      <td>1</td>\n      <td>POLYGON ((-88.93885 41.62837, -88.93891 41.628...</td>\n    </tr>\n  </tbody>\n</table>\n</div>"
     },
     "metadata": {},
     "output_type": "execute_result",
     "execution_count": 79
    }
   ],
   "source": [
    "dph_illinois_gdf.head(5)"
   ],
   "metadata": {
    "collapsed": false,
    "pycharm": {
     "name": "#%%\n",
     "is_executing": false
    }
   }
  },
  {
   "cell_type": "code",
   "execution_count": 80,
   "outputs": [],
   "source": [
    "dph_illinois_case = dph_illinois_gdf['today_case']\n",
    "\n",
    "#illinois_case_per_100k_capita = illinois_gdf['today_case']/(illinois_gdf['population']/100000)\n",
    "#illinois_death_per_100k_capita = illinois_gdf['today_death']/(illinois_gdf['population']/100000)\n",
    "#death_case_ratio = counties_gdf['today_death']/counties_gdf['today_case']\n",
    "#death_case_ratio = death_case_ratio.replace(np.nan, 0)"
   ],
   "metadata": {
    "collapsed": false,
    "pycharm": {
     "name": "#%%\n",
     "is_executing": false
    }
   }
  },
  {
   "cell_type": "code",
   "execution_count": 81,
   "outputs": [],
   "source": [
    "# illinois_death_per_100k_capita = illinois_death_per_100k_capita.replace(np.nan,0)\n",
    "# illinois_death_per_100k_capita = illinois_death_per_100k_capita.replace(np.inf,0)\n",
    "# illinois_case_per_100k_capita = illinois_case_per_100k_capita.replace(np.nan,0)\n",
    "# illinois_case_per_100k_capita = illinois_case_per_100k_capita.replace(np.inf,0)"
   ],
   "metadata": {
    "collapsed": false,
    "pycharm": {
     "name": "#%%\n",
     "is_executing": false
    }
   }
  },
  {
   "cell_type": "code",
   "execution_count": 82,
   "outputs": [],
   "source": [
    "dph_illinois_log_case = dph_illinois_case.apply(lambda x: np.log(x + 1))\n",
    "# illinois_log_death = illinois_death.apply(lambda x: np.log(x + 1))\n",
    "# illinois_log_case_per_100k_capita = illinois_case_per_100k_capita.apply(lambda x: np.log(x + 1))\n",
    "# illinois_log_death_per_100k_capita =illinois_death_per_100k_capita.apply(lambda x: np.log(x + 1))\n",
    "\n"
   ],
   "metadata": {
    "collapsed": false,
    "pycharm": {
     "name": "#%%\n",
     "is_executing": false
    }
   }
  },
  {
   "cell_type": "code",
   "execution_count": 83,
   "outputs": [],
   "source": [
    "dph_illinois_dict['case'] = {}\n",
    "dph_illinois_dict['death'] = {}\n",
    "dph_illinois_dict['case_per_100k_capita'] = {}\n",
    "dph_illinois_dict['death_per_100k_capita'] = {}"
   ],
   "metadata": {
    "collapsed": false,
    "pycharm": {
     "name": "#%%\n",
     "is_executing": false
    }
   }
  },
  {
   "cell_type": "code",
   "execution_count": 84,
   "outputs": [],
   "source": [
    "dph_illinois_dict['case']['nolog'] = create_dict(dph_illinois_case)\n",
    "dph_illinois_dict['case']['log'] = create_dict(dph_illinois_log_case)\n",
    "# dph_illinois_dict['death']['nolog'] = create_dict(illinois_death)\n",
    "# dph_illinois_dict['death']['log'] = create_dict(illinois_log_death)\n",
    "# dph_illinois_dict['case_per_100k_capita']['nolog'] = create_dict(illinois_case_per_100k_capita)\n",
    "# dph_illinois_dict['case_per_100k_capita']['log'] = create_dict(illinois_log_case_per_100k_capita)\n",
    "# dph_illinois_dict['death_per_100k_capita']['nolog'] = create_dict(illinois_death_per_100k_capita)\n",
    "# dph_illinois_dict['death_per_100k_capita']['log'] = create_dict(illinois_log_death_per_100k_capita)"
   ],
   "metadata": {
    "collapsed": false,
    "pycharm": {
     "name": "#%%\n",
     "is_executing": false
    }
   }
  },
  {
   "cell_type": "markdown",
   "source": [
    "6. Read DPH County Test (Static) and DPH Zipcode Case (Static)\n"
   ],
   "metadata": {
    "collapsed": false,
    "pycharm": {
     "name": "#%% md\n"
    }
   }
  },
  {
   "cell_type": "code",
   "execution_count": 85,
   "outputs": [],
   "source": [
    "dph_illinois_test_gdf = gpd.read_file('illinois/dph_county_static_data.geojson')\n",
    "dph_zipcode_gdf = gpd.read_file('illinois/dph_zipcode_data.geojson')"
   ],
   "metadata": {
    "collapsed": false,
    "pycharm": {
     "name": "#%%\n",
     "is_executing": false
    }
   }
  },
  {
   "cell_type": "code",
   "execution_count": 86,
   "outputs": [
    {
     "data": {
      "text/plain": "         id  confirmed_cases  total_tested  \\\n0     62359              0.0           0.0   \n1     62376              0.0           0.0   \n2     62312              0.0           0.0   \n3     62365              0.0           0.0   \n4     62246              0.0           0.0   \n5     62262              0.0           0.0   \n6     61114             33.0         212.0   \n7     61344              0.0           0.0   \n8     61376              0.0           0.0   \n9     61322              0.0           0.0   \n10    61421              0.0           0.0   \n11    61345              0.0           0.0   \n12    61845              0.0           0.0   \n13    61852              0.0           0.0   \n14    61956              0.0           0.0   \n15    61853             11.0         281.0   \n16    61873              0.0           0.0   \n17    61859              0.0           0.0   \n18    61871              0.0           0.0   \n19    61884              0.0           0.0   \n20    62423              0.0           0.0   \n21    62838              0.0           0.0   \n22    62293              0.0           0.0   \n23    61931              0.0           0.0   \n24    60453            468.0        1718.0   \n25    60525            168.0        1117.0   \n26    60068            180.0         845.0   \n27    60015            117.0         660.0   \n28    60201            221.0        1475.0   \n29    60107            267.0         965.0   \n...     ...              ...           ...   \n1354  62285              6.0          32.0   \n1355  62207             38.0          84.0   \n1356  62205             32.0          86.0   \n1357  62258             14.0          69.0   \n1358  62977              0.0           0.0   \n1359  62712              0.0           0.0   \n1360  62625              0.0           0.0   \n1361  62319              0.0           0.0   \n1362  62444              0.0           0.0   \n1363  62571              0.0           0.0   \n1364  62463              0.0           0.0   \n1365  61089              0.0           0.0   \n1366  61018              0.0           0.0   \n1367  61019              0.0           0.0   \n1368  61554             17.0         552.0   \n1369  61564              0.0           0.0   \n1370  61759              0.0           0.0   \n1371  62906             30.0         206.0   \n1372  61850              0.0           0.0   \n1373  61817              0.0           0.0   \n1374  61857              0.0           0.0   \n1375  62863              0.0           0.0   \n1376  62811              0.0           0.0   \n1377  61423              0.0           0.0   \n1378  61243              0.0           0.0   \n1379  60484             77.0         337.0   \n1380  62948              6.0         204.0   \n1381  62921              0.0           0.0   \n1382  62915              0.0           0.0   \n1383  61088              0.0           0.0   \n\n                                               geometry  \n0     POLYGON ((-91.18290 40.02688, -91.17656 40.020...  \n1     POLYGON ((-91.35721 40.17576, -91.35600 40.151...  \n2     POLYGON ((-90.97797 39.78881, -90.97787 39.772...  \n3     POLYGON ((-91.16584 39.83701, -91.14703 39.837...  \n4     POLYGON ((-89.56254 38.91811, -89.56794 38.923...  \n5     POLYGON ((-89.32698 38.94630, -89.32711 38.960...  \n6     POLYGON ((-89.05410 42.29931, -89.03284 42.318...  \n7     POLYGON ((-89.78949 41.35032, -89.78960 41.343...  \n8     POLYGON ((-89.63165 41.60313, -89.62100 41.606...  \n9     POLYGON ((-89.27806 41.32797, -89.27119 41.320...  \n10    POLYGON ((-89.78014 41.21269, -89.75614 41.213...  \n11    POLYGON ((-89.82342 41.33755, -89.80925 41.339...  \n12    POLYGON ((-88.45972 40.42063, -88.44210 40.422...  \n13    POLYGON ((-88.08476 39.86530, -88.08489 39.879...  \n14    POLYGON ((-88.21664 39.79894, -88.21672 39.806...  \n15    MULTIPOLYGON (((-88.44142 40.28179, -88.44133 ...  \n16    POLYGON ((-88.10460 40.05487, -88.10476 40.084...  \n17    POLYGON ((-87.94210 40.22548, -87.93951 40.210...  \n18    POLYGON ((-87.97026 40.19640, -87.96142 40.192...  \n19    POLYGON ((-88.51911 40.10527, -88.50908 40.108...  \n20    POLYGON ((-87.64792 39.48770, -87.64790 39.509...  \n21    POLYGON ((-88.86050 38.97678, -88.85111 38.979...  \n22    POLYGON ((-89.79031 38.65564, -89.77156 38.655...  \n23    POLYGON ((-88.42421 39.62257, -88.37346 39.622...  \n24    POLYGON ((-87.79174 41.71480, -87.79898 41.719...  \n25    POLYGON ((-87.88943 41.81967, -87.86603 41.819...  \n26    POLYGON ((-87.81633 42.01875, -87.82125 42.011...  \n27    POLYGON ((-87.93871 42.16284, -87.94105 42.168...  \n28    POLYGON ((-87.72747 42.05526, -87.73242 42.064...  \n29    POLYGON ((-88.21970 42.01456, -88.21419 42.022...  \n...                                                 ...  \n1354  POLYGON ((-90.03889 38.41078, -90.01060 38.410...  \n1355  POLYGON ((-90.15085 38.61443, -90.14953 38.613...  \n1356  POLYGON ((-90.14953 38.61335, -90.14298 38.618...  \n1357  POLYGON ((-89.75193 38.55388, -89.73347 38.553...  \n1358  POLYGON ((-88.52283 37.90678, -88.51727 37.899...  \n1359  POLYGON ((-89.64305 39.69917, -89.64384 39.713...  \n1360  POLYGON ((-89.64598 39.96119, -89.63623 39.957...  \n1361  POLYGON ((-90.79588 40.12479, -90.79569 40.142...  \n1362  POLYGON ((-88.81763 39.25884, -88.81839 39.267...  \n1363  POLYGON ((-88.91789 39.47803, -88.91748 39.405...  \n1364  POLYGON ((-88.69404 39.24485, -88.69416 39.259...  \n1365  POLYGON ((-89.89680 42.50579, -89.71940 42.505...  \n1366  POLYGON ((-89.62860 42.43959, -89.62037 42.447...  \n1367  POLYGON ((-89.45507 42.50118, -89.37175 42.500...  \n1368  POLYGON ((-89.62182 40.62941, -89.57459 40.630...  \n1369  POLYGON ((-89.64893 40.49587, -89.64866 40.490...  \n1370  POLYGON ((-89.26650 40.48555, -89.26618 40.471...  \n1371  POLYGON ((-89.26132 37.46844, -89.25691 37.469...  \n1372  POLYGON ((-87.70822 39.95019, -87.70982 39.942...  \n1373  POLYGON ((-87.76146 39.99852, -87.75647 40.001...  \n1374  POLYGON ((-87.84484 40.11814, -87.83696 40.119...  \n1375  POLYGON ((-87.85532 38.57001, -87.82736 38.569...  \n1376  POLYGON ((-87.91626 38.38576, -87.89514 38.387...  \n1377  POLYGON ((-90.51713 40.96177, -90.51697 40.976...  \n1378  POLYGON ((-89.70921 41.65699, -89.65466 41.656...  \n1379  POLYGON ((-87.70969 41.45644, -87.70949 41.456...  \n1380  MULTIPOLYGON (((-89.02159 37.74516, -89.03561 ...  \n1381  POLYGON ((-89.09155 37.79258, -89.08896 37.807...  \n1382  POLYGON ((-89.11994 37.78039, -89.12263 37.781...  \n1383  MULTIPOLYGON (((-89.18498 42.37764, -89.18512 ...  \n\n[1384 rows x 4 columns]",
      "text/html": "<div>\n<style scoped>\n    .dataframe tbody tr th:only-of-type {\n        vertical-align: middle;\n    }\n\n    .dataframe tbody tr th {\n        vertical-align: top;\n    }\n\n    .dataframe thead th {\n        text-align: right;\n    }\n</style>\n<table border=\"1\" class=\"dataframe\">\n  <thead>\n    <tr style=\"text-align: right;\">\n      <th></th>\n      <th>id</th>\n      <th>confirmed_cases</th>\n      <th>total_tested</th>\n      <th>geometry</th>\n    </tr>\n  </thead>\n  <tbody>\n    <tr>\n      <th>0</th>\n      <td>62359</td>\n      <td>0.0</td>\n      <td>0.0</td>\n      <td>POLYGON ((-91.18290 40.02688, -91.17656 40.020...</td>\n    </tr>\n    <tr>\n      <th>1</th>\n      <td>62376</td>\n      <td>0.0</td>\n      <td>0.0</td>\n      <td>POLYGON ((-91.35721 40.17576, -91.35600 40.151...</td>\n    </tr>\n    <tr>\n      <th>2</th>\n      <td>62312</td>\n      <td>0.0</td>\n      <td>0.0</td>\n      <td>POLYGON ((-90.97797 39.78881, -90.97787 39.772...</td>\n    </tr>\n    <tr>\n      <th>3</th>\n      <td>62365</td>\n      <td>0.0</td>\n      <td>0.0</td>\n      <td>POLYGON ((-91.16584 39.83701, -91.14703 39.837...</td>\n    </tr>\n    <tr>\n      <th>4</th>\n      <td>62246</td>\n      <td>0.0</td>\n      <td>0.0</td>\n      <td>POLYGON ((-89.56254 38.91811, -89.56794 38.923...</td>\n    </tr>\n    <tr>\n      <th>5</th>\n      <td>62262</td>\n      <td>0.0</td>\n      <td>0.0</td>\n      <td>POLYGON ((-89.32698 38.94630, -89.32711 38.960...</td>\n    </tr>\n    <tr>\n      <th>6</th>\n      <td>61114</td>\n      <td>33.0</td>\n      <td>212.0</td>\n      <td>POLYGON ((-89.05410 42.29931, -89.03284 42.318...</td>\n    </tr>\n    <tr>\n      <th>7</th>\n      <td>61344</td>\n      <td>0.0</td>\n      <td>0.0</td>\n      <td>POLYGON ((-89.78949 41.35032, -89.78960 41.343...</td>\n    </tr>\n    <tr>\n      <th>8</th>\n      <td>61376</td>\n      <td>0.0</td>\n      <td>0.0</td>\n      <td>POLYGON ((-89.63165 41.60313, -89.62100 41.606...</td>\n    </tr>\n    <tr>\n      <th>9</th>\n      <td>61322</td>\n      <td>0.0</td>\n      <td>0.0</td>\n      <td>POLYGON ((-89.27806 41.32797, -89.27119 41.320...</td>\n    </tr>\n    <tr>\n      <th>10</th>\n      <td>61421</td>\n      <td>0.0</td>\n      <td>0.0</td>\n      <td>POLYGON ((-89.78014 41.21269, -89.75614 41.213...</td>\n    </tr>\n    <tr>\n      <th>11</th>\n      <td>61345</td>\n      <td>0.0</td>\n      <td>0.0</td>\n      <td>POLYGON ((-89.82342 41.33755, -89.80925 41.339...</td>\n    </tr>\n    <tr>\n      <th>12</th>\n      <td>61845</td>\n      <td>0.0</td>\n      <td>0.0</td>\n      <td>POLYGON ((-88.45972 40.42063, -88.44210 40.422...</td>\n    </tr>\n    <tr>\n      <th>13</th>\n      <td>61852</td>\n      <td>0.0</td>\n      <td>0.0</td>\n      <td>POLYGON ((-88.08476 39.86530, -88.08489 39.879...</td>\n    </tr>\n    <tr>\n      <th>14</th>\n      <td>61956</td>\n      <td>0.0</td>\n      <td>0.0</td>\n      <td>POLYGON ((-88.21664 39.79894, -88.21672 39.806...</td>\n    </tr>\n    <tr>\n      <th>15</th>\n      <td>61853</td>\n      <td>11.0</td>\n      <td>281.0</td>\n      <td>MULTIPOLYGON (((-88.44142 40.28179, -88.44133 ...</td>\n    </tr>\n    <tr>\n      <th>16</th>\n      <td>61873</td>\n      <td>0.0</td>\n      <td>0.0</td>\n      <td>POLYGON ((-88.10460 40.05487, -88.10476 40.084...</td>\n    </tr>\n    <tr>\n      <th>17</th>\n      <td>61859</td>\n      <td>0.0</td>\n      <td>0.0</td>\n      <td>POLYGON ((-87.94210 40.22548, -87.93951 40.210...</td>\n    </tr>\n    <tr>\n      <th>18</th>\n      <td>61871</td>\n      <td>0.0</td>\n      <td>0.0</td>\n      <td>POLYGON ((-87.97026 40.19640, -87.96142 40.192...</td>\n    </tr>\n    <tr>\n      <th>19</th>\n      <td>61884</td>\n      <td>0.0</td>\n      <td>0.0</td>\n      <td>POLYGON ((-88.51911 40.10527, -88.50908 40.108...</td>\n    </tr>\n    <tr>\n      <th>20</th>\n      <td>62423</td>\n      <td>0.0</td>\n      <td>0.0</td>\n      <td>POLYGON ((-87.64792 39.48770, -87.64790 39.509...</td>\n    </tr>\n    <tr>\n      <th>21</th>\n      <td>62838</td>\n      <td>0.0</td>\n      <td>0.0</td>\n      <td>POLYGON ((-88.86050 38.97678, -88.85111 38.979...</td>\n    </tr>\n    <tr>\n      <th>22</th>\n      <td>62293</td>\n      <td>0.0</td>\n      <td>0.0</td>\n      <td>POLYGON ((-89.79031 38.65564, -89.77156 38.655...</td>\n    </tr>\n    <tr>\n      <th>23</th>\n      <td>61931</td>\n      <td>0.0</td>\n      <td>0.0</td>\n      <td>POLYGON ((-88.42421 39.62257, -88.37346 39.622...</td>\n    </tr>\n    <tr>\n      <th>24</th>\n      <td>60453</td>\n      <td>468.0</td>\n      <td>1718.0</td>\n      <td>POLYGON ((-87.79174 41.71480, -87.79898 41.719...</td>\n    </tr>\n    <tr>\n      <th>25</th>\n      <td>60525</td>\n      <td>168.0</td>\n      <td>1117.0</td>\n      <td>POLYGON ((-87.88943 41.81967, -87.86603 41.819...</td>\n    </tr>\n    <tr>\n      <th>26</th>\n      <td>60068</td>\n      <td>180.0</td>\n      <td>845.0</td>\n      <td>POLYGON ((-87.81633 42.01875, -87.82125 42.011...</td>\n    </tr>\n    <tr>\n      <th>27</th>\n      <td>60015</td>\n      <td>117.0</td>\n      <td>660.0</td>\n      <td>POLYGON ((-87.93871 42.16284, -87.94105 42.168...</td>\n    </tr>\n    <tr>\n      <th>28</th>\n      <td>60201</td>\n      <td>221.0</td>\n      <td>1475.0</td>\n      <td>POLYGON ((-87.72747 42.05526, -87.73242 42.064...</td>\n    </tr>\n    <tr>\n      <th>29</th>\n      <td>60107</td>\n      <td>267.0</td>\n      <td>965.0</td>\n      <td>POLYGON ((-88.21970 42.01456, -88.21419 42.022...</td>\n    </tr>\n    <tr>\n      <th>...</th>\n      <td>...</td>\n      <td>...</td>\n      <td>...</td>\n      <td>...</td>\n    </tr>\n    <tr>\n      <th>1354</th>\n      <td>62285</td>\n      <td>6.0</td>\n      <td>32.0</td>\n      <td>POLYGON ((-90.03889 38.41078, -90.01060 38.410...</td>\n    </tr>\n    <tr>\n      <th>1355</th>\n      <td>62207</td>\n      <td>38.0</td>\n      <td>84.0</td>\n      <td>POLYGON ((-90.15085 38.61443, -90.14953 38.613...</td>\n    </tr>\n    <tr>\n      <th>1356</th>\n      <td>62205</td>\n      <td>32.0</td>\n      <td>86.0</td>\n      <td>POLYGON ((-90.14953 38.61335, -90.14298 38.618...</td>\n    </tr>\n    <tr>\n      <th>1357</th>\n      <td>62258</td>\n      <td>14.0</td>\n      <td>69.0</td>\n      <td>POLYGON ((-89.75193 38.55388, -89.73347 38.553...</td>\n    </tr>\n    <tr>\n      <th>1358</th>\n      <td>62977</td>\n      <td>0.0</td>\n      <td>0.0</td>\n      <td>POLYGON ((-88.52283 37.90678, -88.51727 37.899...</td>\n    </tr>\n    <tr>\n      <th>1359</th>\n      <td>62712</td>\n      <td>0.0</td>\n      <td>0.0</td>\n      <td>POLYGON ((-89.64305 39.69917, -89.64384 39.713...</td>\n    </tr>\n    <tr>\n      <th>1360</th>\n      <td>62625</td>\n      <td>0.0</td>\n      <td>0.0</td>\n      <td>POLYGON ((-89.64598 39.96119, -89.63623 39.957...</td>\n    </tr>\n    <tr>\n      <th>1361</th>\n      <td>62319</td>\n      <td>0.0</td>\n      <td>0.0</td>\n      <td>POLYGON ((-90.79588 40.12479, -90.79569 40.142...</td>\n    </tr>\n    <tr>\n      <th>1362</th>\n      <td>62444</td>\n      <td>0.0</td>\n      <td>0.0</td>\n      <td>POLYGON ((-88.81763 39.25884, -88.81839 39.267...</td>\n    </tr>\n    <tr>\n      <th>1363</th>\n      <td>62571</td>\n      <td>0.0</td>\n      <td>0.0</td>\n      <td>POLYGON ((-88.91789 39.47803, -88.91748 39.405...</td>\n    </tr>\n    <tr>\n      <th>1364</th>\n      <td>62463</td>\n      <td>0.0</td>\n      <td>0.0</td>\n      <td>POLYGON ((-88.69404 39.24485, -88.69416 39.259...</td>\n    </tr>\n    <tr>\n      <th>1365</th>\n      <td>61089</td>\n      <td>0.0</td>\n      <td>0.0</td>\n      <td>POLYGON ((-89.89680 42.50579, -89.71940 42.505...</td>\n    </tr>\n    <tr>\n      <th>1366</th>\n      <td>61018</td>\n      <td>0.0</td>\n      <td>0.0</td>\n      <td>POLYGON ((-89.62860 42.43959, -89.62037 42.447...</td>\n    </tr>\n    <tr>\n      <th>1367</th>\n      <td>61019</td>\n      <td>0.0</td>\n      <td>0.0</td>\n      <td>POLYGON ((-89.45507 42.50118, -89.37175 42.500...</td>\n    </tr>\n    <tr>\n      <th>1368</th>\n      <td>61554</td>\n      <td>17.0</td>\n      <td>552.0</td>\n      <td>POLYGON ((-89.62182 40.62941, -89.57459 40.630...</td>\n    </tr>\n    <tr>\n      <th>1369</th>\n      <td>61564</td>\n      <td>0.0</td>\n      <td>0.0</td>\n      <td>POLYGON ((-89.64893 40.49587, -89.64866 40.490...</td>\n    </tr>\n    <tr>\n      <th>1370</th>\n      <td>61759</td>\n      <td>0.0</td>\n      <td>0.0</td>\n      <td>POLYGON ((-89.26650 40.48555, -89.26618 40.471...</td>\n    </tr>\n    <tr>\n      <th>1371</th>\n      <td>62906</td>\n      <td>30.0</td>\n      <td>206.0</td>\n      <td>POLYGON ((-89.26132 37.46844, -89.25691 37.469...</td>\n    </tr>\n    <tr>\n      <th>1372</th>\n      <td>61850</td>\n      <td>0.0</td>\n      <td>0.0</td>\n      <td>POLYGON ((-87.70822 39.95019, -87.70982 39.942...</td>\n    </tr>\n    <tr>\n      <th>1373</th>\n      <td>61817</td>\n      <td>0.0</td>\n      <td>0.0</td>\n      <td>POLYGON ((-87.76146 39.99852, -87.75647 40.001...</td>\n    </tr>\n    <tr>\n      <th>1374</th>\n      <td>61857</td>\n      <td>0.0</td>\n      <td>0.0</td>\n      <td>POLYGON ((-87.84484 40.11814, -87.83696 40.119...</td>\n    </tr>\n    <tr>\n      <th>1375</th>\n      <td>62863</td>\n      <td>0.0</td>\n      <td>0.0</td>\n      <td>POLYGON ((-87.85532 38.57001, -87.82736 38.569...</td>\n    </tr>\n    <tr>\n      <th>1376</th>\n      <td>62811</td>\n      <td>0.0</td>\n      <td>0.0</td>\n      <td>POLYGON ((-87.91626 38.38576, -87.89514 38.387...</td>\n    </tr>\n    <tr>\n      <th>1377</th>\n      <td>61423</td>\n      <td>0.0</td>\n      <td>0.0</td>\n      <td>POLYGON ((-90.51713 40.96177, -90.51697 40.976...</td>\n    </tr>\n    <tr>\n      <th>1378</th>\n      <td>61243</td>\n      <td>0.0</td>\n      <td>0.0</td>\n      <td>POLYGON ((-89.70921 41.65699, -89.65466 41.656...</td>\n    </tr>\n    <tr>\n      <th>1379</th>\n      <td>60484</td>\n      <td>77.0</td>\n      <td>337.0</td>\n      <td>POLYGON ((-87.70969 41.45644, -87.70949 41.456...</td>\n    </tr>\n    <tr>\n      <th>1380</th>\n      <td>62948</td>\n      <td>6.0</td>\n      <td>204.0</td>\n      <td>MULTIPOLYGON (((-89.02159 37.74516, -89.03561 ...</td>\n    </tr>\n    <tr>\n      <th>1381</th>\n      <td>62921</td>\n      <td>0.0</td>\n      <td>0.0</td>\n      <td>POLYGON ((-89.09155 37.79258, -89.08896 37.807...</td>\n    </tr>\n    <tr>\n      <th>1382</th>\n      <td>62915</td>\n      <td>0.0</td>\n      <td>0.0</td>\n      <td>POLYGON ((-89.11994 37.78039, -89.12263 37.781...</td>\n    </tr>\n    <tr>\n      <th>1383</th>\n      <td>61088</td>\n      <td>0.0</td>\n      <td>0.0</td>\n      <td>MULTIPOLYGON (((-89.18498 42.37764, -89.18512 ...</td>\n    </tr>\n  </tbody>\n</table>\n<p>1384 rows × 4 columns</p>\n</div>"
     },
     "metadata": {},
     "output_type": "execute_result",
     "execution_count": 86
    }
   ],
   "source": [
    "dph_zipcode_gdf"
   ],
   "metadata": {
    "collapsed": false,
    "pycharm": {
     "name": "#%%\n",
     "is_executing": false
    }
   }
  },
  {
   "cell_type": "code",
   "execution_count": 87,
   "outputs": [],
   "source": [
    "dph_illinois_tested = dph_illinois_test_gdf['total_tested']\n",
    "dph_zipcode_tested = dph_zipcode_gdf['total_tested']\n",
    "dph_zipcode_case = dph_zipcode_gdf['confirmed_cases']"
   ],
   "metadata": {
    "collapsed": false,
    "pycharm": {
     "name": "#%%\n",
     "is_executing": false
    }
   }
  },
  {
   "cell_type": "code",
   "execution_count": 88,
   "outputs": [],
   "source": [
    "dph_illinois_log_tested = dph_illinois_tested.apply(lambda x: np.log(x + 1))\n",
    "dph_zipcode_log_tested = dph_zipcode_tested.apply(lambda x: np.log(x + 1))\n",
    "dph_zipcode_log_case = dph_zipcode_case.apply(lambda x: np.log(x + 1))"
   ],
   "metadata": {
    "collapsed": false,
    "pycharm": {
     "name": "#%%\n",
     "is_executing": false
    }
   }
  },
  {
   "cell_type": "code",
   "execution_count": 89,
   "outputs": [],
   "source": [
    "dph_illinois_dict['tested'] = {}\n",
    "dph_illinois_dict['zipcode_case'] = {}\n",
    "dph_illinois_dict['zipcode_tested'] = {}"
   ],
   "metadata": {
    "collapsed": false,
    "pycharm": {
     "name": "#%%\n",
     "is_executing": false
    }
   }
  },
  {
   "cell_type": "code",
   "execution_count": 90,
   "outputs": [
    {
     "name": "stderr",
     "text": [
      "C:\\Users\\Jason\\Anaconda3\\lib\\site-packages\\mapclassify\\classifiers.py:237: UserWarning: Warning: Not enough unique values in array to form k classes\n  \"Warning: Not enough unique values in array to form k classes\", UserWarning\nC:\\Users\\Jason\\Anaconda3\\lib\\site-packages\\mapclassify\\classifiers.py:239: UserWarning: Warning: setting k to 4\n  Warn(\"Warning: setting k to %d\" % k_q, UserWarning)\nC:\\Users\\Jason\\Anaconda3\\lib\\site-packages\\mapclassify\\classifiers.py:237: UserWarning: Warning: Not enough unique values in array to form k classes\n  \"Warning: Not enough unique values in array to form k classes\", UserWarning\nC:\\Users\\Jason\\Anaconda3\\lib\\site-packages\\mapclassify\\classifiers.py:239: UserWarning: Warning: setting k to 4\n  Warn(\"Warning: setting k to %d\" % k_q, UserWarning)\nC:\\Users\\Jason\\Anaconda3\\lib\\site-packages\\mapclassify\\classifiers.py:237: UserWarning: Warning: Not enough unique values in array to form k classes\n  \"Warning: Not enough unique values in array to form k classes\", UserWarning\nC:\\Users\\Jason\\Anaconda3\\lib\\site-packages\\mapclassify\\classifiers.py:239: UserWarning: Warning: setting k to 4\n  Warn(\"Warning: setting k to %d\" % k_q, UserWarning)\nC:\\Users\\Jason\\Anaconda3\\lib\\site-packages\\mapclassify\\classifiers.py:237: UserWarning: Warning: Not enough unique values in array to form k classes\n  \"Warning: Not enough unique values in array to form k classes\", UserWarning\nC:\\Users\\Jason\\Anaconda3\\lib\\site-packages\\mapclassify\\classifiers.py:239: UserWarning: Warning: setting k to 4\n  Warn(\"Warning: setting k to %d\" % k_q, UserWarning)\n"
     ],
     "output_type": "stream"
    }
   ],
   "source": [
    "dph_illinois_dict['tested']['nolog'] = create_dict(dph_illinois_tested)\n",
    "dph_illinois_dict['tested']['log'] = create_dict(dph_illinois_log_tested)\n",
    "dph_illinois_dict['zipcode_case']['nolog'] = create_dict(dph_zipcode_case)\n",
    "dph_illinois_dict['zipcode_case']['log'] = create_dict(dph_zipcode_log_case)\n",
    "dph_illinois_dict['zipcode_tested']['nolog'] = create_dict(dph_zipcode_tested)\n",
    "dph_illinois_dict['zipcode_tested']['log'] = create_dict(dph_zipcode_log_tested)\n",
    "\n",
    "\n"
   ],
   "metadata": {
    "collapsed": false,
    "pycharm": {
     "name": "#%%\n",
     "is_executing": false
    }
   }
  },
  {
   "cell_type": "markdown",
   "source": [
    "Summary and ouput\n"
   ],
   "metadata": {
    "collapsed": false,
    "pycharm": {
     "name": "#%% md\n"
    }
   }
  },
  {
   "cell_type": "code",
   "execution_count": 91,
   "outputs": [
    {
     "name": "stdout",
     "text": [
      "done\n"
     ],
     "output_type": "stream"
    }
   ],
   "source": [
    "import json\n",
    "total_dict['county'] = county_dict\n",
    "total_dict['state'] = state_dict\n",
    "total_dict['illinois'] = illinois_dict\n",
    "total_dict['dph_illinois'] = dph_illinois_dict\n",
    "# dynamic_dict['county'] = dynamic_county_dict\n",
    "# dynamic_dict['state'] = dynamic_state_dict\n",
    "# dynamic_dict['illinois'] = dynamic_illinois_dict\n",
    "with open('classes.json','w') as json_file:\n",
    "    json.dump(total_dict, json_file)\n",
    "with open('dynamic_classes.json','w') as json_file:\n",
    "    json.dump(dynamic_dict, json_file)\n",
    "print('done')"
   ],
   "metadata": {
    "collapsed": false,
    "pycharm": {
     "name": "#%%\n",
     "is_executing": false
    }
   }
  }
 ],
 "metadata": {
  "language_info": {
   "codemirror_mode": {
    "name": "ipython",
    "version": 2
   },
   "file_extension": ".py",
   "mimetype": "text/x-python",
   "name": "python",
   "nbconvert_exporter": "python",
   "pygments_lexer": "ipython2",
   "version": "2.7.6"
  },
  "kernelspec": {
   "name": "python3",
   "language": "python",
   "display_name": "Python 3"
  },
  "pycharm": {
   "stem_cell": {
    "cell_type": "raw",
    "source": [],
    "metadata": {
     "collapsed": false
    }
   }
  }
 },
 "nbformat": 4,
 "nbformat_minor": 0
}