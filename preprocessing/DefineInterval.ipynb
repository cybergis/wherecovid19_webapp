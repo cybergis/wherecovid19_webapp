{
 "cells": [
  {
   "cell_type": "markdown",
   "metadata": {},
   "source": [
    "# Generate Color Bins For Each Layer"
   ]
  },
  {
   "cell_type": "markdown",
   "metadata": {},
   "source": [
    "### 0. Import libraries and create empty dictionaries"
   ]
  },
  {
   "cell_type": "code",
   "execution_count": 11,
   "metadata": {
    "pycharm": {
     "is_executing": false
    }
   },
   "outputs": [],
   "source": [
    "import geopandas as gpd\n",
    "import numpy as np\n",
    "import mapclassify as mc\n",
    "import matplotlib.pyplot as plt"
   ]
  },
  {
   "cell_type": "code",
   "execution_count": 12,
   "metadata": {
    "pycharm": {
     "is_executing": false,
     "name": "#%%\n"
    }
   },
   "outputs": [],
   "source": [
    "total_dict = {}\n",
    "county_dict = {}\n",
    "state_dict = {}\n",
    "dph_illinois_dict = {}\n",
    "who_world_dict = {}\n",
    "vul_dict = {}"
   ]
  },
  {
   "cell_type": "code",
   "execution_count": 13,
   "metadata": {
    "pycharm": {
     "is_executing": false,
     "name": "#%%\n"
    }
   },
   "outputs": [],
   "source": [
    "dynamic_dict = {}\n",
    "dynamic_county_dict = {}\n",
    "dynamic_state_dict = {}\n",
    "dynamic_illinois_dict = {}"
   ]
  },
  {
   "cell_type": "markdown",
   "metadata": {
    "pycharm": {
     "name": "#%% md\n"
    }
   },
   "source": [
    "### 1. For US County-level Data"
   ]
  },
  {
   "cell_type": "markdown",
   "metadata": {},
   "source": [
    "#### 1.0 Load Data"
   ]
  },
  {
   "cell_type": "code",
   "execution_count": 14,
   "metadata": {
    "pycharm": {
     "is_executing": false,
     "name": "#%%\n"
    }
   },
   "outputs": [],
   "source": [
    "counties_gdf = gpd.read_file('nyt_counties_data.geojson')"
   ]
  },
  {
   "cell_type": "code",
   "execution_count": 15,
   "metadata": {
    "pycharm": {
     "is_executing": false,
     "name": "#%%\n"
    }
   },
   "outputs": [
    {
     "data": {
      "text/html": [
       "<div>\n",
       "<style scoped>\n",
       "    .dataframe tbody tr th:only-of-type {\n",
       "        vertical-align: middle;\n",
       "    }\n",
       "\n",
       "    .dataframe tbody tr th {\n",
       "        vertical-align: top;\n",
       "    }\n",
       "\n",
       "    .dataframe thead th {\n",
       "        text-align: right;\n",
       "    }\n",
       "</style>\n",
       "<table border=\"1\" class=\"dataframe\">\n",
       "  <thead>\n",
       "    <tr style=\"text-align: right;\">\n",
       "      <th></th>\n",
       "      <th>NAME</th>\n",
       "      <th>state_name</th>\n",
       "      <th>population</th>\n",
       "      <th>fips</th>\n",
       "      <th>dt_first_case</th>\n",
       "      <th>dt_first_death</th>\n",
       "      <th>cases_ts</th>\n",
       "      <th>deaths_ts</th>\n",
       "      <th>today_case</th>\n",
       "      <th>today_new_case</th>\n",
       "      <th>today_death</th>\n",
       "      <th>today_new_death</th>\n",
       "      <th>start</th>\n",
       "      <th>end</th>\n",
       "      <th>dt_unit</th>\n",
       "      <th>change_ts</th>\n",
       "      <th>geometry</th>\n",
       "    </tr>\n",
       "  </thead>\n",
       "  <tbody>\n",
       "    <tr>\n",
       "      <th>0</th>\n",
       "      <td>Bladen</td>\n",
       "      <td>North Carolina</td>\n",
       "      <td>33778</td>\n",
       "      <td>37017</td>\n",
       "      <td>2020-04-03</td>\n",
       "      <td>2020-05-06</td>\n",
       "      <td>0,0,0,0,0,0,0,0,0,0,0,0,0,0,0,0,0,0,0,0,0,0,0,...</td>\n",
       "      <td>0.0,0.0,0.0,0.0,0.0,0.0,0.0,0.0,0.0,0.0,0.0,0....</td>\n",
       "      <td>596.0</td>\n",
       "      <td>5.0</td>\n",
       "      <td>6.0</td>\n",
       "      <td>-1.0</td>\n",
       "      <td>2020-01-21</td>\n",
       "      <td>2020-08-05</td>\n",
       "      <td>day</td>\n",
       "      <td>0,0,0,0,0,0,0,0,0,0,0,0,0,0,0,0,0,0,0,0,0,0,0,...</td>\n",
       "      <td>MULTIPOLYGON (((-78.90200 34.83527, -78.79960 ...</td>\n",
       "    </tr>\n",
       "    <tr>\n",
       "      <th>1</th>\n",
       "      <td>Stanly</td>\n",
       "      <td>North Carolina</td>\n",
       "      <td>61114</td>\n",
       "      <td>37167</td>\n",
       "      <td>2020-03-20</td>\n",
       "      <td>2020-04-09</td>\n",
       "      <td>0.0,0.0,0.0,0.0,0.0,0.0,0.0,0.0,0.0,0.0,0.0,0....</td>\n",
       "      <td>0.0,0.0,0.0,0.0,0.0,0.0,0.0,0.0,0.0,0.0,0.0,0....</td>\n",
       "      <td>938.0</td>\n",
       "      <td>10.0</td>\n",
       "      <td>24.0</td>\n",
       "      <td>13.0</td>\n",
       "      <td>2020-01-21</td>\n",
       "      <td>2020-08-05</td>\n",
       "      <td>day</td>\n",
       "      <td>0,0,0,0,0,0,0,0,0,0,0,0,0,0,0,0,0,0,0,0,0,0,0,...</td>\n",
       "      <td>MULTIPOLYGON (((-80.49738 35.20210, -80.29542 ...</td>\n",
       "    </tr>\n",
       "    <tr>\n",
       "      <th>2</th>\n",
       "      <td>Summit</td>\n",
       "      <td>Ohio</td>\n",
       "      <td>541810</td>\n",
       "      <td>39153</td>\n",
       "      <td>2020-03-14</td>\n",
       "      <td>2020-03-27</td>\n",
       "      <td>0.0,0.0,0.0,0.0,0.0,0.0,0.0,0.0,0.0,0.0,0.0,0....</td>\n",
       "      <td>0.0,0.0,0.0,0.0,0.0,0.0,0.0,0.0,0.0,0.0,0.0,0....</td>\n",
       "      <td>3399.0</td>\n",
       "      <td>61.0</td>\n",
       "      <td>218.0</td>\n",
       "      <td>1.0</td>\n",
       "      <td>2020-01-21</td>\n",
       "      <td>2020-08-05</td>\n",
       "      <td>day</td>\n",
       "      <td>0,0,0,0,0,0,0,0,0,0,0,0,0,0,0,0,0,0,0,0,0,0,0,...</td>\n",
       "      <td>MULTIPOLYGON (((-81.68699 41.13596, -81.68495 ...</td>\n",
       "    </tr>\n",
       "    <tr>\n",
       "      <th>3</th>\n",
       "      <td>Sullivan</td>\n",
       "      <td>Pennsylvania</td>\n",
       "      <td>6177</td>\n",
       "      <td>42113</td>\n",
       "      <td>2020-04-04</td>\n",
       "      <td>None</td>\n",
       "      <td>0.0,0.0,0.0,0.0,0.0,0.0,0.0,0.0,0.0,0.0,0.0,0....</td>\n",
       "      <td>0.0,0.0,0.0,0.0,0.0,0.0,0.0,0.0,0.0,0.0,0.0,0....</td>\n",
       "      <td>10.0</td>\n",
       "      <td>0.0</td>\n",
       "      <td>0.0</td>\n",
       "      <td>0.0</td>\n",
       "      <td>2020-01-21</td>\n",
       "      <td>2020-08-05</td>\n",
       "      <td>day</td>\n",
       "      <td>0,0,0,0,0,0,0,0,0,0,0,0,0,0,0,0,0,0,0,0,0,0,0,...</td>\n",
       "      <td>MULTIPOLYGON (((-76.81373 41.59003, -76.22014 ...</td>\n",
       "    </tr>\n",
       "    <tr>\n",
       "      <th>4</th>\n",
       "      <td>Upshur</td>\n",
       "      <td>Texas</td>\n",
       "      <td>40769</td>\n",
       "      <td>48459</td>\n",
       "      <td>2020-03-20</td>\n",
       "      <td>2020-07-25</td>\n",
       "      <td>0.0,0.0,0.0,0.0,0.0,0.0,0.0,0.0,0.0,0.0,0.0,0....</td>\n",
       "      <td>0.0,0.0,0.0,0.0,0.0,0.0,0.0,0.0,0.0,0.0,0.0,0....</td>\n",
       "      <td>200.0</td>\n",
       "      <td>6.0</td>\n",
       "      <td>2.0</td>\n",
       "      <td>0.0</td>\n",
       "      <td>2020-01-21</td>\n",
       "      <td>2020-08-05</td>\n",
       "      <td>day</td>\n",
       "      <td>0,0,0,0,0,0,0,0,0,0,0,0,0,0,0,0,0,0,0,0,0,0,0,...</td>\n",
       "      <td>MULTIPOLYGON (((-95.15274 32.66095, -95.15211 ...</td>\n",
       "    </tr>\n",
       "  </tbody>\n",
       "</table>\n",
       "</div>"
      ],
      "text/plain": [
       "       NAME      state_name  population   fips dt_first_case dt_first_death  \\\n",
       "0    Bladen  North Carolina       33778  37017    2020-04-03     2020-05-06   \n",
       "1    Stanly  North Carolina       61114  37167    2020-03-20     2020-04-09   \n",
       "2    Summit            Ohio      541810  39153    2020-03-14     2020-03-27   \n",
       "3  Sullivan    Pennsylvania        6177  42113    2020-04-04           None   \n",
       "4    Upshur           Texas       40769  48459    2020-03-20     2020-07-25   \n",
       "\n",
       "                                            cases_ts  \\\n",
       "0  0,0,0,0,0,0,0,0,0,0,0,0,0,0,0,0,0,0,0,0,0,0,0,...   \n",
       "1  0.0,0.0,0.0,0.0,0.0,0.0,0.0,0.0,0.0,0.0,0.0,0....   \n",
       "2  0.0,0.0,0.0,0.0,0.0,0.0,0.0,0.0,0.0,0.0,0.0,0....   \n",
       "3  0.0,0.0,0.0,0.0,0.0,0.0,0.0,0.0,0.0,0.0,0.0,0....   \n",
       "4  0.0,0.0,0.0,0.0,0.0,0.0,0.0,0.0,0.0,0.0,0.0,0....   \n",
       "\n",
       "                                           deaths_ts  today_case  \\\n",
       "0  0.0,0.0,0.0,0.0,0.0,0.0,0.0,0.0,0.0,0.0,0.0,0....       596.0   \n",
       "1  0.0,0.0,0.0,0.0,0.0,0.0,0.0,0.0,0.0,0.0,0.0,0....       938.0   \n",
       "2  0.0,0.0,0.0,0.0,0.0,0.0,0.0,0.0,0.0,0.0,0.0,0....      3399.0   \n",
       "3  0.0,0.0,0.0,0.0,0.0,0.0,0.0,0.0,0.0,0.0,0.0,0....        10.0   \n",
       "4  0.0,0.0,0.0,0.0,0.0,0.0,0.0,0.0,0.0,0.0,0.0,0....       200.0   \n",
       "\n",
       "   today_new_case  today_death  today_new_death       start         end  \\\n",
       "0             5.0          6.0             -1.0  2020-01-21  2020-08-05   \n",
       "1            10.0         24.0             13.0  2020-01-21  2020-08-05   \n",
       "2            61.0        218.0              1.0  2020-01-21  2020-08-05   \n",
       "3             0.0          0.0              0.0  2020-01-21  2020-08-05   \n",
       "4             6.0          2.0              0.0  2020-01-21  2020-08-05   \n",
       "\n",
       "  dt_unit                                          change_ts  \\\n",
       "0     day  0,0,0,0,0,0,0,0,0,0,0,0,0,0,0,0,0,0,0,0,0,0,0,...   \n",
       "1     day  0,0,0,0,0,0,0,0,0,0,0,0,0,0,0,0,0,0,0,0,0,0,0,...   \n",
       "2     day  0,0,0,0,0,0,0,0,0,0,0,0,0,0,0,0,0,0,0,0,0,0,0,...   \n",
       "3     day  0,0,0,0,0,0,0,0,0,0,0,0,0,0,0,0,0,0,0,0,0,0,0,...   \n",
       "4     day  0,0,0,0,0,0,0,0,0,0,0,0,0,0,0,0,0,0,0,0,0,0,0,...   \n",
       "\n",
       "                                            geometry  \n",
       "0  MULTIPOLYGON (((-78.90200 34.83527, -78.79960 ...  \n",
       "1  MULTIPOLYGON (((-80.49738 35.20210, -80.29542 ...  \n",
       "2  MULTIPOLYGON (((-81.68699 41.13596, -81.68495 ...  \n",
       "3  MULTIPOLYGON (((-76.81373 41.59003, -76.22014 ...  \n",
       "4  MULTIPOLYGON (((-95.15274 32.66095, -95.15211 ...  "
      ]
     },
     "execution_count": 15,
     "metadata": {},
     "output_type": "execute_result"
    }
   ],
   "source": [
    "counties_gdf.head(5)"
   ]
  },
  {
   "cell_type": "code",
   "execution_count": 16,
   "metadata": {
    "pycharm": {
     "is_executing": false,
     "name": "#%%\n"
    }
   },
   "outputs": [],
   "source": [
    "case = counties_gdf['today_case']\n",
    "death = counties_gdf['today_death']\n",
    "case_per_100k_capita = counties_gdf['today_case']/(counties_gdf['population']/100000)\n",
    "death_per_100k_capita = counties_gdf['today_death']/(counties_gdf['population']/100000)\n",
    "# death_case_ratio = counties_gdf['today_death']/counties_gdf['today_case']\n",
    "# death_case_ratio = death_case_ratio.replace(np.nan, 0)"
   ]
  },
  {
   "cell_type": "code",
   "execution_count": 17,
   "metadata": {
    "pycharm": {
     "is_executing": false,
     "name": "#%%\n"
    }
   },
   "outputs": [],
   "source": [
    "log_case = case.apply(lambda x: np.log(x + 1))\n",
    "log_death = death.apply(lambda x: np.log(x + 1))\n",
    "log_case_per_100k_capita = case_per_100k_capita.apply(lambda x: np.log(x + 1))\n",
    "log_death_per_100k_capita = death.apply(lambda x: np.log(x + 1))"
   ]
  },
  {
   "cell_type": "markdown",
   "metadata": {
    "pycharm": {
     "name": "#%% md\n"
    }
   },
   "source": [
    "#### 1.1 Get Constant Classes from today's data"
   ]
  },
  {
   "cell_type": "code",
   "execution_count": 18,
   "metadata": {
    "pycharm": {
     "is_executing": false,
     "name": "#%%\n"
    }
   },
   "outputs": [],
   "source": [
    "def create_dict(column):\n",
    "    tmp_dict = {}\n",
    "    tmp_dict['Quantiles'] = {\n",
    "        'bins': ','.join(mc.Quantiles(column, k=6).bins.astype(str)),\n",
    "        'k': 6\n",
    "    }\n",
    "    tmp_dict['FisherJenks'] = {\n",
    "        'bins': ','.join(mc.FisherJenks(column, k=6).bins.astype(str)),\n",
    "        'k': 6\n",
    "    }\n",
    "    tmp_dict['NaturalBreaks'] = {\n",
    "        'bins': ','.join(mc.NaturalBreaks(column, k=6).bins.astype(str)),\n",
    "        'k': 6\n",
    "    }\n",
    "    return tmp_dict"
   ]
  },
  {
   "cell_type": "code",
   "execution_count": 19,
   "metadata": {
    "pycharm": {
     "is_executing": false,
     "name": "#%%\n"
    }
   },
   "outputs": [],
   "source": [
    "county_dict['case'] = {}\n",
    "county_dict['death'] = {}\n",
    "county_dict['case_per_100k_capita'] = {}\n",
    "county_dict['death_per_100k_capita'] = {}"
   ]
  },
  {
   "cell_type": "code",
   "execution_count": 20,
   "metadata": {
    "pycharm": {
     "is_executing": false,
     "name": "#%%\n"
    }
   },
   "outputs": [],
   "source": [
    "county_dict['case']['nolog'] = create_dict(case)\n",
    "county_dict['case']['log'] = create_dict(log_case)\n",
    "county_dict['death']['nolog'] = create_dict(death)\n",
    "county_dict['death']['log'] = create_dict(log_death)\n",
    "county_dict['case_per_100k_capita']['nolog'] = create_dict(case_per_100k_capita)\n",
    "county_dict['case_per_100k_capita']['log'] = create_dict(log_case_per_100k_capita)\n",
    "county_dict['death_per_100k_capita']['nolog'] = create_dict(death_per_100k_capita)\n",
    "county_dict['death_per_100k_capita']['log'] = create_dict(log_death_per_100k_capita)\n"
   ]
  },
  {
   "cell_type": "code",
   "execution_count": 21,
   "metadata": {
    "pycharm": {
     "is_executing": false,
     "name": "#%%\n"
    }
   },
   "outputs": [
    {
     "data": {
      "text/plain": [
       "{'case': {'nolog': {'Quantiles': {'bins': '26.0,81.0,189.0,425.00000000000045,1240.0000000000005,231268.0',\n",
       "    'k': 6},\n",
       "   'FisherJenks': {'bins': '3033.0,10889.0,26109.0,59354.0,125948.0,231268.0',\n",
       "    'k': 6},\n",
       "   'NaturalBreaks': {'bins': '2958.0,10700.0,26109.0,59354.0,125948.0,231268.0',\n",
       "    'k': 6}},\n",
       "  'log': {'Quantiles': {'bins': '3.295836866004329,4.406719247264253,5.247024072160486,6.054439346269372,7.123672785204608,12.351336814161709',\n",
       "    'k': 6},\n",
       "   'FisherJenks': {'bins': '1.6094379124341003,3.6109179126442243,5.017279836814924,6.331501849893691,7.983440063006542,12.351336814161709',\n",
       "    'k': 6},\n",
       "   'NaturalBreaks': {'bins': '1.6094379124341003,3.58351893845611,4.955827057601261,6.267200548541362,7.929846429742503,12.351336814161709',\n",
       "    'k': 6}}},\n",
       " 'death': {'nolog': {'Quantiles': {'bins': '0.0,1.0,3.0,8.0,30.0,23034.0',\n",
       "    'k': 6},\n",
       "   'FisherJenks': {'bins': '117.0,487.0,1239.0,2811.0,4909.0,23034.0', 'k': 6},\n",
       "   'NaturalBreaks': {'bins': '122.0,487.0,1239.0,2811.0,4909.0,23034.0',\n",
       "    'k': 6}},\n",
       "  'log': {'Quantiles': {'bins': '0.0,0.6931471805599453,1.3862943611198906,2.1972245773362196,3.4339872044851463,10.044770077370018',\n",
       "    'k': 6},\n",
       "   'FisherJenks': {'bins': '0.0,1.3862943611198906,2.70805020110221,4.07753744390572,5.71042701737487,10.044770077370018',\n",
       "    'k': 6},\n",
       "   'NaturalBreaks': {'bins': '0.0,1.3862943611198906,2.70805020110221,4.02535169073515,5.598421958998375,10.044770077370018',\n",
       "    'k': 6}}},\n",
       " 'case_per_100k_capita': {'nolog': {'Quantiles': {'bins': '247.13732597413298,430.084245335013,689.3692012647074,1071.4875740482878,1789.2088342186191,16462.96876632195',\n",
       "    'k': 6},\n",
       "   'FisherJenks': {'bins': '627.8916060806345,1365.9049120042027,2353.083507243747,3762.103815016668,7072.664359861592,16462.96876632195',\n",
       "    'k': 6},\n",
       "   'NaturalBreaks': {'bins': '573.3781926740274,1231.2892322549494,2123.257303315434,3475.4276405104533,6468.401486988848,16462.96876632195',\n",
       "    'k': 6}},\n",
       "  'log': {'Quantiles': {'bins': '5.513982326677677,6.066303535817405,6.537226528786775,6.977736064766091,7.490087559190957,9.708929560982742',\n",
       "    'k': 6},\n",
       "   'FisherJenks': {'bins': '0.0,5.202183450999262,6.089086886119664,6.802621554906034,7.528270831667391,9.708929560982742',\n",
       "    'k': 6},\n",
       "   'NaturalBreaks': {'bins': '0.0,5.2073174610145,6.106739117250818,6.8304657229081736,7.548428678331446,9.708929560982742',\n",
       "    'k': 6}}},\n",
       " 'death_per_100k_capita': {'nolog': {'Quantiles': {'bins': '0.0,2.9609451336866743,9.701673538685423,20.64547469411301,45.435481616105186,398.3596953719977',\n",
       "    'k': 6},\n",
       "   'FisherJenks': {'bins': '12.48595330253465,35.56687813794986,69.0321689907497,120.7617843070487,209.46243329810167,398.3596953719977',\n",
       "    'k': 6},\n",
       "   'NaturalBreaks': {'bins': '12.76555003563716,35.93483816013629,69.0321689907497,119.45784516425455,209.46243329810167,398.3596953719977',\n",
       "    'k': 6}},\n",
       "  'log': {'Quantiles': {'bins': '0.0,0.6931471805599453,1.3862943611198906,2.1972245773362196,3.4339872044851463,10.044770077370018',\n",
       "    'k': 6},\n",
       "   'FisherJenks': {'bins': '0.0,1.3862943611198906,2.70805020110221,4.07753744390572,5.71042701737487,10.044770077370018',\n",
       "    'k': 6},\n",
       "   'NaturalBreaks': {'bins': '0.0,1.3862943611198906,2.5649493574615367,3.828641396489095,5.455321115357702,10.044770077370018',\n",
       "    'k': 6}}}}"
      ]
     },
     "execution_count": 21,
     "metadata": {},
     "output_type": "execute_result"
    }
   ],
   "source": [
    "county_dict"
   ]
  },
  {
   "cell_type": "code",
   "execution_count": 22,
   "metadata": {},
   "outputs": [
    {
     "name": "stdout",
     "output_type": "stream",
     "text": [
      "done\n"
     ]
    }
   ],
   "source": [
    "import json\n",
    "total_dict['county'] = county_dict\n",
    "total_dict['state'] = state_dict\n",
    "total_dict['dph_illinois'] = dph_illinois_dict\n",
    "total_dict['who_world'] = who_world_dict\n",
    "total_dict['vulnerability'] = vul_dict\n",
    "# dynamic_dict['county'] = dynamic_county_dict\n",
    "# dynamic_dict['state'] = dynamic_state_dict\n",
    "# dynamic_dict['illinois'] = dynamic_illinois_dict\n",
    "with open('classes.json','w') as json_file:\n",
    "    json.dump(total_dict, json_file)\n",
    "# with open('dynamic_classes.json','w') as json_file:\n",
    "#     json.dump(dynamic_dict, json_file)\n",
    "print('done')\n",
    "exit()"
   ]
  },
  {
   "cell_type": "markdown",
   "metadata": {
    "pycharm": {
     "name": "#%% md\n"
    }
   },
   "source": [
    "### 2. For US State-level Data"
   ]
  },
  {
   "cell_type": "markdown",
   "metadata": {},
   "source": [
    "#### 2.0 Load Data"
   ]
  },
  {
   "cell_type": "code",
   "execution_count": 23,
   "metadata": {
    "pycharm": {
     "is_executing": false,
     "name": "#%%\n"
    }
   },
   "outputs": [],
   "source": [
    "state_gdf = gpd.read_file('nyt_states_data.geojson')"
   ]
  },
  {
   "cell_type": "code",
   "execution_count": 24,
   "metadata": {
    "pycharm": {
     "is_executing": false,
     "name": "#%%\n"
    }
   },
   "outputs": [
    {
     "data": {
      "text/html": [
       "<div>\n",
       "<style scoped>\n",
       "    .dataframe tbody tr th:only-of-type {\n",
       "        vertical-align: middle;\n",
       "    }\n",
       "\n",
       "    .dataframe tbody tr th {\n",
       "        vertical-align: top;\n",
       "    }\n",
       "\n",
       "    .dataframe thead th {\n",
       "        text-align: right;\n",
       "    }\n",
       "</style>\n",
       "<table border=\"1\" class=\"dataframe\">\n",
       "  <thead>\n",
       "    <tr style=\"text-align: right;\">\n",
       "      <th></th>\n",
       "      <th>index</th>\n",
       "      <th>NAME</th>\n",
       "      <th>population</th>\n",
       "      <th>fips</th>\n",
       "      <th>dt_first_case</th>\n",
       "      <th>dt_first_death</th>\n",
       "      <th>cases_ts</th>\n",
       "      <th>deaths_ts</th>\n",
       "      <th>today_case</th>\n",
       "      <th>today_new_case</th>\n",
       "      <th>today_death</th>\n",
       "      <th>today_new_death</th>\n",
       "      <th>start</th>\n",
       "      <th>end</th>\n",
       "      <th>dt_unit</th>\n",
       "      <th>change_ts</th>\n",
       "      <th>geometry</th>\n",
       "    </tr>\n",
       "  </thead>\n",
       "  <tbody>\n",
       "    <tr>\n",
       "      <th>0</th>\n",
       "      <td>0</td>\n",
       "      <td>West Virginia</td>\n",
       "      <td>1829054</td>\n",
       "      <td>54</td>\n",
       "      <td>2020-03-17</td>\n",
       "      <td>2020-03-29</td>\n",
       "      <td>0,0,0,0,0,0,0,0,0,0,0,0,0,0,0,0,0,0,0,0,0,0,0,...</td>\n",
       "      <td>0,0,0,0,0,0,0,0,0,0,0,0,0,0,0,0,0,0,0,0,0,0,0,...</td>\n",
       "      <td>47842.0</td>\n",
       "      <td>845.0</td>\n",
       "      <td>735.0</td>\n",
       "      <td>6.0</td>\n",
       "      <td>2020-01-21</td>\n",
       "      <td>2020-11-30</td>\n",
       "      <td>day</td>\n",
       "      <td>0,0,0,0,0,0,0,0,0,0,0,0,0,0,0,0,0,0,0,0,0,0,0,...</td>\n",
       "      <td>POLYGON ((-80.51899 40.63880, -80.51934 39.721...</td>\n",
       "    </tr>\n",
       "    <tr>\n",
       "      <th>1</th>\n",
       "      <td>1</td>\n",
       "      <td>Florida</td>\n",
       "      <td>20598139</td>\n",
       "      <td>12</td>\n",
       "      <td>2020-03-01</td>\n",
       "      <td>2020-03-06</td>\n",
       "      <td>0,0,0,0,0,0,0,0,0,0,0,0,0,0,0,0,0,0,0,0,0,0,0,...</td>\n",
       "      <td>0,0,0,0,0,0,0,0,0,0,0,0,0,0,0,0,0,0,0,0,0,0,0,...</td>\n",
       "      <td>999311.0</td>\n",
       "      <td>6659.0</td>\n",
       "      <td>18596.0</td>\n",
       "      <td>97.0</td>\n",
       "      <td>2020-01-21</td>\n",
       "      <td>2020-11-30</td>\n",
       "      <td>day</td>\n",
       "      <td>0,0,0,0,0,0,0,0,0,0,0,0,0,0,0,0,0,0,0,0,0,0,0,...</td>\n",
       "      <td>MULTIPOLYGON (((-82.98748 24.62538, -82.89993 ...</td>\n",
       "    </tr>\n",
       "    <tr>\n",
       "      <th>2</th>\n",
       "      <td>2</td>\n",
       "      <td>Illinois</td>\n",
       "      <td>12821497</td>\n",
       "      <td>17</td>\n",
       "      <td>2020-01-24</td>\n",
       "      <td>2020-03-17</td>\n",
       "      <td>0,0,0,1,1,1,1,1,1,2,2,2,2,2,2,2,2,2,2,2,2,2,2,...</td>\n",
       "      <td>0,0,0,0,0,0,0,0,0,0,0,0,0,0,0,0,0,0,0,0,0,0,0,...</td>\n",
       "      <td>727825.0</td>\n",
       "      <td>6338.0</td>\n",
       "      <td>13015.0</td>\n",
       "      <td>120.0</td>\n",
       "      <td>2020-01-21</td>\n",
       "      <td>2020-11-30</td>\n",
       "      <td>day</td>\n",
       "      <td>0,0,0,0,0,0,0,0,0,0,0,0,0,0.0,0.0,0.0,-1.0,-1....</td>\n",
       "      <td>POLYGON ((-90.64284 42.50848, -87.01994 42.493...</td>\n",
       "    </tr>\n",
       "    <tr>\n",
       "      <th>3</th>\n",
       "      <td>3</td>\n",
       "      <td>Minnesota</td>\n",
       "      <td>5527358</td>\n",
       "      <td>27</td>\n",
       "      <td>2020-03-06</td>\n",
       "      <td>2020-03-21</td>\n",
       "      <td>0,0,0,0,0,0,0,0,0,0,0,0,0,0,0,0,0,0,0,0,0,0,0,...</td>\n",
       "      <td>0,0,0,0,0,0,0,0,0,0,0,0,0,0,0,0,0,0,0,0,0,0,0,...</td>\n",
       "      <td>318822.0</td>\n",
       "      <td>5794.0</td>\n",
       "      <td>3652.0</td>\n",
       "      <td>15.0</td>\n",
       "      <td>2020-01-21</td>\n",
       "      <td>2020-11-30</td>\n",
       "      <td>day</td>\n",
       "      <td>0,0,0,0,0,0,0,0,0,0,0,0,0,0,0,0,0,0,0,0,0,0,0,...</td>\n",
       "      <td>POLYGON ((-97.22872 49.00056, -95.15371 48.998...</td>\n",
       "    </tr>\n",
       "    <tr>\n",
       "      <th>4</th>\n",
       "      <td>4</td>\n",
       "      <td>Maryland</td>\n",
       "      <td>6003435</td>\n",
       "      <td>24</td>\n",
       "      <td>2020-03-05</td>\n",
       "      <td>2020-03-18</td>\n",
       "      <td>0,0,0,0,0,0,0,0,0,0,0,0,0,0,0,0,0,0,0,0,0,0,0,...</td>\n",
       "      <td>0,0,0,0,0,0,0,0,0,0,0,0,0,0,0,0,0,0,0,0,0,0,0,...</td>\n",
       "      <td>198710.0</td>\n",
       "      <td>1983.0</td>\n",
       "      <td>4641.0</td>\n",
       "      <td>16.0</td>\n",
       "      <td>2020-01-21</td>\n",
       "      <td>2020-11-30</td>\n",
       "      <td>day</td>\n",
       "      <td>0,0,0,0,0,0,0,0,0,0,0,0,0,0,0,0,0,0,0,0,0,0,0,...</td>\n",
       "      <td>POLYGON ((-77.71952 39.32131, -77.76086 39.340...</td>\n",
       "    </tr>\n",
       "  </tbody>\n",
       "</table>\n",
       "</div>"
      ],
      "text/plain": [
       "   index           NAME  population fips dt_first_case dt_first_death  \\\n",
       "0      0  West Virginia     1829054   54    2020-03-17     2020-03-29   \n",
       "1      1        Florida    20598139   12    2020-03-01     2020-03-06   \n",
       "2      2       Illinois    12821497   17    2020-01-24     2020-03-17   \n",
       "3      3      Minnesota     5527358   27    2020-03-06     2020-03-21   \n",
       "4      4       Maryland     6003435   24    2020-03-05     2020-03-18   \n",
       "\n",
       "                                            cases_ts  \\\n",
       "0  0,0,0,0,0,0,0,0,0,0,0,0,0,0,0,0,0,0,0,0,0,0,0,...   \n",
       "1  0,0,0,0,0,0,0,0,0,0,0,0,0,0,0,0,0,0,0,0,0,0,0,...   \n",
       "2  0,0,0,1,1,1,1,1,1,2,2,2,2,2,2,2,2,2,2,2,2,2,2,...   \n",
       "3  0,0,0,0,0,0,0,0,0,0,0,0,0,0,0,0,0,0,0,0,0,0,0,...   \n",
       "4  0,0,0,0,0,0,0,0,0,0,0,0,0,0,0,0,0,0,0,0,0,0,0,...   \n",
       "\n",
       "                                           deaths_ts  today_case  \\\n",
       "0  0,0,0,0,0,0,0,0,0,0,0,0,0,0,0,0,0,0,0,0,0,0,0,...     47842.0   \n",
       "1  0,0,0,0,0,0,0,0,0,0,0,0,0,0,0,0,0,0,0,0,0,0,0,...    999311.0   \n",
       "2  0,0,0,0,0,0,0,0,0,0,0,0,0,0,0,0,0,0,0,0,0,0,0,...    727825.0   \n",
       "3  0,0,0,0,0,0,0,0,0,0,0,0,0,0,0,0,0,0,0,0,0,0,0,...    318822.0   \n",
       "4  0,0,0,0,0,0,0,0,0,0,0,0,0,0,0,0,0,0,0,0,0,0,0,...    198710.0   \n",
       "\n",
       "   today_new_case  today_death  today_new_death       start         end  \\\n",
       "0           845.0        735.0              6.0  2020-01-21  2020-11-30   \n",
       "1          6659.0      18596.0             97.0  2020-01-21  2020-11-30   \n",
       "2          6338.0      13015.0            120.0  2020-01-21  2020-11-30   \n",
       "3          5794.0       3652.0             15.0  2020-01-21  2020-11-30   \n",
       "4          1983.0       4641.0             16.0  2020-01-21  2020-11-30   \n",
       "\n",
       "  dt_unit                                          change_ts  \\\n",
       "0     day  0,0,0,0,0,0,0,0,0,0,0,0,0,0,0,0,0,0,0,0,0,0,0,...   \n",
       "1     day  0,0,0,0,0,0,0,0,0,0,0,0,0,0,0,0,0,0,0,0,0,0,0,...   \n",
       "2     day  0,0,0,0,0,0,0,0,0,0,0,0,0,0.0,0.0,0.0,-1.0,-1....   \n",
       "3     day  0,0,0,0,0,0,0,0,0,0,0,0,0,0,0,0,0,0,0,0,0,0,0,...   \n",
       "4     day  0,0,0,0,0,0,0,0,0,0,0,0,0,0,0,0,0,0,0,0,0,0,0,...   \n",
       "\n",
       "                                            geometry  \n",
       "0  POLYGON ((-80.51899 40.63880, -80.51934 39.721...  \n",
       "1  MULTIPOLYGON (((-82.98748 24.62538, -82.89993 ...  \n",
       "2  POLYGON ((-90.64284 42.50848, -87.01994 42.493...  \n",
       "3  POLYGON ((-97.22872 49.00056, -95.15371 48.998...  \n",
       "4  POLYGON ((-77.71952 39.32131, -77.76086 39.340...  "
      ]
     },
     "execution_count": 24,
     "metadata": {},
     "output_type": "execute_result"
    }
   ],
   "source": [
    "state_gdf.head(5)"
   ]
  },
  {
   "cell_type": "markdown",
   "metadata": {
    "pycharm": {
     "name": "#%% md\n"
    }
   },
   "source": [
    "#### 2.1 Get Constant Classes from today's data"
   ]
  },
  {
   "cell_type": "code",
   "execution_count": 25,
   "metadata": {
    "pycharm": {
     "is_executing": false,
     "name": "#%%\n"
    }
   },
   "outputs": [],
   "source": [
    "state_case = state_gdf['today_case']\n",
    "state_death = state_gdf['today_death']\n",
    "state_case_per_100k_capita = state_gdf['today_case']/(state_gdf['population']/100000)\n",
    "state_death_per_100k_capita = state_gdf['today_death']/(state_gdf['population']/100000)\n",
    "#death_case_ratio = counties_gdf['today_death']/counties_gdf['today_case']\n",
    "#death_case_ratio = death_case_ratio.replace(np.nan, 0)"
   ]
  },
  {
   "cell_type": "code",
   "execution_count": 26,
   "metadata": {
    "pycharm": {
     "is_executing": false,
     "name": "#%%\n"
    }
   },
   "outputs": [],
   "source": [
    "state_death_per_100k_capita = state_death_per_100k_capita.replace(np.nan,0)\n",
    "state_death_per_100k_capita = state_death_per_100k_capita.replace(np.inf,0)\n",
    "state_case_per_100k_capita = state_case_per_100k_capita.replace(np.nan,0)\n",
    "state_case_per_100k_capita = state_case_per_100k_capita.replace(np.inf,0)"
   ]
  },
  {
   "cell_type": "code",
   "execution_count": 27,
   "metadata": {
    "pycharm": {
     "is_executing": false,
     "name": "#%%\n"
    }
   },
   "outputs": [],
   "source": [
    "state_log_case = state_case.apply(lambda x: np.log(x + 1))\n",
    "state_log_death = state_death.apply(lambda x: np.log(x + 1))\n",
    "state_log_case_per_100k_capita = state_case_per_100k_capita.apply(lambda x: np.log(x + 1))\n",
    "state_log_death_per_100k_capita =state_death_per_100k_capita.apply(lambda x: np.log(x + 1))"
   ]
  },
  {
   "cell_type": "code",
   "execution_count": 28,
   "metadata": {
    "pycharm": {
     "is_executing": false,
     "name": "#%%\n"
    }
   },
   "outputs": [],
   "source": [
    "state_dict['case'] = {}\n",
    "state_dict['death'] = {}\n",
    "state_dict['case_per_100k_capita'] = {}\n",
    "state_dict['death_per_100k_capita'] = {}"
   ]
  },
  {
   "cell_type": "code",
   "execution_count": 29,
   "metadata": {
    "pycharm": {
     "is_executing": false,
     "name": "#%%\n"
    }
   },
   "outputs": [],
   "source": [
    "state_dict['case']['nolog'] = create_dict(state_case)\n",
    "state_dict['case']['log'] = create_dict(state_log_case)\n",
    "state_dict['death']['nolog'] = create_dict(state_death)\n",
    "state_dict['death']['log'] = create_dict(state_log_death)\n",
    "state_dict['case_per_100k_capita']['nolog'] = create_dict(state_case_per_100k_capita)\n",
    "state_dict['case_per_100k_capita']['log'] = create_dict(state_log_case_per_100k_capita)\n",
    "state_dict['death_per_100k_capita']['nolog'] = create_dict(state_death_per_100k_capita)\n",
    "state_dict['death_per_100k_capita']['log'] = create_dict(state_log_death_per_100k_capita)"
   ]
  },
  {
   "cell_type": "code",
   "execution_count": 30,
   "metadata": {},
   "outputs": [
    {
     "data": {
      "text/plain": [
       "{'case': {'nolog': {'Quantiles': {'bins': '33305.00000000001,97095.00000000001,183255.0,237835.0000000001,366971.0000000001,1262145.0',\n",
       "    'k': 6},\n",
       "   'FisherJenks': {'bins': '117295.0,249524.0,454328.0,727825.0,999311.0,1262145.0',\n",
       "    'k': 6},\n",
       "   'NaturalBreaks': {'bins': '117295.0,249524.0,454328.0,727825.0,999311.0,1262145.0',\n",
       "    'k': 6}},\n",
       "  'log': {'Quantiles': {'bins': '10.413492839918217,11.483455458786198,12.11863936136841,12.379336639501627,12.813040829848221,14.048324004773729',\n",
       "    'k': 6},\n",
       "   'FisherJenks': {'bins': '4.672828834461906,8.96469555531546,10.775680095688484,11.98560675607755,13.026576884180775,14.048324004773729',\n",
       "    'k': 6},\n",
       "   'NaturalBreaks': {'bins': '4.672828834461906,8.96469555531546,10.481644668462405,11.762967973593053,13.026576884180775,14.048324004773729',\n",
       "    'k': 6}}},\n",
       " 'death': {'nolog': {'Quantiles': {'bins': '680.0,1039.0000000000002,2502.0,4381.000000000002,9198.000000000002,34150.0',\n",
       "    'k': 6},\n",
       "   'FisherJenks': {'bins': '1743.0,4062.0,6640.0,13015.0,21968.0,34150.0',\n",
       "    'k': 6},\n",
       "   'NaturalBreaks': {'bins': '1743.0,4381.0,6640.0,13015.0,21968.0,34150.0',\n",
       "    'k': 6}},\n",
       "  'log': {'Quantiles': {'bins': '6.523562306149512,6.946975992135418,7.8252452914317745,8.385260520155413,9.126850061477157,10.438547147147077',\n",
       "    'k': 6},\n",
       "   'FisherJenks': {'bins': '3.1780538303479458,5.493061443340548,7.009408932708637,7.971085753505607,8.801017833540714,10.438547147147077',\n",
       "    'k': 6},\n",
       "   'NaturalBreaks': {'bins': '1.0986122886681098,4.248495242049359,5.493061443340548,7.463936604468925,8.801017833540714,10.438547147147077',\n",
       "    'k': 6}}},\n",
       " 'case_per_100k_capita': {'nolog': {'Quantiles': {'bins': '2543.8884232113874,3327.2144342879647,4388.423957182565,5129.299357820042,5724.1215737768025,10536.81130442528',\n",
       "    'k': 6},\n",
       "   'FisherJenks': {'bins': '1562.493022591175,3327.2144342879637,4707.943429132025,6052.699090951642,7362.62006787552,10536.81130442528',\n",
       "    'k': 6},\n",
       "   'NaturalBreaks': {'bins': '1562.493022591175,3327.2144342879637,4707.943429132025,6052.699090951642,7362.62006787552,10536.81130442528',\n",
       "    'k': 6}},\n",
       "  'log': {'Quantiles': {'bins': '7.841842086456318,8.110191233245155,8.386953280416812,8.542919290813153,8.65261906379117,9.2627251444052',\n",
       "    'k': 6},\n",
       "   'FisherJenks': {'bins': '0.0,6.7834602390919185,7.5226611225207405,8.269044762096398,8.708424784175845,9.2627251444052',\n",
       "    'k': 6},\n",
       "   'NaturalBreaks': {'bins': '0.0,6.7834602390919185,7.5226611225207405,8.269044762096398,8.708424784175845,9.2627251444052',\n",
       "    'k': 6}}},\n",
       " 'death_per_100k_capita': {'nolog': {'Quantiles': {'bins': '32.654835144751566,52.14844503892622,66.07134909662084,81.61091614605408,101.50920754417372,191.32286140998858',\n",
       "    'k': 6},\n",
       "   'FisherJenks': {'bins': '28.60098182474921,55.51576037335978,83.66015519594097,109.45412934793802,140.16457890316468,191.32286140998858',\n",
       "    'k': 6},\n",
       "   'NaturalBreaks': {'bins': '28.60098182474921,60.63968639037075,83.66015519594097,109.45412934793802,157.36012144898396,191.32286140998858',\n",
       "    'k': 6}},\n",
       "  'log': {'Quantiles': {'bins': '3.516156735062671,3.9730888482720537,4.205756964664391,4.414141828526891,4.629952624243273,5.259175529615885',\n",
       "    'k': 6},\n",
       "   'FisherJenks': {'bins': '0.0,3.1575869794790923,3.81739200302687,4.239161955668407,4.704600315748868,5.259175529615885',\n",
       "    'k': 6},\n",
       "   'NaturalBreaks': {'bins': '0.0,3.1575869794790923,3.8608743786130533,4.239161955668407,4.704600315748868,5.259175529615885',\n",
       "    'k': 6}}}}"
      ]
     },
     "execution_count": 30,
     "metadata": {},
     "output_type": "execute_result"
    }
   ],
   "source": [
    "state_dict"
   ]
  },
  {
   "cell_type": "markdown",
   "metadata": {},
   "source": [
    "### 3. For IDPH County-level Data"
   ]
  },
  {
   "cell_type": "markdown",
   "metadata": {},
   "source": [
    "#### 3.0 Load Data"
   ]
  },
  {
   "cell_type": "code",
   "execution_count": 31,
   "metadata": {
    "pycharm": {
     "is_executing": false,
     "name": "#%%\n"
    }
   },
   "outputs": [],
   "source": [
    "dph_illinois_gdf = gpd.read_file('illinois/dph_county_data.geojson')"
   ]
  },
  {
   "cell_type": "code",
   "execution_count": null,
   "metadata": {
    "pycharm": {
     "is_executing": false,
     "name": "#%%\n"
    }
   },
   "outputs": [],
   "source": [
    "dph_illinois_gdf.head(5)"
   ]
  },
  {
   "cell_type": "code",
   "execution_count": null,
   "metadata": {},
   "outputs": [],
   "source": [
    "dph_illinois_gdf = dph_illinois_gdf[dph_illinois_gdf['id'] != 'Illinois']"
   ]
  },
  {
   "cell_type": "markdown",
   "metadata": {
    "pycharm": {
     "name": "#%% md\n"
    }
   },
   "source": [
    "#### 3.1 Get Constant Classes from today's data"
   ]
  },
  {
   "cell_type": "code",
   "execution_count": null,
   "metadata": {
    "pycharm": {
     "is_executing": false,
     "name": "#%%\n"
    }
   },
   "outputs": [],
   "source": [
    "illinois_case = dph_illinois_gdf['today_case']\n",
    "illinois_death = dph_illinois_gdf['today_death']\n",
    "illinois_case_per_100k_capita = dph_illinois_gdf['today_case']/(dph_illinois_gdf['population']/100000)\n",
    "illinois_death_per_100k_capita = dph_illinois_gdf['today_death']/(dph_illinois_gdf['population']/100000)\n",
    "#death_case_ratio = counties_gdf['today_death']/counties_gdf['today_case']\n",
    "#death_case_ratio = death_case_ratio.replace(np.nan, 0)"
   ]
  },
  {
   "cell_type": "code",
   "execution_count": null,
   "metadata": {
    "pycharm": {
     "is_executing": false,
     "name": "#%%\n"
    }
   },
   "outputs": [],
   "source": [
    "illinois_death_per_100k_capita = illinois_death_per_100k_capita.replace(np.nan,0)\n",
    "illinois_death_per_100k_capita = illinois_death_per_100k_capita.replace(np.inf,0)\n",
    "illinois_case_per_100k_capita = illinois_case_per_100k_capita.replace(np.nan,0)\n",
    "illinois_case_per_100k_capita = illinois_case_per_100k_capita.replace(np.inf,0)"
   ]
  },
  {
   "cell_type": "code",
   "execution_count": null,
   "metadata": {
    "pycharm": {
     "is_executing": false,
     "name": "#%%\n"
    }
   },
   "outputs": [],
   "source": [
    "illinois_log_case = illinois_case.apply(lambda x: np.log(x + 1))\n",
    "illinois_log_death = illinois_death.apply(lambda x: np.log(x + 1))\n",
    "illinois_log_case_per_100k_capita = illinois_case_per_100k_capita.apply(lambda x: np.log(x + 1))\n",
    "illinois_log_death_per_100k_capita =illinois_death_per_100k_capita.apply(lambda x: np.log(x + 1))"
   ]
  },
  {
   "cell_type": "code",
   "execution_count": null,
   "metadata": {
    "pycharm": {
     "is_executing": false,
     "name": "#%%\n"
    }
   },
   "outputs": [],
   "source": [
    "dph_illinois_dict['case'] = {}\n",
    "dph_illinois_dict['death'] = {}\n",
    "dph_illinois_dict['case_per_100k_capita'] = {}\n",
    "dph_illinois_dict['death_per_100k_capita'] = {}"
   ]
  },
  {
   "cell_type": "code",
   "execution_count": null,
   "metadata": {
    "pycharm": {
     "is_executing": false,
     "name": "#%%\n"
    }
   },
   "outputs": [],
   "source": [
    "dph_illinois_dict['case']['nolog'] = create_dict(illinois_case)\n",
    "dph_illinois_dict['case']['log'] = create_dict(illinois_log_case)\n",
    "dph_illinois_dict['death']['nolog'] = create_dict(illinois_death)\n",
    "dph_illinois_dict['death']['log'] = create_dict(illinois_log_death)\n",
    "dph_illinois_dict['case_per_100k_capita']['nolog'] = create_dict(illinois_case_per_100k_capita)\n",
    "dph_illinois_dict['case_per_100k_capita']['log'] = create_dict(illinois_log_case_per_100k_capita)\n",
    "dph_illinois_dict['death_per_100k_capita']['nolog'] = create_dict(illinois_death_per_100k_capita)\n",
    "dph_illinois_dict['death_per_100k_capita']['log'] = create_dict(illinois_log_death_per_100k_capita)"
   ]
  },
  {
   "cell_type": "code",
   "execution_count": null,
   "metadata": {},
   "outputs": [],
   "source": [
    "dph_illinois_dict"
   ]
  },
  {
   "cell_type": "markdown",
   "metadata": {
    "pycharm": {
     "name": "#%% md\n"
    }
   },
   "source": [
    "### 4. For IDPH Zipcode-level Case (Static)"
   ]
  },
  {
   "cell_type": "markdown",
   "metadata": {},
   "source": [
    "#### 4.0 Load Data"
   ]
  },
  {
   "cell_type": "code",
   "execution_count": null,
   "metadata": {
    "pycharm": {
     "is_executing": false,
     "name": "#%%\n"
    }
   },
   "outputs": [],
   "source": [
    "dph_zipcode_gdf = gpd.read_file('illinois/dph_zipcode_data.geojson')"
   ]
  },
  {
   "cell_type": "code",
   "execution_count": null,
   "metadata": {
    "pycharm": {
     "is_executing": false,
     "name": "#%%\n"
    }
   },
   "outputs": [],
   "source": [
    "dph_zipcode_gdf"
   ]
  },
  {
   "cell_type": "markdown",
   "metadata": {
    "pycharm": {
     "name": "#%% md\n"
    }
   },
   "source": [
    "#### 4.1 Get Constant Classes from today's data"
   ]
  },
  {
   "cell_type": "code",
   "execution_count": null,
   "metadata": {
    "pycharm": {
     "is_executing": false,
     "name": "#%%\n"
    }
   },
   "outputs": [],
   "source": [
    "dph_zipcode_tested = dph_zipcode_gdf['total_tested']\n",
    "dph_zipcode_case = dph_zipcode_gdf['confirmed_cases']"
   ]
  },
  {
   "cell_type": "code",
   "execution_count": null,
   "metadata": {
    "pycharm": {
     "is_executing": false,
     "name": "#%%\n"
    }
   },
   "outputs": [],
   "source": [
    "dph_zipcode_log_tested = dph_zipcode_tested.apply(lambda x: np.log(x + 1))\n",
    "dph_zipcode_log_case = dph_zipcode_case.apply(lambda x: np.log(x + 1))"
   ]
  },
  {
   "cell_type": "code",
   "execution_count": null,
   "metadata": {
    "pycharm": {
     "is_executing": false,
     "name": "#%%\n"
    }
   },
   "outputs": [],
   "source": [
    "dph_illinois_dict['tested'] = {}\n",
    "dph_illinois_dict['zipcode_case'] = {}\n",
    "dph_illinois_dict['zipcode_tested'] = {}"
   ]
  },
  {
   "cell_type": "code",
   "execution_count": null,
   "metadata": {
    "pycharm": {
     "is_executing": false,
     "name": "#%%\n"
    }
   },
   "outputs": [],
   "source": [
    "dph_illinois_dict['zipcode_case']['nolog'] = create_dict(dph_zipcode_case)\n",
    "dph_illinois_dict['zipcode_case']['log'] = create_dict(dph_zipcode_log_case)\n",
    "dph_illinois_dict['zipcode_tested']['nolog'] = create_dict(dph_zipcode_tested)\n",
    "dph_illinois_dict['zipcode_tested']['log'] = create_dict(dph_zipcode_log_tested)"
   ]
  },
  {
   "cell_type": "code",
   "execution_count": null,
   "metadata": {},
   "outputs": [],
   "source": [
    "dph_illinois_dict"
   ]
  },
  {
   "cell_type": "markdown",
   "metadata": {},
   "source": [
    "### 5. For WHO World Data"
   ]
  },
  {
   "cell_type": "markdown",
   "metadata": {},
   "source": [
    "#### 5.0 Load Data"
   ]
  },
  {
   "cell_type": "code",
   "execution_count": null,
   "metadata": {},
   "outputs": [],
   "source": [
    "who_world_gdf = gpd.read_file('worldwide/who_world_data.geojson')"
   ]
  },
  {
   "cell_type": "markdown",
   "metadata": {
    "pycharm": {
     "name": "#%% md\n"
    }
   },
   "source": [
    "#### 5.1 Get Constant Classes from today's data"
   ]
  },
  {
   "cell_type": "code",
   "execution_count": null,
   "metadata": {},
   "outputs": [],
   "source": [
    "who_world_case = who_world_gdf['today_case']\n",
    "who_world_death = who_world_gdf['today_death']\n",
    "who_world_case_per_100k_capita = who_world_gdf['today_case']/(who_world_gdf['population']/100000)\n",
    "who_world_death_per_100k_capita = who_world_gdf['today_death']/(who_world_gdf['population']/100000)"
   ]
  },
  {
   "cell_type": "code",
   "execution_count": null,
   "metadata": {},
   "outputs": [],
   "source": [
    "who_world_log_case = who_world_case.apply(lambda x: np.log(x + 1))\n",
    "who_world_log_death = who_world_death.apply(lambda x: np.log(x + 1))\n",
    "who_world_log_case_per_100k_capita = who_world_case_per_100k_capita.apply(lambda x: np.log(x + 1))\n",
    "who_world_log_death_per_100k_capita = who_world_death_per_100k_capita.apply(lambda x: np.log(x + 1))"
   ]
  },
  {
   "cell_type": "code",
   "execution_count": null,
   "metadata": {},
   "outputs": [],
   "source": [
    "who_world_dict['case'] = {}\n",
    "who_world_dict['death'] = {}\n",
    "who_world_dict['case_per_100k_capita'] = {}\n",
    "who_world_dict['death_per_100k_capita'] = {}"
   ]
  },
  {
   "cell_type": "code",
   "execution_count": null,
   "metadata": {},
   "outputs": [],
   "source": [
    "who_world_dict['case']['nolog'] = create_dict(who_world_case)\n",
    "who_world_dict['case']['log'] = create_dict(who_world_log_case)\n",
    "who_world_dict['death']['nolog'] = create_dict(who_world_death)\n",
    "who_world_dict['death']['log'] = create_dict(who_world_log_death)\n",
    "who_world_dict['case_per_100k_capita']['nolog'] = create_dict(who_world_case_per_100k_capita)\n",
    "who_world_dict['case_per_100k_capita']['log'] = create_dict(who_world_log_case_per_100k_capita)\n",
    "who_world_dict['death_per_100k_capita']['nolog'] = create_dict(who_world_death_per_100k_capita)\n",
    "who_world_dict['death_per_100k_capita']['log'] = create_dict(who_world_log_death_per_100k_capita)"
   ]
  },
  {
   "cell_type": "code",
   "execution_count": null,
   "metadata": {},
   "outputs": [],
   "source": [
    "who_world_dict"
   ]
  },
  {
   "cell_type": "markdown",
   "metadata": {},
   "source": [
    "### 6. For Vulnerability Data"
   ]
  },
  {
   "cell_type": "markdown",
   "metadata": {},
   "source": [
    "#### 6.0 Load Data"
   ]
  },
  {
   "cell_type": "code",
   "execution_count": null,
   "metadata": {},
   "outputs": [],
   "source": [
    "vul_gdf = gpd.read_file('illinois/vulnerability.geojson')"
   ]
  },
  {
   "cell_type": "markdown",
   "metadata": {
    "pycharm": {
     "name": "#%% md\n"
    }
   },
   "source": [
    "#### 6.1 Get Constant Classes from today's data"
   ]
  },
  {
   "cell_type": "code",
   "execution_count": null,
   "metadata": {},
   "outputs": [],
   "source": [
    "vul = vul_gdf['today_vul']"
   ]
  },
  {
   "cell_type": "code",
   "execution_count": null,
   "metadata": {},
   "outputs": [],
   "source": [
    "vul_dict['case'] = {}"
   ]
  },
  {
   "cell_type": "code",
   "execution_count": null,
   "metadata": {},
   "outputs": [],
   "source": [
    "vul_dict['case']['nolog'] = create_dict(vul)"
   ]
  },
  {
   "cell_type": "code",
   "execution_count": null,
   "metadata": {},
   "outputs": [],
   "source": [
    "vul_dict"
   ]
  },
  {
   "cell_type": "markdown",
   "metadata": {
    "pycharm": {
     "name": "#%% md\n"
    }
   },
   "source": [
    "### 7. Summary and ouput"
   ]
  },
  {
   "cell_type": "code",
   "execution_count": null,
   "metadata": {
    "pycharm": {
     "is_executing": false,
     "name": "#%%\n"
    }
   },
   "outputs": [],
   "source": [
    "import json\n",
    "total_dict['county'] = county_dict\n",
    "total_dict['state'] = state_dict\n",
    "total_dict['dph_illinois'] = dph_illinois_dict\n",
    "total_dict['who_world'] = who_world_dict\n",
    "total_dict['vulnerability'] = vul_dict\n",
    "# dynamic_dict['county'] = dynamic_county_dict\n",
    "# dynamic_dict['state'] = dynamic_state_dict\n",
    "# dynamic_dict['illinois'] = dynamic_illinois_dict\n",
    "with open('classes.json','w') as json_file:\n",
    "    json.dump(total_dict, json_file)\n",
    "# with open('dynamic_classes.json','w') as json_file:\n",
    "#     json.dump(dynamic_dict, json_file)\n",
    "print('done')"
   ]
  }
 ],
 "metadata": {
  "kernelspec": {
   "display_name": "Python 3",
   "language": "python",
   "name": "python3"
  },
  "language_info": {
   "codemirror_mode": {
    "name": "ipython",
    "version": 3
   },
   "file_extension": ".py",
   "mimetype": "text/x-python",
   "name": "python",
   "nbconvert_exporter": "python",
   "pygments_lexer": "ipython3",
   "version": "3.7.8"
  },
  "pycharm": {
   "stem_cell": {
    "cell_type": "raw",
    "metadata": {
     "collapsed": false
    },
    "source": []
   }
  }
 },
 "nbformat": 4,
 "nbformat_minor": 1
}
