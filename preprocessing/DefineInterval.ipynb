{
 "cells": [
  {
   "cell_type": "code",
   "execution_count": 44,
   "metadata": {
    "pycharm": {
     "is_executing": false
    }
   },
   "outputs": [],
   "source": [
    "import geopandas as gpd\n",
    "import numpy as np\n",
    "import mapclassify as mc\n",
    "import matplotlib.pyplot as plt"
   ]
  },
  {
   "cell_type": "code",
   "execution_count": 45,
   "metadata": {
    "pycharm": {
     "is_executing": false,
     "name": "#%%\n"
    }
   },
   "outputs": [],
   "source": [
    "total_dict = {}\n",
    "county_dict = {}\n",
    "state_dict = {}\n",
    "dph_illinois_dict = {}\n",
    "who_world_dict = {}\n",
    "vul_dict = {}"
   ]
  },
  {
   "cell_type": "code",
   "execution_count": 46,
   "metadata": {
    "pycharm": {
     "is_executing": false,
     "name": "#%%\n"
    }
   },
   "outputs": [],
   "source": [
    "dynamic_dict = {}\n",
    "dynamic_county_dict = {}\n",
    "dynamic_state_dict = {}\n",
    "dynamic_illinois_dict = {}"
   ]
  },
  {
   "cell_type": "markdown",
   "metadata": {
    "pycharm": {
     "name": "#%% md\n"
    }
   },
   "source": [
    "1. Read County Data"
   ]
  },
  {
   "cell_type": "code",
   "execution_count": 47,
   "metadata": {
    "pycharm": {
     "is_executing": false,
     "name": "#%%\n"
    }
   },
   "outputs": [],
   "source": [
    "counties_gdf = gpd.read_file('nyt_counties_data.geojson')"
   ]
  },
  {
   "cell_type": "code",
   "execution_count": 48,
   "metadata": {
    "pycharm": {
     "is_executing": false,
     "name": "#%%\n"
    }
   },
   "outputs": [
    {
     "data": {
      "text/html": [
       "<div>\n",
       "<style scoped>\n",
       "    .dataframe tbody tr th:only-of-type {\n",
       "        vertical-align: middle;\n",
       "    }\n",
       "\n",
       "    .dataframe tbody tr th {\n",
       "        vertical-align: top;\n",
       "    }\n",
       "\n",
       "    .dataframe thead th {\n",
       "        text-align: right;\n",
       "    }\n",
       "</style>\n",
       "<table border=\"1\" class=\"dataframe\">\n",
       "  <thead>\n",
       "    <tr style=\"text-align: right;\">\n",
       "      <th></th>\n",
       "      <th>NAME</th>\n",
       "      <th>state_name</th>\n",
       "      <th>population</th>\n",
       "      <th>fips</th>\n",
       "      <th>dt_first_case</th>\n",
       "      <th>dt_first_death</th>\n",
       "      <th>cases_ts</th>\n",
       "      <th>deaths_ts</th>\n",
       "      <th>today_case</th>\n",
       "      <th>today_new_case</th>\n",
       "      <th>today_death</th>\n",
       "      <th>today_new_death</th>\n",
       "      <th>dt_start</th>\n",
       "      <th>dt_end</th>\n",
       "      <th>dt_unit</th>\n",
       "      <th>geometry</th>\n",
       "    </tr>\n",
       "  </thead>\n",
       "  <tbody>\n",
       "    <tr>\n",
       "      <th>0</th>\n",
       "      <td>Bladen</td>\n",
       "      <td>North Carolina</td>\n",
       "      <td>33778</td>\n",
       "      <td>37017</td>\n",
       "      <td>2020-04-03</td>\n",
       "      <td>2020-05-06</td>\n",
       "      <td>0,0,0,0,0,0,0,0,0,0,0,0,0,0,0,0,0,0,0,0,0,0,0,...</td>\n",
       "      <td>0,0,0,0,0,0,0,0,0,0,0,0,0,0,0,0,0,0,0,0,0,0,0,...</td>\n",
       "      <td>398.0</td>\n",
       "      <td>1.0</td>\n",
       "      <td>3.0</td>\n",
       "      <td>0.0</td>\n",
       "      <td>2020-01-21</td>\n",
       "      <td>2020-07-04</td>\n",
       "      <td>day</td>\n",
       "      <td>MULTIPOLYGON (((-78.90200 34.83527, -78.79960 ...</td>\n",
       "    </tr>\n",
       "    <tr>\n",
       "      <th>1</th>\n",
       "      <td>Stanly</td>\n",
       "      <td>North Carolina</td>\n",
       "      <td>61114</td>\n",
       "      <td>37167</td>\n",
       "      <td>2020-03-20</td>\n",
       "      <td>2020-04-09</td>\n",
       "      <td>0,0,0,0,0,0,0,0,0,0,0,0,0,0,0,0,0,0,0,0,0,0,0,...</td>\n",
       "      <td>0,0,0,0,0,0,0,0,0,0,0,0,0,0,0,0,0,0,0,0,0,0,0,...</td>\n",
       "      <td>459.0</td>\n",
       "      <td>22.0</td>\n",
       "      <td>5.0</td>\n",
       "      <td>0.0</td>\n",
       "      <td>2020-01-21</td>\n",
       "      <td>2020-07-04</td>\n",
       "      <td>day</td>\n",
       "      <td>MULTIPOLYGON (((-80.49738 35.20210, -80.29542 ...</td>\n",
       "    </tr>\n",
       "    <tr>\n",
       "      <th>2</th>\n",
       "      <td>Summit</td>\n",
       "      <td>Ohio</td>\n",
       "      <td>541810</td>\n",
       "      <td>39153</td>\n",
       "      <td>2020-03-14</td>\n",
       "      <td>2020-03-27</td>\n",
       "      <td>0,0,0,0,0,0,0,0,0,0,0,0,0,0,0,0,0,0,0,0,0,0,0,...</td>\n",
       "      <td>0,0,0,0,0,0,0,0,0,0,0,0,0,0,0,0,0,0,0,0,0,0,0,...</td>\n",
       "      <td>2110.0</td>\n",
       "      <td>31.0</td>\n",
       "      <td>206.0</td>\n",
       "      <td>0.0</td>\n",
       "      <td>2020-01-21</td>\n",
       "      <td>2020-07-04</td>\n",
       "      <td>day</td>\n",
       "      <td>MULTIPOLYGON (((-81.68699 41.13596, -81.68495 ...</td>\n",
       "    </tr>\n",
       "    <tr>\n",
       "      <th>3</th>\n",
       "      <td>Sullivan</td>\n",
       "      <td>Pennsylvania</td>\n",
       "      <td>6177</td>\n",
       "      <td>42113</td>\n",
       "      <td>2020-04-04</td>\n",
       "      <td>None</td>\n",
       "      <td>0,0,0,0,0,0,0,0,0,0,0,0,0,0,0,0,0,0,0,0,0,0,0,...</td>\n",
       "      <td>0,0,0,0,0,0,0,0,0,0,0,0,0,0,0,0,0,0,0,0,0,0,0,...</td>\n",
       "      <td>10.0</td>\n",
       "      <td>4.0</td>\n",
       "      <td>0.0</td>\n",
       "      <td>0.0</td>\n",
       "      <td>2020-01-21</td>\n",
       "      <td>2020-07-04</td>\n",
       "      <td>day</td>\n",
       "      <td>MULTIPOLYGON (((-76.81373 41.59003, -76.22014 ...</td>\n",
       "    </tr>\n",
       "    <tr>\n",
       "      <th>4</th>\n",
       "      <td>Upshur</td>\n",
       "      <td>Texas</td>\n",
       "      <td>40769</td>\n",
       "      <td>48459</td>\n",
       "      <td>2020-03-20</td>\n",
       "      <td>None</td>\n",
       "      <td>0,0,0,0,0,0,0,0,0,0,0,0,0,0,0,0,0,0,0,0,0,0,0,...</td>\n",
       "      <td>0,0,0,0,0,0,0,0,0,0,0,0,0,0,0,0,0,0,0,0,0,0,0,...</td>\n",
       "      <td>66.0</td>\n",
       "      <td>1.0</td>\n",
       "      <td>0.0</td>\n",
       "      <td>0.0</td>\n",
       "      <td>2020-01-21</td>\n",
       "      <td>2020-07-04</td>\n",
       "      <td>day</td>\n",
       "      <td>MULTIPOLYGON (((-95.15274 32.66095, -95.15211 ...</td>\n",
       "    </tr>\n",
       "  </tbody>\n",
       "</table>\n",
       "</div>"
      ],
      "text/plain": [
       "       NAME      state_name  population   fips dt_first_case dt_first_death  \\\n",
       "0    Bladen  North Carolina       33778  37017    2020-04-03     2020-05-06   \n",
       "1    Stanly  North Carolina       61114  37167    2020-03-20     2020-04-09   \n",
       "2    Summit            Ohio      541810  39153    2020-03-14     2020-03-27   \n",
       "3  Sullivan    Pennsylvania        6177  42113    2020-04-04           None   \n",
       "4    Upshur           Texas       40769  48459    2020-03-20           None   \n",
       "\n",
       "                                            cases_ts  \\\n",
       "0  0,0,0,0,0,0,0,0,0,0,0,0,0,0,0,0,0,0,0,0,0,0,0,...   \n",
       "1  0,0,0,0,0,0,0,0,0,0,0,0,0,0,0,0,0,0,0,0,0,0,0,...   \n",
       "2  0,0,0,0,0,0,0,0,0,0,0,0,0,0,0,0,0,0,0,0,0,0,0,...   \n",
       "3  0,0,0,0,0,0,0,0,0,0,0,0,0,0,0,0,0,0,0,0,0,0,0,...   \n",
       "4  0,0,0,0,0,0,0,0,0,0,0,0,0,0,0,0,0,0,0,0,0,0,0,...   \n",
       "\n",
       "                                           deaths_ts  today_case  \\\n",
       "0  0,0,0,0,0,0,0,0,0,0,0,0,0,0,0,0,0,0,0,0,0,0,0,...       398.0   \n",
       "1  0,0,0,0,0,0,0,0,0,0,0,0,0,0,0,0,0,0,0,0,0,0,0,...       459.0   \n",
       "2  0,0,0,0,0,0,0,0,0,0,0,0,0,0,0,0,0,0,0,0,0,0,0,...      2110.0   \n",
       "3  0,0,0,0,0,0,0,0,0,0,0,0,0,0,0,0,0,0,0,0,0,0,0,...        10.0   \n",
       "4  0,0,0,0,0,0,0,0,0,0,0,0,0,0,0,0,0,0,0,0,0,0,0,...        66.0   \n",
       "\n",
       "   today_new_case  today_death  today_new_death    dt_start      dt_end  \\\n",
       "0             1.0          3.0              0.0  2020-01-21  2020-07-04   \n",
       "1            22.0          5.0              0.0  2020-01-21  2020-07-04   \n",
       "2            31.0        206.0              0.0  2020-01-21  2020-07-04   \n",
       "3             4.0          0.0              0.0  2020-01-21  2020-07-04   \n",
       "4             1.0          0.0              0.0  2020-01-21  2020-07-04   \n",
       "\n",
       "  dt_unit                                           geometry  \n",
       "0     day  MULTIPOLYGON (((-78.90200 34.83527, -78.79960 ...  \n",
       "1     day  MULTIPOLYGON (((-80.49738 35.20210, -80.29542 ...  \n",
       "2     day  MULTIPOLYGON (((-81.68699 41.13596, -81.68495 ...  \n",
       "3     day  MULTIPOLYGON (((-76.81373 41.59003, -76.22014 ...  \n",
       "4     day  MULTIPOLYGON (((-95.15274 32.66095, -95.15211 ...  "
      ]
     },
     "execution_count": 48,
     "metadata": {},
     "output_type": "execute_result"
    }
   ],
   "source": [
    "counties_gdf.head(5)"
   ]
  },
  {
   "cell_type": "code",
   "execution_count": 49,
   "metadata": {
    "pycharm": {
     "is_executing": false,
     "name": "#%%\n"
    }
   },
   "outputs": [],
   "source": [
    "case = counties_gdf['today_case']\n",
    "death = counties_gdf['today_death']\n",
    "case_per_100k_capita = counties_gdf['today_case']/(counties_gdf['population']/100000)\n",
    "death_per_100k_capita = counties_gdf['today_death']/(counties_gdf['population']/100000)\n",
    "# death_case_ratio = counties_gdf['today_death']/counties_gdf['today_case']\n",
    "# death_case_ratio = death_case_ratio.replace(np.nan, 0)"
   ]
  },
  {
   "cell_type": "code",
   "execution_count": 50,
   "metadata": {
    "pycharm": {
     "is_executing": false,
     "name": "#%%\n"
    }
   },
   "outputs": [],
   "source": [
    "log_case = case.apply(lambda x: np.log(x + 1))\n",
    "log_death = death.apply(lambda x: np.log(x + 1))\n",
    "log_case_per_100k_capita = case_per_100k_capita.apply(lambda x: np.log(x + 1))\n",
    "log_death_per_100k_capita = death.apply(lambda x: np.log(x + 1))"
   ]
  },
  {
   "cell_type": "markdown",
   "metadata": {
    "pycharm": {
     "name": "#%% md\n"
    }
   },
   "source": [
    "1.1 Get Constant Classes from today's data"
   ]
  },
  {
   "cell_type": "code",
   "execution_count": 51,
   "metadata": {
    "pycharm": {
     "is_executing": false,
     "name": "#%%\n"
    }
   },
   "outputs": [],
   "source": [
    "def create_dict(column):\n",
    "    tmp_dict = {}\n",
    "    tmp_dict['Quantiles'] = {\n",
    "        'bins': ','.join(mc.Quantiles(column, k=6).bins.astype(str)),\n",
    "        'k': 6\n",
    "    }\n",
    "    tmp_dict['FisherJenks'] = {\n",
    "        'bins': ','.join(mc.FisherJenks(column, k=6).bins.astype(str)),\n",
    "        'k': 6\n",
    "    }\n",
    "    tmp_dict['NaturalBreaks'] = {\n",
    "        'bins': ','.join(mc.NaturalBreaks(column, k=6).bins.astype(str)),\n",
    "        'k': 6\n",
    "    }\n",
    "    return tmp_dict"
   ]
  },
  {
   "cell_type": "code",
   "execution_count": 52,
   "metadata": {
    "pycharm": {
     "is_executing": false,
     "name": "#%%\n"
    }
   },
   "outputs": [],
   "source": [
    "county_dict['case'] = {}\n",
    "county_dict['death'] = {}\n",
    "county_dict['case_per_100k_capita'] = {}\n",
    "county_dict['death_per_100k_capita'] = {}"
   ]
  },
  {
   "cell_type": "code",
   "execution_count": 53,
   "metadata": {
    "pycharm": {
     "is_executing": false,
     "name": "#%%\n"
    }
   },
   "outputs": [
    {
     "name": "stderr",
     "output_type": "stream",
     "text": [
      "C:\\Users\\lymin\\Anaconda3\\envs\\wherecovid19\\lib\\site-packages\\mapclassify\\classifiers.py:237: UserWarning: Warning: Not enough unique values in array to form k classes\n",
      "  \"Warning: Not enough unique values in array to form k classes\", UserWarning\n",
      "C:\\Users\\lymin\\Anaconda3\\envs\\wherecovid19\\lib\\site-packages\\mapclassify\\classifiers.py:239: UserWarning: Warning: setting k to 5\n",
      "  Warn(\"Warning: setting k to %d\" % k_q, UserWarning)\n",
      "C:\\Users\\lymin\\Anaconda3\\envs\\wherecovid19\\lib\\site-packages\\mapclassify\\classifiers.py:237: UserWarning: Warning: Not enough unique values in array to form k classes\n",
      "  \"Warning: Not enough unique values in array to form k classes\", UserWarning\n",
      "C:\\Users\\lymin\\Anaconda3\\envs\\wherecovid19\\lib\\site-packages\\mapclassify\\classifiers.py:239: UserWarning: Warning: setting k to 5\n",
      "  Warn(\"Warning: setting k to %d\" % k_q, UserWarning)\n",
      "C:\\Users\\lymin\\Anaconda3\\envs\\wherecovid19\\lib\\site-packages\\mapclassify\\classifiers.py:237: UserWarning: Warning: Not enough unique values in array to form k classes\n",
      "  \"Warning: Not enough unique values in array to form k classes\", UserWarning\n",
      "C:\\Users\\lymin\\Anaconda3\\envs\\wherecovid19\\lib\\site-packages\\mapclassify\\classifiers.py:239: UserWarning: Warning: setting k to 5\n",
      "  Warn(\"Warning: setting k to %d\" % k_q, UserWarning)\n",
      "C:\\Users\\lymin\\Anaconda3\\envs\\wherecovid19\\lib\\site-packages\\mapclassify\\classifiers.py:237: UserWarning: Warning: Not enough unique values in array to form k classes\n",
      "  \"Warning: Not enough unique values in array to form k classes\", UserWarning\n",
      "C:\\Users\\lymin\\Anaconda3\\envs\\wherecovid19\\lib\\site-packages\\mapclassify\\classifiers.py:239: UserWarning: Warning: setting k to 5\n",
      "  Warn(\"Warning: setting k to %d\" % k_q, UserWarning)\n"
     ]
    }
   ],
   "source": [
    "county_dict['case']['nolog'] = create_dict(case)\n",
    "county_dict['case']['log'] = create_dict(log_case)\n",
    "county_dict['death']['nolog'] = create_dict(death)\n",
    "county_dict['death']['log'] = create_dict(log_death)\n",
    "county_dict['case_per_100k_capita']['nolog'] = create_dict(case_per_100k_capita)\n",
    "county_dict['case_per_100k_capita']['log'] = create_dict(log_case_per_100k_capita)\n",
    "county_dict['death_per_100k_capita']['nolog'] = create_dict(death_per_100k_capita)\n",
    "county_dict['death_per_100k_capita']['log'] = create_dict(log_death_per_100k_capita)\n"
   ]
  },
  {
   "cell_type": "code",
   "execution_count": 54,
   "metadata": {
    "pycharm": {
     "is_executing": false,
     "name": "#%%\n"
    }
   },
   "outputs": [
    {
     "data": {
      "text/plain": [
       "{'case': {'nolog': {'Quantiles': {'bins': '7.0,30.0,78.0,204.0,646.0000000000023,221395.0',\n",
       "    'k': 6},\n",
       "   'FisherJenks': {'bins': '2818.0,10447.0,26565.0,59829.0,107667.0,221395.0',\n",
       "    'k': 6},\n",
       "   'NaturalBreaks': {'bins': '2818.0,10447.0,26565.0,59829.0,107667.0,221395.0',\n",
       "    'k': 6}},\n",
       "  'log': {'Quantiles': {'bins': '2.0794415416798357,3.4339872044851463,4.3694478524670215,5.3230099791384085,6.4723462945009045,12.307708232246132',\n",
       "    'k': 6},\n",
       "   'FisherJenks': {'bins': '1.0986122886681098,2.995732273553991,4.430816798843313,5.846438775057725,7.589841512182657,12.307708232246132',\n",
       "    'k': 6},\n",
       "   'NaturalBreaks': {'bins': '1.0986122886681098,2.9444389791664403,4.356708826689592,5.7745515455444085,7.539027055823995,12.307708232246132',\n",
       "    'k': 6}}},\n",
       " 'death': {'nolog': {'Quantiles': {'bins': '0.0,1.0,4.0,19.0,22630.0', 'k': 6},\n",
       "   'FisherJenks': {'bins': '220.0,748.0,1619.0,2730.0,4622.0,22630.0', 'k': 6},\n",
       "   'NaturalBreaks': {'bins': '220.0,748.0,1558.0,2730.0,4622.0,22630.0',\n",
       "    'k': 6}},\n",
       "  'log': {'Quantiles': {'bins': '0.0,0.6931471805599453,1.6094379124341003,2.995732273553991,10.027075926780746',\n",
       "    'k': 6},\n",
       "   'FisherJenks': {'bins': '0.0,1.3862943611198906,2.6390573296152584,3.9889840465642745,5.627621113690637,10.027075926780746',\n",
       "    'k': 6},\n",
       "   'NaturalBreaks': {'bins': '0.0,1.3862943611198906,2.70805020110221,4.02535169073515,5.645446897643238,10.027075926780746',\n",
       "    'k': 6}}},\n",
       " 'case_per_100k_capita': {'nolog': {'Quantiles': {'bins': '76.1614623000762,164.88845780795347,293.78045285182003,500.6547023030118,913.2881314711266,15627.285072600022',\n",
       "    'k': 6},\n",
       "   'FisherJenks': {'bins': '421.1639279263404,1077.6660353491231,2318.009696712319,4781.122596054854,9181.504119053947,15627.285072600022',\n",
       "    'k': 6},\n",
       "   'NaturalBreaks': {'bins': '414.9531876287433,1066.2155433543023,2318.009696712319,4781.122596054854,9181.504119053947,15627.285072600022',\n",
       "    'k': 6}},\n",
       "  'log': {'Quantiles': {'bins': '4.345900139388228,5.111315621587124,5.686230851644015,6.217912039000592,6.8181457640855,9.656837697152696',\n",
       "    'k': 6},\n",
       "   'FisherJenks': {'bins': '0.0,4.2738157821014875,5.255914561239461,6.125149043724715,7.037165660721562,9.656837697152696',\n",
       "    'k': 6},\n",
       "   'NaturalBreaks': {'bins': '0.0,4.248512492202455,5.199563683599325,6.0469448280081215,6.958327024916516,9.656837697152696',\n",
       "    'k': 6}}},\n",
       " 'death_per_100k_capita': {'nolog': {'Quantiles': {'bins': '0.0,4.344124137691359,10.997873744409416,29.904306220095723,374.92677211482135',\n",
       "    'k': 6},\n",
       "   'FisherJenks': {'bins': '11.122233344455566,33.546024446665314,67.28636578862113,117.78563015312133,205.15826494724502,374.92677211482135',\n",
       "    'k': 6},\n",
       "   'NaturalBreaks': {'bins': '11.167569378524764,33.60779700890607,67.28636578862113,117.78563015312133,205.15826494724502,374.92677211482135',\n",
       "    'k': 6}},\n",
       "  'log': {'Quantiles': {'bins': '0.0,0.6931471805599453,1.6094379124341003,2.995732273553991,10.027075926780746',\n",
       "    'k': 6},\n",
       "   'FisherJenks': {'bins': '0.0,1.3862943611198906,2.6390573296152584,3.9889840465642745,5.627621113690637,10.027075926780746',\n",
       "    'k': 6},\n",
       "   'NaturalBreaks': {'bins': '0.0,1.3862943611198906,2.70805020110221,4.02535169073515,5.645446897643238,10.027075926780746',\n",
       "    'k': 6}}}}"
      ]
     },
     "execution_count": 54,
     "metadata": {},
     "output_type": "execute_result"
    }
   ],
   "source": [
    "county_dict"
   ]
  },
  {
   "cell_type": "markdown",
   "metadata": {
    "pycharm": {
     "name": "#%% md\n"
    }
   },
   "source": [
    "1.2 Create Dynamic classes"
   ]
  },
  {
   "cell_type": "code",
   "execution_count": 55,
   "metadata": {
    "pycharm": {
     "is_executing": false,
     "name": "#%%\n"
    }
   },
   "outputs": [],
   "source": [
    "# case_ts = counties_gdf['cases_ts'].apply(lambda x: x.split(','))\n",
    "# death_ts = counties_gdf['deaths_ts'].apply(lambda x: x.split(','))"
   ]
  },
  {
   "cell_type": "code",
   "execution_count": 56,
   "metadata": {
    "pycharm": {
     "is_executing": false,
     "name": "#%%\n"
    }
   },
   "outputs": [],
   "source": [
    "# length = len(case_ts[1])"
   ]
  },
  {
   "cell_type": "code",
   "execution_count": 57,
   "metadata": {
    "pycharm": {
     "is_executing": false,
     "name": "#%%\n"
    }
   },
   "outputs": [],
   "source": [
    "# new_case_dict = {}\n",
    "# for i in range(1,length):\n",
    "#     q6 = mc.Quantiles(case_ts.apply(lambda x: int(float(x[i]) - float(x[i - 1]))).values, k=6)\n",
    "#     new_case_dict[i] = ','.join(q6.bins.astype(int).astype(str))"
   ]
  },
  {
   "cell_type": "code",
   "execution_count": 58,
   "metadata": {
    "pycharm": {
     "is_executing": false,
     "name": "#%%\n"
    }
   },
   "outputs": [],
   "source": [
    "# new_death_dict = {}\n",
    "# for i in range(1,length):\n",
    "#     d6 = mc.Quantiles(death_ts.apply(lambda x: int(float(x[i]) - float(x[i - 1]))).values, k=6)\n",
    "#     new_death_dict[i] = ','.join(d6.bins.astype(int).astype(str))"
   ]
  },
  {
   "cell_type": "code",
   "execution_count": 59,
   "metadata": {
    "pycharm": {
     "is_executing": false,
     "name": "#%%\n"
    }
   },
   "outputs": [],
   "source": [
    "# dynamic_county_dict['new_case'] = new_case_dict\n",
    "# dynamic_county_dict['new_death'] = new_death_dict\n"
   ]
  },
  {
   "cell_type": "markdown",
   "metadata": {
    "pycharm": {
     "name": "#%% md\n"
    }
   },
   "source": [
    "2.Read State Data"
   ]
  },
  {
   "cell_type": "code",
   "execution_count": 60,
   "metadata": {
    "pycharm": {
     "is_executing": false,
     "name": "#%%\n"
    }
   },
   "outputs": [],
   "source": [
    "state_gdf = gpd.read_file('nyt_states_data.geojson')"
   ]
  },
  {
   "cell_type": "code",
   "execution_count": 61,
   "metadata": {
    "pycharm": {
     "is_executing": false,
     "name": "#%%\n"
    }
   },
   "outputs": [
    {
     "data": {
      "text/html": [
       "<div>\n",
       "<style scoped>\n",
       "    .dataframe tbody tr th:only-of-type {\n",
       "        vertical-align: middle;\n",
       "    }\n",
       "\n",
       "    .dataframe tbody tr th {\n",
       "        vertical-align: top;\n",
       "    }\n",
       "\n",
       "    .dataframe thead th {\n",
       "        text-align: right;\n",
       "    }\n",
       "</style>\n",
       "<table border=\"1\" class=\"dataframe\">\n",
       "  <thead>\n",
       "    <tr style=\"text-align: right;\">\n",
       "      <th></th>\n",
       "      <th>NAME</th>\n",
       "      <th>population</th>\n",
       "      <th>fips</th>\n",
       "      <th>dt_first_case</th>\n",
       "      <th>dt_first_death</th>\n",
       "      <th>cases_ts</th>\n",
       "      <th>deaths_ts</th>\n",
       "      <th>today_case</th>\n",
       "      <th>today_new_case</th>\n",
       "      <th>today_death</th>\n",
       "      <th>today_new_death</th>\n",
       "      <th>dt_start</th>\n",
       "      <th>dt_end</th>\n",
       "      <th>dt_unit</th>\n",
       "      <th>geometry</th>\n",
       "    </tr>\n",
       "  </thead>\n",
       "  <tbody>\n",
       "    <tr>\n",
       "      <th>0</th>\n",
       "      <td>West Virginia</td>\n",
       "      <td>1829054</td>\n",
       "      <td>54</td>\n",
       "      <td>2020-03-17</td>\n",
       "      <td>2020-03-29</td>\n",
       "      <td>0,0,0,0,0,0,0,0,0,0,0,0,0,0,0,0,0,0,0,0,0,0,0,...</td>\n",
       "      <td>0,0,0,0,0,0,0,0,0,0,0,0,0,0,0,0,0,0,0,0,0,0,0,...</td>\n",
       "      <td>3205.0</td>\n",
       "      <td>79.0</td>\n",
       "      <td>94.0</td>\n",
       "      <td>1.0</td>\n",
       "      <td>2020-01-21</td>\n",
       "      <td>2020-07-04</td>\n",
       "      <td>day</td>\n",
       "      <td>POLYGON ((-80.51899 40.63880, -80.51934 39.721...</td>\n",
       "    </tr>\n",
       "    <tr>\n",
       "      <th>1</th>\n",
       "      <td>Florida</td>\n",
       "      <td>20598139</td>\n",
       "      <td>12</td>\n",
       "      <td>2020-03-01</td>\n",
       "      <td>2020-03-06</td>\n",
       "      <td>0,0,0,0,0,0,0,0,0,0,0,0,0,0,0,0,0,0,0,0,0,0,0,...</td>\n",
       "      <td>0,0,0,0,0,0,0,0,0,0,0,0,0,0,0,0,0,0,0,0,0,0,0,...</td>\n",
       "      <td>190044.0</td>\n",
       "      <td>11458.0</td>\n",
       "      <td>3701.0</td>\n",
       "      <td>18.0</td>\n",
       "      <td>2020-01-21</td>\n",
       "      <td>2020-07-04</td>\n",
       "      <td>day</td>\n",
       "      <td>MULTIPOLYGON (((-82.98748 24.62538, -82.89993 ...</td>\n",
       "    </tr>\n",
       "    <tr>\n",
       "      <th>2</th>\n",
       "      <td>Illinois</td>\n",
       "      <td>12821497</td>\n",
       "      <td>17</td>\n",
       "      <td>2020-01-24</td>\n",
       "      <td>2020-03-17</td>\n",
       "      <td>0,0,0,1,1,1,1,1,1,2,2,2,2,2,2,2,2,2,2,2,2,2,2,...</td>\n",
       "      <td>0,0,0,0,0,0,0,0,0,0,0,0,0,0,0,0,0,0,0,0,0,0,0,...</td>\n",
       "      <td>148151.0</td>\n",
       "      <td>858.0</td>\n",
       "      <td>7234.0</td>\n",
       "      <td>12.0</td>\n",
       "      <td>2020-01-21</td>\n",
       "      <td>2020-07-04</td>\n",
       "      <td>day</td>\n",
       "      <td>POLYGON ((-90.64284 42.50848, -87.01994 42.493...</td>\n",
       "    </tr>\n",
       "    <tr>\n",
       "      <th>3</th>\n",
       "      <td>Minnesota</td>\n",
       "      <td>5527358</td>\n",
       "      <td>27</td>\n",
       "      <td>2020-03-06</td>\n",
       "      <td>2020-03-21</td>\n",
       "      <td>0,0,0,0,0,0,0,0,0,0,0,0,0,0,0,0,0,0,0,0,0,0,0,...</td>\n",
       "      <td>0,0,0,0,0,0,0,0,0,0,0,0,0,0,0,0,0,0,0,0,0,0,0,...</td>\n",
       "      <td>37661.0</td>\n",
       "      <td>0.0</td>\n",
       "      <td>1503.0</td>\n",
       "      <td>0.0</td>\n",
       "      <td>2020-01-21</td>\n",
       "      <td>2020-07-04</td>\n",
       "      <td>day</td>\n",
       "      <td>POLYGON ((-97.22872 49.00056, -95.15371 48.998...</td>\n",
       "    </tr>\n",
       "    <tr>\n",
       "      <th>4</th>\n",
       "      <td>Maryland</td>\n",
       "      <td>6003435</td>\n",
       "      <td>24</td>\n",
       "      <td>2020-03-05</td>\n",
       "      <td>2020-03-18</td>\n",
       "      <td>0,0,0,0,0,0,0,0,0,0,0,0,0,0,0,0,0,0,0,0,0,0,0,...</td>\n",
       "      <td>0,0,0,0,0,0,0,0,0,0,0,0,0,0,0,0,0,0,0,0,0,0,0,...</td>\n",
       "      <td>69724.0</td>\n",
       "      <td>302.0</td>\n",
       "      <td>3236.0</td>\n",
       "      <td>13.0</td>\n",
       "      <td>2020-01-21</td>\n",
       "      <td>2020-07-04</td>\n",
       "      <td>day</td>\n",
       "      <td>POLYGON ((-77.71952 39.32131, -77.76086 39.340...</td>\n",
       "    </tr>\n",
       "  </tbody>\n",
       "</table>\n",
       "</div>"
      ],
      "text/plain": [
       "            NAME  population fips dt_first_case dt_first_death  \\\n",
       "0  West Virginia     1829054   54    2020-03-17     2020-03-29   \n",
       "1        Florida    20598139   12    2020-03-01     2020-03-06   \n",
       "2       Illinois    12821497   17    2020-01-24     2020-03-17   \n",
       "3      Minnesota     5527358   27    2020-03-06     2020-03-21   \n",
       "4       Maryland     6003435   24    2020-03-05     2020-03-18   \n",
       "\n",
       "                                            cases_ts  \\\n",
       "0  0,0,0,0,0,0,0,0,0,0,0,0,0,0,0,0,0,0,0,0,0,0,0,...   \n",
       "1  0,0,0,0,0,0,0,0,0,0,0,0,0,0,0,0,0,0,0,0,0,0,0,...   \n",
       "2  0,0,0,1,1,1,1,1,1,2,2,2,2,2,2,2,2,2,2,2,2,2,2,...   \n",
       "3  0,0,0,0,0,0,0,0,0,0,0,0,0,0,0,0,0,0,0,0,0,0,0,...   \n",
       "4  0,0,0,0,0,0,0,0,0,0,0,0,0,0,0,0,0,0,0,0,0,0,0,...   \n",
       "\n",
       "                                           deaths_ts  today_case  \\\n",
       "0  0,0,0,0,0,0,0,0,0,0,0,0,0,0,0,0,0,0,0,0,0,0,0,...      3205.0   \n",
       "1  0,0,0,0,0,0,0,0,0,0,0,0,0,0,0,0,0,0,0,0,0,0,0,...    190044.0   \n",
       "2  0,0,0,0,0,0,0,0,0,0,0,0,0,0,0,0,0,0,0,0,0,0,0,...    148151.0   \n",
       "3  0,0,0,0,0,0,0,0,0,0,0,0,0,0,0,0,0,0,0,0,0,0,0,...     37661.0   \n",
       "4  0,0,0,0,0,0,0,0,0,0,0,0,0,0,0,0,0,0,0,0,0,0,0,...     69724.0   \n",
       "\n",
       "   today_new_case  today_death  today_new_death    dt_start      dt_end  \\\n",
       "0            79.0         94.0              1.0  2020-01-21  2020-07-04   \n",
       "1         11458.0       3701.0             18.0  2020-01-21  2020-07-04   \n",
       "2           858.0       7234.0             12.0  2020-01-21  2020-07-04   \n",
       "3             0.0       1503.0              0.0  2020-01-21  2020-07-04   \n",
       "4           302.0       3236.0             13.0  2020-01-21  2020-07-04   \n",
       "\n",
       "  dt_unit                                           geometry  \n",
       "0     day  POLYGON ((-80.51899 40.63880, -80.51934 39.721...  \n",
       "1     day  MULTIPOLYGON (((-82.98748 24.62538, -82.89993 ...  \n",
       "2     day  POLYGON ((-90.64284 42.50848, -87.01994 42.493...  \n",
       "3     day  POLYGON ((-97.22872 49.00056, -95.15371 48.998...  \n",
       "4     day  POLYGON ((-77.71952 39.32131, -77.76086 39.340...  "
      ]
     },
     "execution_count": 61,
     "metadata": {},
     "output_type": "execute_result"
    }
   ],
   "source": [
    "state_gdf.head(5)"
   ]
  },
  {
   "cell_type": "code",
   "execution_count": 62,
   "metadata": {
    "pycharm": {
     "is_executing": false,
     "name": "#%%\n"
    }
   },
   "outputs": [
    {
     "data": {
      "text/plain": [
       "NAME                                                  Virgin Islands\n",
       "population                                                         0\n",
       "fips                                                              78\n",
       "dt_first_case                                             2020-03-14\n",
       "dt_first_death                                            2020-04-06\n",
       "cases_ts           0,0,0,0,0,0,0,0,0,0,0,0,0,0,0,0,0,0,0,0,0,0,0,...\n",
       "deaths_ts          0,0,0,0,0,0,0,0,0,0,0,0,0,0,0,0,0,0,0,0,0,0,0,...\n",
       "today_case                                                       111\n",
       "today_new_case                                                     0\n",
       "today_death                                                        6\n",
       "today_new_death                                                    0\n",
       "dt_start                                                  2020-01-21\n",
       "dt_end                                                    2020-07-04\n",
       "dt_unit                                                          day\n",
       "geometry           (POLYGON ((-64.95671400000001 17.678977, -64.9...\n",
       "Name: 34, dtype: object"
      ]
     },
     "execution_count": 62,
     "metadata": {},
     "output_type": "execute_result"
    }
   ],
   "source": [
    "state_gdf.iloc[34]"
   ]
  },
  {
   "cell_type": "code",
   "execution_count": 63,
   "metadata": {
    "pycharm": {
     "is_executing": false,
     "name": "#%%\n"
    }
   },
   "outputs": [],
   "source": [
    "state_case = state_gdf['today_case']\n",
    "state_death = state_gdf['today_death']\n",
    "state_case_per_100k_capita = state_gdf['today_case']/(state_gdf['population']/100000)\n",
    "state_death_per_100k_capita = state_gdf['today_death']/(state_gdf['population']/100000)\n",
    "#death_case_ratio = counties_gdf['today_death']/counties_gdf['today_case']\n",
    "#death_case_ratio = death_case_ratio.replace(np.nan, 0)"
   ]
  },
  {
   "cell_type": "code",
   "execution_count": 64,
   "metadata": {
    "pycharm": {
     "is_executing": false,
     "name": "#%%\n"
    }
   },
   "outputs": [],
   "source": [
    "state_death_per_100k_capita = state_death_per_100k_capita.replace(np.nan,0)\n",
    "state_death_per_100k_capita = state_death_per_100k_capita.replace(np.inf,0)\n",
    "state_case_per_100k_capita = state_case_per_100k_capita.replace(np.nan,0)\n",
    "state_case_per_100k_capita = state_case_per_100k_capita.replace(np.inf,0)"
   ]
  },
  {
   "cell_type": "code",
   "execution_count": 65,
   "metadata": {
    "pycharm": {
     "is_executing": false,
     "name": "#%%\n"
    }
   },
   "outputs": [],
   "source": [
    "state_log_case = state_case.apply(lambda x: np.log(x + 1))\n",
    "state_log_death = state_death.apply(lambda x: np.log(x + 1))\n",
    "state_log_case_per_100k_capita = state_case_per_100k_capita.apply(lambda x: np.log(x + 1))\n",
    "state_log_death_per_100k_capita =state_death_per_100k_capita.apply(lambda x: np.log(x + 1))"
   ]
  },
  {
   "cell_type": "code",
   "execution_count": 66,
   "metadata": {
    "pycharm": {
     "is_executing": false,
     "name": "#%%\n"
    }
   },
   "outputs": [],
   "source": [
    "state_dict['case'] = {}\n",
    "state_dict['death'] = {}\n",
    "state_dict['case_per_100k_capita'] = {}\n",
    "state_dict['death_per_100k_capita'] = {}"
   ]
  },
  {
   "cell_type": "code",
   "execution_count": 67,
   "metadata": {
    "pycharm": {
     "is_executing": false,
     "name": "#%%\n"
    }
   },
   "outputs": [],
   "source": [
    "state_dict['case']['nolog'] = create_dict(state_case)\n",
    "state_dict['case']['log'] = create_dict(state_log_case)\n",
    "state_dict['death']['nolog'] = create_dict(state_death)\n",
    "state_dict['death']['log'] = create_dict(state_log_death)\n",
    "state_dict['case_per_100k_capita']['nolog'] = create_dict(state_case_per_100k_capita)\n",
    "state_dict['case_per_100k_capita']['log'] = create_dict(state_log_case_per_100k_capita)\n",
    "state_dict['death_per_100k_capita']['nolog'] = create_dict(state_death_per_100k_capita)\n",
    "state_dict['death_per_100k_capita']['log'] = create_dict(state_log_death_per_100k_capita)"
   ]
  },
  {
   "cell_type": "code",
   "execution_count": 68,
   "metadata": {},
   "outputs": [
    {
     "data": {
      "text/plain": [
       "{'case': {'nolog': {'Quantiles': {'bins': '3397.000000000001,13063.00000000001,24717.0,46717.00000000001,87592.00000000004,401286.0',\n",
       "    'k': 6},\n",
       "   'FisherJenks': {'bins': '24717.0,56183.0,109838.0,195707.0,258880.0,401286.0',\n",
       "    'k': 6},\n",
       "   'NaturalBreaks': {'bins': '21671.0,56183.0,109838.0,195707.0,258880.0,401286.0',\n",
       "    'k': 6}},\n",
       "  'log': {'Quantiles': {'bins': '8.130942302231878,9.4776156346503,10.11528700214968,10.751884808366633,11.380456365055815,12.902432161013119',\n",
       "    'k': 6},\n",
       "   'FisherJenks': {'bins': '4.718498871295094,7.382124365737512,8.960339366492091,10.11528700214968,11.45759244291205,12.902432161013119',\n",
       "    'k': 6},\n",
       "   'NaturalBreaks': {'bins': '4.718498871295094,7.382124365737512,8.960339366492091,10.11528700214968,11.45759244291205,12.902432161013119',\n",
       "    'k': 6}}},\n",
       " 'death': {'nolog': {'Quantiles': {'bins': '94.0,286.00000000000034,721.0,1503.0000000000014,3278.000000000003,31860.0',\n",
       "    'k': 6},\n",
       "   'FisherJenks': {'bins': '721.0,1849.0,4335.0,8172.0,15189.0,31860.0',\n",
       "    'k': 6},\n",
       "   'NaturalBreaks': {'bins': '721.0,1849.0,4335.0,8172.0,15189.0,31860.0',\n",
       "    'k': 6}},\n",
       "  'log': {'Quantiles': {'bins': '4.553876891600541,5.659482215759622,6.582025138892826,7.315883504509786,8.09529377684465,10.369137970290991',\n",
       "    'k': 6},\n",
       "   'FisherJenks': {'bins': '3.1780538303479458,5.204006687076795,6.447305862541213,7.52294091807237,9.00859131751613,10.369137970290991',\n",
       "    'k': 6},\n",
       "   'NaturalBreaks': {'bins': '3.1780538303479458,5.204006687076795,6.447305862541213,7.52294091807237,8.374707543119483,10.369137970290991',\n",
       "    'k': 6}}},\n",
       " 'case_per_100k_capita': {'nolog': {'Quantiles': {'bins': '243.43799019241575,503.58880139749886,706.3475370888091,813.1539334643854,1161.4017641566875,2045.4517998947217',\n",
       "    'k': 6},\n",
       "   'FisherJenks': {'bins': '276.02279680184796,612.8934337417903,881.0857034789544,1161.4017641566868,1608.1243970704782,2045.4517998947217',\n",
       "    'k': 6},\n",
       "   'NaturalBreaks': {'bins': '276.02279680184796,592.6041041853498,881.0857034789544,1161.4017641566868,1608.1243970704782,2045.4517998947217',\n",
       "    'k': 6}},\n",
       "  'log': {'Quantiles': {'bins': '5.498961657903303,6.223743842931554,6.5615221110141135,6.7021494555740855,7.058243629939615,7.623862743197104',\n",
       "    'k': 6},\n",
       "   'FisherJenks': {'bins': '0.0,4.727608801317281,5.624099801724607,6.386212605888146,6.948819043555456,7.623862743197104',\n",
       "    'k': 6},\n",
       "   'NaturalBreaks': {'bins': '0.0,4.727608801317281,5.624099801724607,6.4198213524026215,6.948819043555456,7.623862743197104',\n",
       "    'k': 6}}},\n",
       " 'death_per_100k_capita': {'nolog': {'Quantiles': {'bins': '5.291597653372426,10.157888812974129,17.454666307173884,26.21394233364548,53.92340138705313,171.01176613642775',\n",
       "    'k': 6},\n",
       "   'FisherJenks': {'bins': '14.962514962514962,37.03874714681196,62.485638948297,90.85652146343357,121.03853576597987,171.01176613642775',\n",
       "    'k': 6},\n",
       "   'NaturalBreaks': {'bins': '14.962514962514962,37.03874714681196,62.485638948297,90.85652146343357,121.03853576597987,171.01176613642775',\n",
       "    'k': 6}},\n",
       "  'log': {'Quantiles': {'bins': '1.8392150374064096,2.4121467645927352,2.915317254886569,3.303729427770518,4.005939512468007,5.147562882243677',\n",
       "    'k': 6},\n",
       "   'FisherJenks': {'bins': '0.0,1.9378041860787014,2.770243158712327,3.459129984992694,4.411263818666221,5.147562882243677',\n",
       "    'k': 6},\n",
       "   'NaturalBreaks': {'bins': '0.0,1.9378041860787014,2.770243158712327,3.459129984992694,4.411263818666221,5.147562882243677',\n",
       "    'k': 6}}}}"
      ]
     },
     "execution_count": 68,
     "metadata": {},
     "output_type": "execute_result"
    }
   ],
   "source": [
    "state_dict"
   ]
  },
  {
   "cell_type": "markdown",
   "metadata": {},
   "source": [
    "4. Read DPH Illinois County Data"
   ]
  },
  {
   "cell_type": "code",
   "execution_count": 69,
   "metadata": {
    "pycharm": {
     "is_executing": false,
     "name": "#%%\n"
    }
   },
   "outputs": [],
   "source": [
    "dph_illinois_gdf = gpd.read_file('illinois/dph_county_data.geojson')"
   ]
  },
  {
   "cell_type": "code",
   "execution_count": 70,
   "metadata": {
    "pycharm": {
     "is_executing": false,
     "name": "#%%\n"
    }
   },
   "outputs": [
    {
     "data": {
      "text/html": [
       "<div>\n",
       "<style scoped>\n",
       "    .dataframe tbody tr th:only-of-type {\n",
       "        vertical-align: middle;\n",
       "    }\n",
       "\n",
       "    .dataframe tbody tr th {\n",
       "        vertical-align: top;\n",
       "    }\n",
       "\n",
       "    .dataframe thead th {\n",
       "        text-align: right;\n",
       "    }\n",
       "</style>\n",
       "<table border=\"1\" class=\"dataframe\">\n",
       "  <thead>\n",
       "    <tr style=\"text-align: right;\">\n",
       "      <th></th>\n",
       "      <th>id</th>\n",
       "      <th>NAME</th>\n",
       "      <th>cases_ts</th>\n",
       "      <th>dt_first_case</th>\n",
       "      <th>today_case</th>\n",
       "      <th>today_new_case</th>\n",
       "      <th>deaths_ts</th>\n",
       "      <th>dt_first_death</th>\n",
       "      <th>today_death</th>\n",
       "      <th>today_new_death</th>\n",
       "      <th>today_tested</th>\n",
       "      <th>today_new_tested</th>\n",
       "      <th>dt_start</th>\n",
       "      <th>dt_end</th>\n",
       "      <th>dt_unit</th>\n",
       "      <th>population</th>\n",
       "      <th>geometry</th>\n",
       "    </tr>\n",
       "  </thead>\n",
       "  <tbody>\n",
       "    <tr>\n",
       "      <th>0</th>\n",
       "      <td>McHenry</td>\n",
       "      <td>McHenry</td>\n",
       "      <td>2,4,6,8,11,12,12,14,19,27,45,47,52,52,63,69,81...</td>\n",
       "      <td>2020-03-17</td>\n",
       "      <td>2115</td>\n",
       "      <td>12</td>\n",
       "      <td>0,0,0,0,0,0,0,0,0,1,1,2,2,2,2,2,3,3,3,3,3,4,5,...</td>\n",
       "      <td>2020-03-26</td>\n",
       "      <td>97</td>\n",
       "      <td>0</td>\n",
       "      <td>25822</td>\n",
       "      <td>409</td>\n",
       "      <td>2020-03-17</td>\n",
       "      <td>2020-07-05</td>\n",
       "      <td>day</td>\n",
       "      <td>308570</td>\n",
       "      <td>POLYGON ((-88.70742 42.49352, -88.70741 42.493...</td>\n",
       "    </tr>\n",
       "    <tr>\n",
       "      <th>1</th>\n",
       "      <td>Boone</td>\n",
       "      <td>Boone</td>\n",
       "      <td>0,0,0,0,0,0,0,0,0,0,0,0,0,0,0,0,0,0,0,3,4,6,7,...</td>\n",
       "      <td>2020-04-05</td>\n",
       "      <td>608</td>\n",
       "      <td>0</td>\n",
       "      <td>0,0,0,0,0,0,0,0,0,0,0,0,0,0,0,0,0,0,0,0,0,0,1,...</td>\n",
       "      <td>2020-04-08</td>\n",
       "      <td>21</td>\n",
       "      <td>0</td>\n",
       "      <td>5692</td>\n",
       "      <td>145</td>\n",
       "      <td>2020-03-17</td>\n",
       "      <td>2020-07-05</td>\n",
       "      <td>day</td>\n",
       "      <td>53577</td>\n",
       "      <td>POLYGON ((-88.70742 42.49352, -88.70750 42.493...</td>\n",
       "    </tr>\n",
       "    <tr>\n",
       "      <th>2</th>\n",
       "      <td>Ogle</td>\n",
       "      <td>Ogle</td>\n",
       "      <td>0,0,0,0,0,0,0,0,0,0,0,0,0,0,1,1,1,1,4,5,7,10,1...</td>\n",
       "      <td>2020-03-31</td>\n",
       "      <td>271</td>\n",
       "      <td>2</td>\n",
       "      <td>0,0,0,0,0,0,0,0,0,0,0,0,0,0,0,0,0,0,0,0,0,0,0,...</td>\n",
       "      <td>2020-04-15</td>\n",
       "      <td>4</td>\n",
       "      <td>0</td>\n",
       "      <td>4589</td>\n",
       "      <td>217</td>\n",
       "      <td>2020-03-17</td>\n",
       "      <td>2020-07-05</td>\n",
       "      <td>day</td>\n",
       "      <td>50923</td>\n",
       "      <td>POLYGON ((-89.68809 42.19950, -89.68807 42.184...</td>\n",
       "    </tr>\n",
       "    <tr>\n",
       "      <th>3</th>\n",
       "      <td>Will</td>\n",
       "      <td>Will</td>\n",
       "      <td>2,3,9,10,12,21,21,28,40,67,104,127,182,223,228...</td>\n",
       "      <td>2020-03-17</td>\n",
       "      <td>6923</td>\n",
       "      <td>40</td>\n",
       "      <td>0,0,0,1,1,1,1,1,2,3,3,4,4,5,8,9,8,10,11,12,19,...</td>\n",
       "      <td>2020-03-20</td>\n",
       "      <td>320</td>\n",
       "      <td>0</td>\n",
       "      <td>81099</td>\n",
       "      <td>949</td>\n",
       "      <td>2020-03-17</td>\n",
       "      <td>2020-07-05</td>\n",
       "      <td>day</td>\n",
       "      <td>692310</td>\n",
       "      <td>POLYGON ((-88.26146 41.72439, -88.26103 41.708...</td>\n",
       "    </tr>\n",
       "    <tr>\n",
       "      <th>4</th>\n",
       "      <td>LaSalle</td>\n",
       "      <td>LaSalle</td>\n",
       "      <td>0,0,1,1,1,1,1,3,3,3,3,3,4,5,5,6,6,6,7,8,11,12,...</td>\n",
       "      <td>2020-03-19</td>\n",
       "      <td>226</td>\n",
       "      <td>1</td>\n",
       "      <td>0,0,0,0,0,0,0,0,0,0,0,0,1,1,1,1,1,1,1,1,1,1,1,...</td>\n",
       "      <td>2020-03-29</td>\n",
       "      <td>17</td>\n",
       "      <td>0</td>\n",
       "      <td>8920</td>\n",
       "      <td>125</td>\n",
       "      <td>2020-03-17</td>\n",
       "      <td>2020-07-05</td>\n",
       "      <td>day</td>\n",
       "      <td>109430</td>\n",
       "      <td>POLYGON ((-88.93885 41.62837, -88.93891 41.628...</td>\n",
       "    </tr>\n",
       "  </tbody>\n",
       "</table>\n",
       "</div>"
      ],
      "text/plain": [
       "        id     NAME                                           cases_ts  \\\n",
       "0  McHenry  McHenry  2,4,6,8,11,12,12,14,19,27,45,47,52,52,63,69,81...   \n",
       "1    Boone    Boone  0,0,0,0,0,0,0,0,0,0,0,0,0,0,0,0,0,0,0,3,4,6,7,...   \n",
       "2     Ogle     Ogle  0,0,0,0,0,0,0,0,0,0,0,0,0,0,1,1,1,1,4,5,7,10,1...   \n",
       "3     Will     Will  2,3,9,10,12,21,21,28,40,67,104,127,182,223,228...   \n",
       "4  LaSalle  LaSalle  0,0,1,1,1,1,1,3,3,3,3,3,4,5,5,6,6,6,7,8,11,12,...   \n",
       "\n",
       "  dt_first_case  today_case  today_new_case  \\\n",
       "0    2020-03-17        2115              12   \n",
       "1    2020-04-05         608               0   \n",
       "2    2020-03-31         271               2   \n",
       "3    2020-03-17        6923              40   \n",
       "4    2020-03-19         226               1   \n",
       "\n",
       "                                           deaths_ts dt_first_death  \\\n",
       "0  0,0,0,0,0,0,0,0,0,1,1,2,2,2,2,2,3,3,3,3,3,4,5,...     2020-03-26   \n",
       "1  0,0,0,0,0,0,0,0,0,0,0,0,0,0,0,0,0,0,0,0,0,0,1,...     2020-04-08   \n",
       "2  0,0,0,0,0,0,0,0,0,0,0,0,0,0,0,0,0,0,0,0,0,0,0,...     2020-04-15   \n",
       "3  0,0,0,1,1,1,1,1,2,3,3,4,4,5,8,9,8,10,11,12,19,...     2020-03-20   \n",
       "4  0,0,0,0,0,0,0,0,0,0,0,0,1,1,1,1,1,1,1,1,1,1,1,...     2020-03-29   \n",
       "\n",
       "   today_death  today_new_death  today_tested  today_new_tested    dt_start  \\\n",
       "0           97                0         25822               409  2020-03-17   \n",
       "1           21                0          5692               145  2020-03-17   \n",
       "2            4                0          4589               217  2020-03-17   \n",
       "3          320                0         81099               949  2020-03-17   \n",
       "4           17                0          8920               125  2020-03-17   \n",
       "\n",
       "       dt_end dt_unit  population  \\\n",
       "0  2020-07-05     day      308570   \n",
       "1  2020-07-05     day       53577   \n",
       "2  2020-07-05     day       50923   \n",
       "3  2020-07-05     day      692310   \n",
       "4  2020-07-05     day      109430   \n",
       "\n",
       "                                            geometry  \n",
       "0  POLYGON ((-88.70742 42.49352, -88.70741 42.493...  \n",
       "1  POLYGON ((-88.70742 42.49352, -88.70750 42.493...  \n",
       "2  POLYGON ((-89.68809 42.19950, -89.68807 42.184...  \n",
       "3  POLYGON ((-88.26146 41.72439, -88.26103 41.708...  \n",
       "4  POLYGON ((-88.93885 41.62837, -88.93891 41.628...  "
      ]
     },
     "execution_count": 70,
     "metadata": {},
     "output_type": "execute_result"
    }
   ],
   "source": [
    "dph_illinois_gdf.head(5)"
   ]
  },
  {
   "cell_type": "code",
   "execution_count": 71,
   "metadata": {},
   "outputs": [],
   "source": [
    "dph_illinois_gdf = dph_illinois_gdf[dph_illinois_gdf['id'] != 'Illinois']"
   ]
  },
  {
   "cell_type": "code",
   "execution_count": 72,
   "metadata": {
    "pycharm": {
     "is_executing": false,
     "name": "#%%\n"
    }
   },
   "outputs": [],
   "source": [
    "illinois_case = dph_illinois_gdf['today_case']\n",
    "illinois_death = dph_illinois_gdf['today_death']\n",
    "illinois_case_per_100k_capita = dph_illinois_gdf['today_case']/(dph_illinois_gdf['population']/100000)\n",
    "illinois_death_per_100k_capita = dph_illinois_gdf['today_death']/(dph_illinois_gdf['population']/100000)\n",
    "#death_case_ratio = counties_gdf['today_death']/counties_gdf['today_case']\n",
    "#death_case_ratio = death_case_ratio.replace(np.nan, 0)"
   ]
  },
  {
   "cell_type": "code",
   "execution_count": 73,
   "metadata": {
    "pycharm": {
     "is_executing": false,
     "name": "#%%\n"
    }
   },
   "outputs": [],
   "source": [
    "illinois_death_per_100k_capita = illinois_death_per_100k_capita.replace(np.nan,0)\n",
    "illinois_death_per_100k_capita = illinois_death_per_100k_capita.replace(np.inf,0)\n",
    "illinois_case_per_100k_capita = illinois_case_per_100k_capita.replace(np.nan,0)\n",
    "illinois_case_per_100k_capita = illinois_case_per_100k_capita.replace(np.inf,0)"
   ]
  },
  {
   "cell_type": "code",
   "execution_count": 74,
   "metadata": {
    "pycharm": {
     "is_executing": false,
     "name": "#%%\n"
    }
   },
   "outputs": [],
   "source": [
    "illinois_log_case = illinois_case.apply(lambda x: np.log(x + 1))\n",
    "illinois_log_death = illinois_death.apply(lambda x: np.log(x + 1))\n",
    "illinois_log_case_per_100k_capita = illinois_case_per_100k_capita.apply(lambda x: np.log(x + 1))\n",
    "illinois_log_death_per_100k_capita =illinois_death_per_100k_capita.apply(lambda x: np.log(x + 1))"
   ]
  },
  {
   "cell_type": "code",
   "execution_count": 75,
   "metadata": {
    "pycharm": {
     "is_executing": false,
     "name": "#%%\n"
    }
   },
   "outputs": [],
   "source": [
    "dph_illinois_dict['case'] = {}\n",
    "dph_illinois_dict['death'] = {}\n",
    "dph_illinois_dict['case_per_100k_capita'] = {}\n",
    "dph_illinois_dict['death_per_100k_capita'] = {}"
   ]
  },
  {
   "cell_type": "code",
   "execution_count": 76,
   "metadata": {
    "pycharm": {
     "is_executing": false,
     "name": "#%%\n"
    }
   },
   "outputs": [
    {
     "name": "stderr",
     "output_type": "stream",
     "text": [
      "C:\\Users\\lymin\\Anaconda3\\envs\\wherecovid19\\lib\\site-packages\\mapclassify\\classifiers.py:237: UserWarning: Warning: Not enough unique values in array to form k classes\n",
      "  \"Warning: Not enough unique values in array to form k classes\", UserWarning\n",
      "C:\\Users\\lymin\\Anaconda3\\envs\\wherecovid19\\lib\\site-packages\\mapclassify\\classifiers.py:239: UserWarning: Warning: setting k to 5\n",
      "  Warn(\"Warning: setting k to %d\" % k_q, UserWarning)\n",
      "C:\\Users\\lymin\\Anaconda3\\envs\\wherecovid19\\lib\\site-packages\\mapclassify\\classifiers.py:237: UserWarning: Warning: Not enough unique values in array to form k classes\n",
      "  \"Warning: Not enough unique values in array to form k classes\", UserWarning\n",
      "C:\\Users\\lymin\\Anaconda3\\envs\\wherecovid19\\lib\\site-packages\\mapclassify\\classifiers.py:239: UserWarning: Warning: setting k to 5\n",
      "  Warn(\"Warning: setting k to %d\" % k_q, UserWarning)\n",
      "C:\\Users\\lymin\\Anaconda3\\envs\\wherecovid19\\lib\\site-packages\\mapclassify\\classifiers.py:237: UserWarning: Warning: Not enough unique values in array to form k classes\n",
      "  \"Warning: Not enough unique values in array to form k classes\", UserWarning\n",
      "C:\\Users\\lymin\\Anaconda3\\envs\\wherecovid19\\lib\\site-packages\\mapclassify\\classifiers.py:239: UserWarning: Warning: setting k to 5\n",
      "  Warn(\"Warning: setting k to %d\" % k_q, UserWarning)\n",
      "C:\\Users\\lymin\\Anaconda3\\envs\\wherecovid19\\lib\\site-packages\\mapclassify\\classifiers.py:237: UserWarning: Warning: Not enough unique values in array to form k classes\n",
      "  \"Warning: Not enough unique values in array to form k classes\", UserWarning\n",
      "C:\\Users\\lymin\\Anaconda3\\envs\\wherecovid19\\lib\\site-packages\\mapclassify\\classifiers.py:239: UserWarning: Warning: setting k to 5\n",
      "  Warn(\"Warning: setting k to %d\" % k_q, UserWarning)\n"
     ]
    }
   ],
   "source": [
    "dph_illinois_dict['case']['nolog'] = create_dict(illinois_case)\n",
    "dph_illinois_dict['case']['log'] = create_dict(illinois_log_case)\n",
    "dph_illinois_dict['death']['nolog'] = create_dict(illinois_death)\n",
    "dph_illinois_dict['death']['log'] = create_dict(illinois_log_death)\n",
    "dph_illinois_dict['case_per_100k_capita']['nolog'] = create_dict(illinois_case_per_100k_capita)\n",
    "dph_illinois_dict['case_per_100k_capita']['log'] = create_dict(illinois_log_case_per_100k_capita)\n",
    "dph_illinois_dict['death_per_100k_capita']['nolog'] = create_dict(illinois_death_per_100k_capita)\n",
    "dph_illinois_dict['death_per_100k_capita']['log'] = create_dict(illinois_log_death_per_100k_capita)"
   ]
  },
  {
   "cell_type": "code",
   "execution_count": 77,
   "metadata": {},
   "outputs": [
    {
     "data": {
      "text/plain": [
       "{'case': {'nolog': {'Quantiles': {'bins': '10.0,20.0,47.0,136.00000000000006,450.00000000000153,53531.0',\n",
       "    'k': 6},\n",
       "   'FisherJenks': {'bins': '608,3091,7856,9954,39001,53531', 'k': 6},\n",
       "   'NaturalBreaks': {'bins': '608.0,3091.0,7856.0,9954.0,39001.0,53531.0',\n",
       "    'k': 6}},\n",
       "  'log': {'Quantiles': {'bins': '2.3978952727983707,3.044522437723423,3.871201010907891,4.919980925828125,6.111467339502681,10.888034884916266',\n",
       "    'k': 6},\n",
       "   'FisherJenks': {'bins': '1.6094379124341003,3.2188758248682006,4.382026634673881,5.8289456176102075,8.036573409707312,10.888034884916266',\n",
       "    'k': 6},\n",
       "   'NaturalBreaks': {'bins': '1.6094379124341003,3.2188758248682006,4.382026634673881,5.8289456176102075,8.036573409707312,10.888034884916266',\n",
       "    'k': 6}}},\n",
       " 'death': {'nolog': {'Quantiles': {'bins': '0.0,1.0,5.0,19.00000000000003,2634.0',\n",
       "    'k': 6},\n",
       "   'FisherJenks': {'bins': '32,137,320,475,1993,2634', 'k': 6},\n",
       "   'NaturalBreaks': {'bins': '32.0,137.0,320.0,475.0,1993.0,2634.0', 'k': 6}},\n",
       "  'log': {'Quantiles': {'bins': '0.0,0.6931471805599453,1.791759469228055,2.995732273553992,7.876638460975463',\n",
       "    'k': 6},\n",
       "   'FisherJenks': {'bins': '0.0,1.0986122886681098,2.1972245773362196,3.4965075614664802,6.16541785423142,7.876638460975463',\n",
       "    'k': 6},\n",
       "   'NaturalBreaks': {'bins': '0.0,1.0986122886681098,2.1972245773362196,3.4965075614664802,6.16541785423142,7.876638460975463',\n",
       "    'k': 6}}},\n",
       " 'case_per_100k_capita': {'nolog': {'Quantiles': {'bins': '68.9972401103956,113.35469439574395,183.41307814992027,307.82688613173485,685.4198399066667,1987.0629879405014',\n",
       "    'k': 6},\n",
       "   'FisherJenks': {'bins': '215.29532902742676,489.02299448548536,839.596054485674,1187.922635061441,1470.5662129176214,1987.0629879405014',\n",
       "    'k': 6},\n",
       "   'NaturalBreaks': {'bins': '215.29532902742676,489.02299448548536,839.596054485674,1187.922635061441,1470.5662129176214,1987.0629879405014',\n",
       "    'k': 6}},\n",
       "  'log': {'Quantiles': {'bins': '4.2484558142777455,4.739304972496663,5.217178231329506,5.732780880849332,6.53148945204896,7.594916070789289',\n",
       "    'k': 6},\n",
       "   'FisherJenks': {'bins': '3.8484217099785765,4.739304972496663,5.443966856755304,6.11471067421255,6.800201908314672,7.594916070789289',\n",
       "    'k': 6},\n",
       "   'NaturalBreaks': {'bins': '3.8484217099785765,4.739304972496663,5.443966856755304,6.11471067421255,6.734111228871771,7.594916070789289',\n",
       "    'k': 6}}},\n",
       " 'death_per_100k_capita': {'nolog': {'Quantiles': {'bins': '0.0,4.722773212430339,11.172435367461416,33.40866660115948,112.81990380618728',\n",
       "    'k': 6},\n",
       "   'FisherJenks': {'bins': '2.9232927970065483,12.247022442668626,26.965807356272247,46.22206814866173,72.83321194464676,112.81990380618728',\n",
       "    'k': 6},\n",
       "   'NaturalBreaks': {'bins': '2.9232927970065483,12.247022442668626,26.965807356272247,46.22206814866173,72.83321194464676,112.81990380618728',\n",
       "    'k': 6}},\n",
       "  'log': {'Quantiles': {'bins': '0.0,1.744453515248863,2.4991739993429323,3.5383084687290056,4.734617408034815',\n",
       "    'k': 6},\n",
       "   'FisherJenks': {'bins': '0.0,1.503272905573543,2.380407528814755,3.1268823836634843,3.8548613288486524,4.734617408034815',\n",
       "    'k': 6},\n",
       "   'NaturalBreaks': {'bins': '0.0,1.503272905573543,2.380407528814755,3.2991943182239614,3.9792807976217572,4.734617408034815',\n",
       "    'k': 6}}}}"
      ]
     },
     "execution_count": 77,
     "metadata": {},
     "output_type": "execute_result"
    }
   ],
   "source": [
    "dph_illinois_dict"
   ]
  },
  {
   "cell_type": "markdown",
   "metadata": {
    "pycharm": {
     "name": "#%% md\n"
    }
   },
   "source": [
    "6. Read DPH County Test (Static) and DPH Zipcode Case (Static)\n"
   ]
  },
  {
   "cell_type": "code",
   "execution_count": 78,
   "metadata": {
    "pycharm": {
     "is_executing": false,
     "name": "#%%\n"
    }
   },
   "outputs": [],
   "source": [
    "dph_illinois_test_gdf = gpd.read_file('illinois/dph_county_static_data.geojson')\n",
    "dph_zipcode_gdf = gpd.read_file('illinois/dph_zipcode_data.geojson')"
   ]
  },
  {
   "cell_type": "code",
   "execution_count": 79,
   "metadata": {},
   "outputs": [],
   "source": [
    "dph_illinois_test_gdf = dph_illinois_test_gdf[dph_illinois_test_gdf['NAME'] != 'Illinois']"
   ]
  },
  {
   "cell_type": "code",
   "execution_count": 80,
   "metadata": {
    "pycharm": {
     "is_executing": false,
     "name": "#%%\n"
    }
   },
   "outputs": [
    {
     "data": {
      "text/html": [
       "<div>\n",
       "<style scoped>\n",
       "    .dataframe tbody tr th:only-of-type {\n",
       "        vertical-align: middle;\n",
       "    }\n",
       "\n",
       "    .dataframe tbody tr th {\n",
       "        vertical-align: top;\n",
       "    }\n",
       "\n",
       "    .dataframe thead th {\n",
       "        text-align: right;\n",
       "    }\n",
       "</style>\n",
       "<table border=\"1\" class=\"dataframe\">\n",
       "  <thead>\n",
       "    <tr style=\"text-align: right;\">\n",
       "      <th></th>\n",
       "      <th>id</th>\n",
       "      <th>confirmed_cases</th>\n",
       "      <th>total_tested</th>\n",
       "      <th>geometry</th>\n",
       "    </tr>\n",
       "  </thead>\n",
       "  <tbody>\n",
       "    <tr>\n",
       "      <th>0</th>\n",
       "      <td>62359</td>\n",
       "      <td>0.0</td>\n",
       "      <td>0.0</td>\n",
       "      <td>POLYGON ((-91.18290 40.02688, -91.17656 40.020...</td>\n",
       "    </tr>\n",
       "    <tr>\n",
       "      <th>1</th>\n",
       "      <td>62376</td>\n",
       "      <td>0.0</td>\n",
       "      <td>0.0</td>\n",
       "      <td>POLYGON ((-91.35721 40.17576, -91.35600 40.151...</td>\n",
       "    </tr>\n",
       "    <tr>\n",
       "      <th>2</th>\n",
       "      <td>62312</td>\n",
       "      <td>0.0</td>\n",
       "      <td>0.0</td>\n",
       "      <td>POLYGON ((-90.97797 39.78881, -90.97787 39.772...</td>\n",
       "    </tr>\n",
       "    <tr>\n",
       "      <th>3</th>\n",
       "      <td>62365</td>\n",
       "      <td>0.0</td>\n",
       "      <td>0.0</td>\n",
       "      <td>POLYGON ((-91.16584 39.83701, -91.14703 39.837...</td>\n",
       "    </tr>\n",
       "    <tr>\n",
       "      <th>4</th>\n",
       "      <td>62246</td>\n",
       "      <td>10.0</td>\n",
       "      <td>704.0</td>\n",
       "      <td>POLYGON ((-89.56254 38.91811, -89.56794 38.923...</td>\n",
       "    </tr>\n",
       "    <tr>\n",
       "      <th>...</th>\n",
       "      <td>...</td>\n",
       "      <td>...</td>\n",
       "      <td>...</td>\n",
       "      <td>...</td>\n",
       "    </tr>\n",
       "    <tr>\n",
       "      <th>1379</th>\n",
       "      <td>60484</td>\n",
       "      <td>129.0</td>\n",
       "      <td>965.0</td>\n",
       "      <td>POLYGON ((-87.70969 41.45644, -87.70949 41.456...</td>\n",
       "    </tr>\n",
       "    <tr>\n",
       "      <th>1380</th>\n",
       "      <td>62948</td>\n",
       "      <td>28.0</td>\n",
       "      <td>1149.0</td>\n",
       "      <td>MULTIPOLYGON (((-89.02159 37.74516, -89.03561 ...</td>\n",
       "    </tr>\n",
       "    <tr>\n",
       "      <th>1381</th>\n",
       "      <td>62921</td>\n",
       "      <td>0.0</td>\n",
       "      <td>0.0</td>\n",
       "      <td>POLYGON ((-89.09155 37.79258, -89.08896 37.807...</td>\n",
       "    </tr>\n",
       "    <tr>\n",
       "      <th>1382</th>\n",
       "      <td>62915</td>\n",
       "      <td>0.0</td>\n",
       "      <td>0.0</td>\n",
       "      <td>POLYGON ((-89.11994 37.78039, -89.12263 37.781...</td>\n",
       "    </tr>\n",
       "    <tr>\n",
       "      <th>1383</th>\n",
       "      <td>61088</td>\n",
       "      <td>13.0</td>\n",
       "      <td>472.0</td>\n",
       "      <td>MULTIPOLYGON (((-89.18498 42.37764, -89.18512 ...</td>\n",
       "    </tr>\n",
       "  </tbody>\n",
       "</table>\n",
       "<p>1384 rows × 4 columns</p>\n",
       "</div>"
      ],
      "text/plain": [
       "         id  confirmed_cases  total_tested  \\\n",
       "0     62359              0.0           0.0   \n",
       "1     62376              0.0           0.0   \n",
       "2     62312              0.0           0.0   \n",
       "3     62365              0.0           0.0   \n",
       "4     62246             10.0         704.0   \n",
       "...     ...              ...           ...   \n",
       "1379  60484            129.0         965.0   \n",
       "1380  62948             28.0        1149.0   \n",
       "1381  62921              0.0           0.0   \n",
       "1382  62915              0.0           0.0   \n",
       "1383  61088             13.0         472.0   \n",
       "\n",
       "                                               geometry  \n",
       "0     POLYGON ((-91.18290 40.02688, -91.17656 40.020...  \n",
       "1     POLYGON ((-91.35721 40.17576, -91.35600 40.151...  \n",
       "2     POLYGON ((-90.97797 39.78881, -90.97787 39.772...  \n",
       "3     POLYGON ((-91.16584 39.83701, -91.14703 39.837...  \n",
       "4     POLYGON ((-89.56254 38.91811, -89.56794 38.923...  \n",
       "...                                                 ...  \n",
       "1379  POLYGON ((-87.70969 41.45644, -87.70949 41.456...  \n",
       "1380  MULTIPOLYGON (((-89.02159 37.74516, -89.03561 ...  \n",
       "1381  POLYGON ((-89.09155 37.79258, -89.08896 37.807...  \n",
       "1382  POLYGON ((-89.11994 37.78039, -89.12263 37.781...  \n",
       "1383  MULTIPOLYGON (((-89.18498 42.37764, -89.18512 ...  \n",
       "\n",
       "[1384 rows x 4 columns]"
      ]
     },
     "execution_count": 80,
     "metadata": {},
     "output_type": "execute_result"
    }
   ],
   "source": [
    "dph_zipcode_gdf"
   ]
  },
  {
   "cell_type": "code",
   "execution_count": 81,
   "metadata": {
    "pycharm": {
     "is_executing": false,
     "name": "#%%\n"
    }
   },
   "outputs": [],
   "source": [
    "dph_illinois_tested = dph_illinois_test_gdf['total_tested']\n",
    "dph_zipcode_tested = dph_zipcode_gdf['total_tested']\n",
    "dph_zipcode_case = dph_zipcode_gdf['confirmed_cases']"
   ]
  },
  {
   "cell_type": "code",
   "execution_count": 82,
   "metadata": {
    "pycharm": {
     "is_executing": false,
     "name": "#%%\n"
    }
   },
   "outputs": [],
   "source": [
    "dph_illinois_log_tested = dph_illinois_tested.apply(lambda x: np.log(x + 1))\n",
    "dph_zipcode_log_tested = dph_zipcode_tested.apply(lambda x: np.log(x + 1))\n",
    "dph_zipcode_log_case = dph_zipcode_case.apply(lambda x: np.log(x + 1))"
   ]
  },
  {
   "cell_type": "code",
   "execution_count": 83,
   "metadata": {
    "pycharm": {
     "is_executing": false,
     "name": "#%%\n"
    }
   },
   "outputs": [],
   "source": [
    "dph_illinois_dict['tested'] = {}\n",
    "dph_illinois_dict['zipcode_case'] = {}\n",
    "dph_illinois_dict['zipcode_tested'] = {}"
   ]
  },
  {
   "cell_type": "code",
   "execution_count": 84,
   "metadata": {
    "pycharm": {
     "is_executing": false,
     "name": "#%%\n"
    }
   },
   "outputs": [
    {
     "name": "stderr",
     "output_type": "stream",
     "text": [
      "C:\\Users\\lymin\\Anaconda3\\envs\\wherecovid19\\lib\\site-packages\\mapclassify\\classifiers.py:237: UserWarning: Warning: Not enough unique values in array to form k classes\n",
      "  \"Warning: Not enough unique values in array to form k classes\", UserWarning\n",
      "C:\\Users\\lymin\\Anaconda3\\envs\\wherecovid19\\lib\\site-packages\\mapclassify\\classifiers.py:239: UserWarning: Warning: setting k to 4\n",
      "  Warn(\"Warning: setting k to %d\" % k_q, UserWarning)\n",
      "C:\\Users\\lymin\\Anaconda3\\envs\\wherecovid19\\lib\\site-packages\\mapclassify\\classifiers.py:237: UserWarning: Warning: Not enough unique values in array to form k classes\n",
      "  \"Warning: Not enough unique values in array to form k classes\", UserWarning\n",
      "C:\\Users\\lymin\\Anaconda3\\envs\\wherecovid19\\lib\\site-packages\\mapclassify\\classifiers.py:239: UserWarning: Warning: setting k to 4\n",
      "  Warn(\"Warning: setting k to %d\" % k_q, UserWarning)\n",
      "C:\\Users\\lymin\\Anaconda3\\envs\\wherecovid19\\lib\\site-packages\\mapclassify\\classifiers.py:237: UserWarning: Warning: Not enough unique values in array to form k classes\n",
      "  \"Warning: Not enough unique values in array to form k classes\", UserWarning\n",
      "C:\\Users\\lymin\\Anaconda3\\envs\\wherecovid19\\lib\\site-packages\\mapclassify\\classifiers.py:239: UserWarning: Warning: setting k to 4\n",
      "  Warn(\"Warning: setting k to %d\" % k_q, UserWarning)\n",
      "C:\\Users\\lymin\\Anaconda3\\envs\\wherecovid19\\lib\\site-packages\\mapclassify\\classifiers.py:237: UserWarning: Warning: Not enough unique values in array to form k classes\n",
      "  \"Warning: Not enough unique values in array to form k classes\", UserWarning\n",
      "C:\\Users\\lymin\\Anaconda3\\envs\\wherecovid19\\lib\\site-packages\\mapclassify\\classifiers.py:239: UserWarning: Warning: setting k to 4\n",
      "  Warn(\"Warning: setting k to %d\" % k_q, UserWarning)\n"
     ]
    }
   ],
   "source": [
    "dph_illinois_dict['tested']['nolog'] = create_dict(dph_illinois_tested)\n",
    "dph_illinois_dict['tested']['log'] = create_dict(dph_illinois_log_tested)\n",
    "dph_illinois_dict['zipcode_case']['nolog'] = create_dict(dph_zipcode_case)\n",
    "dph_illinois_dict['zipcode_case']['log'] = create_dict(dph_zipcode_log_case)\n",
    "dph_illinois_dict['zipcode_tested']['nolog'] = create_dict(dph_zipcode_tested)\n",
    "dph_illinois_dict['zipcode_tested']['log'] = create_dict(dph_zipcode_log_tested)"
   ]
  },
  {
   "cell_type": "code",
   "execution_count": 95,
   "metadata": {},
   "outputs": [
    {
     "data": {
      "text/plain": [
       "{'case': {'nolog': {'Quantiles': {'bins': '10.0,20.0,47.0,136.00000000000006,450.00000000000153,53531.0',\n",
       "    'k': 6},\n",
       "   'FisherJenks': {'bins': '608,3091,7856,9954,39001,53531', 'k': 6},\n",
       "   'NaturalBreaks': {'bins': '608.0,3091.0,7856.0,9954.0,39001.0,53531.0',\n",
       "    'k': 6}},\n",
       "  'log': {'Quantiles': {'bins': '2.3978952727983707,3.044522437723423,3.871201010907891,4.919980925828125,6.111467339502681,10.888034884916266',\n",
       "    'k': 6},\n",
       "   'FisherJenks': {'bins': '1.6094379124341003,3.2188758248682006,4.382026634673881,5.8289456176102075,8.036573409707312,10.888034884916266',\n",
       "    'k': 6},\n",
       "   'NaturalBreaks': {'bins': '1.6094379124341003,3.2188758248682006,4.382026634673881,5.8289456176102075,8.036573409707312,10.888034884916266',\n",
       "    'k': 6}}},\n",
       " 'death': {'nolog': {'Quantiles': {'bins': '0.0,1.0,5.0,19.00000000000003,2634.0',\n",
       "    'k': 6},\n",
       "   'FisherJenks': {'bins': '32,137,320,475,1993,2634', 'k': 6},\n",
       "   'NaturalBreaks': {'bins': '32.0,137.0,320.0,475.0,1993.0,2634.0', 'k': 6}},\n",
       "  'log': {'Quantiles': {'bins': '0.0,0.6931471805599453,1.791759469228055,2.995732273553992,7.876638460975463',\n",
       "    'k': 6},\n",
       "   'FisherJenks': {'bins': '0.0,1.0986122886681098,2.1972245773362196,3.4965075614664802,6.16541785423142,7.876638460975463',\n",
       "    'k': 6},\n",
       "   'NaturalBreaks': {'bins': '0.0,1.0986122886681098,2.1972245773362196,3.4965075614664802,6.16541785423142,7.876638460975463',\n",
       "    'k': 6}}},\n",
       " 'case_per_100k_capita': {'nolog': {'Quantiles': {'bins': '68.9972401103956,113.35469439574395,183.41307814992027,307.82688613173485,685.4198399066667,1987.0629879405014',\n",
       "    'k': 6},\n",
       "   'FisherJenks': {'bins': '215.29532902742676,489.02299448548536,839.596054485674,1187.922635061441,1470.5662129176214,1987.0629879405014',\n",
       "    'k': 6},\n",
       "   'NaturalBreaks': {'bins': '215.29532902742676,489.02299448548536,839.596054485674,1187.922635061441,1470.5662129176214,1987.0629879405014',\n",
       "    'k': 6}},\n",
       "  'log': {'Quantiles': {'bins': '4.2484558142777455,4.739304972496663,5.217178231329506,5.732780880849332,6.53148945204896,7.594916070789289',\n",
       "    'k': 6},\n",
       "   'FisherJenks': {'bins': '3.8484217099785765,4.739304972496663,5.443966856755304,6.11471067421255,6.800201908314672,7.594916070789289',\n",
       "    'k': 6},\n",
       "   'NaturalBreaks': {'bins': '3.8484217099785765,4.739304972496663,5.443966856755304,6.11471067421255,6.734111228871771,7.594916070789289',\n",
       "    'k': 6}}},\n",
       " 'death_per_100k_capita': {'nolog': {'Quantiles': {'bins': '0.0,4.722773212430339,11.172435367461416,33.40866660115948,112.81990380618728',\n",
       "    'k': 6},\n",
       "   'FisherJenks': {'bins': '2.9232927970065483,12.247022442668626,26.965807356272247,46.22206814866173,72.83321194464676,112.81990380618728',\n",
       "    'k': 6},\n",
       "   'NaturalBreaks': {'bins': '2.9232927970065483,12.247022442668626,26.965807356272247,46.22206814866173,72.83321194464676,112.81990380618728',\n",
       "    'k': 6}},\n",
       "  'log': {'Quantiles': {'bins': '0.0,1.744453515248863,2.4991739993429323,3.5383084687290056,4.734617408034815',\n",
       "    'k': 6},\n",
       "   'FisherJenks': {'bins': '0.0,1.503272905573543,2.380407528814755,3.1268823836634843,3.8548613288486524,4.734617408034815',\n",
       "    'k': 6},\n",
       "   'NaturalBreaks': {'bins': '0.0,1.503272905573543,2.380407528814755,3.2991943182239614,3.9792807976217572,4.734617408034815',\n",
       "    'k': 6}}},\n",
       " 'tested': {'nolog': {'Quantiles': {'bins': '731.0000000000002,1149.0000000000002,2196.0,3611.333333333338,12083.666666666682,410036.0',\n",
       "    'k': 6},\n",
       "   'FisherJenks': {'bins': '5923,19969,40035,101365,341169,410036', 'k': 6},\n",
       "   'NaturalBreaks': {'bins': '5923.0,19969.0,40035.0,101365.0,341169.0,410036.0',\n",
       "    'k': 6}},\n",
       "  'log': {'Quantiles': {'bins': '6.592746671179294,7.047480017889484,7.69484807238461,8.190285296688135,9.399137920578,12.924002678511194',\n",
       "    'k': 6},\n",
       "   'FisherJenks': {'bins': '6.405228458030842,7.5443321080536885,8.68676717538769,10.06475570013225,11.526493008191766,12.924002678511194',\n",
       "    'k': 6},\n",
       "   'NaturalBreaks': {'bins': '6.405228458030842,7.5443321080536885,8.68676717538769,10.06475570013225,11.526493008191766,12.924002678511194',\n",
       "    'k': 6}}},\n",
       " 'zipcode_case': {'nolog': {'Quantiles': {'bins': '0.0,14.0,159.50000000000023,3570.0',\n",
       "    'k': 6},\n",
       "   'FisherJenks': {'bins': '90.0,288.0,597.0,1260.0,2484.0,3570.0', 'k': 6},\n",
       "   'NaturalBreaks': {'bins': '91.0,291.0,597.0,1260.0,2484.0,3570.0', 'k': 6}},\n",
       "  'log': {'Quantiles': {'bins': '0.0,2.70805020110221,5.078289090109147,8.18060094759445',\n",
       "    'k': 6},\n",
       "   'FisherJenks': {'bins': '0.0,2.9444389791664403,4.204692619390966,5.337538079701318,6.393590753950631,8.18060094759445',\n",
       "    'k': 6},\n",
       "   'NaturalBreaks': {'bins': '0.0,2.9444389791664403,4.248495242049359,5.356586274672012,6.393590753950631,8.18060094759445',\n",
       "    'k': 6}}},\n",
       " 'zipcode_tested': {'nolog': {'Quantiles': {'bins': '0.0,486.0,2303.000000000004,16795.0',\n",
       "    'k': 6},\n",
       "   'FisherJenks': {'bins': '537.0,1768.0,3388.0,5670.0,9682.0,16795.0',\n",
       "    'k': 6},\n",
       "   'NaturalBreaks': {'bins': '504.0,1714.0,3335.0,5670.0,9682.0,16795.0',\n",
       "    'k': 6}},\n",
       "  'log': {'Quantiles': {'bins': '0.0,6.18826412308259,7.742394392363044,9.728896041804084',\n",
       "    'k': 6},\n",
       "   'FisherJenks': {'bins': '0.0,5.262690188904886,6.313548046277095,7.422971251049421,8.44009614103127,9.728896041804084',\n",
       "    'k': 6},\n",
       "   'NaturalBreaks': {'bins': '0.0,5.262690188904886,6.313548046277095,7.4377951216719325,8.461469042643875,9.728896041804084',\n",
       "    'k': 6}}}}"
      ]
     },
     "execution_count": 95,
     "metadata": {},
     "output_type": "execute_result"
    }
   ],
   "source": [
    "dph_illinois_dict"
   ]
  },
  {
   "cell_type": "markdown",
   "metadata": {},
   "source": [
    "7. Read Worldwide Data"
   ]
  },
  {
   "cell_type": "code",
   "execution_count": 85,
   "metadata": {},
   "outputs": [],
   "source": [
    "who_world_gdf = gpd.read_file('worldwide/who_world_data.geojson')"
   ]
  },
  {
   "cell_type": "code",
   "execution_count": 86,
   "metadata": {},
   "outputs": [],
   "source": [
    "who_world_case = who_world_gdf['today_case']\n",
    "who_world_death = who_world_gdf['today_death']"
   ]
  },
  {
   "cell_type": "code",
   "execution_count": 87,
   "metadata": {},
   "outputs": [],
   "source": [
    "who_world_log_case = who_world_case.apply(lambda x: np.log(x + 1))\n",
    "who_world_log_death = who_world_death.apply(lambda x: np.log(x + 1))"
   ]
  },
  {
   "cell_type": "code",
   "execution_count": 88,
   "metadata": {},
   "outputs": [],
   "source": [
    "who_world_dict['case'] = {}\n",
    "who_world_dict['death'] = {}"
   ]
  },
  {
   "cell_type": "code",
   "execution_count": 89,
   "metadata": {},
   "outputs": [],
   "source": [
    "who_world_dict['case']['nolog'] = create_dict(who_world_case)\n",
    "who_world_dict['case']['log'] = create_dict(who_world_log_case)\n",
    "who_world_dict['death']['nolog'] = create_dict(who_world_death)\n",
    "who_world_dict['death']['log'] = create_dict(who_world_log_death)"
   ]
  },
  {
   "cell_type": "code",
   "execution_count": 96,
   "metadata": {},
   "outputs": [
    {
     "data": {
      "text/plain": [
       "{'case': {'nolog': {'Quantiles': {'bins': '17.500000000000007,278.33333333333337,1336.0,6282.000000000001,36026.50000000001,2776366.0',\n",
       "    'k': 6},\n",
       "   'FisherJenks': {'bins': '28857.0,109505.0,295599.0,681251.0,1539081.0,2776366.0',\n",
       "    'k': 6},\n",
       "   'NaturalBreaks': {'bins': '28857.0,109505.0,295599.0,681251.0,1539081.0,2776366.0',\n",
       "    'k': 6}},\n",
       "  'log': {'Quantiles': {'bins': '2.915797269678664,5.632370068128213,7.196206041496584,8.745534726216677,10.49203590801157,14.836653796481524',\n",
       "    'k': 6},\n",
       "   'FisherJenks': {'bins': '1.3862943611198906,4.718498871295094,7.133295954896068,9.234545060673,11.35401179341874,14.836653796481524',\n",
       "    'k': 6},\n",
       "   'NaturalBreaks': {'bins': '1.3862943611198906,4.718498871295094,7.133295954896068,9.234545060673,11.35401179341874,14.836653796481524',\n",
       "    'k': 6}}},\n",
       " 'death': {'nolog': {'Quantiles': {'bins': '0.0,7.0,27.5,111.66666666666669,799.0000000000036,129226.0',\n",
       "    'k': 6},\n",
       "   'FisherJenks': {'bins': '3280.0,11408.0,29843.0,44198.0,63174.0,129226.0',\n",
       "    'k': 6},\n",
       "   'NaturalBreaks': {'bins': '3280.0,11408.0,34854.0,44198.0,63174.0,129226.0',\n",
       "    'k': 6}},\n",
       "  'log': {'Quantiles': {'bins': '0.0,2.0794415416798357,3.349750170080839,4.724398730328228,6.68397845816982,11.769325826825883',\n",
       "    'k': 6},\n",
       "   'FisherJenks': {'bins': '1.3862943611198906,3.4657359027997265,5.075173815233827,6.885509670034818,8.731174900938061,11.769325826825883',\n",
       "    'k': 6},\n",
       "   'NaturalBreaks': {'bins': '1.3862943611198906,3.4657359027997265,5.075173815233827,6.885509670034818,9.34215779659637,11.769325826825883',\n",
       "    'k': 6}}}}"
      ]
     },
     "execution_count": 96,
     "metadata": {},
     "output_type": "execute_result"
    }
   ],
   "source": [
    "who_world_dict"
   ]
  },
  {
   "cell_type": "markdown",
   "metadata": {},
   "source": [
    "8. Read Vulnerability Data"
   ]
  },
  {
   "cell_type": "code",
   "execution_count": 90,
   "metadata": {},
   "outputs": [],
   "source": [
    "vul_gdf = gpd.read_file('illinois/vulnerability.geojson')"
   ]
  },
  {
   "cell_type": "code",
   "execution_count": 91,
   "metadata": {},
   "outputs": [],
   "source": [
    "vul = vul_gdf['today_vul']"
   ]
  },
  {
   "cell_type": "code",
   "execution_count": 92,
   "metadata": {},
   "outputs": [],
   "source": [
    "vul_dict['case'] = {}"
   ]
  },
  {
   "cell_type": "code",
   "execution_count": 93,
   "metadata": {},
   "outputs": [],
   "source": [
    "vul_dict['case']['nolog'] = create_dict(vul)"
   ]
  },
  {
   "cell_type": "code",
   "execution_count": 97,
   "metadata": {},
   "outputs": [
    {
     "data": {
      "text/plain": [
       "{'case': {'nolog': {'Quantiles': {'bins': '0.299889051252253,0.35957040861011014,0.411668422803416,0.4772095669606803,0.5572160404671521,0.727610415817312',\n",
       "    'k': 6},\n",
       "   'FisherJenks': {'bins': '0.295716969483447,0.365844447962564,0.433357080061713,0.504123445666279,0.574320048173377,0.727610415817312',\n",
       "    'k': 6},\n",
       "   'NaturalBreaks': {'bins': '0.292150336769466,0.360876862084978,0.427683393745169,0.500060806281009,0.572213665500091,0.727610415817312',\n",
       "    'k': 6}}}}"
      ]
     },
     "execution_count": 97,
     "metadata": {},
     "output_type": "execute_result"
    }
   ],
   "source": [
    "vul_dict"
   ]
  },
  {
   "cell_type": "markdown",
   "metadata": {
    "pycharm": {
     "name": "#%% md\n"
    }
   },
   "source": [
    "Summary and ouput\n"
   ]
  },
  {
   "cell_type": "code",
   "execution_count": 94,
   "metadata": {
    "pycharm": {
     "is_executing": false,
     "name": "#%%\n"
    }
   },
   "outputs": [
    {
     "name": "stdout",
     "output_type": "stream",
     "text": [
      "done\n"
     ]
    }
   ],
   "source": [
    "import json\n",
    "total_dict['county'] = county_dict\n",
    "total_dict['state'] = state_dict\n",
    "total_dict['dph_illinois'] = dph_illinois_dict\n",
    "total_dict['who_world'] = who_world_dict\n",
    "total_dict['vulnerability'] = vul_dict\n",
    "# dynamic_dict['county'] = dynamic_county_dict\n",
    "# dynamic_dict['state'] = dynamic_state_dict\n",
    "# dynamic_dict['illinois'] = dynamic_illinois_dict\n",
    "with open('classes.json','w') as json_file:\n",
    "    json.dump(total_dict, json_file)\n",
    "# with open('dynamic_classes.json','w') as json_file:\n",
    "#     json.dump(dynamic_dict, json_file)\n",
    "print('done')"
   ]
  }
 ],
 "metadata": {
  "kernelspec": {
   "display_name": "Python 3",
   "language": "python",
   "name": "python3"
  },
  "language_info": {
   "codemirror_mode": {
    "name": "ipython",
    "version": 3
   },
   "file_extension": ".py",
   "mimetype": "text/x-python",
   "name": "python",
   "nbconvert_exporter": "python",
   "pygments_lexer": "ipython3",
   "version": "3.7.7"
  },
  "pycharm": {
   "stem_cell": {
    "cell_type": "raw",
    "metadata": {
     "collapsed": false
    },
    "source": []
   }
  }
 },
 "nbformat": 4,
 "nbformat_minor": 1
}
