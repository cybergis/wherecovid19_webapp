{
 "cells": [
  {
   "cell_type": "code",
   "execution_count": 3,
   "metadata": {
    "collapsed": true,
    "pycharm": {
     "is_executing": false
    }
   },
   "outputs": [],
   "source": [
    "import geopandas as gpd\n",
    "import numpy as np\n",
    "import mapclassify as mc\n",
    "import matplotlib.pyplot as plt"
   ]
  },
  {
   "cell_type": "code",
   "execution_count": 4,
   "outputs": [],
   "source": [
    "total_dict = {}\n",
    "county_dict = {}\n",
    "state_dict = {}\n",
    "illinois_dict = {}"
   ],
   "metadata": {
    "collapsed": false,
    "pycharm": {
     "name": "#%%\n",
     "is_executing": false
    }
   }
  },
  {
   "cell_type": "code",
   "execution_count": 5,
   "outputs": [],
   "source": [
    "dynamic_dict = {}\n",
    "dynamic_county_dict = {}\n",
    "dynamic_state_dict = {}\n",
    "dynamic_illinois_dict = {}"
   ],
   "metadata": {
    "collapsed": false,
    "pycharm": {
     "name": "#%%\n",
     "is_executing": false
    }
   }
  },
  {
   "cell_type": "markdown",
   "source": [
    "1. Read County Data"
   ],
   "metadata": {
    "collapsed": false,
    "pycharm": {
     "name": "#%% md\n"
    }
   }
  },
  {
   "cell_type": "code",
   "execution_count": 6,
   "outputs": [],
   "source": [
    "counties_gdf = gpd.read_file('nyt_counties_data.geojson')"
   ],
   "metadata": {
    "collapsed": false,
    "pycharm": {
     "name": "#%%\n",
     "is_executing": false
    }
   }
  },
  {
   "cell_type": "code",
   "execution_count": 7,
   "outputs": [
    {
     "data": {
      "text/plain": "       NAME      state_name  population   fips dt_first_case dt_first_death  \\\n0    Bladen  North Carolina       33778  37017    2020-03-29           None   \n1    Stanly  North Carolina       61114  37167    2020-03-20     2020-04-09   \n2    Summit            Ohio      541810  39153    2020-03-14     2020-03-27   \n3  Sullivan    Pennsylvania        6177  42113    2020-04-04           None   \n4    Upshur           Texas       40769  48459    2020-03-20           None   \n\n                                            cases_ts  \\\n0  0,0,0,0,0,0,0,0,0,0,0,0,0,0,0,0,0,0,0,0,0,0,0,...   \n1  0.0,0.0,0.0,0.0,0.0,0.0,0.0,0.0,0.0,0.0,0.0,0....   \n2  0.0,0.0,0.0,0.0,0.0,0.0,0.0,0.0,0.0,0.0,0.0,0....   \n3  0.0,0.0,0.0,0.0,0.0,0.0,0.0,0.0,0.0,0.0,0.0,0....   \n4  0.0,0.0,0.0,0.0,0.0,0.0,0.0,0.0,0.0,0.0,0.0,0....   \n\n                                           deaths_ts  today_case  \\\n0  0.0,0.0,0.0,0.0,0.0,0.0,0.0,0.0,0.0,0.0,0.0,0....        13.0   \n1  0.0,0.0,0.0,0.0,0.0,0.0,0.0,0.0,0.0,0.0,0.0,0....        28.0   \n2  0.0,0.0,0.0,0.0,0.0,0.0,0.0,0.0,0.0,0.0,0.0,0....       542.0   \n3  0.0,0.0,0.0,0.0,0.0,0.0,0.0,0.0,0.0,0.0,0.0,0....         1.0   \n4  0.0,0.0,0.0,0.0,0.0,0.0,0.0,0.0,0.0,0.0,0.0,0....        13.0   \n\n   today_new_case  today_death  today_new_death    dt_start      dt_end  \\\n0             3.0          0.0              0.0  2020-01-21  2020-04-28   \n1            -1.0          4.0              0.0  2020-01-21  2020-04-28   \n2            42.0         43.0              4.0  2020-01-21  2020-04-28   \n3             0.0          0.0              0.0  2020-01-21  2020-04-28   \n4             0.0          0.0              0.0  2020-01-21  2020-04-28   \n\n  dt_unit                                           geometry  \n0     day  MULTIPOLYGON (((-78.90200 34.83527, -78.79960 ...  \n1     day  MULTIPOLYGON (((-80.49738 35.20210, -80.29542 ...  \n2     day  MULTIPOLYGON (((-81.68699 41.13596, -81.68495 ...  \n3     day  MULTIPOLYGON (((-76.81373 41.59003, -76.22014 ...  \n4     day  MULTIPOLYGON (((-95.15274 32.66095, -95.15211 ...  ",
      "text/html": "<div>\n<style scoped>\n    .dataframe tbody tr th:only-of-type {\n        vertical-align: middle;\n    }\n\n    .dataframe tbody tr th {\n        vertical-align: top;\n    }\n\n    .dataframe thead th {\n        text-align: right;\n    }\n</style>\n<table border=\"1\" class=\"dataframe\">\n  <thead>\n    <tr style=\"text-align: right;\">\n      <th></th>\n      <th>NAME</th>\n      <th>state_name</th>\n      <th>population</th>\n      <th>fips</th>\n      <th>dt_first_case</th>\n      <th>dt_first_death</th>\n      <th>cases_ts</th>\n      <th>deaths_ts</th>\n      <th>today_case</th>\n      <th>today_new_case</th>\n      <th>today_death</th>\n      <th>today_new_death</th>\n      <th>dt_start</th>\n      <th>dt_end</th>\n      <th>dt_unit</th>\n      <th>geometry</th>\n    </tr>\n  </thead>\n  <tbody>\n    <tr>\n      <th>0</th>\n      <td>Bladen</td>\n      <td>North Carolina</td>\n      <td>33778</td>\n      <td>37017</td>\n      <td>2020-03-29</td>\n      <td>None</td>\n      <td>0,0,0,0,0,0,0,0,0,0,0,0,0,0,0,0,0,0,0,0,0,0,0,...</td>\n      <td>0.0,0.0,0.0,0.0,0.0,0.0,0.0,0.0,0.0,0.0,0.0,0....</td>\n      <td>13.0</td>\n      <td>3.0</td>\n      <td>0.0</td>\n      <td>0.0</td>\n      <td>2020-01-21</td>\n      <td>2020-04-28</td>\n      <td>day</td>\n      <td>MULTIPOLYGON (((-78.90200 34.83527, -78.79960 ...</td>\n    </tr>\n    <tr>\n      <th>1</th>\n      <td>Stanly</td>\n      <td>North Carolina</td>\n      <td>61114</td>\n      <td>37167</td>\n      <td>2020-03-20</td>\n      <td>2020-04-09</td>\n      <td>0.0,0.0,0.0,0.0,0.0,0.0,0.0,0.0,0.0,0.0,0.0,0....</td>\n      <td>0.0,0.0,0.0,0.0,0.0,0.0,0.0,0.0,0.0,0.0,0.0,0....</td>\n      <td>28.0</td>\n      <td>-1.0</td>\n      <td>4.0</td>\n      <td>0.0</td>\n      <td>2020-01-21</td>\n      <td>2020-04-28</td>\n      <td>day</td>\n      <td>MULTIPOLYGON (((-80.49738 35.20210, -80.29542 ...</td>\n    </tr>\n    <tr>\n      <th>2</th>\n      <td>Summit</td>\n      <td>Ohio</td>\n      <td>541810</td>\n      <td>39153</td>\n      <td>2020-03-14</td>\n      <td>2020-03-27</td>\n      <td>0.0,0.0,0.0,0.0,0.0,0.0,0.0,0.0,0.0,0.0,0.0,0....</td>\n      <td>0.0,0.0,0.0,0.0,0.0,0.0,0.0,0.0,0.0,0.0,0.0,0....</td>\n      <td>542.0</td>\n      <td>42.0</td>\n      <td>43.0</td>\n      <td>4.0</td>\n      <td>2020-01-21</td>\n      <td>2020-04-28</td>\n      <td>day</td>\n      <td>MULTIPOLYGON (((-81.68699 41.13596, -81.68495 ...</td>\n    </tr>\n    <tr>\n      <th>3</th>\n      <td>Sullivan</td>\n      <td>Pennsylvania</td>\n      <td>6177</td>\n      <td>42113</td>\n      <td>2020-04-04</td>\n      <td>None</td>\n      <td>0.0,0.0,0.0,0.0,0.0,0.0,0.0,0.0,0.0,0.0,0.0,0....</td>\n      <td>0.0,0.0,0.0,0.0,0.0,0.0,0.0,0.0,0.0,0.0,0.0,0....</td>\n      <td>1.0</td>\n      <td>0.0</td>\n      <td>0.0</td>\n      <td>0.0</td>\n      <td>2020-01-21</td>\n      <td>2020-04-28</td>\n      <td>day</td>\n      <td>MULTIPOLYGON (((-76.81373 41.59003, -76.22014 ...</td>\n    </tr>\n    <tr>\n      <th>4</th>\n      <td>Upshur</td>\n      <td>Texas</td>\n      <td>40769</td>\n      <td>48459</td>\n      <td>2020-03-20</td>\n      <td>None</td>\n      <td>0.0,0.0,0.0,0.0,0.0,0.0,0.0,0.0,0.0,0.0,0.0,0....</td>\n      <td>0.0,0.0,0.0,0.0,0.0,0.0,0.0,0.0,0.0,0.0,0.0,0....</td>\n      <td>13.0</td>\n      <td>0.0</td>\n      <td>0.0</td>\n      <td>0.0</td>\n      <td>2020-01-21</td>\n      <td>2020-04-28</td>\n      <td>day</td>\n      <td>MULTIPOLYGON (((-95.15274 32.66095, -95.15211 ...</td>\n    </tr>\n  </tbody>\n</table>\n</div>"
     },
     "metadata": {},
     "output_type": "execute_result",
     "execution_count": 7
    }
   ],
   "source": [
    "counties_gdf.head(5)"
   ],
   "metadata": {
    "collapsed": false,
    "pycharm": {
     "name": "#%%\n",
     "is_executing": false
    }
   }
  },
  {
   "cell_type": "code",
   "execution_count": 8,
   "outputs": [],
   "source": [
    "case = counties_gdf['today_case']\n",
    "death = counties_gdf['today_death']\n",
    "case_per_100k_capita = counties_gdf['today_case']/(counties_gdf['population']/100000)\n",
    "death_per_100k_capita = counties_gdf['today_death']/(counties_gdf['population']/100000)\n",
    "# death_case_ratio = counties_gdf['today_death']/counties_gdf['today_case']\n",
    "# death_case_ratio = death_case_ratio.replace(np.nan, 0)"
   ],
   "metadata": {
    "collapsed": false,
    "pycharm": {
     "name": "#%%\n",
     "is_executing": false
    }
   }
  },
  {
   "cell_type": "code",
   "execution_count": 9,
   "outputs": [],
   "source": [
    "log_case = case.apply(lambda x: np.log(x + 1))\n",
    "log_death = death.apply(lambda x: np.log(x + 1))\n",
    "log_case_per_100k_capita = case_per_100k_capita.apply(lambda x: np.log(x + 1))\n",
    "log_death_per_100k_capita = death.apply(lambda x: np.log(x + 1))\n",
    "\n"
   ],
   "metadata": {
    "collapsed": false,
    "pycharm": {
     "name": "#%%\n",
     "is_executing": false
    }
   }
  },
  {
   "cell_type": "markdown",
   "source": [
    "1.1 Get Constant Classes from today's data"
   ],
   "metadata": {
    "collapsed": false,
    "pycharm": {
     "name": "#%% md\n"
    }
   }
  },
  {
   "cell_type": "code",
   "execution_count": 10,
   "outputs": [],
   "source": [
    "def create_dict(column):\n",
    "    tmp_dict = {}\n",
    "    tmp_dict['Quantiles'] = {\n",
    "        'bins': ','.join(mc.Quantiles(column, k=6).bins.astype(str)),\n",
    "        'k': 6\n",
    "    }\n",
    "    tmp_dict['FisherJenks'] = {\n",
    "        'bins': ','.join(mc.FisherJenks(column, k=6).bins.astype(str)),\n",
    "        'k': 6\n",
    "    }\n",
    "    tmp_dict['NaturalBreaks'] = {\n",
    "        'bins': ','.join(mc.NaturalBreaks(column, k=6).bins.astype(str)),\n",
    "        'k': 6\n",
    "    }\n",
    "    return tmp_dict"
   ],
   "metadata": {
    "collapsed": false,
    "pycharm": {
     "name": "#%%\n",
     "is_executing": false
    }
   }
  },
  {
   "cell_type": "code",
   "execution_count": 12,
   "outputs": [],
   "source": [
    "county_dict['case'] = {}\n",
    "county_dict['death'] = {}\n",
    "county_dict['case_per_100k_capita'] = {}\n",
    "county_dict['death_per_100k_capita'] = {}"
   ],
   "metadata": {
    "collapsed": false,
    "pycharm": {
     "name": "#%%\n",
     "is_executing": false
    }
   }
  },
  {
   "cell_type": "code",
   "execution_count": 13,
   "outputs": [
    {
     "name": "stderr",
     "text": [
      "C:\\Users\\Jason\\Anaconda3\\lib\\site-packages\\mapclassify\\classifiers.py:237: UserWarning: Warning: Not enough unique values in array to form k classes\n  \"Warning: Not enough unique values in array to form k classes\", UserWarning\nC:\\Users\\Jason\\Anaconda3\\lib\\site-packages\\mapclassify\\classifiers.py:239: UserWarning: Warning: setting k to 4\n  Warn(\"Warning: setting k to %d\" % k_q, UserWarning)\n",
      "C:\\Users\\Jason\\Anaconda3\\lib\\site-packages\\mapclassify\\classifiers.py:237: UserWarning: Warning: Not enough unique values in array to form k classes\n  \"Warning: Not enough unique values in array to form k classes\", UserWarning\nC:\\Users\\Jason\\Anaconda3\\lib\\site-packages\\mapclassify\\classifiers.py:239: UserWarning: Warning: setting k to 4\n  Warn(\"Warning: setting k to %d\" % k_q, UserWarning)\n",
      "C:\\Users\\Jason\\Anaconda3\\lib\\site-packages\\mapclassify\\classifiers.py:237: UserWarning: Warning: Not enough unique values in array to form k classes\n  \"Warning: Not enough unique values in array to form k classes\", UserWarning\nC:\\Users\\Jason\\Anaconda3\\lib\\site-packages\\mapclassify\\classifiers.py:239: UserWarning: Warning: setting k to 4\n  Warn(\"Warning: setting k to %d\" % k_q, UserWarning)\n",
      "C:\\Users\\Jason\\Anaconda3\\lib\\site-packages\\mapclassify\\classifiers.py:237: UserWarning: Warning: Not enough unique values in array to form k classes\n  \"Warning: Not enough unique values in array to form k classes\", UserWarning\nC:\\Users\\Jason\\Anaconda3\\lib\\site-packages\\mapclassify\\classifiers.py:239: UserWarning: Warning: setting k to 4\n  Warn(\"Warning: setting k to %d\" % k_q, UserWarning)\n"
     ],
     "output_type": "stream"
    }
   ],
   "source": [
    "county_dict['case']['nolog'] = create_dict(case)\n",
    "county_dict['case']['log'] = create_dict(log_case)\n",
    "county_dict['death']['nolog'] = create_dict(death)\n",
    "county_dict['death']['log'] = create_dict(log_death)\n",
    "county_dict['case_per_100k_capita']['nolog'] = create_dict(case_per_100k_capita)\n",
    "county_dict['case_per_100k_capita']['log'] = create_dict(log_case_per_100k_capita)\n",
    "county_dict['death_per_100k_capita']['nolog'] = create_dict(death_per_100k_capita)\n",
    "county_dict['death_per_100k_capita']['log'] = create_dict(log_death_per_100k_capita)\n"
   ],
   "metadata": {
    "collapsed": false,
    "pycharm": {
     "name": "#%%\n",
     "is_executing": false
    }
   }
  },
  {
   "cell_type": "code",
   "execution_count": 14,
   "outputs": [
    {
     "data": {
      "text/plain": "{'case': {'nolog': {'Quantiles': {'bins': '1.0,5.0,14.0,40.0,141.00000000000045,162348.0',\n    'k': 6},\n   'FisherJenks': {'bins': '1101.0,3793.0,8389.0,20976.0,35085.0,162348.0',\n    'k': 6},\n   'NaturalBreaks': {'bins': '1135.0,4043.0,8389.0,20976.0,35085.0,162348.0',\n    'k': 6}},\n  'log': {'Quantiles': {'bins': '0.6931471805599453,1.791759469228055,2.70805020110221,3.713572066704308,4.955827057601264,11.997503617980147',\n    'k': 6},\n   'FisherJenks': {'bins': '0.6931471805599453,2.1972245773362196,3.5263605246161616,4.990432586778736,6.917705609835305,11.997503617980147',\n    'k': 6},\n   'NaturalBreaks': {'bins': '0.6931471805599453,1.9459101490553132,3.258096538021482,4.709530201312334,6.665683717782408,11.997503617980147',\n    'k': 6}}},\n 'death': {'nolog': {'Quantiles': {'bins': '0.0,1.0,6.0,12067.0', 'k': 6},\n   'FisherJenks': {'bins': '71.0,305.0,747.0,1179.0,2039.0,12067.0', 'k': 6},\n   'NaturalBreaks': {'bins': '74.0,324.0,747.0,1179.0,2039.0,12067.0',\n    'k': 6}},\n  'log': {'Quantiles': {'bins': '0.0,0.6931471805599453,1.9459101490553132,9.398312600278953',\n    'k': 6},\n   'FisherJenks': {'bins': '0.0,1.0986122886681098,2.1972245773362196,3.367295829986474,4.983606621708336,9.398312600278953',\n    'k': 6},\n   'NaturalBreaks': {'bins': '0.0,1.0986122886681098,2.0794415416798357,3.295836866004329,4.983606621708336,9.398312600278953',\n    'k': 6}}},\n 'case_per_100k_capita': {'nolog': {'Quantiles': {'bins': '8.297378028542992,29.243186337583357,52.247968860210555,90.33423667570014,191.7193554966347,13735.596061177457',\n    'k': 6},\n   'FisherJenks': {'bins': '152.96674985910957,507.9423716291097,1226.4281432984462,2586.31365715145,5512.960934647682,13735.596061177457',\n    'k': 6},\n   'NaturalBreaks': {'bins': '152.96674985910957,507.9423716291097,1226.4281432984462,2586.31365715145,5512.960934647682,13735.596061177457',\n    'k': 6}},\n  'log': {'Quantiles': {'bins': '2.2297324279940636,3.40927091406681,3.9749596603918294,4.514525708280905,5.261235014053591,9.5278187957227',\n    'k': 6},\n   'FisherJenks': {'bins': '1.2521383198399145,3.0655492999265124,3.992295481835402,4.90177359633619,6.079119691742893,9.5278187957227',\n    'k': 6},\n   'NaturalBreaks': {'bins': '1.2521383198399145,3.0570987901027333,3.9841415820979975,4.89839364023687,6.079119691742893,9.5278187957227',\n    'k': 6}}},\n 'death_per_100k_capita': {'nolog': {'Quantiles': {'bins': '0.0,2.6773044898396297,8.42353535778967,477.68698931489627',\n    'k': 6},\n   'FisherJenks': {'bins': '9.310770233467563,35.66842630903125,81.9274183760165,151.91271923767434,268.0965147453083,477.68698931489627',\n    'k': 6},\n   'NaturalBreaks': {'bins': '9.37589535872228,35.66842630903125,81.9274183760165,151.91271923767434,268.0965147453083,477.68698931489627',\n    'k': 6}},\n  'log': {'Quantiles': {'bins': '0.0,0.6931471805599453,1.9459101490553132,9.398312600278953',\n    'k': 6},\n   'FisherJenks': {'bins': '0.0,1.0986122886681098,2.1972245773362196,3.367295829986474,4.983606621708336,9.398312600278953',\n    'k': 6},\n   'NaturalBreaks': {'bins': '0.0,1.0986122886681098,2.0794415416798357,3.295836866004329,4.919980925828125,9.398312600278953',\n    'k': 6}}}}"
     },
     "metadata": {},
     "output_type": "execute_result",
     "execution_count": 14
    }
   ],
   "source": [
    "county_dict"
   ],
   "metadata": {
    "collapsed": false,
    "pycharm": {
     "name": "#%%\n",
     "is_executing": false
    }
   }
  },
  {
   "cell_type": "markdown",
   "source": [
    "1.2 Create Dynamic classes"
   ],
   "metadata": {
    "collapsed": false,
    "pycharm": {
     "name": "#%% md\n"
    }
   }
  },
  {
   "cell_type": "code",
   "execution_count": 77,
   "outputs": [],
   "source": [
    "# case_ts = counties_gdf['cases_ts'].apply(lambda x: x.split(','))\n",
    "# death_ts = counties_gdf['deaths_ts'].apply(lambda x: x.split(','))"
   ],
   "metadata": {
    "collapsed": false,
    "pycharm": {
     "name": "#%%\n",
     "is_executing": false
    }
   }
  },
  {
   "cell_type": "code",
   "execution_count": 78,
   "outputs": [],
   "source": [
    "# length = len(case_ts[1])"
   ],
   "metadata": {
    "collapsed": false,
    "pycharm": {
     "name": "#%%\n",
     "is_executing": false
    }
   }
  },
  {
   "cell_type": "code",
   "execution_count": 79,
   "outputs": [
    {
     "name": "stderr",
     "text": [
      "C:\\Users\\Jason\\Anaconda3\\lib\\site-packages\\mapclassify\\classifiers.py:237: UserWarning: Warning: Not enough unique values in array to form k classes\n  \"Warning: Not enough unique values in array to form k classes\", UserWarning\nC:\\Users\\Jason\\Anaconda3\\lib\\site-packages\\mapclassify\\classifiers.py:239: UserWarning: Warning: setting k to 1\n  Warn(\"Warning: setting k to %d\" % k_q, UserWarning)\nC:\\Users\\Jason\\Anaconda3\\lib\\site-packages\\mapclassify\\classifiers.py:890: RuntimeWarning: invalid value encountered in double_scalars\n  gadf = 1 - self.adcm / adam\nC:\\Users\\Jason\\Anaconda3\\lib\\site-packages\\mapclassify\\classifiers.py:239: UserWarning: Warning: setting k to 2\n  Warn(\"Warning: setting k to %d\" % k_q, UserWarning)\n",
      "C:\\Users\\Jason\\Anaconda3\\lib\\site-packages\\mapclassify\\classifiers.py:239: UserWarning: Warning: setting k to 3\n  Warn(\"Warning: setting k to %d\" % k_q, UserWarning)\nC:\\Users\\Jason\\Anaconda3\\lib\\site-packages\\mapclassify\\classifiers.py:239: UserWarning: Warning: setting k to 4\n  Warn(\"Warning: setting k to %d\" % k_q, UserWarning)\n"
     ],
     "output_type": "stream"
    }
   ],
   "source": [
    "# new_case_dict = {}\n",
    "# for i in range(1,length):\n",
    "#     q6 = mc.Quantiles(case_ts.apply(lambda x: int(float(x[i]) - float(x[i - 1]))).values, k=6)\n",
    "#     new_case_dict[i] = ','.join(q6.bins.astype(int).astype(str))"
   ],
   "metadata": {
    "collapsed": false,
    "pycharm": {
     "name": "#%%\n",
     "is_executing": false
    }
   }
  },
  {
   "cell_type": "code",
   "execution_count": 80,
   "outputs": [],
   "source": [
    "# new_death_dict = {}\n",
    "# for i in range(1,length):\n",
    "#     d6 = mc.Quantiles(death_ts.apply(lambda x: int(float(x[i]) - float(x[i - 1]))).values, k=6)\n",
    "#     new_death_dict[i] = ','.join(d6.bins.astype(int).astype(str))"
   ],
   "metadata": {
    "collapsed": false,
    "pycharm": {
     "name": "#%%\n",
     "is_executing": false
    }
   }
  },
  {
   "cell_type": "code",
   "execution_count": 81,
   "outputs": [],
   "source": [
    "# dynamic_county_dict['new_case'] = new_case_dict\n",
    "# dynamic_county_dict['new_death'] = new_death_dict\n"
   ],
   "metadata": {
    "collapsed": false,
    "pycharm": {
     "name": "#%%\n",
     "is_executing": false
    }
   }
  },
  {
   "cell_type": "markdown",
   "source": [
    "2.Read State Data"
   ],
   "metadata": {
    "collapsed": false,
    "pycharm": {
     "name": "#%% md\n"
    }
   }
  },
  {
   "cell_type": "code",
   "execution_count": 15,
   "outputs": [],
   "source": [
    "state_gdf = gpd.read_file('nyt_states_data.geojson')"
   ],
   "metadata": {
    "collapsed": false,
    "pycharm": {
     "name": "#%%\n",
     "is_executing": false
    }
   }
  },
  {
   "cell_type": "code",
   "execution_count": 16,
   "outputs": [
    {
     "data": {
      "text/plain": "            NAME  population fips dt_first_case dt_first_death  \\\n0  West Virginia     1829054   54    2020-03-17     2020-03-29   \n1        Florida    20598139   12    2020-03-01     2020-03-06   \n2       Illinois    12821497   17    2020-01-24     2020-03-17   \n3      Minnesota     5527358   27    2020-03-06     2020-03-21   \n4       Maryland     6003435   24    2020-03-05     2020-03-18   \n\n                                            cases_ts  \\\n0  0.0,0.0,0.0,0.0,0.0,0.0,0.0,0.0,0.0,0.0,0.0,0....   \n1  0.0,0.0,0.0,0.0,0.0,0.0,0.0,0.0,0.0,0.0,0.0,0....   \n2  0.0,0.0,0.0,1.0,1.0,1.0,1.0,1.0,1.0,2.0,2.0,2....   \n3  0.0,0.0,0.0,0.0,0.0,0.0,0.0,0.0,0.0,0.0,0.0,0....   \n4  0.0,0.0,0.0,0.0,0.0,0.0,0.0,0.0,0.0,0.0,0.0,0....   \n\n                                           deaths_ts  today_case  \\\n0  0.0,0.0,0.0,0.0,0.0,0.0,0.0,0.0,0.0,0.0,0.0,0....      1095.0   \n1  0.0,0.0,0.0,0.0,0.0,0.0,0.0,0.0,0.0,0.0,0.0,0....     32838.0   \n2  0.0,0.0,0.0,0.0,0.0,0.0,0.0,0.0,0.0,0.0,0.0,0....     48102.0   \n3  0.0,0.0,0.0,0.0,0.0,0.0,0.0,0.0,0.0,0.0,0.0,0....      4181.0   \n4  0.0,0.0,0.0,0.0,0.0,0.0,0.0,0.0,0.0,0.0,0.0,0....     20113.0   \n\n   today_new_case  today_death  today_new_death    dt_start      dt_end  \\\n0            18.0         38.0              1.0  2020-01-21  2020-04-28   \n1           708.0       1170.0             83.0  2020-01-21  2020-04-28   \n2          2219.0       2132.0            140.0  2020-01-21  2020-04-28   \n3           365.0        301.0             15.0  2020-01-21  2020-04-28   \n4           626.0        929.0             71.0  2020-01-21  2020-04-28   \n\n  dt_unit                                           geometry  \n0     day  POLYGON ((-80.51899 40.63880, -80.51934 39.721...  \n1     day  MULTIPOLYGON (((-82.98748 24.62538, -82.89993 ...  \n2     day  POLYGON ((-90.64284 42.50848, -87.01994 42.493...  \n3     day  POLYGON ((-97.22872 49.00056, -95.15371 48.998...  \n4     day  POLYGON ((-77.71952 39.32131, -77.76086 39.340...  ",
      "text/html": "<div>\n<style scoped>\n    .dataframe tbody tr th:only-of-type {\n        vertical-align: middle;\n    }\n\n    .dataframe tbody tr th {\n        vertical-align: top;\n    }\n\n    .dataframe thead th {\n        text-align: right;\n    }\n</style>\n<table border=\"1\" class=\"dataframe\">\n  <thead>\n    <tr style=\"text-align: right;\">\n      <th></th>\n      <th>NAME</th>\n      <th>population</th>\n      <th>fips</th>\n      <th>dt_first_case</th>\n      <th>dt_first_death</th>\n      <th>cases_ts</th>\n      <th>deaths_ts</th>\n      <th>today_case</th>\n      <th>today_new_case</th>\n      <th>today_death</th>\n      <th>today_new_death</th>\n      <th>dt_start</th>\n      <th>dt_end</th>\n      <th>dt_unit</th>\n      <th>geometry</th>\n    </tr>\n  </thead>\n  <tbody>\n    <tr>\n      <th>0</th>\n      <td>West Virginia</td>\n      <td>1829054</td>\n      <td>54</td>\n      <td>2020-03-17</td>\n      <td>2020-03-29</td>\n      <td>0.0,0.0,0.0,0.0,0.0,0.0,0.0,0.0,0.0,0.0,0.0,0....</td>\n      <td>0.0,0.0,0.0,0.0,0.0,0.0,0.0,0.0,0.0,0.0,0.0,0....</td>\n      <td>1095.0</td>\n      <td>18.0</td>\n      <td>38.0</td>\n      <td>1.0</td>\n      <td>2020-01-21</td>\n      <td>2020-04-28</td>\n      <td>day</td>\n      <td>POLYGON ((-80.51899 40.63880, -80.51934 39.721...</td>\n    </tr>\n    <tr>\n      <th>1</th>\n      <td>Florida</td>\n      <td>20598139</td>\n      <td>12</td>\n      <td>2020-03-01</td>\n      <td>2020-03-06</td>\n      <td>0.0,0.0,0.0,0.0,0.0,0.0,0.0,0.0,0.0,0.0,0.0,0....</td>\n      <td>0.0,0.0,0.0,0.0,0.0,0.0,0.0,0.0,0.0,0.0,0.0,0....</td>\n      <td>32838.0</td>\n      <td>708.0</td>\n      <td>1170.0</td>\n      <td>83.0</td>\n      <td>2020-01-21</td>\n      <td>2020-04-28</td>\n      <td>day</td>\n      <td>MULTIPOLYGON (((-82.98748 24.62538, -82.89993 ...</td>\n    </tr>\n    <tr>\n      <th>2</th>\n      <td>Illinois</td>\n      <td>12821497</td>\n      <td>17</td>\n      <td>2020-01-24</td>\n      <td>2020-03-17</td>\n      <td>0.0,0.0,0.0,1.0,1.0,1.0,1.0,1.0,1.0,2.0,2.0,2....</td>\n      <td>0.0,0.0,0.0,0.0,0.0,0.0,0.0,0.0,0.0,0.0,0.0,0....</td>\n      <td>48102.0</td>\n      <td>2219.0</td>\n      <td>2132.0</td>\n      <td>140.0</td>\n      <td>2020-01-21</td>\n      <td>2020-04-28</td>\n      <td>day</td>\n      <td>POLYGON ((-90.64284 42.50848, -87.01994 42.493...</td>\n    </tr>\n    <tr>\n      <th>3</th>\n      <td>Minnesota</td>\n      <td>5527358</td>\n      <td>27</td>\n      <td>2020-03-06</td>\n      <td>2020-03-21</td>\n      <td>0.0,0.0,0.0,0.0,0.0,0.0,0.0,0.0,0.0,0.0,0.0,0....</td>\n      <td>0.0,0.0,0.0,0.0,0.0,0.0,0.0,0.0,0.0,0.0,0.0,0....</td>\n      <td>4181.0</td>\n      <td>365.0</td>\n      <td>301.0</td>\n      <td>15.0</td>\n      <td>2020-01-21</td>\n      <td>2020-04-28</td>\n      <td>day</td>\n      <td>POLYGON ((-97.22872 49.00056, -95.15371 48.998...</td>\n    </tr>\n    <tr>\n      <th>4</th>\n      <td>Maryland</td>\n      <td>6003435</td>\n      <td>24</td>\n      <td>2020-03-05</td>\n      <td>2020-03-18</td>\n      <td>0.0,0.0,0.0,0.0,0.0,0.0,0.0,0.0,0.0,0.0,0.0,0....</td>\n      <td>0.0,0.0,0.0,0.0,0.0,0.0,0.0,0.0,0.0,0.0,0.0,0....</td>\n      <td>20113.0</td>\n      <td>626.0</td>\n      <td>929.0</td>\n      <td>71.0</td>\n      <td>2020-01-21</td>\n      <td>2020-04-28</td>\n      <td>day</td>\n      <td>POLYGON ((-77.71952 39.32131, -77.76086 39.340...</td>\n    </tr>\n  </tbody>\n</table>\n</div>"
     },
     "metadata": {},
     "output_type": "execute_result",
     "execution_count": 16
    }
   ],
   "source": [
    "state_gdf.head(5)"
   ],
   "metadata": {
    "collapsed": false,
    "pycharm": {
     "name": "#%%\n",
     "is_executing": false
    }
   }
  },
  {
   "cell_type": "code",
   "execution_count": 17,
   "outputs": [
    {
     "data": {
      "text/plain": "NAME                                                  Virgin Islands\npopulation                                                         0\nfips                                                              78\ndt_first_case                                             2020-03-14\ndt_first_death                                            2020-04-06\ncases_ts           0.0,0.0,0.0,0.0,0.0,0.0,0.0,0.0,0.0,0.0,0.0,0....\ndeaths_ts          0.0,0.0,0.0,0.0,0.0,0.0,0.0,0.0,0.0,0.0,0.0,0....\ntoday_case                                                        59\ntoday_new_case                                                     0\ntoday_death                                                        4\ntoday_new_death                                                    0\ndt_start                                                  2020-01-21\ndt_end                                                    2020-04-28\ndt_unit                                                          day\ngeometry           (POLYGON ((-64.95671400000001 17.678977, -64.9...\nName: 34, dtype: object"
     },
     "metadata": {},
     "output_type": "execute_result",
     "execution_count": 17
    }
   ],
   "source": [
    "state_gdf.iloc[34]"
   ],
   "metadata": {
    "collapsed": false,
    "pycharm": {
     "name": "#%%\n",
     "is_executing": false
    }
   }
  },
  {
   "cell_type": "code",
   "execution_count": 19,
   "outputs": [],
   "source": [
    "state_case = state_gdf['today_case']\n",
    "state_death = state_gdf['today_death']\n",
    "state_case_per_100k_capita = state_gdf['today_case']/(state_gdf['population']/100000)\n",
    "state_death_per_100k_capita = state_gdf['today_death']/(state_gdf['population']/100000)\n",
    "#death_case_ratio = counties_gdf['today_death']/counties_gdf['today_case']\n",
    "#death_case_ratio = death_case_ratio.replace(np.nan, 0)"
   ],
   "metadata": {
    "collapsed": false,
    "pycharm": {
     "name": "#%%\n",
     "is_executing": false
    }
   }
  },
  {
   "cell_type": "code",
   "execution_count": 23,
   "outputs": [],
   "source": [
    "state_death_per_100k_capita = state_death_per_100k_capita.replace(np.nan,0)\n",
    "state_death_per_100k_capita = state_death_per_100k_capita.replace(np.inf,0)\n",
    "state_case_per_100k_capita = state_case_per_100k_capita.replace(np.nan,0)\n",
    "state_case_per_100k_capita = state_case_per_100k_capita.replace(np.inf,0)"
   ],
   "metadata": {
    "collapsed": false,
    "pycharm": {
     "name": "#%%\n",
     "is_executing": false
    }
   }
  },
  {
   "cell_type": "code",
   "execution_count": 24,
   "outputs": [],
   "source": [
    "state_log_case = state_case.apply(lambda x: np.log(x + 1))\n",
    "state_log_death = state_death.apply(lambda x: np.log(x + 1))\n",
    "state_log_case_per_100k_capita = state_case_per_100k_capita.apply(lambda x: np.log(x + 1))\n",
    "state_log_death_per_100k_capita =state_death_per_100k_capita.apply(lambda x: np.log(x + 1))\n",
    "\n"
   ],
   "metadata": {
    "collapsed": false,
    "pycharm": {
     "name": "#%%\n",
     "is_executing": false
    }
   }
  },
  {
   "cell_type": "code",
   "execution_count": 21,
   "outputs": [],
   "source": [
    "state_dict['case'] = {}\n",
    "state_dict['death'] = {}\n",
    "state_dict['case_per_100k_capita'] = {}\n",
    "state_dict['death_per_100k_capita'] = {}"
   ],
   "metadata": {
    "collapsed": false,
    "pycharm": {
     "name": "#%%\n",
     "is_executing": false
    }
   }
  },
  {
   "cell_type": "code",
   "execution_count": 25,
   "outputs": [],
   "source": [
    "state_dict['case']['nolog'] = create_dict(state_case)\n",
    "state_dict['case']['log'] = create_dict(state_log_case)\n",
    "state_dict['death']['nolog'] = create_dict(state_death)\n",
    "state_dict['death']['log'] = create_dict(state_log_death)\n",
    "state_dict['case_per_100k_capita']['nolog'] = create_dict(state_case_per_100k_capita)\n",
    "state_dict['case_per_100k_capita']['log'] = create_dict(state_log_case_per_100k_capita)\n",
    "state_dict['death_per_100k_capita']['nolog'] = create_dict(state_death_per_100k_capita)\n",
    "state_dict['death_per_100k_capita']['log'] = create_dict(state_log_death_per_100k_capita)"
   ],
   "metadata": {
    "collapsed": false,
    "pycharm": {
     "name": "#%%\n",
     "is_executing": false
    }
   }
  },
  {
   "cell_type": "markdown",
   "source": [
    "3. Read Illinois County Data"
   ],
   "metadata": {
    "collapsed": false,
    "pycharm": {
     "name": "#%% md\n"
    }
   }
  },
  {
   "cell_type": "code",
   "execution_count": 26,
   "outputs": [],
   "source": [
    "illinois_gdf = gpd.read_file('illinois/nyt_illinois_counties_data.geojson')"
   ],
   "metadata": {
    "collapsed": false,
    "pycharm": {
     "name": "#%%\n",
     "is_executing": false
    }
   }
  },
  {
   "cell_type": "code",
   "execution_count": 27,
   "outputs": [
    {
     "data": {
      "text/plain": "      NAME state_name  population   fips dt_first_case dt_first_death  \\\n0    Clark   Illinois       15836  17023    2020-03-30           None   \n1  Kendall   Illinois      124626  17093    2020-03-18     2020-03-29   \n2    Brown   Illinois        6675  17009          None           None   \n3   Warren   Illinois       17338  17187    2020-04-11           None   \n4    Union   Illinois       17127  17181    2020-04-15           None   \n\n                                            cases_ts  \\\n0  0.0,0.0,0.0,0.0,0.0,0.0,0.0,0.0,0.0,0.0,0.0,0....   \n1  0.0,0.0,0.0,0.0,0.0,0.0,0.0,0.0,0.0,0.0,0.0,0....   \n2  0,0,0,0,0,0,0,0,0,0,0,0,0,0,0,0,0,0,0,0,0,0,0,...   \n3  0.0,0.0,0.0,0.0,0.0,0.0,0.0,0.0,0.0,0.0,0.0,0....   \n4  0.0,0.0,0.0,0.0,0.0,0.0,0.0,0.0,0.0,0.0,0.0,0....   \n\n                                           deaths_ts  today_case  \\\n0  0.0,0.0,0.0,0.0,0.0,0.0,0.0,0.0,0.0,0.0,0.0,0....         5.0   \n1  0.0,0.0,0.0,0.0,0.0,0.0,0.0,0.0,0.0,0.0,0.0,0....       235.0   \n2  0,0,0,0,0,0,0,0,0,0,0,0,0,0,0,0,0,0,0,0,0,0,0,...         0.0   \n3  0.0,0.0,0.0,0.0,0.0,0.0,0.0,0.0,0.0,0.0,0.0,0....        53.0   \n4  0.0,0.0,0.0,0.0,0.0,0.0,0.0,0.0,0.0,0.0,0.0,0....         8.0   \n\n   today_new_case  today_death  today_new_death    dt_start      dt_end  \\\n0             1.0          0.0              0.0  2020-01-21  2020-04-28   \n1            17.0          5.0              0.0  2020-01-21  2020-04-28   \n2             0.0          0.0              0.0  2020-01-21  2020-04-28   \n3             3.0          0.0              0.0  2020-01-21  2020-04-28   \n4             0.0          0.0              0.0  2020-01-21  2020-04-28   \n\n  dt_unit                                           geometry  \n0     day  MULTIPOLYGON (((-88.01421 39.48076, -87.96018 ...  \n1     day  MULTIPOLYGON (((-88.60193 41.71956, -88.40450 ...  \n2     day  MULTIPOLYGON (((-90.91347 40.10446, -90.69582 ...  \n3     day  MULTIPOLYGON (((-90.78519 41.06875, -90.43942 ...  \n4     day  MULTIPOLYGON (((-89.50179 37.55890, -89.49775 ...  ",
      "text/html": "<div>\n<style scoped>\n    .dataframe tbody tr th:only-of-type {\n        vertical-align: middle;\n    }\n\n    .dataframe tbody tr th {\n        vertical-align: top;\n    }\n\n    .dataframe thead th {\n        text-align: right;\n    }\n</style>\n<table border=\"1\" class=\"dataframe\">\n  <thead>\n    <tr style=\"text-align: right;\">\n      <th></th>\n      <th>NAME</th>\n      <th>state_name</th>\n      <th>population</th>\n      <th>fips</th>\n      <th>dt_first_case</th>\n      <th>dt_first_death</th>\n      <th>cases_ts</th>\n      <th>deaths_ts</th>\n      <th>today_case</th>\n      <th>today_new_case</th>\n      <th>today_death</th>\n      <th>today_new_death</th>\n      <th>dt_start</th>\n      <th>dt_end</th>\n      <th>dt_unit</th>\n      <th>geometry</th>\n    </tr>\n  </thead>\n  <tbody>\n    <tr>\n      <th>0</th>\n      <td>Clark</td>\n      <td>Illinois</td>\n      <td>15836</td>\n      <td>17023</td>\n      <td>2020-03-30</td>\n      <td>None</td>\n      <td>0.0,0.0,0.0,0.0,0.0,0.0,0.0,0.0,0.0,0.0,0.0,0....</td>\n      <td>0.0,0.0,0.0,0.0,0.0,0.0,0.0,0.0,0.0,0.0,0.0,0....</td>\n      <td>5.0</td>\n      <td>1.0</td>\n      <td>0.0</td>\n      <td>0.0</td>\n      <td>2020-01-21</td>\n      <td>2020-04-28</td>\n      <td>day</td>\n      <td>MULTIPOLYGON (((-88.01421 39.48076, -87.96018 ...</td>\n    </tr>\n    <tr>\n      <th>1</th>\n      <td>Kendall</td>\n      <td>Illinois</td>\n      <td>124626</td>\n      <td>17093</td>\n      <td>2020-03-18</td>\n      <td>2020-03-29</td>\n      <td>0.0,0.0,0.0,0.0,0.0,0.0,0.0,0.0,0.0,0.0,0.0,0....</td>\n      <td>0.0,0.0,0.0,0.0,0.0,0.0,0.0,0.0,0.0,0.0,0.0,0....</td>\n      <td>235.0</td>\n      <td>17.0</td>\n      <td>5.0</td>\n      <td>0.0</td>\n      <td>2020-01-21</td>\n      <td>2020-04-28</td>\n      <td>day</td>\n      <td>MULTIPOLYGON (((-88.60193 41.71956, -88.40450 ...</td>\n    </tr>\n    <tr>\n      <th>2</th>\n      <td>Brown</td>\n      <td>Illinois</td>\n      <td>6675</td>\n      <td>17009</td>\n      <td>None</td>\n      <td>None</td>\n      <td>0,0,0,0,0,0,0,0,0,0,0,0,0,0,0,0,0,0,0,0,0,0,0,...</td>\n      <td>0,0,0,0,0,0,0,0,0,0,0,0,0,0,0,0,0,0,0,0,0,0,0,...</td>\n      <td>0.0</td>\n      <td>0.0</td>\n      <td>0.0</td>\n      <td>0.0</td>\n      <td>2020-01-21</td>\n      <td>2020-04-28</td>\n      <td>day</td>\n      <td>MULTIPOLYGON (((-90.91347 40.10446, -90.69582 ...</td>\n    </tr>\n    <tr>\n      <th>3</th>\n      <td>Warren</td>\n      <td>Illinois</td>\n      <td>17338</td>\n      <td>17187</td>\n      <td>2020-04-11</td>\n      <td>None</td>\n      <td>0.0,0.0,0.0,0.0,0.0,0.0,0.0,0.0,0.0,0.0,0.0,0....</td>\n      <td>0.0,0.0,0.0,0.0,0.0,0.0,0.0,0.0,0.0,0.0,0.0,0....</td>\n      <td>53.0</td>\n      <td>3.0</td>\n      <td>0.0</td>\n      <td>0.0</td>\n      <td>2020-01-21</td>\n      <td>2020-04-28</td>\n      <td>day</td>\n      <td>MULTIPOLYGON (((-90.78519 41.06875, -90.43942 ...</td>\n    </tr>\n    <tr>\n      <th>4</th>\n      <td>Union</td>\n      <td>Illinois</td>\n      <td>17127</td>\n      <td>17181</td>\n      <td>2020-04-15</td>\n      <td>None</td>\n      <td>0.0,0.0,0.0,0.0,0.0,0.0,0.0,0.0,0.0,0.0,0.0,0....</td>\n      <td>0.0,0.0,0.0,0.0,0.0,0.0,0.0,0.0,0.0,0.0,0.0,0....</td>\n      <td>8.0</td>\n      <td>0.0</td>\n      <td>0.0</td>\n      <td>0.0</td>\n      <td>2020-01-21</td>\n      <td>2020-04-28</td>\n      <td>day</td>\n      <td>MULTIPOLYGON (((-89.50179 37.55890, -89.49775 ...</td>\n    </tr>\n  </tbody>\n</table>\n</div>"
     },
     "metadata": {},
     "output_type": "execute_result",
     "execution_count": 27
    }
   ],
   "source": [
    "illinois_gdf.head(5)"
   ],
   "metadata": {
    "collapsed": false,
    "pycharm": {
     "name": "#%%\n",
     "is_executing": false
    }
   }
  },
  {
   "cell_type": "code",
   "execution_count": 30,
   "outputs": [],
   "source": [
    "illinois_case = illinois_gdf['today_case']\n",
    "illinois_death = illinois_gdf['today_death']\n",
    "illinois_case_per_100k_capita = illinois_gdf['today_case']/(illinois_gdf['population']/100000)\n",
    "illinois_death_per_100k_capita = illinois_gdf['today_death']/(illinois_gdf['population']/100000)\n",
    "#death_case_ratio = counties_gdf['today_death']/counties_gdf['today_case']\n",
    "#death_case_ratio = death_case_ratio.replace(np.nan, 0)"
   ],
   "metadata": {
    "collapsed": false,
    "pycharm": {
     "name": "#%%\n",
     "is_executing": false
    }
   }
  },
  {
   "cell_type": "code",
   "execution_count": 94,
   "outputs": [],
   "source": [
    "illinois_death_per_100k_capita = illinois_death_per_100k_capita.replace(np.nan,0)\n",
    "illinois_death_per_100k_capita = illinois_death_per_100k_capita.replace(np.inf,0)\n",
    "illinois_case_per_100k_capita = illinois_case_per_100k_capita.replace(np.nan,0)\n",
    "illinois_case_per_100k_capita = illinois_case_per_100k_capita.replace(np.inf,0)"
   ],
   "metadata": {
    "collapsed": false,
    "pycharm": {
     "name": "#%%\n",
     "is_executing": false
    }
   }
  },
  {
   "cell_type": "code",
   "execution_count": 31,
   "outputs": [],
   "source": [
    "illinois_log_case = illinois_case.apply(lambda x: np.log(x + 1))\n",
    "illinois_log_death = illinois_death.apply(lambda x: np.log(x + 1))\n",
    "illinois_log_case_per_100k_capita = illinois_case_per_100k_capita.apply(lambda x: np.log(x + 1))\n",
    "illinois_log_death_per_100k_capita =illinois_death_per_100k_capita.apply(lambda x: np.log(x + 1))\n",
    "\n"
   ],
   "metadata": {
    "collapsed": false,
    "pycharm": {
     "name": "#%%\n",
     "is_executing": false
    }
   }
  },
  {
   "cell_type": "code",
   "execution_count": 33,
   "outputs": [],
   "source": [
    "illinois_dict['case'] = {}\n",
    "illinois_dict['death'] = {}\n",
    "illinois_dict['case_per_100k_capita'] = {}\n",
    "illinois_dict['death_per_100k_capita'] = {}"
   ],
   "metadata": {
    "collapsed": false,
    "pycharm": {
     "name": "#%%\n",
     "is_executing": false
    }
   }
  },
  {
   "cell_type": "code",
   "execution_count": 34,
   "outputs": [
    {
     "name": "stderr",
     "text": [
      "C:\\Users\\Jason\\Anaconda3\\lib\\site-packages\\mapclassify\\classifiers.py:237: UserWarning: Warning: Not enough unique values in array to form k classes\n  \"Warning: Not enough unique values in array to form k classes\", UserWarning\nC:\\Users\\Jason\\Anaconda3\\lib\\site-packages\\mapclassify\\classifiers.py:239: UserWarning: Warning: setting k to 4\n  Warn(\"Warning: setting k to %d\" % k_q, UserWarning)\nC:\\Users\\Jason\\Anaconda3\\lib\\site-packages\\mapclassify\\classifiers.py:237: UserWarning: Warning: Not enough unique values in array to form k classes\n  \"Warning: Not enough unique values in array to form k classes\", UserWarning\nC:\\Users\\Jason\\Anaconda3\\lib\\site-packages\\mapclassify\\classifiers.py:239: UserWarning: Warning: setting k to 4\n  Warn(\"Warning: setting k to %d\" % k_q, UserWarning)\nC:\\Users\\Jason\\Anaconda3\\lib\\site-packages\\mapclassify\\classifiers.py:237: UserWarning: Warning: Not enough unique values in array to form k classes\n  \"Warning: Not enough unique values in array to form k classes\", UserWarning\nC:\\Users\\Jason\\Anaconda3\\lib\\site-packages\\mapclassify\\classifiers.py:239: UserWarning: Warning: setting k to 4\n  Warn(\"Warning: setting k to %d\" % k_q, UserWarning)\nC:\\Users\\Jason\\Anaconda3\\lib\\site-packages\\mapclassify\\classifiers.py:237: UserWarning: Warning: Not enough unique values in array to form k classes\n  \"Warning: Not enough unique values in array to form k classes\", UserWarning\nC:\\Users\\Jason\\Anaconda3\\lib\\site-packages\\mapclassify\\classifiers.py:239: UserWarning: Warning: setting k to 4\n  Warn(\"Warning: setting k to %d\" % k_q, UserWarning)\n"
     ],
     "output_type": "stream"
    }
   ],
   "source": [
    "illinois_dict['case']['nolog'] = create_dict(illinois_case)\n",
    "illinois_dict['case']['log'] = create_dict(illinois_log_case)\n",
    "illinois_dict['death']['nolog'] = create_dict(illinois_death)\n",
    "illinois_dict['death']['log'] = create_dict(illinois_log_death)\n",
    "illinois_dict['case_per_100k_capita']['nolog'] = create_dict(illinois_case_per_100k_capita)\n",
    "illinois_dict['case_per_100k_capita']['log'] = create_dict(illinois_log_case_per_100k_capita)\n",
    "illinois_dict['death_per_100k_capita']['nolog'] = create_dict(illinois_death_per_100k_capita)\n",
    "illinois_dict['death_per_100k_capita']['log'] = create_dict(illinois_log_death_per_100k_capita)"
   ],
   "metadata": {
    "collapsed": false,
    "pycharm": {
     "name": "#%%\n",
     "is_executing": false
    }
   }
  },
  {
   "cell_type": "markdown",
   "source": [
    "Summary and ouput"
   ],
   "metadata": {
    "collapsed": false,
    "pycharm": {
     "name": "#%% md\n"
    }
   }
  },
  {
   "cell_type": "code",
   "execution_count": 35,
   "outputs": [
    {
     "name": "stdout",
     "text": [
      "done\n"
     ],
     "output_type": "stream"
    }
   ],
   "source": [
    "import json\n",
    "total_dict['county'] = county_dict\n",
    "total_dict['state'] = state_dict\n",
    "total_dict['illinois'] = illinois_dict\n",
    "# dynamic_dict['county'] = dynamic_county_dict\n",
    "# dynamic_dict['state'] = dynamic_state_dict\n",
    "# dynamic_dict['illinois'] = dynamic_illinois_dict\n",
    "with open('classes.json','w') as json_file:\n",
    "    json.dump(total_dict, json_file)\n",
    "with open('dynamic_classes.json','w') as json_file:\n",
    "    json.dump(dynamic_dict, json_file)\n",
    "print('done')"
   ],
   "metadata": {
    "collapsed": false,
    "pycharm": {
     "name": "#%%\n",
     "is_executing": false
    }
   }
  }
 ],
 "metadata": {
  "language_info": {
   "codemirror_mode": {
    "name": "ipython",
    "version": 2
   },
   "file_extension": ".py",
   "mimetype": "text/x-python",
   "name": "python",
   "nbconvert_exporter": "python",
   "pygments_lexer": "ipython2",
   "version": "2.7.6"
  },
  "kernelspec": {
   "name": "python3",
   "language": "python",
   "display_name": "Python 3"
  },
  "pycharm": {
   "stem_cell": {
    "cell_type": "raw",
    "source": [],
    "metadata": {
     "collapsed": false
    }
   }
  }
 },
 "nbformat": 4,
 "nbformat_minor": 0
}