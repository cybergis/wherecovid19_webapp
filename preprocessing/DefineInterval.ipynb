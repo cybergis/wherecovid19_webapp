{
 "cells": [
  {
   "cell_type": "code",
   "execution_count": 58,
   "metadata": {
    "pycharm": {
     "is_executing": false
    }
   },
   "outputs": [],
   "source": [
    "import geopandas as gpd\n",
    "import numpy as np\n",
    "import mapclassify as mc\n",
    "import matplotlib.pyplot as plt"
   ]
  },
  {
   "cell_type": "code",
   "execution_count": 59,
   "metadata": {
    "pycharm": {
     "is_executing": false,
     "name": "#%%\n"
    }
   },
   "outputs": [],
   "source": [
    "total_dict = {}\n",
    "county_dict = {}\n",
    "state_dict = {}\n",
    "dph_illinois_dict = {}\n",
    "who_world_dict = {}\n",
    "vul_dict = {}"
   ]
  },
  {
   "cell_type": "code",
   "execution_count": 60,
   "metadata": {
    "pycharm": {
     "is_executing": false,
     "name": "#%%\n"
    }
   },
   "outputs": [],
   "source": [
    "dynamic_dict = {}\n",
    "dynamic_county_dict = {}\n",
    "dynamic_state_dict = {}\n",
    "dynamic_illinois_dict = {}"
   ]
  },
  {
   "cell_type": "markdown",
   "metadata": {
    "pycharm": {
     "name": "#%% md\n"
    }
   },
   "source": [
    "1. Read County Data"
   ]
  },
  {
   "cell_type": "code",
   "execution_count": 61,
   "metadata": {
    "pycharm": {
     "is_executing": false,
     "name": "#%%\n"
    }
   },
   "outputs": [],
   "source": [
    "counties_gdf = gpd.read_file('nyt_counties_data.geojson')"
   ]
  },
  {
   "cell_type": "code",
   "execution_count": 62,
   "metadata": {
    "pycharm": {
     "is_executing": false,
     "name": "#%%\n"
    }
   },
   "outputs": [
    {
     "data": {
      "text/html": [
       "<div>\n",
       "<style scoped>\n",
       "    .dataframe tbody tr th:only-of-type {\n",
       "        vertical-align: middle;\n",
       "    }\n",
       "\n",
       "    .dataframe tbody tr th {\n",
       "        vertical-align: top;\n",
       "    }\n",
       "\n",
       "    .dataframe thead th {\n",
       "        text-align: right;\n",
       "    }\n",
       "</style>\n",
       "<table border=\"1\" class=\"dataframe\">\n",
       "  <thead>\n",
       "    <tr style=\"text-align: right;\">\n",
       "      <th></th>\n",
       "      <th>NAME</th>\n",
       "      <th>state_name</th>\n",
       "      <th>population</th>\n",
       "      <th>fips</th>\n",
       "      <th>dt_first_case</th>\n",
       "      <th>dt_first_death</th>\n",
       "      <th>cases_ts</th>\n",
       "      <th>deaths_ts</th>\n",
       "      <th>today_case</th>\n",
       "      <th>today_new_case</th>\n",
       "      <th>today_death</th>\n",
       "      <th>today_new_death</th>\n",
       "      <th>start</th>\n",
       "      <th>end</th>\n",
       "      <th>dt_unit</th>\n",
       "      <th>geometry</th>\n",
       "    </tr>\n",
       "  </thead>\n",
       "  <tbody>\n",
       "    <tr>\n",
       "      <th>0</th>\n",
       "      <td>Bladen</td>\n",
       "      <td>North Carolina</td>\n",
       "      <td>33778</td>\n",
       "      <td>37017</td>\n",
       "      <td>2020-04-03</td>\n",
       "      <td>2020-05-06</td>\n",
       "      <td>0,0,0,0,0,0,0,0,0,0,0,0,0,0,0,0,0,0,0,0,0,0,0,...</td>\n",
       "      <td>0.0,0.0,0.0,0.0,0.0,0.0,0.0,0.0,0.0,0.0,0.0,0....</td>\n",
       "      <td>528.0</td>\n",
       "      <td>5.0</td>\n",
       "      <td>5.0</td>\n",
       "      <td>0.0</td>\n",
       "      <td>2020-01-21</td>\n",
       "      <td>2020-07-26</td>\n",
       "      <td>day</td>\n",
       "      <td>MULTIPOLYGON (((-78.90200 34.83527, -78.79960 ...</td>\n",
       "    </tr>\n",
       "    <tr>\n",
       "      <th>1</th>\n",
       "      <td>Stanly</td>\n",
       "      <td>North Carolina</td>\n",
       "      <td>61114</td>\n",
       "      <td>37167</td>\n",
       "      <td>2020-03-20</td>\n",
       "      <td>2020-04-09</td>\n",
       "      <td>0.0,0.0,0.0,0.0,0.0,0.0,0.0,0.0,0.0,0.0,0.0,0....</td>\n",
       "      <td>0.0,0.0,0.0,0.0,0.0,0.0,0.0,0.0,0.0,0.0,0.0,0....</td>\n",
       "      <td>778.0</td>\n",
       "      <td>14.0</td>\n",
       "      <td>6.0</td>\n",
       "      <td>0.0</td>\n",
       "      <td>2020-01-21</td>\n",
       "      <td>2020-07-26</td>\n",
       "      <td>day</td>\n",
       "      <td>MULTIPOLYGON (((-80.49738 35.20210, -80.29542 ...</td>\n",
       "    </tr>\n",
       "    <tr>\n",
       "      <th>2</th>\n",
       "      <td>Summit</td>\n",
       "      <td>Ohio</td>\n",
       "      <td>541810</td>\n",
       "      <td>39153</td>\n",
       "      <td>2020-03-14</td>\n",
       "      <td>2020-03-27</td>\n",
       "      <td>0.0,0.0,0.0,0.0,0.0,0.0,0.0,0.0,0.0,0.0,0.0,0....</td>\n",
       "      <td>0.0,0.0,0.0,0.0,0.0,0.0,0.0,0.0,0.0,0.0,0.0,0....</td>\n",
       "      <td>2914.0</td>\n",
       "      <td>35.0</td>\n",
       "      <td>212.0</td>\n",
       "      <td>0.0</td>\n",
       "      <td>2020-01-21</td>\n",
       "      <td>2020-07-26</td>\n",
       "      <td>day</td>\n",
       "      <td>MULTIPOLYGON (((-81.68699 41.13596, -81.68495 ...</td>\n",
       "    </tr>\n",
       "    <tr>\n",
       "      <th>3</th>\n",
       "      <td>Sullivan</td>\n",
       "      <td>Pennsylvania</td>\n",
       "      <td>6177</td>\n",
       "      <td>42113</td>\n",
       "      <td>2020-04-04</td>\n",
       "      <td>None</td>\n",
       "      <td>0.0,0.0,0.0,0.0,0.0,0.0,0.0,0.0,0.0,0.0,0.0,0....</td>\n",
       "      <td>0.0,0.0,0.0,0.0,0.0,0.0,0.0,0.0,0.0,0.0,0.0,0....</td>\n",
       "      <td>10.0</td>\n",
       "      <td>0.0</td>\n",
       "      <td>0.0</td>\n",
       "      <td>0.0</td>\n",
       "      <td>2020-01-21</td>\n",
       "      <td>2020-07-26</td>\n",
       "      <td>day</td>\n",
       "      <td>MULTIPOLYGON (((-76.81373 41.59003, -76.22014 ...</td>\n",
       "    </tr>\n",
       "    <tr>\n",
       "      <th>4</th>\n",
       "      <td>Upshur</td>\n",
       "      <td>Texas</td>\n",
       "      <td>40769</td>\n",
       "      <td>48459</td>\n",
       "      <td>2020-03-20</td>\n",
       "      <td>2020-07-25</td>\n",
       "      <td>0.0,0.0,0.0,0.0,0.0,0.0,0.0,0.0,0.0,0.0,0.0,0....</td>\n",
       "      <td>0.0,0.0,0.0,0.0,0.0,0.0,0.0,0.0,0.0,0.0,0.0,0....</td>\n",
       "      <td>161.0</td>\n",
       "      <td>3.0</td>\n",
       "      <td>1.0</td>\n",
       "      <td>0.0</td>\n",
       "      <td>2020-01-21</td>\n",
       "      <td>2020-07-26</td>\n",
       "      <td>day</td>\n",
       "      <td>MULTIPOLYGON (((-95.15274 32.66095, -95.15211 ...</td>\n",
       "    </tr>\n",
       "  </tbody>\n",
       "</table>\n",
       "</div>"
      ],
      "text/plain": [
       "       NAME      state_name  population   fips dt_first_case dt_first_death  \\\n",
       "0    Bladen  North Carolina       33778  37017    2020-04-03     2020-05-06   \n",
       "1    Stanly  North Carolina       61114  37167    2020-03-20     2020-04-09   \n",
       "2    Summit            Ohio      541810  39153    2020-03-14     2020-03-27   \n",
       "3  Sullivan    Pennsylvania        6177  42113    2020-04-04           None   \n",
       "4    Upshur           Texas       40769  48459    2020-03-20     2020-07-25   \n",
       "\n",
       "                                            cases_ts  \\\n",
       "0  0,0,0,0,0,0,0,0,0,0,0,0,0,0,0,0,0,0,0,0,0,0,0,...   \n",
       "1  0.0,0.0,0.0,0.0,0.0,0.0,0.0,0.0,0.0,0.0,0.0,0....   \n",
       "2  0.0,0.0,0.0,0.0,0.0,0.0,0.0,0.0,0.0,0.0,0.0,0....   \n",
       "3  0.0,0.0,0.0,0.0,0.0,0.0,0.0,0.0,0.0,0.0,0.0,0....   \n",
       "4  0.0,0.0,0.0,0.0,0.0,0.0,0.0,0.0,0.0,0.0,0.0,0....   \n",
       "\n",
       "                                           deaths_ts  today_case  \\\n",
       "0  0.0,0.0,0.0,0.0,0.0,0.0,0.0,0.0,0.0,0.0,0.0,0....       528.0   \n",
       "1  0.0,0.0,0.0,0.0,0.0,0.0,0.0,0.0,0.0,0.0,0.0,0....       778.0   \n",
       "2  0.0,0.0,0.0,0.0,0.0,0.0,0.0,0.0,0.0,0.0,0.0,0....      2914.0   \n",
       "3  0.0,0.0,0.0,0.0,0.0,0.0,0.0,0.0,0.0,0.0,0.0,0....        10.0   \n",
       "4  0.0,0.0,0.0,0.0,0.0,0.0,0.0,0.0,0.0,0.0,0.0,0....       161.0   \n",
       "\n",
       "   today_new_case  today_death  today_new_death       start         end  \\\n",
       "0             5.0          5.0              0.0  2020-01-21  2020-07-26   \n",
       "1            14.0          6.0              0.0  2020-01-21  2020-07-26   \n",
       "2            35.0        212.0              0.0  2020-01-21  2020-07-26   \n",
       "3             0.0          0.0              0.0  2020-01-21  2020-07-26   \n",
       "4             3.0          1.0              0.0  2020-01-21  2020-07-26   \n",
       "\n",
       "  dt_unit                                           geometry  \n",
       "0     day  MULTIPOLYGON (((-78.90200 34.83527, -78.79960 ...  \n",
       "1     day  MULTIPOLYGON (((-80.49738 35.20210, -80.29542 ...  \n",
       "2     day  MULTIPOLYGON (((-81.68699 41.13596, -81.68495 ...  \n",
       "3     day  MULTIPOLYGON (((-76.81373 41.59003, -76.22014 ...  \n",
       "4     day  MULTIPOLYGON (((-95.15274 32.66095, -95.15211 ...  "
      ]
     },
     "execution_count": 62,
     "metadata": {},
     "output_type": "execute_result"
    }
   ],
   "source": [
    "counties_gdf.head(5)"
   ]
  },
  {
   "cell_type": "code",
   "execution_count": 63,
   "metadata": {
    "pycharm": {
     "is_executing": false,
     "name": "#%%\n"
    }
   },
   "outputs": [],
   "source": [
    "case = counties_gdf['today_case']\n",
    "death = counties_gdf['today_death']\n",
    "case_per_100k_capita = counties_gdf['today_case']/(counties_gdf['population']/100000)\n",
    "death_per_100k_capita = counties_gdf['today_death']/(counties_gdf['population']/100000)\n",
    "# death_case_ratio = counties_gdf['today_death']/counties_gdf['today_case']\n",
    "# death_case_ratio = death_case_ratio.replace(np.nan, 0)"
   ]
  },
  {
   "cell_type": "code",
   "execution_count": 64,
   "metadata": {
    "pycharm": {
     "is_executing": false,
     "name": "#%%\n"
    }
   },
   "outputs": [],
   "source": [
    "log_case = case.apply(lambda x: np.log(x + 1))\n",
    "log_death = death.apply(lambda x: np.log(x + 1))\n",
    "log_case_per_100k_capita = case_per_100k_capita.apply(lambda x: np.log(x + 1))\n",
    "log_death_per_100k_capita = death.apply(lambda x: np.log(x + 1))"
   ]
  },
  {
   "cell_type": "markdown",
   "metadata": {
    "pycharm": {
     "name": "#%% md\n"
    }
   },
   "source": [
    "1.1 Get Constant Classes from today's data"
   ]
  },
  {
   "cell_type": "code",
   "execution_count": 65,
   "metadata": {
    "pycharm": {
     "is_executing": false,
     "name": "#%%\n"
    }
   },
   "outputs": [],
   "source": [
    "def create_dict(column):\n",
    "    tmp_dict = {}\n",
    "    tmp_dict['Quantiles'] = {\n",
    "        'bins': ','.join(mc.Quantiles(column, k=6).bins.astype(str)),\n",
    "        'k': 6\n",
    "    }\n",
    "    tmp_dict['FisherJenks'] = {\n",
    "        'bins': ','.join(mc.FisherJenks(column, k=6).bins.astype(str)),\n",
    "        'k': 6\n",
    "    }\n",
    "    tmp_dict['NaturalBreaks'] = {\n",
    "        'bins': ','.join(mc.NaturalBreaks(column, k=6).bins.astype(str)),\n",
    "        'k': 6\n",
    "    }\n",
    "    return tmp_dict"
   ]
  },
  {
   "cell_type": "code",
   "execution_count": 66,
   "metadata": {
    "pycharm": {
     "is_executing": false,
     "name": "#%%\n"
    }
   },
   "outputs": [],
   "source": [
    "county_dict['case'] = {}\n",
    "county_dict['death'] = {}\n",
    "county_dict['case_per_100k_capita'] = {}\n",
    "county_dict['death_per_100k_capita'] = {}"
   ]
  },
  {
   "cell_type": "code",
   "execution_count": 67,
   "metadata": {
    "pycharm": {
     "is_executing": false,
     "name": "#%%\n"
    }
   },
   "outputs": [
    {
     "name": "stderr",
     "output_type": "stream",
     "text": [
      "C:\\Users\\lymin\\Anaconda3\\envs\\wherecovid19\\lib\\site-packages\\mapclassify\\classifiers.py:237: UserWarning: Warning: Not enough unique values in array to form k classes\n",
      "  \"Warning: Not enough unique values in array to form k classes\", UserWarning\n",
      "C:\\Users\\lymin\\Anaconda3\\envs\\wherecovid19\\lib\\site-packages\\mapclassify\\classifiers.py:239: UserWarning: Warning: setting k to 5\n",
      "  Warn(\"Warning: setting k to %d\" % k_q, UserWarning)\n",
      "C:\\Users\\lymin\\Anaconda3\\envs\\wherecovid19\\lib\\site-packages\\mapclassify\\classifiers.py:237: UserWarning: Warning: Not enough unique values in array to form k classes\n",
      "  \"Warning: Not enough unique values in array to form k classes\", UserWarning\n",
      "C:\\Users\\lymin\\Anaconda3\\envs\\wherecovid19\\lib\\site-packages\\mapclassify\\classifiers.py:239: UserWarning: Warning: setting k to 5\n",
      "  Warn(\"Warning: setting k to %d\" % k_q, UserWarning)\n",
      "C:\\Users\\lymin\\Anaconda3\\envs\\wherecovid19\\lib\\site-packages\\mapclassify\\classifiers.py:237: UserWarning: Warning: Not enough unique values in array to form k classes\n",
      "  \"Warning: Not enough unique values in array to form k classes\", UserWarning\n",
      "C:\\Users\\lymin\\Anaconda3\\envs\\wherecovid19\\lib\\site-packages\\mapclassify\\classifiers.py:239: UserWarning: Warning: setting k to 5\n",
      "  Warn(\"Warning: setting k to %d\" % k_q, UserWarning)\n",
      "C:\\Users\\lymin\\Anaconda3\\envs\\wherecovid19\\lib\\site-packages\\mapclassify\\classifiers.py:237: UserWarning: Warning: Not enough unique values in array to form k classes\n",
      "  \"Warning: Not enough unique values in array to form k classes\", UserWarning\n",
      "C:\\Users\\lymin\\Anaconda3\\envs\\wherecovid19\\lib\\site-packages\\mapclassify\\classifiers.py:239: UserWarning: Warning: setting k to 5\n",
      "  Warn(\"Warning: setting k to %d\" % k_q, UserWarning)\n"
     ]
    }
   ],
   "source": [
    "county_dict['case']['nolog'] = create_dict(case)\n",
    "county_dict['case']['log'] = create_dict(log_case)\n",
    "county_dict['death']['nolog'] = create_dict(death)\n",
    "county_dict['death']['log'] = create_dict(log_death)\n",
    "county_dict['case_per_100k_capita']['nolog'] = create_dict(case_per_100k_capita)\n",
    "county_dict['case_per_100k_capita']['log'] = create_dict(log_case_per_100k_capita)\n",
    "county_dict['death_per_100k_capita']['nolog'] = create_dict(death_per_100k_capita)\n",
    "county_dict['death_per_100k_capita']['log'] = create_dict(log_death_per_100k_capita)\n"
   ]
  },
  {
   "cell_type": "code",
   "execution_count": 68,
   "metadata": {
    "pycharm": {
     "is_executing": false,
     "name": "#%%\n"
    }
   },
   "outputs": [
    {
     "data": {
      "text/plain": [
       "{'case': {'nolog': {'Quantiles': {'bins': '20.0,65.0,151.0,349.0,1057.0,228445.0',\n",
       "    'k': 6},\n",
       "   'FisherJenks': {'bins': '3475.0,11780.0,27077.0,65349.0,108677.0,228445.0',\n",
       "    'k': 6},\n",
       "   'NaturalBreaks': {'bins': '3501.0,11780.0,27077.0,65349.0,108677.0,228445.0',\n",
       "    'k': 6}},\n",
       "  'log': {'Quantiles': {'bins': '3.044522437723423,4.189654742026425,5.0238805208462765,5.857933154483459,6.964135612418245,12.339055137536311',\n",
       "    'k': 6},\n",
       "   'FisherJenks': {'bins': '1.3862943611198906,3.295836866004329,4.727387818712341,6.0844994130751715,7.791109510610028,12.339055137536311',\n",
       "    'k': 6},\n",
       "   'NaturalBreaks': {'bins': '1.3862943611198906,3.295836866004329,4.736198448394496,6.0844994130751715,7.791109510610028,12.339055137536311',\n",
       "    'k': 6}}},\n",
       " 'death': {'nolog': {'Quantiles': {'bins': '0.0,2.0,6.0,25.0,22956.0', 'k': 6},\n",
       "   'FisherJenks': {'bins': '109.0,456.0,1242.0,2784.0,4830.0,22956.0', 'k': 6},\n",
       "   'NaturalBreaks': {'bins': '113.0,470.0,1242.0,2784.0,4830.0,22956.0',\n",
       "    'k': 6}},\n",
       "  'log': {'Quantiles': {'bins': '0.0,1.0986122886681098,1.9459101490553132,3.258096538021482,10.041378179875572',\n",
       "    'k': 6},\n",
       "   'FisherJenks': {'bins': '0.0,1.3862943611198906,2.5649493574615367,3.8501476017100584,5.501258210544727,10.041378179875572',\n",
       "    'k': 6},\n",
       "   'NaturalBreaks': {'bins': '0.0,1.3862943611198906,2.5649493574615367,3.8066624897703196,5.455321115357702,10.041378179875572',\n",
       "    'k': 6}}},\n",
       " 'case_per_100k_capita': {'nolog': {'Quantiles': {'bins': '187.47183415953137,345.4604339846702,551.7486873720744,887.401803898749,1505.6448923761632,16285.385981406038',\n",
       "    'k': 6},\n",
       "   'FisherJenks': {'bins': '528.1070296913507,1170.8482676224612,2032.7908524411641,3373.8125550876503,6768.166089965398,16285.385981406038',\n",
       "    'k': 6},\n",
       "   'NaturalBreaks': {'bins': '525.3310305123777,1168.7727885719994,2042.6314749213202,3402.2087638047738,6768.166089965398,16285.385981406038',\n",
       "    'k': 6}},\n",
       "  'log': {'Quantiles': {'bins': '5.2389485748193065,5.847768624475624,6.314903445012121,6.78942412252108,7.317640532091013,9.69808482194309',\n",
       "    'k': 6},\n",
       "   'FisherJenks': {'bins': '0.0,4.931863605718304,5.817947587438068,6.569509992872079,7.34314171207424,9.69808482194309',\n",
       "    'k': 6},\n",
       "   'NaturalBreaks': {'bins': '0.0,4.977706294780685,5.839687466216997,6.576159118814275,7.34314171207424,9.69808482194309',\n",
       "    'k': 6}}},\n",
       " 'death_per_100k_capita': {'nolog': {'Quantiles': {'bins': '0.0,7.189331032747403,16.162922256343958,38.307402168788315,398.3596953719977',\n",
       "    'k': 6},\n",
       "   'FisherJenks': {'bins': '11.508200871810152,34.13325902964021,68.90433106504479,120.652945351313,206.65426741062203,398.3596953719977',\n",
       "    'k': 6},\n",
       "   'NaturalBreaks': {'bins': '11.943150603129105,34.82886362916759,69.91451361744049,120.652945351313,206.65426741062203,398.3596953719977',\n",
       "    'k': 6}},\n",
       "  'log': {'Quantiles': {'bins': '0.0,1.0986122886681098,1.9459101490553132,3.258096538021482,10.041378179875572',\n",
       "    'k': 6},\n",
       "   'FisherJenks': {'bins': '0.0,1.3862943611198906,2.5649493574615367,3.8501476017100584,5.501258210544727,10.041378179875572',\n",
       "    'k': 6},\n",
       "   'NaturalBreaks': {'bins': '0.0,1.3862943611198906,2.5649493574615367,3.8066624897703196,5.455321115357702,10.041378179875572',\n",
       "    'k': 6}}}}"
      ]
     },
     "execution_count": 68,
     "metadata": {},
     "output_type": "execute_result"
    }
   ],
   "source": [
    "county_dict"
   ]
  },
  {
   "cell_type": "markdown",
   "metadata": {
    "pycharm": {
     "name": "#%% md\n"
    }
   },
   "source": [
    "1.2 Create Dynamic classes"
   ]
  },
  {
   "cell_type": "code",
   "execution_count": 69,
   "metadata": {
    "pycharm": {
     "is_executing": false,
     "name": "#%%\n"
    }
   },
   "outputs": [],
   "source": [
    "# case_ts = counties_gdf['cases_ts'].apply(lambda x: x.split(','))\n",
    "# death_ts = counties_gdf['deaths_ts'].apply(lambda x: x.split(','))"
   ]
  },
  {
   "cell_type": "code",
   "execution_count": 70,
   "metadata": {
    "pycharm": {
     "is_executing": false,
     "name": "#%%\n"
    }
   },
   "outputs": [],
   "source": [
    "# length = len(case_ts[1])"
   ]
  },
  {
   "cell_type": "code",
   "execution_count": 71,
   "metadata": {
    "pycharm": {
     "is_executing": false,
     "name": "#%%\n"
    }
   },
   "outputs": [],
   "source": [
    "# new_case_dict = {}\n",
    "# for i in range(1,length):\n",
    "#     q6 = mc.Quantiles(case_ts.apply(lambda x: int(float(x[i]) - float(x[i - 1]))).values, k=6)\n",
    "#     new_case_dict[i] = ','.join(q6.bins.astype(int).astype(str))"
   ]
  },
  {
   "cell_type": "code",
   "execution_count": 72,
   "metadata": {
    "pycharm": {
     "is_executing": false,
     "name": "#%%\n"
    }
   },
   "outputs": [],
   "source": [
    "# new_death_dict = {}\n",
    "# for i in range(1,length):\n",
    "#     d6 = mc.Quantiles(death_ts.apply(lambda x: int(float(x[i]) - float(x[i - 1]))).values, k=6)\n",
    "#     new_death_dict[i] = ','.join(d6.bins.astype(int).astype(str))"
   ]
  },
  {
   "cell_type": "code",
   "execution_count": 73,
   "metadata": {
    "pycharm": {
     "is_executing": false,
     "name": "#%%\n"
    }
   },
   "outputs": [],
   "source": [
    "# dynamic_county_dict['new_case'] = new_case_dict\n",
    "# dynamic_county_dict['new_death'] = new_death_dict\n"
   ]
  },
  {
   "cell_type": "markdown",
   "metadata": {
    "pycharm": {
     "name": "#%% md\n"
    }
   },
   "source": [
    "2.Read State Data"
   ]
  },
  {
   "cell_type": "code",
   "execution_count": 74,
   "metadata": {
    "pycharm": {
     "is_executing": false,
     "name": "#%%\n"
    }
   },
   "outputs": [],
   "source": [
    "state_gdf = gpd.read_file('nyt_states_data.geojson')"
   ]
  },
  {
   "cell_type": "code",
   "execution_count": 75,
   "metadata": {
    "pycharm": {
     "is_executing": false,
     "name": "#%%\n"
    }
   },
   "outputs": [
    {
     "data": {
      "text/html": [
       "<div>\n",
       "<style scoped>\n",
       "    .dataframe tbody tr th:only-of-type {\n",
       "        vertical-align: middle;\n",
       "    }\n",
       "\n",
       "    .dataframe tbody tr th {\n",
       "        vertical-align: top;\n",
       "    }\n",
       "\n",
       "    .dataframe thead th {\n",
       "        text-align: right;\n",
       "    }\n",
       "</style>\n",
       "<table border=\"1\" class=\"dataframe\">\n",
       "  <thead>\n",
       "    <tr style=\"text-align: right;\">\n",
       "      <th></th>\n",
       "      <th>NAME</th>\n",
       "      <th>population</th>\n",
       "      <th>fips</th>\n",
       "      <th>dt_first_case</th>\n",
       "      <th>dt_first_death</th>\n",
       "      <th>cases_ts</th>\n",
       "      <th>deaths_ts</th>\n",
       "      <th>today_case</th>\n",
       "      <th>today_new_case</th>\n",
       "      <th>today_death</th>\n",
       "      <th>today_new_death</th>\n",
       "      <th>start</th>\n",
       "      <th>end</th>\n",
       "      <th>dt_unit</th>\n",
       "      <th>geometry</th>\n",
       "    </tr>\n",
       "  </thead>\n",
       "  <tbody>\n",
       "    <tr>\n",
       "      <th>0</th>\n",
       "      <td>West Virginia</td>\n",
       "      <td>1829054</td>\n",
       "      <td>54</td>\n",
       "      <td>2020-03-17</td>\n",
       "      <td>2020-03-29</td>\n",
       "      <td>0,0,0,0,0,0,0,0,0,0,0,0,0,0,0,0,0,0,0,0,0,0,0,...</td>\n",
       "      <td>0,0,0,0,0,0,0,0,0,0,0,0,0,0,0,0,0,0,0,0,0,0,0,...</td>\n",
       "      <td>5960.0</td>\n",
       "      <td>139.0</td>\n",
       "      <td>103.0</td>\n",
       "      <td>0.0</td>\n",
       "      <td>2020-01-21</td>\n",
       "      <td>2020-07-26</td>\n",
       "      <td>day</td>\n",
       "      <td>POLYGON ((-80.51899 40.63880, -80.51934 39.721...</td>\n",
       "    </tr>\n",
       "    <tr>\n",
       "      <th>1</th>\n",
       "      <td>Florida</td>\n",
       "      <td>20598139</td>\n",
       "      <td>12</td>\n",
       "      <td>2020-03-01</td>\n",
       "      <td>2020-03-06</td>\n",
       "      <td>0,0,0,0,0,0,0,0,0,0,0,0,0,0,0,0,0,0,0,0,0,0,0,...</td>\n",
       "      <td>0,0,0,0,0,0,0,0,0,0,0,0,0,0,0,0,0,0,0,0,0,0,0,...</td>\n",
       "      <td>423847.0</td>\n",
       "      <td>9344.0</td>\n",
       "      <td>5853.0</td>\n",
       "      <td>77.0</td>\n",
       "      <td>2020-01-21</td>\n",
       "      <td>2020-07-26</td>\n",
       "      <td>day</td>\n",
       "      <td>MULTIPOLYGON (((-82.98748 24.62538, -82.89993 ...</td>\n",
       "    </tr>\n",
       "    <tr>\n",
       "      <th>2</th>\n",
       "      <td>Illinois</td>\n",
       "      <td>12821497</td>\n",
       "      <td>17</td>\n",
       "      <td>2020-01-24</td>\n",
       "      <td>2020-03-17</td>\n",
       "      <td>0,0,0,1,1,1,1,1,1,2,2,2,2,2,2,2,2,2,2,2,2,2,2,...</td>\n",
       "      <td>0,0,0,0,0,0,0,0,0,0,0,0,0,0,0,0,0,0,0,0,0,0,0,...</td>\n",
       "      <td>173079.0</td>\n",
       "      <td>1410.0</td>\n",
       "      <td>7595.0</td>\n",
       "      <td>2.0</td>\n",
       "      <td>2020-01-21</td>\n",
       "      <td>2020-07-26</td>\n",
       "      <td>day</td>\n",
       "      <td>POLYGON ((-90.64284 42.50848, -87.01994 42.493...</td>\n",
       "    </tr>\n",
       "    <tr>\n",
       "      <th>3</th>\n",
       "      <td>Minnesota</td>\n",
       "      <td>5527358</td>\n",
       "      <td>27</td>\n",
       "      <td>2020-03-06</td>\n",
       "      <td>2020-03-21</td>\n",
       "      <td>0,0,0,0,0,0,0,0,0,0,0,0,0,0,0,0,0,0,0,0,0,0,0,...</td>\n",
       "      <td>0,0,0,0,0,0,0,0,0,0,0,0,0,0,0,0,0,0,0,0,0,0,0,...</td>\n",
       "      <td>51193.0</td>\n",
       "      <td>862.0</td>\n",
       "      <td>1614.0</td>\n",
       "      <td>3.0</td>\n",
       "      <td>2020-01-21</td>\n",
       "      <td>2020-07-26</td>\n",
       "      <td>day</td>\n",
       "      <td>POLYGON ((-97.22872 49.00056, -95.15371 48.998...</td>\n",
       "    </tr>\n",
       "    <tr>\n",
       "      <th>4</th>\n",
       "      <td>Maryland</td>\n",
       "      <td>6003435</td>\n",
       "      <td>24</td>\n",
       "      <td>2020-03-05</td>\n",
       "      <td>2020-03-18</td>\n",
       "      <td>0,0,0,0,0,0,0,0,0,0,0,0,0,0,0,0,0,0,0,0,0,0,0,...</td>\n",
       "      <td>0,0,0,0,0,0,0,0,0,0,0,0,0,0,0,0,0,0,0,0,0,0,0,...</td>\n",
       "      <td>84306.0</td>\n",
       "      <td>689.0</td>\n",
       "      <td>3440.0</td>\n",
       "      <td>7.0</td>\n",
       "      <td>2020-01-21</td>\n",
       "      <td>2020-07-26</td>\n",
       "      <td>day</td>\n",
       "      <td>POLYGON ((-77.71952 39.32131, -77.76086 39.340...</td>\n",
       "    </tr>\n",
       "  </tbody>\n",
       "</table>\n",
       "</div>"
      ],
      "text/plain": [
       "            NAME  population fips dt_first_case dt_first_death  \\\n",
       "0  West Virginia     1829054   54    2020-03-17     2020-03-29   \n",
       "1        Florida    20598139   12    2020-03-01     2020-03-06   \n",
       "2       Illinois    12821497   17    2020-01-24     2020-03-17   \n",
       "3      Minnesota     5527358   27    2020-03-06     2020-03-21   \n",
       "4       Maryland     6003435   24    2020-03-05     2020-03-18   \n",
       "\n",
       "                                            cases_ts  \\\n",
       "0  0,0,0,0,0,0,0,0,0,0,0,0,0,0,0,0,0,0,0,0,0,0,0,...   \n",
       "1  0,0,0,0,0,0,0,0,0,0,0,0,0,0,0,0,0,0,0,0,0,0,0,...   \n",
       "2  0,0,0,1,1,1,1,1,1,2,2,2,2,2,2,2,2,2,2,2,2,2,2,...   \n",
       "3  0,0,0,0,0,0,0,0,0,0,0,0,0,0,0,0,0,0,0,0,0,0,0,...   \n",
       "4  0,0,0,0,0,0,0,0,0,0,0,0,0,0,0,0,0,0,0,0,0,0,0,...   \n",
       "\n",
       "                                           deaths_ts  today_case  \\\n",
       "0  0,0,0,0,0,0,0,0,0,0,0,0,0,0,0,0,0,0,0,0,0,0,0,...      5960.0   \n",
       "1  0,0,0,0,0,0,0,0,0,0,0,0,0,0,0,0,0,0,0,0,0,0,0,...    423847.0   \n",
       "2  0,0,0,0,0,0,0,0,0,0,0,0,0,0,0,0,0,0,0,0,0,0,0,...    173079.0   \n",
       "3  0,0,0,0,0,0,0,0,0,0,0,0,0,0,0,0,0,0,0,0,0,0,0,...     51193.0   \n",
       "4  0,0,0,0,0,0,0,0,0,0,0,0,0,0,0,0,0,0,0,0,0,0,0,...     84306.0   \n",
       "\n",
       "   today_new_case  today_death  today_new_death       start         end  \\\n",
       "0           139.0        103.0              0.0  2020-01-21  2020-07-26   \n",
       "1          9344.0       5853.0             77.0  2020-01-21  2020-07-26   \n",
       "2          1410.0       7595.0              2.0  2020-01-21  2020-07-26   \n",
       "3           862.0       1614.0              3.0  2020-01-21  2020-07-26   \n",
       "4           689.0       3440.0              7.0  2020-01-21  2020-07-26   \n",
       "\n",
       "  dt_unit                                           geometry  \n",
       "0     day  POLYGON ((-80.51899 40.63880, -80.51934 39.721...  \n",
       "1     day  MULTIPOLYGON (((-82.98748 24.62538, -82.89993 ...  \n",
       "2     day  POLYGON ((-90.64284 42.50848, -87.01994 42.493...  \n",
       "3     day  POLYGON ((-97.22872 49.00056, -95.15371 48.998...  \n",
       "4     day  POLYGON ((-77.71952 39.32131, -77.76086 39.340...  "
      ]
     },
     "execution_count": 75,
     "metadata": {},
     "output_type": "execute_result"
    }
   ],
   "source": [
    "state_gdf.head(5)"
   ]
  },
  {
   "cell_type": "code",
   "execution_count": 76,
   "metadata": {
    "pycharm": {
     "is_executing": false,
     "name": "#%%\n"
    }
   },
   "outputs": [
    {
     "data": {
      "text/plain": [
       "NAME                                                  Virgin Islands\n",
       "population                                                         0\n",
       "fips                                                              78\n",
       "dt_first_case                                             2020-03-14\n",
       "dt_first_death                                            2020-04-06\n",
       "cases_ts           0,0,0,0,0,0,0,0,0,0,0,0,0,0,0,0,0,0,0,0,0,0,0,...\n",
       "deaths_ts          0,0,0,0,0,0,0,0,0,0,0,0,0,0,0,0,0,0,0,0,0,0,0,...\n",
       "today_case                                                       361\n",
       "today_new_case                                                     9\n",
       "today_death                                                        7\n",
       "today_new_death                                                    0\n",
       "start                                                     2020-01-21\n",
       "end                                                       2020-07-26\n",
       "dt_unit                                                          day\n",
       "geometry           (POLYGON ((-64.95671400000001 17.678977, -64.9...\n",
       "Name: 34, dtype: object"
      ]
     },
     "execution_count": 76,
     "metadata": {},
     "output_type": "execute_result"
    }
   ],
   "source": [
    "state_gdf.iloc[34]"
   ]
  },
  {
   "cell_type": "code",
   "execution_count": 77,
   "metadata": {
    "pycharm": {
     "is_executing": false,
     "name": "#%%\n"
    }
   },
   "outputs": [],
   "source": [
    "state_case = state_gdf['today_case']\n",
    "state_death = state_gdf['today_death']\n",
    "state_case_per_100k_capita = state_gdf['today_case']/(state_gdf['population']/100000)\n",
    "state_death_per_100k_capita = state_gdf['today_death']/(state_gdf['population']/100000)\n",
    "#death_case_ratio = counties_gdf['today_death']/counties_gdf['today_case']\n",
    "#death_case_ratio = death_case_ratio.replace(np.nan, 0)"
   ]
  },
  {
   "cell_type": "code",
   "execution_count": 78,
   "metadata": {
    "pycharm": {
     "is_executing": false,
     "name": "#%%\n"
    }
   },
   "outputs": [],
   "source": [
    "state_death_per_100k_capita = state_death_per_100k_capita.replace(np.nan,0)\n",
    "state_death_per_100k_capita = state_death_per_100k_capita.replace(np.inf,0)\n",
    "state_case_per_100k_capita = state_case_per_100k_capita.replace(np.nan,0)\n",
    "state_case_per_100k_capita = state_case_per_100k_capita.replace(np.inf,0)"
   ]
  },
  {
   "cell_type": "code",
   "execution_count": 79,
   "metadata": {
    "pycharm": {
     "is_executing": false,
     "name": "#%%\n"
    }
   },
   "outputs": [],
   "source": [
    "state_log_case = state_case.apply(lambda x: np.log(x + 1))\n",
    "state_log_death = state_death.apply(lambda x: np.log(x + 1))\n",
    "state_log_case_per_100k_capita = state_case_per_100k_capita.apply(lambda x: np.log(x + 1))\n",
    "state_log_death_per_100k_capita =state_death_per_100k_capita.apply(lambda x: np.log(x + 1))"
   ]
  },
  {
   "cell_type": "code",
   "execution_count": 80,
   "metadata": {
    "pycharm": {
     "is_executing": false,
     "name": "#%%\n"
    }
   },
   "outputs": [],
   "source": [
    "state_dict['case'] = {}\n",
    "state_dict['death'] = {}\n",
    "state_dict['case_per_100k_capita'] = {}\n",
    "state_dict['death_per_100k_capita'] = {}"
   ]
  },
  {
   "cell_type": "code",
   "execution_count": 81,
   "metadata": {
    "pycharm": {
     "is_executing": false,
     "name": "#%%\n"
    }
   },
   "outputs": [],
   "source": [
    "state_dict['case']['nolog'] = create_dict(state_case)\n",
    "state_dict['case']['log'] = create_dict(state_log_case)\n",
    "state_dict['death']['nolog'] = create_dict(state_death)\n",
    "state_dict['death']['log'] = create_dict(state_log_death)\n",
    "state_dict['case_per_100k_capita']['nolog'] = create_dict(state_case_per_100k_capita)\n",
    "state_dict['case_per_100k_capita']['log'] = create_dict(state_log_case_per_100k_capita)\n",
    "state_dict['death_per_100k_capita']['nolog'] = create_dict(state_death_per_100k_capita)\n",
    "state_dict['death_per_100k_capita']['log'] = create_dict(state_log_death_per_100k_capita)"
   ]
  },
  {
   "cell_type": "code",
   "execution_count": 82,
   "metadata": {},
   "outputs": [
    {
     "data": {
      "text/plain": [
       "{'case': {'nolog': {'Quantiles': {'bins': '5880.000000000001,18262.000000000004,42919.0,79294.00000000001,112881.00000000001,459338.0',\n",
       "    'k': 6},\n",
       "   'FisherJenks': {'bins': '27682.0,63881.0,91330.0,115637.0,181283.0,459338.0',\n",
       "    'k': 6},\n",
       "   'NaturalBreaks': {'bins': '27682.0,63881.0,91330.0,115637.0,181283.0,459338.0',\n",
       "    'k': 6}},\n",
       "  'log': {'Quantiles': {'bins': '8.679482094459956,9.812632434192041,10.667093196744634,11.280930353932701,11.63409830430028,13.037543778531418',\n",
       "    'k': 6},\n",
       "   'FisherJenks': {'bins': '5.8916442118257715,8.246695943718557,9.855032332266724,11.06479291054266,12.107820141331725,13.037543778531418',\n",
       "    'k': 6},\n",
       "   'NaturalBreaks': {'bins': '5.8916442118257715,8.769817872052617,10.228573785361645,11.06479291054266,12.107820141331725,13.037543778531418',\n",
       "    'k': 6}}},\n",
       " 'death': {'nolog': {'Quantiles': {'bins': '103.00000000000003,401.00000000000006,901.0,1795.0,4413.0000000000055,32305.0',\n",
       "    'k': 6},\n",
       "   'FisherJenks': {'bins': '829.0,2078.0,5090.0,8529.0,15787.0,32305.0',\n",
       "    'k': 6},\n",
       "   'NaturalBreaks': {'bins': '829.0,2078.0,5090.0,8529.0,15787.0,32305.0',\n",
       "    'k': 6}},\n",
       "  'log': {'Quantiles': {'bins': '4.644390899141373,5.996452088619021,6.804614520062624,7.493317248862145,8.392536586816682,10.383008250473704',\n",
       "    'k': 6},\n",
       "   'FisherJenks': {'bins': '2.0794415416798357,4.04305126783455,5.676753802268282,6.910750787961936,8.23323750070527,10.383008250473704',\n",
       "    'k': 6},\n",
       "   'NaturalBreaks': {'bins': '2.0794415416798357,4.04305126783455,5.676753802268282,6.910750787961936,8.23323750070527,10.383008250473704',\n",
       "    'k': 6}}},\n",
       " 'case_per_100k_capita': {'nolog': {'Quantiles': {'bins': '419.76070931435476,798.4662098339082,971.31862143334,1352.1792026110784,1638.4226960658207,2332.637797740937',\n",
       "    'k': 6},\n",
       "   'FisherJenks': {'bins': '224.00824350336092,623.4398239360173,1111.5122024998168,1505.0105582441192,1750.0222500152238,2332.637797740937',\n",
       "    'k': 6},\n",
       "   'NaturalBreaks': {'bins': '224.00824350336092,623.4398239360173,1111.5122024998168,1505.0105582441192,1750.0222500152238,2332.637797740937',\n",
       "    'k': 6}},\n",
       "  'log': {'Quantiles': {'bins': '6.042064285662871,6.683944267258164,6.879683550574352,7.210212067745497,7.402099444252551,7.7551836156030625',\n",
       "    'k': 6},\n",
       "   'FisherJenks': {'bins': '0.0,5.416137039325988,6.1737939526807954,6.913838610184353,7.317219419121531,7.7551836156030625',\n",
       "    'k': 6},\n",
       "   'NaturalBreaks': {'bins': '0.0,5.416137039325988,6.1737939526807954,6.913838610184353,7.317219419121531,7.7551836156030625',\n",
       "    'k': 6}}},\n",
       " 'death_per_100k_capita': {'nolog': {'Quantiles': {'bins': '7.1289579496823,14.231350856021542,21.879990173197395,30.279483953723574,59.23645265447554,177.74460148764138',\n",
       "    'k': 6},\n",
       "   'FisherJenks': {'bins': '16.905016905016907,33.250840690793986,64.29332377804523,94.83149427745877,124.87202045388761,177.74460148764138',\n",
       "    'k': 6},\n",
       "   'NaturalBreaks': {'bins': '16.905016905016907,33.250840690793986,64.29332377804523,94.83149427745877,124.87202045388761,177.74460148764138',\n",
       "    'k': 6}},\n",
       "  'log': {'Quantiles': {'bins': '2.095432741873986,2.7233558600204395,3.130262737018384,3.4429624178979146,4.098277694879841,5.185957979650303',\n",
       "    'k': 6},\n",
       "   'FisherJenks': {'bins': '0.0,2.0954327418739855,2.957688379256863,3.533711110123606,4.45294773678847,5.185957979650303',\n",
       "    'k': 6},\n",
       "   'NaturalBreaks': {'bins': '0.0,2.0954327418739855,2.957688379256863,3.533711110123606,4.45294773678847,5.185957979650303',\n",
       "    'k': 6}}}}"
      ]
     },
     "execution_count": 82,
     "metadata": {},
     "output_type": "execute_result"
    }
   ],
   "source": [
    "state_dict"
   ]
  },
  {
   "cell_type": "markdown",
   "metadata": {},
   "source": [
    "4. Read DPH Illinois County Data"
   ]
  },
  {
   "cell_type": "code",
   "execution_count": 83,
   "metadata": {
    "pycharm": {
     "is_executing": false,
     "name": "#%%\n"
    }
   },
   "outputs": [],
   "source": [
    "dph_illinois_gdf = gpd.read_file('illinois/dph_county_data.geojson')"
   ]
  },
  {
   "cell_type": "code",
   "execution_count": 84,
   "metadata": {
    "pycharm": {
     "is_executing": false,
     "name": "#%%\n"
    }
   },
   "outputs": [
    {
     "data": {
      "text/html": [
       "<div>\n",
       "<style scoped>\n",
       "    .dataframe tbody tr th:only-of-type {\n",
       "        vertical-align: middle;\n",
       "    }\n",
       "\n",
       "    .dataframe tbody tr th {\n",
       "        vertical-align: top;\n",
       "    }\n",
       "\n",
       "    .dataframe thead th {\n",
       "        text-align: right;\n",
       "    }\n",
       "</style>\n",
       "<table border=\"1\" class=\"dataframe\">\n",
       "  <thead>\n",
       "    <tr style=\"text-align: right;\">\n",
       "      <th></th>\n",
       "      <th>id</th>\n",
       "      <th>NAME</th>\n",
       "      <th>cases_ts</th>\n",
       "      <th>dt_first_case</th>\n",
       "      <th>today_case</th>\n",
       "      <th>today_new_case</th>\n",
       "      <th>deaths_ts</th>\n",
       "      <th>dt_first_death</th>\n",
       "      <th>today_death</th>\n",
       "      <th>today_new_death</th>\n",
       "      <th>today_tested</th>\n",
       "      <th>today_new_tested</th>\n",
       "      <th>start</th>\n",
       "      <th>end</th>\n",
       "      <th>dt_unit</th>\n",
       "      <th>population</th>\n",
       "      <th>geometry</th>\n",
       "    </tr>\n",
       "  </thead>\n",
       "  <tbody>\n",
       "    <tr>\n",
       "      <th>0</th>\n",
       "      <td>Chicago</td>\n",
       "      <td>Chicago</td>\n",
       "      <td>0,0,0,0,0,519,519,782,915,1161,1364,1610,2026,...</td>\n",
       "      <td>2020-03-22</td>\n",
       "      <td>59403</td>\n",
       "      <td>268</td>\n",
       "      <td>0,0,0,0,0,4,4,5,5,9,9,12,16,16,21,39,41,57,76,...</td>\n",
       "      <td>2020-03-22</td>\n",
       "      <td>2756</td>\n",
       "      <td>9</td>\n",
       "      <td>622541</td>\n",
       "      <td>6757</td>\n",
       "      <td>2020-03-17</td>\n",
       "      <td>2020-07-27</td>\n",
       "      <td>day</td>\n",
       "      <td>2693976</td>\n",
       "      <td>MULTIPOLYGON (((-87.93514 42.00089, -87.93521 ...</td>\n",
       "    </tr>\n",
       "    <tr>\n",
       "      <th>1</th>\n",
       "      <td>McHenry</td>\n",
       "      <td>McHenry</td>\n",
       "      <td>2,4,6,8,11,12,12,14,19,27,45,47,52,52,63,69,81...</td>\n",
       "      <td>2020-03-17</td>\n",
       "      <td>2705</td>\n",
       "      <td>11</td>\n",
       "      <td>0,0,0,0,0,0,0,0,0,1,1,2,2,2,2,2,3,3,3,3,3,4,5,...</td>\n",
       "      <td>2020-03-26</td>\n",
       "      <td>111</td>\n",
       "      <td>0</td>\n",
       "      <td>37459</td>\n",
       "      <td>414</td>\n",
       "      <td>2020-03-17</td>\n",
       "      <td>2020-07-27</td>\n",
       "      <td>day</td>\n",
       "      <td>308570</td>\n",
       "      <td>POLYGON ((-88.70742 42.49352, -88.70741 42.493...</td>\n",
       "    </tr>\n",
       "    <tr>\n",
       "      <th>2</th>\n",
       "      <td>Boone</td>\n",
       "      <td>Boone</td>\n",
       "      <td>0,0,0,0,0,0,0,0,0,0,0,0,0,0,0,0,0,0,0,3,4,6,7,...</td>\n",
       "      <td>2020-04-05</td>\n",
       "      <td>695</td>\n",
       "      <td>-1</td>\n",
       "      <td>0,0,0,0,0,0,0,0,0,0,0,0,0,0,0,0,0,0,0,0,0,0,1,...</td>\n",
       "      <td>2020-04-08</td>\n",
       "      <td>23</td>\n",
       "      <td>0</td>\n",
       "      <td>7888</td>\n",
       "      <td>79</td>\n",
       "      <td>2020-03-17</td>\n",
       "      <td>2020-07-27</td>\n",
       "      <td>day</td>\n",
       "      <td>53577</td>\n",
       "      <td>POLYGON ((-88.70742 42.49352, -88.70750 42.493...</td>\n",
       "    </tr>\n",
       "    <tr>\n",
       "      <th>3</th>\n",
       "      <td>Ogle</td>\n",
       "      <td>Ogle</td>\n",
       "      <td>0,0,0,0,0,0,0,0,0,0,0,0,0,0,1,1,1,1,4,5,7,10,1...</td>\n",
       "      <td>2020-03-31</td>\n",
       "      <td>357</td>\n",
       "      <td>2</td>\n",
       "      <td>0,0,0,0,0,0,0,0,0,0,0,0,0,0,0,0,0,0,0,0,0,0,0,...</td>\n",
       "      <td>2020-04-15</td>\n",
       "      <td>5</td>\n",
       "      <td>0</td>\n",
       "      <td>6800</td>\n",
       "      <td>115</td>\n",
       "      <td>2020-03-17</td>\n",
       "      <td>2020-07-27</td>\n",
       "      <td>day</td>\n",
       "      <td>50923</td>\n",
       "      <td>POLYGON ((-89.68809 42.19950, -89.68807 42.184...</td>\n",
       "    </tr>\n",
       "    <tr>\n",
       "      <th>4</th>\n",
       "      <td>Will</td>\n",
       "      <td>Will</td>\n",
       "      <td>2,3,9,10,12,21,21,28,40,67,104,127,182,223,228...</td>\n",
       "      <td>2020-03-17</td>\n",
       "      <td>8148</td>\n",
       "      <td>47</td>\n",
       "      <td>0,0,0,1,1,1,1,1,2,3,3,4,4,5,8,9,8,10,11,12,19,...</td>\n",
       "      <td>2020-03-20</td>\n",
       "      <td>338</td>\n",
       "      <td>0</td>\n",
       "      <td>109642</td>\n",
       "      <td>1053</td>\n",
       "      <td>2020-03-17</td>\n",
       "      <td>2020-07-27</td>\n",
       "      <td>day</td>\n",
       "      <td>692310</td>\n",
       "      <td>POLYGON ((-88.26146 41.72439, -88.26103 41.708...</td>\n",
       "    </tr>\n",
       "  </tbody>\n",
       "</table>\n",
       "</div>"
      ],
      "text/plain": [
       "        id     NAME                                           cases_ts  \\\n",
       "0  Chicago  Chicago  0,0,0,0,0,519,519,782,915,1161,1364,1610,2026,...   \n",
       "1  McHenry  McHenry  2,4,6,8,11,12,12,14,19,27,45,47,52,52,63,69,81...   \n",
       "2    Boone    Boone  0,0,0,0,0,0,0,0,0,0,0,0,0,0,0,0,0,0,0,3,4,6,7,...   \n",
       "3     Ogle     Ogle  0,0,0,0,0,0,0,0,0,0,0,0,0,0,1,1,1,1,4,5,7,10,1...   \n",
       "4     Will     Will  2,3,9,10,12,21,21,28,40,67,104,127,182,223,228...   \n",
       "\n",
       "  dt_first_case  today_case  today_new_case  \\\n",
       "0    2020-03-22       59403             268   \n",
       "1    2020-03-17        2705              11   \n",
       "2    2020-04-05         695              -1   \n",
       "3    2020-03-31         357               2   \n",
       "4    2020-03-17        8148              47   \n",
       "\n",
       "                                           deaths_ts dt_first_death  \\\n",
       "0  0,0,0,0,0,4,4,5,5,9,9,12,16,16,21,39,41,57,76,...     2020-03-22   \n",
       "1  0,0,0,0,0,0,0,0,0,1,1,2,2,2,2,2,3,3,3,3,3,4,5,...     2020-03-26   \n",
       "2  0,0,0,0,0,0,0,0,0,0,0,0,0,0,0,0,0,0,0,0,0,0,1,...     2020-04-08   \n",
       "3  0,0,0,0,0,0,0,0,0,0,0,0,0,0,0,0,0,0,0,0,0,0,0,...     2020-04-15   \n",
       "4  0,0,0,1,1,1,1,1,2,3,3,4,4,5,8,9,8,10,11,12,19,...     2020-03-20   \n",
       "\n",
       "   today_death  today_new_death  today_tested  today_new_tested       start  \\\n",
       "0         2756                9        622541              6757  2020-03-17   \n",
       "1          111                0         37459               414  2020-03-17   \n",
       "2           23                0          7888                79  2020-03-17   \n",
       "3            5                0          6800               115  2020-03-17   \n",
       "4          338                0        109642              1053  2020-03-17   \n",
       "\n",
       "          end dt_unit  population  \\\n",
       "0  2020-07-27     day     2693976   \n",
       "1  2020-07-27     day      308570   \n",
       "2  2020-07-27     day       53577   \n",
       "3  2020-07-27     day       50923   \n",
       "4  2020-07-27     day      692310   \n",
       "\n",
       "                                            geometry  \n",
       "0  MULTIPOLYGON (((-87.93514 42.00089, -87.93521 ...  \n",
       "1  POLYGON ((-88.70742 42.49352, -88.70741 42.493...  \n",
       "2  POLYGON ((-88.70742 42.49352, -88.70750 42.493...  \n",
       "3  POLYGON ((-89.68809 42.19950, -89.68807 42.184...  \n",
       "4  POLYGON ((-88.26146 41.72439, -88.26103 41.708...  "
      ]
     },
     "execution_count": 84,
     "metadata": {},
     "output_type": "execute_result"
    }
   ],
   "source": [
    "dph_illinois_gdf.head(5)"
   ]
  },
  {
   "cell_type": "code",
   "execution_count": 85,
   "metadata": {},
   "outputs": [],
   "source": [
    "dph_illinois_gdf = dph_illinois_gdf[dph_illinois_gdf['id'] != 'Illinois']"
   ]
  },
  {
   "cell_type": "code",
   "execution_count": 86,
   "metadata": {
    "pycharm": {
     "is_executing": false,
     "name": "#%%\n"
    }
   },
   "outputs": [],
   "source": [
    "illinois_case = dph_illinois_gdf['today_case']\n",
    "illinois_death = dph_illinois_gdf['today_death']\n",
    "illinois_case_per_100k_capita = dph_illinois_gdf['today_case']/(dph_illinois_gdf['population']/100000)\n",
    "illinois_death_per_100k_capita = dph_illinois_gdf['today_death']/(dph_illinois_gdf['population']/100000)\n",
    "#death_case_ratio = counties_gdf['today_death']/counties_gdf['today_case']\n",
    "#death_case_ratio = death_case_ratio.replace(np.nan, 0)"
   ]
  },
  {
   "cell_type": "code",
   "execution_count": 87,
   "metadata": {
    "pycharm": {
     "is_executing": false,
     "name": "#%%\n"
    }
   },
   "outputs": [],
   "source": [
    "illinois_death_per_100k_capita = illinois_death_per_100k_capita.replace(np.nan,0)\n",
    "illinois_death_per_100k_capita = illinois_death_per_100k_capita.replace(np.inf,0)\n",
    "illinois_case_per_100k_capita = illinois_case_per_100k_capita.replace(np.nan,0)\n",
    "illinois_case_per_100k_capita = illinois_case_per_100k_capita.replace(np.inf,0)"
   ]
  },
  {
   "cell_type": "code",
   "execution_count": 88,
   "metadata": {
    "pycharm": {
     "is_executing": false,
     "name": "#%%\n"
    }
   },
   "outputs": [],
   "source": [
    "illinois_log_case = illinois_case.apply(lambda x: np.log(x + 1))\n",
    "illinois_log_death = illinois_death.apply(lambda x: np.log(x + 1))\n",
    "illinois_log_case_per_100k_capita = illinois_case_per_100k_capita.apply(lambda x: np.log(x + 1))\n",
    "illinois_log_death_per_100k_capita =illinois_death_per_100k_capita.apply(lambda x: np.log(x + 1))"
   ]
  },
  {
   "cell_type": "code",
   "execution_count": 89,
   "metadata": {
    "pycharm": {
     "is_executing": false,
     "name": "#%%\n"
    }
   },
   "outputs": [],
   "source": [
    "dph_illinois_dict['case'] = {}\n",
    "dph_illinois_dict['death'] = {}\n",
    "dph_illinois_dict['case_per_100k_capita'] = {}\n",
    "dph_illinois_dict['death_per_100k_capita'] = {}"
   ]
  },
  {
   "cell_type": "code",
   "execution_count": 90,
   "metadata": {
    "pycharm": {
     "is_executing": false,
     "name": "#%%\n"
    }
   },
   "outputs": [
    {
     "name": "stderr",
     "output_type": "stream",
     "text": [
      "C:\\Users\\lymin\\Anaconda3\\envs\\wherecovid19\\lib\\site-packages\\mapclassify\\classifiers.py:237: UserWarning: Warning: Not enough unique values in array to form k classes\n",
      "  \"Warning: Not enough unique values in array to form k classes\", UserWarning\n",
      "C:\\Users\\lymin\\Anaconda3\\envs\\wherecovid19\\lib\\site-packages\\mapclassify\\classifiers.py:239: UserWarning: Warning: setting k to 5\n",
      "  Warn(\"Warning: setting k to %d\" % k_q, UserWarning)\n",
      "C:\\Users\\lymin\\Anaconda3\\envs\\wherecovid19\\lib\\site-packages\\mapclassify\\classifiers.py:237: UserWarning: Warning: Not enough unique values in array to form k classes\n",
      "  \"Warning: Not enough unique values in array to form k classes\", UserWarning\n",
      "C:\\Users\\lymin\\Anaconda3\\envs\\wherecovid19\\lib\\site-packages\\mapclassify\\classifiers.py:239: UserWarning: Warning: setting k to 5\n",
      "  Warn(\"Warning: setting k to %d\" % k_q, UserWarning)\n",
      "C:\\Users\\lymin\\Anaconda3\\envs\\wherecovid19\\lib\\site-packages\\mapclassify\\classifiers.py:237: UserWarning: Warning: Not enough unique values in array to form k classes\n",
      "  \"Warning: Not enough unique values in array to form k classes\", UserWarning\n",
      "C:\\Users\\lymin\\Anaconda3\\envs\\wherecovid19\\lib\\site-packages\\mapclassify\\classifiers.py:239: UserWarning: Warning: setting k to 5\n",
      "  Warn(\"Warning: setting k to %d\" % k_q, UserWarning)\n",
      "C:\\Users\\lymin\\Anaconda3\\envs\\wherecovid19\\lib\\site-packages\\mapclassify\\classifiers.py:237: UserWarning: Warning: Not enough unique values in array to form k classes\n",
      "  \"Warning: Not enough unique values in array to form k classes\", UserWarning\n",
      "C:\\Users\\lymin\\Anaconda3\\envs\\wherecovid19\\lib\\site-packages\\mapclassify\\classifiers.py:239: UserWarning: Warning: setting k to 5\n",
      "  Warn(\"Warning: setting k to %d\" % k_q, UserWarning)\n"
     ]
    }
   ],
   "source": [
    "dph_illinois_dict['case']['nolog'] = create_dict(illinois_case)\n",
    "dph_illinois_dict['case']['log'] = create_dict(illinois_log_case)\n",
    "dph_illinois_dict['death']['nolog'] = create_dict(illinois_death)\n",
    "dph_illinois_dict['death']['log'] = create_dict(illinois_log_death)\n",
    "dph_illinois_dict['case_per_100k_capita']['nolog'] = create_dict(illinois_case_per_100k_capita)\n",
    "dph_illinois_dict['case_per_100k_capita']['log'] = create_dict(illinois_log_case_per_100k_capita)\n",
    "dph_illinois_dict['death_per_100k_capita']['nolog'] = create_dict(illinois_death_per_100k_capita)\n",
    "dph_illinois_dict['death_per_100k_capita']['log'] = create_dict(illinois_log_death_per_100k_capita)"
   ]
  },
  {
   "cell_type": "code",
   "execution_count": 91,
   "metadata": {},
   "outputs": [
    {
     "data": {
      "text/plain": [
       "{'case': {'nolog': {'Quantiles': {'bins': '24.000000000000004,40.00000000000002,89.0,223.00000000000006,695.0000000000013,59403.0',\n",
       "    'k': 6},\n",
       "   'FisherJenks': {'bins': '1036,3539,8782,11523,43605,59403', 'k': 6},\n",
       "   'NaturalBreaks': {'bins': '1036.0,3539.0,8782.0,11523.0,43605.0,59403.0',\n",
       "    'k': 6}},\n",
       "  'log': {'Quantiles': {'bins': '3.2188758248682006,3.713572066704309,4.499809670330265,5.4116460518550396,6.545349660334422,10.992116843150836',\n",
       "    'k': 6},\n",
       "   'FisherJenks': {'bins': '2.8903717578961645,4.0943445622221,5.198497031265826,6.54534966033442,8.17188200612782,10.992116843150836',\n",
       "    'k': 6},\n",
       "   'NaturalBreaks': {'bins': '2.8903717578961645,4.0943445622221,5.198497031265826,6.54534966033442,8.17188200612782,10.992116843150836',\n",
       "    'k': 6}}},\n",
       " 'death': {'nolog': {'Quantiles': {'bins': '0.0,1.0,5.000000000000014,21.000000000000014,2756.0',\n",
       "    'k': 6},\n",
       "   'FisherJenks': {'bins': '33,153,338,509,2086,2756', 'k': 6},\n",
       "   'NaturalBreaks': {'bins': '33.0,153.0,338.0,509.0,2086.0,2756.0', 'k': 6}},\n",
       "  'log': {'Quantiles': {'bins': '0.0,0.6931471805599453,1.7917594692280572,3.0910424533583165,7.921898411023797',\n",
       "    'k': 6},\n",
       "   'FisherJenks': {'bins': '0.0,1.0986122886681098,2.1972245773362196,3.5263605246161616,6.234410725718371,7.921898411023797',\n",
       "    'k': 6},\n",
       "   'NaturalBreaks': {'bins': '0.0,1.0986122886681098,2.1972245773362196,4.276666119016055,6.234410725718371,7.921898411023797',\n",
       "    'k': 6}}},\n",
       " 'case_per_100k_capita': {'nolog': {'Quantiles': {'bins': '166.1918328584996,242.4756766586852,360.0351440140576,492.8384413984293,876.6244288168009,2205.0307797842297',\n",
       "    'k': 6},\n",
       "   'FisherJenks': {'bins': '278.9505428226779,535.8420483780122,876.6244288168,1297.198424697165,1644.1886215241313,2205.0307797842297',\n",
       "    'k': 6},\n",
       "   'NaturalBreaks': {'bins': '278.9505428226779,535.8420483780122,876.6244288168,1297.198424697165,1644.1886215241313,2205.0307797842297',\n",
       "    'k': 6}},\n",
       "  'log': {'Quantiles': {'bins': '5.119141852917497,5.495017047014508,5.888975305433993,6.202208421994538,6.777218744508888,7.698950152474146',\n",
       "    'k': 6},\n",
       "   'FisherJenks': {'bins': '4.552479433165028,5.119141852917496,5.6899422066703185,6.28570391414339,6.922055388347113,7.698950152474146',\n",
       "    'k': 6},\n",
       "   'NaturalBreaks': {'bins': '4.552479433165028,5.119141852917496,5.6899422066703185,6.28570391414339,6.922055388347113,7.698950152474146',\n",
       "    'k': 6}}},\n",
       " 'death_per_100k_capita': {'nolog': {'Quantiles': {'bins': '0.0,5.604124635731899,13.97428731134712,35.97238876105911,124.69568315420699',\n",
       "    'k': 6},\n",
       "   'FisherJenks': {'bins': '2.9232927970065483,12.247022442668626,28.763527846690398,50.07511266900351,72.83321194464676,124.69568315420699',\n",
       "    'k': 6},\n",
       "   'NaturalBreaks': {'bins': '8.679149211933252,26.847058734558214,45.16591832939238,72.83321194464676,102.30232192120494,124.69568315420699',\n",
       "    'k': 6}},\n",
       "  'log': {'Quantiles': {'bins': '0.0,1.8876943986435575,2.7063345509722962,3.610171384360207,4.833863772557855',\n",
       "    'k': 6},\n",
       "   'FisherJenks': {'bins': '0.0,1.36693130043682,2.381280365570716,3.179936884521035,3.9332973466533527,4.833863772557855',\n",
       "    'k': 6},\n",
       "   'NaturalBreaks': {'bins': '0.0,1.36693130043682,2.381280365570716,3.179936884521035,3.9332973466533527,4.833863772557855',\n",
       "    'k': 6}}}}"
      ]
     },
     "execution_count": 91,
     "metadata": {},
     "output_type": "execute_result"
    }
   ],
   "source": [
    "dph_illinois_dict"
   ]
  },
  {
   "cell_type": "markdown",
   "metadata": {
    "pycharm": {
     "name": "#%% md\n"
    }
   },
   "source": [
    "6. Read DPH County Test (Static) and DPH Zipcode Case (Static)\n"
   ]
  },
  {
   "cell_type": "code",
   "execution_count": 92,
   "metadata": {
    "pycharm": {
     "is_executing": false,
     "name": "#%%\n"
    }
   },
   "outputs": [],
   "source": [
    "dph_illinois_test_gdf = gpd.read_file('illinois/dph_county_static_data.geojson')\n",
    "dph_zipcode_gdf = gpd.read_file('illinois/dph_zipcode_data.geojson')"
   ]
  },
  {
   "cell_type": "code",
   "execution_count": 93,
   "metadata": {},
   "outputs": [],
   "source": [
    "dph_illinois_test_gdf = dph_illinois_test_gdf[dph_illinois_test_gdf['NAME'] != 'Illinois']"
   ]
  },
  {
   "cell_type": "code",
   "execution_count": 94,
   "metadata": {
    "pycharm": {
     "is_executing": false,
     "name": "#%%\n"
    }
   },
   "outputs": [
    {
     "data": {
      "text/html": [
       "<div>\n",
       "<style scoped>\n",
       "    .dataframe tbody tr th:only-of-type {\n",
       "        vertical-align: middle;\n",
       "    }\n",
       "\n",
       "    .dataframe tbody tr th {\n",
       "        vertical-align: top;\n",
       "    }\n",
       "\n",
       "    .dataframe thead th {\n",
       "        text-align: right;\n",
       "    }\n",
       "</style>\n",
       "<table border=\"1\" class=\"dataframe\">\n",
       "  <thead>\n",
       "    <tr style=\"text-align: right;\">\n",
       "      <th></th>\n",
       "      <th>id</th>\n",
       "      <th>confirmed_cases</th>\n",
       "      <th>total_tested</th>\n",
       "      <th>geometry</th>\n",
       "    </tr>\n",
       "  </thead>\n",
       "  <tbody>\n",
       "    <tr>\n",
       "      <th>0</th>\n",
       "      <td>62359</td>\n",
       "      <td>0.0</td>\n",
       "      <td>0.0</td>\n",
       "      <td>POLYGON ((-91.18290 40.02688, -91.17656 40.020...</td>\n",
       "    </tr>\n",
       "    <tr>\n",
       "      <th>1</th>\n",
       "      <td>62376</td>\n",
       "      <td>14.0</td>\n",
       "      <td>67.0</td>\n",
       "      <td>POLYGON ((-91.35721 40.17576, -91.35600 40.151...</td>\n",
       "    </tr>\n",
       "    <tr>\n",
       "      <th>2</th>\n",
       "      <td>62312</td>\n",
       "      <td>0.0</td>\n",
       "      <td>0.0</td>\n",
       "      <td>POLYGON ((-90.97797 39.78881, -90.97787 39.772...</td>\n",
       "    </tr>\n",
       "    <tr>\n",
       "      <th>3</th>\n",
       "      <td>62365</td>\n",
       "      <td>0.0</td>\n",
       "      <td>0.0</td>\n",
       "      <td>POLYGON ((-91.16584 39.83701, -91.14703 39.837...</td>\n",
       "    </tr>\n",
       "    <tr>\n",
       "      <th>4</th>\n",
       "      <td>62246</td>\n",
       "      <td>28.0</td>\n",
       "      <td>1525.0</td>\n",
       "      <td>POLYGON ((-89.56254 38.91811, -89.56794 38.923...</td>\n",
       "    </tr>\n",
       "    <tr>\n",
       "      <th>...</th>\n",
       "      <td>...</td>\n",
       "      <td>...</td>\n",
       "      <td>...</td>\n",
       "      <td>...</td>\n",
       "    </tr>\n",
       "    <tr>\n",
       "      <th>1379</th>\n",
       "      <td>60484</td>\n",
       "      <td>149.0</td>\n",
       "      <td>1276.0</td>\n",
       "      <td>POLYGON ((-87.70969 41.45644, -87.70949 41.456...</td>\n",
       "    </tr>\n",
       "    <tr>\n",
       "      <th>1380</th>\n",
       "      <td>62948</td>\n",
       "      <td>51.0</td>\n",
       "      <td>2076.0</td>\n",
       "      <td>MULTIPOLYGON (((-89.02159 37.74516, -89.03561 ...</td>\n",
       "    </tr>\n",
       "    <tr>\n",
       "      <th>1381</th>\n",
       "      <td>62921</td>\n",
       "      <td>0.0</td>\n",
       "      <td>0.0</td>\n",
       "      <td>POLYGON ((-89.09155 37.79258, -89.08896 37.807...</td>\n",
       "    </tr>\n",
       "    <tr>\n",
       "      <th>1382</th>\n",
       "      <td>62915</td>\n",
       "      <td>0.0</td>\n",
       "      <td>0.0</td>\n",
       "      <td>POLYGON ((-89.11994 37.78039, -89.12263 37.781...</td>\n",
       "    </tr>\n",
       "    <tr>\n",
       "      <th>1383</th>\n",
       "      <td>61088</td>\n",
       "      <td>19.0</td>\n",
       "      <td>747.0</td>\n",
       "      <td>MULTIPOLYGON (((-89.18498 42.37764, -89.18512 ...</td>\n",
       "    </tr>\n",
       "  </tbody>\n",
       "</table>\n",
       "<p>1384 rows × 4 columns</p>\n",
       "</div>"
      ],
      "text/plain": [
       "         id  confirmed_cases  total_tested  \\\n",
       "0     62359              0.0           0.0   \n",
       "1     62376             14.0          67.0   \n",
       "2     62312              0.0           0.0   \n",
       "3     62365              0.0           0.0   \n",
       "4     62246             28.0        1525.0   \n",
       "...     ...              ...           ...   \n",
       "1379  60484            149.0        1276.0   \n",
       "1380  62948             51.0        2076.0   \n",
       "1381  62921              0.0           0.0   \n",
       "1382  62915              0.0           0.0   \n",
       "1383  61088             19.0         747.0   \n",
       "\n",
       "                                               geometry  \n",
       "0     POLYGON ((-91.18290 40.02688, -91.17656 40.020...  \n",
       "1     POLYGON ((-91.35721 40.17576, -91.35600 40.151...  \n",
       "2     POLYGON ((-90.97797 39.78881, -90.97787 39.772...  \n",
       "3     POLYGON ((-91.16584 39.83701, -91.14703 39.837...  \n",
       "4     POLYGON ((-89.56254 38.91811, -89.56794 38.923...  \n",
       "...                                                 ...  \n",
       "1379  POLYGON ((-87.70969 41.45644, -87.70949 41.456...  \n",
       "1380  MULTIPOLYGON (((-89.02159 37.74516, -89.03561 ...  \n",
       "1381  POLYGON ((-89.09155 37.79258, -89.08896 37.807...  \n",
       "1382  POLYGON ((-89.11994 37.78039, -89.12263 37.781...  \n",
       "1383  MULTIPOLYGON (((-89.18498 42.37764, -89.18512 ...  \n",
       "\n",
       "[1384 rows x 4 columns]"
      ]
     },
     "execution_count": 94,
     "metadata": {},
     "output_type": "execute_result"
    }
   ],
   "source": [
    "dph_zipcode_gdf"
   ]
  },
  {
   "cell_type": "code",
   "execution_count": 95,
   "metadata": {
    "pycharm": {
     "is_executing": false,
     "name": "#%%\n"
    }
   },
   "outputs": [],
   "source": [
    "dph_illinois_tested = dph_illinois_test_gdf['total_tested']\n",
    "dph_zipcode_tested = dph_zipcode_gdf['total_tested']\n",
    "dph_zipcode_case = dph_zipcode_gdf['confirmed_cases']"
   ]
  },
  {
   "cell_type": "code",
   "execution_count": 96,
   "metadata": {
    "pycharm": {
     "is_executing": false,
     "name": "#%%\n"
    }
   },
   "outputs": [],
   "source": [
    "dph_illinois_log_tested = dph_illinois_tested.apply(lambda x: np.log(x + 1))\n",
    "dph_zipcode_log_tested = dph_zipcode_tested.apply(lambda x: np.log(x + 1))\n",
    "dph_zipcode_log_case = dph_zipcode_case.apply(lambda x: np.log(x + 1))"
   ]
  },
  {
   "cell_type": "code",
   "execution_count": 97,
   "metadata": {
    "pycharm": {
     "is_executing": false,
     "name": "#%%\n"
    }
   },
   "outputs": [],
   "source": [
    "dph_illinois_dict['tested'] = {}\n",
    "dph_illinois_dict['zipcode_case'] = {}\n",
    "dph_illinois_dict['zipcode_tested'] = {}"
   ]
  },
  {
   "cell_type": "code",
   "execution_count": 98,
   "metadata": {
    "pycharm": {
     "is_executing": false,
     "name": "#%%\n"
    }
   },
   "outputs": [
    {
     "name": "stderr",
     "output_type": "stream",
     "text": [
      "C:\\Users\\lymin\\Anaconda3\\envs\\wherecovid19\\lib\\site-packages\\mapclassify\\classifiers.py:237: UserWarning: Warning: Not enough unique values in array to form k classes\n",
      "  \"Warning: Not enough unique values in array to form k classes\", UserWarning\n",
      "C:\\Users\\lymin\\Anaconda3\\envs\\wherecovid19\\lib\\site-packages\\mapclassify\\classifiers.py:239: UserWarning: Warning: setting k to 5\n",
      "  Warn(\"Warning: setting k to %d\" % k_q, UserWarning)\n",
      "C:\\Users\\lymin\\Anaconda3\\envs\\wherecovid19\\lib\\site-packages\\mapclassify\\classifiers.py:237: UserWarning: Warning: Not enough unique values in array to form k classes\n",
      "  \"Warning: Not enough unique values in array to form k classes\", UserWarning\n",
      "C:\\Users\\lymin\\Anaconda3\\envs\\wherecovid19\\lib\\site-packages\\mapclassify\\classifiers.py:239: UserWarning: Warning: setting k to 5\n",
      "  Warn(\"Warning: setting k to %d\" % k_q, UserWarning)\n",
      "C:\\Users\\lymin\\Anaconda3\\envs\\wherecovid19\\lib\\site-packages\\mapclassify\\classifiers.py:237: UserWarning: Warning: Not enough unique values in array to form k classes\n",
      "  \"Warning: Not enough unique values in array to form k classes\", UserWarning\n",
      "C:\\Users\\lymin\\Anaconda3\\envs\\wherecovid19\\lib\\site-packages\\mapclassify\\classifiers.py:239: UserWarning: Warning: setting k to 5\n",
      "  Warn(\"Warning: setting k to %d\" % k_q, UserWarning)\n",
      "C:\\Users\\lymin\\Anaconda3\\envs\\wherecovid19\\lib\\site-packages\\mapclassify\\classifiers.py:237: UserWarning: Warning: Not enough unique values in array to form k classes\n",
      "  \"Warning: Not enough unique values in array to form k classes\", UserWarning\n",
      "C:\\Users\\lymin\\Anaconda3\\envs\\wherecovid19\\lib\\site-packages\\mapclassify\\classifiers.py:239: UserWarning: Warning: setting k to 5\n",
      "  Warn(\"Warning: setting k to %d\" % k_q, UserWarning)\n"
     ]
    }
   ],
   "source": [
    "dph_illinois_dict['tested']['nolog'] = create_dict(dph_illinois_tested)\n",
    "dph_illinois_dict['tested']['log'] = create_dict(dph_illinois_log_tested)\n",
    "dph_illinois_dict['zipcode_case']['nolog'] = create_dict(dph_zipcode_case)\n",
    "dph_illinois_dict['zipcode_case']['log'] = create_dict(dph_zipcode_log_case)\n",
    "dph_illinois_dict['zipcode_tested']['nolog'] = create_dict(dph_zipcode_tested)\n",
    "dph_illinois_dict['zipcode_tested']['log'] = create_dict(dph_zipcode_log_tested)"
   ]
  },
  {
   "cell_type": "code",
   "execution_count": 99,
   "metadata": {},
   "outputs": [
    {
     "data": {
      "text/plain": [
       "{'case': {'nolog': {'Quantiles': {'bins': '24.000000000000004,40.00000000000002,89.0,223.00000000000006,695.0000000000013,59403.0',\n",
       "    'k': 6},\n",
       "   'FisherJenks': {'bins': '1036,3539,8782,11523,43605,59403', 'k': 6},\n",
       "   'NaturalBreaks': {'bins': '1036.0,3539.0,8782.0,11523.0,43605.0,59403.0',\n",
       "    'k': 6}},\n",
       "  'log': {'Quantiles': {'bins': '3.2188758248682006,3.713572066704309,4.499809670330265,5.4116460518550396,6.545349660334422,10.992116843150836',\n",
       "    'k': 6},\n",
       "   'FisherJenks': {'bins': '2.8903717578961645,4.0943445622221,5.198497031265826,6.54534966033442,8.17188200612782,10.992116843150836',\n",
       "    'k': 6},\n",
       "   'NaturalBreaks': {'bins': '2.8903717578961645,4.0943445622221,5.198497031265826,6.54534966033442,8.17188200612782,10.992116843150836',\n",
       "    'k': 6}}},\n",
       " 'death': {'nolog': {'Quantiles': {'bins': '0.0,1.0,5.000000000000014,21.000000000000014,2756.0',\n",
       "    'k': 6},\n",
       "   'FisherJenks': {'bins': '33,153,338,509,2086,2756', 'k': 6},\n",
       "   'NaturalBreaks': {'bins': '33.0,153.0,338.0,509.0,2086.0,2756.0', 'k': 6}},\n",
       "  'log': {'Quantiles': {'bins': '0.0,0.6931471805599453,1.7917594692280572,3.0910424533583165,7.921898411023797',\n",
       "    'k': 6},\n",
       "   'FisherJenks': {'bins': '0.0,1.0986122886681098,2.1972245773362196,3.5263605246161616,6.234410725718371,7.921898411023797',\n",
       "    'k': 6},\n",
       "   'NaturalBreaks': {'bins': '0.0,1.0986122886681098,2.1972245773362196,4.276666119016055,6.234410725718371,7.921898411023797',\n",
       "    'k': 6}}},\n",
       " 'case_per_100k_capita': {'nolog': {'Quantiles': {'bins': '166.1918328584996,242.4756766586852,360.0351440140576,492.8384413984293,876.6244288168009,2205.0307797842297',\n",
       "    'k': 6},\n",
       "   'FisherJenks': {'bins': '278.9505428226779,535.8420483780122,876.6244288168,1297.198424697165,1644.1886215241313,2205.0307797842297',\n",
       "    'k': 6},\n",
       "   'NaturalBreaks': {'bins': '278.9505428226779,535.8420483780122,876.6244288168,1297.198424697165,1644.1886215241313,2205.0307797842297',\n",
       "    'k': 6}},\n",
       "  'log': {'Quantiles': {'bins': '5.119141852917497,5.495017047014508,5.888975305433993,6.202208421994538,6.777218744508888,7.698950152474146',\n",
       "    'k': 6},\n",
       "   'FisherJenks': {'bins': '4.552479433165028,5.119141852917496,5.6899422066703185,6.28570391414339,6.922055388347113,7.698950152474146',\n",
       "    'k': 6},\n",
       "   'NaturalBreaks': {'bins': '4.552479433165028,5.119141852917496,5.6899422066703185,6.28570391414339,6.922055388347113,7.698950152474146',\n",
       "    'k': 6}}},\n",
       " 'death_per_100k_capita': {'nolog': {'Quantiles': {'bins': '0.0,5.604124635731899,13.97428731134712,35.97238876105911,124.69568315420699',\n",
       "    'k': 6},\n",
       "   'FisherJenks': {'bins': '2.9232927970065483,12.247022442668626,28.763527846690398,50.07511266900351,72.83321194464676,124.69568315420699',\n",
       "    'k': 6},\n",
       "   'NaturalBreaks': {'bins': '8.679149211933252,26.847058734558214,45.16591832939238,72.83321194464676,102.30232192120494,124.69568315420699',\n",
       "    'k': 6}},\n",
       "  'log': {'Quantiles': {'bins': '0.0,1.8876943986435575,2.7063345509722962,3.610171384360207,4.833863772557855',\n",
       "    'k': 6},\n",
       "   'FisherJenks': {'bins': '0.0,1.36693130043682,2.381280365570716,3.179936884521035,3.9332973466533527,4.833863772557855',\n",
       "    'k': 6},\n",
       "   'NaturalBreaks': {'bins': '0.0,1.36693130043682,2.381280365570716,3.179936884521035,3.9332973466533527,4.833863772557855',\n",
       "    'k': 6}}},\n",
       " 'tested': {'nolog': {'Quantiles': {'bins': '731.0000000000002,1149.0000000000002,2196.0,3611.333333333338,12083.666666666682,410036.0',\n",
       "    'k': 6},\n",
       "   'FisherJenks': {'bins': '5923,19969,40035,101365,341169,410036', 'k': 6},\n",
       "   'NaturalBreaks': {'bins': '5923.0,19969.0,40035.0,101365.0,341169.0,410036.0',\n",
       "    'k': 6}},\n",
       "  'log': {'Quantiles': {'bins': '6.592746671179294,7.047480017889484,7.69484807238461,8.190285296688135,9.399137920578,12.924002678511194',\n",
       "    'k': 6},\n",
       "   'FisherJenks': {'bins': '6.405228458030842,7.5443321080536885,8.68676717538769,10.06475570013225,11.526493008191766,12.924002678511194',\n",
       "    'k': 6},\n",
       "   'NaturalBreaks': {'bins': '6.405228458030842,7.5443321080536885,8.68676717538769,10.06475570013225,11.526493008191766,12.924002678511194',\n",
       "    'k': 6}}},\n",
       " 'zipcode_case': {'nolog': {'Quantiles': {'bins': '0.0,6.0,27.0,201.50000000000023,3824.0',\n",
       "    'k': 6},\n",
       "   'FisherJenks': {'bins': '102.0,324.0,677.0,1270.0,2175.0,3824.0', 'k': 6},\n",
       "   'NaturalBreaks': {'bins': '102.0,324.0,677.0,1270.0,2175.0,3824.0',\n",
       "    'k': 6}},\n",
       "  'log': {'Quantiles': {'bins': '0.0,1.9459101490553132,3.332204510175204,5.310736838221497,8.249313746260636',\n",
       "    'k': 6},\n",
       "   'FisherJenks': {'bins': '0.0,2.772588722239781,3.9889840465642745,5.159055299214529,6.349138991379798,8.249313746260636',\n",
       "    'k': 6},\n",
       "   'NaturalBreaks': {'bins': '0.0,2.772588722239781,3.9889840465642745,5.159055299214529,6.369900982828227,8.249313746260636',\n",
       "    'k': 6}}},\n",
       " 'zipcode_tested': {'nolog': {'Quantiles': {'bins': '0.0,99.0,816.0000000000009,3430.000000000004,21848.0',\n",
       "    'k': 6},\n",
       "   'FisherJenks': {'bins': '792.0,2538.0,4679.0,7419.0,12611.0,21848.0',\n",
       "    'k': 6},\n",
       "   'NaturalBreaks': {'bins': '755.0,2469.0,4629.0,7419.0,12611.0,21848.0',\n",
       "    'k': 6}},\n",
       "  'log': {'Quantiles': {'bins': '0.0,4.605170185988092,6.705639094860005,8.140603602409794,9.991910432886025',\n",
       "    'k': 6},\n",
       "   'FisherJenks': {'bins': '0.0,5.375278407684165,6.461468176353717,7.529943370601589,8.528330935826693,9.991910432886025',\n",
       "    'k': 6},\n",
       "   'NaturalBreaks': {'bins': '0.0,5.402677381872279,6.55250788703459,7.716015266642587,8.720786883485731,9.991910432886025',\n",
       "    'k': 6}}}}"
      ]
     },
     "execution_count": 99,
     "metadata": {},
     "output_type": "execute_result"
    }
   ],
   "source": [
    "dph_illinois_dict"
   ]
  },
  {
   "cell_type": "markdown",
   "metadata": {},
   "source": [
    "7. Read Worldwide Data"
   ]
  },
  {
   "cell_type": "code",
   "execution_count": 100,
   "metadata": {},
   "outputs": [],
   "source": [
    "who_world_gdf = gpd.read_file('worldwide/who_world_data.geojson')"
   ]
  },
  {
   "cell_type": "code",
   "execution_count": 101,
   "metadata": {},
   "outputs": [],
   "source": [
    "who_world_case = who_world_gdf['today_case']\n",
    "who_world_death = who_world_gdf['today_death']\n",
    "who_world_case_per_100k_capita = who_world_gdf['today_case']/(who_world_gdf['population']/100000)\n",
    "who_world_death_per_100k_capita = who_world_gdf['today_death']/(who_world_gdf['population']/100000)"
   ]
  },
  {
   "cell_type": "code",
   "execution_count": 102,
   "metadata": {},
   "outputs": [],
   "source": [
    "who_world_log_case = who_world_case.apply(lambda x: np.log(x + 1))\n",
    "who_world_log_death = who_world_death.apply(lambda x: np.log(x + 1))\n",
    "who_world_log_case_per_100k_capita = who_world_case_per_100k_capita.apply(lambda x: np.log(x + 1))\n",
    "who_world_log_death_per_100k_capita = who_world_death_per_100k_capita.apply(lambda x: np.log(x + 1))"
   ]
  },
  {
   "cell_type": "code",
   "execution_count": 103,
   "metadata": {},
   "outputs": [],
   "source": [
    "who_world_dict['case'] = {}\n",
    "who_world_dict['death'] = {}\n",
    "who_world_dict['case_per_100k_capita'] = {}\n",
    "who_world_dict['death_per_100k_capita'] = {}"
   ]
  },
  {
   "cell_type": "code",
   "execution_count": 104,
   "metadata": {},
   "outputs": [],
   "source": [
    "who_world_dict['case']['nolog'] = create_dict(who_world_case)\n",
    "who_world_dict['case']['log'] = create_dict(who_world_log_case)\n",
    "who_world_dict['death']['nolog'] = create_dict(who_world_death)\n",
    "who_world_dict['death']['log'] = create_dict(who_world_log_death)\n",
    "who_world_dict['case_per_100k_capita']['nolog'] = create_dict(who_world_case_per_100k_capita)\n",
    "who_world_dict['case_per_100k_capita']['log'] = create_dict(who_world_log_case_per_100k_capita)\n",
    "who_world_dict['death_per_100k_capita']['nolog'] = create_dict(who_world_death_per_100k_capita)\n",
    "who_world_dict['death_per_100k_capita']['log'] = create_dict(who_world_log_death_per_100k_capita)"
   ]
  },
  {
   "cell_type": "code",
   "execution_count": 105,
   "metadata": {},
   "outputs": [
    {
     "data": {
      "text/plain": [
       "{'case': {'nolog': {'Quantiles': {'bins': '19.66666666666667,352.6666666666667,2058.0,9423.666666666672,50798.50000000012,4148011.0',\n",
       "    'k': 6},\n",
       "   'FisherJenks': {'bins': '113556.0,445433.0,818120.0,1435453.0,2394513.0,4148011.0',\n",
       "    'k': 6},\n",
       "   'NaturalBreaks': {'bins': '113556.0,445433.0,818120.0,1435453.0,2394513.0,4148011.0',\n",
       "    'k': 6}},\n",
       "  'log': {'Quantiles': {'bins': '3.0278418612972597,5.868340600805565,7.629907769568833,9.15090090956101,10.835466980983195,15.238139741287833',\n",
       "    'k': 6},\n",
       "   'FisherJenks': {'bins': '1.6094379124341003,4.770684624465665,7.106606137727303,9.343559215762406,11.640060192485223,15.238139741287833',\n",
       "    'k': 6},\n",
       "   'NaturalBreaks': {'bins': '1.6094379124341003,4.770684624465665,7.106606137727303,9.343559215762406,11.640060192485223,15.238139741287833',\n",
       "    'k': 6}}},\n",
       " 'death': {'nolog': {'Quantiles': {'bins': '0.0,8.666666666666671,41.5,155.33333333333334,1174.0000000000055,145727.0',\n",
       "    'k': 6},\n",
       "   'FisherJenks': {'bins': '2928.0,18030.0,35107.0,45752.0,86449.0,145727.0',\n",
       "    'k': 6},\n",
       "   'NaturalBreaks': {'bins': '2928.0,18030.0,35107.0,45752.0,86449.0,145727.0',\n",
       "    'k': 6}},\n",
       "  'log': {'Quantiles': {'bins': '0.0,2.2674649211081044,3.7494348669884654,5.051985939949128,7.06839623760238,11.889497149423411',\n",
       "    'k': 6},\n",
       "   'FisherJenks': {'bins': '1.0986122886681098,3.332204510175204,5.123963979403259,7.171656822768514,9.19238004659919,11.889497149423411',\n",
       "    'k': 6},\n",
       "   'NaturalBreaks': {'bins': '1.0986122886681098,3.295836866004329,5.123963979403259,7.171656822768514,9.19238004659919,11.889497149423411',\n",
       "    'k': 6}}},\n",
       " 'case_per_100k_capita': {'nolog': {'Quantiles': {'bins': '3.6949841314935252,24.272003504934798,64.92375979109119,222.45826498826784,457.83193134679414,3859.548520568193',\n",
       "    'k': 6},\n",
       "   'FisherJenks': {'bins': '153.32544343014797,419.50412321456173,883.1137135362086,1527.7429926435975,2522.265911225322,3859.548520568193',\n",
       "    'k': 6},\n",
       "   'NaturalBreaks': {'bins': '153.32544343014797,419.50412321456173,883.1137135362086,1527.7429926435975,2522.265911225322,3859.548520568193',\n",
       "    'k': 6}},\n",
       "  'log': {'Quantiles': {'bins': '1.544948510220058,3.2295945702754523,4.188496765121007,5.409135272927397,6.128683893693957,8.258564556137236',\n",
       "    'k': 6},\n",
       "   'FisherJenks': {'bins': '1.049414228891865,2.7367914543133054,3.871637404234213,5.160810218783175,6.434386987933958,8.258564556137236',\n",
       "    'k': 6},\n",
       "   'NaturalBreaks': {'bins': '1.049414228891865,2.7367914543133054,3.871637404234213,5.160810218783175,6.434386987933958,8.258564556137236',\n",
       "    'k': 6}}},\n",
       " 'death_per_100k_capita': {'nolog': {'Quantiles': {'bins': '0.0,0.3383519007572868,1.2984411699740086,3.503947806481934,10.607386737692957,124.04016538688718',\n",
       "    'k': 6},\n",
       "   'FisherJenks': {'bins': '4.160299014757388,11.559426192064757,24.03869723108694,48.07926197699688,85.51857336106454,124.04016538688718',\n",
       "    'k': 6},\n",
       "   'NaturalBreaks': {'bins': '3.9842753931151718,11.559426192064757,24.03869723108694,48.07926197699688,85.51857336106454,124.04016538688718',\n",
       "    'k': 6}},\n",
       "  'log': {'Quantiles': {'bins': '0.0,0.29143854831559113,0.8319439668842378,1.5049508102036424,2.4515467282774392,4.828635008784189',\n",
       "    'k': 6},\n",
       "   'FisherJenks': {'bins': '0.23175364575519275,0.8559106762335634,1.6865362540668891,2.5304714746512826,3.488702993032088,4.828635008784189',\n",
       "    'k': 6},\n",
       "   'NaturalBreaks': {'bins': '0.23175364575519275,0.8559106762335634,1.6865362540668891,2.5304714746512826,3.6329749814640975,4.828635008784189',\n",
       "    'k': 6}}}}"
      ]
     },
     "execution_count": 105,
     "metadata": {},
     "output_type": "execute_result"
    }
   ],
   "source": [
    "who_world_dict"
   ]
  },
  {
   "cell_type": "markdown",
   "metadata": {},
   "source": [
    "8. Read Vulnerability Data"
   ]
  },
  {
   "cell_type": "code",
   "execution_count": 106,
   "metadata": {},
   "outputs": [],
   "source": [
    "vul_gdf = gpd.read_file('illinois/vulnerability.geojson')"
   ]
  },
  {
   "cell_type": "code",
   "execution_count": 107,
   "metadata": {},
   "outputs": [],
   "source": [
    "vul = vul_gdf['today_vul']"
   ]
  },
  {
   "cell_type": "code",
   "execution_count": 108,
   "metadata": {},
   "outputs": [],
   "source": [
    "vul_dict['case'] = {}"
   ]
  },
  {
   "cell_type": "code",
   "execution_count": 109,
   "metadata": {},
   "outputs": [],
   "source": [
    "vul_dict['case']['nolog'] = create_dict(vul)"
   ]
  },
  {
   "cell_type": "code",
   "execution_count": 110,
   "metadata": {},
   "outputs": [
    {
     "data": {
      "text/plain": [
       "{'case': {'nolog': {'Quantiles': {'bins': '0.301626428795648,0.361743677903681,0.413707897970003,0.47796585845880707,0.555796569751306,0.727610415817312',\n",
       "    'k': 6},\n",
       "   'FisherJenks': {'bins': '0.297490651509354,0.368509735940551,0.435355563565906,0.50497630517987,0.573608374343471,0.727610415817312',\n",
       "    'k': 6},\n",
       "   'NaturalBreaks': {'bins': '0.298830546625151,0.369839433441272,0.436915429187275,0.506203055654245,0.574575732708325,0.727610415817312',\n",
       "    'k': 6}}}}"
      ]
     },
     "execution_count": 110,
     "metadata": {},
     "output_type": "execute_result"
    }
   ],
   "source": [
    "vul_dict"
   ]
  },
  {
   "cell_type": "markdown",
   "metadata": {
    "pycharm": {
     "name": "#%% md\n"
    }
   },
   "source": [
    "Summary and ouput\n"
   ]
  },
  {
   "cell_type": "code",
   "execution_count": 111,
   "metadata": {
    "pycharm": {
     "is_executing": false,
     "name": "#%%\n"
    }
   },
   "outputs": [
    {
     "name": "stdout",
     "output_type": "stream",
     "text": [
      "done\n"
     ]
    }
   ],
   "source": [
    "import json\n",
    "total_dict['county'] = county_dict\n",
    "total_dict['state'] = state_dict\n",
    "total_dict['dph_illinois'] = dph_illinois_dict\n",
    "total_dict['who_world'] = who_world_dict\n",
    "total_dict['vulnerability'] = vul_dict\n",
    "# dynamic_dict['county'] = dynamic_county_dict\n",
    "# dynamic_dict['state'] = dynamic_state_dict\n",
    "# dynamic_dict['illinois'] = dynamic_illinois_dict\n",
    "with open('classes.json','w') as json_file:\n",
    "    json.dump(total_dict, json_file)\n",
    "# with open('dynamic_classes.json','w') as json_file:\n",
    "#     json.dump(dynamic_dict, json_file)\n",
    "print('done')"
   ]
  }
 ],
 "metadata": {
  "kernelspec": {
   "display_name": "Python 3",
   "language": "python",
   "name": "python3"
  },
  "language_info": {
   "codemirror_mode": {
    "name": "ipython",
    "version": 3
   },
   "file_extension": ".py",
   "mimetype": "text/x-python",
   "name": "python",
   "nbconvert_exporter": "python",
   "pygments_lexer": "ipython3",
   "version": "3.7.7"
  },
  "pycharm": {
   "stem_cell": {
    "cell_type": "raw",
    "metadata": {
     "collapsed": false
    },
    "source": []
   }
  }
 },
 "nbformat": 4,
 "nbformat_minor": 1
}
