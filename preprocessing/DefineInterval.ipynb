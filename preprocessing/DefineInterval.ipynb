{
 "cells": [
  {
   "cell_type": "markdown",
   "metadata": {},
   "source": [
    "# Generate Color Bins For Each Layer"
   ]
  },
  {
   "cell_type": "markdown",
   "metadata": {},
   "source": [
    "### 0. Import libraries and create empty dictionaries"
   ]
  },
  {
   "cell_type": "code",
   "execution_count": 1,
   "metadata": {
    "pycharm": {
     "is_executing": false
    }
   },
   "outputs": [],
   "source": [
    "import geopandas as gpd\n",
    "import numpy as np\n",
    "import mapclassify as mc\n",
    "import matplotlib.pyplot as plt"
   ]
  },
  {
   "cell_type": "code",
   "execution_count": 2,
   "metadata": {
    "pycharm": {
     "is_executing": false,
     "name": "#%%\n"
    }
   },
   "outputs": [],
   "source": [
    "total_dict = {}\n",
    "county_dict = {}\n",
    "state_dict = {}\n",
    "dph_illinois_dict = {}\n",
    "who_world_dict = {}\n",
    "vul_dict = {}"
   ]
  },
  {
   "cell_type": "code",
   "execution_count": 3,
   "metadata": {
    "pycharm": {
     "is_executing": false,
     "name": "#%%\n"
    }
   },
   "outputs": [],
   "source": [
    "dynamic_dict = {}\n",
    "dynamic_county_dict = {}\n",
    "dynamic_state_dict = {}\n",
    "dynamic_illinois_dict = {}"
   ]
  },
  {
   "cell_type": "markdown",
   "metadata": {
    "pycharm": {
     "name": "#%% md\n"
    }
   },
   "source": [
    "### 1. For US County-level Data"
   ]
  },
  {
   "cell_type": "markdown",
   "metadata": {},
   "source": [
    "#### 1.0 Load Data"
   ]
  },
  {
   "cell_type": "code",
   "execution_count": 61,
   "metadata": {
    "pycharm": {
     "is_executing": false,
     "name": "#%%\n"
    }
   },
   "outputs": [],
   "source": [
    "counties_gdf = gpd.read_file('nyt_counties_data.geojson')"
   ]
  },
  {
   "cell_type": "code",
   "execution_count": 62,
   "metadata": {
    "pycharm": {
     "is_executing": false,
     "name": "#%%\n"
    }
   },
   "outputs": [
    {
     "data": {
      "text/html": [
       "<div>\n",
       "<style scoped>\n",
       "    .dataframe tbody tr th:only-of-type {\n",
       "        vertical-align: middle;\n",
       "    }\n",
       "\n",
       "    .dataframe tbody tr th {\n",
       "        vertical-align: top;\n",
       "    }\n",
       "\n",
       "    .dataframe thead th {\n",
       "        text-align: right;\n",
       "    }\n",
       "</style>\n",
       "<table border=\"1\" class=\"dataframe\">\n",
       "  <thead>\n",
       "    <tr style=\"text-align: right;\">\n",
       "      <th></th>\n",
       "      <th>NAME</th>\n",
       "      <th>state_name</th>\n",
       "      <th>population</th>\n",
       "      <th>fips</th>\n",
       "      <th>dt_first_case</th>\n",
       "      <th>dt_first_death</th>\n",
       "      <th>cases_ts</th>\n",
       "      <th>deaths_ts</th>\n",
       "      <th>today_case</th>\n",
       "      <th>today_new_case</th>\n",
       "      <th>today_death</th>\n",
       "      <th>today_new_death</th>\n",
       "      <th>start</th>\n",
       "      <th>end</th>\n",
       "      <th>dt_unit</th>\n",
       "      <th>geometry</th>\n",
       "    </tr>\n",
       "  </thead>\n",
       "  <tbody>\n",
       "    <tr>\n",
       "      <th>0</th>\n",
       "      <td>Bladen</td>\n",
       "      <td>North Carolina</td>\n",
       "      <td>33778</td>\n",
       "      <td>37017</td>\n",
       "      <td>2020-04-03</td>\n",
       "      <td>2020-05-06</td>\n",
       "      <td>0,0,0,0,0,0,0,0,0,0,0,0,0,0,0,0,0,0,0,0,0,0,0,...</td>\n",
       "      <td>0.0,0.0,0.0,0.0,0.0,0.0,0.0,0.0,0.0,0.0,0.0,0....</td>\n",
       "      <td>528.0</td>\n",
       "      <td>5.0</td>\n",
       "      <td>5.0</td>\n",
       "      <td>0.0</td>\n",
       "      <td>2020-01-21</td>\n",
       "      <td>2020-07-26</td>\n",
       "      <td>day</td>\n",
       "      <td>MULTIPOLYGON (((-78.90200 34.83527, -78.79960 ...</td>\n",
       "    </tr>\n",
       "    <tr>\n",
       "      <th>1</th>\n",
       "      <td>Stanly</td>\n",
       "      <td>North Carolina</td>\n",
       "      <td>61114</td>\n",
       "      <td>37167</td>\n",
       "      <td>2020-03-20</td>\n",
       "      <td>2020-04-09</td>\n",
       "      <td>0.0,0.0,0.0,0.0,0.0,0.0,0.0,0.0,0.0,0.0,0.0,0....</td>\n",
       "      <td>0.0,0.0,0.0,0.0,0.0,0.0,0.0,0.0,0.0,0.0,0.0,0....</td>\n",
       "      <td>778.0</td>\n",
       "      <td>14.0</td>\n",
       "      <td>6.0</td>\n",
       "      <td>0.0</td>\n",
       "      <td>2020-01-21</td>\n",
       "      <td>2020-07-26</td>\n",
       "      <td>day</td>\n",
       "      <td>MULTIPOLYGON (((-80.49738 35.20210, -80.29542 ...</td>\n",
       "    </tr>\n",
       "    <tr>\n",
       "      <th>2</th>\n",
       "      <td>Summit</td>\n",
       "      <td>Ohio</td>\n",
       "      <td>541810</td>\n",
       "      <td>39153</td>\n",
       "      <td>2020-03-14</td>\n",
       "      <td>2020-03-27</td>\n",
       "      <td>0.0,0.0,0.0,0.0,0.0,0.0,0.0,0.0,0.0,0.0,0.0,0....</td>\n",
       "      <td>0.0,0.0,0.0,0.0,0.0,0.0,0.0,0.0,0.0,0.0,0.0,0....</td>\n",
       "      <td>2914.0</td>\n",
       "      <td>35.0</td>\n",
       "      <td>212.0</td>\n",
       "      <td>0.0</td>\n",
       "      <td>2020-01-21</td>\n",
       "      <td>2020-07-26</td>\n",
       "      <td>day</td>\n",
       "      <td>MULTIPOLYGON (((-81.68699 41.13596, -81.68495 ...</td>\n",
       "    </tr>\n",
       "    <tr>\n",
       "      <th>3</th>\n",
       "      <td>Sullivan</td>\n",
       "      <td>Pennsylvania</td>\n",
       "      <td>6177</td>\n",
       "      <td>42113</td>\n",
       "      <td>2020-04-04</td>\n",
       "      <td>None</td>\n",
       "      <td>0.0,0.0,0.0,0.0,0.0,0.0,0.0,0.0,0.0,0.0,0.0,0....</td>\n",
       "      <td>0.0,0.0,0.0,0.0,0.0,0.0,0.0,0.0,0.0,0.0,0.0,0....</td>\n",
       "      <td>10.0</td>\n",
       "      <td>0.0</td>\n",
       "      <td>0.0</td>\n",
       "      <td>0.0</td>\n",
       "      <td>2020-01-21</td>\n",
       "      <td>2020-07-26</td>\n",
       "      <td>day</td>\n",
       "      <td>MULTIPOLYGON (((-76.81373 41.59003, -76.22014 ...</td>\n",
       "    </tr>\n",
       "    <tr>\n",
       "      <th>4</th>\n",
       "      <td>Upshur</td>\n",
       "      <td>Texas</td>\n",
       "      <td>40769</td>\n",
       "      <td>48459</td>\n",
       "      <td>2020-03-20</td>\n",
       "      <td>2020-07-25</td>\n",
       "      <td>0.0,0.0,0.0,0.0,0.0,0.0,0.0,0.0,0.0,0.0,0.0,0....</td>\n",
       "      <td>0.0,0.0,0.0,0.0,0.0,0.0,0.0,0.0,0.0,0.0,0.0,0....</td>\n",
       "      <td>161.0</td>\n",
       "      <td>3.0</td>\n",
       "      <td>1.0</td>\n",
       "      <td>0.0</td>\n",
       "      <td>2020-01-21</td>\n",
       "      <td>2020-07-26</td>\n",
       "      <td>day</td>\n",
       "      <td>MULTIPOLYGON (((-95.15274 32.66095, -95.15211 ...</td>\n",
       "    </tr>\n",
       "  </tbody>\n",
       "</table>\n",
       "</div>"
      ],
      "text/plain": [
       "       NAME      state_name  population   fips dt_first_case dt_first_death  \\\n",
       "0    Bladen  North Carolina       33778  37017    2020-04-03     2020-05-06   \n",
       "1    Stanly  North Carolina       61114  37167    2020-03-20     2020-04-09   \n",
       "2    Summit            Ohio      541810  39153    2020-03-14     2020-03-27   \n",
       "3  Sullivan    Pennsylvania        6177  42113    2020-04-04           None   \n",
       "4    Upshur           Texas       40769  48459    2020-03-20     2020-07-25   \n",
       "\n",
       "                                            cases_ts  \\\n",
       "0  0,0,0,0,0,0,0,0,0,0,0,0,0,0,0,0,0,0,0,0,0,0,0,...   \n",
       "1  0.0,0.0,0.0,0.0,0.0,0.0,0.0,0.0,0.0,0.0,0.0,0....   \n",
       "2  0.0,0.0,0.0,0.0,0.0,0.0,0.0,0.0,0.0,0.0,0.0,0....   \n",
       "3  0.0,0.0,0.0,0.0,0.0,0.0,0.0,0.0,0.0,0.0,0.0,0....   \n",
       "4  0.0,0.0,0.0,0.0,0.0,0.0,0.0,0.0,0.0,0.0,0.0,0....   \n",
       "\n",
       "                                           deaths_ts  today_case  \\\n",
       "0  0.0,0.0,0.0,0.0,0.0,0.0,0.0,0.0,0.0,0.0,0.0,0....       528.0   \n",
       "1  0.0,0.0,0.0,0.0,0.0,0.0,0.0,0.0,0.0,0.0,0.0,0....       778.0   \n",
       "2  0.0,0.0,0.0,0.0,0.0,0.0,0.0,0.0,0.0,0.0,0.0,0....      2914.0   \n",
       "3  0.0,0.0,0.0,0.0,0.0,0.0,0.0,0.0,0.0,0.0,0.0,0....        10.0   \n",
       "4  0.0,0.0,0.0,0.0,0.0,0.0,0.0,0.0,0.0,0.0,0.0,0....       161.0   \n",
       "\n",
       "   today_new_case  today_death  today_new_death       start         end  \\\n",
       "0             5.0          5.0              0.0  2020-01-21  2020-07-26   \n",
       "1            14.0          6.0              0.0  2020-01-21  2020-07-26   \n",
       "2            35.0        212.0              0.0  2020-01-21  2020-07-26   \n",
       "3             0.0          0.0              0.0  2020-01-21  2020-07-26   \n",
       "4             3.0          1.0              0.0  2020-01-21  2020-07-26   \n",
       "\n",
       "  dt_unit                                           geometry  \n",
       "0     day  MULTIPOLYGON (((-78.90200 34.83527, -78.79960 ...  \n",
       "1     day  MULTIPOLYGON (((-80.49738 35.20210, -80.29542 ...  \n",
       "2     day  MULTIPOLYGON (((-81.68699 41.13596, -81.68495 ...  \n",
       "3     day  MULTIPOLYGON (((-76.81373 41.59003, -76.22014 ...  \n",
       "4     day  MULTIPOLYGON (((-95.15274 32.66095, -95.15211 ...  "
      ]
     },
     "execution_count": 62,
     "metadata": {},
     "output_type": "execute_result"
    }
   ],
   "source": [
    "counties_gdf.head(5)"
   ]
  },
  {
   "cell_type": "code",
   "execution_count": 63,
   "metadata": {
    "pycharm": {
     "is_executing": false,
     "name": "#%%\n"
    }
   },
   "outputs": [],
   "source": [
    "case = counties_gdf['today_case']\n",
    "death = counties_gdf['today_death']\n",
    "case_per_100k_capita = counties_gdf['today_case']/(counties_gdf['population']/100000)\n",
    "death_per_100k_capita = counties_gdf['today_death']/(counties_gdf['population']/100000)\n",
    "# death_case_ratio = counties_gdf['today_death']/counties_gdf['today_case']\n",
    "# death_case_ratio = death_case_ratio.replace(np.nan, 0)"
   ]
  },
  {
   "cell_type": "code",
   "execution_count": 64,
   "metadata": {
    "pycharm": {
     "is_executing": false,
     "name": "#%%\n"
    }
   },
   "outputs": [],
   "source": [
    "log_case = case.apply(lambda x: np.log(x + 1))\n",
    "log_death = death.apply(lambda x: np.log(x + 1))\n",
    "log_case_per_100k_capita = case_per_100k_capita.apply(lambda x: np.log(x + 1))\n",
    "log_death_per_100k_capita = death.apply(lambda x: np.log(x + 1))"
   ]
  },
  {
   "cell_type": "markdown",
   "metadata": {
    "pycharm": {
     "name": "#%% md\n"
    }
   },
   "source": [
    "#### 1.1 Get Constant Classes from today's data"
   ]
  },
  {
   "cell_type": "code",
   "execution_count": 4,
   "metadata": {
    "pycharm": {
     "is_executing": false,
     "name": "#%%\n"
    }
   },
   "outputs": [],
   "source": [
    "def create_dict(column):\n",
    "    tmp_dict = {}\n",
    "    tmp_dict['Quantiles'] = {\n",
    "        'bins': ','.join(mc.Quantiles(column, k=6).bins.astype(str)),\n",
    "        'k': 6\n",
    "    }\n",
    "    tmp_dict['FisherJenks'] = {\n",
    "        'bins': ','.join(mc.FisherJenks(column, k=6).bins.astype(str)),\n",
    "        'k': 6\n",
    "    }\n",
    "    tmp_dict['NaturalBreaks'] = {\n",
    "        'bins': ','.join(mc.NaturalBreaks(column, k=6).bins.astype(str)),\n",
    "        'k': 6\n",
    "    }\n",
    "    return tmp_dict"
   ]
  },
  {
   "cell_type": "code",
   "execution_count": 66,
   "metadata": {
    "pycharm": {
     "is_executing": false,
     "name": "#%%\n"
    }
   },
   "outputs": [],
   "source": [
    "county_dict['case'] = {}\n",
    "county_dict['death'] = {}\n",
    "county_dict['case_per_100k_capita'] = {}\n",
    "county_dict['death_per_100k_capita'] = {}"
   ]
  },
  {
   "cell_type": "code",
   "execution_count": 67,
   "metadata": {
    "pycharm": {
     "is_executing": false,
     "name": "#%%\n"
    }
   },
   "outputs": [
    {
     "name": "stderr",
     "output_type": "stream",
     "text": [
      "C:\\Users\\lymin\\Anaconda3\\envs\\wherecovid19\\lib\\site-packages\\mapclassify\\classifiers.py:237: UserWarning: Warning: Not enough unique values in array to form k classes\n",
      "  \"Warning: Not enough unique values in array to form k classes\", UserWarning\n",
      "C:\\Users\\lymin\\Anaconda3\\envs\\wherecovid19\\lib\\site-packages\\mapclassify\\classifiers.py:239: UserWarning: Warning: setting k to 5\n",
      "  Warn(\"Warning: setting k to %d\" % k_q, UserWarning)\n",
      "C:\\Users\\lymin\\Anaconda3\\envs\\wherecovid19\\lib\\site-packages\\mapclassify\\classifiers.py:237: UserWarning: Warning: Not enough unique values in array to form k classes\n",
      "  \"Warning: Not enough unique values in array to form k classes\", UserWarning\n",
      "C:\\Users\\lymin\\Anaconda3\\envs\\wherecovid19\\lib\\site-packages\\mapclassify\\classifiers.py:239: UserWarning: Warning: setting k to 5\n",
      "  Warn(\"Warning: setting k to %d\" % k_q, UserWarning)\n",
      "C:\\Users\\lymin\\Anaconda3\\envs\\wherecovid19\\lib\\site-packages\\mapclassify\\classifiers.py:237: UserWarning: Warning: Not enough unique values in array to form k classes\n",
      "  \"Warning: Not enough unique values in array to form k classes\", UserWarning\n",
      "C:\\Users\\lymin\\Anaconda3\\envs\\wherecovid19\\lib\\site-packages\\mapclassify\\classifiers.py:239: UserWarning: Warning: setting k to 5\n",
      "  Warn(\"Warning: setting k to %d\" % k_q, UserWarning)\n",
      "C:\\Users\\lymin\\Anaconda3\\envs\\wherecovid19\\lib\\site-packages\\mapclassify\\classifiers.py:237: UserWarning: Warning: Not enough unique values in array to form k classes\n",
      "  \"Warning: Not enough unique values in array to form k classes\", UserWarning\n",
      "C:\\Users\\lymin\\Anaconda3\\envs\\wherecovid19\\lib\\site-packages\\mapclassify\\classifiers.py:239: UserWarning: Warning: setting k to 5\n",
      "  Warn(\"Warning: setting k to %d\" % k_q, UserWarning)\n"
     ]
    }
   ],
   "source": [
    "county_dict['case']['nolog'] = create_dict(case)\n",
    "county_dict['case']['log'] = create_dict(log_case)\n",
    "county_dict['death']['nolog'] = create_dict(death)\n",
    "county_dict['death']['log'] = create_dict(log_death)\n",
    "county_dict['case_per_100k_capita']['nolog'] = create_dict(case_per_100k_capita)\n",
    "county_dict['case_per_100k_capita']['log'] = create_dict(log_case_per_100k_capita)\n",
    "county_dict['death_per_100k_capita']['nolog'] = create_dict(death_per_100k_capita)\n",
    "county_dict['death_per_100k_capita']['log'] = create_dict(log_death_per_100k_capita)\n"
   ]
  },
  {
   "cell_type": "code",
   "execution_count": 68,
   "metadata": {
    "pycharm": {
     "is_executing": false,
     "name": "#%%\n"
    }
   },
   "outputs": [
    {
     "data": {
      "text/plain": [
       "{'case': {'nolog': {'Quantiles': {'bins': '20.0,65.0,151.0,349.0,1057.0,228445.0',\n",
       "    'k': 6},\n",
       "   'FisherJenks': {'bins': '3475.0,11780.0,27077.0,65349.0,108677.0,228445.0',\n",
       "    'k': 6},\n",
       "   'NaturalBreaks': {'bins': '3501.0,11780.0,27077.0,65349.0,108677.0,228445.0',\n",
       "    'k': 6}},\n",
       "  'log': {'Quantiles': {'bins': '3.044522437723423,4.189654742026425,5.0238805208462765,5.857933154483459,6.964135612418245,12.339055137536311',\n",
       "    'k': 6},\n",
       "   'FisherJenks': {'bins': '1.3862943611198906,3.295836866004329,4.727387818712341,6.0844994130751715,7.791109510610028,12.339055137536311',\n",
       "    'k': 6},\n",
       "   'NaturalBreaks': {'bins': '1.3862943611198906,3.295836866004329,4.736198448394496,6.0844994130751715,7.791109510610028,12.339055137536311',\n",
       "    'k': 6}}},\n",
       " 'death': {'nolog': {'Quantiles': {'bins': '0.0,2.0,6.0,25.0,22956.0', 'k': 6},\n",
       "   'FisherJenks': {'bins': '109.0,456.0,1242.0,2784.0,4830.0,22956.0', 'k': 6},\n",
       "   'NaturalBreaks': {'bins': '113.0,470.0,1242.0,2784.0,4830.0,22956.0',\n",
       "    'k': 6}},\n",
       "  'log': {'Quantiles': {'bins': '0.0,1.0986122886681098,1.9459101490553132,3.258096538021482,10.041378179875572',\n",
       "    'k': 6},\n",
       "   'FisherJenks': {'bins': '0.0,1.3862943611198906,2.5649493574615367,3.8501476017100584,5.501258210544727,10.041378179875572',\n",
       "    'k': 6},\n",
       "   'NaturalBreaks': {'bins': '0.0,1.3862943611198906,2.5649493574615367,3.8066624897703196,5.455321115357702,10.041378179875572',\n",
       "    'k': 6}}},\n",
       " 'case_per_100k_capita': {'nolog': {'Quantiles': {'bins': '187.47183415953137,345.4604339846702,551.7486873720744,887.401803898749,1505.6448923761632,16285.385981406038',\n",
       "    'k': 6},\n",
       "   'FisherJenks': {'bins': '528.1070296913507,1170.8482676224612,2032.7908524411641,3373.8125550876503,6768.166089965398,16285.385981406038',\n",
       "    'k': 6},\n",
       "   'NaturalBreaks': {'bins': '525.3310305123777,1168.7727885719994,2042.6314749213202,3402.2087638047738,6768.166089965398,16285.385981406038',\n",
       "    'k': 6}},\n",
       "  'log': {'Quantiles': {'bins': '5.2389485748193065,5.847768624475624,6.314903445012121,6.78942412252108,7.317640532091013,9.69808482194309',\n",
       "    'k': 6},\n",
       "   'FisherJenks': {'bins': '0.0,4.931863605718304,5.817947587438068,6.569509992872079,7.34314171207424,9.69808482194309',\n",
       "    'k': 6},\n",
       "   'NaturalBreaks': {'bins': '0.0,4.977706294780685,5.839687466216997,6.576159118814275,7.34314171207424,9.69808482194309',\n",
       "    'k': 6}}},\n",
       " 'death_per_100k_capita': {'nolog': {'Quantiles': {'bins': '0.0,7.189331032747403,16.162922256343958,38.307402168788315,398.3596953719977',\n",
       "    'k': 6},\n",
       "   'FisherJenks': {'bins': '11.508200871810152,34.13325902964021,68.90433106504479,120.652945351313,206.65426741062203,398.3596953719977',\n",
       "    'k': 6},\n",
       "   'NaturalBreaks': {'bins': '11.943150603129105,34.82886362916759,69.91451361744049,120.652945351313,206.65426741062203,398.3596953719977',\n",
       "    'k': 6}},\n",
       "  'log': {'Quantiles': {'bins': '0.0,1.0986122886681098,1.9459101490553132,3.258096538021482,10.041378179875572',\n",
       "    'k': 6},\n",
       "   'FisherJenks': {'bins': '0.0,1.3862943611198906,2.5649493574615367,3.8501476017100584,5.501258210544727,10.041378179875572',\n",
       "    'k': 6},\n",
       "   'NaturalBreaks': {'bins': '0.0,1.3862943611198906,2.5649493574615367,3.8066624897703196,5.455321115357702,10.041378179875572',\n",
       "    'k': 6}}}}"
      ]
     },
     "execution_count": 68,
     "metadata": {},
     "output_type": "execute_result"
    }
   ],
   "source": [
    "county_dict"
   ]
  },
  {
   "cell_type": "markdown",
   "metadata": {
    "pycharm": {
     "name": "#%% md\n"
    }
   },
   "source": [
    "### 2. For US State-level Data"
   ]
  },
  {
   "cell_type": "markdown",
   "metadata": {},
   "source": [
    "#### 2.0 Load Data"
   ]
  },
  {
   "cell_type": "code",
   "execution_count": 74,
   "metadata": {
    "pycharm": {
     "is_executing": false,
     "name": "#%%\n"
    }
   },
   "outputs": [],
   "source": [
    "state_gdf = gpd.read_file('nyt_states_data.geojson')"
   ]
  },
  {
   "cell_type": "code",
   "execution_count": 75,
   "metadata": {
    "pycharm": {
     "is_executing": false,
     "name": "#%%\n"
    }
   },
   "outputs": [
    {
     "data": {
      "text/html": [
       "<div>\n",
       "<style scoped>\n",
       "    .dataframe tbody tr th:only-of-type {\n",
       "        vertical-align: middle;\n",
       "    }\n",
       "\n",
       "    .dataframe tbody tr th {\n",
       "        vertical-align: top;\n",
       "    }\n",
       "\n",
       "    .dataframe thead th {\n",
       "        text-align: right;\n",
       "    }\n",
       "</style>\n",
       "<table border=\"1\" class=\"dataframe\">\n",
       "  <thead>\n",
       "    <tr style=\"text-align: right;\">\n",
       "      <th></th>\n",
       "      <th>NAME</th>\n",
       "      <th>population</th>\n",
       "      <th>fips</th>\n",
       "      <th>dt_first_case</th>\n",
       "      <th>dt_first_death</th>\n",
       "      <th>cases_ts</th>\n",
       "      <th>deaths_ts</th>\n",
       "      <th>today_case</th>\n",
       "      <th>today_new_case</th>\n",
       "      <th>today_death</th>\n",
       "      <th>today_new_death</th>\n",
       "      <th>start</th>\n",
       "      <th>end</th>\n",
       "      <th>dt_unit</th>\n",
       "      <th>geometry</th>\n",
       "    </tr>\n",
       "  </thead>\n",
       "  <tbody>\n",
       "    <tr>\n",
       "      <th>0</th>\n",
       "      <td>West Virginia</td>\n",
       "      <td>1829054</td>\n",
       "      <td>54</td>\n",
       "      <td>2020-03-17</td>\n",
       "      <td>2020-03-29</td>\n",
       "      <td>0,0,0,0,0,0,0,0,0,0,0,0,0,0,0,0,0,0,0,0,0,0,0,...</td>\n",
       "      <td>0,0,0,0,0,0,0,0,0,0,0,0,0,0,0,0,0,0,0,0,0,0,0,...</td>\n",
       "      <td>5960.0</td>\n",
       "      <td>139.0</td>\n",
       "      <td>103.0</td>\n",
       "      <td>0.0</td>\n",
       "      <td>2020-01-21</td>\n",
       "      <td>2020-07-26</td>\n",
       "      <td>day</td>\n",
       "      <td>POLYGON ((-80.51899 40.63880, -80.51934 39.721...</td>\n",
       "    </tr>\n",
       "    <tr>\n",
       "      <th>1</th>\n",
       "      <td>Florida</td>\n",
       "      <td>20598139</td>\n",
       "      <td>12</td>\n",
       "      <td>2020-03-01</td>\n",
       "      <td>2020-03-06</td>\n",
       "      <td>0,0,0,0,0,0,0,0,0,0,0,0,0,0,0,0,0,0,0,0,0,0,0,...</td>\n",
       "      <td>0,0,0,0,0,0,0,0,0,0,0,0,0,0,0,0,0,0,0,0,0,0,0,...</td>\n",
       "      <td>423847.0</td>\n",
       "      <td>9344.0</td>\n",
       "      <td>5853.0</td>\n",
       "      <td>77.0</td>\n",
       "      <td>2020-01-21</td>\n",
       "      <td>2020-07-26</td>\n",
       "      <td>day</td>\n",
       "      <td>MULTIPOLYGON (((-82.98748 24.62538, -82.89993 ...</td>\n",
       "    </tr>\n",
       "    <tr>\n",
       "      <th>2</th>\n",
       "      <td>Illinois</td>\n",
       "      <td>12821497</td>\n",
       "      <td>17</td>\n",
       "      <td>2020-01-24</td>\n",
       "      <td>2020-03-17</td>\n",
       "      <td>0,0,0,1,1,1,1,1,1,2,2,2,2,2,2,2,2,2,2,2,2,2,2,...</td>\n",
       "      <td>0,0,0,0,0,0,0,0,0,0,0,0,0,0,0,0,0,0,0,0,0,0,0,...</td>\n",
       "      <td>173079.0</td>\n",
       "      <td>1410.0</td>\n",
       "      <td>7595.0</td>\n",
       "      <td>2.0</td>\n",
       "      <td>2020-01-21</td>\n",
       "      <td>2020-07-26</td>\n",
       "      <td>day</td>\n",
       "      <td>POLYGON ((-90.64284 42.50848, -87.01994 42.493...</td>\n",
       "    </tr>\n",
       "    <tr>\n",
       "      <th>3</th>\n",
       "      <td>Minnesota</td>\n",
       "      <td>5527358</td>\n",
       "      <td>27</td>\n",
       "      <td>2020-03-06</td>\n",
       "      <td>2020-03-21</td>\n",
       "      <td>0,0,0,0,0,0,0,0,0,0,0,0,0,0,0,0,0,0,0,0,0,0,0,...</td>\n",
       "      <td>0,0,0,0,0,0,0,0,0,0,0,0,0,0,0,0,0,0,0,0,0,0,0,...</td>\n",
       "      <td>51193.0</td>\n",
       "      <td>862.0</td>\n",
       "      <td>1614.0</td>\n",
       "      <td>3.0</td>\n",
       "      <td>2020-01-21</td>\n",
       "      <td>2020-07-26</td>\n",
       "      <td>day</td>\n",
       "      <td>POLYGON ((-97.22872 49.00056, -95.15371 48.998...</td>\n",
       "    </tr>\n",
       "    <tr>\n",
       "      <th>4</th>\n",
       "      <td>Maryland</td>\n",
       "      <td>6003435</td>\n",
       "      <td>24</td>\n",
       "      <td>2020-03-05</td>\n",
       "      <td>2020-03-18</td>\n",
       "      <td>0,0,0,0,0,0,0,0,0,0,0,0,0,0,0,0,0,0,0,0,0,0,0,...</td>\n",
       "      <td>0,0,0,0,0,0,0,0,0,0,0,0,0,0,0,0,0,0,0,0,0,0,0,...</td>\n",
       "      <td>84306.0</td>\n",
       "      <td>689.0</td>\n",
       "      <td>3440.0</td>\n",
       "      <td>7.0</td>\n",
       "      <td>2020-01-21</td>\n",
       "      <td>2020-07-26</td>\n",
       "      <td>day</td>\n",
       "      <td>POLYGON ((-77.71952 39.32131, -77.76086 39.340...</td>\n",
       "    </tr>\n",
       "  </tbody>\n",
       "</table>\n",
       "</div>"
      ],
      "text/plain": [
       "            NAME  population fips dt_first_case dt_first_death  \\\n",
       "0  West Virginia     1829054   54    2020-03-17     2020-03-29   \n",
       "1        Florida    20598139   12    2020-03-01     2020-03-06   \n",
       "2       Illinois    12821497   17    2020-01-24     2020-03-17   \n",
       "3      Minnesota     5527358   27    2020-03-06     2020-03-21   \n",
       "4       Maryland     6003435   24    2020-03-05     2020-03-18   \n",
       "\n",
       "                                            cases_ts  \\\n",
       "0  0,0,0,0,0,0,0,0,0,0,0,0,0,0,0,0,0,0,0,0,0,0,0,...   \n",
       "1  0,0,0,0,0,0,0,0,0,0,0,0,0,0,0,0,0,0,0,0,0,0,0,...   \n",
       "2  0,0,0,1,1,1,1,1,1,2,2,2,2,2,2,2,2,2,2,2,2,2,2,...   \n",
       "3  0,0,0,0,0,0,0,0,0,0,0,0,0,0,0,0,0,0,0,0,0,0,0,...   \n",
       "4  0,0,0,0,0,0,0,0,0,0,0,0,0,0,0,0,0,0,0,0,0,0,0,...   \n",
       "\n",
       "                                           deaths_ts  today_case  \\\n",
       "0  0,0,0,0,0,0,0,0,0,0,0,0,0,0,0,0,0,0,0,0,0,0,0,...      5960.0   \n",
       "1  0,0,0,0,0,0,0,0,0,0,0,0,0,0,0,0,0,0,0,0,0,0,0,...    423847.0   \n",
       "2  0,0,0,0,0,0,0,0,0,0,0,0,0,0,0,0,0,0,0,0,0,0,0,...    173079.0   \n",
       "3  0,0,0,0,0,0,0,0,0,0,0,0,0,0,0,0,0,0,0,0,0,0,0,...     51193.0   \n",
       "4  0,0,0,0,0,0,0,0,0,0,0,0,0,0,0,0,0,0,0,0,0,0,0,...     84306.0   \n",
       "\n",
       "   today_new_case  today_death  today_new_death       start         end  \\\n",
       "0           139.0        103.0              0.0  2020-01-21  2020-07-26   \n",
       "1          9344.0       5853.0             77.0  2020-01-21  2020-07-26   \n",
       "2          1410.0       7595.0              2.0  2020-01-21  2020-07-26   \n",
       "3           862.0       1614.0              3.0  2020-01-21  2020-07-26   \n",
       "4           689.0       3440.0              7.0  2020-01-21  2020-07-26   \n",
       "\n",
       "  dt_unit                                           geometry  \n",
       "0     day  POLYGON ((-80.51899 40.63880, -80.51934 39.721...  \n",
       "1     day  MULTIPOLYGON (((-82.98748 24.62538, -82.89993 ...  \n",
       "2     day  POLYGON ((-90.64284 42.50848, -87.01994 42.493...  \n",
       "3     day  POLYGON ((-97.22872 49.00056, -95.15371 48.998...  \n",
       "4     day  POLYGON ((-77.71952 39.32131, -77.76086 39.340...  "
      ]
     },
     "execution_count": 75,
     "metadata": {},
     "output_type": "execute_result"
    }
   ],
   "source": [
    "state_gdf.head(5)"
   ]
  },
  {
   "cell_type": "markdown",
   "metadata": {
    "pycharm": {
     "name": "#%% md\n"
    }
   },
   "source": [
    "#### 2.1 Get Constant Classes from today's data"
   ]
  },
  {
   "cell_type": "code",
   "execution_count": 77,
   "metadata": {
    "pycharm": {
     "is_executing": false,
     "name": "#%%\n"
    }
   },
   "outputs": [],
   "source": [
    "state_case = state_gdf['today_case']\n",
    "state_death = state_gdf['today_death']\n",
    "state_case_per_100k_capita = state_gdf['today_case']/(state_gdf['population']/100000)\n",
    "state_death_per_100k_capita = state_gdf['today_death']/(state_gdf['population']/100000)\n",
    "#death_case_ratio = counties_gdf['today_death']/counties_gdf['today_case']\n",
    "#death_case_ratio = death_case_ratio.replace(np.nan, 0)"
   ]
  },
  {
   "cell_type": "code",
   "execution_count": 78,
   "metadata": {
    "pycharm": {
     "is_executing": false,
     "name": "#%%\n"
    }
   },
   "outputs": [],
   "source": [
    "state_death_per_100k_capita = state_death_per_100k_capita.replace(np.nan,0)\n",
    "state_death_per_100k_capita = state_death_per_100k_capita.replace(np.inf,0)\n",
    "state_case_per_100k_capita = state_case_per_100k_capita.replace(np.nan,0)\n",
    "state_case_per_100k_capita = state_case_per_100k_capita.replace(np.inf,0)"
   ]
  },
  {
   "cell_type": "code",
   "execution_count": 79,
   "metadata": {
    "pycharm": {
     "is_executing": false,
     "name": "#%%\n"
    }
   },
   "outputs": [],
   "source": [
    "state_log_case = state_case.apply(lambda x: np.log(x + 1))\n",
    "state_log_death = state_death.apply(lambda x: np.log(x + 1))\n",
    "state_log_case_per_100k_capita = state_case_per_100k_capita.apply(lambda x: np.log(x + 1))\n",
    "state_log_death_per_100k_capita =state_death_per_100k_capita.apply(lambda x: np.log(x + 1))"
   ]
  },
  {
   "cell_type": "code",
   "execution_count": 80,
   "metadata": {
    "pycharm": {
     "is_executing": false,
     "name": "#%%\n"
    }
   },
   "outputs": [],
   "source": [
    "state_dict['case'] = {}\n",
    "state_dict['death'] = {}\n",
    "state_dict['case_per_100k_capita'] = {}\n",
    "state_dict['death_per_100k_capita'] = {}"
   ]
  },
  {
   "cell_type": "code",
   "execution_count": 81,
   "metadata": {
    "pycharm": {
     "is_executing": false,
     "name": "#%%\n"
    }
   },
   "outputs": [],
   "source": [
    "state_dict['case']['nolog'] = create_dict(state_case)\n",
    "state_dict['case']['log'] = create_dict(state_log_case)\n",
    "state_dict['death']['nolog'] = create_dict(state_death)\n",
    "state_dict['death']['log'] = create_dict(state_log_death)\n",
    "state_dict['case_per_100k_capita']['nolog'] = create_dict(state_case_per_100k_capita)\n",
    "state_dict['case_per_100k_capita']['log'] = create_dict(state_log_case_per_100k_capita)\n",
    "state_dict['death_per_100k_capita']['nolog'] = create_dict(state_death_per_100k_capita)\n",
    "state_dict['death_per_100k_capita']['log'] = create_dict(state_log_death_per_100k_capita)"
   ]
  },
  {
   "cell_type": "code",
   "execution_count": 82,
   "metadata": {},
   "outputs": [
    {
     "data": {
      "text/plain": [
       "{'case': {'nolog': {'Quantiles': {'bins': '5880.000000000001,18262.000000000004,42919.0,79294.00000000001,112881.00000000001,459338.0',\n",
       "    'k': 6},\n",
       "   'FisherJenks': {'bins': '27682.0,63881.0,91330.0,115637.0,181283.0,459338.0',\n",
       "    'k': 6},\n",
       "   'NaturalBreaks': {'bins': '27682.0,63881.0,91330.0,115637.0,181283.0,459338.0',\n",
       "    'k': 6}},\n",
       "  'log': {'Quantiles': {'bins': '8.679482094459956,9.812632434192041,10.667093196744634,11.280930353932701,11.63409830430028,13.037543778531418',\n",
       "    'k': 6},\n",
       "   'FisherJenks': {'bins': '5.8916442118257715,8.246695943718557,9.855032332266724,11.06479291054266,12.107820141331725,13.037543778531418',\n",
       "    'k': 6},\n",
       "   'NaturalBreaks': {'bins': '5.8916442118257715,8.769817872052617,10.228573785361645,11.06479291054266,12.107820141331725,13.037543778531418',\n",
       "    'k': 6}}},\n",
       " 'death': {'nolog': {'Quantiles': {'bins': '103.00000000000003,401.00000000000006,901.0,1795.0,4413.0000000000055,32305.0',\n",
       "    'k': 6},\n",
       "   'FisherJenks': {'bins': '829.0,2078.0,5090.0,8529.0,15787.0,32305.0',\n",
       "    'k': 6},\n",
       "   'NaturalBreaks': {'bins': '829.0,2078.0,5090.0,8529.0,15787.0,32305.0',\n",
       "    'k': 6}},\n",
       "  'log': {'Quantiles': {'bins': '4.644390899141373,5.996452088619021,6.804614520062624,7.493317248862145,8.392536586816682,10.383008250473704',\n",
       "    'k': 6},\n",
       "   'FisherJenks': {'bins': '2.0794415416798357,4.04305126783455,5.676753802268282,6.910750787961936,8.23323750070527,10.383008250473704',\n",
       "    'k': 6},\n",
       "   'NaturalBreaks': {'bins': '2.0794415416798357,4.04305126783455,5.676753802268282,6.910750787961936,8.23323750070527,10.383008250473704',\n",
       "    'k': 6}}},\n",
       " 'case_per_100k_capita': {'nolog': {'Quantiles': {'bins': '419.76070931435476,798.4662098339082,971.31862143334,1352.1792026110784,1638.4226960658207,2332.637797740937',\n",
       "    'k': 6},\n",
       "   'FisherJenks': {'bins': '224.00824350336092,623.4398239360173,1111.5122024998168,1505.0105582441192,1750.0222500152238,2332.637797740937',\n",
       "    'k': 6},\n",
       "   'NaturalBreaks': {'bins': '224.00824350336092,623.4398239360173,1111.5122024998168,1505.0105582441192,1750.0222500152238,2332.637797740937',\n",
       "    'k': 6}},\n",
       "  'log': {'Quantiles': {'bins': '6.042064285662871,6.683944267258164,6.879683550574352,7.210212067745497,7.402099444252551,7.7551836156030625',\n",
       "    'k': 6},\n",
       "   'FisherJenks': {'bins': '0.0,5.416137039325988,6.1737939526807954,6.913838610184353,7.317219419121531,7.7551836156030625',\n",
       "    'k': 6},\n",
       "   'NaturalBreaks': {'bins': '0.0,5.416137039325988,6.1737939526807954,6.913838610184353,7.317219419121531,7.7551836156030625',\n",
       "    'k': 6}}},\n",
       " 'death_per_100k_capita': {'nolog': {'Quantiles': {'bins': '7.1289579496823,14.231350856021542,21.879990173197395,30.279483953723574,59.23645265447554,177.74460148764138',\n",
       "    'k': 6},\n",
       "   'FisherJenks': {'bins': '16.905016905016907,33.250840690793986,64.29332377804523,94.83149427745877,124.87202045388761,177.74460148764138',\n",
       "    'k': 6},\n",
       "   'NaturalBreaks': {'bins': '16.905016905016907,33.250840690793986,64.29332377804523,94.83149427745877,124.87202045388761,177.74460148764138',\n",
       "    'k': 6}},\n",
       "  'log': {'Quantiles': {'bins': '2.095432741873986,2.7233558600204395,3.130262737018384,3.4429624178979146,4.098277694879841,5.185957979650303',\n",
       "    'k': 6},\n",
       "   'FisherJenks': {'bins': '0.0,2.0954327418739855,2.957688379256863,3.533711110123606,4.45294773678847,5.185957979650303',\n",
       "    'k': 6},\n",
       "   'NaturalBreaks': {'bins': '0.0,2.0954327418739855,2.957688379256863,3.533711110123606,4.45294773678847,5.185957979650303',\n",
       "    'k': 6}}}}"
      ]
     },
     "execution_count": 82,
     "metadata": {},
     "output_type": "execute_result"
    }
   ],
   "source": [
    "state_dict"
   ]
  },
  {
   "cell_type": "markdown",
   "metadata": {},
   "source": [
    "### 3. For IDPH County-level Data"
   ]
  },
  {
   "cell_type": "markdown",
   "metadata": {},
   "source": [
    "#### 3.0 Load Data"
   ]
  },
  {
   "cell_type": "code",
   "execution_count": 4,
   "metadata": {
    "pycharm": {
     "is_executing": false,
     "name": "#%%\n"
    }
   },
   "outputs": [],
   "source": [
    "dph_illinois_gdf = gpd.read_file('illinois/dph_county_data.geojson')"
   ]
  },
  {
   "cell_type": "code",
   "execution_count": 5,
   "metadata": {
    "pycharm": {
     "is_executing": false,
     "name": "#%%\n"
    }
   },
   "outputs": [
    {
     "data": {
      "text/html": [
       "<div>\n",
       "<style scoped>\n",
       "    .dataframe tbody tr th:only-of-type {\n",
       "        vertical-align: middle;\n",
       "    }\n",
       "\n",
       "    .dataframe tbody tr th {\n",
       "        vertical-align: top;\n",
       "    }\n",
       "\n",
       "    .dataframe thead th {\n",
       "        text-align: right;\n",
       "    }\n",
       "</style>\n",
       "<table border=\"1\" class=\"dataframe\">\n",
       "  <thead>\n",
       "    <tr style=\"text-align: right;\">\n",
       "      <th></th>\n",
       "      <th>id</th>\n",
       "      <th>NAME</th>\n",
       "      <th>cases_ts</th>\n",
       "      <th>dt_first_case</th>\n",
       "      <th>today_case</th>\n",
       "      <th>today_new_case</th>\n",
       "      <th>deaths_ts</th>\n",
       "      <th>dt_first_death</th>\n",
       "      <th>today_death</th>\n",
       "      <th>today_new_death</th>\n",
       "      <th>today_tested</th>\n",
       "      <th>today_new_tested</th>\n",
       "      <th>start</th>\n",
       "      <th>end</th>\n",
       "      <th>dt_unit</th>\n",
       "      <th>population</th>\n",
       "      <th>change_ts</th>\n",
       "      <th>geometry</th>\n",
       "    </tr>\n",
       "  </thead>\n",
       "  <tbody>\n",
       "    <tr>\n",
       "      <th>0</th>\n",
       "      <td>Chicago</td>\n",
       "      <td>Chicago</td>\n",
       "      <td>0,0,0,0,0,519,519,782,915,1161,1364,1610,2026,...</td>\n",
       "      <td>2020-03-22</td>\n",
       "      <td>318604</td>\n",
       "      <td>263</td>\n",
       "      <td>0,0,0,0,0,4,4,5,5,9,9,12,16,16,21,39,41,57,76,...</td>\n",
       "      <td>2020-03-22</td>\n",
       "      <td>5785</td>\n",
       "      <td>1</td>\n",
       "      <td>6215968</td>\n",
       "      <td>18185</td>\n",
       "      <td>2020-03-17</td>\n",
       "      <td>2021-10-04</td>\n",
       "      <td>day</td>\n",
       "      <td>2693976</td>\n",
       "      <td>0,0,0,0,0,0,0,0,0,0,0,0,0,2.24,1.44,1.37,0.82,...</td>\n",
       "      <td>MULTIPOLYGON (((-87.93514 42.00089, -87.93521 ...</td>\n",
       "    </tr>\n",
       "    <tr>\n",
       "      <th>1</th>\n",
       "      <td>McHenry</td>\n",
       "      <td>McHenry</td>\n",
       "      <td>2,4,6,8,11,12,12,14,19,27,45,47,52,52,63,69,81...</td>\n",
       "      <td>2020-03-17</td>\n",
       "      <td>33781</td>\n",
       "      <td>43</td>\n",
       "      <td>0,0,0,0,0,0,0,0,0,1,1,2,2,2,2,2,3,3,3,3,3,4,5,...</td>\n",
       "      <td>2020-03-26</td>\n",
       "      <td>320</td>\n",
       "      <td>0</td>\n",
       "      <td>491586</td>\n",
       "      <td>1836</td>\n",
       "      <td>2020-03-17</td>\n",
       "      <td>2021-10-04</td>\n",
       "      <td>day</td>\n",
       "      <td>308570</td>\n",
       "      <td>0,0,0,0,0,0,0,0,0,0,0,0,0,3.0,3.08,2.33,1.57,0...</td>\n",
       "      <td>POLYGON ((-88.70742 42.49352, -88.70741 42.493...</td>\n",
       "    </tr>\n",
       "    <tr>\n",
       "      <th>2</th>\n",
       "      <td>Boone</td>\n",
       "      <td>Boone</td>\n",
       "      <td>0,0,0,0,0,0,0,0,0,0,0,0,0,0,0,0,0,0,0,3,4,6,7,...</td>\n",
       "      <td>2020-04-05</td>\n",
       "      <td>7728</td>\n",
       "      <td>6</td>\n",
       "      <td>0,0,0,0,0,0,0,0,0,0,0,0,0,0,0,0,0,0,0,0,0,0,1,...</td>\n",
       "      <td>2020-04-08</td>\n",
       "      <td>83</td>\n",
       "      <td>0</td>\n",
       "      <td>83383</td>\n",
       "      <td>165</td>\n",
       "      <td>2020-03-17</td>\n",
       "      <td>2021-10-04</td>\n",
       "      <td>day</td>\n",
       "      <td>53577</td>\n",
       "      <td>0,0,0,0,0,0,0,0,0,0,0,0,0,0,0,0,0,0,0,3.0,4.0,...</td>\n",
       "      <td>POLYGON ((-88.70742 42.49352, -88.70750 42.493...</td>\n",
       "    </tr>\n",
       "    <tr>\n",
       "      <th>3</th>\n",
       "      <td>Ogle</td>\n",
       "      <td>Ogle</td>\n",
       "      <td>0,0,0,0,0,0,0,0,0,0,0,0,0,0,1,1,1,1,4,5,7,10,1...</td>\n",
       "      <td>2020-03-31</td>\n",
       "      <td>7331</td>\n",
       "      <td>7</td>\n",
       "      <td>0,0,0,0,0,0,0,0,0,0,0,0,0,0,0,0,0,0,0,0,0,0,0,...</td>\n",
       "      <td>2020-04-15</td>\n",
       "      <td>87</td>\n",
       "      <td>0</td>\n",
       "      <td>85426</td>\n",
       "      <td>326</td>\n",
       "      <td>2020-03-17</td>\n",
       "      <td>2021-10-04</td>\n",
       "      <td>day</td>\n",
       "      <td>50923</td>\n",
       "      <td>0,0,0,0,0,0,0,0,0,0,0,0,0,0,1.0,1.0,1.0,1.0,4....</td>\n",
       "      <td>POLYGON ((-89.68809 42.19950, -89.68807 42.184...</td>\n",
       "    </tr>\n",
       "    <tr>\n",
       "      <th>4</th>\n",
       "      <td>Will</td>\n",
       "      <td>Will</td>\n",
       "      <td>2,3,9,10,12,21,21,28,40,67,104,127,182,223,228...</td>\n",
       "      <td>2020-03-17</td>\n",
       "      <td>89027</td>\n",
       "      <td>122</td>\n",
       "      <td>0,0,0,1,1,1,1,1,2,3,3,4,4,5,8,9,8,10,11,12,19,...</td>\n",
       "      <td>2020-03-20</td>\n",
       "      <td>1105</td>\n",
       "      <td>1</td>\n",
       "      <td>1377062</td>\n",
       "      <td>4447</td>\n",
       "      <td>2020-03-17</td>\n",
       "      <td>2021-10-04</td>\n",
       "      <td>day</td>\n",
       "      <td>692310</td>\n",
       "      <td>0,0,0,0,0,0,0,0,0,0,0,0,0,9.63,6.69,6.62,4.47,...</td>\n",
       "      <td>POLYGON ((-88.26146 41.72439, -88.26103 41.708...</td>\n",
       "    </tr>\n",
       "  </tbody>\n",
       "</table>\n",
       "</div>"
      ],
      "text/plain": [
       "        id     NAME                                           cases_ts  \\\n",
       "0  Chicago  Chicago  0,0,0,0,0,519,519,782,915,1161,1364,1610,2026,...   \n",
       "1  McHenry  McHenry  2,4,6,8,11,12,12,14,19,27,45,47,52,52,63,69,81...   \n",
       "2    Boone    Boone  0,0,0,0,0,0,0,0,0,0,0,0,0,0,0,0,0,0,0,3,4,6,7,...   \n",
       "3     Ogle     Ogle  0,0,0,0,0,0,0,0,0,0,0,0,0,0,1,1,1,1,4,5,7,10,1...   \n",
       "4     Will     Will  2,3,9,10,12,21,21,28,40,67,104,127,182,223,228...   \n",
       "\n",
       "  dt_first_case  today_case  today_new_case  \\\n",
       "0    2020-03-22      318604             263   \n",
       "1    2020-03-17       33781              43   \n",
       "2    2020-04-05        7728               6   \n",
       "3    2020-03-31        7331               7   \n",
       "4    2020-03-17       89027             122   \n",
       "\n",
       "                                           deaths_ts dt_first_death  \\\n",
       "0  0,0,0,0,0,4,4,5,5,9,9,12,16,16,21,39,41,57,76,...     2020-03-22   \n",
       "1  0,0,0,0,0,0,0,0,0,1,1,2,2,2,2,2,3,3,3,3,3,4,5,...     2020-03-26   \n",
       "2  0,0,0,0,0,0,0,0,0,0,0,0,0,0,0,0,0,0,0,0,0,0,1,...     2020-04-08   \n",
       "3  0,0,0,0,0,0,0,0,0,0,0,0,0,0,0,0,0,0,0,0,0,0,0,...     2020-04-15   \n",
       "4  0,0,0,1,1,1,1,1,2,3,3,4,4,5,8,9,8,10,11,12,19,...     2020-03-20   \n",
       "\n",
       "   today_death  today_new_death  today_tested  today_new_tested       start  \\\n",
       "0         5785                1       6215968             18185  2020-03-17   \n",
       "1          320                0        491586              1836  2020-03-17   \n",
       "2           83                0         83383               165  2020-03-17   \n",
       "3           87                0         85426               326  2020-03-17   \n",
       "4         1105                1       1377062              4447  2020-03-17   \n",
       "\n",
       "          end dt_unit  population  \\\n",
       "0  2021-10-04     day     2693976   \n",
       "1  2021-10-04     day      308570   \n",
       "2  2021-10-04     day       53577   \n",
       "3  2021-10-04     day       50923   \n",
       "4  2021-10-04     day      692310   \n",
       "\n",
       "                                           change_ts  \\\n",
       "0  0,0,0,0,0,0,0,0,0,0,0,0,0,2.24,1.44,1.37,0.82,...   \n",
       "1  0,0,0,0,0,0,0,0,0,0,0,0,0,3.0,3.08,2.33,1.57,0...   \n",
       "2  0,0,0,0,0,0,0,0,0,0,0,0,0,0,0,0,0,0,0,3.0,4.0,...   \n",
       "3  0,0,0,0,0,0,0,0,0,0,0,0,0,0,1.0,1.0,1.0,1.0,4....   \n",
       "4  0,0,0,0,0,0,0,0,0,0,0,0,0,9.63,6.69,6.62,4.47,...   \n",
       "\n",
       "                                            geometry  \n",
       "0  MULTIPOLYGON (((-87.93514 42.00089, -87.93521 ...  \n",
       "1  POLYGON ((-88.70742 42.49352, -88.70741 42.493...  \n",
       "2  POLYGON ((-88.70742 42.49352, -88.70750 42.493...  \n",
       "3  POLYGON ((-89.68809 42.19950, -89.68807 42.184...  \n",
       "4  POLYGON ((-88.26146 41.72439, -88.26103 41.708...  "
      ]
     },
     "execution_count": 5,
     "metadata": {},
     "output_type": "execute_result"
    }
   ],
   "source": [
    "dph_illinois_gdf.head(5)"
   ]
  },
  {
   "cell_type": "code",
   "execution_count": 6,
   "metadata": {},
   "outputs": [],
   "source": [
    "dph_illinois_gdf = dph_illinois_gdf[dph_illinois_gdf['id'] != 'Illinois']"
   ]
  },
  {
   "cell_type": "markdown",
   "metadata": {
    "pycharm": {
     "name": "#%% md\n"
    }
   },
   "source": [
    "#### 3.1 Get Constant Classes from today's data"
   ]
  },
  {
   "cell_type": "code",
   "execution_count": 7,
   "metadata": {
    "pycharm": {
     "is_executing": false,
     "name": "#%%\n"
    }
   },
   "outputs": [],
   "source": [
    "illinois_case = dph_illinois_gdf['today_case']\n",
    "illinois_death = dph_illinois_gdf['today_death']\n",
    "illinois_case_per_100k_capita = dph_illinois_gdf['today_case']/(dph_illinois_gdf['population']/100000)\n",
    "illinois_death_per_100k_capita = dph_illinois_gdf['today_death']/(dph_illinois_gdf['population']/100000)\n",
    "#death_case_ratio = counties_gdf['today_death']/counties_gdf['today_case']\n",
    "#death_case_ratio = death_case_ratio.replace(np.nan, 0)"
   ]
  },
  {
   "cell_type": "code",
   "execution_count": 8,
   "metadata": {
    "pycharm": {
     "is_executing": false,
     "name": "#%%\n"
    }
   },
   "outputs": [],
   "source": [
    "illinois_death_per_100k_capita = illinois_death_per_100k_capita.replace(np.nan,0)\n",
    "illinois_death_per_100k_capita = illinois_death_per_100k_capita.replace(np.inf,0)\n",
    "illinois_case_per_100k_capita = illinois_case_per_100k_capita.replace(np.nan,0)\n",
    "illinois_case_per_100k_capita = illinois_case_per_100k_capita.replace(np.inf,0)"
   ]
  },
  {
   "cell_type": "code",
   "execution_count": 9,
   "metadata": {
    "pycharm": {
     "is_executing": false,
     "name": "#%%\n"
    }
   },
   "outputs": [],
   "source": [
    "illinois_log_case = illinois_case.apply(lambda x: np.log(x + 1))\n",
    "illinois_log_death = illinois_death.apply(lambda x: np.log(x + 1))\n",
    "illinois_log_case_per_100k_capita = illinois_case_per_100k_capita.apply(lambda x: np.log(x + 1))\n",
    "illinois_log_death_per_100k_capita =illinois_death_per_100k_capita.apply(lambda x: np.log(x + 1))"
   ]
  },
  {
   "cell_type": "code",
   "execution_count": 10,
   "metadata": {
    "pycharm": {
     "is_executing": false,
     "name": "#%%\n"
    }
   },
   "outputs": [],
   "source": [
    "dph_illinois_dict['case'] = {}\n",
    "dph_illinois_dict['death'] = {}\n",
    "dph_illinois_dict['case_per_100k_capita'] = {}\n",
    "dph_illinois_dict['death_per_100k_capita'] = {}"
   ]
  },
  {
   "cell_type": "code",
   "execution_count": 13,
   "metadata": {
    "pycharm": {
     "is_executing": false,
     "name": "#%%\n"
    }
   },
   "outputs": [],
   "source": [
    "dph_illinois_dict['case']['nolog'] = create_dict(illinois_case)\n",
    "dph_illinois_dict['case']['log'] = create_dict(illinois_log_case)\n",
    "dph_illinois_dict['death']['nolog'] = create_dict(illinois_death)\n",
    "dph_illinois_dict['death']['log'] = create_dict(illinois_log_death)\n",
    "dph_illinois_dict['case_per_100k_capita']['nolog'] = create_dict(illinois_case_per_100k_capita)\n",
    "dph_illinois_dict['case_per_100k_capita']['log'] = create_dict(illinois_log_case_per_100k_capita)\n",
    "dph_illinois_dict['death_per_100k_capita']['nolog'] = create_dict(illinois_death_per_100k_capita)\n",
    "dph_illinois_dict['death_per_100k_capita']['log'] = create_dict(illinois_log_death_per_100k_capita)"
   ]
  },
  {
   "cell_type": "code",
   "execution_count": 14,
   "metadata": {},
   "outputs": [
    {
     "data": {
      "text/plain": [
       "{'case': {'nolog': {'Quantiles': {'bins': '1842.0000000000005,2493.0000000000005,4236.0,6705.0,15818.00000000002,318604.0',\n",
       "    'k': 6},\n",
       "   'FisherJenks': {'bins': '8090,22418,39940,78468,105694,318604', 'k': 6},\n",
       "   'NaturalBreaks': {'bins': '8090.0,22418.0,39940.0,78468.0,105694.0,318604.0',\n",
       "    'k': 6}},\n",
       "  'log': {'Quantiles': {'bins': '7.519149957669823,7.821643126239982,8.351610750626559,8.810757927026176,9.668967028198582,12.671707369994703',\n",
       "    'k': 6},\n",
       "   'FisherJenks': {'bins': '7.224753405767971,8.200837258379849,8.99850761180784,10.18074042949737,11.568312867049787,12.671707369994703',\n",
       "    'k': 6},\n",
       "   'NaturalBreaks': {'bins': '7.224753405767971,8.200837258379849,8.99850761180784,10.18074042949737,11.568312867049787,12.671707369994703',\n",
       "    'k': 6}}},\n",
       " 'death': {'nolog': {'Quantiles': {'bins': '21.000000000000007,39.00000000000001,68.0,98.0,214.00000000000034,5785.0',\n",
       "    'k': 6},\n",
       "   'FisherJenks': {'bins': '150,365,861,1366,5281,5785', 'k': 6},\n",
       "   'NaturalBreaks': {'bins': '150.0,365.0,861.0,1366.0,5281.0,5785.0',\n",
       "    'k': 6}},\n",
       "  'log': {'Quantiles': {'bins': '3.091042453358316,3.6888794541139363,4.23410650459726,4.59511985013459,5.370638028127664,8.66319648553608',\n",
       "    'k': 6},\n",
       "   'FisherJenks': {'bins': '2.833213344056216,3.871201010907891,4.770684624465665,5.902633333401366,7.220373836723949,8.66319648553608',\n",
       "    'k': 6},\n",
       "   'NaturalBreaks': {'bins': '2.833213344056216,3.871201010907891,4.770684624465665,5.902633333401366,7.220373836723949,8.66319648553608',\n",
       "    'k': 6}}},\n",
       " 'case_per_100k_capita': {'nolog': {'Quantiles': {'bins': '12615.914016937413,14059.370390839233,14805.963828314949,15924.34411226358,17670.83027185893,21044.04567699837',\n",
       "    'k': 6},\n",
       "   'FisherJenks': {'bins': '5873.5722642613355,11966.333252012686,13880.906768837804,15746.564385952155,17965.92279855247,21044.04567699837',\n",
       "    'k': 6},\n",
       "   'NaturalBreaks': {'bins': '5873.5722642613355,11966.333252012686,13880.906768837804,15746.564385952155,17965.92279855247,21044.04567699837',\n",
       "    'k': 6}},\n",
       "  'log': {'Quantiles': {'bins': '9.442793575046583,9.551115508605097,9.602852878028376,9.675667088512313,9.77972714069999,9.954420451646524',\n",
       "    'k': 6},\n",
       "   'FisherJenks': {'bins': '8.678388530278692,9.341093959949768,9.508550827174933,9.632746157853461,9.760351681027315,9.954420451646524',\n",
       "    'k': 6},\n",
       "   'NaturalBreaks': {'bins': '8.678388530278692,9.341093959949768,9.508550827174933,9.632746157853461,9.760351681027315,9.954420451646524',\n",
       "    'k': 6}}},\n",
       " 'death_per_100k_capita': {'nolog': {'Quantiles': {'bins': '144.8696684890554,190.28542814221333,222.55505460451468,252.58443350779893,288.43889804567954,497.5124378109453',\n",
       "    'k': 6},\n",
       "   'FisherJenks': {'bins': '105.79427083333333,175.3206907635216,234.17489937797293,306.65440049064705,384.8185316532106,497.5124378109453',\n",
       "    'k': 6},\n",
       "   'NaturalBreaks': {'bins': '118.70845204178538,175.3206907635216,229.93023484327404,306.65440049064705,384.8185316532106,497.5124378109453',\n",
       "    'k': 6}},\n",
       "  'log': {'Quantiles': {'bins': '4.9827135414490415,5.253766700738917,5.409657713046224,5.5356968386120755,5.66794421444543,6.211628539563946',\n",
       "    'k': 6},\n",
       "   'FisherJenks': {'bins': '3.7530111609436076,4.670904281204563,5.146599771602407,5.442115651241002,5.728977076645547,6.211628539563946',\n",
       "    'k': 6},\n",
       "   'NaturalBreaks': {'bins': '3.7530111609436076,4.670904281204563,5.146599771602407,5.442115651241002,5.728977076645547,6.211628539563946',\n",
       "    'k': 6}}}}"
      ]
     },
     "execution_count": 14,
     "metadata": {},
     "output_type": "execute_result"
    }
   ],
   "source": [
    "dph_illinois_dict"
   ]
  },
  {
   "cell_type": "markdown",
   "metadata": {
    "pycharm": {
     "name": "#%% md\n"
    }
   },
   "source": [
    "### 4. For IDPH Zipcode-level Case (Static)"
   ]
  },
  {
   "cell_type": "markdown",
   "metadata": {},
   "source": [
    "#### 4.0 Load Data"
   ]
  },
  {
   "cell_type": "code",
   "execution_count": 15,
   "metadata": {
    "pycharm": {
     "is_executing": false,
     "name": "#%%\n"
    }
   },
   "outputs": [],
   "source": [
    "# dph_zipcode_gdf = gpd.read_file('illinois/dph_zipcode_data.geojson')"
   ]
  },
  {
   "cell_type": "code",
   "execution_count": 16,
   "metadata": {
    "pycharm": {
     "is_executing": false,
     "name": "#%%\n"
    }
   },
   "outputs": [
    {
     "data": {
      "text/html": [
       "<div>\n",
       "<style scoped>\n",
       "    .dataframe tbody tr th:only-of-type {\n",
       "        vertical-align: middle;\n",
       "    }\n",
       "\n",
       "    .dataframe tbody tr th {\n",
       "        vertical-align: top;\n",
       "    }\n",
       "\n",
       "    .dataframe thead th {\n",
       "        text-align: right;\n",
       "    }\n",
       "</style>\n",
       "<table border=\"1\" class=\"dataframe\">\n",
       "  <thead>\n",
       "    <tr style=\"text-align: right;\">\n",
       "      <th></th>\n",
       "      <th>id</th>\n",
       "      <th>confirmed_cases</th>\n",
       "      <th>total_tested</th>\n",
       "      <th>geometry</th>\n",
       "    </tr>\n",
       "  </thead>\n",
       "  <tbody>\n",
       "    <tr>\n",
       "      <th>0</th>\n",
       "      <td>62359</td>\n",
       "      <td>21.0</td>\n",
       "      <td>297.0</td>\n",
       "      <td>POLYGON ((-91.18290 40.02688, -91.17656 40.020...</td>\n",
       "    </tr>\n",
       "    <tr>\n",
       "      <th>1</th>\n",
       "      <td>62376</td>\n",
       "      <td>204.0</td>\n",
       "      <td>2040.0</td>\n",
       "      <td>POLYGON ((-91.35721 40.17576, -91.35600 40.151...</td>\n",
       "    </tr>\n",
       "    <tr>\n",
       "      <th>2</th>\n",
       "      <td>62312</td>\n",
       "      <td>377.0</td>\n",
       "      <td>4169.0</td>\n",
       "      <td>POLYGON ((-90.97797 39.78881, -90.97787 39.772...</td>\n",
       "    </tr>\n",
       "    <tr>\n",
       "      <th>3</th>\n",
       "      <td>62365</td>\n",
       "      <td>109.0</td>\n",
       "      <td>936.0</td>\n",
       "      <td>POLYGON ((-91.16584 39.83701, -91.14703 39.837...</td>\n",
       "    </tr>\n",
       "    <tr>\n",
       "      <th>4</th>\n",
       "      <td>62246</td>\n",
       "      <td>1530.0</td>\n",
       "      <td>35518.0</td>\n",
       "      <td>POLYGON ((-89.56254 38.91811, -89.56794 38.923...</td>\n",
       "    </tr>\n",
       "    <tr>\n",
       "      <th>...</th>\n",
       "      <td>...</td>\n",
       "      <td>...</td>\n",
       "      <td>...</td>\n",
       "      <td>...</td>\n",
       "    </tr>\n",
       "    <tr>\n",
       "      <th>1379</th>\n",
       "      <td>60484</td>\n",
       "      <td>744.0</td>\n",
       "      <td>11341.0</td>\n",
       "      <td>POLYGON ((-87.70969 41.45644, -87.70949 41.456...</td>\n",
       "    </tr>\n",
       "    <tr>\n",
       "      <th>1380</th>\n",
       "      <td>62948</td>\n",
       "      <td>2225.0</td>\n",
       "      <td>32799.0</td>\n",
       "      <td>MULTIPOLYGON (((-89.02159 37.74516, -89.03561 ...</td>\n",
       "    </tr>\n",
       "    <tr>\n",
       "      <th>1381</th>\n",
       "      <td>62921</td>\n",
       "      <td>52.0</td>\n",
       "      <td>643.0</td>\n",
       "      <td>POLYGON ((-89.09155 37.79258, -89.08896 37.807...</td>\n",
       "    </tr>\n",
       "    <tr>\n",
       "      <th>1382</th>\n",
       "      <td>62915</td>\n",
       "      <td>107.0</td>\n",
       "      <td>1218.0</td>\n",
       "      <td>POLYGON ((-89.11994 37.78039, -89.12263 37.781...</td>\n",
       "    </tr>\n",
       "    <tr>\n",
       "      <th>1383</th>\n",
       "      <td>61088</td>\n",
       "      <td>804.0</td>\n",
       "      <td>9310.0</td>\n",
       "      <td>MULTIPOLYGON (((-89.18498 42.37764, -89.18512 ...</td>\n",
       "    </tr>\n",
       "  </tbody>\n",
       "</table>\n",
       "<p>1384 rows × 4 columns</p>\n",
       "</div>"
      ],
      "text/plain": [
       "         id  confirmed_cases  total_tested  \\\n",
       "0     62359             21.0         297.0   \n",
       "1     62376            204.0        2040.0   \n",
       "2     62312            377.0        4169.0   \n",
       "3     62365            109.0         936.0   \n",
       "4     62246           1530.0       35518.0   \n",
       "...     ...              ...           ...   \n",
       "1379  60484            744.0       11341.0   \n",
       "1380  62948           2225.0       32799.0   \n",
       "1381  62921             52.0         643.0   \n",
       "1382  62915            107.0        1218.0   \n",
       "1383  61088            804.0        9310.0   \n",
       "\n",
       "                                               geometry  \n",
       "0     POLYGON ((-91.18290 40.02688, -91.17656 40.020...  \n",
       "1     POLYGON ((-91.35721 40.17576, -91.35600 40.151...  \n",
       "2     POLYGON ((-90.97797 39.78881, -90.97787 39.772...  \n",
       "3     POLYGON ((-91.16584 39.83701, -91.14703 39.837...  \n",
       "4     POLYGON ((-89.56254 38.91811, -89.56794 38.923...  \n",
       "...                                                 ...  \n",
       "1379  POLYGON ((-87.70969 41.45644, -87.70949 41.456...  \n",
       "1380  MULTIPOLYGON (((-89.02159 37.74516, -89.03561 ...  \n",
       "1381  POLYGON ((-89.09155 37.79258, -89.08896 37.807...  \n",
       "1382  POLYGON ((-89.11994 37.78039, -89.12263 37.781...  \n",
       "1383  MULTIPOLYGON (((-89.18498 42.37764, -89.18512 ...  \n",
       "\n",
       "[1384 rows x 4 columns]"
      ]
     },
     "execution_count": 16,
     "metadata": {},
     "output_type": "execute_result"
    }
   ],
   "source": [
    "# dph_zipcode_gdf"
   ]
  },
  {
   "cell_type": "markdown",
   "metadata": {
    "pycharm": {
     "name": "#%% md\n"
    }
   },
   "source": [
    "#### 4.1 Get Constant Classes from today's data"
   ]
  },
  {
   "cell_type": "code",
   "execution_count": 17,
   "metadata": {
    "pycharm": {
     "is_executing": false,
     "name": "#%%\n"
    }
   },
   "outputs": [],
   "source": [
    "# dph_zipcode_tested = dph_zipcode_gdf['total_tested']\n",
    "# dph_zipcode_case = dph_zipcode_gdf['confirmed_cases']"
   ]
  },
  {
   "cell_type": "code",
   "execution_count": 18,
   "metadata": {
    "pycharm": {
     "is_executing": false,
     "name": "#%%\n"
    }
   },
   "outputs": [],
   "source": [
    "# dph_zipcode_log_tested = dph_zipcode_tested.apply(lambda x: np.log(x + 1))\n",
    "# dph_zipcode_log_case = dph_zipcode_case.apply(lambda x: np.log(x + 1))"
   ]
  },
  {
   "cell_type": "code",
   "execution_count": 19,
   "metadata": {
    "pycharm": {
     "is_executing": false,
     "name": "#%%\n"
    }
   },
   "outputs": [],
   "source": [
    "# dph_illinois_dict['tested'] = {}\n",
    "# dph_illinois_dict['zipcode_case'] = {}\n",
    "# dph_illinois_dict['zipcode_tested'] = {}"
   ]
  },
  {
   "cell_type": "code",
   "execution_count": 20,
   "metadata": {
    "pycharm": {
     "is_executing": false,
     "name": "#%%\n"
    }
   },
   "outputs": [],
   "source": [
    "# dph_illinois_dict['zipcode_case']['nolog'] = create_dict(dph_zipcode_case)\n",
    "# dph_illinois_dict['zipcode_case']['log'] = create_dict(dph_zipcode_log_case)\n",
    "# dph_illinois_dict['zipcode_tested']['nolog'] = create_dict(dph_zipcode_tested)\n",
    "# dph_illinois_dict['zipcode_tested']['log'] = create_dict(dph_zipcode_log_tested)"
   ]
  },
  {
   "cell_type": "code",
   "execution_count": 21,
   "metadata": {},
   "outputs": [
    {
     "data": {
      "text/plain": [
       "{'case': {'nolog': {'Quantiles': {'bins': '1842.0000000000005,2493.0000000000005,4236.0,6705.0,15818.00000000002,318604.0',\n",
       "    'k': 6},\n",
       "   'FisherJenks': {'bins': '8090,22418,39940,78468,105694,318604', 'k': 6},\n",
       "   'NaturalBreaks': {'bins': '8090.0,22418.0,39940.0,78468.0,105694.0,318604.0',\n",
       "    'k': 6}},\n",
       "  'log': {'Quantiles': {'bins': '7.519149957669823,7.821643126239982,8.351610750626559,8.810757927026176,9.668967028198582,12.671707369994703',\n",
       "    'k': 6},\n",
       "   'FisherJenks': {'bins': '7.224753405767971,8.200837258379849,8.99850761180784,10.18074042949737,11.568312867049787,12.671707369994703',\n",
       "    'k': 6},\n",
       "   'NaturalBreaks': {'bins': '7.224753405767971,8.200837258379849,8.99850761180784,10.18074042949737,11.568312867049787,12.671707369994703',\n",
       "    'k': 6}}},\n",
       " 'death': {'nolog': {'Quantiles': {'bins': '21.000000000000007,39.00000000000001,68.0,98.0,214.00000000000034,5785.0',\n",
       "    'k': 6},\n",
       "   'FisherJenks': {'bins': '150,365,861,1366,5281,5785', 'k': 6},\n",
       "   'NaturalBreaks': {'bins': '150.0,365.0,861.0,1366.0,5281.0,5785.0',\n",
       "    'k': 6}},\n",
       "  'log': {'Quantiles': {'bins': '3.091042453358316,3.6888794541139363,4.23410650459726,4.59511985013459,5.370638028127664,8.66319648553608',\n",
       "    'k': 6},\n",
       "   'FisherJenks': {'bins': '2.833213344056216,3.871201010907891,4.770684624465665,5.902633333401366,7.220373836723949,8.66319648553608',\n",
       "    'k': 6},\n",
       "   'NaturalBreaks': {'bins': '2.833213344056216,3.871201010907891,4.770684624465665,5.902633333401366,7.220373836723949,8.66319648553608',\n",
       "    'k': 6}}},\n",
       " 'case_per_100k_capita': {'nolog': {'Quantiles': {'bins': '12615.914016937413,14059.370390839233,14805.963828314949,15924.34411226358,17670.83027185893,21044.04567699837',\n",
       "    'k': 6},\n",
       "   'FisherJenks': {'bins': '5873.5722642613355,11966.333252012686,13880.906768837804,15746.564385952155,17965.92279855247,21044.04567699837',\n",
       "    'k': 6},\n",
       "   'NaturalBreaks': {'bins': '5873.5722642613355,11966.333252012686,13880.906768837804,15746.564385952155,17965.92279855247,21044.04567699837',\n",
       "    'k': 6}},\n",
       "  'log': {'Quantiles': {'bins': '9.442793575046583,9.551115508605097,9.602852878028376,9.675667088512313,9.77972714069999,9.954420451646524',\n",
       "    'k': 6},\n",
       "   'FisherJenks': {'bins': '8.678388530278692,9.341093959949768,9.508550827174933,9.632746157853461,9.760351681027315,9.954420451646524',\n",
       "    'k': 6},\n",
       "   'NaturalBreaks': {'bins': '8.678388530278692,9.341093959949768,9.508550827174933,9.632746157853461,9.760351681027315,9.954420451646524',\n",
       "    'k': 6}}},\n",
       " 'death_per_100k_capita': {'nolog': {'Quantiles': {'bins': '144.8696684890554,190.28542814221333,222.55505460451468,252.58443350779893,288.43889804567954,497.5124378109453',\n",
       "    'k': 6},\n",
       "   'FisherJenks': {'bins': '105.79427083333333,175.3206907635216,234.17489937797293,306.65440049064705,384.8185316532106,497.5124378109453',\n",
       "    'k': 6},\n",
       "   'NaturalBreaks': {'bins': '118.70845204178538,175.3206907635216,229.93023484327404,306.65440049064705,384.8185316532106,497.5124378109453',\n",
       "    'k': 6}},\n",
       "  'log': {'Quantiles': {'bins': '4.9827135414490415,5.253766700738917,5.409657713046224,5.5356968386120755,5.66794421444543,6.211628539563946',\n",
       "    'k': 6},\n",
       "   'FisherJenks': {'bins': '3.7530111609436076,4.670904281204563,5.146599771602407,5.442115651241002,5.728977076645547,6.211628539563946',\n",
       "    'k': 6},\n",
       "   'NaturalBreaks': {'bins': '3.7530111609436076,4.670904281204563,5.146599771602407,5.442115651241002,5.728977076645547,6.211628539563946',\n",
       "    'k': 6}}},\n",
       " 'tested': {},\n",
       " 'zipcode_case': {'nolog': {'Quantiles': {'bins': '58.50000000000003,131.0,261.0,822.0000000000005,2571.0000000000036,18669.0',\n",
       "    'k': 6},\n",
       "   'FisherJenks': {'bins': '989.0,2715.0,4797.0,7662.0,11971.0,18669.0',\n",
       "    'k': 6},\n",
       "   'NaturalBreaks': {'bins': '1078.0,2838.0,4797.0,7662.0,11971.0,18669.0',\n",
       "    'k': 6}},\n",
       "  'log': {'Quantiles': {'bins': '4.08594100306391,4.882801922586371,5.568344503761097,6.712956200677071,7.852434247978113,9.834673236535767',\n",
       "    'k': 6},\n",
       "   'FisherJenks': {'bins': '0.0,4.007333185232471,5.198497031265826,6.413458957167357,7.673223121121708,9.834673236535767',\n",
       "    'k': 6},\n",
       "   'NaturalBreaks': {'bins': '0.0,4.127134385045092,5.2832037287379885,6.456769655572163,7.687538766201629,9.834673236535767',\n",
       "    'k': 6}}},\n",
       " 'zipcode_tested': {'nolog': {'Quantiles': {'bins': '737.0,1566.0,3556.5,11914.000000000027,43064.50000000006,1265122.0',\n",
       "    'k': 6},\n",
       "   'FisherJenks': {'bins': '23419.0,65753.0,123781.0,215305.0,641714.0,1265122.0',\n",
       "    'k': 6},\n",
       "   'NaturalBreaks': {'bins': '23419.0,65753.0,123781.0,215305.0,641714.0,1265122.0',\n",
       "    'k': 6}},\n",
       "  'log': {'Quantiles': {'bins': '6.6039438246004725,7.356918242356021,8.176801230627964,9.385553389532845,10.670473576917551,14.050679908618497',\n",
       "    'k': 6},\n",
       "   'FisherJenks': {'bins': '0.0,6.495265555937008,7.804251383528112,9.179778066393542,10.548992659618232,14.050679908618497',\n",
       "    'k': 6},\n",
       "   'NaturalBreaks': {'bins': '0.0,6.495265555937008,7.832014180505469,9.231710397712375,10.620522143549415,14.050679908618497',\n",
       "    'k': 6}}}}"
      ]
     },
     "execution_count": 21,
     "metadata": {},
     "output_type": "execute_result"
    }
   ],
   "source": [
    "# dph_illinois_dict"
   ]
  },
  {
   "cell_type": "markdown",
   "metadata": {},
   "source": [
    "### 5. For WHO World Data"
   ]
  },
  {
   "cell_type": "markdown",
   "metadata": {},
   "source": [
    "#### 5.0 Load Data"
   ]
  },
  {
   "cell_type": "code",
   "execution_count": 100,
   "metadata": {},
   "outputs": [],
   "source": [
    "who_world_gdf = gpd.read_file('worldwide/who_world_data.geojson')"
   ]
  },
  {
   "cell_type": "markdown",
   "metadata": {
    "pycharm": {
     "name": "#%% md\n"
    }
   },
   "source": [
    "#### 5.1 Get Constant Classes from today's data"
   ]
  },
  {
   "cell_type": "code",
   "execution_count": 101,
   "metadata": {},
   "outputs": [],
   "source": [
    "who_world_case = who_world_gdf['today_case']\n",
    "who_world_death = who_world_gdf['today_death']\n",
    "who_world_case_per_100k_capita = who_world_gdf['today_case']/(who_world_gdf['population']/100000)\n",
    "who_world_death_per_100k_capita = who_world_gdf['today_death']/(who_world_gdf['population']/100000)"
   ]
  },
  {
   "cell_type": "code",
   "execution_count": 102,
   "metadata": {},
   "outputs": [],
   "source": [
    "who_world_log_case = who_world_case.apply(lambda x: np.log(x + 1))\n",
    "who_world_log_death = who_world_death.apply(lambda x: np.log(x + 1))\n",
    "who_world_log_case_per_100k_capita = who_world_case_per_100k_capita.apply(lambda x: np.log(x + 1))\n",
    "who_world_log_death_per_100k_capita = who_world_death_per_100k_capita.apply(lambda x: np.log(x + 1))"
   ]
  },
  {
   "cell_type": "code",
   "execution_count": 103,
   "metadata": {},
   "outputs": [],
   "source": [
    "who_world_dict['case'] = {}\n",
    "who_world_dict['death'] = {}\n",
    "who_world_dict['case_per_100k_capita'] = {}\n",
    "who_world_dict['death_per_100k_capita'] = {}"
   ]
  },
  {
   "cell_type": "code",
   "execution_count": 104,
   "metadata": {},
   "outputs": [],
   "source": [
    "who_world_dict['case']['nolog'] = create_dict(who_world_case)\n",
    "who_world_dict['case']['log'] = create_dict(who_world_log_case)\n",
    "who_world_dict['death']['nolog'] = create_dict(who_world_death)\n",
    "who_world_dict['death']['log'] = create_dict(who_world_log_death)\n",
    "who_world_dict['case_per_100k_capita']['nolog'] = create_dict(who_world_case_per_100k_capita)\n",
    "who_world_dict['case_per_100k_capita']['log'] = create_dict(who_world_log_case_per_100k_capita)\n",
    "who_world_dict['death_per_100k_capita']['nolog'] = create_dict(who_world_death_per_100k_capita)\n",
    "who_world_dict['death_per_100k_capita']['log'] = create_dict(who_world_log_death_per_100k_capita)"
   ]
  },
  {
   "cell_type": "code",
   "execution_count": 105,
   "metadata": {},
   "outputs": [
    {
     "data": {
      "text/plain": [
       "{'case': {'nolog': {'Quantiles': {'bins': '19.66666666666667,352.6666666666667,2058.0,9423.666666666672,50798.50000000012,4148011.0',\n",
       "    'k': 6},\n",
       "   'FisherJenks': {'bins': '113556.0,445433.0,818120.0,1435453.0,2394513.0,4148011.0',\n",
       "    'k': 6},\n",
       "   'NaturalBreaks': {'bins': '113556.0,445433.0,818120.0,1435453.0,2394513.0,4148011.0',\n",
       "    'k': 6}},\n",
       "  'log': {'Quantiles': {'bins': '3.0278418612972597,5.868340600805565,7.629907769568833,9.15090090956101,10.835466980983195,15.238139741287833',\n",
       "    'k': 6},\n",
       "   'FisherJenks': {'bins': '1.6094379124341003,4.770684624465665,7.106606137727303,9.343559215762406,11.640060192485223,15.238139741287833',\n",
       "    'k': 6},\n",
       "   'NaturalBreaks': {'bins': '1.6094379124341003,4.770684624465665,7.106606137727303,9.343559215762406,11.640060192485223,15.238139741287833',\n",
       "    'k': 6}}},\n",
       " 'death': {'nolog': {'Quantiles': {'bins': '0.0,8.666666666666671,41.5,155.33333333333334,1174.0000000000055,145727.0',\n",
       "    'k': 6},\n",
       "   'FisherJenks': {'bins': '2928.0,18030.0,35107.0,45752.0,86449.0,145727.0',\n",
       "    'k': 6},\n",
       "   'NaturalBreaks': {'bins': '2928.0,18030.0,35107.0,45752.0,86449.0,145727.0',\n",
       "    'k': 6}},\n",
       "  'log': {'Quantiles': {'bins': '0.0,2.2674649211081044,3.7494348669884654,5.051985939949128,7.06839623760238,11.889497149423411',\n",
       "    'k': 6},\n",
       "   'FisherJenks': {'bins': '1.0986122886681098,3.332204510175204,5.123963979403259,7.171656822768514,9.19238004659919,11.889497149423411',\n",
       "    'k': 6},\n",
       "   'NaturalBreaks': {'bins': '1.0986122886681098,3.295836866004329,5.123963979403259,7.171656822768514,9.19238004659919,11.889497149423411',\n",
       "    'k': 6}}},\n",
       " 'case_per_100k_capita': {'nolog': {'Quantiles': {'bins': '3.6949841314935252,24.272003504934798,64.92375979109119,222.45826498826784,457.83193134679414,3859.548520568193',\n",
       "    'k': 6},\n",
       "   'FisherJenks': {'bins': '153.32544343014797,419.50412321456173,883.1137135362086,1527.7429926435975,2522.265911225322,3859.548520568193',\n",
       "    'k': 6},\n",
       "   'NaturalBreaks': {'bins': '153.32544343014797,419.50412321456173,883.1137135362086,1527.7429926435975,2522.265911225322,3859.548520568193',\n",
       "    'k': 6}},\n",
       "  'log': {'Quantiles': {'bins': '1.544948510220058,3.2295945702754523,4.188496765121007,5.409135272927397,6.128683893693957,8.258564556137236',\n",
       "    'k': 6},\n",
       "   'FisherJenks': {'bins': '1.049414228891865,2.7367914543133054,3.871637404234213,5.160810218783175,6.434386987933958,8.258564556137236',\n",
       "    'k': 6},\n",
       "   'NaturalBreaks': {'bins': '1.049414228891865,2.7367914543133054,3.871637404234213,5.160810218783175,6.434386987933958,8.258564556137236',\n",
       "    'k': 6}}},\n",
       " 'death_per_100k_capita': {'nolog': {'Quantiles': {'bins': '0.0,0.3383519007572868,1.2984411699740086,3.503947806481934,10.607386737692957,124.04016538688718',\n",
       "    'k': 6},\n",
       "   'FisherJenks': {'bins': '4.160299014757388,11.559426192064757,24.03869723108694,48.07926197699688,85.51857336106454,124.04016538688718',\n",
       "    'k': 6},\n",
       "   'NaturalBreaks': {'bins': '3.9842753931151718,11.559426192064757,24.03869723108694,48.07926197699688,85.51857336106454,124.04016538688718',\n",
       "    'k': 6}},\n",
       "  'log': {'Quantiles': {'bins': '0.0,0.29143854831559113,0.8319439668842378,1.5049508102036424,2.4515467282774392,4.828635008784189',\n",
       "    'k': 6},\n",
       "   'FisherJenks': {'bins': '0.23175364575519275,0.8559106762335634,1.6865362540668891,2.5304714746512826,3.488702993032088,4.828635008784189',\n",
       "    'k': 6},\n",
       "   'NaturalBreaks': {'bins': '0.23175364575519275,0.8559106762335634,1.6865362540668891,2.5304714746512826,3.6329749814640975,4.828635008784189',\n",
       "    'k': 6}}}}"
      ]
     },
     "execution_count": 105,
     "metadata": {},
     "output_type": "execute_result"
    }
   ],
   "source": [
    "who_world_dict"
   ]
  },
  {
   "cell_type": "markdown",
   "metadata": {},
   "source": [
    "### 6. For Vulnerability Data"
   ]
  },
  {
   "cell_type": "markdown",
   "metadata": {},
   "source": [
    "#### 6.0 Load Data"
   ]
  },
  {
   "cell_type": "code",
   "execution_count": 8,
   "metadata": {},
   "outputs": [],
   "source": [
    "vul_gdf = gpd.read_file('illinois/vulnerability.geojson')"
   ]
  },
  {
   "cell_type": "markdown",
   "metadata": {
    "pycharm": {
     "name": "#%% md\n"
    }
   },
   "source": [
    "#### 6.1 Get Constant Classes from today's data"
   ]
  },
  {
   "cell_type": "code",
   "execution_count": 9,
   "metadata": {},
   "outputs": [],
   "source": [
    "vul = vul_gdf['today_vul']"
   ]
  },
  {
   "cell_type": "code",
   "execution_count": 10,
   "metadata": {},
   "outputs": [],
   "source": [
    "vul_dict['case'] = {}"
   ]
  },
  {
   "cell_type": "code",
   "execution_count": 11,
   "metadata": {},
   "outputs": [],
   "source": [
    "vul_dict['case']['nolog'] = create_dict(vul)"
   ]
  },
  {
   "cell_type": "code",
   "execution_count": 12,
   "metadata": {},
   "outputs": [
    {
     "data": {
      "text/plain": [
       "{'case': {'nolog': {'Quantiles': {'bins': '0.309049268215048,0.365615406049071,0.417252086664159,0.4725948884265381,0.5381530696760801,0.717163598455802',\n",
       "    'k': 6},\n",
       "   'FisherJenks': {'bins': '0.28182576656381,0.346748353852654,0.409489937192436,0.474170519727913,0.543735718587675,0.717163598455802',\n",
       "    'k': 6},\n",
       "   'NaturalBreaks': {'bins': '0.283040610526724,0.346748353852654,0.408732752726884,0.473144761690751,0.543375327243225,0.717163598455802',\n",
       "    'k': 6}}}}"
      ]
     },
     "execution_count": 12,
     "metadata": {},
     "output_type": "execute_result"
    }
   ],
   "source": [
    "vul_dict"
   ]
  },
  {
   "cell_type": "markdown",
   "metadata": {
    "pycharm": {
     "name": "#%% md\n"
    }
   },
   "source": [
    "### 7. Summary and ouput"
   ]
  },
  {
   "cell_type": "code",
   "execution_count": 111,
   "metadata": {
    "pycharm": {
     "is_executing": false,
     "name": "#%%\n"
    }
   },
   "outputs": [
    {
     "name": "stdout",
     "output_type": "stream",
     "text": [
      "done\n"
     ]
    }
   ],
   "source": [
    "import json\n",
    "total_dict['county'] = county_dict\n",
    "total_dict['state'] = state_dict\n",
    "total_dict['dph_illinois'] = dph_illinois_dict\n",
    "total_dict['who_world'] = who_world_dict\n",
    "total_dict['vulnerability'] = vul_dict\n",
    "# dynamic_dict['county'] = dynamic_county_dict\n",
    "# dynamic_dict['state'] = dynamic_state_dict\n",
    "# dynamic_dict['illinois'] = dynamic_illinois_dict\n",
    "with open('classes.json','w') as json_file:\n",
    "    json.dump(total_dict, json_file)\n",
    "# with open('dynamic_classes.json','w') as json_file:\n",
    "#     json.dump(dynamic_dict, json_file)\n",
    "print('done')"
   ]
  }
 ],
 "metadata": {
  "kernelspec": {
   "display_name": "Python 3",
   "language": "python",
   "name": "python3"
  },
  "language_info": {
   "codemirror_mode": {
    "name": "ipython",
    "version": 3
   },
   "file_extension": ".py",
   "mimetype": "text/x-python",
   "name": "python",
   "nbconvert_exporter": "python",
   "pygments_lexer": "ipython3",
   "version": "3.7.7"
  },
  "pycharm": {
   "stem_cell": {
    "cell_type": "raw",
    "metadata": {
     "collapsed": false
    },
    "source": []
   }
  }
 },
 "nbformat": 4,
 "nbformat_minor": 1
}
