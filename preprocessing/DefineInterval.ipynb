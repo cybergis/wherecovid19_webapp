{
 "cells": [
  {
   "cell_type": "code",
   "execution_count": 63,
   "metadata": {
    "collapsed": true,
    "pycharm": {
     "is_executing": false
    }
   },
   "outputs": [],
   "source": [
    "import geopandas as gpd\n",
    "import numpy as np\n",
    "import mapclassify as mc\n",
    "import matplotlib.pyplot as plt"
   ]
  },
  {
   "cell_type": "code",
   "execution_count": 64,
   "outputs": [],
   "source": [
    "total_dict = {}\n",
    "county_dict = {}\n",
    "state_dict = {}\n",
    "illinois_dict = {}"
   ],
   "metadata": {
    "collapsed": false,
    "pycharm": {
     "name": "#%%\n",
     "is_executing": false
    }
   }
  },
  {
   "cell_type": "code",
   "execution_count": 65,
   "outputs": [],
   "source": [
    "dynamic_dict = {}\n",
    "dynamic_county_dict = {}\n",
    "dynamic_state_dict = {}\n",
    "dynamic_illinois_dict = {}"
   ],
   "metadata": {
    "collapsed": false,
    "pycharm": {
     "name": "#%%\n",
     "is_executing": false
    }
   }
  },
  {
   "cell_type": "markdown",
   "source": [
    "1. Read County Data"
   ],
   "metadata": {
    "collapsed": false,
    "pycharm": {
     "name": "#%% md\n"
    }
   }
  },
  {
   "cell_type": "code",
   "execution_count": 66,
   "outputs": [],
   "source": [
    "counties_gdf = gpd.read_file('nyt_counties_data.geojson')"
   ],
   "metadata": {
    "collapsed": false,
    "pycharm": {
     "name": "#%%\n",
     "is_executing": false
    }
   }
  },
  {
   "cell_type": "code",
   "execution_count": 67,
   "outputs": [
    {
     "data": {
      "text/plain": "       NAME      state_name  population   fips dt_first_case dt_first_death  \\\n0    Bladen  North Carolina       33778  37017    2020-03-29           None   \n1    Stanly  North Carolina       61114  37167    2020-03-20     2020-04-09   \n2    Summit            Ohio      541810  39153    2020-03-14     2020-03-27   \n3  Sullivan    Pennsylvania        6177  42113    2020-04-04           None   \n4    Upshur           Texas       40769  48459    2020-03-20           None   \n\n                                            cases_ts  \\\n0  0,0,0,0,0,0,0,0,0,0,0,0,0,0,0,0,0,0,0,0,0,0,0,...   \n1  0.0,0.0,0.0,0.0,0.0,0.0,0.0,0.0,0.0,0.0,0.0,0....   \n2  0.0,0.0,0.0,0.0,0.0,0.0,0.0,0.0,0.0,0.0,0.0,0....   \n3  0.0,0.0,0.0,0.0,0.0,0.0,0.0,0.0,0.0,0.0,0.0,0....   \n4  0.0,0.0,0.0,0.0,0.0,0.0,0.0,0.0,0.0,0.0,0.0,0....   \n\n                                           deaths_ts  today_case  \\\n0  0.0,0.0,0.0,0.0,0.0,0.0,0.0,0.0,0.0,0.0,0.0,0....         4.0   \n1  0.0,0.0,0.0,0.0,0.0,0.0,0.0,0.0,0.0,0.0,0.0,0....        22.0   \n2  0.0,0.0,0.0,0.0,0.0,0.0,0.0,0.0,0.0,0.0,0.0,0....       415.0   \n3  0.0,0.0,0.0,0.0,0.0,0.0,0.0,0.0,0.0,0.0,0.0,0....         1.0   \n4  0.0,0.0,0.0,0.0,0.0,0.0,0.0,0.0,0.0,0.0,0.0,0....        12.0   \n\n   today_new_case  today_death  today_new_death    dt_start      dt_end  \\\n0             0.0          0.0              0.0  2020-01-21  2020-04-22   \n1             1.0          4.0              1.0  2020-01-21  2020-04-22   \n2            30.0         30.0              2.0  2020-01-21  2020-04-22   \n3             0.0          0.0              0.0  2020-01-21  2020-04-22   \n4             3.0          0.0              0.0  2020-01-21  2020-04-22   \n\n  dt_unit                                           geometry  \n0     day  MULTIPOLYGON (((-78.90200 34.83527, -78.79960 ...  \n1     day  MULTIPOLYGON (((-80.49738 35.20210, -80.29542 ...  \n2     day  MULTIPOLYGON (((-81.68699 41.13596, -81.68495 ...  \n3     day  MULTIPOLYGON (((-76.81373 41.59003, -76.22014 ...  \n4     day  MULTIPOLYGON (((-95.15274 32.66095, -95.15211 ...  ",
      "text/html": "<div>\n<style scoped>\n    .dataframe tbody tr th:only-of-type {\n        vertical-align: middle;\n    }\n\n    .dataframe tbody tr th {\n        vertical-align: top;\n    }\n\n    .dataframe thead th {\n        text-align: right;\n    }\n</style>\n<table border=\"1\" class=\"dataframe\">\n  <thead>\n    <tr style=\"text-align: right;\">\n      <th></th>\n      <th>NAME</th>\n      <th>state_name</th>\n      <th>population</th>\n      <th>fips</th>\n      <th>dt_first_case</th>\n      <th>dt_first_death</th>\n      <th>cases_ts</th>\n      <th>deaths_ts</th>\n      <th>today_case</th>\n      <th>today_new_case</th>\n      <th>today_death</th>\n      <th>today_new_death</th>\n      <th>dt_start</th>\n      <th>dt_end</th>\n      <th>dt_unit</th>\n      <th>geometry</th>\n    </tr>\n  </thead>\n  <tbody>\n    <tr>\n      <th>0</th>\n      <td>Bladen</td>\n      <td>North Carolina</td>\n      <td>33778</td>\n      <td>37017</td>\n      <td>2020-03-29</td>\n      <td>None</td>\n      <td>0,0,0,0,0,0,0,0,0,0,0,0,0,0,0,0,0,0,0,0,0,0,0,...</td>\n      <td>0.0,0.0,0.0,0.0,0.0,0.0,0.0,0.0,0.0,0.0,0.0,0....</td>\n      <td>4.0</td>\n      <td>0.0</td>\n      <td>0.0</td>\n      <td>0.0</td>\n      <td>2020-01-21</td>\n      <td>2020-04-22</td>\n      <td>day</td>\n      <td>MULTIPOLYGON (((-78.90200 34.83527, -78.79960 ...</td>\n    </tr>\n    <tr>\n      <th>1</th>\n      <td>Stanly</td>\n      <td>North Carolina</td>\n      <td>61114</td>\n      <td>37167</td>\n      <td>2020-03-20</td>\n      <td>2020-04-09</td>\n      <td>0.0,0.0,0.0,0.0,0.0,0.0,0.0,0.0,0.0,0.0,0.0,0....</td>\n      <td>0.0,0.0,0.0,0.0,0.0,0.0,0.0,0.0,0.0,0.0,0.0,0....</td>\n      <td>22.0</td>\n      <td>1.0</td>\n      <td>4.0</td>\n      <td>1.0</td>\n      <td>2020-01-21</td>\n      <td>2020-04-22</td>\n      <td>day</td>\n      <td>MULTIPOLYGON (((-80.49738 35.20210, -80.29542 ...</td>\n    </tr>\n    <tr>\n      <th>2</th>\n      <td>Summit</td>\n      <td>Ohio</td>\n      <td>541810</td>\n      <td>39153</td>\n      <td>2020-03-14</td>\n      <td>2020-03-27</td>\n      <td>0.0,0.0,0.0,0.0,0.0,0.0,0.0,0.0,0.0,0.0,0.0,0....</td>\n      <td>0.0,0.0,0.0,0.0,0.0,0.0,0.0,0.0,0.0,0.0,0.0,0....</td>\n      <td>415.0</td>\n      <td>30.0</td>\n      <td>30.0</td>\n      <td>2.0</td>\n      <td>2020-01-21</td>\n      <td>2020-04-22</td>\n      <td>day</td>\n      <td>MULTIPOLYGON (((-81.68699 41.13596, -81.68495 ...</td>\n    </tr>\n    <tr>\n      <th>3</th>\n      <td>Sullivan</td>\n      <td>Pennsylvania</td>\n      <td>6177</td>\n      <td>42113</td>\n      <td>2020-04-04</td>\n      <td>None</td>\n      <td>0.0,0.0,0.0,0.0,0.0,0.0,0.0,0.0,0.0,0.0,0.0,0....</td>\n      <td>0.0,0.0,0.0,0.0,0.0,0.0,0.0,0.0,0.0,0.0,0.0,0....</td>\n      <td>1.0</td>\n      <td>0.0</td>\n      <td>0.0</td>\n      <td>0.0</td>\n      <td>2020-01-21</td>\n      <td>2020-04-22</td>\n      <td>day</td>\n      <td>MULTIPOLYGON (((-76.81373 41.59003, -76.22014 ...</td>\n    </tr>\n    <tr>\n      <th>4</th>\n      <td>Upshur</td>\n      <td>Texas</td>\n      <td>40769</td>\n      <td>48459</td>\n      <td>2020-03-20</td>\n      <td>None</td>\n      <td>0.0,0.0,0.0,0.0,0.0,0.0,0.0,0.0,0.0,0.0,0.0,0....</td>\n      <td>0.0,0.0,0.0,0.0,0.0,0.0,0.0,0.0,0.0,0.0,0.0,0....</td>\n      <td>12.0</td>\n      <td>3.0</td>\n      <td>0.0</td>\n      <td>0.0</td>\n      <td>2020-01-21</td>\n      <td>2020-04-22</td>\n      <td>day</td>\n      <td>MULTIPOLYGON (((-95.15274 32.66095, -95.15211 ...</td>\n    </tr>\n  </tbody>\n</table>\n</div>"
     },
     "metadata": {},
     "output_type": "execute_result",
     "execution_count": 67
    }
   ],
   "source": [
    "counties_gdf.head(5)"
   ],
   "metadata": {
    "collapsed": false,
    "pycharm": {
     "name": "#%%\n",
     "is_executing": false
    }
   }
  },
  {
   "cell_type": "code",
   "execution_count": 68,
   "outputs": [],
   "source": [
    "case = counties_gdf['today_case']\n",
    "death = counties_gdf['today_death']\n",
    "case_per_100k_capita = counties_gdf['today_case']/(counties_gdf['population']/100000)\n",
    "death_per_100k_capita = counties_gdf['today_death']/(counties_gdf['population']/100000)\n",
    "death_case_ratio = counties_gdf['today_death']/counties_gdf['today_case']\n",
    "death_case_ratio = death_case_ratio.replace(np.nan, 0)"
   ],
   "metadata": {
    "collapsed": false,
    "pycharm": {
     "name": "#%%\n",
     "is_executing": false
    }
   }
  },
  {
   "cell_type": "code",
   "execution_count": 69,
   "outputs": [
    {
     "data": {
      "text/plain": "0       0.000000\n1       0.181818\n2       0.072289\n3       0.000000\n4       0.000000\n5       0.076923\n6       0.000000\n7       0.000000\n8       0.000000\n9       0.000000\n10      0.125000\n11      0.000000\n12      0.000000\n13      0.000000\n14      0.000000\n15      0.000000\n16      0.000000\n17      0.000000\n18      0.000000\n19      0.083333\n20      0.000000\n21      0.038462\n22      0.000000\n23      0.000000\n24      0.000000\n25      0.000000\n26      0.058824\n27      0.000000\n28      0.063584\n29      0.000000\n          ...   \n3192    0.166667\n3193    0.050114\n3194    0.000000\n3195    0.000000\n3196    0.166667\n3197    0.011765\n3198    0.000000\n3199    0.000000\n3200    0.153846\n3201    0.000000\n3202    0.000000\n3203    0.000000\n3204    0.000000\n3205    0.000000\n3206    0.000000\n3207    0.083333\n3208    0.050000\n3209    0.000000\n3210    0.000000\n3211    0.000000\n3212    0.028986\n3213    0.038136\n3214    0.112500\n3215    0.000000\n3216    0.000000\n3217    0.250000\n3218    0.103896\n3219    0.058651\n3220    0.029018\n3221    0.074515\nLength: 3222, dtype: float64"
     },
     "metadata": {},
     "output_type": "execute_result",
     "execution_count": 69
    }
   ],
   "source": [
    "death_case_ratio"
   ],
   "metadata": {
    "collapsed": false,
    "pycharm": {
     "name": "#%%\n",
     "is_executing": false
    }
   }
  },
  {
   "cell_type": "markdown",
   "source": [
    "1.1 Get Constant Classes from today's data"
   ],
   "metadata": {
    "collapsed": false,
    "pycharm": {
     "name": "#%% md\n"
    }
   }
  },
  {
   "cell_type": "code",
   "execution_count": 70,
   "outputs": [],
   "source": [
    "def create_dict(column,name,dict):\n",
    "    tmp_dict = {}\n",
    "    tmp_dict['Quantiles'] = {\n",
    "        'bins': ','.join(mc.Quantiles(column, k=6).bins.astype(str)),\n",
    "        'k': 6\n",
    "    }\n",
    "    tmp_dict['FisherJenks'] = {\n",
    "        'bins': ','.join(mc.FisherJenks(column, k=6).bins.astype(str)),\n",
    "        'k': 6\n",
    "    }\n",
    "    tmp_dict['NaturalBreaks'] = {\n",
    "        'bins': ','.join(mc.NaturalBreaks(column, k=6).bins.astype(str)),\n",
    "        'k': 6\n",
    "    }\n",
    "    dict[name] = tmp_dict"
   ],
   "metadata": {
    "collapsed": false,
    "pycharm": {
     "name": "#%%\n",
     "is_executing": false
    }
   }
  },
  {
   "cell_type": "code",
   "execution_count": 71,
   "outputs": [],
   "source": [
    "create_dict(case,'case',county_dict)"
   ],
   "metadata": {
    "collapsed": false,
    "pycharm": {
     "name": "#%%\n",
     "is_executing": false
    }
   }
  },
  {
   "cell_type": "code",
   "execution_count": 72,
   "outputs": [
    {
     "name": "stderr",
     "text": [
      "C:\\Users\\Jason\\Anaconda3\\lib\\site-packages\\mapclassify\\classifiers.py:237: UserWarning: Warning: Not enough unique values in array to form k classes\n  \"Warning: Not enough unique values in array to form k classes\", UserWarning\nC:\\Users\\Jason\\Anaconda3\\lib\\site-packages\\mapclassify\\classifiers.py:239: UserWarning: Warning: setting k to 4\n  Warn(\"Warning: setting k to %d\" % k_q, UserWarning)\n"
     ],
     "output_type": "stream"
    }
   ],
   "source": [
    "create_dict(death,'death',county_dict)"
   ],
   "metadata": {
    "collapsed": false,
    "pycharm": {
     "name": "#%%\n",
     "is_executing": false
    }
   }
  },
  {
   "cell_type": "code",
   "execution_count": 73,
   "outputs": [],
   "source": [
    "create_dict(case_per_100k_capita,'case_per_100k_capita',county_dict)"
   ],
   "metadata": {
    "collapsed": false,
    "pycharm": {
     "name": "#%%\n",
     "is_executing": false
    }
   }
  },
  {
   "cell_type": "code",
   "execution_count": 74,
   "outputs": [
    {
     "name": "stderr",
     "text": [
      "C:\\Users\\Jason\\Anaconda3\\lib\\site-packages\\mapclassify\\classifiers.py:237: UserWarning: Warning: Not enough unique values in array to form k classes\n  \"Warning: Not enough unique values in array to form k classes\", UserWarning\nC:\\Users\\Jason\\Anaconda3\\lib\\site-packages\\mapclassify\\classifiers.py:239: UserWarning: Warning: setting k to 4\n  Warn(\"Warning: setting k to %d\" % k_q, UserWarning)\n"
     ],
     "output_type": "stream"
    }
   ],
   "source": [
    "create_dict(death_per_100k_capita,'death_per_100k_capita',county_dict)"
   ],
   "metadata": {
    "collapsed": false,
    "pycharm": {
     "name": "#%%\n",
     "is_executing": false
    }
   }
  },
  {
   "cell_type": "code",
   "execution_count": 75,
   "outputs": [
    {
     "name": "stderr",
     "text": [
      "C:\\Users\\Jason\\Anaconda3\\lib\\site-packages\\mapclassify\\classifiers.py:237: UserWarning: Warning: Not enough unique values in array to form k classes\n  \"Warning: Not enough unique values in array to form k classes\", UserWarning\nC:\\Users\\Jason\\Anaconda3\\lib\\site-packages\\mapclassify\\classifiers.py:239: UserWarning: Warning: setting k to 4\n  Warn(\"Warning: setting k to %d\" % k_q, UserWarning)\n"
     ],
     "output_type": "stream"
    }
   ],
   "source": [
    "create_dict(death_case_ratio,'death_case_ratio',county_dict)"
   ],
   "metadata": {
    "collapsed": false,
    "pycharm": {
     "name": "#%%\n",
     "is_executing": false
    }
   }
  },
  {
   "cell_type": "code",
   "execution_count": 76,
   "outputs": [
    {
     "data": {
      "text/plain": "{'case': {'Quantiles': {'bins': '1.0,4.0,11.0,29.333333333333485,110.0,142442.0',\n   'k': 6},\n  'FisherJenks': {'bins': '925.0,3294.0,6705.0,16435.0,31555.0,142442.0',\n   'k': 6},\n  'NaturalBreaks': {'bins': '925.0,3294.0,6705.0,16435.0,31555.0,142442.0',\n   'k': 6}},\n 'death': {'Quantiles': {'bins': '0.0,1.0,4.0,10614.0', 'k': 6},\n  'FisherJenks': {'bins': '49.0,230.0,584.0,1072.0,1764.0,10614.0', 'k': 6},\n  'NaturalBreaks': {'bins': '49.0,230.0,584.0,1072.0,1764.0,10614.0', 'k': 6}},\n 'case_per_100k_capita': {'Quantiles': {'bins': '5.24441406005894,22.6647733361811,41.22604326548002,70.08916028547083,143.87585986812593,8703.12172637754',\n   'k': 6},\n  'FisherJenks': {'bins': '131.81019332161688,451.3389298090147,1182.3273179838206,2326.09740491418,3738.590726542534,8703.12172637754',\n   'k': 6},\n  'NaturalBreaks': {'bins': '127.25820940213595,439.8560771109791,1182.3273179838206,2326.09740491418,3738.590726542534,8703.12172637754',\n   'k': 6}},\n 'death_per_100k_capita': {'Quantiles': {'bins': '0.0,2.004126605548561,6.412130962624644,268.1751518960821',\n   'k': 6},\n  'FisherJenks': {'bins': '4.42585584987497,15.678896205707117,37.22845129642607,74.8843805602646,131.19734843253693,268.1751518960821',\n   'k': 6},\n  'NaturalBreaks': {'bins': '4.380009636021199,15.678896205707117,37.22845129642607,74.8843805602646,131.19734843253693,268.1751518960821',\n   'k': 6}},\n 'death_case_ratio': {'Quantiles': {'bins': '0.0,0.02531645569620253,0.0625,1.0',\n   'k': 6},\n  'FisherJenks': {'bins': '0.02247191011235955,0.06857727737973388,0.13793103448275862,0.2857142857142857,0.6666666666666666,1.0',\n   'k': 6},\n  'NaturalBreaks': {'bins': '0.0216,0.06611570247933884,0.13333333333333333,0.2631578947368421,0.6666666666666666,1.0',\n   'k': 6}}}"
     },
     "metadata": {},
     "output_type": "execute_result",
     "execution_count": 76
    }
   ],
   "source": [
    "county_dict"
   ],
   "metadata": {
    "collapsed": false,
    "pycharm": {
     "name": "#%%\n",
     "is_executing": false
    }
   }
  },
  {
   "cell_type": "markdown",
   "source": [
    "1.2 Create Dynamic classes"
   ],
   "metadata": {
    "collapsed": false,
    "pycharm": {
     "name": "#%% md\n"
    }
   }
  },
  {
   "cell_type": "code",
   "execution_count": 77,
   "outputs": [],
   "source": [
    "case_ts = counties_gdf['cases_ts'].apply(lambda x: x.split(','))\n",
    "death_ts = counties_gdf['deaths_ts'].apply(lambda x: x.split(','))"
   ],
   "metadata": {
    "collapsed": false,
    "pycharm": {
     "name": "#%%\n",
     "is_executing": false
    }
   }
  },
  {
   "cell_type": "code",
   "execution_count": 78,
   "outputs": [],
   "source": [
    "length = len(case_ts[1])"
   ],
   "metadata": {
    "collapsed": false,
    "pycharm": {
     "name": "#%%\n",
     "is_executing": false
    }
   }
  },
  {
   "cell_type": "code",
   "execution_count": 79,
   "outputs": [
    {
     "name": "stderr",
     "text": [
      "C:\\Users\\Jason\\Anaconda3\\lib\\site-packages\\mapclassify\\classifiers.py:237: UserWarning: Warning: Not enough unique values in array to form k classes\n  \"Warning: Not enough unique values in array to form k classes\", UserWarning\nC:\\Users\\Jason\\Anaconda3\\lib\\site-packages\\mapclassify\\classifiers.py:239: UserWarning: Warning: setting k to 1\n  Warn(\"Warning: setting k to %d\" % k_q, UserWarning)\nC:\\Users\\Jason\\Anaconda3\\lib\\site-packages\\mapclassify\\classifiers.py:890: RuntimeWarning: invalid value encountered in double_scalars\n  gadf = 1 - self.adcm / adam\nC:\\Users\\Jason\\Anaconda3\\lib\\site-packages\\mapclassify\\classifiers.py:239: UserWarning: Warning: setting k to 2\n  Warn(\"Warning: setting k to %d\" % k_q, UserWarning)\n",
      "C:\\Users\\Jason\\Anaconda3\\lib\\site-packages\\mapclassify\\classifiers.py:239: UserWarning: Warning: setting k to 3\n  Warn(\"Warning: setting k to %d\" % k_q, UserWarning)\nC:\\Users\\Jason\\Anaconda3\\lib\\site-packages\\mapclassify\\classifiers.py:239: UserWarning: Warning: setting k to 4\n  Warn(\"Warning: setting k to %d\" % k_q, UserWarning)\n"
     ],
     "output_type": "stream"
    }
   ],
   "source": [
    "new_case_dict = {}\n",
    "for i in range(1,length):\n",
    "    q6 = mc.Quantiles(case_ts.apply(lambda x: int(float(x[i]) - float(x[i - 1]))).values, k=6)\n",
    "    new_case_dict[i] = ','.join(q6.bins.astype(int).astype(str))"
   ],
   "metadata": {
    "collapsed": false,
    "pycharm": {
     "name": "#%%\n",
     "is_executing": false
    }
   }
  },
  {
   "cell_type": "code",
   "execution_count": 80,
   "outputs": [],
   "source": [
    "new_death_dict = {}\n",
    "for i in range(1,length):\n",
    "    d6 = mc.Quantiles(death_ts.apply(lambda x: int(float(x[i]) - float(x[i - 1]))).values, k=6)\n",
    "    new_death_dict[i] = ','.join(d6.bins.astype(int).astype(str))"
   ],
   "metadata": {
    "collapsed": false,
    "pycharm": {
     "name": "#%%\n",
     "is_executing": false
    }
   }
  },
  {
   "cell_type": "code",
   "execution_count": 81,
   "outputs": [],
   "source": [
    "dynamic_county_dict['new_case'] = new_case_dict\n",
    "dynamic_county_dict['new_death'] = new_death_dict\n"
   ],
   "metadata": {
    "collapsed": false,
    "pycharm": {
     "name": "#%%\n",
     "is_executing": false
    }
   }
  },
  {
   "cell_type": "markdown",
   "source": [
    "2.Read State Data"
   ],
   "metadata": {
    "collapsed": false,
    "pycharm": {
     "name": "#%% md\n"
    }
   }
  },
  {
   "cell_type": "code",
   "execution_count": 82,
   "outputs": [],
   "source": [
    "state_gdf = gpd.read_file('nyt_states_data.geojson')"
   ],
   "metadata": {
    "collapsed": false,
    "pycharm": {
     "name": "#%%\n",
     "is_executing": false
    }
   }
  },
  {
   "cell_type": "code",
   "execution_count": 83,
   "outputs": [
    {
     "data": {
      "text/plain": "            NAME  population fips dt_first_case dt_first_death  \\\n0  West Virginia     1829054   54    2020-03-17     2020-03-29   \n1        Florida    20598139   12    2020-03-01     2020-03-06   \n2       Illinois    12821497   17    2020-01-24     2020-03-17   \n3      Minnesota     5527358   27    2020-03-06     2020-03-21   \n4       Maryland     6003435   24    2020-03-05     2020-03-18   \n\n                                            cases_ts  \\\n0  0.0,0.0,0.0,0.0,0.0,0.0,0.0,0.0,0.0,0.0,0.0,0....   \n1  0.0,0.0,0.0,0.0,0.0,0.0,0.0,0.0,0.0,0.0,0.0,0....   \n2  0.0,0.0,0.0,1.0,1.0,1.0,1.0,1.0,1.0,2.0,2.0,2....   \n3  0.0,0.0,0.0,0.0,0.0,0.0,0.0,0.0,0.0,0.0,0.0,0....   \n4  0.0,0.0,0.0,0.0,0.0,0.0,0.0,0.0,0.0,0.0,0.0,0....   \n\n                                           deaths_ts  today_case  \\\n0  0.0,0.0,0.0,0.0,0.0,0.0,0.0,0.0,0.0,0.0,0.0,0....       939.0   \n1  0.0,0.0,0.0,0.0,0.0,0.0,0.0,0.0,0.0,0.0,0.0,0....     28301.0   \n2  0.0,0.0,0.0,0.0,0.0,0.0,0.0,0.0,0.0,0.0,0.0,0....     35108.0   \n3  0.0,0.0,0.0,0.0,0.0,0.0,0.0,0.0,0.0,0.0,0.0,0....      2721.0   \n4  0.0,0.0,0.0,0.0,0.0,0.0,0.0,0.0,0.0,0.0,0.0,0....     14775.0   \n\n   today_new_case  today_death  today_new_death    dt_start      dt_end  \\\n0            10.0         29.0              3.0  2020-01-21  2020-04-22   \n1           440.0        926.0             60.0  2020-01-21  2020-04-22   \n2          2049.0       1577.0             98.0  2020-01-21  2020-04-22   \n3           154.0        179.0             19.0  2020-01-21  2020-04-22   \n4           582.0        632.0             48.0  2020-01-21  2020-04-22   \n\n  dt_unit                                           geometry  \n0     day  POLYGON ((-80.51899 40.63880, -80.51934 39.721...  \n1     day  MULTIPOLYGON (((-82.98748 24.62538, -82.89993 ...  \n2     day  POLYGON ((-90.64284 42.50848, -87.01994 42.493...  \n3     day  POLYGON ((-97.22872 49.00056, -95.15371 48.998...  \n4     day  POLYGON ((-77.71952 39.32131, -77.76086 39.340...  ",
      "text/html": "<div>\n<style scoped>\n    .dataframe tbody tr th:only-of-type {\n        vertical-align: middle;\n    }\n\n    .dataframe tbody tr th {\n        vertical-align: top;\n    }\n\n    .dataframe thead th {\n        text-align: right;\n    }\n</style>\n<table border=\"1\" class=\"dataframe\">\n  <thead>\n    <tr style=\"text-align: right;\">\n      <th></th>\n      <th>NAME</th>\n      <th>population</th>\n      <th>fips</th>\n      <th>dt_first_case</th>\n      <th>dt_first_death</th>\n      <th>cases_ts</th>\n      <th>deaths_ts</th>\n      <th>today_case</th>\n      <th>today_new_case</th>\n      <th>today_death</th>\n      <th>today_new_death</th>\n      <th>dt_start</th>\n      <th>dt_end</th>\n      <th>dt_unit</th>\n      <th>geometry</th>\n    </tr>\n  </thead>\n  <tbody>\n    <tr>\n      <th>0</th>\n      <td>West Virginia</td>\n      <td>1829054</td>\n      <td>54</td>\n      <td>2020-03-17</td>\n      <td>2020-03-29</td>\n      <td>0.0,0.0,0.0,0.0,0.0,0.0,0.0,0.0,0.0,0.0,0.0,0....</td>\n      <td>0.0,0.0,0.0,0.0,0.0,0.0,0.0,0.0,0.0,0.0,0.0,0....</td>\n      <td>939.0</td>\n      <td>10.0</td>\n      <td>29.0</td>\n      <td>3.0</td>\n      <td>2020-01-21</td>\n      <td>2020-04-22</td>\n      <td>day</td>\n      <td>POLYGON ((-80.51899 40.63880, -80.51934 39.721...</td>\n    </tr>\n    <tr>\n      <th>1</th>\n      <td>Florida</td>\n      <td>20598139</td>\n      <td>12</td>\n      <td>2020-03-01</td>\n      <td>2020-03-06</td>\n      <td>0.0,0.0,0.0,0.0,0.0,0.0,0.0,0.0,0.0,0.0,0.0,0....</td>\n      <td>0.0,0.0,0.0,0.0,0.0,0.0,0.0,0.0,0.0,0.0,0.0,0....</td>\n      <td>28301.0</td>\n      <td>440.0</td>\n      <td>926.0</td>\n      <td>60.0</td>\n      <td>2020-01-21</td>\n      <td>2020-04-22</td>\n      <td>day</td>\n      <td>MULTIPOLYGON (((-82.98748 24.62538, -82.89993 ...</td>\n    </tr>\n    <tr>\n      <th>2</th>\n      <td>Illinois</td>\n      <td>12821497</td>\n      <td>17</td>\n      <td>2020-01-24</td>\n      <td>2020-03-17</td>\n      <td>0.0,0.0,0.0,1.0,1.0,1.0,1.0,1.0,1.0,2.0,2.0,2....</td>\n      <td>0.0,0.0,0.0,0.0,0.0,0.0,0.0,0.0,0.0,0.0,0.0,0....</td>\n      <td>35108.0</td>\n      <td>2049.0</td>\n      <td>1577.0</td>\n      <td>98.0</td>\n      <td>2020-01-21</td>\n      <td>2020-04-22</td>\n      <td>day</td>\n      <td>POLYGON ((-90.64284 42.50848, -87.01994 42.493...</td>\n    </tr>\n    <tr>\n      <th>3</th>\n      <td>Minnesota</td>\n      <td>5527358</td>\n      <td>27</td>\n      <td>2020-03-06</td>\n      <td>2020-03-21</td>\n      <td>0.0,0.0,0.0,0.0,0.0,0.0,0.0,0.0,0.0,0.0,0.0,0....</td>\n      <td>0.0,0.0,0.0,0.0,0.0,0.0,0.0,0.0,0.0,0.0,0.0,0....</td>\n      <td>2721.0</td>\n      <td>154.0</td>\n      <td>179.0</td>\n      <td>19.0</td>\n      <td>2020-01-21</td>\n      <td>2020-04-22</td>\n      <td>day</td>\n      <td>POLYGON ((-97.22872 49.00056, -95.15371 48.998...</td>\n    </tr>\n    <tr>\n      <th>4</th>\n      <td>Maryland</td>\n      <td>6003435</td>\n      <td>24</td>\n      <td>2020-03-05</td>\n      <td>2020-03-18</td>\n      <td>0.0,0.0,0.0,0.0,0.0,0.0,0.0,0.0,0.0,0.0,0.0,0....</td>\n      <td>0.0,0.0,0.0,0.0,0.0,0.0,0.0,0.0,0.0,0.0,0.0,0....</td>\n      <td>14775.0</td>\n      <td>582.0</td>\n      <td>632.0</td>\n      <td>48.0</td>\n      <td>2020-01-21</td>\n      <td>2020-04-22</td>\n      <td>day</td>\n      <td>POLYGON ((-77.71952 39.32131, -77.76086 39.340...</td>\n    </tr>\n  </tbody>\n</table>\n</div>"
     },
     "metadata": {},
     "output_type": "execute_result",
     "execution_count": 83
    }
   ],
   "source": [
    "state_gdf.head(5)"
   ],
   "metadata": {
    "collapsed": false,
    "pycharm": {
     "name": "#%%\n",
     "is_executing": false
    }
   }
  },
  {
   "cell_type": "code",
   "execution_count": 84,
   "outputs": [
    {
     "data": {
      "text/plain": "NAME                                                  Virgin Islands\npopulation                                                         0\nfips                                                              78\ndt_first_case                                             2020-03-14\ndt_first_death                                            2020-04-06\ncases_ts           0.0,0.0,0.0,0.0,0.0,0.0,0.0,0.0,0.0,0.0,0.0,0....\ndeaths_ts          0.0,0.0,0.0,0.0,0.0,0.0,0.0,0.0,0.0,0.0,0.0,0....\ntoday_case                                                        54\ntoday_new_case                                                     0\ntoday_death                                                        3\ntoday_new_death                                                    0\ndt_start                                                  2020-01-21\ndt_end                                                    2020-04-22\ndt_unit                                                          day\ngeometry           (POLYGON ((-64.95671400000001 17.678977, -64.9...\nName: 34, dtype: object"
     },
     "metadata": {},
     "output_type": "execute_result",
     "execution_count": 84
    }
   ],
   "source": [
    "state_gdf.iloc[34]"
   ],
   "metadata": {
    "collapsed": false,
    "pycharm": {
     "name": "#%%\n",
     "is_executing": false
    }
   }
  },
  {
   "cell_type": "code",
   "execution_count": 85,
   "outputs": [],
   "source": [
    "state_case = state_gdf['today_case']\n",
    "state_death = state_gdf['today_death']\n",
    "state_case_per_100k_capita = state_gdf['today_case']/(state_gdf['population']/100000)\n",
    "state_death_per_100k_capita = state_gdf['today_death']/(state_gdf['population']/100000)\n",
    "#death_case_ratio = counties_gdf['today_death']/counties_gdf['today_case']\n",
    "#death_case_ratio = death_case_ratio.replace(np.nan, 0)"
   ],
   "metadata": {
    "collapsed": false,
    "pycharm": {
     "name": "#%%\n",
     "is_executing": false
    }
   }
  },
  {
   "cell_type": "code",
   "execution_count": 86,
   "outputs": [],
   "source": [
    "state_death_per_100k_capita = state_death_per_100k_capita.replace(np.nan,0)\n",
    "state_death_per_100k_capita = state_death_per_100k_capita.replace(np.inf,0)\n",
    "state_case_per_100k_capita = state_case_per_100k_capita.replace(np.nan,0)\n",
    "state_case_per_100k_capita = state_case_per_100k_capita.replace(np.inf,0)"
   ],
   "metadata": {
    "collapsed": false,
    "pycharm": {
     "name": "#%%\n",
     "is_executing": false
    }
   }
  },
  {
   "cell_type": "code",
   "execution_count": 87,
   "outputs": [],
   "source": [
    "create_dict(state_case,'case',state_dict)"
   ],
   "metadata": {
    "collapsed": false,
    "pycharm": {
     "name": "#%%\n",
     "is_executing": false
    }
   }
  },
  {
   "cell_type": "code",
   "execution_count": 88,
   "outputs": [],
   "source": [
    "create_dict(state_death,'death',state_dict)"
   ],
   "metadata": {
    "collapsed": false,
    "pycharm": {
     "name": "#%%\n",
     "is_executing": false
    }
   }
  },
  {
   "cell_type": "code",
   "execution_count": 89,
   "outputs": [],
   "source": [
    "create_dict(state_case_per_100k_capita,'case_per_100k_capita',state_dict)"
   ],
   "metadata": {
    "collapsed": false,
    "pycharm": {
     "name": "#%%\n",
     "is_executing": false
    }
   }
  },
  {
   "cell_type": "code",
   "execution_count": 90,
   "outputs": [],
   "source": [
    "create_dict(state_death_per_100k_capita,'death_per_100k_capita',state_dict)"
   ],
   "metadata": {
    "collapsed": false,
    "pycharm": {
     "name": "#%%\n",
     "is_executing": false
    }
   }
  },
  {
   "cell_type": "markdown",
   "source": [
    "3. Read Illinois County Data"
   ],
   "metadata": {
    "collapsed": false,
    "pycharm": {
     "name": "#%% md\n"
    }
   }
  },
  {
   "cell_type": "code",
   "execution_count": 91,
   "outputs": [],
   "source": [
    "illinois_gdf = gpd.read_file('illinois/illinois_counties_data.geojson')"
   ],
   "metadata": {
    "collapsed": false,
    "pycharm": {
     "name": "#%%\n",
     "is_executing": false
    }
   }
  },
  {
   "cell_type": "code",
   "execution_count": 92,
   "outputs": [
    {
     "data": {
      "text/plain": "      NAME state_name  population   fips dt_first_case dt_first_death  \\\n0    Clark   Illinois       15836  17023    2020-03-30           None   \n1  Kendall   Illinois      124626  17093    2020-03-18     2020-03-29   \n2    Brown   Illinois        6675  17009          None           None   \n3   Warren   Illinois       17338  17187    2020-04-11           None   \n4    Union   Illinois       17127  17181    2020-04-15           None   \n\n                                            cases_ts  \\\n0  0.0,0.0,0.0,0.0,0.0,0.0,0.0,0.0,0.0,0.0,0.0,0....   \n1  0.0,0.0,0.0,0.0,0.0,0.0,0.0,0.0,0.0,0.0,0.0,0....   \n2  0,0,0,0,0,0,0,0,0,0,0,0,0,0,0,0,0,0,0,0,0,0,0,...   \n3  0.0,0.0,0.0,0.0,0.0,0.0,0.0,0.0,0.0,0.0,0.0,0....   \n4  0.0,0.0,0.0,0.0,0.0,0.0,0.0,0.0,0.0,0.0,0.0,0....   \n\n                                           deaths_ts  today_case  \\\n0  0.0,0.0,0.0,0.0,0.0,0.0,0.0,0.0,0.0,0.0,0.0,0....         4.0   \n1  0.0,0.0,0.0,0.0,0.0,0.0,0.0,0.0,0.0,0.0,0.0,0....       157.0   \n2  0,0,0,0,0,0,0,0,0,0,0,0,0,0,0,0,0,0,0,0,0,0,0,...         0.0   \n3  0.0,0.0,0.0,0.0,0.0,0.0,0.0,0.0,0.0,0.0,0.0,0....        19.0   \n4  0.0,0.0,0.0,0.0,0.0,0.0,0.0,0.0,0.0,0.0,0.0,0....         5.0   \n\n   today_new_case  today_death  today_new_death    dt_start      dt_end  \\\n0             0.0          0.0              0.0  2020-01-21  2020-04-22   \n1            11.0          4.0              1.0  2020-01-21  2020-04-22   \n2             0.0          0.0              0.0  2020-01-21  2020-04-22   \n3             4.0          0.0              0.0  2020-01-21  2020-04-22   \n4             0.0          0.0              0.0  2020-01-21  2020-04-22   \n\n  dt_unit                                           geometry  \n0     day  MULTIPOLYGON (((-88.01421 39.48076, -87.96018 ...  \n1     day  MULTIPOLYGON (((-88.60193 41.71956, -88.40450 ...  \n2     day  MULTIPOLYGON (((-90.91347 40.10446, -90.69582 ...  \n3     day  MULTIPOLYGON (((-90.78519 41.06875, -90.43942 ...  \n4     day  MULTIPOLYGON (((-89.50179 37.55890, -89.49775 ...  ",
      "text/html": "<div>\n<style scoped>\n    .dataframe tbody tr th:only-of-type {\n        vertical-align: middle;\n    }\n\n    .dataframe tbody tr th {\n        vertical-align: top;\n    }\n\n    .dataframe thead th {\n        text-align: right;\n    }\n</style>\n<table border=\"1\" class=\"dataframe\">\n  <thead>\n    <tr style=\"text-align: right;\">\n      <th></th>\n      <th>NAME</th>\n      <th>state_name</th>\n      <th>population</th>\n      <th>fips</th>\n      <th>dt_first_case</th>\n      <th>dt_first_death</th>\n      <th>cases_ts</th>\n      <th>deaths_ts</th>\n      <th>today_case</th>\n      <th>today_new_case</th>\n      <th>today_death</th>\n      <th>today_new_death</th>\n      <th>dt_start</th>\n      <th>dt_end</th>\n      <th>dt_unit</th>\n      <th>geometry</th>\n    </tr>\n  </thead>\n  <tbody>\n    <tr>\n      <th>0</th>\n      <td>Clark</td>\n      <td>Illinois</td>\n      <td>15836</td>\n      <td>17023</td>\n      <td>2020-03-30</td>\n      <td>None</td>\n      <td>0.0,0.0,0.0,0.0,0.0,0.0,0.0,0.0,0.0,0.0,0.0,0....</td>\n      <td>0.0,0.0,0.0,0.0,0.0,0.0,0.0,0.0,0.0,0.0,0.0,0....</td>\n      <td>4.0</td>\n      <td>0.0</td>\n      <td>0.0</td>\n      <td>0.0</td>\n      <td>2020-01-21</td>\n      <td>2020-04-22</td>\n      <td>day</td>\n      <td>MULTIPOLYGON (((-88.01421 39.48076, -87.96018 ...</td>\n    </tr>\n    <tr>\n      <th>1</th>\n      <td>Kendall</td>\n      <td>Illinois</td>\n      <td>124626</td>\n      <td>17093</td>\n      <td>2020-03-18</td>\n      <td>2020-03-29</td>\n      <td>0.0,0.0,0.0,0.0,0.0,0.0,0.0,0.0,0.0,0.0,0.0,0....</td>\n      <td>0.0,0.0,0.0,0.0,0.0,0.0,0.0,0.0,0.0,0.0,0.0,0....</td>\n      <td>157.0</td>\n      <td>11.0</td>\n      <td>4.0</td>\n      <td>1.0</td>\n      <td>2020-01-21</td>\n      <td>2020-04-22</td>\n      <td>day</td>\n      <td>MULTIPOLYGON (((-88.60193 41.71956, -88.40450 ...</td>\n    </tr>\n    <tr>\n      <th>2</th>\n      <td>Brown</td>\n      <td>Illinois</td>\n      <td>6675</td>\n      <td>17009</td>\n      <td>None</td>\n      <td>None</td>\n      <td>0,0,0,0,0,0,0,0,0,0,0,0,0,0,0,0,0,0,0,0,0,0,0,...</td>\n      <td>0,0,0,0,0,0,0,0,0,0,0,0,0,0,0,0,0,0,0,0,0,0,0,...</td>\n      <td>0.0</td>\n      <td>0.0</td>\n      <td>0.0</td>\n      <td>0.0</td>\n      <td>2020-01-21</td>\n      <td>2020-04-22</td>\n      <td>day</td>\n      <td>MULTIPOLYGON (((-90.91347 40.10446, -90.69582 ...</td>\n    </tr>\n    <tr>\n      <th>3</th>\n      <td>Warren</td>\n      <td>Illinois</td>\n      <td>17338</td>\n      <td>17187</td>\n      <td>2020-04-11</td>\n      <td>None</td>\n      <td>0.0,0.0,0.0,0.0,0.0,0.0,0.0,0.0,0.0,0.0,0.0,0....</td>\n      <td>0.0,0.0,0.0,0.0,0.0,0.0,0.0,0.0,0.0,0.0,0.0,0....</td>\n      <td>19.0</td>\n      <td>4.0</td>\n      <td>0.0</td>\n      <td>0.0</td>\n      <td>2020-01-21</td>\n      <td>2020-04-22</td>\n      <td>day</td>\n      <td>MULTIPOLYGON (((-90.78519 41.06875, -90.43942 ...</td>\n    </tr>\n    <tr>\n      <th>4</th>\n      <td>Union</td>\n      <td>Illinois</td>\n      <td>17127</td>\n      <td>17181</td>\n      <td>2020-04-15</td>\n      <td>None</td>\n      <td>0.0,0.0,0.0,0.0,0.0,0.0,0.0,0.0,0.0,0.0,0.0,0....</td>\n      <td>0.0,0.0,0.0,0.0,0.0,0.0,0.0,0.0,0.0,0.0,0.0,0....</td>\n      <td>5.0</td>\n      <td>0.0</td>\n      <td>0.0</td>\n      <td>0.0</td>\n      <td>2020-01-21</td>\n      <td>2020-04-22</td>\n      <td>day</td>\n      <td>MULTIPOLYGON (((-89.50179 37.55890, -89.49775 ...</td>\n    </tr>\n  </tbody>\n</table>\n</div>"
     },
     "metadata": {},
     "output_type": "execute_result",
     "execution_count": 92
    }
   ],
   "source": [
    "illinois_gdf.head(5)"
   ],
   "metadata": {
    "collapsed": false,
    "pycharm": {
     "name": "#%%\n",
     "is_executing": false
    }
   }
  },
  {
   "cell_type": "code",
   "execution_count": 93,
   "outputs": [],
   "source": [
    "illinois_case = illinois_gdf['today_case']\n",
    "illinois_death = illinois_gdf['today_death']\n",
    "illinois_case_per_100k_capita = illinois_gdf['today_case']/(illinois_gdf['population']/100000)\n",
    "illinois_death_per_100k_capita = illinois_gdf['today_death']/(illinois_gdf['population']/100000)\n",
    "#death_case_ratio = counties_gdf['today_death']/counties_gdf['today_case']\n",
    "#death_case_ratio = death_case_ratio.replace(np.nan, 0)"
   ],
   "metadata": {
    "collapsed": false,
    "pycharm": {
     "name": "#%%\n",
     "is_executing": false
    }
   }
  },
  {
   "cell_type": "code",
   "execution_count": 94,
   "outputs": [],
   "source": [
    "illinois_death_per_100k_capita = illinois_death_per_100k_capita.replace(np.nan,0)\n",
    "illinois_death_per_100k_capita = illinois_death_per_100k_capita.replace(np.inf,0)\n",
    "illinois_case_per_100k_capita = illinois_case_per_100k_capita.replace(np.nan,0)\n",
    "illinois_case_per_100k_capita = illinois_case_per_100k_capita.replace(np.inf,0)"
   ],
   "metadata": {
    "collapsed": false,
    "pycharm": {
     "name": "#%%\n",
     "is_executing": false
    }
   }
  },
  {
   "cell_type": "code",
   "execution_count": 95,
   "outputs": [],
   "source": [
    "create_dict(illinois_case,'case',illinois_dict)"
   ],
   "metadata": {
    "collapsed": false,
    "pycharm": {
     "name": "#%%\n",
     "is_executing": false
    }
   }
  },
  {
   "cell_type": "code",
   "execution_count": 96,
   "outputs": [
    {
     "name": "stderr",
     "text": [
      "C:\\Users\\Jason\\Anaconda3\\lib\\site-packages\\mapclassify\\classifiers.py:237: UserWarning: Warning: Not enough unique values in array to form k classes\n  \"Warning: Not enough unique values in array to form k classes\", UserWarning\nC:\\Users\\Jason\\Anaconda3\\lib\\site-packages\\mapclassify\\classifiers.py:239: UserWarning: Warning: setting k to 4\n  Warn(\"Warning: setting k to %d\" % k_q, UserWarning)\n"
     ],
     "output_type": "stream"
    }
   ],
   "source": [
    "create_dict(illinois_death,'death',illinois_dict)"
   ],
   "metadata": {
    "collapsed": false,
    "pycharm": {
     "name": "#%%\n",
     "is_executing": false
    }
   }
  },
  {
   "cell_type": "code",
   "execution_count": 97,
   "outputs": [],
   "source": [
    "create_dict(illinois_case_per_100k_capita,'case_per_100k_capita',illinois_dict)"
   ],
   "metadata": {
    "collapsed": false,
    "pycharm": {
     "name": "#%%\n",
     "is_executing": false
    }
   }
  },
  {
   "cell_type": "code",
   "execution_count": 98,
   "outputs": [
    {
     "name": "stderr",
     "text": [
      "C:\\Users\\Jason\\Anaconda3\\lib\\site-packages\\mapclassify\\classifiers.py:237: UserWarning: Warning: Not enough unique values in array to form k classes\n  \"Warning: Not enough unique values in array to form k classes\", UserWarning\nC:\\Users\\Jason\\Anaconda3\\lib\\site-packages\\mapclassify\\classifiers.py:239: UserWarning: Warning: setting k to 4\n  Warn(\"Warning: setting k to %d\" % k_q, UserWarning)\n"
     ],
     "output_type": "stream"
    }
   ],
   "source": [
    "create_dict(illinois_death_per_100k_capita,'death_per_100k_capita',illinois_dict)"
   ],
   "metadata": {
    "collapsed": false,
    "pycharm": {
     "name": "#%%\n",
     "is_executing": false
    }
   }
  },
  {
   "cell_type": "markdown",
   "source": [
    "Summary and ouput"
   ],
   "metadata": {
    "collapsed": false,
    "pycharm": {
     "name": "#%% md\n"
    }
   }
  },
  {
   "cell_type": "code",
   "execution_count": 99,
   "outputs": [],
   "source": [
    "import json\n",
    "total_dict['county'] = county_dict\n",
    "total_dict['state'] = state_dict\n",
    "total_dict['illinois'] = illinois_dict\n",
    "dynamic_dict['county'] = dynamic_county_dict\n",
    "dynamic_dict['state'] = dynamic_state_dict\n",
    "dynamic_dict['illinois'] = dynamic_illinois_dict\n",
    "with open('classes.json','w') as json_file:\n",
    "    json.dump(total_dict, json_file)\n",
    "with open('dynamic_classes.json','w') as json_file:\n",
    "    json.dump(dynamic_dict, json_file)\n"
   ],
   "metadata": {
    "collapsed": false,
    "pycharm": {
     "name": "#%%\n",
     "is_executing": false
    }
   }
  }
 ],
 "metadata": {
  "language_info": {
   "codemirror_mode": {
    "name": "ipython",
    "version": 2
   },
   "file_extension": ".py",
   "mimetype": "text/x-python",
   "name": "python",
   "nbconvert_exporter": "python",
   "pygments_lexer": "ipython2",
   "version": "2.7.6"
  },
  "kernelspec": {
   "name": "python3",
   "language": "python",
   "display_name": "Python 3"
  },
  "pycharm": {
   "stem_cell": {
    "cell_type": "raw",
    "source": [],
    "metadata": {
     "collapsed": false
    }
   }
  }
 },
 "nbformat": 4,
 "nbformat_minor": 0
}