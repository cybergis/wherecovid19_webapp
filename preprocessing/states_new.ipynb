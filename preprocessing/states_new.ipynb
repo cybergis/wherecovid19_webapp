{
 "cells": [
  {
   "cell_type": "code",
   "execution_count": null,
   "metadata": {
    "pycharm": {
     "is_executing": false,
     "name": "#%%\n"
    }
   },
   "outputs": [],
   "source": [
    "import pandas as pd\n",
    "import numpy as np\n",
    "from datetime import datetime\n",
    "import geopandas as gpd"
   ]
  },
  {
   "cell_type": "code",
   "execution_count": null,
   "metadata": {
    "pycharm": {
     "is_executing": false,
     "name": "#%%\n"
    }
   },
   "outputs": [],
   "source": [
    "df_states_original = pd.read_csv(\"./us-states.csv\", dtype={\"date\": np.string_,\n",
    "                                                             \"state\": np.string_,\n",
    "                                                             \"fips\": np.string_,\n",
    "                                                            \"cases\": np.int32,\n",
    "                                                            \"deaths\": np.int32})\n",
    "df_states_original.sort_values(\"fips\", ascending=True)\n",
    "# #Replaces any nan to 0\n",
    "# if df_states_original.isnull().values.any():\n",
    "#     df_states_original.replace(np.nan, None)\n",
    "    \n",
    "    "
   ]
  },
  {
   "cell_type": "code",
   "execution_count": null,
   "metadata": {
    "pycharm": {
     "is_executing": false,
     "name": "#%%\n"
    }
   },
   "outputs": [],
   "source": [
    "pivot_states = pd.pivot_table(df_states_original , index=['state','fips'],\n",
    "                       columns=['date'])\n",
    "if pivot_states.isnull().values.any():\n",
    "    pivot_states = pivot_states.replace(np.nan, 0)\n",
    "pivot_states.head(5)"
   ]
  },
  {
   "cell_type": "markdown",
   "metadata": {},
   "source": [
    "Get Date Info"
   ]
  },
  {
   "cell_type": "code",
   "execution_count": null,
   "metadata": {
    "pycharm": {
     "is_executing": false,
     "name": "#%%\n"
    }
   },
   "outputs": [],
   "source": [
    "date= pivot_states['cases'].columns\n",
    "date"
   ]
  },
  {
   "cell_type": "code",
   "execution_count": null,
   "metadata": {
    "pycharm": {
     "is_executing": false,
     "name": "#%%\n"
    }
   },
   "outputs": [],
   "source": [
    "date_str = np.sort(date)\n",
    "dt_str_start=np.min(date_str)\n",
    "dt_str_end=np.max(date_str)"
   ]
  },
  {
   "cell_type": "code",
   "execution_count": null,
   "metadata": {
    "pycharm": {
     "is_executing": false,
     "name": "#%%\n"
    }
   },
   "outputs": [],
   "source": [
    "dt_start = datetime.strptime(dt_str_start, \"%Y-%m-%d\")\n",
    "dt_end = datetime.strptime(dt_str_end, \"%Y-%m-%d\")\n",
    "dt_range = pd.date_range(start=dt_start,end=dt_end)\n",
    "print(len(dt_range), dt_range)\n",
    "dt_range_str = list(map(lambda x: x.strftime(\"%Y-%m-%d\"), dt_range.tolist()))\n",
    "print(len(dt_range_str), dt_range_str)"
   ]
  },
  {
   "cell_type": "markdown",
   "metadata": {
    "pycharm": {
     "name": "#%% md\n"
    }
   },
   "source": [
    "Add Cases Time Series, First Case Date, Death Time Series, First Death Date"
   ]
  },
  {
   "cell_type": "code",
   "execution_count": null,
   "metadata": {
    "pycharm": {
     "is_executing": false,
     "name": "#%%\n"
    }
   },
   "outputs": [],
   "source": [
    "# import json\n",
    "# pivot_states['cases_ts'] = \"'\" + json.dumps({\"values\": pivot_states['cases'].values.tolist()[0]}) + \"'\"\n",
    "# pivot_states['deaths_ts'] = \"'\" + json.dumps({\"values\": pivot_states['deaths'].values.tolist()[0]}) + \"'\"\n",
    "\n",
    "pivot_states['cases_ts'] = pivot_states['cases'].values.tolist()\n",
    "pivot_states['cases_ts'] = pivot_states['cases_ts'].apply(lambda x: ','.join(map(str, x)))\n",
    "pivot_states['deaths_ts'] = pivot_states['deaths'].values.tolist()\n",
    "pivot_states['deaths_ts'] = pivot_states['deaths_ts'].apply(lambda x: ','.join(map(str, x)))"
   ]
  },
  {
   "cell_type": "code",
   "execution_count": null,
   "metadata": {
    "pycharm": {
     "is_executing": false,
     "name": "#%%\n"
    }
   },
   "outputs": [],
   "source": [
    "yesterday = date.values[-2]\n",
    "pivot_states['today_case'] = pivot_states['cases'][dt_str_end]\n",
    "pivot_states['today_new_case'] = pivot_states['cases'][dt_str_end] - pivot_states['cases'][yesterday]\n",
    "pivot_states['today_death'] = pivot_states['deaths'][dt_str_end]\n",
    "pivot_states['today_new_death'] = pivot_states['deaths'][dt_str_end] - pivot_states['deaths'][yesterday]"
   ]
  },
  {
   "cell_type": "code",
   "execution_count": null,
   "metadata": {
    "pycharm": {
     "is_executing": false,
     "name": "#%%\n"
    }
   },
   "outputs": [],
   "source": [
    "pivot_states['dt_first_case'] = (pivot_states['cases'] > 0).idxmax(axis=1)\n",
    "pivot_states['dt_first_death'] = (pivot_states['deaths'] > 0).idxmax(axis=1)\n",
    "#For death reports, deal with no deaths counties\n",
    "pivot_states.loc[pivot_states['deaths'].iloc[:, -1] <= 0, 'dt_first_death'] = np.nan\n",
    "pivot_states.head(5)"
   ]
  },
  {
   "cell_type": "code",
   "execution_count": null,
   "metadata": {
    "pycharm": {
     "is_executing": false,
     "name": "#%%\n"
    }
   },
   "outputs": [],
   "source": [
    "pivot_states['today_case'].sum()"
   ]
  },
  {
   "cell_type": "markdown",
   "metadata": {},
   "source": [
    "Read County Boundary GeoJSON file"
   ]
  },
  {
   "cell_type": "code",
   "execution_count": null,
   "metadata": {
    "pycharm": {
     "is_executing": false,
     "name": "#%%\n"
    }
   },
   "outputs": [],
   "source": [
    "old_states_geojson_df = gpd.read_file(r\"./states_update.geojson\")\n",
    "old_states_geojson_df.head(5)"
   ]
  },
  {
   "cell_type": "code",
   "execution_count": null,
   "metadata": {
    "pycharm": {
     "is_executing": false,
     "name": "#%%\n"
    }
   },
   "outputs": [],
   "source": [
    "old_states_geojson_df[['NAME','population','GEOID','geometry']]"
   ]
  },
  {
   "cell_type": "markdown",
   "metadata": {},
   "source": [
    "Old Data Structure"
   ]
  },
  {
   "cell_type": "code",
   "execution_count": null,
   "metadata": {
    "pycharm": {
     "is_executing": false,
     "name": "#%%\n"
    }
   },
   "outputs": [],
   "source": [
    "report_df = pivot_states[['cases_ts','deaths_ts','dt_first_case','dt_first_death','today_case','today_new_case', 'today_death','today_new_death']]\n",
    "report_df = report_df.reset_index()\n",
    "report_df.columns = ['state','fips','cases_ts','deaths_ts','dt_first_case','dt_first_death','today_case','today_new_case', 'today_death','today_new_death']\n",
    "report_df.head(5)"
   ]
  },
  {
   "cell_type": "code",
   "execution_count": null,
   "metadata": {
    "pycharm": {
     "is_executing": false,
     "name": "#%%\n"
    }
   },
   "outputs": [],
   "source": [
    "report_df['state']"
   ]
  },
  {
   "cell_type": "code",
   "execution_count": null,
   "metadata": {
    "pycharm": {
     "is_executing": false,
     "name": "#%%\n"
    }
   },
   "outputs": [],
   "source": [
    "report_df['today_case'].sum()\n",
    "#truth value: 528405"
   ]
  },
  {
   "cell_type": "code",
   "execution_count": null,
   "metadata": {
    "pycharm": {
     "is_executing": false,
     "name": "#%%\n"
    }
   },
   "outputs": [],
   "source": [
    "#Stay consistency with geojson states\n",
    "report_df = report_df.replace('Northern Mariana Islands','Commonwealth of the Northern Mariana Islands')"
   ]
  },
  {
   "cell_type": "code",
   "execution_count": null,
   "metadata": {
    "pycharm": {
     "is_executing": false,
     "name": "#%%\n"
    }
   },
   "outputs": [],
   "source": [
    "final_df = pd.merge(old_states_geojson_df[[\"NAME\", \"population\", \"geometry\"]], report_df, how='left', left_on=['NAME'], right_on = ['state'])\n",
    "final_df.columns"
   ]
  },
  {
   "cell_type": "code",
   "execution_count": null,
   "metadata": {
    "pycharm": {
     "is_executing": false,
     "name": "#%%\n"
    }
   },
   "outputs": [],
   "source": [
    "final_df['NAME']"
   ]
  },
  {
   "cell_type": "code",
   "execution_count": null,
   "metadata": {
    "pycharm": {
     "is_executing": false,
     "name": "#%%\n"
    }
   },
   "outputs": [],
   "source": [
    "final_df=final_df[[\"NAME\", \"population\", \"fips\", \"dt_first_case\", \"dt_first_death\", \"cases_ts\", \"deaths_ts\", 'today_case','today_new_case', 'today_death','today_new_death', \"geometry\"]]\n",
    "final_df['dt_start'] = dt_str_start\n",
    "final_df['dt_end'] = dt_str_end\n",
    "final_df['dt_unit'] = \"day\"\n",
    "final_df.head(5)"
   ]
  },
  {
   "cell_type": "code",
   "execution_count": null,
   "metadata": {
    "pycharm": {
     "is_executing": false,
     "name": "#%%\n"
    }
   },
   "outputs": [],
   "source": [
    "final_df['today_case'].sum()\n",
    "# result: 528405, same as truth"
   ]
  },
  {
   "cell_type": "code",
   "execution_count": null,
   "metadata": {
    "pycharm": {
     "is_executing": false,
     "name": "#%%\n"
    }
   },
   "outputs": [],
   "source": [
    "final_df.to_file(r\"./nyt_states_data.geojson\", driver='GeoJSON', encoding='utf-8')\n",
    "print(\"done\")"
   ]
  },
  {
   "cell_type": "markdown",
   "metadata": {},
   "source": [
    "New Data Structure (Full version)"
   ]
  },
  {
   "cell_type": "code",
   "execution_count": null,
   "metadata": {
    "pycharm": {
     "is_executing": false,
     "name": "#%%\n"
    }
   },
   "outputs": [],
   "source": [
    "# pivot_states.columns = ['_'.join(col).strip() for col in pivot_states.columns.values]\n",
    "# report_df_2 = pivot_states.reset_index()"
   ]
  },
  {
   "cell_type": "code",
   "execution_count": null,
   "metadata": {
    "pycharm": {
     "is_executing": false,
     "name": "#%%\n"
    }
   },
   "outputs": [],
   "source": [
    "# report_df_2.head(5)"
   ]
  },
  {
   "cell_type": "code",
   "execution_count": null,
   "metadata": {
    "pycharm": {
     "is_executing": false,
     "name": "#%%\n"
    }
   },
   "outputs": [],
   "source": [
    "# pivot_states.head(5)"
   ]
  },
  {
   "cell_type": "code",
   "execution_count": null,
   "metadata": {
    "pycharm": {
     "is_executing": false,
     "name": "#%%\n"
    }
   },
   "outputs": [],
   "source": [
    "# final_df_2 = pd.merge(old_states_geojson_df[[\"NAME\", \"population\", \"geometry\"]], report_df_2, how='right', left_on=['NAME'], right_on = ['state'])\n",
    "# final_df_2 = final_df_2.drop(['state'], axis = 1)\n",
    "# final_df_2['dt_start'] = dt_start\n",
    "# final_df_2['dt_end'] = dt_end\n",
    "# final_df_2.head(5)"
   ]
  },
  {
   "cell_type": "code",
   "execution_count": null,
   "metadata": {
    "pycharm": {
     "is_executing": false,
     "name": "#%%\n"
    }
   },
   "outputs": [],
   "source": [
    "# final_df_2.to_file(r\"./nyt_states_data_full.geojson\", driver='GeoJSON', encoding='utf-8')\n",
    "# print(\"done\")\n",
    "\n"
   ]
  }
 ],
 "metadata": {
  "kernelspec": {
   "display_name": "Python 3",
   "language": "python",
   "name": "python3"
  },
  "language_info": {
   "codemirror_mode": {
    "name": "ipython",
    "version": 3
   },
   "file_extension": ".py",
   "mimetype": "text/x-python",
   "name": "python",
   "nbconvert_exporter": "python",
   "pygments_lexer": "ipython3",
   "version": "3.8.2"
  },
  "pycharm": {
   "stem_cell": {
    "cell_type": "raw",
    "metadata": {
     "collapsed": false
    },
    "source": []
   }
  }
 },
 "nbformat": 4,
 "nbformat_minor": 4
}
