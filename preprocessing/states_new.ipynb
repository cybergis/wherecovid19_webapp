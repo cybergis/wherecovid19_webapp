{
 "cells": [
  {
   "cell_type": "code",
   "execution_count": 1,
   "metadata": {
    "pycharm": {
     "is_executing": false,
     "name": "#%%\n"
    }
   },
   "outputs": [],
   "source": [
    "import pandas as pd\n",
    "import numpy as np\n",
    "from datetime import datetime\n",
    "import geopandas as gpd"
   ]
  },
  {
   "cell_type": "code",
   "execution_count": 2,
   "metadata": {
    "pycharm": {
     "is_executing": false,
     "name": "#%%\n"
    }
   },
   "outputs": [
    {
     "data": {
      "text/plain": "            date           state fips  cases  deaths\n1444  2020-03-29         Alabama   01    830       5\n1554  2020-03-31         Alabama   01    999      13\n2553  2020-04-18         Alabama   01   4723     147\n2105  2020-04-10         Alabama   01   3008      80\n1119  2020-03-23         Alabama   01    196       0\n2161  2020-04-11         Alabama   01   3262      93\n1499  2020-03-30         Alabama   01    947      11\n2217  2020-04-12         Alabama   01   3583      93\n2049  2020-04-09         Alabama   01   2838      78\n1173  2020-03-24         Alabama   01    242       0\n2273  2020-04-13         Alabama   01   3805     104\n2329  2020-04-14         Alabama   01   3953     114\n1389  2020-03-28         Alabama   01    720       4\n1227  2020-03-25         Alabama   01    386       1\n2497  2020-04-17         Alabama   01   4572     151\n2385  2020-04-15         Alabama   01   4241     123\n2833  2020-04-23         Alabama   01   5832     197\n2665  2020-04-20         Alabama   01   5078     164\n1065  2020-03-22         Alabama   01    157       0\n2721  2020-04-21         Alabama   01   5327     186\n586   2020-03-13         Alabama   01      6       0\n1719  2020-04-03         Alabama   01   1535      38\n849   2020-03-18         Alabama   01     51       0\n2609  2020-04-19         Alabama   01   4903     160\n1774  2020-04-04         Alabama   01   1633      44\n795   2020-03-17         Alabama   01     39       0\n1664  2020-04-02         Alabama   01   1270      32\n1829  2020-04-05         Alabama   01   1841      45\n957   2020-03-20         Alabama   01    106       0\n742   2020-03-16         Alabama   01     29       0\n...          ...             ...  ...    ...     ...\n1005  2020-03-20  Virgin Islands   78      6       0\n2323  2020-04-13  Virgin Islands   78     51       1\n2491  2020-04-16  Virgin Islands   78     51       1\n2379  2020-04-14  Virgin Islands   78     51       1\n1548  2020-03-30  Virgin Islands   78     30       0\n2043  2020-04-08  Virgin Islands   78     45       1\n2099  2020-04-09  Virgin Islands   78     46       1\n1603  2020-03-31  Virgin Islands   78     30       0\n1493  2020-03-29  Virgin Islands   78     23       0\n1658  2020-04-01  Virgin Islands   78     30       0\n2659  2020-04-19  Virgin Islands   78     53       3\n1713  2020-04-02  Virgin Islands   78     37       0\n1438  2020-03-28  Virgin Islands   78     19       0\n1768  2020-04-03  Virgin Islands   78     38       0\n2603  2020-04-18  Virgin Islands   78     53       3\n1383  2020-03-27  Virgin Islands   78     19       0\n1823  2020-04-04  Virgin Islands   78     42       0\n1329  2020-03-26  Virgin Islands   78     17       0\n1275  2020-03-25  Virgin Islands   78     17       0\n1221  2020-03-24  Virgin Islands   78     17       0\n1878  2020-04-05  Virgin Islands   78     42       0\n1167  2020-03-23  Virgin Islands   78     17       0\n1933  2020-04-06  Virgin Islands   78     43       1\n1988  2020-04-07  Virgin Islands   78     45       1\n1113  2020-03-22  Virgin Islands   78     17       0\n2827  2020-04-22  Virgin Islands   78     54       3\n2715  2020-04-20  Virgin Islands   78     54       3\n1059  2020-03-21  Virgin Islands   78      6       0\n2547  2020-04-17  Virgin Islands   78     51       2\n684   2020-03-14  Virgin Islands   78      1       0\n\n[2889 rows x 5 columns]",
      "text/html": "<div>\n<style scoped>\n    .dataframe tbody tr th:only-of-type {\n        vertical-align: middle;\n    }\n\n    .dataframe tbody tr th {\n        vertical-align: top;\n    }\n\n    .dataframe thead th {\n        text-align: right;\n    }\n</style>\n<table border=\"1\" class=\"dataframe\">\n  <thead>\n    <tr style=\"text-align: right;\">\n      <th></th>\n      <th>date</th>\n      <th>state</th>\n      <th>fips</th>\n      <th>cases</th>\n      <th>deaths</th>\n    </tr>\n  </thead>\n  <tbody>\n    <tr>\n      <th>1444</th>\n      <td>2020-03-29</td>\n      <td>Alabama</td>\n      <td>01</td>\n      <td>830</td>\n      <td>5</td>\n    </tr>\n    <tr>\n      <th>1554</th>\n      <td>2020-03-31</td>\n      <td>Alabama</td>\n      <td>01</td>\n      <td>999</td>\n      <td>13</td>\n    </tr>\n    <tr>\n      <th>2553</th>\n      <td>2020-04-18</td>\n      <td>Alabama</td>\n      <td>01</td>\n      <td>4723</td>\n      <td>147</td>\n    </tr>\n    <tr>\n      <th>2105</th>\n      <td>2020-04-10</td>\n      <td>Alabama</td>\n      <td>01</td>\n      <td>3008</td>\n      <td>80</td>\n    </tr>\n    <tr>\n      <th>1119</th>\n      <td>2020-03-23</td>\n      <td>Alabama</td>\n      <td>01</td>\n      <td>196</td>\n      <td>0</td>\n    </tr>\n    <tr>\n      <th>2161</th>\n      <td>2020-04-11</td>\n      <td>Alabama</td>\n      <td>01</td>\n      <td>3262</td>\n      <td>93</td>\n    </tr>\n    <tr>\n      <th>1499</th>\n      <td>2020-03-30</td>\n      <td>Alabama</td>\n      <td>01</td>\n      <td>947</td>\n      <td>11</td>\n    </tr>\n    <tr>\n      <th>2217</th>\n      <td>2020-04-12</td>\n      <td>Alabama</td>\n      <td>01</td>\n      <td>3583</td>\n      <td>93</td>\n    </tr>\n    <tr>\n      <th>2049</th>\n      <td>2020-04-09</td>\n      <td>Alabama</td>\n      <td>01</td>\n      <td>2838</td>\n      <td>78</td>\n    </tr>\n    <tr>\n      <th>1173</th>\n      <td>2020-03-24</td>\n      <td>Alabama</td>\n      <td>01</td>\n      <td>242</td>\n      <td>0</td>\n    </tr>\n    <tr>\n      <th>2273</th>\n      <td>2020-04-13</td>\n      <td>Alabama</td>\n      <td>01</td>\n      <td>3805</td>\n      <td>104</td>\n    </tr>\n    <tr>\n      <th>2329</th>\n      <td>2020-04-14</td>\n      <td>Alabama</td>\n      <td>01</td>\n      <td>3953</td>\n      <td>114</td>\n    </tr>\n    <tr>\n      <th>1389</th>\n      <td>2020-03-28</td>\n      <td>Alabama</td>\n      <td>01</td>\n      <td>720</td>\n      <td>4</td>\n    </tr>\n    <tr>\n      <th>1227</th>\n      <td>2020-03-25</td>\n      <td>Alabama</td>\n      <td>01</td>\n      <td>386</td>\n      <td>1</td>\n    </tr>\n    <tr>\n      <th>2497</th>\n      <td>2020-04-17</td>\n      <td>Alabama</td>\n      <td>01</td>\n      <td>4572</td>\n      <td>151</td>\n    </tr>\n    <tr>\n      <th>2385</th>\n      <td>2020-04-15</td>\n      <td>Alabama</td>\n      <td>01</td>\n      <td>4241</td>\n      <td>123</td>\n    </tr>\n    <tr>\n      <th>2833</th>\n      <td>2020-04-23</td>\n      <td>Alabama</td>\n      <td>01</td>\n      <td>5832</td>\n      <td>197</td>\n    </tr>\n    <tr>\n      <th>2665</th>\n      <td>2020-04-20</td>\n      <td>Alabama</td>\n      <td>01</td>\n      <td>5078</td>\n      <td>164</td>\n    </tr>\n    <tr>\n      <th>1065</th>\n      <td>2020-03-22</td>\n      <td>Alabama</td>\n      <td>01</td>\n      <td>157</td>\n      <td>0</td>\n    </tr>\n    <tr>\n      <th>2721</th>\n      <td>2020-04-21</td>\n      <td>Alabama</td>\n      <td>01</td>\n      <td>5327</td>\n      <td>186</td>\n    </tr>\n    <tr>\n      <th>586</th>\n      <td>2020-03-13</td>\n      <td>Alabama</td>\n      <td>01</td>\n      <td>6</td>\n      <td>0</td>\n    </tr>\n    <tr>\n      <th>1719</th>\n      <td>2020-04-03</td>\n      <td>Alabama</td>\n      <td>01</td>\n      <td>1535</td>\n      <td>38</td>\n    </tr>\n    <tr>\n      <th>849</th>\n      <td>2020-03-18</td>\n      <td>Alabama</td>\n      <td>01</td>\n      <td>51</td>\n      <td>0</td>\n    </tr>\n    <tr>\n      <th>2609</th>\n      <td>2020-04-19</td>\n      <td>Alabama</td>\n      <td>01</td>\n      <td>4903</td>\n      <td>160</td>\n    </tr>\n    <tr>\n      <th>1774</th>\n      <td>2020-04-04</td>\n      <td>Alabama</td>\n      <td>01</td>\n      <td>1633</td>\n      <td>44</td>\n    </tr>\n    <tr>\n      <th>795</th>\n      <td>2020-03-17</td>\n      <td>Alabama</td>\n      <td>01</td>\n      <td>39</td>\n      <td>0</td>\n    </tr>\n    <tr>\n      <th>1664</th>\n      <td>2020-04-02</td>\n      <td>Alabama</td>\n      <td>01</td>\n      <td>1270</td>\n      <td>32</td>\n    </tr>\n    <tr>\n      <th>1829</th>\n      <td>2020-04-05</td>\n      <td>Alabama</td>\n      <td>01</td>\n      <td>1841</td>\n      <td>45</td>\n    </tr>\n    <tr>\n      <th>957</th>\n      <td>2020-03-20</td>\n      <td>Alabama</td>\n      <td>01</td>\n      <td>106</td>\n      <td>0</td>\n    </tr>\n    <tr>\n      <th>742</th>\n      <td>2020-03-16</td>\n      <td>Alabama</td>\n      <td>01</td>\n      <td>29</td>\n      <td>0</td>\n    </tr>\n    <tr>\n      <th>...</th>\n      <td>...</td>\n      <td>...</td>\n      <td>...</td>\n      <td>...</td>\n      <td>...</td>\n    </tr>\n    <tr>\n      <th>1005</th>\n      <td>2020-03-20</td>\n      <td>Virgin Islands</td>\n      <td>78</td>\n      <td>6</td>\n      <td>0</td>\n    </tr>\n    <tr>\n      <th>2323</th>\n      <td>2020-04-13</td>\n      <td>Virgin Islands</td>\n      <td>78</td>\n      <td>51</td>\n      <td>1</td>\n    </tr>\n    <tr>\n      <th>2491</th>\n      <td>2020-04-16</td>\n      <td>Virgin Islands</td>\n      <td>78</td>\n      <td>51</td>\n      <td>1</td>\n    </tr>\n    <tr>\n      <th>2379</th>\n      <td>2020-04-14</td>\n      <td>Virgin Islands</td>\n      <td>78</td>\n      <td>51</td>\n      <td>1</td>\n    </tr>\n    <tr>\n      <th>1548</th>\n      <td>2020-03-30</td>\n      <td>Virgin Islands</td>\n      <td>78</td>\n      <td>30</td>\n      <td>0</td>\n    </tr>\n    <tr>\n      <th>2043</th>\n      <td>2020-04-08</td>\n      <td>Virgin Islands</td>\n      <td>78</td>\n      <td>45</td>\n      <td>1</td>\n    </tr>\n    <tr>\n      <th>2099</th>\n      <td>2020-04-09</td>\n      <td>Virgin Islands</td>\n      <td>78</td>\n      <td>46</td>\n      <td>1</td>\n    </tr>\n    <tr>\n      <th>1603</th>\n      <td>2020-03-31</td>\n      <td>Virgin Islands</td>\n      <td>78</td>\n      <td>30</td>\n      <td>0</td>\n    </tr>\n    <tr>\n      <th>1493</th>\n      <td>2020-03-29</td>\n      <td>Virgin Islands</td>\n      <td>78</td>\n      <td>23</td>\n      <td>0</td>\n    </tr>\n    <tr>\n      <th>1658</th>\n      <td>2020-04-01</td>\n      <td>Virgin Islands</td>\n      <td>78</td>\n      <td>30</td>\n      <td>0</td>\n    </tr>\n    <tr>\n      <th>2659</th>\n      <td>2020-04-19</td>\n      <td>Virgin Islands</td>\n      <td>78</td>\n      <td>53</td>\n      <td>3</td>\n    </tr>\n    <tr>\n      <th>1713</th>\n      <td>2020-04-02</td>\n      <td>Virgin Islands</td>\n      <td>78</td>\n      <td>37</td>\n      <td>0</td>\n    </tr>\n    <tr>\n      <th>1438</th>\n      <td>2020-03-28</td>\n      <td>Virgin Islands</td>\n      <td>78</td>\n      <td>19</td>\n      <td>0</td>\n    </tr>\n    <tr>\n      <th>1768</th>\n      <td>2020-04-03</td>\n      <td>Virgin Islands</td>\n      <td>78</td>\n      <td>38</td>\n      <td>0</td>\n    </tr>\n    <tr>\n      <th>2603</th>\n      <td>2020-04-18</td>\n      <td>Virgin Islands</td>\n      <td>78</td>\n      <td>53</td>\n      <td>3</td>\n    </tr>\n    <tr>\n      <th>1383</th>\n      <td>2020-03-27</td>\n      <td>Virgin Islands</td>\n      <td>78</td>\n      <td>19</td>\n      <td>0</td>\n    </tr>\n    <tr>\n      <th>1823</th>\n      <td>2020-04-04</td>\n      <td>Virgin Islands</td>\n      <td>78</td>\n      <td>42</td>\n      <td>0</td>\n    </tr>\n    <tr>\n      <th>1329</th>\n      <td>2020-03-26</td>\n      <td>Virgin Islands</td>\n      <td>78</td>\n      <td>17</td>\n      <td>0</td>\n    </tr>\n    <tr>\n      <th>1275</th>\n      <td>2020-03-25</td>\n      <td>Virgin Islands</td>\n      <td>78</td>\n      <td>17</td>\n      <td>0</td>\n    </tr>\n    <tr>\n      <th>1221</th>\n      <td>2020-03-24</td>\n      <td>Virgin Islands</td>\n      <td>78</td>\n      <td>17</td>\n      <td>0</td>\n    </tr>\n    <tr>\n      <th>1878</th>\n      <td>2020-04-05</td>\n      <td>Virgin Islands</td>\n      <td>78</td>\n      <td>42</td>\n      <td>0</td>\n    </tr>\n    <tr>\n      <th>1167</th>\n      <td>2020-03-23</td>\n      <td>Virgin Islands</td>\n      <td>78</td>\n      <td>17</td>\n      <td>0</td>\n    </tr>\n    <tr>\n      <th>1933</th>\n      <td>2020-04-06</td>\n      <td>Virgin Islands</td>\n      <td>78</td>\n      <td>43</td>\n      <td>1</td>\n    </tr>\n    <tr>\n      <th>1988</th>\n      <td>2020-04-07</td>\n      <td>Virgin Islands</td>\n      <td>78</td>\n      <td>45</td>\n      <td>1</td>\n    </tr>\n    <tr>\n      <th>1113</th>\n      <td>2020-03-22</td>\n      <td>Virgin Islands</td>\n      <td>78</td>\n      <td>17</td>\n      <td>0</td>\n    </tr>\n    <tr>\n      <th>2827</th>\n      <td>2020-04-22</td>\n      <td>Virgin Islands</td>\n      <td>78</td>\n      <td>54</td>\n      <td>3</td>\n    </tr>\n    <tr>\n      <th>2715</th>\n      <td>2020-04-20</td>\n      <td>Virgin Islands</td>\n      <td>78</td>\n      <td>54</td>\n      <td>3</td>\n    </tr>\n    <tr>\n      <th>1059</th>\n      <td>2020-03-21</td>\n      <td>Virgin Islands</td>\n      <td>78</td>\n      <td>6</td>\n      <td>0</td>\n    </tr>\n    <tr>\n      <th>2547</th>\n      <td>2020-04-17</td>\n      <td>Virgin Islands</td>\n      <td>78</td>\n      <td>51</td>\n      <td>2</td>\n    </tr>\n    <tr>\n      <th>684</th>\n      <td>2020-03-14</td>\n      <td>Virgin Islands</td>\n      <td>78</td>\n      <td>1</td>\n      <td>0</td>\n    </tr>\n  </tbody>\n</table>\n<p>2889 rows × 5 columns</p>\n</div>"
     },
     "metadata": {},
     "output_type": "execute_result",
     "execution_count": 2
    }
   ],
   "source": [
    "df_states_original = pd.read_csv(\"./us-states.csv\", dtype={\"date\": np.string_,\n",
    "                                                             \"state\": np.string_,\n",
    "                                                             \"fips\": np.string_,\n",
    "                                                            \"cases\": np.int32,\n",
    "                                                            \"deaths\": np.int32})\n",
    "df_states_original.sort_values(\"fips\", ascending=True)\n",
    "# #Replaces any nan to 0\n",
    "# if df_states_original.isnull().values.any():\n",
    "#     df_states_original.replace(np.nan, None)\n",
    "    \n",
    "    "
   ]
  },
  {
   "cell_type": "code",
   "execution_count": 3,
   "metadata": {
    "pycharm": {
     "is_executing": false,
     "name": "#%%\n"
    }
   },
   "outputs": [
    {
     "data": {
      "text/plain": "                         cases                                              \\\ndate                2020-01-21 2020-01-22 2020-01-23 2020-01-24 2020-01-25   \nstate          fips                                                          \nAlabama        01          0.0        0.0        0.0        0.0        0.0   \nAlaska         02          0.0        0.0        0.0        0.0        0.0   \nAmerican Samoa 60          0.0        0.0        0.0        0.0        0.0   \nArizona        04          0.0        0.0        0.0        0.0        0.0   \nArkansas       05          0.0        0.0        0.0        0.0        0.0   \n\n                                                                            \\\ndate                2020-01-26 2020-01-27 2020-01-28 2020-01-29 2020-01-30   \nstate          fips                                                          \nAlabama        01          0.0        0.0        0.0        0.0        0.0   \nAlaska         02          0.0        0.0        0.0        0.0        0.0   \nAmerican Samoa 60          0.0        0.0        0.0        0.0        0.0   \nArizona        04          1.0        1.0        1.0        1.0        1.0   \nArkansas       05          0.0        0.0        0.0        0.0        0.0   \n\n                     ...     deaths                                   \\\ndate                 ... 2020-04-14 2020-04-15 2020-04-16 2020-04-17   \nstate          fips  ...                                               \nAlabama        01    ...      114.0      123.0      137.0      151.0   \nAlaska         02    ...        7.0        7.0        7.0        7.0   \nAmerican Samoa 60    ...        0.0        0.0        0.0        0.0   \nArizona        04    ...      131.0      142.0      152.0      174.0   \nArkansas       05    ...       32.0       34.0       37.0       37.0   \n\n                                                                            \\\ndate                2020-04-18 2020-04-19 2020-04-20 2020-04-21 2020-04-22   \nstate          fips                                                          \nAlabama        01        147.0      160.0      164.0      186.0      201.0   \nAlaska         02          7.0        7.0        7.0        7.0        9.0   \nAmerican Samoa 60          0.0        0.0        0.0        0.0        0.0   \nArizona        04        181.0      188.0      191.0      213.0      236.0   \nArkansas       05         38.0       39.0       42.0       43.0       44.0   \n\n                                \ndate                2020-04-23  \nstate          fips             \nAlabama        01        197.0  \nAlaska         02          9.0  \nAmerican Samoa 60          0.0  \nArizona        04        257.0  \nArkansas       05         45.0  \n\n[5 rows x 188 columns]",
      "text/html": "<div>\n<style scoped>\n    .dataframe tbody tr th:only-of-type {\n        vertical-align: middle;\n    }\n\n    .dataframe tbody tr th {\n        vertical-align: top;\n    }\n\n    .dataframe thead tr th {\n        text-align: left;\n    }\n\n    .dataframe thead tr:last-of-type th {\n        text-align: right;\n    }\n</style>\n<table border=\"1\" class=\"dataframe\">\n  <thead>\n    <tr>\n      <th></th>\n      <th></th>\n      <th colspan=\"10\" halign=\"left\">cases</th>\n      <th>...</th>\n      <th colspan=\"10\" halign=\"left\">deaths</th>\n    </tr>\n    <tr>\n      <th></th>\n      <th>date</th>\n      <th>2020-01-21</th>\n      <th>2020-01-22</th>\n      <th>2020-01-23</th>\n      <th>2020-01-24</th>\n      <th>2020-01-25</th>\n      <th>2020-01-26</th>\n      <th>2020-01-27</th>\n      <th>2020-01-28</th>\n      <th>2020-01-29</th>\n      <th>2020-01-30</th>\n      <th>...</th>\n      <th>2020-04-14</th>\n      <th>2020-04-15</th>\n      <th>2020-04-16</th>\n      <th>2020-04-17</th>\n      <th>2020-04-18</th>\n      <th>2020-04-19</th>\n      <th>2020-04-20</th>\n      <th>2020-04-21</th>\n      <th>2020-04-22</th>\n      <th>2020-04-23</th>\n    </tr>\n    <tr>\n      <th>state</th>\n      <th>fips</th>\n      <th></th>\n      <th></th>\n      <th></th>\n      <th></th>\n      <th></th>\n      <th></th>\n      <th></th>\n      <th></th>\n      <th></th>\n      <th></th>\n      <th></th>\n      <th></th>\n      <th></th>\n      <th></th>\n      <th></th>\n      <th></th>\n      <th></th>\n      <th></th>\n      <th></th>\n      <th></th>\n      <th></th>\n    </tr>\n  </thead>\n  <tbody>\n    <tr>\n      <th>Alabama</th>\n      <th>01</th>\n      <td>0.0</td>\n      <td>0.0</td>\n      <td>0.0</td>\n      <td>0.0</td>\n      <td>0.0</td>\n      <td>0.0</td>\n      <td>0.0</td>\n      <td>0.0</td>\n      <td>0.0</td>\n      <td>0.0</td>\n      <td>...</td>\n      <td>114.0</td>\n      <td>123.0</td>\n      <td>137.0</td>\n      <td>151.0</td>\n      <td>147.0</td>\n      <td>160.0</td>\n      <td>164.0</td>\n      <td>186.0</td>\n      <td>201.0</td>\n      <td>197.0</td>\n    </tr>\n    <tr>\n      <th>Alaska</th>\n      <th>02</th>\n      <td>0.0</td>\n      <td>0.0</td>\n      <td>0.0</td>\n      <td>0.0</td>\n      <td>0.0</td>\n      <td>0.0</td>\n      <td>0.0</td>\n      <td>0.0</td>\n      <td>0.0</td>\n      <td>0.0</td>\n      <td>...</td>\n      <td>7.0</td>\n      <td>7.0</td>\n      <td>7.0</td>\n      <td>7.0</td>\n      <td>7.0</td>\n      <td>7.0</td>\n      <td>7.0</td>\n      <td>7.0</td>\n      <td>9.0</td>\n      <td>9.0</td>\n    </tr>\n    <tr>\n      <th>American Samoa</th>\n      <th>60</th>\n      <td>0.0</td>\n      <td>0.0</td>\n      <td>0.0</td>\n      <td>0.0</td>\n      <td>0.0</td>\n      <td>0.0</td>\n      <td>0.0</td>\n      <td>0.0</td>\n      <td>0.0</td>\n      <td>0.0</td>\n      <td>...</td>\n      <td>0.0</td>\n      <td>0.0</td>\n      <td>0.0</td>\n      <td>0.0</td>\n      <td>0.0</td>\n      <td>0.0</td>\n      <td>0.0</td>\n      <td>0.0</td>\n      <td>0.0</td>\n      <td>0.0</td>\n    </tr>\n    <tr>\n      <th>Arizona</th>\n      <th>04</th>\n      <td>0.0</td>\n      <td>0.0</td>\n      <td>0.0</td>\n      <td>0.0</td>\n      <td>0.0</td>\n      <td>1.0</td>\n      <td>1.0</td>\n      <td>1.0</td>\n      <td>1.0</td>\n      <td>1.0</td>\n      <td>...</td>\n      <td>131.0</td>\n      <td>142.0</td>\n      <td>152.0</td>\n      <td>174.0</td>\n      <td>181.0</td>\n      <td>188.0</td>\n      <td>191.0</td>\n      <td>213.0</td>\n      <td>236.0</td>\n      <td>257.0</td>\n    </tr>\n    <tr>\n      <th>Arkansas</th>\n      <th>05</th>\n      <td>0.0</td>\n      <td>0.0</td>\n      <td>0.0</td>\n      <td>0.0</td>\n      <td>0.0</td>\n      <td>0.0</td>\n      <td>0.0</td>\n      <td>0.0</td>\n      <td>0.0</td>\n      <td>0.0</td>\n      <td>...</td>\n      <td>32.0</td>\n      <td>34.0</td>\n      <td>37.0</td>\n      <td>37.0</td>\n      <td>38.0</td>\n      <td>39.0</td>\n      <td>42.0</td>\n      <td>43.0</td>\n      <td>44.0</td>\n      <td>45.0</td>\n    </tr>\n  </tbody>\n</table>\n<p>5 rows × 188 columns</p>\n</div>"
     },
     "metadata": {},
     "output_type": "execute_result",
     "execution_count": 3
    }
   ],
   "source": [
    "pivot_states = pd.pivot_table(df_states_original , index=['state','fips'],\n",
    "                       columns=['date'])\n",
    "if pivot_states.isnull().values.any():\n",
    "    pivot_states = pivot_states.replace(np.nan, 0)\n",
    "pivot_states.head(5)"
   ]
  },
  {
   "cell_type": "markdown",
   "metadata": {},
   "source": [
    "Get Date Info"
   ]
  },
  {
   "cell_type": "code",
   "execution_count": 4,
   "metadata": {
    "pycharm": {
     "is_executing": false,
     "name": "#%%\n"
    }
   },
   "outputs": [
    {
     "data": {
      "text/plain": "Index(['2020-01-21', '2020-01-22', '2020-01-23', '2020-01-24', '2020-01-25',\n       '2020-01-26', '2020-01-27', '2020-01-28', '2020-01-29', '2020-01-30',\n       '2020-01-31', '2020-02-01', '2020-02-02', '2020-02-03', '2020-02-04',\n       '2020-02-05', '2020-02-06', '2020-02-07', '2020-02-08', '2020-02-09',\n       '2020-02-10', '2020-02-11', '2020-02-12', '2020-02-13', '2020-02-14',\n       '2020-02-15', '2020-02-16', '2020-02-17', '2020-02-18', '2020-02-19',\n       '2020-02-20', '2020-02-21', '2020-02-22', '2020-02-23', '2020-02-24',\n       '2020-02-25', '2020-02-26', '2020-02-27', '2020-02-28', '2020-02-29',\n       '2020-03-01', '2020-03-02', '2020-03-03', '2020-03-04', '2020-03-05',\n       '2020-03-06', '2020-03-07', '2020-03-08', '2020-03-09', '2020-03-10',\n       '2020-03-11', '2020-03-12', '2020-03-13', '2020-03-14', '2020-03-15',\n       '2020-03-16', '2020-03-17', '2020-03-18', '2020-03-19', '2020-03-20',\n       '2020-03-21', '2020-03-22', '2020-03-23', '2020-03-24', '2020-03-25',\n       '2020-03-26', '2020-03-27', '2020-03-28', '2020-03-29', '2020-03-30',\n       '2020-03-31', '2020-04-01', '2020-04-02', '2020-04-03', '2020-04-04',\n       '2020-04-05', '2020-04-06', '2020-04-07', '2020-04-08', '2020-04-09',\n       '2020-04-10', '2020-04-11', '2020-04-12', '2020-04-13', '2020-04-14',\n       '2020-04-15', '2020-04-16', '2020-04-17', '2020-04-18', '2020-04-19',\n       '2020-04-20', '2020-04-21', '2020-04-22', '2020-04-23'],\n      dtype='object', name='date')"
     },
     "metadata": {},
     "output_type": "execute_result",
     "execution_count": 4
    }
   ],
   "source": [
    "date= pivot_states['cases'].columns\n",
    "date"
   ]
  },
  {
   "cell_type": "code",
   "execution_count": 5,
   "metadata": {
    "pycharm": {
     "is_executing": false,
     "name": "#%%\n"
    }
   },
   "outputs": [],
   "source": [
    "date_str = np.sort(date)\n",
    "dt_str_start=np.min(date_str)\n",
    "dt_str_end=np.max(date_str)"
   ]
  },
  {
   "cell_type": "code",
   "execution_count": 6,
   "metadata": {
    "pycharm": {
     "is_executing": false,
     "name": "#%%\n"
    }
   },
   "outputs": [
    {
     "name": "stdout",
     "text": [
      "94 DatetimeIndex(['2020-01-21', '2020-01-22', '2020-01-23', '2020-01-24',\n               '2020-01-25', '2020-01-26', '2020-01-27', '2020-01-28',\n               '2020-01-29', '2020-01-30', '2020-01-31', '2020-02-01',\n               '2020-02-02', '2020-02-03', '2020-02-04', '2020-02-05',\n               '2020-02-06', '2020-02-07', '2020-02-08', '2020-02-09',\n               '2020-02-10', '2020-02-11', '2020-02-12', '2020-02-13',\n               '2020-02-14', '2020-02-15', '2020-02-16', '2020-02-17',\n               '2020-02-18', '2020-02-19', '2020-02-20', '2020-02-21',\n               '2020-02-22', '2020-02-23', '2020-02-24', '2020-02-25',\n               '2020-02-26', '2020-02-27', '2020-02-28', '2020-02-29',\n               '2020-03-01', '2020-03-02', '2020-03-03', '2020-03-04',\n               '2020-03-05', '2020-03-06', '2020-03-07', '2020-03-08',\n               '2020-03-09', '2020-03-10', '2020-03-11', '2020-03-12',\n               '2020-03-13', '2020-03-14', '2020-03-15', '2020-03-16',\n               '2020-03-17', '2020-03-18', '2020-03-19', '2020-03-20',\n               '2020-03-21', '2020-03-22', '2020-03-23', '2020-03-24',\n               '2020-03-25', '2020-03-26', '2020-03-27', '2020-03-28',\n               '2020-03-29', '2020-03-30', '2020-03-31', '2020-04-01',\n               '2020-04-02', '2020-04-03', '2020-04-04', '2020-04-05',\n               '2020-04-06', '2020-04-07', '2020-04-08', '2020-04-09',\n               '2020-04-10', '2020-04-11', '2020-04-12', '2020-04-13',\n               '2020-04-14', '2020-04-15', '2020-04-16', '2020-04-17',\n               '2020-04-18', '2020-04-19', '2020-04-20', '2020-04-21',\n               '2020-04-22', '2020-04-23'],\n              dtype='datetime64[ns]', freq='D')\n94 ['2020-01-21', '2020-01-22', '2020-01-23', '2020-01-24', '2020-01-25', '2020-01-26', '2020-01-27', '2020-01-28', '2020-01-29', '2020-01-30', '2020-01-31', '2020-02-01', '2020-02-02', '2020-02-03', '2020-02-04', '2020-02-05', '2020-02-06', '2020-02-07', '2020-02-08', '2020-02-09', '2020-02-10', '2020-02-11', '2020-02-12', '2020-02-13', '2020-02-14', '2020-02-15', '2020-02-16', '2020-02-17', '2020-02-18', '2020-02-19', '2020-02-20', '2020-02-21', '2020-02-22', '2020-02-23', '2020-02-24', '2020-02-25', '2020-02-26', '2020-02-27', '2020-02-28', '2020-02-29', '2020-03-01', '2020-03-02', '2020-03-03', '2020-03-04', '2020-03-05', '2020-03-06', '2020-03-07', '2020-03-08', '2020-03-09', '2020-03-10', '2020-03-11', '2020-03-12', '2020-03-13', '2020-03-14', '2020-03-15', '2020-03-16', '2020-03-17', '2020-03-18', '2020-03-19', '2020-03-20', '2020-03-21', '2020-03-22', '2020-03-23', '2020-03-24', '2020-03-25', '2020-03-26', '2020-03-27', '2020-03-28', '2020-03-29', '2020-03-30', '2020-03-31', '2020-04-01', '2020-04-02', '2020-04-03', '2020-04-04', '2020-04-05', '2020-04-06', '2020-04-07', '2020-04-08', '2020-04-09', '2020-04-10', '2020-04-11', '2020-04-12', '2020-04-13', '2020-04-14', '2020-04-15', '2020-04-16', '2020-04-17', '2020-04-18', '2020-04-19', '2020-04-20', '2020-04-21', '2020-04-22', '2020-04-23']\n"
     ],
     "output_type": "stream"
    }
   ],
   "source": [
    "dt_start = datetime.strptime(dt_str_start, \"%Y-%m-%d\")\n",
    "dt_end = datetime.strptime(dt_str_end, \"%Y-%m-%d\")\n",
    "dt_range = pd.date_range(start=dt_start,end=dt_end)\n",
    "print(len(dt_range), dt_range)\n",
    "dt_range_str = list(map(lambda x: x.strftime(\"%Y-%m-%d\"), dt_range.tolist()))\n",
    "print(len(dt_range_str), dt_range_str)"
   ]
  },
  {
   "cell_type": "markdown",
   "metadata": {
    "pycharm": {
     "name": "#%% md\n"
    }
   },
   "source": [
    "Add Cases Time Series, First Case Date, Death Time Series, First Death Date"
   ]
  },
  {
   "cell_type": "code",
   "execution_count": 7,
   "metadata": {
    "pycharm": {
     "is_executing": false,
     "name": "#%%\n"
    }
   },
   "outputs": [],
   "source": [
    "# import json\n",
    "# pivot_states['cases_ts'] = \"'\" + json.dumps({\"values\": pivot_states['cases'].values.tolist()[0]}) + \"'\"\n",
    "# pivot_states['deaths_ts'] = \"'\" + json.dumps({\"values\": pivot_states['deaths'].values.tolist()[0]}) + \"'\"\n",
    "\n",
    "pivot_states['cases_ts'] = pivot_states['cases'].values.tolist()\n",
    "pivot_states['cases_ts'] = pivot_states['cases_ts'].apply(lambda x: ','.join(map(str, x)))\n",
    "pivot_states['deaths_ts'] = pivot_states['deaths'].values.tolist()\n",
    "pivot_states['deaths_ts'] = pivot_states['deaths_ts'].apply(lambda x: ','.join(map(str, x)))"
   ]
  },
  {
   "cell_type": "code",
   "execution_count": 8,
   "metadata": {
    "pycharm": {
     "is_executing": false,
     "name": "#%%\n"
    }
   },
   "outputs": [],
   "source": [
    "yesterday = date.values[-2]\n",
    "pivot_states['today_case'] = pivot_states['cases'][dt_str_end]\n",
    "pivot_states['today_new_case'] = pivot_states['cases'][dt_str_end] - pivot_states['cases'][yesterday]\n",
    "pivot_states['today_death'] = pivot_states['deaths'][dt_str_end]\n",
    "pivot_states['today_new_death'] = pivot_states['deaths'][dt_str_end] - pivot_states['deaths'][yesterday]"
   ]
  },
  {
   "cell_type": "code",
   "execution_count": 9,
   "metadata": {
    "pycharm": {
     "is_executing": false,
     "name": "#%%\n"
    }
   },
   "outputs": [
    {
     "data": {
      "text/plain": "                         cases                                              \\\ndate                2020-01-21 2020-01-22 2020-01-23 2020-01-24 2020-01-25   \nstate          fips                                                          \nAlabama        01          0.0        0.0        0.0        0.0        0.0   \nAlaska         02          0.0        0.0        0.0        0.0        0.0   \nAmerican Samoa 60          0.0        0.0        0.0        0.0        0.0   \nArizona        04          0.0        0.0        0.0        0.0        0.0   \nArkansas       05          0.0        0.0        0.0        0.0        0.0   \n\n                                                                            \\\ndate                2020-01-26 2020-01-27 2020-01-28 2020-01-29 2020-01-30   \nstate          fips                                                          \nAlabama        01          0.0        0.0        0.0        0.0        0.0   \nAlaska         02          0.0        0.0        0.0        0.0        0.0   \nAmerican Samoa 60          0.0        0.0        0.0        0.0        0.0   \nArizona        04          1.0        1.0        1.0        1.0        1.0   \nArkansas       05          0.0        0.0        0.0        0.0        0.0   \n\n                     ...     deaths             \\\ndate                 ... 2020-04-22 2020-04-23   \nstate          fips  ...                         \nAlabama        01    ...      201.0      197.0   \nAlaska         02    ...        9.0        9.0   \nAmerican Samoa 60    ...        0.0        0.0   \nArizona        04    ...      236.0      257.0   \nArkansas       05    ...       44.0       45.0   \n\n                                                              cases_ts  \\\ndate                                                                     \nstate          fips                                                      \nAlabama        01    0.0,0.0,0.0,0.0,0.0,0.0,0.0,0.0,0.0,0.0,0.0,0....   \nAlaska         02    0.0,0.0,0.0,0.0,0.0,0.0,0.0,0.0,0.0,0.0,0.0,0....   \nAmerican Samoa 60    0.0,0.0,0.0,0.0,0.0,0.0,0.0,0.0,0.0,0.0,0.0,0....   \nArizona        04    0.0,0.0,0.0,0.0,0.0,1.0,1.0,1.0,1.0,1.0,1.0,1....   \nArkansas       05    0.0,0.0,0.0,0.0,0.0,0.0,0.0,0.0,0.0,0.0,0.0,0....   \n\n                                                             deaths_ts  \\\ndate                                                                     \nstate          fips                                                      \nAlabama        01    0.0,0.0,0.0,0.0,0.0,0.0,0.0,0.0,0.0,0.0,0.0,0....   \nAlaska         02    0.0,0.0,0.0,0.0,0.0,0.0,0.0,0.0,0.0,0.0,0.0,0....   \nAmerican Samoa 60    0.0,0.0,0.0,0.0,0.0,0.0,0.0,0.0,0.0,0.0,0.0,0....   \nArizona        04    0.0,0.0,0.0,0.0,0.0,0.0,0.0,0.0,0.0,0.0,0.0,0....   \nArkansas       05    0.0,0.0,0.0,0.0,0.0,0.0,0.0,0.0,0.0,0.0,0.0,0....   \n\n                    today_case today_new_case today_death today_new_death  \\\ndate                                                                        \nstate          fips                                                         \nAlabama        01       5832.0          222.0       197.0            -4.0   \nAlaska         02        337.0            2.0         9.0             0.0   \nAmerican Samoa 60          0.0            0.0         0.0             0.0   \nArizona        04       5769.0          310.0       257.0            21.0   \nArkansas       05       2599.0          207.0        45.0             1.0   \n\n                    dt_first_case dt_first_death  \ndate                                              \nstate          fips                               \nAlabama        01      2020-03-13     2020-03-25  \nAlaska         02      2020-03-12     2020-03-27  \nAmerican Samoa 60      2020-01-21            NaN  \nArizona        04      2020-01-26     2020-03-20  \nArkansas       05      2020-03-11     2020-03-24  \n\n[5 rows x 196 columns]",
      "text/html": "<div>\n<style scoped>\n    .dataframe tbody tr th:only-of-type {\n        vertical-align: middle;\n    }\n\n    .dataframe tbody tr th {\n        vertical-align: top;\n    }\n\n    .dataframe thead tr th {\n        text-align: left;\n    }\n\n    .dataframe thead tr:last-of-type th {\n        text-align: right;\n    }\n</style>\n<table border=\"1\" class=\"dataframe\">\n  <thead>\n    <tr>\n      <th></th>\n      <th></th>\n      <th colspan=\"10\" halign=\"left\">cases</th>\n      <th>...</th>\n      <th colspan=\"2\" halign=\"left\">deaths</th>\n      <th>cases_ts</th>\n      <th>deaths_ts</th>\n      <th>today_case</th>\n      <th>today_new_case</th>\n      <th>today_death</th>\n      <th>today_new_death</th>\n      <th>dt_first_case</th>\n      <th>dt_first_death</th>\n    </tr>\n    <tr>\n      <th></th>\n      <th>date</th>\n      <th>2020-01-21</th>\n      <th>2020-01-22</th>\n      <th>2020-01-23</th>\n      <th>2020-01-24</th>\n      <th>2020-01-25</th>\n      <th>2020-01-26</th>\n      <th>2020-01-27</th>\n      <th>2020-01-28</th>\n      <th>2020-01-29</th>\n      <th>2020-01-30</th>\n      <th>...</th>\n      <th>2020-04-22</th>\n      <th>2020-04-23</th>\n      <th></th>\n      <th></th>\n      <th></th>\n      <th></th>\n      <th></th>\n      <th></th>\n      <th></th>\n      <th></th>\n    </tr>\n    <tr>\n      <th>state</th>\n      <th>fips</th>\n      <th></th>\n      <th></th>\n      <th></th>\n      <th></th>\n      <th></th>\n      <th></th>\n      <th></th>\n      <th></th>\n      <th></th>\n      <th></th>\n      <th></th>\n      <th></th>\n      <th></th>\n      <th></th>\n      <th></th>\n      <th></th>\n      <th></th>\n      <th></th>\n      <th></th>\n      <th></th>\n      <th></th>\n    </tr>\n  </thead>\n  <tbody>\n    <tr>\n      <th>Alabama</th>\n      <th>01</th>\n      <td>0.0</td>\n      <td>0.0</td>\n      <td>0.0</td>\n      <td>0.0</td>\n      <td>0.0</td>\n      <td>0.0</td>\n      <td>0.0</td>\n      <td>0.0</td>\n      <td>0.0</td>\n      <td>0.0</td>\n      <td>...</td>\n      <td>201.0</td>\n      <td>197.0</td>\n      <td>0.0,0.0,0.0,0.0,0.0,0.0,0.0,0.0,0.0,0.0,0.0,0....</td>\n      <td>0.0,0.0,0.0,0.0,0.0,0.0,0.0,0.0,0.0,0.0,0.0,0....</td>\n      <td>5832.0</td>\n      <td>222.0</td>\n      <td>197.0</td>\n      <td>-4.0</td>\n      <td>2020-03-13</td>\n      <td>2020-03-25</td>\n    </tr>\n    <tr>\n      <th>Alaska</th>\n      <th>02</th>\n      <td>0.0</td>\n      <td>0.0</td>\n      <td>0.0</td>\n      <td>0.0</td>\n      <td>0.0</td>\n      <td>0.0</td>\n      <td>0.0</td>\n      <td>0.0</td>\n      <td>0.0</td>\n      <td>0.0</td>\n      <td>...</td>\n      <td>9.0</td>\n      <td>9.0</td>\n      <td>0.0,0.0,0.0,0.0,0.0,0.0,0.0,0.0,0.0,0.0,0.0,0....</td>\n      <td>0.0,0.0,0.0,0.0,0.0,0.0,0.0,0.0,0.0,0.0,0.0,0....</td>\n      <td>337.0</td>\n      <td>2.0</td>\n      <td>9.0</td>\n      <td>0.0</td>\n      <td>2020-03-12</td>\n      <td>2020-03-27</td>\n    </tr>\n    <tr>\n      <th>American Samoa</th>\n      <th>60</th>\n      <td>0.0</td>\n      <td>0.0</td>\n      <td>0.0</td>\n      <td>0.0</td>\n      <td>0.0</td>\n      <td>0.0</td>\n      <td>0.0</td>\n      <td>0.0</td>\n      <td>0.0</td>\n      <td>0.0</td>\n      <td>...</td>\n      <td>0.0</td>\n      <td>0.0</td>\n      <td>0.0,0.0,0.0,0.0,0.0,0.0,0.0,0.0,0.0,0.0,0.0,0....</td>\n      <td>0.0,0.0,0.0,0.0,0.0,0.0,0.0,0.0,0.0,0.0,0.0,0....</td>\n      <td>0.0</td>\n      <td>0.0</td>\n      <td>0.0</td>\n      <td>0.0</td>\n      <td>2020-01-21</td>\n      <td>NaN</td>\n    </tr>\n    <tr>\n      <th>Arizona</th>\n      <th>04</th>\n      <td>0.0</td>\n      <td>0.0</td>\n      <td>0.0</td>\n      <td>0.0</td>\n      <td>0.0</td>\n      <td>1.0</td>\n      <td>1.0</td>\n      <td>1.0</td>\n      <td>1.0</td>\n      <td>1.0</td>\n      <td>...</td>\n      <td>236.0</td>\n      <td>257.0</td>\n      <td>0.0,0.0,0.0,0.0,0.0,1.0,1.0,1.0,1.0,1.0,1.0,1....</td>\n      <td>0.0,0.0,0.0,0.0,0.0,0.0,0.0,0.0,0.0,0.0,0.0,0....</td>\n      <td>5769.0</td>\n      <td>310.0</td>\n      <td>257.0</td>\n      <td>21.0</td>\n      <td>2020-01-26</td>\n      <td>2020-03-20</td>\n    </tr>\n    <tr>\n      <th>Arkansas</th>\n      <th>05</th>\n      <td>0.0</td>\n      <td>0.0</td>\n      <td>0.0</td>\n      <td>0.0</td>\n      <td>0.0</td>\n      <td>0.0</td>\n      <td>0.0</td>\n      <td>0.0</td>\n      <td>0.0</td>\n      <td>0.0</td>\n      <td>...</td>\n      <td>44.0</td>\n      <td>45.0</td>\n      <td>0.0,0.0,0.0,0.0,0.0,0.0,0.0,0.0,0.0,0.0,0.0,0....</td>\n      <td>0.0,0.0,0.0,0.0,0.0,0.0,0.0,0.0,0.0,0.0,0.0,0....</td>\n      <td>2599.0</td>\n      <td>207.0</td>\n      <td>45.0</td>\n      <td>1.0</td>\n      <td>2020-03-11</td>\n      <td>2020-03-24</td>\n    </tr>\n  </tbody>\n</table>\n<p>5 rows × 196 columns</p>\n</div>"
     },
     "metadata": {},
     "output_type": "execute_result",
     "execution_count": 9
    }
   ],
   "source": [
    "pivot_states['dt_first_case'] = (pivot_states['cases'] > 0).idxmax(axis=1)\n",
    "pivot_states['dt_first_death'] = (pivot_states['deaths'] > 0).idxmax(axis=1)\n",
    "#For death reports, deal with no deaths counties\n",
    "pivot_states.loc[pivot_states['deaths'].iloc[:, -1] <= 0, 'dt_first_death'] = np.nan\n",
    "pivot_states.head(5)"
   ]
  },
  {
   "cell_type": "code",
   "execution_count": 10,
   "metadata": {
    "pycharm": {
     "is_executing": false,
     "name": "#%%\n"
    }
   },
   "outputs": [
    {
     "data": {
      "text/plain": "867706.0"
     },
     "metadata": {},
     "output_type": "execute_result",
     "execution_count": 10
    }
   ],
   "source": [
    "pivot_states['today_case'].sum()"
   ]
  },
  {
   "cell_type": "markdown",
   "metadata": {},
   "source": [
    "Read County Boundary GeoJSON file"
   ]
  },
  {
   "cell_type": "code",
   "execution_count": 11,
   "metadata": {
    "pycharm": {
     "is_executing": false,
     "name": "#%%\n"
    }
   },
   "outputs": [
    {
     "data": {
      "text/plain": "  REGION DIVISION STATEFP   STATENS GEOID STUSPS           NAME LSAD  MTFCC  \\\n0      3        5      54  01779805    54     WV  West Virginia   00  G4000   \n1      3        5      12  00294478    12     FL        Florida   00  G4000   \n2      2        3      17  01779784    17     IL       Illinois   00  G4000   \n3      2        4      27  00662849    27     MN      Minnesota   00  G4000   \n4      3        5      24  01714934    24     MD       Maryland   00  G4000   \n\n  FUNCSTAT  ...  d2020-03-19  d2020-03-20 d2020-03-21 d2020-03-22  \\\n0        A  ...            0            0           0           0   \n1        A  ...            1            1           2           2   \n2        A  ...            3            1           1           1   \n3        A  ...            0            0           1           0   \n4        A  ...            0            1           1           0   \n\n   d2020-03-23  d2020-03-24  d2020-03-25  d2020-03-26  population  \\\n0            0            0            0            0     1829054   \n1            4            3            0            6    20598139   \n2            5            4            3            7    12821497   \n3            0            0            0            1     5527358   \n4            0            1            0            0     6003435   \n\n                                            geometry  \n0  POLYGON ((-80.51899 40.63880, -80.51934 39.721...  \n1  MULTIPOLYGON (((-82.98748 24.62538, -82.89993 ...  \n2  POLYGON ((-90.64284 42.50848, -87.01994 42.493...  \n3  POLYGON ((-97.22872 49.00056, -95.15371 48.998...  \n4  POLYGON ((-77.71952 39.32131, -77.76086 39.340...  \n\n[5 rows x 110 columns]",
      "text/html": "<div>\n<style scoped>\n    .dataframe tbody tr th:only-of-type {\n        vertical-align: middle;\n    }\n\n    .dataframe tbody tr th {\n        vertical-align: top;\n    }\n\n    .dataframe thead th {\n        text-align: right;\n    }\n</style>\n<table border=\"1\" class=\"dataframe\">\n  <thead>\n    <tr style=\"text-align: right;\">\n      <th></th>\n      <th>REGION</th>\n      <th>DIVISION</th>\n      <th>STATEFP</th>\n      <th>STATENS</th>\n      <th>GEOID</th>\n      <th>STUSPS</th>\n      <th>NAME</th>\n      <th>LSAD</th>\n      <th>MTFCC</th>\n      <th>FUNCSTAT</th>\n      <th>...</th>\n      <th>d2020-03-19</th>\n      <th>d2020-03-20</th>\n      <th>d2020-03-21</th>\n      <th>d2020-03-22</th>\n      <th>d2020-03-23</th>\n      <th>d2020-03-24</th>\n      <th>d2020-03-25</th>\n      <th>d2020-03-26</th>\n      <th>population</th>\n      <th>geometry</th>\n    </tr>\n  </thead>\n  <tbody>\n    <tr>\n      <th>0</th>\n      <td>3</td>\n      <td>5</td>\n      <td>54</td>\n      <td>01779805</td>\n      <td>54</td>\n      <td>WV</td>\n      <td>West Virginia</td>\n      <td>00</td>\n      <td>G4000</td>\n      <td>A</td>\n      <td>...</td>\n      <td>0</td>\n      <td>0</td>\n      <td>0</td>\n      <td>0</td>\n      <td>0</td>\n      <td>0</td>\n      <td>0</td>\n      <td>0</td>\n      <td>1829054</td>\n      <td>POLYGON ((-80.51899 40.63880, -80.51934 39.721...</td>\n    </tr>\n    <tr>\n      <th>1</th>\n      <td>3</td>\n      <td>5</td>\n      <td>12</td>\n      <td>00294478</td>\n      <td>12</td>\n      <td>FL</td>\n      <td>Florida</td>\n      <td>00</td>\n      <td>G4000</td>\n      <td>A</td>\n      <td>...</td>\n      <td>1</td>\n      <td>1</td>\n      <td>2</td>\n      <td>2</td>\n      <td>4</td>\n      <td>3</td>\n      <td>0</td>\n      <td>6</td>\n      <td>20598139</td>\n      <td>MULTIPOLYGON (((-82.98748 24.62538, -82.89993 ...</td>\n    </tr>\n    <tr>\n      <th>2</th>\n      <td>2</td>\n      <td>3</td>\n      <td>17</td>\n      <td>01779784</td>\n      <td>17</td>\n      <td>IL</td>\n      <td>Illinois</td>\n      <td>00</td>\n      <td>G4000</td>\n      <td>A</td>\n      <td>...</td>\n      <td>3</td>\n      <td>1</td>\n      <td>1</td>\n      <td>1</td>\n      <td>5</td>\n      <td>4</td>\n      <td>3</td>\n      <td>7</td>\n      <td>12821497</td>\n      <td>POLYGON ((-90.64284 42.50848, -87.01994 42.493...</td>\n    </tr>\n    <tr>\n      <th>3</th>\n      <td>2</td>\n      <td>4</td>\n      <td>27</td>\n      <td>00662849</td>\n      <td>27</td>\n      <td>MN</td>\n      <td>Minnesota</td>\n      <td>00</td>\n      <td>G4000</td>\n      <td>A</td>\n      <td>...</td>\n      <td>0</td>\n      <td>0</td>\n      <td>1</td>\n      <td>0</td>\n      <td>0</td>\n      <td>0</td>\n      <td>0</td>\n      <td>1</td>\n      <td>5527358</td>\n      <td>POLYGON ((-97.22872 49.00056, -95.15371 48.998...</td>\n    </tr>\n    <tr>\n      <th>4</th>\n      <td>3</td>\n      <td>5</td>\n      <td>24</td>\n      <td>01714934</td>\n      <td>24</td>\n      <td>MD</td>\n      <td>Maryland</td>\n      <td>00</td>\n      <td>G4000</td>\n      <td>A</td>\n      <td>...</td>\n      <td>0</td>\n      <td>1</td>\n      <td>1</td>\n      <td>0</td>\n      <td>0</td>\n      <td>1</td>\n      <td>0</td>\n      <td>0</td>\n      <td>6003435</td>\n      <td>POLYGON ((-77.71952 39.32131, -77.76086 39.340...</td>\n    </tr>\n  </tbody>\n</table>\n<p>5 rows × 110 columns</p>\n</div>"
     },
     "metadata": {},
     "output_type": "execute_result",
     "execution_count": 11
    }
   ],
   "source": [
    "old_states_geojson_df = gpd.read_file(r\"./states_update.geojson\")\n",
    "old_states_geojson_df.head(5)"
   ]
  },
  {
   "cell_type": "code",
   "execution_count": 12,
   "metadata": {
    "pycharm": {
     "is_executing": false,
     "name": "#%%\n"
    }
   },
   "outputs": [
    {
     "data": {
      "text/plain": "                                            NAME  population GEOID  \\\n0                                  West Virginia     1829054    54   \n1                                        Florida    20598139    12   \n2                                       Illinois    12821497    17   \n3                                      Minnesota     5527358    27   \n4                                       Maryland     6003435    24   \n5                                   Rhode Island     1056611    44   \n6                                          Idaho     1687809    16   \n7                                  New Hampshire     1343622    33   \n8                                 North Carolina    10155624    37   \n9                                        Vermont      624977    50   \n10                                   Connecticut     3581504    09   \n11                                      Delaware      949495    10   \n12                                    New Mexico     2092434    35   \n13                                    California    39148760    06   \n14                                    New Jersey     8881845    34   \n15                                     Wisconsin     5778394    55   \n16                                        Oregon     4081943    41   \n17                                      Nebraska     1904760    31   \n18                                  Pennsylvania    12791181    42   \n19                                    Washington     7294336    53   \n20                                     Louisiana     4663616    22   \n21                                       Georgia    10297484    13   \n22                                       Alabama     4864680    01   \n23                                          Utah     3045350    49   \n24                                          Ohio    11641879    39   \n25                                         Texas    27885195    48   \n26                                      Colorado     5531141    08   \n27                                South Carolina     4955925    45   \n28                                      Oklahoma     3918137    40   \n29                                     Tennessee     6651089    47   \n30                                       Wyoming      581836    56   \n31                                        Hawaii     1422029    15   \n32                                  North Dakota      752201    38   \n33                                      Kentucky     4440204    21   \n34                                Virgin Islands           0    78   \n35  Commonwealth of the Northern Mariana Islands           0    69   \n36                                          Guam           0    66   \n37                                         Maine     1332813    23   \n38                                      New York    19618453    36   \n39                                        Nevada     2922849    32   \n40                                        Alaska      738516    02   \n41                                American Samoa           0    60   \n42                                      Michigan     9957488    26   \n43                                      Arkansas     2990671    05   \n44                                   Mississippi     2988762    28   \n45                                      Missouri     6090062    29   \n46                                       Montana     1041732    30   \n47                                        Kansas     2908776    20   \n48                                       Indiana     6637426    18   \n49                                   Puerto Rico     3386941    72   \n50                                  South Dakota      864289    46   \n51                                 Massachusetts     6830193    25   \n52                                      Virginia     8413774    51   \n53                          District of Columbia      684498    11   \n54                                          Iowa     3132499    19   \n55                                       Arizona     6946685    04   \n\n                                             geometry  \n0   POLYGON ((-80.51899 40.63880, -80.51934 39.721...  \n1   MULTIPOLYGON (((-82.98748 24.62538, -82.89993 ...  \n2   POLYGON ((-90.64284 42.50848, -87.01994 42.493...  \n3   POLYGON ((-97.22872 49.00056, -95.15371 48.998...  \n4   POLYGON ((-77.71952 39.32131, -77.76086 39.340...  \n5   MULTIPOLYGON (((-71.67881 41.15891, -71.63497 ...  \n6   POLYGON ((-116.91607 45.99536, -116.98259 46.0...  \n7   POLYGON ((-71.50108 45.01335, -71.49804 45.070...  \n8   POLYGON ((-81.67749 36.58814, -80.12217 36.542...  \n9   POLYGON ((-73.34312 45.01084, -71.46505 45.013...  \n10  POLYGON ((-73.48732 42.04953, -72.81378 42.036...  \n11  POLYGON ((-75.78860 39.72220, -75.61795 39.834...  \n12  POLYGON ((-103.00233 37.00015, -103.00229 36.5...  \n13  MULTIPOLYGON (((-119.63607 33.28071, -119.5992...  \n14  MULTIPOLYGON (((-74.69491 41.35742, -73.89398 ...  \n15  POLYGON ((-89.95710 47.29110, -90.41839 46.566...  \n16  POLYGON ((-124.15955 46.26113, -124.03595 46.2...  \n17  POLYGON ((-104.05303 43.00059, -98.50036 42.99...  \n18  POLYGON ((-80.51985 42.32713, -80.08022 42.394...  \n19  POLYGON ((-117.03235 48.99919, -117.03463 46.4...  \n20  POLYGON ((-91.16607 33.00411, -91.20705 32.914...  \n21  POLYGON ((-85.60516 34.98468, -83.10247 34.996...  \n22  POLYGON ((-88.20006 34.99563, -88.20296 35.008...  \n23  POLYGON ((-114.04148 41.99387, -111.04671 42.0...  \n24  POLYGON ((-84.80597 41.69612, -83.41585 41.733...  \n25  POLYGON ((-103.00236 36.50055, -100.00041 36.4...  \n26  POLYGON ((-109.05003 41.00069, -102.05172 41.0...  \n27  POLYGON ((-83.10861 35.00066, -82.78484 35.085...  \n28  POLYGON ((-103.00236 36.50055, -103.00233 37.0...  \n29  POLYGON ((-84.32182 34.98841, -88.20296 35.008...  \n30  POLYGON ((-111.05243 44.47841, -111.05456 45.0...  \n31  MULTIPOLYGON (((-166.38653 23.84636, -166.3804...  \n32  POLYGON ((-104.04869 48.99959, -97.22872 49.00...  \n33  MULTIPOLYGON (((-89.48543 36.49749, -89.53923 ...  \n34  MULTIPOLYGON (((-64.95671 17.67898, -64.93420 ...  \n35  MULTIPOLYGON (((145.55884 16.37415, 145.62500 ...  \n36  POLYGON ((144.56343 13.44806, 144.61115 13.510...  \n37  POLYGON ((-71.08393 45.30548, -71.00849 45.319...  \n38  MULTIPOLYGON (((-74.04729 40.69050, -74.04485 ...  \n39  POLYGON ((-117.02620 42.00019, -114.04148 41.9...  \n40  MULTIPOLYGON (((-170.92604 52.55864, -170.8654...  \n41  MULTIPOLYGON (((-171.14118 -11.04661, -171.111...  \n42  POLYGON ((-89.95710 47.29110, -89.48338 48.013...  \n43  POLYGON ((-94.61792 36.49941, -90.15228 36.497...  \n44  POLYGON ((-90.30929 34.99569, -88.20003 34.995...  \n45  POLYGON ((-95.30829 40.00000, -95.41511 40.040...  \n46  POLYGON ((-116.04909 49.00085, -104.04869 48.9...  \n47  POLYGON ((-102.05174 40.00308, -95.30829 40.00...  \n48  POLYGON ((-87.20777 41.76096, -84.80589 41.760...  \n49  MULTIPOLYGON (((-67.99869 18.17076, -67.94479 ...  \n50  POLYGON ((-96.56367 45.93525, -96.58368 45.819...  \n51  POLYGON ((-71.79919 42.00805, -72.71456 42.036...  \n52  POLYGON ((-77.11976 38.93434, -77.03285 38.855...  \n53  POLYGON ((-77.03901 38.79165, -77.03946 38.869...  \n54  POLYGON ((-96.45326 43.50039, -91.21771 43.500...  \n55  POLYGON ((-114.63349 35.00186, -114.60291 35.0...  ",
      "text/html": "<div>\n<style scoped>\n    .dataframe tbody tr th:only-of-type {\n        vertical-align: middle;\n    }\n\n    .dataframe tbody tr th {\n        vertical-align: top;\n    }\n\n    .dataframe thead th {\n        text-align: right;\n    }\n</style>\n<table border=\"1\" class=\"dataframe\">\n  <thead>\n    <tr style=\"text-align: right;\">\n      <th></th>\n      <th>NAME</th>\n      <th>population</th>\n      <th>GEOID</th>\n      <th>geometry</th>\n    </tr>\n  </thead>\n  <tbody>\n    <tr>\n      <th>0</th>\n      <td>West Virginia</td>\n      <td>1829054</td>\n      <td>54</td>\n      <td>POLYGON ((-80.51899 40.63880, -80.51934 39.721...</td>\n    </tr>\n    <tr>\n      <th>1</th>\n      <td>Florida</td>\n      <td>20598139</td>\n      <td>12</td>\n      <td>MULTIPOLYGON (((-82.98748 24.62538, -82.89993 ...</td>\n    </tr>\n    <tr>\n      <th>2</th>\n      <td>Illinois</td>\n      <td>12821497</td>\n      <td>17</td>\n      <td>POLYGON ((-90.64284 42.50848, -87.01994 42.493...</td>\n    </tr>\n    <tr>\n      <th>3</th>\n      <td>Minnesota</td>\n      <td>5527358</td>\n      <td>27</td>\n      <td>POLYGON ((-97.22872 49.00056, -95.15371 48.998...</td>\n    </tr>\n    <tr>\n      <th>4</th>\n      <td>Maryland</td>\n      <td>6003435</td>\n      <td>24</td>\n      <td>POLYGON ((-77.71952 39.32131, -77.76086 39.340...</td>\n    </tr>\n    <tr>\n      <th>5</th>\n      <td>Rhode Island</td>\n      <td>1056611</td>\n      <td>44</td>\n      <td>MULTIPOLYGON (((-71.67881 41.15891, -71.63497 ...</td>\n    </tr>\n    <tr>\n      <th>6</th>\n      <td>Idaho</td>\n      <td>1687809</td>\n      <td>16</td>\n      <td>POLYGON ((-116.91607 45.99536, -116.98259 46.0...</td>\n    </tr>\n    <tr>\n      <th>7</th>\n      <td>New Hampshire</td>\n      <td>1343622</td>\n      <td>33</td>\n      <td>POLYGON ((-71.50108 45.01335, -71.49804 45.070...</td>\n    </tr>\n    <tr>\n      <th>8</th>\n      <td>North Carolina</td>\n      <td>10155624</td>\n      <td>37</td>\n      <td>POLYGON ((-81.67749 36.58814, -80.12217 36.542...</td>\n    </tr>\n    <tr>\n      <th>9</th>\n      <td>Vermont</td>\n      <td>624977</td>\n      <td>50</td>\n      <td>POLYGON ((-73.34312 45.01084, -71.46505 45.013...</td>\n    </tr>\n    <tr>\n      <th>10</th>\n      <td>Connecticut</td>\n      <td>3581504</td>\n      <td>09</td>\n      <td>POLYGON ((-73.48732 42.04953, -72.81378 42.036...</td>\n    </tr>\n    <tr>\n      <th>11</th>\n      <td>Delaware</td>\n      <td>949495</td>\n      <td>10</td>\n      <td>POLYGON ((-75.78860 39.72220, -75.61795 39.834...</td>\n    </tr>\n    <tr>\n      <th>12</th>\n      <td>New Mexico</td>\n      <td>2092434</td>\n      <td>35</td>\n      <td>POLYGON ((-103.00233 37.00015, -103.00229 36.5...</td>\n    </tr>\n    <tr>\n      <th>13</th>\n      <td>California</td>\n      <td>39148760</td>\n      <td>06</td>\n      <td>MULTIPOLYGON (((-119.63607 33.28071, -119.5992...</td>\n    </tr>\n    <tr>\n      <th>14</th>\n      <td>New Jersey</td>\n      <td>8881845</td>\n      <td>34</td>\n      <td>MULTIPOLYGON (((-74.69491 41.35742, -73.89398 ...</td>\n    </tr>\n    <tr>\n      <th>15</th>\n      <td>Wisconsin</td>\n      <td>5778394</td>\n      <td>55</td>\n      <td>POLYGON ((-89.95710 47.29110, -90.41839 46.566...</td>\n    </tr>\n    <tr>\n      <th>16</th>\n      <td>Oregon</td>\n      <td>4081943</td>\n      <td>41</td>\n      <td>POLYGON ((-124.15955 46.26113, -124.03595 46.2...</td>\n    </tr>\n    <tr>\n      <th>17</th>\n      <td>Nebraska</td>\n      <td>1904760</td>\n      <td>31</td>\n      <td>POLYGON ((-104.05303 43.00059, -98.50036 42.99...</td>\n    </tr>\n    <tr>\n      <th>18</th>\n      <td>Pennsylvania</td>\n      <td>12791181</td>\n      <td>42</td>\n      <td>POLYGON ((-80.51985 42.32713, -80.08022 42.394...</td>\n    </tr>\n    <tr>\n      <th>19</th>\n      <td>Washington</td>\n      <td>7294336</td>\n      <td>53</td>\n      <td>POLYGON ((-117.03235 48.99919, -117.03463 46.4...</td>\n    </tr>\n    <tr>\n      <th>20</th>\n      <td>Louisiana</td>\n      <td>4663616</td>\n      <td>22</td>\n      <td>POLYGON ((-91.16607 33.00411, -91.20705 32.914...</td>\n    </tr>\n    <tr>\n      <th>21</th>\n      <td>Georgia</td>\n      <td>10297484</td>\n      <td>13</td>\n      <td>POLYGON ((-85.60516 34.98468, -83.10247 34.996...</td>\n    </tr>\n    <tr>\n      <th>22</th>\n      <td>Alabama</td>\n      <td>4864680</td>\n      <td>01</td>\n      <td>POLYGON ((-88.20006 34.99563, -88.20296 35.008...</td>\n    </tr>\n    <tr>\n      <th>23</th>\n      <td>Utah</td>\n      <td>3045350</td>\n      <td>49</td>\n      <td>POLYGON ((-114.04148 41.99387, -111.04671 42.0...</td>\n    </tr>\n    <tr>\n      <th>24</th>\n      <td>Ohio</td>\n      <td>11641879</td>\n      <td>39</td>\n      <td>POLYGON ((-84.80597 41.69612, -83.41585 41.733...</td>\n    </tr>\n    <tr>\n      <th>25</th>\n      <td>Texas</td>\n      <td>27885195</td>\n      <td>48</td>\n      <td>POLYGON ((-103.00236 36.50055, -100.00041 36.4...</td>\n    </tr>\n    <tr>\n      <th>26</th>\n      <td>Colorado</td>\n      <td>5531141</td>\n      <td>08</td>\n      <td>POLYGON ((-109.05003 41.00069, -102.05172 41.0...</td>\n    </tr>\n    <tr>\n      <th>27</th>\n      <td>South Carolina</td>\n      <td>4955925</td>\n      <td>45</td>\n      <td>POLYGON ((-83.10861 35.00066, -82.78484 35.085...</td>\n    </tr>\n    <tr>\n      <th>28</th>\n      <td>Oklahoma</td>\n      <td>3918137</td>\n      <td>40</td>\n      <td>POLYGON ((-103.00236 36.50055, -103.00233 37.0...</td>\n    </tr>\n    <tr>\n      <th>29</th>\n      <td>Tennessee</td>\n      <td>6651089</td>\n      <td>47</td>\n      <td>POLYGON ((-84.32182 34.98841, -88.20296 35.008...</td>\n    </tr>\n    <tr>\n      <th>30</th>\n      <td>Wyoming</td>\n      <td>581836</td>\n      <td>56</td>\n      <td>POLYGON ((-111.05243 44.47841, -111.05456 45.0...</td>\n    </tr>\n    <tr>\n      <th>31</th>\n      <td>Hawaii</td>\n      <td>1422029</td>\n      <td>15</td>\n      <td>MULTIPOLYGON (((-166.38653 23.84636, -166.3804...</td>\n    </tr>\n    <tr>\n      <th>32</th>\n      <td>North Dakota</td>\n      <td>752201</td>\n      <td>38</td>\n      <td>POLYGON ((-104.04869 48.99959, -97.22872 49.00...</td>\n    </tr>\n    <tr>\n      <th>33</th>\n      <td>Kentucky</td>\n      <td>4440204</td>\n      <td>21</td>\n      <td>MULTIPOLYGON (((-89.48543 36.49749, -89.53923 ...</td>\n    </tr>\n    <tr>\n      <th>34</th>\n      <td>Virgin Islands</td>\n      <td>0</td>\n      <td>78</td>\n      <td>MULTIPOLYGON (((-64.95671 17.67898, -64.93420 ...</td>\n    </tr>\n    <tr>\n      <th>35</th>\n      <td>Commonwealth of the Northern Mariana Islands</td>\n      <td>0</td>\n      <td>69</td>\n      <td>MULTIPOLYGON (((145.55884 16.37415, 145.62500 ...</td>\n    </tr>\n    <tr>\n      <th>36</th>\n      <td>Guam</td>\n      <td>0</td>\n      <td>66</td>\n      <td>POLYGON ((144.56343 13.44806, 144.61115 13.510...</td>\n    </tr>\n    <tr>\n      <th>37</th>\n      <td>Maine</td>\n      <td>1332813</td>\n      <td>23</td>\n      <td>POLYGON ((-71.08393 45.30548, -71.00849 45.319...</td>\n    </tr>\n    <tr>\n      <th>38</th>\n      <td>New York</td>\n      <td>19618453</td>\n      <td>36</td>\n      <td>MULTIPOLYGON (((-74.04729 40.69050, -74.04485 ...</td>\n    </tr>\n    <tr>\n      <th>39</th>\n      <td>Nevada</td>\n      <td>2922849</td>\n      <td>32</td>\n      <td>POLYGON ((-117.02620 42.00019, -114.04148 41.9...</td>\n    </tr>\n    <tr>\n      <th>40</th>\n      <td>Alaska</td>\n      <td>738516</td>\n      <td>02</td>\n      <td>MULTIPOLYGON (((-170.92604 52.55864, -170.8654...</td>\n    </tr>\n    <tr>\n      <th>41</th>\n      <td>American Samoa</td>\n      <td>0</td>\n      <td>60</td>\n      <td>MULTIPOLYGON (((-171.14118 -11.04661, -171.111...</td>\n    </tr>\n    <tr>\n      <th>42</th>\n      <td>Michigan</td>\n      <td>9957488</td>\n      <td>26</td>\n      <td>POLYGON ((-89.95710 47.29110, -89.48338 48.013...</td>\n    </tr>\n    <tr>\n      <th>43</th>\n      <td>Arkansas</td>\n      <td>2990671</td>\n      <td>05</td>\n      <td>POLYGON ((-94.61792 36.49941, -90.15228 36.497...</td>\n    </tr>\n    <tr>\n      <th>44</th>\n      <td>Mississippi</td>\n      <td>2988762</td>\n      <td>28</td>\n      <td>POLYGON ((-90.30929 34.99569, -88.20003 34.995...</td>\n    </tr>\n    <tr>\n      <th>45</th>\n      <td>Missouri</td>\n      <td>6090062</td>\n      <td>29</td>\n      <td>POLYGON ((-95.30829 40.00000, -95.41511 40.040...</td>\n    </tr>\n    <tr>\n      <th>46</th>\n      <td>Montana</td>\n      <td>1041732</td>\n      <td>30</td>\n      <td>POLYGON ((-116.04909 49.00085, -104.04869 48.9...</td>\n    </tr>\n    <tr>\n      <th>47</th>\n      <td>Kansas</td>\n      <td>2908776</td>\n      <td>20</td>\n      <td>POLYGON ((-102.05174 40.00308, -95.30829 40.00...</td>\n    </tr>\n    <tr>\n      <th>48</th>\n      <td>Indiana</td>\n      <td>6637426</td>\n      <td>18</td>\n      <td>POLYGON ((-87.20777 41.76096, -84.80589 41.760...</td>\n    </tr>\n    <tr>\n      <th>49</th>\n      <td>Puerto Rico</td>\n      <td>3386941</td>\n      <td>72</td>\n      <td>MULTIPOLYGON (((-67.99869 18.17076, -67.94479 ...</td>\n    </tr>\n    <tr>\n      <th>50</th>\n      <td>South Dakota</td>\n      <td>864289</td>\n      <td>46</td>\n      <td>POLYGON ((-96.56367 45.93525, -96.58368 45.819...</td>\n    </tr>\n    <tr>\n      <th>51</th>\n      <td>Massachusetts</td>\n      <td>6830193</td>\n      <td>25</td>\n      <td>POLYGON ((-71.79919 42.00805, -72.71456 42.036...</td>\n    </tr>\n    <tr>\n      <th>52</th>\n      <td>Virginia</td>\n      <td>8413774</td>\n      <td>51</td>\n      <td>POLYGON ((-77.11976 38.93434, -77.03285 38.855...</td>\n    </tr>\n    <tr>\n      <th>53</th>\n      <td>District of Columbia</td>\n      <td>684498</td>\n      <td>11</td>\n      <td>POLYGON ((-77.03901 38.79165, -77.03946 38.869...</td>\n    </tr>\n    <tr>\n      <th>54</th>\n      <td>Iowa</td>\n      <td>3132499</td>\n      <td>19</td>\n      <td>POLYGON ((-96.45326 43.50039, -91.21771 43.500...</td>\n    </tr>\n    <tr>\n      <th>55</th>\n      <td>Arizona</td>\n      <td>6946685</td>\n      <td>04</td>\n      <td>POLYGON ((-114.63349 35.00186, -114.60291 35.0...</td>\n    </tr>\n  </tbody>\n</table>\n</div>"
     },
     "metadata": {},
     "output_type": "execute_result",
     "execution_count": 12
    }
   ],
   "source": [
    "old_states_geojson_df[['NAME','population','GEOID','geometry']]"
   ]
  },
  {
   "cell_type": "markdown",
   "metadata": {},
   "source": [
    "Old Data Structure"
   ]
  },
  {
   "cell_type": "code",
   "execution_count": 13,
   "metadata": {
    "pycharm": {
     "is_executing": false,
     "name": "#%%\n"
    }
   },
   "outputs": [
    {
     "data": {
      "text/plain": "            state fips                                           cases_ts  \\\n0         Alabama   01  0.0,0.0,0.0,0.0,0.0,0.0,0.0,0.0,0.0,0.0,0.0,0....   \n1          Alaska   02  0.0,0.0,0.0,0.0,0.0,0.0,0.0,0.0,0.0,0.0,0.0,0....   \n2  American Samoa   60  0.0,0.0,0.0,0.0,0.0,0.0,0.0,0.0,0.0,0.0,0.0,0....   \n3         Arizona   04  0.0,0.0,0.0,0.0,0.0,1.0,1.0,1.0,1.0,1.0,1.0,1....   \n4        Arkansas   05  0.0,0.0,0.0,0.0,0.0,0.0,0.0,0.0,0.0,0.0,0.0,0....   \n\n                                           deaths_ts dt_first_case  \\\n0  0.0,0.0,0.0,0.0,0.0,0.0,0.0,0.0,0.0,0.0,0.0,0....    2020-03-13   \n1  0.0,0.0,0.0,0.0,0.0,0.0,0.0,0.0,0.0,0.0,0.0,0....    2020-03-12   \n2  0.0,0.0,0.0,0.0,0.0,0.0,0.0,0.0,0.0,0.0,0.0,0....    2020-01-21   \n3  0.0,0.0,0.0,0.0,0.0,0.0,0.0,0.0,0.0,0.0,0.0,0....    2020-01-26   \n4  0.0,0.0,0.0,0.0,0.0,0.0,0.0,0.0,0.0,0.0,0.0,0....    2020-03-11   \n\n  dt_first_death  today_case  today_new_case  today_death  today_new_death  \n0     2020-03-25      5832.0           222.0        197.0             -4.0  \n1     2020-03-27       337.0             2.0          9.0              0.0  \n2            NaN         0.0             0.0          0.0              0.0  \n3     2020-03-20      5769.0           310.0        257.0             21.0  \n4     2020-03-24      2599.0           207.0         45.0              1.0  ",
      "text/html": "<div>\n<style scoped>\n    .dataframe tbody tr th:only-of-type {\n        vertical-align: middle;\n    }\n\n    .dataframe tbody tr th {\n        vertical-align: top;\n    }\n\n    .dataframe thead th {\n        text-align: right;\n    }\n</style>\n<table border=\"1\" class=\"dataframe\">\n  <thead>\n    <tr style=\"text-align: right;\">\n      <th></th>\n      <th>state</th>\n      <th>fips</th>\n      <th>cases_ts</th>\n      <th>deaths_ts</th>\n      <th>dt_first_case</th>\n      <th>dt_first_death</th>\n      <th>today_case</th>\n      <th>today_new_case</th>\n      <th>today_death</th>\n      <th>today_new_death</th>\n    </tr>\n  </thead>\n  <tbody>\n    <tr>\n      <th>0</th>\n      <td>Alabama</td>\n      <td>01</td>\n      <td>0.0,0.0,0.0,0.0,0.0,0.0,0.0,0.0,0.0,0.0,0.0,0....</td>\n      <td>0.0,0.0,0.0,0.0,0.0,0.0,0.0,0.0,0.0,0.0,0.0,0....</td>\n      <td>2020-03-13</td>\n      <td>2020-03-25</td>\n      <td>5832.0</td>\n      <td>222.0</td>\n      <td>197.0</td>\n      <td>-4.0</td>\n    </tr>\n    <tr>\n      <th>1</th>\n      <td>Alaska</td>\n      <td>02</td>\n      <td>0.0,0.0,0.0,0.0,0.0,0.0,0.0,0.0,0.0,0.0,0.0,0....</td>\n      <td>0.0,0.0,0.0,0.0,0.0,0.0,0.0,0.0,0.0,0.0,0.0,0....</td>\n      <td>2020-03-12</td>\n      <td>2020-03-27</td>\n      <td>337.0</td>\n      <td>2.0</td>\n      <td>9.0</td>\n      <td>0.0</td>\n    </tr>\n    <tr>\n      <th>2</th>\n      <td>American Samoa</td>\n      <td>60</td>\n      <td>0.0,0.0,0.0,0.0,0.0,0.0,0.0,0.0,0.0,0.0,0.0,0....</td>\n      <td>0.0,0.0,0.0,0.0,0.0,0.0,0.0,0.0,0.0,0.0,0.0,0....</td>\n      <td>2020-01-21</td>\n      <td>NaN</td>\n      <td>0.0</td>\n      <td>0.0</td>\n      <td>0.0</td>\n      <td>0.0</td>\n    </tr>\n    <tr>\n      <th>3</th>\n      <td>Arizona</td>\n      <td>04</td>\n      <td>0.0,0.0,0.0,0.0,0.0,1.0,1.0,1.0,1.0,1.0,1.0,1....</td>\n      <td>0.0,0.0,0.0,0.0,0.0,0.0,0.0,0.0,0.0,0.0,0.0,0....</td>\n      <td>2020-01-26</td>\n      <td>2020-03-20</td>\n      <td>5769.0</td>\n      <td>310.0</td>\n      <td>257.0</td>\n      <td>21.0</td>\n    </tr>\n    <tr>\n      <th>4</th>\n      <td>Arkansas</td>\n      <td>05</td>\n      <td>0.0,0.0,0.0,0.0,0.0,0.0,0.0,0.0,0.0,0.0,0.0,0....</td>\n      <td>0.0,0.0,0.0,0.0,0.0,0.0,0.0,0.0,0.0,0.0,0.0,0....</td>\n      <td>2020-03-11</td>\n      <td>2020-03-24</td>\n      <td>2599.0</td>\n      <td>207.0</td>\n      <td>45.0</td>\n      <td>1.0</td>\n    </tr>\n  </tbody>\n</table>\n</div>"
     },
     "metadata": {},
     "output_type": "execute_result",
     "execution_count": 13
    }
   ],
   "source": [
    "report_df = pivot_states[['cases_ts','deaths_ts','dt_first_case','dt_first_death','today_case','today_new_case', 'today_death','today_new_death']]\n",
    "report_df = report_df.reset_index()\n",
    "report_df.columns = ['state','fips','cases_ts','deaths_ts','dt_first_case','dt_first_death','today_case','today_new_case', 'today_death','today_new_death']\n",
    "report_df.head(5)"
   ]
  },
  {
   "cell_type": "code",
   "execution_count": 14,
   "metadata": {
    "pycharm": {
     "is_executing": false,
     "name": "#%%\n"
    }
   },
   "outputs": [
    {
     "data": {
      "text/plain": "0                      Alabama\n1                       Alaska\n2               American Samoa\n3                      Arizona\n4                     Arkansas\n5                   California\n6                     Colorado\n7                  Connecticut\n8                     Delaware\n9         District of Columbia\n10                     Florida\n11                     Georgia\n12                        Guam\n13                      Hawaii\n14                       Idaho\n15                    Illinois\n16                     Indiana\n17                        Iowa\n18                      Kansas\n19                    Kentucky\n20                   Louisiana\n21                       Maine\n22                    Maryland\n23               Massachusetts\n24                    Michigan\n25                   Minnesota\n26                 Mississippi\n27                    Missouri\n28                     Montana\n29                    Nebraska\n30                      Nevada\n31               New Hampshire\n32                  New Jersey\n33                  New Mexico\n34                    New York\n35              North Carolina\n36                North Dakota\n37    Northern Mariana Islands\n38                        Ohio\n39                    Oklahoma\n40                      Oregon\n41                Pennsylvania\n42                 Puerto Rico\n43                Rhode Island\n44              South Carolina\n45                South Dakota\n46                   Tennessee\n47                       Texas\n48                        Utah\n49                     Vermont\n50              Virgin Islands\n51                    Virginia\n52                  Washington\n53               West Virginia\n54                   Wisconsin\n55                     Wyoming\nName: state, dtype: object"
     },
     "metadata": {},
     "output_type": "execute_result",
     "execution_count": 14
    }
   ],
   "source": [
    "report_df['state']"
   ]
  },
  {
   "cell_type": "code",
   "execution_count": 15,
   "metadata": {
    "pycharm": {
     "is_executing": false,
     "name": "#%%\n"
    }
   },
   "outputs": [
    {
     "data": {
      "text/plain": "867706.0"
     },
     "metadata": {},
     "output_type": "execute_result",
     "execution_count": 15
    }
   ],
   "source": [
    "report_df['today_case'].sum()\n",
    "#truth value: 528405"
   ]
  },
  {
   "cell_type": "code",
   "execution_count": 16,
   "metadata": {
    "pycharm": {
     "is_executing": false,
     "name": "#%%\n"
    }
   },
   "outputs": [],
   "source": [
    "#Stay consistency with geojson states\n",
    "report_df = report_df.replace('Northern Mariana Islands','Commonwealth of the Northern Mariana Islands')"
   ]
  },
  {
   "cell_type": "code",
   "execution_count": 17,
   "metadata": {
    "pycharm": {
     "is_executing": false,
     "name": "#%%\n"
    }
   },
   "outputs": [
    {
     "data": {
      "text/plain": "Index(['NAME', 'population', 'geometry', 'state', 'fips', 'cases_ts',\n       'deaths_ts', 'dt_first_case', 'dt_first_death', 'today_case',\n       'today_new_case', 'today_death', 'today_new_death'],\n      dtype='object')"
     },
     "metadata": {},
     "output_type": "execute_result",
     "execution_count": 17
    }
   ],
   "source": [
    "final_df = pd.merge(old_states_geojson_df[[\"NAME\", \"population\", \"geometry\"]], report_df, how='left', left_on=['NAME'], right_on = ['state'])\n",
    "final_df.columns"
   ]
  },
  {
   "cell_type": "code",
   "execution_count": 18,
   "metadata": {
    "pycharm": {
     "is_executing": false,
     "name": "#%%\n"
    }
   },
   "outputs": [
    {
     "data": {
      "text/plain": "0                                    West Virginia\n1                                          Florida\n2                                         Illinois\n3                                        Minnesota\n4                                         Maryland\n5                                     Rhode Island\n6                                            Idaho\n7                                    New Hampshire\n8                                   North Carolina\n9                                          Vermont\n10                                     Connecticut\n11                                        Delaware\n12                                      New Mexico\n13                                      California\n14                                      New Jersey\n15                                       Wisconsin\n16                                          Oregon\n17                                        Nebraska\n18                                    Pennsylvania\n19                                      Washington\n20                                       Louisiana\n21                                         Georgia\n22                                         Alabama\n23                                            Utah\n24                                            Ohio\n25                                           Texas\n26                                        Colorado\n27                                  South Carolina\n28                                        Oklahoma\n29                                       Tennessee\n30                                         Wyoming\n31                                          Hawaii\n32                                    North Dakota\n33                                        Kentucky\n34                                  Virgin Islands\n35    Commonwealth of the Northern Mariana Islands\n36                                            Guam\n37                                           Maine\n38                                        New York\n39                                          Nevada\n40                                          Alaska\n41                                  American Samoa\n42                                        Michigan\n43                                        Arkansas\n44                                     Mississippi\n45                                        Missouri\n46                                         Montana\n47                                          Kansas\n48                                         Indiana\n49                                     Puerto Rico\n50                                    South Dakota\n51                                   Massachusetts\n52                                        Virginia\n53                            District of Columbia\n54                                            Iowa\n55                                         Arizona\nName: NAME, dtype: object"
     },
     "metadata": {},
     "output_type": "execute_result",
     "execution_count": 18
    }
   ],
   "source": [
    "final_df['NAME']"
   ]
  },
  {
   "cell_type": "code",
   "execution_count": 19,
   "metadata": {
    "pycharm": {
     "is_executing": false,
     "name": "#%%\n"
    }
   },
   "outputs": [
    {
     "data": {
      "text/plain": "            NAME  population fips dt_first_case dt_first_death  \\\n0  West Virginia     1829054   54    2020-03-17     2020-03-29   \n1        Florida    20598139   12    2020-03-01     2020-03-06   \n2       Illinois    12821497   17    2020-01-24     2020-03-17   \n3      Minnesota     5527358   27    2020-03-06     2020-03-21   \n4       Maryland     6003435   24    2020-03-05     2020-03-18   \n\n                                            cases_ts  \\\n0  0.0,0.0,0.0,0.0,0.0,0.0,0.0,0.0,0.0,0.0,0.0,0....   \n1  0.0,0.0,0.0,0.0,0.0,0.0,0.0,0.0,0.0,0.0,0.0,0....   \n2  0.0,0.0,0.0,1.0,1.0,1.0,1.0,1.0,1.0,2.0,2.0,2....   \n3  0.0,0.0,0.0,0.0,0.0,0.0,0.0,0.0,0.0,0.0,0.0,0....   \n4  0.0,0.0,0.0,0.0,0.0,0.0,0.0,0.0,0.0,0.0,0.0,0....   \n\n                                           deaths_ts  today_case  \\\n0  0.0,0.0,0.0,0.0,0.0,0.0,0.0,0.0,0.0,0.0,0.0,0....       981.0   \n1  0.0,0.0,0.0,0.0,0.0,0.0,0.0,0.0,0.0,0.0,0.0,0....     29640.0   \n2  0.0,0.0,0.0,0.0,0.0,0.0,0.0,0.0,0.0,0.0,0.0,0....     36935.0   \n3  0.0,0.0,0.0,0.0,0.0,0.0,0.0,0.0,0.0,0.0,0.0,0....      2942.0   \n4  0.0,0.0,0.0,0.0,0.0,0.0,0.0,0.0,0.0,0.0,0.0,0....     15737.0   \n\n   today_new_case  today_death  today_new_death  \\\n0            42.0         31.0              2.0   \n1          1339.0        986.0             60.0   \n2          1827.0       1696.0            119.0   \n3           221.0        200.0             21.0   \n4           962.0        680.0             48.0   \n\n                                            geometry    dt_start      dt_end  \\\n0  POLYGON ((-80.51899 40.63880, -80.51934 39.721...  2020-01-21  2020-04-23   \n1  MULTIPOLYGON (((-82.98748 24.62538, -82.89993 ...  2020-01-21  2020-04-23   \n2  POLYGON ((-90.64284 42.50848, -87.01994 42.493...  2020-01-21  2020-04-23   \n3  POLYGON ((-97.22872 49.00056, -95.15371 48.998...  2020-01-21  2020-04-23   \n4  POLYGON ((-77.71952 39.32131, -77.76086 39.340...  2020-01-21  2020-04-23   \n\n  dt_unit  \n0     day  \n1     day  \n2     day  \n3     day  \n4     day  ",
      "text/html": "<div>\n<style scoped>\n    .dataframe tbody tr th:only-of-type {\n        vertical-align: middle;\n    }\n\n    .dataframe tbody tr th {\n        vertical-align: top;\n    }\n\n    .dataframe thead th {\n        text-align: right;\n    }\n</style>\n<table border=\"1\" class=\"dataframe\">\n  <thead>\n    <tr style=\"text-align: right;\">\n      <th></th>\n      <th>NAME</th>\n      <th>population</th>\n      <th>fips</th>\n      <th>dt_first_case</th>\n      <th>dt_first_death</th>\n      <th>cases_ts</th>\n      <th>deaths_ts</th>\n      <th>today_case</th>\n      <th>today_new_case</th>\n      <th>today_death</th>\n      <th>today_new_death</th>\n      <th>geometry</th>\n      <th>dt_start</th>\n      <th>dt_end</th>\n      <th>dt_unit</th>\n    </tr>\n  </thead>\n  <tbody>\n    <tr>\n      <th>0</th>\n      <td>West Virginia</td>\n      <td>1829054</td>\n      <td>54</td>\n      <td>2020-03-17</td>\n      <td>2020-03-29</td>\n      <td>0.0,0.0,0.0,0.0,0.0,0.0,0.0,0.0,0.0,0.0,0.0,0....</td>\n      <td>0.0,0.0,0.0,0.0,0.0,0.0,0.0,0.0,0.0,0.0,0.0,0....</td>\n      <td>981.0</td>\n      <td>42.0</td>\n      <td>31.0</td>\n      <td>2.0</td>\n      <td>POLYGON ((-80.51899 40.63880, -80.51934 39.721...</td>\n      <td>2020-01-21</td>\n      <td>2020-04-23</td>\n      <td>day</td>\n    </tr>\n    <tr>\n      <th>1</th>\n      <td>Florida</td>\n      <td>20598139</td>\n      <td>12</td>\n      <td>2020-03-01</td>\n      <td>2020-03-06</td>\n      <td>0.0,0.0,0.0,0.0,0.0,0.0,0.0,0.0,0.0,0.0,0.0,0....</td>\n      <td>0.0,0.0,0.0,0.0,0.0,0.0,0.0,0.0,0.0,0.0,0.0,0....</td>\n      <td>29640.0</td>\n      <td>1339.0</td>\n      <td>986.0</td>\n      <td>60.0</td>\n      <td>MULTIPOLYGON (((-82.98748 24.62538, -82.89993 ...</td>\n      <td>2020-01-21</td>\n      <td>2020-04-23</td>\n      <td>day</td>\n    </tr>\n    <tr>\n      <th>2</th>\n      <td>Illinois</td>\n      <td>12821497</td>\n      <td>17</td>\n      <td>2020-01-24</td>\n      <td>2020-03-17</td>\n      <td>0.0,0.0,0.0,1.0,1.0,1.0,1.0,1.0,1.0,2.0,2.0,2....</td>\n      <td>0.0,0.0,0.0,0.0,0.0,0.0,0.0,0.0,0.0,0.0,0.0,0....</td>\n      <td>36935.0</td>\n      <td>1827.0</td>\n      <td>1696.0</td>\n      <td>119.0</td>\n      <td>POLYGON ((-90.64284 42.50848, -87.01994 42.493...</td>\n      <td>2020-01-21</td>\n      <td>2020-04-23</td>\n      <td>day</td>\n    </tr>\n    <tr>\n      <th>3</th>\n      <td>Minnesota</td>\n      <td>5527358</td>\n      <td>27</td>\n      <td>2020-03-06</td>\n      <td>2020-03-21</td>\n      <td>0.0,0.0,0.0,0.0,0.0,0.0,0.0,0.0,0.0,0.0,0.0,0....</td>\n      <td>0.0,0.0,0.0,0.0,0.0,0.0,0.0,0.0,0.0,0.0,0.0,0....</td>\n      <td>2942.0</td>\n      <td>221.0</td>\n      <td>200.0</td>\n      <td>21.0</td>\n      <td>POLYGON ((-97.22872 49.00056, -95.15371 48.998...</td>\n      <td>2020-01-21</td>\n      <td>2020-04-23</td>\n      <td>day</td>\n    </tr>\n    <tr>\n      <th>4</th>\n      <td>Maryland</td>\n      <td>6003435</td>\n      <td>24</td>\n      <td>2020-03-05</td>\n      <td>2020-03-18</td>\n      <td>0.0,0.0,0.0,0.0,0.0,0.0,0.0,0.0,0.0,0.0,0.0,0....</td>\n      <td>0.0,0.0,0.0,0.0,0.0,0.0,0.0,0.0,0.0,0.0,0.0,0....</td>\n      <td>15737.0</td>\n      <td>962.0</td>\n      <td>680.0</td>\n      <td>48.0</td>\n      <td>POLYGON ((-77.71952 39.32131, -77.76086 39.340...</td>\n      <td>2020-01-21</td>\n      <td>2020-04-23</td>\n      <td>day</td>\n    </tr>\n  </tbody>\n</table>\n</div>"
     },
     "metadata": {},
     "output_type": "execute_result",
     "execution_count": 19
    }
   ],
   "source": [
    "final_df=final_df[[\"NAME\", \"population\", \"fips\", \"dt_first_case\", \"dt_first_death\", \"cases_ts\", \"deaths_ts\", 'today_case','today_new_case', 'today_death','today_new_death', \"geometry\"]]\n",
    "final_df['dt_start'] = dt_str_start\n",
    "final_df['dt_end'] = dt_str_end\n",
    "final_df['dt_unit'] = \"day\"\n",
    "final_df.head(5)"
   ]
  },
  {
   "cell_type": "code",
   "execution_count": 20,
   "metadata": {
    "pycharm": {
     "is_executing": false,
     "name": "#%%\n"
    }
   },
   "outputs": [
    {
     "data": {
      "text/plain": "867706.0"
     },
     "metadata": {},
     "output_type": "execute_result",
     "execution_count": 20
    }
   ],
   "source": [
    "final_df['today_case'].sum()\n",
    "# result: 528405, same as truth"
   ]
  },
  {
   "cell_type": "code",
   "execution_count": 21,
   "metadata": {
    "pycharm": {
     "is_executing": false,
     "name": "#%%\n"
    }
   },
   "outputs": [
    {
     "name": "stdout",
     "text": [
      "done\n"
     ],
     "output_type": "stream"
    }
   ],
   "source": [
    "final_df.to_file(r\"./nyt_states_data.geojson\", driver='GeoJSON', encoding='utf-8')\n",
    "print(\"done\")"
   ]
  },
  {
   "cell_type": "markdown",
   "metadata": {},
   "source": [
    "New Data Structure (Full version)"
   ]
  },
  {
   "cell_type": "code",
   "execution_count": 22,
   "metadata": {
    "pycharm": {
     "is_executing": false,
     "name": "#%%\n"
    }
   },
   "outputs": [],
   "source": [
    "# pivot_states.columns = ['_'.join(col).strip() for col in pivot_states.columns.values]\n",
    "# report_df_2 = pivot_states.reset_index()"
   ]
  },
  {
   "cell_type": "code",
   "execution_count": 23,
   "metadata": {
    "pycharm": {
     "is_executing": false,
     "name": "#%%\n"
    }
   },
   "outputs": [],
   "source": [
    "# report_df_2.head(5)"
   ]
  },
  {
   "cell_type": "code",
   "execution_count": 24,
   "metadata": {
    "pycharm": {
     "is_executing": false,
     "name": "#%%\n"
    }
   },
   "outputs": [],
   "source": [
    "# pivot_states.head(5)"
   ]
  },
  {
   "cell_type": "code",
   "execution_count": 25,
   "metadata": {
    "pycharm": {
     "is_executing": false,
     "name": "#%%\n"
    }
   },
   "outputs": [],
   "source": [
    "# final_df_2 = pd.merge(old_states_geojson_df[[\"NAME\", \"population\", \"geometry\"]], report_df_2, how='right', left_on=['NAME'], right_on = ['state'])\n",
    "# final_df_2 = final_df_2.drop(['state'], axis = 1)\n",
    "# final_df_2['dt_start'] = dt_start\n",
    "# final_df_2['dt_end'] = dt_end\n",
    "# final_df_2.head(5)"
   ]
  },
  {
   "cell_type": "code",
   "execution_count": 26,
   "metadata": {
    "pycharm": {
     "is_executing": false,
     "name": "#%%\n"
    }
   },
   "outputs": [],
   "source": [
    "# final_df_2.to_file(r\"./nyt_states_data_full.geojson\", driver='GeoJSON', encoding='utf-8')\n",
    "# print(\"done\")\n",
    "\n"
   ]
  }
 ],
 "metadata": {
  "kernelspec": {
   "display_name": "Python 3",
   "language": "python",
   "name": "python3"
  },
  "language_info": {
   "codemirror_mode": {
    "name": "ipython",
    "version": 3
   },
   "file_extension": ".py",
   "mimetype": "text/x-python",
   "name": "python",
   "nbconvert_exporter": "python",
   "pygments_lexer": "ipython3",
   "version": "3.8.2"
  },
  "pycharm": {
   "stem_cell": {
    "cell_type": "raw",
    "metadata": {
     "collapsed": false
    },
    "source": []
   }
  }
 },
 "nbformat": 4,
 "nbformat_minor": 4
}