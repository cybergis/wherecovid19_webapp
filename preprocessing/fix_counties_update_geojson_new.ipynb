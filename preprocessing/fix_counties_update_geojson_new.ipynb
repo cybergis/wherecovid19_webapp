{
 "cells": [
  {
   "cell_type": "code",
   "execution_count": 2,
   "metadata": {
    "pycharm": {
     "is_executing": false
    }
   },
   "outputs": [],
   "source": [
    "import geopandas as gpd"
   ]
  },
  {
   "cell_type": "code",
   "execution_count": 3,
   "metadata": {
    "pycharm": {
     "is_executing": false
    }
   },
   "outputs": [
    {
     "data": {
      "text/plain": "  STATEFP COUNTYFP  COUNTYNS        AFFGEOID  GEOID      NAME LSAD  \\\n0      37      017  01026336  0500000US37017  37017    Bladen   06   \n1      37      167  01025844  0500000US37167  37167    Stanly   06   \n2      39      153  01074088  0500000US39153  39153    Summit   06   \n3      42      113  01213687  0500000US42113  42113  Sullivan   06   \n4      48      459  01384015  0500000US48459  48459    Upshur   06   \n\n        ALAND    AWATER     merge  ... d2020-03-19 d2020-03-20  d2020-03-21  \\\n0  2265887723  33010866    Bladen  ...           0           0            0   \n1  1023370459  25242751    Stanly  ...           0           0            0   \n2  1069181981  18958267    Summit  ...           0           0            0   \n3  1165338428   6617028  Sullivan  ...           0           0            0   \n4  1509910100  24878888    Upshur  ...           0           0            0   \n\n   d2020-03-22  d2020-03-23  d2020-03-24  d2020-03-25  d2020-03-26  \\\n0            0            0            0            0            0   \n1            0            0            0            0            0   \n2            0            0            0            0            0   \n3            0            0            0            0            0   \n4            0            0            0            0            0   \n\n   population                                           geometry  \n0       33778  MULTIPOLYGON (((-78.90200 34.83527, -78.79960 ...  \n1       61114  MULTIPOLYGON (((-80.49738 35.20210, -80.29542 ...  \n2      541810  MULTIPOLYGON (((-81.68699 41.13596, -81.68495 ...  \n3        6177  MULTIPOLYGON (((-76.81373 41.59003, -76.22014 ...  \n4       40769  MULTIPOLYGON (((-95.15274 32.66095, -95.15211 ...  \n\n[5 rows x 108 columns]",
      "text/html": "<div>\n<style scoped>\n    .dataframe tbody tr th:only-of-type {\n        vertical-align: middle;\n    }\n\n    .dataframe tbody tr th {\n        vertical-align: top;\n    }\n\n    .dataframe thead th {\n        text-align: right;\n    }\n</style>\n<table border=\"1\" class=\"dataframe\">\n  <thead>\n    <tr style=\"text-align: right;\">\n      <th></th>\n      <th>STATEFP</th>\n      <th>COUNTYFP</th>\n      <th>COUNTYNS</th>\n      <th>AFFGEOID</th>\n      <th>GEOID</th>\n      <th>NAME</th>\n      <th>LSAD</th>\n      <th>ALAND</th>\n      <th>AWATER</th>\n      <th>merge</th>\n      <th>...</th>\n      <th>d2020-03-19</th>\n      <th>d2020-03-20</th>\n      <th>d2020-03-21</th>\n      <th>d2020-03-22</th>\n      <th>d2020-03-23</th>\n      <th>d2020-03-24</th>\n      <th>d2020-03-25</th>\n      <th>d2020-03-26</th>\n      <th>population</th>\n      <th>geometry</th>\n    </tr>\n  </thead>\n  <tbody>\n    <tr>\n      <th>0</th>\n      <td>37</td>\n      <td>017</td>\n      <td>01026336</td>\n      <td>0500000US37017</td>\n      <td>37017</td>\n      <td>Bladen</td>\n      <td>06</td>\n      <td>2265887723</td>\n      <td>33010866</td>\n      <td>Bladen</td>\n      <td>...</td>\n      <td>0</td>\n      <td>0</td>\n      <td>0</td>\n      <td>0</td>\n      <td>0</td>\n      <td>0</td>\n      <td>0</td>\n      <td>0</td>\n      <td>33778</td>\n      <td>MULTIPOLYGON (((-78.90200 34.83527, -78.79960 ...</td>\n    </tr>\n    <tr>\n      <th>1</th>\n      <td>37</td>\n      <td>167</td>\n      <td>01025844</td>\n      <td>0500000US37167</td>\n      <td>37167</td>\n      <td>Stanly</td>\n      <td>06</td>\n      <td>1023370459</td>\n      <td>25242751</td>\n      <td>Stanly</td>\n      <td>...</td>\n      <td>0</td>\n      <td>0</td>\n      <td>0</td>\n      <td>0</td>\n      <td>0</td>\n      <td>0</td>\n      <td>0</td>\n      <td>0</td>\n      <td>61114</td>\n      <td>MULTIPOLYGON (((-80.49738 35.20210, -80.29542 ...</td>\n    </tr>\n    <tr>\n      <th>2</th>\n      <td>39</td>\n      <td>153</td>\n      <td>01074088</td>\n      <td>0500000US39153</td>\n      <td>39153</td>\n      <td>Summit</td>\n      <td>06</td>\n      <td>1069181981</td>\n      <td>18958267</td>\n      <td>Summit</td>\n      <td>...</td>\n      <td>0</td>\n      <td>0</td>\n      <td>0</td>\n      <td>0</td>\n      <td>0</td>\n      <td>0</td>\n      <td>0</td>\n      <td>0</td>\n      <td>541810</td>\n      <td>MULTIPOLYGON (((-81.68699 41.13596, -81.68495 ...</td>\n    </tr>\n    <tr>\n      <th>3</th>\n      <td>42</td>\n      <td>113</td>\n      <td>01213687</td>\n      <td>0500000US42113</td>\n      <td>42113</td>\n      <td>Sullivan</td>\n      <td>06</td>\n      <td>1165338428</td>\n      <td>6617028</td>\n      <td>Sullivan</td>\n      <td>...</td>\n      <td>0</td>\n      <td>0</td>\n      <td>0</td>\n      <td>0</td>\n      <td>0</td>\n      <td>0</td>\n      <td>0</td>\n      <td>0</td>\n      <td>6177</td>\n      <td>MULTIPOLYGON (((-76.81373 41.59003, -76.22014 ...</td>\n    </tr>\n    <tr>\n      <th>4</th>\n      <td>48</td>\n      <td>459</td>\n      <td>01384015</td>\n      <td>0500000US48459</td>\n      <td>48459</td>\n      <td>Upshur</td>\n      <td>06</td>\n      <td>1509910100</td>\n      <td>24878888</td>\n      <td>Upshur</td>\n      <td>...</td>\n      <td>0</td>\n      <td>0</td>\n      <td>0</td>\n      <td>0</td>\n      <td>0</td>\n      <td>0</td>\n      <td>0</td>\n      <td>0</td>\n      <td>40769</td>\n      <td>MULTIPOLYGON (((-95.15274 32.66095, -95.15211 ...</td>\n    </tr>\n  </tbody>\n</table>\n<p>5 rows × 108 columns</p>\n</div>"
     },
     "metadata": {},
     "output_type": "execute_result",
     "execution_count": 3
    }
   ],
   "source": [
    "old_counties_geojson_df = gpd.read_file(\"counties_update.geojson\")\n",
    "old_counties_geojson_df.head(5)"
   ]
  },
  {
   "cell_type": "code",
   "execution_count": 4,
   "metadata": {
    "pycharm": {
     "is_executing": false,
     "name": "#%%\n"
    }
   },
   "outputs": [
    {
     "data": {
      "text/plain": "array(['STATEFP', 'COUNTYFP', 'COUNTYNS', 'AFFGEOID', 'GEOID', 'NAME',\n       'LSAD', 'ALAND', 'AWATER', 'merge', 'state_name', 'state_abbr',\n       'confirmed_count', 'death_count', '2020-01-21', '2020-01-24',\n       '2020-01-26', '2020-01-30', '2020-01-31', '2020-02-01',\n       '2020-02-02', '2020-02-05', '2020-02-10', '2020-02-12',\n       '2020-02-13', '2020-02-18', '2020-02-20', '2020-02-21',\n       '2020-02-24', '2020-02-25', '2020-02-26', '2020-02-27',\n       '2020-02-28', '2020-02-29', '2020-03-01', '2020-03-02',\n       '2020-03-03', '2020-03-04', '2020-03-05', '2020-03-06',\n       '2020-03-07', '2020-03-08', '2020-03-09', '2020-03-10',\n       '2020-03-11', '2020-03-12', '2020-03-13', '2020-03-14',\n       '2020-03-15', '2020-03-16', '2020-03-17', '2020-03-18',\n       '2020-03-19', '2020-03-20', '2020-03-21', '2020-03-22',\n       '2020-03-23', '2020-03-24', '2020-03-25', '2020-03-26',\n       'd2020-01-21', 'd2020-01-24', 'd2020-01-26', 'd2020-01-30',\n       'd2020-01-31', 'd2020-02-01', 'd2020-02-02', 'd2020-02-05',\n       'd2020-02-10', 'd2020-02-12', 'd2020-02-13', 'd2020-02-18',\n       'd2020-02-20', 'd2020-02-21', 'd2020-02-24', 'd2020-02-25',\n       'd2020-02-26', 'd2020-02-27', 'd2020-02-28', 'd2020-02-29',\n       'd2020-03-01', 'd2020-03-02', 'd2020-03-03', 'd2020-03-04',\n       'd2020-03-05', 'd2020-03-06', 'd2020-03-07', 'd2020-03-08',\n       'd2020-03-09', 'd2020-03-10', 'd2020-03-11', 'd2020-03-12',\n       'd2020-03-13', 'd2020-03-14', 'd2020-03-15', 'd2020-03-16',\n       'd2020-03-17', 'd2020-03-18', 'd2020-03-19', 'd2020-03-20',\n       'd2020-03-21', 'd2020-03-22', 'd2020-03-23', 'd2020-03-24',\n       'd2020-03-25', 'd2020-03-26', 'population', 'geometry'],\n      dtype=object)"
     },
     "metadata": {},
     "output_type": "execute_result",
     "execution_count": 4
    }
   ],
   "source": [
    "old_counties_geojson_df.columns.values"
   ]
  },
  {
   "cell_type": "markdown",
   "metadata": {
    "pycharm": {
     "name": "#%% md\n"
    }
   },
   "source": [
    "Extract useful columns"
   ]
  },
  {
   "cell_type": "code",
   "execution_count": 5,
   "metadata": {
    "pycharm": {
     "is_executing": false,
     "name": "#%%\n"
    }
   },
   "outputs": [
    {
     "data": {
      "text/plain": "       NAME      state_name  GEOID  population  \\\n0    Bladen  North Carolina  37017       33778   \n1    Stanly  North Carolina  37167       61114   \n2    Summit            Ohio  39153      541810   \n3  Sullivan    Pennsylvania  42113        6177   \n4    Upshur           Texas  48459       40769   \n\n                                            geometry  \n0  MULTIPOLYGON (((-78.90200 34.83527, -78.79960 ...  \n1  MULTIPOLYGON (((-80.49738 35.20210, -80.29542 ...  \n2  MULTIPOLYGON (((-81.68699 41.13596, -81.68495 ...  \n3  MULTIPOLYGON (((-76.81373 41.59003, -76.22014 ...  \n4  MULTIPOLYGON (((-95.15274 32.66095, -95.15211 ...  ",
      "text/html": "<div>\n<style scoped>\n    .dataframe tbody tr th:only-of-type {\n        vertical-align: middle;\n    }\n\n    .dataframe tbody tr th {\n        vertical-align: top;\n    }\n\n    .dataframe thead th {\n        text-align: right;\n    }\n</style>\n<table border=\"1\" class=\"dataframe\">\n  <thead>\n    <tr style=\"text-align: right;\">\n      <th></th>\n      <th>NAME</th>\n      <th>state_name</th>\n      <th>GEOID</th>\n      <th>population</th>\n      <th>geometry</th>\n    </tr>\n  </thead>\n  <tbody>\n    <tr>\n      <th>0</th>\n      <td>Bladen</td>\n      <td>North Carolina</td>\n      <td>37017</td>\n      <td>33778</td>\n      <td>MULTIPOLYGON (((-78.90200 34.83527, -78.79960 ...</td>\n    </tr>\n    <tr>\n      <th>1</th>\n      <td>Stanly</td>\n      <td>North Carolina</td>\n      <td>37167</td>\n      <td>61114</td>\n      <td>MULTIPOLYGON (((-80.49738 35.20210, -80.29542 ...</td>\n    </tr>\n    <tr>\n      <th>2</th>\n      <td>Summit</td>\n      <td>Ohio</td>\n      <td>39153</td>\n      <td>541810</td>\n      <td>MULTIPOLYGON (((-81.68699 41.13596, -81.68495 ...</td>\n    </tr>\n    <tr>\n      <th>3</th>\n      <td>Sullivan</td>\n      <td>Pennsylvania</td>\n      <td>42113</td>\n      <td>6177</td>\n      <td>MULTIPOLYGON (((-76.81373 41.59003, -76.22014 ...</td>\n    </tr>\n    <tr>\n      <th>4</th>\n      <td>Upshur</td>\n      <td>Texas</td>\n      <td>48459</td>\n      <td>40769</td>\n      <td>MULTIPOLYGON (((-95.15274 32.66095, -95.15211 ...</td>\n    </tr>\n  </tbody>\n</table>\n</div>"
     },
     "metadata": {},
     "output_type": "execute_result",
     "execution_count": 5
    }
   ],
   "source": [
    "counties_df = old_counties_geojson_df[['NAME','state_name','GEOID','population','geometry']]\n",
    "counties_df.head(5)"
   ]
  },
  {
   "cell_type": "markdown",
   "metadata": {
    "pycharm": {
     "is_executing": false,
     "name": "#%% md\n"
    }
   },
   "source": [
    "Check if New York City and Kansas City Exists"
   ]
  },
  {
   "cell_type": "code",
   "execution_count": 6,
   "metadata": {
    "pycharm": {
     "is_executing": false,
     "name": "#%% \n"
    }
   },
   "outputs": [
    {
     "data": {
      "text/plain": "Empty GeoDataFrame\nColumns: [NAME, state_name, GEOID, population, geometry]\nIndex: []",
      "text/html": "<div>\n<style scoped>\n    .dataframe tbody tr th:only-of-type {\n        vertical-align: middle;\n    }\n\n    .dataframe tbody tr th {\n        vertical-align: top;\n    }\n\n    .dataframe thead th {\n        text-align: right;\n    }\n</style>\n<table border=\"1\" class=\"dataframe\">\n  <thead>\n    <tr style=\"text-align: right;\">\n      <th></th>\n      <th>NAME</th>\n      <th>state_name</th>\n      <th>GEOID</th>\n      <th>population</th>\n      <th>geometry</th>\n    </tr>\n  </thead>\n  <tbody>\n  </tbody>\n</table>\n</div>"
     },
     "metadata": {},
     "output_type": "execute_result",
     "execution_count": 6
    }
   ],
   "source": [
    "counties_df[counties_df['NAME'] == 'New York City']"
   ]
  },
  {
   "cell_type": "code",
   "execution_count": 7,
   "metadata": {
    "pycharm": {
     "is_executing": false,
     "name": "#%%\n"
    }
   },
   "outputs": [
    {
     "data": {
      "text/plain": "Empty GeoDataFrame\nColumns: [NAME, state_name, GEOID, population, geometry]\nIndex: []",
      "text/html": "<div>\n<style scoped>\n    .dataframe tbody tr th:only-of-type {\n        vertical-align: middle;\n    }\n\n    .dataframe tbody tr th {\n        vertical-align: top;\n    }\n\n    .dataframe thead th {\n        text-align: right;\n    }\n</style>\n<table border=\"1\" class=\"dataframe\">\n  <thead>\n    <tr style=\"text-align: right;\">\n      <th></th>\n      <th>NAME</th>\n      <th>state_name</th>\n      <th>GEOID</th>\n      <th>population</th>\n      <th>geometry</th>\n    </tr>\n  </thead>\n  <tbody>\n  </tbody>\n</table>\n</div>"
     },
     "metadata": {},
     "output_type": "execute_result",
     "execution_count": 7
    }
   ],
   "source": [
    "counties_df[counties_df['NAME'] == 'Kansas City']"
   ]
  },
  {
   "cell_type": "markdown",
   "metadata": {
    "pycharm": {
     "name": "#%% md\n"
    }
   },
   "source": [
    "Add Kansas City from external GeoJSON file"
   ]
  },
  {
   "cell_type": "code",
   "execution_count": 8,
   "metadata": {
    "pycharm": {
     "is_executing": false,
     "name": "#%%\n"
    }
   },
   "outputs": [
    {
     "data": {
      "text/plain": "      shape_area           nbhname objectid nbhid      shape_len  \\\n0  14264150.3454     Eastern 49-63       68   113  21686.6610301   \n1  7817689.84477  Broadway Gillham       28    75  11375.7151506   \n2  40471689.4662     Brown Estates       30   131  32762.6135686   \n3  34531985.9929      Calico Farms       31   160  24792.3736262   \n4  17274149.2768      CBD Downtown       32     4  17190.5486385   \n\n                                            geometry  \n0  MULTIPOLYGON (((-94.56994 39.01358, -94.56996 ...  \n1  MULTIPOLYGON (((-94.58030 39.06567, -94.58033 ...  \n2  MULTIPOLYGON (((-94.51675 39.03446, -94.51583 ...  \n3  MULTIPOLYGON (((-94.54635 38.91434, -94.54623 ...  \n4  MULTIPOLYGON (((-94.57232 39.10628, -94.57196 ...  ",
      "text/html": "<div>\n<style scoped>\n    .dataframe tbody tr th:only-of-type {\n        vertical-align: middle;\n    }\n\n    .dataframe tbody tr th {\n        vertical-align: top;\n    }\n\n    .dataframe thead th {\n        text-align: right;\n    }\n</style>\n<table border=\"1\" class=\"dataframe\">\n  <thead>\n    <tr style=\"text-align: right;\">\n      <th></th>\n      <th>shape_area</th>\n      <th>nbhname</th>\n      <th>objectid</th>\n      <th>nbhid</th>\n      <th>shape_len</th>\n      <th>geometry</th>\n    </tr>\n  </thead>\n  <tbody>\n    <tr>\n      <th>0</th>\n      <td>14264150.3454</td>\n      <td>Eastern 49-63</td>\n      <td>68</td>\n      <td>113</td>\n      <td>21686.6610301</td>\n      <td>MULTIPOLYGON (((-94.56994 39.01358, -94.56996 ...</td>\n    </tr>\n    <tr>\n      <th>1</th>\n      <td>7817689.84477</td>\n      <td>Broadway Gillham</td>\n      <td>28</td>\n      <td>75</td>\n      <td>11375.7151506</td>\n      <td>MULTIPOLYGON (((-94.58030 39.06567, -94.58033 ...</td>\n    </tr>\n    <tr>\n      <th>2</th>\n      <td>40471689.4662</td>\n      <td>Brown Estates</td>\n      <td>30</td>\n      <td>131</td>\n      <td>32762.6135686</td>\n      <td>MULTIPOLYGON (((-94.51675 39.03446, -94.51583 ...</td>\n    </tr>\n    <tr>\n      <th>3</th>\n      <td>34531985.9929</td>\n      <td>Calico Farms</td>\n      <td>31</td>\n      <td>160</td>\n      <td>24792.3736262</td>\n      <td>MULTIPOLYGON (((-94.54635 38.91434, -94.54623 ...</td>\n    </tr>\n    <tr>\n      <th>4</th>\n      <td>17274149.2768</td>\n      <td>CBD Downtown</td>\n      <td>32</td>\n      <td>4</td>\n      <td>17190.5486385</td>\n      <td>MULTIPOLYGON (((-94.57232 39.10628, -94.57196 ...</td>\n    </tr>\n  </tbody>\n</table>\n</div>"
     },
     "metadata": {},
     "output_type": "execute_result",
     "execution_count": 8
    }
   ],
   "source": [
    "kansas_city_geojson_df = gpd.read_file('kansas_city.geojson')\n",
    "kansas_city_geojson_df.head(5)"
   ]
  },
  {
   "cell_type": "code",
   "execution_count": 9,
   "metadata": {
    "pycharm": {
     "is_executing": false,
     "name": "#%%\n"
    }
   },
   "outputs": [],
   "source": [
    "#Population Data get from WIKI: https://en.wikipedia.org/wiki/Kansas_City,_Missouri\n",
    "#According to the U.S. Census Bureau, the city had an estimated population of 491,918 in 2018\n",
    "kansas_geometry = kansas_city_geojson_df.geometry.unary_union\n",
    "counties_df = counties_df.append(\n",
    "    {\n",
    "        'NAME':'Kansas City',\n",
    "        'state_name':'Missouri',\n",
    "        'GEOID':'00000',\n",
    "        'population':491918,\n",
    "        'geometry':kansas_geometry\n",
    "    },ignore_index=True)"
   ]
  },
  {
   "cell_type": "code",
   "execution_count": 10,
   "metadata": {
    "pycharm": {
     "is_executing": false,
     "name": "#%%\n"
    }
   },
   "outputs": [
    {
     "data": {
      "text/plain": "             NAME state_name  GEOID  population  \\\n3220  Kansas City   Missouri  00000      491918   \n\n                                               geometry  \n3220  POLYGON ((-94.44849 38.93168, -94.44869 38.928...  ",
      "text/html": "<div>\n<style scoped>\n    .dataframe tbody tr th:only-of-type {\n        vertical-align: middle;\n    }\n\n    .dataframe tbody tr th {\n        vertical-align: top;\n    }\n\n    .dataframe thead th {\n        text-align: right;\n    }\n</style>\n<table border=\"1\" class=\"dataframe\">\n  <thead>\n    <tr style=\"text-align: right;\">\n      <th></th>\n      <th>NAME</th>\n      <th>state_name</th>\n      <th>GEOID</th>\n      <th>population</th>\n      <th>geometry</th>\n    </tr>\n  </thead>\n  <tbody>\n    <tr>\n      <th>3220</th>\n      <td>Kansas City</td>\n      <td>Missouri</td>\n      <td>00000</td>\n      <td>491918</td>\n      <td>POLYGON ((-94.44849 38.93168, -94.44869 38.928...</td>\n    </tr>\n  </tbody>\n</table>\n</div>"
     },
     "metadata": {},
     "output_type": "execute_result",
     "execution_count": 10
    }
   ],
   "source": [
    "counties_df[counties_df['NAME'] == 'Kansas City']"
   ]
  },
  {
   "cell_type": "markdown",
   "metadata": {
    "pycharm": {
     "name": "#%% md\n"
    }
   },
   "source": [
    "Add New York City by merging 5 counties"
   ]
  },
  {
   "cell_type": "code",
   "execution_count": 11,
   "metadata": {
    "pycharm": {
     "is_executing": false,
     "name": "#%%\n"
    }
   },
   "outputs": [],
   "source": [
    "new_york_city_df = counties_df[((counties_df['NAME'] == 'New York') \n",
    "            | (counties_df['NAME'] == 'Kings') \n",
    "            | (counties_df['NAME'] == 'Queens') \n",
    "            | (counties_df['NAME'] == 'Bronx')\n",
    "            | (counties_df['NAME'] == 'Richmond'))\n",
    "            & (counties_df['state_name'] == 'New York')]\n"
   ]
  },
  {
   "cell_type": "code",
   "execution_count": 12,
   "metadata": {
    "pycharm": {
     "is_executing": false,
     "name": "#%%\n"
    }
   },
   "outputs": [],
   "source": [
    "nyc_geometry = new_york_city_df.geometry.unary_union"
   ]
  },
  {
   "cell_type": "code",
   "execution_count": 13,
   "metadata": {
    "pycharm": {
     "is_executing": false,
     "name": "#%%\n"
    }
   },
   "outputs": [],
   "source": [
    "counties_df = counties_df.append(\n",
    "    {\n",
    "        'NAME':'New York City',\n",
    "        'state_name':'New York',\n",
    "        'GEOID':'00000',\n",
    "        'population':new_york_city_df['population'].sum(),\n",
    "        'geometry':nyc_geometry,\n",
    "    },ignore_index=True)"
   ]
  },
  {
   "cell_type": "code",
   "execution_count": 14,
   "metadata": {
    "pycharm": {
     "is_executing": false,
     "name": "#%%\n"
    }
   },
   "outputs": [
    {
     "data": {
      "text/plain": "               NAME state_name  GEOID  population  \\\n3221  New York City   New York  00000     8443713   \n\n                                               geometry  \n3221  POLYGON ((-74.24921 40.54506, -74.21684 40.558...  ",
      "text/html": "<div>\n<style scoped>\n    .dataframe tbody tr th:only-of-type {\n        vertical-align: middle;\n    }\n\n    .dataframe tbody tr th {\n        vertical-align: top;\n    }\n\n    .dataframe thead th {\n        text-align: right;\n    }\n</style>\n<table border=\"1\" class=\"dataframe\">\n  <thead>\n    <tr style=\"text-align: right;\">\n      <th></th>\n      <th>NAME</th>\n      <th>state_name</th>\n      <th>GEOID</th>\n      <th>population</th>\n      <th>geometry</th>\n    </tr>\n  </thead>\n  <tbody>\n    <tr>\n      <th>3221</th>\n      <td>New York City</td>\n      <td>New York</td>\n      <td>00000</td>\n      <td>8443713</td>\n      <td>POLYGON ((-74.24921 40.54506, -74.21684 40.558...</td>\n    </tr>\n  </tbody>\n</table>\n</div>"
     },
     "metadata": {},
     "output_type": "execute_result",
     "execution_count": 14
    }
   ],
   "source": [
    "counties_df[counties_df['NAME'] == 'New York City']"
   ]
  },
  {
   "cell_type": "code",
   "execution_count": 17,
   "outputs": [
    {
     "data": {
      "text/plain": "          NAME state_name  GEOID  population  \\\n39       Bronx   New York  36005     1437872   \n1139    Queens   New York  36081     2298513   \n1492  New York   New York  36061     1632480   \n1953     Kings   New York  36047     2600747   \n2031  Richmond   New York  36085      474101   \n\n                                               geometry  \n39    MULTIPOLYGON (((-73.94748 40.85777, -73.93808 ...  \n1139  MULTIPOLYGON (((-73.96248 40.73680, -73.92100 ...  \n1492  MULTIPOLYGON (((-74.02564 40.73322, -74.02349 ...  \n1953  MULTIPOLYGON (((-74.06772 40.67038, -74.04731 ...  \n2031  MULTIPOLYGON (((-74.24921 40.54506, -74.21684 ...  ",
      "text/html": "<div>\n<style scoped>\n    .dataframe tbody tr th:only-of-type {\n        vertical-align: middle;\n    }\n\n    .dataframe tbody tr th {\n        vertical-align: top;\n    }\n\n    .dataframe thead th {\n        text-align: right;\n    }\n</style>\n<table border=\"1\" class=\"dataframe\">\n  <thead>\n    <tr style=\"text-align: right;\">\n      <th></th>\n      <th>NAME</th>\n      <th>state_name</th>\n      <th>GEOID</th>\n      <th>population</th>\n      <th>geometry</th>\n    </tr>\n  </thead>\n  <tbody>\n    <tr>\n      <th>39</th>\n      <td>Bronx</td>\n      <td>New York</td>\n      <td>36005</td>\n      <td>1437872</td>\n      <td>MULTIPOLYGON (((-73.94748 40.85777, -73.93808 ...</td>\n    </tr>\n    <tr>\n      <th>1139</th>\n      <td>Queens</td>\n      <td>New York</td>\n      <td>36081</td>\n      <td>2298513</td>\n      <td>MULTIPOLYGON (((-73.96248 40.73680, -73.92100 ...</td>\n    </tr>\n    <tr>\n      <th>1492</th>\n      <td>New York</td>\n      <td>New York</td>\n      <td>36061</td>\n      <td>1632480</td>\n      <td>MULTIPOLYGON (((-74.02564 40.73322, -74.02349 ...</td>\n    </tr>\n    <tr>\n      <th>1953</th>\n      <td>Kings</td>\n      <td>New York</td>\n      <td>36047</td>\n      <td>2600747</td>\n      <td>MULTIPOLYGON (((-74.06772 40.67038, -74.04731 ...</td>\n    </tr>\n    <tr>\n      <th>2031</th>\n      <td>Richmond</td>\n      <td>New York</td>\n      <td>36085</td>\n      <td>474101</td>\n      <td>MULTIPOLYGON (((-74.24921 40.54506, -74.21684 ...</td>\n    </tr>\n  </tbody>\n</table>\n</div>"
     },
     "metadata": {},
     "output_type": "execute_result",
     "execution_count": 17
    }
   ],
   "source": [
    "counties_df[((counties_df['NAME'] == 'New York') \n",
    "            | (counties_df['NAME'] == 'Kings') \n",
    "            | (counties_df['NAME'] == 'Queens') \n",
    "            | (counties_df['NAME'] == 'Bronx')\n",
    "            | (counties_df['NAME'] == 'Richmond'))\n",
    "            & (counties_df['state_name'] == 'New York')]"
   ],
   "metadata": {
    "collapsed": false,
    "pycharm": {
     "name": "#%%\n",
     "is_executing": false
    }
   }
  },
  {
   "cell_type": "code",
   "execution_count": 21,
   "outputs": [],
   "source": [
    "counties_df = counties_df.drop(index = [39,1139,1492,1953,2031])"
   ],
   "metadata": {
    "collapsed": false,
    "pycharm": {
     "name": "#%%\n",
     "is_executing": false
    }
   }
  },
  {
   "cell_type": "code",
   "execution_count": 22,
   "outputs": [
    {
     "data": {
      "text/plain": "Empty GeoDataFrame\nColumns: [NAME, state_name, GEOID, population, geometry]\nIndex: []",
      "text/html": "<div>\n<style scoped>\n    .dataframe tbody tr th:only-of-type {\n        vertical-align: middle;\n    }\n\n    .dataframe tbody tr th {\n        vertical-align: top;\n    }\n\n    .dataframe thead th {\n        text-align: right;\n    }\n</style>\n<table border=\"1\" class=\"dataframe\">\n  <thead>\n    <tr style=\"text-align: right;\">\n      <th></th>\n      <th>NAME</th>\n      <th>state_name</th>\n      <th>GEOID</th>\n      <th>population</th>\n      <th>geometry</th>\n    </tr>\n  </thead>\n  <tbody>\n  </tbody>\n</table>\n</div>"
     },
     "metadata": {},
     "output_type": "execute_result",
     "execution_count": 22
    }
   ],
   "source": [
    "counties_df[((counties_df['NAME'] == 'New York') \n",
    "            | (counties_df['NAME'] == 'Kings') \n",
    "            | (counties_df['NAME'] == 'Queens') \n",
    "            | (counties_df['NAME'] == 'Bronx')\n",
    "            | (counties_df['NAME'] == 'Richmond'))\n",
    "            & (counties_df['state_name'] == 'New York')]"
   ],
   "metadata": {
    "collapsed": false,
    "pycharm": {
     "name": "#%%\n",
     "is_executing": false
    }
   }
  },
  {
   "cell_type": "code",
   "execution_count": 23,
   "metadata": {
    "pycharm": {
     "is_executing": false,
     "name": "#%%\n"
    }
   },
   "outputs": [
    {
     "name": "stdout",
     "text": [
      "done\n"
     ],
     "output_type": "stream"
    }
   ],
   "source": [
    "counties_df.to_file(\"counties_update_new.geojson\", driver='GeoJSON', encoding='utf-8')\n",
    "print(\"done\")\n"
   ]
  },
  {
   "cell_type": "code",
   "execution_count": 16,
   "metadata": {
    "pycharm": {
     "is_executing": false
    }
   },
   "outputs": [],
   "source": []
  }
 ],
 "metadata": {
  "kernelspec": {
   "display_name": "Python 3",
   "language": "python",
   "name": "python3"
  },
  "language_info": {
   "codemirror_mode": {
    "name": "ipython",
    "version": 3
   },
   "file_extension": ".py",
   "mimetype": "text/x-python",
   "name": "python",
   "nbconvert_exporter": "python",
   "pygments_lexer": "ipython3",
   "version": "3.8.2"
  },
  "pycharm": {
   "stem_cell": {
    "cell_type": "raw",
    "source": [],
    "metadata": {
     "collapsed": false
    }
   }
  }
 },
 "nbformat": 4,
 "nbformat_minor": 4
}