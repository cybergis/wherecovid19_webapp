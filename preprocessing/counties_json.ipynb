{
 "cells": [
  {
   "cell_type": "code",
   "execution_count": null,
   "metadata": {},
   "outputs": [],
   "source": [
    "import pandas as pd\n",
    "import numpy as np"
   ]
  },
  {
   "cell_type": "code",
   "execution_count": null,
   "metadata": {},
   "outputs": [],
   "source": [
    "df_counties_original = pd.read_csv(\"us-counties.csv\", dtype={\"date\": np.string_, \n",
    "                                                             \"county\": np.string_,\n",
    "                                                             \"state\": np.string_,\n",
    "                                                             \"fips\": np.string_,\n",
    "                                                            \"cases\": np.int32,\n",
    "                                                            \"deaths\": np.int32})\n",
    "df_counties_original = df_counties_original.replace({np.nan: None})\n",
    "df_counties_original.sort_values(\"fips\", ascending=True)"
   ]
  },
  {
   "cell_type": "code",
   "execution_count": null,
   "metadata": {},
   "outputs": [],
   "source": [
    "county_list = []\n",
    "for state in df_counties_original.state.unique():\n",
    "    for county in df_counties_original.loc[(df_counties_original['state'] == state)].county.unique():\n",
    "        county_list.append({\"name\": county, \"state\": state})\n",
    " \n",
    "print(len(county_list), county_list)\n"
   ]
  },
  {
   "cell_type": "code",
   "execution_count": null,
   "metadata": {},
   "outputs": [],
   "source": [
    "date_str_list = np.sort(df_counties_original.date.unique())\n",
    "dt_str_start=np.min(date_str_list)\n",
    "dt_str_end=np.max(date_str_list)\n"
   ]
  },
  {
   "cell_type": "code",
   "execution_count": null,
   "metadata": {},
   "outputs": [],
   "source": [
    "from datetime import datetime\n",
    "#dt_start = datetime(2020,1,21)\n",
    "#dt_end = datetime(2020,3,29)\n",
    "dt_start=datetime.strptime(dt_str_start, \"%Y-%m-%d\")\n",
    "dt_end = datetime.strptime(dt_str_end, \"%Y-%m-%d\")\n",
    "dt_range = pd.date_range(start=dt_start,end=dt_end)\n",
    "print(len(dt_range), dt_range)\n",
    "dt_range_str = list(map(lambda x: x.strftime(\"%Y-%m-%d\"), dt_range.tolist()))\n",
    "print(len(dt_range_str), dt_range_str)"
   ]
  },
  {
   "cell_type": "code",
   "execution_count": null,
   "metadata": {},
   "outputs": [],
   "source": []
  },
  {
   "cell_type": "code",
   "execution_count": null,
   "metadata": {},
   "outputs": [],
   "source": [
    "import multiprocessing as mp\n",
    "manager = mp.Manager()\n",
    "\n",
    "county_csv_new_mp = manager.list()\n",
    "missing_date = 0\n",
    "def generate_county_data(county_list):\n",
    "    \n",
    "    pid = mp.current_process()._identity[0]\n",
    "    print(pid)\n",
    "    counter=0\n",
    "    \n",
    "    for county in county_list:\n",
    "      \n",
    "        counter+=1\n",
    "        if counter % 10 == 1:\n",
    "            print(\"Process {} is working on {}/{}\".format(pid, counter, len(county_list)))\n",
    "        county_record = {}\n",
    "        county_record[\"county\"] = county['name']\n",
    "        county_record[\"state\"] = county['state']\n",
    "        fips = df_counties_original.loc[(df_counties_original['county'] == county['name']) & \\\n",
    "                                         (df_counties_original['state'] == county['state'])].iloc[0].fips\n",
    "        #county_record[\"fips\"]= int(fips) if not np.isnan(fips) else fips\n",
    "        county_record[\"fips\"]= fips\n",
    "                                         \n",
    "\n",
    "\n",
    "        # dt_start, dt_end, num_days\n",
    "        county_record[\"dt_start\"] = dt_start.strftime(\"%Y-%m-%d\")+\"-\"\n",
    "        county_record[\"dt_end\"] = dt_end.strftime(\"%Y-%m-%d\")+\"-\"\n",
    "        county_record[\"num_days\"] = len(dt_range)\n",
    "\n",
    "        #case, death\n",
    "        cases_ts = []\n",
    "        deaths_ts = []\n",
    "        first_case_dt = None\n",
    "        first_death_dt = None\n",
    "        for dt in dt_range:\n",
    "            dt_key = dt.strftime(\"%Y-%m-%d\")\n",
    "            r = df_counties_original.loc[(df_counties_original['county'] == county['name']) & \\\n",
    "                                         (df_counties_original['state'] == county['state']) & \\\n",
    "                                         (df_counties_original['date']==dt_key)]\n",
    "            if len(r)==0:\n",
    "                if first_case_dt is not None:\n",
    "                    print(\"{county} {state} missing data on {dt}\".format(county=county_record[\"county\"], \n",
    "                                                                         state=county_record[\"state\"],\n",
    "                                                                         dt=dt_key))\n",
    "                cases_ts.append(missing_date)\n",
    "                deaths_ts.append(missing_date)\n",
    "            elif len(r)==1:\n",
    "                if first_case_dt is None:\n",
    "                    first_case_dt=dt\n",
    "                cases_ts.append(int(r.iloc[0].cases))\n",
    "                deaths_ts.append(int(r.iloc[0].deaths))\n",
    "                if first_death_dt is None and int(deaths_ts[-1])>0:\n",
    "                    first_death_dt = dt\n",
    "            else:\n",
    "                print(\"{county} {state} duplicate data on {dt}\".format(county=county_record[\"county\"], \n",
    "                                                                         state=county_record[\"state\"],\n",
    "                                                                         dt=dt_key))\n",
    "        if first_case_dt is None:\n",
    "            print(\"{county} {state} first case date None\".format(county=county_record[\"county\"], \n",
    "                                                                         state=county_record[\"state\"]))\n",
    "        county_record[\"dt_first_case\"] = first_case_dt.strftime(\"%Y-%m-%d\")+\"-\" if first_case_dt is not None else None\n",
    "        county_record[\"dt_first_death\"] = first_death_dt.strftime(\"%Y-%m-%d\")+\"-\" if first_death_dt is not None else None\n",
    "\n",
    "        if len(cases_ts)!=county_record[\"num_days\"]:\n",
    "            print(\"{county} {state} missing case data\".format(county=county_record[\"county\"], \n",
    "                                                                         state=county_record[\"state\"]))\n",
    "        if len(deaths_ts)!=county_record[\"num_days\"]:\n",
    "            print(\"{county} {state} missing death data\".format(county=county_record[\"county\"], \n",
    "                                                                         state=county_record[\"state\"]))\n",
    "#         county_record[\"cases_ts\"] = \",\".join([str(i) for i in cases_ts])\n",
    "#         county_record[\"deaths_ts\"] = \",\".join([str(i) for i in deaths_ts])\n",
    "        county_record[\"cases_ts\"] = {\"values\": cases_ts}\n",
    "        county_record[\"deaths_ts\"] = {\"values\": deaths_ts}\n",
    "\n",
    "\n",
    "\n",
    "        county_csv_new_mp.append(county_record)\n",
    "N=8\n",
    "grouped_country_list=np.array_split(county_list, N)\n",
    "pool = mp.Pool(processes=N) # Instantiate the pool here\n",
    "\n",
    "pool.map(generate_county_data, grouped_country_list)\n",
    "pool.close()\n",
    "pool.join()\n",
    "\n",
    "print(len(county_csv_new_mp))"
   ]
  },
  {
   "cell_type": "code",
   "execution_count": null,
   "metadata": {},
   "outputs": [],
   "source": [
    "county_csv_new = list(county_csv_new_mp)\n",
    "county_csv_new"
   ]
  },
  {
   "cell_type": "code",
   "execution_count": null,
   "metadata": {},
   "outputs": [],
   "source": [
    "data_df = pd.DataFrame(county_csv_new)\n",
    "data_df.head(5)\n",
    "indices = data_df[\"county\"]+\", \"+data_df[\"state\"]\n",
    "#indices=indices.apply(lambda x: x.replace(' ', '_'))\n",
    "indices"
   ]
  },
  {
   "cell_type": "code",
   "execution_count": null,
   "metadata": {},
   "outputs": [],
   "source": [
    "data_df=data_df.set_index(indices)\n",
    "#data_df.to_json(\"./nyt_counties_data.json\", orient='index')\n",
    "data_df"
   ]
  },
  {
   "cell_type": "code",
   "execution_count": null,
   "metadata": {},
   "outputs": [],
   "source": [
    "data_dict =data_df.to_dict(orient='index')"
   ]
  },
  {
   "cell_type": "code",
   "execution_count": null,
   "metadata": {
    "scrolled": false
   },
   "outputs": [],
   "source": [
    "df = df_counties_original.groupby(['county', 'state'], sort=False)[['cases', 'deaths']].max().sort_values(\"cases\", ascending=False)\n",
    "county_state_list = list(map(lambda x: x[0]+\", \"+x[1], df.index.tolist()))\n",
    "meta = {\"dates\": dt_range_str,\"states\": county_state_list, \"cases\": df[\"cases\"].values.tolist(), \"deaths\": df[\"deaths\"].values.tolist()}\n",
    "data_dict[\"metadata\"] = meta\n"
   ]
  },
  {
   "cell_type": "code",
   "execution_count": null,
   "metadata": {},
   "outputs": [],
   "source": [
    "#data_df.to_json(\"./nyt_counties_data.json\", orient='index')\n",
    "import json\n",
    "with open('./nyt_counties_data.json', 'w') as outfile:\n",
    "    json.dump(data_dict, outfile)"
   ]
  },
  {
   "cell_type": "code",
   "execution_count": null,
   "metadata": {},
   "outputs": [],
   "source": [
    "import geopandas as gpd"
   ]
  },
  {
   "cell_type": "code",
   "execution_count": null,
   "metadata": {},
   "outputs": [],
   "source": [
    "old_counties_geojson_df = gpd.read_file(\"counties_update_new.geojson\")\n",
    "old_counties_geojson_df.head(5)"
   ]
  },
  {
   "cell_type": "code",
   "execution_count": null,
   "metadata": {},
   "outputs": [],
   "source": [
    "state_name_list2 = old_counties_geojson_df.NAME.unique()"
   ]
  },
  {
   "cell_type": "code",
   "execution_count": null,
   "metadata": {},
   "outputs": [],
   "source": [
    "county_list_2 = []\n",
    "for state in old_counties_geojson_df.state_name.unique():\n",
    "    for county in old_counties_geojson_df.loc[(old_counties_geojson_df['state_name'] == state)].NAME.unique():\n",
    "            county_list_2.append({\"name\": county, \"state\": state})\n",
    "\n",
    "print(len(county_list_2), county_list_2)"
   ]
  },
  {
   "cell_type": "code",
   "execution_count": null,
   "metadata": {},
   "outputs": [],
   "source": []
  },
  {
   "cell_type": "code",
   "execution_count": null,
   "metadata": {},
   "outputs": [],
   "source": [
    "missing_county_counter=0\n",
    "for n in county_list:\n",
    "    if n not in county_list_2:\n",
    "        missing_county_counter+=1\n",
    "        print(n)\n",
    "print(missing_county_counter)"
   ]
  },
  {
   "cell_type": "code",
   "execution_count": null,
   "metadata": {},
   "outputs": [],
   "source": [
    "final_df = pd.merge(old_counties_geojson_df[[\"NAME\", \"state_name\", \"population\", \"geometry\"]], data_df,  how='left', left_on=['NAME','state_name'], right_on = ['county','state'])\n",
    "final_df\n"
   ]
  },
  {
   "cell_type": "code",
   "execution_count": null,
   "metadata": {},
   "outputs": [],
   "source": [
    "final_df=final_df[[\"NAME\", \"state_name\", \"population\", \"fips\", \"dt_start\", \"dt_end\", \"dt_first_case\", \"dt_first_death\", \"cases_ts\", \"deaths_ts\", \"geometry\"]]\n",
    "final_df"
   ]
  },
  {
   "cell_type": "code",
   "execution_count": null,
   "metadata": {},
   "outputs": [],
   "source": []
  },
  {
   "cell_type": "code",
   "execution_count": null,
   "metadata": {},
   "outputs": [],
   "source": [
    "len(final_df)"
   ]
  },
  {
   "cell_type": "code",
   "execution_count": null,
   "metadata": {},
   "outputs": [],
   "source": []
  },
  {
   "cell_type": "code",
   "execution_count": null,
   "metadata": {},
   "outputs": [],
   "source": [
    "final_df.to_file(\"nyt_counties_data.geojson\", driver='GeoJSON')\n",
    "print(\"done\")"
   ]
  },
  {
   "cell_type": "code",
   "execution_count": null,
   "metadata": {},
   "outputs": [],
   "source": []
  }
 ],
 "metadata": {
  "kernelspec": {
   "display_name": "Python 3",
   "language": "python",
   "name": "python3"
  },
  "language_info": {
   "codemirror_mode": {
    "name": "ipython",
    "version": 3
   },
   "file_extension": ".py",
   "mimetype": "text/x-python",
   "name": "python",
   "nbconvert_exporter": "python",
   "pygments_lexer": "ipython3",
   "version": "3.7.6"
  }
 },
 "nbformat": 4,
 "nbformat_minor": 4
}
