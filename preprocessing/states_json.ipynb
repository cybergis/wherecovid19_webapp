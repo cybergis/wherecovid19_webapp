{
 "cells": [
  {
   "cell_type": "code",
   "execution_count": null,
   "metadata": {},
   "outputs": [],
   "source": [
    "import pandas as pd\n",
    "import numpy as np"
   ]
  },
  {
   "cell_type": "code",
   "execution_count": null,
   "metadata": {},
   "outputs": [],
   "source": [
    "df_states_original = pd.read_csv(\"us-states.csv\", dtype={\"date\": np.string_,\n",
    "                                                             \"state\": np.string_,\n",
    "                                                             \"fips\": np.string_,\n",
    "                                                            \"cases\": np.int32,\n",
    "                                                            \"deaths\": np.int32})\n",
    "df_states_original = df_states_original.replace({np.nan: None})\n",
    "df_states_original.sort_values(\"fips\", ascending=True)"
   ]
  },
  {
   "cell_type": "code",
   "execution_count": null,
   "metadata": {},
   "outputs": [],
   "source": [
    "#df_states_original.set_index(\"state\")\n",
    "df_states_original.groupby(['state'], sort=False)['cases'].max().sort_values(ascending=False)\n"
   ]
  },
  {
   "cell_type": "code",
   "execution_count": null,
   "metadata": {},
   "outputs": [],
   "source": [
    "date_str_list = np.sort(df_states_original.date.unique())\n",
    "dt_str_start=np.min(date_str_list)\n",
    "dt_str_end=np.max(date_str_list)"
   ]
  },
  {
   "cell_type": "code",
   "execution_count": null,
   "metadata": {},
   "outputs": [],
   "source": [
    "state_name_list = df_states_original.state.unique()\n",
    "print(len(state_name_list), state_name_list)\n"
   ]
  },
  {
   "cell_type": "code",
   "execution_count": null,
   "metadata": {},
   "outputs": [],
   "source": [
    "from datetime import datetime\n",
    "dt_start=datetime.strptime(dt_str_start, \"%Y-%m-%d\")\n",
    "dt_end = datetime.strptime(dt_str_end, \"%Y-%m-%d\")\n",
    "#dt_start = datetime(2020,1,21)\n",
    "#dt_end = datetime(2020,3,28)\n",
    "dt_range = pd.date_range(start=dt_start,end=dt_end)\n",
    "\n",
    "dt_range_str = list(map(lambda x: x.strftime(\"%Y-%m-%d\"), dt_range.tolist()))\n",
    "print(len(dt_range), dt_range)"
   ]
  },
  {
   "cell_type": "code",
   "execution_count": null,
   "metadata": {},
   "outputs": [],
   "source": [
    "import json\n",
    "missing_data = 0 #np.NAN\n",
    "state_csv_new = []\n",
    "for state in state_name_list:\n",
    "    state_record = {}\n",
    "    state_record[\"state\"] = state\n",
    "    \n",
    "    #fips\n",
    "    state_record[\"fips\"] = df_states_original.loc[(df_states_original['state'] == state)].iloc[0].fips\n",
    "    \n",
    "    # dt_start, dt_end, num_days\n",
    "    state_record[\"dt_start\"] = dt_start.strftime(\"%Y-%m-%d\")+\"-\"\n",
    "    state_record[\"dt_end\"] = dt_end.strftime(\"%Y-%m-%d\")+\"-\"\n",
    "    state_record[\"num_days\"] = int(len(dt_range))\n",
    "    \n",
    "    #case, death\n",
    "    cases_ts = []\n",
    "    deaths_ts = []\n",
    "    \n",
    "    first_case_dt = None\n",
    "    first_death_dt = None\n",
    "    for dt in dt_range:\n",
    "        dt_key = dt.strftime(\"%Y-%m-%d\")\n",
    "        r = df_states_original.loc[(df_states_original['state'] == state) & (df_states_original['date']==dt_key)]\n",
    "        if len(r)==0:\n",
    "            if dt!=first_case_dt and first_case_dt is not None:\n",
    "                print(\"{state} missing data on {dt}\".format(state=state, dt=dt_key))\n",
    "            cases_ts.append(missing_data)\n",
    "            deaths_ts.append(missing_data)\n",
    "            \n",
    "        elif len(r)==1:\n",
    "            if first_case_dt is None:\n",
    "                first_case_dt=dt\n",
    "            cases_ts.append(int(r.iloc[0].cases))\n",
    "            deaths_ts.append(int(r.iloc[0].deaths))\n",
    "            \n",
    "            if first_death_dt is None and deaths_ts[-1]>0:\n",
    "                first_death_dt=dt\n",
    "        else:\n",
    "            print(\"{state} {dt} duplicate\".format(state=state, dt=dt_key))\n",
    "    state_record[\"dt_first_case\"] = first_case_dt.strftime(\"%Y-%m-%d\")+\"-\" if first_case_dt is not None else None\n",
    "    state_record[\"dt_first_death\"] = first_death_dt.strftime(\"%Y-%m-%d\")+\"-\" if first_death_dt is not None else None\n",
    "    \n",
    "    if len(cases_ts)!=state_record[\"num_days\"]:\n",
    "        print(\"{state} missing case data\".format(state=state))\n",
    "    if len(deaths_ts)!=state_record[\"num_days\"]:\n",
    "        print(\"{state} missing death data\".format(state=state))\n",
    "#     state_record[\"cases_ts\"] = \",\".join([str(i) for i in cases_ts])\n",
    "#     state_record[\"deaths_ts\"] = \",\".join([str(i) for i in deaths_ts])\n",
    "#    print(cases_ts)\n",
    "#     state_record[\"cases_ts\"] = json.dumps({\"values\": cases_ts})\n",
    "#     state_record[\"deaths_ts\"] = json.dumps({\"values\": deaths_ts})\n",
    "    state_record[\"cases_ts\"] = {\"values\": cases_ts}\n",
    "    state_record[\"deaths_ts\"] ={\"values\": deaths_ts}\n",
    "    \n",
    "    \n",
    "    \n",
    "    \n",
    "    state_csv_new.append(state_record)\n",
    "\n",
    "state_csv_new\n",
    "  "
   ]
  },
  {
   "cell_type": "code",
   "execution_count": null,
   "metadata": {},
   "outputs": [],
   "source": []
  },
  {
   "cell_type": "code",
   "execution_count": null,
   "metadata": {},
   "outputs": [],
   "source": [
    "data_df = pd.DataFrame(state_csv_new).set_index(\"state\")\n",
    "data_df.head(5)"
   ]
  },
  {
   "cell_type": "code",
   "execution_count": null,
   "metadata": {},
   "outputs": [],
   "source": [
    " data_df.to_dict(orient='index')"
   ]
  },
  {
   "cell_type": "code",
   "execution_count": null,
   "metadata": {},
   "outputs": [],
   "source": [
    " data_dict =data_df.to_dict(orient='index')"
   ]
  },
  {
   "cell_type": "code",
   "execution_count": null,
   "metadata": {},
   "outputs": [],
   "source": [
    "\n",
    "df = df_states_original.groupby(['state'], sort=False)[['cases', 'deaths']].max().sort_values(\"cases\", ascending=False)\n",
    "\n",
    "meta = {\"dates\": dt_range_str,\"states\": df.index.to_list(), \"cases\": df[\"cases\"].values.tolist(), \"deaths\": df[\"deaths\"].values.tolist()}\n",
    "data_dict[\"metadata\"] = meta"
   ]
  },
  {
   "cell_type": "code",
   "execution_count": null,
   "metadata": {},
   "outputs": [],
   "source": [
    "#data_df.to_json(\"./nyt_states_data.json\", orient='index')\n",
    "with open('./nyt_states_data.json', 'w') as outfile:\n",
    "    json.dump(data_dict, outfile)"
   ]
  },
  {
   "cell_type": "code",
   "execution_count": null,
   "metadata": {},
   "outputs": [],
   "source": [
    "import geopandas as gpd"
   ]
  },
  {
   "cell_type": "code",
   "execution_count": null,
   "metadata": {},
   "outputs": [],
   "source": [
    "old_states_geojson_df = gpd.read_file(\"states_update.geojson\")\n",
    "old_states_geojson_df.head(5)"
   ]
  },
  {
   "cell_type": "code",
   "execution_count": null,
   "metadata": {},
   "outputs": [],
   "source": [
    "state_name_list2 = old_states_geojson_df.NAME.unique()"
   ]
  },
  {
   "cell_type": "code",
   "execution_count": null,
   "metadata": {},
   "outputs": [],
   "source": [
    "len(state_name_list2)"
   ]
  },
  {
   "cell_type": "code",
   "execution_count": null,
   "metadata": {},
   "outputs": [],
   "source": [
    "for n in state_name_list2:\n",
    "    if n not in state_name_list:\n",
    "        print(n)"
   ]
  },
  {
   "cell_type": "code",
   "execution_count": null,
   "metadata": {},
   "outputs": [],
   "source": [
    "subset_old_df = old_states_geojson_df[[\"NAME\", \"STUSPS\", \"STATEFP\", \"population\", \"geometry\"]].set_index(\"NAME\")\n",
    "subset_old_df.head(5)"
   ]
  },
  {
   "cell_type": "code",
   "execution_count": null,
   "metadata": {},
   "outputs": [],
   "source": [
    "len(subset_old_df)"
   ]
  },
  {
   "cell_type": "code",
   "execution_count": null,
   "metadata": {},
   "outputs": [],
   "source": [
    "final_df = subset_old_df.join(data_df, on='NAME')"
   ]
  },
  {
   "cell_type": "code",
   "execution_count": null,
   "metadata": {},
   "outputs": [],
   "source": [
    "final_df"
   ]
  },
  {
   "cell_type": "code",
   "execution_count": null,
   "metadata": {},
   "outputs": [],
   "source": [
    "final_df.to_file(\"nyt_states_data.geojson\", driver='GeoJSON')"
   ]
  },
  {
   "cell_type": "code",
   "execution_count": null,
   "metadata": {},
   "outputs": [],
   "source": []
  }
 ],
 "metadata": {
  "kernelspec": {
   "display_name": "Python 3",
   "language": "python",
   "name": "python3"
  },
  "language_info": {
   "codemirror_mode": {
    "name": "ipython",
    "version": 3
   },
   "file_extension": ".py",
   "mimetype": "text/x-python",
   "name": "python",
   "nbconvert_exporter": "python",
   "pygments_lexer": "ipython3",
   "version": "3.7.6"
  }
 },
 "nbformat": 4,
 "nbformat_minor": 4
}
