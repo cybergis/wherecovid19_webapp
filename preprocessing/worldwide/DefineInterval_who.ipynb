{
 "cells": [
  {
   "cell_type": "markdown",
   "metadata": {},
   "source": [
    "# Generate Color Bins For Each Layer"
   ]
  },
  {
   "cell_type": "markdown",
   "metadata": {},
   "source": [
    "### 0. Import libraries and create empty dictionaries"
   ]
  },
  {
   "cell_type": "code",
   "execution_count": 17,
   "metadata": {
    "pycharm": {
     "is_executing": false
    }
   },
   "outputs": [],
   "source": [
    "import geopandas as gpd\n",
    "import numpy as np\n",
    "import mapclassify as mc\n",
    "import matplotlib.pyplot as plt"
   ]
  },
  {
   "cell_type": "code",
   "execution_count": 18,
   "metadata": {
    "pycharm": {
     "is_executing": false,
     "name": "#%%\n"
    }
   },
   "outputs": [],
   "source": [
    "total_dict = {}\n",
    "county_dict = {}\n",
    "state_dict = {}\n",
    "dph_illinois_dict = {}\n",
    "who_world_dict = {}\n",
    "vul_dict = {}"
   ]
  },
  {
   "cell_type": "code",
   "execution_count": 19,
   "metadata": {
    "pycharm": {
     "is_executing": false,
     "name": "#%%\n"
    }
   },
   "outputs": [],
   "source": [
    "dynamic_dict = {}\n",
    "dynamic_county_dict = {}\n",
    "dynamic_state_dict = {}\n",
    "dynamic_illinois_dict = {}"
   ]
  },
  {
   "cell_type": "code",
   "execution_count": 20,
   "metadata": {},
   "outputs": [],
   "source": [
    "def create_dict(column):\n",
    "    tmp_dict = {}\n",
    "    tmp_dict['Quantiles'] = {\n",
    "        'bins': ','.join(mc.Quantiles(column, k=6).bins.astype(str)),\n",
    "        'k': 6\n",
    "    }\n",
    "    tmp_dict['FisherJenks'] = {\n",
    "        'bins': ','.join(mc.FisherJenks(column, k=6).bins.astype(str)),\n",
    "        'k': 6\n",
    "    }\n",
    "    tmp_dict['NaturalBreaks'] = {\n",
    "        'bins': ','.join(mc.NaturalBreaks(column, k=6).bins.astype(str)),\n",
    "        'k': 6\n",
    "    }\n",
    "    return tmp_dict"
   ]
  },
  {
   "cell_type": "markdown",
   "metadata": {},
   "source": [
    "### 5. For WHO World Data"
   ]
  },
  {
   "cell_type": "markdown",
   "metadata": {},
   "source": [
    "#### 5.0 Load Data"
   ]
  },
  {
   "cell_type": "code",
   "execution_count": 21,
   "metadata": {},
   "outputs": [],
   "source": [
    "who_world_gdf = gpd.read_file('who_world_data.geojson')"
   ]
  },
  {
   "cell_type": "markdown",
   "metadata": {
    "pycharm": {
     "name": "#%% md\n"
    }
   },
   "source": [
    "#### 5.1 Get Constant Classes from today's data"
   ]
  },
  {
   "cell_type": "code",
   "execution_count": 22,
   "metadata": {},
   "outputs": [],
   "source": [
    "who_world_case = who_world_gdf['today_case']\n",
    "who_world_death = who_world_gdf['today_death']\n",
    "who_world_case_per_100k_capita = who_world_gdf['today_case']/(who_world_gdf['population']/100000)\n",
    "who_world_death_per_100k_capita = who_world_gdf['today_death']/(who_world_gdf['population']/100000)"
   ]
  },
  {
   "cell_type": "code",
   "execution_count": 23,
   "metadata": {},
   "outputs": [],
   "source": [
    "who_world_log_case = who_world_case.apply(lambda x: np.log(x + 1))\n",
    "who_world_log_death = who_world_death.apply(lambda x: np.log(x + 1))\n",
    "who_world_log_case_per_100k_capita = who_world_case_per_100k_capita.apply(lambda x: np.log(x + 1))\n",
    "who_world_log_death_per_100k_capita = who_world_death_per_100k_capita.apply(lambda x: np.log(x + 1))"
   ]
  },
  {
   "cell_type": "code",
   "execution_count": 24,
   "metadata": {},
   "outputs": [],
   "source": [
    "who_world_dict['case'] = {}\n",
    "who_world_dict['death'] = {}\n",
    "who_world_dict['case_per_100k_capita'] = {}\n",
    "who_world_dict['death_per_100k_capita'] = {}"
   ]
  },
  {
   "cell_type": "code",
   "execution_count": 25,
   "metadata": {},
   "outputs": [],
   "source": [
    "who_world_dict['case']['nolog'] = create_dict(who_world_case)\n",
    "who_world_dict['case']['log'] = create_dict(who_world_log_case)\n",
    "who_world_dict['death']['nolog'] = create_dict(who_world_death)\n",
    "who_world_dict['death']['log'] = create_dict(who_world_log_death)\n",
    "who_world_dict['case_per_100k_capita']['nolog'] = create_dict(who_world_case_per_100k_capita)\n",
    "who_world_dict['case_per_100k_capita']['log'] = create_dict(who_world_log_case_per_100k_capita)\n",
    "who_world_dict['death_per_100k_capita']['nolog'] = create_dict(who_world_death_per_100k_capita)\n",
    "who_world_dict['death_per_100k_capita']['log'] = create_dict(who_world_log_death_per_100k_capita)"
   ]
  },
  {
   "cell_type": "code",
   "execution_count": 26,
   "metadata": {},
   "outputs": [
    {
     "data": {
      "text/plain": [
       "{'case': {'nolog': {'Quantiles': {'bins': '2262.500000000002,14751.666666666668,56381.5,286175.6666666669,888089.6666666679,46146676.0',\n",
       "    'k': 6},\n",
       "   'FisherJenks': {'bins': '1097557.0,3825404.0,9301913.0,21874324.0,34366987.0,46146676.0',\n",
       "    'k': 6},\n",
       "   'NaturalBreaks': {'bins': '1029986.0,3825404.0,9301913.0,21874324.0,34366987.0,46146676.0',\n",
       "    'k': 6}},\n",
       "  'log': {'Quantiles': {'bins': '7.716308375089918,9.59914148779266,10.939665727036996,12.563374581359401,13.696769048186868,17.647335511987006',\n",
       "    'k': 6},\n",
       "   'FisherJenks': {'bins': '0.6931471805599453,4.3694478524670215,8.893984438939794,11.40402535901387,13.845056738766946,17.647335511987006',\n",
       "    'k': 6},\n",
       "   'NaturalBreaks': {'bins': '0.6931471805599453,4.3694478524670215,8.893984438939794,11.40402535901387,13.845056738766946,17.647335511987006',\n",
       "    'k': 6}}},\n",
       " 'death': {'nolog': {'Quantiles': {'bins': '4.833333333333336,175.0,952.5,4328.3333333333385,17475.50000000004,747957.0',\n",
       "    'k': 6},\n",
       "   'FisherJenks': {'bins': '11789.0,50755.0,143557.0,289674.0,461057.0,747957.0',\n",
       "    'k': 6},\n",
       "   'NaturalBreaks': {'bins': '13269.0,50755.0,143557.0,289674.0,461057.0,747957.0',\n",
       "    'k': 6}},\n",
       "  'log': {'Quantiles': {'bins': '1.7613725430957297,5.170483995038151,6.860066687957675,8.371514571724607,9.768442841897237,13.52510210564754',\n",
       "    'k': 6},\n",
       "   'FisherJenks': {'bins': '2.0794415416798357,4.997212273764115,6.872128101338986,8.721928343047091,10.701692702991545,13.52510210564754',\n",
       "    'k': 6},\n",
       "   'NaturalBreaks': {'bins': '2.0794415416798357,4.997212273764115,6.872128101338986,8.721928343047091,10.701692702991545,13.52510210564754',\n",
       "    'k': 6}}},\n",
       " 'case_per_100k_capita': {'nolog': {'Quantiles': {'bins': '92.58101782737003,682.0568317552542,3630.3719709444445,6957.108945608477,10535.953264305337,23882.03884353446',\n",
       "    'k': 6},\n",
       "   'FisherJenks': {'bins': '1801.457274775616,5563.302875186414,9074.259074259075,13363.854582058926,18257.61846829471,23882.03884353446',\n",
       "    'k': 6},\n",
       "   'NaturalBreaks': {'bins': '1801.457274775616,5563.302875186414,9074.259074259075,13363.854582058926,18257.61846829471,23882.03884353446',\n",
       "    'k': 6}},\n",
       "  'log': {'Quantiles': {'bins': '4.537783842068603,6.526219050623915,8.197356317294828,8.847663004455024,9.262626321682582,10.080923814164713',\n",
       "    'k': 6},\n",
       "   'FisherJenks': {'bins': '1.3827539586829556,3.8321409943889453,5.895077034353405,7.4969061655636775,8.798940821863594,10.080923814164713',\n",
       "    'k': 6},\n",
       "   'NaturalBreaks': {'bins': '1.3827539586829556,3.8321409943889453,6.063008112172965,7.4969061655636775,8.884987538068824,10.080923814164713',\n",
       "    'k': 6}}},\n",
       " 'death_per_100k_capita': {'nolog': {'Quantiles': {'bins': '1.0642808735759017,9.880756936688083,41.369943970918854,98.51748396101269,172.2494231126849,616.4448093048719',\n",
       "    'k': 6},\n",
       "   'FisherJenks': {'bins': '48.05706776797447,121.8914660897489,191.6156952863227,271.7070289427052,359.4446541388101,616.4448093048719',\n",
       "    'k': 6},\n",
       "   'NaturalBreaks': {'bins': '44.563279857397504,116.77336747759284,191.6156952863227,271.7070289427052,359.4446541388101,616.4448093048719',\n",
       "    'k': 6}},\n",
       "  'log': {'Quantiles': {'bins': '0.7244549923134007,2.3865693660568743,3.746418113284615,4.600199850454007,5.154732103431797,6.4255896868637805',\n",
       "    'k': 6},\n",
       "   'FisherJenks': {'bins': '0.9355670508102366,2.273551894813577,3.2973072358441535,4.240236159732797,5.005569263725521,6.4255896868637805',\n",
       "    'k': 6},\n",
       "   'NaturalBreaks': {'bins': '0.9355670508102366,2.273551894813577,3.2973072358441535,4.240236159732797,4.993090403649532,6.4255896868637805',\n",
       "    'k': 6}}}}"
      ]
     },
     "execution_count": 26,
     "metadata": {},
     "output_type": "execute_result"
    }
   ],
   "source": [
    "who_world_dict"
   ]
  },
  {
   "cell_type": "markdown",
   "metadata": {
    "pycharm": {
     "name": "#%% md\n"
    }
   },
   "source": [
    "### 7. Summary and ouput"
   ]
  },
  {
   "cell_type": "code",
   "execution_count": 27,
   "metadata": {
    "pycharm": {
     "is_executing": false,
     "name": "#%%\n"
    }
   },
   "outputs": [
    {
     "name": "stdout",
     "output_type": "stream",
     "text": [
      "done\n"
     ]
    }
   ],
   "source": [
    "import json\n",
    "total_dict['who_world'] = who_world_dict\n",
    "with open('classes_who.json','w') as json_file:\n",
    "    json.dump(total_dict, json_file)\n",
    "print('done')"
   ]
  }
 ],
 "metadata": {
  "kernelspec": {
   "display_name": "Python 3",
   "language": "python",
   "name": "python3"
  },
  "language_info": {
   "codemirror_mode": {
    "name": "ipython",
    "version": 3
   },
   "file_extension": ".py",
   "mimetype": "text/x-python",
   "name": "python",
   "nbconvert_exporter": "python",
   "pygments_lexer": "ipython3",
   "version": "3.7.8"
  },
  "pycharm": {
   "stem_cell": {
    "cell_type": "raw",
    "metadata": {
     "collapsed": false
    },
    "source": []
   }
  }
 },
 "nbformat": 4,
 "nbformat_minor": 1
}
